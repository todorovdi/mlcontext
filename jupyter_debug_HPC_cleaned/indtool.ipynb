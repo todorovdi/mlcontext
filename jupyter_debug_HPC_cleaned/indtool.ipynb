{
 "cells": [
  {
   "cell_type": "markdown",
   "id": "41332cca",
   "metadata": {},
   "source": [
    "# indtool"
   ]
  },
  {
   "cell_type": "code",
   "execution_count": null,
   "id": "7eb8c1ba-8525-4d35-9d15-216b1d22b4c5",
   "metadata": {},
   "outputs": [],
   "source": [
    "#!source ../.pyenvs/merr/bin/activate"
   ]
  },
  {
   "cell_type": "code",
   "execution_count": null,
   "id": "738a2578-39e1-4522-9cae-0204278ee727",
   "metadata": {},
   "outputs": [],
   "source": [
    "#!ipython kernel install --name \"merr_interactive\" --user"
   ]
  },
  {
   "cell_type": "code",
   "execution_count": null,
   "id": "2f937208-d09f-454a-9100-c5bedc1a1e9f",
   "metadata": {
    "jupyter": {
     "outputs_hidden": true
    },
    "tags": []
   },
   "outputs": [],
   "source": [
    "!source $HOME/.bashrc"
   ]
  },
  {
   "cell_type": "code",
   "execution_count": null,
   "id": "f06001fb-d559-488d-86ed-5fed501a82a1",
   "metadata": {},
   "outputs": [],
   "source": [
    "pwd"
   ]
  },
  {
   "cell_type": "code",
   "execution_count": null,
   "id": "de86e4f1-4372-45b3-b125-d943d389dbf8",
   "metadata": {},
   "outputs": [],
   "source": [
    "import os\n",
    "os.environ['OSCBAGDIS_DATAPROC_CODE']=os.path.expandvars( \"$PROJECT/OSCBAGDIS/data_proc_code\" )\n",
    "os.environ['CODE_MEMORY_ERRORS'] = os.path.expandvars(\"$PROJECT/lyon/memerr/code\" )\n",
    "\n",
    "from os.path import join as pjoin\n",
    "p = os.path.expandvars('$PROJECT/helper_scripts')\n",
    "sys.path.append(p)\n",
    "\n",
    "%load_ext autoreload\n",
    "%autoreload 2\n",
    "from _utils_indtool  import checkStateFromJobid"
   ]
  },
  {
   "cell_type": "code",
   "execution_count": null,
   "id": "8299edac-7865-4c23-b627-46e170eec227",
   "metadata": {},
   "outputs": [],
   "source": [
    "lpjid = {}\n",
    "checkStateFromJobid('293216_0', 'ML', lines_per_job=lpjid, verbose=2)"
   ]
  },
  {
   "cell_type": "code",
   "execution_count": null,
   "id": "3b5cc755-c0aa-49fa-9fe9-55785891b3cb",
   "metadata": {},
   "outputs": [],
   "source": [
    "%load_ext autoreload\n",
    "%autoreload 2\n",
    "from _utils_indtool  import checkStateFromJobid\n",
    "#%debug\n",
    "lpjid = {}\n",
    "checkStateFromJobid('293435_142', 'ML', aux=True, \n",
    "                    lines_per_job=lines_per_job, verbose=2)"
   ]
  },
  {
   "cell_type": "markdown",
   "id": "bda78e52-782a-4f57-a1a1-5e4753d04c0e",
   "metadata": {},
   "source": [
    "# Run"
   ]
  },
  {
   "cell_type": "code",
   "execution_count": null,
   "id": "58346b59",
   "metadata": {
    "tags": []
   },
   "outputs": [],
   "source": [
    "itfn = pjoin(p, 'indtool.py')\n",
    "ipy = get_ipython()\n",
    "#%debug\n",
    "ipy.run_line_magic('run',f'-i {itfn} --verbose 0')\n",
    "#python $PROJECT/indtool.py"
   ]
  },
  {
   "cell_type": "code",
   "execution_count": null,
   "id": "50a9cb2b",
   "metadata": {},
   "outputs": [],
   "source": [
    "arrinds_per_state"
   ]
  },
  {
   "cell_type": "code",
   "execution_count": null,
   "id": "a94137a1-8c6f-48f8-88d4-61dd7f0988fd",
   "metadata": {},
   "outputs": [],
   "source": [
    "len(list(z))"
   ]
  },
  {
   "cell_type": "code",
   "execution_count": null,
   "id": "160ad158-0d49-4bd1-a212-b7c67aa223c2",
   "metadata": {},
   "outputs": [],
   "source": [
    "sum( field_vals['State'] == 'FAILED' )"
   ]
  },
  {
   "cell_type": "code",
   "execution_count": null,
   "id": "d5313a44-13f8-4831-a486-209d64513603",
   "metadata": {
    "tags": []
   },
   "outputs": [],
   "source": [
    "state2EntryInds('RUNNING',verbose=1)"
   ]
  },
  {
   "cell_type": "code",
   "execution_count": null,
   "id": "4748ad0e-41e4-4ebc-9c86-4e25843a3ed7",
   "metadata": {
    "jupyter": {
     "outputs_hidden": true
    },
    "tags": []
   },
   "outputs": [],
   "source": [
    "gjps('FAILED',1)"
   ]
  },
  {
   "cell_type": "code",
   "execution_count": null,
   "id": "7e258954-79c8-48f1-b6df-3719aaa9f7b6",
   "metadata": {},
   "outputs": [],
   "source": [
    "gjps('FAILED_REALLY')[1] "
   ]
  },
  {
   "cell_type": "code",
   "execution_count": null,
   "id": "99a4b820-f406-46ab-9026-ab9f194341d5",
   "metadata": {},
   "outputs": [],
   "source": [
    "arrinds_per_state['FAILED_REALLY']"
   ]
  },
  {
   "cell_type": "code",
   "execution_count": null,
   "id": "9c7863dc-69cc-424c-b0dc-635b12b5612b",
   "metadata": {},
   "outputs": [],
   "source": [
    "arrinds_per_state['FAILED']"
   ]
  },
  {
   "cell_type": "code",
   "execution_count": null,
   "id": "ef658e1f-c27d-4fa0-9cb8-594512649ad8",
   "metadata": {
    "jupyter": {
     "outputs_hidden": true
    },
    "tags": []
   },
   "outputs": [],
   "source": [
    "jobids_per_state['FAILED']"
   ]
  },
  {
   "cell_type": "code",
   "execution_count": null,
   "id": "a4a4b6a5-d992-48c1-8634-0463f8bc4d7b",
   "metadata": {},
   "outputs": [],
   "source": [
    "jobids_per_state['FAILED_REALLY']"
   ]
  },
  {
   "cell_type": "code",
   "execution_count": null,
   "id": "02bde1ed-b254-4275-8510-ef584ebee8a0",
   "metadata": {},
   "outputs": [],
   "source": [
    "arrinds_per_state.keys()"
   ]
  },
  {
   "cell_type": "code",
   "execution_count": null,
   "id": "45994f03-9ab6-4cfb-babb-1c1cbfacc46e",
   "metadata": {},
   "outputs": [],
   "source": [
    "arrinds_per_state['COMPLETED']"
   ]
  },
  {
   "cell_type": "code",
   "execution_count": null,
   "id": "76fef393-914e-45b8-ac7e-c44057e8e023",
   "metadata": {},
   "outputs": [],
   "source": [
    "linenumber_per_state[state]"
   ]
  },
  {
   "cell_type": "code",
   "execution_count": null,
   "id": "bbe385b9-9405-4916-a56e-bebc1c0d5b13",
   "metadata": {},
   "outputs": [],
   "source": [
    "failed_jobs"
   ]
  },
  {
   "cell_type": "code",
   "execution_count": null,
   "id": "0f16d040-3cb6-4ce2-9e6b-d91cb9cc0526",
   "metadata": {
    "tags": []
   },
   "outputs": [],
   "source": [
    "orig_state,parent_state,true_state"
   ]
  },
  {
   "cell_type": "code",
   "execution_count": null,
   "id": "4e7f6282",
   "metadata": {
    "jupyter": {
     "outputs_hidden": true
    },
    "tags": []
   },
   "outputs": [],
   "source": [
    "sacctout"
   ]
  },
  {
   "cell_type": "code",
   "execution_count": null,
   "id": "a6c46430-7f24-4064-b04b-45493ae0bc0b",
   "metadata": {},
   "outputs": [],
   "source": [
    "irreducible_states[2] in irreducible_states"
   ]
  },
  {
   "cell_type": "code",
   "execution_count": null,
   "id": "95db9c6b-9a66-4714-b718-4a106d050a29",
   "metadata": {},
   "outputs": [],
   "source": [
    "irreducible_states[2]"
   ]
  },
  {
   "cell_type": "code",
   "execution_count": null,
   "id": "7a3bab54-935f-4f38-8b2b-45ae5869537d",
   "metadata": {},
   "outputs": [],
   "source": [
    "'COMLETED' in irreducible_states"
   ]
  },
  {
   "cell_type": "code",
   "execution_count": null,
   "id": "5ff9f154-2cdd-44ce-85b3-1c375aefb905",
   "metadata": {},
   "outputs": [],
   "source": [
    "state2EntryInds('COMLETED',0,3)"
   ]
  },
  {
   "cell_type": "code",
   "execution_count": null,
   "id": "f991af03-468b-4023-a468-e8864b013bb9",
   "metadata": {
    "jupyter": {
     "outputs_hidden": true
    },
    "tags": []
   },
   "outputs": [],
   "source": [
    "field_vals['State']"
   ]
  },
  {
   "cell_type": "code",
   "execution_count": null,
   "id": "80f163e5",
   "metadata": {},
   "outputs": [],
   "source": [
    "len(gjps('RUNNING')[0])"
   ]
  },
  {
   "cell_type": "code",
   "execution_count": null,
   "id": "87e6f28a-4b9c-425a-af19-a007f048fcfc",
   "metadata": {},
   "outputs": [],
   "source": [
    "len(gjps('FAILED',1)[0])"
   ]
  },
  {
   "cell_type": "code",
   "execution_count": null,
   "id": "8f00de6d-0f09-4b5b-a2ed-11235b1c8e7d",
   "metadata": {},
   "outputs": [],
   "source": [
    "len(gjps('COMPLETED',1)[0])"
   ]
  },
  {
   "cell_type": "code",
   "execution_count": null,
   "id": "2a8c0631",
   "metadata": {},
   "outputs": [],
   "source": [
    "sum( np.array(field_vals['State'] ) == 'RUNNING' )"
   ]
  },
  {
   "cell_type": "code",
   "execution_count": null,
   "id": "28c26d63",
   "metadata": {},
   "outputs": [],
   "source": [
    "line = r'Running job array number: $134 (effctive_id = 54543) on $HOSTNAME, $SL'\n",
    "import re\n",
    "r = re.match(r'.*\\(effctive_id\\s=\\s([0-9]+)\\)',line)\n",
    "display(r)\n",
    "print( line[r.span()[0]: r.span()[1]] )\n",
    "#r = re.match(r'.*',line)\n",
    "print( r.groups() )"
   ]
  },
  {
   "cell_type": "code",
   "execution_count": null,
   "id": "0afc071b",
   "metadata": {},
   "outputs": [],
   "source": [
    "r.span()"
   ]
  },
  {
   "cell_type": "code",
   "execution_count": null,
   "id": "fa51e9c4",
   "metadata": {},
   "outputs": [],
   "source": []
  },
  {
   "cell_type": "code",
   "execution_count": null,
   "id": "096fb7f1",
   "metadata": {},
   "outputs": [],
   "source": [
    "help(re.match)"
   ]
  },
  {
   "cell_type": "code",
   "execution_count": null,
   "id": "1afc5be1",
   "metadata": {},
   "outputs": [],
   "source": [
    "filter_by_jobname_prefix"
   ]
  },
  {
   "cell_type": "code",
   "execution_count": null,
   "id": "d2ab3df3",
   "metadata": {
    "jupyter": {
     "outputs_hidden": true
    },
    "tags": []
   },
   "outputs": [],
   "source": [
    "field_vals['State']"
   ]
  },
  {
   "cell_type": "code",
   "execution_count": null,
   "id": "d75388e7",
   "metadata": {},
   "outputs": [],
   "source": []
  }
 ],
 "metadata": {
  "kernelspec": {
   "display_name": "merr",
   "language": "python",
   "name": "merr"
  },
  "language_info": {
   "codemirror_mode": {
    "name": "ipython",
    "version": 3
   },
   "file_extension": ".py",
   "mimetype": "text/x-python",
   "name": "python",
   "nbconvert_exporter": "python",
   "pygments_lexer": "ipython3",
   "version": "3.9.6"
  }
 },
 "nbformat": 4,
 "nbformat_minor": 5
}
