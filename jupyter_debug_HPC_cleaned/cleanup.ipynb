{
 "cells": [
  {
   "cell_type": "code",
   "execution_count": null,
   "id": "dae9e4a9",
   "metadata": {},
   "outputs": [],
   "source": [
    "%load_ext autoreload\n",
    "%autoreload 2\n",
    "\n",
    "import os, sys\n",
    "sys.path.append(os.path.expandvars('$CODE_MEMORY_ERRORS'))\n",
    "\n",
    "import config2\n",
    "ipy = get_ipython()\n",
    "#data_dir_general = '/home/demitau/data_Quentin'\n",
    "#data_subdir_mem_err_main = 'full_experiments/data2'\n",
    "from os.path import join as pjoin\n",
    "\n",
    "#data_dir_input = pjoin(data_dir_general,data_subdir_mem_err_main)\n",
    "#data_dir_general = '/home/demitau/data_Quentin'\n",
    "#data_subdir_mem_err_main = 'full_experiments/data2'\n",
    "#data_dir_input = pjoin(data_dir_general,data_subdir_mem_err_main)\n",
    "#scripts_dir = pjoin(data_dir_general,'full_experiments','scripts2')\n",
    "\n",
    "data_dir_general = os.path.expandvars('$DATA_QUENTIN')\n",
    "data_dir_input = os.path.expandvars('$DATA_MEMORY_ERRORS_STAB_AND_STOCH')\n",
    "#scripts_dir = pjoin( os.path.expandvars('$CODE_MEMORY_ERRORS'), 'previous_analyses')\n",
    "scripts_dir = pjoin( os.path.expandvars('$CODE_MEMORY_ERRORS'), 'figure')\n",
    "\n",
    "\n",
    "print(data_dir_input, scripts_dir)\n",
    "\n",
    "subjects = [f for f in os.listdir(data_dir_input) if f.startswith('sub') ]\n",
    "subjects = list(sorted(subjects))\n",
    "print(subjects)"
   ]
  },
  {
   "cell_type": "code",
   "execution_count": null,
   "id": "daf081b0",
   "metadata": {},
   "outputs": [],
   "source": [
    "from config2 import path_data\n",
    "path_data"
   ]
  },
  {
   "cell_type": "code",
   "execution_count": null,
   "id": "14e3b8d3",
   "metadata": {},
   "outputs": [],
   "source": []
  },
  {
   "cell_type": "code",
   "execution_count": null,
   "id": "c9391a22",
   "metadata": {},
   "outputs": [],
   "source": [
    "help(shutil)"
   ]
  },
  {
   "cell_type": "code",
   "execution_count": null,
   "id": "73c5dd8d",
   "metadata": {},
   "outputs": [],
   "source": [
    "shutil.rmtree(d)\n",
    "os.path.exists(d)"
   ]
  },
  {
   "cell_type": "code",
   "execution_count": null,
   "id": "db7bd110",
   "metadata": {},
   "outputs": [],
   "source": [
    "import shutil\n",
    "do_delete = 1\n",
    "hpass = 0.1\n",
    "subdir_to_clean = f'spoc_sliding_{hpass}'\n",
    "for subject in subjects:\n",
    "    d = pjoin(path_data,subject,'results',subdir_to_clean)\n",
    "    present = os.path.exists(d)\n",
    "    print(present,d)\n",
    "    if present and do_delete:\n",
    "        shutil.rmtree(d)"
   ]
  },
  {
   "cell_type": "code",
   "execution_count": null,
   "id": "fe74bc43",
   "metadata": {},
   "outputs": [],
   "source": []
  }
 ],
 "metadata": {
  "kernelspec": {
   "display_name": "Python 3",
   "language": "python",
   "name": "python3"
  },
  "language_info": {
   "codemirror_mode": {
    "name": "ipython",
    "version": 3
   },
   "file_extension": ".py",
   "mimetype": "text/x-python",
   "name": "python",
   "nbconvert_exporter": "python",
   "pygments_lexer": "ipython3",
   "version": "3.9.6"
  }
 },
 "nbformat": 4,
 "nbformat_minor": 5
}
