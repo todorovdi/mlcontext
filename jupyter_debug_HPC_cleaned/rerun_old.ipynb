{
 "cells": [
  {
   "cell_type": "code",
   "execution_count": null,
   "id": "9e27f4ed",
   "metadata": {},
   "outputs": [],
   "source": [
    "%load_ext autoreload\n",
    "%autoreload 2\n",
    "\n",
    "import jr\n",
    "from Levenshtein import editops\n",
    "\n",
    "import os\n",
    "from os.path import join as pjoin\n",
    "ipy = get_ipython()\n",
    "#data_dir_general = '/home/demitau/data_Quentin'\n",
    "#data_subdir_mem_err_main = 'full_experiments/data2'\n",
    "\n",
    "data_dir_general = os.path.expandvars('$DATA_QUENTIN')\n",
    "data_dir_input = os.path.expandvars('$DATA_MEMORY_ERRORS_STAB_AND_STOCH')\n",
    "#scripts_dir_old = pjoin( os.path.expandvars('$CODE_MEMORY_ERRORS'), 'previous_analyses')\n",
    "\n",
    "scripts_dir = pjoin( os.path.expandvars('$CODE_MEMORY_ERRORS'))\n",
    "\n",
    "subjects = [f for f in os.listdir(data_dir_input) if f.startswith('sub') ]\n",
    "subjects = list(sorted(subjects))\n",
    "print(subjects)\n",
    "\n",
    "import multiprocessing\n",
    "n_jobs = multiprocessing.cpu_count() - 2\n",
    "\n",
    "import mne\n",
    "mne.utils.set_config('MNE_USE_CUDA', 'true') "
   ]
  },
  {
   "cell_type": "code",
   "execution_count": null,
   "id": "d23aabfa",
   "metadata": {},
   "outputs": [],
   "source": [
    "# import sklearn.linear_model\n",
    "# sklearn.linear_model.__file__\n",
    "#'/home/demitau/soft/miniconda3/lib/python3.8/site-packages/sklearn/linear_model/__init__.py'"
   ]
  },
  {
   "cell_type": "code",
   "execution_count": null,
   "id": "3e5f7559",
   "metadata": {},
   "outputs": [],
   "source": [
    "# LinearModel can be parallel"
   ]
  },
  {
   "cell_type": "code",
   "execution_count": null,
   "id": "30d1e50f",
   "metadata": {},
   "outputs": [],
   "source": [
    "'sub01_WGPOZPEE spoc_home2_0.05 stable_xgboost_scores_prevmovement_preverrors_errors_prevbelief_gamma.npy',"
   ]
  },
  {
   "cell_type": "code",
   "execution_count": null,
   "id": "c9608a72",
   "metadata": {},
   "outputs": [],
   "source": [
    "freq_name2freq['gamma']"
   ]
  },
  {
   "cell_type": "code",
   "execution_count": null,
   "id": "1d797855",
   "metadata": {},
   "outputs": [],
   "source": [
    "import gc; gc.collect()"
   ]
  },
  {
   "cell_type": "code",
   "execution_count": null,
   "id": "3971543f",
   "metadata": {
    "code_folding": []
   },
   "outputs": [],
   "source": [
    "# faster test\n",
    "#%debug\n",
    "from config2 import freq_name2freq\n",
    "\n",
    "#subject = subjects[0]\n",
    "use_preloaded_raw = True\n",
    "#hpass = no\n",
    "script_name = pjoin(scripts_dir,\n",
    "                    'spoc_home_with_prev_error2.py')\n",
    "\n",
    "            \n",
    "for subject in ['sub01_WGPOZPEE']:\n",
    "    #for hpass in ['no_filter', '0.1', '0.05']:\n",
    "    for hpass in ['0.05']:\n",
    "        #for regression_type in  ['Ridge', 'xgboost']:\n",
    "        for regression_type in  [ 'xgboost']:\n",
    "            #for freq_name,freq_limits in freq_name2freq.items():\n",
    "            for freq_name,freq_limits in [('gamma',freq_name2freq['gamma'])]:\n",
    "                #for env_to_run in ['stable', 'random']:\n",
    "                for env_to_run in ['stable']:\n",
    "                    par = {'subject':subject, 'hpass':hpass, 'freq_name':freq_name,\n",
    "                           'regression_type':regression_type, 'env_to_run':env_to_run }\n",
    "                    ipy.run_line_magic('run', f'-i {script_name}')\n",
    "\n",
    "                    import gc; gc.collect()\n",
    "                    #sys.exit(1)\n"
   ]
  },
  {
   "cell_type": "code",
   "execution_count": null,
   "id": "47464d3d",
   "metadata": {},
   "outputs": [],
   "source": [
    "os.getlogin()"
   ]
  },
  {
   "cell_type": "code",
   "execution_count": null,
   "id": "a8413d87",
   "metadata": {},
   "outputs": [],
   "source": [
    "s = _est_run(est,X,y,cv,scoring,n_jobs_per_dim_classical_dec) "
   ]
  },
  {
   "cell_type": "code",
   "execution_count": null,
   "id": "2ada69dd",
   "metadata": {},
   "outputs": [],
   "source": [
    "s[0][0][0][0]"
   ]
  },
  {
   "cell_type": "code",
   "execution_count": null,
   "id": "1d2645e4",
   "metadata": {},
   "outputs": [],
   "source": [
    "def _est_run(est,X,y,cv,scoring,n_jobs):\n",
    "    with mne.use_log_level('warning'):\n",
    "        score = cross_val_multiscore(est, X, y=y, cv=cv, scoring=scoring,\n",
    "                                        n_jobs=n_jobs, verbose=classic_dec_verbose)\n",
    "    score = score.mean(axis=0)\n",
    "    return scores\n"
   ]
  },
  {
   "cell_type": "code",
   "execution_count": null,
   "id": "b231be99",
   "metadata": {},
   "outputs": [],
   "source": [
    "scores[0][0][0][0][0][0][0][0][0][0][0][0][0][0][0][0][0][0][0][0][0][0][0][0][0][0][0]"
   ]
  },
  {
   "cell_type": "code",
   "execution_count": null,
   "id": "939b9ffc",
   "metadata": {},
   "outputs": [],
   "source": [
    "est_parallel_across_dims = 0\n",
    "\n",
    "\n",
    "if est_parallel_across_dims:\n",
    "    n_jobs_per_dim_classical_dec = 1\n",
    "else:\n",
    "    n_jobs_per_dim_classical_dec = n_jobs\n",
    "add_clf_creopts_est = getXGBparams(n_jobs = n_jobs_per_dim_classical_dec)\n",
    "\n",
    "\n",
    "scores = list()\n",
    "# over all dims\n",
    "def _est_run(est,X,y,cv,scoring,n_jobs):\n",
    "    with mne.use_log_level('warning'):\n",
    "        score = cross_val_multiscore(est, X, y=y, cv=cv, scoring=scoring,\n",
    "                                        n_jobs=n_jobs)\n",
    "    score = score.mean(axis=0)\n",
    "    return scores\n",
    "\n",
    "from joblib import Parallel, delayed\n",
    "if est_parallel_across_dims:\n",
    "    scores = Parallel(n_jobs=n_jobs)(\n",
    "        delayed(_est_run)(est,X,Y[:,dimi],cv,scoring,n_jobs_per_dim_classical_dec ) \\\n",
    "            for dimi in range(dim ))\n",
    "else:\n",
    "    for dimi in range(dim):\n",
    "        y = Y[:, dimi]\n",
    "        score = _est_run(est,X,y,cv,scoring,n_jobs_per_dim_classical_dec)\n",
    "        scores.append(score)\n",
    "scores = np.array(scores)\n"
   ]
  },
  {
   "cell_type": "code",
   "execution_count": null,
   "id": "6ff38bec",
   "metadata": {},
   "outputs": [],
   "source": [
    "mne.get_config('MNE_LOGGING_LEVEL')"
   ]
  },
  {
   "cell_type": "code",
   "execution_count": null,
   "id": "f53ce46d",
   "metadata": {},
   "outputs": [],
   "source": [
    "#Debug 10; info 20; warning 30; error 40; critical 50"
   ]
  },
  {
   "cell_type": "code",
   "execution_count": null,
   "id": "b65a81ad",
   "metadata": {},
   "outputs": [],
   "source": [
    "mne.get_lo('warning')"
   ]
  },
  {
   "cell_type": "code",
   "execution_count": null,
   "id": "d9f7ca99",
   "metadata": {},
   "outputs": [],
   "source": [
    "mne.use_log_level('warning')\n",
    "mne.get_config('MNE_LOGGING_LEVEL')"
   ]
  },
  {
   "cell_type": "code",
   "execution_count": null,
   "id": "0460ebfd",
   "metadata": {},
   "outputs": [],
   "source": [
    "from csp_my import SPoC\n",
    "\n",
    "b2b = B2B_SPoC(G=G, H=H, n_splits=n_splits_B2B,\n",
    "        parallel_type='across_splits_and_trials')\n",
    "\n",
    "r = b2b.fit(X, Y)\n"
   ]
  },
  {
   "cell_type": "code",
   "execution_count": null,
   "id": "0c9b78d7",
   "metadata": {},
   "outputs": [],
   "source": [
    "len(non_hit)"
   ]
  },
  {
   "cell_type": "code",
   "execution_count": null,
   "id": "b26cc251",
   "metadata": {},
   "outputs": [],
   "source": [
    "import itertool\n",
    "itertool.product(30,Y.shape[1])"
   ]
  },
  {
   "cell_type": "code",
   "execution_count": null,
   "id": "bd50c32d",
   "metadata": {},
   "outputs": [],
   "source": [
    "import gc; gc.collect()"
   ]
  },
  {
   "cell_type": "code",
   "execution_count": null,
   "id": "a00c7f17",
   "metadata": {},
   "outputs": [],
   "source": [
    "rT = list( zip(*r) )\n",
    "\n",
    "print( len(rT) )\n",
    "print( 'type(rT)', type(rT) )\n",
    "print( 'type(rT[0])', type(rT[0]) )\n",
    "print( rT[0][0], rT[0][1] )"
   ]
  },
  {
   "cell_type": "code",
   "execution_count": null,
   "id": "b5da784b",
   "metadata": {},
   "outputs": [],
   "source": [
    "rT[1][0]"
   ]
  },
  {
   "cell_type": "code",
   "execution_count": null,
   "id": "6a37131b",
   "metadata": {},
   "outputs": [],
   "source": [
    "rT = list( zip(r) )\n",
    "\n",
    "print( len(rT) )\n",
    "print( type(rT) )\n",
    "print( type(rT[0]) )\n",
    "print( len(rT[0][0]) )"
   ]
  },
  {
   "cell_type": "code",
   "execution_count": null,
   "id": "434fff2b",
   "metadata": {},
   "outputs": [],
   "source": [
    "rT[0][0]"
   ]
  },
  {
   "cell_type": "code",
   "execution_count": null,
   "id": "29b92046",
   "metadata": {},
   "outputs": [],
   "source": [
    "help(logging)"
   ]
  },
  {
   "cell_type": "code",
   "execution_count": null,
   "id": "b0f1396e",
   "metadata": {},
   "outputs": [],
   "source": [
    "mne_logger = logging.getLogger('mne')"
   ]
  },
  {
   "cell_type": "code",
   "execution_count": null,
   "id": "673dec08",
   "metadata": {},
   "outputs": [],
   "source": [
    "import mne.cov"
   ]
  },
  {
   "cell_type": "code",
   "execution_count": null,
   "id": "c4603396",
   "metadata": {},
   "outputs": [],
   "source": [
    "mne.cov.__file__"
   ]
  },
  {
   "cell_type": "code",
   "execution_count": null,
   "id": "bbdf37f5",
   "metadata": {},
   "outputs": [],
   "source": [
    "import mne.cov.utils.logger"
   ]
  },
  {
   "cell_type": "code",
   "execution_count": null,
   "id": "bf4f01a3",
   "metadata": {},
   "outputs": [],
   "source": [
    "use_preloaded_raw = False\n",
    "script_name = pjoin(scripts_dir,\n",
    "                    'td_long2.py')\n",
    "\n",
    "for subject in subjects:\n",
    "    for hpass in ['no_filter', '0.1', '0.05']:\n",
    "        for regression_type in  ['Ridge', 'xgboost']:\n",
    "            ipy.run_line_magic('run', f'-i {script_name}')\n",
    "\n",
    "            import gc; gc.collect()"
   ]
  },
  {
   "cell_type": "code",
   "execution_count": null,
   "id": "83ad9982",
   "metadata": {},
   "outputs": [],
   "source": [
    "# faster test\n",
    "#%debug\n",
    "\n",
    "#subject = subjects[0]\n",
    "use_preloaded_raw = False\n",
    "#hpass = no\n",
    "script_name = pjoin(scripts_dir,\n",
    "                    'td_long2.py')\n",
    "\n",
    "for subject in subjects[:1]:\n",
    "    for hpass in ['no_filter', '0.1', '0.05'][:1]:\n",
    "        for regression_type in  ['Ridge', 'xgboost'][:1]:\n",
    "            ipy.run_line_magic('run', f'-i {script_name}')\n",
    "\n",
    "            import gc; gc.collect()"
   ]
  },
  {
   "cell_type": "code",
   "execution_count": null,
   "id": "b27662e6",
   "metadata": {},
   "outputs": [],
   "source": [
    "len(wh)"
   ]
  },
  {
   "cell_type": "code",
   "execution_count": null,
   "id": "db7a0812",
   "metadata": {
    "run_control": {
     "marked": false
    }
   },
   "outputs": [],
   "source": [
    "Y.shape"
   ]
  },
  {
   "cell_type": "code",
   "execution_count": null,
   "id": "58364afb",
   "metadata": {},
   "outputs": [],
   "source": []
  },
  {
   "cell_type": "code",
   "execution_count": null,
   "id": "999191e3",
   "metadata": {},
   "outputs": [],
   "source": [
    "b2b.fit(X, Y)"
   ]
  },
  {
   "cell_type": "code",
   "execution_count": null,
   "id": "8146e2c3",
   "metadata": {},
   "outputs": [],
   "source": []
  },
  {
   "cell_type": "code",
   "execution_count": null,
   "id": "f81cb2f6",
   "metadata": {},
   "outputs": [],
   "source": [
    "#subject = subjects[0]\n",
    "use_preloaded_raw = False\n",
    "#hpass = no\n",
    "script_name = pjoin(scripts_dir_recent,\n",
    "                    'spoc_home_with_prev_error2.py')\n",
    "\n",
    "for subject in subjects:\n",
    "    for hpass in ['no_filter', '0.1', '0.05']:\n",
    "        for regression_type in  ['Ridge', 'xgboost']:\n",
    "            ipy.run_line_magic('run', f'-i {script_name}')\n",
    "\n",
    "            import gc; gc.collect()"
   ]
  },
  {
   "cell_type": "code",
   "execution_count": null,
   "id": "4b1b52dd",
   "metadata": {},
   "outputs": [],
   "source": []
  }
 ],
 "metadata": {
  "kernelspec": {
   "display_name": "merr",
   "language": "python",
   "name": "merr"
  },
  "language_info": {
   "codemirror_mode": {
    "name": "ipython",
    "version": 3
   },
   "file_extension": ".py",
   "mimetype": "text/x-python",
   "name": "python",
   "nbconvert_exporter": "python",
   "pygments_lexer": "ipython3",
   "version": "3.9.6"
  }
 },
 "nbformat": 4,
 "nbformat_minor": 5
}
