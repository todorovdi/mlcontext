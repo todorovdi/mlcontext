{
 "cells": [
  {
   "cell_type": "code",
   "execution_count": null,
   "id": "7785b718",
   "metadata": {},
   "outputs": [],
   "source": [
    "p"
   ]
  },
  {
   "cell_type": "code",
   "execution_count": null,
   "id": "ea9e0eea",
   "metadata": {},
   "outputs": [],
   "source": [
    "%load_ext autoreload\n",
    "%autoreload 2\n",
    "\n",
    "from os.path import join as pjoin    \n",
    "\n",
    "data_dir_general = os.path.expandvars('$DATA_QUENTIN')\n",
    "data_dir_input = os.path.expandvars('$DATA_MEMORY_ERRORS_STAB_AND_STOCH')\n",
    "#scripts_dir = pjoin( os.path.expandvars('$CODE_MEMORY_ERRORS'), 'previous_analyses')\n",
    "scripts_dir = pjoin( os.path.expandvars('$CODE_MEMORY_ERRORS'))\n",
    "\n",
    "\n",
    "ipy = get_ipython()\n",
    "p = pjoin(scripts_dir,'read_MEG_cc.py')\n",
    "ipy.run_line_magic('run',f'-i {p}')\n",
    "\n",
    "def mplresestcol():\n",
    "    COLOR = 'black'\n",
    "    COLOR_INV = 'white'\n",
    "    mpl.rcParams['text.color'] = COLOR\n",
    "    mpl.rcParams['axes.labelcolor'] = COLOR\n",
    "    mpl.rcParams['xtick.color'] = COLOR\n",
    "    mpl.rcParams['ytick.color'] = COLOR\n",
    "    mpl.rcParams[\"figure.facecolor\"] = COLOR_INV\n",
    "    mpl.rcParams[\"axes.facecolor\"] = COLOR_INV\n",
    "mplresestcol()"
   ]
  },
  {
   "cell_type": "code",
   "execution_count": null,
   "id": "2aa64a29",
   "metadata": {},
   "outputs": [],
   "source": []
  },
  {
   "cell_type": "code",
   "execution_count": null,
   "id": "583efb43",
   "metadata": {},
   "outputs": [],
   "source": [
    "chn_diode = 'UADC001-2800'\n",
    "#chn_pupil_size = 'UADC012-2800'\n",
    "chn_time = 'SCLK01-177'"
   ]
  },
  {
   "cell_type": "code",
   "execution_count": null,
   "id": "74a83c17",
   "metadata": {},
   "outputs": [],
   "source": [
    "subjects[-2:]"
   ]
  },
  {
   "cell_type": "code",
   "execution_count": null,
   "id": "a51e9da0",
   "metadata": {},
   "outputs": [],
   "source": [
    "subj2all = {}\n",
    "# 30 had diode not working for first 30-ish trials"
   ]
  },
  {
   "cell_type": "code",
   "execution_count": null,
   "id": "8ae27237",
   "metadata": {},
   "outputs": [],
   "source": [
    "for subj in subjects:\n",
    "    del subj2all[subj]['rs']\n",
    "#del subj2all[subj]['rs']"
   ]
  },
  {
   "cell_type": "code",
   "execution_count": null,
   "id": "21d95942",
   "metadata": {
    "code_folding": [],
    "run_control": {
     "marked": false
    }
   },
   "outputs": [],
   "source": [
    "# do\n",
    "from behav_proc import readParamFiles, addBasicInfo, getGeomInfo\n",
    "from meg_proc import loadBehavOneSubj\n",
    "from meg_proc import events2df\n",
    "from behav_proc import aggRows\n",
    "\n",
    "replace = 0\n",
    "#replace_rs = 1\n",
    "\n",
    "#for subj in subjects[-2:-1]:#[:2]:\n",
    "#for subj in ['2023-SE2-016','2023-SE2-018']:\n",
    "#for subj in ['2023-SE2-023']:\n",
    "#for subj in ['2023-SE2-002']:\n",
    "#for subj in ['2023-SE2-010']:\n",
    "for subj in ['2023-SE2-030']:\n",
    "#for subj in ['2023-SE2-016']:\n",
    "#for subj in ['2023-SE2-019']:\n",
    "#for subj in ['2023-SE2-018']:\n",
    "#for subj in subjects:\n",
    "    print(f'-----------  Start subject = {subj} ---------')\n",
    "    if replace:\n",
    "        subj2all[subj] = {}\n",
    "    else:\n",
    "        for k in ['loc_events2df','lf','loc_events2df','rs']:\n",
    "            if k in subj2all[subj]:\n",
    "                del subj2all[subj][k]\n",
    "    path_behav = pjoin( subj2path[subj] , 'behav')\n",
    "        \n",
    "    if 'rs' not in subj2all[subj]:\n",
    "        try:\n",
    "            if subj in ['2023-SE2-016','2023-SE2-018','2023-SE2-019','2023-SE2-030']:\n",
    "                flag = 'read_all'\n",
    "            else:\n",
    "                flag = 'read_last'\n",
    "            rs = loadBehavOneSubj(path_behav, flag)\n",
    "            \n",
    "            df,dftriglog, df_trialinfoseq_params, \\\n",
    "                params, phase2trigger, trigger2phase, CONTEXT_TRIGGER_DICT = rs[-1]\n",
    "            \n",
    "            for i in range(len(rs)):\n",
    "                print('RS content:  ',i, rs[i][0]['trial_index'].max() )\n",
    "\n",
    "            if flag == 'read_all':\n",
    "                dfs = [rs[i][0] for i in range(len(rs))]\n",
    "                dfa = concatBehavDfs(dfs)\n",
    "                df= dfa\n",
    "            \n",
    "        except Exception as e:\n",
    "            excsfmt = traceback.format_exc()\n",
    "            print(excsfmt)\n",
    "\n",
    "            subj2all[subj]['excsfmt_readbehav'] = excsfmt\n",
    "            continue\n",
    "    \n",
    "        m1,m2 = df_trialinfoseq_params['trial_index'].max(),df['trial_index'].max()\n",
    "        if m1 != m2:\n",
    "            print(f'WARNING: Experiment should have had {m1} trials, but the log only found {m2}')\n",
    "\n",
    "        subj2all[subj]['rs'] = rs\n",
    "        subj2all[subj]['df'] = df\n",
    "    else:\n",
    "        rs  = subj2all[subj]['rs']\n",
    "        df,dftriglog, df_trialinfoseq_params, \\\n",
    "                params, phase2trigger, trigger2phase, CONTEXT_TRIGGER_DICT = rs[-1]\n",
    "        \n",
    "        if flag == 'read_all':\n",
    "            dfs = [rs[i][0] for i in range(len(rs))]\n",
    "            dfa = concatBehavDfs(dfs)\n",
    "            df= dfa\n",
    "        subj2all[subj]['rs'] = rs\n",
    "        subj2all[subj]['df'] = df\n",
    "        \n",
    "\n",
    "    \n",
    "    from meg_proc import read_raw_MEG_CC\n",
    "    fnfs_ds = subj2dsnames[subj]\n",
    "    if 'raw' not in subj2all[subj]:\n",
    "        raw,events = read_raw_MEG_CC(fnfs_ds, fewch=True, verbose=0)\n",
    "    else:\n",
    "        raw  = subj2all[subj]['raw']\n",
    "        events = mne.find_events(raw, shortest_event=2)\n",
    "    raw.load_data()\n",
    "    subj2all[subj]['raw'] = raw\n",
    "    \n",
    "    restmintime = df.query('phase == \"REST\"')['time_abs'].min()\n",
    "    #df['time_MEG_aligned'] = df['time_abs'] + (restmintime_meg - retime_absstmintime)\n",
    "    df['time_since_first_REST'] = df['time_abs']  - restmintime\n",
    "\n",
    "    dat_time ,times = raw[chn_time] \n",
    "    diode,times = raw[chn_diode]\n",
    "    \n",
    "    subj2all[subj]['dat_time'] = dat_time\n",
    "    \n",
    "    #print(subj)\n",
    "    import sys,traceback\n",
    "    try:\n",
    "        #dat_time\n",
    "        dfev, loc =events2df(events, raw, diode, dat_time,\n",
    "                    trigger2phase, CONTEXT_TRIGGER_DICT, params, restmintime,\n",
    "                         return_aux = 1)\n",
    "        subj2all[subj]['loc_events2df'] = loc\n",
    "    except Exception as e:\n",
    "        print('EXC',e)\n",
    "        exc_info = sys.exc_info()\n",
    "        exc = traceback.TracebackException(*exc_info, capture_locals=True)\n",
    "        ei = exc_info[2]    \n",
    "        #display(ei.tb_frame)\n",
    "        psf = ei\n",
    "\n",
    "        lfprev = None; lf = None\n",
    "        lfs = []\n",
    "        di = 0\n",
    "        while psf.tb_frame is not None:\n",
    "            stackframe = psf.tb_frame        \n",
    "\n",
    "            psf = psf.tb_next  \n",
    "            if ('conda' not in stackframe.f_code.co_filename) and\\\n",
    "                ('mamba' not in stackframe.f_code.co_filename):        \n",
    "                display(di, stackframe)\n",
    "                lfprev = lf\n",
    "                lf = stackframe.f_locals\n",
    "                lfs += [lf]\n",
    "                di += 1\n",
    "            if psf is None:\n",
    "                break\n",
    "\n",
    "        if 'dfev' in lf:\n",
    "            dfev = lf['dfev']\n",
    "            subj2all[subj]['lf'] = lf                   \n",
    "        else:\n",
    "            print('--#######--- dfev NOT SET')\n",
    "        excsfmt = traceback.format_exc()\n",
    "        print(excsfmt)\n",
    "        \n",
    "        subj2all[subj]['excsfmt'] = excsfmt\n",
    "        \n",
    "    subj2all[subj]['dfev'] = dfev\n",
    "\n",
    "\n",
    "    m1,m2 = dfev['trial_index'].max(), df['trial_index'].max()\n",
    "    if m1 != m2:\n",
    "        print(f'Trial numbers inconsistent: dfev = {m1}, df = {m2}')\n",
    "    # 006 if when MEG broke after prelast block\n",
    "    cond = (m2 == m1 + 1) and \\\n",
    "        set(df.query('trial_index == 734').phase.unique()) == {'REST','BREAK'}\n",
    "    if subj == '2023-SE2-006' and cond:\n",
    "        print('But iconsistency is okay')\n",
    "    #else:\n",
    "    #    assert m1 == m2, (m1,m2)\n",
    "\n",
    "    c = df['phase'] != df['phase'].shift(1)\n",
    "    c[0] = False\n",
    "    df['phase_ind'] = np.cumsum(c)\n",
    "    # it is important to take min and not max here because triggers arrive in the beg of phase, not in the end\n",
    "    dfph = aggRows(df, 'time_abs', 'min', colgrp = 'phase_ind')\n",
    "    dfph['time_since_prev_phase'] = dfph['time_since_first_REST'].diff()    \n",
    "    subj2all[subj]['dfph'] = dfph\n",
    "\n",
    "    import gc; gc.collect()\n",
    "\n",
    "    print('----------------------------------')"
   ]
  },
  {
   "cell_type": "code",
   "execution_count": null,
   "id": "c58e3348",
   "metadata": {},
   "outputs": [],
   "source": [
    "subj "
   ]
  },
  {
   "cell_type": "code",
   "execution_count": null,
   "id": "672bc544",
   "metadata": {},
   "outputs": [],
   "source": [
    "def concatBehavDfs(dfs):\n",
    "    dfs_ = []\n",
    "    last_tr = 0\n",
    "    for df in dfs:\n",
    "        df = df.copy()\n",
    "        df['trial_index'] += last_tr\n",
    "        dfs_ += [df]\n",
    "        last_tr = df.trial_index.max() + 1\n",
    "    dfa = pd.concat(dfs_,ignore_index=1)\n",
    "    lb = len( dfa[dfa['time_abs'].diff() < 0] ); print(lb)\n",
    "    assert lb == 0\n",
    "    \n",
    "    return dfa\n",
    "df = concatBehavDfs(dfs)\n",
    "df.trial_index.max()"
   ]
  },
  {
   "cell_type": "code",
   "execution_count": null,
   "id": "00ea463b",
   "metadata": {},
   "outputs": [],
   "source": [
    "df[df['time_abs'].diff() < 0]"
   ]
  },
  {
   "cell_type": "code",
   "execution_count": null,
   "id": "dcea7b1d",
   "metadata": {},
   "outputs": [],
   "source": [
    "# 30 restart from last trial"
   ]
  },
  {
   "cell_type": "code",
   "execution_count": null,
   "id": "0f0400fd",
   "metadata": {},
   "outputs": [],
   "source": [
    "df[df['time'].diff() < 0]"
   ]
  },
  {
   "cell_type": "markdown",
   "id": "13a9152c",
   "metadata": {},
   "source": [
    "## trial corresp"
   ]
  },
  {
   "cell_type": "markdown",
   "id": "732d51f0",
   "metadata": {
    "heading_collapsed": true
   },
   "source": [
    "### with diodes"
   ]
  },
  {
   "cell_type": "code",
   "execution_count": null,
   "id": "3fbc881f",
   "metadata": {
    "hidden": true
   },
   "outputs": [],
   "source": [
    "import gc; gc.collect()"
   ]
  },
  {
   "cell_type": "code",
   "execution_count": null,
   "id": "74811bc3",
   "metadata": {
    "hidden": true,
    "run_control": {
     "marked": false
    }
   },
   "outputs": [],
   "source": [
    "#dfev['time_megchan'].plot() \n",
    "#dfev['time_since_first_REST'].plot() \n",
    "dfev.plot(x='nsample',y=['time_since_first_REST','time_since_first_REST_diode'])\n",
    "#dfev.plot(x='nsample',y=['time_since_first_REST','time_since_first_REST_diode'])\n",
    "#dfev.plot(x='nsample',y='time_since_first_REST_diode')\n",
    "\n",
    "df_diode = loc['df_diode']\n",
    "#df_diode['time_since_first_REST0'].plot(x=df_diode['nsample'])\n",
    "df_diode.plot(x='nsample',y=['time_since_first_REST','time_since_first_REST0'])\n",
    "\n",
    "df_diode_clean = loc['df_diode_clean']\n",
    "#df_diode['time_since_first_REST0'].plot(x=df_diode['nsample'])\n",
    "df_diode_clean.plot(x='nsample',y=['time_since_first_REST','time_since_first_REST0'])"
   ]
  },
  {
   "cell_type": "code",
   "execution_count": null,
   "id": "64e64081",
   "metadata": {
    "hidden": true
   },
   "outputs": [],
   "source": [
    "#dfph.plot?"
   ]
  },
  {
   "cell_type": "code",
   "execution_count": null,
   "id": "9906db24",
   "metadata": {
    "hidden": true
   },
   "outputs": [],
   "source": [
    "ax = plt.gca()\n",
    "dfph.plot(x='phase_ind',y=['time_since_first_REST'], ax = ax)\n",
    "dfev.plot(x='phase_ind',y=['time_since_first_REST','time_since_first_REST_diode'], ax = ax)"
   ]
  },
  {
   "cell_type": "code",
   "execution_count": null,
   "id": "57200a8c",
   "metadata": {
    "hidden": true
   },
   "outputs": [],
   "source": [
    "#Trial numbers inconsistent: dfev = 859, df = 860"
   ]
  },
  {
   "cell_type": "code",
   "execution_count": null,
   "id": "beb51810",
   "metadata": {
    "hidden": true
   },
   "outputs": [],
   "source": [
    "dfph.query('phase == \"REST\"')[cols]"
   ]
  },
  {
   "cell_type": "code",
   "execution_count": null,
   "id": "db04d44b",
   "metadata": {
    "hidden": true
   },
   "outputs": [],
   "source": [
    "(dfev.query('~time_since_first_REST_diode.isna()')['time_since_first_REST_diode'].diff() .iloc[1:] <= 0).sum()"
   ]
  },
  {
   "cell_type": "code",
   "execution_count": null,
   "id": "8ca373c6",
   "metadata": {
    "hidden": true
   },
   "outputs": [],
   "source": [
    "dfev.query('~time_since_first_REST_diode.isna()').nsample.max()"
   ]
  },
  {
   "cell_type": "code",
   "execution_count": null,
   "id": "4764759b",
   "metadata": {
    "hidden": true
   },
   "outputs": [],
   "source": [
    "dfev.query('~time_since_first_REST_diode.isna()').trial_index.max()"
   ]
  },
  {
   "cell_type": "code",
   "execution_count": null,
   "id": "9d081758",
   "metadata": {
    "hidden": true
   },
   "outputs": [],
   "source": [
    "loc['mvt_starts_megtrig'].nsample.max(), loc['mvt_starts_megtrig_a'].nsample.max()"
   ]
  },
  {
   "cell_type": "code",
   "execution_count": null,
   "id": "baafe6bc",
   "metadata": {
    "hidden": true
   },
   "outputs": [],
   "source": [
    "dfev.loc[loc['mvt_starts_megtrig'].index].nsample.max()"
   ]
  },
  {
   "cell_type": "code",
   "execution_count": null,
   "id": "19dbce04",
   "metadata": {
    "hidden": true
   },
   "outputs": [],
   "source": [
    "df_diode.nsample.max()"
   ]
  },
  {
   "cell_type": "code",
   "execution_count": null,
   "id": "9e5ad772",
   "metadata": {
    "hidden": true
   },
   "outputs": [],
   "source": [
    "dfev.nsample.max()"
   ]
  },
  {
   "cell_type": "code",
   "execution_count": null,
   "id": "22215e36",
   "metadata": {
    "hidden": true
   },
   "outputs": [],
   "source": [
    "find_correspondence(df)"
   ]
  },
  {
   "cell_type": "code",
   "execution_count": null,
   "id": "91c45397",
   "metadata": {
    "hidden": true
   },
   "outputs": [],
   "source": [
    "df['time_since_first_REST'].max()"
   ]
  },
  {
   "cell_type": "code",
   "execution_count": null,
   "id": "639e65da",
   "metadata": {
    "hidden": true
   },
   "outputs": [],
   "source": [
    "dfev['time_since_first_REST'].max(), dfev['time_megchan'].max()"
   ]
  },
  {
   "cell_type": "code",
   "execution_count": null,
   "id": "a9a159bc",
   "metadata": {
    "hidden": true
   },
   "outputs": [],
   "source": [
    "dfev['time_since_first_REST_diode'].max()"
   ]
  },
  {
   "cell_type": "code",
   "execution_count": null,
   "id": "e7da9012",
   "metadata": {
    "hidden": true
   },
   "outputs": [],
   "source": [
    "df['time_since_first_REST'].plot()"
   ]
  },
  {
   "cell_type": "code",
   "execution_count": null,
   "id": "f8458212",
   "metadata": {
    "hidden": true
   },
   "outputs": [],
   "source": []
  },
  {
   "cell_type": "code",
   "execution_count": null,
   "id": "73eaaf76",
   "metadata": {
    "hidden": true
   },
   "outputs": [],
   "source": [
    "dfev['time_since_first_REST_diode']"
   ]
  },
  {
   "cell_type": "code",
   "execution_count": null,
   "id": "ed070143",
   "metadata": {
    "hidden": true
   },
   "outputs": [],
   "source": [
    "dfev['time_since_first_REST'].plot()"
   ]
  },
  {
   "cell_type": "markdown",
   "id": "cdeab525",
   "metadata": {},
   "source": [
    "### trial_numbers"
   ]
  },
  {
   "cell_type": "code",
   "execution_count": null,
   "id": "cf7f569b",
   "metadata": {},
   "outputs": [],
   "source": [
    "subj"
   ]
  },
  {
   "cell_type": "code",
   "execution_count": null,
   "id": "fefd5834",
   "metadata": {},
   "outputs": [],
   "source": [
    "df['time_abs'].max()"
   ]
  },
  {
   "cell_type": "code",
   "execution_count": null,
   "id": "4c34ea24",
   "metadata": {},
   "outputs": [],
   "source": [
    "ax = plt.gca()\n",
    "#dfph.query('trial_index <= 170').plot(x='phase_ind',y=['time_abs'], ax = ax)\n",
    "df.query('trial_index <= 170').plot(x='time_since_first_REST',y=['trial_index'], ax = ax)"
   ]
  },
  {
   "cell_type": "code",
   "execution_count": null,
   "id": "70585b3f",
   "metadata": {},
   "outputs": [],
   "source": [
    "ax = plt.gca()\n",
    "t = 870\n",
    "#t = 15\n",
    "dfph.query('trial_index <= @t').plot(x='time_since_first_REST',y=['phase_ind'], ax = ax)\n",
    "# event based is red\n",
    "dfev.query('trial_index <= @t').plot(x='time_since_first_REST',y=['phase_ind'], ax = ax, color='red')"
   ]
  },
  {
   "cell_type": "code",
   "execution_count": null,
   "id": "64fdf958",
   "metadata": {},
   "outputs": [],
   "source": []
  },
  {
   "cell_type": "code",
   "execution_count": null,
   "id": "09ac5b72",
   "metadata": {},
   "outputs": [],
   "source": [
    "cols = ['phase','trial_index','time_since_first_REST']\n",
    "df1 = dfev.loc[loc['ph'].loc[loc['cti']].index]\n",
    "\n",
    "beh_phprev = dfph.phase.shift(1)\n",
    "beh_crest = (dfph['phase'] == 'REST') & ( beh_phprev.isin( ['ITI','PAUSE','BREAK','TRAINING_END','MEG_start_trigger']) )\n",
    "\n",
    "df2 =  dfph.loc[beh_crest,cols]\n",
    "\n",
    "dfd,dfd_good,dfd_bad,paths = find_correspondence(df1.time_since_first_REST.values,\n",
    "                                                 df2.time_since_first_REST.values, std_mult =1.5)\n",
    "best_path = dtw.best_path(paths)\n",
    "display(dfd_bad)\n",
    "print( dfd.ind_diff.abs().max() )"
   ]
  },
  {
   "cell_type": "code",
   "execution_count": null,
   "id": "f4a29761",
   "metadata": {},
   "outputs": [],
   "source": [
    "tis = df2.iloc[dfd_bad.ind2.values]\n",
    "display(tis)\n",
    "tis = tis.trial_index\n",
    "#print(tis)\n",
    "ti = tis.values[0]\n",
    "print(ti)"
   ]
  },
  {
   "cell_type": "code",
   "execution_count": null,
   "id": "b8868306",
   "metadata": {},
   "outputs": [],
   "source": [
    "dfdtmp = dfd.query('ind1 != ind2')\n",
    "display(dfdtmp.iloc[0:3])\n",
    "tis = df2.iloc[dfdtmp.ind2.values].trial_index\n",
    "print(tis)\n",
    "ti = tis.values[0]\n",
    "print(ti)"
   ]
  },
  {
   "cell_type": "code",
   "execution_count": null,
   "id": "6ede1fa0",
   "metadata": {},
   "outputs": [],
   "source": []
  },
  {
   "cell_type": "code",
   "execution_count": null,
   "id": "fc65ec81",
   "metadata": {},
   "outputs": [],
   "source": [
    "cols = ['phase','trial_index','time_since_first_REST']\n",
    "df1 = dfev.query('phase == \"REST\"')\n",
    "\n",
    "beh_phprev = dfph.phase.shift(1)\n",
    "beh_crest = (dfph['phase'] == 'REST')# & \\\n",
    "    #( beh_phprev.isin( ['ITI','PAUSE','BREAK','TRAINING_END','MEG_start_trigger']) )\n",
    "\n",
    "df2 =  dfph.loc[beh_crest,cols]\n",
    "\n",
    "dfd,dfd_good,dfd_bad,paths = find_correspondence(df1.time_since_first_REST.values,\n",
    "                                                     df2.time_since_first_REST.values)\n",
    "best_path = dtw.best_path(paths)"
   ]
  },
  {
   "cell_type": "code",
   "execution_count": null,
   "id": "e69eafc9",
   "metadata": {},
   "outputs": [],
   "source": [
    "tis = df2.iloc[dfd_bad.ind2.values].trial_index\n",
    "print(tis)\n",
    "ti = tis.values[0]"
   ]
  },
  {
   "cell_type": "code",
   "execution_count": null,
   "id": "e99e42dc",
   "metadata": {},
   "outputs": [],
   "source": [
    "from behav_proc import compDf\n",
    "t1,t2 = ti-2,ti+2\n",
    "qs = 'trial_index >= @t1 and trial_index <= @t2'\n",
    "compDf(df1.query(qs),df2.query(qs), ['trial_index','time_since_first_REST'])"
   ]
  },
  {
   "cell_type": "code",
   "execution_count": null,
   "id": "4e679398",
   "metadata": {},
   "outputs": [],
   "source": [
    "dfd_bad"
   ]
  },
  {
   "cell_type": "code",
   "execution_count": null,
   "id": "e516534d",
   "metadata": {},
   "outputs": [],
   "source": [
    "len(dfev.query('phase == \"REST\"')),len(dfph.query('phase == \"REST\"'))"
   ]
  },
  {
   "cell_type": "code",
   "execution_count": null,
   "id": "444f9849",
   "metadata": {},
   "outputs": [],
   "source": [
    "# 30 subject has \"script restarted in log\""
   ]
  },
  {
   "cell_type": "markdown",
   "id": "3146ac9d",
   "metadata": {
    "heading_collapsed": true
   },
   "source": [
    "# table "
   ]
  },
  {
   "cell_type": "code",
   "execution_count": null,
   "id": "64ff6f00",
   "metadata": {
    "code_folding": [],
    "hidden": true,
    "run_control": {
     "marked": false
    }
   },
   "outputs": [],
   "source": [
    "dfmax = []\n",
    "for subj, vs in subj2all.items():\n",
    "    d = {}\n",
    "    d['subj']= subj\n",
    "    \n",
    "    if 'rs' in vs:\n",
    "        df,dftriglog, df_trialinfoseq_params, \\\n",
    "            params, phase2trigger, trigger2phase, CONTEXT_TRIGGER_DICT = vs['rs'][-1]\n",
    "        dfev = vs['dfev']        \n",
    "\n",
    "        dfevm,dfm = dfev['trial_index'].max(), df['trial_index'].max()\n",
    "        d['ti_max_beh'] = dfm\n",
    "        d['ti_max_ev'] = dfevm\n",
    "\n",
    "        m1 = df_trialinfoseq_params['trial_index'].max()\n",
    "        d['ti_max_par'] = m1\n",
    "\n",
    "        if 'lf' in vs:\n",
    "            k = 'lf'            \n",
    "            d['len_ts_di']     = len( vs[k]['ts_di']     )\n",
    "            d['len_ts_di_off'] = len( vs[k]['ts_di_off'] )\n",
    "            d['err'] = vs.get('excsfmt','\\n\\n').split('\\n')[-2]    \n",
    "        elif  'loc_events2df' in vs:\n",
    "            k = 'loc_events2df'\n",
    "            d['len_ts_di']     = len( vs[k]['ts_di_']     )\n",
    "            d['len_ts_di_off'] = len( vs[k]['ts_di_off_'] )            \n",
    "            \n",
    "            #d['len_ts_di']     = len( vs[k]['ts_di']     )\n",
    "            #d['len_ts_di_off'] = len( vs[k]['ts_di_off'] )\n",
    "\n",
    "        \n",
    "    \n",
    "    d['err0'] = vs.get('excsfmt_readbehav','\\n\\n').split('\\n')[-2]\n",
    "    d['timemeg_inc'] = np.all(np.diff(vs['dat_time'] ) [1:] > 0)\n",
    "    d['timemeg_inc2'] = np.all(np.diff(vs['dat_time'][0,dfev['nsample']] )[1:])\n",
    "    d['nsample_inc'] = (dfev['nsample'].diff()[1:] > 0).all()\n",
    "    \n",
    "    dfmax += [d]\n",
    "dfmax = pd.DataFrame(dfmax)\n",
    "dfmax['beh_m_ev'] = dfmax['ti_max_beh'] - dfmax['ti_max_ev']\n",
    "dfmax['dion_m_off'] = dfmax['len_ts_di'] - dfmax['len_ts_di_off']\n",
    "dfmax['beh_m_dion'] = dfmax['ti_max_beh'] - dfmax['len_ts_di']\n",
    "dfmax['ev_m_dion'] = dfmax['ti_max_ev'] - dfmax['len_ts_di']\n",
    "dfmax"
   ]
  },
  {
   "cell_type": "code",
   "execution_count": null,
   "id": "13e0858d",
   "metadata": {
    "hidden": true
   },
   "outputs": [],
   "source": [
    "# 16 Participant made 1 training, we did restart, another training + 1 block \n",
    "#  (maybe incomplete), restart from beginning (there was a problem with diode in the     beginning\n",
    "# 18 had to redo training\n",
    "# 19 -- nothing in comments, but maybe extra training?\n",
    "# 30 restarted in the middle of block beacause diode was not working\n",
    "# 18,19,  30"
   ]
  },
  {
   "cell_type": "code",
   "execution_count": null,
   "id": "9f7b0fa5",
   "metadata": {
    "hidden": true
   },
   "outputs": [],
   "source": [
    "subj = '2023-SE2-010'\n",
    "#vs= subj2all['2023-SE2-024']\n",
    "#vs= subj2all['2023-SE2-023']\n",
    "#vs= subj2all['2023-SE2-002']\n",
    "vs= subj2all[subj]\n",
    "if 'lf' in vs:\n",
    "    print('exc was')\n",
    "    k = 'lf'            \n",
    "    d['len_ts_di']     = len( vs[k]['ts_di']     )\n",
    "    d['len_ts_di_off'] = len( vs[k]['ts_di_off'] )\n",
    "elif  'loc_events2df' in vs:\n",
    "    print('good')\n",
    "    k = 'loc_events2df'\n",
    "    d['len_ts_di']     = len( vs[k]['ts_di_']     )\n",
    "    d['len_ts_di_off'] = len( vs[k]['ts_di_off_'] )\n",
    "    \n",
    "dat_time = vs['dat_time']\n",
    "dfev = vs['dfev']\n",
    "df = vs['df']"
   ]
  },
  {
   "cell_type": "code",
   "execution_count": null,
   "id": "413ae547",
   "metadata": {
    "hidden": true
   },
   "outputs": [],
   "source": [
    "(dfev['nsample'].diff()[1:] > 0).all()"
   ]
  },
  {
   "cell_type": "code",
   "execution_count": null,
   "id": "c8cfad1c",
   "metadata": {
    "hidden": true
   },
   "outputs": [],
   "source": [
    "np.all(np.diff(dat_time[0,dfev['nsample']] )[1:])"
   ]
  },
  {
   "cell_type": "code",
   "execution_count": null,
   "id": "2985735d",
   "metadata": {
    "hidden": true
   },
   "outputs": [],
   "source": [
    "\n",
    "#################\n",
    "c = dfev['phase'] != dfev['phase'].shift(1)\n",
    "c[0] = False\n",
    "dfev['phase_ind'] = np.cumsum(c)\n",
    "dfevph = aggRows(dfev, 'time', 'max', colgrp = 'phase_ind')\n",
    "\n",
    "print( (dfev['nsample'].diff()[1:] > 0).all())\n",
    "#print( (dfev['time_megchan'].diff()[1:] > 0).all() )"
   ]
  },
  {
   "cell_type": "code",
   "execution_count": null,
   "id": "ef896d2b",
   "metadata": {
    "hidden": true
   },
   "outputs": [],
   "source": [
    "dfph.plot(y='time_since_first_REST')"
   ]
  },
  {
   "cell_type": "code",
   "execution_count": null,
   "id": "e4618b0e",
   "metadata": {
    "hidden": true
   },
   "outputs": [],
   "source": [
    "dfev.plot(y='time_since_first_REST')"
   ]
  },
  {
   "cell_type": "code",
   "execution_count": null,
   "id": "b4032138",
   "metadata": {
    "hidden": true
   },
   "outputs": [],
   "source": [
    "subj"
   ]
  },
  {
   "cell_type": "code",
   "execution_count": null,
   "id": "b98aaab8",
   "metadata": {
    "hidden": true
   },
   "outputs": [],
   "source": [
    "#ts_ev = vs[k]['ts_ev']\n",
    "ts_ev = vs[k]['mvt_starts_megtrig']['time_since_first_REST'].values\n",
    "ts_di = vs[k]['ts_di']\n",
    "assert (np.diff( ts_ev ) > 0).all()\n",
    "assert (np.diff( ts_di ) > 0).all()\n",
    "len(ts_ev),len(ts_di)"
   ]
  },
  {
   "cell_type": "code",
   "execution_count": null,
   "id": "900078f5",
   "metadata": {
    "hidden": true
   },
   "outputs": [],
   "source": [
    "#ts_ev = vs[k]['ts_ev']\n",
    "ts_ev = vs[k]['iti_starts_megtrig']['time_since_first_REST'].values\n",
    "ts_di = vs[k]['ts_di_off']\n",
    "assert (np.diff( ts_ev ) > 0).all()\n",
    "assert (np.diff( ts_di ) > 0).all()\n",
    "len(ts_ev),len(ts_di)"
   ]
  },
  {
   "cell_type": "code",
   "execution_count": null,
   "id": "c3f02f59",
   "metadata": {
    "code_folding": [],
    "hidden": true,
    "run_control": {
     "marked": false
    }
   },
   "outputs": [],
   "source": [
    "from meg_proc import find_correspondence\n",
    "    #return correspondences,paths\n",
    "\n",
    "max_dist = 30 # Define your max distance threshold\n",
    "\n",
    "#sl = slice(475,484)\n",
    "#sl = slice(850,856)\n",
    "sl = slice(None)\n",
    "\n",
    "arr1 = dfev.query('phase == \"REST\"')['time_since_first_REST'].values\n",
    "arr2 = dfph.query('phase == \"REST\"')['time_since_first_REST'].values\n",
    "\n",
    "#arr1,arr2 = ts_ev[sl], ts_di[sl]\n",
    "dfd,dfd_good,dfd_bad,paths = find_correspondence(arr1, arr2, max_dist)\n",
    "best_path = dtw.best_path(paths)\n",
    "print(len(dfd))\n",
    "#print(corr_inds)\n",
    "\n",
    "#dfd.query('dist > 1.')"
   ]
  },
  {
   "cell_type": "code",
   "execution_count": null,
   "id": "6ac7eb2d",
   "metadata": {
    "hidden": true
   },
   "outputs": [],
   "source": [
    "dfd['dist'].describe()"
   ]
  },
  {
   "cell_type": "code",
   "execution_count": null,
   "id": "3799a4cb",
   "metadata": {
    "hidden": true
   },
   "outputs": [],
   "source": [
    "dfd_bad = dfd[dfd['dist'] > dfd['dist'].max() * 0.95]\n",
    "# ind1 is index in ts_ev\n",
    "ind1 = dfd_bad['ind1'].values[0]\n",
    "dfd_bad"
   ]
  },
  {
   "cell_type": "code",
   "execution_count": null,
   "id": "3a0b5d45",
   "metadata": {
    "hidden": true
   },
   "outputs": [],
   "source": [
    "ti = vs[k]['iti_starts_megtrig'].reset_index().iloc[ind1]['trial_index']\n",
    "ti = int(ti)\n",
    "print(ti)"
   ]
  },
  {
   "cell_type": "code",
   "execution_count": null,
   "id": "132ef191",
   "metadata": {
    "hidden": true
   },
   "outputs": [],
   "source": [
    "dtwvis.plot_warping(arr1, arr2, best_path)"
   ]
  },
  {
   "cell_type": "code",
   "execution_count": null,
   "id": "8145a265",
   "metadata": {
    "hidden": true
   },
   "outputs": [],
   "source": [
    "fig = plt.figure(figsize=(6,6))\n",
    "dtwvis.plot_warpingpaths(arr1, arr2, paths, best_path, figure =fig)"
   ]
  },
  {
   "cell_type": "code",
   "execution_count": null,
   "id": "2b92771e",
   "metadata": {
    "hidden": true
   },
   "outputs": [],
   "source": [
    "paths.shape"
   ]
  },
  {
   "cell_type": "code",
   "execution_count": null,
   "id": "b570e167",
   "metadata": {
    "hidden": true
   },
   "outputs": [],
   "source": []
  },
  {
   "cell_type": "code",
   "execution_count": null,
   "id": "db33c23a",
   "metadata": {
    "hidden": true
   },
   "outputs": [],
   "source": []
  },
  {
   "cell_type": "code",
   "execution_count": null,
   "id": "eaad8be7",
   "metadata": {
    "hidden": true,
    "run_control": {
     "marked": true
    }
   },
   "outputs": [],
   "source": [
    "from meg_proc import read_final_rwd_info_MEG_CC\n",
    "\n",
    "fnf = pjoin(path_behav,fnb+'.log')\n",
    "print(path_behav)\n",
    "read_final_rwd_info_MEG_CC(fnf)"
   ]
  },
  {
   "cell_type": "code",
   "execution_count": null,
   "id": "8b695089",
   "metadata": {
    "hidden": true
   },
   "outputs": [],
   "source": []
  },
  {
   "cell_type": "code",
   "execution_count": null,
   "id": "28e8ed1c",
   "metadata": {
    "hidden": true
   },
   "outputs": [],
   "source": [
    "# Combine the phase columns to find all unique phases across both datasets\n",
    "#all_phases = pd.concat([dfph['phase'], dfevph['phase']]).unique()\n",
    "#all_phases = pd.concat([dfph_diext['phase'], dfevph_diext['phase']]).unique()\n",
    "#display(all_phases)\n",
    "all_phases = ['diode_OFF_to_ON','diode_ON_to_OFF',\n",
    "              'TRAINING_START', 'REST',\n",
    "       'GO_CUE_WAIT_AND_SHOW', 'TARGET_AND_FEEDBACK', \n",
    "       'ITI', 'TRAINING_END', 'BREAK', 'MEG_start_trigger_native', np.nan,\n",
    "       'MEG_start_trigger']\n",
    "\n",
    "\n",
    "# Assign a unique color and marker to each phase\n",
    "colors = plt.cm.get_cmap('tab20', len(all_phases))\n",
    "bms = ['<','>','^', 'v','o', 's', \n",
    "           'D',  '*', 'P', 'X','1','2']\n",
    "markers = bms * (len(all_phases) // len(bms) + 1)\n",
    "phase_color_marker = {phase: (colors(i), markers[i]) for i, phase in enumerate(all_phases)}"
   ]
  },
  {
   "cell_type": "markdown",
   "id": "3498bc26",
   "metadata": {
    "heading_collapsed": true
   },
   "source": [
    "# Plot one dataset"
   ]
  },
  {
   "cell_type": "code",
   "execution_count": null,
   "id": "a83ba04e",
   "metadata": {
    "code_folding": [],
    "hidden": true
   },
   "outputs": [],
   "source": [
    "# trial-based\n",
    "#time_since_prev_phase\n",
    "cols = ['trial_index','phase_ind','phase','time_since_first_REST']#,'time']\n",
    "ti1,ti2 = max(0,ti-2),ti+2\n",
    "\n",
    "#ti1,ti2 = 149-2,149+2\n",
    "#ti1,ti2 = 0,3\n",
    "#dftmp1 = dfph[cols].query('trial_index <= @ti2 and trial_index >= @ti1')\n",
    "print('trials ',ti1,ti2)\n",
    "#dftmp2 = dfevph[cols].query('trial_index <= @ti2 and trial_index >= @ti1')\n",
    "dftmp2 = dfph[cols].query('trial_index <= @ti2 and trial_index >= @ti1')\n",
    "#[cols].iloc[sl],dfevph[cols].iloc[sl]\n",
    "\n",
    "#from behav_proc import compDf\n",
    "#compDf(dftmp1,dftmp2,cols, cols_to_comp=['trial_index','phase'])"
   ]
  },
  {
   "cell_type": "code",
   "execution_count": null,
   "id": "24116686",
   "metadata": {
    "hidden": true
   },
   "outputs": [],
   "source": [
    "dftmp2"
   ]
  },
  {
   "cell_type": "code",
   "execution_count": null,
   "id": "8dbfcc8d",
   "metadata": {
    "hidden": true
   },
   "outputs": [],
   "source": [
    "# Visualize: Create a plot for each dataset\n",
    "fig, axs = plt.subplots(3, 1, figsize=(15, 8), sharex=True)\n",
    "fig.suptitle('Phase Occurrences Over Time')\n",
    "\n",
    "dfdi = loc['dfdi']\n",
    "\n",
    "# Plot for the first dataset\n",
    "# for phase, (color, marker) in phase_color_marker.items():\n",
    "#     subset = dftmp1[dftmp1['phase'] == phase]\n",
    "#     if not subset.empty:\n",
    "#         axs[0].scatter(subset['time_since_first_REST'], [phase]*len(subset), color=color, marker=marker, label=phase)\n",
    "\n",
    "# Plot for the second dataset, using the adjusted time\n",
    "for phase, (color, marker) in phase_color_marker.items():\n",
    "    subset = dftmp2[dftmp2['phase'] == phase]\n",
    "    if not subset.empty:\n",
    "        axs[1].scatter(subset['time_since_first_REST'], [phase]*len(subset), color=color, marker=marker, label=phase)\n",
    "\n",
    "    #df_diode[]\n",
    "\n",
    "xlim = axs[0].get_xlim()\n",
    "axs[2].plot(dfdi['time_since_first_REST'], dfdi['diode'])\n",
    "\n",
    "#axs[0].plot(df['time_since_first_REST']  ,  df['error_distance'])\n",
    "axs[0].plot(df['time_since_first_REST']  ,  df['jax1']**2 + df['jax2']**2)\n",
    "#axs[0].plot(df['time_since_first_REST']  ,  df['jax2'])\n",
    "    \n",
    "#axs[0].vlines( dftmp1.loc[dftmp1['phase'] == 'ITI','time_since_first_REST'],0,4, ls=':')        \n",
    "for ax in axs:\n",
    "    a,b = ax.get_ylim()\n",
    "    ax.vlines( dftmp2.loc[dftmp2['phase'] == 'TARGET_AND_FEEDBACK','time_since_first_REST'],a,b, ls=':',\n",
    "             color = 'k')\n",
    "    ax.vlines( dftmp2.loc[dftmp2['phase'] == 'ITI','time_since_first_REST'],a,b, ls=':',\n",
    "             color = 'k')\n",
    "        \n",
    "axs[0].set_title('First Dataset (dfph)')\n",
    "axs[0].legend(loc='upper left', bbox_to_anchor=(1, 1))\n",
    "axs[0].set_ylabel('Phase')\n",
    "\n",
    "axs[1].set_title('Second Dataset (dfevph)')\n",
    "axs[1].legend(loc='upper left', bbox_to_anchor=(1, 1))\n",
    "axs[1].set_xlabel('Time')\n",
    "axs[1].set_ylabel('Phase')\n",
    "\n",
    "for ax in axs:\n",
    "    #ax.set_xlim(100,117)\n",
    "    ax.set_xlim(xlim)\n",
    "\n",
    "plt.tight_layout(rect=[0, 0, 0.85, 0.95])\n",
    "plt.show()"
   ]
  },
  {
   "cell_type": "code",
   "execution_count": null,
   "id": "c1d12884",
   "metadata": {
    "hidden": true
   },
   "outputs": [],
   "source": [
    "dfev.query('trial_index >= 482 and trial_index <= 482')"
   ]
  },
  {
   "cell_type": "code",
   "execution_count": null,
   "id": "547b88ee",
   "metadata": {
    "hidden": true,
    "run_control": {
     "marked": true
    }
   },
   "outputs": [],
   "source": [
    "assert not dfev.duplicated('nsample').any()"
   ]
  },
  {
   "cell_type": "code",
   "execution_count": null,
   "id": "9b731e4b",
   "metadata": {
    "hidden": true
   },
   "outputs": [],
   "source": []
  },
  {
   "cell_type": "code",
   "execution_count": null,
   "id": "d10332c4",
   "metadata": {
    "hidden": true,
    "run_control": {
     "marked": true
    }
   },
   "outputs": [],
   "source": [
    "if params['subject'] == '2023-SE2-002':\n",
    "    cti = dfev['nsample'] == 1184635\n",
    "    dfev.loc[cti, 'trigger'] = 44 #ITI\n",
    "dfev.loc[cti, 'tgti_to_show'] = 0 #ITI\n",
    "dfev.loc[cti, 'phase'] = 'ITI\n",
    "dfev.loc[cti, 'trial_info'] = ('perturbation', 'rot-20', 0, 'ITI')"
   ]
  },
  {
   "cell_type": "code",
   "execution_count": null,
   "id": "de4aaea6",
   "metadata": {
    "hidden": true
   },
   "outputs": [],
   "source": []
  },
  {
   "cell_type": "code",
   "execution_count": null,
   "id": "c4e7fb0d",
   "metadata": {
    "hidden": true
   },
   "outputs": [],
   "source": []
  },
  {
   "cell_type": "markdown",
   "id": "9cd6b1f5",
   "metadata": {},
   "source": [
    "# Two datasets"
   ]
  },
  {
   "cell_type": "code",
   "execution_count": null,
   "id": "b73743c4",
   "metadata": {},
   "outputs": [],
   "source": [
    "tis"
   ]
  },
  {
   "cell_type": "code",
   "execution_count": null,
   "id": "61951b5a",
   "metadata": {},
   "outputs": [],
   "source": [
    "# trial-based\n",
    "#time_since_prev_phase\n",
    "cols = ['trial_index','phase_ind','phase','time_since_first_REST']#,'time']\n",
    "ti1,ti2 = max(0,ti-2),ti+2; print('ti = ',ti)\n",
    "\n",
    "\n",
    "#ti1,ti2 = 0, 11\n",
    "#ti1,ti2 = 0, 1\n",
    "ti1,ti2 = 896, 900\n",
    "\n",
    "#ti1,ti2 = 13,16\n",
    "#ti1,ti2 = 147-2,148\n",
    "#ti1,ti2 = 0,12\n",
    "#ti1,ti2 = 0,3\n",
    "#dftmp1 = dfph[cols].query('trial_index <= @ti2 and trial_index >= @ti1')\n",
    "print('trials ',ti1,ti2)\n",
    "qs = 'trial_index <= @ti2 and trial_index >= @ti1'\n",
    "dftmp1 = dfev[cols].query(qs)\n",
    "dftmp2 = dfph[cols].query(qs)\n",
    "#[cols].iloc[sl],dfevph[cols].iloc[sl]\n",
    "\n",
    "#from behav_proc import compDf\n",
    "#compDf(dftmp1,dftmp2,cols, cols_to_comp=['trial_index','phase'])"
   ]
  },
  {
   "cell_type": "code",
   "execution_count": null,
   "id": "d4fed8ff",
   "metadata": {},
   "outputs": [],
   "source": [
    "dfev['trial_index'].max(), dfph['trial_index'].max()"
   ]
  },
  {
   "cell_type": "code",
   "execution_count": null,
   "id": "8ad45f78",
   "metadata": {},
   "outputs": [],
   "source": [
    "subj"
   ]
  },
  {
   "cell_type": "code",
   "execution_count": null,
   "id": "fb138571",
   "metadata": {
    "code_folding": [
     1
    ]
   },
   "outputs": [],
   "source": [
    "stupid_align = 0\n",
    "if subj == '2023-SE2-018' and stupid_align:\n",
    "    # ALIGN second trial\n",
    "    row = dfev.query('nsample == 5332') # GO_CUE_WAIT_AND_SHOW on second trial\n",
    "    assert row['phase'].values[0] == 'GO_CUE_WAIT_AND_SHOW'\n",
    "    t = row['time_since_first_REST'].values[0]\n",
    "\n",
    "    row2 = dfph.query('phase == \"GO_CUE_WAIT_AND_SHOW\" and trial_index == 2')\n",
    "    tbeh = row2['time_since_first_REST'].values[0]\n",
    "\n",
    "    dif = t - tbeh\n",
    "    print(dif)\n",
    "    df.loc[df.query('time_since_first_REST >= @tbeh').index, 'time_since_first_REST'] += dif\n",
    "    dfph.loc[dfph.query('time_since_first_REST >= @tbeh').index, 'time_since_first_REST'] += dif\n",
    "\n",
    "    # ALIGN after TRAINING\n",
    "\n",
    "    # in defev jump happens at nsample = 58007 (phase = MEG_start_trigger)\n",
    "    #in dfev   REST after MEG_start_trigger\n",
    "    # nsample = 60715\n",
    "    row = dfev.query('nsample == 60715')\n",
    "    assert row['phase'].values[0] == 'REST'\n",
    "    t = row['time_since_first_REST'].values[0]\n",
    "\n",
    "    row2 = dfph.query('phase == \"REST\" and phase.shift(1) == \"TRAINING_END\" and trial_index <= 14 and trial_index > 1')\n",
    "    tbeh = row2['time_since_first_REST'].values[0]\n",
    "    dif = t - tbeh\n",
    "    df.loc[df.query('time_since_first_REST >= @tbeh').index, 'time_since_first_REST'] += dif\n",
    "    dfph.loc[dfph.query('time_since_first_REST >= @tbeh').index, 'time_since_first_REST'] += dif\n",
    "    print(t,tbeh)"
   ]
  },
  {
   "cell_type": "markdown",
   "id": "9d704ea3",
   "metadata": {},
   "source": [
    "### tmp"
   ]
  },
  {
   "cell_type": "code",
   "execution_count": null,
   "id": "4f9b9d98",
   "metadata": {},
   "outputs": [],
   "source": [
    "ax = plt.gca()\n",
    "t = 870\n",
    "#t = 15\n",
    "dfph.query('trial_index <= @t').plot(x='time_since_first_REST',y=['phase_ind'], ax = ax)\n",
    "# event based is red\n",
    "dfev.query('trial_index <= @t').plot(x='time_since_first_REST',y=['phase_ind'], ax = ax, color='red')"
   ]
  },
  {
   "cell_type": "code",
   "execution_count": null,
   "id": "51311588",
   "metadata": {},
   "outputs": [],
   "source": [
    "dftmp = dfev.query(qs).copy()\n",
    "dftmp['crest'] = loc['crest'].loc[dftmp.index]\n",
    "\n",
    "dftmp[['trial_index','trigger','phase','prev_phase','crest',\n",
    "       'phase_ind','time_since_first_REST','nsample']]"
   ]
  },
  {
   "cell_type": "code",
   "execution_count": null,
   "id": "c8139bbb",
   "metadata": {},
   "outputs": [],
   "source": [
    "dfph.query(qs)[['trial_index','phase','phase_ind','time_since_first_REST','trial_type','time','time_abs']]"
   ]
  },
  {
   "cell_type": "markdown",
   "id": "61bda5d2",
   "metadata": {
    "run_control": {
     "marked": true
    }
   },
   "source": [
    "###   f"
   ]
  },
  {
   "cell_type": "code",
   "execution_count": null,
   "id": "beb1beea",
   "metadata": {
    "run_control": {
     "marked": false
    }
   },
   "outputs": [],
   "source": [
    "times_crest = dfev.loc[loc['ph'].loc[loc['cti']].index].query(qs)['time_since_first_REST']\n",
    "\n",
    "# Visualize: Create a plot for each dataset\n",
    "fig, axs = plt.subplots(4, 1, figsize=(15, 10), sharex=True)\n",
    "fig.suptitle('Phase Occurrences Over Time')\n",
    "\n",
    "dfdi = loc['dfdi']\n",
    "\n",
    "##Plot for the first dataset\n",
    "for phase, (color, marker) in phase_color_marker.items():\n",
    "    subset = dftmp1[dftmp1['phase'] == phase]\n",
    "    if not subset.empty:\n",
    "        axs[0].scatter(subset['time_since_first_REST'], [phase]*len(subset), color=color, marker=marker, label=phase)\n",
    "\n",
    "# Plot for the second dataset, using the adjusted time\n",
    "for phase, (color, marker) in phase_color_marker.items():\n",
    "    subset = dftmp2[dftmp2['phase'] == phase]\n",
    "    if not subset.empty:\n",
    "        axs[1].scatter(subset['time_since_first_REST'], [phase]*len(subset), color=color, marker=marker, label=phase)\n",
    "\n",
    "    #df_diode[]\n",
    "\n",
    "xlim = axs[0].get_xlim()\n",
    "#axs[2].plot(vs[k]['dfdi']['time_since_first_REST'], vs[k]['dfdi']['diode'])\n",
    "\n",
    "axs[2].plot(dfdi['time_since_first_REST'], dfdi['diode'])\n",
    "axs[3].plot(df['time_since_first_REST']  ,  df['jax1']**2 + df['jax2']**2)\n",
    "\n",
    "#axs[0].plot(df['time_since_first_REST']  ,  df['jax2'])\n",
    "    \n",
    "#axs[0].vlines( dftmp1.loc[dftmp1['phase'] == 'ITI','time_since_first_REST'],0,4, ls=':')        \n",
    "for ax in axs:\n",
    "    a,b = ax.get_ylim()\n",
    "    a1,b1 = a, a+(b-a)/2\n",
    "    a2,b2 = a+(b-a)/2,b\n",
    "    ax.vlines( dftmp2.loc[dftmp2['phase'] == 'TARGET_AND_FEEDBACK','time_since_first_REST'],a1,b1, ls=':',\n",
    "             color = 'k')\n",
    "    ax.vlines( dftmp2.loc[dftmp2['phase'] == 'ITI','time_since_first_REST'],a1,b1, ls=':',\n",
    "             color = 'k',label='dftmp2')\n",
    "    \n",
    "    ax.vlines( dftmp1.loc[dftmp1['phase'] == 'TARGET_AND_FEEDBACK','time_since_first_REST'],a2,b2, ls=':',\n",
    "             color = 'r')\n",
    "    ax.vlines( dftmp1.loc[dftmp1['phase'] == 'ITI','time_since_first_REST'],a2,b2, ls=':',\n",
    "             color = 'r',label='dftmp1')\n",
    "    \n",
    "    ax.vlines( times_crest,a2,b2, ls='--',\n",
    "             color = 'r')\n",
    "    \n",
    "        \n",
    "axs[0].set_title('First Dataset (dfev)')\n",
    "axs[0].legend(loc='upper left', bbox_to_anchor=(1, 1))\n",
    "axs[0].set_ylabel('Phase')\n",
    "\n",
    "axs[1].set_title('Second Dataset (dfph)')\n",
    "axs[1].legend(loc='upper left', bbox_to_anchor=(1, 1))\n",
    "axs[1].set_xlabel('Time')\n",
    "axs[1].set_ylabel('Phase')\n",
    "\n",
    "for ax in axs:\n",
    "    #ax.set_xlim(100,117)\n",
    "    ax.set_xlim(xlim)\n",
    "\n",
    "plt.tight_layout(rect=[0, 0, 0.85, 0.95])\n",
    "plt.show()"
   ]
  },
  {
   "cell_type": "code",
   "execution_count": null,
   "id": "8763c89d",
   "metadata": {},
   "outputs": [],
   "source": [
    "#018 on second trial in dfph missing post-REST phases. \n",
    "# looks like there was almost no cursor mvt but the diode turn on and off"
   ]
  },
  {
   "cell_type": "code",
   "execution_count": null,
   "id": "bbc7b442",
   "metadata": {},
   "outputs": [],
   "source": [
    "dfph.query('trial_index <= 4')[cols]"
   ]
  },
  {
   "cell_type": "code",
   "execution_count": null,
   "id": "40bd72b2",
   "metadata": {},
   "outputs": [],
   "source": []
  },
  {
   "cell_type": "code",
   "execution_count": null,
   "id": "efd323d4",
   "metadata": {},
   "outputs": [],
   "source": [
    "p = '/home/demitau/data_Quentin/full_experiments/data2/prl_'\n",
    "for ind in range(2):\n",
    "    fnf = p + str(ind)  + '.npz'\n",
    "    print(fnf)\n",
    "    f = np.load(fnf, allow_pickle=True)\n",
    "    ff = f['arr_0']\n",
    "    \n",
    "\n",
    "    prl2 = []\n",
    "    for i in range(len(ff)):\n",
    "        summ = ff[i]['res'].summary() #remove_data()\n",
    "        prl2 += [summ]\n",
    "\n",
    "\n",
    "    np.savez(fnf,prl2)"
   ]
  },
  {
   "cell_type": "code",
   "execution_count": null,
   "id": "1d336b69",
   "metadata": {},
   "outputs": [],
   "source": [
    "    for i in range(len(ff)):\n",
    "        try:\n",
    "            ff[i]['res'].remove_data()\n",
    "        except AttributeError as e:\n",
    "            print(i,'not')\n"
   ]
  },
  {
   "cell_type": "code",
   "execution_count": null,
   "id": "c4fda29c",
   "metadata": {},
   "outputs": [],
   "source": [
    "res.remove_data?"
   ]
  },
  {
   "cell_type": "code",
   "execution_count": null,
   "id": "b1d7ded7",
   "metadata": {},
   "outputs": [],
   "source": [
    "res._results.model.data = None\n",
    "res._results.model.row_indices = None\n",
    "res._results.model.endog_li = None\n",
    "res._results.model.exog_li = None\n",
    "res._results.model.exog_re_li = None\n",
    "res._results.model._quad = None\n",
    "res._results.model._endex_li = None\n",
    "res._results.model._aex_r = None"
   ]
  },
  {
   "cell_type": "code",
   "execution_count": null,
   "id": "645b546a",
   "metadata": {},
   "outputs": [],
   "source": [
    "res.summary()"
   ]
  },
  {
   "cell_type": "code",
   "execution_count": null,
   "id": "cd195a3e",
   "metadata": {},
   "outputs": [],
   "source": [
    "display(vars(vs['_results'].model ))"
   ]
  },
  {
   "cell_type": "code",
   "execution_count": null,
   "id": "4af41836",
   "metadata": {},
   "outputs": [],
   "source": [
    "vs.keys()"
   ]
  }
 ],
 "metadata": {
  "kernelspec": {
   "display_name": "merr3_mamba",
   "language": "python",
   "name": "merr3_mamba"
  },
  "language_info": {
   "codemirror_mode": {
    "name": "ipython",
    "version": 3
   },
   "file_extension": ".py",
   "mimetype": "text/x-python",
   "name": "python",
   "nbconvert_exporter": "python",
   "pygments_lexer": "ipython3",
   "version": "3.11.5"
  }
 },
 "nbformat": 4,
 "nbformat_minor": 5
}
