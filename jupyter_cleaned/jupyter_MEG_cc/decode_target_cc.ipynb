{
 "cells": [
  {
   "cell_type": "code",
   "execution_count": null,
   "id": "fa617706",
   "metadata": {},
   "outputs": [],
   "source": [
    "%load_ext autoreload\n",
    "%autoreload 2"
   ]
  },
  {
   "cell_type": "code",
   "execution_count": null,
   "id": "f26c35d9",
   "metadata": {},
   "outputs": [],
   "source": [
    "import os\n",
    "ipy = get_ipython()\n",
    "from os.path import join as pjoin\n",
    "import os,sys; sys.path.append(os.path.expandvars('$CODE_MEMORY_ERRORS'))\n",
    "import error_sensitivity\n",
    "import re\n",
    "import numpy as np\n",
    "\n",
    "scripts_dir = pjoin( os.path.expandvars('$CODE_MEMORY_ERRORS'))\n",
    "\n",
    "import matplotlib.pyplot as plt\n",
    "import seaborn as sns\n",
    "print('seaborn ver = ', sns.__version__)\n",
    "#assert sns.__version__ == '0.12.2', sns.__version__\n",
    "import matplotlib as mpl\n",
    "\n",
    "def mplresestcol():\n",
    "    COLOR = 'black'\n",
    "    COLOR_INV = 'white'\n",
    "    mpl.rcParams['text.color'] = COLOR\n",
    "    mpl.rcParams['axes.labelcolor'] = COLOR\n",
    "    mpl.rcParams['xtick.color'] = COLOR\n",
    "    mpl.rcParams['ytick.color'] = COLOR\n",
    "    mpl.rcParams[\"figure.facecolor\"] = COLOR_INV\n",
    "    mpl.rcParams[\"axes.facecolor\"] = COLOR_INV\n",
    "\n",
    "mplresestcol()"
   ]
  },
  {
   "cell_type": "code",
   "execution_count": null,
   "id": "d11919dd",
   "metadata": {
    "code_folding": [
     29
    ],
    "run_control": {
     "marked": false
    }
   },
   "outputs": [],
   "source": [
    "subj = 'pilot_Dmitrii_20230426'\n",
    "\n",
    "from glob import glob\n",
    "from pathlib import Path\n",
    "dmeg = '/home/demitau/data_Quentin/pilot_studies/context_change_MEG/'\n",
    "fnbs = []\n",
    "subjects = []\n",
    "subj2path = {}\n",
    "subj2dsnames = {}\n",
    "for fnf in os.scandir(dmeg):\n",
    "    if fnf.is_dir():\n",
    "        print(fnf, fnf.name)\n",
    "        subjects += [fnf.name]\n",
    "        subj2path[fnf.name] = fnf.path\n",
    "        \n",
    "        subj2dsnames[fnf.name] = []\n",
    "        \n",
    "        for fnf2 in os.scandir(fnf.path):\n",
    "            #print(fnf2.name)\n",
    "            if fnf2.name.endswith('.ds'):\n",
    "                subj2dsnames[fnf.name] += [fnf2.path]\n",
    "        subj2dsnames[fnf.name] = list(sorted(subj2dsnames[fnf.name]))\n",
    "    \n",
    "\n",
    "p = pjoin(subj2path[subj], 'preproc')\n",
    "#fnf = pjoin(p, f'decres_naive_{ph}_{vn}_{tmin:.2f}_{tmax:.2f}_{X.shape}_flt{freqs_flt}' )      \n",
    "\n",
    "fns = os.listdir(p)                                                                                                                                 \n",
    " # Loop through the list of files and extract the parts using regex groups                                                                           \n",
    "pattern = (r\"decres_naive_([A-Z_]+)_([a-z0-9_]+)_([0-9\\-]+\\.\\d+)_([\\d\\-]+\\.\\d+)_(\\(\\d+, \\d+, \\d+\\))\"                                                       \n",
    "        r\"_flt\\((.+)\\).npz\")\n",
    "\n",
    "res = []\n",
    "# Loop through the list of files and extract the parts using regex groups                                                                               \n",
    "for fn in fns:     \n",
    "    if not isinstance(fn,str):\n",
    "        continue\n",
    "    match = re.search(pattern, fn)   \n",
    "    #if fn.startswith('decres'):\n",
    "    #    print(fn)\n",
    "    if not match:                                                                                                                                   \n",
    "        continue                                                                                                                                    \n",
    "\n",
    "    f = np.load(pjoin(p,fn))\n",
    "    scores = f['scores']\n",
    "    scores_perm = f['scores_perm']\n",
    "        \n",
    "    ph = match.group(1) # The first group is the phase                                                                                           \n",
    "    vn = match.group(2) # The second group is the varn                                                                                            \n",
    "    tmin = float( match.group(3) ) # The third group is the tmin                                                                                             \n",
    "    tmax = float( match.group(4) ) # The fourth group is the tmax    \n",
    "    tlim = (tmin,tmax)\n",
    "    Xshape = match.group(5) # The fifth group is the Xshape      \n",
    "    freqs  = match.group(6) # The fifth group is the Xshape      \n",
    "    \n",
    "    td = None\n",
    "\n",
    "    print(match, Xshape, freqs, scores_perm.shape)\n",
    "    \n",
    "    scores_mean = scores.mean(0)\n",
    "    if scores_perm.ndim == 2:\n",
    "        scores_perm_mean = scores_perm.mean(0)\n",
    "    else:\n",
    "        scores_perm_mean = [None] * len(scores_mean)\n",
    "    \n",
    "    \n",
    "    #dt = (float(tmax) - float(tmin)) / eval(Xshape)[-2]\n",
    "    if 'times' in list(f.keys()):\n",
    "        ts = f['times'][::f['tskip'] ]\n",
    "    else:\n",
    "        ts = np.linspace( float(tmin), float(tmax), len(scores_mean))\n",
    "    assert len(ts) == len(scores_mean), (len(ts), len(scores_mean))\n",
    "    #ts\n",
    "    print(list(f.keys()))\n",
    "    \n",
    "    r = [(t, ph, vn, sm, smp, Xshape, freqs, *tlim, td) for t,sm,smp in zip(ts,scores_mean, scores_perm_mean)]\n",
    "    dftmp = pd.DataFrame(r, columns=['t','phase','varn','score','score_perm', \n",
    "                                     'Xshape','freqs','tmin', 'tmax', 'calc_dur'])               \n",
    "    \n",
    "    auxpars = ['nperm','nbfold','nbfolds_perm','decim','sfreq','tskip','n_jobs','td']\n",
    "    for ap in auxpars:\n",
    "        if ap in list( f.keys() ):\n",
    "            dftmp[ap] = f[ap]\n",
    "    \n",
    "    res += [dftmp]"
   ]
  },
  {
   "cell_type": "code",
   "execution_count": null,
   "id": "1affeeac",
   "metadata": {
    "run_control": {
     "marked": false
    }
   },
   "outputs": [],
   "source": [
    "import pandas as pd\n",
    "nperm = 6\n",
    "nbfold = 5\n",
    "\n",
    "#dfdecres['tmin'] = dfdecres['tlim'].apply(lambda x: x[0]) \n",
    "dfdecres = pd.concat(res,ignore_index=True)\n",
    "dfdecres"
   ]
  },
  {
   "cell_type": "code",
   "execution_count": null,
   "id": "e0098866",
   "metadata": {},
   "outputs": [],
   "source": [
    "import seaborn as sns\n",
    "fg= sns.relplot(data=dfdecres, kind='line', x='t', y='score', hue='varn', col='phase')\n",
    "for ax in fg.axes.flatten():\n",
    "    std = dfdecres['score_perm'].std()\n",
    "    ax.axhline(y=std , color='r', ls=':')\n",
    "    ax.axhline(y=-std , color='r', ls=':')\n",
    "#sns.relplot(data=dfdecres, kind='line', x='t', y='score_perm', hue='varn', col='phase', ax=fg.axes[0])"
   ]
  },
  {
   "cell_type": "code",
   "execution_count": null,
   "id": "45d09592",
   "metadata": {},
   "outputs": [],
   "source": [
    "fnp = 'pilot_Dmitrii_context_change_20230426_124646.param'\n",
    "path_behav = '/home/demitau/data_Quentin/pilot_studies/context_change_MEG/pilot_Dmitrii_20230426/behav'\n",
    "from behav_proc import readParamFiles, addBasicInfo, getGeomInfo\n",
    "params, phase2trigger, trigger2phase, CONTEXT_TRIGGER_DICT  = readParamFiles(fnp, path_behav)\n",
    "\n",
    "ITI_duration = float(params[\"ITI_duration\"])\n",
    "motor_prep_duration = float(params[\"motor_prep_duration\"])\n",
    "time_feedback = float(params[\"time_feedback\"])\n",
    "time_at_home = float(params[\"time_at_home\"])\n",
    "perf_feedback_duration = float(params[\"perf_feedback_duration\"])\n",
    "perf_notif_start_delay = float(params[\"perf_notif_start_delay\"])\n",
    "\n",
    "print(\"ITI_duration:\", ITI_duration)\n",
    "print(\"motor_prep_duration:\", motor_prep_duration)\n",
    "print(\"time_feedback:\", time_feedback)\n",
    "print(\"time_at_home:\", time_at_home)\n",
    "print(\"perf_feedback_duration:\", perf_feedback_duration)\n",
    "print(\"perf_notif_start_delay:\", perf_notif_start_delay)\n",
    "# REST, GOCUE, MVT, ITI"
   ]
  },
  {
   "cell_type": "code",
   "execution_count": null,
   "id": "16821235",
   "metadata": {},
   "outputs": [],
   "source": [
    "# This it is not really true in general beacause this can vary depending on what participant does\n",
    "ph2phst_rel_trialst = {'REST':0, 'GO_CUE_WAIT_AND_SHOW':time_at_home, \n",
    "                       'TARGET_AND_FEEDBACK':time_at_home+motor_prep_duration,\n",
    "                      'ITI':time_at_home+motor_prep_duration+time_feedback}\n",
    "ph2phst_rel_ITIst = {'REST':-time_feedback-motor_prep_duration-time_at_home, \n",
    "                     'GO_CUE_WAIT_AND_SHOW':-time_feedback-motor_prep_duration, \n",
    "                       'TARGET_AND_FEEDBACK':-time_feedback,\n",
    "                      'ITI':0, 'next_REST':ITI_duration,  \n",
    "                     'next_GO_CUE_WAIT_AND_SHOW':ITI_duration+time_at_home,\n",
    "                    'next_TARGET_AND_FEEDBACK':ITI_duration+time_at_home+motor_prep_duration,\n",
    "                    'next_ITI': ITI_duration+time_at_home+motor_prep_duration + time_feedback}\n",
    "\n",
    "#ph2offest = {''}\n",
    "#vlines_per_ph = {'ITI': }"
   ]
  },
  {
   "cell_type": "code",
   "execution_count": null,
   "id": "da37fc72",
   "metadata": {},
   "outputs": [],
   "source": [
    "dfdecres.groupby('varn')['score_perm'].std()"
   ]
  },
  {
   "cell_type": "code",
   "execution_count": null,
   "id": "ec1c6f01",
   "metadata": {},
   "outputs": [],
   "source": [
    "ylim = -0.15,0.3"
   ]
  },
  {
   "cell_type": "code",
   "execution_count": null,
   "id": "4b28c039",
   "metadata": {},
   "outputs": [],
   "source": [
    "plt.subplots_adjust?"
   ]
  },
  {
   "cell_type": "code",
   "execution_count": null,
   "id": "d099b15e",
   "metadata": {},
   "outputs": [],
   "source": [
    "import seaborn as sns\n",
    "#dfdecres.query('varn != \"tgti_to_show\"')\n",
    "fg= sns.relplot(data=dfdecres, kind='line', \n",
    "                x='t', y='score', #hue='varn', \n",
    "                col='phase', row='varn', aspect=1.5)\n",
    "#fg.set(xticks=np.arange(-2,6,1))\n",
    "for ax in fg.axes.flatten():\n",
    "    std = dfdecres['score_perm'].std()\n",
    "    ax.axhline(y=std , color='r', ls=':')\n",
    "    ax.axhline(y=-std , color='r', ls=':')\n",
    "    ax.vlines(ph2phst_rel_ITIst.values(), *ylim, ls=':', color='k')\n",
    "    ax.grid(True, color='lightgrey')\n",
    "    #ax.set_xticks(np.arange(-2,6,1))\n",
    "#plt.subplots_adjust(sharex='no')\n",
    "#sns.relplot(data=dfdecres, kind='line', x='t', y='score_perm', hue='varn', col='phase')"
   ]
  },
  {
   "cell_type": "code",
   "execution_count": null,
   "id": "d9256309",
   "metadata": {},
   "outputs": [],
   "source": [
    "# classif\n",
    "#decode ctxid? \n",
    "#  perturbation,  \n",
    "#  prev perturbation\n",
    "#      linear regr\n",
    "# \n",
    "# feedback\n",
    "# jax1', 'jax2'\n",
    "# reward (or better nonhit)\n",
    "# \n",
    "# \n",
    "# error_area2_signed_nn,    prev_error_area2_signed_nn\n",
    "#      nonlin regr\n",
    "#   time_lh\n",
    "#  Nctx_app\n",
    "#  traj_length_adj\n",
    "#  traj_length\n",
    "#  ES\n",
    "\n",
    "# TODO: define angle lh and lh_ofb"
   ]
  },
  {
   "cell_type": "code",
   "execution_count": null,
   "id": "ee50a367",
   "metadata": {},
   "outputs": [],
   "source": [
    "['current_phase_trigger', 'tgti_to_show',\n",
    "       'trial_type', 'special_block_type', \n",
    "       'error_distance',\n",
    "       'jax1', 'jax2',\n",
    "       'reward', 'phase',\n",
    "       'target_locs', 'perturbation',\n",
    "       'dist_rad_from_prevtgt',\n",
    "       'prev_ctx_both_close', 'prev_ctx_some_close', 'prev_ctx_tgt_close',\n",
    "       'prev_ctx_pert_close', 'prev_ctx_pert_same', 'prev_ctx_tgt_same',\n",
    "       'prev_block_ind_diff', 'ctxid', 'Nctx_app', 'trialwb', 'nonhit',\n",
    "       'error_eucl', 'feedback_abs', 'org_feedback_abs', 'feedback',\n",
    "       'org_feedback', 'error_endpoint_ang', 'error_intdist2_nn',\n",
    "       'error_lh_ang', 'error_unpert_lh_ang', 'error_distance_lh',\n",
    "       'error_area_signed_nn', 'error_area2_signed_nn',\n",
    "       'error_area_ofb_signed_nn', 'time_lh', 'traj_length', 'enddist',\n",
    "       'time_mvt', 'error_intdist2', 'error_area_signed', 'error_area2_signed',\n",
    "       'error_area_ofb_signed', 'error_aug2', 'traj_length_adj',\n",
    "       'error_pert_adj', 'error_endpoint_ang_pert_adj', 'error_aug3',\n",
    "       'error_area_signed_tln', 'error_area_ofb_signed_tln',\n",
    "       'error_area_signed_tln_scaled_ed',\n",
    "       'error_area_ofb_signed_tln_scaled_ed', 'error_area_signed_scaled_ed',\n",
    "       'error_area_ofb_signed_scaled_ed', 'error_area_signed_nn_scaled_ed',\n",
    "       'error_area2_signed_nn_scaled_ed', 'error_area_ofb_signed_nn_scaled_ed',\n",
    "       'prev_trial_type', 'prev_error_area2_signed_nn_scaled_ed',\n",
    "       'prev_error_lh_ang']"
   ]
  },
  {
   "cell_type": "code",
   "execution_count": null,
   "id": "4cf405f8",
   "metadata": {},
   "outputs": [],
   "source": [
    "scores_perm.shape"
   ]
  },
  {
   "cell_type": "code",
   "execution_count": null,
   "id": "3aaa8d57",
   "metadata": {},
   "outputs": [],
   "source": [
    "scores.shape"
   ]
  },
  {
   "cell_type": "code",
   "execution_count": null,
   "id": "e8002fe6",
   "metadata": {},
   "outputs": [],
   "source": [
    "res"
   ]
  },
  {
   "cell_type": "code",
   "execution_count": null,
   "id": "53602462",
   "metadata": {},
   "outputs": [],
   "source": [
    "decres_naive_ITI_tgti_to_show_-2.00_6.00_(415, 274, 8).npz'"
   ]
  },
  {
   "cell_type": "code",
   "execution_count": null,
   "id": "3fd3bf2a",
   "metadata": {},
   "outputs": [],
   "source": [
    "fns"
   ]
  },
  {
   "cell_type": "code",
   "execution_count": null,
   "id": "3a7a28f2",
   "metadata": {
    "run_control": {
     "marked": false
    }
   },
   "outputs": [],
   "source": [
    "import meg_proc"
   ]
  },
  {
   "cell_type": "code",
   "execution_count": null,
   "id": "58a3d252",
   "metadata": {},
   "outputs": [],
   "source": [
    "phase2dat[ph]['varname2y'][vn]"
   ]
  },
  {
   "cell_type": "code",
   "execution_count": null,
   "id": "2c65193e",
   "metadata": {},
   "outputs": [],
   "source": [
    "len(y), ph"
   ]
  },
  {
   "cell_type": "code",
   "execution_count": null,
   "id": "c2445be0",
   "metadata": {},
   "outputs": [],
   "source": [
    "ipy.run_line_magic('run', pjoin(scripts_dir, 'td_long_cc.py'))"
   ]
  },
  {
   "cell_type": "code",
   "execution_count": null,
   "id": "0846790c",
   "metadata": {},
   "outputs": [],
   "source": [
    "dfev_mxph['trigger'].unique()"
   ]
  },
  {
   "cell_type": "code",
   "execution_count": null,
   "id": "51b0484c",
   "metadata": {},
   "outputs": [],
   "source": [
    "np.unique(epochs.events[:,2] )"
   ]
  },
  {
   "cell_type": "code",
   "execution_count": null,
   "id": "c8a8f136",
   "metadata": {},
   "outputs": [],
   "source": [
    "del f\n",
    "gc; collect()"
   ]
  },
  {
   "cell_type": "code",
   "execution_count": null,
   "id": "55d9cd40",
   "metadata": {},
   "outputs": [],
   "source": [
    "def f(x,a,b,c):\n",
    "    a * x**2 + b * x + c\n",
    "    \n",
    "theta = 30 / 180 * np.pi\n",
    "D = 378\n",
    "f()"
   ]
  }
 ],
 "metadata": {
  "kernelspec": {
   "display_name": "merr3_mamba",
   "language": "python",
   "name": "merr3_mamba"
  },
  "language_info": {
   "codemirror_mode": {
    "name": "ipython",
    "version": 3
   },
   "file_extension": ".py",
   "mimetype": "text/x-python",
   "name": "python",
   "nbconvert_exporter": "python",
   "pygments_lexer": "ipython3",
   "version": "3.11.5"
  }
 },
 "nbformat": 4,
 "nbformat_minor": 5
}
