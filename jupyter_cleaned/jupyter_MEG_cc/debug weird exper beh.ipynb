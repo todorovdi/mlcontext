{
 "cells": [
  {
   "cell_type": "code",
   "execution_count": null,
   "id": "cf81f04a",
   "metadata": {},
   "outputs": [],
   "source": [
    "# after taking boitier back from Coumarane\n",
    "%load_ext autoreload\n",
    "%autoreload 2\n",
    "\n",
    "import os\n",
    "ipy = get_ipython()\n",
    "#data_dir_general = '/home/demitau/data_Quentin'\n",
    "#data_subdir_mem_err_main = 'full_experiments/data2'\n",
    "from os.path import join as pjoin\n",
    "import os,sys; sys.path.append(os.path.expandvars('$CODE_MEMORY_ERRORS'))\n",
    "import error_sensitivity\n",
    "#data_dir_input = pjoin(data_dir_general,data_subdir_mem_err_main)\n",
    "import pandas as pd\n",
    "\n",
    "#data_dir_general = '/home/demitau/data_Quentin'\n",
    "#data_subdir_mem_err_main = 'full_experiments/data2'\n",
    "#data_dir_input = pjoin(data_dir_general,data_subdir_mem_err_main)\n",
    "#scripts_dir = pjoin(data_dir_general,'full_experiments','scripts2')\n",
    "\n",
    "data_dir_general = os.path.expandvars('$DATA_QUENTIN')\n",
    "data_dir_input = os.path.expandvars('$DATA_MEMORY_ERRORS_STAB_AND_STOCH')\n",
    "#scripts_dir = pjoin( os.path.expandvars('$CODE_MEMORY_ERRORS'), 'previous_analyses')\n",
    "scripts_dir = pjoin( os.path.expandvars('$CODE_MEMORY_ERRORS'))\n",
    "\n",
    "\n",
    "\n",
    "import numpy as np\n",
    "\n",
    "import matplotlib.pyplot as plt\n",
    "import seaborn as sns\n",
    "print('seaborn ver = ', sns.__version__)\n",
    "#assert sns.__version__ == '0.12.2', sns.__version__\n",
    "import matplotlib as mpl\n",
    "COLOR = 'black'\n",
    "mpl.rcParams['text.color'] = COLOR\n",
    "mpl.rcParams['axes.labelcolor'] = COLOR\n",
    "mpl.rcParams['xtick.color'] = COLOR\n",
    "mpl.rcParams['ytick.color'] = COLOR\n",
    "\n",
    "\n",
    "sns.set(rc={'axes.facecolor':'white', 'figure.facecolor':'white',\n",
    "           'grid.color':'grey', 'grid.alpha':0.5})\n",
    "\n",
    "tgtc = ['b','g','r','brown']\n",
    "\n",
    "\n",
    "from glob import glob\n",
    "from pathlib import Path\n",
    "fnbs = []\n",
    "d = '/home/demitau/data_Quentin/pilot_studies/context_change_behav/'\n",
    "for fnf in glob(d + '2023-SE1-0*[0-9].log'):\n",
    "    name = Path(fnf).name\n",
    "    fnb = name.replace('.log','')\n",
    "    fnbs += [fnb]\n",
    "    #print( f'\"{fnb}\",' )\n",
    "fnbs = list(sorted(fnbs))\n",
    "display(fnbs)\n",
    "    \n",
    "    \n",
    "#fnbs = ['2023-SE1-010_context_change_20230413_172011']\n",
    "fnbs = ['2023-SE1-009_context_change_20230413_101827']\n",
    "print(fnbs)  "
   ]
  },
  {
   "cell_type": "code",
   "execution_count": null,
   "id": "e05bb966",
   "metadata": {},
   "outputs": [],
   "source": [
    "#params['width']"
   ]
  },
  {
   "cell_type": "code",
   "execution_count": null,
   "id": "68d85122",
   "metadata": {},
   "outputs": [],
   "source": [
    "    \n",
    "dfs = []\n",
    "for fnb in fnbs:\n",
    "    fn = fnb + '.log'\n",
    "    fnp = fnb + '.param'\n",
    "\n",
    "    with open(pjoin(d,fn), 'r') as f:\n",
    "         l = f.readline()\n",
    "         truelen = len( l.split(',') )\n",
    "\n",
    "    r = ('trial_index, current_phase_trigger, tgti_to_show,'\n",
    "       ' vis_feedback_type, trial_type, special_block_type, block_ind, '\n",
    "        ' feedbackX, feedbackY, unpert_feedbackX, unpert_feedbackY,'\n",
    "         ' error_distance, target_coordX, target_coordY, '\n",
    "         'feedbackX_when_crossing, feedbackY_when_crossing, '\n",
    "         'jax1, jax2, reward, time')\n",
    "    r = r.replace(' ','')\n",
    "    colnames = r.split(',')\n",
    "    print('len(colnames) = ',len(colnames),'truelen = ',truelen,colnames)\n",
    "\n",
    "    nbad = 3  # recompense strip\n",
    "    #colnames = ['trial_index', 'current_phase_']\n",
    "    df = pd.read_csv(pjoin(d,fn), skipfooter = nbad, on_bad_lines='warn', header=0,\n",
    "                    names=colnames, encoding='latin1')\n",
    "    #encoding='latin-1'\n",
    "    subj = fnb.split('_')[0]    \n",
    "    df['subject'] = subj\n",
    "    dfs += [df]\n",
    "    \n",
    "df_unproc = pd.concat( dfs ).reset_index()\n",
    "\n",
    "print('max trial index = ', df_unproc['trial_index'].max() )"
   ]
  },
  {
   "cell_type": "code",
   "execution_count": null,
   "id": "ddc2585f",
   "metadata": {},
   "outputs": [],
   "source": [
    "dfs_full = dfs"
   ]
  },
  {
   "cell_type": "code",
   "execution_count": null,
   "id": "237ce2b5",
   "metadata": {},
   "outputs": [],
   "source": [
    "NT = 10,40\n",
    "dfs_r = []\n",
    "for df in dfs:\n",
    "    dfs_r += [df.query('trial_index >= @NT[0] and trial_index <@NT[1]')]\n",
    "dfs = dfs_r"
   ]
  },
  {
   "cell_type": "code",
   "execution_count": null,
   "id": "ae96b1e1",
   "metadata": {},
   "outputs": [],
   "source": [
    "dfs = dfs_full"
   ]
  },
  {
   "cell_type": "code",
   "execution_count": null,
   "id": "5049c9e6",
   "metadata": {},
   "outputs": [],
   "source": [
    "df_unproc = pd.concat( dfs ).reset_index()\n",
    "df_unproc = df_unproc.drop(labels=['index'],axis=1)\n",
    "#df_unproc\n",
    "\n",
    "from behav_proc import readParamFiles, addBasicInfo, getGeomInfo\n",
    "fnp = fnb + '.param'\n",
    "params, phase2trigger, trigger2phase, stage2pars  = readParamFiles(fnp, d)\n",
    "home_position, target_coords = getGeomInfo(params)\n",
    "hitr = float(params['radius_target']) + float(params['radius_cursor']) / 2\n",
    "\n",
    "dfcs = []; dfccs = []; dfcpcs = []; dfctcs = [];    \n",
    "for df in dfs:\n",
    "    print('---------------  Starting processing new df')                    \n",
    "    dfc, dfcc, dfcpc, dfctc = addBasicInfo(df, phase2trigger, params,\n",
    "                                         home_position, target_coords)\n",
    "\n",
    "\n",
    "    dfcc['nonhit'] = dfcc['error_distance'] > hitr\n",
    "    dfcs += [dfc]; dfccs += [dfcc]; dfcpcs += [dfcpc]; dfctcs += [dfctc];   \n",
    "\n",
    "dfcc_all  = dfcc\n",
    "dfc_all   = dfc\n",
    "dfcpc_all = dfcpc\n",
    "dfctc_all = dfctc\n",
    "\n",
    "subjects = dfcc_all['subject'].unique()\n",
    "print(subjects)\n",
    "\n",
    "subj = subjects[0]\n",
    "print(subj)\n",
    "dfccos  = dfcc_all.query('subject == @subj')\n",
    "dfcos   = dfc_all.query('subject == @subj')\n",
    "dfcpcos = dfcpc_all.query('subject == @subj')\n",
    "#dfcc = dfccos\n",
    "##########################\n",
    "a = dfcc_all['error_area_signed'].abs()\n",
    "thr = a.quantile(0.05); print(thr)\n",
    "dfcc_all['error_area_signed_nonhit'] = a > thr\n",
    "\n",
    "a = dfcc_all['error_area_signed_scaled_ed'].abs()\n",
    "thr = a.quantile(0.05); print(thr)\n",
    "dfcc_all['error_area_signed_scaled_ed_nonhit'] = a > thr\n",
    "\n",
    "a = dfcc_all['error_lh_ang'].abs()\n",
    "thr = a.quantile(0.05); print(thr)\n",
    "dfcc_all['error_lh_ang_nonhit'] = a > thr\n",
    "\n",
    "a = dfcc_all['error_area_signed_nn_scaled_ed'].abs()\n",
    "thr = a.quantile(5e-2); print(thr)\n",
    "dfcc_all['error_area_signed_nn_scaled_ed_nonhit'] = a > thr\n",
    "\n",
    "a = dfcc_all['error_area2_signed_nn_scaled_ed'].abs()\n",
    "thr = a.quantile(5e-2); print(thr)\n",
    "dfcc_all['error_area2_signed_nn_scaled_ed_nonhit'] = a > thr\n",
    "##############################\n",
    "assert 'error' not in dfcc_all.columns\n",
    "df_all = dfcc_all.drop(labels=['index', 'level_0'],axis=1)  #.copy()\n",
    "#df_all['non_hit_not_adj'] = df_all['nonhit']\n",
    "df_all['target_inds']     = df_all['tgti_to_show']\n",
    "df_all['trials']          = df_all['trial_index']\n",
    "\n",
    "# for err sens calc\n",
    "#df_all['error']          = df_all['error_area_signed']\n",
    "##############################\n",
    "subjects_ = list( df_all['subject'].unique() )\n",
    "print(subjects_)\n",
    "\n"
   ]
  },
  {
   "cell_type": "markdown",
   "id": "2f469980",
   "metadata": {},
   "source": [
    "# Look at trial seq"
   ]
  },
  {
   "cell_type": "code",
   "execution_count": null,
   "id": "eeecad69",
   "metadata": {},
   "outputs": [],
   "source": [
    "trigger2phase"
   ]
  },
  {
   "cell_type": "code",
   "execution_count": null,
   "id": "d45d5263",
   "metadata": {},
   "outputs": [],
   "source": [
    "df_end = df_unproc.groupby('trial_index').max('time')"
   ]
  },
  {
   "cell_type": "code",
   "execution_count": null,
   "id": "ee90934b",
   "metadata": {},
   "outputs": [],
   "source": [
    "df_end"
   ]
  },
  {
   "cell_type": "code",
   "execution_count": null,
   "id": "084f01b7",
   "metadata": {},
   "outputs": [],
   "source": [
    "dfcc[['trial_index','tgti_to_show', 'error_area_signed_nn', 'error_area2_signed_nn','error_distance']]"
   ]
  },
  {
   "cell_type": "markdown",
   "id": "2b9a82ac",
   "metadata": {},
   "source": [
    "# 2d plots"
   ]
  },
  {
   "cell_type": "code",
   "execution_count": null,
   "id": "6ee10644",
   "metadata": {},
   "outputs": [],
   "source": [
    "s = subjects[0]"
   ]
  },
  {
   "cell_type": "code",
   "execution_count": null,
   "id": "7731cc20",
   "metadata": {},
   "outputs": [],
   "source": [
    "grp_perti = dfcos.groupby(['trial_index'])\n",
    "\n",
    "pause_inds = dfcpc_all.query(f'subject == \"{s}\"').groupby('trial_index').max('time').index\n",
    "#['trial_index']\n",
    "pause_inds = np.array(pause_inds)\n",
    "\n",
    "#rngs = f'{rng.start,rng.stop}'\n",
    "#rngs = f'S={S}; N={N}'"
   ]
  },
  {
   "cell_type": "code",
   "execution_count": null,
   "id": "5687dc4f",
   "metadata": {},
   "outputs": [],
   "source": [
    "rng = np.arange(0,36)\n",
    "rngs = f'{rng[0]}-{rng[-1]}'; print(rngs)\n",
    "\n",
    "N = len(rng); print(N)"
   ]
  },
  {
   "cell_type": "code",
   "execution_count": null,
   "id": "0944482f",
   "metadata": {},
   "outputs": [],
   "source": [
    "dfesqs = (f'subject == \"{s}\"')    \n",
    "dfcc.query(dfesqs)"
   ]
  },
  {
   "cell_type": "code",
   "execution_count": null,
   "id": "ee7ee6eb",
   "metadata": {},
   "outputs": [],
   "source": [
    "from exper_protocol.utils import screen2homec\n",
    "target_coords_homec = screen2homec( *tuple(zip(*target_coords)), home_position  )"
   ]
  },
  {
   "cell_type": "code",
   "execution_count": null,
   "id": "b14af1b6",
   "metadata": {},
   "outputs": [],
   "source": [
    "colscols = [['trialwb','perturbation','trial_type'],\n",
    "            ['prev_trial_type'],\n",
    "            ['error_endpoint_ang', 'error_lh_ang'],            \n",
    "            ['error_distance','time_mvt', 'traj_length'],\n",
    "            ['error_area_signed_nn'],\n",
    "            ['error_area_ofb_signed_nn', 'nonhit']]"
   ]
  },
  {
   "cell_type": "code",
   "execution_count": null,
   "id": "c7ac45ab",
   "metadata": {},
   "outputs": [],
   "source": [
    "#N  = len(rng) //2; N"
   ]
  },
  {
   "cell_type": "code",
   "execution_count": null,
   "id": "f8ca6ef6",
   "metadata": {
    "code_folding": [
     47
    ]
   },
   "outputs": [],
   "source": [
    "from behav_proc import plotTraj, plotTraj2\n",
    "from config2 import path_fig\n",
    "#rng = range(600,603)\n",
    "#rng = range(596,625)\n",
    "#rng = range(8,10)\n",
    "#rng = range(50,60)\n",
    "#rng = range(55,57)\n",
    "\n",
    "show_dist_guides = False\n",
    "ww = 7; hh =10\n",
    "nc = int(np.ceil(np.sqrt(len(rng)) ) ); nr = int( np.ceil( len(rng) / nc ) )\n",
    "#nr = N; nc = 2\n",
    "\n",
    "fig,axs = plt.subplots(nr,nc, figsize=(nc*ww, nr * hh))\n",
    "axsf = axs.flatten()\n",
    "\n",
    "axi2d = {}\n",
    "for axi,ti in enumerate(rng):\n",
    "    ax = axsf[axi]    \n",
    "    if ti not in grp_perti.groups:\n",
    "        if ti in pause_inds:            \n",
    "            print(f'Skipping {ti} because pause')\n",
    "            ax.set_title('PAUSE')\n",
    "        else:\n",
    "            print(f'Skipping {ti} because ?')\n",
    "        continue\n",
    "        \n",
    "    df0 = dfcc.query(f'subject == \"{s}\" and trial_index == {ti}')\n",
    "    row = df0.to_dict('records')[0]\n",
    "    \n",
    "    ev = row['error_endpoint_ang']\n",
    "    tiwb = row['trialwb']\n",
    "    \n",
    "    #dfes = df_all_multi_tsz.query(dfesqs + f' and trial_index == {ti}')\n",
    "    dfes = dfcc.query(dfesqs + f' and trial_index == {ti}')\n",
    "    assert len(dfes) == 1\n",
    "    row2 = dfes.to_dict('records')[0]\n",
    "    row.update(row2)\n",
    "    \n",
    "    \n",
    "    idx = grp_perti.groups[ti]\n",
    "    dfcurtr = dfcos.loc[idx[1:]]  # zeroth is equal to zero\n",
    "    import sys, traceback\n",
    "    try:\n",
    "#         plotTraj2(ax, dfcurtr, home_position, target_coords_homec, params,\n",
    "#                 force_entire_traj=0, calc_area = 1, addinfo=row,\n",
    "#                 titlecols = colscols, xlim=(-160,160))\n",
    "        \n",
    "        r = row2multierr(row, dfc, grp_perti, home_position,             \n",
    "            target_coords, params, ax=ax,\n",
    "            revert_pert = False, xlim=(-160,160),\n",
    "            titlecols = colscols, addinfo=row)\n",
    "        z = zip( ['err', 'error_lh_ang', 'error_unpert_lh_ang', 'start_dist',\n",
    "                      'traja', 'traja2', 'trajoa', 'td',\n",
    "                'length',  'enddist'], r)\n",
    "        dd = dict(z)\n",
    "    \n",
    "    except Exception as e:\n",
    "        print('EXC',e)\n",
    "        exc_info = sys.exc_info()\n",
    "        exc = traceback.TracebackException(*exc_info, capture_locals=True)\n",
    "\n",
    "        psf = exc_info[2].tb_next\n",
    "        stackframe = exc_info[2].tb_next.tb_frame\n",
    "\n",
    "        display(psf.tb_frame)\n",
    "        #display(psf.tb_next.tb_frame)\n",
    "\n",
    "        local_vars_in_fun = stackframe.f_locals\n",
    "        plt.close()\n",
    "        break\n",
    "    \n",
    "    from matplotlib.ticker import (AutoMinorLocator, MultipleLocator)\n",
    "    #ax.xaxis.set_major_locator(MultipleLocator(50))\n",
    "    #ax.xaxis.set_major_locator(MultipleLocator(50))\n",
    "    ax.set_yticks(np.arange(-50,400,50))\n",
    "    #ax.xaxis.set_minor_locator(AutoMinorLocator(25))\n",
    "    ax.grid(which='major', color='#CCCCCC', linestyle='--')\n",
    "    #ax.grid(which='minor', color='#CCCCCC', linestyle=':')\n",
    "    axi2d[axi] = {'df0':df0, 'row':row, 'dfcurtr':dfcurtr}\n",
    "    \n",
    "    print(f'error = {ev}, tiwb = {tiwb}')\n",
    "    \n",
    "plt.tight_layout()\n",
    "plt.savefig(pjoin(path_fig, f'traj_2D_{row[\"subject\"]}_{rngs}.pdf') )\n",
    "plt.close()"
   ]
  },
  {
   "cell_type": "code",
   "execution_count": null,
   "id": "a625c6d3",
   "metadata": {},
   "outputs": [],
   "source": [
    "# display(psf.tb_frame)\n",
    "# lf = psf.tb_frame.f_locals\n",
    "# if psf.tb_next is not None:\n",
    "#     psf2 = psf.tb_next\n",
    "#     display(psf2.tb_frame)\n",
    "#     lf0 = lf\n",
    "#     lf = psf2.tb_frame.f_locals\n",
    "\n",
    "# #display(exc_info[2].tb_frame)"
   ]
  },
  {
   "cell_type": "code",
   "execution_count": null,
   "id": "98a5f2cb",
   "metadata": {},
   "outputs": [],
   "source": [
    "df_unproc['jax2'].describe()"
   ]
  },
  {
   "cell_type": "code",
   "execution_count": null,
   "id": "1198bb7d",
   "metadata": {},
   "outputs": [],
   "source": [
    "df_unproc['jax1'].describe()"
   ]
  },
  {
   "cell_type": "code",
   "execution_count": null,
   "id": "b9789ef5",
   "metadata": {},
   "outputs": [],
   "source": [
    "ww = 5; hh =3\n",
    "nc = int(np.ceil(np.sqrt(len(rng)) ) ); nr = int( np.ceil( len(rng) / nc ) )\n",
    "#nr = N; nc = 2\n",
    "\n",
    "fig,axs = plt.subplots(nr,nc, figsize=(nc*ww, nr * hh))\n",
    "axsf = axs.flatten()\n",
    "\n",
    "axi2d = {}\n",
    "for axi,ti in enumerate(rng):\n",
    "    ax = axsf[axi]    \n",
    "    if ti not in grp_perti.groups:\n",
    "        if ti in pause_inds:            \n",
    "            print(f'Skipping {ti} because pause')\n",
    "            ax.set_title('PAUSE')\n",
    "        else:\n",
    "            print(f'Skipping {ti} because ?')\n",
    "        continue\n",
    "        \n",
    "    df0 = dfcc.query(f'subject == \"{s}\" and trial_index == {ti}')\n",
    "    row = df0.to_dict('records')[0]\n",
    "    \n",
    "    ev = row['error_endpoint_ang']\n",
    "    tiwb = row['trialwb']\n",
    "    \n",
    "    #dfes = df_all_multi_tsz.query(dfesqs + f' and trial_index == {ti}')\n",
    "    dfes = dfcc.query(dfesqs + f' and trial_index == {ti}')\n",
    "    assert len(dfes) == 1\n",
    "    row2 = dfes.to_dict('records')[0]\n",
    "    row.update(row2)\n",
    "    \n",
    "    \n",
    "    idx = grp_perti.groups[ti]\n",
    "    dfcurtr = dfcos.loc[idx[1:]]  # zeroth is equal to zero\n",
    "    \n",
    "    jax1 = dfcurtr['jax1'].to_numpy()\n",
    "    jax2 = dfcurtr['jax2'].to_numpy()\n",
    "    #ax.scatter(jax1,jax2)\n",
    "    times = dfcurtr['time_since_trial_start'].to_numpy()\n",
    "    ax.plot(times,jax1, label='jax1')\n",
    "    ax.plot(times,jax2, label='jax2')\n",
    "    ax.legend(loc='lower left')\n",
    "    ax.set_title(f'trial_index={ti}')\n",
    "    print(np.max(jax1), np.min(jax1), np.std(jax1))\n",
    "    \n",
    "plt.tight_layout()\n",
    "plt.savefig(pjoin(path_fig, f'traj_jax_{row[\"subject\"]}_{rngs}.pdf'))"
   ]
  },
  {
   "cell_type": "code",
   "execution_count": null,
   "id": "c3514fce",
   "metadata": {},
   "outputs": [],
   "source": []
  },
  {
   "cell_type": "code",
   "execution_count": null,
   "id": "516ca131",
   "metadata": {},
   "outputs": [],
   "source": [
    "ax= plt.gca()\n",
    "jax1 = dfcurtr['jax1'].to_numpy()\n",
    "jax2 = dfcurtr['jax2'].to_numpy()\n",
    "#ax.scatter(jax1,jax2)\n",
    "times = dfcurtr['time_since_trial_start'].to_numpy()\n",
    "ax.plot(times,jax1)\n",
    "ax.plot(times,jax2)"
   ]
  },
  {
   "cell_type": "code",
   "execution_count": null,
   "id": "c58c9baf",
   "metadata": {},
   "outputs": [],
   "source": []
  }
 ],
 "metadata": {
  "kernelspec": {
   "display_name": "merr2",
   "language": "python",
   "name": "merr2"
  },
  "language_info": {
   "codemirror_mode": {
    "name": "ipython",
    "version": 3
   },
   "file_extension": ".py",
   "mimetype": "text/x-python",
   "name": "python",
   "nbconvert_exporter": "python",
   "pygments_lexer": "ipython3",
   "version": "3.10.13"
  }
 },
 "nbformat": 4,
 "nbformat_minor": 5
}
