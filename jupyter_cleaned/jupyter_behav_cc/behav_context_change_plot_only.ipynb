{
 "cells": [
  {
   "cell_type": "code",
   "execution_count": null,
   "id": "85c6baca",
   "metadata": {},
   "outputs": [],
   "source": [
    "%load_ext autoreload\n",
    "%autoreload 2\n",
    "\n",
    "import os\n",
    "ipy = get_ipython()\n",
    "#data_dir_general = '/home/demitau/data_Quentin'\n",
    "#data_subdir_mem_err_main = 'full_experiments/data2'\n",
    "from os.path import join as pjoin\n",
    "import os,sys; sys.path.append(os.path.expandvars('$CODE_MEMORY_ERRORS'))\n",
    "import error_sensitivity\n",
    "#data_dir_input = pjoin(data_dir_general,data_subdir_mem_err_main)\n",
    "import pandas as pd\n",
    "\n",
    "#data_dir_general = '/home/demitau/data_Quentin'\n",
    "#data_subdir_mem_err_main = 'full_experiments/data2'\n",
    "#data_dir_input = pjoin(data_dir_general,data_subdir_mem_err_main)\n",
    "#scripts_dir = pjoin(data_dir_general,'full_experiments','scripts2')\n",
    "\n",
    "data_dir_general = os.path.expandvars('$DATA_QUENTIN')\n",
    "data_dir_input = os.path.expandvars('$DATA_MEMORY_ERRORS_STAB_AND_STOCH')\n",
    "#scripts_dir = pjoin( os.path.expandvars('$CODE_MEMORY_ERRORS'), 'previous_analyses')\n",
    "scripts_dir = pjoin( os.path.expandvars('$CODE_MEMORY_ERRORS'))\n",
    "\n",
    "\n",
    "import gc\n",
    "\n",
    "import numpy as np\n",
    "import matplotlib.pyplot as plt\n",
    "import seaborn as sns\n",
    "print('seaborn ver = ', sns.__version__)\n",
    "#assert sns.__version__ == '0.12.2', sns.__version__\n",
    "import matplotlib as mpl"
   ]
  },
  {
   "cell_type": "code",
   "execution_count": null,
   "id": "a9948851",
   "metadata": {},
   "outputs": [],
   "source": [
    "def setPlotColors():\n",
    "    COLOR = 'black'\n",
    "    mpl.rcParams['text.color'] = COLOR\n",
    "    mpl.rcParams['axes.labelcolor'] = COLOR\n",
    "    mpl.rcParams['xtick.color'] = COLOR\n",
    "    mpl.rcParams['ytick.color'] = COLOR\n",
    "\n",
    "\n",
    "    sns.set(rc={'axes.facecolor':'white', 'figure.facecolor':'white',\n",
    "               'grid.color':'grey', 'grid.alpha':0.5})\n",
    "    global tgtc\n",
    "    tgtc = ['b','g','r','brown']\n",
    "setPlotColors()"
   ]
  },
  {
   "cell_type": "code",
   "execution_count": null,
   "id": "9f1340cc",
   "metadata": {},
   "outputs": [],
   "source": [
    "d = '/home/demitau/data_Quentin/pilot_studies/context_change_behav/'\n",
    "#fnb = 'dima_test_context_change_20230309_164851'\n",
    "#fnb = '2023-SE1-pilot2_context_change_20230310_161928'\n",
    "fnb = '2023-SE1-017_context_change_20230425_161049'\n",
    "fn = fnb + '.log'\n",
    "fnp = fnb + '.param'"
   ]
  },
  {
   "cell_type": "markdown",
   "id": "e88cf5d4",
   "metadata": {},
   "source": [
    "# Main"
   ]
  },
  {
   "cell_type": "code",
   "execution_count": null,
   "id": "02281fb4",
   "metadata": {},
   "outputs": [],
   "source": [
    "import gc; gc.collect()"
   ]
  },
  {
   "cell_type": "code",
   "execution_count": null,
   "id": "d394641b",
   "metadata": {},
   "outputs": [],
   "source": [
    "from datetime import datetime"
   ]
  },
  {
   "cell_type": "code",
   "execution_count": null,
   "id": "954cc9b0",
   "metadata": {},
   "outputs": [],
   "source": [
    "from behav_proc import readParamFiles, addBasicInfo, getGeomInfo\n",
    "fnp = fnb + '.param'\n",
    "params, phase2trigger, trigger2phase, stage2pars  = readParamFiles(fnp, d)\n",
    "home_position, target_coords = getGeomInfo(params)\n",
    "hitr = float(params['radius_target']) + float(params['radius_cursor']) / 2\n",
    "\n",
    "load = True\n",
    "#load = True\n",
    "if load:\n",
    "    #dfallphs = pd.read_pickle(pjoin(d,'row=frame_allph.pkl.zip'))\n",
    "    dfc_all      = pd.read_pickle(pjoin(d,'row=frame.pkl.zip'))        \n",
    "    dfcpc_all    = pd.read_pickle(pjoin(d,'row=pause.pkl.zip'))\n",
    "    dfctc_all    = pd.read_pickle(pjoin(d,'row=target_chagne.pkl.zip'))\n",
    "    fnf_dfcc = pjoin(d,'row=trial.pkl.zip')\n",
    "    dfcc_all     = pd.read_pickle(fnf_dfcc)\n",
    "    \n",
    "    dt = datetime.fromtimestamp(os.stat(fnf_dfcc).st_mtime )\n",
    "    print('date dfcc = ',dt)\n",
    "    \n",
    "    fnf = pjoin(d,'es_row=trial.pkl.zip')\n",
    "    dt = datetime.fromtimestamp(os.stat(fnf).st_mtime )    \n",
    "    print('date es = ',dt)\n",
    "    \n",
    "\n",
    "    df_all_multi_tsz_orig = pd.read_pickle(fnf)"
   ]
  },
  {
   "cell_type": "code",
   "execution_count": null,
   "id": "d1c12d35",
   "metadata": {},
   "outputs": [],
   "source": [
    "for df_ in [dfcc_all    ,dfc_all     ,dfcpc_all   ,dfctc_all]:\n",
    "    assert np.sum( df_.duplicated()) == 0\n",
    "    \n",
    "assert dfcc_all.index.duplicated().sum() == 0"
   ]
  },
  {
   "cell_type": "code",
   "execution_count": null,
   "id": "468a9e54",
   "metadata": {},
   "outputs": [],
   "source": [
    "df_all_multi_tsz = df_all_multi_tsz_orig"
   ]
  },
  {
   "cell_type": "code",
   "execution_count": null,
   "id": "c9ea6891",
   "metadata": {},
   "outputs": [],
   "source": [
    "mx = df_all_multi_tsz.groupby(['subject','trial_index']).size().max()\n",
    "print('Duplication for ES = ',mx)"
   ]
  },
  {
   "cell_type": "code",
   "execution_count": null,
   "id": "9c710fa1",
   "metadata": {},
   "outputs": [],
   "source": [
    "# info about ES dataset\n",
    "cols_undup = ['subject', 'trial_index', 'error_data_for_calc',\n",
    "       'trial_shift_size', 'trial_group_col_calc', 'time_locked']\n",
    "assert not df_all_multi_tsz.duplicated(cols_undup).any()\n",
    "for col in cols_undup:\n",
    "    if col == 'trial_index':\n",
    "        continue\n",
    "    print(col, df_all_multi_tsz[col].unique())"
   ]
  },
  {
   "cell_type": "code",
   "execution_count": null,
   "id": "f7ef69a7",
   "metadata": {},
   "outputs": [],
   "source": [
    "subjects = dfcc_all['subject'].unique()\n",
    "print(subjects)\n",
    "\n",
    "subj = subjects[3]\n",
    "print(subj)\n",
    "dfccos  = dfcc_all.query('subject == @subj')\n",
    "dfcos   = dfc_all.query('subject == @subj')\n",
    "dfcpcos = dfcpc_all.query('subject == @subj')\n",
    "#dfcc = dfccos"
   ]
  },
  {
   "cell_type": "code",
   "execution_count": null,
   "id": "b8434a05",
   "metadata": {},
   "outputs": [],
   "source": [
    "ynames = ['error_endpoint_ang', 'error_lh_ang', 'error_unpert_lh_ang', 'error_area_ofb_signed', \n",
    "      'error_area_signed', 'error_area_signed_scaled_ed']\n",
    "#dfcclline[ynames].plot(x='trial_index')\n",
    "for yname in ynames:\n",
    "    plt.figure(figsize=(12,3))\n",
    "    ax = sns.lineplot(dfccos, x='trial_index', y= yname)\n",
    "    ax.axhline(y=0, c='r')"
   ]
  },
  {
   "cell_type": "code",
   "execution_count": null,
   "id": "bddf0b79",
   "metadata": {},
   "outputs": [],
   "source": [
    "colns_nonhit = ['nonhit', 'error_area_signed_nonhit',\n",
    "       'error_area_signed_scaled_ed_nonhit', 'error_lh_ang_nonhit']"
   ]
  },
  {
   "cell_type": "markdown",
   "id": "2725a659",
   "metadata": {},
   "source": [
    "## Process err sens"
   ]
  },
  {
   "cell_type": "code",
   "execution_count": null,
   "id": "fed4d2e0",
   "metadata": {},
   "outputs": [],
   "source": [
    "gc.collect()"
   ]
  },
  {
   "cell_type": "code",
   "execution_count": null,
   "id": "a4203ce5",
   "metadata": {
    "run_control": {
     "marked": false
    }
   },
   "outputs": [],
   "source": [
    "#df_all_multi_tsz = pd.read_pickle(pjoin(d,'es_row=trial.pkl.zip'))\n",
    "coln_pairs = [ ('error_lh_ang','error_unpert_lh_ang','error_lh_ang_nonhit','lh_ang'),\n",
    "        ('error_area2_signed_nn_scaled_ed', None,\n",
    "               'error_area2_signed_nn_scaled_ed_nonhit',\n",
    "                'signed_area2_nn_scaled_ed') ] \n",
    "\n",
    "\n",
    "assert set( df_all_multi_tsz['error_data_for_calc'] ) == set(  [cp[-1] for cp in coln_pairs])"
   ]
  },
  {
   "cell_type": "code",
   "execution_count": null,
   "id": "7d7c5234",
   "metadata": {},
   "outputs": [],
   "source": [
    "from behav_proc import truncateDf\n",
    "coln = 'err_sens'\n",
    "dfc_multi_tsz = truncateDf(df_all_multi_tsz, coln, q=0.05, infnan_handling='discard',\n",
    "                          cols_uniqify = ['trial_shift_size','trial_group_col_calc','error_data_for_calc'])\n",
    "dfc_multi_tsz = dfc_multi_tsz.query('dist_rad_from_prevtgt2 != \"nan\"')\n",
    "\n",
    "#df_all_multi_tsz.to_pickle(pjoin(d,'es_trunc_row=trial.pkl.zip'),compression='zip')"
   ]
  },
  {
   "cell_type": "code",
   "execution_count": null,
   "id": "6ca5a585",
   "metadata": {},
   "outputs": [],
   "source": [
    "dfes = df_all_multi_tsz.query('error_data_for_calc == \"lh_ang\"')\n",
    "from behav_proc import thr_lh_ang_rad as thr_ang\n",
    "inds1 = dfes.query('(prev_error >= @thr_ang) or (prev_error <= -@thr_ang)' ).index\n",
    "\n",
    "dfes = df_all_multi_tsz.query('error_data_for_calc == \"signed_area2_nn_scaled_ed\"')\n",
    "from behav_proc import thr_signed_area2_nn_scaled_ed as thr_area\n",
    "inds2 = dfes.query('(prev_error >= @thr_area) or (prev_error <= -@thr_area)' ).index"
   ]
  },
  {
   "cell_type": "code",
   "execution_count": null,
   "id": "cd110c98",
   "metadata": {},
   "outputs": [],
   "source": [
    "len(df_all_multi_tsz)"
   ]
  },
  {
   "cell_type": "code",
   "execution_count": null,
   "id": "fb08c586",
   "metadata": {},
   "outputs": [],
   "source": [
    "from behav_proc import truncateDf\n",
    "dfc_multi_tsz = df_all_multi_tsz.loc[inds1.append(inds2)]\n",
    "dfc_multi_tsz = truncateDf(df_all_multi_tsz, 'err_sens', q=None, infnan_handling='discard',\n",
    "        cols_uniqify = cols_undup[2:])"
   ]
  },
  {
   "cell_type": "code",
   "execution_count": null,
   "id": "c15e2d61",
   "metadata": {},
   "outputs": [],
   "source": [
    "100 * len(dfc_multi_tsz) / len(df_all_multi_tsz)"
   ]
  },
  {
   "cell_type": "code",
   "execution_count": null,
   "id": "b0d944eb",
   "metadata": {},
   "outputs": [],
   "source": [
    "gc.collect()"
   ]
  },
  {
   "cell_type": "markdown",
   "id": "d18943fb",
   "metadata": {
    "heading_collapsed": true
   },
   "source": [
    "### basic plots"
   ]
  },
  {
   "cell_type": "code",
   "execution_count": null,
   "id": "c95f8059",
   "metadata": {
    "hidden": true
   },
   "outputs": [],
   "source": [
    "for cn in calc_names:\n",
    "    dfc_ = dfc_multi_tsz.query('trial_shift_size == 1 and error_data_for_calc == @cn')\n",
    "    plt.figure(figsize=(12,3))\n",
    "    #dfc_ = df_all_multi_tsz.query('trial_shift_size == 1')\n",
    "    ax = sns.lineplot(x=\"trials\", y='err_sens',data=dfc_,  estimator='mean', \n",
    "                      errorbar='se',\n",
    "                     hue = 'trial_group_col_calc')#, hue='block')\n",
    "    ax.axhline(y=0, c='red', ls=':')\n",
    "    ax.legend(loc='lower right')\n",
    "    ax.set_title(cn)"
   ]
  },
  {
   "cell_type": "code",
   "execution_count": null,
   "id": "f6d0c70e",
   "metadata": {
    "hidden": true
   },
   "outputs": [],
   "source": [
    "dfone = df_all.query('subject == @subjects_[0]')\n",
    "yname = coln_pairs[0][0]\n",
    "\n",
    "ebarg = ''\n",
    "ax = sns.lineplot(x=\"trials\", y=yname,data=dfone,  estimator='mean', errorbar='se')#, hue='block')\n",
    "ax.axhline(0,ls=':',c='red')\n",
    "ax.plot(dfone['trials'].to_numpy(), dfone['perturbation'].to_numpy(), ls=':',c='y')\n"
   ]
  },
  {
   "cell_type": "markdown",
   "id": "fc559cfa",
   "metadata": {
    "hidden": true
   },
   "source": [
    "##### violin plots"
   ]
  },
  {
   "cell_type": "code",
   "execution_count": null,
   "id": "2769a4a5",
   "metadata": {
    "hidden": true
   },
   "outputs": [],
   "source": [
    "fg = sns.catplot(kind='violin', data=dfcc_all,\n",
    "                 y='error_area2_signed_nn_scaled_ed',                                   \n",
    "                 x='perturbation', hue='trial_type', \n",
    "                 col = 'special_block_type',\n",
    "                 figsize=(4,3))\n",
    "for ax in fg.axes.flatten():\n",
    "    #ax.set_ylim(-1e5,1e5)\n",
    "    ax.axhline(0,c='r',ls=':')"
   ]
  },
  {
   "cell_type": "code",
   "execution_count": null,
   "id": "72d7dbcf",
   "metadata": {
    "hidden": true
   },
   "outputs": [],
   "source": [
    "fg = sns.catplot(kind='violin', data=dfcc_all,\n",
    "                 y='error_lh_ang',                                   \n",
    "                 x='perturbation', hue='trial_type', \n",
    "                 col = 'special_block_type',\n",
    "                 figsize=(4,3))\n",
    "for ax in fg.axes.flatten():\n",
    "    ax.set_ylim(-100,100)\n",
    "    ax.axhline(0,c='r',ls=':')"
   ]
  },
  {
   "cell_type": "code",
   "execution_count": null,
   "id": "6367ee87",
   "metadata": {
    "hidden": true
   },
   "outputs": [],
   "source": [
    "#dfc_.groupby(['subject', 'trial_index']).size()"
   ]
  },
  {
   "cell_type": "code",
   "execution_count": null,
   "id": "ea877725",
   "metadata": {
    "hidden": true
   },
   "outputs": [],
   "source": [
    "#for cn in calc_names:\n",
    "for df_to_plot in [dfc_multi_tsz]: #, df_all_multi_tsz]:\n",
    "    dfc_ = df_to_plot.query('trial_shift_size == 1 and trial_group_col_calc == \"trials\" and '\n",
    "                            ' trial_type != \"error_clamp\" and '\n",
    "                           ' special_block_type != \"error_clamp_sandwich\"')  \n",
    "    # error_data_for_calc = @cn\n",
    "    assert dfc_.groupby(['subject', 'trial_index']).size().max() == 3\n",
    "    print(len(dfc_))\n",
    "    #plt.figure(figsize=(6,3))\n",
    "    #dfc_ = df_all_multi_tsz.query('trial_shift_size == 1')\n",
    "    fg = sns.catplot(kind='violin', data=dfc_,\n",
    "                     y='err_sens', col = 'error_data_for_calc',                                   \n",
    "                     x='perturbation', figsize=(6,3))\n",
    "    #x = 'dist_rad_from_prevtgt2',\n",
    "    for ax in fg.axes.flatten():\n",
    "        ax.set_ylim(-7,7)\n",
    "        ax.axhline(0,c='r',ls=':')\n",
    "        #ax.set_title(cn)"
   ]
  },
  {
   "cell_type": "code",
   "execution_count": null,
   "id": "a7f8affa",
   "metadata": {
    "hidden": true
   },
   "outputs": [],
   "source": [
    "#for cn in calc_names:\n",
    "for df_to_plot in [dfc_multi_tsz]: #, df_all_multi_tsz]:\n",
    "    dfc_ = df_to_plot.query('trial_shift_size == 1 and trial_group_col_calc == \"trials\" and '\n",
    "                            ' trial_type != \"error_clamp\" and '\n",
    "                           ' special_block_type != \"error_clamp_sandwich\"')  \n",
    "    # error_data_for_calc = @cn\n",
    "    assert dfc_.groupby(['subject', 'trial_index']).size().max() == 3\n",
    "    print(len(dfc_))\n",
    "    #plt.figure(figsize=(6,3))\n",
    "    #dfc_ = df_all_multi_tsz.query('trial_shift_size == 1')\n",
    "    fg = sns.catplot(kind='violin', data=dfc_,\n",
    "                     y='err_sens', col = 'error_data_for_calc',                                   \n",
    "                     x='perturbation', row='subject', figsize=(6,3))\n",
    "    #x = 'dist_rad_from_prevtgt2',\n",
    "    for ax in fg.axes.flatten():\n",
    "        ax.set_ylim(-7,7)\n",
    "        ax.axhline(0,c='r',ls=':')\n",
    "        #ax.set_title(cn)"
   ]
  },
  {
   "cell_type": "code",
   "execution_count": null,
   "id": "ebee17dd",
   "metadata": {
    "hidden": true
   },
   "outputs": [],
   "source": [
    "#for cn in calc_names:\n",
    "for df_to_plot in [dfc_multi_tsz]: #, df_all_multi_tsz]:\n",
    "    dfc_ = df_to_plot.query('trial_shift_size == 1 and trial_group_col_calc == \"trials\" and '\n",
    "                            ' trial_type != \"error_clamp\" and '\n",
    "                           ' special_block_type != \"error_clamp_sandwich\"')  \n",
    "    # error_data_for_calc = @cn\n",
    "    assert dfc_.groupby(['subject', 'trial_index']).size().max() == 3\n",
    "    print(len(dfc_))\n",
    "    #plt.figure(figsize=(6,3))\n",
    "    #dfc_ = df_all_multi_tsz.query('trial_shift_size == 1')\n",
    "    fg = sns.catplot(kind='violin', data=dfc_,\n",
    "                     y='err_sens', col = 'error_data_for_calc',                                   \n",
    "                     x='perturbation', row='tgti_to_show', figsize=(6,3))\n",
    "    #x = 'dist_rad_from_prevtgt2',\n",
    "    for ax in fg.axes.flatten():\n",
    "        ax.set_ylim(-7,7)\n",
    "        ax.axhline(0,c='r',ls=':')\n",
    "        #ax.set_title(cn)"
   ]
  },
  {
   "cell_type": "code",
   "execution_count": null,
   "id": "2ab259c8",
   "metadata": {
    "code_folding": [
     12,
     19,
     39,
     44
    ],
    "hidden": true,
    "run_control": {
     "marked": false
    }
   },
   "outputs": [],
   "source": [
    "# all subj separately\n",
    "subj = subjects[0]\n",
    "df_to_plot = df_all_multi_tsz\n",
    "\n",
    "ynames_add = ['error_endpoint_ang', 'jax2']\n",
    "ynames_every = ['err_sens', 'correction']\n",
    "\n",
    "titest = 18\n",
    "ww = 12; hh = 2\n",
    "nr = len(calc_names) * (len(ynames_every) + 2) + len(ynames_add);\n",
    "nc = 1\n",
    "fig, axs = plt.subplots(nr,nc, figsize=(nc*ww,nr*hh))\n",
    "axs = axs.reshape((nr,nc))\n",
    "def fplot(ax, dfc_, yn):\n",
    "    ax = sns.lineplot(x=\"trials\", y=yn, data=dfc_,  estimator='mean', \n",
    "                      errorbar='se',hue = 'trial_group_col_calc', ax=ax)#, hue='block')\n",
    "    ax.axhline(y=0, c='red', ls=':')\n",
    "    ax.legend(loc='lower right')\n",
    "\n",
    "axi = 0\n",
    "for cni, cn in enumerate(calc_names):\n",
    "    #df_all_multi_tsz\n",
    "    #df_to_plot = dfc_multi_tsz    \n",
    "    dfc_ = df_to_plot.query('trial_shift_size == 1 and trial_group_col_calc == \"trials\" '\n",
    "            'and error_data_for_calc == @cn and trial_index < @titest and subject == @subj')        \n",
    "    for yn in ynames_every:\n",
    "        ax = axs[axi, 0 ]\n",
    "        fplot(ax, dfc_, yn)\n",
    "        ax.set_ylabel(f'{yn}: {cn}')\n",
    "        ax.set_title(f'{yn}: {cn}')\n",
    "        axi += 1\n",
    "        \n",
    "    for ii in range(2):\n",
    "        ax = axs[axi, 0 ]\n",
    "        yn = coln_pairs[cni][ii]\n",
    "        fplot(ax, dfc_, yn)\n",
    "        ax.set_title(f'{yn}: {cn}')\n",
    "        axi += 1\n",
    "        \n",
    "    \n",
    "for yn in ynames_add:\n",
    "    ax = axs[axi, 0]\n",
    "    fplot(ax, dfc_, yn)\n",
    "    axi += 1\n",
    "\n",
    "for ax in axs.flatten():\n",
    "    ax.set_xlim(0,titest)\n",
    "    #dfc_ = df_all_multi_tsz.query('trial_shift_size == 1')\n",
    "    \n",
    "plt.tight_layout()\n"
   ]
  },
  {
   "cell_type": "code",
   "execution_count": null,
   "id": "dedc19b8",
   "metadata": {
    "hidden": true,
    "run_control": {
     "marked": false
    }
   },
   "outputs": [],
   "source": [
    "import gc; gc.collect()"
   ]
  },
  {
   "cell_type": "markdown",
   "id": "9250ef65",
   "metadata": {
    "hidden": true
   },
   "source": []
  },
  {
   "cell_type": "markdown",
   "id": "36e3c5b6",
   "metadata": {
    "heading_collapsed": true,
    "hidden": true
   },
   "source": [
    "##### REST and  move prep anomalise"
   ]
  },
  {
   "cell_type": "code",
   "execution_count": null,
   "id": "1dd3d8d6",
   "metadata": {
    "hidden": true
   },
   "outputs": [],
   "source": [
    "tis_cur = tis[10:30]\n",
    "tis_cur = tis[10:11]\n",
    "dfr = dfc_all.query('subject == @subjects[0] and trial_index in @tis_cur')"
   ]
  },
  {
   "cell_type": "code",
   "execution_count": null,
   "id": "23d8ace2",
   "metadata": {
    "hidden": true
   },
   "outputs": [],
   "source": [
    "dfr = dfr.sort_values('time')"
   ]
  },
  {
   "cell_type": "code",
   "execution_count": null,
   "id": "2d6627ed",
   "metadata": {
    "hidden": true
   },
   "outputs": [],
   "source": []
  },
  {
   "cell_type": "code",
   "execution_count": null,
   "id": "865e7cd9",
   "metadata": {
    "hidden": true
   },
   "outputs": [],
   "source": [
    "dfr.shift"
   ]
  },
  {
   "cell_type": "code",
   "execution_count": null,
   "id": "750d7e3b",
   "metadata": {
    "hidden": true
   },
   "outputs": [],
   "source": []
  },
  {
   "cell_type": "code",
   "execution_count": null,
   "id": "db0d879b",
   "metadata": {
    "hidden": true
   },
   "outputs": [],
   "source": [
    "dfccos['time_mvt'] = -100"
   ]
  },
  {
   "cell_type": "code",
   "execution_count": null,
   "id": "103f70a6",
   "metadata": {
    "hidden": true
   },
   "outputs": [],
   "source": [
    "#dfccos = dfccos.copy()"
   ]
  },
  {
   "cell_type": "code",
   "execution_count": null,
   "id": "8be25a7a",
   "metadata": {
    "hidden": true
   },
   "outputs": [],
   "source": [
    "inds"
   ]
  },
  {
   "cell_type": "code",
   "execution_count": null,
   "id": "21fa463e",
   "metadata": {
    "hidden": true
   },
   "outputs": [],
   "source": [
    "dfccos.query()"
   ]
  },
  {
   "cell_type": "code",
   "execution_count": null,
   "id": "f80f1642",
   "metadata": {
    "hidden": true
   },
   "outputs": [],
   "source": [
    "#dfccos_hit = dfccos[~dfccos['nonhit'] ]\n",
    "#for ti in tis:\n"
   ]
  },
  {
   "cell_type": "code",
   "execution_count": null,
   "id": "eae16e72",
   "metadata": {
    "hidden": true
   },
   "outputs": [],
   "source": [
    "dfccos['time_mvt']"
   ]
  },
  {
   "cell_type": "code",
   "execution_count": null,
   "id": "51c67fca",
   "metadata": {
    "hidden": true
   },
   "outputs": [],
   "source": [
    "#nfs.describe()"
   ]
  },
  {
   "cell_type": "code",
   "execution_count": null,
   "id": "20578726",
   "metadata": {
    "hidden": true
   },
   "outputs": [],
   "source": [
    "nf1  = float( params['time_at_home'] ) * float(params['FPS'] )\n",
    "nf2 = float( params['motor_prep_duration'] ) * float(params['FPS'] )\n",
    "print(nf1,nf2)"
   ]
  },
  {
   "cell_type": "code",
   "execution_count": null,
   "id": "c86da522",
   "metadata": {
    "hidden": true
   },
   "outputs": [],
   "source": [
    "triggs"
   ]
  },
  {
   "cell_type": "code",
   "execution_count": null,
   "id": "cb98f406",
   "metadata": {
    "hidden": true
   },
   "outputs": [],
   "source": [
    "nf1 * 1.5"
   ]
  },
  {
   "cell_type": "code",
   "execution_count": null,
   "id": "0e6f0841",
   "metadata": {
    "hidden": true
   },
   "outputs": [],
   "source": [
    "subj2nt = df_unproc[['subject','trial_index']].groupby('subject').nunique()\n",
    "subj2nt = subj2nt.to_dict('index')\n",
    "#{'2023-SE1-001': {'trial_index': 637},\n",
    "# '2023-SE1-002': {'trial_index': 636},"
   ]
  },
  {
   "cell_type": "code",
   "execution_count": null,
   "id": "fff65dee",
   "metadata": {
    "hidden": true
   },
   "outputs": [],
   "source": [
    "subj2nt"
   ]
  },
  {
   "cell_type": "code",
   "execution_count": null,
   "id": "08f77aca",
   "metadata": {
    "hidden": true
   },
   "outputs": [],
   "source": [
    "subj2qv"
   ]
  },
  {
   "cell_type": "code",
   "execution_count": null,
   "id": "0bf3a83c",
   "metadata": {
    "hidden": true
   },
   "outputs": [],
   "source": [
    "subj2qv"
   ]
  },
  {
   "cell_type": "code",
   "execution_count": null,
   "id": "45356126",
   "metadata": {
    "hidden": true
   },
   "outputs": [],
   "source": [
    "for phase in ['REST', 'GO_CUE_WAIT_AND_SHOW']:\n",
    "    print(phase)\n",
    "    phases = [phase]\n",
    "    triggs = [phase2trigger[ph] for ph in phases]\n",
    "    df0 = df_unproc.query('current_phase_trigger in @triggs')\n",
    "    \n",
    "    nfs = df0.groupby(['subject','trial_index']).size().\\\n",
    "        reset_index().rename(columns={0:'numframes'})\n",
    "    \n",
    "    \n",
    "    dftmp = nfs.groupby('subject')['numframes'].quantile(0.75).reset_index().set_index('subject')\n",
    "    subj2qv = dftmp.to_dict('index')\n",
    "    print(subj2qv)\n",
    "    \n",
    "    def f(row):\n",
    "        qv = subj2qv[row['subject']]['numframes']\n",
    "        return row['numframes'] > qv\n",
    "    nfs['bad'] = nfs.apply(f,1)\n",
    "    nfs\n",
    "    \n",
    "    display( nfs.describe() )\n",
    "    \n",
    "    #qv = nfs['numframes'].quantile(0.5)\n",
    "    #qv = nf1 * 1.5\n",
    "    nfs_bad = nfs[nfs['bad']]\n",
    "    \n",
    "    grp = nfs_bad[['subject','trial_index']].groupby('subject')\n",
    "    display(grp.size())\n",
    "    \n",
    "    plt.figure()\n",
    "    sns.lineplot(nfs, x='trial_index', y ='numframes')"
   ]
  },
  {
   "cell_type": "code",
   "execution_count": null,
   "id": "041ebce0",
   "metadata": {
    "hidden": true
   },
   "outputs": [],
   "source": [
    "for phase in ['REST', 'GO_CUE_WAIT_AND_SHOW'][1:]:\n",
    "    print(phase)\n",
    "    phases = [phase]\n",
    "    triggs = [phase2trigger[ph] for ph in phases]\n",
    "    df0 = df_unproc.query('current_phase_trigger in @triggs')\n",
    "    \n",
    "    nfs = df0.groupby(['subject','trial_index']).size().\\\n",
    "        reset_index().rename(columns={0:'numframes'})\n",
    "    sns.lineplot(nfs.query('subject == @subjects[0]'), x='trial_index', y ='numframes')"
   ]
  },
  {
   "cell_type": "code",
   "execution_count": null,
   "id": "fc032952",
   "metadata": {
    "hidden": true
   },
   "outputs": [],
   "source": [
    "#nfs_bad.query('sub')\n"
   ]
  },
  {
   "cell_type": "markdown",
   "id": "ef61ffaf",
   "metadata": {
    "hidden": true
   },
   "source": [
    "##### plot time resolved with pert and blocks"
   ]
  },
  {
   "cell_type": "code",
   "execution_count": null,
   "id": "f0b88d6f",
   "metadata": {
    "hidden": true
   },
   "outputs": [],
   "source": [
    "(dfc_multi_tsz['trial_type'] == 'error_clamp').sum()"
   ]
  },
  {
   "cell_type": "code",
   "execution_count": null,
   "id": "571d6c63",
   "metadata": {
    "hidden": true
   },
   "outputs": [],
   "source": [
    "from config2 import path_fig"
   ]
  },
  {
   "cell_type": "code",
   "execution_count": null,
   "id": "f0770173",
   "metadata": {
    "hidden": true
   },
   "outputs": [],
   "source": [
    "#subj = subjects[1]\n",
    "dfr_all = []\n",
    "for subj in subjects:\n",
    "\n",
    "    #df_to_plot = df_all_multi_tsz\n",
    "    df_to_plot = dfc_multi_tsz\n",
    "\n",
    "    #' and special_block_type != \"error_clamp_sandwich\"'\n",
    "    qs0 = ('trial_shift_size == 1 and trial_group_col_calc == \"trials\"'\n",
    "           ' and trial_type != \"error_clamp0\"'                      \n",
    "                f' and subject == \"{subj}\"')\n",
    "    #dfc0_ = df_to_plot.query(qs0) \n",
    "    r = []\n",
    "    for cni, cn in enumerate(calc_names):\n",
    "        #df_all_multi_tsz\n",
    "        #df_to_plot = dfc_multi_tsz            \n",
    "        qs = qs0 + f' and error_data_for_calc == \"{cn}\" '\n",
    "        dfc_ = df_to_plot.query(qs)\n",
    "\n",
    "        print(len(dfc_))\n",
    "\n",
    "        dfc_ = dfc_.set_index('trials')\n",
    "        if cni != 0:\n",
    "            dfc_ = dfc_[['err_sens','correction']]\n",
    "        dfc_ = dfc_.rename(columns={'err_sens': f'err_sens:{cn}', 'correction': f'correction:{cn}'})\n",
    "        r += [ dfc_]\n",
    "\n",
    "    #[dfc0_.drop(labels=['err_sens','correction'], axis=1)]\n",
    "    dfr0 = pd.concat( r, axis=1)\n",
    "    print(len(dfr0))\n",
    "\n",
    "    dfr0 = dfr0.reset_index()\n",
    "    \n",
    "    print( 'num nans = ', dfr0['trial_index'].isna().sum() )\n",
    "    dfr = dfr0[~dfr0['trial_index'].isna() ] \n",
    "\n",
    "    dfr_all += [dfr]\n",
    "    #dfr['block_ind']\n",
    "    #dfr.query('trial_type != \"error_clamp\"').groupby('block_ind')\n",
    "    #coln_pairs\n",
    "\n",
    "    ynames = []\n",
    "    for yn1, yn2, nh, cn in coln_pairs:\n",
    "        ynames += [f'err_sens:{cn}', f'correction:{cn}', yn1, yn2]\n",
    "    ynames += ['error_endpoint_ang']\n",
    "    print(ynames)\n",
    "\n",
    "    #assert len(dfc_) == len(dfr), (len(dfc_), len(dfr))\n",
    "    #dfr[['trial_index','err_sens:signed_area','err_sens:lh_ang']]\n",
    "    dfcpcos_, dfcos_ = dfcpc_all.query('subject == @subj'), dfc_all.query('subject == @subj')\n",
    "\n",
    "    assert 0 == sum( dfr['trial_index'].duplicated() )\n",
    "\n",
    "    xlim = 0,150\n",
    "    # dfc_ = dfr.query('trial_shift_size == 1 and trial_group_col_calc == \"trials\" '\n",
    "    #         'and error_data_for_calc == @cn and trial_index < @xlim[1] and subject == @subj')\n",
    "    dfr_ = dfr.query('trial_index < @xlim[1]')\n",
    "\n",
    "    from behav_proc import multiplot\n",
    "    #['err_sens', 'correction']\n",
    "    multiplot(dfr_, dfcpcos_, dfcos_, ynames, start_ind=0, xlim = xlim , ww=14, hh=1.5,\n",
    "             show_titles = True)\n",
    "    plt.tight_layout()\n",
    "    #plt.savefig( pjoin(path_fig, f'{subj}_{\",\".join(ynames)}.pdf' ) )\n",
    "    plt.savefig( pjoin(path_fig, f'{subj}_nr={len(ynames)}_xlim={xlim}.pdf' ) )\n",
    "    plt.close()\n",
    "    \n",
    "dfr_all = pd.concat(dfr_all).reset_index()"
   ]
  },
  {
   "cell_type": "code",
   "execution_count": null,
   "id": "f826518e",
   "metadata": {
    "hidden": true
   },
   "outputs": [],
   "source": [
    "dfr['trial_index'].isna().sum()"
   ]
  },
  {
   "cell_type": "code",
   "execution_count": null,
   "id": "403bbf59",
   "metadata": {
    "hidden": true
   },
   "outputs": [],
   "source": [
    "print( dfr['trial_index'].isna().sum() )\n",
    "print( dfr_all['trial_index'].isna().sum() )\n",
    "dfr_all = dfr_all[~dfr_all['trial_index'].isna() ] "
   ]
  },
  {
   "cell_type": "code",
   "execution_count": null,
   "id": "b2b7351e",
   "metadata": {
    "hidden": true
   },
   "outputs": [],
   "source": [
    "#dfr_all['subject']"
   ]
  },
  {
   "cell_type": "code",
   "execution_count": null,
   "id": "2aaf82ac",
   "metadata": {
    "hidden": true
   },
   "outputs": [],
   "source": [
    "subjects = list(sorted(subjects))"
   ]
  },
  {
   "cell_type": "code",
   "execution_count": null,
   "id": "e90b6c4b",
   "metadata": {
    "hidden": true
   },
   "outputs": [],
   "source": [
    "subjects_subset"
   ]
  },
  {
   "cell_type": "code",
   "execution_count": null,
   "id": "bf1443a9",
   "metadata": {
    "hidden": true
   },
   "outputs": [],
   "source": [
    "sns.lineplot(dfcc, x='trial_index', y ='feedback_abs')"
   ]
  },
  {
   "cell_type": "code",
   "execution_count": null,
   "id": "4146f1f5",
   "metadata": {
    "hidden": true
   },
   "outputs": [],
   "source": [
    "sns.lineplot(dfcc, x='trial_index', y ='feedback')"
   ]
  },
  {
   "cell_type": "code",
   "execution_count": null,
   "id": "560083d0",
   "metadata": {
    "hidden": true
   },
   "outputs": [],
   "source": [
    "dfcc['error_intdist']"
   ]
  },
  {
   "cell_type": "code",
   "execution_count": null,
   "id": "8fa2f020",
   "metadata": {
    "hidden": true
   },
   "outputs": [],
   "source": [
    "dfcc.columns"
   ]
  },
  {
   "cell_type": "code",
   "execution_count": null,
   "id": "85b53b82",
   "metadata": {
    "hidden": true
   },
   "outputs": [],
   "source": []
  },
  {
   "cell_type": "markdown",
   "id": "ef439530",
   "metadata": {},
   "source": [
    "# error plots"
   ]
  },
  {
   "cell_type": "code",
   "execution_count": null,
   "id": "d3b685bc",
   "metadata": {},
   "outputs": [],
   "source": [
    "# TODO maybe I should set error to nan for pause trials"
   ]
  },
  {
   "cell_type": "code",
   "execution_count": null,
   "id": "d4704106",
   "metadata": {},
   "outputs": [],
   "source": [
    "#pause_inds = dfcpcos['trial_index'].to_numpy()\n",
    "pause_inds = dfcpcos['trial_index'].unique()\n",
    "block_ends = dfcos.groupby(['block_ind'])['trial_index'].max()"
   ]
  },
  {
   "cell_type": "code",
   "execution_count": null,
   "id": "ffd5803e",
   "metadata": {},
   "outputs": [],
   "source": [
    "block_starts = markBlockStarts(dfes, ax, dict(ymin = -1, ymax = 1, color='grey', ls=':') )"
   ]
  },
  {
   "cell_type": "code",
   "execution_count": null,
   "id": "04443553",
   "metadata": {
    "run_control": {
     "marked": true
    }
   },
   "outputs": [],
   "source": [
    "# coef = dfcc['error_area_signed'].quantile(0.75) / 15\n",
    "# dfcc['error_aug3'] = dfcc['error_area_signed'] + coef * dfcc['error_pert_adj']\n"
   ]
  },
  {
   "cell_type": "code",
   "execution_count": null,
   "id": "01399cac",
   "metadata": {},
   "outputs": [],
   "source": [
    "# not needed because pauses are ALRREADY NOT in dfcc\n",
    "\n",
    "# inds = dfccos['trial_index'].isin(pause_inds)\n",
    "# for yname in ['error_aug2', 'error_intdist2', 'error_intdist2nn','error_intdist','error_distance',              \n",
    "#              'error_distance_lh']:\n",
    "#     dfccos.loc[inds, yname] = np.nan"
   ]
  },
  {
   "cell_type": "code",
   "execution_count": null,
   "id": "31e5861d",
   "metadata": {},
   "outputs": [],
   "source": [
    "# c = dfccos['error'] > 180\n",
    "# dfccos.loc[c, 'error'] =  dfccos.loc[c, 'error'] - 360\n",
    "# c = dfccos['error'] < -180\n",
    "# dfccos.loc[c, 'error'] =  dfccos.loc[c, 'error'] + 360\n",
    "# c = dfccos['perturbation'] < 0\n",
    "# dfccos['error_pert_adj'] = dfccos['error']\n",
    "# dfccos.loc[c, 'error_pert_adj'] = -dfccos.loc[c,'error_pert_adj']\n"
   ]
  },
  {
   "cell_type": "code",
   "execution_count": null,
   "id": "f05c2809",
   "metadata": {},
   "outputs": [],
   "source": [
    "dfccos  = dfcc_all.query('subject == @subj').copy()"
   ]
  },
  {
   "cell_type": "code",
   "execution_count": null,
   "id": "9625f0ab",
   "metadata": {},
   "outputs": [],
   "source": [
    "numtrain = params['num_training']"
   ]
  },
  {
   "cell_type": "code",
   "execution_count": null,
   "id": "3eeb9f46",
   "metadata": {},
   "outputs": [],
   "source": [
    "from behav_proc import markBlockStarts"
   ]
  },
  {
   "cell_type": "code",
   "execution_count": null,
   "id": "24e02307",
   "metadata": {},
   "outputs": [],
   "source": [
    "dfccos['error_lh_ang_deg'] = dfccos['error_lh_ang'] * 180 / np.pi"
   ]
  },
  {
   "cell_type": "code",
   "execution_count": null,
   "id": "7e5d8d09",
   "metadata": {},
   "outputs": [],
   "source": []
  },
  {
   "cell_type": "code",
   "execution_count": null,
   "id": "2ed5d7a0",
   "metadata": {},
   "outputs": [],
   "source": [
    "%matplotlib inline\n",
    "import matplotlib.pyplot as plt\n",
    "#xlim = None\n",
    "xlim = 0,200\n",
    "grp = dfccos.query('trial_type != \"error_clamp\"').groupby('block_ind')\n",
    "block_ends = grp['trial_index'].max()\n",
    "df_ = dfccos.query('trial_index >= @numtrain')\n",
    "\n",
    "# ynames = ['error','error_pert_adj', 'error_distance',\n",
    "#           'error_area_signed_nn',\n",
    "#           'error_area_signed', 'error_aug3', \n",
    "#           'time_lh', 'traj_length']\n",
    "ynames = ['time_lh', 'traj_length_adj',\n",
    "          'error_area2_signed_nn',          \n",
    "           'error_lh_ang_deg']\n",
    "ww = 20; hh=3\n",
    "nr = len(ynames)\n",
    "fig,axs =  plt.subplots(nr,1,figsize=(ww, nr*hh))\n",
    "axs = axs.flatten()\n",
    "for axi, yname in enumerate(ynames):    \n",
    "    ax = axs[axi]    \n",
    "    sns.lineplot(df_, x='trial_index', y =yname, ax=ax)    \n",
    "    from config2 import path_fig\n",
    "    \n",
    "    mult = df_[yname].max() / 40                \n",
    "    ax.plot(dfccos['trial_index'], dfccos['perturbation']._values * mult,\n",
    "             alpha=0.4, c='r', label='pert')\n",
    "    ax.vlines(pause_inds, -20 * mult, 20 * mult, \n",
    "              color='green', ls = ':', lw=3,\n",
    "             label='pause')\n",
    "    \n",
    "#     ax.vlines(block_ends, -20 * mult, 20 * mult, \n",
    "#  color='grey', ls = '--',\n",
    "#              label='block')\n",
    "    block_starts = markBlockStarts(df_, ax, \n",
    "        dict(ymin = -20 * mult, ymax =  20 * mult, \n",
    "             color='grey', ls='--', alpha=0.5) )\n",
    "    \n",
    "    ax.vlines(ECs, 0.5 * 20 * mult, 20*mult, \n",
    "              color='magenta',lw=2, ls='--')\n",
    "\n",
    "    ax.plot(dfccos['trial_index'], dfccos['tgti_to_show'] * 7 * mult, \n",
    "            color='cyan', alpha=0.5,\n",
    "           label='target', ls=':')\n",
    "    ax.grid(False)\n",
    "    ax.axhline(y=0, ls=':', c='red')\n",
    "\n",
    "    if axi == nr - 1:\n",
    "        ax.legend(loc='lower right')\n",
    "    ax.set_xlim(*xlim)\n",
    "plt.tight_layout()\n",
    "plt.savefig( pjoin(path_fig, f'{subj}_{\",\".join(ynames)}.pdf' ) )"
   ]
  },
  {
   "cell_type": "code",
   "execution_count": null,
   "id": "0f78a85f",
   "metadata": {},
   "outputs": [],
   "source": [
    "from nf_poster_plots import *\n",
    "locs = oneSubjErrDyn(dfccos, pause_inds, subj=subj)\n",
    "#axs= locs['axs']\n",
    "plt.close()"
   ]
  },
  {
   "cell_type": "code",
   "execution_count": null,
   "id": "f0dad388",
   "metadata": {},
   "outputs": [],
   "source": [
    "dfcc"
   ]
  },
  {
   "cell_type": "code",
   "execution_count": null,
   "id": "164974a5",
   "metadata": {},
   "outputs": [],
   "source": [
    "#dfcc['error_distance']"
   ]
  },
  {
   "cell_type": "code",
   "execution_count": null,
   "id": "aa7e2a17",
   "metadata": {},
   "outputs": [],
   "source": []
  },
  {
   "cell_type": "code",
   "execution_count": null,
   "id": "98e08375",
   "metadata": {},
   "outputs": [],
   "source": [
    "# TODO: error clamp need to be handled differently?"
   ]
  },
  {
   "cell_type": "code",
   "execution_count": null,
   "id": "f9468154",
   "metadata": {},
   "outputs": [],
   "source": [
    "#sns.lineplot(dfcc, x='trial_index', y ='error_eucl')\n",
    "#sns.lineplot(dfcc, x='trial_index', y ='feedbackX')\n",
    "sns.lineplot(dfcc, x='trial_index', y ='feedback_abs',label='feedback_abs')\n",
    "sns.lineplot(dfcc, x='trial_index', y ='org_feedback_abs',label='org_feedback_abs',\n",
    "            ls='--')\n",
    "#sns.lineplot(dfcc, x='trial_index', y ='feedback')\n",
    "#sns.lineplot(dfcc, x='trial_index', y ='error')\n",
    "sns.lineplot(dfcc, x='trial_index', y ='perturbation', alpha=0.4, c='r',label='pert')\n",
    "sns.lineplot(dfcc, x='trial_index', y ='target_locs', c='g',label='tgt')\n",
    "plt.gca().vlines(dfcpc['trial_index'], -20,10, color= 'cyan', ls='--')\n",
    "plt.gca().vlines(dfctc['trial_index'], -20,-17, color= 'gray', ls='--',alpha=0.4)\n",
    "plt.legend()"
   ]
  },
  {
   "cell_type": "markdown",
   "id": "a870c907",
   "metadata": {
    "heading_collapsed": true
   },
   "source": [
    "# summary one remnants"
   ]
  },
  {
   "cell_type": "code",
   "execution_count": null,
   "id": "9b05e4b2",
   "metadata": {
    "hidden": true
   },
   "outputs": [],
   "source": [
    "pause_inds = np.array(pause_inds)\n",
    "dfccos['pause_rel'] = -100\n",
    "dfccos.loc[dfccos['trial_index'].isin(pause_inds-1), 'pause_rel'] = -1\n",
    "dfccos.loc[dfccos['trial_index'].isin(pause_inds+1), 'pause_rel'] = 1\n",
    "# for pi in pause_inds:\n",
    "#     piprev=  pi -1\n",
    "#     pinext=  pi +1\n",
    "#     df_ = dfccos.query('trial_index == @piprev')\n"
   ]
  },
  {
   "cell_type": "code",
   "execution_count": null,
   "id": "0bde1e33",
   "metadata": {
    "hidden": true
   },
   "outputs": [],
   "source": [
    "#df_['pause_rel']"
   ]
  },
  {
   "cell_type": "code",
   "execution_count": null,
   "id": "9fe4418d",
   "metadata": {
    "hidden": true
   },
   "outputs": [],
   "source": [
    "num_coupled_EC = \\\n",
    "    np.sum( dfccos.query(\"trial_type == 'error_clamp'\")['trial_index'].diff() == 1 )\n",
    "print(f'num_coupled_EC = {num_coupled_EC}')"
   ]
  },
  {
   "cell_type": "code",
   "execution_count": null,
   "id": "7c439ecb",
   "metadata": {
    "hidden": true
   },
   "outputs": [],
   "source": [
    "len(block_starts), len(block_ends)"
   ]
  },
  {
   "cell_type": "code",
   "execution_count": null,
   "id": "a39b6390",
   "metadata": {
    "hidden": true
   },
   "outputs": [],
   "source": []
  },
  {
   "cell_type": "code",
   "execution_count": null,
   "id": "68bbcb84",
   "metadata": {
    "hidden": true
   },
   "outputs": [],
   "source": [
    "\n",
    "\n",
    "block_starts = grp['trial_index'].min()\n",
    "block_starts = block_starts.to_dict()\n",
    "\n",
    "block_ends = grp['trial_index'].max()\n",
    "block_ends = block_ends.to_dict()\n",
    "\n",
    "\n",
    "block_bounds = {}\n",
    "for bi in block_starts.keys():\n",
    "    block_bounds[bi] = block_starts[bi],block_ends[bi]\n",
    "block_bounds"
   ]
  },
  {
   "cell_type": "markdown",
   "id": "ba28a4c3",
   "metadata": {
    "heading_collapsed": true,
    "hidden": true
   },
   "source": [
    "## Start of block vs end of block"
   ]
  },
  {
   "cell_type": "code",
   "execution_count": null,
   "id": "bfa8a453",
   "metadata": {
    "hidden": true
   },
   "outputs": [],
   "source": [
    "dfccos.columns"
   ]
  },
  {
   "cell_type": "code",
   "execution_count": null,
   "id": "7a7d9e6c",
   "metadata": {
    "hidden": true
   },
   "outputs": [],
   "source": [
    "dfccos['trial_type'].unique()"
   ]
  },
  {
   "cell_type": "code",
   "execution_count": null,
   "id": "d586b9ef",
   "metadata": {
    "hidden": true
   },
   "outputs": [],
   "source": [
    "grp = dfccos.query('trial_type != \"error_clamp\"').groupby('block_ind')\n",
    "\n",
    "df1 = grp['trial_index'].min().to_frame().rename(columns={'trial_index':'block_start_trial_index'})\n",
    "df2 = grp['trial_index'].max().to_frame().rename(columns={'trial_index':'block_end_trial_index'})\n",
    "block_bounds = pd.concat( [df1, df2], axis=1)\n",
    "\n",
    "sts = block_bounds.query('block_ind >= 0')['block_start_trial_index']._values\n",
    "df_block_start = dfccos.loc[dfccos['trial_index'].isin(sts)]\n",
    "\n",
    "ends = block_bounds.query('block_ind >= 0')['block_end_trial_index']._values\n",
    "df_block_end = dfccos.loc[dfccos['trial_index'].isin(ends)]\n",
    "\n",
    "ynames = ['error_pert_adj', 'error_area_signed']\n",
    "#'error', \n",
    "\n",
    "\n",
    "df_block_start = df_block_start[['block_ind', 'trial_type'] + ynames].set_index('block_ind')\n",
    "#ynames_mod = [yn + '_start' for yn in ynames]\n",
    "#rd = dict(zip(ynames,ynames_mod))\n",
    "#df_block_start = df_block_start.rename(columns=rd)\n",
    "df_block_start['type'] = 'start'\n",
    "\n",
    "df_block_end =   df_block_end[['block_ind', 'trial_type'] + ynames].set_index('block_ind')\n",
    "df_block_end['type'] = 'end'\n",
    "\n",
    "df_startend = pd.concat([df_block_start, df_block_end])"
   ]
  },
  {
   "cell_type": "code",
   "execution_count": null,
   "id": "3cb89ea5",
   "metadata": {
    "hidden": true
   },
   "outputs": [],
   "source": [
    "df_startend"
   ]
  },
  {
   "cell_type": "code",
   "execution_count": null,
   "id": "1c9fbcd8",
   "metadata": {
    "hidden": true
   },
   "outputs": [],
   "source": [
    "for yname in ynames:\n",
    "    plt.figure()\n",
    "    sns.violinplot(df_startend, y=yname, x='type', hue='trial_type', split=True)"
   ]
  },
  {
   "cell_type": "code",
   "execution_count": null,
   "id": "fbb29298",
   "metadata": {
    "hidden": true
   },
   "outputs": [],
   "source": [
    "df_ = dfccos.query('pause_rel > -10')\n",
    "#df_ = df_.query('error < 150')\n",
    "\n",
    "ynames = ['error_area_signed',  'error_distance', 'error']\n",
    "for yname in ynames:\n",
    "    plt.figure()\n",
    "    \n",
    "#     if yname  == 'error':\n",
    "#         df_ = df_.query('error < 150')\n",
    "    sns.violinplot(df_, y=yname, x='pause_rel')"
   ]
  },
  {
   "cell_type": "code",
   "execution_count": null,
   "id": "5da5f535",
   "metadata": {
    "hidden": true
   },
   "outputs": [],
   "source": [
    "df_.index"
   ]
  },
  {
   "cell_type": "markdown",
   "id": "43d1bc18",
   "metadata": {},
   "source": [
    "# summary many"
   ]
  },
  {
   "cell_type": "code",
   "execution_count": null,
   "id": "b1c5c909",
   "metadata": {},
   "outputs": [],
   "source": [
    "dfcc_all_ = dfcc_all.drop(labels=['level_0', 'index'], axis=1)\n",
    "dfcc_all_ = dfcc_all_.reset_index().drop(labels=['index'], axis=1)\n",
    "dfcc_all_"
   ]
  },
  {
   "cell_type": "code",
   "execution_count": null,
   "id": "763566d1",
   "metadata": {},
   "outputs": [],
   "source": [
    "numtrain = int(params['num_training'])\n",
    "from behav_proc import qs_notspec_not_afterspec, spectrials\n",
    "qs = qs_notspec_not_afterspec\n",
    "df_ = dfcc_all.query(qs)"
   ]
  },
  {
   "cell_type": "markdown",
   "id": "368d26a1",
   "metadata": {},
   "source": [
    "### Reaction time"
   ]
  },
  {
   "cell_type": "code",
   "execution_count": null,
   "id": "563a39a6",
   "metadata": {},
   "outputs": [],
   "source": [
    "#same plot legend group by var"
   ]
  },
  {
   "cell_type": "code",
   "execution_count": null,
   "id": "0c138c6e",
   "metadata": {},
   "outputs": [],
   "source": [
    "#dfcc.columns"
   ]
  },
  {
   "cell_type": "code",
   "execution_count": null,
   "id": "b75acb2c",
   "metadata": {},
   "outputs": [],
   "source": [
    "df_all_multi_tsz['dist_rad_from_prevtgt2']"
   ]
  },
  {
   "cell_type": "code",
   "execution_count": null,
   "id": "cdc775c8",
   "metadata": {},
   "outputs": [],
   "source": [
    "[col for col in df_all_multi_tsz.columns if col.find('calc') >= 0]"
   ]
  },
  {
   "cell_type": "code",
   "execution_count": null,
   "id": "0ec6171a",
   "metadata": {},
   "outputs": [],
   "source": [
    "df_['dist_rad_from_prevtgt'].max()"
   ]
  },
  {
   "cell_type": "code",
   "execution_count": null,
   "id": "5e9842c1",
   "metadata": {},
   "outputs": [],
   "source": [
    "df__"
   ]
  },
  {
   "cell_type": "code",
   "execution_count": null,
   "id": "114e45dc",
   "metadata": {},
   "outputs": [],
   "source": [
    "df_all_multi_tsz['early'] = df_all_multi_tsz['block_ind'] < max_bi / 2"
   ]
  },
  {
   "cell_type": "code",
   "execution_count": null,
   "id": "e35645ca",
   "metadata": {},
   "outputs": [],
   "source": [
    "df_all_multi_tsz['early'].unique()"
   ]
  },
  {
   "cell_type": "code",
   "execution_count": null,
   "id": "417d1896",
   "metadata": {},
   "outputs": [],
   "source": [
    "gc.collect()"
   ]
  },
  {
   "cell_type": "code",
   "execution_count": null,
   "id": "602d2c1e",
   "metadata": {},
   "outputs": [],
   "source": [
    "df__ = df_all_multi_tsz.query(qs + ' and error_data_for_calc == @edfc')  \n",
    "# there is much more point for dist_rad_from_prevtgt2 == 0\n",
    "fg = sns.catplot(df__, kind='violin', y='time_lh', col='dist_rad_from_prevtgt2', row='early')\n",
    "for ax in fg.axes.flatten():\n",
    "    ax.set_ylim(-0.1,0.8)\n",
    "    ax.axhline(ls=':',c='r')"
   ]
  },
  {
   "cell_type": "code",
   "execution_count": null,
   "id": "89857808",
   "metadata": {},
   "outputs": [],
   "source": [
    "#dfes = dfcc.query(qs)# and err_sens >= -20 and err_sens <= 20')\n",
    "fg = sns.relplot(df_,kind='line', y='time_lh', x='trial_index')#, x = 'error_data_for_calc')\n",
    "# for ax in fg.axes.flatten():\n",
    "#     ax.set_ylim(-10,10)"
   ]
  },
  {
   "cell_type": "code",
   "execution_count": null,
   "id": "00f18883",
   "metadata": {},
   "outputs": [],
   "source": [
    "7/4"
   ]
  },
  {
   "cell_type": "code",
   "execution_count": null,
   "id": "9700e070",
   "metadata": {},
   "outputs": [],
   "source": [
    "fg = sns.relplot(df_,kind='line', y='time_lh', x='trialwb')#, x = 'error_data_for_calc')"
   ]
  },
  {
   "cell_type": "code",
   "execution_count": null,
   "id": "e67ac7ef",
   "metadata": {},
   "outputs": [],
   "source": [
    "df_.groupby(['subject', 'tgti_to_show', 'vis_feedback_type', 'trialwb']).size()"
   ]
  },
  {
   "cell_type": "code",
   "execution_count": null,
   "id": "a4a2d441",
   "metadata": {},
   "outputs": [],
   "source": [
    "ynames"
   ]
  },
  {
   "cell_type": "code",
   "execution_count": null,
   "id": "28c3353e",
   "metadata": {},
   "outputs": [],
   "source": [
    "dfc_multi_tsz['error_data_for_calc'].unique()"
   ]
  },
  {
   "cell_type": "code",
   "execution_count": null,
   "id": "8931d099",
   "metadata": {},
   "outputs": [],
   "source": [
    "dfc_multi_tsz['trial_shift_size'].unique()"
   ]
  },
  {
   "cell_type": "code",
   "execution_count": null,
   "id": "520cba8c",
   "metadata": {},
   "outputs": [],
   "source": [
    "len(dfes), len(dfc_multi_tsz)"
   ]
  },
  {
   "cell_type": "code",
   "execution_count": null,
   "id": "5e84b3fd",
   "metadata": {},
   "outputs": [],
   "source": [
    "grp = dfes.groupby(['subject','error_data_for_calc'])\n",
    "display(grp.size() )\n",
    "grp = dfes.groupby(['error_data_for_calc'])\n",
    "display(grp['err_sens'].mean())"
   ]
  },
  {
   "cell_type": "code",
   "execution_count": null,
   "id": "fa18f49a",
   "metadata": {},
   "outputs": [],
   "source": [
    "dfes = dfc_multi_tsz.query(qs + ' and trial_shift_size == 1')# and err_sens >= -20 and err_sens <= 20')\n",
    "fg = sns.catplot(dfes, kind='violin',y='err_sens', x = 'error_data_for_calc')\n",
    "for ax in fg.axes.flatten():\n",
    "    ax.set_ylim(-3,3)\n",
    "    ax.axhline(ls=':',c='r')"
   ]
  },
  {
   "cell_type": "markdown",
   "id": "c5642369",
   "metadata": {},
   "source": [
    "# Working with context similarity"
   ]
  },
  {
   "cell_type": "code",
   "execution_count": null,
   "id": "7098671f",
   "metadata": {},
   "outputs": [],
   "source": [
    "len(grp.groups[g])"
   ]
  },
  {
   "cell_type": "code",
   "execution_count": null,
   "id": "cb8f19d4",
   "metadata": {},
   "outputs": [],
   "source": [
    "dfcc_all_.groupby(['subject','Nctx_app']).size().to_frame().iloc[:10]"
   ]
  },
  {
   "cell_type": "code",
   "execution_count": null,
   "id": "f8443eb8",
   "metadata": {},
   "outputs": [],
   "source": [
    "grp.size()"
   ]
  },
  {
   "cell_type": "code",
   "execution_count": null,
   "id": "8e593efb",
   "metadata": {},
   "outputs": [],
   "source": [
    "dfcc_all.groupby(['subject','ctxid'])"
   ]
  },
  {
   "cell_type": "code",
   "execution_count": null,
   "id": "d00e65b5",
   "metadata": {},
   "outputs": [],
   "source": [
    "#grp.groups.keys()"
   ]
  },
  {
   "cell_type": "code",
   "execution_count": null,
   "id": "153bd49e",
   "metadata": {},
   "outputs": [],
   "source": [
    "len(dfcc_tmp)"
   ]
  },
  {
   "cell_type": "code",
   "execution_count": null,
   "id": "ea391308",
   "metadata": {},
   "outputs": [],
   "source": [
    "dfcc_all"
   ]
  },
  {
   "cell_type": "code",
   "execution_count": null,
   "id": "d1a4f68a",
   "metadata": {},
   "outputs": [],
   "source": [
    "int(np.nan)"
   ]
  },
  {
   "cell_type": "code",
   "execution_count": null,
   "id": "1c1f124e",
   "metadata": {},
   "outputs": [],
   "source": [
    "len(inds)\n",
    "\n",
    "len(dfcc_all.loc[inds, pref + ln])"
   ]
  },
  {
   "cell_type": "code",
   "execution_count": null,
   "id": "a25e0217",
   "metadata": {},
   "outputs": [],
   "source": [
    "len(pair_props[ln].to_numpy()), len(inds)"
   ]
  },
  {
   "cell_type": "code",
   "execution_count": null,
   "id": "702c9a13",
   "metadata": {},
   "outputs": [],
   "source": [
    "from behav_proc import qs_notspec\n",
    "qs = qs_notspec"
   ]
  },
  {
   "cell_type": "code",
   "execution_count": null,
   "id": "d161a090",
   "metadata": {},
   "outputs": [],
   "source": [
    "qs = qs_notspec_not_afterspec\n",
    "print(qs)\n",
    "df_ = dfcc_all.query(qs)"
   ]
  },
  {
   "cell_type": "code",
   "execution_count": null,
   "id": "326a1516",
   "metadata": {},
   "outputs": [],
   "source": [
    "dfcc.columns"
   ]
  },
  {
   "cell_type": "code",
   "execution_count": null,
   "id": "ea33814c",
   "metadata": {},
   "outputs": [],
   "source": [
    "coln_ctx_closeness = ['prev_ctx_both_close',\n",
    "       'prev_ctx_some_close', 'prev_ctx_tgt_close', 'prev_ctx_pert_close',\n",
    "       'prev_ctx_pert_same', 'prev_ctx_tgt_same']"
   ]
  },
  {
   "cell_type": "code",
   "execution_count": null,
   "id": "b1caf25e",
   "metadata": {},
   "outputs": [],
   "source": [
    "np.sum(df_['prev_block_ind_diff'].isna())"
   ]
  },
  {
   "cell_type": "code",
   "execution_count": null,
   "id": "d20913f9",
   "metadata": {},
   "outputs": [],
   "source": [
    "#sns.catplot?"
   ]
  },
  {
   "cell_type": "code",
   "execution_count": null,
   "id": "d6bb0f11",
   "metadata": {},
   "outputs": [],
   "source": [
    "df_notsame = df_.query('prev_block_ind_diff > 0')\n",
    "for c, cp in zip(['orange','blue'], coln_pairs):\n",
    "    coln_error = cp[0]\n",
    "    for coln in coln_ctx_closeness:\n",
    "        plt.figure(figsize=(4,3))\n",
    "        sns.catplot(df_notsame, y = coln_error, col=coln, kind='violin', height=3, color=c)\n",
    "    \n"
   ]
  },
  {
   "cell_type": "code",
   "execution_count": null,
   "id": "879fca82",
   "metadata": {},
   "outputs": [],
   "source": [
    "len(ctx_pairs), len(dfcc)"
   ]
  },
  {
   "cell_type": "code",
   "execution_count": null,
   "id": "de7739f6",
   "metadata": {},
   "outputs": [],
   "source": [
    "dfext_ = dfcc_all_.query('trial_index > @numtrain and trial_type != \"error_clamp\"')\n",
    "fg = sns.catplot(dfext_, kind='violin', x='prev_trial_type', \n",
    "                 y='error_area2_signed_nn_scaled_ed', col = 'special_block_type')\n",
    "\n",
    "fg = sns.catplot(dfext_, kind='violin', x='prev_trial_type', \n",
    "                 y='error_lh_ang', col = 'special_block_type')\n",
    "\n",
    "\n",
    "# dfext_ = dfc_multi_tsz.query('trial_index > @numtrain and trial_type != \"error_clamp\"')\n",
    "# fg = sns.catplot(dfext_, kind='violin', x='prev_trial_type', \n",
    "#                  y='error_area_signed_nn_scaled_ed', col = 'special_block_type')"
   ]
  },
  {
   "cell_type": "code",
   "execution_count": null,
   "id": "f871da4c",
   "metadata": {},
   "outputs": [],
   "source": [
    "fg = sns.relplot(df_, kind='line', x='trialwb', y='error_area2_signed_nn_scaled_ed', \n",
    "                 col='vis_feedback_type', \n",
    "            row='tgti_to_show')\n",
    "for ax in fg.axes.flatten():\n",
    "    ax.axhline(0,ls=':',color='red')"
   ]
  },
  {
   "cell_type": "code",
   "execution_count": null,
   "id": "f009ca51",
   "metadata": {},
   "outputs": [],
   "source": [
    "fg = sns.relplot(df_, kind='line', x='trialwb', y='error_lh_ang', \n",
    "                 col='vis_feedback_type', \n",
    "            row='tgti_to_show')\n",
    "for ax in fg.axes.flatten():\n",
    "    ax.axhline(0,ls=':',color='red')"
   ]
  },
  {
   "cell_type": "code",
   "execution_count": null,
   "id": "b2a880eb",
   "metadata": {},
   "outputs": [],
   "source": [
    "fg = sns.relplot(df_, kind='line', x='trialwb', y='error_area2_signed_nn_scaled_ed',\n",
    "                 col='vis_feedback_type', \n",
    "            row='tgti_to_show', hue='nonhit', height=2)\n",
    "for ax in fg.axes.flatten():\n",
    "    ax.axhline(0,ls=':',color='red')"
   ]
  },
  {
   "cell_type": "code",
   "execution_count": null,
   "id": "b165bbe1",
   "metadata": {},
   "outputs": [],
   "source": [
    "fg = sns.relplot(df_, kind='line', x='trialwb', y='error_area2_signed_nn_scaled_ed', \n",
    "                 col='vis_feedback_type', \n",
    "            row='tgti_to_show', hue='Nctx_app', height=3)\n",
    "for ax in fg.axes.flatten():\n",
    "    ax.axhline(0,ls=':',color='red')"
   ]
  },
  {
   "cell_type": "code",
   "execution_count": null,
   "id": "746efa42",
   "metadata": {},
   "outputs": [],
   "source": [
    "qs_notspec"
   ]
  },
  {
   "cell_type": "code",
   "execution_count": null,
   "id": "84f8be89",
   "metadata": {},
   "outputs": [],
   "source": [
    "[col for col in dfcc_all.columns if col.find('block') >= 0]"
   ]
  },
  {
   "cell_type": "code",
   "execution_count": null,
   "id": "9dd9858d",
   "metadata": {},
   "outputs": [],
   "source": [
    "dfcc_all['prev_ctx_some_close']"
   ]
  },
  {
   "cell_type": "code",
   "execution_count": null,
   "id": "22ec9dec",
   "metadata": {},
   "outputs": [],
   "source": [
    "len(dfcc_all)"
   ]
  },
  {
   "cell_type": "code",
   "execution_count": null,
   "id": "0189a1fc",
   "metadata": {},
   "outputs": [],
   "source": [
    "from behav_proc import genCtxPairLists,setContextSimilarityCols\n",
    "all_ctx, cpls = genCtxPairLists(dfcc_all)\n",
    "setContextSimilarityCols(dfcc_all, cpls)       "
   ]
  },
  {
   "cell_type": "code",
   "execution_count": null,
   "id": "02064e80",
   "metadata": {},
   "outputs": [],
   "source": [
    "(~dfcc_all['prev_ctx_some_close'].isnull()).sum()"
   ]
  },
  {
   "cell_type": "code",
   "execution_count": null,
   "id": "cb22f414",
   "metadata": {},
   "outputs": [],
   "source": [
    "(~dfcc_all['prev_block_ind_diff'].isnull()).sum()"
   ]
  },
  {
   "cell_type": "code",
   "execution_count": null,
   "id": "88aadcd3",
   "metadata": {},
   "outputs": [],
   "source": [
    "df_notspec_notver = dfcc_all.query(qs_notspec + ' and vis_feedback_type != \"veridical\"'\n",
    "                                  ' and trialwb <= 4')"
   ]
  },
  {
   "cell_type": "code",
   "execution_count": null,
   "id": "b587afd5",
   "metadata": {},
   "outputs": [],
   "source": [
    "inds = 0,1,2,4\n",
    "\n",
    "dfdrops = []\n",
    "for colnp in coln_pairs:\n",
    "    assert inds[0] == 0\n",
    "    coln = colnp[0]\n",
    "    \n",
    "    def f(dfcur):\n",
    "        #print(dfcur[coln])        \n",
    "        dfs = []\n",
    "        for ind in inds:\n",
    "            dfs += [dfcur.query('trialwb == @ind')]\n",
    "            \n",
    "        #print(df1[coln])\n",
    "        #print(df2[coln])\n",
    "        vss = []\n",
    "        for df in dfs[1:]:\n",
    "            #vs = np.abs(dfs[0][coln].values - df[coln].values)\n",
    "            vs = np.abs(dfs[0][coln].values) - np.abs(df[coln].values)\n",
    "            vss += [vs]\n",
    "        if len(vs) == 0:\n",
    "            #display(dfcur)\n",
    "            return None\n",
    "        else:\n",
    "            assert len(vs) ==1, len(vs)\n",
    "            if dfs[0]['prev_ctx_pert_same'].values[0]:\n",
    "                # Q: how to handle failed reaches?\n",
    "                #print('Skipping due to same tgt')\n",
    "                return None\n",
    "            else:\n",
    "                #v = (df1[coln].values - df3[coln].values)[0]\n",
    "                return [vs[0] for vs in vss]\n",
    "                #return [abs( vs[0] ), abs(v)]\n",
    "    df_notspec_notver_difflearn = df_notspec_notver.\\\n",
    "        groupby(['subject','block_ind','Nctx_app', 'ctxid']).apply(f).reset_index()\n",
    "    df_notspec_notver_difflearn= df_notspec_notver_difflearn.rename(columns={0:'absdrop'})\n",
    "    df_notspec_notver_difflearn['coln'] = coln    \n",
    "    dfdrops += [df_notspec_notver_difflearn]\n",
    "    \n",
    "dfdrop = pd.concat(dfdrops, ignore_index=1)\n",
    "dfdrop"
   ]
  },
  {
   "cell_type": "code",
   "execution_count": null,
   "id": "9b185aa3",
   "metadata": {},
   "outputs": [],
   "source": [
    "for i,ind in enumerate(inds[1:] ):\n",
    "    dfdrop[f'absdrop_{ind}'] = dfdrop['absdrop'].apply(lambda x: x[i] if x is not None else None)"
   ]
  },
  {
   "cell_type": "code",
   "execution_count": null,
   "id": "72a33503",
   "metadata": {},
   "outputs": [],
   "source": [
    "#dfdrop"
   ]
  },
  {
   "cell_type": "code",
   "execution_count": null,
   "id": "1f3d43be",
   "metadata": {},
   "outputs": [],
   "source": [
    "#df_notspec_notver_difflearn"
   ]
  },
  {
   "cell_type": "code",
   "execution_count": null,
   "id": "424ba6e4",
   "metadata": {},
   "outputs": [],
   "source": [
    "(~df_notspec_notver['prev_ctx_pert_same'].isnull()).sum()"
   ]
  },
  {
   "cell_type": "code",
   "execution_count": null,
   "id": "d07f29e7",
   "metadata": {
    "run_control": {
     "marked": false
    }
   },
   "outputs": [],
   "source": [
    "#sns.relplot?"
   ]
  },
  {
   "cell_type": "code",
   "execution_count": null,
   "id": "213f9c77",
   "metadata": {},
   "outputs": [],
   "source": [
    "dfdrop"
   ]
  },
  {
   "cell_type": "code",
   "execution_count": null,
   "id": "87d2a432",
   "metadata": {},
   "outputs": [],
   "source": [
    "# r = dfdrop.groupby(['coln', 'subject','ctxid']).agg({'Nctx_app': ['min', 'max'], \n",
    "#                                                 'absdrop_4': lambda x: x.max() - x.min()})\n",
    "rs = []\n",
    "for ind in inds[1:]:\n",
    "    coln = f'absdrop_{ind}'\n",
    "    # drop at last context apperence - drop at first one\n",
    "    r = dfdrop.groupby(['coln', 'subject','ctxid']).apply(\n",
    "    lambda x: np.abs( x.loc[x['Nctx_app'].idxmax(), coln] ) - np.abs (x.loc[x['Nctx_app'].idxmin(), coln] ) )\n",
    "    r = r.to_frame().rename(columns={0:coln})#.reset_index()\n",
    "    rs += [r]\n",
    "\n",
    "dfdrop_last = pd.concat(rs, axis=1, ignore_index=0)"
   ]
  },
  {
   "cell_type": "code",
   "execution_count": null,
   "id": "463a50d6",
   "metadata": {},
   "outputs": [],
   "source": [
    "dfdrop_last"
   ]
  },
  {
   "cell_type": "code",
   "execution_count": null,
   "id": "23544795",
   "metadata": {},
   "outputs": [],
   "source": [
    "fg = sns.catplot(dfdrop, kind='violin', y='absdrop_4',  \n",
    "             height=4, col='coln')\n",
    "for ax in fg.axes.flatten():\n",
    "    ax.axhline(0,ls=':',color='red')\n",
    "\n",
    "fg = sns.catplot(dfdrop, kind='violin', x='ctxid', y='absdrop_4',  \n",
    "             height=5, col='coln')\n",
    "for ax in fg.axes.flatten():\n",
    "    ax.axhline(0,ls=':',color='red')\n",
    "    \n",
    "fg = sns.catplot(dfdrop, kind='violin', y='absdrop_4',  \n",
    "             height=4, row='coln', col='subject')\n",
    "for ax in fg.axes.flatten():\n",
    "    ax.axhline(0,ls=':',color='red')"
   ]
  },
  {
   "cell_type": "code",
   "execution_count": null,
   "id": "5355cdd2",
   "metadata": {},
   "outputs": [],
   "source": [
    "dfdrop.groupby('subject')"
   ]
  },
  {
   "cell_type": "code",
   "execution_count": null,
   "id": "794f4f36",
   "metadata": {},
   "outputs": [],
   "source": [
    "dfdrop_ =dfdrop\n",
    "fg = sns.relplot(dfdrop_, kind='line', x='Nctx_app', y='absdrop_4',  hue='ctxid',\n",
    "            col='coln', height=3, errorbar='se')\n",
    "for ax in fg.axes.flatten():\n",
    "    ax.axhline(0,ls=':',color='red')\n",
    "    #ax.set_ylabel('')\n",
    "fg = sns.relplot(dfdrop_, kind='line', x='Nctx_app', y='absdrop_2',  hue='ctxid',\n",
    "            col='coln', height=3, errorbar='se')\n",
    "for ax in fg.axes.flatten():\n",
    "    ax.axhline(0,ls=':',color='red')\n",
    "    #ax.set_ylabel('')"
   ]
  },
  {
   "cell_type": "code",
   "execution_count": null,
   "id": "a6040b10",
   "metadata": {},
   "outputs": [],
   "source": [
    "np.random.randint(0,3, size=20)"
   ]
  },
  {
   "cell_type": "code",
   "execution_count": null,
   "id": "b06a830f",
   "metadata": {},
   "outputs": [],
   "source": [
    "df_notspec_notver = dfcc_all.query(qs_notspec + ' and vis_feedback_type != \"veridical\"'\n",
    "                                  ' and trialwb <= 4 and Nctx_app in [1,7]')\n",
    "for coln in ['error_area2_signed_nn_scaled_ed', 'error_lh_ang']:\n",
    "    fg = sns.relplot(df_notspec_notver, kind='line', x='trialwb', y=coln, \n",
    "                     col='vis_feedback_type', hue='Nctx_app', \n",
    "                     row = 'subject', height=3, errorbar='se')\n",
    "    for ax in fg.axes.flatten():\n",
    "        ax.axhline(0,ls=':',color='red')\n",
    "        ax.set_ylabel('')\n",
    "        #ax.legend(loc='lower right')\n",
    "    fg.fig.suptitle(coln)\n",
    "    fg.fig.tight_layout()\n",
    "    break"
   ]
  },
  {
   "cell_type": "code",
   "execution_count": null,
   "id": "a7fc3694",
   "metadata": {},
   "outputs": [],
   "source": [
    "df_os = df_.query('subject == @subjects[0] and vis_feedback_type == \"rot20\"')\n",
    "fg = sns.relplot(df_os, kind='line', x='trialwb', y='error_area2_signed_nn_scaled_ed', \n",
    "                 col='vis_feedback_type', \n",
    "            row='tgti_to_show', hue='Nctx_app', height=3)\n",
    "for ax in fg.axes.flatten():\n",
    "    ax.axhline(0,ls=':',color='red')\n",
    "    ax.set_ylabel('')"
   ]
  },
  {
   "cell_type": "code",
   "execution_count": null,
   "id": "319734b4",
   "metadata": {},
   "outputs": [],
   "source": []
  },
  {
   "cell_type": "code",
   "execution_count": null,
   "id": "1661571f",
   "metadata": {},
   "outputs": [],
   "source": [
    "dfc_multi_tsz.columns"
   ]
  },
  {
   "cell_type": "markdown",
   "id": "3b87512d",
   "metadata": {},
   "source": [
    "### ES"
   ]
  },
  {
   "cell_type": "code",
   "execution_count": null,
   "id": "2bc6414c",
   "metadata": {},
   "outputs": [],
   "source": [
    "print( dfc_multi_tsz['trial_group_col_calc'].unique() )\n",
    "print( dfc_multi_tsz['error_data_for_calc'].unique() )\n",
    "print( dfc_multi_tsz.subject.unique() )"
   ]
  },
  {
   "cell_type": "code",
   "execution_count": null,
   "id": "81880452",
   "metadata": {},
   "outputs": [],
   "source": [
    "#qs = ('trial_index > @numtrain and trial_type != \"error_clamp\"'\n",
    "#                     ' and special_block_type != \"error_clamp_sandwich\" and prev_trial_type != \"pause\"')"
   ]
  },
  {
   "cell_type": "code",
   "execution_count": null,
   "id": "5793c82e",
   "metadata": {},
   "outputs": [],
   "source": [
    "# TODO put to sameness info to dfcc before calc err sens \n",
    "for c, cp in zip(['orange','blue'], coln_pairs):\n",
    "    coln_error = cp[0]\n",
    "    edfs = cp[-1]\n",
    "    print(cp)\n",
    "    dfes = dfc_multi_tsz.query(qs + ' and trial_shift_size == 1 and error_data_for_calc == @edfc')\n",
    "    dfes = dfes.copy() # otherwise the function below won't work since it modifies inplace\n",
    "    setContextSimilarityCols(dfes)\n",
    "    for coln in coln_ctx_closeness:\n",
    "        plt.figure(figsize=(4,3))        \n",
    "        fg = sns.catplot(dfes, y = 'err_sens', col=coln, kind='violin', height=3, color=c)\n",
    "        for ax in fg.axes.flatten():\n",
    "            ax.axhline(0,ls=':',color='red')\n",
    "            ax.set_ylim(-20,20)\n",
    "    gc.collect()"
   ]
  },
  {
   "cell_type": "code",
   "execution_count": null,
   "id": "a97f0d2e",
   "metadata": {},
   "outputs": [],
   "source": [
    "plt.close('all')"
   ]
  },
  {
   "cell_type": "code",
   "execution_count": null,
   "id": "89adf8d4",
   "metadata": {},
   "outputs": [],
   "source": [
    "numtrain"
   ]
  },
  {
   "cell_type": "code",
   "execution_count": null,
   "id": "2b35250a",
   "metadata": {},
   "outputs": [],
   "source": [
    "qs"
   ]
  },
  {
   "cell_type": "code",
   "execution_count": null,
   "id": "ae73d212",
   "metadata": {},
   "outputs": [],
   "source": []
  },
  {
   "cell_type": "code",
   "execution_count": null,
   "id": "2c0f04ef",
   "metadata": {},
   "outputs": [],
   "source": [
    "edfc"
   ]
  },
  {
   "cell_type": "code",
   "execution_count": null,
   "id": "b6da74ef",
   "metadata": {},
   "outputs": [],
   "source": [
    "for c, cp in zip(['orange','blue'], coln_pairs):\n",
    "    #coln_error = cp[0]\n",
    "    edfc = cp[-1]\n",
    "    dfes = dfc_multi_tsz.query(qs + \n",
    "        ' and trial_shift_size == 1 and error_data_for_calc == @edfc')\n",
    "    fg = sns.catplot(dfes, kind='violin', y='err_sens', height=3)\n",
    "    for ax in fg.axes.flatten():\n",
    "        ax.axhline(0,ls=':',color='red')\n",
    "        ax.set_title(edfc)\n",
    "        ax.set_ylim(-5,5)"
   ]
  },
  {
   "cell_type": "code",
   "execution_count": null,
   "id": "db7c4942",
   "metadata": {},
   "outputs": [],
   "source": [
    "for c, cp in zip(['orange','blue'], coln_pairs):\n",
    "    coln_error = cp[0]\n",
    "    edfc = cp[-1]\n",
    "    #print(edfs)\n",
    "    dfes = dfc_multi_tsz.query(qs + ' and trial_shift_size == 1 and error_data_for_calc == @edfc')\n",
    "\n",
    "    fg = sns.relplot(dfes, kind='line', x='trialwb', y='err_sens', hue='nonhit')\n",
    "    for ax in fg.axes.flatten():\n",
    "        ax.axhline(0,ls=':',color='red')\n",
    "        ax.set_title(edfc)"
   ]
  },
  {
   "cell_type": "code",
   "execution_count": null,
   "id": "5e736c23",
   "metadata": {},
   "outputs": [],
   "source": [
    "for edfc in ['signed_area2_nn_scaled_ed', 'lh_ang']:\n",
    "    dfes = dfc_multi_tsz.query(qs + ' and trial_shift_size == 1 and error_data_for_calc == @edfc')\n",
    "\n",
    "    fg = sns.relplot(dfes, kind='line', x='trialwb', y='err_sens',\n",
    "                     col='vis_feedback_type', \n",
    "                row='tgti_to_show')#, hue='nonhit')\n",
    "    for ax in fg.axes.flatten():\n",
    "        ax.axhline(0,ls=':',color='red')\n",
    "        plt.suptitle(edfc)\n",
    "    plt.tight_layout()\n",
    "    \n"
   ]
  },
  {
   "cell_type": "code",
   "execution_count": null,
   "id": "2a5d2631",
   "metadata": {},
   "outputs": [],
   "source": [
    "dfcc_all_['subject'].unique()"
   ]
  },
  {
   "cell_type": "code",
   "execution_count": null,
   "id": "6b23b07e",
   "metadata": {},
   "outputs": [],
   "source": [
    "df_startend['subject'].unique()"
   ]
  },
  {
   "cell_type": "code",
   "execution_count": null,
   "id": "7fedf5cb",
   "metadata": {},
   "outputs": [],
   "source": [
    "df_startend"
   ]
  },
  {
   "cell_type": "markdown",
   "id": "e1f48710",
   "metadata": {},
   "source": [
    "#### start end"
   ]
  },
  {
   "cell_type": "code",
   "execution_count": null,
   "id": "1bb9546a",
   "metadata": {},
   "outputs": [],
   "source": [
    "from behav_proc import getStartEndMultiSubj\n",
    "dfes_startend = getStartEndMultiSubj(dfes)"
   ]
  },
  {
   "cell_type": "code",
   "execution_count": null,
   "id": "ca7c77e2",
   "metadata": {},
   "outputs": [],
   "source": [
    "#block_bounds"
   ]
  },
  {
   "cell_type": "code",
   "execution_count": null,
   "id": "b46b087f",
   "metadata": {},
   "outputs": [],
   "source": [
    "df_.query('subject == \"2023-SE1-003\" and block_ind == 12')"
   ]
  },
  {
   "cell_type": "code",
   "execution_count": null,
   "id": "d22574d3",
   "metadata": {},
   "outputs": [],
   "source": [
    "#df_all_multi_tsz.query('subject == \"2023-SE1-003\" and block_ind == 12')"
   ]
  },
  {
   "cell_type": "code",
   "execution_count": null,
   "id": "4ff88019",
   "metadata": {},
   "outputs": [],
   "source": [
    "dfcc.query('subject == \"2023-SE1-003\" and block_ind == 12')"
   ]
  },
  {
   "cell_type": "code",
   "execution_count": null,
   "id": "1c6ad754",
   "metadata": {},
   "outputs": [],
   "source": [
    "block_bounds[r == 1]"
   ]
  },
  {
   "cell_type": "code",
   "execution_count": null,
   "id": "3fd9f0c7",
   "metadata": {},
   "outputs": [],
   "source": [
    "r = block_bounds['block_end_trial_index'] - block_bounds['block_start_trial_index']\n",
    "r.to_frame().describe()"
   ]
  },
  {
   "cell_type": "code",
   "execution_count": null,
   "id": "236f1403",
   "metadata": {},
   "outputs": [],
   "source": [
    "#dfes.groupby('subject').size()"
   ]
  },
  {
   "cell_type": "code",
   "execution_count": null,
   "id": "75fdf6dd",
   "metadata": {},
   "outputs": [],
   "source": [
    "# from single imported\n",
    "for c, cp in zip(['orange','blue'], coln_pairs):\n",
    "    coln_error = cp[0]\n",
    "    edfc = cp[-1]\n",
    "    #print(edfs)\n",
    "    dfes = dfc_multi_tsz.query(qs + ' and trial_shift_size == 1 and error_data_for_calc == @edfc')\n",
    "    dfes_startend = getStartEndMultiSubj(dfes)\n",
    "\n",
    "    for yname in ynames:\n",
    "        plt.figure()\n",
    "        ax = sns.violinplot(df_startend, y=yname, x='trial_type', hue='type', split=True)\n",
    "        ax.axhline(0,ls=':', c='red')\n",
    "        ax.set_ylim(-2,2)\n",
    "        ax.set_title(edfc)"
   ]
  },
  {
   "cell_type": "code",
   "execution_count": null,
   "id": "5ae44c8b",
   "metadata": {},
   "outputs": [],
   "source": []
  },
  {
   "cell_type": "code",
   "execution_count": null,
   "id": "3a8b16bb",
   "metadata": {},
   "outputs": [],
   "source": [
    "for yname in ynames:\n",
    "    plt.figure()\n",
    "    q = 5e-3\n",
    "    ymax = df_startend[yname].quantile(1-q)\n",
    "    ymin = df_startend[yname].quantile(q)\n",
    "    ax = sns.violinplot(df_startend.query('trial_type != \"error_clamp\"'), \n",
    "                   y=yname, x='trial_type', hue='type', split=True)\n",
    "    ax.set_ylim(ymin,ymax)\n",
    "    ax.axhline(0,ls=':',c='red')"
   ]
  },
  {
   "cell_type": "code",
   "execution_count": null,
   "id": "c1825048",
   "metadata": {},
   "outputs": [],
   "source": []
  },
  {
   "cell_type": "code",
   "execution_count": null,
   "id": "b9df52eb",
   "metadata": {},
   "outputs": [],
   "source": [
    "pause_inds = dfcpc_all.groupby(['subject','trial_index']).max('time').reset_index()"
   ]
  },
  {
   "cell_type": "code",
   "execution_count": null,
   "id": "43ca379c",
   "metadata": {},
   "outputs": [],
   "source": [
    "pause_inds"
   ]
  },
  {
   "cell_type": "code",
   "execution_count": null,
   "id": "d8e63b02",
   "metadata": {},
   "outputs": [],
   "source": [
    "for subj in subjects:\n",
    "    pause_inds.query('subject == @subj')\n",
    "    c = dfcpc_all['subject'] == subj\n",
    "    dfcpc_all.loc[c]"
   ]
  },
  {
   "cell_type": "code",
   "execution_count": null,
   "id": "0fa2aac6",
   "metadata": {},
   "outputs": [],
   "source": [
    "#pause_inds = dfcpc_all['trial_index'].unique()\n",
    "\n",
    "pause_inds = np.array(pause_inds)\n",
    "dfccos['pause_rel'] = -100\n",
    "dfccos.loc[dfccos['trial_index'].isin(pause_inds-1), 'pause_rel'] = -1\n",
    "dfccos.loc[dfccos['trial_index'].isin(pause_inds+1), 'pause_rel'] = 1\n",
    "# for pi in pause_inds:\n",
    "#     piprev=  pi -1\n",
    "#     pinext=  pi +1\n",
    "#     df_ = dfccos.query('trial_index == @piprev')\n"
   ]
  },
  {
   "cell_type": "code",
   "execution_count": null,
   "id": "9f3bfe60",
   "metadata": {},
   "outputs": [],
   "source": [
    "df_ = dfcc_all_.query('pause_rel > -10')\n",
    "#df_ = df_.query('error < 150')\n",
    "\n",
    "ynames = ['error_area_signed',  'error_distance', 'error']\n",
    "for yname in ynames:\n",
    "    plt.figure()\n",
    "    \n",
    "#     if yname  == 'error':\n",
    "#         df_ = df_.query('error < 150')\n",
    "    sns.violinplot(df_, y=yname, x='pause_rel')"
   ]
  }
 ],
 "metadata": {
  "kernelspec": {
   "display_name": "merr2",
   "language": "python",
   "name": "merr2"
  },
  "language_info": {
   "codemirror_mode": {
    "name": "ipython",
    "version": 3
   },
   "file_extension": ".py",
   "mimetype": "text/x-python",
   "name": "python",
   "nbconvert_exporter": "python",
   "pygments_lexer": "ipython3",
   "version": "3.10.13"
  }
 },
 "nbformat": 4,
 "nbformat_minor": 5
}
