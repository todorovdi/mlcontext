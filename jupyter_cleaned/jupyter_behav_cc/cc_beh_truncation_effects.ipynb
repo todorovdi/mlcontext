{
 "cells": [
  {
   "cell_type": "code",
   "execution_count": null,
   "id": "9389af52",
   "metadata": {},
   "outputs": [],
   "source": [
    "%load_ext autoreload\n",
    "%autoreload 2\n",
    "\n",
    "import os\n",
    "ipy = get_ipython()\n",
    "#data_dir_general = '/home/demitau/data_Quentin'\n",
    "#data_subdir_mem_err_main = 'full_experiments/data2'\n",
    "from os.path import join as pjoin\n",
    "import os,sys; sys.path.append(os.path.expandvars('$CODE_MEMORY_ERRORS'))\n",
    "import error_sensitivity\n",
    "#data_dir_input = pjoin(data_dir_general,data_subdir_mem_err_main)\n",
    "import pandas as pd\n",
    "\n",
    "#data_dir_general = '/home/demitau/data_Quentin'\n",
    "#data_subdir_mem_err_main = 'full_experiments/data2'\n",
    "#data_dir_input = pjoin(data_dir_general,data_subdir_mem_err_main)\n",
    "#scripts_dir = pjoin(data_dir_general,'full_experiments','scripts2')\n",
    "\n",
    "data_dir_general = os.path.expandvars('$DATA_QUENTIN')\n",
    "data_dir_input = os.path.expandvars('$DATA_MEMORY_ERRORS_STAB_AND_STOCH')\n",
    "#scripts_dir = pjoin( os.path.expandvars('$CODE_MEMORY_ERRORS'), 'previous_analyses')\n",
    "scripts_dir = pjoin( os.path.expandvars('$CODE_MEMORY_ERRORS'))\n",
    "\n",
    "path_fig = '/home/demitau/current_owncloud/output/memerr/laptop_home'\n",
    "os.environ['FIG_MEMORY_ERRORS_STAB_AND_STOCH'] = path_fig\n",
    "\n",
    "import gc\n",
    "\n",
    "import numpy as np\n",
    "import matplotlib.pyplot as plt\n",
    "import seaborn as sns\n",
    "print('seaborn ver = ', sns.__version__)\n",
    "#assert sns.__version__ == '0.12.2', sns.__version__\n",
    "import matplotlib as mpl"
   ]
  },
  {
   "cell_type": "code",
   "execution_count": null,
   "id": "1ede970a",
   "metadata": {},
   "outputs": [],
   "source": [
    "#d = '/home/demitau/current_owncloud/merr_data/travel_beh_an/ccpurebeh'\n",
    "d = '/home/demitau/data_Quentin/pilot_studies/context_change_behav/'\n",
    "#fnb = 'dima_test_context_change_20230309_164851'\n",
    "#fnb = '2023-SE1-pilot2_context_change_20230310_161928'\n",
    "fnb = '2023-SE1-017_context_change_20230425_161049'\n",
    "fn = fnb + '.log'\n",
    "fnp = fnb + '.param'"
   ]
  },
  {
   "cell_type": "code",
   "execution_count": null,
   "id": "34be2ed3",
   "metadata": {
    "run_control": {
     "marked": false
    }
   },
   "outputs": [],
   "source": [
    "from behav_proc import readParamFiles, addBasicInfo, getGeomInfo\n",
    "from datetime import datetime \n",
    "fnp = fnb + '.param'\n",
    "params, phase2trigger, trigger2phase, stage2pars  = readParamFiles(fnp, d)\n",
    "home_position, target_coords = getGeomInfo(params)\n",
    "hitr = float(params['radius_target']) + float(params['radius_cursor']) / 2\n",
    "\n",
    "load = True\n",
    "#load = True\n",
    "if load:\n",
    "    #dfallphs = pd.read_pickle(pjoin(d,'row=frame_allph.pkl.zip'))\n",
    "    dfc_all      = pd.read_pickle(pjoin(d,'row=frame.pkl.zip'))\n",
    "    dfcc_all     = pd.read_pickle(pjoin(d,'row=trial.pkl.zip'))\n",
    "    dfcpc_all    = pd.read_pickle(pjoin(d,'row=pause.pkl.zip'))\n",
    "    dfctc_all    = pd.read_pickle(pjoin(d,'row=target_chagne.pkl.zip'))\n",
    "\n",
    "coln_pairs = [ ('error_lh_ang','error_unpert_lh_ang','error_lh_ang_nonhit','lh_ang'),\n",
    "        ('error_area2_signed_nn_scaled_ed', None,\n",
    "               'error_area2_signed_nn_scaled_ed_nonhit',\n",
    "                'signed_area2_nn_scaled_ed') ] \n",
    "\n",
    "\n",
    "fnf = pjoin(d,'es_row=trial.pkl.zip')\n",
    "dt = datetime.fromtimestamp(os.stat(fnf).st_mtime )\n",
    "print(dt)\n",
    "\n",
    "df_all_multi_tsz_orig = pd.read_pickle(fnf)\n",
    "#assert set( df_all_multi_tsz_orig['error_data_for_calc'] ) == set(  [cp[-1] for cp in coln_pairs])\n",
    "\n",
    "subjects = dfcc_all['subject'].unique()\n",
    "print(subjects)\n",
    "\n",
    "subj = subjects[3]"
   ]
  },
  {
   "cell_type": "markdown",
   "id": "327db93a",
   "metadata": {
    "heading_collapsed": true
   },
   "source": [
    "### recalc ES"
   ]
  },
  {
   "cell_type": "code",
   "execution_count": null,
   "id": "638ce91c",
   "metadata": {
    "hidden": true
   },
   "outputs": [],
   "source": [
    "assert 'error' not in dfcc_all.columns\n",
    "#df_all = dfcc_all.drop(labels=['index', 'level_0'],axis=1)  #.copy()\n",
    "#df_all['non_hit_not_adj'] = df_all['nonhit']\n",
    "dfcc_escalc = dfcc_all.copy()\n",
    "dfcc_escalc['target_inds']     = dfcc_all['tgti_to_show']\n",
    "dfcc_escalc['trials']          = dfcc_all['trial_index']\n",
    "dfcc_escalc['environment'] = 1111\n",
    "\n",
    "# for err sens calc\n",
    "#df_all['error']          = df_all['error_area_signed']\n",
    "##############################\n",
    "subjects_ = subjects\n",
    "print(subjects_)\n",
    "\n",
    "q = 0.04\n",
    "a = dfcc_escalc['error_lh_ang'].abs()\n",
    "thr = a.quantile(q); print(thr)\n",
    "dfcc_escalc['error_lh_ang_nonhit'] = a > thr\n",
    "\n",
    "a = dfcc_escalc['error_area2_signed_nn_scaled_ed'].abs()\n",
    "thr = a.quantile(q); print(thr)\n",
    "dfcc_escalc['error_area2_signed_nn_scaled_ed_nonhit'] = a > thr"
   ]
  },
  {
   "cell_type": "code",
   "execution_count": null,
   "id": "1521ea65",
   "metadata": {
    "code_folding": [
     28,
     50
    ],
    "hidden": true
   },
   "outputs": [],
   "source": [
    "from behav_proc import computeErrSensVersions\n",
    "envs_cur = ['all']\n",
    "tgt_inds_cur =[None]\n",
    "\n",
    "block_names_cur = ['all']\n",
    "pertvals_cur = [None]\n",
    "gseqcs_cur = [ None ]\n",
    "dists_rad_from_prevtgt_cur = [None]\n",
    "dists_trial_from_prevtgt_cur = [None]\n",
    "error_type = 'MPE'\n",
    "#time_lockeds=['target', 'feedback', 'trial_end']\n",
    "time_lockeds=['target', 'trial_end']\n",
    "\n",
    "# coln_pairs = [ ('error_area2_signed_nn_scaled_ed',\n",
    "#                 None,\n",
    "#                'error_area2_signed_nn_scaled_ed_nonhit',\n",
    "#                 'signed_area2_nn_scaled_ed') ]\n",
    "coln_pairs = []\n",
    "coln_pairs += [('error_lh_ang','error_unpert_lh_ang','error_lh_ang_nonhit','lh_ang')]\n",
    "\n",
    "from base2 import areaBetweenTraj, calcNormCoefSectorArea\n",
    "norm_coef = calcNormCoefSectorArea(params)\n",
    "def trajPair2corr(dftraj1, dftraj2):\n",
    "    return areaBetweenTraj(dftraj1, dftraj2, home_position,                                                                                                  \n",
    "                target_coords, params ) * norm_coef\n",
    "\n",
    "dfouts = []\n",
    "import sys, traceback\n",
    "try:\n",
    "    for coln_error,coln_correction_calc,coln_nh, calc_name  in coln_pairs:\n",
    "        for time_locked in time_lockeds:\n",
    "            df_all_multi_tsz, ndf2vn = computeErrSensVersions(dfcc_escalc, envs_cur,block_names_cur,\n",
    "                pertvals_cur,gseqcs_cur,tgt_inds_cur,\n",
    "                dists_rad_from_prevtgt_cur,dists_trial_from_prevtgt_cur,\n",
    "                subj_list = subjects_, error_type=error_type,\n",
    "                trial_shift_sizes = [1],\n",
    "                addvars=[], target_info_type = 'locs',                                        \n",
    "                computation_ver = 'computeErrSens3', \n",
    "                coln_nh = coln_nh,\n",
    "                time_locked = time_locked,\n",
    "                coln_nh_out = coln_nh + '_shifted',\n",
    "                coln_error =coln_error,                                                                              \n",
    "                coln_correction_calc = coln_correction_calc,                \n",
    "                trajPair2corr = trajPair2corr,\n",
    "                df_fulltraj = dfc_all,\n",
    "                verbose=1,)\n",
    "            df_all_multi_tsz['error_data_for_calc'] = calc_name\n",
    "            dfouts += [df_all_multi_tsz]\n",
    "    df_all_multi_tsz = pd.concat(dfouts).reset_index()\n",
    "    \n",
    "except Exception as e:\n",
    "    print('EXC',e)\n",
    "    exc_info = sys.exc_info()\n",
    "    exc = traceback.TracebackException(*exc_info, capture_locals=True)\n",
    "    ei = exc_info[2]\n",
    "    psf = ei\n",
    "    \n",
    "    lfprev = None\n",
    "    lfs = []\n",
    "    lf = None\n",
    "    while psf.tb_frame is not None:\n",
    "        stackframe = psf.tb_frame\n",
    "        display(stackframe)\n",
    "        lfprev = lf\n",
    "        lf = stackframe.f_locals\n",
    "        lfs += [lf]\n",
    "        psf = psf.tb_next    \n",
    "        if psf is None:\n",
    "            break\n",
    "\n",
    "    print('EXC',e)\n",
    "\n",
    "if coln_correction_calc is not None:\n",
    "    df_all_multi_tsz['coln_corrc'] = df_all_multi_tsz[coln_correction_calc]\n",
    "df_all_multi_tsz['coln_error'] = df_all_multi_tsz[coln_error]\n",
    "\n",
    "bigEStis = df_all_multi_tsz.query('err_sens > 10')['trial_index'].to_numpy()\n",
    "display(bigEStis)\n",
    "bigEStis_neg = df_all_multi_tsz.query('err_sens < -10')['trial_index'].to_numpy()\n",
    "#display(bigEStis_neg)"
   ]
  },
  {
   "cell_type": "code",
   "execution_count": null,
   "id": "bed9caaf",
   "metadata": {
    "hidden": true
   },
   "outputs": [],
   "source": [
    "import gc; gc.collect()"
   ]
  },
  {
   "cell_type": "markdown",
   "id": "dca9f761",
   "metadata": {},
   "source": [
    "# Compare truncations"
   ]
  },
  {
   "cell_type": "code",
   "execution_count": null,
   "id": "5b5dde29",
   "metadata": {},
   "outputs": [],
   "source": [
    "edfc = 'lh_ang', 'signed_area2_nn_scaled_ed'"
   ]
  },
  {
   "cell_type": "code",
   "execution_count": null,
   "id": "367cfe66",
   "metadata": {},
   "outputs": [],
   "source": [
    "import pingouin as pg\n",
    "numtrain = params['num_training']\n",
    "from behav_proc import (qs_notspec, qs_notspec_not_afterspec,  \n",
    "                        spectrials, qs_easy0)\n",
    "\n",
    "\n",
    "#qs_to_check = qs_notspec\n",
    "qs_to_check = qs_notspec + ' and not ' + qs_easy0"
   ]
  },
  {
   "cell_type": "markdown",
   "id": "543221de",
   "metadata": {
    "heading_collapsed": true
   },
   "source": [
    "## lh_ang"
   ]
  },
  {
   "cell_type": "code",
   "execution_count": null,
   "id": "1456ff48",
   "metadata": {
    "hidden": true
   },
   "outputs": [],
   "source": [
    "df_all_multi_tsz = df_all_multi_tsz_orig\n",
    "\n",
    "cols = ['subject', 'trial_index', 'error_data_for_calc',\n",
    "       'trial_shift_size', 'trial_group_col_calc', 'time_locked']\n",
    "df_all_multi_tsz.duplicated(cols).any()"
   ]
  },
  {
   "cell_type": "code",
   "execution_count": null,
   "id": "1caeb7df",
   "metadata": {
    "hidden": true
   },
   "outputs": [],
   "source": [
    "edfc = 'lh_ang'\n",
    "tl = 'target'\n",
    "#tl = 'trial_end'\n",
    "#f'subject == \"{subj}\"' \n",
    "qs_es = ('error_data_for_calc == @edfc'\n",
    "          ' and trial_shift_size == 1 '\n",
    "          ' and trial_group_col_calc == \"trials\"'\n",
    "          ' and time_locked == @tl'\n",
    "         )  \n",
    "\n",
    "\n",
    "#dfes = df_all_multi_tsz_orig.query(qs_es)\n",
    "dfes = df_all_multi_tsz.query(qs_es)\n",
    "#dfes"
   ]
  },
  {
   "cell_type": "code",
   "execution_count": null,
   "id": "c2889b03",
   "metadata": {
    "hidden": true
   },
   "outputs": [],
   "source": [
    "dfes.groupby(['subject','trial_index']).size().max()"
   ]
  },
  {
   "cell_type": "code",
   "execution_count": null,
   "id": "8dc8deb5",
   "metadata": {
    "hidden": true
   },
   "outputs": [],
   "source": [
    "qs_to_check = qs_notspec + ' and not ' + qs_easy0\n",
    "cc = 3 * np.pi / 180 \n",
    "qs_to_check += ' and prev_error.abs() >= @cc'"
   ]
  },
  {
   "cell_type": "code",
   "execution_count": null,
   "id": "2ffe5bf8",
   "metadata": {
    "hidden": true,
    "run_control": {
     "marked": false
    }
   },
   "outputs": [],
   "source": [
    "from behav_proc import getTruncDep\n",
    "ttrs = getTruncDep(dfes, qs_to_check)\n",
    "gc.collect()"
   ]
  },
  {
   "cell_type": "code",
   "execution_count": null,
   "id": "6c5581ef",
   "metadata": {
    "hidden": true
   },
   "outputs": [],
   "source": [
    "print( ttrs['qs'].values[0] )\n",
    "cols = ['alternative',  'truncaprs',  'p-val', \n",
    "        'power','dof', 'low_mean', 'hi_mean']\n",
    "ttrs.loc[ttrs[\"p-val\"] <= 0.05, cols]"
   ]
  },
  {
   "cell_type": "code",
   "execution_count": null,
   "id": "a16910c4",
   "metadata": {
    "hidden": true
   },
   "outputs": [],
   "source": [
    "#sns.catplot?"
   ]
  },
  {
   "cell_type": "code",
   "execution_count": null,
   "id": "402643b5",
   "metadata": {
    "hidden": true
   },
   "outputs": [],
   "source": [
    "truncapd"
   ]
  },
  {
   "cell_type": "code",
   "execution_count": null,
   "id": "917e7439",
   "metadata": {
    "hidden": true
   },
   "outputs": [],
   "source": [
    "sns.scatter(data=dfes, y='err_sens')"
   ]
  },
  {
   "cell_type": "code",
   "execution_count": null,
   "id": "b9f8a546",
   "metadata": {
    "hidden": true
   },
   "outputs": [],
   "source": [
    "# super slow\n",
    "#sns.histplot(data=dfes, y='err_sens')"
   ]
  },
  {
   "cell_type": "code",
   "execution_count": null,
   "id": "cb207f06",
   "metadata": {
    "hidden": true
   },
   "outputs": [],
   "source": [
    "sns.vio"
   ]
  },
  {
   "cell_type": "code",
   "execution_count": null,
   "id": "cb7d03f8",
   "metadata": {
    "hidden": true
   },
   "outputs": [],
   "source": [
    "params['dist_tgt_from_home']"
   ]
  },
  {
   "cell_type": "code",
   "execution_count": null,
   "id": "a4bc977b",
   "metadata": {
    "hidden": true
   },
   "outputs": [],
   "source": [
    "#dfes['error_lh_ang'].max()"
   ]
  },
  {
   "cell_type": "code",
   "execution_count": null,
   "id": "1541df29",
   "metadata": {
    "hidden": true
   },
   "outputs": [],
   "source": [
    "for truncapd in pds[:1]:\n",
    "    print(truncapd, qs_to_check)\n",
    "#    truncapd = pds[0]\n",
    "    dfes_goog, locs = truncateDf( dfes.query(qs_to_check), 'err_sens', **truncapd, infnan_handling='discard',\n",
    "            verbose=0, retloc=1 )\n",
    "plt.hist(dfes_goog['err_sens'], bins=90);\n",
    "plt.gca().axvline(x=0, c='r', ls=':')\n",
    "\n",
    "plt.figure()\n",
    "plt.hist(dfes_goog['err_sens'], bins=200, range=(-10,10));\n",
    "plt.gca().axvline(x=0, c='r', ls=':')\n",
    "#plt.xlim(-400,400)"
   ]
  },
  {
   "cell_type": "code",
   "execution_count": null,
   "id": "fdd855e0",
   "metadata": {
    "hidden": true
   },
   "outputs": [],
   "source": [
    "#sns.histplot?"
   ]
  },
  {
   "cell_type": "code",
   "execution_count": null,
   "id": "9f710ee3",
   "metadata": {
    "hidden": true
   },
   "outputs": [],
   "source": [
    "print(truncapd)"
   ]
  },
  {
   "cell_type": "code",
   "execution_count": null,
   "id": "eb15593c",
   "metadata": {
    "hidden": true
   },
   "outputs": [],
   "source": [
    "plt.hist(dfes_goog['err_sens'], bins=200);"
   ]
  },
  {
   "cell_type": "code",
   "execution_count": null,
   "id": "8379d3bb",
   "metadata": {
    "hidden": true
   },
   "outputs": [],
   "source": [
    "# TODO: thr 1 deg"
   ]
  },
  {
   "cell_type": "code",
   "execution_count": null,
   "id": "2ca9e9c3",
   "metadata": {
    "hidden": true
   },
   "outputs": [],
   "source": [
    "plt.hist?"
   ]
  },
  {
   "cell_type": "code",
   "execution_count": null,
   "id": "2595c5c4",
   "metadata": {
    "hidden": true
   },
   "outputs": [],
   "source": [
    "plt.hist(dfes_goog['err_sens'], bins=200, range=(-10,10));\n",
    "plt.gca().axvline(x=0, c='r', ls=':')\n",
    "#plt.xlim(-400,400)"
   ]
  },
  {
   "cell_type": "code",
   "execution_count": null,
   "id": "eae8ddda",
   "metadata": {
    "hidden": true
   },
   "outputs": [],
   "source": [
    "for truncapd in pds[:1]:\n",
    "#    truncapd = pds[0]\n",
    "    dfes_goog, locs = truncateDf( dfes, 'err_sens', **truncapd, infnan_handling='discard',\n",
    "            verbose=0, retloc=1 )\n",
    "    ylim = (-100,100)\n",
    "    dfes_goog_ = dfes_goog.query('err_sens >= @ylim[0] and '\n",
    "                               'err_sens <= @ylim[1]')\n",
    "    fg = sns.catplot(kind='violin', data=dfes_goog_, y='err_sens')\n",
    "    for ax in fg.axes.flatten():\n",
    "        ax.axhline(y=0, c='r', ls=':')\n",
    "        ax.set_ylim(*ylim)\n",
    "        ax.set_title(str(truncapd))"
   ]
  },
  {
   "cell_type": "code",
   "execution_count": null,
   "id": "8edb2eb0",
   "metadata": {
    "hidden": true
   },
   "outputs": [],
   "source": [
    "for truncapd in pds[:1]:\n",
    "#    truncapd = pds[0]\n",
    "    dfes_goog, locs = truncateDf( dfes, 'err_sens', **truncapd, infnan_handling='discard',\n",
    "                                     verbose=0, retloc=1 )\n",
    "    fg = sns.catplot(kind='violin', data=dfes_goog, y='err_sens')\n",
    "    for ax in fg.axes.flatten():\n",
    "        ax.axhline(y=0, c='r', ls=':')\n",
    "        #ax.set_ylim(-5,5)\n",
    "        ax.set_title(str(truncapd))"
   ]
  },
  {
   "cell_type": "code",
   "execution_count": null,
   "id": "cf52f606",
   "metadata": {
    "hidden": true
   },
   "outputs": [],
   "source": [
    "truncapd = pds[0]\n",
    "dfes_goog, locs = truncateDf( dfes, 'err_sens', **truncapd, infnan_handling='discard',\n",
    "                                 verbose=1, retloc=1 )\n",
    "fg = sns.catplot(kind='violin', data=dfes_goog, y='err_sens', col='subject', col_wrap=1)\n",
    "for ax in fg.axes.flatten():\n",
    "    ax.axhline(y=0, c='r', ls=':')\n",
    "    ax.set_ylim(-5,5)"
   ]
  },
  {
   "cell_type": "code",
   "execution_count": null,
   "id": "4c66b45a",
   "metadata": {
    "hidden": true
   },
   "outputs": [],
   "source": [
    "subj"
   ]
  },
  {
   "cell_type": "markdown",
   "id": "fba35316",
   "metadata": {},
   "source": [
    "## area"
   ]
  },
  {
   "cell_type": "code",
   "execution_count": null,
   "id": "dfd0ba78",
   "metadata": {},
   "outputs": [],
   "source": [
    "df_all_multi_tsz['error_data_for_calc'].unique()"
   ]
  },
  {
   "cell_type": "code",
   "execution_count": null,
   "id": "c52a92e8",
   "metadata": {},
   "outputs": [],
   "source": [
    "edfc = 'signed_area2_nn_scaled_ed'\n",
    "tl = 'target'\n",
    "#tl = 'trial_end'\n",
    "#f'subject == \"{subj}\"' \n",
    "qs_es = ('error_data_for_calc == @edfc'\n",
    "          ' and trial_shift_size == 1 '\n",
    "          ' and trial_group_col_calc == \"trials\"'\n",
    "          ' and time_locked == @tl'\n",
    "         )  \n",
    "\n",
    "\n",
    "#dfes = df_all_multi_tsz_orig.query(qs_es)\n",
    "dfes = df_all_multi_tsz.query(qs_es)\n",
    "#dfes"
   ]
  },
  {
   "cell_type": "code",
   "execution_count": null,
   "id": "23e25cf0",
   "metadata": {},
   "outputs": [],
   "source": [
    "# dependence on truncation params\n",
    "from behav_proc import truncateDf\n",
    "print( qs_to_check )\n",
    "\n",
    "pds = [dict(q=None), dict(q=None, low=-50, hi=50),dict(q=None, low=-30, hi=30), dict(q=None, low=-10, hi=10),\n",
    "       dict(q=None, low=-1, hi=1),\n",
    "    dict(q=0.05),dict(q=0.02), dict(q=None),\n",
    "      dict(q=0.05, trunc_hi = 0),dict(q=0.02, trunc_hi =0), dict(q=None, trunc_hi =0),\n",
    "      dict(q=0.05, trunc_low = 0),dict(q=0.02, trunc_low =0), dict(q=None, trunc_low =0),\n",
    "      dict(q=0.05, trunc_low = 0, abs=True),dict(q=0.02, trunc_low =0, abs=True), dict(q=None, trunc_low =0, abs=True)]\n",
    "rs = []\n",
    "for truncapd in pds:\n",
    "    print('   truncapd=',truncapd)\n",
    "    dfes_goog, locs = truncateDf( dfes, 'err_sens', **truncapd, \n",
    "                        infnan_handling='discard',\n",
    "                         verbose=1, retloc=1 )\n",
    "    for alt in ['greater','less','two-sided']:\n",
    "        r = pg.ttest(dfes_goog.query(qs_to_check)['err_sens'], 0 , alternative=alt)\n",
    "        r['truncaprs'] = repr(truncapd)\n",
    "        r['hi_mean'] = None\n",
    "        r['low_mean'] = None\n",
    "        low = locs.get('qlow',None)\n",
    "        hi = locs.get('qhi',None)\n",
    "        if low is not None:\n",
    "            r['low_mean'] = low.mean()\n",
    "        else:\n",
    "            r['low_mean'] = locs.get('low',None)\n",
    "        if hi is not None:\n",
    "            r['hi_mean'] = hi.mean()\n",
    "        else:\n",
    "            r['hi_mean'] = locs.get('hi',None)\n",
    "            \n",
    "        r['qs'] = qs_to_check\n",
    "        rs += [r]\n",
    "    \n",
    "    del dfes_goog\n",
    "    #break\n",
    "    #display(pg.ttest(dfes_goog.query(qs_notspec)['err_sens'], 0 , alternative='less'))\n",
    "ttrs = pd.concat(rs)\n",
    "gc.collect()"
   ]
  },
  {
   "cell_type": "code",
   "execution_count": null,
   "id": "9391b749",
   "metadata": {},
   "outputs": [],
   "source": [
    "from scipy.stats import ttest_ind\n",
    "from scipy.stats import ttest_1samp"
   ]
  },
  {
   "cell_type": "code",
   "execution_count": null,
   "id": "c2aa2780",
   "metadata": {},
   "outputs": [],
   "source": [
    "ttest_1samp"
   ]
  },
  {
   "cell_type": "code",
   "execution_count": null,
   "id": "dd856c47",
   "metadata": {},
   "outputs": [],
   "source": [
    "a = ttest_1samp(dfes_goog['err_sens'], 0, alternative='less')\n",
    "b = ttest_1samp(dfes_goog['err_sens'], 0, alternative='greater')\n",
    "c = ttest_1samp(dfes_goog['err_sens'], 0, alternative='two-sided')\n",
    "display(a,b,c)"
   ]
  },
  {
   "cell_type": "code",
   "execution_count": null,
   "id": "dbe7b959",
   "metadata": {},
   "outputs": [],
   "source": [
    "print( ttrs['qs'].values[0] )\n",
    "cols = ['alternative',  'truncaprs',  'p-val', \n",
    "        'power','dof', 'low_mean', 'hi_mean']\n",
    "ttrs.loc[ttrs[\"p-val\"] <= 0.05, cols]"
   ]
  },
  {
   "cell_type": "code",
   "execution_count": null,
   "id": "6d01555c",
   "metadata": {},
   "outputs": [],
   "source": [
    "for truncapd in pds[:1]:\n",
    "#    truncapd = pds[0]\n",
    "    print(truncapd)\n",
    "    dfes_goog, locs = truncateDf( dfes, 'err_sens', **truncapd, infnan_handling='discard',\n",
    "            verbose=0, retloc=1 )"
   ]
  },
  {
   "cell_type": "code",
   "execution_count": null,
   "id": "8a1ca705",
   "metadata": {},
   "outputs": [],
   "source": [
    "plt.hist(dfes_goog['err_sens'], bins=200, range=(-10,10));\n",
    "plt.gca().axvline(x=0, c='r', ls=':')\n",
    "#plt.xlim(-400,400)"
   ]
  },
  {
   "cell_type": "code",
   "execution_count": null,
   "id": "8c763625",
   "metadata": {},
   "outputs": [],
   "source": [
    "plt.hist(dfes_goog['err_sens'], bins=200);#, range=(-10,10));\n",
    "plt.gca().axvline(x=0, c='r', ls=':')\n",
    "#plt.xlim(-400,400)"
   ]
  },
  {
   "cell_type": "code",
   "execution_count": null,
   "id": "13d8e06d",
   "metadata": {},
   "outputs": [],
   "source": [
    "for truncapd in pds[:1]:\n",
    "    print(truncapd, qs_to_check)\n",
    "#    truncapd = pds[0]\n",
    "    dfes_goog, locs = truncateDf( dfes.query(qs_to_check), 'err_sens', **truncapd, infnan_handling='discard',\n",
    "            verbose=0, retloc=1 )\n",
    "plt.hist(dfes_goog['err_sens'], bins=90);\n",
    "plt.gca().axvline(x=0, c='r', ls=':')\n",
    "\n",
    "plt.figure()\n",
    "plt.hist(dfes_goog['err_sens'], bins=200, range=(-10,10));\n",
    "plt.gca().axvline(x=0, c='r', ls=':')\n",
    "#plt.xlim(-400,400)"
   ]
  },
  {
   "cell_type": "code",
   "execution_count": null,
   "id": "dbe9a28b",
   "metadata": {},
   "outputs": [],
   "source": []
  }
 ],
 "metadata": {
  "kernelspec": {
   "display_name": "merr2",
   "language": "python",
   "name": "merr2"
  },
  "language_info": {
   "codemirror_mode": {
    "name": "ipython",
    "version": 3
   },
   "file_extension": ".py",
   "mimetype": "text/x-python",
   "name": "python",
   "nbconvert_exporter": "python",
   "pygments_lexer": "ipython3",
   "version": "3.10.10"
  }
 },
 "nbformat": 4,
 "nbformat_minor": 5
}
