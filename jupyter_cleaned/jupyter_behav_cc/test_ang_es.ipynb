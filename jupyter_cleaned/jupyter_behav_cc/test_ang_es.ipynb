{
 "cells": [
  {
   "cell_type": "code",
   "execution_count": null,
   "id": "b70bb463",
   "metadata": {},
   "outputs": [],
   "source": [
    "%load_ext autoreload\n",
    "%autoreload 2\n",
    "\n",
    "import os\n",
    "ipy = get_ipython()\n",
    "#data_dir_general = '/home/demitau/data_Quentin'\n",
    "#data_subdir_mem_err_main = 'full_experiments/data2'\n",
    "from os.path import join as pjoin\n",
    "import os,sys; sys.path.append(os.path.expandvars('$CODE_MEMORY_ERRORS'))\n",
    "import error_sensitivity\n",
    "#data_dir_input = pjoin(data_dir_general,data_subdir_mem_err_main)\n",
    "import pandas as pd\n",
    "\n",
    "#data_dir_general = '/home/demitau/data_Quentin'\n",
    "#data_subdir_mem_err_main = 'full_experiments/data2'\n",
    "#data_dir_input = pjoin(data_dir_general,data_subdir_mem_err_main)\n",
    "#scripts_dir = pjoin(data_dir_general,'full_experiments','scripts2')\n",
    "\n",
    "data_dir_general = os.path.expandvars('$DATA_QUENTIN')\n",
    "data_dir_input = os.path.expandvars('$DATA_MEMORY_ERRORS_STAB_AND_STOCH')\n",
    "#scripts_dir = pjoin( os.path.expandvars('$CODE_MEMORY_ERRORS'), 'previous_analyses')\n",
    "scripts_dir = pjoin( os.path.expandvars('$CODE_MEMORY_ERRORS'))\n",
    "\n",
    "path_fig = '/home/demitau/current_owncloud/output/memerr/laptop_home'\n",
    "os.environ['FIG_MEMORY_ERRORS_STAB_AND_STOCH'] = path_fig\n",
    "\n",
    "import gc\n",
    "\n",
    "import numpy as np\n",
    "import matplotlib.pyplot as plt\n",
    "import seaborn as sns\n",
    "print('seaborn ver = ', sns.__version__)\n",
    "#assert sns.__version__ == '0.12.2', sns.__version__\n",
    "import matplotlib as mpl"
   ]
  },
  {
   "cell_type": "code",
   "execution_count": null,
   "id": "9347fbfe",
   "metadata": {},
   "outputs": [],
   "source": [
    "#d = '/home/demitau/current_owncloud/merr_data/travel_beh_an/ccpurebeh'\n",
    "d = '/home/demitau/data_Quentin/pilot_studies/context_change_behav/'\n",
    "#fnb = 'dima_test_context_change_20230309_164851'\n",
    "#fnb = '2023-SE1-pilot2_context_change_20230310_161928'\n",
    "fnb = '2023-SE1-017_context_change_20230425_161049'\n",
    "fn = fnb + '.log'\n",
    "fnp = fnb + '.param'"
   ]
  },
  {
   "cell_type": "code",
   "execution_count": null,
   "id": "5eea0a06",
   "metadata": {},
   "outputs": [],
   "source": [
    "fnf = pjoin(d,'es_trunc_row=trial.pkl.zip')"
   ]
  },
  {
   "cell_type": "code",
   "execution_count": null,
   "id": "51db1252",
   "metadata": {},
   "outputs": [],
   "source": []
  },
  {
   "cell_type": "code",
   "execution_count": null,
   "id": "05754b7f",
   "metadata": {},
   "outputs": [],
   "source": [
    "from behav_proc import readParamFiles, addBasicInfo, getGeomInfo\n",
    "from datetime import datetime \n",
    "\n",
    "fnp = fnb + '.param'\n",
    "params, phase2trigger, trigger2phase, stage2pars  = readParamFiles(fnp, d)\n",
    "home_position, target_coords = getGeomInfo(params)\n",
    "hitr = float(params['radius_target']) + float(params['radius_cursor']) / 2\n",
    "\n",
    "load = True\n",
    "#load = True\n",
    "if load:\n",
    "    #dfallphs = pd.read_pickle(pjoin(d,'row=frame_allph.pkl.zip'))\n",
    "    dfc_all      = pd.read_pickle(pjoin(d,'row=frame.pkl.zip'))\n",
    "    dfcc_all     = pd.read_pickle(pjoin(d,'row=trial.pkl.zip'))\n",
    "    dfcpc_all    = pd.read_pickle(pjoin(d,'row=pause.pkl.zip'))\n",
    "    dfctc_all    = pd.read_pickle(pjoin(d,'row=target_chagne.pkl.zip'))\n",
    "\n",
    "coln_pairs = [ ('error_lh_ang','error_unpert_lh_ang','error_lh_ang_nonhit','lh_ang'),\n",
    "        ('error_area2_signed_nn_scaled_ed', None,\n",
    "               'error_area2_signed_nn_scaled_ed_nonhit',\n",
    "                'signed_area2_nn_scaled_ed') ] \n",
    "\n",
    "fnf = pjoin(d,'es_trunc_row=trial.pkl.zip')\n",
    "dt = datetime.fromtimestamp(os.stat(fnf).st_mtime )\n",
    "print(dt)\n",
    "\n",
    "df_all_multi_tsz_orig = pd.read_pickle(fnf)\n",
    "assert set( df_all_multi_tsz_orig['error_data_for_calc'] ) == set(  [cp[-1] for cp in coln_pairs])\n",
    "\n",
    "subjects = dfcc_all['subject'].unique()\n",
    "print(subjects)\n",
    "\n",
    "subj = subjects[3]"
   ]
  },
  {
   "cell_type": "code",
   "execution_count": null,
   "id": "359f9489",
   "metadata": {},
   "outputs": [],
   "source": [
    "qsos = 'subject == @subj'\n",
    "dfc = dfc_all.query(qsos)\n",
    "dfcc = dfcc_all.query(qsos)\n",
    "dfcpc = dfcpc_all.query(qsos)\n",
    "dfctc = dfctc_all.query(qsos)\n",
    "df_multi_tsz = df_all_multi_tsz.query(qsos)"
   ]
  },
  {
   "cell_type": "markdown",
   "id": "55b45a61",
   "metadata": {
    "heading_collapsed": true
   },
   "source": [
    "# Recalc ES"
   ]
  },
  {
   "cell_type": "code",
   "execution_count": null,
   "id": "67f72c55",
   "metadata": {
    "hidden": true
   },
   "outputs": [],
   "source": [
    "assert 'error' not in dfcc_all.columns\n",
    "#df_all = dfcc_all.drop(labels=['index', 'level_0'],axis=1)  #.copy()\n",
    "#df_all['non_hit_not_adj'] = df_all['nonhit']\n",
    "dfcc_escalc = dfcc.copy()\n",
    "dfcc_escalc['target_inds']     = dfcc['tgti_to_show']\n",
    "dfcc_escalc['trials']          = dfcc['trial_index']\n",
    "dfcc_escalc['environment'] = 1111\n",
    "\n",
    "# for err sens calc\n",
    "#df_all['error']          = df_all['error_area_signed']\n",
    "##############################\n",
    "subjects_ = [subj]\n",
    "print(subjects_)"
   ]
  },
  {
   "cell_type": "code",
   "execution_count": null,
   "id": "fa14a76d",
   "metadata": {
    "hidden": true
   },
   "outputs": [],
   "source": [
    "q = 0.04\n",
    "a = dfcc_escalc['error_lh_ang'].abs()\n",
    "thr = a.quantile(q); print(thr)\n",
    "dfcc_escalc['error_lh_ang_nonhit'] = a > thr\n",
    "\n",
    "a = dfcc_escalc['error_area2_signed_nn_scaled_ed'].abs()\n",
    "thr = a.quantile(q); print(thr)\n",
    "dfcc_escalc['error_area2_signed_nn_scaled_ed_nonhit'] = a > thr"
   ]
  },
  {
   "cell_type": "code",
   "execution_count": null,
   "id": "9acc7aa6",
   "metadata": {
    "hidden": true
   },
   "outputs": [],
   "source": [
    "dfcc_escalc['error_area2_signed_nn_scaled_ed'].abs().describe()"
   ]
  },
  {
   "cell_type": "code",
   "execution_count": null,
   "id": "5fb8b9c2",
   "metadata": {
    "hidden": true
   },
   "outputs": [],
   "source": [
    "from behav_proc import computeErrSensVersions\n",
    "envs_cur = ['all']\n",
    "tgt_inds_cur =[None]\n",
    "\n",
    "block_names_cur = ['all']\n",
    "pertvals_cur = [None]\n",
    "gseqcs_cur = [ None ]\n",
    "dists_rad_from_prevtgt_cur = [None]\n",
    "dists_trial_from_prevtgt_cur = [None]\n",
    "error_type = 'MPE'\n",
    "#time_lockeds=['target', 'feedback', 'trial_end']\n",
    "time_lockeds=['target', 'trial_end']\n",
    "\n",
    "coln_pairs = [ ('error_area2_signed_nn_scaled_ed',\n",
    "                None,\n",
    "               'error_area2_signed_nn_scaled_ed_nonhit',\n",
    "                'signed_area2_nn_scaled_ed') ]\n",
    "coln_pairs += [('error_lh_ang','error_unpert_lh_ang','error_lh_ang_nonhit','lh_ang')]\n",
    "\n",
    "from base2 import areaBetweenTraj, calcNormCoefSectorArea\n",
    "norm_coef = calcNormCoefSectorArea(params)\n",
    "def trajPair2corr(dftraj1, dftraj2):\n",
    "    return areaBetweenTraj(dftraj1, dftraj2, home_position,                                                                                                  \n",
    "                target_coords, params ) * norm_coef\n",
    "\n",
    "dfouts = []\n",
    "import sys, traceback\n",
    "try:\n",
    "    for coln_error,coln_correction_calc,coln_nh, calc_name  in coln_pairs:\n",
    "        for time_locked in time_lockeds:\n",
    "            df_all_multi_tsz, ndf2vn = computeErrSensVersions(dfcc_escalc, envs_cur,block_names_cur,\n",
    "                pertvals_cur,gseqcs_cur,tgt_inds_cur,\n",
    "                dists_rad_from_prevtgt_cur,dists_trial_from_prevtgt_cur,\n",
    "                subj_list = subjects_, error_type=error_type,\n",
    "                trial_shift_sizes = [1],\n",
    "                addvars=[], target_info_type = 'locs',                                        \n",
    "                computation_ver = 'computeErrSens3', \n",
    "                coln_nh = coln_nh,\n",
    "                time_locked = time_locked,\n",
    "                coln_nh_out = coln_nh + '_shifted',\n",
    "                coln_error =coln_error,                                                                              \n",
    "                coln_correction_calc = coln_correction_calc,                \n",
    "                trajPair2corr = trajPair2corr,\n",
    "                df_fulltraj = dfc,\n",
    "                verbose=1,)\n",
    "            df_all_multi_tsz['error_data_for_calc'] = calc_name\n",
    "            dfouts += [df_all_multi_tsz]\n",
    "    df_all_multi_tsz = pd.concat(dfouts).reset_index()\n",
    "    \n",
    "except Exception as e:\n",
    "    print('EXC',e)\n",
    "    exc_info = sys.exc_info()\n",
    "    exc = traceback.TracebackException(*exc_info, capture_locals=True)\n",
    "    ei = exc_info[2]\n",
    "\n",
    "    #display(ei.tb_frame)\n",
    "    psf = ei\n",
    "    \n",
    "    lfprev = None\n",
    "    lfs = []\n",
    "    lf = None\n",
    "    while psf.tb_frame is not None:\n",
    "        stackframe = psf.tb_frame\n",
    "        display(stackframe)\n",
    "        lfprev = lf\n",
    "        lf = stackframe.f_locals\n",
    "        lfs += [lf]\n",
    "        psf = psf.tb_next    \n",
    "        if psf is None:\n",
    "            break\n",
    "\n",
    "    print('EXC',e)\n",
    "\n",
    "if coln_correction_calc is not None:\n",
    "    df_all_multi_tsz['coln_corrc'] = df_all_multi_tsz[coln_correction_calc]\n",
    "df_all_multi_tsz['coln_error'] = df_all_multi_tsz[coln_error]\n",
    "\n",
    "bigEStis = df_all_multi_tsz.query('err_sens > 10')['trial_index'].to_numpy()\n",
    "display(bigEStis)\n",
    "bigEStis_neg = df_all_multi_tsz.query('err_sens < -10')['trial_index'].to_numpy()\n",
    "#display(bigEStis_neg)"
   ]
  },
  {
   "cell_type": "markdown",
   "id": "a728da94",
   "metadata": {
    "heading_collapsed": true
   },
   "source": [
    "# Double traj vert aligned"
   ]
  },
  {
   "cell_type": "code",
   "execution_count": null,
   "id": "67460a63",
   "metadata": {
    "hidden": true
   },
   "outputs": [],
   "source": [
    "def trajPair2corr_plot(dftraj1, dftraj2, ax):\n",
    "    return areaBetweenTraj(dftraj1, dftraj2, home_position,                                                                                                  \n",
    "                target_coords, params, ax=ax ) * norm_coef"
   ]
  },
  {
   "cell_type": "code",
   "execution_count": null,
   "id": "54f40f18",
   "metadata": {
    "hidden": true
   },
   "outputs": [],
   "source": [
    "# plot double traj\n",
    "\n",
    "#ax = plt.gca()\n",
    "correction = []\n",
    "\n",
    "\n",
    "show_dist_guides = False\n",
    "ww = 5; hh = 5\n",
    "\n",
    "#nshow = 25\\\n",
    "nshow = 25\n",
    "rng = slice(1,1+nshow)\n",
    "#ti_ = 103; \n",
    "ti_ = 450; \n",
    "rng = slice(ti_ - (nshow//2), ti_ + (nshow//2) )\n",
    "\n",
    "#L = min(nshow, len(trial_inds_glob1) -2 )\n",
    "L = min(nshow, len(trial_inds_glob1)  )\n",
    "nc = int(np.ceil(np.sqrt(L) ) ); nr = int( np.ceil( L / nc ) )\n",
    "#nr = N; nc = 2\n",
    "\n",
    "fig,axs = plt.subplots(nr,nc, figsize=(nc*ww, nr * hh))\n",
    "axsf = axs.flatten()\n",
    "\n",
    "axi = 0\n",
    "#for trial_inds_glob1, valid_inds1, trial_inds_glob2\n",
    "#for gti1,gti2 in list(zip(trial_inds_glob1, \\\n",
    "#                          trial_inds_glob2))[rng]:\n",
    "for gti1,gti2 in list(zip(trial_inds_glob1, \\\n",
    "                          trial_inds_glob2))[:-1]:\n",
    "    \n",
    "    ax = axsf[axi]\n",
    "    \n",
    "    dftraj1 = dfc.query( 'trial_index == @gti1' )\n",
    "    dftraj2 = dfc.query( 'trial_index == @gti2' )\n",
    "\n",
    "    dftraj1 = dftraj1.loc[dftraj1.index[1: ] ]\n",
    "    dftraj2 = dftraj2.loc[dftraj2.index[1: ] ]\n",
    "\n",
    "    ab = trajPair2corr_plot(dftraj1, dftraj2, ax=ax  )\n",
    "\n",
    "    correction_cur = ab\n",
    "    correction += [correction_cur]\n",
    "    #es = correction_cur/errors0[gti1]\n",
    "    #s = ''\n",
    "    #if es > 10:\n",
    "    #    s = '*'\n",
    "    #print(s, gti1,gti2,correction_cur,\n",
    "    #      errors0[gti1], es )\n",
    "    axi += 1\n",
    "\n",
    "plt.tight_layout()\n",
    "plt.savefig(pjoin(path_fig, f'doubletraj_2D_{subj}_{rng.start,rng.stop}.pdf') )\n",
    "\n",
    "# when first is on the right of second, then we have positive\n",
    "# but to be similar to Romain's version we would like to have neg\n",
    "# or not?"
   ]
  },
  {
   "cell_type": "markdown",
   "id": "b3707408",
   "metadata": {},
   "source": [
    "# Single traj full info"
   ]
  },
  {
   "cell_type": "code",
   "execution_count": null,
   "id": "98517882",
   "metadata": {},
   "outputs": [],
   "source": [
    "rng = np.arange(18,27)"
   ]
  },
  {
   "cell_type": "code",
   "execution_count": null,
   "id": "f8bda944",
   "metadata": {},
   "outputs": [],
   "source": [
    "grp_perti = dfc.groupby(['trial_index'])"
   ]
  },
  {
   "cell_type": "code",
   "execution_count": null,
   "id": "ee1edd27",
   "metadata": {},
   "outputs": [],
   "source": [
    "# maybe try to exclude blocks where at least one trial was bad?"
   ]
  },
  {
   "cell_type": "code",
   "execution_count": null,
   "id": "0790409f",
   "metadata": {},
   "outputs": [],
   "source": [
    "df_all_multi_tsz['time_locked'].unique()"
   ]
  },
  {
   "cell_type": "code",
   "execution_count": null,
   "id": "518d47ba",
   "metadata": {},
   "outputs": [],
   "source": [
    "cols = ['subject', 'trial_index', 'error_data_for_calc',\n",
    "       'trial_shift_size', 'trial_group_col_calc', 'time_locked']\n",
    "df_all_multi_tsz.duplicated(cols).any()"
   ]
  },
  {
   "cell_type": "code",
   "execution_count": null,
   "id": "5cbdf47a",
   "metadata": {},
   "outputs": [],
   "source": [
    "df_all_multi_tsz['trial_group_calc'].unique()"
   ]
  },
  {
   "cell_type": "code",
   "execution_count": null,
   "id": "d89b8c2b",
   "metadata": {},
   "outputs": [],
   "source": [
    "edfc = 'lh_ang'\n",
    "tl = 'target'\n",
    "#tl = 'trial_end'\n",
    "qs_es = (f'subject == \"{subj}\"' \n",
    "          ' and error_data_for_calc == @edfc'\n",
    "          ' and trial_shift_size == 1 and trial_group_col_calc == \"trials\"'\n",
    "          ' and time_locked == @tl'\n",
    "         )  \n",
    "\n",
    "df_all_multi_tsz.query(qs_es)"
   ]
  },
  {
   "cell_type": "code",
   "execution_count": null,
   "id": "06cb956f",
   "metadata": {},
   "outputs": [],
   "source": [
    "coln_error, coln_correction_calc, _, _,  = 'error_lh_ang','error_unpert_lh_ang','error_lh_ang_nonhit','lh_ang'"
   ]
  },
  {
   "cell_type": "code",
   "execution_count": null,
   "id": "75542ce9",
   "metadata": {},
   "outputs": [],
   "source": [
    "colscols = [['trialwb','perturbation','trial_type'],\n",
    "            ['prev_trial_type'],\n",
    "            ['error_endpoint_ang', 'error_lh_ang'],            \n",
    "            ['time_mvt', 'traj_length'],            \n",
    "            [coln_correction_calc], [coln_error],\n",
    "            [ 'correction', 'prev_error'],\n",
    "           ['err_sens','prev_err_sens', 'nonhit']]\n",
    "\n",
    "rngs = f'{rng[0]}-{rng[-1]}'; print(rngs)"
   ]
  },
  {
   "cell_type": "markdown",
   "id": "2185d0b4",
   "metadata": {},
   "source": [
    "# Double traj not ta"
   ]
  },
  {
   "cell_type": "code",
   "execution_count": null,
   "id": "4c34ba8b",
   "metadata": {},
   "outputs": [],
   "source": [
    "path_fig = '/home/demitau/current_owncloud/output/memerr/laptop_home'"
   ]
  },
  {
   "cell_type": "code",
   "execution_count": null,
   "id": "5561fde4",
   "metadata": {
    "code_folding": [
     17
    ]
   },
   "outputs": [],
   "source": [
    "from behav_proc import plotTraj, plotTraj2, row2multierr\n",
    "#from config2 import path_fig\n",
    "#rng = range(600,603)\n",
    "#rng = range(596,625)\n",
    "#rng = range(8,10)\n",
    "#rng = range(50,60)\n",
    "#rng = range(55,57)\n",
    "\n",
    "show_dist_guides = False\n",
    "ww = 7; hh =10\n",
    "nc = int(np.ceil(np.sqrt(len(rng)) ) ); nr = int( np.ceil( len(rng) / nc ) )\n",
    "#nr = N; nc = 2\n",
    "\n",
    "fig,axs = plt.subplots(nr,nc, figsize=(nc*ww, nr * hh))\n",
    "axsf = axs.flatten()\n",
    "\n",
    "axi2d = {}\n",
    "for axi,ti in enumerate(rng):\n",
    "    ax = axsf[axi]    \n",
    "    if ti not in grp_perti.groups:\n",
    "        if ti in pause_inds:            \n",
    "            print(f'Skipping {ti} because pause')\n",
    "            ax.set_title('PAUSE')\n",
    "        else:\n",
    "            print(f'Skipping {ti} because ?')\n",
    "        continue\n",
    "        \n",
    "    df0 = dfcc.query(f'subject == \"{subj}\" and trial_index == {ti}')\n",
    "    row = df0.to_dict('records')[0]\n",
    "    \n",
    "    ev = row['error_endpoint_ang']\n",
    "    tiwb = row['trialwb']\n",
    "    \n",
    "    dfes = df_all_multi_tsz.query(qs_es + f' and trial_index == {ti}')\n",
    "    assert len(dfes) == 1, len(dfes)\n",
    "    row2 = dfes.to_dict('records')[0]\n",
    "    row.update(row2)\n",
    "    \n",
    "    \n",
    "    idx = grp_perti.groups[ti]\n",
    "    dfcurtr = dfc.loc[idx[1:]]  # zeroth is equal to zero\n",
    "    import sys, traceback\n",
    "    try:\n",
    "#         plotTraj2(ax, dfcurtr, home_position, target_coords_homec, params,\n",
    "#                 force_entire_traj=0, calc_area = 1, addinfo=row,\n",
    "#                 titlecols = colscols, xlim=(-160,160))\n",
    "        \n",
    "        r = row2multierr(row, dfc, grp_perti, home_position,             \n",
    "            target_coords, params, ax=ax,\n",
    "            revert_pert = False, xlim=(-160,160),\n",
    "            titlecols = colscols, addinfo=row, calc_area = 0)\n",
    "        z = zip( ['err', 'error_lh_ang', 'error_unpert_lh_ang', 'start_dist',\n",
    "                      'traja', 'trajoa', 'td',\n",
    "                'length',  'enddist'], r)\n",
    "        dd = dict(z)\n",
    "    \n",
    "    except Exception as e:\n",
    "        print('EXC',e)\n",
    "        exc_info = sys.exc_info()\n",
    "        exc = traceback.TracebackException(*exc_info, capture_locals=True)\n",
    "        ei = exc_info[2]\n",
    "\n",
    "        #display(ei.tb_frame)\n",
    "        psf = ei\n",
    "\n",
    "        lfprev = None\n",
    "        lfs = []\n",
    "        lf = None\n",
    "        while psf.tb_frame is not None:\n",
    "            stackframe = psf.tb_frame\n",
    "            display(stackframe)\n",
    "            lfprev = lf\n",
    "            lf = stackframe.f_locals\n",
    "            lfs += [lf]\n",
    "            psf = psf.tb_next    \n",
    "            if psf is None:\n",
    "                break\n",
    "        raise e\n",
    "        break\n",
    "    \n",
    "    from matplotlib.ticker import (AutoMinorLocator, MultipleLocator)\n",
    "    #ax.xaxis.set_major_locator(MultipleLocator(50))\n",
    "    #ax.xaxis.set_major_locator(MultipleLocator(50))\n",
    "    ax.set_yticks(np.arange(-50,400,50))\n",
    "    #ax.xaxis.set_minor_locator(AutoMinorLocator(25))\n",
    "    ax.grid(which='major', color='#CCCCCC', linestyle='--')\n",
    "    #ax.grid(which='minor', color='#CCCCCC', linestyle=':')\n",
    "    axi2d[axi] = {'df0':df0, 'row':row, 'dfcurtr':dfcurtr}\n",
    "    \n",
    "    print(f'error = {ev}, tiwb = {tiwb}')\n",
    "    \n",
    "plt.tight_layout()\n",
    "plt.savefig(pjoin(path_fig, f'traj_2D_{row[\"subject\"]}_{rngs}.pdf') )\n",
    "plt.close()"
   ]
  },
  {
   "cell_type": "code",
   "execution_count": null,
   "id": "9e45f266",
   "metadata": {},
   "outputs": [],
   "source": [
    "dftmp['perturbation']"
   ]
  },
  {
   "cell_type": "code",
   "execution_count": null,
   "id": "57587684",
   "metadata": {},
   "outputs": [],
   "source": [
    "def pptau(d):\n",
    "    for k,v in d.items():\n",
    "        if not isinstance(v,np.ndarray):\n",
    "            if isinstance(v,float):\n",
    "                print(f'{k} == {v:.2f}')\n",
    "            else:\n",
    "                print(f'{k} == {v}')"
   ]
  },
  {
   "cell_type": "code",
   "execution_count": null,
   "id": "0c85e5ed",
   "metadata": {},
   "outputs": [],
   "source": [
    "rng = np.arange(25,45)\n",
    "#rng = np.arange(25,27)"
   ]
  },
  {
   "cell_type": "code",
   "execution_count": null,
   "id": "cc5b1171",
   "metadata": {
    "code_folding": [
     9
    ]
   },
   "outputs": [],
   "source": []
  },
  {
   "cell_type": "code",
   "execution_count": null,
   "id": "a306284c",
   "metadata": {},
   "outputs": [],
   "source": []
  },
  {
   "cell_type": "code",
   "execution_count": null,
   "id": "e86153b4",
   "metadata": {
    "code_folding": [
     76
    ]
   },
   "outputs": [],
   "source": [
    "ww = 7; hh =10\n",
    "nc = int(np.ceil(np.sqrt(len(rng)) ) ); nr = int( np.ceil( len(rng) / nc ) )\n",
    "#nr = N; nc = 2\n",
    "\n",
    "fig,axs = plt.subplots(nr,nc, figsize=(nc*ww, nr * hh))\n",
    "axsf = axs.flatten()\n",
    "\n",
    "axi2d = {}\n",
    "for axi,ti in enumerate(rng):\n",
    "    if ti == 0:\n",
    "        continue\n",
    "    ax = axsf[axi]    \n",
    "\n",
    "    tind1 = ti\n",
    "    tind2 = tind1 -1\n",
    "    from behav_proc import analyzeTraj\n",
    "\n",
    "    tmp = {}\n",
    "    tmpo = {}\n",
    "    for tind in [tind1, tind2]:\n",
    "        print(tind)\n",
    "        dftmp = dfc.query('trial_index == @tind')\n",
    "        fbXY = dftmp[['feedbackX','feedbackY']]\n",
    "        tgt = dftmp[['target_coordX','target_coordY']].iloc[0].values\n",
    "        rd = analyzeTraj(fbXY.values, tgt, home_position, \n",
    "                    params['radius_home'])\n",
    "        tmp[tind] = rd\n",
    "    \n",
    "        ofbXY = dftmp[['unpert_feedbackX','unpert_feedbackY']]\n",
    "        rd = analyzeTraj(ofbXY.values, tgt, home_position, \n",
    "                    params['radius_home'], indlh=rd['indlh'])\n",
    "        tmpo[tind] = rd\n",
    "\n",
    "\n",
    "    rt = params['radius_target']\n",
    "    rh = params['radius_home']\n",
    "    pp_per_tind = [dict(ls='-', c='b', marker='o', markersize=2), \n",
    "                   dict(ls=':', c='b', marker='o', markersize=2)]\n",
    "    ppo_per_tind = [dict(ls='-', c='orange', marker='o', markersize=2), \n",
    "                   dict(ls=':', c='orange', marker='o', markersize=2)]\n",
    "    for tind,pp,ppo in zip([tind1, tind2],pp_per_tind,ppo_per_tind):\n",
    "        tgtcur = tmp[tind]['tgtcur']\n",
    "        rd = tmp[tind]\n",
    "        print('   ' ,tind)        \n",
    "        crc = plt.Circle(tgtcur, rt, color='blue', lw=2, fill=False,\n",
    "                         alpha=0.6, ls=pp['ls'])\n",
    "        ax.add_patch(crc)\n",
    "        ax.plot( *rd['XYhc'].T, **pp)\n",
    "\n",
    "        c = (1 / np.pi) * 180\n",
    "\n",
    "        indlh = rd['indlh']\n",
    "        XYlh = rd['XYhc'][indlh]\n",
    "        ang_lh = rd['ang_lh']\n",
    "        print('0pt={}, lhpt={}'.format(rd['pt0'], XYlh ))\n",
    "\n",
    "        print('lh={:5.6f}, tgt={:5.2f}, err={:5.2f} '.format(ang_lh*c, rd['ang_tgt'] * c, \n",
    "              rd['error_lh_ang'] * c) )\n",
    "        \n",
    "        ax.scatter( *XYlh , alpha=1,\n",
    "            c='k', s= 15, \n",
    "            label=f'{tind} ang_lh_0pt = {ang_lh*c:.1f}')        \n",
    "        \n",
    "        rdo = tmpo[tind]\n",
    "        ax.plot( *rdo['XYhc'].T, **ppo)                \n",
    "        \n",
    "        \n",
    "    ax.scatter( 0,0, alpha=0.8,\n",
    "            c='k', s= 25 )\n",
    "    crc = plt.Circle((0, 0), rh, color='r', lw=2, fill=False,\n",
    "                     alpha=0.3)\n",
    "    ax.add_patch(crc)\n",
    "    ax.legend()\n",
    "    \n",
    "    s = '\\n'\n",
    "    r = df_all_multi_tsz.query(qs_es + ' and trial_index == @tind').to_dict('records')[0]\n",
    "    for cols_ in colscols:\n",
    "        for col in cols_:\n",
    "            if col is None:\n",
    "                continue\n",
    "            s += f'{col}='            \n",
    "            colv = r[col]\n",
    "            if isinstance(colv,float):\n",
    "                s += f'{colv:.2f}'\n",
    "            else:\n",
    "                s += f'{colv}'\n",
    "            s+='; '\n",
    "        s += '\\n'\n",
    "\n",
    "    ax.set_title(f'ti={tind1}; pert={r[\"perturbation\"]}; ' + s)\n",
    "    \n",
    "plt.tight_layout()\n",
    "plt.savefig(pjoin(path_fig, f'trajdouble_2D_{row[\"subject\"]}_{rngs}.pdf') )\n",
    "plt.close()\n"
   ]
  },
  {
   "cell_type": "code",
   "execution_count": null,
   "id": "ffa48065",
   "metadata": {},
   "outputs": [],
   "source": [
    "dfes"
   ]
  },
  {
   "cell_type": "code",
   "execution_count": null,
   "id": "2a270c9f",
   "metadata": {},
   "outputs": [],
   "source": [
    "subjects"
   ]
  },
  {
   "cell_type": "code",
   "execution_count": null,
   "id": "e63575ba",
   "metadata": {},
   "outputs": [],
   "source": [
    "qs_es"
   ]
  },
  {
   "cell_type": "code",
   "execution_count": null,
   "id": "63108b33",
   "metadata": {},
   "outputs": [],
   "source": [
    "#dfes.query('block_ind >= 0')"
   ]
  },
  {
   "cell_type": "code",
   "execution_count": null,
   "id": "c9e3ecc9",
   "metadata": {},
   "outputs": [],
   "source": [
    "#dfes"
   ]
  },
  {
   "cell_type": "code",
   "execution_count": null,
   "id": "dda130e9",
   "metadata": {},
   "outputs": [],
   "source": [
    "sns.violinplot?"
   ]
  },
  {
   "cell_type": "code",
   "execution_count": null,
   "id": "880def68",
   "metadata": {},
   "outputs": [],
   "source": [
    "fg  = sns.catplot(data=dfes_goog, kind='violin',  y='err_sens', x='trial_type')\n",
    "for ax in fg.axes.flatten():\n",
    "    ax.axhline(0, ls=':', color='red')\n",
    "    ax.set_ylim(-2,2)"
   ]
  },
  {
   "cell_type": "code",
   "execution_count": null,
   "id": "de614e68",
   "metadata": {},
   "outputs": [],
   "source": []
  },
  {
   "cell_type": "code",
   "execution_count": null,
   "id": "051f3e15",
   "metadata": {},
   "outputs": [],
   "source": []
  },
  {
   "cell_type": "code",
   "execution_count": null,
   "id": "3cde1310",
   "metadata": {},
   "outputs": [],
   "source": [
    "# \tT\tdof\talternative\tp-val\tCI95%\tcohen-d\tBF10\tpower\n",
    "# T-test\t3.128035\t467\tgreater\t0.000935\t[0.07, inf]\t0.144593\t12.775\t0.930382"
   ]
  },
  {
   "cell_type": "code",
   "execution_count": null,
   "id": "67dd30b5",
   "metadata": {},
   "outputs": [],
   "source": []
  },
  {
   "cell_type": "code",
   "execution_count": null,
   "id": "2c07973e",
   "metadata": {},
   "outputs": [],
   "source": [
    "pg.ttest?"
   ]
  },
  {
   "cell_type": "code",
   "execution_count": null,
   "id": "84618754",
   "metadata": {},
   "outputs": [],
   "source": [
    "import researchpy as rpy"
   ]
  },
  {
   "cell_type": "code",
   "execution_count": null,
   "id": "a91c6183",
   "metadata": {},
   "outputs": [],
   "source": [
    "block_starts"
   ]
  },
  {
   "cell_type": "code",
   "execution_count": null,
   "id": "2b2ad18c",
   "metadata": {},
   "outputs": [],
   "source": [
    "from behav_proc import markBlockStarts"
   ]
  },
  {
   "cell_type": "code",
   "execution_count": null,
   "id": "6345edf5",
   "metadata": {},
   "outputs": [],
   "source": [
    "dfincsp = aggRows(df, 'time', 'max', grp, coltake = 'corresp')\n"
   ]
  },
  {
   "cell_type": "code",
   "execution_count": null,
   "id": "97ebf789",
   "metadata": {},
   "outputs": [],
   "source": [
    "pause_inds = dfcpc.groupby(['trial_index']).max('time').index.values #['trial_index']#.values"
   ]
  },
  {
   "cell_type": "code",
   "execution_count": null,
   "id": "9797f44b",
   "metadata": {},
   "outputs": [],
   "source": [
    "ECs = dfes.query('trial_type == \"error_clamp\"')['trial_index']"
   ]
  },
  {
   "cell_type": "code",
   "execution_count": null,
   "id": "ed056b53",
   "metadata": {},
   "outputs": [],
   "source": [
    "truncateDf?"
   ]
  },
  {
   "cell_type": "code",
   "execution_count": null,
   "id": "f8fdc601",
   "metadata": {},
   "outputs": [],
   "source": [
    "spectrials"
   ]
  },
  {
   "cell_type": "code",
   "execution_count": null,
   "id": "f17c85ac",
   "metadata": {},
   "outputs": [],
   "source": [
    "qs_notspec_not_afterspec"
   ]
  },
  {
   "cell_type": "markdown",
   "id": "907c6767",
   "metadata": {
    "heading_collapsed": true
   },
   "source": [
    "# Trunc effects"
   ]
  },
  {
   "cell_type": "code",
   "execution_count": null,
   "id": "2cc651d8",
   "metadata": {
    "hidden": true
   },
   "outputs": [],
   "source": [
    "# dependence on truncation params\n",
    "from behav_proc import truncateDf\n",
    "#truncateDf?\n",
    "\n",
    "#dfes_goog_noq = truncateDf( dfes, 'err_sens', q = None, infnan_handling='discard' )\n",
    "\n",
    "import pingouin as pg\n",
    "numtrain = params['num_training']\n",
    "from behav_proc import qs_notspec, qs_notspec_not_afterspec,  spectrials\n",
    "print( qs_notspec )\n",
    "\n",
    "pds = [dict(q=0.05),dict(q=0.02), dict(q=None),\n",
    "      dict(q=0.05, trunc_hi = 0),dict(q=0.02, trunc_hi =0), dict(q=None, trunc_hi =0),\n",
    "      dict(q=0.05, trunc_low = 0),dict(q=0.02, trunc_low =0), dict(q=None, trunc_low =0),\n",
    "      dict(q=0.05, trunc_low = 0, abs=True),dict(q=0.02, trunc_low =0, abs=True), dict(q=None, trunc_low =0, abs=True)]\n",
    "rs = []\n",
    "for truncapd in pds:\n",
    "    print('   truncapd=',truncapd)\n",
    "    dfes_goog = truncateDf( dfes, 'err_sens', **truncapd, infnan_handling='discard',verbose=1 )\n",
    "    r = pg.ttest(dfes_goog.query(qs_notspec)['err_sens'], 0 , alternative='greater')\n",
    "    r['truncaprs'] = repr(truncapd)\n",
    "    rs += [r]\n",
    "    #display(pg.ttest(dfes_goog.query(qs_notspec)['err_sens'], 0 , alternative='less'))\n",
    "pd.concat(rs)"
   ]
  },
  {
   "cell_type": "code",
   "execution_count": null,
   "id": "b0a2cc24",
   "metadata": {
    "hidden": true
   },
   "outputs": [],
   "source": [
    "dfes_goog = truncateDf( dfes, 'err_sens', **truncapd, infnan_handling='discard',verbose=1 )"
   ]
  },
  {
   "cell_type": "code",
   "execution_count": null,
   "id": "5c1356d6",
   "metadata": {
    "hidden": true
   },
   "outputs": [],
   "source": [
    "grp_perti.apply?"
   ]
  },
  {
   "cell_type": "code",
   "execution_count": null,
   "id": "c1d85001",
   "metadata": {
    "hidden": true
   },
   "outputs": [],
   "source": [
    "#dftmp.abs?"
   ]
  },
  {
   "cell_type": "code",
   "execution_count": null,
   "id": "0b0bc0da",
   "metadata": {
    "hidden": true
   },
   "outputs": [],
   "source": [
    "import pandas as pd"
   ]
  },
  {
   "cell_type": "code",
   "execution_count": null,
   "id": "7b27d3af",
   "metadata": {
    "hidden": true
   },
   "outputs": [],
   "source": [
    "dfes = df_all_multi_tsz.query(qs_es)\n",
    "timax = 90\n",
    "fg = sns.lineplot(data=dfes.query('trial_index < @timax and trial_index >= 11'), \n",
    "                  x='trial_index', y='err_sens')\n",
    "#for ax in fg.axes.flatten():\n",
    "ax = fg.axes\n",
    "ax.set_ylim(-2,2)\n",
    "ax.axhline(0,ls=':',color='red')\n",
    "\n",
    "block_starts = markBlockStarts(dfes, ax, dict(ymin = -1, ymax = 1, color='grey', ls=':') )\n",
    "\n",
    "ax.vlines(pause_inds, -1,1, color='yellow',lw=2)\n",
    "ax.vlines(ECs, 0.5,1, color='green',lw=2, ls='--')\n",
    "\n",
    "ax.set_xlim(11, timax)"
   ]
  },
  {
   "cell_type": "code",
   "execution_count": null,
   "id": "944f283f",
   "metadata": {
    "hidden": true
   },
   "outputs": [],
   "source": []
  }
 ],
 "metadata": {
  "kernelspec": {
   "display_name": "merr",
   "language": "python",
   "name": "merr"
  },
  "language_info": {
   "codemirror_mode": {
    "name": "ipython",
    "version": 3
   },
   "file_extension": ".py",
   "mimetype": "text/x-python",
   "name": "python",
   "nbconvert_exporter": "python",
   "pygments_lexer": "ipython3",
   "version": "3.8.13"
  }
 },
 "nbformat": 4,
 "nbformat_minor": 5
}
