{
 "cells": [
  {
   "cell_type": "code",
   "execution_count": null,
   "id": "6907cb90",
   "metadata": {},
   "outputs": [],
   "source": [
    "%load_ext autoreload\n",
    "%autoreload 2\n",
    "\n",
    "import os\n",
    "ipy = get_ipython()\n",
    "#data_dir_general = '/home/demitau/data_Quentin'\n",
    "#data_subdir_mem_err_main = 'full_experiments/data2'\n",
    "from os.path import join as pjoin\n",
    "import os,sys; sys.path.append(os.path.expandvars('$CODE_MEMORY_ERRORS'))\n",
    "import error_sensitivity\n",
    "#data_dir_input = pjoin(data_dir_general,data_subdir_mem_err_main)\n",
    "import pandas as pd\n",
    "import mne\n",
    "import gc;\n",
    "\n",
    "#data_dir_general = '/home/demitau/data_Quentin'\n",
    "#data_subdir_mem_err_main = 'full_experiments/data2'\n",
    "#data_dir_input = pjoin(data_dir_general,data_subdir_mem_err_main)\n",
    "#scripts_dir = pjoin(data_dir_general,'full_experiments','scripts2')\n",
    "\n",
    "data_dir_general = os.path.expandvars('$DATA_QUENTIN')\n",
    "data_dir_input = os.path.expandvars('$DATA_MEMORY_ERRORS_STAB_AND_STOCH')\n",
    "#scripts_dir = pjoin( os.path.expandvars('$CODE_MEMORY_ERRORS'), 'previous_analyses')\n",
    "scripts_dir = pjoin( os.path.expandvars('$CODE_MEMORY_ERRORS'))\n",
    "\n",
    "\n",
    "import numpy as np\n",
    "import matplotlib.pyplot as plt\n",
    "import seaborn as sns\n",
    "print('seaborn ver = ', sns.__version__)\n",
    "#assert sns.__version__ == '0.12.2', sns.__version__\n",
    "import matplotlib as mpl\n",
    "def mplresestcol():\n",
    "    COLOR = 'black'\n",
    "    COLOR_INV = 'white'\n",
    "    mpl.rcParams['text.color'] = COLOR\n",
    "    mpl.rcParams['axes.labelcolor'] = COLOR\n",
    "    mpl.rcParams['xtick.color'] = COLOR\n",
    "    mpl.rcParams['ytick.color'] = COLOR\n",
    "    mpl.rcParams[\"figure.facecolor\"] = COLOR_INV\n",
    "    mpl.rcParams[\"axes.facecolor\"] = COLOR_INV\n",
    "mplresestcol()\n",
    "\n",
    "\n",
    "sns.set(rc={'axes.facecolor':'white', 'figure.facecolor':'white',\n",
    "           'grid.color':'grey', 'grid.alpha':0.5})\n",
    "\n",
    "tgtc = ['b','g','r','brown']\n",
    "\n",
    "\n",
    "from glob import glob\n",
    "from pathlib import Path\n",
    "dmeg = '/home/demitau/data_Quentin/pilot_studies/context_change_MEG/'\n",
    "fnbs = []\n",
    "subjects = []\n",
    "subj2path = {}\n",
    "subj2dsnames = {}\n",
    "for fnf in os.scandir(dmeg):\n",
    "    if fnf.is_dir():\n",
    "        print(fnf, fnf.name)\n",
    "        subjects += [fnf.name]\n",
    "        subj2path[fnf.name] = fnf.path\n",
    "        \n",
    "        subj2dsnames[fnf.name] = []\n",
    "        \n",
    "        for fnf2 in os.scandir(fnf.path):\n",
    "            #print(fnf2.name)\n",
    "            if fnf2.name.endswith('.ds'):\n",
    "                subj2dsnames[fnf.name] += [fnf2.path]\n",
    "        subj2dsnames[fnf.name] = list(sorted(subj2dsnames[fnf.name]))\n",
    "    \n",
    "display(list(sorted(subj2path)))\n",
    "\n",
    "subj = 'pilot_2023-SE2-005'\n",
    "print('subj ', subj)  \n",
    "\n",
    "subj_nodate = '_'.join( subj.split('_')[:2] )\n",
    "#fnbs = pjoin( subj2path[subj] , 'behav', subj_nodate)\n",
    "#d = pjoin( subj2path[subj] , 'behav', subj_nodate)\n",
    "path_behav = pjoin( subj2path[subj] , 'behav')\n",
    "fnbs = []\n",
    "for fnf in glob(pjoin(path_behav,'*_trigger.log') ):\n",
    "    name = Path(fnf).name\n",
    "    fnb = name.replace('_trigger.log','')\n",
    "    fnbs += [fnb]\n",
    "    #print( f'\"{fnb}\",' )\n",
    "\n",
    "print(fnbs)\n",
    "\n",
    "# TODO: read edf file"
   ]
  },
  {
   "cell_type": "code",
   "execution_count": null,
   "id": "b165da51",
   "metadata": {},
   "outputs": [],
   "source": [
    "subj2dsnames[subj]"
   ]
  },
  {
   "cell_type": "code",
   "execution_count": null,
   "id": "d541a4ae",
   "metadata": {},
   "outputs": [],
   "source": [
    "p = subj2path[subj]; p"
   ]
  },
  {
   "cell_type": "code",
   "execution_count": null,
   "id": "d9033881",
   "metadata": {},
   "outputs": [],
   "source": [
    "fnbs = ['2023-SE2-005_context_change_20230510_111603']"
   ]
  },
  {
   "cell_type": "code",
   "execution_count": null,
   "id": "ba77cf34",
   "metadata": {},
   "outputs": [],
   "source": [
    "#fnbs"
   ]
  },
  {
   "cell_type": "code",
   "execution_count": null,
   "id": "996067e0",
   "metadata": {
    "code_folding": [
     6
    ]
   },
   "outputs": [],
   "source": [
    "from datetime import datetime\n",
    "from behav_proc import readParamFiles, addBasicInfo, getGeomInfo\n",
    "from behav_proc import loadTriggerLog\n",
    "\n",
    "dfs = []\n",
    "dftriglogs = []\n",
    "for fnb in fnbs:\n",
    "    fnp = fnb + '.param'\n",
    "    params, phase2trigger, trigger2phase, CONTEXT_TRIGGER_DICT  = readParamFiles(fnp, path_behav)\n",
    "    \n",
    "    fn = fnb + '.log'\n",
    "    fnp = fnb + '.param'\n",
    "\n",
    "    with open(pjoin(path_behav,fn), 'r') as f:\n",
    "         l = f.readline()\n",
    "         truelen = len( l.split(',') )\n",
    "\n",
    "    r = ('trial_index, current_phase_trigger, tgti_to_show,'\n",
    "       ' vis_feedback_type, trial_type, special_block_type, block_ind, '\n",
    "        ' feedbackX, feedbackY, unpert_feedbackX, unpert_feedbackY,'\n",
    "         ' error_distance, target_coordX, target_coordY, '\n",
    "         'feedbackX_when_crossing, feedbackY_when_crossing, '\n",
    "         'jax1, jax2, reward, time, time_abs')\n",
    "    r = r.replace(' ','')\n",
    "    colnames = r.split(',')\n",
    "    print('len(colnames) = ',len(colnames),'truelen = ',truelen,colnames)\n",
    "    assert truelen == len(colnames)\n",
    "    \n",
    "    dtypes = (int,int,str,str,str,str,int,float,float,float,float,\n",
    "        float,float, float,float,float,float, float,float,float,\n",
    "         float)\n",
    "    ddt = dict(zip(colnames,dtypes))\n",
    "    ddt['target_coordX'] = str\n",
    "    ddt['target_coordY'] = str\n",
    "\n",
    "    nbad = 0  # recompense strip, but in first particiapnt no\n",
    "    #colnames = ['trial_index', 'current_phase_']\n",
    "    df = pd.read_csv(pjoin(path_behav,fn), skipfooter = nbad, \n",
    "                     on_bad_lines='warn', header=0,\n",
    "                    names=colnames, encoding='latin1',\n",
    "                    comment='#', dtype=ddt)\n",
    "    #encoding='latin-1'\n",
    "    subj_ = fnb.split('_')[0]    \n",
    "    df['subject'] = subj_\n",
    "    dfs += [df]\n",
    "    \n",
    "    df['phase'] = df.apply(lambda row: trigger2phase[row['current_phase_trigger']], 1)\n",
    "    \n",
    "    fnf = pjoin(path_behav, fnb + '_trigger.log')\n",
    "    dftriglog = loadTriggerLog(fnf,CONTEXT_TRIGGER_DICT)\n",
    "    dftriglogs += [dftriglog]\n",
    "    \n",
    "    ma = df['time_abs'].max()\n",
    "    ma = datetime.fromtimestamp(ma).strftime(\"%H:%M:%S\")\n",
    "    mi = df['time_abs'].min()\n",
    "    mi = datetime.fromtimestamp(mi).strftime(\"%H:%M:%S\")\n",
    "    print(mi,'   ', ma)\n",
    "    \n",
    "    # repair bad target inds for phases where target should be\n",
    "    # meaningful\n",
    "    bad_tgti_inds = df.loc[(df['tgti_to_show'].\\\n",
    "            isin(['None','-1'] ) ) &\\\n",
    "            (df['phase'] == 'GO_CUE_WAIT_AND_SHOW')].index\n",
    "    print('len(bad_tgti_inds) =',len(bad_tgti_inds))\n",
    "    for ind in bad_tgti_inds:\n",
    "        nextind = df.loc[ind+1, 'tgti_to_show']\n",
    "        assert nextind in ['0','1','2']\n",
    "        print( df.loc[ind+1, 'tgti_to_show'] )\n",
    "        df.loc[ind,'tgti_to_show'] = nextind\n",
    "        \n",
    "    bad_tgti_inds2 = df.loc[(df['tgti_to_show'].isin(['None','-1'] ) ) ].index\n",
    "    print('len(bad_tgti_inds2) =',len(bad_tgti_inds2))\n",
    "    df.loc[bad_tgti_inds2,'tgti_to_show'] = '-10000'\n",
    "    df.loc[bad_tgti_inds2,'target_coordX'] = '-10000'\n",
    "    df.loc[bad_tgti_inds2,'target_coordY'] = '-10000'\n",
    "    \n",
    "    df['tgti_to_show'] = df['tgti_to_show'].astype(int)\n",
    "    #df['target_coordX'] = df['target_coordX'].astype(int)\n",
    "    #df['target_coordY'] = df['target_coordY'].astype(int)\n",
    "    \n",
    "    df_unproc = df\n",
    "\n",
    "print( 'len = {}, maxtime in min = {}'.format( len(df), df['time'].max() / 60 ) )"
   ]
  },
  {
   "cell_type": "code",
   "execution_count": null,
   "id": "e1c52a38",
   "metadata": {},
   "outputs": [],
   "source": [
    "#df_unproc.to_pickle(pjoin(path_behav,'df_unproc.pkl.zip'), compression='zip')"
   ]
  },
  {
   "cell_type": "code",
   "execution_count": null,
   "id": "1416d5d9",
   "metadata": {},
   "outputs": [],
   "source": [
    "ddt"
   ]
  },
  {
   "cell_type": "code",
   "execution_count": null,
   "id": "2dfff37f",
   "metadata": {},
   "outputs": [],
   "source": [
    "df.dtypes"
   ]
  },
  {
   "cell_type": "markdown",
   "id": "c868c972",
   "metadata": {},
   "source": [
    "## Clean behav dataset"
   ]
  },
  {
   "cell_type": "code",
   "execution_count": null,
   "id": "3b94ebec",
   "metadata": {},
   "outputs": [],
   "source": [
    "row['time']"
   ]
  },
  {
   "cell_type": "code",
   "execution_count": null,
   "id": "7cc136c2",
   "metadata": {},
   "outputs": [],
   "source": [
    "# she made 0-146 (EC prebreak), restart, 146 (EC)-294 (break), restart, \n",
    "#      145 (EC) -147, restart 144 (veridical)-end\n",
    "\n",
    "# when I restart from same trial index, \n",
    "# I need to discard rows from the first appearance of this index \n",
    "# when from the preceding, remove several trials \n",
    "\n",
    "# Better, I can discard 146 in the end before first restart\n",
    "# then I go with 146-294 after first restart\n",
    "# then discard 145,146,147 in beg of second restart so that \n",
    "# we start on the first after break (when I see two EC's out\n",
    "# of nothing and then break it is not very meaningful)\n",
    "# don't do anything with 294 because it is a break and even\n",
    "# when not complete, is still fine\n",
    "# then finally discard 144-147 in the beg of 3rd jump (because\n",
    "# veridical then EC then break)\n",
    "\n",
    "# so repaired would be\n",
    "# 0-145 before 1st restart\n",
    "# 147-294 after 1st restart (note that keep first break present, but not EC, they are not informative \n",
    "#     after restart probably)\n",
    "# 148-.. after 2nd, but renumber them: tind = tind - 148 + 295\n",
    "\n",
    "#trials 148-294 maybe I could save them somewhere separately\n",
    "#or just make two versions of the final dataset -- only with \n",
    "#these trials included as initial (which would be more fair)\n",
    "#and another one with them excluded"
   ]
  },
  {
   "cell_type": "code",
   "execution_count": null,
   "id": "aa71b63e",
   "metadata": {},
   "outputs": [],
   "source": [
    "rows_last_before_jump"
   ]
  },
  {
   "cell_type": "code",
   "execution_count": null,
   "id": "fb8b592c",
   "metadata": {},
   "outputs": [],
   "source": [
    "# np.savez(pjoin(path_behav,'dat_time.gz'), dat_time )\n",
    "# np.savez(pjoin(path_behav,'dat_diode.gz'), diode )\n",
    "# dfev.to_pickle(pjoin(path_behav,'dfev.pkl.zip'), compression='zip')\n",
    "#dftriglog.to_pickle(pjoin(path_behav,'dftriglog.pkl.zip'), compression='zip')\n"
   ]
  },
  {
   "cell_type": "code",
   "execution_count": null,
   "id": "1ae574d6",
   "metadata": {},
   "outputs": [],
   "source": [
    "#non-inclusive if a == 1\n",
    "a = 1\n",
    "timax = df_unproc['trial_index'].max()\n",
    "# tinds range and numbering shift\n",
    "tinds_to_keep = [(0,145+a,0), (147,294+a,0), None,\n",
    "                 (148,timax+a, -148+295)]\n",
    "\n",
    "df_unproc['time_step'] = df_unproc['time_abs'].diff()\n",
    "df_unproc['prev_trial_index'] = df_unproc['trial_index'].shift(1)\n",
    "t0 = df_unproc['time_abs'].min()\n",
    "df_unproc['time_since_min'] = df_unproc['time_abs'] - t0\n",
    "\n",
    "cols = ['trial_index','prev_trial_index', 'time_step', 'trial_type', 'phase', 'vis_feedback_type','time_since_min','block_ind']\n",
    "dfbigjump = df_unproc.query(f'time_step > 5')\n",
    "display( dfbigjump[cols] )\n",
    "print('pre jump')\n",
    "display (df_unproc.loc[dfbigjump.index - 1,cols])\n",
    "\n",
    "#abstimes_first_after_jump = df.loc[dfbigjump.index ]['time_abs']\n",
    "#abstimes_last_before_jump = df.loc[dfbigjump.index - 1]['time_abs']\n",
    "rows_last_before_jump = df_unproc.loc[dfbigjump.index - 1]\n",
    "\n",
    "\n",
    "dfs2 = []\n",
    "prev_rowi = None\n",
    "inds_l = []\n",
    "time_last = 0\n",
    "for tpl,(rowi,row) in zip(tinds_to_keep,rows_last_before_jump.iterrows()):\n",
    "    #print(rowi)\n",
    "#     if row['trial_type'] == 'break':\n",
    "#         print('Skip ',rowi)\n",
    "#         continue    \n",
    "    time_abs_min =0\n",
    "    if prev_rowi is not None:\n",
    "        time_abs_min = df_unproc.loc[prev_rowi,'time_abs']\n",
    "        \n",
    "    prev_rowi = rowi\n",
    "        \n",
    "    if tpl is None:\n",
    "        continue\n",
    "    ti_start,ti_end, offset = tpl    \n",
    "        \n",
    "    #ti = row['trial_index']\n",
    "    \n",
    "    time_abs = row['time_abs']    \n",
    "    inds = df_unproc.query('time_abs <= @time_abs'\n",
    "        ' and time_abs > @time_abs_min'\n",
    "        ' and trial_index >= @ti_start'\n",
    "        ' and trial_index < @ti_end').index\n",
    "    print(tpl, len(inds))\n",
    "    \n",
    "    inds_l += [inds]\n",
    "    dftmp = df_unproc.loc[inds].copy()\n",
    "    dftmp['time'] = dftmp['time'] + time_last\n",
    "    dfs2 += [dftmp]\n",
    "    \n",
    "    time_last += row['time']\n",
    "    #df[(df['time_abs'] < abstime ) & ]\n",
    "    \n",
    "tpl = tinds_to_keep[-1]\n",
    "ti_start,ti_end, offset = tpl  \n",
    "time_abs_min = df_unproc.loc[prev_rowi,'time_abs']\n",
    "time_abs = df_unproc['time_abs'].max()\n",
    "inds = df_unproc.query('time_abs <= @time_abs'\n",
    "    ' and time_abs > @time_abs_min'\n",
    "    ' and trial_index >= @ti_start'\n",
    "    ' and trial_index < @ti_end').index\n",
    "print(tpl, len(inds))\n",
    "dftmp = df_unproc.loc[inds].copy()\n",
    "dftmp['trial_index'] += offset\n",
    "dftmp['time'] = dftmp['time'] + time_last\n",
    "dfs2 += [dftmp]\n",
    "    \n",
    "# don't ignore index, want numbering consistent with df\n",
    "dfclean = pd.concat(dfs2) \n",
    "\n",
    "assert not dfclean.duplicated().any()\n",
    "assert (dfclean['trial_index'].diff().iloc[1:] >= 0 ).all()\n",
    "# 1 is okay because we romove one of the uselsess ECs\n",
    "assert sum(dfclean['trial_index'].diff() > 1 ) == 1\n",
    "\n",
    "del dfs2, dftmp\n",
    "gc.collect()\n",
    "\n",
    "print(len(df), len(dfclean))"
   ]
  },
  {
   "cell_type": "code",
   "execution_count": null,
   "id": "92ab9fec",
   "metadata": {},
   "outputs": [],
   "source": [
    "time_inc = ( dfclean['time'].diff().iloc[1:] >= 0 ).all()\n",
    "time_abs_inc = ( dfclean['time_abs'].diff().iloc[1:] >= 0 ).all()\n",
    "print(time_inc, time_abs_inc)\n",
    "assert time_inc and  time_abs_inc"
   ]
  },
  {
   "cell_type": "code",
   "execution_count": null,
   "id": "2c9d6b95",
   "metadata": {},
   "outputs": [],
   "source": [
    "tdiff = dfclean['time_abs'].diff()\n",
    "display(tdiff.describe())\n",
    "\n",
    "tdiff = dfclean['time'].diff()\n",
    "display(tdiff.describe())"
   ]
  },
  {
   "cell_type": "code",
   "execution_count": null,
   "id": "5d39054c",
   "metadata": {},
   "outputs": [],
   "source": [
    "dfclean['time'].max() / 60"
   ]
  },
  {
   "cell_type": "code",
   "execution_count": null,
   "id": "9441a7be",
   "metadata": {},
   "outputs": [],
   "source": [
    "#t0 = df['time_abs'].min()\n",
    "#dfclean['time'] = dfclean['time_abs'] - t0"
   ]
  },
  {
   "cell_type": "code",
   "execution_count": null,
   "id": "9215fa00",
   "metadata": {},
   "outputs": [],
   "source": [
    "tdiff>=0"
   ]
  },
  {
   "cell_type": "code",
   "execution_count": null,
   "id": "6ca6e75a",
   "metadata": {},
   "outputs": [],
   "source": []
  },
  {
   "cell_type": "code",
   "execution_count": null,
   "id": "6efe57c9",
   "metadata": {},
   "outputs": [],
   "source": [
    "1671/60"
   ]
  },
  {
   "cell_type": "code",
   "execution_count": null,
   "id": "bdadc917",
   "metadata": {},
   "outputs": [],
   "source": [
    "dfclean[(dfclean['time'].diff() < 0)]#['phase']"
   ]
  },
  {
   "cell_type": "code",
   "execution_count": null,
   "id": "a7e1938c",
   "metadata": {},
   "outputs": [],
   "source": [
    "# add behav columns\n",
    "gc.collect()\n",
    "import sys, traceback\n",
    "from behav_proc import getGeomInfo, addBasicInfo\n",
    "home_position, target_coords = getGeomInfo(params)\n",
    "hitr = float(params['radius_target']) + float(params['radius_cursor']) / 2\n",
    "\n",
    "dfcs = []; dfccs = []; dfcpcs = []; dfctcs = [];    \n",
    "for df in dfs:\n",
    "    print('---------------  Starting processing new df')                    \n",
    "    try:\n",
    "        df, dfc, dfcc, dfcpc, dfctc = addBasicInfo(dfclean, phase2trigger, params,\n",
    "            home_position, target_coords,\n",
    "            training_end_sep_trial=True, reshifted=1)\n",
    "        from behav_proc import printPretrialMistakesDiag\n",
    "        printPretrialMistakesDiag(df, params)  \n",
    "    except Exception as e:\n",
    "        print('EXC',e)\n",
    "        exc_info = sys.exc_info()\n",
    "        exc = traceback.TracebackException(*exc_info, capture_locals=True)\n",
    "        ei = exc_info[2]\n",
    "\n",
    "        #display(ei.tb_frame)\n",
    "        psf = ei\n",
    "\n",
    "        lfprev = None; lf = None\n",
    "        lfs = []\n",
    "        while psf.tb_frame is not None:\n",
    "            stackframe = psf.tb_frame\n",
    "            display(stackframe)\n",
    "            lfprev = lf\n",
    "            lf = stackframe.f_locals\n",
    "            lfs += [lf]\n",
    "            psf = psf.tb_next    \n",
    "            if psf is None:\n",
    "                break    "
   ]
  },
  {
   "cell_type": "code",
   "execution_count": null,
   "id": "4fb6d852",
   "metadata": {},
   "outputs": [],
   "source": [
    "dfcc['Nctx_app'].max()"
   ]
  },
  {
   "cell_type": "code",
   "execution_count": null,
   "id": "8ef0604a",
   "metadata": {},
   "outputs": [],
   "source": [
    "df.to_pickle(pjoin(path_behav,'df.pkl.zip'), compression='zip')"
   ]
  },
  {
   "cell_type": "code",
   "execution_count": null,
   "id": "a6df108b",
   "metadata": {},
   "outputs": [],
   "source": [
    "dfcc.to_pickle(pjoin(path_behav,'dfcc.pkl.zip'), compression='zip')"
   ]
  },
  {
   "cell_type": "markdown",
   "id": "3c3b5d6c",
   "metadata": {},
   "source": [
    "# Read meg"
   ]
  },
  {
   "cell_type": "code",
   "execution_count": null,
   "id": "94413582",
   "metadata": {},
   "outputs": [],
   "source": [
    "#raw.pick_types"
   ]
  },
  {
   "cell_type": "code",
   "execution_count": null,
   "id": "5378d81c",
   "metadata": {},
   "outputs": [],
   "source": [
    "raws0 = []\n",
    "sfreqs = []\n",
    "for fnf_ds in subj2dsnames[subj]:\n",
    "    print(fnf_ds)\n",
    "\n",
    "    raw = mne.io.read_raw_ctf(fnf_ds)\n",
    "    print(raw.n_times, raw.times[-1], raw.times[-1]/60 )\n",
    "    raws0 += [raw]\n",
    "    sfreqs += [raw.info['sfreq']]\n",
    "    \n",
    "    # if I drop ref meg it writes \"\". So maybe I won't for now\n",
    "    #Removing 5 compensators from info because not all compensation channels were picked.\n",
    "    #raw = raw.drop_channels(chns_ref_meg)    \n",
    "assert np.std(sfreqs) <= 1e-10\n",
    "\n",
    "# Here we ignore that these have different device<->head transforms\n",
    "raw = mne.io.concatenate_raws(raws0, on_mismatch='ignore')\n",
    "#raw_erm = read_raw_ctf(erm_fname)\n",
    "m = {'SCLK01-177':'syst',\n",
    " 'EEG063-2800':'emg',\n",
    " 'EEG064-2800':'emg',\n",
    " 'UADC001-2800':'misc', \n",
    " 'UADC010-2800':'eog',\n",
    " 'UADC011-2800':'eog',\n",
    " 'UADC012-2800':'misc',\n",
    " 'UPPT001':'stim',\n",
    " 'UPPT002':'syst'}\n",
    "\n",
    "# The EEG063 and 64 are EMG\n",
    "# UPPT002 is the parralel port from the interface box (only registers button presses)\n",
    "# UADC10, 11 and 12 are eyelink for x, y position and pupil size\n",
    "\n",
    "chn_diode = 'UADC001-2800'\n",
    "chn_pupil_size = 'UADC012-2800'\n",
    "chn_time = 'SCLK01-177'\n",
    "\n",
    "to_drop =['EEG063-2800']\n",
    "raw = raw.set_channel_types(m)\n",
    "\n",
    "chn2cht = dict( zip( raw.ch_names, raw.get_channel_types() ) )\n",
    "chns_nontriv = [chn for chn,cht in chn2cht.items() if cht not in ['mag', 'ref_meg']]\n",
    "chns_ref_meg = [chn for chn,cht in chn2cht.items() if cht in ['ref_meg']]\n",
    "#raw_nontriv.set_channel_types(m)\n",
    "\n",
    "#dat = raw_nontriv.get_data('stim')[0]\n",
    "\n",
    "events = mne.find_events(raw, shortest_event=2)\n",
    "dfrest = df.query('phase == \"REST\"')\n",
    "restmintime = dfrest['time_abs'].min()\n",
    "#df['time_MEG_aligned'] = df['time_abs'] + (restmintime_meg - restmintime)\n",
    "df['time_since_first_REST'] = df['time_abs']  - restmintime\n",
    "\n",
    "print(restmintime)\n",
    "from meg_proc import events2df\n",
    "dat_time ,times = raw[chn_time] \n",
    "diode,times = raw[chn_diode]\n",
    "\n",
    "del raws0"
   ]
  },
  {
   "cell_type": "code",
   "execution_count": null,
   "id": "5cf713e6",
   "metadata": {},
   "outputs": [],
   "source": [
    "try:\n",
    "    dfev =events2df(events, raw, dat_time, diode, \n",
    "                trigger2phase, CONTEXT_TRIGGER_DICT, params,\n",
    "                restmintime)\n",
    "except Exception as e:\n",
    "    print('EXC',e)\n",
    "    exc_info = sys.exc_info()\n",
    "    exc = traceback.TracebackException(*exc_info, capture_locals=True)\n",
    "    ei = exc_info[2]\n",
    "\n",
    "    #display(ei.tb_frame)\n",
    "    psf = ei\n",
    "\n",
    "    lfprev = None; lf = None\n",
    "    lfs = []\n",
    "    while psf.tb_frame is not None:\n",
    "        stackframe = psf.tb_frame\n",
    "        display(stackframe)\n",
    "        lfprev = lf\n",
    "        lf = stackframe.f_locals\n",
    "        lfs += [lf]\n",
    "        psf = psf.tb_next    \n",
    "        if psf is None:\n",
    "            break    \n",
    "\n",
    "\n",
    "import gc; gc.collect()"
   ]
  },
  {
   "cell_type": "code",
   "execution_count": null,
   "id": "d62ffaf1",
   "metadata": {},
   "outputs": [],
   "source": []
  },
  {
   "cell_type": "code",
   "execution_count": null,
   "id": "966f1ebd",
   "metadata": {},
   "outputs": [],
   "source": [
    "ts_ev = lfs[1]['ts_ev']\n",
    "ts_di = lfs[1]['ts_di']\n",
    "print (len(ts_ev), len(ts_di))\n",
    "ts = np.array( list(zip(ts_ev,ts_di)) )\n",
    "\n",
    "difts = ts[:,0] - ts[:,1]  # trigger - diode\n",
    "# trigger is later then diode\n",
    "pd.DataFrame(difts).describe()\n",
    "\n",
    "print(len(difts[(difts > 3.1)]))"
   ]
  },
  {
   "cell_type": "code",
   "execution_count": null,
   "id": "2dff6c4c",
   "metadata": {},
   "outputs": [],
   "source": [
    "ts_ev = lfs[1]['ts_ev']\n",
    "ts_di = lfs[1]['ts_di'][1:]\n",
    "print (len(ts_ev), len(ts_di))\n",
    "ts = np.array( list(zip(ts_ev,ts_di)) )\n",
    "\n",
    "difts =  ts[:,1] - ts[:,0]   # diode - trigger \n",
    "# trigger is later then diode\n",
    "pd.DataFrame(difts).describe()"
   ]
  },
  {
   "cell_type": "code",
   "execution_count": null,
   "id": "95d6697c",
   "metadata": {},
   "outputs": [],
   "source": []
  },
  {
   "cell_type": "code",
   "execution_count": null,
   "id": "f8c18c60",
   "metadata": {},
   "outputs": [],
   "source": [
    "mplresestcol()"
   ]
  },
  {
   "cell_type": "code",
   "execution_count": null,
   "id": "305db21a",
   "metadata": {},
   "outputs": [],
   "source": [
    "plt.plot(difts)"
   ]
  },
  {
   "cell_type": "markdown",
   "id": "30a8eeba",
   "metadata": {},
   "source": [
    "### debug"
   ]
  },
  {
   "cell_type": "markdown",
   "id": "4ae07869",
   "metadata": {},
   "source": [
    "#### check trigger repeats"
   ]
  },
  {
   "cell_type": "code",
   "execution_count": null,
   "id": "de73dfd2",
   "metadata": {},
   "outputs": [],
   "source": [
    "# any consequitive triggers are the same?\n",
    "assert not (dfev['trigger'] == dfev['prev_trigger']).any()"
   ]
  },
  {
   "cell_type": "markdown",
   "id": "6ae72d14",
   "metadata": {},
   "source": [
    "#### align time"
   ]
  },
  {
   "cell_type": "code",
   "execution_count": null,
   "id": "b2585c4d",
   "metadata": {},
   "outputs": [],
   "source": [
    "dfrest = df.query('phase == \"REST\"')\n",
    "restmintime = dfrest['time_abs'].min()\n",
    "#df['time_MEG_aligned'] = df['time_abs'] + (restmintime_meg - restmintime)\n",
    "df['time_since_first_REST'] = df['time_abs']  - restmintime"
   ]
  },
  {
   "cell_type": "code",
   "execution_count": null,
   "id": "bac79736",
   "metadata": {},
   "outputs": [],
   "source": [
    "# this is not accurate, does not take into account script restarts\n",
    "restmintime_meg2 = dfev.query('phase == \"REST\"')['time'].min()\n",
    "dfev['time_since_first_REST2'] = dfev['time'] - restmintime_meg2\n",
    "mvt_starts_megtrig2 = dfev.query('phase == \"TARGET_AND_FEEDBACK\"')\n",
    "mvt_starts_megtrig2_REST = mvt_starts_megtrig2['time_since_first_REST2']"
   ]
  },
  {
   "cell_type": "code",
   "execution_count": null,
   "id": "fd4ad741",
   "metadata": {},
   "outputs": [],
   "source": [
    "#dfev['time_since_first_REST'] = dfev['time'] - restmintime_meg"
   ]
  },
  {
   "cell_type": "code",
   "execution_count": null,
   "id": "334d18e2",
   "metadata": {},
   "outputs": [],
   "source": [
    "mvt_starts = df.query('phase == \"TARGET_AND_FEEDBACK\"').groupby('trial_index').min('time')\n",
    "mvt_starts_megtrig = dfev.query('phase == \"TARGET_AND_FEEDBACK\"')\n",
    "iti_starts_megtrig = dfev.query('phase == \"ITI\"').groupby('trial_index').min('time_megchan')\n",
    "\n",
    "tcoln = 'time_since_first_REST'\n",
    "#mvt_starts_megtrig[tcoln].reset_index(), mvt_starts[tcoln].reset_index()\n",
    "dif = mvt_starts_megtrig[tcoln].values - mvt_starts[tcoln].values\n",
    "print('dff in sec = ', np.max(np.abs( dif )) )"
   ]
  },
  {
   "cell_type": "code",
   "execution_count": null,
   "id": "d290270f",
   "metadata": {},
   "outputs": [],
   "source": [
    "tcoln"
   ]
  },
  {
   "cell_type": "code",
   "execution_count": null,
   "id": "0bb52c0c",
   "metadata": {},
   "outputs": [],
   "source": [
    "mvt_starts_megtrig_v = mvt_starts_megtrig.groupby('trial_index').min('time_megchan')\n",
    "mvt_starts_megtrig_v['time_megchan'] -= dfev.query('phase == \"REST\"')['time_megchan'].min()\n",
    "mvt_starts_megtrig_v = mvt_starts_megtrig_v['time_megchan'].values"
   ]
  },
  {
   "cell_type": "code",
   "execution_count": null,
   "id": "3985a77d",
   "metadata": {},
   "outputs": [],
   "source": [
    "mvt_starts_megtrig_v"
   ]
  },
  {
   "cell_type": "code",
   "execution_count": null,
   "id": "2b8417e6",
   "metadata": {},
   "outputs": [],
   "source": [
    "len(mvt_starts_megtrig_v),len(mvt_starts)"
   ]
  },
  {
   "cell_type": "code",
   "execution_count": null,
   "id": "662907a1",
   "metadata": {},
   "outputs": [],
   "source": [
    "plt.vlines(mvt_starts_megtrig2_REST,1,2) # this one is not supposed to be algined\n",
    "plt.vlines(mvt_starts_megtrig_v,0,1)\n",
    "plt.vlines(mvt_starts[tcoln].values,-1,0, color='orange')"
   ]
  },
  {
   "cell_type": "code",
   "execution_count": null,
   "id": "c2494613",
   "metadata": {
    "lines_to_next_cell": 2
   },
   "outputs": [],
   "source": [
    "# what is the duration of the movement phase as seen in MEG triggers?\n",
    "assert len(mvt_starts_megtrig) == len(iti_starts_megtrig)\n",
    "tdifs = iti_starts_megtrig['time_megchan'] - mvt_starts_megtrig.set_index('trial_index')['time_megchan']\n",
    "print('1/FPS = ', 1/params['FPS'], 'req time feedback = ', params['time_feedback'] )\n",
    "tdifs.describe()"
   ]
  },
  {
   "cell_type": "code",
   "execution_count": null,
   "id": "bbf0caf3",
   "metadata": {},
   "outputs": [],
   "source": [
    "##### photodiode versus trigger for the movement start"
   ]
  },
  {
   "cell_type": "code",
   "execution_count": null,
   "id": "6ef0280a",
   "metadata": {},
   "outputs": [],
   "source": [
    "diode,times = raw[chn_diode]\n",
    "dat_diode = diode"
   ]
  },
  {
   "cell_type": "code",
   "execution_count": null,
   "id": "a0b863ce",
   "metadata": {},
   "outputs": [],
   "source": [
    "# take first time we start movement from the point of view of dfev, \n",
    "# take the value of the diode right before and in the middle of the mvt\n",
    "safe_delay = 200\n",
    "# we really need to use 'time' (which is raw.times basically) for time_as_index to work\n",
    "inds = raw.time_as_index(mvt_starts_megtrig['time'] - safe_delay)\n",
    "diode_pos = diode[0, inds]\n",
    "\n",
    "safe_delay2 = params['time_feedback'] / 2\n",
    "inds2 = raw.time_as_index(mvt_starts_megtrig['time'] + safe_delay2)\n",
    "diode_neg = diode[0, inds2]\n",
    "\n",
    "med = np.mean([ np.mean(diode_neg), np.mean(diode_pos)] )\n",
    "print('med = ', med)"
   ]
  },
  {
   "cell_type": "code",
   "execution_count": null,
   "id": "58c401fa",
   "metadata": {},
   "outputs": [],
   "source": [
    "dfdi = pd.DataFrame({'diode':diode[0], 'times': times} )\n",
    "#med = dfdi['diode'].median()\n",
    "#med = - 0.18 # MAY NEED TO BE TUNED MANUALLY! or I have to use info from dfev\n",
    "dfdi['diode_neg'] = dfdi['diode'] < med\n",
    "dfdi['diode_neg_csr'] = (dfdi['diode_neg'] != dfdi['diode_neg'].shift(1)) .cumsum()"
   ]
  },
  {
   "cell_type": "code",
   "execution_count": null,
   "id": "15fd0d2d",
   "metadata": {},
   "outputs": [],
   "source": [
    "pjoin(self.subdir, os.path.splitext(os.path.split(fnf)[1])[0] "
   ]
  },
  {
   "cell_type": "code",
   "execution_count": null,
   "id": "7f04178a",
   "metadata": {},
   "outputs": [],
   "source": [
    "os.path.splitext(fnf)"
   ]
  },
  {
   "cell_type": "code",
   "execution_count": null,
   "id": "bb0e9d3f",
   "metadata": {},
   "outputs": [],
   "source": []
  },
  {
   "cell_type": "code",
   "execution_count": null,
   "id": "76ff1ea6",
   "metadata": {},
   "outputs": [],
   "source": [
    "restmintime_meg = dfev.query('phase == \"REST\"')['time_megchan'].min()\n",
    "dfdi['time_since_first_REST'] = dat_time[0] - restmintime_meg\n",
    "grp = dfdi.query('diode_neg == True').groupby('diode_neg_csr')\n",
    "dfdisz = grp.size() \n",
    "dfmvtdur_di = dfdisz / raw.info['sfreq']\n",
    "display(dfmvtdur_di.describe())"
   ]
  },
  {
   "cell_type": "code",
   "execution_count": null,
   "id": "c2753cb6",
   "metadata": {},
   "outputs": [],
   "source": [
    "lfs[1]['dfdi'].columns"
   ]
  },
  {
   "cell_type": "code",
   "execution_count": null,
   "id": "903460eb",
   "metadata": {},
   "outputs": [],
   "source": [
    "dfdi.columns"
   ]
  },
  {
   "cell_type": "code",
   "execution_count": null,
   "id": "25fda496",
   "metadata": {},
   "outputs": [],
   "source": [
    "# times when diode changed from off to on, first occurence\n",
    "ts_di = grp.min('time_since_first_REST')['time_mmvt_starts_megtrigegchan'].values\n",
    "\n",
    "# times when diode changed from ON to OFF, first occurence\n",
    "ts_di_off = grp.max('time_since_first_REST') #+ 1/raw.info['sfreq']\n",
    "ts_di_off['time_since_first_REST'] += 1/raw.info['sfreq']\n",
    "\n",
    "ts_ev = mvt_starts_megtrig['time_since_first_REST'].values\n",
    "ts_diev_diff = ts_di - ts_ev\n",
    "print('max,min,mean = ', np.max(ts_diev_diff), np.min(ts_diev_diff), np.mean(ts_diev_diff) )\n",
    "plt.plot(ts_ev,ts_diev_diff)"
   ]
  },
  {
   "cell_type": "code",
   "execution_count": null,
   "id": "9fc20019",
   "metadata": {},
   "outputs": [],
   "source": [
    "dfev['time_since_first_REST_diode'] = np.nan\n",
    "dfev.loc[mvt_starts_megtrig.index, 'time_since_first_REST_diode'] = ts_di\n",
    "dfev.loc[iti_starts_megtrig.index, 'time_since_first_REST_diode'] = ts_di_off"
   ]
  },
  {
   "cell_type": "code",
   "execution_count": null,
   "id": "c5202045",
   "metadata": {},
   "outputs": [],
   "source": [
    "plt.hist(diode[0])"
   ]
  },
  {
   "cell_type": "code",
   "execution_count": null,
   "id": "16b73947",
   "metadata": {},
   "outputs": [],
   "source": [
    "len(times)"
   ]
  },
  {
   "cell_type": "code",
   "execution_count": null,
   "id": "282ca2c2",
   "metadata": {},
   "outputs": [],
   "source": [
    "r"
   ]
  },
  {
   "cell_type": "code",
   "execution_count": null,
   "id": "f588c939",
   "metadata": {},
   "outputs": [],
   "source": [
    "np.max(times[sl])"
   ]
  },
  {
   "cell_type": "code",
   "execution_count": null,
   "id": "c9077b7d",
   "metadata": {},
   "outputs": [],
   "source": []
  },
  {
   "cell_type": "code",
   "execution_count": null,
   "id": "7d9a5d4b",
   "metadata": {},
   "outputs": [],
   "source": []
  },
  {
   "cell_type": "code",
   "execution_count": null,
   "id": "80755f81",
   "metadata": {},
   "outputs": [],
   "source": [
    "# first 25 sec are not very valid perhaps\n",
    "sl = slice(None,155000)\n",
    "plt.figure(figsize=(15,4))\n",
    "#sl = slice(*raw.time_as_index([25,35]))\n",
    "plt.plot((dat_time[0,sl] - dat_time[0,0]),diode[0,sl])\n",
    "\n",
    "plt.plot(times[sl],diode[0,sl] + 0.2)"
   ]
  },
  {
   "cell_type": "code",
   "execution_count": null,
   "id": "08d732f9",
   "metadata": {},
   "outputs": [],
   "source": [
    "tdifs.plot()"
   ]
  },
  {
   "cell_type": "code",
   "execution_count": null,
   "id": "81458266",
   "metadata": {},
   "outputs": [],
   "source": [
    "dif = mvt_starts_megtrig2_REST - mvt_starts[tcoln].values\n",
    "plt.plot(mvt_starts_megtrig[tcoln], dif)\n",
    "plt.xlabel('[sec]')\n",
    "plt.ylabel('difference in time measurement, [sec]')\n",
    "plt.title(f'Times_MEG (event sample) - Times_log')"
   ]
  },
  {
   "cell_type": "code",
   "execution_count": null,
   "id": "0a441235",
   "metadata": {},
   "outputs": [],
   "source": [
    "plt.plot(mvt_starts_megtrig[tcoln], dif)\n",
    "plt.xlabel('[sec]')\n",
    "plt.ylabel('difference in time measurement, [sec]')\n",
    "plt.title(f'Times_MEG ({chn_time}) - Times_log')"
   ]
  },
  {
   "cell_type": "markdown",
   "id": "f58738ff",
   "metadata": {
    "heading_collapsed": true
   },
   "source": [
    "#### general "
   ]
  },
  {
   "cell_type": "code",
   "execution_count": null,
   "id": "50d478fa",
   "metadata": {
    "hidden": true
   },
   "outputs": [],
   "source": [
    "raw"
   ]
  },
  {
   "cell_type": "code",
   "execution_count": null,
   "id": "3550af99",
   "metadata": {
    "hidden": true
   },
   "outputs": [],
   "source": [
    "# use ref meg to denoise\n",
    "# https://mne.tools/stable/auto_examples/preprocessing/find_ref_artifacts.html"
   ]
  },
  {
   "cell_type": "code",
   "execution_count": null,
   "id": "48f0d224",
   "metadata": {
    "hidden": true
   },
   "outputs": [],
   "source": [
    "chns_ref_meg0 = np.array(raw.ch_names)[mne.pick_types(raw.info, meg=False, ref_meg=True)]\n",
    "set(chns_ref_meg) == set(chns_ref_meg0)\n",
    "\n",
    "chn2cht\n",
    "\n",
    "raw_nontriv = raw.copy()\n",
    "raw_nontriv.pick_channels(chns_nontriv)\n",
    "\n",
    "display( list(zip(chns_nontriv, [chn2cht[chn] for chn in chns_nontriv] ) ))"
   ]
  },
  {
   "cell_type": "code",
   "execution_count": null,
   "id": "c41c1f14",
   "metadata": {
    "hidden": true,
    "lines_to_next_cell": 2
   },
   "outputs": [],
   "source": [
    "%matplotlib inline\n",
    "mpl.rcParams['text.color'] = COLOR\n",
    "mpl.rcParams['axes.labelcolor'] = COLOR\n",
    "mpl.rcParams['xtick.color'] = COLOR\n",
    "mpl.rcParams['ytick.color'] = COLOR\n",
    "mpl.rcParams[\"figure.facecolor\"] = COLOR_INV\n",
    "mpl.rcParams[\"axes.facecolor\"] = COLOR_INV"
   ]
  },
  {
   "cell_type": "code",
   "execution_count": null,
   "id": "2f03285b",
   "metadata": {
    "hidden": true
   },
   "outputs": [],
   "source": [
    "# ['SCLK01-177':'misc'\n",
    "#  'EEG063-2800':''\n",
    "#  'EEG064-2800',\n",
    "#  'UADC001-2800':'diode', \n",
    "#  'UADC010-2800':'EOG',\n",
    "#  'UADC011-2800':'eyelink',\n",
    "#  'UADC012-2800':'eyelink?',\n",
    "#  'UPPT001':'trigger',\n",
    "#  'UPPT002':'?']\n",
    "\n",
    "# UPPT002 mostly zero, only 682 equals to 2, never to 1. \n",
    "#      Only changes to 2 in the beginning for a short time (682 samples =0.568333 s)\n",
    "# EEG063-2800  constant \n",
    "# EEG064-2800  not exactly constant  but very small. Changes on the order of minutes\n",
    "# very similar to times but with jumps around rec breaks, also it starts not from 0. \n",
    "#     Maybe time in seconds since machine start in the morning of rec day"
   ]
  },
  {
   "cell_type": "code",
   "execution_count": null,
   "id": "3ebf87db",
   "metadata": {
    "hidden": true
   },
   "outputs": [],
   "source": [
    "# ecg, eeg, emg, eog, exci, ias, misc, resp, seeg, dbs, stim, syst,\n",
    "#    ecog, hbo, hbr, fnirs_cw_amplitude, fnirs_fd_ac_amplitude,\n",
    "#    fnirs_fd_phase, fnirs_od, temperature, gsr"
   ]
  },
  {
   "cell_type": "code",
   "execution_count": null,
   "id": "7ebec37a",
   "metadata": {
    "hidden": true
   },
   "outputs": [],
   "source": [
    "for chn in chns_nontriv:\n",
    "    d,times = raw_nontriv[chn]\n",
    "\n",
    "    print(chn)\n",
    "    print( 'minmax std = ',np.min(d), np.max(d), np.std(d) )\n",
    "    inds = np.where( np.abs(d[0]) >0)[0]\n",
    "    if len(inds):\n",
    "        print( 'first, len =', d[0,inds[0]], len(inds) )"
   ]
  },
  {
   "cell_type": "code",
   "execution_count": null,
   "id": "cd31ef26",
   "metadata": {
    "hidden": true,
    "run_control": {
     "marked": false
    }
   },
   "outputs": [],
   "source": [
    "%matplotlib qt\n",
    "chn = 'UPPT001'\n",
    "plt.figure(20)\n",
    "inds = raw_nontriv.time_as_index([0,4])\n",
    "\n",
    "d,times = raw_nontriv[chn, inds[0]:inds[1]]\n",
    "plt.plot(times,d[0])\n",
    "#plt.xlim(0,3)"
   ]
  },
  {
   "cell_type": "code",
   "execution_count": null,
   "id": "97a80086",
   "metadata": {
    "hidden": true
   },
   "outputs": [],
   "source": []
  },
  {
   "cell_type": "code",
   "execution_count": null,
   "id": "3ee96669",
   "metadata": {
    "hidden": true
   },
   "outputs": [],
   "source": [
    "with pd.option_context('display.max_rows', None):\n",
    "    display(dfev[:50])"
   ]
  },
  {
   "cell_type": "code",
   "execution_count": null,
   "id": "88874e2e",
   "metadata": {
    "hidden": true
   },
   "outputs": [],
   "source": [
    "import gc; gc.collect()"
   ]
  },
  {
   "cell_type": "code",
   "execution_count": null,
   "id": "55c15273",
   "metadata": {
    "hidden": true
   },
   "outputs": [],
   "source": [
    "raw.plot?"
   ]
  },
  {
   "cell_type": "code",
   "execution_count": null,
   "id": "4a9c24f7",
   "metadata": {
    "hidden": true
   },
   "outputs": [],
   "source": [
    "raw"
   ]
  },
  {
   "cell_type": "code",
   "execution_count": null,
   "id": "f1907055",
   "metadata": {
    "hidden": true,
    "run_control": {
     "marked": true
    }
   },
   "outputs": [],
   "source": [
    "#raw2 = raw.pick_types('mag')\n",
    "#raw2.ch_names\n",
    "#set(raw.ch_names) - set(raw2.ch_names)\n",
    "#set([chn[:5] for chn in raw.ch_names])"
   ]
  },
  {
   "cell_type": "code",
   "execution_count": null,
   "id": "f476ce70",
   "metadata": {
    "hidden": true
   },
   "outputs": [],
   "source": [
    "%matplotlib qt\n",
    "raw.plot(theme='dark', clipping=3, duration=30, n_channels=50,\n",
    "        events=events);"
   ]
  },
  {
   "cell_type": "code",
   "execution_count": null,
   "id": "bab3cf21",
   "metadata": {
    "hidden": true
   },
   "outputs": [],
   "source": [
    "anns = mne.preprocessing.annotate_amplitude(raw, picks='meg')\n",
    "anns"
   ]
  },
  {
   "cell_type": "code",
   "execution_count": null,
   "id": "c5e4282d",
   "metadata": {
    "hidden": true
   },
   "outputs": [],
   "source": [
    "from autoreject import AutoReject\n",
    "ar = AutoReject()\n",
    "epochs_clean = ar.fit_transform(epochs)  "
   ]
  },
  {
   "cell_type": "code",
   "execution_count": null,
   "id": "513a9b93",
   "metadata": {
    "hidden": true
   },
   "outputs": [],
   "source": [
    "from autoreject import get_rejection_threshold\n",
    "reject = get_rejection_threshold(epochs)  "
   ]
  },
  {
   "cell_type": "code",
   "execution_count": null,
   "id": "a7c83231",
   "metadata": {
    "hidden": true
   },
   "outputs": [],
   "source": [
    "from autoreject import Ransac\n",
    "rsc = Ransac()\n",
    "epochs_clean = rsc.fit_transform(epochs)  "
   ]
  },
  {
   "cell_type": "markdown",
   "id": "dfb3819a",
   "metadata": {
    "heading_collapsed": true
   },
   "source": [
    "# Raw artif"
   ]
  },
  {
   "cell_type": "code",
   "execution_count": null,
   "id": "cd813096",
   "metadata": {
    "hidden": true
   },
   "outputs": [],
   "source": [
    "# Can I allow myself to reject entire epochs if I care about continuous history?\n",
    "# if not then I have to repair raw perhaps. Or impute data I don't like"
   ]
  },
  {
   "cell_type": "code",
   "execution_count": null,
   "id": "14649088",
   "metadata": {
    "hidden": true
   },
   "outputs": [],
   "source": [
    "raw.load_data()"
   ]
  },
  {
   "cell_type": "code",
   "execution_count": null,
   "id": "45d0d347",
   "metadata": {
    "hidden": true,
    "run_control": {
     "marked": false
    }
   },
   "outputs": [],
   "source": [
    "n_jobs = 40\n",
    "# The threshold is data dependent, check the optimal threshold by plotting\n",
    "# ``scores_muscle``.\n",
    "#threshold_muscle = 5  # z-score\n",
    "#<Annotations | 119 segments: BAD_muscle (119)>\n",
    "#Tot dur =  114.12666666666709 of total  2170.679166666667\n",
    "\n",
    "threshold_muscle = 6  # z-score\n",
    "# <Annotations | 106 segments: BAD_muscle (106)>\n",
    "# Tot dur =  88.23583333333399 of total  2170.679166666667\n",
    "\n",
    "threshold_muscle = 7  # z-score\n",
    "# Tot dur =  1.4683333333333621 of total  2170.679166666667\n",
    "\n",
    "from mne.preprocessing import annotate_muscle_zscore\n",
    "# Choose one channel type, if there are axial gradiometers and magnetometers,\n",
    "# select magnetometers as they are more sensitive to muscle activity.\n",
    "annot_muscle, scores_muscle = annotate_muscle_zscore(\n",
    "    raw, ch_type=\"mag\", threshold=threshold_muscle, min_length_good=0.2,\n",
    "    filter_freq=[110, 140], n_jobs=n_jobs)\n",
    "\n",
    "annot_muscle.save( pjoin(subj2path[subj], 'preproc', f'muscle_thr{threshold_muscle}-ann.txt' ) )"
   ]
  },
  {
   "cell_type": "markdown",
   "id": "a9db99e9",
   "metadata": {
    "heading_collapsed": true
   },
   "source": [
    "# Sudden break observe"
   ]
  },
  {
   "cell_type": "code",
   "execution_count": null,
   "id": "9c30cc83",
   "metadata": {
    "hidden": true,
    "lines_to_next_cell": 2
   },
   "outputs": [],
   "source": [
    "dfev =events2df(events, raw.info, dat_time, trigger2phase, CONTEXT_TRIGGER_DICT, restmintime)"
   ]
  },
  {
   "cell_type": "code",
   "execution_count": null,
   "id": "af7929ea",
   "metadata": {
    "hidden": true
   },
   "outputs": [],
   "source": [
    "dfev"
   ]
  },
  {
   "cell_type": "code",
   "execution_count": null,
   "id": "1d3e8904",
   "metadata": {
    "hidden": true
   },
   "outputs": [],
   "source": []
  },
  {
   "cell_type": "code",
   "execution_count": null,
   "id": "83faafe4",
   "metadata": {
    "hidden": true
   },
   "outputs": [],
   "source": [
    "tuple( raw.time_as_index([620,660]) )"
   ]
  },
  {
   "cell_type": "code",
   "execution_count": null,
   "id": "08413903",
   "metadata": {
    "hidden": true
   },
   "outputs": [],
   "source": [
    "np.arange(*ts)"
   ]
  },
  {
   "cell_type": "code",
   "execution_count": null,
   "id": "453d6a52",
   "metadata": {
    "hidden": true,
    "run_control": {
     "marked": false
    }
   },
   "outputs": [],
   "source": [
    "ts = raw.time_as_index([620,660] )\n",
    "r = raw.get_data('MLC12-2805',tmin=620,tmax=660, return_times=True)[0]"
   ]
  },
  {
   "cell_type": "code",
   "execution_count": null,
   "id": "e4a3ff1d",
   "metadata": {
    "hidden": true
   },
   "outputs": [],
   "source": [
    "len(raw.times)"
   ]
  },
  {
   "cell_type": "code",
   "execution_count": null,
   "id": "2c94486a",
   "metadata": {
    "hidden": true
   },
   "outputs": [],
   "source": [
    "raw.times[-1]"
   ]
  },
  {
   "cell_type": "code",
   "execution_count": null,
   "id": "1ff2316e",
   "metadata": {
    "hidden": true
   },
   "outputs": [],
   "source": [
    "dfev.columns"
   ]
  },
  {
   "cell_type": "code",
   "execution_count": null,
   "id": "a8294ee3",
   "metadata": {
    "hidden": true
   },
   "outputs": [],
   "source": []
  },
  {
   "cell_type": "code",
   "execution_count": null,
   "id": "f41cbeeb",
   "metadata": {
    "hidden": true
   },
   "outputs": [],
   "source": [
    "TREND"
   ]
  },
  {
   "cell_type": "code",
   "execution_count": null,
   "id": "d0d962c3",
   "metadata": {
    "hidden": true
   },
   "outputs": [],
   "source": [
    "times"
   ]
  },
  {
   "cell_type": "code",
   "execution_count": null,
   "id": "dca33f73",
   "metadata": {
    "hidden": true
   },
   "outputs": [],
   "source": [
    "tt  = 0.66\n",
    "ts = raw.time_as_index([645.6 + tt ,647 - 0.065 -tt] )\n",
    "dat,times = raw['MLC12-2805',slice(*ts)]\n",
    "plt.plot(times,dat[0])\n",
    "\n",
    "#TREND = dfev.loc[dfev['phase'] == 'TRAINING_END','time_megchan'].values\n",
    "\n",
    "plt.show()"
   ]
  },
  {
   "cell_type": "code",
   "execution_count": null,
   "id": "f7bf64bb",
   "metadata": {
    "hidden": true
   },
   "outputs": [],
   "source": [
    "ts = raw.time_as_index([0,4200] )\n",
    "dat,times = raw[rawmeg.ch_names[:3] + ['UPPT001'],slice(*ts)]\n",
    "\n",
    "TREND = dfev.loc[dfev['phase'] == 'TRAINING_END','time'].values\n",
    "for i in range(len(dat)):\n",
    "    plt.plot(times,dat[i])\n",
    "    plt.vlines(TREND,np.min(dat[i])-2e-10,np.max(dat[i])+2e-10, color='g',ls=':')\n",
    "    plt.show()"
   ]
  },
  {
   "cell_type": "code",
   "execution_count": null,
   "id": "eef8b8a9",
   "metadata": {
    "hidden": true
   },
   "outputs": [],
   "source": [
    "#ts = raw.time_as_index([750,1300] )\n",
    "ts = raw.time_as_index([300,1200] )\n",
    "dat,times = raw[rawmeg.ch_names[:3] + ['UPPT001'],slice(*ts)]\n",
    "for i in range(len(dat)):\n",
    "    plt.plot(times,dat[i])\n",
    "    plt.show()"
   ]
  },
  {
   "cell_type": "code",
   "execution_count": null,
   "id": "7902593f",
   "metadata": {
    "hidden": true
   },
   "outputs": [],
   "source": [
    "#ts = raw.time_as_index([750,1300] )\n",
    "ts = raw.time_as_index([1000,1200] )\n",
    "dat,times = raw[['MLC12-2805','MLC14-2805', 'MRO24-2805'],slice(*ts)]\n",
    "for i in range(len(dat)):\n",
    "    plt.plot(times,dat[i])\n",
    "    plt.show()"
   ]
  },
  {
   "cell_type": "code",
   "execution_count": null,
   "id": "01275990",
   "metadata": {
    "hidden": true
   },
   "outputs": [],
   "source": [
    "raw.plot?"
   ]
  },
  {
   "cell_type": "code",
   "execution_count": null,
   "id": "5baa9db6",
   "metadata": {
    "hidden": true
   },
   "outputs": [],
   "source": [
    "rawmeg = raw.copy()\n",
    "rawmeg.pick_types(meg=True)"
   ]
  },
  {
   "cell_type": "code",
   "execution_count": null,
   "id": "959c93d0",
   "metadata": {
    "hidden": true
   },
   "outputs": [],
   "source": [
    "#rawmeg.plot(butterfly=1,duration=50,events=events);\n",
    "#group_by='position', \n",
    "rawmeg.plot(start=950, duration=300, butterfly=1, events=events, \n",
    "            scalings= 'auto');"
   ]
  },
  {
   "cell_type": "code",
   "execution_count": null,
   "id": "50b2d3d3",
   "metadata": {
    "hidden": true
   },
   "outputs": [],
   "source": [
    "%matplotlib inline\n",
    "#rawmeg.plot(butterfly=1,duration=50,events=events);\n",
    "#group_by='position', events=events, \n",
    "rawmeg.plot(start=950, duration=300, butterfly=1, \n",
    "            scalings= 'auto');"
   ]
  },
  {
   "cell_type": "code",
   "execution_count": null,
   "id": "1fea8f0a",
   "metadata": {
    "hidden": true
   },
   "outputs": [],
   "source": [
    "rawmeg.plot?"
   ]
  },
  {
   "cell_type": "code",
   "execution_count": null,
   "id": "aeaeb287",
   "metadata": {
    "hidden": true
   },
   "outputs": [],
   "source": [
    "4+3"
   ]
  },
  {
   "cell_type": "code",
   "execution_count": null,
   "id": "b190b130",
   "metadata": {
    "hidden": true
   },
   "outputs": [],
   "source": [
    "# 620-660 emptiness"
   ]
  },
  {
   "cell_type": "code",
   "execution_count": null,
   "id": "0492d9a8",
   "metadata": {
    "hidden": true,
    "run_control": {
     "marked": true
    }
   },
   "outputs": [],
   "source": [
    "print(annot_muscle)\n",
    "print('Tot dur = ',np.sum(annot_muscle.duration), 'of total ',raw.times[-1] )"
   ]
  },
  {
   "cell_type": "code",
   "execution_count": null,
   "id": "ce50b114",
   "metadata": {
    "hidden": true
   },
   "outputs": [],
   "source": [
    "gc.collect()"
   ]
  },
  {
   "cell_type": "code",
   "execution_count": null,
   "id": "4ad70c61",
   "metadata": {
    "hidden": true
   },
   "outputs": [],
   "source": [
    "raw.set_annotations(annot_muscle);"
   ]
  },
  {
   "cell_type": "code",
   "execution_count": null,
   "id": "d278903f",
   "metadata": {
    "hidden": true
   },
   "outputs": [],
   "source": [
    "raw.plot(start = 950, duration=300, group_by='type', scalings= 'auto',\n",
    "        butterfly=1, events=events);"
   ]
  },
  {
   "cell_type": "code",
   "execution_count": null,
   "id": "6f41a440",
   "metadata": {
    "hidden": true
   },
   "outputs": [],
   "source": [
    "phase2trigger"
   ]
  },
  {
   "cell_type": "markdown",
   "id": "75ff0a77",
   "metadata": {
    "heading_collapsed": true
   },
   "source": [
    "# Epochs"
   ]
  },
  {
   "cell_type": "code",
   "execution_count": null,
   "id": "22233454",
   "metadata": {
    "hidden": true
   },
   "outputs": [],
   "source": [
    "y = np.roll( np.arange(10), 1, axis=0)\n",
    "#y = #np.roll(x,1,axis=1)\n",
    "y[0] = -100000\n",
    "y"
   ]
  },
  {
   "cell_type": "code",
   "execution_count": null,
   "id": "1def6513",
   "metadata": {
    "hidden": true
   },
   "outputs": [],
   "source": [
    "#CONTEXT_TRIGGER_DICT"
   ]
  },
  {
   "cell_type": "code",
   "execution_count": null,
   "id": "bc5d311a",
   "metadata": {
    "hidden": true
   },
   "outputs": [],
   "source": [
    "#mne.Epochs?"
   ]
  },
  {
   "cell_type": "code",
   "execution_count": null,
   "id": "14fd89e9",
   "metadata": {
    "hidden": true
   },
   "outputs": [],
   "source": [
    "# multiclass CSP classif\n",
    "# https://mne.discourse.group/t/csp-for-multi-classification/1749/3"
   ]
  },
  {
   "cell_type": "code",
   "execution_count": null,
   "id": "dba4c944",
   "metadata": {
    "hidden": true
   },
   "outputs": [],
   "source": [
    "#ITI_duration, motor_prep_duration, time_feedback, time_at_home"
   ]
  },
  {
   "cell_type": "code",
   "execution_count": null,
   "id": "132c65c5",
   "metadata": {
    "hidden": true
   },
   "outputs": [],
   "source": [
    "ITI_duration = float(params[\"ITI_duration\"])\n",
    "motor_prep_duration = float(params[\"motor_prep_duration\"])\n",
    "time_feedback = float(params[\"time_feedback\"])\n",
    "time_at_home = float(params[\"time_at_home\"])\n",
    "perf_feedback_duration = float(params[\"perf_feedback_duration\"])\n",
    "perf_notif_start_delay = float(params[\"perf_notif_start_delay\"])\n",
    "\n",
    "print(\"ITI_duration:\", ITI_duration)\n",
    "print(\"motor_prep_duration:\", motor_prep_duration)\n",
    "print(\"time_feedback:\", time_feedback)\n",
    "print(\"time_at_home:\", time_at_home)\n",
    "print(\"perf_feedback_duration:\", perf_feedback_duration)\n",
    "print(\"perf_notif_start_delay:\", perf_notif_start_delay)\n",
    "# REST, GOCUE, MVT, ITI"
   ]
  },
  {
   "cell_type": "code",
   "execution_count": null,
   "id": "8e6a0e5c",
   "metadata": {
    "hidden": true
   },
   "outputs": [],
   "source": [
    "params['perf_notif_start_delay']\n",
    "params['perf_feedback_duration']"
   ]
  },
  {
   "cell_type": "code",
   "execution_count": null,
   "id": "4b3a5d28",
   "metadata": {
    "hidden": true
   },
   "outputs": [],
   "source": [
    "#-2,5"
   ]
  },
  {
   "cell_type": "markdown",
   "id": "1ee8612b",
   "metadata": {},
   "source": [
    "# Decoding"
   ]
  },
  {
   "cell_type": "code",
   "execution_count": null,
   "id": "ef074044",
   "metadata": {},
   "outputs": [],
   "source": [
    "from sklearn.pipeline import make_pipeline\n",
    "from sklearn.linear_model import RidgeCV\n",
    "from sklearn.model_selection import KFold\n",
    "from sklearn.metrics import make_scorer\n",
    "#from mne.decoding.csp import CSP\n",
    "#csp = CSP(n_components=n_classes, reg=None, log=True, norm_trace=False)\n",
    "#### for CSP\n",
    "#log_reg = LogisticRegression()\n",
    "#clf = Pipeline([('CSP', csp), ('Reg', log_reg)])"
   ]
  },
  {
   "cell_type": "markdown",
   "id": "53a118e3",
   "metadata": {},
   "source": [
    "### prep Y"
   ]
  },
  {
   "cell_type": "code",
   "execution_count": null,
   "id": "e73e34ad",
   "metadata": {
    "code_folding": [],
    "run_control": {
     "marked": false
    }
   },
   "outputs": [],
   "source": []
  },
  {
   "cell_type": "code",
   "execution_count": null,
   "id": "e768370e",
   "metadata": {},
   "outputs": [],
   "source": [
    "coln_error = 'error_area2_signed_nn_scaled_ed'\n",
    "dfcc[f'prev_{coln_error}'] =  dfcc[coln_error].shift()\n",
    "coln_error = 'error_lh_ang'\n",
    "dfcc[f'prev_{coln_error}'] =  dfcc[coln_error].shift()"
   ]
  },
  {
   "cell_type": "code",
   "execution_count": null,
   "id": "337c700c",
   "metadata": {},
   "outputs": [],
   "source": [
    "from behav_proc import compareTriggers\n",
    "compareTriggers(df,dfev,dftriglog)"
   ]
  },
  {
   "cell_type": "code",
   "execution_count": null,
   "id": "76d01e2d",
   "metadata": {},
   "outputs": [],
   "source": [
    "from meg_proc import checkSeqConsist\n",
    "r,badis_dfev, badis_df, good_inds_dfev, good_inds_df = checkSeqConsist(df,dfev)"
   ]
  },
  {
   "cell_type": "markdown",
   "id": "7df51c05",
   "metadata": {
    "heading_collapsed": true
   },
   "source": [
    "#### debug"
   ]
  },
  {
   "cell_type": "code",
   "execution_count": null,
   "id": "3c89609a",
   "metadata": {
    "hidden": true
   },
   "outputs": [],
   "source": [
    "dfev.query('phase.isna()')['trigger'].unique()"
   ]
  },
  {
   "cell_type": "code",
   "execution_count": null,
   "id": "dd72e3e9",
   "metadata": {
    "hidden": true,
    "run_control": {
     "marked": false
    }
   },
   "outputs": [],
   "source": [
    "\n",
    "\n",
    " #return r, bad_inds_dfev, bad_inds_df, good_inds_dfev, good_inds_df                \n",
    "assert (dfev.loc[badis_dfev.values,'trial_index'].values ==  df.loc[badis_df.values,'trial_index'].values).all()\n",
    "\n",
    "display(dfev.loc[badis_dfev.values].groupby('phase').size())\n",
    "display(dfev.loc[badis_dfev.values[:10]])\n",
    "#badis\n",
    "\n",
    "# we want correspondance of trial_indices for bad as well"
   ]
  },
  {
   "cell_type": "code",
   "execution_count": null,
   "id": "acfc6c54",
   "metadata": {
    "hidden": true
   },
   "outputs": [],
   "source": [
    "display(dfev.loc[good_inds_dfev.values[:10],cols])"
   ]
  },
  {
   "cell_type": "code",
   "execution_count": null,
   "id": "06bc999f",
   "metadata": {
    "hidden": true
   },
   "outputs": [],
   "source": [
    "dfev_mxph = dfev_mx_good.query('phase == @ph')"
   ]
  },
  {
   "cell_type": "code",
   "execution_count": null,
   "id": "0457176f",
   "metadata": {
    "hidden": true
   },
   "outputs": [],
   "source": [
    "#dfev_mxph['phase']"
   ]
  },
  {
   "cell_type": "code",
   "execution_count": null,
   "id": "630af8f6",
   "metadata": {
    "hidden": true
   },
   "outputs": [],
   "source": [
    "from behav_proc import alignDfs\n",
    "#cols = ['trial_index','vis_feedback_type','tgti_to_show','trial_type']\n",
    "#dfmergealign = alignDfs(dfy,cols, dfcc,cols, '_cc', verbose=1)\n",
    "cols = ['trial_index','vis_feedback_type','tgti_to_show','phase']\n",
    "dfmergealign = alignDfs(dfy,cols, dfev_mxph,cols, '_ev', verbose=1)\n",
    "dfmergealign.iloc[:14]"
   ]
  },
  {
   "cell_type": "code",
   "execution_count": null,
   "id": "85eb5189",
   "metadata": {
    "hidden": true
   },
   "outputs": [],
   "source": [
    "ph"
   ]
  },
  {
   "cell_type": "code",
   "execution_count": null,
   "id": "91f9d343",
   "metadata": {
    "hidden": true
   },
   "outputs": [],
   "source": [
    "dfmergealign = alignDfs(dfcc,cols, dfev_mxph,cols, '_ev', verbose=1)\n",
    "dfmergealign.iloc[:14]"
   ]
  },
  {
   "cell_type": "code",
   "execution_count": null,
   "id": "21c2e7bd",
   "metadata": {
    "hidden": true
   },
   "outputs": [],
   "source": [
    "dfy[cols + ['trial_type', 'trial_type']]"
   ]
  },
  {
   "cell_type": "code",
   "execution_count": null,
   "id": "83f0982e",
   "metadata": {
    "hidden": true
   },
   "outputs": [],
   "source": [
    "dfev_mxph[cols]"
   ]
  },
  {
   "cell_type": "code",
   "execution_count": null,
   "id": "8025042f",
   "metadata": {
    "hidden": true
   },
   "outputs": [],
   "source": [
    "#df.compare(dfy[cols].re, dfev_mxph[cols])\n",
    "# df.align"
   ]
  },
  {
   "cell_type": "code",
   "execution_count": null,
   "id": "7e194a8f",
   "metadata": {
    "hidden": true
   },
   "outputs": [],
   "source": [
    "dfccr = alignDfs(dfcc, cols, dfcc2, cols)\n",
    "dfccr.iloc[:10]"
   ]
  },
  {
   "cell_type": "code",
   "execution_count": null,
   "id": "6f523c0e",
   "metadata": {
    "hidden": true
   },
   "outputs": [],
   "source": [
    "#def aggRows(df):\n",
    "df"
   ]
  },
  {
   "cell_type": "code",
   "execution_count": null,
   "id": "66ca2881",
   "metadata": {
    "hidden": true
   },
   "outputs": [],
   "source": [
    "grp_perti.agg?"
   ]
  },
  {
   "cell_type": "code",
   "execution_count": null,
   "id": "2a3c69f4",
   "metadata": {
    "hidden": true
   },
   "outputs": [],
   "source": [
    "df[['trial_index','phase']].iloc[:50]"
   ]
  },
  {
   "cell_type": "code",
   "execution_count": null,
   "id": "a980ed1c",
   "metadata": {
    "hidden": true
   },
   "outputs": [],
   "source": [
    "dfc.columns"
   ]
  },
  {
   "cell_type": "code",
   "execution_count": null,
   "id": "01b49ff7",
   "metadata": {
    "hidden": true
   },
   "outputs": [],
   "source": [
    "#grp['time_since_first_REST'].min()"
   ]
  },
  {
   "cell_type": "code",
   "execution_count": null,
   "id": "38081b4f",
   "metadata": {
    "hidden": true
   },
   "outputs": [],
   "source": [
    "grp.idxmin?"
   ]
  },
  {
   "cell_type": "code",
   "execution_count": null,
   "id": "52b29987",
   "metadata": {
    "hidden": true
   },
   "outputs": [],
   "source": [
    "len(dfcc2)"
   ]
  },
  {
   "cell_type": "code",
   "execution_count": null,
   "id": "5c97fcf7",
   "metadata": {
    "hidden": true
   },
   "outputs": [],
   "source": [
    "len(dfcc)"
   ]
  },
  {
   "cell_type": "code",
   "execution_count": null,
   "id": "9933a408",
   "metadata": {
    "hidden": true
   },
   "outputs": [],
   "source": [
    "grp = dfc.groupby(['trial_index'])    \n",
    "idx = grp['time_since_first_REST'].idxmin()\n",
    "dfcc2 = dfc.loc[idx]\n",
    "#idx = grp['time'].transform(max) == dfc['time'] #.size()      \n",
    "#grp.                                                                                                                                              \n",
    "#dfcc = dfc.loc[idx]                                                                                                                                \n",
    "# it DOES NOT include pauses                                                                                                                       \n",
    "#dfcc = dfcc.reset_ind"
   ]
  },
  {
   "cell_type": "code",
   "execution_count": null,
   "id": "29ecd3e0",
   "metadata": {
    "hidden": true
   },
   "outputs": [],
   "source": [
    "#dfev.loc[good_inds_dfev]"
   ]
  },
  {
   "cell_type": "code",
   "execution_count": null,
   "id": "49e34848",
   "metadata": {
    "hidden": true
   },
   "outputs": [],
   "source": [
    "#(dfev['phase'] == 'TRAINING_START').size"
   ]
  },
  {
   "cell_type": "code",
   "execution_count": null,
   "id": "75a15e64",
   "metadata": {
    "hidden": true
   },
   "outputs": [],
   "source": [
    "# check inconsistencies if found\n",
    "cols = ['trial_index', 'trial_index_log','phase',\n",
    "            'phase_log','tgti_to_show','tgti_to_show_log',\n",
    "            'vis_feedback_type','vis_feedback_type_log',\n",
    "           'trial_type','trial_type_log',\n",
    "           'block_ind_log']\n",
    "i0 = diftgt[0]\n",
    "i = i0 -4; print(i0)\n",
    "display(df_corresp_test[cols].loc[i:i+7])\n",
    "display(dftmpmerge[cols].loc[i:i+7])"
   ]
  },
  {
   "cell_type": "markdown",
   "id": "af804d8d",
   "metadata": {},
   "source": [
    "#### end debug"
   ]
  },
  {
   "cell_type": "code",
   "execution_count": null,
   "id": "73524cf1",
   "metadata": {},
   "outputs": [],
   "source": [
    "len(dfev), len(good_inds_dfev)"
   ]
  },
  {
   "cell_type": "code",
   "execution_count": null,
   "id": "c171f9f8",
   "metadata": {},
   "outputs": [],
   "source": [
    "from behav_proc import aggRows\n",
    "grp = dfev.groupby(['trial_index', 'phase'])\n",
    "dfev_mx = aggRows(dfev, 'time_since_first_REST', 'max', grp)\n",
    "\n",
    "dfev_good = dfev.loc[good_inds_dfev]\n",
    "grp_good = dfev_good.groupby(['trial_index', 'phase'])\n",
    "dfev_mx_good = aggRows(dfev_good, 'time_since_first_REST', 'max', grp_good)\n",
    "\n",
    "print(len(dfev_mx), len(dfev_mx_good))"
   ]
  },
  {
   "cell_type": "code",
   "execution_count": null,
   "id": "b4e1ae17",
   "metadata": {
    "code_folding": [],
    "run_control": {
     "marked": false
    }
   },
   "outputs": [],
   "source": [
    "phase2best_neg_csr = {'REST':-3, 'GO_CUE_WAIT_AND_SHOW':-2, 'TARGET_AND_FEEDBACK':-1, 'ITI':0 }\n",
    "phase2dat = {}\n",
    "for ph in phase2best_neg_csr:\n",
    "    phase2dat[ph] = {}\n",
    "#for ph in phase2epochs_gen_info:\n",
    "    print(' ---------- ',ph)\n",
    "    csr_neg = phase2best_neg_csr[ph]\n",
    "    #dfy = df.query('phase == @ph and subphase_relation == \"first\" and csr_neg_within_trial == @csr_neg')\n",
    "    dfy = df.loc[good_inds_df].query(\n",
    "        'phase == @ph and subphase_relation == \"last\" and csr_neg_within_trial == @csr_neg')\n",
    "    \n",
    "\n",
    "    #if ph in ['REST',]\n",
    "    #dfev_mxph = dfev_mx.query('phase == @ph')\n",
    "    dfev_mxph = dfev_mx_good.query('phase == @ph')\n",
    "    \n",
    "    print(len(dfev_mxph), len(dfy), len(dfcc) )\n",
    "    \n",
    "    vs1 = dfev_mxph[['vis_feedback_type','tgti_to_show']].values\n",
    "    tis = dfev_mxph['trial_index']\n",
    "    dfcc_ = dfcc.query('trial_index in @tis')\n",
    "    \n",
    "    print(len(dfev_mxph), len(dfy), len(dfcc_) )\n",
    "    \n",
    "    #vs1 = dfev.query('phase == @ph')[['vis_feedback_type','tgti_to_show']].values\n",
    "    vs2 = dfy[['vis_feedback_type','tgti_to_show']].values\n",
    "    # remember that we defined dfcc from dfc which is only for one phase\n",
    "    vs3 = dfcc_[['vis_feedback_type','tgti_to_show']].values\n",
    "    print('   len(dfev_mxph) = ',len(vs1))\n",
    "    try:        \n",
    "        assert len(vs1) == len(vs2), f'diff lengths ({len(vs1),len(vs2)})'        \n",
    "        assert np.all( vs1[:,0] == vs2[:,0] ) and np.all( vs1[:,1] == vs2[:,1] )\n",
    "        assert np.all( vs1[:,0] == vs3[:,0] ) and np.all( vs1[:,1] == vs3[:,1] )\n",
    "    except AssertionError as e:\n",
    "        print('  err', e)\n",
    "        print(np.where( vs1[:,0] != vs2[:,0] )[0], np.where( vs1[:,1] != vs2[:,1] )[0])\n",
    "        raise e\n",
    "        \n",
    "    phase2dat[ph]['dfev_mxph'] = dfev_mxph  # has indices consistent with original event thus with epochs\n",
    "    if ph not in phase2epochs_gen_info:\n",
    "        continue\n",
    "    varnames_cur = phase2epochs_gen_info[ph]['varnames']\n",
    "    varname2y = {}\n",
    "    for vn in varnames_cur:\n",
    "        y = dfcc_[vn].to_numpy()\n",
    "        varname2y[vn] = y\n",
    "        Y = y[:,None]\n",
    "    phase2dat[ph]['varname2y'] = varname2y"
   ]
  },
  {
   "cell_type": "code",
   "execution_count": null,
   "id": "b3005ee0",
   "metadata": {},
   "outputs": [],
   "source": [
    "import gc; gc.collect()"
   ]
  },
  {
   "cell_type": "markdown",
   "id": "6baa5b2f",
   "metadata": {
    "heading_collapsed": true
   },
   "source": [
    "### debug getting y"
   ]
  },
  {
   "cell_type": "code",
   "execution_count": null,
   "id": "8f0bbfa2",
   "metadata": {
    "hidden": true
   },
   "outputs": [],
   "source": [
    "grp_perti = df.groupby('trial_index')\n",
    "df_trst = grp_perti.agg(agg_d)"
   ]
  },
  {
   "cell_type": "code",
   "execution_count": null,
   "id": "d2ef3938",
   "metadata": {
    "hidden": true
   },
   "outputs": [],
   "source": [
    "# where we have strange numbers of phases?\n",
    "dfsz = df.groupby(['trial_index','phase']).size().reset_index()\n",
    "dfsz2 = dfsz.groupby('trial_index').size()\n",
    "inds_sm = dfsz2[dfsz2 < 4].index.to_numpy()\n",
    "print( inds_sm )\n",
    "print( dfsz2[dfsz2 > 4].index.to_numpy() )\n",
    "\n",
    "# TRAINING_END (one phase), Pause (two phases), break (two phases) is separate trial\n",
    "display (dfsz.query( 'trial_index in @inds_sm' ))"
   ]
  },
  {
   "cell_type": "code",
   "execution_count": null,
   "id": "82ca6fcb",
   "metadata": {
    "hidden": true
   },
   "outputs": [],
   "source": [
    "# i =1505\n",
    "# dftmp.loc[i-3:i+3, ['phase','time'] ]\n",
    "\n",
    "# with pd.option_context('display.max_rows', 500):\n",
    "#     display(dftmp.loc[::10, ['phase','time']])"
   ]
  },
  {
   "cell_type": "code",
   "execution_count": null,
   "id": "4307faac",
   "metadata": {
    "hidden": true
   },
   "outputs": [],
   "source": [
    "vslog = phase2df['REST']['time_since_first_REST'].values\n",
    "vsev = phase2dfev['REST']['time_since_first_REST'].values\n",
    "\n",
    "for i in range(min(len(vslog),len(vsev))):\n",
    "    d = vslog[i] - vsev[i]\n",
    "    print(f'vslog = {vslog[i]:.3f}, vsev= {vsev[i]:.3f}, d={d:.6f} ')\n",
    "\n",
    "plt.figure(figsize=(29,3))\n",
    "ax = plt.gca()\n",
    "ax.vlines( phase2df['REST']['time_since_first_REST'] , 0,1, color='b')\n",
    "df_ = dfev.query('phase == \"REST\"')\n",
    "ax.vlines( df_['time_since_first_REST'] , 0,1, color='r', ls=':')"
   ]
  },
  {
   "cell_type": "code",
   "execution_count": null,
   "id": "d9e84bb7",
   "metadata": {
    "hidden": true
   },
   "outputs": [],
   "source": [
    "coln_error = 'error_area2_signed_nn_scaled_ed'\n",
    "dfcc[coln_error]"
   ]
  },
  {
   "cell_type": "code",
   "execution_count": null,
   "id": "db3d1290",
   "metadata": {
    "hidden": true
   },
   "outputs": [],
   "source": [
    "dfrest = df.query('phase == \"REST\"')\n",
    "restmintime = dfrest['time_abs'].min()\n",
    "print(restmintime)\n",
    "\n",
    "restmintime_meg = dfev.query('phase == \"REST\"')['time_megchan'].min()\n",
    "print(restmintime_meg)"
   ]
  },
  {
   "cell_type": "code",
   "execution_count": null,
   "id": "221f1b30",
   "metadata": {
    "hidden": true
   },
   "outputs": [],
   "source": [
    "#a"
   ]
  },
  {
   "cell_type": "code",
   "execution_count": null,
   "id": "744b7eac",
   "metadata": {
    "hidden": true
   },
   "outputs": [],
   "source": []
  },
  {
   "cell_type": "markdown",
   "id": "c3d6ff7f",
   "metadata": {},
   "source": [
    "### get X (epochs)"
   ]
  },
  {
   "cell_type": "code",
   "execution_count": null,
   "id": "1ae8ff26",
   "metadata": {},
   "outputs": [],
   "source": [
    "# coln in dfcc\n",
    "coln_error_area = 'error_area2_signed_nn_scaled_ed'\n",
    "coln_error_lh = 'error_lh_ang'\n",
    "coln_error_ep = 'error_endpoint_ang'\n",
    "\n",
    "offset = 0.3\n",
    "coln_tgt = 'tgti_to_show'\n",
    "tlims = (-2,6)\n",
    "\n",
    "varnames = [coln_tgt, coln_error_ep, coln_error_area, 'prev_' + coln_error_area,\n",
    "               coln_error_lh, 'prev_' + coln_error_lh]\n",
    "# coln_error_ep? reward~coln_error_area?\n",
    "vartypes = {coln_tgt:'cat', coln_error_area:'cont', 'prev_' + coln_error_area:'cont', \n",
    "            coln_error_lh:'cont', 'prev_'+coln_error_lh:'cont',\n",
    "            coln_error_ep:'cont',  'reward_blink_color':'cat'}\n",
    "# rel to ITI is error on this trial or prev? I think it is this trial and we shift to next only when we go to REST\n",
    "phase2epochs_gen_info = {\n",
    "    'ITI':\n",
    "         {'tlim0':[-motor_prep_duration-time_feedback,ITI_duration], \n",
    "          'tlims':[tlims], \n",
    "           'varnames':varnames }, \n",
    "    'GO_CUE_WAIT_AND_SHOW':\n",
    "         {'tlim0':[0,motor_prep_duration+time_feedback + offset],\n",
    "          'tlims':[tlims], \n",
    "           'varnames':varnames },\n",
    "     'TARGET_AND_FEEDBACK':\n",
    "         {'tlim0':[-motor_prep_duration,time_feedback + offset],\n",
    "          'tlims':[tlims], \n",
    "           'varnames':varnames} }\n",
    "\n",
    "for desired_phase in phase2epochs_gen_info:\n",
    "    epginfo = phase2epochs_gen_info[desired_phase]\n",
    "    epginfo['tlims'] = dict(list(zip(['prestart','poststart'], epginfo['tlims'])) )"
   ]
  },
  {
   "cell_type": "code",
   "execution_count": null,
   "id": "b3e3d57e",
   "metadata": {},
   "outputs": [],
   "source": [
    "gc.collect()"
   ]
  },
  {
   "cell_type": "code",
   "execution_count": null,
   "id": "7c76dbbb",
   "metadata": {},
   "outputs": [],
   "source": [
    "raw_flt = raw\n",
    "freqs_flt=(0.5,90)\n",
    "if freqs_flt is not None:\n",
    "    raw_flt = raw.copy().load_data()\n",
    "    raw_flt.filter(*freqs_flt, n_jobs=32)"
   ]
  },
  {
   "cell_type": "code",
   "execution_count": null,
   "id": "c52a2fc4",
   "metadata": {
    "code_folding": []
   },
   "outputs": [],
   "source": [
    "# should be ran after prep Y\n",
    "p = pjoin(subj2path[subj], 'preproc')\n",
    "\n",
    "tlim_test = None\n",
    "#tlim_test = -0.5,0.5\n",
    "\n",
    "load=False\n",
    "phase2tlimn2ep = {}\n",
    "phase2tlimn2ev = {}\n",
    "\n",
    "#decim = 6\n",
    "decim = 2\n",
    "\n",
    "\n",
    "# if freqs_flt is not None:\n",
    "#     epochs.filter(*freqs_flt, n_jobs=32)\n",
    "\n",
    "#reject = dict(mag=4e-12, eog=250e-6)\n",
    "#reject = dict(mag=4e-12)  # lead to rejection of 4 TARGET_AND_FEEDBACK epochs\n",
    "reject = None\n",
    "\n",
    "p0 = pjoin( subj2path[subj], 'preproc')\n",
    "if not os.path.exists(p0):\n",
    "    if load:\n",
    "        raise ValueError('dir not exists')\n",
    "    os.makedirs(p0)\n",
    "\n",
    "for desired_phase in ['TARGET_AND_FEEDBACK', 'GO_CUE_WAIT_AND_SHOW', 'ITI' ]:\n",
    "#for desired_phase in ['TARGET_AND_FEEDBACK']:\n",
    "    phase2tlimn2ep[desired_phase] = {}\n",
    "    phase2tlimn2ev[desired_phase] = {}\n",
    "    epginfo = phase2epochs_gen_info[desired_phase]\n",
    "    if tlim_test is not None:\n",
    "        print('!!! Using tlim_test = ',tlim_test)\n",
    "        tlims = {'test':tlim_test}\n",
    "    else:\n",
    "        tlims = epginfo['tlims']\n",
    "    for tlim_name, tlim in tlims.items():\n",
    "        tmin,tmax = tlim\n",
    "        trigs_desired_phase = [trig for trig, tpl in CONTEXT_TRIGGER_DICT.items() if tpl[-1] == desired_phase]\n",
    "        print(desired_phase,tlim_name, tmin,tmax)\n",
    "\n",
    "        #continue # to check that we load right things\n",
    "        dfev_mxph = phase2dat[desired_phase]['dfev_mxph']\n",
    "        events_cur = events[dfev_mxph.index.values] # I hope it is correct\n",
    "        set( dfev_mxph['trigger'] ) == set(trigs_desired_phase)\n",
    "        assert set( events_cur[:,2] ) == set(trigs_desired_phase), (set( events_cur[:,2] ), set(trigs_desired_phase))\n",
    "\n",
    "        #continue #only check assertions\n",
    "        \n",
    "        fnfep = pjoin(p,f'{desired_phase}_{tlim_name}_{tmin:.2f},{tmax:.2f}_decim{decim}_flt{freqs_flt}-epo.fif')\n",
    "        fnfev = pjoin(p,f'{desired_phase}_{tlim_name}_{tmin:.2f},{tmax:.2f}_decim{decim}_flt{freqs_flt}-ave.fif')\n",
    "        if load:\n",
    "            epochs = mne.read_epochs(fnfep)\n",
    "            evoked = mne.read_evokeds(fnfev)\n",
    "        else:\n",
    "            # these values are from \n",
    "            # https://mne.tools/stable/auto_tutorials/io/60_ctf_bst_auditory.html#sphx-glr-auto-tutorials-io-60-ctf-bst-auditory-py\n",
    "            epochs = mne.Epochs(raw_flt, events_cur, event_id=trigs_desired_phase, \n",
    "                                tmin=tmin, tmax=tmax, picks = 'meg', reject = reject,\n",
    "                                baseline=(None, None), preload=1, decim = decim)\n",
    "            epochs.save(fnfep, overwrite=1)\n",
    "            evoked = epochs.average()  # slow\n",
    "            evoked.save(fnfev, overwrite=1)\n",
    "\n",
    "        #phase2ep[desired_phase] = epochs\n",
    "        #phase2ev[desired_phase] = evoked\n",
    "        phase2tlimn2ep[desired_phase][tlim_name] = epochs\n",
    "        phase2tlimn2ev[desired_phase][tlim_name] = evoked\n",
    "        \n",
    "    import gc; gc.collect()"
   ]
  },
  {
   "cell_type": "code",
   "execution_count": null,
   "id": "1e91e4a3",
   "metadata": {},
   "outputs": [],
   "source": [
    "import gc; gc.collect()"
   ]
  },
  {
   "cell_type": "markdown",
   "id": "fecff7af",
   "metadata": {},
   "source": [
    "## Run"
   ]
  },
  {
   "cell_type": "code",
   "execution_count": null,
   "id": "67a5a92e",
   "metadata": {},
   "outputs": [],
   "source": [
    "np.sum( np.isinf(y) ), np.sum( np.isnan(y) )"
   ]
  },
  {
   "cell_type": "code",
   "execution_count": null,
   "id": "a6238ad4",
   "metadata": {},
   "outputs": [],
   "source": [
    "from mne.decoding import SlidingEstimator, LinearModel\n",
    "#from sklearn.linear_model import LinearRegression\n",
    "from jr.gat import scorer_spearman\n",
    "from scipy.stats import spearmanr\n",
    "from mne.decoding import cross_val_multiscore\n",
    "from sklearn.preprocessing import RobustScaler\n",
    "from joblib import parallel_backend"
   ]
  },
  {
   "cell_type": "code",
   "execution_count": null,
   "id": "230bd7c1",
   "metadata": {},
   "outputs": [],
   "source": [
    "RobustScaler?"
   ]
  },
  {
   "cell_type": "code",
   "execution_count": null,
   "id": "dad1866d",
   "metadata": {
    "code_folding": []
   },
   "outputs": [],
   "source": [
    "def decode_naive(X, y, nperm= 2, n_jobs = 10, nbfold=5, nbfold_perm=2):\n",
    "    assert len(X) == len(y), (X.shape, y.shape)\n",
    "    good =  ~np.isnan(y) \n",
    "    print( f'Removing {np.sum(~good)} bad (nan) datapoints')\n",
    "    yg = y[good]\n",
    "    Xg = X[good]  # trial x channel x time   \n",
    "\n",
    "    print( np.sum( np.isinf(yg) ), np.sum( np.isnan(yg) ) )\n",
    "    scoring = make_scorer(scorer_spearman)    \n",
    "    \n",
    "    regr = RidgeCV()\n",
    "    pipeline = make_pipeline(RobustScaler(), LinearModel(regr))\n",
    "    est = SlidingEstimator(pipeline, scoring = scoring,\n",
    "                          n_jobs = n_jobs)\n",
    "\n",
    "\n",
    "    cv     = KFold(nbfold, shuffle=True)\n",
    "    cvperm = KFold(nbfold_perm, shuffle=True)\n",
    "    classic_dec_verbose = 1\n",
    "\n",
    "    #%debug\n",
    "    def sc(est,XX,YY): \n",
    "        print(XX.shape)\n",
    "        return spearmanr(XX,YY)[0]\n",
    "    yg_perm = np.random.permutation(yg)\n",
    "    with mne.use_log_level('warning'):\n",
    "        with parallel_backend('multiprocessing'):\n",
    "            scores = cross_val_multiscore(est, Xg, y=yg, cv=cv,                                                                                    \n",
    "               scoring=scoring, n_jobs=n_jobs,                                                                                             \n",
    "               verbose=classic_dec_verbose) \n",
    "\n",
    "            scs = []\n",
    "            for i in range(nperm):\n",
    "                yg_perm = np.random.permutation(yg)\n",
    "                scores_perm = cross_val_multiscore(est, Xg, y=yg_perm, cv=cvperm,                                                                                    \n",
    "                       scoring=scoring, n_jobs=n_jobs,                                                                                             \n",
    "                       verbose=0) \n",
    "                scs += [scores_perm.mean()]\n",
    "            scores_perm = np.array(scs)    \n",
    "    \n",
    "    return scores, scores_perm"
   ]
  },
  {
   "cell_type": "code",
   "execution_count": null,
   "id": "2c537ec6",
   "metadata": {
    "lines_to_next_cell": 2
   },
   "outputs": [],
   "source": [
    "def decode_naive2(X, y, nperm= 2, n_jobs = 10, nbfold=5, nbfold_perm=2):\n",
    "    assert len(X) == len(y), (X.shape, y.shape)\n",
    "    good =  ~np.isnan(y) \n",
    "    print( f'Removing {np.sum(~good)} bad (nan) datapoints')\n",
    "    yg = y[good]\n",
    "    Xg = X[good]  # trial x channel x time   \n",
    "\n",
    "    print('num inf, nan =', np.sum( np.isinf(yg) ), np.sum( np.isnan(yg) ) )\n",
    "    scoring = make_scorer(scorer_spearman)    \n",
    "    \n",
    "    regr = RidgeCV()\n",
    "    #pipeline = make_pipeline(RobustScaler(), LinearModel(regr))\n",
    "    est = make_pipeline(RobustScaler(), LinearModel(regr) )\n",
    "                            \n",
    "#     est = SlidingEstimator(pipeline, scoring = scoring,\n",
    "#                           n_jobs = n_jobs)\n",
    "\n",
    "\n",
    "    cv     = KFold(nbfold, shuffle=True)\n",
    "    cvperm = KFold(nbfold_perm, shuffle=True)\n",
    "    classic_dec_verbose = 1\n",
    "\n",
    "    #%debug\n",
    "    def sc(est,XX,YY): \n",
    "        print(XX.shape)\n",
    "        return spearmanr(XX,YY)[0]\n",
    "    yg_perm = np.random.permutation(yg)\n",
    "    with mne.use_log_level('warning'):\n",
    "        with parallel_backend('multiprocessing'):\n",
    "            Xg_ = Xg.reshape(len(Xg), -1)\n",
    "            scores = cross_val_multiscore(est, Xg_, y=yg, cv=cv,                                                                                    \n",
    "               scoring=scoring, n_jobs=n_jobs,                                                                                             \n",
    "               verbose=classic_dec_verbose) \n",
    "\n",
    "            scs = []\n",
    "            for i in range(nperm):\n",
    "                yg_perm = np.random.permutation(yg)\n",
    "                scores_perm = cross_val_multiscore(est, Xg_, y=yg_perm, cv=cvperm,                                                                                    \n",
    "                       scoring=scoring, n_jobs=n_jobs,                                                                                             \n",
    "                       verbose=0) \n",
    "                scs += [scores_perm.mean()]\n",
    "            scores_perm = np.array(scs)    \n",
    "    \n",
    "    return scores, scores_perm\n",
    "\n",
    "scores, scores_perm = decode_naive2(X, y, nperm= nperm, n_jobs = n_jobs, \n",
    "    nbfold=nbfold, nbfold_perm=nbfold_perm)"
   ]
  },
  {
   "cell_type": "code",
   "execution_count": null,
   "id": "c550af8b",
   "metadata": {},
   "outputs": [],
   "source": [
    "X.shape"
   ]
  },
  {
   "cell_type": "code",
   "execution_count": null,
   "id": "d22b144e",
   "metadata": {},
   "outputs": [],
   "source": [
    "gc. collect()"
   ]
  },
  {
   "cell_type": "code",
   "execution_count": null,
   "id": "3fb09e47",
   "metadata": {},
   "outputs": [],
   "source": [
    "decim = 2"
   ]
  },
  {
   "cell_type": "code",
   "execution_count": null,
   "id": "ef621cd0",
   "metadata": {},
   "outputs": [],
   "source": [
    "tlim"
   ]
  },
  {
   "cell_type": "code",
   "execution_count": null,
   "id": "21e0bc3f",
   "metadata": {},
   "outputs": [],
   "source": [
    "wdur = 0.5\n",
    "wstep = 0.25\n",
    "tlims_sub_st = np.arange(tlim[0], tlim[1] - wstep, wstep)\n",
    "tlims_sub_end = tlims_sub_st + wdur\n",
    "tlims_sub = np.vstack([tlims_sub_st, tlims_sub_end] ).T\n",
    "display(tlims_sub)\n",
    "tlims_sub.shape"
   ]
  },
  {
   "cell_type": "code",
   "execution_count": null,
   "id": "0475d672",
   "metadata": {},
   "outputs": [],
   "source": [
    "#del Xfull\n",
    "gc.collect()"
   ]
  },
  {
   "cell_type": "code",
   "execution_count": null,
   "id": "80d61e82",
   "metadata": {
    "lines_to_next_cell": 2,
    "run_control": {
     "marked": false
    }
   },
   "outputs": [],
   "source": [
    "import time\n",
    "nperm = 6\n",
    "nbfold=5\n",
    "nbfold_perm=2\n",
    "n_jobs = 40\n",
    "use_preloaded = True\n",
    "test = False\n",
    "# gradient compensation = using subtracting ref_meg\n",
    "res = []\n",
    "for ph in phase2epochs_gen_info:  \n",
    "    varnames_cur = phase2epochs_gen_info[ph]['varnames']\n",
    "    varname2y = phase2dat[ph]['varname2y']\n",
    "    \n",
    "    if tlim_test is None:\n",
    "        tlims = phase2epochs_gen_info[ph]['tlims']\n",
    "    else:\n",
    "        tlims = {'test':tlim_test}\n",
    "    for tlim_name, tlim_long in tlims.items():\n",
    "        if use_preloaded:            \n",
    "            # IT MODIFIES EPOCHS!\n",
    "            Xfull = phase2tlimn2ep[ph][tlim_name].pick_types(meg=True, ref_meg=False)\n",
    "        else:\n",
    "            tmin,tmax = tlim_long\n",
    "            fnfep = pjoin(p,f'{ph}_{tlim_name}_{tmin:.2f},{tmax:.2f}_decim{decim}-epo.fif')\n",
    "            epochs = mne.read_epochs(fnfep)            \n",
    "            Xfull = epochs.pick_types(meg=True, ref_meg=False)            \n",
    "            \n",
    "        wdur = 0.5\n",
    "        wstep = 0.25\n",
    "        tlims_sub_st = np.arange(tlim_long[0], tlim_long[1] - wstep, wstep)\n",
    "        tlims_sub_end = tlims_sub_st + wdur\n",
    "        tlims_sub = np.vstack([tlims_sub_st, tlims_sub_end] ).T\n",
    "        \n",
    "        if test:\n",
    "            tlims_sub = tlims_sub[::2] # test\n",
    "        display(tlims_sub.shape)\n",
    "        for vn in varnames_cur:           \n",
    "            for tlim in tlims_sub:            \n",
    "                X = Xfull.copy().crop(tlim[0], tlim[1])._data\n",
    "                if test:\n",
    "                    X = X[:,:,::2]\n",
    "\n",
    "                t0 = time.time()\n",
    "                print('-------- Starting ',ph, vn, X.shape, tlim)\n",
    "                y = varname2y[vn]\n",
    "\n",
    "                scores, scores_perm = decode_naive2(X, y, nperm= nperm,\n",
    "                    n_jobs = n_jobs, nbfold=nbfold, nbfold_perm=nbfold_perm)\n",
    "                if len(scores_perm) == 0:\n",
    "                    scores_perm = [-10000]\n",
    "                t1 = time.time()\n",
    "                td = t1-t0\n",
    "                print(ph, vn, tlim, scores.mean(), scores_perm.mean(), td)\n",
    "                res += [ (ph, vn, scores.mean(), scores_perm.mean(), X.shape, tlim, td)]        \n",
    "                gc.collect()\n",
    "#                 break\n",
    "#             break\n",
    "#         break\n",
    "#     break"
   ]
  },
  {
   "cell_type": "code",
   "execution_count": null,
   "id": "708f429d",
   "metadata": {},
   "outputs": [],
   "source": [
    "res"
   ]
  },
  {
   "cell_type": "code",
   "execution_count": null,
   "id": "fa1f4552",
   "metadata": {},
   "outputs": [],
   "source": [
    "tlims_sub_st"
   ]
  },
  {
   "cell_type": "code",
   "execution_count": null,
   "id": "5f8ad6e4",
   "metadata": {},
   "outputs": [],
   "source": [
    "tlims_sub = np.vstack([tlims_sub_st, tlims_sub_end] ).T\n",
    "tlims_sub"
   ]
  },
  {
   "cell_type": "code",
   "execution_count": null,
   "id": "313d6fb4",
   "metadata": {},
   "outputs": [],
   "source": [
    "tqdm.tqdm?"
   ]
  },
  {
   "cell_type": "code",
   "execution_count": null,
   "id": "b5e63c5c",
   "metadata": {},
   "outputs": [],
   "source": [
    "import tqdm"
   ]
  },
  {
   "cell_type": "code",
   "execution_count": null,
   "id": "0f547bee",
   "metadata": {},
   "outputs": [],
   "source": [
    "X.shape"
   ]
  },
  {
   "cell_type": "code",
   "execution_count": null,
   "id": "7469019c",
   "metadata": {},
   "outputs": [],
   "source": [
    "np.array_split?"
   ]
  },
  {
   "cell_type": "code",
   "execution_count": null,
   "id": "bec13e41",
   "metadata": {},
   "outputs": [],
   "source": [
    "#del X\n",
    "gc.collect()"
   ]
  },
  {
   "cell_type": "code",
   "execution_count": null,
   "id": "5a5b6e28",
   "metadata": {
    "run_control": {
     "marked": false
    }
   },
   "outputs": [],
   "source": [
    "#res_not_ITI = res \n",
    "#res_ITI = res\n",
    "#res_tot =  res_not_ITI + res_ITI"
   ]
  },
  {
   "cell_type": "code",
   "execution_count": null,
   "id": "52631614",
   "metadata": {},
   "outputs": [],
   "source": [
    "dfdecres = pd.DataFrame(res, columns=['phase','coln','spearman','spearman_perm', 'Xshape',\n",
    "                                      'tlim', 'calc_dur'])\n",
    "dfdecres['nperm'] =nperm\n",
    "dfdecres['nbfold'] =nbfold\n",
    "#dfdecres['tmin'] = tlim[0]\n",
    "#dfdecres['tmax'] = tlim[1]\n",
    "dfdecres"
   ]
  },
  {
   "cell_type": "code",
   "execution_count": null,
   "id": "27f5aaff",
   "metadata": {},
   "outputs": [],
   "source": [
    "gc.collect()"
   ]
  },
  {
   "cell_type": "code",
   "execution_count": null,
   "id": "bbf7784c",
   "metadata": {},
   "outputs": [],
   "source": [
    "dfdecres['tmin'] = dfdecres['tlim'].apply(lambda x: x[0])"
   ]
  },
  {
   "cell_type": "code",
   "execution_count": null,
   "id": "1c5f2d9f",
   "metadata": {},
   "outputs": [],
   "source": [
    "mplresestcol()"
   ]
  },
  {
   "cell_type": "code",
   "execution_count": null,
   "id": "c60c3181",
   "metadata": {},
   "outputs": [],
   "source": [
    "dfdecres.plot?"
   ]
  },
  {
   "cell_type": "code",
   "execution_count": null,
   "id": "9158e9bb",
   "metadata": {},
   "outputs": [],
   "source": [
    "dfdecres.plot(x='tmin', y='spearman')"
   ]
  },
  {
   "cell_type": "code",
   "execution_count": null,
   "id": "8313b12b",
   "metadata": {},
   "outputs": [],
   "source": [
    "dfdecres.to_csv(pjoin(p,f'{subj}_dec_res_test_tdlong2.csv'))"
   ]
  },
  {
   "cell_type": "code",
   "execution_count": null,
   "id": "8d07dfee",
   "metadata": {},
   "outputs": [],
   "source": [
    "dfcc.columns"
   ]
  },
  {
   "cell_type": "markdown",
   "id": "fb856159",
   "metadata": {
    "heading_collapsed": true
   },
   "source": [
    "# ICA"
   ]
  },
  {
   "cell_type": "code",
   "execution_count": null,
   "id": "02511952",
   "metadata": {
    "hidden": true
   },
   "outputs": [],
   "source": [
    "import gc\n",
    "gc.collect()"
   ]
  },
  {
   "cell_type": "code",
   "execution_count": null,
   "id": "cad2d934",
   "metadata": {
    "hidden": true
   },
   "outputs": [],
   "source": [
    "raw.load_data(1)"
   ]
  },
  {
   "cell_type": "code",
   "execution_count": null,
   "id": "7da2b9c7",
   "metadata": {
    "hidden": true
   },
   "outputs": [],
   "source": [
    "#https://mne.tools/stable/auto_tutorials/preprocessing/40_artifact_correction_ica.html#sphx-glr-auto-tutorials-preprocessing-40-artifact-correction-ica-py"
   ]
  },
  {
   "cell_type": "code",
   "execution_count": null,
   "id": "b5f860bf",
   "metadata": {
    "hidden": true
   },
   "outputs": [],
   "source": [
    "from mne.preprocessing import create_eog_epochs,create_ecg_epochs"
   ]
  },
  {
   "cell_type": "code",
   "execution_count": null,
   "id": "3215f8a9",
   "metadata": {
    "hidden": true
   },
   "outputs": [],
   "source": [
    "dat_pupilsz,time = raw[chn_pupil_size]"
   ]
  },
  {
   "cell_type": "code",
   "execution_count": null,
   "id": "0412d135",
   "metadata": {
    "hidden": true
   },
   "outputs": [],
   "source": [
    "raw.drop_channels(['EEG063-2800','EEG064-2800',chn_pupil_size])"
   ]
  },
  {
   "cell_type": "code",
   "execution_count": null,
   "id": "6064046f",
   "metadata": {
    "hidden": true
   },
   "outputs": [],
   "source": [
    "eog_epochs = create_eog_epochs(raw)  # decim possible"
   ]
  },
  {
   "cell_type": "code",
   "execution_count": null,
   "id": "24cef5eb",
   "metadata": {
    "hidden": true
   },
   "outputs": [],
   "source": [
    "eog_epochs.save(pjoin(p,f'eog-epo.fif'), overwrite=True)\n",
    "eog_evoked = eog_epochs.average()\n",
    "eog_evoked.apply_baseline(baseline=(None, -0.2))\n",
    "eog_evoked.plot_joint(picks='meg');"
   ]
  },
  {
   "cell_type": "code",
   "execution_count": null,
   "id": "0ec5832b",
   "metadata": {
    "hidden": true
   },
   "outputs": [],
   "source": [
    "ecg_epochs = create_ecg_epochs(raw)   # decim possible\n",
    "ecg_epochs.save(pjoin(p,f'ecg-epo.fif'))\n",
    "ecg_evoked = ecg_epochs.average()\n",
    "ecg_evoked.apply_baseline(baseline=(None, -0.2))\n",
    "ecg_evoked.plot_joint(picks='meg');"
   ]
  },
  {
   "cell_type": "code",
   "execution_count": null,
   "id": "6a71232e",
   "metadata": {
    "hidden": true
   },
   "outputs": [],
   "source": [
    "n_jobs = 40\n",
    "filt_raw = raw.copy().filter(l_freq=1., h_freq=None, n_jobs=n_jobs)"
   ]
  },
  {
   "cell_type": "code",
   "execution_count": null,
   "id": "09aa585c",
   "metadata": {
    "hidden": true
   },
   "outputs": [],
   "source": [
    "#ica.fit?"
   ]
  },
  {
   "cell_type": "code",
   "execution_count": null,
   "id": "cd0ab35d",
   "metadata": {
    "hidden": true
   },
   "outputs": [],
   "source": [
    "from mne.preprocessing import ICA\n",
    "ica = ICA(n_components=15, max_iter='auto', random_state=0)\n",
    "ica.fit(filt_raw )\n",
    "ica"
   ]
  },
  {
   "cell_type": "code",
   "execution_count": null,
   "id": "baa56a6b",
   "metadata": {
    "hidden": true
   },
   "outputs": [],
   "source": [
    "ica.save(pjoin(p,f'afterfilt-ica.fif'), overwrite=True)"
   ]
  },
  {
   "cell_type": "code",
   "execution_count": null,
   "id": "7357b398",
   "metadata": {
    "hidden": true
   },
   "outputs": [],
   "source": [
    "psd.plot(picks='meg',average=1)"
   ]
  },
  {
   "cell_type": "code",
   "execution_count": null,
   "id": "5af0745b",
   "metadata": {
    "hidden": true
   },
   "outputs": [],
   "source": [
    "raw.plot(theme='dark');"
   ]
  },
  {
   "cell_type": "code",
   "execution_count": null,
   "id": "ac6842b6",
   "metadata": {
    "hidden": true
   },
   "outputs": [],
   "source": [
    "ica.plot_sources?"
   ]
  },
  {
   "cell_type": "code",
   "execution_count": null,
   "id": "47fed4f5",
   "metadata": {
    "hidden": true
   },
   "outputs": [],
   "source": [
    "%matplotlib qt\n",
    "ica.plot_sources(raw, theme='dark', picks=[1,2,3,4]);"
   ]
  },
  {
   "cell_type": "code",
   "execution_count": null,
   "id": "a99488f7",
   "metadata": {
    "hidden": true
   },
   "outputs": [],
   "source": [
    "# reject"
   ]
  },
  {
   "cell_type": "code",
   "execution_count": null,
   "id": "3fd53736",
   "metadata": {
    "hidden": true,
    "run_control": {
     "marked": false
    }
   },
   "outputs": [],
   "source": [
    "gc.collect()"
   ]
  },
  {
   "cell_type": "code",
   "execution_count": null,
   "id": "c4469dd8",
   "metadata": {
    "hidden": true
   },
   "outputs": [],
   "source": [
    "explained_var_ratio = ica.get_explained_variance_ratio(filt_raw)\n",
    "for channel_type, ratio in explained_var_ratio.items():\n",
    "    print(\n",
    "        f'Fraction of {channel_type} variance explained by all components: '\n",
    "        f'{ratio}'\n",
    "    )"
   ]
  },
  {
   "cell_type": "code",
   "execution_count": null,
   "id": "b29b060b",
   "metadata": {
    "hidden": true
   },
   "outputs": [],
   "source": [
    "ecg_indices"
   ]
  },
  {
   "cell_type": "code",
   "execution_count": null,
   "id": "8681147d",
   "metadata": {
    "hidden": true
   },
   "outputs": [],
   "source": [
    "ica.exclude = []\n",
    "# find which ICs match the ECG pattern\n",
    "ecg_indices, ecg_scores = ica.find_bads_ecg(raw, method='correlation',\n",
    "                                            threshold='auto')\n",
    "print(ecg_indices)\n",
    "if len(ecg_indices):\n",
    "    ica.exclude = ecg_indices\n",
    "\n",
    "    # barplot of ICA component \"ECG match\" scores\n",
    "    ica.plot_scores(ecg_scores)\n",
    "\n",
    "    # plot diagnostics\n",
    "    ica.plot_properties(raw, picks=ecg_indices)\n",
    "\n",
    "    # plot ICs applied to raw data, with ECG matches highlighted\n",
    "    ica.plot_sources(raw, show_scrollbars=False)\n",
    "\n",
    "    # plot ICs applied to the averaged ECG epochs, with ECG matches highlighted\n",
    "    ica.plot_sources(ecg_evoked)"
   ]
  },
  {
   "cell_type": "code",
   "execution_count": null,
   "id": "6c367b10",
   "metadata": {
    "hidden": true
   },
   "outputs": [],
   "source": [
    "eog_indices, eog_scores = ica.find_bads_eog(raw)\n",
    "print(eog_indices)\n",
    "if len(eog_indices):\n",
    "    ica.exclude = eog_indices\n",
    "    # barplot of ICA component \"EOG match\" scores\n",
    "    ica.plot_scores(eog_scores)\n",
    "\n",
    "    # plot diagnostics\n",
    "    ica.plot_properties(raw, picks=eog_indices)\n",
    "\n",
    "    # plot ICs applied to raw data, with EOG matches highlighted\n",
    "    ica.plot_sources(raw, show_scrollbars=False)\n",
    "\n",
    "    # plot ICs applied to the averaged EOG epochs, with EOG matches highlighted\n",
    "    ica.plot_sources(eog_evoked)"
   ]
  },
  {
   "cell_type": "code",
   "execution_count": null,
   "id": "827e1bc6",
   "metadata": {
    "hidden": true
   },
   "outputs": [],
   "source": []
  },
  {
   "cell_type": "code",
   "execution_count": null,
   "id": "2c4ea312",
   "metadata": {
    "hidden": true,
    "run_control": {
     "marked": false
    }
   },
   "outputs": [],
   "source": [
    "raw.load_data()\n",
    "ica.plot_sources(raw, show_scrollbars=False)\n",
    "#ica.plot_components()\n",
    "\n",
    "# blinks\n",
    "#ica.plot_overlay(raw, exclude=[0], picks='eeg')\n",
    "# heartbeats\n",
    "#ica.plot_overlay(raw, exclude=[1], picks='mag')\n",
    "\n",
    "ica.plot_properties(raw, picks=[0, 1])"
   ]
  },
  {
   "cell_type": "code",
   "execution_count": null,
   "id": "0c93e16c",
   "metadata": {
    "hidden": true
   },
   "outputs": [],
   "source": [
    "reconst_raw = raw.copy()\n",
    "ica.apply(reconst_raw)\n",
    "\n",
    "raw.plot(order=artifact_picks, n_channels=len(artifact_picks),\n",
    "         show_scrollbars=False)\n",
    "reconst_raw.plot(order=artifact_picks, n_channels=len(artifact_picks),\n",
    "                 show_scrollbars=False)\n",
    "del reconst_raw"
   ]
  },
  {
   "cell_type": "markdown",
   "id": "8538b081",
   "metadata": {
    "heading_collapsed": true
   },
   "source": [
    "# Psd"
   ]
  },
  {
   "cell_type": "code",
   "execution_count": null,
   "id": "86d31017",
   "metadata": {
    "hidden": true
   },
   "outputs": [],
   "source": [
    "rawcrp = raw.copy()\n",
    "\n",
    "rawcrp.crop(0,70)\n",
    "\n",
    "rawcrp.crop?\n",
    "\n",
    "r.times[-1], rawcrp.times[-1], raw.times[-1]"
   ]
  },
  {
   "cell_type": "code",
   "execution_count": null,
   "id": "09d06bc9",
   "metadata": {
    "hidden": true
   },
   "outputs": [],
   "source": [
    "rawcrp.compute_psd?"
   ]
  },
  {
   "cell_type": "code",
   "execution_count": null,
   "id": "84d463da",
   "metadata": {
    "hidden": true
   },
   "outputs": [],
   "source": [
    "ts = dfev[dfev['phase'] == 'REST'].head(1)['time'].values[0]"
   ]
  },
  {
   "cell_type": "code",
   "execution_count": null,
   "id": "b7d5e1d6",
   "metadata": {
    "hidden": true
   },
   "outputs": [],
   "source": [
    "te = dfev[dfev['phase'] == 'ITI'].tail(1)['time'].values[0]"
   ]
  },
  {
   "cell_type": "code",
   "execution_count": null,
   "id": "9bf3c067",
   "metadata": {
    "hidden": true,
    "run_control": {
     "marked": true
    }
   },
   "outputs": [],
   "source": [
    "psd.plot?"
   ]
  },
  {
   "cell_type": "code",
   "execution_count": null,
   "id": "d4f43c2b",
   "metadata": {
    "hidden": true
   },
   "outputs": [],
   "source": [
    "psd = raw.compute_psd(picks='meg', tmin=ts,tmax=te, fmax=200, n_jobs=20)"
   ]
  },
  {
   "cell_type": "code",
   "execution_count": null,
   "id": "5687275f",
   "metadata": {
    "hidden": true
   },
   "outputs": [],
   "source": [
    "%matplotlib inline\n",
    "plt.figure(figsize=(12,4))\n",
    "ax = plt.gca()\n",
    "fig = psd.plot(picks='meg', axes= ax, average=True);\n",
    "ax.set_xlim(0,200)"
   ]
  },
  {
   "cell_type": "code",
   "execution_count": null,
   "id": "41209c69",
   "metadata": {
    "hidden": true,
    "lines_to_next_cell": 2
   },
   "outputs": [],
   "source": [
    "# I am not sure I need notch filter -- I don't see clear peaks around 60 Hz in psd\n",
    "#mne.filter.notch_filter(x, Fs, freqs, filter_length='auto', notch_widths=None, trans_bandwidth=1, method='fir', iir_params=None, mt_bandwidth=None, p_value=0.05, picks=None, n_jobs=None, copy=True, phase='zero', fir_window='hamming', fir_design='firwin', pad='reflect_limited', *, verbose=None)[source]"
   ]
  },
  {
   "cell_type": "code",
   "execution_count": null,
   "id": "b05d6c4e",
   "metadata": {
    "hidden": true
   },
   "outputs": [],
   "source": [
    "%matplotlib qt\n",
    "psd.plot_topo();"
   ]
  },
  {
   "cell_type": "code",
   "execution_count": null,
   "id": "ee2c94c5",
   "metadata": {
    "hidden": true
   },
   "outputs": [],
   "source": [
    "psd.plot?"
   ]
  },
  {
   "cell_type": "code",
   "execution_count": null,
   "id": "2af90060",
   "metadata": {
    "hidden": true,
    "run_control": {
     "marked": true
    }
   },
   "outputs": [],
   "source": [
    "raw.notch_filter()"
   ]
  },
  {
   "cell_type": "markdown",
   "id": "86f5dd85",
   "metadata": {
    "heading_collapsed": true
   },
   "source": [
    "# Maxwell"
   ]
  },
  {
   "cell_type": "code",
   "execution_count": null,
   "id": "326b8543",
   "metadata": {
    "hidden": true
   },
   "outputs": [],
   "source": [
    "sphere = mne.make_sphere_model(r0=(0., 0., 0.), head_radius=0.08)\n",
    "\n",
    "mne.viz.plot_alignment(raw.info, subject='sample',\n",
    "                       meg='helmet', bem=sphere, dig=True,\n",
    "                       surfaces=['brain'])\n",
    "#del raw, epochs"
   ]
  },
  {
   "cell_type": "code",
   "execution_count": null,
   "id": "6f340d04",
   "metadata": {
    "hidden": true
   },
   "outputs": [],
   "source": []
  },
  {
   "cell_type": "code",
   "execution_count": null,
   "id": "b024ddf2",
   "metadata": {
    "hidden": true
   },
   "outputs": [],
   "source": [
    "#from here\n",
    "# https://mne.tools/stable/auto_tutorials/inverse/85_brainstorm_phantom_ctf.html#sphx-glr-auto-tutorials-inverse-85-brainstorm-phantom-ctf-py\n",
    "rawm = raw.copy()\n",
    "rawm.apply_gradient_compensation(0)  # must un-do software compensation first\n",
    "mf_kwargs = dict(origin=(0., 0., 0.), st_duration=10.)\n",
    "rawm = mne.preprocessing.maxwell_filter(rawm, **mf_kwargs)\n",
    "#rawm.plot()"
   ]
  },
  {
   "cell_type": "code",
   "execution_count": null,
   "id": "2883ee71",
   "metadata": {
    "hidden": true
   },
   "outputs": [],
   "source": [
    "rawm.save(pjoin(p,'SSS-raw.fif'))"
   ]
  },
  {
   "cell_type": "code",
   "execution_count": null,
   "id": "879fffb0",
   "metadata": {
    "hidden": true
   },
   "outputs": [],
   "source": [
    "len(inds)"
   ]
  },
  {
   "cell_type": "code",
   "execution_count": null,
   "id": "bae379f1",
   "metadata": {
    "hidden": true
   },
   "outputs": [],
   "source": [
    "np.max(d)"
   ]
  },
  {
   "cell_type": "code",
   "execution_count": null,
   "id": "25e80b8b",
   "metadata": {
    "hidden": true
   },
   "outputs": [],
   "source": [
    "d[0,inds[[0,1000]]]"
   ]
  },
  {
   "cell_type": "code",
   "execution_count": null,
   "id": "ce17b9d1",
   "metadata": {
    "hidden": true
   },
   "outputs": [],
   "source": [
    "d.shape"
   ]
  },
  {
   "cell_type": "code",
   "execution_count": null,
   "id": "c6aad14a",
   "metadata": {
    "hidden": true
   },
   "outputs": [],
   "source": []
  },
  {
   "cell_type": "code",
   "execution_count": null,
   "id": "6dbf293a",
   "metadata": {
    "hidden": true
   },
   "outputs": [],
   "source": []
  },
  {
   "cell_type": "code",
   "execution_count": null,
   "id": "62988819",
   "metadata": {
    "hidden": true
   },
   "outputs": [],
   "source": [
    "raw."
   ]
  },
  {
   "cell_type": "code",
   "execution_count": null,
   "id": "802c8e04",
   "metadata": {
    "hidden": true
   },
   "outputs": [],
   "source": [
    "mne.find_events(raw, )"
   ]
  },
  {
   "cell_type": "code",
   "execution_count": null,
   "id": "1a4f8f69",
   "metadata": {
    "hidden": true
   },
   "outputs": [],
   "source": [
    "%matplotlib qt\n",
    "raw_nontriv.plot();"
   ]
  },
  {
   "cell_type": "code",
   "execution_count": null,
   "id": "7ae39ceb",
   "metadata": {
    "hidden": true
   },
   "outputs": [],
   "source": [
    "raw_nontriv.ch_names"
   ]
  }
 ],
 "metadata": {
  "jupytext": {
   "formats": "ipynb,py:percent"
  },
  "kernelspec": {
   "display_name": "merr",
   "language": "python",
   "name": "merr"
  },
  "language_info": {
   "codemirror_mode": {
    "name": "ipython",
    "version": 3
   },
   "file_extension": ".py",
   "mimetype": "text/x-python",
   "name": "python",
   "nbconvert_exporter": "python",
   "pygments_lexer": "ipython3",
   "version": "3.8.13"
  }
 },
 "nbformat": 4,
 "nbformat_minor": 5
}
