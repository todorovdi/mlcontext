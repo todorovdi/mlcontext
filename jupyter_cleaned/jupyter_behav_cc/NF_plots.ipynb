{
 "cells": [
  {
   "cell_type": "code",
   "execution_count": null,
   "id": "85c6baca",
   "metadata": {},
   "outputs": [],
   "source": [
    "%load_ext autoreload\n",
    "%autoreload 2\n",
    "\n",
    "import os\n",
    "ipy = get_ipython()\n",
    "from os.path import join as pjoin\n",
    "import os,sys; sys.path.append(os.path.expandvars('$CODE_MEMORY_ERRORS'))\n",
    "import error_sensitivity\n",
    "import pandas as pd\n",
    "\n",
    "data_dir_general = os.path.expandvars('$DATA_QUENTIN')\n",
    "data_dir_input = os.path.expandvars('$DATA_MEMORY_ERRORS_STAB_AND_STOCH')\n",
    "scripts_dir = pjoin( os.path.expandvars('$CODE_MEMORY_ERRORS'))\n",
    "\n",
    "import gc\n",
    "import numpy as np\n",
    "import matplotlib.pyplot as plt\n",
    "import seaborn as sns\n",
    "print('seaborn ver = ', sns.__version__)\n",
    "#assert sns.__version__ == '0.12.2', sns.__version__\n",
    "import matplotlib as mpl\n",
    "\n",
    "from config2 import path_fig\n",
    "path_fig_nf = pjoin(path_fig, 'NeuroFrance')"
   ]
  },
  {
   "cell_type": "code",
   "execution_count": null,
   "id": "a9948851",
   "metadata": {},
   "outputs": [],
   "source": [
    "def setPlotColors():\n",
    "    COLOR = 'black'\n",
    "    mpl.rcParams['text.color'] = COLOR\n",
    "    mpl.rcParams['axes.labelcolor'] = COLOR\n",
    "    mpl.rcParams['xtick.color'] = COLOR\n",
    "    mpl.rcParams['ytick.color'] = COLOR\n",
    "\n",
    "\n",
    "    sns.set(rc={'axes.facecolor':'white', 'figure.facecolor':'white',\n",
    "               'grid.color':'grey', 'grid.alpha':0.5})\n",
    "    global tgtc\n",
    "    tgtc = ['b','g','r','brown']\n",
    "setPlotColors()"
   ]
  },
  {
   "cell_type": "code",
   "execution_count": null,
   "id": "9f1340cc",
   "metadata": {},
   "outputs": [],
   "source": [
    "d = '/home/demitau/data_Quentin/pilot_studies/context_change_behav/'\n",
    "#fnb = 'dima_test_context_change_20230309_164851'\n",
    "#fnb = '2023-SE1-pilot2_context_change_20230310_161928'\n",
    "fnb = '2023-SE1-017_context_change_20230425_161049'\n",
    "fn = fnb + '.log'\n",
    "fnp = fnb + '.param'"
   ]
  },
  {
   "cell_type": "markdown",
   "id": "e88cf5d4",
   "metadata": {
    "heading_collapsed": true
   },
   "source": [
    "# Main"
   ]
  },
  {
   "cell_type": "code",
   "execution_count": null,
   "id": "02281fb4",
   "metadata": {
    "hidden": true
   },
   "outputs": [],
   "source": [
    "import gc; gc.collect()"
   ]
  },
  {
   "cell_type": "code",
   "execution_count": null,
   "id": "d394641b",
   "metadata": {
    "hidden": true
   },
   "outputs": [],
   "source": [
    "from datetime import datetime\n",
    "from behav_proc import readParamFiles, addBasicInfo, getGeomInfo\n",
    "fnp = fnb + '.param'\n",
    "params, phase2trigger, trigger2phase, stage2pars  = readParamFiles(fnp, d)\n",
    "home_position, target_coords = getGeomInfo(params)\n",
    "hitr = float(params['radius_target']) + float(params['radius_cursor']) / 2\n",
    "\n",
    "load = True\n",
    "#load = True\n",
    "if load:\n",
    "    #dfallphs = pd.read_pickle(pjoin(d,'row=frame_allph.pkl.zip'))\n",
    "    dfc_all      = pd.read_pickle(pjoin(d,'row=frame.pkl.zip'))        \n",
    "    dfcpc_all    = pd.read_pickle(pjoin(d,'row=pause.pkl.zip'))\n",
    "    dfctc_all    = pd.read_pickle(pjoin(d,'row=target_chagne.pkl.zip'))\n",
    "    fnf_dfcc = pjoin(d,'row=trial.pkl.zip')\n",
    "    dfcc_all     = pd.read_pickle(fnf_dfcc)\n",
    "    \n",
    "    dt = datetime.fromtimestamp(os.stat(fnf_dfcc).st_mtime )\n",
    "    print('date dfcc = ',dt)\n",
    "        \n",
    "dfcc_all['error_lh_ang_deg'] = dfcc_all['error_lh_ang'] * 180 / np.pi\n",
    "dfcc_all['error_lh2_ang_deg'] = dfcc_all['error_lh2_ang'] * 180 / np.pi\n",
    "dfcc_all['error_lh2_ang_deg_abs'] = dfcc_all['error_lh2_ang_deg'].abs()\n",
    "\n",
    "assert dfcc_all.loc[dfcc_all['subject'].str.contains('pilot'), 'subject'].nunique() == 1\n",
    "dfcc_all['subject_ind'] = dfcc_all['subject'].str[-3:]\n",
    "dfcc_all.loc[dfcc_all['subject'].str.contains('pilot'), 'subject_ind'] = 0\n",
    "dfcc_all['subject_ind'] = dfcc_all['subject_ind'].astype(int)\n",
    "#.astype(int)\n",
    "\n",
    "subjects = dfcc_all['subject'].unique()\n",
    "print(subjects)\n",
    "\n",
    "subj = subjects[3]\n",
    "print(subj)\n",
    "dfccos  = dfcc_all.query('subject == @subj')\n",
    "dfcos   = dfc_all.query('subject == @subj')\n",
    "dfcpcos = dfcpc_all.query('subject == @subj')\n",
    "#dfcc = dfccos\n",
    "\n",
    "#dfcc_all['error_lh_ang_deg'] = dfcc_all['error_lh_ang'] * 180 / np.pi\n",
    "#dfcc_all['error_lh_ang_deg_abs'] = dfcc_all['error_lh_ang_deg'].abs()\n",
    "#dfcc_all['error_area2_signed_nn_abs'] = dfcc_all['error_area2_signed_nn'].abs()\n",
    "dfcc_all['target_locs_nice'] = np.round(dfcc_all['target_locs']).astype('int') - 90"
   ]
  },
  {
   "cell_type": "code",
   "execution_count": null,
   "id": "eaa12735",
   "metadata": {
    "hidden": true
   },
   "outputs": [],
   "source": [
    "#dfcc_all['error_unpert_area2_signed_nn']"
   ]
  },
  {
   "cell_type": "code",
   "execution_count": null,
   "id": "67582428",
   "metadata": {
    "hidden": true
   },
   "outputs": [],
   "source": [
    "# when exited home and not spec trial\n",
    "from behav_proc import spectrials, coln2pubname\n",
    "nclean_trials = dfcc_all.query('~time_lh.isna() and ~trial_type.isin(@spectrials)').\\\n",
    "  groupby(['subject','block_ind']).size().min()\n",
    "print('min clean trials in a block ', nclean_trials)      "
   ]
  },
  {
   "cell_type": "code",
   "execution_count": null,
   "id": "241af409",
   "metadata": {
    "hidden": true
   },
   "outputs": [],
   "source": [
    "ncn = 4\n",
    "if load:\n",
    "    fnf = pjoin(d,f'es_row_trial_ncn{ncn}.pkl.zip')\n",
    "#fnf = pjoin(d,'es_row=trial.pkl.zip')\n",
    "    dt = datetime.fromtimestamp(os.stat(fnf).st_mtime )    \n",
    "    print('date es = ',dt)\n",
    "    df_all_multi_tsz_orig = pd.read_pickle(fnf)\n",
    "\n",
    "df_all_multi_tsz_orig['target_locs_nice'] = np.round(df_all_multi_tsz_orig['target_locs']).astype('int') - 90"
   ]
  },
  {
   "cell_type": "code",
   "execution_count": null,
   "id": "3d72a0f4",
   "metadata": {
    "hidden": true
   },
   "outputs": [],
   "source": [
    "df_all_multi_tsz_orig['error_lh2_ang_deg'] = \\\n",
    "    df_all_multi_tsz_orig['error_lh2_ang'] * 180 / np.pi\n",
    "\n",
    "c = df_all_multi_tsz_orig['error_data_for_calc'] == 'lh2_ang'\n",
    "df_all_multi_tsz_orig['error_plot'] = df_all_multi_tsz_orig['error']\n",
    "df_all_multi_tsz_orig.loc[c,'error_plot'] = df_all_multi_tsz_orig.loc[c,'error_lh2_ang_deg']"
   ]
  },
  {
   "cell_type": "code",
   "execution_count": null,
   "id": "b7e5633e",
   "metadata": {
    "hidden": true
   },
   "outputs": [],
   "source": [
    "df_all_multi_tsz_orig['error_coln_for_plot'] =  df_all_multi_tsz_orig['error_coln_for_calc']\n",
    "for k,v in coln2pubname.items():\n",
    "    df_all_multi_tsz_orig['error_coln_for_plot'] = \\\n",
    "        df_all_multi_tsz_orig['error_coln_for_plot'].str.replace(k, v)"
   ]
  },
  {
   "cell_type": "code",
   "execution_count": null,
   "id": "d1c12d35",
   "metadata": {
    "hidden": true
   },
   "outputs": [],
   "source": [
    "for df_ in [dfcc_all    ,dfc_all     ,dfcpc_all   ,dfctc_all]:\n",
    "    assert np.sum( df_.duplicated()) == 0\n",
    "    \n",
    "assert dfcc_all.index.duplicated().sum() == 0"
   ]
  },
  {
   "cell_type": "code",
   "execution_count": null,
   "id": "468a9e54",
   "metadata": {
    "hidden": true
   },
   "outputs": [],
   "source": [
    "df_all_multi_tsz = df_all_multi_tsz_orig"
   ]
  },
  {
   "cell_type": "code",
   "execution_count": null,
   "id": "c9ea6891",
   "metadata": {
    "hidden": true
   },
   "outputs": [],
   "source": [
    "mx = df_all_multi_tsz.groupby(['subject','trial_index']).size().max()\n",
    "print('Duplication for ES = ',mx)"
   ]
  },
  {
   "cell_type": "code",
   "execution_count": null,
   "id": "9c710fa1",
   "metadata": {
    "hidden": true
   },
   "outputs": [],
   "source": [
    "# info about ES dataset\n",
    "cols_undup = ['subject', 'trial_index', 'error_data_for_calc',\n",
    "       'trial_shift_size', 'trial_group_col_calc', 'time_locked']\n",
    "assert not df_all_multi_tsz.duplicated(cols_undup).any()\n",
    "for col in cols_undup:\n",
    "    if col == 'trial_index':\n",
    "        continue\n",
    "    r = df_all_multi_tsz[col].unique()\n",
    "    if col == 'subject':\n",
    "        r = len(r)\n",
    "    print(col, r)"
   ]
  },
  {
   "cell_type": "code",
   "execution_count": null,
   "id": "f7ef69a7",
   "metadata": {
    "hidden": true
   },
   "outputs": [],
   "source": []
  },
  {
   "cell_type": "markdown",
   "id": "2725a659",
   "metadata": {
    "hidden": true
   },
   "source": [
    "## Process err sens"
   ]
  },
  {
   "cell_type": "code",
   "execution_count": null,
   "id": "bb91ccc9",
   "metadata": {
    "hidden": true
   },
   "outputs": [],
   "source": [
    "[s for s in df_all_multi_tsz.columns if 'nonhit' in s ]"
   ]
  },
  {
   "cell_type": "code",
   "execution_count": null,
   "id": "c7430078",
   "metadata": {
    "hidden": true
   },
   "outputs": [],
   "source": []
  },
  {
   "cell_type": "code",
   "execution_count": null,
   "id": "fed4d2e0",
   "metadata": {
    "hidden": true
   },
   "outputs": [],
   "source": [
    "gc.collect()"
   ]
  },
  {
   "cell_type": "code",
   "execution_count": null,
   "id": "a4203ce5",
   "metadata": {
    "hidden": true,
    "run_control": {
     "marked": false
    }
   },
   "outputs": [],
   "source": [
    "#df_all_multi_tsz = pd.read_pickle(pjoin(d,'es_row=trial.pkl.zip'))\n",
    "\n",
    "coln_pairs = [  ('error_lh2_ang_valid','error_unpert_lh2_ang_valid',\n",
    "                'error_lh2_ang_valid_nonhit','lh2_ang_valid'),\n",
    "                ('error_area2_signed_nn_valid', None,\n",
    "               'error_area2_signed_nn_valid_nonhit',\n",
    "                'signed_area2_nn_valid'),\n",
    "              ('error_lh2_ang','error_unpert_lh2_ang',\n",
    "                'error_lh2_ang_nonhit','lh2_ang'),\n",
    "                ('error_area2_signed_nn', None,\n",
    "               'error_area2_signed_nn_nonhit',\n",
    "                'signed_area2_nn') ]\n",
    "\n",
    "coln = 'err_sens'\n",
    "calc_names = df_all_multi_tsz['error_data_for_calc'].unique()\n",
    "assert set( calc_names ) == set(  [cp[-1] for cp in coln_pairs])"
   ]
  },
  {
   "cell_type": "code",
   "execution_count": null,
   "id": "c4a84105",
   "metadata": {
    "hidden": true
   },
   "outputs": [],
   "source": [
    "df_all_multi_tsz['inv_prev_error'] = 1. / df_all_multi_tsz['prev_error']"
   ]
  },
  {
   "cell_type": "code",
   "execution_count": null,
   "id": "56c40ca3",
   "metadata": {
    "hidden": true
   },
   "outputs": [],
   "source": [
    "numtrain = params['num_training']"
   ]
  },
  {
   "cell_type": "code",
   "execution_count": null,
   "id": "1e05b003",
   "metadata": {
    "hidden": true
   },
   "outputs": [],
   "source": [
    "from behav_proc import qs_motor_var\n",
    "coln = 'is_motor_var_est_trial'\n",
    "df_all_multi_tsz[coln] = False\n",
    "df_all_multi_tsz.loc[df_all_multi_tsz.query(qs_motor_var).index,\n",
    "                     coln] = True\n",
    "\n",
    "df_all_multi_tsz['prev_' + coln] = \\\n",
    "    df_all_multi_tsz.groupby(['subject'] + cols_undup[2:])\\\n",
    "    [coln].shift(1)"
   ]
  },
  {
   "cell_type": "code",
   "execution_count": null,
   "id": "b4df601c",
   "metadata": {
    "hidden": true
   },
   "outputs": [],
   "source": [
    "cols_undup"
   ]
  },
  {
   "cell_type": "code",
   "execution_count": null,
   "id": "5f9d9f90",
   "metadata": {
    "hidden": true
   },
   "outputs": [],
   "source": [
    "df_all_multi_tsz['prev_error_area2_signed_nn'] = \\\n",
    "    df_all_multi_tsz.groupby(['subject'] + cols_undup[2:])['error_area2_signed_nn'].shift(1)"
   ]
  },
  {
   "cell_type": "code",
   "execution_count": null,
   "id": "06cb91b3",
   "metadata": {
    "hidden": true
   },
   "outputs": [],
   "source": [
    "from behav_proc import truncateDf\n",
    "#dfc_multi_tsz = df_all_multi_tsz.loc[inds1.append(inds2)]\n",
    "dfc_multi_tsz = truncateDf(df_all_multi_tsz, \n",
    "        'err_sens', q=None, infnan_handling='discard',\n",
    "        cols_uniqify = cols_undup[2:])"
   ]
  },
  {
   "cell_type": "markdown",
   "id": "75d864af",
   "metadata": {
    "heading_collapsed": true,
    "hidden": true
   },
   "source": [
    "## Truncation"
   ]
  },
  {
   "cell_type": "code",
   "execution_count": null,
   "id": "a3e9795a",
   "metadata": {
    "hidden": true
   },
   "outputs": [],
   "source": [
    "0.07 * 180 / np.pi"
   ]
  },
  {
   "cell_type": "code",
   "execution_count": null,
   "id": "c9f02788",
   "metadata": {
    "hidden": true
   },
   "outputs": [],
   "source": [
    "coln2mvar_std"
   ]
  },
  {
   "cell_type": "code",
   "execution_count": null,
   "id": "033c8e03",
   "metadata": {
    "hidden": true
   },
   "outputs": [],
   "source": [
    "from behav_proc import qs_not_easy0, qs_notspec, spectrials\n",
    "from behav_proc import qs_motor_var, printRejectInfo\n",
    "print(qs_motor_var)\n",
    "numtrain = params['num_training']\n",
    "dfcc_motor_var = dfcc_all.query(qs_motor_var)\n",
    "print(len(dfcc_motor_var))\n",
    "coln2mvar_std = {}\n",
    "for cp in coln_pairs:\n",
    "    coln = cp[0]\n",
    "    #print(coln)\n",
    "    desc = dfcc_motor_var[coln].abs().describe()\n",
    "    display( desc )\n",
    "    std = desc.to_dict()['std']\n",
    "    coln2mvar_std[coln] = std\n",
    "    \n",
    "    if '_ang' in coln:\n",
    "        print( 'std = {:.4f}, in deg = {:.2f}'.\n",
    "              format(std, std * 180 / np.pi) )\n",
    "    else:\n",
    "        print( f'std = {std:.4f}')\n",
    "    printRejectInfo(dfcc_all, coln, std)\n",
    "    printRejectInfo(dfcc_all, coln, std/2)"
   ]
  },
  {
   "cell_type": "code",
   "execution_count": null,
   "id": "4d9786e3",
   "metadata": {
    "hidden": true
   },
   "outputs": [],
   "source": [
    "from behav_proc import qs_motor_var, printRejectInfo\n",
    "tl = 'target'\n",
    "qs_es_ = ('error_data_for_calc == @edfc_'\n",
    "          ' and trial_shift_size == 1 '\n",
    "          ' and trial_group_col_calc == \"trials\"'\n",
    "          ' and time_locked == @tl and trial_index >= @numtrain')\n",
    "\n",
    "#dfcc_motor_var = dfcc_all.query(qs_motor_var)\n",
    "coln2mvar_std_preverr = {}\n",
    "coln2mvar_std_corr = {}\n",
    "for cp in coln_pairs:\n",
    "    coln = cp[0]\n",
    "    edfc_ = cp[-1]\n",
    "    \n",
    "    dfes_ = df_all_multi_tsz.query(qs_es_)\n",
    "    dfes_motor_var = dfes_.query(\n",
    "        'prev_is_motor_var_est_trial == True and ' \n",
    "        'is_motor_var_est_trial == True')\n",
    "    print(len(dfes_motor_var))\n",
    "\n",
    "    print(coln)\n",
    "    desc = dfes_motor_var['prev_error'].abs().describe()\n",
    "    display( desc )\n",
    "    std = desc.to_dict()['std']\n",
    "    coln2mvar_std_preverr[coln] = std\n",
    "    \n",
    "    desc2 = dfes_motor_var['correction'].abs().describe()\n",
    "    display( desc2 )\n",
    "    std2 = desc2.to_dict()['std']\n",
    "    coln2mvar_std_corr[coln] = std2\n",
    "    \n",
    "    if '_ang' in coln:\n",
    "        print( 'std = {:.4f}, in deg = {:.2f}'.\n",
    "              format(std, std * 180 / np.pi) )\n",
    "    else:\n",
    "        print( f'std = {std:.4f}')\n",
    "    printRejectInfo(dfes_, coln, std)\n",
    "    printRejectInfo(dfes_, coln, std/2)\n",
    "    \n",
    "    "
   ]
  },
  {
   "cell_type": "markdown",
   "id": "0286b997",
   "metadata": {
    "heading_collapsed": true,
    "hidden": true
   },
   "source": [
    "### make plots"
   ]
  },
  {
   "cell_type": "code",
   "execution_count": null,
   "id": "e8640422",
   "metadata": {
    "hidden": true
   },
   "outputs": [],
   "source": [
    "from behav_proc import row2multierr, plotTraj3\n",
    "from behav_proc import plotAllTajs, qs_easy1, qs_easy2, qs_easy_wide\n",
    "        \n",
    "plotAllTajs(dfcc_all.query(qs_easy_wide).iloc[:300], dfc_all, params,\n",
    "           traj_to_plot = ['org_feedback'])\n",
    "ax=plt.gca()\n",
    "ax.legend([])"
   ]
  },
  {
   "cell_type": "code",
   "execution_count": null,
   "id": "221a3440",
   "metadata": {
    "hidden": true
   },
   "outputs": [],
   "source": [
    "#df_ = dfcc_motor_var.query('time_tmstart >= 0.55')\n",
    "df_ = dfcc_motor_var.query('time_tmstart >= 0.58')\n",
    "#df_ = dfcc_motor_var.query('time_tmstart >= 0.62')\n",
    "plotAllTajs(df_,\n",
    "            dfc_all,  params, exitpt_col = 'time_tmstart2',\n",
    "           verbose=1)\n",
    "ax=plt.gca()\n",
    "ax.legend([])"
   ]
  },
  {
   "cell_type": "code",
   "execution_count": null,
   "id": "e8331400",
   "metadata": {
    "hidden": true
   },
   "outputs": [],
   "source": [
    "len(dfccos) * .2"
   ]
  },
  {
   "cell_type": "code",
   "execution_count": null,
   "id": "dbb01b1a",
   "metadata": {
    "hidden": true
   },
   "outputs": [],
   "source": [
    "dfccos['subject']"
   ]
  },
  {
   "cell_type": "code",
   "execution_count": null,
   "id": "a7ebc422",
   "metadata": {
    "hidden": true
   },
   "outputs": [],
   "source": [
    "df_ = dfccos.query('error_lh2_ang_deg_abs > 0.4').\\\n",
    "    sample(frac = 0.25)"
   ]
  },
  {
   "cell_type": "code",
   "execution_count": null,
   "id": "c258638f",
   "metadata": {
    "hidden": true
   },
   "outputs": [],
   "source": [
    "pjoin(path)"
   ]
  },
  {
   "cell_type": "code",
   "execution_count": null,
   "id": "6157ceed",
   "metadata": {
    "hidden": true
   },
   "outputs": [],
   "source": [
    "    #nlargest(150,'error_lh2_ang_deg_abs')\n",
    "plotAllTajs(df_,\n",
    "            dfc_all,  params, exitpt_col = 'time_tmstart2',\n",
    "           verbose=0 , traj_to_plot = ['org_feedback'])\n",
    "ax=plt.gca()\n",
    "ax.legend([])\n",
    "ax.set_title(f'{len(df_)} UNperturbed trajectories for subject {subj[-3:]}')\n",
    "\n",
    "plt.savefig(pjoin( path_fig_nf, 'org_feedback.pdf') )"
   ]
  },
  {
   "cell_type": "code",
   "execution_count": null,
   "id": "f5368cef",
   "metadata": {
    "hidden": true
   },
   "outputs": [],
   "source": [
    "plt.figure()\n",
    "plotAllTajs(df_,\n",
    "            dfc_all,  params, exitpt_col = 'time_tmstart2',\n",
    "           verbose=0 , traj_to_plot = ['feedback'])\n",
    "ax=plt.gca()\n",
    "ax.legend([])\n",
    "ax.set_title(f'{len(df_)} perturbed trajectories for subject {subj[-3:]}')\n",
    "\n",
    "plt.savefig(pjoin( path_fig_nf, 'feedback.pdf') )"
   ]
  },
  {
   "cell_type": "code",
   "execution_count": null,
   "id": "f1a996b7",
   "metadata": {
    "hidden": true
   },
   "outputs": [],
   "source": [
    "#for bi in [4,5]:\n",
    "# blue is true\n",
    "for bi in [2, 3,4]:\n",
    "    df_ = dfccos.query('block_ind == @bi')\n",
    "\n",
    "    plt.figure()\n",
    "    plotAllTajs(df_.iloc[:5],\n",
    "                dfc_all,  params, exitpt_col = 'time_tmstart2',\n",
    "               verbose=0 , traj_to_plot = ['org_feedback','feedback'])\n",
    "    ax=plt.gca()\n",
    "    ax.legend([])\n",
    "    pert = df_['perturbation'].values[0]\n",
    "    ax.set_title(f'Block {bi} (N={len(df_)}) block perturbation = {pert}')\n",
    "    ax.set_xlim(-250,250)\n",
    "    plt.savefig(pjoin( path_fig_nf, f'org_and_feedback_bi={bi}.pdf') )"
   ]
  },
  {
   "cell_type": "code",
   "execution_count": null,
   "id": "029d3899",
   "metadata": {
    "hidden": true
   },
   "outputs": [],
   "source": [
    "df"
   ]
  },
  {
   "cell_type": "code",
   "execution_count": null,
   "id": "95118989",
   "metadata": {
    "hidden": true
   },
   "outputs": [],
   "source": [
    "df_[['is_easy_wide','time_lh','time_tmstart_jax1','time_tmstart_jax2', 'time_tmstart2','ang_fb_lh','ang_lh_to_tgt','error_lh2_ang_deg','error_lh_ang_deg']]"
   ]
  },
  {
   "cell_type": "code",
   "execution_count": null,
   "id": "e4a69abb",
   "metadata": {
    "hidden": true
   },
   "outputs": [],
   "source": [
    "df_['time_tmstart2']"
   ]
  },
  {
   "cell_type": "code",
   "execution_count": null,
   "id": "3f3fbd71",
   "metadata": {
    "hidden": true
   },
   "outputs": [],
   "source": [
    "df_ = dfcc_all.query('error_lh2_ang_deg_abs <= 1').\\\n",
    "    nlargest(70,'error_lh2_ang_deg_abs')\n",
    "plotAllTajs(df_,\n",
    "            dfc_all,  params, exitpt_col = 'time_tmstart2',\n",
    "           verbose=1 , traj_to_plot = ['org_feedback'])\n",
    "ax=plt.gca()\n",
    "ax.legend([])"
   ]
  },
  {
   "cell_type": "code",
   "execution_count": null,
   "id": "c7a39457",
   "metadata": {
    "hidden": true
   },
   "outputs": [],
   "source": [
    "from behav_proc import calcAdvErrors"
   ]
  },
  {
   "cell_type": "code",
   "execution_count": null,
   "id": "2d855213",
   "metadata": {
    "hidden": true
   },
   "outputs": [],
   "source": [
    "df_ = dfcc_all.nlargest(18,'error_lh_ang_deg')\n",
    "plotAllTajs(df_,\n",
    "            dfc_all, params,verbose=1, exitpt_col = 'time_lh')\n",
    "ax=plt.gca()\n",
    "ax.legend([])"
   ]
  },
  {
   "cell_type": "code",
   "execution_count": null,
   "id": "929722c3",
   "metadata": {
    "hidden": true
   },
   "outputs": [],
   "source": [
    "df_ = dfcc_motor_var.nlargest(50,'time_tmstart')\n",
    "plotAllTajs(df_,\n",
    "            dfc_all, params,verbose=1, exitpt_col = 'time_tmstart2')\n",
    "ax=plt.gca()\n",
    "ax.legend([])"
   ]
  },
  {
   "cell_type": "code",
   "execution_count": null,
   "id": "0b32ad93",
   "metadata": {
    "hidden": true
   },
   "outputs": [],
   "source": [
    "df_ = dfcc_motor_var.nsmallest(20,'error_lh2_ang_deg')\n",
    "plotAllTajs(df_,\n",
    "            dfc_all, params,verbose=1, exitpt_col = 'time_tmstart2')\n",
    "ax=plt.gca()\n",
    "ax.legend([])"
   ]
  },
  {
   "cell_type": "code",
   "execution_count": null,
   "id": "2df372b6",
   "metadata": {
    "hidden": true
   },
   "outputs": [],
   "source": [
    "df_ = dfcc_motor_var.nsmallest(50,'error_lh2_ang_deg_abs')\n",
    "plotAllTajs(df_,\n",
    "            dfc_all, params, verbose=1, exitpt_col = 'time_tmstart2')\n",
    "ax=plt.gca()\n",
    "ax.legend([])"
   ]
  },
  {
   "cell_type": "code",
   "execution_count": null,
   "id": "55008091",
   "metadata": {
    "hidden": true
   },
   "outputs": [],
   "source": [
    "df_ = dfcc_motor_var.nlargest(20,'error_lh2_ang_deg')\n",
    "plotAllTajs(df_,\n",
    "            dfc_all, params, verbose=1, exitpt_col = 'time_tmstart2')\n",
    "ax=plt.gca()\n",
    "ax.legend([])"
   ]
  },
  {
   "cell_type": "code",
   "execution_count": null,
   "id": "daacf363",
   "metadata": {
    "hidden": true
   },
   "outputs": [],
   "source": [
    "df_ = dfcc_motor_var.nlargest(20,'error_lh_ang_deg')\n",
    "plotAllTajs(df_,\n",
    "            dfc_all, verbose=1)\n",
    "ax=plt.gca()\n",
    "ax.legend([])"
   ]
  },
  {
   "cell_type": "code",
   "execution_count": null,
   "id": "8d061934",
   "metadata": {
    "hidden": true
   },
   "outputs": [],
   "source": [
    "1000 / 120 * 5"
   ]
  },
  {
   "cell_type": "code",
   "execution_count": null,
   "id": "6ae7b88a",
   "metadata": {
    "hidden": true
   },
   "outputs": [],
   "source": [
    "df_ = dfcc_all.nlargest(50,'error_lh_ang_deg')\n",
    "plotAllTajs(df_,\n",
    "            dfc_all, verbose=1)\n",
    "ax=plt.gca()\n",
    "ax.legend([])"
   ]
  },
  {
   "cell_type": "code",
   "execution_count": null,
   "id": "0b1b63b8",
   "metadata": {
    "hidden": true
   },
   "outputs": [],
   "source": [
    "df_ = dfcc_all.nsmallest(50,'error_lh_ang_deg')\n",
    "plotAllTajs(df_,\n",
    "            dfc_all, verbose=1)\n",
    "ax=plt.gca()\n",
    "ax.legend([])"
   ]
  },
  {
   "cell_type": "code",
   "execution_count": null,
   "id": "df14fdb1",
   "metadata": {
    "hidden": true
   },
   "outputs": [],
   "source": [
    "dfcc_all['error_lh2_ang_deg_abs'] = dfcc_all['error_lh2_ang_deg'].abs()"
   ]
  },
  {
   "cell_type": "code",
   "execution_count": null,
   "id": "93e22f2f",
   "metadata": {
    "hidden": true
   },
   "outputs": [],
   "source": [
    "df_ = dfcc_all.nsmallest(30,'error_lh2_ang_deg_abs')\n",
    "plotAllTajs(df_,\n",
    "            dfc_all, params, verbose=1)\n",
    "ax=plt.gca()\n",
    "ax.legend([])"
   ]
  },
  {
   "cell_type": "code",
   "execution_count": null,
   "id": "a6913b58",
   "metadata": {
    "hidden": true
   },
   "outputs": [],
   "source": []
  },
  {
   "cell_type": "code",
   "execution_count": null,
   "id": "863c296d",
   "metadata": {
    "hidden": true,
    "run_control": {
     "marked": false
    }
   },
   "outputs": [],
   "source": [
    "#dftr.plot?"
   ]
  },
  {
   "cell_type": "code",
   "execution_count": null,
   "id": "a1015c17",
   "metadata": {
    "hidden": true
   },
   "outputs": [],
   "source": [
    "dftmp = dfcc_motor_var.nlargest(10,'error_lh_ang_deg').copy()"
   ]
  },
  {
   "cell_type": "code",
   "execution_count": null,
   "id": "2790416e",
   "metadata": {
    "hidden": true
   },
   "outputs": [],
   "source": [
    "df = pd.DataFrame({\n",
    "    'group': ['A', 'A', 'B', 'B', 'B'],\n",
    "    'data': [1, 2, 3, 4, 5]\n",
    "})\n",
    "\n",
    "# group by 'group' column and compute rolling standard deviation\n",
    "df['rolling_std'] = df.groupby('group')['data'].expanding().std().reset_index(drop=True)"
   ]
  },
  {
   "cell_type": "code",
   "execution_count": null,
   "id": "d70607d2",
   "metadata": {
    "hidden": true
   },
   "outputs": [],
   "source": [
    "# def f(dftmp):\n",
    "#     return dftmp['jax1'].expanding().std()\n",
    "# dfc_all['jax1_std'] = dfc_all.groupby(['subject','trial_index']).apply(f)\n",
    "    \n",
    "    \n",
    "\n"
   ]
  },
  {
   "cell_type": "code",
   "execution_count": null,
   "id": "64f87bde",
   "metadata": {
    "hidden": true
   },
   "outputs": [],
   "source": [
    "dftr[['jax1_std','jax2_std']].values.shape"
   ]
  },
  {
   "cell_type": "code",
   "execution_count": null,
   "id": "fb3f8fe7",
   "metadata": {
    "hidden": true
   },
   "outputs": [],
   "source": [
    "from behav_proc import addTrueMvtTime\n",
    "_ = addTrueMvtTime(dfcc_all, dfc_all)\n",
    "gc.collect()"
   ]
  },
  {
   "cell_type": "markdown",
   "id": "9ad21719",
   "metadata": {
    "heading_collapsed": true
   },
   "source": [
    "# trunc stats"
   ]
  },
  {
   "cell_type": "code",
   "execution_count": null,
   "id": "00f7eb9a",
   "metadata": {
    "hidden": true
   },
   "outputs": [],
   "source": [
    "descr = dfcc_motor_var.groupby('subject')['time_tmstart'].describe()\n",
    "descr = descr.rename(columns=dict(zip(descr.columns, [c+'_ot' for c in descr.columns])) )\n",
    "print('Mean over subject of means over trials')\n",
    "descr.describe().drop('count')"
   ]
  },
  {
   "cell_type": "code",
   "execution_count": null,
   "id": "6318751c",
   "metadata": {
    "hidden": true
   },
   "outputs": [],
   "source": [
    "#dfcc_motor_var['ttms1m2'] = (dfcc_motor_var[]'time_tmstart_jax1'] - dfcc_motor_var_['time_tmstart_jax2'])\n",
    "descr = dfcc_motor_var.groupby('subject')['ttms1m2'].describe()\n",
    "descr = descr.rename(columns=dict(zip(descr.columns, [c+'_ot' for c in descr.columns])) )\n",
    "print('Mean over subject of means over trials')\n",
    "descr.describe().drop('count')"
   ]
  },
  {
   "cell_type": "code",
   "execution_count": null,
   "id": "6cf3a3d1",
   "metadata": {
    "hidden": true
   },
   "outputs": [],
   "source": [
    "descr = dfcc_motor_var.groupby('subject')['time_tmstart'].describe()\n",
    "descr = descr.rename(columns=dict(zip(descr.columns, [c+'_ot' for c in descr.columns])) )\n",
    "print('Mean over subject of means over trials')\n",
    "descr.describe().drop('count')"
   ]
  },
  {
   "cell_type": "code",
   "execution_count": null,
   "id": "34355c58",
   "metadata": {
    "hidden": true
   },
   "outputs": [],
   "source": [
    "descr = dfcc_motor_var.groupby('subject')['error_lh2_ang_deg'].describe()\n",
    "descr = descr.rename(columns=dict(zip(descr.columns, [c+'_ot' for c in descr.columns])) )\n",
    "print('Mean over subject of means over trials')\n",
    "dede = descr.describe().drop('count')\n",
    "dede"
   ]
  },
  {
   "cell_type": "code",
   "execution_count": null,
   "id": "4363cb49",
   "metadata": {
    "hidden": true
   },
   "outputs": [],
   "source": [
    "descr = dfcc_motor_var.groupby('subject')['error_lh2_ang_deg_abs'].describe()\n",
    "descr = descr.rename(columns=dict(zip(descr.columns, [c+'_ot' for c in descr.columns])) )\n",
    "print('Mean over subject of means over trials')\n",
    "dedeabs = descr.describe().drop('count')\n",
    "display( dedeabs )\n",
    "\n",
    "mestd = dedeabs.to_dict()['std_ot']['mean']\n",
    "n = (dfcc_all['error_lh2_ang_deg'].abs() < mestd).sum()\n",
    "prop = n / len(dfcc_all)\n",
    "print(f'Mean of stds = {mestd:.2f}, prop = {prop * 100:.1f}%')"
   ]
  },
  {
   "cell_type": "code",
   "execution_count": null,
   "id": "60aac11d",
   "metadata": {
    "hidden": true
   },
   "outputs": [],
   "source": [
    "descr = dfcc_motor_var.query('error_lh2_ang_deg_abs < 1').groupby('subject')['error_lh2_ang_deg_abs'].describe()\n",
    "descr = descr.rename(columns=dict(zip(descr.columns, [c+'_ot' for c in descr.columns])) )\n",
    "print('Mean over subject of means over trials')\n",
    "dedeabs_sm = descr.describe().drop('count')\n",
    "dedeabs_sm"
   ]
  },
  {
   "cell_type": "code",
   "execution_count": null,
   "id": "e2ec087c",
   "metadata": {
    "hidden": true
   },
   "outputs": [],
   "source": [
    "descr = dfcc_motor_var.groupby('subject')['error_area2_signed_nn'].describe()\n",
    "descr = descr.rename(columns=dict(zip(descr.columns, [c+'_ot' for c in descr.columns])) )\n",
    "print('Mean over subject of means over trials')\n",
    "dedeabs = descr.describe().drop('count')\n",
    "display( dedeabs )\n",
    "\n",
    "mestd = dedeabs.to_dict()['std_ot']['mean']\n",
    "n = (dfcc_all['error_area2_signed_nn'].abs() < mestd).sum()\n",
    "prop = n / len(dfcc_all)\n",
    "print(f'Mean of stds = {mestd:.2f}, prop = {prop * 100:.1f}%')"
   ]
  },
  {
   "cell_type": "code",
   "execution_count": null,
   "id": "cbebf5a6",
   "metadata": {
    "hidden": true
   },
   "outputs": [],
   "source": [
    "from behav_proc import printRejectInfo\n",
    "for mestd_ in np.linspace(1e-5, 4, 13):\n",
    "    printRejectInfo(dfcc_all, 'error_lh2_ang_deg', mestd_)\n",
    "    printRejectInfo(dfcc_motor_var, 'error_lh2_ang_deg', mestd_)"
   ]
  },
  {
   "cell_type": "code",
   "execution_count": null,
   "id": "6b1cd9f6",
   "metadata": {
    "hidden": true
   },
   "outputs": [],
   "source": [
    "for mestd_ in np.linspace(1e-5, 2.2, 18):\n",
    "    printRejectInfo(dfcc_all, 'error_area2_signed_nn', mestd_)\n",
    "    #printRejectInfo(dfcc_motor_var, 'error_area2_signed_nn', mestd_)"
   ]
  },
  {
   "cell_type": "code",
   "execution_count": null,
   "id": "c486d308",
   "metadata": {
    "hidden": true
   },
   "outputs": [],
   "source": [
    "thr_ang  = 1.\n",
    "thr_area = 0.4"
   ]
  },
  {
   "cell_type": "code",
   "execution_count": null,
   "id": "8894e229",
   "metadata": {
    "hidden": true
   },
   "outputs": [],
   "source": [
    "calc_names = df_all_multi_tsz['error_data_for_calc'].unique()"
   ]
  },
  {
   "cell_type": "code",
   "execution_count": null,
   "id": "ed936655",
   "metadata": {
    "hidden": true
   },
   "outputs": [],
   "source": [
    "# choose variation for not easy context?"
   ]
  },
  {
   "cell_type": "code",
   "execution_count": null,
   "id": "c110485f",
   "metadata": {
    "hidden": true
   },
   "outputs": [],
   "source": [
    "len( dfcc_motor_var.query('error_lh_ang_deg.abs() > 10') ) / len(dfcc_motor_var)"
   ]
  },
  {
   "cell_type": "code",
   "execution_count": null,
   "id": "af1c40d2",
   "metadata": {
    "hidden": true
   },
   "outputs": [],
   "source": [
    "dfcc_motor_var['error_lh_ang_deg'].idxmax()"
   ]
  },
  {
   "cell_type": "code",
   "execution_count": null,
   "id": "b1c34a64",
   "metadata": {
    "hidden": true
   },
   "outputs": [],
   "source": [
    "subjects"
   ]
  },
  {
   "cell_type": "code",
   "execution_count": null,
   "id": "8b1901c4",
   "metadata": {
    "hidden": true
   },
   "outputs": [],
   "source": []
  },
  {
   "cell_type": "code",
   "execution_count": null,
   "id": "e54d0b6b",
   "metadata": {
    "hidden": true
   },
   "outputs": [],
   "source": [
    "dfcc_motor_var['error_lh_ang_deg'].describe()"
   ]
  },
  {
   "cell_type": "code",
   "execution_count": null,
   "id": "a11d5b86",
   "metadata": {
    "hidden": true
   },
   "outputs": [],
   "source": [
    "zip(['signed_area2_nn', 'lh_ang', 'signed_area2_nn_scaled_ed'],\n",
    "   [None, 2, None ])"
   ]
  },
  {
   "cell_type": "code",
   "execution_count": null,
   "id": "ff7f6580",
   "metadata": {
    "hidden": true
   },
   "outputs": [],
   "source": [
    "printRejectInfo(dfcc_all, 'error_lh2_ang_deg', thr_ang)"
   ]
  },
  {
   "cell_type": "code",
   "execution_count": null,
   "id": "016def71",
   "metadata": {
    "hidden": true
   },
   "outputs": [],
   "source": [
    "dfes = df_all_multi_tsz.query('error_data_for_calc == \"lh_ang\"')\n",
    "from behav_proc import thr_lh_ang_rad as thr_ang\n",
    "inds1 = dfes.query('(prev_error.abs() <= @thr_ang)' ).index\n",
    "\n",
    "dfes = df_all_multi_tsz.query('error_data_for_calc == \"signed_area2_nn_scaled_ed\"')\n",
    "from behav_proc import thr_signed_area2_nn_scaled_ed as thr_area\n",
    "inds2 = dfes.query('(prev_error >= @thr_area) or (prev_error <= -@thr_area)' ).index"
   ]
  },
  {
   "cell_type": "code",
   "execution_count": null,
   "id": "d97747e5",
   "metadata": {
    "hidden": true
   },
   "outputs": [],
   "source": [
    "len(df_all_multi_tsz)"
   ]
  },
  {
   "cell_type": "code",
   "execution_count": null,
   "id": "5324e555",
   "metadata": {
    "hidden": true
   },
   "outputs": [],
   "source": []
  },
  {
   "cell_type": "markdown",
   "id": "bd9f01ef",
   "metadata": {
    "heading_collapsed": true,
    "hidden": true
   },
   "source": [
    "## pairplots"
   ]
  },
  {
   "cell_type": "code",
   "execution_count": null,
   "id": "ed5bb851",
   "metadata": {
    "hidden": true
   },
   "outputs": [],
   "source": [
    "dfcc_motor_var.hist(column=['error_lh2_ang_deg','error_lh_ang_deg'],\n",
    "                    bins=30, sharex=0)"
   ]
  },
  {
   "cell_type": "code",
   "execution_count": null,
   "id": "6f3cda96",
   "metadata": {
    "hidden": true
   },
   "outputs": [],
   "source": [
    "sns.pairplot(data=dfcc_motor_var_, x_vars=['time_lh'],\n",
    "            y_vars=['ttms1m2'], hue='subject')"
   ]
  },
  {
   "cell_type": "code",
   "execution_count": null,
   "id": "2e529e94",
   "metadata": {
    "hidden": true
   },
   "outputs": [],
   "source": [
    "dfcc_all['tmstart_after_lh'] = dfcc_all['time_tmstart'] - dfcc_all['time_lh']"
   ]
  },
  {
   "cell_type": "code",
   "execution_count": null,
   "id": "7898ebd0",
   "metadata": {
    "hidden": true
   },
   "outputs": [],
   "source": [
    "dfcc_all['tmstart_after_lh']"
   ]
  },
  {
   "cell_type": "code",
   "execution_count": null,
   "id": "d1c51c0b",
   "metadata": {
    "hidden": true
   },
   "outputs": [],
   "source": [
    "dfcc_all.groupby('subject')['tmstart_after_lh'].mean().nlargest(5)"
   ]
  },
  {
   "cell_type": "code",
   "execution_count": null,
   "id": "7a72402b",
   "metadata": {
    "hidden": true
   },
   "outputs": [],
   "source": []
  },
  {
   "cell_type": "code",
   "execution_count": null,
   "id": "0b8cbb73",
   "metadata": {
    "hidden": true
   },
   "outputs": [],
   "source": [
    "sns.pairplot(data=dfcc_all, vars=['subject','tmstart_after_lh'], corner=True )"
   ]
  },
  {
   "cell_type": "code",
   "execution_count": null,
   "id": "01bb794c",
   "metadata": {
    "hidden": true
   },
   "outputs": [],
   "source": [
    "sns.pairplot(data=dfcc_all, vars=['subject_ind','time_lh','time_tmstart',\n",
    "            'ttms1m2','tmstart_after_lh','error_lh_ang_deg','error_lh2_ang_deg'], corner=True )"
   ]
  },
  {
   "cell_type": "code",
   "execution_count": null,
   "id": "353ae1c1",
   "metadata": {
    "hidden": true
   },
   "outputs": [],
   "source": [
    "sns.pairplot(data=dfcc_motor_var, x_vars=['subject','time_lh','time_tmstart_jax1','time_tmstart_jax2','error_lh_ang_deg'],\n",
    "            y_vars=['ttms1m2','time_lh','time_tmstart_jax1','time_tmstart_jax2','ttms1m2'])"
   ]
  },
  {
   "cell_type": "code",
   "execution_count": null,
   "id": "c15e2d61",
   "metadata": {
    "hidden": true
   },
   "outputs": [],
   "source": [
    "100 * len(dfc_multi_tsz) / len(df_all_multi_tsz)"
   ]
  },
  {
   "cell_type": "code",
   "execution_count": null,
   "id": "b0d944eb",
   "metadata": {
    "hidden": true
   },
   "outputs": [],
   "source": [
    "gc.collect()"
   ]
  },
  {
   "cell_type": "markdown",
   "id": "d18943fb",
   "metadata": {
    "hidden": true
   },
   "source": [
    "### basic plots"
   ]
  },
  {
   "cell_type": "code",
   "execution_count": null,
   "id": "c95f8059",
   "metadata": {
    "hidden": true
   },
   "outputs": [],
   "source": [
    "for cn in calc_names:\n",
    "    dfc_ = dfc_multi_tsz.query('trial_shift_size == 1 and error_data_for_calc == @cn')\n",
    "    plt.figure(figsize=(12,3))\n",
    "    #dfc_ = df_all_multi_tsz.query('trial_shift_size == 1')\n",
    "    ax = sns.lineplot(x=\"trials\", y='err_sens',data=dfc_,  estimator='mean', \n",
    "                      errorbar='se',\n",
    "                     hue = 'trial_group_col_calc')#, hue='block')\n",
    "    ax.axhline(y=0, c='red', ls=':')\n",
    "    ax.legend(loc='lower right')\n",
    "    ax.set_title(cn)"
   ]
  },
  {
   "cell_type": "code",
   "execution_count": null,
   "id": "f6d0c70e",
   "metadata": {
    "hidden": true
   },
   "outputs": [],
   "source": [
    "dfone = df_all.query('subject == @subjects_[0]')\n",
    "yname = coln_pairs[0][0]\n",
    "\n",
    "ebarg = ''\n",
    "ax = sns.lineplot(x=\"trials\", y=yname,data=dfone,  estimator='mean', errorbar='se')#, hue='block')\n",
    "ax.axhline(0,ls=':',c='red')\n",
    "ax.plot(dfone['trials'].to_numpy(), dfone['perturbation'].to_numpy(), ls=':',c='y')\n"
   ]
  },
  {
   "cell_type": "markdown",
   "id": "fc559cfa",
   "metadata": {
    "hidden": true
   },
   "source": [
    "##### violin plots"
   ]
  },
  {
   "cell_type": "code",
   "execution_count": null,
   "id": "2769a4a5",
   "metadata": {
    "hidden": true
   },
   "outputs": [],
   "source": [
    "fg = sns.catplot(kind='violin', data=dfcc_all,\n",
    "                 y='error_area2_signed_nn_scaled_ed',                                   \n",
    "                 x='perturbation', hue='trial_type', \n",
    "                 col = 'special_block_type',\n",
    "                 figsize=(4,3))\n",
    "for ax in fg.axes.flatten():\n",
    "    #ax.set_ylim(-1e5,1e5)\n",
    "    ax.axhline(0,c='r',ls=':')"
   ]
  },
  {
   "cell_type": "code",
   "execution_count": null,
   "id": "72d7dbcf",
   "metadata": {
    "hidden": true
   },
   "outputs": [],
   "source": [
    "fg = sns.catplot(kind='violin', data=dfcc_all,\n",
    "                 y='error_lh_ang',                                   \n",
    "                 x='perturbation', hue='trial_type', \n",
    "                 col = 'special_block_type',\n",
    "                 figsize=(4,3))\n",
    "for ax in fg.axes.flatten():\n",
    "    ax.set_ylim(-100,100)\n",
    "    ax.axhline(0,c='r',ls=':')"
   ]
  },
  {
   "cell_type": "code",
   "execution_count": null,
   "id": "6367ee87",
   "metadata": {
    "hidden": true
   },
   "outputs": [],
   "source": [
    "#dfc_.groupby(['subject', 'trial_index']).size()"
   ]
  },
  {
   "cell_type": "code",
   "execution_count": null,
   "id": "ea877725",
   "metadata": {
    "hidden": true
   },
   "outputs": [],
   "source": [
    "#for cn in calc_names:\n",
    "for df_to_plot in [dfc_multi_tsz]: #, df_all_multi_tsz]:\n",
    "    dfc_ = df_to_plot.query('trial_shift_size == 1 and trial_group_col_calc == \"trials\" and '\n",
    "                            ' trial_type != \"error_clamp\" and '\n",
    "                           ' special_block_type != \"error_clamp_sandwich\"')  \n",
    "    # error_data_for_calc = @cn\n",
    "    assert dfc_.groupby(['subject', 'trial_index']).size().max() == 3\n",
    "    print(len(dfc_))\n",
    "    #plt.figure(figsize=(6,3))\n",
    "    #dfc_ = df_all_multi_tsz.query('trial_shift_size == 1')\n",
    "    fg = sns.catplot(kind='violin', data=dfc_,\n",
    "                     y='err_sens', col = 'error_data_for_calc',                                   \n",
    "                     x='perturbation', figsize=(6,3))\n",
    "    #x = 'dist_rad_from_prevtgt2',\n",
    "    for ax in fg.axes.flatten():\n",
    "        ax.set_ylim(-7,7)\n",
    "        ax.axhline(0,c='r',ls=':')\n",
    "        #ax.set_title(cn)"
   ]
  },
  {
   "cell_type": "code",
   "execution_count": null,
   "id": "a7f8affa",
   "metadata": {
    "hidden": true
   },
   "outputs": [],
   "source": [
    "#for cn in calc_names:\n",
    "for df_to_plot in [dfc_multi_tsz]: #, df_all_multi_tsz]:\n",
    "    dfc_ = df_to_plot.query('trial_shift_size == 1 and trial_group_col_calc == \"trials\" and '\n",
    "                            ' trial_type != \"error_clamp\" and '\n",
    "                           ' special_block_type != \"error_clamp_sandwich\"')  \n",
    "    # error_data_for_calc = @cn\n",
    "    assert dfc_.groupby(['subject', 'trial_index']).size().max() == 3\n",
    "    print(len(dfc_))\n",
    "    #plt.figure(figsize=(6,3))\n",
    "    #dfc_ = df_all_multi_tsz.query('trial_shift_size == 1')\n",
    "    fg = sns.catplot(kind='violin', data=dfc_,\n",
    "                     y='err_sens', col = 'error_data_for_calc',                                   \n",
    "                     x='perturbation', row='subject', figsize=(6,3))\n",
    "    #x = 'dist_rad_from_prevtgt2',\n",
    "    for ax in fg.axes.flatten():\n",
    "        ax.set_ylim(-7,7)\n",
    "        ax.axhline(0,c='r',ls=':')\n",
    "        #ax.set_title(cn)"
   ]
  },
  {
   "cell_type": "code",
   "execution_count": null,
   "id": "ebee17dd",
   "metadata": {
    "hidden": true
   },
   "outputs": [],
   "source": [
    "#for cn in calc_names:\n",
    "for df_to_plot in [dfc_multi_tsz]: #, df_all_multi_tsz]:\n",
    "    dfc_ = df_to_plot.query('trial_shift_size == 1 and trial_group_col_calc == \"trials\" and '\n",
    "                            ' trial_type != \"error_clamp\" and '\n",
    "                           ' special_block_type != \"error_clamp_sandwich\"')  \n",
    "    # error_data_for_calc = @cn\n",
    "    assert dfc_.groupby(['subject', 'trial_index']).size().max() == 3\n",
    "    print(len(dfc_))\n",
    "    #plt.figure(figsize=(6,3))\n",
    "    #dfc_ = df_all_multi_tsz.query('trial_shift_size == 1')\n",
    "    fg = sns.catplot(kind='violin', data=dfc_,\n",
    "                     y='err_sens', col = 'error_data_for_calc',                                   \n",
    "                     x='perturbation', row='tgti_to_show', figsize=(6,3))\n",
    "    #x = 'dist_rad_from_prevtgt2',\n",
    "    for ax in fg.axes.flatten():\n",
    "        ax.set_ylim(-7,7)\n",
    "        ax.axhline(0,c='r',ls=':')\n",
    "        #ax.set_title(cn)"
   ]
  },
  {
   "cell_type": "code",
   "execution_count": null,
   "id": "2ab259c8",
   "metadata": {
    "code_folding": [
     12,
     19,
     39,
     44
    ],
    "hidden": true,
    "run_control": {
     "marked": false
    }
   },
   "outputs": [],
   "source": [
    "# all subj separately\n",
    "subj = subjects[0]\n",
    "df_to_plot = df_all_multi_tsz\n",
    "\n",
    "ynames_add = ['error_endpoint_ang', 'jax2']\n",
    "ynames_every = ['err_sens', 'correction']\n",
    "\n",
    "titest = 18\n",
    "ww = 12; hh = 2\n",
    "nr = len(calc_names) * (len(ynames_every) + 2) + len(ynames_add);\n",
    "nc = 1\n",
    "fig, axs = plt.subplots(nr,nc, figsize=(nc*ww,nr*hh))\n",
    "axs = axs.reshape((nr,nc))\n",
    "def fplot(ax, dfc_, yn):\n",
    "    ax = sns.lineplot(x=\"trials\", y=yn, data=dfc_,  estimator='mean', \n",
    "                      errorbar='se',hue = 'trial_group_col_calc', ax=ax)#, hue='block')\n",
    "    ax.axhline(y=0, c='red', ls=':')\n",
    "    ax.legend(loc='lower right')\n",
    "\n",
    "axi = 0\n",
    "for cni, cn in enumerate(calc_names):\n",
    "    #df_all_multi_tsz\n",
    "    #df_to_plot = dfc_multi_tsz    \n",
    "    dfc_ = df_to_plot.query('trial_shift_size == 1 and trial_group_col_calc == \"trials\" '\n",
    "            'and error_data_for_calc == @cn and trial_index < @titest and subject == @subj')        \n",
    "    for yn in ynames_every:\n",
    "        ax = axs[axi, 0 ]\n",
    "        fplot(ax, dfc_, yn)\n",
    "        ax.set_ylabel(f'{yn}: {cn}')\n",
    "        ax.set_title(f'{yn}: {cn}')\n",
    "        axi += 1\n",
    "        \n",
    "    for ii in range(2):\n",
    "        ax = axs[axi, 0 ]\n",
    "        yn = coln_pairs[cni][ii]\n",
    "        fplot(ax, dfc_, yn)\n",
    "        ax.set_title(f'{yn}: {cn}')\n",
    "        axi += 1\n",
    "        \n",
    "    \n",
    "for yn in ynames_add:\n",
    "    ax = axs[axi, 0]\n",
    "    fplot(ax, dfc_, yn)\n",
    "    axi += 1\n",
    "\n",
    "for ax in axs.flatten():\n",
    "    ax.set_xlim(0,titest)\n",
    "    #dfc_ = df_all_multi_tsz.query('trial_shift_size == 1')\n",
    "    \n",
    "plt.tight_layout()\n"
   ]
  },
  {
   "cell_type": "code",
   "execution_count": null,
   "id": "dedc19b8",
   "metadata": {
    "hidden": true,
    "run_control": {
     "marked": false
    }
   },
   "outputs": [],
   "source": [
    "import gc; gc.collect()"
   ]
  },
  {
   "cell_type": "markdown",
   "id": "9250ef65",
   "metadata": {
    "hidden": true
   },
   "source": []
  },
  {
   "cell_type": "markdown",
   "id": "36e3c5b6",
   "metadata": {
    "heading_collapsed": true,
    "hidden": true
   },
   "source": [
    "##### REST and  move prep anomalise"
   ]
  },
  {
   "cell_type": "code",
   "execution_count": null,
   "id": "1dd3d8d6",
   "metadata": {
    "hidden": true
   },
   "outputs": [],
   "source": [
    "tis_cur = tis[10:30]\n",
    "tis_cur = tis[10:11]\n",
    "dfr = dfc_all.query('subject == @subjects[0] and trial_index in @tis_cur')"
   ]
  },
  {
   "cell_type": "code",
   "execution_count": null,
   "id": "23d8ace2",
   "metadata": {
    "hidden": true
   },
   "outputs": [],
   "source": [
    "dfr = dfr.sort_values('time')"
   ]
  },
  {
   "cell_type": "code",
   "execution_count": null,
   "id": "2d6627ed",
   "metadata": {
    "hidden": true
   },
   "outputs": [],
   "source": []
  },
  {
   "cell_type": "code",
   "execution_count": null,
   "id": "865e7cd9",
   "metadata": {
    "hidden": true
   },
   "outputs": [],
   "source": [
    "dfr.shift"
   ]
  },
  {
   "cell_type": "code",
   "execution_count": null,
   "id": "750d7e3b",
   "metadata": {
    "hidden": true
   },
   "outputs": [],
   "source": []
  },
  {
   "cell_type": "code",
   "execution_count": null,
   "id": "db0d879b",
   "metadata": {
    "hidden": true
   },
   "outputs": [],
   "source": [
    "dfccos['time_mvt'] = -100"
   ]
  },
  {
   "cell_type": "code",
   "execution_count": null,
   "id": "103f70a6",
   "metadata": {
    "hidden": true
   },
   "outputs": [],
   "source": [
    "#dfccos = dfccos.copy()"
   ]
  },
  {
   "cell_type": "code",
   "execution_count": null,
   "id": "8be25a7a",
   "metadata": {
    "hidden": true
   },
   "outputs": [],
   "source": [
    "inds"
   ]
  },
  {
   "cell_type": "code",
   "execution_count": null,
   "id": "21fa463e",
   "metadata": {
    "hidden": true
   },
   "outputs": [],
   "source": [
    "dfccos.query()"
   ]
  },
  {
   "cell_type": "code",
   "execution_count": null,
   "id": "f80f1642",
   "metadata": {
    "hidden": true
   },
   "outputs": [],
   "source": [
    "#dfccos_hit = dfccos[~dfccos['nonhit'] ]\n",
    "#for ti in tis:\n"
   ]
  },
  {
   "cell_type": "code",
   "execution_count": null,
   "id": "eae16e72",
   "metadata": {
    "hidden": true
   },
   "outputs": [],
   "source": [
    "dfccos['time_mvt']"
   ]
  },
  {
   "cell_type": "code",
   "execution_count": null,
   "id": "51c67fca",
   "metadata": {
    "hidden": true
   },
   "outputs": [],
   "source": [
    "#nfs.describe()"
   ]
  },
  {
   "cell_type": "code",
   "execution_count": null,
   "id": "20578726",
   "metadata": {
    "hidden": true
   },
   "outputs": [],
   "source": [
    "nf1  = float( params['time_at_home'] ) * float(params['FPS'] )\n",
    "nf2 = float( params['motor_prep_duration'] ) * float(params['FPS'] )\n",
    "print(nf1,nf2)"
   ]
  },
  {
   "cell_type": "code",
   "execution_count": null,
   "id": "c86da522",
   "metadata": {
    "hidden": true
   },
   "outputs": [],
   "source": [
    "triggs"
   ]
  },
  {
   "cell_type": "code",
   "execution_count": null,
   "id": "cb98f406",
   "metadata": {
    "hidden": true
   },
   "outputs": [],
   "source": [
    "nf1 * 1.5"
   ]
  },
  {
   "cell_type": "code",
   "execution_count": null,
   "id": "0e6f0841",
   "metadata": {
    "hidden": true
   },
   "outputs": [],
   "source": [
    "subj2nt = df_unproc[['subject','trial_index']].groupby('subject').nunique()\n",
    "subj2nt = subj2nt.to_dict('index')\n",
    "#{'2023-SE1-001': {'trial_index': 637},\n",
    "# '2023-SE1-002': {'trial_index': 636},"
   ]
  },
  {
   "cell_type": "code",
   "execution_count": null,
   "id": "fff65dee",
   "metadata": {
    "hidden": true
   },
   "outputs": [],
   "source": [
    "subj2nt"
   ]
  },
  {
   "cell_type": "code",
   "execution_count": null,
   "id": "08f77aca",
   "metadata": {
    "hidden": true
   },
   "outputs": [],
   "source": [
    "subj2qv"
   ]
  },
  {
   "cell_type": "code",
   "execution_count": null,
   "id": "0bf3a83c",
   "metadata": {
    "hidden": true
   },
   "outputs": [],
   "source": [
    "subj2qv"
   ]
  },
  {
   "cell_type": "code",
   "execution_count": null,
   "id": "45356126",
   "metadata": {
    "hidden": true
   },
   "outputs": [],
   "source": [
    "for phase in ['REST', 'GO_CUE_WAIT_AND_SHOW']:\n",
    "    print(phase)\n",
    "    phases = [phase]\n",
    "    triggs = [phase2trigger[ph] for ph in phases]\n",
    "    df0 = df_unproc.query('current_phase_trigger in @triggs')\n",
    "    \n",
    "    nfs = df0.groupby(['subject','trial_index']).size().\\\n",
    "        reset_index().rename(columns={0:'numframes'})\n",
    "    \n",
    "    \n",
    "    dftmp = nfs.groupby('subject')['numframes'].quantile(0.75).reset_index().set_index('subject')\n",
    "    subj2qv = dftmp.to_dict('index')\n",
    "    print(subj2qv)\n",
    "    \n",
    "    def f(row):\n",
    "        qv = subj2qv[row['subject']]['numframes']\n",
    "        return row['numframes'] > qv\n",
    "    nfs['bad'] = nfs.apply(f,1)\n",
    "    nfs\n",
    "    \n",
    "    display( nfs.describe() )\n",
    "    \n",
    "    #qv = nfs['numframes'].quantile(0.5)\n",
    "    #qv = nf1 * 1.5\n",
    "    nfs_bad = nfs[nfs['bad']]\n",
    "    \n",
    "    grp = nfs_bad[['subject','trial_index']].groupby('subject')\n",
    "    display(grp.size())\n",
    "    \n",
    "    plt.figure()\n",
    "    sns.lineplot(nfs, x='trial_index', y ='numframes')"
   ]
  },
  {
   "cell_type": "code",
   "execution_count": null,
   "id": "041ebce0",
   "metadata": {
    "hidden": true
   },
   "outputs": [],
   "source": [
    "for phase in ['REST', 'GO_CUE_WAIT_AND_SHOW'][1:]:\n",
    "    print(phase)\n",
    "    phases = [phase]\n",
    "    triggs = [phase2trigger[ph] for ph in phases]\n",
    "    df0 = df_unproc.query('current_phase_trigger in @triggs')\n",
    "    \n",
    "    nfs = df0.groupby(['subject','trial_index']).size().\\\n",
    "        reset_index().rename(columns={0:'numframes'})\n",
    "    sns.lineplot(nfs.query('subject == @subjects[0]'), x='trial_index', y ='numframes')"
   ]
  },
  {
   "cell_type": "code",
   "execution_count": null,
   "id": "fc032952",
   "metadata": {
    "hidden": true
   },
   "outputs": [],
   "source": [
    "#nfs_bad.query('sub')\n"
   ]
  },
  {
   "cell_type": "markdown",
   "id": "ef61ffaf",
   "metadata": {
    "hidden": true
   },
   "source": [
    "##### plot time resolved with pert and blocks"
   ]
  },
  {
   "cell_type": "code",
   "execution_count": null,
   "id": "f0b88d6f",
   "metadata": {
    "hidden": true
   },
   "outputs": [],
   "source": [
    "(dfc_multi_tsz['trial_type'] == 'error_clamp').sum()"
   ]
  },
  {
   "cell_type": "code",
   "execution_count": null,
   "id": "571d6c63",
   "metadata": {
    "hidden": true
   },
   "outputs": [],
   "source": [
    "from config2 import path_fig"
   ]
  },
  {
   "cell_type": "code",
   "execution_count": null,
   "id": "f0770173",
   "metadata": {
    "hidden": true
   },
   "outputs": [],
   "source": [
    "#subj = subjects[1]\n",
    "dfr_all = []\n",
    "for subj in subjects:\n",
    "\n",
    "    #df_to_plot = df_all_multi_tsz\n",
    "    df_to_plot = dfc_multi_tsz\n",
    "\n",
    "    #' and special_block_type != \"error_clamp_sandwich\"'\n",
    "    qs0 = ('trial_shift_size == 1 and trial_group_col_calc == \"trials\"'\n",
    "           ' and trial_type != \"error_clamp0\"'                      \n",
    "                f' and subject == \"{subj}\"')\n",
    "    #dfc0_ = df_to_plot.query(qs0) \n",
    "    r = []\n",
    "    for cni, cn in enumerate(calc_names):\n",
    "        #df_all_multi_tsz\n",
    "        #df_to_plot = dfc_multi_tsz            \n",
    "        qs = qs0 + f' and error_data_for_calc == \"{cn}\" '\n",
    "        dfc_ = df_to_plot.query(qs)\n",
    "\n",
    "        print(len(dfc_))\n",
    "\n",
    "        dfc_ = dfc_.set_index('trials')\n",
    "        if cni != 0:\n",
    "            dfc_ = dfc_[['err_sens','correction']]\n",
    "        dfc_ = dfc_.rename(columns={'err_sens': f'err_sens:{cn}', 'correction': f'correction:{cn}'})\n",
    "        r += [ dfc_]\n",
    "\n",
    "    #[dfc0_.drop(labels=['err_sens','correction'], axis=1)]\n",
    "    dfr0 = pd.concat( r, axis=1)\n",
    "    print(len(dfr0))\n",
    "\n",
    "    dfr0 = dfr0.reset_index()\n",
    "    \n",
    "    print( 'num nans = ', dfr0['trial_index'].isna().sum() )\n",
    "    dfr = dfr0[~dfr0['trial_index'].isna() ] \n",
    "\n",
    "    dfr_all += [dfr]\n",
    "    #dfr['block_ind']\n",
    "    #dfr.query('trial_type != \"error_clamp\"').groupby('block_ind')\n",
    "    #coln_pairs\n",
    "\n",
    "    ynames = []\n",
    "    for yn1, yn2, nh, cn in coln_pairs:\n",
    "        ynames += [f'err_sens:{cn}', f'correction:{cn}', yn1, yn2]\n",
    "    ynames += ['error_endpoint_ang']\n",
    "    print(ynames)\n",
    "\n",
    "    #assert len(dfc_) == len(dfr), (len(dfc_), len(dfr))\n",
    "    #dfr[['trial_index','err_sens:signed_area','err_sens:lh_ang']]\n",
    "    dfcpcos_, dfcos_ = dfcpc_all.query('subject == @subj'), dfc_all.query('subject == @subj')\n",
    "\n",
    "    assert 0 == sum( dfr['trial_index'].duplicated() )\n",
    "\n",
    "    xlim = 0,150\n",
    "    # dfc_ = dfr.query('trial_shift_size == 1 and trial_group_col_calc == \"trials\" '\n",
    "    #         'and error_data_for_calc == @cn and trial_index < @xlim[1] and subject == @subj')\n",
    "    dfr_ = dfr.query('trial_index < @xlim[1]')\n",
    "\n",
    "    from behav_proc import multiplot\n",
    "    #['err_sens', 'correction']\n",
    "    multiplot(dfr_, dfcpcos_, dfcos_, ynames, start_ind=0, xlim = xlim , ww=14, hh=1.5,\n",
    "             show_titles = True)\n",
    "    plt.tight_layout()\n",
    "    #plt.savefig( pjoin(path_fig, f'{subj}_{\",\".join(ynames)}.pdf' ) )\n",
    "    plt.savefig( pjoin(path_fig, f'{subj}_nr={len(ynames)}_xlim={xlim}.pdf' ) )\n",
    "    plt.close()\n",
    "    \n",
    "dfr_all = pd.concat(dfr_all).reset_index()"
   ]
  },
  {
   "cell_type": "code",
   "execution_count": null,
   "id": "f826518e",
   "metadata": {
    "hidden": true
   },
   "outputs": [],
   "source": [
    "dfr['trial_index'].isna().sum()"
   ]
  },
  {
   "cell_type": "code",
   "execution_count": null,
   "id": "403bbf59",
   "metadata": {
    "hidden": true
   },
   "outputs": [],
   "source": [
    "print( dfr['trial_index'].isna().sum() )\n",
    "print( dfr_all['trial_index'].isna().sum() )\n",
    "dfr_all = dfr_all[~dfr_all['trial_index'].isna() ] "
   ]
  },
  {
   "cell_type": "code",
   "execution_count": null,
   "id": "b2b7351e",
   "metadata": {
    "hidden": true
   },
   "outputs": [],
   "source": [
    "#dfr_all['subject']"
   ]
  },
  {
   "cell_type": "code",
   "execution_count": null,
   "id": "2aaf82ac",
   "metadata": {
    "hidden": true
   },
   "outputs": [],
   "source": [
    "subjects = list(sorted(subjects))"
   ]
  },
  {
   "cell_type": "code",
   "execution_count": null,
   "id": "e90b6c4b",
   "metadata": {
    "hidden": true
   },
   "outputs": [],
   "source": [
    "subjects_subset"
   ]
  },
  {
   "cell_type": "code",
   "execution_count": null,
   "id": "bf1443a9",
   "metadata": {
    "hidden": true
   },
   "outputs": [],
   "source": [
    "sns.lineplot(dfcc, x='trial_index', y ='feedback_abs')"
   ]
  },
  {
   "cell_type": "code",
   "execution_count": null,
   "id": "4146f1f5",
   "metadata": {
    "hidden": true
   },
   "outputs": [],
   "source": [
    "sns.lineplot(dfcc, x='trial_index', y ='feedback')"
   ]
  },
  {
   "cell_type": "code",
   "execution_count": null,
   "id": "560083d0",
   "metadata": {
    "hidden": true
   },
   "outputs": [],
   "source": [
    "dfcc['error_intdist']"
   ]
  },
  {
   "cell_type": "code",
   "execution_count": null,
   "id": "8fa2f020",
   "metadata": {
    "hidden": true
   },
   "outputs": [],
   "source": [
    "dfcc.columns"
   ]
  },
  {
   "cell_type": "code",
   "execution_count": null,
   "id": "85b53b82",
   "metadata": {
    "hidden": true
   },
   "outputs": [],
   "source": []
  },
  {
   "cell_type": "markdown",
   "id": "ef439530",
   "metadata": {
    "heading_collapsed": true
   },
   "source": [
    "# error plots"
   ]
  },
  {
   "cell_type": "code",
   "execution_count": null,
   "id": "d3b685bc",
   "metadata": {
    "hidden": true
   },
   "outputs": [],
   "source": [
    "# TODO maybe I should set error to nan for pause trials"
   ]
  },
  {
   "cell_type": "code",
   "execution_count": null,
   "id": "d4704106",
   "metadata": {
    "hidden": true,
    "run_control": {
     "marked": true
    }
   },
   "outputs": [],
   "source": [
    "#pause_inds = dfcpcos['trial_index'].to_numpy()\n",
    "pause_inds = dfcpcos['trial_index'].unique()\n",
    "block_ends = dfcos.groupby(['block_ind'])['trial_index'].max()"
   ]
  },
  {
   "cell_type": "code",
   "execution_count": null,
   "id": "f05c2809",
   "metadata": {
    "hidden": true
   },
   "outputs": [],
   "source": [
    "dfccos  = dfcc_all.query('subject == @subj').copy()"
   ]
  },
  {
   "cell_type": "code",
   "execution_count": null,
   "id": "18db8c17",
   "metadata": {
    "hidden": true
   },
   "outputs": [],
   "source": [
    "dfccos['error_lh_ang_deg'] = dfccos['error_lh_ang'] * 180 / np.pi"
   ]
  },
  {
   "cell_type": "code",
   "execution_count": null,
   "id": "9625f0ab",
   "metadata": {
    "hidden": true
   },
   "outputs": [],
   "source": [
    "numtrain = params['num_training']"
   ]
  },
  {
   "cell_type": "code",
   "execution_count": null,
   "id": "0f78a85f",
   "metadata": {
    "hidden": true
   },
   "outputs": [],
   "source": [
    "from nf_poster_plots import *\n",
    "locs = oneSubjErrDyn(dfccos, pause_inds, subj=subj)\n",
    "#axs= locs['axs']\n",
    "plt.close()"
   ]
  },
  {
   "cell_type": "markdown",
   "id": "a870c907",
   "metadata": {
    "heading_collapsed": true
   },
   "source": [
    "# summary one remnants"
   ]
  },
  {
   "cell_type": "code",
   "execution_count": null,
   "id": "9b05e4b2",
   "metadata": {
    "hidden": true
   },
   "outputs": [],
   "source": [
    "pause_inds = np.array(pause_inds)\n",
    "dfccos['pause_rel'] = -100\n",
    "dfccos.loc[dfccos['trial_index'].isin(pause_inds-1), 'pause_rel'] = -1\n",
    "dfccos.loc[dfccos['trial_index'].isin(pause_inds+1), 'pause_rel'] = 1\n",
    "# for pi in pause_inds:\n",
    "#     piprev=  pi -1\n",
    "#     pinext=  pi +1\n",
    "#     df_ = dfccos.query('trial_index == @piprev')\n"
   ]
  },
  {
   "cell_type": "code",
   "execution_count": null,
   "id": "0bde1e33",
   "metadata": {
    "hidden": true
   },
   "outputs": [],
   "source": [
    "#df_['pause_rel']"
   ]
  },
  {
   "cell_type": "code",
   "execution_count": null,
   "id": "9fe4418d",
   "metadata": {
    "hidden": true
   },
   "outputs": [],
   "source": [
    "num_coupled_EC = \\\n",
    "    np.sum( dfccos.query(\"trial_type == 'error_clamp'\")['trial_index'].diff() == 1 )\n",
    "print(f'num_coupled_EC = {num_coupled_EC}')"
   ]
  },
  {
   "cell_type": "code",
   "execution_count": null,
   "id": "7c439ecb",
   "metadata": {
    "hidden": true
   },
   "outputs": [],
   "source": [
    "len(block_starts), len(block_ends)"
   ]
  },
  {
   "cell_type": "code",
   "execution_count": null,
   "id": "a39b6390",
   "metadata": {
    "hidden": true
   },
   "outputs": [],
   "source": []
  },
  {
   "cell_type": "code",
   "execution_count": null,
   "id": "68bbcb84",
   "metadata": {
    "hidden": true
   },
   "outputs": [],
   "source": [
    "\n",
    "\n",
    "block_starts = grp['trial_index'].min()\n",
    "block_starts = block_starts.to_dict()\n",
    "\n",
    "block_ends = grp['trial_index'].max()\n",
    "block_ends = block_ends.to_dict()\n",
    "\n",
    "\n",
    "block_bounds = {}\n",
    "for bi in block_starts.keys():\n",
    "    block_bounds[bi] = block_starts[bi],block_ends[bi]\n",
    "block_bounds"
   ]
  },
  {
   "cell_type": "markdown",
   "id": "ba28a4c3",
   "metadata": {
    "heading_collapsed": true,
    "hidden": true
   },
   "source": [
    "## Start of block vs end of block"
   ]
  },
  {
   "cell_type": "code",
   "execution_count": null,
   "id": "bfa8a453",
   "metadata": {
    "hidden": true
   },
   "outputs": [],
   "source": [
    "dfccos.columns"
   ]
  },
  {
   "cell_type": "code",
   "execution_count": null,
   "id": "7a7d9e6c",
   "metadata": {
    "hidden": true
   },
   "outputs": [],
   "source": [
    "dfccos['trial_type'].unique()"
   ]
  },
  {
   "cell_type": "code",
   "execution_count": null,
   "id": "d586b9ef",
   "metadata": {
    "hidden": true
   },
   "outputs": [],
   "source": [
    "grp = dfccos.query('trial_type != \"error_clamp\"').groupby('block_ind')\n",
    "\n",
    "df1 = grp['trial_index'].min().to_frame().rename(columns={'trial_index':'block_start_trial_index'})\n",
    "df2 = grp['trial_index'].max().to_frame().rename(columns={'trial_index':'block_end_trial_index'})\n",
    "block_bounds = pd.concat( [df1, df2], axis=1)\n",
    "\n",
    "sts = block_bounds.query('block_ind >= 0')['block_start_trial_index']._values\n",
    "df_block_start = dfccos.loc[dfccos['trial_index'].isin(sts)]\n",
    "\n",
    "ends = block_bounds.query('block_ind >= 0')['block_end_trial_index']._values\n",
    "df_block_end = dfccos.loc[dfccos['trial_index'].isin(ends)]\n",
    "\n",
    "ynames = ['error_pert_adj', 'error_area_signed']\n",
    "#'error', \n",
    "\n",
    "\n",
    "df_block_start = df_block_start[['block_ind', 'trial_type'] + ynames].set_index('block_ind')\n",
    "#ynames_mod = [yn + '_start' for yn in ynames]\n",
    "#rd = dict(zip(ynames,ynames_mod))\n",
    "#df_block_start = df_block_start.rename(columns=rd)\n",
    "df_block_start['type'] = 'start'\n",
    "\n",
    "df_block_end =   df_block_end[['block_ind', 'trial_type'] + ynames].set_index('block_ind')\n",
    "df_block_end['type'] = 'end'\n",
    "\n",
    "df_startend = pd.concat([df_block_start, df_block_end])"
   ]
  },
  {
   "cell_type": "code",
   "execution_count": null,
   "id": "3cb89ea5",
   "metadata": {
    "hidden": true
   },
   "outputs": [],
   "source": [
    "df_startend"
   ]
  },
  {
   "cell_type": "code",
   "execution_count": null,
   "id": "1c9fbcd8",
   "metadata": {
    "hidden": true
   },
   "outputs": [],
   "source": [
    "for yname in ynames:\n",
    "    plt.figure()\n",
    "    sns.violinplot(df_startend, y=yname, x='type', hue='trial_type', split=True)"
   ]
  },
  {
   "cell_type": "code",
   "execution_count": null,
   "id": "fbb29298",
   "metadata": {
    "hidden": true
   },
   "outputs": [],
   "source": [
    "df_ = dfccos.query('pause_rel > -10')\n",
    "#df_ = df_.query('error < 150')\n",
    "\n",
    "ynames = ['error_area_signed',  'error_distance', 'error']\n",
    "for yname in ynames:\n",
    "    plt.figure()\n",
    "    \n",
    "#     if yname  == 'error':\n",
    "#         df_ = df_.query('error < 150')\n",
    "    sns.violinplot(df_, y=yname, x='pause_rel')"
   ]
  },
  {
   "cell_type": "code",
   "execution_count": null,
   "id": "5da5f535",
   "metadata": {
    "hidden": true
   },
   "outputs": [],
   "source": [
    "df_.index"
   ]
  },
  {
   "cell_type": "markdown",
   "id": "43d1bc18",
   "metadata": {
    "heading_collapsed": true
   },
   "source": [
    "# summary many"
   ]
  },
  {
   "cell_type": "code",
   "execution_count": null,
   "id": "b1c5c909",
   "metadata": {
    "hidden": true
   },
   "outputs": [],
   "source": [
    "# dfcc_all_ = dfcc_all.drop(labels=['level_0', 'index'], axis=1)\n",
    "# dfcc_all_ = dfcc_all_.reset_index().drop(labels=['index'], axis=1)\n",
    "dfcc_all_ = dfcc_all"
   ]
  },
  {
   "cell_type": "code",
   "execution_count": null,
   "id": "30ed06c5",
   "metadata": {
    "hidden": true
   },
   "outputs": [],
   "source": []
  },
  {
   "cell_type": "code",
   "execution_count": null,
   "id": "2a1a3f59",
   "metadata": {
    "hidden": true
   },
   "outputs": [],
   "source": [
    "dfcc_all['target_locs_nice']"
   ]
  },
  {
   "cell_type": "code",
   "execution_count": null,
   "id": "763566d1",
   "metadata": {
    "hidden": true
   },
   "outputs": [],
   "source": [
    "numtrain = int(params['num_training'])\n",
    "from behav_proc import qs_notspec_not_afterspec, spectrials\n",
    "qs = qs_notspec_not_afterspec\n",
    "df_ = dfcc_all.query(qs)"
   ]
  },
  {
   "cell_type": "markdown",
   "id": "368d26a1",
   "metadata": {
    "heading_collapsed": true,
    "hidden": true
   },
   "source": [
    "### Reaction time"
   ]
  },
  {
   "cell_type": "code",
   "execution_count": null,
   "id": "563a39a6",
   "metadata": {
    "hidden": true
   },
   "outputs": [],
   "source": [
    "#same plot legend group by var"
   ]
  },
  {
   "cell_type": "code",
   "execution_count": null,
   "id": "0c138c6e",
   "metadata": {
    "hidden": true
   },
   "outputs": [],
   "source": [
    "#dfcc.columns"
   ]
  },
  {
   "cell_type": "code",
   "execution_count": null,
   "id": "b75acb2c",
   "metadata": {
    "hidden": true
   },
   "outputs": [],
   "source": [
    "df_all_multi_tsz['dist_rad_from_prevtgt2']"
   ]
  },
  {
   "cell_type": "code",
   "execution_count": null,
   "id": "cdc775c8",
   "metadata": {
    "hidden": true
   },
   "outputs": [],
   "source": [
    "[col for col in df_all_multi_tsz.columns if col.find('calc') >= 0]"
   ]
  },
  {
   "cell_type": "code",
   "execution_count": null,
   "id": "0ec6171a",
   "metadata": {
    "hidden": true
   },
   "outputs": [],
   "source": [
    "df_['dist_rad_from_prevtgt'].max()"
   ]
  },
  {
   "cell_type": "code",
   "execution_count": null,
   "id": "5e9842c1",
   "metadata": {
    "hidden": true
   },
   "outputs": [],
   "source": [
    "df__"
   ]
  },
  {
   "cell_type": "code",
   "execution_count": null,
   "id": "114e45dc",
   "metadata": {
    "hidden": true
   },
   "outputs": [],
   "source": [
    "df_all_multi_tsz['early'] = df_all_multi_tsz['block_ind'] < max_bi / 2"
   ]
  },
  {
   "cell_type": "code",
   "execution_count": null,
   "id": "e35645ca",
   "metadata": {
    "hidden": true
   },
   "outputs": [],
   "source": [
    "df_all_multi_tsz['early'].unique()"
   ]
  },
  {
   "cell_type": "code",
   "execution_count": null,
   "id": "417d1896",
   "metadata": {
    "hidden": true
   },
   "outputs": [],
   "source": [
    "gc.collect()"
   ]
  },
  {
   "cell_type": "code",
   "execution_count": null,
   "id": "602d2c1e",
   "metadata": {
    "hidden": true
   },
   "outputs": [],
   "source": [
    "df__ = df_all_multi_tsz.query(qs + ' and error_data_for_calc == @edfc')  \n",
    "# there is much more point for dist_rad_from_prevtgt2 == 0\n",
    "fg = sns.catplot(df__, kind='violin', y='time_lh', col='dist_rad_from_prevtgt2', row='early')\n",
    "for ax in fg.axes.flatten():\n",
    "    ax.set_ylim(-0.1,0.8)\n",
    "    ax.axhline(ls=':',c='r')"
   ]
  },
  {
   "cell_type": "code",
   "execution_count": null,
   "id": "89857808",
   "metadata": {
    "hidden": true
   },
   "outputs": [],
   "source": [
    "#dfes = dfcc.query(qs)# and err_sens >= -20 and err_sens <= 20')\n",
    "fg = sns.relplot(df_,kind='line', y='time_lh', x='trial_index')#, x = 'error_data_for_calc')\n",
    "# for ax in fg.axes.flatten():\n",
    "#     ax.set_ylim(-10,10)"
   ]
  },
  {
   "cell_type": "code",
   "execution_count": null,
   "id": "00f18883",
   "metadata": {
    "hidden": true
   },
   "outputs": [],
   "source": [
    "7/4"
   ]
  },
  {
   "cell_type": "code",
   "execution_count": null,
   "id": "9700e070",
   "metadata": {
    "hidden": true
   },
   "outputs": [],
   "source": [
    "fg = sns.relplot(df_,kind='line', y='time_lh', x='trialwb')#, x = 'error_data_for_calc')"
   ]
  },
  {
   "cell_type": "code",
   "execution_count": null,
   "id": "e67ac7ef",
   "metadata": {
    "hidden": true
   },
   "outputs": [],
   "source": [
    "df_.groupby(['subject', 'tgti_to_show', 'vis_feedback_type', 'trialwb']).size()"
   ]
  },
  {
   "cell_type": "code",
   "execution_count": null,
   "id": "a4a2d441",
   "metadata": {
    "hidden": true
   },
   "outputs": [],
   "source": [
    "ynames"
   ]
  },
  {
   "cell_type": "code",
   "execution_count": null,
   "id": "28c3353e",
   "metadata": {
    "hidden": true
   },
   "outputs": [],
   "source": [
    "dfc_multi_tsz['error_data_for_calc'].unique()"
   ]
  },
  {
   "cell_type": "code",
   "execution_count": null,
   "id": "8931d099",
   "metadata": {
    "hidden": true
   },
   "outputs": [],
   "source": [
    "dfc_multi_tsz['trial_shift_size'].unique()"
   ]
  },
  {
   "cell_type": "code",
   "execution_count": null,
   "id": "520cba8c",
   "metadata": {
    "hidden": true
   },
   "outputs": [],
   "source": [
    "len(dfes), len(dfc_multi_tsz)"
   ]
  },
  {
   "cell_type": "code",
   "execution_count": null,
   "id": "5e84b3fd",
   "metadata": {
    "hidden": true
   },
   "outputs": [],
   "source": [
    "grp = dfes.groupby(['subject','error_data_for_calc'])\n",
    "display(grp.size() )\n",
    "grp = dfes.groupby(['error_data_for_calc'])\n",
    "display(grp['err_sens'].mean())"
   ]
  },
  {
   "cell_type": "code",
   "execution_count": null,
   "id": "fa18f49a",
   "metadata": {
    "hidden": true
   },
   "outputs": [],
   "source": [
    "dfes = dfc_multi_tsz.query(qs + ' and trial_shift_size == 1')# and err_sens >= -20 and err_sens <= 20')\n",
    "fg = sns.catplot(dfes, kind='violin',y='err_sens', x = 'error_data_for_calc')\n",
    "for ax in fg.axes.flatten():\n",
    "    ax.set_ylim(-3,3)\n",
    "    ax.axhline(ls=':',c='r')"
   ]
  },
  {
   "cell_type": "code",
   "execution_count": null,
   "id": "d161a090",
   "metadata": {
    "hidden": true
   },
   "outputs": [],
   "source": []
  },
  {
   "cell_type": "markdown",
   "id": "339e2b1e",
   "metadata": {
    "heading_collapsed": true
   },
   "source": [
    "# Violins"
   ]
  },
  {
   "cell_type": "code",
   "execution_count": null,
   "id": "fbbd7ac6",
   "metadata": {
    "hidden": true
   },
   "outputs": [],
   "source": [
    "coln_pairs"
   ]
  },
  {
   "cell_type": "code",
   "execution_count": null,
   "id": "de7739f6",
   "metadata": {
    "hidden": true
   },
   "outputs": [],
   "source": [
    "dfext_ = dfcc_all_.query('trial_index > @numtrain and trial_type != \"error_clamp\"')\n",
    "fg = sns.catplot(dfext_, kind='violin', x='prev_trial_type', \n",
    "                 y='error_area2_signed_nn_scaled_ed', col = 'special_block_type')\n",
    "\n",
    "fg = sns.catplot(dfext_, kind='violin', x='prev_trial_type', \n",
    "                 y='error_lh_ang', col = 'special_block_type')\n",
    "\n",
    "\n",
    "# dfext_ = dfc_multi_tsz.query('trial_index > @numtrain and trial_type != \"error_clamp\"')\n",
    "# fg = sns.catplot(dfext_, kind='violin', x='prev_trial_type', \n",
    "#                  y='error_area_signed_nn_scaled_ed', col = 'special_block_type')"
   ]
  },
  {
   "cell_type": "markdown",
   "id": "bbda633d",
   "metadata": {
    "heading_collapsed": true
   },
   "source": [
    "# 3x3"
   ]
  },
  {
   "cell_type": "code",
   "execution_count": null,
   "id": "27539137",
   "metadata": {
    "hidden": true
   },
   "outputs": [],
   "source": [
    "colnes = ['error_lh_ang_deg', 'error_area2_signed_nn_scaled_ed']\n",
    "colnes = ['error_lh_ang_deg', 'error_area2_signed_nn']\n",
    "colnes_abs = ['error_lh_ang_deg_abs', 'error_area2_signed_nn_abs']"
   ]
  },
  {
   "cell_type": "code",
   "execution_count": null,
   "id": "b478cab3",
   "metadata": {
    "hidden": true
   },
   "outputs": [],
   "source": [
    "sns.relplot?"
   ]
  },
  {
   "cell_type": "code",
   "execution_count": null,
   "id": "9ecef0cd",
   "metadata": {
    "hidden": true
   },
   "outputs": [],
   "source": [
    "sns.lineplot?"
   ]
  },
  {
   "cell_type": "code",
   "execution_count": null,
   "id": "c810878e",
   "metadata": {
    "hidden": true
   },
   "outputs": [],
   "source": [
    "fg = sns.lineplot(df_, kind='line', x='trialwb', y='error_lh_ang', \n",
    "                 col='vis_feedback_type', \n",
    "            row='tgti_to_show',errorbar='se')\n",
    "for ax in fg.axes.flatten():\n",
    "    ax.axhline(0,ls=':',color='red')"
   ]
  },
  {
   "cell_type": "code",
   "execution_count": null,
   "id": "00aa3977",
   "metadata": {
    "hidden": true
   },
   "outputs": [],
   "source": []
  },
  {
   "cell_type": "code",
   "execution_count": null,
   "id": "aae7ed44",
   "metadata": {
    "hidden": true
   },
   "outputs": [],
   "source": [
    "mpl.rcParams.keys()"
   ]
  },
  {
   "cell_type": "code",
   "execution_count": null,
   "id": "cc51ae9b",
   "metadata": {
    "hidden": true
   },
   "outputs": [],
   "source": [
    "#mpl.rcParams['ytick.labelsize'] = 15\n",
    "#sns.set(rc={'axes.facecolor':'white', 'figure.facecolor':'white',\n",
    "#           'grid.color':'grey', 'grid.alpha':0.5})"
   ]
  },
  {
   "cell_type": "code",
   "execution_count": null,
   "id": "8a64a843",
   "metadata": {
    "hidden": true
   },
   "outputs": [],
   "source": []
  },
  {
   "cell_type": "code",
   "execution_count": null,
   "id": "f38c08b7",
   "metadata": {
    "hidden": true
   },
   "outputs": [],
   "source": [
    "calc_names"
   ]
  },
  {
   "cell_type": "code",
   "execution_count": null,
   "id": "d482ffdb",
   "metadata": {
    "hidden": true
   },
   "outputs": [],
   "source": [
    "calc_names_err_plot = ['lh2_ang', 'signed_area2_nn']"
   ]
  },
  {
   "cell_type": "code",
   "execution_count": null,
   "id": "39fef714",
   "metadata": {
    "hidden": true
   },
   "outputs": [],
   "source": [
    "# sns.set(rc={'axes.facecolor':'white', \n",
    "#             'figure.facecolor':'white'})\n"
   ]
  },
  {
   "cell_type": "code",
   "execution_count": null,
   "id": "b13e3ace",
   "metadata": {
    "hidden": true
   },
   "outputs": [],
   "source": [
    "sns.relplot?"
   ]
  },
  {
   "cell_type": "code",
   "execution_count": null,
   "id": "de9f237d",
   "metadata": {
    "hidden": true
   },
   "outputs": [],
   "source": [
    "#sns.set(font_scale=1.5)\n",
    "sns.set_style(\"whitegrid\", {'font_scale':2.9})"
   ]
  },
  {
   "cell_type": "code",
   "execution_count": null,
   "id": "64cd1884",
   "metadata": {
    "hidden": true
   },
   "outputs": [],
   "source": [
    "df_ = df_all_multi_tsz.query('error_data_for_calc.isin(@calc_names_err_plot)  and error_data_for_calc == \"signed_area2_nn\"')\n",
    "df_= df_.rename(columns= {'target_locs_nice':'Target angle'})\n",
    "\n",
    "df_= df_.rename(columns= {'error_coln_for_plot':'Error type'})"
   ]
  },
  {
   "cell_type": "code",
   "execution_count": null,
   "id": "99f0fc5e",
   "metadata": {
    "hidden": true
   },
   "outputs": [],
   "source": [
    "# I'll remove last trial 10 because it is rarely present\n",
    "# and creates too much variability\n",
    "from nf_poster_plots import pubnames\n",
    "#fd = {'fontsize':15}\n",
    "#dfttl = {'fontsize':14}\n",
    "#colne = 'error_lh_ang'\n",
    "errorbar = 'se'\n",
    "fg = sns.relplot(data=df_.query('trialwb < 10'), \n",
    "                 kind='line', x='trialwb', y='error_plot', \n",
    "                 col='perturbation', hue='Error type',\n",
    "            row='Target angle')#, errorbar=errorbar)\n",
    "for ax in fg.axes.flatten():\n",
    "    ax.axhline(0,ls=':',color='red')\n",
    "    ax.set_xlabel('Trial within block'    )\n",
    "    #ax.set_ylabel(pubnames['colne'], \n",
    "    #              fontdict=fd)\n",
    "    ax.set_ylabel('Error')\n",
    "    ttl = ax.title.get_text().replace('target_locs',\n",
    "                        pubnames['target_locs'])\n",
    "    ax.set_title(ttl)\n",
    "\n",
    "plt.savefig( pjoin(path_fig_nf, \n",
    "    f'AllSubj_{errorbar}_decay_3x3_area_only.svg' ) )\n",
    "plt.savefig( pjoin(path_fig_nf, \n",
    "        f'AllSubj_{errorbar}_decay_3x3_area_only.pdf' ) )\n",
    "# plt.savefig( pjoin(path_fig_nf, \n",
    "#     f'AllSubj_{errorbar}_decay_3x3.svg' ) )\n",
    "# plt.savefig( pjoin(path_fig_nf, \n",
    "#         f'AllSubj_{errorbar}_decay_3x3.pdf' ) )"
   ]
  },
  {
   "cell_type": "code",
   "execution_count": null,
   "id": "5d1e0226",
   "metadata": {
    "hidden": true
   },
   "outputs": [],
   "source": []
  },
  {
   "cell_type": "code",
   "execution_count": null,
   "id": "323e74fc",
   "metadata": {
    "hidden": true
   },
   "outputs": [],
   "source": [
    "# I'll remove last trial 10 because it is rarely present\n",
    "# and creates too much variability\n",
    "from nf_poster_plots import pubnames\n",
    "fd = {'fontsize':15}\n",
    "dfttl = {'fontsize':14}\n",
    "for colne in colnes:\n",
    "    #colne = 'error_lh_ang'\n",
    "    errorbar = 'se'\n",
    "    fg = sns.relplot(df_.query('trialwb < 10'), kind='line', x='trialwb', y=colne, \n",
    "                     col='perturbation', \n",
    "                row='target_locs_nice', errorbar=errorbar)\n",
    "    for ax in fg.axes.flatten():\n",
    "        ax.axhline(0,ls=':',color='red')\n",
    "        ax.set_xlabel('Trial within block',\n",
    "                     fontdict=fd)\n",
    "        ax.set_ylabel(pubnames[colne], \n",
    "                      fontdict=fd)\n",
    "        ttl = ax.title.get_text().replace('target_locs',\n",
    "                            pubnames['target_locs'])\n",
    "        ax.set_title(ttl, fontdict=dfttl)\n",
    "\n",
    "    plt.savefig( pjoin(path_fig_nf, \n",
    "            f'AllSubj_{colne}_{errorbar}_decay_3x3.pdf' ) )"
   ]
  },
  {
   "cell_type": "code",
   "execution_count": null,
   "id": "f871da4c",
   "metadata": {
    "hidden": true,
    "run_control": {
     "marked": false
    }
   },
   "outputs": [],
   "source": [
    "for colne in colnes:\n",
    "    fg = sns.relplot(df_.query('perturbation != 0 and trialwb < 10'), \n",
    "                     kind='line', x='trialwb', \n",
    "                     hue='perturbation',\n",
    "                     y=colne)\n",
    "    for ax in fg.axes.flatten():\n",
    "        ax.axhline(0,ls=':',color='red')\n",
    "    #break"
   ]
  },
  {
   "cell_type": "code",
   "execution_count": null,
   "id": "b165bbe1",
   "metadata": {
    "hidden": true
   },
   "outputs": [],
   "source": [
    "fg = sns.relplot(df_, kind='line', x='trialwb',\n",
    "                 y=colne, \n",
    "                 col='perturbation', \n",
    "            row='tgti_to_show', hue='Nctx_app', height=3)\n",
    "for ax in fg.axes.flatten():\n",
    "    ax.axhline(0,ls=':',color='red')"
   ]
  },
  {
   "cell_type": "code",
   "execution_count": null,
   "id": "0189a1fc",
   "metadata": {
    "hidden": true
   },
   "outputs": [],
   "source": [
    "from behav_proc import genCtxPairLists,setContextSimilarityCols\n",
    "all_ctx, cpls = genCtxPairLists(dfcc_all)\n",
    "setContextSimilarityCols(dfcc_all, cpls)       "
   ]
  },
  {
   "cell_type": "markdown",
   "id": "8b20179b",
   "metadata": {},
   "source": [
    "# drops"
   ]
  },
  {
   "cell_type": "code",
   "execution_count": null,
   "id": "02064e80",
   "metadata": {},
   "outputs": [],
   "source": [
    "(~dfcc_all['prev_ctx_some_close'].isnull()).sum()"
   ]
  },
  {
   "cell_type": "code",
   "execution_count": null,
   "id": "cb22f414",
   "metadata": {},
   "outputs": [],
   "source": [
    "(~dfcc_all['prev_block_ind_diff'].isnull()).sum()"
   ]
  },
  {
   "cell_type": "code",
   "execution_count": null,
   "id": "c73daf4f",
   "metadata": {},
   "outputs": [],
   "source": [
    "colnes = [cp[0] for cp in coln_pairs][2:]; colnes"
   ]
  },
  {
   "cell_type": "code",
   "execution_count": null,
   "id": "88aadcd3",
   "metadata": {},
   "outputs": [],
   "source": [
    "from behav_proc import calcErrorDrops\n",
    "dropinds = [0,1,2,3,4]\n",
    "dfdrop_incv, dfdrop2_incv, dfdrop_last_incv = calcErrorDrops(dfcc_all, colnes, \n",
    "                                     inc_veridical=1, inds = dropinds)\n",
    "\n",
    "dfdrop, dfdrop2, dfdrop_last = calcErrorDrops(dfcc_all, colnes, \n",
    "                                     inc_veridical=0, inds = dropinds)\n",
    "\n",
    "assert dfdrop.groupby(['subject','Nctx_app','coln','ctxid']).size().max() == 1\n",
    "assert dfdrop2.groupby(['subject','droptoind','Nctx_app','coln','ctxid']).size().max() == 1\n",
    "assert dfdrop.groupby(['subject','Nctx_app','coln']).size().max() == 6 \n",
    "assert dfdrop_incv.groupby(['subject','Nctx_app','coln']).size().max()  == 9"
   ]
  },
  {
   "cell_type": "code",
   "execution_count": null,
   "id": "9b185aa3",
   "metadata": {
    "run_control": {
     "marked": false
    }
   },
   "outputs": [],
   "source": [
    "# for i,ind in enumerate(inds[1:] ):\n",
    "#     dfdrop[f'absdrop_{ind}'] = dfdrop['absdrop'].apply(lambda x: x[i] if x is not None else None)"
   ]
  },
  {
   "cell_type": "code",
   "execution_count": null,
   "id": "0eb154b0",
   "metadata": {},
   "outputs": [],
   "source": [
    "dfdrop.columns"
   ]
  },
  {
   "cell_type": "code",
   "execution_count": null,
   "id": "d70d5821",
   "metadata": {},
   "outputs": [],
   "source": [
    "dfneg = dfdrop2.query('absdrop < 0')\n",
    "dfbad = dfneg"
   ]
  },
  {
   "cell_type": "code",
   "execution_count": null,
   "id": "e32c403d",
   "metadata": {},
   "outputs": [],
   "source": [
    "def f(row):\n",
    "    bi = row['block_ind']\n",
    "    subj = row['subject']\n",
    "    droptoind = row['droptoind']\n",
    "    dfr = dfcc_all.query('subject == @subj and block_ind == @bi and trialwb == @droptoind')\n",
    "    assert len(dfr) == 1, len(dfr)\n",
    "    return dfr.iloc[0]['trial_index']\n",
    "dfdrop2['trial_index'] = dfdrop2.apply(f,1)"
   ]
  },
  {
   "cell_type": "code",
   "execution_count": null,
   "id": "df7c2570",
   "metadata": {},
   "outputs": [],
   "source": [
    "dfbad.columns"
   ]
  },
  {
   "cell_type": "code",
   "execution_count": null,
   "id": "42d48b61",
   "metadata": {},
   "outputs": [],
   "source": [
    "dfdrop2.duplicated(['subject','droptoind','Nctx_app']).any()"
   ]
  },
  {
   "cell_type": "code",
   "execution_count": null,
   "id": "424ba6e4",
   "metadata": {},
   "outputs": [],
   "source": [
    "(~df_notspec_notver['prev_ctx_pert_same'].isnull()).sum()"
   ]
  },
  {
   "cell_type": "code",
   "execution_count": null,
   "id": "213f9c77",
   "metadata": {},
   "outputs": [],
   "source": [
    "dfdrop.columns"
   ]
  },
  {
   "cell_type": "code",
   "execution_count": null,
   "id": "87d2a432",
   "metadata": {},
   "outputs": [],
   "source": [
    "# r = dfdrop.groupby(['coln', 'subject','ctxid']).agg({'Nctx_app': ['min', 'max'], \n",
    "#                                                 'absdrop_4': lambda x: x.max() - x.min()})\n"
   ]
  },
  {
   "cell_type": "code",
   "execution_count": null,
   "id": "be84f9d2",
   "metadata": {},
   "outputs": [],
   "source": []
  },
  {
   "cell_type": "code",
   "execution_count": null,
   "id": "4546960a",
   "metadata": {},
   "outputs": [],
   "source": [
    "#sns.set(font_scale=1.5)\n",
    "sns.set_style(\"whitegrid\", {'font_scale':1.3})"
   ]
  },
  {
   "cell_type": "markdown",
   "id": "fa00ede7",
   "metadata": {
    "heading_collapsed": true
   },
   "source": [
    "### Absdrop 4"
   ]
  },
  {
   "cell_type": "code",
   "execution_count": null,
   "id": "23544795",
   "metadata": {
    "hidden": true
   },
   "outputs": [],
   "source": [
    "for dfdrop_cur in [dfdrop_incv]:#, dfdrop]:\n",
    "    df_ = dfdrop.query('coln == \"error_area2_signed_nn\"')\n",
    "    fg = sns.catplot(data=df_ , kind='violin', y='absdrop_4',  \n",
    "                 height=5, col='coln', x='Nctx_app', sharey = None)\n",
    "    for axi,ax in enumerate(fg.axes.flatten()):\n",
    "        ax.axhline(0,ls=':',color='red')\n",
    "    #     if axi <= 9:\n",
    "    #         ax.set_ylim(-0.5,1.2)\n",
    "    #     else:        \n",
    "    #         ax.set_ylim(-15,25)\n",
    "    #     if axi < 1:\n",
    "    #         ax.set_ylim(-0.5,1.2)\n",
    "    #     else:        \n",
    "    #         ax.set_ylim(-15,25)\n",
    "\n",
    "\n",
    "        ax.set_ylim(-15,25)    \n",
    "\n",
    "        ax.set_xlabel('N context appearance')\n",
    "        ax.set_ylabel('Error drop after 4 trials')\n",
    "\n",
    "        ax.set_title( coln2pubname[ colnes[1-axi] ]  )\n",
    "\n",
    "\n",
    "    plt.savefig(pjoin(path_fig_nf, 'drop_vs_Nctx_app.svg'))\n",
    "    plt.savefig(pjoin(path_fig_nf, 'drop_vs_Nctx_app.pdf'))\n",
    "\n",
    "    fg = sns.catplot(data=df_, kind='violin', x='ctxid', y='absdrop_4',  \n",
    "                 height=5, col='coln', sharey = \"col\")\n",
    "    for axi,ax in enumerate(fg.axes.flatten()):\n",
    "        ax.axhline(0,ls=':',color='red')\n",
    "    #     if axi < 1:\n",
    "    #         ax.set_ylim(-0.5,1.2)\n",
    "    #     else:        \n",
    "    #         ax.set_ylim(-15,25)\n",
    "\n",
    "        ax.set_ylim(-15,25)\n",
    "        ax.set_xlabel('Contex ID')\n",
    "        ax.set_ylabel('Error drop after 4 trials')\n",
    "\n",
    "        ax.set_title( coln2pubname[ colnes[1-axi] ]  )\n",
    "\n",
    "    #plt.savefig(pjoin(path_fig_nf, 'drop_vs_ctxid.svg'))\n",
    "    #plt.savefig(pjoin(path_fig_nf, 'drop_vs_ctxid.pdf'))\n",
    "\n",
    "    plt.savefig(pjoin(path_fig_nf, 'drop_vs_ctxid_only_area.svg'))\n",
    "    plt.savefig(pjoin(path_fig_nf, 'drop_vs_ctxid_only_area.pdf'))\n",
    "\n",
    "    # fg = sns.catplot(dfdrop, kind='violin', y='absdrop_4',  \n",
    "    #              height=4, row='coln', col='subject')\n",
    "    # for ax in fg.axes.flatten():\n",
    "    #     ax.axhline(0,ls=':',color='red')"
   ]
  },
  {
   "cell_type": "markdown",
   "id": "14eec3e5",
   "metadata": {
    "heading_collapsed": true
   },
   "source": [
    "### Absdrop less than 4"
   ]
  },
  {
   "cell_type": "code",
   "execution_count": null,
   "id": "9317a5dd",
   "metadata": {
    "hidden": true
   },
   "outputs": [],
   "source": [
    "len(df_)"
   ]
  },
  {
   "cell_type": "code",
   "execution_count": null,
   "id": "5ee48a81",
   "metadata": {
    "hidden": true
   },
   "outputs": [],
   "source": [
    "%matplotlib inline"
   ]
  },
  {
   "cell_type": "code",
   "execution_count": null,
   "id": "ec0a8079",
   "metadata": {
    "hidden": true
   },
   "outputs": [],
   "source": [
    "colnes"
   ]
  },
  {
   "cell_type": "code",
   "execution_count": null,
   "id": "98e87e23",
   "metadata": {
    "hidden": true
   },
   "outputs": [],
   "source": [
    "c = dfdrop2['coln'] == \"error_lh2_ang\"\n",
    "dfdrop2.loc[c, 'absdrop'] *= 180 / np.pi"
   ]
  },
  {
   "cell_type": "code",
   "execution_count": null,
   "id": "a50ecc28",
   "metadata": {
    "hidden": true,
    "run_control": {
     "marked": false
    }
   },
   "outputs": [],
   "source": [
    "#for coln_drop in ['absdrop_1', 'absdrop_2', 'absdrop_4']:\n",
    "for dfdrop_cur in [dfdrop2]:#, dfdrop]:        \n",
    "#or droptoind in [1,2,3,4]:    #\n",
    "    #df_ = dfdrop_cur.query('coln == \"error_area2_signed_nn\"')\n",
    "    df_ = dfdrop_cur.query(f'absdrop.abs() <= 130')\n",
    "    fg = sns.catplot(data=df_ , kind='box', y=coln_drop,  \n",
    "                 height=5, col='coln', x='Nctx_app', sharey = None,\n",
    "                     row = 'droptoind')\n",
    "    axs = fg.axes.flatten()\n",
    "    for axi,ax in enumerate(axs):\n",
    "        ax.axhline(0,ls=':',color='red')\n",
    "\n",
    "        ax.set_xlabel('N context appearance')\n",
    "        ax.set_ylabel(f'Error drop after {coln_drop[-1]} trials')\n",
    "        #ax.set_title( coln2pubname[ colnes[axi] ]  )\n",
    "    #axs[1].set_ylim(-25,20)    \n",
    "    #axs[0].set_ylim(-20,45)    \n",
    "\n",
    "#     plt.savefig(pjoin(path_fig_nf, 'drop_vs_Nctx_app.svg'))\n",
    "#     plt.savefig(pjoin(path_fig_nf, 'drop_vs_Nctx_app.pdf'))\n",
    "\n",
    "#     fg = sns.catplot(data=df_, kind='violin', x='ctxid', y=coln_drop,  \n",
    "#                  height=5, col='coln', sharey = \"col\")\n",
    "#     for axi,ax in enumerate(fg.axes.flatten()):\n",
    "#         ax.axhline(0,ls=':',color='red')\n",
    "#         ax.set_ylim(-15,25)\n",
    "#         ax.set_xlabel('Contex ID')\n",
    "#         ax.set_ylabel(f'Error drop after {coln_drop[:-1]} trials')\n",
    "\n",
    "#         ax.set_title( coln2pubname[ colnes[1-axi] ]  )\n",
    "\n",
    "#     plt.savefig(pjoin(path_fig_nf, 'drop_vs_ctxid_only_area.svg'))\n",
    "#     plt.savefig(pjoin(path_fig_nf, 'drop_vs_ctxid_only_area.pdf'))"
   ]
  },
  {
   "cell_type": "code",
   "execution_count": null,
   "id": "e97a674e",
   "metadata": {
    "hidden": true
   },
   "outputs": [],
   "source": []
  },
  {
   "cell_type": "code",
   "execution_count": null,
   "id": "5355cdd2",
   "metadata": {
    "hidden": true
   },
   "outputs": [],
   "source": [
    "dfdrop.groupby('subject')"
   ]
  },
  {
   "cell_type": "code",
   "execution_count": null,
   "id": "85e800b2",
   "metadata": {
    "hidden": true
   },
   "outputs": [],
   "source": [
    "from pingouin import ttest\n",
    "ttr = ttest(dfdrop['absdrop_4'], 0, alternative='greater')\n",
    "display(ttr)"
   ]
  },
  {
   "cell_type": "code",
   "execution_count": null,
   "id": "7bb3b75e",
   "metadata": {
    "hidden": true
   },
   "outputs": [],
   "source": [
    "for coln in colnes:\n",
    "    print(coln)\n",
    "    print( len( dfdrop.query('coln == @coln and absdrop_4 > 1') ) )"
   ]
  },
  {
   "cell_type": "markdown",
   "id": "78d57fc3",
   "metadata": {},
   "source": [
    "### Absdrop average"
   ]
  },
  {
   "cell_type": "code",
   "execution_count": null,
   "id": "326015dc",
   "metadata": {},
   "outputs": [],
   "source": [
    "grpda = dfdrop2.groupby(['subject','Nctx_app','coln','ctxid'])\n",
    "display( grpda.size().describe() )\n",
    "dropav = grpda['absdrop'].mean()"
   ]
  },
  {
   "cell_type": "code",
   "execution_count": null,
   "id": "e2c88f13",
   "metadata": {},
   "outputs": [],
   "source": [
    "dropav = dropav.reset_index()"
   ]
  },
  {
   "cell_type": "code",
   "execution_count": null,
   "id": "7a3894aa",
   "metadata": {},
   "outputs": [],
   "source": [
    "coln_drop  = 'absdrop'\n",
    "for dfdrop_cur in [dropav]:#, dfdrop]:\n",
    "    #df_ = dfdrop_cur.query('coln == \"error_area2_signed_nn\"')\n",
    "    df_ = dfdrop_cur.query(f'{coln_drop}.abs() <= 130' )\n",
    "    fg = sns.catplot(data=df_ , kind='box', y=coln_drop,  \n",
    "                 height=5, col='coln', x='Nctx_app', sharey = None)\n",
    "    axs = fg.axes.flatten()\n",
    "    for axi,ax in enumerate(axs):\n",
    "        ax.axhline(0,ls=':',color='red')\n",
    "\n",
    "        ax.set_xlabel('N context appearance')\n",
    "        ax.set_ylabel(f'Error drop after {coln_drop[-1]} trials')\n",
    "        ax.set_title( coln2pubname[ colnes[axi] ]  )\n",
    "    #axs[1].set_ylim(-25,20)    \n",
    "    #axs[0].set_ylim(-20,45)    \n",
    "\n",
    "#     plt.savefig(pjoin(path_fig_nf, 'drop_vs_Nctx_app.svg'))\n",
    "#     plt.savefig(pjoin(path_fig_nf, 'drop_vs_Nctx_app.pdf'))\n",
    "\n",
    "#     fg = sns.catplot(data=df_, kind='violin', x='ctxid', y=coln_drop,  \n",
    "#                  height=5, col='coln', sharey = \"col\")\n",
    "#     for axi,ax in enumerate(fg.axes.flatten()):\n",
    "#         ax.axhline(0,ls=':',color='red')\n",
    "#         ax.set_ylim(-15,25)\n",
    "#         ax.set_xlabel('Contex ID')\n",
    "#         ax.set_ylabel(f'Error drop after {coln_drop[:-1]} trials')\n",
    "\n",
    "#         ax.set_title( coln2pubname[ colnes[1-axi] ]  )\n",
    "\n",
    "#     plt.savefig(pjoin(path_fig_nf, 'drop_vs_ctxid_only_area.svg'))\n",
    "#     plt.savefig(pjoin(path_fig_nf, 'drop_vs_ctxid_only_area.pdf'))"
   ]
  },
  {
   "cell_type": "markdown",
   "id": "1ff2d650",
   "metadata": {
    "heading_collapsed": true
   },
   "source": [
    "### Absdrop stats"
   ]
  },
  {
   "cell_type": "code",
   "execution_count": null,
   "id": "e4916c67",
   "metadata": {
    "hidden": true
   },
   "outputs": [],
   "source": [
    "for coln_drop in ['absdrop_1', 'absdrop_2', 'absdrop_4']:\n",
    "    print(f'--------  {coln_drop} -------')\n",
    "    for coln in colnes:\n",
    "        print(coln)\n",
    "\n",
    "        dfdrop_ = dfdrop.query('coln == @coln')\n",
    "        app1 = dfdrop_.query('Nctx_app == 1')\n",
    "        app2 = dfdrop_.query('Nctx_app == 7')\n",
    "\n",
    "        from pingouin import ttest\n",
    "        ttrs = []\n",
    "        for alt in ['greater','less','two-sided']:\n",
    "            ttr = ttest(app1[coln_drop], app2[coln_drop], alternative=alt)\n",
    "            ttrs += [ttr]\n",
    "        display(pd.concat(ttrs) )\n",
    "\n",
    "        pvs = []\n",
    "        ttrs = []\n",
    "        for subj in subjects:\n",
    "            for alt in ['greater','less','two-sided']:\n",
    "                app1os = app1.query('subject == @subj')\n",
    "                app2os = app2.query('subject == @subj')\n",
    "                ttr = ttest(app1os[coln_drop], app2os[coln_drop] ,alternative=alt)\n",
    "                ttr['subject'] = subj\n",
    "                ttrs += [ttr]\n",
    "                pv = ttr['p-val'].values[0]\n",
    "                pvs += [pv]\n",
    "            #display(ttr)\n",
    "        ttrs = pd.concat(ttrs)\n",
    "        d = ttrs['p-val'].describe()\n",
    "        print(d['mean'], d['std'])\n",
    "        #print('mean alt pv per subj' np.mean( pvs ) )"
   ]
  },
  {
   "cell_type": "code",
   "execution_count": null,
   "id": "c3f88d54",
   "metadata": {
    "hidden": true,
    "run_control": {
     "marked": false
    }
   },
   "outputs": [],
   "source": [
    "for coln in colnes:\n",
    "    fg = sns.relplot(dfdrop.query('coln == @coln'), \n",
    "            kind='line', x='Nctx_app', y='absdrop_4',  \n",
    "            height=3, errorbar='se')\n",
    "    for ax in fg.axes.flatten():\n",
    "        ax.set_title(coln)\n",
    "    #    ax.axhline(0,ls=':',color='red')"
   ]
  },
  {
   "cell_type": "code",
   "execution_count": null,
   "id": "794f4f36",
   "metadata": {
    "hidden": true
   },
   "outputs": [],
   "source": [
    "dfdrop_ =dfdrop\n",
    "fg = sns.relplot(dfdrop_, kind='line', x='Nctx_app', y='absdrop_4',  hue='ctxid',\n",
    "            col='coln', height=3, errorbar='se')\n",
    "for ax in fg.axes.flatten():\n",
    "    ax.axhline(0,ls=':',color='red')\n",
    "    #ax.set_ylabel('')\n",
    "fg = sns.relplot(dfdrop_, kind='line', x='Nctx_app', y='absdrop_2',  hue='ctxid',\n",
    "            col='coln', height=3, errorbar='se')\n",
    "for ax in fg.axes.flatten():\n",
    "    ax.axhline(0,ls=':',color='red')\n",
    "    #ax.set_ylabel('')"
   ]
  },
  {
   "cell_type": "code",
   "execution_count": null,
   "id": "a6040b10",
   "metadata": {
    "hidden": true
   },
   "outputs": [],
   "source": [
    "np.random.randint(0,3, size=20)"
   ]
  },
  {
   "cell_type": "code",
   "execution_count": null,
   "id": "b06a830f",
   "metadata": {
    "hidden": true
   },
   "outputs": [],
   "source": [
    "df_notspec_notver = dfcc_all.query(qs_notspec + ' and vis_feedback_type != \"veridical\"'\n",
    "                                  ' and trialwb <= 4 and Nctx_app in [1,7]')\n",
    "for coln in ['error_area2_signed_nn_scaled_ed', 'error_lh_ang']:\n",
    "    fg = sns.relplot(df_notspec_notver, kind='line', x='trialwb', y=coln, \n",
    "                     col='vis_feedback_type', hue='Nctx_app', \n",
    "                     row = 'subject', height=3, errorbar='se')\n",
    "    for ax in fg.axes.flatten():\n",
    "        ax.axhline(0,ls=':',color='red')\n",
    "        ax.set_ylabel('')\n",
    "        #ax.legend(loc='lower right')\n",
    "    fg.fig.suptitle(coln)\n",
    "    fg.fig.tight_layout()\n",
    "    break"
   ]
  },
  {
   "cell_type": "code",
   "execution_count": null,
   "id": "a7fc3694",
   "metadata": {
    "hidden": true
   },
   "outputs": [],
   "source": [
    "df_os = df_.query('subject == @subjects[0] and vis_feedback_type == \"rot20\"')\n",
    "fg = sns.relplot(df_os, kind='line', x='trialwb', y='error_area2_signed_nn_scaled_ed', \n",
    "                 col='vis_feedback_type', \n",
    "            row='tgti_to_show', hue='Nctx_app', height=3)\n",
    "for ax in fg.axes.flatten():\n",
    "    ax.axhline(0,ls=':',color='red')\n",
    "    ax.set_ylabel('')"
   ]
  },
  {
   "cell_type": "markdown",
   "id": "c7c6dd5d",
   "metadata": {
    "hidden": true
   },
   "source": []
  },
  {
   "cell_type": "markdown",
   "id": "0b24015a",
   "metadata": {
    "hidden": true
   },
   "source": [
    "#### naive (don't use it)"
   ]
  },
  {
   "cell_type": "code",
   "execution_count": null,
   "id": "b757cdb6",
   "metadata": {
    "hidden": true
   },
   "outputs": [],
   "source": [
    "\n",
    "\n",
    "qs_es_switches = qs_es + ' and prev_block_ind_diff > 0'\n",
    "#dfes = df_all_multi_tsz_orig.query(qs_es)\n",
    "#NOTE: this would discard when first trial after switch failed\n",
    "dfes_sw = dfc_multi_tsz.query(qs_es_switches).copy()"
   ]
  },
  {
   "cell_type": "code",
   "execution_count": null,
   "id": "d9f36708",
   "metadata": {
    "hidden": true
   },
   "outputs": [],
   "source": [
    "df_all_multi_tsz.query(qs_es_switches).groupby('subject').size().describe()"
   ]
  },
  {
   "cell_type": "code",
   "execution_count": null,
   "id": "0a7b45a4",
   "metadata": {
    "hidden": true
   },
   "outputs": [],
   "source": [
    "dfsw =df_all_multi_tsz.query(qs_es_switches)\n",
    "grp = dfsw.groupby(['subject','block_ind'])\n",
    "lbd = lambda x: x.loc[x['trial_index'].idxmin(), 'time_lh']\n",
    "ti = grp.apply(lbd)"
   ]
  },
  {
   "cell_type": "code",
   "execution_count": null,
   "id": "e4e4961a",
   "metadata": {
    "hidden": true
   },
   "outputs": [],
   "source": [
    "=df_all_multi_tsz.query(qs_es_switches)"
   ]
  },
  {
   "cell_type": "code",
   "execution_count": null,
   "id": "43d9e569",
   "metadata": {
    "hidden": true
   },
   "outputs": [],
   "source": [
    "qs_es_switches2 = qs_es + ' and trialwb == 0 and block_ind >= 0'\n",
    "dfsw2 =df_all_multi_tsz.query(qs_es_switches2)\n",
    "display(dfsw2.groupby('subject').size().describe())"
   ]
  },
  {
   "cell_type": "markdown",
   "id": "0557db76",
   "metadata": {
    "heading_collapsed": true
   },
   "source": [
    "# choosing right trials to take ES from"
   ]
  },
  {
   "cell_type": "code",
   "execution_count": null,
   "id": "e9579ee3",
   "metadata": {
    "hidden": true
   },
   "outputs": [],
   "source": [
    "qs_notspec"
   ]
  },
  {
   "cell_type": "code",
   "execution_count": null,
   "id": "2f8d3a1d",
   "metadata": {
    "hidden": true
   },
   "outputs": [],
   "source": []
  },
  {
   "cell_type": "code",
   "execution_count": null,
   "id": "0af96206",
   "metadata": {
    "hidden": true
   },
   "outputs": [],
   "source": [
    "edfc"
   ]
  },
  {
   "cell_type": "code",
   "execution_count": null,
   "id": "5d7a6e9d",
   "metadata": {
    "hidden": true
   },
   "outputs": [],
   "source": [
    "#cp = coln_pairs[1]\n",
    "cp = coln_pairs[0]\n",
    "\n",
    "coln_error = cp[0]\n",
    "edfc = cp[-1]\n",
    "print(cp, coln_error, edfc)\n",
    "tl = 'target'\n",
    "#tl = 'trial_end'\n",
    "#f'subject == \"{subj}\"' "
   ]
  },
  {
   "cell_type": "code",
   "execution_count": null,
   "id": "a3b2e354",
   "metadata": {
    "hidden": true
   },
   "outputs": [],
   "source": [
    "coln_pairs"
   ]
  },
  {
   "cell_type": "code",
   "execution_count": null,
   "id": "404d5e92",
   "metadata": {
    "hidden": true
   },
   "outputs": [],
   "source": [
    "#dfcc_all.columns"
   ]
  },
  {
   "cell_type": "code",
   "execution_count": null,
   "id": "d202bce3",
   "metadata": {
    "hidden": true
   },
   "outputs": [],
   "source": [
    "from behav_proc import extractCtxChangeRelevantRows\n",
    "import traceback\n",
    "dfes_sws = []\n",
    "for cp in coln_pairs[:2]:\n",
    "    edfc = cp[-1]\n",
    "    print('Starting ', edfc)\n",
    "    \n",
    "    try:\n",
    "        dfes_sw_ = extractCtxChangeRelevantRows(df_all_multi_tsz, \n",
    "                                       edfc, tl)\n",
    "    except Exception as e:\n",
    "        #raise e\n",
    "        print('EXC',e)\n",
    "        exc_info = sys.exc_info()\n",
    "        exc = traceback.TracebackException(*exc_info, capture_locals=True)\n",
    "        ei = exc_info[2]    \n",
    "        display(ei.tb_frame)\n",
    "        psf = ei\n",
    "\n",
    "        lfprev = None; lf = None\n",
    "        lfs = []\n",
    "        di = 0\n",
    "        while psf.tb_frame is not None:\n",
    "            stackframe = psf.tb_frame\n",
    "            display(di, stackframe)\n",
    "\n",
    "            psf = psf.tb_next  \n",
    "            if 'miniconda' not in stackframe.f_code.co_filename:        \n",
    "                lfprev = lf\n",
    "                lf = stackframe.f_locals\n",
    "                lfs += [lf]\n",
    "                di += 1\n",
    "            if psf is None:\n",
    "                break    \n",
    "    \n",
    "    dfes_sws += [dfes_sw_]\n",
    "dfes_sw = pd.concat(dfes_sws)"
   ]
  },
  {
   "cell_type": "code",
   "execution_count": null,
   "id": "6c6f3649",
   "metadata": {
    "hidden": true
   },
   "outputs": [],
   "source": [
    "dfes_sw.duplicated().any()"
   ]
  },
  {
   "cell_type": "markdown",
   "id": "22f954b1",
   "metadata": {
    "code_folding": [],
    "heading_collapsed": true,
    "hidden": true
   },
   "source": [
    "#### dbg"
   ]
  },
  {
   "cell_type": "code",
   "execution_count": null,
   "id": "80645495",
   "metadata": {
    "hidden": true
   },
   "outputs": [],
   "source": [
    "dfsw_care = lf['dfsw_care']"
   ]
  },
  {
   "cell_type": "code",
   "execution_count": null,
   "id": "4132910b",
   "metadata": {
    "hidden": true
   },
   "outputs": [],
   "source": [
    "cols"
   ]
  },
  {
   "cell_type": "code",
   "execution_count": null,
   "id": "af89f14d",
   "metadata": {
    "hidden": true
   },
   "outputs": [],
   "source": [
    "s"
   ]
  },
  {
   "cell_type": "code",
   "execution_count": null,
   "id": "c33ffcb3",
   "metadata": {
    "hidden": true
   },
   "outputs": [],
   "source": [
    "from behav_proc import plotAllTajs\n",
    "plotAllTajs(df_.iloc[:3], dfc_all, params)"
   ]
  },
  {
   "cell_type": "code",
   "execution_count": null,
   "id": "9eb80508",
   "metadata": {
    "hidden": true
   },
   "outputs": [],
   "source": [
    "edfc"
   ]
  },
  {
   "cell_type": "code",
   "execution_count": null,
   "id": "87746392",
   "metadata": {
    "hidden": true
   },
   "outputs": [],
   "source": [
    "s = subjects[1]; print(s)\n",
    "#56,58,59\n",
    "df_ = df_all_multi_tsz.query('subject == @s and'\n",
    "                      ' error_data_for_calc == @edfc'\n",
    "                      ' and trial_index in [79,80,81]')\n",
    "df_[cols + ['prev_time_lh', 'trial_group_col_calc','error_data_for_calc']]"
   ]
  },
  {
   "cell_type": "code",
   "execution_count": null,
   "id": "4c24810c",
   "metadata": {
    "hidden": true
   },
   "outputs": [],
   "source": [
    "edfc = cp[-1]; edfc"
   ]
  },
  {
   "cell_type": "code",
   "execution_count": null,
   "id": "d27ffe84",
   "metadata": {
    "hidden": true
   },
   "outputs": [],
   "source": [
    "cols = ['trial_index','trialwb','trial_type','prev_trial_type','prev_error',\n",
    "    'err_sens','error','time_lh']\n",
    "dfsw_care.loc[dfsw_care['err_sens'].isna(),\n",
    "    cols]"
   ]
  },
  {
   "cell_type": "code",
   "execution_count": null,
   "id": "30260696",
   "metadata": {
    "hidden": true
   },
   "outputs": [],
   "source": [
    "df_all_multi_tsz['prev_time_lh']"
   ]
  },
  {
   "cell_type": "code",
   "execution_count": null,
   "id": "c616a33f",
   "metadata": {
    "hidden": true
   },
   "outputs": [],
   "source": [
    "easy,prevnan = lf['easy'], lf['prevnan']"
   ]
  },
  {
   "cell_type": "code",
   "execution_count": null,
   "id": "c19b3896",
   "metadata": {
    "hidden": true
   },
   "outputs": [],
   "source": [
    "(easy | prevnan).all()"
   ]
  },
  {
   "cell_type": "code",
   "execution_count": null,
   "id": "fd0958b3",
   "metadata": {
    "hidden": true
   },
   "outputs": [],
   "source": [
    "dfes_sw = dfes_sws[0]"
   ]
  },
  {
   "cell_type": "code",
   "execution_count": null,
   "id": "3c5684c2",
   "metadata": {
    "hidden": true
   },
   "outputs": [],
   "source": [
    "edfc = coln_pairs[0][-1]"
   ]
  },
  {
   "cell_type": "code",
   "execution_count": null,
   "id": "81fc5867",
   "metadata": {
    "hidden": true
   },
   "outputs": [],
   "source": []
  },
  {
   "cell_type": "markdown",
   "id": "fa505682",
   "metadata": {
    "heading_collapsed": true
   },
   "source": [
    "# Spatial and pert generalizations\n",
    "\n"
   ]
  },
  {
   "cell_type": "code",
   "execution_count": null,
   "id": "bf4410fd",
   "metadata": {
    "hidden": true
   },
   "outputs": [],
   "source": [
    "dfcpcos.groupby('trial_index').min('time')"
   ]
  },
  {
   "cell_type": "code",
   "execution_count": null,
   "id": "75fd68fc",
   "metadata": {
    "hidden": true
   },
   "outputs": [],
   "source": [
    "gc.collect()"
   ]
  },
  {
   "cell_type": "code",
   "execution_count": null,
   "id": "2f18af67",
   "metadata": {
    "hidden": true
   },
   "outputs": [],
   "source": [
    "coln_error"
   ]
  },
  {
   "cell_type": "code",
   "execution_count": null,
   "id": "267f9a5c",
   "metadata": {
    "hidden": true
   },
   "outputs": [],
   "source": [
    "drs = dfes_sw['dist_rad_from_prevtgt2'].unique();\n",
    "drs_f = np.array( list(map( float, drs) ) )\n",
    "drs = list(sorted(drs,key = lambda x: float(x)))\n",
    "#drs = list(sorted(drs,key = lambda x: float(x)))\n",
    "#drs = np.array(drs, dtype=int)\n",
    "print(drs)\n",
    "#dfc_s = dfc[dfc['trial_group_col_calc'] == 'trialwtgt_we']\n",
    "# TODO: should I restrict to one env?\n",
    "dfc_s = dfes_sw.query('trial_group_col_calc == \"trialwe\"')\n",
    "grp = dfc_s.groupby(['trial_shift_size', 'dist_rad_from_prevtgt2'])\n",
    "#dts = dfc_multi_tsz['trial_shift_size'].unique()\n",
    "\n",
    "dps = dfes_sw['perturbation_diff_abs'].unique()\n",
    "dps = np.array([dp for dp in dps if not np.isnan(dp)], dtype=int)\n",
    "print(dps)\n",
    "npe = len(dps)"
   ]
  },
  {
   "cell_type": "code",
   "execution_count": null,
   "id": "0deb8605",
   "metadata": {
    "hidden": true
   },
   "outputs": [],
   "source": [
    "from behav_proc import plotPolys, getPvals"
   ]
  },
  {
   "cell_type": "code",
   "execution_count": null,
   "id": "2a04868f",
   "metadata": {
    "hidden": true,
    "run_control": {
     "marked": false
    }
   },
   "outputs": [],
   "source": [
    "drpairs = [(drs[i],drs[i+1] ) for i in range(2)]\n",
    "drpairs += [(drs[0],drs[i] ) for i in range(2,3)]\n",
    "#drpairs += [(drs[1],drs[3] )]\n",
    "print(drpairs)\n",
    "\n",
    "dppairs = [(dps[i],dps[i+1] ) for i in range(2)]\n",
    "dppairs += [(dps[0],dps[i] ) for i in range(2,3)]\n",
    "#dppairs += [(dps[0],dps[i] ) for i in [2]]\n",
    "#dppairs += [(dps[1],dps[3] )]\n",
    "print(dppairs)"
   ]
  },
  {
   "cell_type": "code",
   "execution_count": null,
   "id": "174f1601",
   "metadata": {
    "hidden": true
   },
   "outputs": [],
   "source": [
    "#pvalues, formatted_pvalues, pair2pv = getPvals(dftmp,fitcol, pairs)\n",
    "#pair2pv"
   ]
  },
  {
   "cell_type": "code",
   "execution_count": null,
   "id": "1467aafd",
   "metadata": {
    "hidden": true
   },
   "outputs": [],
   "source": [
    "#df_all_multi_tsz['error_data_for_calc']"
   ]
  },
  {
   "cell_type": "code",
   "execution_count": null,
   "id": "ec12d9af",
   "metadata": {
    "hidden": true
   },
   "outputs": [],
   "source": [
    "calc_names_des = ['lh2_ang_valid', 'signed_area2_nn_valid']"
   ]
  },
  {
   "cell_type": "code",
   "execution_count": null,
   "id": "41c68a33",
   "metadata": {
    "hidden": true
   },
   "outputs": [],
   "source": [
    "#sns.set(font_scale=1.5)\n",
    "sns.set_style(\"whitegrid\", {'font_scale':3})"
   ]
  },
  {
   "cell_type": "code",
   "execution_count": null,
   "id": "4fba4eda",
   "metadata": {
    "code_folding": [
     54
    ],
    "hidden": true
   },
   "outputs": [],
   "source": [
    "import seaborn as sns\n",
    "#%debug\n",
    "ann = 0\n",
    "#hue = 'env_nice'\n",
    "env2color = {'stable':'lightblue', 'random':'orange'}\n",
    "aspect=1.3\n",
    "#rng = [2]\n",
    "#rng = [2,3,4,5,6,7]\n",
    "rng = [2]\n",
    "ylim = [-10,10]\n",
    "#ylim = [-100,100]\n",
    "#ylim = [-1e10,1e10]\n",
    "#fsz=13\n",
    "fd = None\n",
    "meanfit=1\n",
    "bnqs = [  ('grid_line_violin_spatial',\n",
    "           'Spatial distance [deg]',drs,drpairs,\n",
    "           'dist_rad_from_prevtgt2', \n",
    "           f'trial_group_col_calc == \"trials\" and perturbation_diff_abs == 0'),\n",
    "        ( 'grid_line_violin_pert',\n",
    "         'Perturbation difference [deg]',\n",
    "         dps,dppairs,'perturbation_diff_abs',\n",
    "         'trial_group_col_calc == \"trials\" and dist_rad_from_prevtgt2 == 0')]\n",
    "\n",
    "#for env_type in ['stable','random']:\n",
    "#    color = env2color[env_type]\n",
    "color = 'lightblue'\n",
    "for bn,xlab,order,pairs,fitcol,qs in bnqs:\n",
    "    #qs0 = f'trial_group_col_calc == \"trialwe\" and err_sens >= {ylim[0]} and err_sens <= {ylim[1]}'\n",
    "    #qs = qs + ' and trial_shift_size == 1'\n",
    "#         if env_type in ['stable', 'random']:\n",
    "#             qs += ' and env_nice == @env_type'\n",
    "#             hue = None\n",
    "    qs_ = qs + ' and err_sens.abs() <= 10 and error_data_for_calc == \"signed_area2_nn_valid\"'\n",
    "    dftmp0 = dfes_sw.query(qs_)\n",
    "    #fitcol = 'dist_rad_from_prevtgt2'\n",
    "    fg = sns.catplot(kind='violin', data=dftmp0, y='err_sens', \n",
    "                      x=fitcol, order = order, #row ='error_data_for_calc',\n",
    "                     #hue = 'error_data_for_calc',\n",
    "                      color=color, aspect=aspect,\n",
    "                    bw=0.15)\n",
    "    \n",
    "    for cn in calc_names_des:\n",
    "        qs__ = qs_+ ' and error_data_for_calc == @cn'\n",
    "        dftmp = dfes_sw.query(qs__).copy()\n",
    "        print(cn)\n",
    "        print(qs__, 'len = ',len(dftmp))\n",
    "        for alt in ['less','greater','two-sided']:\n",
    "            print('alt = ',alt)\n",
    "            pvalues, formatted_pvalues, pair2pv = \\\n",
    "                getPvals(dftmp,fitcol, pairs, alternative=alt)\n",
    "\n",
    "\n",
    "    for ax in fg.axes.flatten():\n",
    "        ax.axhline(0,ls=':',c='r')\n",
    "        ax.set_ylabel('Error sensitivity', fontdict=fd)\n",
    "        ax.set_xlabel(xlab, fontdict=fd)\n",
    "        if bn == 'grid_line_violin_spatial':\n",
    "            ax.set_xticklabels(['same target', 20, 40])\n",
    "        ax.set_ylim(ylim)\n",
    "        #ax.set_title(f'{env_type} environment', y = 0.967,\n",
    "        #            fontdict={'fontsize':15, 'fontweight':'bold'})\n",
    "\n",
    "\n",
    "    if ann:\n",
    "        from statannotations.Annotator import Annotator    \n",
    "        annotator = Annotator(ax,pairs, data=dftmp0, x=fitcol, y='err_sens',\n",
    "                             plot='violinplot', order=order)\n",
    "        #annotator.set_custom_annotations(formatted_pvalues)\n",
    "        annotator.set_pvalues(pvalues)\n",
    "        annotator.annotate()        \n",
    "\n",
    "        plotPolys(ax,dftmp,fitcol, degs=rng, mean=meanfit)\n",
    "        \n",
    "    ax.set_ylim(*ylim)\n",
    "    #break\n",
    "    #bn = 'grid_line_violin_spatial'\n",
    "    plt.savefig(pjoin(path_fig_nf,f'{bn}.svg'))\n",
    "    plt.savefig(pjoin(path_fig_nf,f'{bn}.pdf'))"
   ]
  },
  {
   "cell_type": "markdown",
   "id": "2b4538d9",
   "metadata": {
    "heading_collapsed": true
   },
   "source": [
    "# Working with context similarity"
   ]
  },
  {
   "cell_type": "code",
   "execution_count": null,
   "id": "5672fede",
   "metadata": {
    "hidden": true
   },
   "outputs": [],
   "source": [
    "sns.catplot?"
   ]
  },
  {
   "cell_type": "code",
   "execution_count": null,
   "id": "a8ab3f9f",
   "metadata": {
    "hidden": true
   },
   "outputs": [],
   "source": [
    "colnes"
   ]
  },
  {
   "cell_type": "code",
   "execution_count": null,
   "id": "c3dbb184",
   "metadata": {
    "hidden": true
   },
   "outputs": [],
   "source": [
    "dfes_sw['error_lh_ang_deg'] = dfes_sw['error_lh_ang'] * 180 / np.pi\n",
    "dfes_sw['error_lh_ang_deg_abs'] = dfes_sw['error_lh_ang_deg'].abs()\n",
    "dfes_sw['error_area2_signed_nn_abs'] = dfes_sw['error_area2_signed_nn'].abs()\n",
    "dfes_sw['target_locs_nice'] = np.round(dfes_sw['target_locs']).astype('int') - 90"
   ]
  },
  {
   "cell_type": "code",
   "execution_count": null,
   "id": "e9616487",
   "metadata": {
    "hidden": true
   },
   "outputs": [],
   "source": [
    "len(dfes_sw)"
   ]
  },
  {
   "cell_type": "code",
   "execution_count": null,
   "id": "bd6b476d",
   "metadata": {
    "hidden": true
   },
   "outputs": [],
   "source": [
    "df_notsame = dfes_sw.query('prev_block_ind_diff > 0')\n",
    "len(df_notsame)"
   ]
  },
  {
   "cell_type": "code",
   "execution_count": null,
   "id": "2c138061",
   "metadata": {
    "hidden": true
   },
   "outputs": [],
   "source": [
    "calcName2puberr = {'lh_ang':'error_lh_ang_deg'}\n",
    "#edfc"
   ]
  },
  {
   "cell_type": "code",
   "execution_count": null,
   "id": "3dfbb698",
   "metadata": {
    "hidden": true
   },
   "outputs": [],
   "source": [
    "dfes_sw['prev_block_ind_diff'] = dfes_sw['prev_block_ind_diff'].astype(int)\n",
    "hue_order = dfes_sw['prev_block_ind_diff'].unique()\n",
    "print(hue_order)"
   ]
  },
  {
   "cell_type": "code",
   "execution_count": null,
   "id": "319734b4",
   "metadata": {
    "hidden": true
   },
   "outputs": [],
   "source": [
    "# plot errors\n",
    "# qs = qs_notspec_not_afterspec\n",
    "# print(qs)\n",
    "# df_ = dfcc_all.query(qs)\n",
    "# np.sum(df_['prev_block_ind_diff'].isna())\n",
    "\n",
    "from behav_proc import coln_ctx_closeness \n",
    "\n",
    "# bw=0.04\n",
    "#df_notsame = dfes_sw.query('prev_block_ind_diff > 0')\n",
    "#df_notsame = dfsw_care_clean\n",
    "#for c, coln_error in zip(['orange','blue'], colnes_abs):\n",
    "c = 'orange'\n",
    "coln_error = calcName2puberr[edfc]\n",
    "for coln in coln_ctx_closeness:\n",
    "    plt.figure(figsize=(4,3))\n",
    "    fg = sns.catplot(dfes_sw, y = coln_error, \n",
    "        kind='violin', height=3, color=c,\n",
    "            x = coln,\n",
    "            cut=coln_error.endswith('_abs'))\n",
    "    for ax in fg.axes.flatten():\n",
    "        ax.axhline(0,ls=':',color='red')\n",
    "        if coln_error.endswith('_abs'):\n",
    "            ax.set_ylim(0,60)\n",
    "# hue_order=hue_order,hue=coln, split=True,    \n",
    "   # break"
   ]
  },
  {
   "cell_type": "code",
   "execution_count": null,
   "id": "1661571f",
   "metadata": {
    "hidden": true
   },
   "outputs": [],
   "source": [
    "dfc_multi_tsz.columns"
   ]
  },
  {
   "cell_type": "markdown",
   "id": "3b87512d",
   "metadata": {
    "hidden": true
   },
   "source": [
    "### ES"
   ]
  },
  {
   "cell_type": "code",
   "execution_count": null,
   "id": "2bc6414c",
   "metadata": {
    "hidden": true
   },
   "outputs": [],
   "source": [
    "print( dfc_multi_tsz['trial_group_col_calc'].unique() )\n",
    "print( dfc_multi_tsz['error_data_for_calc'].unique() )\n",
    "print( dfc_multi_tsz.subject.unique() )"
   ]
  },
  {
   "cell_type": "code",
   "execution_count": null,
   "id": "2be9cd79",
   "metadata": {
    "hidden": true
   },
   "outputs": [],
   "source": [
    "from behav_proc import coln_ctx_closeness \n",
    "\n",
    "c = 'orange'\n",
    "crop = 5\n",
    "coln_error = calcName2puberr[edfc]\n",
    "for coln in coln_ctx_closeness:\n",
    "    plt.figure(figsize=(4,3))\n",
    "    fg = sns.catplot(dfes_sw.query('err_sens.abs() < @crop'),\n",
    "        y = 'err_sens', \n",
    "        kind='violin', height=3, color=c,\n",
    "        x = coln,\n",
    "        cut=coln_error.endswith('_abs'), scale='width',\n",
    "        bw = 0.2)\n",
    "    for ax in fg.axes.flatten():\n",
    "        ax.axhline(0,ls=':',color='red')        \n",
    "        ax.set_ylim(-crop,crop)\n",
    "# hue_order=hue_order,hue=coln, split=True,    "
   ]
  },
  {
   "cell_type": "code",
   "execution_count": null,
   "id": "81880452",
   "metadata": {
    "hidden": true
   },
   "outputs": [],
   "source": [
    "#qs = ('trial_index > @numtrain and trial_type != \"error_clamp\"'\n",
    "#                     ' and special_block_type != \"error_clamp_sandwich\" and prev_trial_type != \"pause\"')"
   ]
  },
  {
   "cell_type": "code",
   "execution_count": null,
   "id": "1f8273f4",
   "metadata": {
    "hidden": true
   },
   "outputs": [],
   "source": [
    "# edfc = 'signed_area2_nn_scaled_ed'\n",
    "# tl = 'target'\n",
    "# #tl = 'trial_end'\n",
    "# #f'subject == \"{subj}\"' \n",
    "# qs_es = ('error_data_for_calc == @edfc'\n",
    "#           ' and trial_shift_size == 1 '\n",
    "#           ' and trial_group_col_calc == \"trials\"'\n",
    "#           ' and time_locked == @tl'\n",
    "#          )  "
   ]
  },
  {
   "cell_type": "code",
   "execution_count": null,
   "id": "5793c82e",
   "metadata": {
    "hidden": true
   },
   "outputs": [],
   "source": [
    "# TODO put to sameness info to dfcc before calc err sens \n",
    "for c, cp in zip(['orange','blue'], coln_pairs):\n",
    "    \n",
    "    \n",
    "    \n",
    "    \n",
    "    coln_error = cp[0]\n",
    "    edfc = cp[-1]\n",
    "    print(cp)\n",
    "    dfes = dfc_multi_tsz.query(qs + ' and trial_shift_size == 1 and error_data_for_calc == @edfc')\n",
    "    dfes = dfes.copy() # otherwise the function below won't work since it modifies inplace\n",
    "    #setContextSimilarityCols(dfes)\n",
    "    for coln in coln_ctx_closeness:\n",
    "        plt.figure(figsize=(4,3))        \n",
    "        fg = sns.catplot(dfes, y = 'err_sens', \n",
    "            col=coln, kind='violin', height=3, color=c)\n",
    "        for ax in fg.axes.flatten():\n",
    "            ax.axhline(0,ls=':',color='red')\n",
    "            ax.set_ylim(-20,20)\n",
    "        break\n",
    "    gc.collect()"
   ]
  },
  {
   "cell_type": "code",
   "execution_count": null,
   "id": "a97f0d2e",
   "metadata": {
    "hidden": true
   },
   "outputs": [],
   "source": [
    "plt.close('all')"
   ]
  },
  {
   "cell_type": "code",
   "execution_count": null,
   "id": "89adf8d4",
   "metadata": {
    "hidden": true
   },
   "outputs": [],
   "source": [
    "numtrain"
   ]
  },
  {
   "cell_type": "code",
   "execution_count": null,
   "id": "2b35250a",
   "metadata": {
    "hidden": true
   },
   "outputs": [],
   "source": [
    "qs"
   ]
  },
  {
   "cell_type": "code",
   "execution_count": null,
   "id": "ae73d212",
   "metadata": {
    "hidden": true
   },
   "outputs": [],
   "source": []
  },
  {
   "cell_type": "code",
   "execution_count": null,
   "id": "2c0f04ef",
   "metadata": {
    "hidden": true
   },
   "outputs": [],
   "source": [
    "edfc"
   ]
  },
  {
   "cell_type": "code",
   "execution_count": null,
   "id": "b6da74ef",
   "metadata": {
    "hidden": true
   },
   "outputs": [],
   "source": [
    "for c, cp in zip(['orange','blue'], coln_pairs):\n",
    "    #coln_error = cp[0]\n",
    "    edfc = cp[-1]\n",
    "    dfes = dfc_multi_tsz.query(qs + \n",
    "        ' and trial_shift_size == 1 and error_data_for_calc == @edfc')\n",
    "    fg = sns.catplot(dfes, kind='violin', y='err_sens', height=3)\n",
    "    for ax in fg.axes.flatten():\n",
    "        ax.axhline(0,ls=':',color='red')\n",
    "        ax.set_title(edfc)\n",
    "        ax.set_ylim(-5,5)"
   ]
  },
  {
   "cell_type": "markdown",
   "id": "8c77d7fa",
   "metadata": {
    "heading_collapsed": true
   },
   "source": [
    "# ES cropping"
   ]
  },
  {
   "cell_type": "code",
   "execution_count": null,
   "id": "0129f4dc",
   "metadata": {
    "hidden": true
   },
   "outputs": [],
   "source": [
    "edfcs = df_all_multi_tsz['error_data_for_calc'].unique()\n",
    "print(edfcs)"
   ]
  },
  {
   "cell_type": "code",
   "execution_count": null,
   "id": "0170edf3",
   "metadata": {
    "hidden": true
   },
   "outputs": [],
   "source": [
    "cp2dfces_remained_notspec = {}\n",
    "for cp in coln_pairs[:2][::-1]:\n",
    "\n",
    "    coln_error = cp[0]\n",
    "    edfc = cp[-1]\n",
    "\n",
    "    print(cp)\n",
    "    tl = 'target'\n",
    "\n",
    "    qs_es = ('error_data_for_calc == @edfc'\n",
    "              ' and trial_shift_size == 1 '\n",
    "              ' and trial_group_col_calc == \"trials\"'\n",
    "              ' and time_locked == @tl and trial_index >= @numtrain')\n",
    "\n",
    "    # qs_es = ('trial_shift_size == 1 '\n",
    "    #           ' and trial_group_col_calc == \"trials\"'\n",
    "    #           ' and time_locked == @tl')\n",
    "\n",
    "\n",
    "    # if remove after spec, I also kill first trials in block for many\n",
    "    # qs_notspec_not_afterspec\n",
    "    qs_es += ' and ' + qs_notspec\n",
    "    print(qs_es, edfc)\n",
    "\n",
    "    dfces = dfc_multi_tsz.query(qs_es)\n",
    "    dfes = df_all_multi_tsz.query(qs_es)\n",
    "\n",
    "    if 'ang' in coln_error:\n",
    "        crop_deg = 1\n",
    "        crop = crop_deg / 180 * np.pi \n",
    "        crop_es = 36.452  # we don't want to throw away when correction was small as well\n",
    "    else:\n",
    "        # pretty arbitrary\n",
    "        crop = coln2mvar_std_preverr[coln_error] / 20.\n",
    "        crop_es = 36\n",
    "    #print(crop)\n",
    "    # NOTE: using correction estimated from motor var trials\n",
    "    # to restrict pert trials is just plain wrong\n",
    "    crop_corr = coln2mvar_std_corr[coln_error] \n",
    "    # true std = \n",
    "    print('crop_corr = ',crop_corr)\n",
    "\n",
    "    qs = '((prev_error.abs() < @crop) and (err_sens.abs() > @crop_es))'\n",
    "    #qs = '((prev_error.abs() < @crop) or (correction.abs() > @crop_corr))'\n",
    "    #qs = '((prev_error.abs() < @crop) )'\n",
    "    dfces_cropped = dfces.query(qs)\n",
    "    print(crop, len(dfces_cropped), len(dfces_cropped) / len(dfces))\n",
    "\n",
    "    dfces_remained = dfces.query('not ' + qs)\n",
    "\n",
    "    print('cropped')\n",
    "    cols = ['trialwb','err_sens','prev_error', 'correction']\n",
    "    display(dfces_cropped[cols].describe())\n",
    "    print('remained', len(dfces_remained))\n",
    "    display(dfces_remained[cols].describe())\n",
    "\n",
    "    from behav_proc import qs_notspec_not_afterspec, qs_notspec\n",
    "    dfces_remained_notspec = dfces_remained.query(qs_notspec)\n",
    "\n",
    "    print('remained not spec', len(dfces_remained_notspec))\n",
    "    display(dfces_remained_notspec[cols].describe())\n",
    "    \n",
    "    cp2dfces_remained_notspec[cp] = dfces_remained_notspec"
   ]
  },
  {
   "cell_type": "code",
   "execution_count": null,
   "id": "691b2490",
   "metadata": {
    "hidden": true
   },
   "outputs": [],
   "source": [
    "coln_pairs"
   ]
  },
  {
   "cell_type": "code",
   "execution_count": null,
   "id": "8c6dd526",
   "metadata": {
    "hidden": true
   },
   "outputs": [],
   "source": [
    "coln2mvar_std_preverr"
   ]
  },
  {
   "cell_type": "code",
   "execution_count": null,
   "id": "28a966ce",
   "metadata": {
    "hidden": true
   },
   "outputs": [],
   "source": [
    "dfces_cropped.query('subject == \"2023-SE1-001\"')[['Nctx_app'] + cols_binfo]"
   ]
  },
  {
   "cell_type": "code",
   "execution_count": null,
   "id": "6c1dfce1",
   "metadata": {
    "hidden": true
   },
   "outputs": [],
   "source": [
    "with pd.option_context('display.max_rows', None, 'display.max_columns', None):\n",
    "    #print (df)\n",
    "    display(sz)"
   ]
  },
  {
   "cell_type": "code",
   "execution_count": null,
   "id": "fecd80e3",
   "metadata": {
    "hidden": true
   },
   "outputs": [],
   "source": [
    "cols = ['subject','Nctx_app','trialwb',\n",
    "              'perturbation','err_sens']\n",
    "sz=  dfces_cropped.groupby(cols[:-2]).size()"
   ]
  },
  {
   "cell_type": "code",
   "execution_count": null,
   "id": "47635690",
   "metadata": {
    "hidden": true
   },
   "outputs": [],
   "source": [
    "sns.pairplot(data=dfces_cropped, \n",
    "        vars=cols)"
   ]
  },
  {
   "cell_type": "code",
   "execution_count": null,
   "id": "19969fc7",
   "metadata": {
    "hidden": true
   },
   "outputs": [],
   "source": [
    "#display(dfces_cropped['err_sens'].abs().describe())\n",
    "dfces_remained['err_sens'].hist(bins=100)"
   ]
  },
  {
   "cell_type": "code",
   "execution_count": null,
   "id": "963de9a6",
   "metadata": {
    "hidden": true
   },
   "outputs": [],
   "source": [
    "dfcpc_all.query('subject == \"2023-SE1-015\"')['trial_index'].unique()"
   ]
  },
  {
   "cell_type": "code",
   "execution_count": null,
   "id": "9256f4b1",
   "metadata": {
    "hidden": true
   },
   "outputs": [],
   "source": [
    "dfces_cropped_smalles = \\\n",
    "    dfces_cropped.query('err_sens.abs() < 1e-4')\n",
    "print(len(dfces_cropped_smalles))"
   ]
  },
  {
   "cell_type": "code",
   "execution_count": null,
   "id": "5cd96b48",
   "metadata": {
    "hidden": true,
    "run_control": {
     "marked": false
    }
   },
   "outputs": [],
   "source": [
    "from behav_proc import plotAllTajCouples\n",
    "# these are trials where correction is really small \n",
    "# (after looking at plots)\n",
    "dfces_cropped_smalles = \\\n",
    "    dfces_cropped.query('err_sens.abs() < 1e-3')\n",
    "plotAllTajCouples(dfces_cropped_smalles, df_all_multi_tsz, dfc_all,\n",
    "                 params, exitpt_col='time_tmstart2')"
   ]
  },
  {
   "cell_type": "code",
   "execution_count": null,
   "id": "d2dccd8c",
   "metadata": {
    "hidden": true
   },
   "outputs": [],
   "source": [
    "df_ = dfces_cropped.query('trialwb > 0').nlargest(20,'err_sens')\n",
    "df_[['trial_index','trialwb','err_sens','prev_error','correction']]"
   ]
  },
  {
   "cell_type": "code",
   "execution_count": null,
   "id": "a3172dd0",
   "metadata": {
    "hidden": true
   },
   "outputs": [],
   "source": [
    "from behav_proc import plotAllTajCouples\n",
    "\n",
    "plotAllTajCouples(df_, \n",
    "      df_all_multi_tsz, dfc_all,\n",
    "     params, exitpt_col='time_tmstart2')"
   ]
  },
  {
   "cell_type": "code",
   "execution_count": null,
   "id": "9f406f12",
   "metadata": {
    "hidden": true
   },
   "outputs": [],
   "source": []
  },
  {
   "cell_type": "code",
   "execution_count": null,
   "id": "6ee97e3a",
   "metadata": {
    "hidden": true
   },
   "outputs": [],
   "source": [
    "#.query('trialwb > 0')\n",
    "df_ = dfces_remained.nlargest(20,'err_sens')\n",
    "cols_binfo = ['trial_index','trialwb','prev_trial_type','perturbation','prev_perturbation_valid',\n",
    "     'err_sens','prev_error','correction']\n",
    "df_[cols_binfo]"
   ]
  },
  {
   "cell_type": "code",
   "execution_count": null,
   "id": "404d8db3",
   "metadata": {
    "hidden": true
   },
   "outputs": [],
   "source": [
    "from behav_proc import plotAllTajCouples\n",
    "\n",
    "plotAllTajCouples(df_, \n",
    "      df_all_multi_tsz, dfc_all,\n",
    "     params, exitpt_col='time_tmstart2')"
   ]
  },
  {
   "cell_type": "code",
   "execution_count": null,
   "id": "99f57005",
   "metadata": {
    "hidden": true
   },
   "outputs": [],
   "source": []
  },
  {
   "cell_type": "code",
   "execution_count": null,
   "id": "102802b8",
   "metadata": {
    "hidden": true
   },
   "outputs": [],
   "source": [
    "#c = np.isinf( df_all_multi_tsz['err_sens'] ) | np.isna( df_all_multi_tsz['err_sens'] )\n",
    "#c2 = df_all_multi_tsz['err_sens'] > 0\n",
    "#df_all_multi_tsz.loc[~c, 'err_sens_log'] \n",
    "#NOOOO. log will give negatives itself so there will be bad overlap"
   ]
  },
  {
   "cell_type": "code",
   "execution_count": null,
   "id": "4c97efe3",
   "metadata": {
    "hidden": true
   },
   "outputs": [],
   "source": [
    "assert not dfes.duplicated().any()"
   ]
  },
  {
   "cell_type": "code",
   "execution_count": null,
   "id": "3da2d1c4",
   "metadata": {
    "hidden": true
   },
   "outputs": [],
   "source": [
    "dfes.error_coln_for_calc"
   ]
  },
  {
   "cell_type": "code",
   "execution_count": null,
   "id": "4bcd2747",
   "metadata": {
    "hidden": true
   },
   "outputs": [],
   "source": [
    "dfes['Nctx_app']"
   ]
  },
  {
   "cell_type": "code",
   "execution_count": null,
   "id": "0355feb4",
   "metadata": {
    "hidden": true
   },
   "outputs": [],
   "source": [
    "'prev_error_area2_signed_nn'"
   ]
  },
  {
   "cell_type": "code",
   "execution_count": null,
   "id": "08ad6df5",
   "metadata": {
    "hidden": true
   },
   "outputs": [],
   "source": []
  },
  {
   "cell_type": "code",
   "execution_count": null,
   "id": "2e856efe",
   "metadata": {
    "hidden": true
   },
   "outputs": [],
   "source": [
    "dfces_remained_notspec.query('err_sens.abs() > 15')[cols_binfo]"
   ]
  },
  {
   "cell_type": "code",
   "execution_count": null,
   "id": "33b9b28e",
   "metadata": {
    "hidden": true
   },
   "outputs": [],
   "source": [
    "dfces_remained.query('err_sens.abs() > 20')[cols_binfo]"
   ]
  },
  {
   "cell_type": "code",
   "execution_count": null,
   "id": "4bbbbeed",
   "metadata": {
    "hidden": true
   },
   "outputs": [],
   "source": [
    "# this is a bad crop, because it acts on err sens directly instead\n",
    "# of actin on inv_prev_error\n",
    "dfces_remained_c2 = dfces_remained.query('err_sens.abs() < 10')\n",
    "dfces_remained_c2[cols_binfo].describe()"
   ]
  },
  {
   "cell_type": "code",
   "execution_count": null,
   "id": "569f95f4",
   "metadata": {
    "hidden": true
   },
   "outputs": [],
   "source": [
    "dfces_remained_c2['prev_error'].abs().describe()"
   ]
  },
  {
   "cell_type": "code",
   "execution_count": null,
   "id": "f990ee8a",
   "metadata": {
    "hidden": true
   },
   "outputs": [],
   "source": [
    " 0.017461 * 180 / np.pi"
   ]
  },
  {
   "cell_type": "code",
   "execution_count": null,
   "id": "a68beeef",
   "metadata": {
    "hidden": true
   },
   "outputs": [],
   "source": [
    "vs = ['block_ind','Nctx_app', 'time_lh', 'ctxid',\n",
    "      'correction', 'prev_error',\n",
    "                  'inv_prev_error','error_lh_ang', \n",
    "      'err_sens' ]\n",
    "sns.pairplot(data=dfces_remained, \n",
    "             vars=vs\n",
    "            )\n",
    "plt.tight_layout()\n",
    "plt.savefig(pjoin(path_fig_nf, \n",
    "        'pairplot_dfces_remained_' + ','.join(vs) + '_' + '.png' ));\n",
    "plt.close()"
   ]
  },
  {
   "cell_type": "code",
   "execution_count": null,
   "id": "294bc6d5",
   "metadata": {
    "hidden": true
   },
   "outputs": [],
   "source": [
    "sns.pairplot(data=dfces_remained_notspec, \n",
    "             vars=vs\n",
    "            )\n",
    "plt.tight_layout()\n",
    "plt.savefig(pjoin(path_fig_nf, \n",
    "        'pairplot_dfces_remained_notspec_' + ','.join(vs) + '_' + '.png' ));\n",
    "plt.close()"
   ]
  },
  {
   "cell_type": "code",
   "execution_count": null,
   "id": "9f7a5acd",
   "metadata": {
    "hidden": true
   },
   "outputs": [],
   "source": [
    "sns.pairplot(data=dfces_remained_c2, \n",
    "             vars=['trial_index', 'trialwb'] + vs\n",
    "            )\n",
    "plt.tight_layout()\n",
    "plt.savefig(pjoin(path_fig_nf, \n",
    "        'pairplot_dfces_remained_c2_' + ','.join(vs) + '_' + '.png' ));\n",
    "plt.close()"
   ]
  },
  {
   "cell_type": "code",
   "execution_count": null,
   "id": "ea8ebc74",
   "metadata": {
    "hidden": true
   },
   "outputs": [],
   "source": [
    "vs = ['block_ind','Nctx_app', 'time_lh',\n",
    "      'correction', 'prev_error',\n",
    "                  'error_lh_ang', 'error_lh2_ang',\n",
    "      'error_area2_signed_nn', 'prev_error_area2_signed_nn']\n",
    "sns.pairplot(data=dfes, \n",
    "             vars=vs\n",
    "            )\n",
    "plt.tight_layout()\n",
    "plt.savefig(pjoin(path_fig_nf, \n",
    "        'pairplot_dfes_' + ','.join(vs) + '_' + '.png' ));\n",
    "plt.close()"
   ]
  },
  {
   "cell_type": "code",
   "execution_count": null,
   "id": "29e5df71",
   "metadata": {
    "hidden": true
   },
   "outputs": [],
   "source": [
    "vs = ['block_ind','Nctx_app', 'time_lh',\n",
    "      'correction', 'prev_error',\n",
    "                  'inv_prev_error','error_lh_ang', \n",
    "      'err_sens' ]\n",
    "sns.pairplot(data=dfces, \n",
    "             vars=vs\n",
    "            )\n",
    "plt.tight_layout()\n",
    "plt.savefig(pjoin(path_fig_nf, \n",
    "        'pairplot_dfces_' + ','.join(vs) + '_' + '.png' ));\n",
    "plt.close()"
   ]
  },
  {
   "cell_type": "code",
   "execution_count": null,
   "id": "d834a09f",
   "metadata": {
    "hidden": true
   },
   "outputs": [],
   "source": [
    "fg = sns.catplot(data=dfces_remained_notspec.query('trialwb == 0'),\n",
    "           kind='swarm', y ='err_sens', x='ctxid')\n",
    "for ax in fg.axes.flatten():\n",
    "    ax.axhline(0,ls=':',color='red')\n",
    "    \n",
    "plt.suptitle('trialwb = 0')"
   ]
  },
  {
   "cell_type": "code",
   "execution_count": null,
   "id": "9ab342c5",
   "metadata": {
    "hidden": true
   },
   "outputs": [],
   "source": [
    "dfecp[['subject','block_ind','trial_index','trialwb',coln_error]]"
   ]
  },
  {
   "cell_type": "code",
   "execution_count": null,
   "id": "2bfaedfb",
   "metadata": {
    "hidden": true
   },
   "outputs": [],
   "source": [
    "coln_error"
   ]
  },
  {
   "cell_type": "code",
   "execution_count": null,
   "id": "95ebaa09",
   "metadata": {
    "hidden": true
   },
   "outputs": [],
   "source": [
    "dfcc_all.columns"
   ]
  },
  {
   "cell_type": "code",
   "execution_count": null,
   "id": "0b07ae6b",
   "metadata": {
    "hidden": true
   },
   "outputs": [],
   "source": [
    "dfecp['trialwb'].describe()"
   ]
  },
  {
   "cell_type": "markdown",
   "id": "c56ee653",
   "metadata": {
    "heading_collapsed": true
   },
   "source": [
    "# ES simple violins"
   ]
  },
  {
   "cell_type": "code",
   "execution_count": null,
   "id": "59f7627b",
   "metadata": {
    "hidden": true
   },
   "outputs": [],
   "source": [
    "dfces_remained_notspec_joined = []\n",
    "for cp, df_ in cp2dfces_remained_notspec.items():\n",
    "    if 'valid' in cp[-1]:\n",
    "        dfces_remained_notspec_joined += [df_]\n",
    "dfces_remained_notspec_joined = pd.concat(dfces_remained_notspec_joined)"
   ]
  },
  {
   "cell_type": "code",
   "execution_count": null,
   "id": "94947041",
   "metadata": {
    "hidden": true
   },
   "outputs": [],
   "source": [
    "from behav_proc import coln2pubname"
   ]
  },
  {
   "cell_type": "code",
   "execution_count": null,
   "id": "0ec14010",
   "metadata": {
    "hidden": true
   },
   "outputs": [],
   "source": [
    "#sns.set(font_scale=1.5)\n",
    "sns.set_style(\"whitegrid\", {'font_scale':1.5})"
   ]
  },
  {
   "cell_type": "code",
   "execution_count": null,
   "id": "c17652c6",
   "metadata": {
    "hidden": true
   },
   "outputs": [],
   "source": [
    "palette=['darkgreen','brown']\n",
    "i = 0\n",
    "for cp,df_ in list( cp2dfces_remained_notspec.items() ):\n",
    "    ax = plt.gca()\n",
    "    df_.hist('err_sens',bins=np.linspace(-3,3,60), ax=ax,\n",
    "            alpha=0.6,label=coln2pubname[cp[0]] )#, color=palette[i] )\n",
    "    #plt.xlim(-10,10)\n",
    "    plt.vlines([0],0,900, color='r', ls='--', lw=4,alpha= 0.7)\n",
    "    plt.legend()\n",
    "    plt.suptitle('Error sensitivity')\n",
    "    plt.title('')\n",
    "    i += 1\n",
    "    break\n",
    "plt.savefig(pjoin(path_fig_nf,'ES_hist_area_only.svg'))\n",
    "plt.savefig(pjoin(path_fig_nf,'ES_hist_area_only.pdf'))"
   ]
  },
  {
   "cell_type": "code",
   "execution_count": null,
   "id": "aaa78185",
   "metadata": {
    "hidden": true
   },
   "outputs": [],
   "source": []
  },
  {
   "cell_type": "code",
   "execution_count": null,
   "id": "adb58767",
   "metadata": {
    "hidden": true
   },
   "outputs": [],
   "source": [
    "coln"
   ]
  },
  {
   "cell_type": "code",
   "execution_count": null,
   "id": "07cd712d",
   "metadata": {
    "hidden": true
   },
   "outputs": [],
   "source": [
    "print(len(df_))\n",
    "fg = sns.catplot(data=dfces_remained_notspec_joined, \n",
    "    kind='boxen',  x ='error_data_for_calc',\n",
    "    y='err_sens' )#, bw=0.0012)\n",
    "for ax in fg.axes.flatten():\n",
    "    ax.axhline(0,c='r',ls=':')\n",
    "    ax.set_ylim(-10,10)\n",
    "\n",
    "#break"
   ]
  },
  {
   "cell_type": "markdown",
   "id": "5de859ae",
   "metadata": {
    "heading_collapsed": true
   },
   "source": [
    "# Compute decaly and ground truth err sens"
   ]
  },
  {
   "cell_type": "code",
   "execution_count": null,
   "id": "ee151cad",
   "metadata": {
    "hidden": true
   },
   "outputs": [],
   "source": [
    "dfecp.columns"
   ]
  },
  {
   "cell_type": "code",
   "execution_count": null,
   "id": "d126189d",
   "metadata": {
    "hidden": true
   },
   "outputs": [],
   "source": [
    "colns_err_unpert = [ 'error_unpert_lh2_ang', 'error_unpert_area2_signed_nn']\n",
    "dfecp = dfcc_all.query('special_block_type == \"error_clamp_pair\"' \n",
    "     ' and prev_perturbation_valid.abs() > 0 ')\n",
    "rs = []\n",
    "def f(dftmp, coln):\n",
    "    assert len(dftmp) == 2\n",
    "    #coln = 'ang_fb_lh_to_postlh'\n",
    "    eo0 = dftmp.iloc[0][coln]\n",
    "    eo1 = dftmp.iloc[1][coln]\n",
    "    if abs(eo0) < 1e-10:\n",
    "        print(dftmp.iloc[0])\n",
    "        return np.nan\n",
    "    return abs( eo1/eo0 )\n",
    "\n",
    "for coln in colns_err_unpert:\n",
    "    print(coln)\n",
    "    decay0 = dfecp.groupby(['subject','block_ind']).\\\n",
    "        apply(lambda x: f(x, coln))\n",
    "    decay = decay0.reset_index()\n",
    "    \n",
    "    df_ = decay.groupby('subject')[0].median().to_frame()\n",
    "    \n",
    "    \n",
    "    display(decay.describe())\n",
    "    decay = decay.rename(columns={0:'decay'})\n",
    "    # bad hack but otherwise it is nonsense\n",
    "    decay = decay.query('decay < 2')\n",
    "    display(decay.describe())\n",
    "    #decay_wsubj = \n",
    "    \n",
    "    \n",
    "    df_['coln'] = coln\n",
    "    rs += [df_]\n",
    "    #desc = decay_wsubj.describe()\n",
    "    #display (desc )\n",
    "    \n",
    "df_ = pd.concat(rs).reset_index().set_index(['subject','coln'])\n",
    "decay_wsubj = df_.to_dict()\n",
    "decay_wsubj = decay_wsubj[0]"
   ]
  },
  {
   "cell_type": "code",
   "execution_count": null,
   "id": "47c49bfc",
   "metadata": {
    "hidden": true
   },
   "outputs": [],
   "source": [
    "decay_wsubj"
   ]
  },
  {
   "cell_type": "code",
   "execution_count": null,
   "id": "d4cfaec9",
   "metadata": {
    "hidden": true
   },
   "outputs": [],
   "source": [
    "cps = list(zip( colns_err_unpert, colnes))\n",
    "display(cps)"
   ]
  },
  {
   "cell_type": "code",
   "execution_count": null,
   "id": "edbfebec",
   "metadata": {
    "hidden": true
   },
   "outputs": [],
   "source": [
    "dfecp = dfcc_all.query('special_block_type == \"error_clamp_sandwich\"' \n",
    "     ' and prev_perturbation_valid.abs() > 0 ')\n",
    "def f(dftmp, coln_unpert, coln_error):\n",
    "    assert len(dftmp) == 3\n",
    "    #coln = 'ang_fb_lh_to_postlh'\n",
    "    alpha = decay_wsubj[dftmp['subject'].values[0], coln_unpert]\n",
    "    coln = 'error_unpert_lh2_ang'\n",
    "    eo0 = dftmp.iloc[0][coln_unpert]\n",
    "    e1  = dftmp.iloc[1][coln_error]\n",
    "    eo2 = dftmp.iloc[2][coln_unpert]\n",
    "    if abs(e1) < 1e-10:\n",
    "        print(dftmp.iloc[0])\n",
    "        return np.nan\n",
    "    return (eo2 - alpha * eo0) /e1\n",
    "\n",
    "for coln_unpert, coln_error in cps:\n",
    "    print(coln_unpert, coln_error)\n",
    "\n",
    "    es_gt0 = dfecp.groupby(['subject','block_ind']).\\\n",
    "        apply(lambda x: f(x, coln_unpert, coln_error))\n",
    "    es_gt = es_gt0.reset_index()\n",
    "    es_gt = es_gt.rename(columns={0:'err_sens_gt'})\n",
    "    display(es_gt)\n",
    "    desc = es_gt.groupby('subject')['err_sens_gt'].mean().describe()\n",
    "    display (desc )"
   ]
  },
  {
   "cell_type": "code",
   "execution_count": null,
   "id": "ee2cd4d7",
   "metadata": {
    "hidden": true
   },
   "outputs": [],
   "source": [
    "# err / err"
   ]
  },
  {
   "cell_type": "code",
   "execution_count": null,
   "id": "8358f803",
   "metadata": {
    "hidden": true
   },
   "outputs": [],
   "source": [
    "df_all_multi_tsz['is_ctxchange_first_felt']"
   ]
  },
  {
   "cell_type": "markdown",
   "id": "787e4793",
   "metadata": {
    "heading_collapsed": true
   },
   "source": [
    "# Timecourse of ES"
   ]
  },
  {
   "cell_type": "code",
   "execution_count": null,
   "id": "a0bcddf2",
   "metadata": {
    "hidden": true
   },
   "outputs": [],
   "source": [
    "pause_block_inds = dfcpcos.groupby('trial_index').min('time')\n",
    "pause_block_inds = pause_block_inds['block_ind'].unique()\n",
    "\n",
    "display(pause_block_inds % 8)\n",
    "\n",
    "c = df_all_multi_tsz['block_ind'] % 8 == 4\n",
    "df_all_multi_tsz.loc[c & (df_all_multi_tsz['trialwb'] == 0), \n",
    "            ['trial_type','prev_trial_type','err_sens']]"
   ]
  },
  {
   "cell_type": "code",
   "execution_count": null,
   "id": "e616664a",
   "metadata": {
    "hidden": true
   },
   "outputs": [],
   "source": [
    "dfces_remained_notspec['prev_error'].abs().describe()"
   ]
  },
  {
   "cell_type": "code",
   "execution_count": null,
   "id": "08d9a23f",
   "metadata": {
    "hidden": true
   },
   "outputs": [],
   "source": [
    "# for not so small prev errors and outside spec trials\n",
    "# err sens gwos really only on the very first trial, then stabilizes"
   ]
  },
  {
   "cell_type": "code",
   "execution_count": null,
   "id": "2c478928",
   "metadata": {
    "hidden": true
   },
   "outputs": [],
   "source": [
    "gc.collect()"
   ]
  },
  {
   "cell_type": "code",
   "execution_count": null,
   "id": "3034ab66",
   "metadata": {
    "hidden": true
   },
   "outputs": [],
   "source": [
    "#sns.set(font_scale=1.5)\n",
    "sns.set_style(\"whitegrid\", {'font_scale':1.5})"
   ]
  },
  {
   "cell_type": "code",
   "execution_count": null,
   "id": "364efe3a",
   "metadata": {
    "hidden": true
   },
   "outputs": [],
   "source": [
    "df_ = dfces_remained_notspec_joined.query(\n",
    "        ' trialwb < 10 and error_data_for_calc == \"signed_area2_nn_valid\"').copy()\n",
    "print( df_.groupby('subject').size().mean() )\n",
    "df_['perturbed'] = df_['perturbation'].abs() >= 1e-10\n",
    "print(len(df_))\n",
    "#row='midpause'\n",
    "#plt.figure(figsize=(5,3))\n",
    "fg = sns.relplot(data=df_, kind='line', x='trialwb',\n",
    "                 col = 'error_data_for_calc',\n",
    "                 y='err_sens', hue='perturbed', palette=['darkgreen','brown'])\n",
    "for axi,ax in enumerate(fg.axes.flatten()):\n",
    "    ax.axhline(0,ls=':',color='red')\n",
    "    \n",
    "    coln = coln_pairs[1-axi][0]\n",
    "    ttl = coln2pubname[coln]\n",
    "    \n",
    "    ax.set_title(ttl)\n",
    "    ax.set_ylabel('Error sensitivity')\n",
    "    ax.set_xlabel('Trial within block')\n",
    "    ax.set_ylim(-2,1.2)\n",
    "    \n",
    "#plt.suptitle('Dynamics of ES')\n",
    "\n",
    "plt.tight_layout()\n",
    "#plt.legend(loc='lower right')\n",
    "#plt.savefig(pjoin(path_fig_nf,'ES_dyn_average_contexts.svg'))\n",
    "#plt.savefig(pjoin(path_fig_nf,'ES_dyn_average_contexts.pdf'))\n",
    "\n",
    "plt.savefig(pjoin(path_fig_nf,'ES_dyn_average_contexts_only_area.svg'))\n",
    "plt.savefig(pjoin(path_fig_nf,'ES_dyn_average_contexts_only_area.pdf'))\n",
    "#del dfes\n",
    "#break"
   ]
  },
  {
   "cell_type": "code",
   "execution_count": null,
   "id": "680d8c84",
   "metadata": {
    "hidden": true
   },
   "outputs": [],
   "source": [
    "sns.set(font_scale=1.5)"
   ]
  },
  {
   "cell_type": "code",
   "execution_count": null,
   "id": "d3b3ad91",
   "metadata": {
    "hidden": true
   },
   "outputs": [],
   "source": [
    "fg = sns.relplot(data=dfces_remained_notspec_joined, kind='line', x='trialwb',\n",
    "                 y='err_sens', hue='error_data_for_calc',\n",
    "    col='perturbation', \n",
    "    row='tgti_to_show')#, hue='nonhit')\n",
    "for ax in fg.axes.flatten():\n",
    "    ax.axhline(0,ls=':',color='red')\n",
    "    plt.suptitle(f'previos error')\n",
    "    ax.set_ylim(-2,2)\n",
    "    plt.tight_layout()\n",
    "    \n",
    "plt.savefig(pjoin(path_fig_nf,'ES_dyn_contexts.svg'))\n",
    "plt.savefig(pjoin(path_fig_nf,'ES_dyn_contexts.pdf'))"
   ]
  },
  {
   "cell_type": "code",
   "execution_count": null,
   "id": "db7c4942",
   "metadata": {
    "hidden": true,
    "run_control": {
     "marked": false
    }
   },
   "outputs": [],
   "source": [
    "#for crop in [1,3,5,10]:\n",
    "for crop in np.linspace(0.017, 0.33, 3):\n",
    "#for c, cp in zip(['orange','blue'], coln_pairs):\n",
    "#    coln_error = cp[0]\n",
    "#    edfc = cp[-1]\n",
    "    #print(edfs)\n",
    "    df_ = dfces_remained_notspec_joined.query(\n",
    "            ' and prev_error.abs() >= @crop and trialwb < 10').copy()\n",
    "    print( df_.groupby('subject').size().mean() )\n",
    "    df_['perturbed'] = df_['perturbation'].abs() >= 1e-10\n",
    "    df_['midpause'] = df_['block_ind'].astype(int) % 8 == 4\n",
    "\n",
    "    print(len(df_))\n",
    "    #row='midpause'\n",
    "    fg = sns.relplot(data=df_, kind='line', x='trialwb',\n",
    "                     col = 'error_data_for_calc',\n",
    "                     y='err_sens', hue='perturbed')\n",
    "    for ax in fg.axes.flatten():\n",
    "        ax.axhline(0,ls=':',color='red')\n",
    "\n",
    "    plt.suptitle(f'previos error >= {crop * 180 / np.pi:.3f} deg')\n",
    "    plt.tight_layout()\n",
    "    plt.legend(loc='lower right')\n",
    "    #del dfes\n",
    "    #break\n",
    "    gc.collect()"
   ]
  },
  {
   "cell_type": "code",
   "execution_count": null,
   "id": "5e736c23",
   "metadata": {
    "hidden": true
   },
   "outputs": [],
   "source": [
    "for crop in np.linspace(0.017, 0.33, 3):\n",
    "    df_ = dfces_remained_notspec.query(qs_es + \\\n",
    "        ' and prev_error.abs() >= @crop and trialwb < 10')#.copy()\n",
    "    print( df_.groupby('subject').size().mean() )\n",
    "\n",
    "    fg = sns.relplot(data=df_, kind='line', x='trialwb',\n",
    "                     y='err_sens', hue='error_data_for_calc',\n",
    "        col='perturbation', \n",
    "        row='tgti_to_show')#, hue='nonhit')\n",
    "    for ax in fg.axes.flatten():\n",
    "        ax.axhline(0,ls=':',color='red')\n",
    "        plt.suptitle(f'previos error >= {crop * 180 / np.pi:.3f} deg')\n",
    "        ax.set_ylim(-1,1)\n",
    "    plt.tight_layout()\n",
    "    \n"
   ]
  },
  {
   "cell_type": "code",
   "execution_count": null,
   "id": "bb244220",
   "metadata": {
    "hidden": true
   },
   "outputs": [],
   "source": [
    "for crop in np.linspace(0.017, 0.33, 2):\n",
    "    df_ = dfces_remained_notspec.query(qs_es + \\\n",
    "        ' and prev_error.abs() >= @crop and trialwb < 10'\n",
    "                ' and Nctx_app in [1,7]')#.copy()\n",
    "    print( df_.groupby('subject').size().mean() )\n",
    "\n",
    "    fg = sns.relplot(data=df_, kind='line', x='trialwb',\n",
    "                     y='err_sens', hue='Nctx_app',\n",
    "        col='perturbation', \n",
    "        row='tgti_to_show')#, hue='nonhit')\n",
    "    for ax in fg.axes.flatten():\n",
    "        ax.axhline(0,ls=':',color='red')\n",
    "        plt.suptitle(f'previos error >= {crop * 180 / np.pi:.3f} deg')\n",
    "        ax.set_ylim(-2,2)\n",
    "    plt.tight_layout()\n",
    "    \n"
   ]
  },
  {
   "cell_type": "code",
   "execution_count": null,
   "id": "6d4ac4e2",
   "metadata": {
    "hidden": true
   },
   "outputs": [],
   "source": [
    "for crop in np.linspace(0.017, 0.33, 1):\n",
    "    df_ = dfces_remained_notspec.query(qs_es + \\\n",
    "        ' and prev_error.abs() >= @crop and trialwb < 10'\n",
    "        ' and trialwb in [1,4]')#.copy()\n",
    "    print( crop, df_.groupby('subject').size().mean() )\n",
    "\n",
    "    fg = sns.relplot(data=df_, kind='line', x='Nctx_app',\n",
    "                     y='err_sens', hue='trialwb',\n",
    "        col='perturbation', \n",
    "        row='tgti_to_show')#, hue='nonhit')\n",
    "    for ax in fg.axes.flatten():\n",
    "        ax.axhline(0,ls=':',color='red')\n",
    "        plt.suptitle(f'previos error >= {crop * 180 / np.pi:.3f} deg')\n",
    "        ax.set_ylim(-3,3)\n",
    "    plt.tight_layout()\n",
    "    \n"
   ]
  },
  {
   "cell_type": "code",
   "execution_count": null,
   "id": "77e0294a",
   "metadata": {
    "hidden": true
   },
   "outputs": [],
   "source": [
    "for crop in np.linspace(0.017, 0.33, 3):\n",
    "    df_ = dfces_remained_notspec.query(qs_es + \\\n",
    "        ' and prev_error.abs() >= @crop and trialwb == 2')#.copy()\n",
    "    print( df_.groupby('subject').size().mean() )\n",
    "    \n",
    "    fg = sns.relplot(data=df_, kind='line', x='Nctx_app',\n",
    "                     y='err_sens', hue='error_data_for_calc',\n",
    "        col='perturbation', \n",
    "        row='tgti_to_show')#, hue='nonhit')\n",
    "    for ax in fg.axes.flatten():\n",
    "        ax.axhline(0,ls=':',color='red')\n",
    "        plt.suptitle(f'previos error >= {crop * 180 / np.pi:.3f} deg')\n",
    "        ax.set_ylim(-1,1)\n",
    "    plt.tight_layout()"
   ]
  },
  {
   "cell_type": "code",
   "execution_count": null,
   "id": "2a5d2631",
   "metadata": {
    "hidden": true
   },
   "outputs": [],
   "source": [
    "dfcc_all_['subject'].unique()"
   ]
  },
  {
   "cell_type": "code",
   "execution_count": null,
   "id": "6b23b07e",
   "metadata": {
    "hidden": true
   },
   "outputs": [],
   "source": [
    "df_startend['subject'].unique()"
   ]
  },
  {
   "cell_type": "code",
   "execution_count": null,
   "id": "7fedf5cb",
   "metadata": {
    "hidden": true
   },
   "outputs": [],
   "source": [
    "df_startend"
   ]
  },
  {
   "cell_type": "markdown",
   "id": "e1f48710",
   "metadata": {
    "hidden": true
   },
   "source": [
    "#### start end"
   ]
  },
  {
   "cell_type": "code",
   "execution_count": null,
   "id": "1bb9546a",
   "metadata": {
    "hidden": true
   },
   "outputs": [],
   "source": [
    "from behav_proc import getStartEndMultiSubj\n",
    "dfes_startend = getStartEndMultiSubj(dfes)"
   ]
  },
  {
   "cell_type": "code",
   "execution_count": null,
   "id": "ca7c77e2",
   "metadata": {
    "hidden": true
   },
   "outputs": [],
   "source": [
    "#block_bounds"
   ]
  },
  {
   "cell_type": "code",
   "execution_count": null,
   "id": "b46b087f",
   "metadata": {
    "hidden": true
   },
   "outputs": [],
   "source": [
    "df_.query('subject == \"2023-SE1-003\" and block_ind == 12')"
   ]
  },
  {
   "cell_type": "code",
   "execution_count": null,
   "id": "d22574d3",
   "metadata": {
    "hidden": true
   },
   "outputs": [],
   "source": [
    "#df_all_multi_tsz.query('subject == \"2023-SE1-003\" and block_ind == 12')"
   ]
  },
  {
   "cell_type": "code",
   "execution_count": null,
   "id": "4ff88019",
   "metadata": {
    "hidden": true
   },
   "outputs": [],
   "source": [
    "dfcc.query('subject == \"2023-SE1-003\" and block_ind == 12')"
   ]
  },
  {
   "cell_type": "code",
   "execution_count": null,
   "id": "1c6ad754",
   "metadata": {
    "hidden": true
   },
   "outputs": [],
   "source": [
    "block_bounds[r == 1]"
   ]
  },
  {
   "cell_type": "code",
   "execution_count": null,
   "id": "3fd9f0c7",
   "metadata": {
    "hidden": true
   },
   "outputs": [],
   "source": [
    "r = block_bounds['block_end_trial_index'] - block_bounds['block_start_trial_index']\n",
    "r.to_frame().describe()"
   ]
  },
  {
   "cell_type": "code",
   "execution_count": null,
   "id": "236f1403",
   "metadata": {
    "hidden": true
   },
   "outputs": [],
   "source": [
    "#dfes.groupby('subject').size()"
   ]
  },
  {
   "cell_type": "code",
   "execution_count": null,
   "id": "75fdf6dd",
   "metadata": {
    "hidden": true
   },
   "outputs": [],
   "source": [
    "# from single imported\n",
    "for c, cp in zip(['orange','blue'], coln_pairs):\n",
    "    coln_error = cp[0]\n",
    "    edfc = cp[-1]\n",
    "    #print(edfs)\n",
    "    dfes = dfc_multi_tsz.query(qs + ' and trial_shift_size == 1 and error_data_for_calc == @edfc')\n",
    "    dfes_startend = getStartEndMultiSubj(dfes)\n",
    "\n",
    "    for yname in ynames:\n",
    "        plt.figure()\n",
    "        ax = sns.violinplot(df_startend, y=yname, x='trial_type', hue='type', split=True)\n",
    "        ax.axhline(0,ls=':', c='red')\n",
    "        ax.set_ylim(-2,2)\n",
    "        ax.set_title(edfc)"
   ]
  },
  {
   "cell_type": "code",
   "execution_count": null,
   "id": "5ae44c8b",
   "metadata": {
    "hidden": true
   },
   "outputs": [],
   "source": []
  },
  {
   "cell_type": "code",
   "execution_count": null,
   "id": "3a8b16bb",
   "metadata": {
    "hidden": true
   },
   "outputs": [],
   "source": [
    "for yname in ynames:\n",
    "    plt.figure()\n",
    "    q = 5e-3\n",
    "    ymax = df_startend[yname].quantile(1-q)\n",
    "    ymin = df_startend[yname].quantile(q)\n",
    "    ax = sns.violinplot(df_startend.query('trial_type != \"error_clamp\"'), \n",
    "                   y=yname, x='trial_type', hue='type', split=True)\n",
    "    ax.set_ylim(ymin,ymax)\n",
    "    ax.axhline(0,ls=':',c='red')"
   ]
  },
  {
   "cell_type": "code",
   "execution_count": null,
   "id": "c1825048",
   "metadata": {
    "hidden": true
   },
   "outputs": [],
   "source": []
  },
  {
   "cell_type": "markdown",
   "id": "82a817c7",
   "metadata": {},
   "source": [
    "# Pause related"
   ]
  },
  {
   "cell_type": "code",
   "execution_count": null,
   "id": "b911d5c0",
   "metadata": {},
   "outputs": [],
   "source": [
    "colnes"
   ]
  },
  {
   "cell_type": "code",
   "execution_count": null,
   "id": "36e18887",
   "metadata": {},
   "outputs": [],
   "source": [
    "dfext_ = dfces_remained_notspec_joined.query('trial_index > @numtrain and trial_type != \"error_clamp\"')\n",
    "fg = sns.catplot(dfext_, kind='violin', x='prev_trial_type', \n",
    "    y='error_area2_signed_nn', \n",
    "                 col = 'special_block_type')\n",
    "\n",
    "#fg = sns.catplot(dfext_, kind='violin', x='prev_trial_type', \n",
    "#                 y='error_lh_ang', col = 'special_block_type')\n",
    "\n",
    "\n",
    "# dfext_ = dfc_multi_tsz.query('trial_index > @numtrain and trial_type != \"error_clamp\"')\n",
    "# fg = sns.catplot(dfext_, kind='violin', x='prev_trial_type', \n",
    "#                  y='error_area_signed_nn_scaled_ed', col = 'special_block_type')"
   ]
  },
  {
   "cell_type": "code",
   "execution_count": null,
   "id": "c2f54fe9",
   "metadata": {},
   "outputs": [],
   "source": []
  },
  {
   "cell_type": "code",
   "execution_count": null,
   "id": "0d01592c",
   "metadata": {},
   "outputs": [],
   "source": [
    "pause_inds = dfcpc_all.groupby(['subject','trial_index']).max('time').reset_index()\n",
    "pause_block_inds = dfcpcos.groupby('trial_index').min('time')\n",
    "pause_block_inds = pause_block_inds['block_ind'].unique()\n",
    "\n",
    "display(pause_block_inds % 8)\n",
    "\n",
    "c = df_all_multi_tsz['block_ind'] % 8 == 4\n",
    "df_all_multi_tsz.loc[c & (df_all_multi_tsz['trialwb'] == 0), \n",
    "            ['trial_type','prev_trial_type','err_sens']]"
   ]
  },
  {
   "cell_type": "code",
   "execution_count": null,
   "id": "b9df52eb",
   "metadata": {},
   "outputs": [],
   "source": []
  },
  {
   "cell_type": "code",
   "execution_count": null,
   "id": "43ca379c",
   "metadata": {},
   "outputs": [],
   "source": [
    "pause_inds"
   ]
  },
  {
   "cell_type": "code",
   "execution_count": null,
   "id": "d8e63b02",
   "metadata": {},
   "outputs": [],
   "source": [
    "for subj in subjects:\n",
    "    pause_inds.query('subject == @subj')\n",
    "    c = dfcpc_all['subject'] == subj\n",
    "    dfcpc_all.loc[c]"
   ]
  },
  {
   "cell_type": "code",
   "execution_count": null,
   "id": "0fa2aac6",
   "metadata": {},
   "outputs": [],
   "source": [
    "#pause_inds = dfcpc_all['trial_index'].unique()\n",
    "\n",
    "pause_inds = np.array(pause_inds)\n",
    "dfccos['pause_rel'] = -100\n",
    "dfccos.loc[dfccos['trial_index'].isin(pause_inds-1), 'pause_rel'] = -1\n",
    "dfccos.loc[dfccos['trial_index'].isin(pause_inds+1), 'pause_rel'] = 1\n",
    "# for pi in pause_inds:\n",
    "#     piprev=  pi -1\n",
    "#     pinext=  pi +1\n",
    "#     df_ = dfccos.query('trial_index == @piprev')\n"
   ]
  },
  {
   "cell_type": "code",
   "execution_count": null,
   "id": "9f3bfe60",
   "metadata": {},
   "outputs": [],
   "source": [
    "df_ = dfcc_all_.query('pause_rel > -10')\n",
    "#df_ = df_.query('error < 150')\n",
    "\n",
    "ynames = ['error_area_signed',  'error_distance', 'error']\n",
    "for yname in ynames:\n",
    "    plt.figure()\n",
    "    \n",
    "#     if yname  == 'error':\n",
    "#         df_ = df_.query('error < 150')\n",
    "    sns.violinplot(df_, y=yname, x='pause_rel')"
   ]
  }
 ],
 "metadata": {
  "kernelspec": {
   "display_name": "merr2",
   "language": "python",
   "name": "merr2"
  },
  "language_info": {
   "codemirror_mode": {
    "name": "ipython",
    "version": 3
   },
   "file_extension": ".py",
   "mimetype": "text/x-python",
   "name": "python",
   "nbconvert_exporter": "python",
   "pygments_lexer": "ipython3",
   "version": "3.10.10"
  }
 },
 "nbformat": 4,
 "nbformat_minor": 5
}
