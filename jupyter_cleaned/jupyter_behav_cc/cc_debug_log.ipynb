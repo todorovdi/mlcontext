{
 "cells": [
  {
   "cell_type": "code",
   "execution_count": null,
   "id": "a90b0685",
   "metadata": {},
   "outputs": [],
   "source": [
    "%load_ext autoreload\n",
    "%autoreload 2\n",
    "\n",
    "import os\n",
    "ipy = get_ipython()\n",
    "#data_dir_general = '/home/demitau/data_Quentin'\n",
    "#data_subdir_mem_err_main = 'full_experiments/data2'\n",
    "from os.path import join as pjoin\n",
    "import os,sys; sys.path.append(os.path.expandvars('$CODE_MEMORY_ERRORS'))\n",
    "import error_sensitivity\n",
    "#data_dir_input = pjoin(data_dir_general,data_subdir_mem_err_main)\n",
    "import pandas as pd\n",
    "\n",
    "#data_dir_general = '/home/demitau/data_Quentin'\n",
    "#data_subdir_mem_err_main = 'full_experiments/data2'\n",
    "#data_dir_input = pjoin(data_dir_general,data_subdir_mem_err_main)\n",
    "#scripts_dir = pjoin(data_dir_general,'full_experiments','scripts2')\n",
    "\n",
    "data_dir_general = os.path.expandvars('$DATA_QUENTIN')\n",
    "data_dir_input = os.path.expandvars('$DATA_MEMORY_ERRORS_STAB_AND_STOCH')\n",
    "#scripts_dir = pjoin( os.path.expandvars('$CODE_MEMORY_ERRORS'), 'previous_analyses')\n",
    "scripts_dir = pjoin( os.path.expandvars('$CODE_MEMORY_ERRORS'))\n",
    "\n",
    "\n",
    "import numpy as np\n",
    "import matplotlib.pyplot as plt\n",
    "import seaborn as sns\n",
    "print('seaborn ver = ', sns.__version__)\n",
    "#assert sns.__version__ == '0.12.2', sns.__version__\n",
    "import matplotlib as mpl\n",
    "COLOR = 'black'\n",
    "COLOR_INV = 'white'\n",
    "mpl.rcParams['text.color'] = COLOR\n",
    "mpl.rcParams['axes.labelcolor'] = COLOR\n",
    "mpl.rcParams['xtick.color'] = COLOR\n",
    "mpl.rcParams['ytick.color'] = COLOR\n",
    "mpl.rcParams[\"figure.facecolor\"] = COLOR_INV\n",
    "mpl.rcParams[\"axes.facecolor\"] = COLOR_INV\n",
    "\n",
    "\n",
    "sns.set(rc={'axes.facecolor':'white', 'figure.facecolor':'white',\n",
    "           'grid.color':'grey', 'grid.alpha':0.5})\n",
    "\n",
    "tgtc = ['b','g','r','brown']\n",
    "from behav_proc import readParamFiles, addBasicInfo, getGeomInfo"
   ]
  },
  {
   "cell_type": "code",
   "execution_count": null,
   "id": "c7f651d1",
   "metadata": {},
   "outputs": [],
   "source": [
    "path_behav = '/home/demitau/ownCloud/Current/NeuroSci/Romain/code_memory_errors/exper_protocol/dataMEG/'"
   ]
  },
  {
   "cell_type": "code",
   "execution_count": null,
   "id": "74819fb3",
   "metadata": {},
   "outputs": [],
   "source": [
    "fnbs = ['Dmitrii_test_context_change_20230509_165333',\n",
    "'Dmitrii_test_context_change_20230509_165310']"
   ]
  },
  {
   "cell_type": "code",
   "execution_count": null,
   "id": "eff65292",
   "metadata": {},
   "outputs": [],
   "source": [
    "dfs = []\n",
    "for fnb in fnbs:\n",
    "    fnp = fnb + '.param'\n",
    "    r = readParamFiles(fnp, path_behav)\n",
    "    params, phase2trigger, trigger2phase, \\\n",
    "        CONTEXT_TRIGGER_DICT  = r\n",
    "    \n",
    "    fn = fnb + '.log'\n",
    "    fnp = fnb + '.param'\n",
    "\n",
    "    with open(pjoin(path_behav,fn), 'r') as f:\n",
    "         l = f.readline()\n",
    "         truelen = len( l.split(',') )\n",
    "\n",
    "    r = ('trial_index, current_phase_trigger, tgti_to_show,'\n",
    "       ' vis_feedback_type, trial_type, special_block_type, block_ind, '\n",
    "        ' feedbackX, feedbackY, unpert_feedbackX, unpert_feedbackY,'\n",
    "         ' error_distance, target_coordX, target_coordY, '\n",
    "         'feedbackX_when_crossing, feedbackY_when_crossing, '\n",
    "         'jax1, jax2, reward, time, time_abs')\n",
    "    r = r.replace(' ','')\n",
    "    colnames = r.split(',')\n",
    "    print('len(colnames) = ',len(colnames),'truelen = ',truelen,colnames)\n",
    "    assert truelen == len(colnames)\n",
    "\n",
    "    nbad = 3  # recompense strip\n",
    "    #colnames = ['trial_index', 'current_phase_']\n",
    "    df = pd.read_csv(pjoin(path_behav,fn), skipfooter = nbad, on_bad_lines='warn', header=0,\n",
    "                    names=colnames, encoding='latin1')\n",
    "    #encoding='latin-1'\n",
    "    subj_ = fnb.split('_')[0]    \n",
    "    df['subject'] = subj_\n",
    "    dfs += [df]\n",
    "    \n",
    "    df['phase'] = df.apply(lambda row: trigger2phase[row['current_phase_trigger']], 1)\n",
    "    \n",
    "    fnf = pjoin(path_behav, fnb + '_trigger.log')\n",
    "    from behav_proc import loadTriggerLog\n",
    "    dftriglog = loadTriggerLog(fnf,CONTEXT_TRIGGER_DICT)\n",
    "\n",
    "print( 'len = {}, maxtime in min = {}'.format( len(df), df['time'].max() / 60 ) )"
   ]
  },
  {
   "cell_type": "code",
   "execution_count": null,
   "id": "dea48dc8",
   "metadata": {},
   "outputs": [],
   "source": [
    "dfs[0]"
   ]
  },
  {
   "cell_type": "code",
   "execution_count": null,
   "id": "3a3b5adc",
   "metadata": {},
   "outputs": [],
   "source": [
    "dfs[1]"
   ]
  },
  {
   "cell_type": "code",
   "execution_count": null,
   "id": "946b6cf9",
   "metadata": {},
   "outputs": [],
   "source": [
    "dfs[0]['phase']"
   ]
  },
  {
   "cell_type": "code",
   "execution_count": null,
   "id": "594de46a",
   "metadata": {},
   "outputs": [],
   "source": [
    "dfs[1]['phase']"
   ]
  },
  {
   "cell_type": "code",
   "execution_count": null,
   "id": "fe9fb300",
   "metadata": {},
   "outputs": [],
   "source": [
    "params['code_ver']"
   ]
  }
 ],
 "metadata": {
  "kernelspec": {
   "display_name": "merr2",
   "language": "python",
   "name": "merr2"
  },
  "language_info": {
   "codemirror_mode": {
    "name": "ipython",
    "version": 3
   },
   "file_extension": ".py",
   "mimetype": "text/x-python",
   "name": "python",
   "nbconvert_exporter": "python",
   "pygments_lexer": "ipython3",
   "version": "3.10.10"
  }
 },
 "nbformat": 4,
 "nbformat_minor": 5
}
