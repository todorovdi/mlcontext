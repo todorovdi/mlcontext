{
 "cells": [
  {
   "cell_type": "code",
   "execution_count": null,
   "id": "0365da99",
   "metadata": {},
   "outputs": [],
   "source": [
    "%load_ext autoreload\n",
    "%autoreload 2\n",
    "\n",
    "\n",
    "import os,sys; sys.path.append(os.path.expandvars('$CODE_MEMORY_ERRORS'))\n",
    "from os.path import join as pjoin\n",
    "import pandas as pd"
   ]
  },
  {
   "cell_type": "code",
   "execution_count": null,
   "id": "3593a963",
   "metadata": {},
   "outputs": [],
   "source": [
    "#os.environ['DATA_MEMORY_ERRORS_STAB_AND_STOCH']"
   ]
  },
  {
   "cell_type": "code",
   "execution_count": null,
   "id": "931026ee",
   "metadata": {
    "code_folding": []
   },
   "outputs": [],
   "source": [
    "path_behav = '/home/demitau/memerr_code/exper_protocol/data'\n",
    "\n",
    "fnbs = ['_debug__hypnotest_visuomotor_20240504_145324']\n",
    "#'/home/demitau/ownCloud/Current/NeuroSci/Romain/code_memory_errors/exper_protocol/data/_debug__hypnotest_visuomotor_20240506_225706.log'\n",
    "from behav_proc import readParamFiles, addBasicInfo, getGeomInfo\n",
    "\n",
    "multi_param_read_mode = 'read_all'\n",
    "#multi_param_read_mode = 'read_last'\n",
    "print('Number of behav files = ',len(fnbs))\n",
    "\n",
    "if multi_param_read_mode == 'read_last':    \n",
    "    if len(fnbs) > 1:\n",
    "        print('Selecting last param file')\n",
    "    paramfiles = [fn for fn in list( os.listdir(path_behav) ) if fn.endswith('.param')]\n",
    "    last = list( sorted( [ int(fn.split('_')[-1].split('.')[0]) for fn in paramfiles] ) )[-1]\n",
    "    lastpf = [fn for fn in paramfiles if fn.find(str(last)) >= 0][0]\n",
    "    fnbs = [lastpf.split('.')[0]]\n",
    "\n",
    "dfs = []\n",
    "for fnb in fnbs:\n",
    "    fnp = pjoin(path_behav,fnb) + '.param'\n",
    "    assert not fnb.endswith('.log')\n",
    "    assert os.path.exists(fnp)\n",
    "    print(fnp)\n",
    "                \n",
    "    params, phase2trigger, trigger2phase, CONTEXT_TRIGGER_DICT =\\\n",
    "        readParamFiles(fnp, path_behav)\n",
    "    \n",
    "    fn = fnb + '.log'\n",
    "    fnp = fnb + '.param'\n",
    "\n",
    "    fnf = pjoin(path_behav,fn)\n",
    "    with open(fnf, 'r') as f:\n",
    "        #lls = f.readlines()\n",
    "        l = f.readline()\n",
    "        truelen = len( l.split(',') )\n",
    "\n",
    "    r = ('trial_index, current_phase_trigger, tgti_to_show,'\n",
    "       ' vis_feedback_type, trial_type, special_block_type, block_ind, '\n",
    "        ' feedbackX, feedbackY, unpert_feedbackX, unpert_feedbackY,'\n",
    "         ' error_distance, target_coordX, target_coordY, '\n",
    "         'feedbackX_when_crossing, feedbackY_when_crossing, '\n",
    "         'jax1, jax2, reward, time, time_abs')\n",
    "    r = r.replace(' ','')\n",
    "    colnames = r.split(',')\n",
    "    print('len(colnames) = ',len(colnames),'truelen = ',truelen,colnames)\n",
    "    assert truelen == len(colnames), (truelen ,len(colnames))\n",
    "\n",
    "    nbad = 3  # recompense strip\n",
    "    #colnames = ['trial_index', 'current_phase_']\n",
    "    df = pd.read_csv(pjoin(path_behav,fn), skipfooter = nbad, on_bad_lines='warn', header=0,\n",
    "                    names=colnames, encoding='latin1')\n",
    "    #encoding='latin-1'\n",
    "    subj_ = fnb.split('_')[0]    \n",
    "    df['subject'] = subj_\n",
    "    dfs += [df]\n",
    "    \n",
    "    df['phase'] = df.apply(lambda row: trigger2phase[row['current_phase_trigger']], 1)\n",
    "    \n",
    "    fnf = pjoin(path_behav, fnb + '_trigger.log')\n",
    "    from behav_proc import loadTriggerLog\n",
    "    dftriglog = loadTriggerLog(fnf,CONTEXT_TRIGGER_DICT)\n",
    "\n",
    "print( 'len = {}, maxtime in min = {}'.format( len(df), df['time'].max() / 60 ) )"
   ]
  },
  {
   "cell_type": "code",
   "execution_count": null,
   "id": "05106235",
   "metadata": {},
   "outputs": [],
   "source": [
    "d = dict( zip(colnames, len(colnames)*['ignore it']) )\n",
    "d['trial_index'] = 'index of the trial (starting from 0)'\n",
    "d['block_ind'] = 'index of the block (starting from 0)'\n",
    "d['vis_feedback_type'] = \"pertrubation type (can be 'veridical', 'rot90', 'rot45', 'rot135')\"\n",
    "d['feedbackX'] = 'displayed feedback X coord (after applying perturbation), screen coords'\n",
    "d['unpert_feedbackX'] = 'would-be true feedback X coord (i.e. before applying perturbation), screen coords'\n",
    "d['target_coordX'] = 'target coordinates, screen coords'\n",
    "d['jax1'] = 'joystick angle 1 (x direction)'\n",
    "d['jax2'] = 'joystick angle 2 (y direction)'\n",
    "d['reward'] = 'reward on this trial (zero in the beginning of trial, nonzero after reach is finished)'\n",
    "d['time'] = 'time in seconds since start of the task'\n",
    "\n",
    "print('Each row is a time frame. Beware that screen coordinates are not zero centered')\n",
    "print('    Columns:')\n",
    "for cni,cn in enumerate(colnames):\n",
    "    #if len( d[cn] ):\n",
    "    print('column ',cni,':', cn,' = ',d[cn])\n",
    "#display(d)\n",
    "d0 = d"
   ]
  },
  {
   "cell_type": "markdown",
   "id": "b90b6315",
   "metadata": {},
   "source": [
    "I am concerned how to give analysis code to Eleonora:\n",
    "teaching her to use all the thing is hard\n",
    "I could either give her everything and a .py script to apply to data that would give her more columns\n",
    "or I would have to simplify my code a lot to make it convertable\n",
    "\n",
    "Another issue: with big angles there a jump over np.pi is happening and feedback becomes negative"
   ]
  },
  {
   "cell_type": "code",
   "execution_count": null,
   "id": "0ca83f50",
   "metadata": {},
   "outputs": [],
   "source": [
    "dfc['vis_feedback_type'].unique()"
   ]
  },
  {
   "cell_type": "code",
   "execution_count": null,
   "id": "91ceac3a",
   "metadata": {},
   "outputs": [],
   "source": [
    "from behav_proc import addBasicInfo\n",
    "home_position, target_coords = getGeomInfo(params)\n",
    "\n",
    "dfallph, dfc, dfcc, dfcpc, dfctc = addBasicInfo(df, phase2trigger, params,\n",
    "                                             home_position, target_coords, def_subject_ind = 0,\n",
    "                                               check_num_context_appearances=0)\n"
   ]
  },
  {
   "cell_type": "code",
   "execution_count": null,
   "id": "271a6139",
   "metadata": {},
   "outputs": [],
   "source": [
    "#                  subset of dfcc.columns\n",
    "# 'ctxid', 'Nctx_app',\n",
    "# 'error_endpoint_ang', 'error_lh_ang',\n",
    "#        'error_unpert_lh_ang', 'ang_fb_lh', 'ang_ofb_lh',\n",
    "#        'error_area2_signed_nn', 'error_unpert_area2_signed_nn', 'traj_length',\n",
    "#        'ang_tgt', 'ang_fb_lh_to_postlh', 'error_lh2_ang',\n",
    "#        'error_unpert_lh2_ang', 'error_lh_ang_deg', 'error_lh_ang_deg_abs',\n",
    "#        'error_lh2_ang_deg', 'error_lh2_ang_deg_abs'\n",
    "#     'error_area2_signed', \n",
    "#     'error_endpoint_ang_pert_adj', 'error_area2_signed_tln',\n",
    "#        'error_area2_signed_nn_scaled_ed', \n",
    "           \n",
    "#        'error_eucl', \n",
    "#     'feedback_tgt_unrel', 'org_feedback_tgt_unrel',\n",
    "       \n",
    "#         , 'time_mvt',\n",
    "#        'traj_length_adj', 'error_pert_adj',\n",
    "       \n",
    "#     'prev_trial_type', \n",
    "    \n",
    "#     'prev_time_lh',\n",
    "#        'prev_perturbation', 'perturbation_diff', 'perturbation_diff_abs',\n",
    "#        'prev_perturbation_valid', \n",
    "#     'perturbation_valid_diff',\n",
    "#        'perturbation_valid_diff_abs', \n",
    "        \n",
    "#        'prev_trial_index_valid', 'prev_block_pert'],\n",
    "#       dtype='object')"
   ]
  },
  {
   "cell_type": "code",
   "execution_count": null,
   "id": "ec9b4e75",
   "metadata": {},
   "outputs": [],
   "source": [
    "#params['target_location_spread']"
   ]
  },
  {
   "cell_type": "code",
   "execution_count": null,
   "id": "36c9afc2",
   "metadata": {},
   "outputs": [],
   "source": [
    "colnames2 = dfcc.columns\n",
    "\n",
    "d = dict( zip(colnames2, len(colnames2)*['ignore it']) )\n",
    "# angles by default are in radians, except for 'perturbation' columns (they are in deg)\n",
    "\n",
    "print('Define SLTTTT to be straight line trajectory to the target starting at the starting point of the movement')\n",
    "print('note that start position on each trial is slightly different due to imprecision of the joystick')\n",
    "print('so I compute angle based on start position instead of based on center of center of the home circle')\n",
    "\n",
    "\n",
    "d['subject'] = 'name of the subject'\n",
    "d['Nctx_app'] = 'number of times participant experiencis the current perturbation'\n",
    "d['time_lh'] = 'time since start of the trial when home circle is left (reaction time)'\n",
    "d['time_l3h'] = 'same, but what is counted is time of going more than 3 home circle radii from the home circle'\n",
    "d['nonhit'] = 'whether target was NOT hit'\n",
    "d['ang_tgt'] = 'angle between the Nord direction and SLTTTT'\n",
    "d['target_locs'] = 'angle of the target, counting from South direction CCW [deg]'\n",
    "d['time_since_trial_start'] = 'self explanatory [sec]'\n",
    "d['feedback'] = 'angle of the endpoint cursor position'\n",
    "d['org_feedback'] = 'angle of the unperturbed endpoint cursor position'\n",
    "d['prev_ctx_pert_same'] = 'whether previous perturbation was the same'\n",
    "d['trialwb'] = 'index of trial within block '\n",
    "d['traj_length'] = 'length of the trajectory (in pixels)'\n",
    "d['traj_length_adj'] = 'length of the trajectory (in pixels) minus ideal trajectory length'\n",
    "d['prev_block_pert'] = 'perturbation in the previous block'\n",
    "\n",
    "d['ang_fb_lh'] = 'angle between the line segment connecting start position and the point on the home circle where the trajectory exited it, and SLTTTT'\n",
    "d['error_lh2_ang'] = 'angle between the point on the home circle where the trajectory exited it and a point 10 frames after that (can be slightly more accurate than the previous angle), and SLTTTT'\n",
    "\n",
    "d['error_area2_signed_nn'] = 'signed area (multiplied by a constant = 10. / area of 20 deg sector ) between the true trajectory and SLTTTT '\n",
    "d['error_endpoint_ang'] = 'endpoint error in radians'\n",
    "#ctxid?\n",
    "\n",
    "#d['time_mvt'] = 'duration of movement (in milliseconds)'\n",
    "d['error_lh2_ang_valid'] = 'setting errors on trials where the trial was not done in time to be equal to prev trial error'\n",
    "#'error_unpert_lh2_ang_valid', 'error_area2_signed_nn_valid',\n",
    "    \n",
    "print('\\nIn dfcc each row is a trial. Columns:')\n",
    "for cni,cn in enumerate(colnames2):\n",
    "    #if len( d[cn] ):\n",
    "    if d[cn] == 'ignore it':\n",
    "        del d[cn]\n",
    "        continue\n",
    "    print('column ',cni,':', cn,' = ',d[cn])\n",
    "#display(d)"
   ]
  },
  {
   "cell_type": "code",
   "execution_count": null,
   "id": "532b9ef0",
   "metadata": {},
   "outputs": [],
   "source": [
    "#dfcc['error_lh2_ang']"
   ]
  },
  {
   "cell_type": "code",
   "execution_count": null,
   "id": "80f837da",
   "metadata": {},
   "outputs": [],
   "source": [
    "params['time_feedback']"
   ]
  },
  {
   "cell_type": "code",
   "execution_count": null,
   "id": "5af95cd9",
   "metadata": {},
   "outputs": [],
   "source": [
    "dfcc['time_mvt']"
   ]
  },
  {
   "cell_type": "code",
   "execution_count": null,
   "id": "a43f3b53",
   "metadata": {},
   "outputs": [],
   "source": [
    "cols_to_remove = set(dfcc.columns ) - set(d.keys()) - set(d0.keys())\n",
    "cols_to_remove = list(sorted(cols_to_remove))\n",
    "cols_to_remove"
   ]
  },
  {
   "cell_type": "code",
   "execution_count": null,
   "id": "44b9de38",
   "metadata": {},
   "outputs": [],
   "source": [
    "dfcc.plot(x='trial_index',y=['perturbation','error_area2_signed_nn']) #error_lh_ang_deg"
   ]
  },
  {
   "cell_type": "code",
   "execution_count": null,
   "id": "75d6b597",
   "metadata": {},
   "outputs": [],
   "source": [
    "dfcc.plot(x='trial_index',y=['perturbation','feedback']) #error_lh_ang_deg\n",
    "#plt.axhline(0)"
   ]
  },
  {
   "cell_type": "code",
   "execution_count": null,
   "id": "bddd4777",
   "metadata": {},
   "outputs": [],
   "source": [
    "dfcc.plot(x='trial_index',y=['perturbation','unpert_feedbackX','unpert_feedbackY']) #error_lh_ang_deg"
   ]
  },
  {
   "cell_type": "code",
   "execution_count": null,
   "id": "a77ee7f6",
   "metadata": {},
   "outputs": [],
   "source": [
    "dfcc.plot(x='trial_index',y=['perturbation','org_feedback_tgt_unrel']) #error_lh_ang_deg"
   ]
  },
  {
   "cell_type": "code",
   "execution_count": null,
   "id": "7bb00da9",
   "metadata": {},
   "outputs": [],
   "source": [
    "dfcc.plot(x='trial_index',y=['perturbation','feedback','error_lh2_ang_deg']) #error_lh_ang_deg"
   ]
  },
  {
   "cell_type": "code",
   "execution_count": null,
   "id": "7d6c3860",
   "metadata": {},
   "outputs": [],
   "source": []
  }
 ],
 "metadata": {
  "kernelspec": {
   "display_name": "merr3_mamba",
   "language": "python",
   "name": "merr3_mamba"
  },
  "language_info": {
   "codemirror_mode": {
    "name": "ipython",
    "version": 3
   },
   "file_extension": ".py",
   "mimetype": "text/x-python",
   "name": "python",
   "nbconvert_exporter": "python",
   "pygments_lexer": "ipython3",
   "version": "3.11.5"
  }
 },
 "nbformat": 4,
 "nbformat_minor": 5
}
