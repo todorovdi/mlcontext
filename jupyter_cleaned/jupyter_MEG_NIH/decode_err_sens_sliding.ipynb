{
 "cells": [
  {
   "cell_type": "code",
   "execution_count": null,
   "id": "a830810b",
   "metadata": {},
   "outputs": [],
   "source": [
    "path = '/home/demitau/ju_lyon/memerr/code'\n",
    "\n",
    "#%debug\n",
    "%load_ext autoreload\n",
    "%autoreload 2\n",
    "from os.path import join as pjoin\n",
    "runstrings = open( pjoin(path,'_runstrings.txt'),'r').readlines()\n",
    "import os,sys; sys.path.append(os.path.expandvars('$CODE_MEMORY_ERRORS'))\n",
    "\n",
    "\n",
    "\n",
    "istr = 0\n",
    "rs = runstrings[istr]\n",
    "if rs.startswith('ipython'):\n",
    "    pstr = ' '.join( rs.split(' ')[5:] )[:-1]\n",
    "    runf = rs.split(' ')[2]\n",
    "    from pathlib import Path\n",
    "    runf = pjoin(os.path.expandvars('$CODE_MEMORY_ERRORS'), Path(runf).name)\n",
    "    rsmod = runf + ' ' + pstr \n",
    "    print( rsmod )\n",
    "else:\n",
    "    pstr = ' '.join( rs.split(' ')[1:] )[:-1]\n",
    "    #runf = rs.split(' ')[2]00\n",
    "\n",
    "pstr += ' --debug 1 --use_preloaded_raw 1 --use_preloaded_flt_raw 1'\n",
    "    \n",
    "import gc; gc.collect()\n",
    "\n",
    "#ipython.magic()\n",
    "#%debug\n",
    "#mstr0 = '%run -i ' + rsmod\n",
    "from IPython import get_ipython; ipython = get_ipython()\n",
    "#ipython.magic(mstr0)\n",
    "ipython.run_line_magic('run',' -i ' + runf + ' ' + pstr)"
   ]
  },
  {
   "cell_type": "code",
   "execution_count": null,
   "id": "e946c5b9",
   "metadata": {},
   "outputs": [],
   "source": [
    "vars_to_decode_b2b_tmp"
   ]
  },
  {
   "cell_type": "code",
   "execution_count": null,
   "id": "b4f01f48",
   "metadata": {},
   "outputs": [],
   "source": [
    "dists_rad_from_prevtgt_cur"
   ]
  },
  {
   "cell_type": "code",
   "execution_count": null,
   "id": "485a2447",
   "metadata": {},
   "outputs": [],
   "source": [
    "#%debug\n",
    "%load_ext autoreload\n",
    "%autoreload 2\n",
    "\n",
    "#%debug\n",
    "#EBUG=1\n",
    "\n",
    "import os,sys; sys.path.append(os.path.expandvars('$CODE_MEMORY_ERRORS'))\n",
    "ipy = get_ipython()\n",
    "#ipython.kernel as ipy\n",
    "#  --slide_windows_type explicit\n",
    "trim_outliers = 1\n",
    "dists_trial_from_prevtgt_s = [1,4]\n",
    "for tgcc in ['trialwe', 'trialwtgt_we']:\n",
    "    for dt in dists_trial_from_prevtgt_s:\n",
    "        if tgcc == 'trialwe' and dists_trial_from_prevtgt_s == 1:\n",
    "            continue\n",
    "        s =  f' --trial_group_col_calc {tgcc} --trim_outliers {trim_outliers} --nb_fold 2'\n",
    "        s += f' --dists_trial_from_prevtgt {dt}'\n",
    "        s += f' --custom_suffix {tgcc[5:]}_trim{trim_outliers}_td{dt}'\n",
    "        s += ' --debug 1 --use_preloaded_raw 1 --use_preloaded_flt_raw 1'\n",
    "        #s += ' --nskip_trial 5'\n",
    "        #s += '--crop 0,1000 --debug 1'\n",
    "        #s += ' --time_bounds_slide_target=-0.9,1'\n",
    "        s += ' --time_bounds_slide_target=-0.5,0.5'\n",
    "        rs = (' -i ../dec_err_sens_sliding2.py --param_file dec_err_sens_sliding.ini --random_seed 0 '\n",
    "                '--output_folder dectest --hpass no_filter --slide_window_dur 0.464 --slide_window_shift 0.232 '\n",
    "                '--subject sub01_WGPOZPEE --time_locked target --regression_type Ridge --freq_name broad '\n",
    "                '--freq_limits 4,60 --env_to_run stable,random') + s\n",
    "        ipy.run_line_magic('run', rs)\n",
    "        \n",
    "        break\n",
    "    break"
   ]
  },
  {
   "cell_type": "code",
   "execution_count": null,
   "id": "da82c91b",
   "metadata": {},
   "outputs": [],
   "source": [
    "np.any(np.isinf(X), axis=1)"
   ]
  },
  {
   "cell_type": "code",
   "execution_count": null,
   "id": "80134e21",
   "metadata": {},
   "outputs": [],
   "source": [
    "help( np.isinf )"
   ]
  },
  {
   "cell_type": "code",
   "execution_count": null,
   "id": "fe61a008",
   "metadata": {},
   "outputs": [],
   "source": [
    "try:\n",
    "    raw is None\n",
    "    preloaded_raw_is_present = True\n",
    "    preloaded_flt_raw_is_present = True\n",
    "except NameError as e:\n",
    "    preloaded_raw_is_present = False\n",
    "    preloaded_flt_raw_is_present = False\n",
    "    raw = None\n",
    "\n",
    "preloaded_raw_is_present, preloaded_flt_raw_is_present"
   ]
  },
  {
   "cell_type": "code",
   "execution_count": null,
   "id": "f129f091",
   "metadata": {},
   "outputs": [],
   "source": [
    "load_flt_raw and os.path.exists(fn_flt_raw_full) \\\n",
    "    and os.path.exists(fn_events_full) and \\\n",
    "    (not (use_preloaded_flt_raw and preloaded_flt_raw_is_present) )\n"
   ]
  },
  {
   "cell_type": "code",
   "execution_count": null,
   "id": "c97e782a",
   "metadata": {},
   "outputs": [],
   "source": [
    "(raw is None) or ( (not loaded_flt_raw) and \\\n",
    "    ( not (use_preloaded_flt_raw and preloaded_flt_raw_is_present) ) )\n",
    "    \n"
   ]
  },
  {
   "cell_type": "code",
   "execution_count": null,
   "id": "1cf8ad9c",
   "metadata": {},
   "outputs": [],
   "source": [
    "ipy.run_line_magic('run', rs)"
   ]
  },
  {
   "cell_type": "code",
   "execution_count": null,
   "id": "22ae0569",
   "metadata": {},
   "outputs": [],
   "source": [
    "vars_to_decode_b2b_tmp"
   ]
  },
  {
   "cell_type": "code",
   "execution_count": null,
   "id": "ab63172e",
   "metadata": {},
   "outputs": [],
   "source": [
    "behav_df_cur.columns"
   ]
  }
 ],
 "metadata": {
  "kernelspec": {
   "display_name": "merr",
   "language": "python",
   "name": "merr"
  },
  "language_info": {
   "codemirror_mode": {
    "name": "ipython",
    "version": 3
   },
   "file_extension": ".py",
   "mimetype": "text/x-python",
   "name": "python",
   "nbconvert_exporter": "python",
   "pygments_lexer": "ipython3",
   "version": "3.8.15"
  },
  "latex_envs": {
   "LaTeX_envs_menu_present": true,
   "autoclose": false,
   "autocomplete": true,
   "bibliofile": "biblio.bib",
   "cite_by": "apalike",
   "current_citInitial": 1,
   "eqLabelWithNumbers": true,
   "eqNumInitial": 1,
   "hotkeys": {
    "equation": "Ctrl-E",
    "itemize": "Ctrl-I"
   },
   "labels_anchors": false,
   "latex_user_defs": false,
   "report_style_numbering": false,
   "user_envs_cfg": false
  }
 },
 "nbformat": 4,
 "nbformat_minor": 5
}
