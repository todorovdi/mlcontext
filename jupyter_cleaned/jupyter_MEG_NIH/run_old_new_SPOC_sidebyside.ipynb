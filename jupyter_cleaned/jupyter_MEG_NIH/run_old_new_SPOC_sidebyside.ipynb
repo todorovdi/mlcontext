{
 "cells": [
  {
   "cell_type": "code",
   "execution_count": null,
   "id": "b193625c",
   "metadata": {},
   "outputs": [],
   "source": [
    "#%debug\n",
    "%load_ext autoreload\n",
    "%autoreload 2\n",
    "\n",
    "from os.path import join as pjoin\n",
    "\n",
    "import os,sys; sys.path.append(os.path.expandvars('$CODE_MEMORY_ERRORS'))\n",
    "#%run -i ../exec_HPC.py 0\n",
    "from config2 import path_code\n",
    "from IPython import get_ipython; ipython = get_ipython()\n",
    "\n",
    "locs = {}\n",
    "\n",
    "from config2 import subjects\n",
    "\n",
    "import numpy as np\n",
    "from os.path import join as pjoin\n",
    "dir_rr = '/home/demitau/ownCloud/Current/merr_data/Romain_calc_res/'\n",
    "an = 'prevfeedback_preverrors_errors_prevbelief'\n",
    "random = pjoin(dir_rr, f'sub01_WGPOZPEE_randompartial_scores_{an}_broad.npy')\n",
    "stable = pjoin(dir_rr, f'sub01_WGPOZPEE_stablepartial_scores_{an}_broad.npy')\n",
    "scores_romain_b2b = {}\n",
    "\n",
    "scores_romain_b2b['stable'] = np.load(stable)# 5 splits each\n",
    "scores_romain_b2b['random'] = np.load(random)\n",
    "\n",
    "display(scores_romain_b2b)\n",
    "print(an.split('_'))\n",
    "# time_lock = target,  control = feedback    ( I had control = movement)"
   ]
  },
  {
   "cell_type": "markdown",
   "id": "26681a23",
   "metadata": {},
   "source": [
    "'prevfeedback', 'preverrors', 'errors', 'prevbelief'\n",
    "\n",
    "Romain vals\n",
    "\n",
    "stable: [-0.00614, 0.02613,  0.04319, 0.05597\n",
    "\n",
    "random: [ 0.00089, 0.00401, -0.02140, 0.00514\n",
    "\n",
    "My vals (nsplit=50)\n",
    "\n",
    "stable ['0.0091', '0.0157', '0.0339', '0.0397'] ,\n",
    "\n",
    "random ['0.0052', '0.0013', '-0.0094', '0.0011']\n",
    "\n",
    "My vals (nsplit=25)\n",
    "\n",
    "stable ['0.0036', '0.0207', '0.0276', '0.0388']\n",
    "\n",
    "random ['0.0079', '0.0076', '-0.0141', '0.0029']"
   ]
  },
  {
   "cell_type": "code",
   "execution_count": null,
   "id": "849f92d3",
   "metadata": {
    "run_control": {
     "marked": false
    }
   },
   "outputs": [],
   "source": [
    "np.mean(scores_romain_b2b['random']), np.std(scores_romain_b2b['random'])"
   ]
  },
  {
   "cell_type": "code",
   "execution_count": null,
   "id": "20f7c92f",
   "metadata": {},
   "outputs": [],
   "source": [
    "np.mean(scores_romain_b2b['stable']), np.std(scores_romain_b2b['stable'])"
   ]
  },
  {
   "cell_type": "code",
   "execution_count": null,
   "id": "ba7a6ec6",
   "metadata": {},
   "outputs": [],
   "source": [
    "#'prevmovement_preverrors_errors_prevbelief' -- in current ver of the code"
   ]
  },
  {
   "cell_type": "code",
   "execution_count": null,
   "id": "67bdb90a",
   "metadata": {},
   "outputs": [],
   "source": [
    "import mne\n",
    "subject_to_calc = subjects[0]"
   ]
  },
  {
   "cell_type": "markdown",
   "id": "f2616b9f",
   "metadata": {
    "heading_collapsed": true
   },
   "source": [
    "# new"
   ]
  },
  {
   "cell_type": "code",
   "execution_count": null,
   "id": "bc9acaac",
   "metadata": {
    "hidden": true
   },
   "outputs": [],
   "source": [
    "s = (f'{path_code}/dec_err_sens_sliding2.py --param_file dec_err_sens_sliding.ini '\n",
    "'--random_seed 0 --output_folder corr_spoc_es_sliding2_no_filter '\n",
    "'--hpass no_filter --slide_window_dur 0.464 '\n",
    "'--slide_window_shift 0.232 --trial_group_col_calc trialwe '\n",
    "'--trim_outliers 0 --dists_rad_from_prevtgt all '\n",
    "f'--dists_trial_from_prevtgt all --subject {subject_to_calc} '\n",
    "'--time_locked target --regression_type Ridge --freq_name broad '\n",
    "'--freq_limits 4,60 --env_to_run stable,random '\n",
    "'--custom_suffix test')\n",
    "     \n",
    "s += ' --n_jobs 1'\n",
    "s += ' --slide_windows_type explicit'\n",
    "s += ' --tmin -0.5 --tmax 0'\n",
    "#'--custom_suffix trim0_we_drall_dtall'\n",
    "\n",
    "\n",
    "\n",
    "\n",
    "#ipython.magic(mstr0)\n",
    "ipython.run_line_magic('run',' -i ' + s)\n",
    "\n",
    "locs['new'] = locals()\n",
    "import gc; gc.collect()"
   ]
  },
  {
   "cell_type": "code",
   "execution_count": null,
   "id": "975d2a23",
   "metadata": {
    "hidden": true
   },
   "outputs": [],
   "source": [
    "list(tminmax)"
   ]
  },
  {
   "cell_type": "markdown",
   "id": "9aa0eb60",
   "metadata": {},
   "source": [
    "# old"
   ]
  },
  {
   "cell_type": "code",
   "execution_count": null,
   "id": "256e9c06",
   "metadata": {},
   "outputs": [],
   "source": [
    "# to try to repeat Romain's results I have to rerun pretty long computation\n",
    "# to debug it I'd need to generate data by hand"
   ]
  },
  {
   "cell_type": "code",
   "execution_count": null,
   "id": "0e21f9ae",
   "metadata": {},
   "outputs": [],
   "source": [
    "subject  = subject_to_calc"
   ]
  },
  {
   "cell_type": "code",
   "execution_count": null,
   "id": "ac6ad95d",
   "metadata": {},
   "outputs": [],
   "source": [
    "for subject in subjects[:1]:\n",
    "#for subject in subjects[1:]:\n",
    "    print('   ', subject)\n",
    "    n_jobs = 1\n",
    "    hpass = 0.1\n",
    "    regression_type = 'Ridge'\n",
    "    ipython.run_line_magic('run',\n",
    "        f' -i {path_code}/spoc_home_with_prev_error2_almost_orig.py')"
   ]
  },
  {
   "cell_type": "code",
   "execution_count": null,
   "id": "927d7cbe",
   "metadata": {},
   "outputs": [],
   "source": [
    "analysis_name"
   ]
  },
  {
   "cell_type": "code",
   "execution_count": null,
   "id": "e4435d3e",
   "metadata": {},
   "outputs": [],
   "source": [
    "n_jobs = 1\n",
    "hpass = 0.1\n",
    "regression_type = 'Ridge'\n",
    "freq_name='broad'\n",
    "DEBUG=1\n",
    "ipython.run_line_magic('run',\n",
    "    f' -i {path_code}/figure/spoc_home_final_fig2.py')"
   ]
  },
  {
   "cell_type": "code",
   "execution_count": null,
   "id": "5aa4b3ef",
   "metadata": {},
   "outputs": [],
   "source": [
    "np.ravel?"
   ]
  },
  {
   "cell_type": "code",
   "execution_count": null,
   "id": "751663de",
   "metadata": {},
   "outputs": [],
   "source": [
    "nb_sub"
   ]
  },
  {
   "cell_type": "code",
   "execution_count": null,
   "id": "f2c44130",
   "metadata": {},
   "outputs": [],
   "source": [
    "regression_type"
   ]
  },
  {
   "cell_type": "code",
   "execution_count": null,
   "id": "a3399717",
   "metadata": {},
   "outputs": [],
   "source": [
    "sc.shape"
   ]
  },
  {
   "cell_type": "code",
   "execution_count": null,
   "id": "1fd560c7",
   "metadata": {},
   "outputs": [],
   "source": [
    "all_scores_random[:,:,1]"
   ]
  },
  {
   "cell_type": "code",
   "execution_count": null,
   "id": "4b7b3513",
   "metadata": {},
   "outputs": [],
   "source": [
    "A = np.array([[1,2,3,4],[5,6,7,8]])  # shape = (2.4)\n",
    "A.T, A.T.shape"
   ]
  },
  {
   "cell_type": "code",
   "execution_count": null,
   "id": "f91829aa",
   "metadata": {},
   "outputs": [],
   "source": [
    "B = A.\n",
    "np.ravel(A.T,order='F')  # first use "
   ]
  },
  {
   "cell_type": "code",
   "execution_count": null,
   "id": "2293f957",
   "metadata": {},
   "outputs": [],
   "source": [
    "all_scores_stable[:,0]"
   ]
  },
  {
   "cell_type": "code",
   "execution_count": null,
   "id": "e9dbd78a",
   "metadata": {},
   "outputs": [],
   "source": [
    "all_scores_random.shape"
   ]
  },
  {
   "cell_type": "code",
   "execution_count": null,
   "id": "b2872eb5",
   "metadata": {},
   "outputs": [],
   "source": [
    "nb_sub"
   ]
  },
  {
   "cell_type": "code",
   "execution_count": null,
   "id": "66748665",
   "metadata": {},
   "outputs": [],
   "source": [
    "scores, cond"
   ]
  },
  {
   "cell_type": "code",
   "execution_count": null,
   "id": "911441a6",
   "metadata": {},
   "outputs": [],
   "source": [
    "/p/home/jusers/todorov1/jusuf/memerr_data/sub01_WGPOZPEE/results/spoc_home2_0.1_almost_orig\n",
    "\n",
    "random_Ridge_scores_prevmovement_preverrors_errors_prevbelief_broad.npy"
   ]
  }
 ],
 "metadata": {
  "kernelspec": {
   "display_name": "merr",
   "language": "python",
   "name": "merr"
  },
  "language_info": {
   "codemirror_mode": {
    "name": "ipython",
    "version": 3
   },
   "file_extension": ".py",
   "mimetype": "text/x-python",
   "name": "python",
   "nbconvert_exporter": "python",
   "pygments_lexer": "ipython3",
   "version": "3.8.15"
  }
 },
 "nbformat": 4,
 "nbformat_minor": 5
}
