{
 "cells": [
  {
   "cell_type": "code",
   "execution_count": null,
   "id": "f937cd84",
   "metadata": {},
   "outputs": [],
   "source": [
    "import os\n",
    "from os.path import join as pjoin\n",
    "import os,sys; sys.path.append(os.path.expandvars('$CODE_MEMORY_ERRORS'))\n",
    "import mne\n",
    "\n",
    "from mne import find_events, Epochs, compute_covariance, make_ad_hoc_cov\n",
    "from mne.datasets import sample\n",
    "from mne.simulation import (simulate_sparse_stc, simulate_raw,\n",
    "                            add_noise, add_ecg, add_eog)\n",
    "import numpy as np\n",
    "import matplotlib.pyplot as plt\n",
    "\n",
    "from config2 import*\n",
    "\n",
    "# raw_fname = pjoin(path_data, subjects[0], 'raw_VisuoMotor_no_hpass.fif')\n",
    "# raw = mne.io.read_raw_fif(raw_fname)\n",
    "from mne.datasets import sample\n",
    "\n",
    "data_path = sample.data_path()\n",
    "meg_path = data_path / 'MEG' / 'sample'\n",
    "raw_fname = meg_path / 'sample_audvis_raw.fif'\n",
    "fwd_fname = meg_path / 'sample_audvis-meg-eeg-oct-6-fwd.fif'\n",
    "\n",
    "# Load real data as the template\n",
    "raw = mne.io.read_raw_fif(raw_fname)\n",
    "\n",
    "raw.crop(0,5)\n",
    "raw.load_data()\n",
    "raw = raw.resample(256)\n",
    "\n",
    "\n",
    "fname_info = meg_path / 'sample_audvis_raw.fif'\n",
    "info = mne.io.read_info(fname_info)\n",
    "tstep = 1 / info['sfreq']\n",
    "\n",
    "\n",
    "info = raw.info\n",
    "info\n",
    "#raw.info.ch_names#['UPPT001']\n",
    "\n"
   ]
  },
  {
   "cell_type": "code",
   "execution_count": null,
   "id": "2cad91bb",
   "metadata": {},
   "outputs": [],
   "source": []
  },
  {
   "cell_type": "code",
   "execution_count": null,
   "id": "3940ce9a",
   "metadata": {},
   "outputs": [],
   "source": [
    "# TODO: create src\n",
    "# organize into epochs and add events\n",
    "# do I have to organize df as well?"
   ]
  },
  {
   "cell_type": "markdown",
   "id": "7b1213bc",
   "metadata": {
    "heading_collapsed": true
   },
   "source": [
    "### using our subj"
   ]
  },
  {
   "cell_type": "code",
   "execution_count": null,
   "id": "779b4d6a",
   "metadata": {
    "hidden": true
   },
   "outputs": [],
   "source": [
    "subjects_dir = '/home/demitau/data_Quentin/subjects'\n",
    "source_space_noCB = mne.setup_source_space(subject, spacing='oct4', add_dist=True,\n",
    "                                 subjects_dir=subjects_dir, n_jobs = -1)\n",
    "src = source_space_noCB"
   ]
  },
  {
   "cell_type": "markdown",
   "id": "a05fea3d",
   "metadata": {
    "run_control": {
     "marked": true
    }
   },
   "source": [
    "### Using sample subj"
   ]
  },
  {
   "cell_type": "code",
   "execution_count": null,
   "id": "6ed155ce",
   "metadata": {},
   "outputs": [],
   "source": [
    "data_path = sample.data_path()\n",
    "subjects_dir = data_path / 'subjects'\n",
    "subject = 'sample'\n",
    "meg_path = data_path / 'MEG' / subject\n",
    "\n",
    "\n",
    "\n",
    "#fname_info = meg_path / 'sample_audvis_raw.fif'\n",
    "#info = mne.io.read_info(fname_info)\n",
    "\n",
    "fwd_fname = meg_path / 'sample_audvis-meg-eeg-oct-6-fwd.fif'\n",
    "fwd = mne.read_forward_solution(fwd_fname)\n",
    "src = fwd['src']\n",
    "\n",
    "#help(mne.create_info)"
   ]
  },
  {
   "cell_type": "markdown",
   "id": "7654479f",
   "metadata": {
    "heading_collapsed": true
   },
   "source": [
    "### try stimfilter"
   ]
  },
  {
   "cell_type": "code",
   "execution_count": null,
   "id": "9a9d443e",
   "metadata": {
    "hidden": true,
    "run_control": {
     "marked": true
    }
   },
   "outputs": [],
   "source": [
    "raw_stimch.filter(picks = None, l_freq=raw.info['lowpass'], h_freq=None)"
   ]
  },
  {
   "cell_type": "code",
   "execution_count": null,
   "id": "55f828bb",
   "metadata": {
    "hidden": true,
    "run_control": {
     "marked": false
    }
   },
   "outputs": [],
   "source": [
    "chd_stim = np.zeros( (1,len(raw.times)), dtype=int)\n",
    "chn_stim = 'SMTH'\n",
    "info = mne.create_info([chn_stim], raw.info['sfreq'], ['stim'])\n",
    "infopars = ['dev_head_t', 'lowpass']\n",
    "for ip in infopars:\n",
    "    info[ip] = raw.info[ip]\n",
    "raw_stimch = mne.io.RawArray(chd_stim,  info)\n",
    "raw.add_channels( [raw_stimch])"
   ]
  },
  {
   "cell_type": "code",
   "execution_count": null,
   "id": "e79a2b04",
   "metadata": {
    "hidden": true
   },
   "outputs": [],
   "source": []
  },
  {
   "cell_type": "code",
   "execution_count": null,
   "id": "f69bd8b5",
   "metadata": {
    "hidden": true
   },
   "outputs": [],
   "source": [
    "\n",
    "#force_update_info:  bool\n",
    "#If True, force the info for objects to be appended to match the values in self. \n",
    "# This should generally only be used when adding stim channels for \n",
    "# which important metadata won’t be overwritten."
   ]
  },
  {
   "cell_type": "code",
   "execution_count": null,
   "id": "5a10eb20",
   "metadata": {
    "hidden": true
   },
   "outputs": [],
   "source": [
    "# define stim channels \n",
    "raw.find_events(consecutive = True)"
   ]
  },
  {
   "cell_type": "code",
   "execution_count": null,
   "id": "cfccc701",
   "metadata": {
    "hidden": true
   },
   "outputs": [],
   "source": [
    "fname_event = meg_path / 'sample_audvis_raw-eve.fif'\n",
    "fname_cov = meg_path / 'sample_audvis-cov.fif'\n",
    "\n",
    "events = mne.read_events(fname_event)\n",
    "noise_cov = mne.read_cov(fname_cov)\n",
    "\n",
    "# Standard sample event IDs. These values will correspond to the third column\n",
    "# in the events matrix.\n",
    "event_id = {'auditory/left': 1, 'auditory/right': 2, 'visual/left': 3,\n",
    "            'visual/right': 4, 'smiley': 5, 'button': 32}\n",
    "\n",
    "\n",
    "# Take only a few events for speed\n",
    "events = events[:80]"
   ]
  },
  {
   "cell_type": "code",
   "execution_count": null,
   "id": "e89ca100",
   "metadata": {
    "hidden": true
   },
   "outputs": [],
   "source": [
    "events"
   ]
  },
  {
   "cell_type": "code",
   "execution_count": null,
   "id": "55bae3b9",
   "metadata": {
    "hidden": true
   },
   "outputs": [],
   "source": [
    "events.shape  # 80, 3  -- index, ?(duration), code"
   ]
  },
  {
   "cell_type": "code",
   "execution_count": null,
   "id": "84be769f",
   "metadata": {
    "hidden": true
   },
   "outputs": [],
   "source": [
    "# fwd = mne.read_forward_solution(fwd_fname)\n",
    "# src = fwd['src']\n"
   ]
  },
  {
   "cell_type": "markdown",
   "id": "86f3fa1b",
   "metadata": {},
   "source": [
    "### gen data"
   ]
  },
  {
   "cell_type": "code",
   "execution_count": null,
   "id": "8b94792f",
   "metadata": {},
   "outputs": [],
   "source": [
    "# from collections import OrderedDict as odict\n",
    "# evts = odict()\n",
    "import pandas as pd\n",
    "from config2 import stage2evn2event_ids, env2envcode\n",
    "# define trial stages\n",
    "ds = []\n",
    "d = {'myname':'cursor in home',  'Qname':'rest_phase', 'duration': 464.,\n",
    "     'evt_ids':[10]}; \n",
    "ds+=[d]\n",
    "d = {'myname':'tgt onset',       'Qname':'target_phase', 'duration': 100.,\n",
    "     'evt_ids':event_ids_tgt}\n",
    "ds+=[d]\n",
    "d = {'myname':'movement',       'Qname':None, 'duration': 100., \n",
    "     'evt_ids':[100]}\n",
    "ds+=[d]\n",
    "d = {'myname':'feedback',       'Qname':'feedback_phase', 'duration': 232., \n",
    "     'evt_ids':event_ids_feedback}\n",
    "ds+=[d]\n",
    "d = {'myname':'iti',       'Qname':'iti_phase', 'duration': 400., \n",
    "     'evt_ids':[40]}\n",
    "# normally 1500\n",
    "ds+=[d]\n",
    "# 'tgt onset',,\n",
    "# 'mvt',500,\n",
    "# 'feedback',232,\n",
    "# 'iti',1500 \n",
    "df = pd.DataFrame(ds)\n",
    "df['err_sens_freq'] = 20.\n",
    "df['err_sens_coef'] = 1.\n",
    "df.loc[df['myname'] == 'feedback', 'err_sens_coef'] = 0.5\n",
    "df.loc[df['myname'] == 'iti', 'err_sens_coef'] = 0.2\n",
    "\n",
    "display(df)\n",
    "\n",
    "err_sens_mode = 'indep_inc'\n",
    "subject = 'sub99' \n",
    "\n",
    "ntrials = 30\n",
    "if err_sens_mode == 'indep_inc':\n",
    "    err_sens_pt = np.linspace(1, 10, ntrials) # per trial\n",
    "    org_feedback_pt    = np.linspace(1, 20, ntrials) # per trial\n",
    "    #error_pt    = np.linspace(1, 20, ntrials) # per trial\n",
    "trial_infos = []\n",
    "trial_infos += (ntrials // 2) * [ { 'envname':'stable' } ]\n",
    "trial_infos += (ntrials // 2) * [ { 'envname':'random' } ]\n",
    "trial_infos = pd.DataFrame(trial_infos)\n",
    "trial_infos['tgti'] = np.arange(len(trial_infos)) % 4  #np.random.randint(4, size=nt+1)\n",
    "\n",
    "epoch_bounds = []\n",
    "offset_bins = 0\n",
    "dats = []\n",
    "evts = []\n",
    "rows_behav = []\n",
    "for nt,tinfo in trial_infos.iterrows():    \n",
    "    tgti = tinfo['tgti']\n",
    "    envname = tinfo['envname']\n",
    "    envcode = env2envcode[envname]\n",
    "    tgtc = stage2evn2event_ids['target'][envname][tgti]\n",
    "    \n",
    "    for index,row in df.iterrows():\n",
    "        dur_s = row['duration'] / 1000.\n",
    "        dur_bins = int(dur_s * info['sfreq'])\n",
    "        myname = row['myname']\n",
    "        freq = row['err_sens_freq']\n",
    "        coef = row['err_sens_coef']\n",
    "        times_cur = np.arange(0,dur_bins) / info['sfreq']\n",
    "        \n",
    "        # this is what we will encode\n",
    "        dat = coef * np.sin(2. * np.pi * freq * times_cur)\n",
    "                \n",
    "        if nt % 2 == 0:  # in half of trials nothing will happen\n",
    "            cov_coef_cur_trial = err_sens_pt[nt]\n",
    "        else:\n",
    "            cov_coef_cur_trial = 1.\n",
    "            \n",
    "        dat *= cov_coef_cur_trial                \n",
    "        \n",
    "        dat *= -1\n",
    "        #data[ offset_bins: offset_bins + dur_bins] = dat\n",
    "        dats += [dat]\n",
    "        if row['Qname' ] == 'target_phase':\n",
    "            evt_id = tgtc\n",
    "        elif row['Qname' ] == 'feedback_phase':\n",
    "            evt_id = stage2evn2event_ids['feedback'][envname][0]\n",
    "        else:\n",
    "            evt_ids = row['evt_ids']\n",
    "            evt_id = evt_ids[0]\n",
    "        # here we put deterministic targets, always first\n",
    "        evts += [ (offset_bins,0,evt_id)]\n",
    "        offset_bins += dur_bins\n",
    "        \n",
    "    err = 0.33       \n",
    "    pert = 30\n",
    "    tgt_ang = 90 + tgti * 30\n",
    "    fb = org_feedback_pt[nt] + pert\n",
    "    row = {'trials':nt, 'feedback': fb, \n",
    "           'org_feedback':org_feedback_pt[nt], 'perturbation': pert,\n",
    "                    'error': fb - tgt_ang, 'environment':envcode,\n",
    "                    'target_inds':tgti, 'target_codes':tgtc, 'target_locs':tgt_ang }\n",
    "    row['err_sens'] = err_sens_pt[nt]\n",
    "    #belief\n",
    "    rows_behav += [ row ]\n",
    "    \n",
    "evts = np.array(evts)\n",
    "print( set(evts[:,2]) )\n",
    "#vals = \n",
    "data = np.hstack(dats)\n",
    "data_pregen = data\n",
    "\n",
    "behav_df = pd.DataFrame(rows_behav)\n",
    "\n",
    "print( 'data.shape = ', data.shape )\n",
    "\n",
    "print( \"info['sfreq'] = \", info['sfreq'] )"
   ]
  },
  {
   "cell_type": "code",
   "execution_count": null,
   "id": "39f832f3",
   "metadata": {},
   "outputs": [],
   "source": [
    "from behav_proc import addBehavCols\n",
    "behav_df['subject'] = subject\n",
    "behav_df['target_locs'] = 90.\n",
    "behav_df['belief'] = behav_df['feedback']\n",
    "#addBehavCols(behav_df)\n",
    "\n",
    "behav_df['non_hit_not_adj'] = True\n",
    "behav_df.to_pickle(pjoin(p,'df.pkl.zip'),compression='zip')"
   ]
  },
  {
   "cell_type": "code",
   "execution_count": null,
   "id": "d36dcc97",
   "metadata": {},
   "outputs": [],
   "source": [
    "behav_df"
   ]
  },
  {
   "cell_type": "code",
   "execution_count": null,
   "id": "254c24dd",
   "metadata": {},
   "outputs": [],
   "source": [
    "addBehavCols(df_all)"
   ]
  },
  {
   "cell_type": "code",
   "execution_count": null,
   "id": "e5c8fc21",
   "metadata": {},
   "outputs": [],
   "source": [
    "data"
   ]
  },
  {
   "cell_type": "code",
   "execution_count": null,
   "id": "5d7f7ea7",
   "metadata": {
    "run_control": {
     "marked": true
    }
   },
   "outputs": [],
   "source": [
    "def data_fun_tau(times):\n",
    "    \"\"\"Generate time-staggered sinusoids at harmonics of 10Hz\"\"\"\n",
    "    global data_pregen\n",
    "#     n_samp = len(times)\n",
    "#     window = np.zeros(n_samp)\n",
    "#     start, stop = [int(ii * float(n_samp) / (2 * n_dipoles))\n",
    "#                    for ii in (2 * n, 2 * n + 1)]\n",
    "#     window[start:stop] = 1.\n",
    "#     n += 1\n",
    "#     data = 25e-9 * np.sin(2. * np.pi * 10. * n * times)\n",
    "#     data *= window\n",
    "#     return data\n",
    "    return data_pregen\n",
    "\n",
    "#     parametrized by latency and duration.\n",
    "#     f = 15  # oscillating frequency, beta band [Hz]\n",
    "#     sigma = 0.375 * duration\n",
    "#     sinusoid = np.sin(2 * np.pi * f * (times - latency))\n",
    "#     gf = np.exp(- (times - latency - (sigma / 4.) * rng.rand(1)) ** 2 /\n",
    "#                 (2 * (sigma ** 2)))\n",
    "#     return 1e-9 * sinusoid * gf\n",
    "\n",
    "\n",
    "#times = raw.times[:int(info['sfreq'] * epoch_duration)]\n",
    "\n",
    "n_dipoles = 4\n",
    "add_ECG_EOG = 0\n",
    "\n",
    "rng = np.random.RandomState(0)\n",
    "times = np.arange(len(data)  ) / info['sfreq']\n",
    "\n",
    "stc = simulate_sparse_stc(src, n_dipoles=n_dipoles, times=times,\n",
    "                          data_fun=data_fun_tau, random_state=rng)\n",
    "# look at our source data\n",
    "fig, ax = plt.subplots(1)\n",
    "ax.plot(times, 1e9 * stc.data.T)\n",
    "ax.set(ylabel='Amplitude (nAm)', xlabel='Time (sec)')\n",
    "mne.viz.utils.plt_show()\n",
    "\n",
    "raw_sim = simulate_raw(info, [stc] * 10, forward=fwd, verbose=True)\n",
    "#noise_cov = make_ad_hoc_cov(raw_sim.info)\n",
    "fname_cov = meg_path / 'sample_audvis-cov.fif'\n",
    "noise_cov = mne.read_cov(fname_cov)\n",
    "\n",
    "#cov.data *= 10\n",
    "add_noise(raw_sim, noise_cov, iir_filter=[0.2, -0.2, 0.04], random_state=rng)\n",
    "if add_ECG_EOG:\n",
    "    add_ecg(raw_sim, random_state=rng)\n",
    "    add_eog(raw_sim, random_state=rng)\n",
    "#raw_sim.plot()\n",
    "\n",
    "import gc; gc.collect()\n",
    "\n",
    "raw_sim.add_events(np.array( evts ))\n",
    "\n",
    "# ids = []\n",
    "# for ids_cur in list( df['evt_ids'] ):\n",
    "#     ids += ids_cur\n",
    "# ids\n",
    "\n",
    "\n",
    "ids = list(set( evts[:,2] ))\n",
    "epochs = mne.Epochs(raw_sim, events=evts, event_id = ids)"
   ]
  },
  {
   "cell_type": "code",
   "execution_count": null,
   "id": "89531b38",
   "metadata": {},
   "outputs": [],
   "source": []
  },
  {
   "cell_type": "code",
   "execution_count": null,
   "id": "ed802425",
   "metadata": {},
   "outputs": [],
   "source": [
    "raw_sim.add_channels?"
   ]
  },
  {
   "cell_type": "code",
   "execution_count": null,
   "id": "9f5c99c8",
   "metadata": {},
   "outputs": [],
   "source": [
    "#'/home/demitau/ju_lyon/memerr/data2/sub01_WGPOZPEE/VisuoMotor_no_filter_with_ICA_eve.txt'"
   ]
  },
  {
   "cell_type": "code",
   "execution_count": null,
   "id": "40a4240d",
   "metadata": {},
   "outputs": [],
   "source": [
    "fn_events_full = pjoin(p, 'VisuoMotor_no_filter_with_ICA_eve.txt')\n",
    "mne.write_events(fn_events_full, evts, overwrite=True)"
   ]
  },
  {
   "cell_type": "code",
   "execution_count": null,
   "id": "c584f5ad",
   "metadata": {},
   "outputs": [],
   "source": [
    "p = pjoin(  path_data , 'sub99' );p\n",
    "raw_sim.save( pjoin(p, 'raw_VisuoMotor_no_filter_with_ICA_broad.fif'), overwrite=1)"
   ]
  },
  {
   "cell_type": "markdown",
   "id": "362b8cdb",
   "metadata": {},
   "source": [
    "# Try to classif "
   ]
  },
  {
   "cell_type": "code",
   "execution_count": null,
   "id": "388aadf1",
   "metadata": {},
   "outputs": [],
   "source": [
    "#time_locked = 'target'\n",
    "\n",
    "time_locked = 'feedback'\n",
    "env = 'stable'\n",
    "safety_time_bound = 0.05\n",
    "\n",
    "tmin_cur,tmax_cur = -0.5,0.5\n",
    "\n",
    "err_sens_non_hit = err_sens\n",
    "\n",
    "stage2evn2event_ids_str[time_locked][env]\n",
    "\n",
    "from csp_my import SPoC\n",
    "from sklearn.linear_model import RidgeCV\n",
    "\n",
    "n_jobs_SPoC = -1\n",
    "\n",
    "epochs.load_data()\n",
    "\n",
    "mne_fit_log_level = 'WARNING'\n",
    "regression_type = 'Ridge'\n",
    "from sklearn.pipeline import make_pipeline\n",
    "from sklearn.model_selection import KFold\n",
    "nb_fold = 7\n",
    "\n",
    "from scipy.stats import spearmanr"
   ]
  },
  {
   "cell_type": "code",
   "execution_count": null,
   "id": "204d0e8c",
   "metadata": {},
   "outputs": [],
   "source": [
    "DEBUG = True\n",
    "times = epochs.times\n",
    "# idk why but its really important to have str values here instead of ints\n",
    "ep = epochs[ stage2evn2event_ids_str[time_locked][env] ]\n",
    "tmin_safe = tmin_cur + safety_time_bound\n",
    "tmax_safe = tmax_cur - safety_time_bound\n",
    "\n",
    "X = ep.pick_types(meg=True, ref_meg=False)._data\n",
    "if not DEBUG:\n",
    "    assert X.shape[0] == len(non_hit), (X.shape, len(non_hit) )\n",
    "wh = (times > tmin_safe) & (times < tmax_safe)\n",
    "\n",
    "if not DEBUG:\n",
    "    X = X[non_hit]\n",
    "X = X[:, :, wh]\n",
    "\n",
    "##################################  prepare classif\n",
    "\n",
    "spoc = SPoC(n_components=5, log=True, reg='oas',\n",
    "            rank='full', n_jobs=n_jobs_SPoC,\n",
    "            fit_log_level=mne_fit_log_level)\n",
    "# Regression for classic decoding\n",
    "if regression_type == 'Ridge':\n",
    "    alphas = np.logspace(-5, 5, 12)\n",
    "    est = make_pipeline(spoc, RidgeCV())\n",
    "elif regression_type == 'xgboost':\n",
    "    xgb = XGBRegressor(**add_clf_creopts)\n",
    "    est = make_pipeline(spoc, xgb)\n",
    "    # Regressions for the B2B\n",
    "\n",
    "    #param_grid = {\n",
    "    #    'pca__n_components': [5, 10, 15, 20, 25, 30],\n",
    "    #    'model__max_depth': [2, 3, 5, 7, 10],\n",
    "    #    'model__n_estimators': [10, 100, 500],\n",
    "    #}\n",
    "    #grid = GridSearchCV(pipeline, param_grid,\n",
    "    #  cv=5, n_jobs=-1, scoring='roc_auc')\n",
    "else:\n",
    "    raise ValueError('wrong regression value')\n",
    "\n",
    "# Cross-validation\n",
    "cv = KFold(nb_fold, shuffle=True)\n",
    "\n",
    "##################################  run classif\n",
    "\n",
    "y = err_sens_non_hit  # already non_hit\n",
    "y_preds = np.zeros(len(y))\n",
    "scores = list()\n",
    "print(f'Starting CV for regression_type={regression_type}')\n",
    "nsplit = 0\n",
    "for train, test in cv.split(X, y):\n",
    "    print(f'Starting split N={nsplit}')\n",
    "    with mne.use_log_level(mne_fit_log_level):\n",
    "        est.fit(X[train], y[train])\n",
    "    y_preds[test] = est.predict(X[test])\n",
    "    score = spearmanr(y_preds[test], y[test])\n",
    "    scores.append(score[0])\n",
    "    print(scores[0])\n",
    "    nsplit += 1\n",
    "diff = np.abs(y - y_preds)\n",
    "\n",
    "print(np.mean(scores), scores)"
   ]
  },
  {
   "cell_type": "code",
   "execution_count": null,
   "id": "73976c20",
   "metadata": {},
   "outputs": [],
   "source": [
    "test"
   ]
  },
  {
   "cell_type": "code",
   "execution_count": null,
   "id": "f6faff3e",
   "metadata": {},
   "outputs": [],
   "source": [
    "scores, diff"
   ]
  },
  {
   "cell_type": "code",
   "execution_count": null,
   "id": "cf542038",
   "metadata": {},
   "outputs": [],
   "source": [
    "plt.plot(diff / np.std(y))"
   ]
  },
  {
   "cell_type": "code",
   "execution_count": null,
   "id": "7eb26151",
   "metadata": {
    "run_control": {
     "marked": false
    }
   },
   "outputs": [],
   "source": [
    "ntrials"
   ]
  },
  {
   "cell_type": "code",
   "execution_count": null,
   "id": "c883f555",
   "metadata": {},
   "outputs": [],
   "source": [
    "help(add_noise)"
   ]
  },
  {
   "cell_type": "markdown",
   "id": "88012472",
   "metadata": {},
   "source": [
    "# Example"
   ]
  },
  {
   "cell_type": "code",
   "execution_count": null,
   "id": "37d4c209",
   "metadata": {
    "run_control": {
     "marked": false
    }
   },
   "outputs": [],
   "source": [
    "n_dipoles = 4  # number of dipoles to create\n",
    "epoch_duration = 2.  # duration of each epoch/event\n",
    "n = 0  # harmonic number\n",
    "rng = np.random.RandomState(0)  # random state (make reproducible)\n",
    "\n",
    "\n",
    "def data_fun(times):\n",
    "    \"\"\"Generate time-staggered sinusoids at harmonics of 10Hz\"\"\"\n",
    "    global n\n",
    "    n_samp = len(times)\n",
    "    window = np.zeros(n_samp)\n",
    "    start, stop = [int(ii * float(n_samp) / (2 * n_dipoles))\n",
    "                   for ii in (2 * n, 2 * n + 1)]\n",
    "    window[start:stop] = 1.\n",
    "    n += 1\n",
    "    data = 25e-9 * np.sin(2. * np.pi * 10. * n * times)\n",
    "    data *= window\n",
    "    return data\n",
    "\n",
    "#     parametrized by latency and duration.\n",
    "#     f = 15  # oscillating frequency, beta band [Hz]\n",
    "#     sigma = 0.375 * duration\n",
    "#     sinusoid = np.sin(2 * np.pi * f * (times - latency))\n",
    "#     gf = np.exp(- (times - latency - (sigma / 4.) * rng.rand(1)) ** 2 /\n",
    "#                 (2 * (sigma ** 2)))\n",
    "#     return 1e-9 * sinusoid * gf\n",
    "\n",
    "\n",
    "times = raw.times[:int(info['sfreq'] * epoch_duration)]"
   ]
  },
  {
   "cell_type": "code",
   "execution_count": null,
   "id": "64551486",
   "metadata": {},
   "outputs": [],
   "source": [
    "stc = simulate_sparse_stc(src, n_dipoles=n_dipoles, times=times,\n",
    "                          data_fun=data_fun, random_state=rng)\n",
    "# look at our source data\n",
    "fig, ax = plt.subplots(1)\n",
    "ax.plot(times, 1e9 * stc.data.T)\n",
    "ax.set(ylabel='Amplitude (nAm)', xlabel='Time (sec)')\n",
    "mne.viz.utils.plt_show()"
   ]
  },
  {
   "cell_type": "code",
   "execution_count": null,
   "id": "f2d1448b",
   "metadata": {},
   "outputs": [],
   "source": []
  },
  {
   "cell_type": "code",
   "execution_count": null,
   "id": "59b9ed7c",
   "metadata": {
    "run_control": {
     "marked": false
    }
   },
   "outputs": [],
   "source": [
    "raw_sim = simulate_raw(info, [stc] * 10, forward=fwd, verbose=True)\n",
    "cov = make_ad_hoc_cov(raw_sim.info)\n",
    "add_noise(raw_sim, cov, iir_filter=[0.2, -0.2, 0.04], random_state=rng)\n",
    "add_ecg(raw_sim, random_state=rng)\n",
    "add_eog(raw_sim, random_state=rng)\n",
    "raw_sim.plot()"
   ]
  },
  {
   "cell_type": "code",
   "execution_count": null,
   "id": "539c8283",
   "metadata": {},
   "outputs": [],
   "source": []
  }
 ],
 "metadata": {
  "kernelspec": {
   "display_name": "merr",
   "language": "python",
   "name": "merr"
  },
  "language_info": {
   "codemirror_mode": {
    "name": "ipython",
    "version": 3
   },
   "file_extension": ".py",
   "mimetype": "text/x-python",
   "name": "python",
   "nbconvert_exporter": "python",
   "pygments_lexer": "ipython3",
   "version": "3.8.15"
  }
 },
 "nbformat": 4,
 "nbformat_minor": 5
}
