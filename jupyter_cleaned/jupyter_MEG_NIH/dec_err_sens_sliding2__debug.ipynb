{
 "cells": [
  {
   "cell_type": "code",
   "execution_count": null,
   "id": "55b4c80b",
   "metadata": {},
   "outputs": [],
   "source": [
    "#%debug\n",
    "%load_ext autoreload\n",
    "%autoreload 2\n",
    "\n",
    "import os\n",
    "from os.path import join as pjoin\n",
    "if 'DATA_TMP_MEMORY_ERRORS_STAB_AND_STOCH' not in os.environ:\n",
    "    os.environ['DATA_TMP_MEMORY_ERRORS_STAB_AND_STOCH'] = os.path.expandvars('$HOME') + '/ju_lyon/memerr/data2'\n",
    "\n",
    "\n",
    "import os,sys; sys.path.append(os.path.expandvars('$CODE_MEMORY_ERRORS'))\n",
    "#%run -i ../exec_HPC.py 0\n",
    "from config2 import path_code\n",
    "from IPython import get_ipython; ipython = get_ipython()\n",
    "\n",
    "locs = {}\n",
    "\n",
    "from config2 import subjects\n",
    "\n",
    "import numpy as np\n",
    "from os.path import join as pjoin\n",
    "dir_rr = '/home/demitau/ownCloud/Current/merr_data/Romain_calc_res/'\n",
    "#an = 'prevfeedback_preverrors_errors_prevbelief'\n",
    "#random = pjoin(dir_rr, f'sub01_WGPOZPEE_randompartial_scores_{an}_broad.npy')\n",
    "#stable = pjoin(dir_rr, f'sub01_WGPOZPEE_stablepartial_scores_{an}_broad.npy')\n",
    "#scores_romain_b2b = {}\n",
    "#scores_romain_b2b['stable'] = np.load(stable)# 5 splits each\n",
    "#scores_romain_b2b['random'] = np.load(random)\n",
    "#display(scores_romain_b2b)\n",
    "#print(an.split('_'))\n",
    "# time_lock = target,  control = feedback    ( I had control = movement)\n",
    "\n",
    "\n",
    "rcrd = '/home/demitau/current/merr_data/Romain_calc_res/'\n",
    "fnfs = [ rcrd + 'sub01_X_random.npy',\n",
    "rcrd + 'sub01_X_stable.npy',\n",
    "rcrd + 'sub01_Y_random.npy',\n",
    "rcrd + 'sub01_Y_stable.npy',\n",
    "rcrd + 'sub01_partialscores_random.npy',\n",
    "rcrd + 'sub01_partialscores_stable.npy']      \n",
    "fs = [ np.load(fnf) for fnf in fnfs ]\n",
    "\n",
    "an = 'prevmovement_preverrors_errors_prevbelief_broad'\n",
    "print(an)\n",
    "(X_random_romain, X_stable_romain, Y_random_romain, \n",
    " Y_stable_romain, sc_b2b_random, sc_b2b_stable) = fs\n",
    "\n",
    "scores_romain_b2b = dict(list(zip(['scores_b2b_random', 'scores_b2b_stable'] , [sc_b2b_random, sc_b2b_stable])))\n",
    "display(scores_romain_b2b)"
   ]
  },
  {
   "cell_type": "code",
   "execution_count": null,
   "id": "e06800bc",
   "metadata": {},
   "outputs": [],
   "source": [
    "# Romain wants:\n",
    "# prevmovement_preverrors_errors_prevbelief_broad \n",
    "# prevfeedback_preverrors_errors_prevbelief_broad\n",
    "# i.e.\n",
    "#getAnalysisVarnames('target','feedback')\n",
    "#getAnalysisVarnames('target','movement')"
   ]
  },
  {
   "cell_type": "code",
   "execution_count": null,
   "id": "3c718ca9",
   "metadata": {},
   "outputs": [],
   "source": [
    "for f in fs:\n",
    "    print(f.shape)"
   ]
  },
  {
   "cell_type": "markdown",
   "id": "320e4d56",
   "metadata": {
    "heading_collapsed": true
   },
   "source": [
    "# Sim"
   ]
  },
  {
   "cell_type": "code",
   "execution_count": null,
   "id": "58f79fdd",
   "metadata": {
    "hidden": true
   },
   "outputs": [],
   "source": [
    "behav_df_full.columns"
   ]
  },
  {
   "cell_type": "code",
   "execution_count": null,
   "id": "1f0988a7",
   "metadata": {
    "hidden": true
   },
   "outputs": [],
   "source": [
    "es_fnf = '/home/demitau/ju_lyon/memerr/data2/sub99/df.pkl.zip'\n",
    "fif_fnf = '/home/demitau/ju_lyon/memerr/data2/sub99/raw_VisuoMotor_no_filter_with_ICA_broad.fif'"
   ]
  },
  {
   "cell_type": "code",
   "execution_count": null,
   "id": "84f9c770",
   "metadata": {
    "hidden": true
   },
   "outputs": [],
   "source": [
    "scr = pjoin('dec_err_sens_sliding2.py' )\n",
    "#'--slide_window_dur 0.464 --slide_window_shift 0.232'\n",
    "envstr = 'stable'\n",
    "s = (\n",
    "  '--param_file dec_err_sens_sliding.ini --random_seed 0' \n",
    "  ' --output_folder corr_spoc_es_sliding2_no_filter --hpass no_filter' \n",
    "  ' --slide_windows_type explicit --use_preloaded_flt_raw 0' \n",
    "  ' --tmin -0.5 --tmax 0 --control_type movement'\n",
    "  ' --trial_group_col_calc trials --trim_outliers 0' \n",
    "  ' --dists_rad_from_prevtgt all --dists_trial_from_prevtgt all'\n",
    "  ' --subject sub99 --time_locked target' \n",
    "  ' --regression_type Ridge --freq_name broad' \n",
    " f' --freq_limits 4,60 --env_to_run {envstr}' \n",
    "  ' --custom_suffix trim0_we_drall_dtall'\n",
    "  f' --behav_file {es_fnf}'\n",
    "  f' --fif_file {fif_fnf}'\n",
    ")\n",
    "\n",
    "#%debug\n",
    "for subject in ['sub99']:\n",
    "#for subject in subjects[1:]:\n",
    "    print('   ', subject)\n",
    "    n_jobs = 10\n",
    "    hpass = 'no_filter'\n",
    "    regression_type = 'Ridge'\n",
    "    ipython.run_line_magic('run',\n",
    "        f' -i {path_code}/{scr} ' + s)"
   ]
  },
  {
   "cell_type": "code",
   "execution_count": null,
   "id": "d876d4fb",
   "metadata": {
    "hidden": true
   },
   "outputs": [],
   "source": [
    "subdf[['prev_movement', 'prev_error', 'error', 'prev_belief']]"
   ]
  },
  {
   "cell_type": "code",
   "execution_count": null,
   "id": "973db7bb",
   "metadata": {
    "hidden": true
   },
   "outputs": [],
   "source": [
    "behav_df_cur[['prev_movement', 'prev_error', 'error', 'prev_belief']]"
   ]
  },
  {
   "cell_type": "code",
   "execution_count": null,
   "id": "b1888d41",
   "metadata": {
    "hidden": true
   },
   "outputs": [],
   "source": [
    "#behav_df_full"
   ]
  },
  {
   "cell_type": "code",
   "execution_count": null,
   "id": "02df0a2d",
   "metadata": {
    "hidden": true
   },
   "outputs": [],
   "source": [
    "fn_flt_raw_full"
   ]
  },
  {
   "cell_type": "code",
   "execution_count": null,
   "id": "d3af9a45",
   "metadata": {
    "hidden": true
   },
   "outputs": [],
   "source": [
    "load_flt_raw and os.path.exists(fn_flt_raw_full) "
   ]
  },
  {
   "cell_type": "code",
   "execution_count": null,
   "id": "1661c002",
   "metadata": {
    "hidden": true
   },
   "outputs": [],
   "source": [
    " os.path.exists(fn_events_full) and \\\n",
    "    (not (use_preloaded_flt_raw and preloaded_flt_raw_is_present) )"
   ]
  },
  {
   "cell_type": "code",
   "execution_count": null,
   "id": "b9c8c107",
   "metadata": {
    "hidden": true
   },
   "outputs": [],
   "source": [
    "load_flt_raw"
   ]
  },
  {
   "cell_type": "code",
   "execution_count": null,
   "id": "fca2cdce",
   "metadata": {
    "hidden": true
   },
   "outputs": [],
   "source": [
    "fn_events_full"
   ]
  },
  {
   "cell_type": "markdown",
   "id": "c12bebb2",
   "metadata": {},
   "source": [
    "# New"
   ]
  },
  {
   "cell_type": "code",
   "execution_count": null,
   "id": "72ba7551",
   "metadata": {},
   "outputs": [],
   "source": [
    "#control = movement\n",
    "#broad\n",
    "#no_filter\n",
    "#with_ICA\n",
    "#sub1\n",
    "#an = prevmovement_preverrors_errors_prevbelief_broad\n",
    "\n",
    "# he invalidates first trial of each block"
   ]
  },
  {
   "cell_type": "code",
   "execution_count": null,
   "id": "d55881c8",
   "metadata": {},
   "outputs": [],
   "source": [
    "nskip_trial"
   ]
  },
  {
   "cell_type": "code",
   "execution_count": null,
   "id": "0dd9705e",
   "metadata": {},
   "outputs": [],
   "source": [
    "#es_fnf = '/home/demitau/ownCloud/Current/merr_data/df_all_multi_tsz_NIH.pkl.zip'\n",
    "es_fnf = '/home/demitau/data_Quentin/full_experiments/data2/df_all_multi_tsz.pkl.zip'\n",
    "\n",
    "fif_fnf = '/home/demitau/ownCloud/Current/merr_data/raw_VisuoMotor_no_filter_with_ICA.fif'"
   ]
  },
  {
   "cell_type": "code",
   "execution_count": null,
   "id": "ab754c11",
   "metadata": {
    "code_folding": [],
    "run_control": {
     "marked": false
    }
   },
   "outputs": [],
   "source": [
    "scr = pjoin('dec_err_sens_sliding2.py' )\n",
    "#'--slide_window_dur 0.464 --slide_window_shift 0.232'\n",
    "#envstr = 'stable'\n",
    "\n",
    "#discard_hit_twice = 1\n",
    "discard_hit_twice = 0\n",
    "scores_list = []\n",
    "for envstr in ['stable']: #, 'random']:\n",
    "    s = (\n",
    "      '--param_file dec_err_sens_sliding.ini --random_seed 1' \n",
    "      ' --output_folder corr_spoc_es_sliding2_no_filter --hpass no_filter' \n",
    "      ' --slide_windows_type explicit --use_preloaded_flt_raw 1' \n",
    "      ' --tmin -0.5 --tmax 0 '\n",
    "      ' --safety_time_bound 0.05'\n",
    "      ' --control_type feedback --time_locked target '\n",
    "      ' --trial_group_col_calc trialwe --trim_outliers 0' \n",
    "      ' --dists_rad_from_prevtgt all --dists_trial_from_prevtgt all'      \n",
    "      ' --subject sub01_WGPOZPEE ' \n",
    "     f' --each_SPoC_fit_is_parallel 1 '\n",
    "     f' --scale_X_robust 1 --scale_Y_robust 1  '\n",
    "     f' --discard_hit_twice {discard_hit_twice} '\n",
    "      ' --n_jobs 12 '\n",
    "      ' --regression_type Ridge --freq_name broad' \n",
    "     f' --freq_limits 4,60 --env_to_run {envstr}' \n",
    "      ' --custom_suffix trim0_drall_dtall'\n",
    "     f' --behav_file {es_fnf}'\n",
    "     f' --fif_file {fif_fnf}'\n",
    "    )\n",
    "\n",
    "    #%debug\n",
    "    for subject in subjects[:1]:\n",
    "    #for subject in subjects[1:]:\n",
    "        print('   ', subject)\n",
    "        n_jobs = 10\n",
    "        hpass = 'no_filter'\n",
    "        regression_type = 'Ridge'\n",
    "        ipython.run_line_magic('run',\n",
    "            f' -i {path_code}/{scr} ' + s)\n",
    "        \n",
    "    scores = svd['decoding_per_var_b2b']\\\n",
    "        ['prev_movement,prev_error,error,prev_belief']['scores']\n",
    "    scores_list += [scores]\n",
    "    print( envstr, scores )"
   ]
  },
  {
   "cell_type": "code",
   "execution_count": null,
   "id": "07835aa9",
   "metadata": {},
   "outputs": [],
   "source": [
    "scores_fb = svd['decoding_per_var_b2b']['prev_feedback,prev_error,error,prev_belief']['scores']\n",
    "print(scores_fb)"
   ]
  },
  {
   "cell_type": "code",
   "execution_count": null,
   "id": "5bafa364",
   "metadata": {},
   "outputs": [],
   "source": [
    "each_SPoC_fit_is_parallel"
   ]
  },
  {
   "cell_type": "code",
   "execution_count": null,
   "id": "c5ba039b",
   "metadata": {},
   "outputs": [],
   "source": [
    "#        discard_hit_twice = 1   \n",
    "# each_SPoC_fit_is_parallel 1,  seed 1\n",
    "#  scores_list =\n",
    "# [array([0.00035778, 0.02235245, 0.04191405, 0.05811763]),\n",
    "#  array([ 0.00422811,  0.02095435, -0.00199676, -0.01069064])]\n",
    "\n",
    "# each_SPoC_fit_is_parallel 0 or 1 gives same numbers\n",
    "\n",
    "\n",
    "#seed 0 stable [0.00189148 0.02553717 0.05343451 0.05780295]\n",
    "\n",
    "#     discard_hit_twice = 0\n",
    "# seed 1 stable [-0.00838634  0.01870682  0.04528066  0.06920459]\n",
    "\n",
    "#robust scale X and Y\n",
    "#discard_hit_twice = 0\n",
    "#each_SPoC_fit_is_parallel 1\n",
    "#seed 1 [ 0.24063552 -0.00430724  0.04308413  0.02089529]\n",
    "\n",
    "#robust scale X and Y\n",
    "#discard_hit_twice = 0\n",
    "#each_SPoC_fit_is_parallel 1\n",
    "#control feedback \n",
    "#array([0.12825361, 0.00162739, 0.04308413, 0.03051465])\n",
    "\n",
    "# we\n",
    "# [0.12825361 0.00162739 0.04308413 0.03051465]"
   ]
  },
  {
   "cell_type": "code",
   "execution_count": null,
   "id": "43a00b37",
   "metadata": {},
   "outputs": [],
   "source": [
    "scores_list"
   ]
  },
  {
   "cell_type": "code",
   "execution_count": null,
   "id": "6c644bd0",
   "metadata": {},
   "outputs": [],
   "source": [
    "SPoC_n_components"
   ]
  },
  {
   "cell_type": "code",
   "execution_count": null,
   "id": "c4f078c3",
   "metadata": {},
   "outputs": [],
   "source": [
    "n_splits_B2B"
   ]
  },
  {
   "cell_type": "code",
   "execution_count": null,
   "id": "59427702",
   "metadata": {},
   "outputs": [],
   "source": [
    "display(scores_romain_b2b)"
   ]
  },
  {
   "cell_type": "code",
   "execution_count": null,
   "id": "fcd55119",
   "metadata": {},
   "outputs": [],
   "source": []
  },
  {
   "cell_type": "code",
   "execution_count": null,
   "id": "afa6a76c",
   "metadata": {},
   "outputs": [],
   "source": [
    "addvars"
   ]
  },
  {
   "cell_type": "code",
   "execution_count": null,
   "id": "8a767013",
   "metadata": {},
   "outputs": [],
   "source": [
    "addvar_dict"
   ]
  },
  {
   "cell_type": "code",
   "execution_count": null,
   "id": "ad73bc97",
   "metadata": {},
   "outputs": [],
   "source": []
  },
  {
   "cell_type": "code",
   "execution_count": null,
   "id": "2887450c",
   "metadata": {},
   "outputs": [],
   "source": [
    "target_coords"
   ]
  },
  {
   "cell_type": "code",
   "execution_count": null,
   "id": "6a972145",
   "metadata": {},
   "outputs": [],
   "source": [
    "delay_trig_photodi, use_non_hit"
   ]
  },
  {
   "cell_type": "code",
   "execution_count": null,
   "id": "b51d9f98",
   "metadata": {},
   "outputs": [],
   "source": [
    "behav_df_cur['environment']"
   ]
  },
  {
   "cell_type": "code",
   "execution_count": null,
   "id": "0f7d81ff",
   "metadata": {},
   "outputs": [],
   "source": [
    "#behav_df_full['feedback']"
   ]
  },
  {
   "cell_type": "code",
   "execution_count": null,
   "id": "6dd18323",
   "metadata": {},
   "outputs": [],
   "source": [
    "len(behav_df_cur['non_hit_not_adj']), behav_df_cur['non_hit_not_adj'].sum()"
   ]
  },
  {
   "cell_type": "code",
   "execution_count": null,
   "id": "a8555aaa",
   "metadata": {},
   "outputs": [],
   "source": [
    "behav_df_cur['feedbackX']"
   ]
  },
  {
   "cell_type": "code",
   "execution_count": null,
   "id": "b876df3f",
   "metadata": {},
   "outputs": [],
   "source": [
    "from base2 import point_in_circle, radius_target, radius_cursor\n",
    "targets_stable = behav_df_cur['target_inds'].values\n",
    "feedbackX_stable, feedbackY_stable = behav_df_cur[['feedbackX','feedbackY']].values.T\n",
    "\n",
    "non_hit_stable = point_in_circle(targets_stable, target_coords,\n",
    "                                 feedbackX_stable, feedbackY_stable,\n",
    "                                 radius_target + radius_cursor)\n",
    "non_hit_stable = np.array(non_hit_stable)\n",
    "non_hit = non_hit_stable.copy()\n",
    "non_hit = ~(~non_hit | ~np.insert(non_hit, 0, 1)[:-1])\n",
    "non_hit[[0, 192]] = False  # Removing first trial of each block\n",
    "\n"
   ]
  },
  {
   "cell_type": "code",
   "execution_count": null,
   "id": "00980f49",
   "metadata": {},
   "outputs": [],
   "source": []
  },
  {
   "cell_type": "code",
   "execution_count": null,
   "id": "7667f488",
   "metadata": {},
   "outputs": [],
   "source": []
  },
  {
   "cell_type": "code",
   "execution_count": null,
   "id": "054237af",
   "metadata": {},
   "outputs": [],
   "source": []
  },
  {
   "cell_type": "code",
   "execution_count": null,
   "id": "8216b6c9",
   "metadata": {},
   "outputs": [],
   "source": []
  },
  {
   "cell_type": "code",
   "execution_count": null,
   "id": "b2d4d835",
   "metadata": {},
   "outputs": [],
   "source": [
    "non_hit.sum(), non_hit_stable.sum()"
   ]
  },
  {
   "cell_type": "code",
   "execution_count": null,
   "id": "1ff1ff59",
   "metadata": {},
   "outputs": [],
   "source": [
    "behav_df_cur"
   ]
  },
  {
   "cell_type": "code",
   "execution_count": null,
   "id": "6ec89d58",
   "metadata": {},
   "outputs": [],
   "source": [
    "non_hit.sum()"
   ]
  },
  {
   "cell_type": "code",
   "execution_count": null,
   "id": "fa1f2799",
   "metadata": {},
   "outputs": [],
   "source": [
    "len(behav_df_cur)"
   ]
  },
  {
   "cell_type": "code",
   "execution_count": null,
   "id": "d49bc572",
   "metadata": {},
   "outputs": [],
   "source": [
    "behav_df_cur['non_hit_not_adj'].sum(), behav_df_cur['non_hit_shifted'].sum()"
   ]
  },
  {
   "cell_type": "code",
   "execution_count": null,
   "id": "f4982143",
   "metadata": {},
   "outputs": [],
   "source": [
    "safety_time_bound"
   ]
  },
  {
   "cell_type": "code",
   "execution_count": null,
   "id": "38af1f34",
   "metadata": {},
   "outputs": [],
   "source": [
    "tmin_cur, tmax_cur"
   ]
  },
  {
   "cell_type": "code",
   "execution_count": null,
   "id": "5226a7a3",
   "metadata": {},
   "outputs": [],
   "source": []
  },
  {
   "cell_type": "code",
   "execution_count": null,
   "id": "c43ac771",
   "metadata": {},
   "outputs": [],
   "source": [
    "#['prev_movement', 'prev_error', 'error', 'prev_belief']\n",
    "from datetime import datetime\n",
    "for env in ['stable']: #, 'random']:\n",
    "    Y = []\n",
    "    Xs = []\n",
    "    #for varn in vars_to_decode_b2b_tmp:\n",
    "    fnf = pjoin(results_folder, f'Xy_b2b_{env}.npz')\n",
    "    s = str( datetime.fromtimestamp(os.stat(fnf).st_mtime ) )\n",
    "    print(s)\n",
    "    r = np.load( fnf )\n",
    "    X=r['X']\n",
    "    y = r['y'].T\n",
    "    Y += [y]\n",
    "    Xs += [X]\n",
    "    print(X.shape, y.shape, r['varnames'])\n",
    "\n",
    "    Y = np.vstack(Y).T\n",
    "        \n",
    "    print( Y.shape, X.shape )\n",
    "    \n",
    "    if env == 'stable':\n",
    "        X_stable = X\n",
    "        Y_stable = Y        \n",
    "    if env == 'random':\n",
    "        X_random = X\n",
    "        Y_random = Y\n",
    "        \n",
    "print('dif stable =', np.abs( Y_stable - Y_stable_romain ).max() )\n",
    "print('dif random =', np.abs( Y_random - Y_random_romain ).max() )"
   ]
  },
  {
   "cell_type": "code",
   "execution_count": null,
   "id": "1436154d",
   "metadata": {},
   "outputs": [],
   "source": [
    "#['prev_movement', 'prev_error', 'error', 'prev_belief']\n",
    "from datetime import datetime\n",
    "for env in ['stable', 'random']:\n",
    "    Y = []\n",
    "    Xs = []\n",
    "    for varn in vars_to_decode_b2b_tmp:\n",
    "        fnf = pjoin(results_folder, f'Xy_classical_{env}_{varn}.npz')\n",
    "        s = str( datetime.fromtimestamp(os.stat(fnf).st_mtime ) )\n",
    "        print(s)\n",
    "        r = np.load( fnf )\n",
    "        X=r['X']\n",
    "        y = r['y']\n",
    "        Y += [y]\n",
    "        Xs += [X]\n",
    "        print(varn, X.shape, y.shape, r['varname'])\n",
    "\n",
    "    Y = np.vstack(Y).T\n",
    "        \n",
    "    print( Y.shape, X.shape )\n",
    "    \n",
    "    if env == 'stable':\n",
    "        X_stable = X\n",
    "        Y_stable = Y        \n",
    "    if env == 'random':\n",
    "        X_random = X\n",
    "        Y_random = Y\n",
    "        \n",
    "print('dif stable =', np.abs( Y_stable - Y_stable_romain ).max() )\n",
    "print('dif random =', np.abs( Y_random - Y_random_romain ).max() )"
   ]
  },
  {
   "cell_type": "code",
   "execution_count": null,
   "id": "ab78ae25",
   "metadata": {},
   "outputs": [],
   "source": [
    "behav_df_cur"
   ]
  },
  {
   "cell_type": "code",
   "execution_count": null,
   "id": "9d618455",
   "metadata": {},
   "outputs": [],
   "source": [
    "192*2"
   ]
  },
  {
   "cell_type": "code",
   "execution_count": null,
   "id": "c1e114b1",
   "metadata": {},
   "outputs": [],
   "source": [
    "behav_df_cur.query('trials in [192,383]')[['trials','non_hit_not_adj'] ]"
   ]
  },
  {
   "cell_type": "code",
   "execution_count": null,
   "id": "2d11fab4",
   "metadata": {},
   "outputs": [],
   "source": [
    "non_hit[[0,192]]"
   ]
  },
  {
   "cell_type": "code",
   "execution_count": null,
   "id": "0d2a1c4b",
   "metadata": {
    "run_control": {
     "marked": true
    }
   },
   "outputs": [],
   "source": [
    "Y_random_romain[190:195,:1]"
   ]
  },
  {
   "cell_type": "code",
   "execution_count": null,
   "id": "e3887709",
   "metadata": {},
   "outputs": [],
   "source": [
    "Y[190:195,:1]"
   ]
  },
  {
   "cell_type": "code",
   "execution_count": null,
   "id": "fe6eeff5",
   "metadata": {},
   "outputs": [],
   "source": [
    "for vi in range(1,len(Xs)):\n",
    "    dif = np.abs( Xs[0] - Xs[vi] ).max()\n",
    "    \n",
    "    dif2 = np.abs( Xs[0] - X_stable_romain ).max()\n",
    "    print(vi,dif, dif2)"
   ]
  },
  {
   "cell_type": "code",
   "execution_count": null,
   "id": "98e45d21",
   "metadata": {},
   "outputs": [],
   "source": [
    "mismatch = Xs[0] - X_stable_romain\n",
    "print(mismatch.std() / X_stable_romain.std())"
   ]
  },
  {
   "cell_type": "code",
   "execution_count": null,
   "id": "bcaf66b9",
   "metadata": {},
   "outputs": [],
   "source": [
    "np.abs( mismatch / Xs[0] ).std()"
   ]
  },
  {
   "cell_type": "code",
   "execution_count": null,
   "id": "67058c7e",
   "metadata": {},
   "outputs": [],
   "source": [
    "np.abs( mismatch / X_stable_romain ).std()"
   ]
  },
  {
   "cell_type": "code",
   "execution_count": null,
   "id": "20badb4b",
   "metadata": {},
   "outputs": [],
   "source": [
    "np.abs( mismatch / X_stable_romain ).std()"
   ]
  },
  {
   "cell_type": "code",
   "execution_count": null,
   "id": "5217749a",
   "metadata": {},
   "outputs": [],
   "source": []
  },
  {
   "cell_type": "code",
   "execution_count": null,
   "id": "dd1be88c",
   "metadata": {},
   "outputs": [],
   "source": [
    "fif_fnf"
   ]
  },
  {
   "cell_type": "code",
   "execution_count": null,
   "id": "5eb07513",
   "metadata": {},
   "outputs": [],
   "source": [
    "import scipy\n",
    "np.median( np.abs( Xs[0] - X_stable_romain ) )"
   ]
  },
  {
   "cell_type": "code",
   "execution_count": null,
   "id": "b83bedd3",
   "metadata": {},
   "outputs": [],
   "source": [
    "np.median(np.abs( Xs[0]) ), np.median(np.abs( X_stable_romain) )"
   ]
  },
  {
   "cell_type": "code",
   "execution_count": null,
   "id": "75434bad",
   "metadata": {},
   "outputs": [],
   "source": [
    "import matplotlib.pyplot as plt\n",
    "import matplotlib as mpl"
   ]
  },
  {
   "cell_type": "code",
   "execution_count": null,
   "id": "264390c8",
   "metadata": {},
   "outputs": [],
   "source": []
  },
  {
   "cell_type": "code",
   "execution_count": null,
   "id": "6331d347",
   "metadata": {},
   "outputs": [],
   "source": [
    "import matplotlib.pyplot as plt\n",
    "nts = np.arange(136,195)\n",
    "chi = 4\n",
    "#ts = slice(None,1000,20)\n",
    "ts = slice(None,1)\n",
    "c = 1e15\n",
    "pairs = [(X_stable,X_stable_romain)] #, (X_random,X_random_romain)]\n",
    "for X1,X2 in pairs:\n",
    "    vs = X1[nts,chi,ts] *c\n",
    "    vs_romain = X2[nts,chi,ts] * c\n",
    "    display( vs )\n",
    "    display( vs_romain )\n",
    "\n",
    "    #plt.plot(vs.T, ls='-', c='blue')\n",
    "    #plt.plot(vs_romain.T, ls='--', c='orange')\n",
    "\n",
    "    plt.figure()\n",
    "    plt.plot(nts, vs, ls='-', c='blue')\n",
    "    plt.plot(nts, vs_romain, ls='--', c='orange')\n"
   ]
  },
  {
   "cell_type": "code",
   "execution_count": null,
   "id": "105b61ca",
   "metadata": {},
   "outputs": [],
   "source": [
    "sl = np.arange(120,150)\n",
    "list( zip(sl,Y_random[sl,0]- Y_random_romain [sl,0],  Y_random[sl,0], Y_random_romain [sl,0] )) "
   ]
  },
  {
   "cell_type": "code",
   "execution_count": null,
   "id": "5190855f",
   "metadata": {},
   "outputs": [],
   "source": [
    "vs.shape"
   ]
  },
  {
   "cell_type": "code",
   "execution_count": null,
   "id": "f76ecaa7",
   "metadata": {},
   "outputs": [],
   "source": [
    "import numpy as np\n",
    "eps = np.finfo(float).eps\n",
    "print(eps)"
   ]
  },
  {
   "cell_type": "code",
   "execution_count": null,
   "id": "23d282a6",
   "metadata": {},
   "outputs": [],
   "source": [
    "X_stable_romain.std()"
   ]
  },
  {
   "cell_type": "code",
   "execution_count": null,
   "id": "bc9d5f1e",
   "metadata": {},
   "outputs": [],
   "source": [
    "import gc; gc.collect()"
   ]
  },
  {
   "cell_type": "code",
   "execution_count": null,
   "id": "a4675dbc",
   "metadata": {},
   "outputs": [],
   "source": []
  },
  {
   "cell_type": "code",
   "execution_count": null,
   "id": "6bed40ac",
   "metadata": {},
   "outputs": [],
   "source": [
    "print('dif stable =', np.abs( Y - Y_stable_romain ).max() )"
   ]
  },
  {
   "cell_type": "code",
   "execution_count": null,
   "id": "d70727d3",
   "metadata": {},
   "outputs": [],
   "source": [
    "i = 5\n",
    "for vi in range(4):\n",
    "    print( Y[:i,vi] )\n",
    "    print( Y_stable_romain[:i,vi] )"
   ]
  },
  {
   "cell_type": "code",
   "execution_count": null,
   "id": "5910f499",
   "metadata": {},
   "outputs": [],
   "source": [
    "Y_random_romain.shape"
   ]
  },
  {
   "cell_type": "code",
   "execution_count": null,
   "id": "5f43b67c",
   "metadata": {},
   "outputs": [],
   "source": [
    "Y_stable_romain.shape"
   ]
  },
  {
   "cell_type": "code",
   "execution_count": null,
   "id": "025ab8ff",
   "metadata": {},
   "outputs": [],
   "source": [
    "an.split('_')[:-1]"
   ]
  },
  {
   "cell_type": "code",
   "execution_count": null,
   "id": "1b723796",
   "metadata": {},
   "outputs": [],
   "source": [
    "Y_stable_romain.shape\n",
    "#X_random_romain, X_stable_romain, Y_random_romain, Y_stable_romain"
   ]
  },
  {
   "cell_type": "code",
   "execution_count": null,
   "id": "a523b7a6",
   "metadata": {},
   "outputs": [],
   "source": [
    "vars_to_decode_classic"
   ]
  },
  {
   "cell_type": "code",
   "execution_count": null,
   "id": "2acb026f",
   "metadata": {},
   "outputs": [],
   "source": [
    "control_type"
   ]
  },
  {
   "cell_type": "code",
   "execution_count": null,
   "id": "406afa57",
   "metadata": {},
   "outputs": [],
   "source": [
    "vars_to_decode_b2b_tmp"
   ]
  },
  {
   "cell_type": "code",
   "execution_count": null,
   "id": "c305d67a",
   "metadata": {},
   "outputs": [],
   "source": [
    "fn_events_full"
   ]
  },
  {
   "cell_type": "code",
   "execution_count": null,
   "id": "1518abac",
   "metadata": {},
   "outputs": [],
   "source": [
    "fn_flt_raw_full"
   ]
  },
  {
   "cell_type": "code",
   "execution_count": null,
   "id": "e07e06b6",
   "metadata": {},
   "outputs": [],
   "source": [
    "fif_fnf"
   ]
  },
  {
   "cell_type": "code",
   "execution_count": null,
   "id": "6432234f",
   "metadata": {},
   "outputs": [],
   "source": [
    "vars_to_decode_b2b"
   ]
  },
  {
   "cell_type": "code",
   "execution_count": null,
   "id": "53188848",
   "metadata": {},
   "outputs": [],
   "source": [
    "os.path.split( fname_full )[0]"
   ]
  },
  {
   "cell_type": "code",
   "execution_count": null,
   "id": "86a2f7cc",
   "metadata": {},
   "outputs": [],
   "source": [
    "par['recalc_err_sens']"
   ]
  },
  {
   "cell_type": "code",
   "execution_count": null,
   "id": "9df7dc0c",
   "metadata": {},
   "outputs": [],
   "source": [
    "vndef2vn"
   ]
  },
  {
   "cell_type": "code",
   "execution_count": null,
   "id": "139b19e6",
   "metadata": {},
   "outputs": [],
   "source": [
    "behav_df_cur['environment'].unique()"
   ]
  },
  {
   "cell_type": "code",
   "execution_count": null,
   "id": "3b56626b",
   "metadata": {},
   "outputs": [],
   "source": [
    "computeErrSensVersions"
   ]
  },
  {
   "cell_type": "code",
   "execution_count": null,
   "id": "849a0eb1",
   "metadata": {},
   "outputs": [],
   "source": [
    "len(behav_df_full), len(behav_df_cur)"
   ]
  },
  {
   "cell_type": "code",
   "execution_count": null,
   "id": "e6ca7f04",
   "metadata": {},
   "outputs": [],
   "source": [
    "(behav_df_full['trials'].diff().iloc[1:] > 0).all()"
   ]
  },
  {
   "cell_type": "code",
   "execution_count": null,
   "id": "b3ef174a",
   "metadata": {},
   "outputs": [],
   "source": [
    "stage2evn2event_ids['target']"
   ]
  },
  {
   "cell_type": "code",
   "execution_count": null,
   "id": "5a1efbfe",
   "metadata": {},
   "outputs": [],
   "source": [
    "env2envcode"
   ]
  },
  {
   "cell_type": "code",
   "execution_count": null,
   "id": "aacaa73c",
   "metadata": {},
   "outputs": [],
   "source": [
    "meg_targets_ev = epochs_for_EC.events[:,2].copy()\n",
    "for env,envcode in env2envcode.items():\n",
    "   #trial_inds = np.where(environment == envcode)[0]\n",
    "   trial_inds = np.where( np.isin(meg_targets_ev,\n",
    "       stage2evn2event_ids['target'][env] ) )[0] \n",
    "   print(env,len(trial_inds), trial_inds[0], trial_inds[-1] )\n",
    "   # it uses that  target codes are conequitive integers\n",
    "   meg_targets_ev[trial_inds] = meg_targets_ev[trial_inds] - env2subtr[env]\n"
   ]
  },
  {
   "cell_type": "code",
   "execution_count": null,
   "id": "b329baef",
   "metadata": {},
   "outputs": [],
   "source": [
    "behav_df_cur2 = enforceTargetTriggerConsistency(behav_df_full.copy(),\n",
    "                               epochs_for_EC,\n",
    "                               behav_df_full['environment'], save_fname = None)\n"
   ]
  },
  {
   "cell_type": "code",
   "execution_count": null,
   "id": "caa399f7",
   "metadata": {},
   "outputs": [],
   "source": [
    "B = np.array( [meg_targets_ev, behav_df_full['target_inds']] ).T\n",
    "B[:,0] - B[:,1]"
   ]
  },
  {
   "cell_type": "code",
   "execution_count": null,
   "id": "53ec73d3",
   "metadata": {},
   "outputs": [],
   "source": [
    "behav_df_full.sort_values('trials')"
   ]
  },
  {
   "cell_type": "code",
   "execution_count": null,
   "id": "a70ed3a2",
   "metadata": {},
   "outputs": [],
   "source": [
    "behav_df_full[['trials','target_inds']].iloc[192:199]"
   ]
  },
  {
   "cell_type": "code",
   "execution_count": null,
   "id": "09d6b4fd",
   "metadata": {},
   "outputs": [],
   "source": [
    "A = np.array( [epochs_for_EC.events[:,2], behav_df_full['target_codes']] ).T\n",
    "A[:,0] - A[:,1]\n",
    "\n",
    "Ac = A + np.array([0,5])[None,:]\n",
    "\n",
    "display( Ac[192: 199] )\n",
    "\n",
    "A[192: 199] #- np.array([0,-5])[None,:]\n",
    "#\n",
    "#B[190:220]"
   ]
  },
  {
   "cell_type": "code",
   "execution_count": null,
   "id": "3f09f787",
   "metadata": {},
   "outputs": [],
   "source": [
    "len(epochs_for_EC), len(behav_df_full)"
   ]
  },
  {
   "cell_type": "code",
   "execution_count": null,
   "id": "2e9714ad",
   "metadata": {},
   "outputs": [],
   "source": [
    "set(behav_df_full['target_codes'].unique())"
   ]
  },
  {
   "cell_type": "code",
   "execution_count": null,
   "id": "b3d8dbff",
   "metadata": {},
   "outputs": [],
   "source": [
    "behav_df_cur['target_inds']"
   ]
  },
  {
   "cell_type": "code",
   "execution_count": null,
   "id": "44c5a1c1",
   "metadata": {},
   "outputs": [],
   "source": [
    "behav_df_cur['target_codes']"
   ]
  },
  {
   "cell_type": "code",
   "execution_count": null,
   "id": "b3e53065",
   "metadata": {},
   "outputs": [],
   "source": [
    "set( epochs_for_EC.events[:,2] )"
   ]
  },
  {
   "cell_type": "code",
   "execution_count": null,
   "id": "36a8310f",
   "metadata": {},
   "outputs": [],
   "source": [
    "len(behav_df_full)"
   ]
  },
  {
   "cell_type": "code",
   "execution_count": null,
   "id": "696cec41",
   "metadata": {},
   "outputs": [],
   "source": [
    "behav_df_full['trigger_present'].sum() / len( behav_df_full['trigger_present'])"
   ]
  },
  {
   "cell_type": "code",
   "execution_count": null,
   "id": "bc5df68c",
   "metadata": {},
   "outputs": [],
   "source": [
    "#behav_df_full['err_sens']"
   ]
  },
  {
   "cell_type": "code",
   "execution_count": null,
   "id": "29a9982b",
   "metadata": {},
   "outputs": [],
   "source": [
    "behav_df_full.columns"
   ]
  },
  {
   "cell_type": "code",
   "execution_count": null,
   "id": "05bc3d4e",
   "metadata": {},
   "outputs": [],
   "source": [
    "behav_df_full.query('trial_shift_size == 1 and trial_group_calc == \"trials\"').duplicated(['subject','trials'] ).sum()"
   ]
  },
  {
   "cell_type": "code",
   "execution_count": null,
   "id": "4edccef9",
   "metadata": {},
   "outputs": [],
   "source": [
    "behav_df_cur[['RT','movement_duration']]"
   ]
  },
  {
   "cell_type": "code",
   "execution_count": null,
   "id": "76974954",
   "metadata": {},
   "outputs": [],
   "source": [
    "vars_to_decode_b2b_tmp"
   ]
  },
  {
   "cell_type": "code",
   "execution_count": null,
   "id": "fd4ac336",
   "metadata": {},
   "outputs": [],
   "source": [
    "behav_df_cur.belief"
   ]
  },
  {
   "cell_type": "code",
   "execution_count": null,
   "id": "19e9afa9",
   "metadata": {},
   "outputs": [],
   "source": [
    "behav_df_cur.columns"
   ]
  },
  {
   "cell_type": "code",
   "execution_count": null,
   "id": "e5c71e4f",
   "metadata": {},
   "outputs": [],
   "source": [
    "behav_df_cur['non_hit_not_adj']"
   ]
  },
  {
   "cell_type": "code",
   "execution_count": null,
   "id": "f52b10b9",
   "metadata": {},
   "outputs": [],
   "source": [
    "epochs_for_EC.events"
   ]
  },
  {
   "cell_type": "code",
   "execution_count": null,
   "id": "3b14fefe",
   "metadata": {},
   "outputs": [],
   "source": []
  },
  {
   "cell_type": "code",
   "execution_count": null,
   "id": "eb84f207",
   "metadata": {},
   "outputs": [],
   "source": []
  },
  {
   "cell_type": "code",
   "execution_count": null,
   "id": "05c4334c",
   "metadata": {},
   "outputs": [],
   "source": []
  },
  {
   "cell_type": "markdown",
   "id": "307c6ae7",
   "metadata": {},
   "source": [
    "# Read XY"
   ]
  },
  {
   "cell_type": "code",
   "execution_count": null,
   "id": "92bd18b0",
   "metadata": {},
   "outputs": [],
   "source": [
    "import numpy as np\n",
    "fnf = '/home/demitau/data_Quentin/full_experiments/data2/sub01_WGPOZPEE/results/spoc_home2_no_filter_orig/with_ICA;no_filter;broad;movement;target;stable_XY.npz'\n",
    "f = np.load(fnf)\n",
    "# tmax_safe was = +0.05 in this data\n",
    "\n",
    "import numpy as np\n",
    "from sklearn.model_selection import ShuffleSplit\n",
    "\n",
    "X_desired = f['X'] # trial x sensors x time\n",
    "Y_desired = f['Y']\n",
    "print( X_desired.shape)  # trial x sensors x time \n",
    "print( Y_desired.shape)  # trial x  dim"
   ]
  },
  {
   "cell_type": "code",
   "execution_count": null,
   "id": "f1d8eb29",
   "metadata": {},
   "outputs": [],
   "source": [
    "\n"
   ]
  },
  {
   "cell_type": "code",
   "execution_count": null,
   "id": "800ae09c",
   "metadata": {},
   "outputs": [],
   "source": []
  },
  {
   "cell_type": "code",
   "execution_count": null,
   "id": "9696ddba",
   "metadata": {},
   "outputs": [],
   "source": [
    "fnf  = '/home/demitau/ownCloud/Current/NeuroSci/Romain/code_memory_errors/exper_protocol/tis.npz'\n",
    "f = np.load(fnf, allow_pickle = 1)"
   ]
  }
 ],
 "metadata": {
  "kernelspec": {
   "display_name": "merr",
   "language": "python",
   "name": "merr"
  },
  "language_info": {
   "codemirror_mode": {
    "name": "ipython",
    "version": 3
   },
   "file_extension": ".py",
   "mimetype": "text/x-python",
   "name": "python",
   "nbconvert_exporter": "python",
   "pygments_lexer": "ipython3",
   "version": "3.8.13"
  }
 },
 "nbformat": 4,
 "nbformat_minor": 5
}
