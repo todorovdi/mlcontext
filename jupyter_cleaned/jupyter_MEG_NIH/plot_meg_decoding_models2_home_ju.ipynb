{
 "cells": [
  {
   "cell_type": "code",
   "execution_count": null,
   "id": "198f3a01",
   "metadata": {},
   "outputs": [],
   "source": [
    "%load_ext autoreload\n",
    "%autoreload 2\n",
    "\n",
    "import os, sys\n",
    "os.environ['OPENBLAS_NUM_THREADS'] = '1'\n",
    "sys.path.insert(0,os.path.expandvars('$CODE_MEMORY_ERRORS'))\n",
    "\n",
    "import config2\n",
    "ipy = get_ipython()\n",
    "#data_dir_general = '/home/demitau/data_Quentin'00\n",
    "#data_subdir_mem_err_main = 'full_experiments/data2'\n",
    "from os.path import join as pjoin\n",
    "import pandas as pd\n",
    "from config2 import *\n",
    "import mne\n",
    "import seaborn as sns\n",
    "\n",
    "print('pandas ver ', pd.__version__)\n",
    "print('seaborn ver ', sns.__version__)\n",
    "print('MNE ver ', mne.__version__)\n",
    "#data_dir_input = pjoin(data_dir_general,data_subdir_mem_err_main)\n",
    "#data_dir_general = '/home/demitau/data_Quentin'\n",
    "#data_subdir_mem_err_main = 'full_experiments/data2'\n",
    "#data_dir_input = pjoin(data_dir_general,data_subdir_mem_err_main)\n",
    "#scripts_dir = pjoin(data_dir_general,'full_experiments','scripts2')\n",
    "\n",
    "data_dir_general = os.path.expandvars('$DATA_QUENTIN')\n",
    "data_dir_input = os.path.expandvars('$DATA_MEMORY_ERRORS_STAB_AND_STOCH')\n",
    "#scripts_dir = pjoin( os.path.expandvars('$CODE_MEMORY_ERRORS'), 'previous_analyses')\n",
    "scripts_dir = pjoin( os.path.expandvars('$CODE_MEMORY_ERRORS'), 'figure')\n",
    "\n",
    "from dateutil import parser\n",
    "from error_sensitivity import getAnalysisVarnames\n",
    "\n",
    "print(data_dir_input, scripts_dir)\n",
    "\n",
    "subjects = [f for f in os.listdir(data_dir_input) if f.startswith('sub') ]\n",
    "subjects = list(sorted(subjects))\n",
    "print(subjects)\n",
    "\n",
    "import figure.plots\n",
    "import gc"
   ]
  },
  {
   "cell_type": "markdown",
   "id": "6b94853f",
   "metadata": {},
   "source": [
    "$$e_n = \\mathrm{error\\ observation_n} =\\\\= \\mathrm{endpoint}_n- \\mathrm{target\\_angle}_n =\\\\\n",
    "=x_n + \\mathrm{perturbation}_n$$\n",
    "\n",
    "\n",
    " \n",
    "$$\\mathrm{State\\ dynamics:}\\\\x_{n+1} = \\alpha \\cdot x_{n} + \\beta_n \\cdot e_n$$\n",
    "\n",
    "\n"
   ]
  },
  {
   "cell_type": "markdown",
   "id": "164c4753",
   "metadata": {},
   "source": [
    "* Empirical: $\\beta_n = \\displaystyle\\frac{e_n - e_{n-1}}{e_{n-1}}$\n",
    "\n",
    "* Dierichsen:     $\\beta_n \\equiv \\beta$\n",
    "\n",
    "* Tan: $\\beta_n = c \\cdot \\displaystyle\\frac{\\mu^2}{ \\sigma^2 }$\n",
    "\n",
    "* Herzfeld:     $ \\beta_n = \\beta_{n-1} + \\gamma\\cdot \\mathrm{sign}(e_{n-2} \\cdot e_{n-1})  $"
   ]
  },
  {
   "cell_type": "markdown",
   "id": "e845c48a",
   "metadata": {},
   "source": []
  },
  {
   "cell_type": "code",
   "execution_count": null,
   "id": "6b2fe8e7",
   "metadata": {},
   "outputs": [],
   "source": [
    "import gc; gc.collect()"
   ]
  },
  {
   "cell_type": "code",
   "execution_count": null,
   "id": "784b9f11",
   "metadata": {},
   "outputs": [],
   "source": [
    "df1.columns"
   ]
  },
  {
   "cell_type": "code",
   "execution_count": null,
   "id": "286bb2bc",
   "metadata": {},
   "outputs": [],
   "source": [
    "from postproc import collectResultsPrefilled,collectResults0\n",
    "tmin_desired = None\n",
    "hpass = 'no_filter'\n",
    "time_start = parser.parse('00:00 of 22nd sept 2023'); \n",
    "time_end = parser.parse('15:58 of 31 may 2027'); \n",
    "time_lockeds = ['target', 'feedback']\n",
    "#freq_names = ['broad']\n",
    "freq_names = ['broad']#, 'beta', 'gamma']\n",
    "control_types = [ 'movement']\n",
    "\n",
    "output_folder = f'corr_spoc_es_sliding2_{hpass}'        \n",
    "#wildcard = \"*CNslideModelES*.npz\"\n",
    "wildcard = \"*homeModelES*.npz\"\n",
    " # this is without time filtering it will be done in next cell\n",
    "df1 = collectResults0(subjects,output_folder, wildcard=wildcard)\n",
    "print('len(df1)', len(df1))\n",
    "assert len(df1)"
   ]
  },
  {
   "cell_type": "code",
   "execution_count": null,
   "id": "3f1b7c64",
   "metadata": {},
   "outputs": [],
   "source": [
    "print('tmin_desired = ',tmin_desired)\n",
    "\n",
    "qs = ''\n",
    "#qs += 'time_locked.isin(@time_lockeds) and control_type.isin(@control_types)'\n",
    "#qs += ' freq_name.isin(@freq_names)'\n",
    "qs += ' mtime >= @time_start'\n",
    "qs += ' and mtime <= @time_end'\n",
    "#qs += ' and custom_suffix.str.endswith(\"_sh0.232\")'\n",
    "qs += ' and custom_suffix.str.contains(\"c1_\")'\n",
    "if tmin_desired is not None:\n",
    "    if isinstance(tmin_desired,list):\n",
    "        qs += ' and tmin.isin(@tmin_desired)'\n",
    "    else:\n",
    "        qs += ' and tmin == @tmin_desired'\n",
    "df2 = df1.query(qs).copy()\n",
    "print('after restricting to time interval ',len(df1),len(df2))"
   ]
  },
  {
   "cell_type": "code",
   "execution_count": null,
   "id": "f5a38188",
   "metadata": {},
   "outputs": [],
   "source": [
    "import matplotlib.pyplot as plt"
   ]
  },
  {
   "cell_type": "code",
   "execution_count": null,
   "id": "09d19a79",
   "metadata": {},
   "outputs": [],
   "source": [
    "df2['custom_suffix'].unique()"
   ]
  },
  {
   "cell_type": "code",
   "execution_count": null,
   "id": "f5cde6a4",
   "metadata": {},
   "outputs": [],
   "source": [
    "df2.groupby('custom_suffix').size()"
   ]
  },
  {
   "cell_type": "code",
   "execution_count": null,
   "id": "26480870",
   "metadata": {},
   "outputs": [],
   "source": [
    "df2.groupby('custom_suffix')['mtime'].mean()"
   ]
  },
  {
   "cell_type": "code",
   "execution_count": null,
   "id": "785199c2",
   "metadata": {},
   "outputs": [],
   "source": [
    "plt.hist(df2['mtime'])"
   ]
  },
  {
   "cell_type": "code",
   "execution_count": null,
   "id": "2f6591e2",
   "metadata": {},
   "outputs": [],
   "source": [
    "#df2.iloc[0]['fn_full']"
   ]
  },
  {
   "cell_type": "code",
   "execution_count": null,
   "id": "61d82a9c",
   "metadata": {},
   "outputs": [],
   "source": [
    "#/p/project/icei-hbp-2022-0017"
   ]
  },
  {
   "cell_type": "code",
   "execution_count": null,
   "id": "97dcb287",
   "metadata": {},
   "outputs": [],
   "source": [
    "#df2['fn_full_scratch'] = df2['fn_full'].apply('')"
   ]
  },
  {
   "cell_type": "code",
   "execution_count": null,
   "id": "1019d75f",
   "metadata": {},
   "outputs": [],
   "source": [
    "dirs = df2.sort_values('mtime').groupby('subject').\\\n",
    "    agg(['last'])['fn_full']['last'].apply(lambda x: os.path.split(x)[0])\n",
    "dirs.iloc[0]"
   ]
  },
  {
   "cell_type": "code",
   "execution_count": null,
   "id": "0e9c7275",
   "metadata": {},
   "outputs": [],
   "source": []
  },
  {
   "cell_type": "code",
   "execution_count": null,
   "id": "17ca61ce",
   "metadata": {},
   "outputs": [],
   "source": [
    "ests[0]"
   ]
  },
  {
   "cell_type": "code",
   "execution_count": null,
   "id": "b709be46",
   "metadata": {},
   "outputs": [],
   "source": [
    "fn_full_ = df2.iloc[0]['fn_full']\n",
    "f = np.load(fn_full_, allow_pickle=True)\n",
    "print( list(f.keys() ) )\n",
    "par = f['par'][()]\n",
    "par['task']\n",
    "from config2 import path_data_tmp\n",
    "\n",
    "# get info structure from filtered raw\n",
    "task = par['task']\n",
    "hpass = par['hpass']\n",
    "freq_name = par['freq_name']\n",
    "ICAstr = par['ICAstr']\n",
    "subject = par['subject']\n",
    "path_data_tmp_cursubj = pjoin(path_data_tmp,subject)\n",
    "fn_flt_raw = f'raw_{task}_{hpass}_{ICAstr}_{freq_name}.fif'                                                                                              \n",
    "fn_flt_raw_full = pjoin(path_data_tmp_cursubj, fn_flt_raw )\n",
    "raw = mne.io.read_raw_fif(fn_flt_raw_full)\n",
    "rawmeg = raw.pick_types(meg=True, ref_meg=False)\n",
    "from copy import deepcopy\n",
    "info = deepcopy(rawmeg.info)\n",
    "with info._unlock():\n",
    "    info['sfreq'] = 1."
   ]
  },
  {
   "cell_type": "code",
   "execution_count": null,
   "id": "4b49410b",
   "metadata": {},
   "outputs": [],
   "source": [
    "df2"
   ]
  },
  {
   "cell_type": "code",
   "execution_count": null,
   "id": "4488f88e",
   "metadata": {},
   "outputs": [],
   "source": [
    "env = 'stable'\n",
    "tl = 'feedback'\n",
    "tmin = \"0.00\"\n",
    "df2_ = df2.query('freq_name == \"broad\" and env == @env and time_locked == @tl and tmin == @tmin')\n",
    "assert len( df2_ ) == 20\n",
    "#iloc[1]['fn_full']"
   ]
  },
  {
   "cell_type": "code",
   "execution_count": null,
   "id": "f5890957",
   "metadata": {},
   "outputs": [],
   "source": [
    "from mne.decoding import get_coef"
   ]
  },
  {
   "cell_type": "code",
   "execution_count": null,
   "id": "42f5aced",
   "metadata": {},
   "outputs": [],
   "source": [
    "res = f['decoding_per_var'][()]"
   ]
  },
  {
   "cell_type": "code",
   "execution_count": null,
   "id": "9ed2c27b",
   "metadata": {},
   "outputs": [],
   "source": [
    "pats[0] - pats[2]\n",
    "filts[0] - filts[2]"
   ]
  },
  {
   "cell_type": "code",
   "execution_count": null,
   "id": "4c50ad0e",
   "metadata": {},
   "outputs": [],
   "source": [
    "varns = list( res.keys() )"
   ]
  },
  {
   "cell_type": "code",
   "execution_count": null,
   "id": "b191c9e0",
   "metadata": {},
   "outputs": [],
   "source": [
    "for p in pats_per_subj:\n",
    "    print(p.shape)"
   ]
  },
  {
   "cell_type": "code",
   "execution_count": null,
   "id": "0dfdb5f2",
   "metadata": {},
   "outputs": [],
   "source": [
    "for rowi,row in df2_.iterrows():\n",
    "    fn_full_ = row['fn_full']\n",
    "    subj = row['subject']\n",
    "    print(subj)"
   ]
  },
  {
   "cell_type": "code",
   "execution_count": null,
   "id": "06528766",
   "metadata": {},
   "outputs": [],
   "source": [
    "varns"
   ]
  },
  {
   "cell_type": "code",
   "execution_count": null,
   "id": "63c66b2a",
   "metadata": {},
   "outputs": [],
   "source": [
    "#varn = 'error_mav10'\n",
    "nvars = 1\n",
    "nsubj = 5\n",
    "#for varn in varns[:nvars] :\n",
    "for varn in ['error','prev_error','prev_error_abs','error_abs']:\n",
    "    pats_per_subj = []\n",
    "    subjs = []\n",
    "    for rowi,row in df2_.iterrows():\n",
    "        fn_full_ = row['fn_full']\n",
    "        subj = row['subject']\n",
    "        subjs += [subj]\n",
    "        \n",
    "        #fn_full_[]\n",
    "        f = np.load(fn_full_, allow_pickle=True)\n",
    "        res = f['decoding_per_var'][()]\n",
    "    \n",
    "        ests = res[varn]['ests']\n",
    "        #print(len(ests))\n",
    "        pats,filts = [],[]\n",
    "        for spoc,ridge in ests:\n",
    "            name = spoc[0]\n",
    "            assert name == 'spoc'\n",
    "            spoc = spoc[1]\n",
    "            patterns = spoc['patterns_']\n",
    "            filters = spoc['filters_']\n",
    "            if patterns.shape[0] != 272:\n",
    "                continue # otherwise complicated to align\n",
    "            pats  += [patterns]\n",
    "            filts += [filters]\n",
    "        if len(pats):\n",
    "            pats  = np.array(pats)\n",
    "            filts = np.array(filts)\n",
    "\n",
    "            pats_per_subj.append(pats.mean(0))\n",
    "    pats_per_subj = np.array(pats_per_subj)\n",
    "    pats_per_subj_me = pats_per_subj.mean(0)\n",
    "    #print( patterns.shape, len(rawmeg.info.ch_names) )\n",
    "\n",
    "    for pi,patterns in enumerate(pats_per_subj[:nsubj]):\n",
    "        patterns_ev = EvokedArray(patterns.T, info, tmin=0)\n",
    "        pats_per_subj\n",
    "        \n",
    "        #filters_ev = EvokedArray(filters.T, info, tmin=0)\n",
    "        print(varn, subjs[pi])\n",
    "        patterns_ev.plot_topomap(times=range(spoc['n_components']), \n",
    "                                 time_format=\"CSP%01d\", units='AU');\n",
    "\n",
    "        #filters_ev.plot_topomap(times=range(spoc['n_components']), \n",
    "        #                     time_format=\"CSP%01d\", units='AU', cbar_fmt=\"%3.1f\")"
   ]
  },
  {
   "cell_type": "code",
   "execution_count": null,
   "id": "c004dfd6",
   "metadata": {},
   "outputs": [],
   "source": [
    "filts.shape, pats.shape"
   ]
  },
  {
   "cell_type": "code",
   "execution_count": null,
   "id": "235f1331",
   "metadata": {},
   "outputs": [],
   "source": [
    "'/p/scratch/icei-hbp-2022-0017/memerr'"
   ]
  },
  {
   "cell_type": "code",
   "execution_count": null,
   "id": "b0028035",
   "metadata": {},
   "outputs": [],
   "source": [
    "df2['fn_full_scratch'] = None\n",
    "\n",
    "import shutil\n",
    "scratch_copy = True\n",
    "copied_to_scratch = False\n",
    "if scratch_copy:\n",
    "    for diri, subdir_cur in enumerate(dirs):\n",
    "        subdir_cur_tmp = subdir_cur.replace(path_data, \n",
    "                pjoin( os.path.expandvars('$SCRATCH'), 'memerr', 'data2' ))\n",
    "        print(diri, subdir_cur, '  -->  ', subdir_cur_tmp)\n",
    "        #continue\n",
    "        import subprocess as sp\n",
    "        if not os.path.exists(subdir_cur_tmp):\n",
    "            os.makedirs(subdir_cur_tmp)\n",
    "        #out = sp.getoutput(f'cp -r {pjoin(gv.data_dir,subdir_cur)}/_!_* {pjoin(gv.data_dir_tmp,subdir_cur)}')\n",
    "        \n",
    "        s = f'rsync -tvh {subdir_cur}/{wildcard} {subdir_cur_tmp}/'\n",
    "        print(s)\n",
    "        out = sp.getoutput(s)\n",
    "        #shutil.copytree(pjoin(gv.data_dir,subdir_cur), \n",
    "        #                pjoin(gv.data_dir_tmp,subdir_cur) )\n",
    "        print(out)\n",
    "    copied_to_scratch = True\n",
    "    df2['fn_full_scratch'] = df2['fn_full'].str.replace(path_data,  pjoin( os.path.expandvars('$SCRATCH'), 'memerr', 'data2' ) )\n",
    "else:\n",
    "    print('Skipping scratch copy')"
   ]
  },
  {
   "cell_type": "code",
   "execution_count": null,
   "id": "60ee5776",
   "metadata": {},
   "outputs": [],
   "source": [
    "df2['fn_full_scratch'] = df2['fn_full'].str.replace(path_data,  \n",
    "        pjoin( os.path.expandvars('$SCRATCH'), 'memerr', 'data2' ) )"
   ]
  },
  {
   "cell_type": "code",
   "execution_count": null,
   "id": "61143093",
   "metadata": {},
   "outputs": [],
   "source": [
    "#df2"
   ]
  },
  {
   "cell_type": "code",
   "execution_count": null,
   "id": "ca033d81",
   "metadata": {},
   "outputs": [],
   "source": [
    "import gc; gc.collect()"
   ]
  },
  {
   "cell_type": "code",
   "execution_count": null,
   "id": "8c2ce91f",
   "metadata": {},
   "outputs": [],
   "source": [
    "# slow\n",
    "#%debug\n",
    "dfc = collectResultsPrefilled(df2)\n",
    "dfc_allcollected = dfc\n",
    "\n",
    "catcols = ['subject', 'fn', 'fn_full', 'SLURM_job_id', 'env',\n",
    "       'trial_group_col_calc', 'rt', 'time_locked', 'control_type',\n",
    "       'custom_suffix', 'freq_name', 'tmin', 'tmax', 'dec_type']\n",
    "for col in catcols:\n",
    "    dfc[col] = dfc[col].astype('category')\n",
    "\n",
    "dfc['jobind'] = dfc['SLURM_job_id'].apply(lambda x: int(x.split('_')[1] ) )\n",
    "print( len(dfc) )"
   ]
  },
  {
   "cell_type": "code",
   "execution_count": null,
   "id": "c3fbee5b",
   "metadata": {},
   "outputs": [],
   "source": [
    "#dfc_ = collectResultsPrefilled(df2.loc[:2])"
   ]
  },
  {
   "cell_type": "code",
   "execution_count": null,
   "id": "4fedb57a",
   "metadata": {},
   "outputs": [],
   "source": [
    "# #f = np.load(df2.iloc[0]['fn_full'], allow_pickle=1)\n",
    "\n",
    "# f['decoding_per_var'][()].keys()\n",
    "\n",
    "# f['decoding_per_var_b2b'][()].keys()\n",
    "\n",
    "# dfc.groupby(['dec_type','time_locked','varset']).size().to_frame()\n",
    "\n",
    "# [fn for fn in dfc['varset'].unique() if fn.find('next') >= 0]\n",
    "\n",
    "# list(f.keys())\n",
    "\n",
    "# dfc[['mtime','rt','custom_suffix']]"
   ]
  },
  {
   "cell_type": "code",
   "execution_count": null,
   "id": "eeaae93f",
   "metadata": {},
   "outputs": [],
   "source": [
    "#df3['b2b_varset']"
   ]
  },
  {
   "cell_type": "code",
   "execution_count": null,
   "id": "ce2a5352",
   "metadata": {},
   "outputs": [],
   "source": [
    "#trialwpertstage_wb_non_hit, ValueError: Incompatible indexer with Series"
   ]
  },
  {
   "cell_type": "code",
   "execution_count": null,
   "id": "1cccb947",
   "metadata": {},
   "outputs": [],
   "source": [
    "print(len(dfc))\n",
    "print(dfc['subject'].unique())\n",
    "suffixes_present = dfc['custom_suffix'].unique()\n",
    "print(list(suffixes_present))\n",
    "dfc_types_present = dfc['dec_type'].unique(); \n",
    "print(list(dfc_types_present))"
   ]
  },
  {
   "cell_type": "code",
   "execution_count": null,
   "id": "833a2371",
   "metadata": {},
   "outputs": [],
   "source": [
    "dfc.duplicated(catcols).sum()"
   ]
  },
  {
   "cell_type": "code",
   "execution_count": null,
   "id": "6a2fd626",
   "metadata": {},
   "outputs": [],
   "source": [
    "list(suffixes_present)"
   ]
  },
  {
   "cell_type": "code",
   "execution_count": null,
   "id": "557236c9",
   "metadata": {},
   "outputs": [],
   "source": [
    "print(dfc['jobind'].astype('int').max())"
   ]
  },
  {
   "cell_type": "code",
   "execution_count": null,
   "id": "1b3af579",
   "metadata": {},
   "outputs": [],
   "source": [
    "  #won't work if columns contain composite types\n",
    "#dfc.duplicated()\n",
    "\n",
    "# print( dfc['time_locked'].unique() )\n",
    "# for dfi,df in enumerate(dfs):\n",
    "#     print(dfi)\n",
    "#     if df is None:\n",
    "#         continue\n",
    "#     print(df.duplicated(catcols).sum() , len(df), df['time_locked'].unique() )"
   ]
  },
  {
   "cell_type": "code",
   "execution_count": null,
   "id": "45f22901",
   "metadata": {},
   "outputs": [],
   "source": [
    "dfc[catcols].describe(include='all').loc['unique', :]"
   ]
  },
  {
   "cell_type": "markdown",
   "id": "09ba47c9",
   "metadata": {
    "heading_collapsed": true
   },
   "source": [
    "#### dbg"
   ]
  },
  {
   "cell_type": "code",
   "execution_count": null,
   "id": "9c0e95e2",
   "metadata": {
    "hidden": true
   },
   "outputs": [],
   "source": [
    "tmin_desired"
   ]
  },
  {
   "cell_type": "code",
   "execution_count": null,
   "id": "72c976f8",
   "metadata": {
    "hidden": true
   },
   "outputs": [],
   "source": [
    "time_lockeds"
   ]
  },
  {
   "cell_type": "code",
   "execution_count": null,
   "id": "ad4339ed",
   "metadata": {
    "hidden": true
   },
   "outputs": [],
   "source": [
    "time_locked"
   ]
  },
  {
   "cell_type": "code",
   "execution_count": null,
   "id": "9a93ed88",
   "metadata": {
    "code_folding": [
     8
    ],
    "hidden": true
   },
   "outputs": [],
   "source": [
    "try:\n",
    "    collectDecodingResults(subjects, subject_inds[:1], output_folder,freq_name, \n",
    "                    env, control_type, \n",
    "                    time_locked, custom_prefix,                       \n",
    "                     tmin_desired,                                                                                                                             \n",
    "                     varnames, varnames_b2b,                                                                                                                   \n",
    "                     time_start, time_end, verbose=1) \n",
    "    \n",
    "except Exception as e:                    \n",
    "    print('EXC',e)\n",
    "    exc_info = sys.exc_info()\n",
    "    exc = traceback.TracebackException(*exc_info, capture_locals=True)\n",
    "    ei = exc_info[2]    \n",
    "    #display(ei.tb_frame)\n",
    "    psf = ei\n",
    "\n",
    "    lfprev = None; lf = None\n",
    "    lfs = []\n",
    "    di = 0\n",
    "    while psf.tb_frame is not None:\n",
    "        stackframe = psf.tb_frame        \n",
    "\n",
    "        psf = psf.tb_next  \n",
    "        if ('conda' not in stackframe.f_code.co_filename) and\\\n",
    "            ('mamba' not in stackframe.f_code.co_filename):        \n",
    "            display(di, stackframe)\n",
    "            lfprev = lf\n",
    "            lf = stackframe.f_locals\n",
    "            lfs += [lf]\n",
    "            di += 1\n",
    "        if psf is None:\n",
    "            break \n",
    "        \n",
    "    raise e"
   ]
  },
  {
   "cell_type": "code",
   "execution_count": null,
   "id": "dc71dafe",
   "metadata": {
    "hidden": true
   },
   "outputs": [],
   "source": [
    "lf['order']"
   ]
  },
  {
   "cell_type": "code",
   "execution_count": null,
   "id": "8d2a86d3",
   "metadata": {
    "hidden": true
   },
   "outputs": [],
   "source": [
    "type( lf['order'] )"
   ]
  },
  {
   "cell_type": "code",
   "execution_count": null,
   "id": "73223456",
   "metadata": {
    "hidden": true
   },
   "outputs": [],
   "source": [
    "lf['df_to_set']['prev_movement,prev_error,error,prev_belief_varnames']"
   ]
  },
  {
   "cell_type": "code",
   "execution_count": null,
   "id": "d574764d",
   "metadata": {
    "hidden": true
   },
   "outputs": [],
   "source": [
    " lf['kvv'] ,  lf['index'] , lf['key']#, lf['df_to_set'][lf['index'] , lf['key']]"
   ]
  },
  {
   "cell_type": "code",
   "execution_count": null,
   "id": "2293855b",
   "metadata": {
    "hidden": true
   },
   "outputs": [],
   "source": [
    "import pandas as pd\n",
    "import numpy as np\n",
    "\n",
    "df = pd.DataFrame({'A': [1, 2], 'B': [3, 4]})\n",
    "df.at[0, 'A'] = list(np.array([5, 6]))"
   ]
  },
  {
   "cell_type": "code",
   "execution_count": null,
   "id": "2631849b",
   "metadata": {
    "hidden": true
   },
   "outputs": [],
   "source": [
    "Length of values (315) does not match length of index (264)"
   ]
  },
  {
   "cell_type": "code",
   "execution_count": null,
   "id": "63dff6a0",
   "metadata": {
    "hidden": true
   },
   "outputs": [],
   "source": [
    "lf['df_to_set'][lf['index'] , lf['key']] = lf['kvv'].tolist()"
   ]
  },
  {
   "cell_type": "code",
   "execution_count": null,
   "id": "3935ec57",
   "metadata": {
    "hidden": true
   },
   "outputs": [],
   "source": [
    "varnames_b2b"
   ]
  },
  {
   "cell_type": "markdown",
   "id": "8daa3f33",
   "metadata": {},
   "source": [
    "#### check collected"
   ]
  },
  {
   "cell_type": "code",
   "execution_count": null,
   "id": "2c0fff97",
   "metadata": {},
   "outputs": [],
   "source": [
    "dec_types_found = dfc_allcollected['dec_type'].unique()\n",
    "print('dec_types_found = ',dec_types_found)\n",
    "assert len(dec_types_found) > 1"
   ]
  },
  {
   "cell_type": "code",
   "execution_count": null,
   "id": "f7bbf912",
   "metadata": {},
   "outputs": [],
   "source": [
    "def calcTminSetVariability(df_, cols):\n",
    "    r = dfc.groupby(cols)['tmin'].nunique()#.apply(lambda x: len(x) )\n",
    "    return r.to_frame().describe().loc['std'].values[0]"
   ]
  },
  {
   "cell_type": "code",
   "execution_count": null,
   "id": "b5c66bae",
   "metadata": {},
   "outputs": [],
   "source": [
    "#dfc.groupby(cols_unique).size().max()"
   ]
  },
  {
   "cell_type": "code",
   "execution_count": null,
   "id": "655173a3",
   "metadata": {
    "code_folding": [
     3
    ]
   },
   "outputs": [],
   "source": [
    "import pandas as pd\n",
    "\n",
    "# Define a function to find the minimal set of categorical columns\n",
    "def find_minimal_columns(dfc):\n",
    "  # Get the list of categorical columns in the DataFrame\n",
    "  cat_cols = dfc.select_dtypes(include='category').columns.tolist()\n",
    "  # Initialize an empty list to store the selected columns\n",
    "  selected_cols = []\n",
    "  # Initialize a variable to store the number of duplicates\n",
    "  num_duplicates = dfc.duplicated().sum()\n",
    "  # Loop through the categorical columns\n",
    "  for col in cat_cols:\n",
    "    # Add the current column to the selected columns\n",
    "    selected_cols.append(col)\n",
    "    # Create a new DataFrame with only the selected columns\n",
    "    dfc_new = dfc[selected_cols]\n",
    "    # Calculate the number of duplicates in the new DataFrame\n",
    "    num_duplicates_new = dfc_new.duplicated().sum()\n",
    "    # If the number of duplicates is zero, break the loop\n",
    "    if num_duplicates_new == 0:\n",
    "        break\n",
    "    # Otherwise, update the number of duplicates\n",
    "    else:\n",
    "        num_duplicates = num_duplicates_new\n",
    "  # Return the selected columns\n",
    "  return selected_cols\n",
    "\n",
    "# Call the function on dfc and print the result\n",
    "minimal_columns = find_minimal_columns(dfc)\n",
    "print('The minimal set of categorical columns is:', minimal_columns)"
   ]
  },
  {
   "cell_type": "code",
   "execution_count": null,
   "id": "05c007bc",
   "metadata": {},
   "outputs": [],
   "source": [
    "print(dfc['mtime'].min(), dfc['mtime'].max())\n",
    "\n",
    "cols_unique = ['custom_suffix', 'trial_group_col_calc', \n",
    "    'time_locked','control_type', \n",
    "    'freq_name', 'dec_type', 'env','subject','tmin']\n",
    "if dfc.duplicated(cols_unique).any():\n",
    "    print('DUPLICATES:')\n",
    "    display( dfc[ dfc.duplicated(cols_unique) ] )\n",
    "else:\n",
    "    print('No duplicates (tmin + custom_prefix)!')\n",
    "\n",
    "print( len(dfc), dfc['subject'].nunique(), dfc['control_type'].nunique() )\n",
    "#      subject_inds )\n",
    "\n",
    "\n",
    "cols_unique_ = ['subject','env','time_locked','control_type', \n",
    "    'trial_group_col_calc','freq_name', 'tmin', 'dec_type']\n",
    "if dfc.duplicated(cols_unique_).any():\n",
    "    sz =  dfc.groupby(cols_unique_).size()\n",
    "    print('Within suffix (fixed tmin): min dup = {}, max dup = {}'.\\\n",
    "                format(sz.min(), sz.max() ) )\n",
    "else:\n",
    "    print('No duplicates for same time across suffixes!')\n",
    "    \n",
    "cols_unique_2 = ['subject','env','time_locked','control_type', \n",
    "    'trial_group_col_calc','freq_name', 'dec_type', 'custom_suffix']\n",
    "sz =  dfc.groupby(cols_unique_2).size()\n",
    "# if std of len is > 0, then we might need be in situation where there were two calc runs \n",
    "# with different tmins set\n",
    "print('Within tmin (fixed suffix): min dup = {}, max dup = {}. Std of len = {:.2f}'.\\\n",
    "            format(sz.min(), sz.max(),  calcTminSetVariability(dfc, cols_unique_2) ) )\n",
    "    \n",
    "grp = dfc.groupby(['custom_suffix','time_locked'])\n",
    "print('  Times within suffix')\n",
    "display( grp['mtime'].describe(datetime_is_numeric=True) )\n",
    "\n",
    "suffixes_present = dfc['custom_suffix'].unique()\n",
    "print(suffixes_present)"
   ]
  },
  {
   "cell_type": "markdown",
   "id": "c08ea118",
   "metadata": {},
   "source": [
    "#### cleaning"
   ]
  },
  {
   "cell_type": "code",
   "execution_count": null,
   "id": "86c00e5f",
   "metadata": {},
   "outputs": [],
   "source": [
    "dfc_uncleaned = dfc"
   ]
  },
  {
   "cell_type": "code",
   "execution_count": null,
   "id": "d6b96bb0",
   "metadata": {},
   "outputs": [],
   "source": [
    "suffs = [f'CNslide_trim0_dhittw1_s_scX0Y2c0_drall_dtall_{freq}_sh0.232' for freq in ['broad','beta','gamma']]\n",
    "suffs"
   ]
  },
  {
   "cell_type": "code",
   "execution_count": null,
   "id": "03186678",
   "metadata": {},
   "outputs": [],
   "source": [
    "dfc = dfc_uncleaned.query('custom_suffix in @suffs')"
   ]
  },
  {
   "cell_type": "code",
   "execution_count": null,
   "id": "2e580f21",
   "metadata": {},
   "outputs": [],
   "source": [
    "tmins_good"
   ]
  },
  {
   "cell_type": "code",
   "execution_count": null,
   "id": "60c286a6",
   "metadata": {},
   "outputs": [],
   "source": [
    "suff = 'CNslide_trim0_dhittw1_s_scX0Y0_drall_dtall_broad_sh0.232'\n",
    "if suff not in suffixes_present:\n",
    "    suff = suffixes_present[0]\n",
    "tmins_good = dfc.query('custom_suffix == @suff')['tmin'].unique()\n",
    "std = np.diff( tmins_good.astype(float) ).std() \n",
    "print(std)\n",
    "assert std < 1e-2 # recal we round to two digits\n",
    "dfc_clean2 = dfc.query('tmin in @tmins_good')\n",
    "display( dfc_clean2.groupby('custom_suffix')['mtime'].describe(datetime_is_numeric=True) )"
   ]
  },
  {
   "cell_type": "code",
   "execution_count": null,
   "id": "67822a1f",
   "metadata": {},
   "outputs": [],
   "source": [
    "#dfc_ = dfc.query('dec_type == \"classic\"')"
   ]
  },
  {
   "cell_type": "code",
   "execution_count": null,
   "id": "00c6a9a5",
   "metadata": {},
   "outputs": [],
   "source": [
    "#dfc = dfc.query('custom_suffix == @suff')"
   ]
  },
  {
   "cell_type": "code",
   "execution_count": null,
   "id": "6ada2f19",
   "metadata": {},
   "outputs": [],
   "source": [
    "dfc = dfc_clean2"
   ]
  },
  {
   "cell_type": "markdown",
   "id": "92a61b43",
   "metadata": {},
   "source": [
    "## continue"
   ]
  },
  {
   "cell_type": "code",
   "execution_count": null,
   "id": "3499135d",
   "metadata": {},
   "outputs": [],
   "source": [
    "dfc.query('dec_type == \"b2b\" and time_locked == \"feedback\"')['varset'].unique()"
   ]
  },
  {
   "cell_type": "code",
   "execution_count": null,
   "id": "316dcfe9",
   "metadata": {},
   "outputs": [],
   "source": [
    "# for different timelocked we can have different\n",
    "varsets = dfc.query('dec_type == \"classic\"')['varset'].unique()\n",
    "print(list(varsets))\n",
    "varnames0 = list(set(';'.join(varsets).split(';') ) )#.split(',')\n",
    "print('varnames0',varnames0)"
   ]
  },
  {
   "cell_type": "code",
   "execution_count": null,
   "id": "ae540d26",
   "metadata": {},
   "outputs": [],
   "source": [
    "from postproc import extractClassicCols\n",
    "#varnames0 = ['prev_movement','prev_belief','movement','belief','feedback',\n",
    "#             'error','prev_error','err_sens','next_error','correction' ]\n",
    "#varnames0 = varnames\n",
    "df_class_plot = extractClassicCols(dfc, defvarcolns=varnames0,\n",
    "                                  error_handling = 'ignore')"
   ]
  },
  {
   "cell_type": "code",
   "execution_count": null,
   "id": "b44907f9",
   "metadata": {},
   "outputs": [],
   "source": [
    "dfc['control_type'].unique()"
   ]
  },
  {
   "cell_type": "code",
   "execution_count": null,
   "id": "4b0db152",
   "metadata": {},
   "outputs": [],
   "source": [
    "dfc.query('dec_type == \"classic\"').groupby('varset').size()"
   ]
  },
  {
   "cell_type": "code",
   "execution_count": null,
   "id": "52bd19b5",
   "metadata": {},
   "outputs": [],
   "source": [
    "gc.collect()"
   ]
  },
  {
   "cell_type": "code",
   "execution_count": null,
   "id": "9ae2d46a",
   "metadata": {},
   "outputs": [],
   "source": [
    "time_lockeds_present = dfc.time_locked.unique()\n",
    "control_type_present = dfc.control_type.unique()"
   ]
  },
  {
   "cell_type": "code",
   "execution_count": null,
   "id": "a713dba7",
   "metadata": {},
   "outputs": [],
   "source": [
    "varsets = dfc.query('dec_type == \"b2b\"')['varset'].unique()\n",
    "print(list(varsets))\n",
    "varnames1 = list(set(';'.join(varsets).split(';') ) )#.split(',')\n",
    "print('varnames1=',varnames1)\n",
    "\n",
    "from itertools import product\n",
    "\n",
    "varnames_basic = set([','.join(getAnalysisVarnames(tl, ct)[0]) for tl,ct in\\\n",
    "     product(time_lockeds_present,control_type_present) ])\n",
    "varnames1_wobasic = list(set(varnames1) - set(varnames_basic) )\n",
    "print('varnames1_wobasic=',varnames1_wobasic)"
   ]
  },
  {
   "cell_type": "code",
   "execution_count": null,
   "id": "21aed13f",
   "metadata": {},
   "outputs": [],
   "source": [
    "df_class_plot.varseti.unique(), df_class_plot.dec_type.unique()"
   ]
  },
  {
   "cell_type": "code",
   "execution_count": null,
   "id": "7eb7d515",
   "metadata": {
    "code_folding": []
   },
   "outputs": [],
   "source": [
    "from postproc import extractB2Bcols\n",
    "import traceback\n",
    "try:\n",
    "    # varstei2varset is list of lists of tuples (varstei, varset string with commas)\n",
    "    dfc_, df_b2b_plot0, varseti2varset = extractB2Bcols(dfc, varnames1_wobasic, toclean=varnames0)\n",
    "except Exception as e:                    \n",
    "    print('EXC',e)\n",
    "    exc_info = sys.exc_info()\n",
    "    exc = traceback.TracebackException(*exc_info, capture_locals=True)\n",
    "    ei = exc_info[2]    \n",
    "    #display(ei.tb_frame)\n",
    "    psf = ei\n",
    "\n",
    "    lfprev = None; lf = None\n",
    "    lfs = []\n",
    "    di = 0\n",
    "    while psf.tb_frame is not None:\n",
    "        stackframe = psf.tb_frame        \n",
    "\n",
    "        psf = psf.tb_next  \n",
    "        if ('conda' not in stackframe.f_code.co_filename) and\\\n",
    "            ('mamba' not in stackframe.f_code.co_filename):        \n",
    "            display(di, stackframe)\n",
    "            lfprev = lf\n",
    "            lf = stackframe.f_locals\n",
    "            lfs += [lf]\n",
    "            di += 1\n",
    "        if psf is None:\n",
    "            break    \n",
    "\n",
    "    #raise e\n",
    "    print('EXC',e)"
   ]
  },
  {
   "cell_type": "code",
   "execution_count": null,
   "id": "4e237937",
   "metadata": {},
   "outputs": [],
   "source": [
    "# i = -2\n",
    "# lf_ = lfs[i]; print(lf_.keys())\n",
    "# print(lf_)"
   ]
  },
  {
   "cell_type": "code",
   "execution_count": null,
   "id": "e2a67a17",
   "metadata": {},
   "outputs": [],
   "source": [
    "#[cn for cn in list(df_b2b_plot0.columns) if cn.find('err_sens') >= 0]"
   ]
  },
  {
   "cell_type": "code",
   "execution_count": null,
   "id": "2f23f553",
   "metadata": {},
   "outputs": [],
   "source": [
    "df_b2b_plot = pd.concat([df_class_plot,df_b2b_plot0] )"
   ]
  },
  {
   "cell_type": "code",
   "execution_count": null,
   "id": "0f6b6281",
   "metadata": {},
   "outputs": [],
   "source": [
    "for csuff in ['_dec_type','_Xshape','_scores','_dec_error' ]:\n",
    "    cols_ = [cn for cn in df_b2b_plot.columns if cn.find(csuff) >= 0]\n",
    "    print(cols_)\n",
    "    df_b2b_plot.drop(columns=cols_, inplace=True)"
   ]
  },
  {
   "cell_type": "code",
   "execution_count": null,
   "id": "fe7ddb95",
   "metadata": {},
   "outputs": [],
   "source": [
    "df_b2b_plot.columns"
   ]
  },
  {
   "cell_type": "code",
   "execution_count": null,
   "id": "8e16556b",
   "metadata": {},
   "outputs": [],
   "source": [
    "print(catcols)"
   ]
  },
  {
   "cell_type": "code",
   "execution_count": null,
   "id": "b7242af9",
   "metadata": {},
   "outputs": [],
   "source": [
    "save = 0\n",
    "#p = pjoin(os.path.expandvars('$PROJECT_DIR_MEMERR'),'collected', 'df_b2b_plot_home.pkl.zip')\n",
    "p = pjoin(os.path.expandvars('$PROJECT_DIR_MEMERR'),'collected', 'df_b2b_plot_home2.pkl.zip')\n",
    "#p = pjoin(os.path.expandvars('$PROJECT_DIR_MEMERR'),'collected', 'df_b2b_plot_EStrunc.pkl.zip')\n",
    "if save:\n",
    "    df_b2b_plot.to_pickle( p, compression='zip')"
   ]
  },
  {
   "cell_type": "markdown",
   "id": "0b32d61c",
   "metadata": {},
   "source": [
    "# coninue"
   ]
  },
  {
   "cell_type": "code",
   "execution_count": null,
   "id": "9bda176a",
   "metadata": {},
   "outputs": [],
   "source": [
    "#get tmins\n",
    "tl2tmins_to_plot = {}\n",
    "tl2indhome = {}\n",
    "for tl in df_b2b_plot['time_locked'].unique():    \n",
    "    tmins_to_plot  = list(sorted( df_b2b_plot.query('time_locked == @tl')['tmin'].unique(), key=lambda x: float(x) ) )\n",
    "    tl2tmins_to_plot[tl] = tmins_to_plot\n",
    "    print(tl, len(tmins_to_plot))\n",
    "    \n",
    "    if '-0.50' in tmins_to_plot:\n",
    "        indhome = tmins_to_plot.index('-0.50'); print(indhome)\n",
    "    elif '-0.59' in tmins_to_plot:\n",
    "        indhome = tmins_to_plot.index('-0.59'); print(indhome)\n",
    "    else:\n",
    "        try:\n",
    "            indhome = tmins_to_plot.index('0.09'); print(indhome)\n",
    "        except ValueError as e:\n",
    "            indhome = None\n",
    "    \n",
    "    tl2indhome[tl] = indhome\n",
    "print( tl2indhome )\n",
    "\n",
    "control_type_present = df_b2b_plot['control_type'].unique(); \n",
    "print(control_type_present)\n",
    "time_lockeds_present = df_b2b_plot['time_locked'].unique(); control_type_present\n",
    "print(time_lockeds_present)"
   ]
  },
  {
   "cell_type": "code",
   "execution_count": null,
   "id": "d45c6a27",
   "metadata": {},
   "outputs": [],
   "source": [
    "#catcols"
   ]
  },
  {
   "cell_type": "code",
   "execution_count": null,
   "id": "02a8e671",
   "metadata": {},
   "outputs": [],
   "source": [
    "df_b2b_plot.duplicated(catcols + ['varset','varname']).any()"
   ]
  },
  {
   "cell_type": "code",
   "execution_count": null,
   "id": "4e5f1745",
   "metadata": {},
   "outputs": [],
   "source": [
    "cols0 = ['rt','custom_suffix','time_locked','control_type','dec_type',\n",
    "         'varset','varname','tmin']\n",
    "cols_ = list( set(cols_unique) - set(['env']) ); cols_"
   ]
  },
  {
   "cell_type": "code",
   "execution_count": null,
   "id": "0e88f904",
   "metadata": {},
   "outputs": [],
   "source": [
    "# unpack\n",
    "coln = 'vals_to_plot'\n",
    "def f(row):\n",
    "    x = row[coln]\n",
    "    from postproc import ListWrap\n",
    "    if isinstance(x, ListWrap):\n",
    "        x = x.data    \n",
    "    else:\n",
    "        if not isinstance(x,float):\n",
    "            print(type(x))\n",
    "    if isinstance(x, list) or isinstance(x, np.ndarray):        \n",
    "        if len(x ) != 1:\n",
    "            print(row['dec_type'],row)\n",
    "            raise ValueError('ee')\n",
    "        x = x[0]\n",
    "    return x\n",
    "df_b2b_plot['vals_to_plot'] = df_b2b_plot.apply(f,1)"
   ]
  },
  {
   "cell_type": "markdown",
   "id": "96d46f84",
   "metadata": {},
   "source": [
    "# trying to normalize by causal factor"
   ]
  },
  {
   "cell_type": "code",
   "execution_count": null,
   "id": "5d377976",
   "metadata": {},
   "outputs": [],
   "source": [
    "cols_ = ['dec_type','varset','varname','time_locked','freq_name','env','subject','tmin']\n",
    "assert not df_b2b_plot.duplicated(cols_).any()\n",
    "\n",
    "df_b2b_plot['vals_to_plot_nb2b'] = np.nan\n",
    "#df_b2b_plot_ = \n",
    "df_b2b_plot___ = df_b2b_plot.set_index(cols_)"
   ]
  },
  {
   "cell_type": "code",
   "execution_count": null,
   "id": "324e1b40",
   "metadata": {},
   "outputs": [],
   "source": [
    "varsets_classic = df_b2b_plot.query('varseti == -1').varset.unique()\n",
    "varsets_classic"
   ]
  },
  {
   "cell_type": "code",
   "execution_count": null,
   "id": "bb8dfcd9",
   "metadata": {},
   "outputs": [],
   "source": [
    "#dfclass.loc[('b2b',varsets_classic[1],vn)]"
   ]
  },
  {
   "cell_type": "code",
   "execution_count": null,
   "id": "7c4899cf",
   "metadata": {},
   "outputs": [],
   "source": [
    "df_b2b_plot =df_b2b_plot.reset_index(drop=True)\n",
    "df_b2b_plot.index.is_unique"
   ]
  },
  {
   "cell_type": "code",
   "execution_count": null,
   "id": "980f9d32",
   "metadata": {},
   "outputs": [],
   "source": [
    "assert set(df_b2b_plot.query('varseti != -1')['dec_type'].unique()) == set(['b2b'])\n",
    "dfclass = df_b2b_plot.query('varseti == -1').copy()\n",
    "dfclass['varset'] = 'classic_varset'\n",
    "\n",
    "dfweird = dfclass.query('dec_type == \"b2b\"')\n",
    "assert dfweird['vals_to_plot'].isna().all()\n",
    "assert dfclass.index.is_unique\n",
    "print('uncleaned ',len(dfclass), len(dfweird))\n",
    "dfclass = dfclass.drop(dfweird.index)\n",
    "print('cleaned ',len(dfclass))\n",
    "\n",
    "dfclbad = dfclass.query('varname == \"belief\" and vals_to_plot.isna()')#.reset_index()\n",
    "dfclgood = dfclass.query('varname == \"belief\" and ~vals_to_plot.isna()')#.reset_index()\n",
    "print(len(dfclbad),len(dfclgood))"
   ]
  },
  {
   "cell_type": "code",
   "execution_count": null,
   "id": "d837accf",
   "metadata": {},
   "outputs": [],
   "source": [
    "#dfclass_ = dfclass.set_index(cols0 + ['freq_name','env','subject'])\n",
    "dfclbad = dfclass.query('vals_to_plot.isna()')\n",
    "dfclgood = dfclass.query('~vals_to_plot.isna()')\n",
    "print(len(dfclbad),len(dfclgood))\n",
    "dfclass = dfclgood#.reset_index()\n",
    "#dfclass.set_index([cols0 + ['freq_name','env','subject']])"
   ]
  },
  {
   "cell_type": "code",
   "execution_count": null,
   "id": "41bdc4f5",
   "metadata": {},
   "outputs": [],
   "source": [
    "#if I were useind combine_first: The resulting dataframe contains the ‘first’ dataframe values and\n",
    "# overrides the second one values where both first.loc[index, col]\n",
    "# and second.loc[index, col] are not missing values, \n",
    "print(cols0)"
   ]
  },
  {
   "cell_type": "code",
   "execution_count": null,
   "id": "4382ce71",
   "metadata": {},
   "outputs": [],
   "source": [
    "print(dfclass.groupby(cols0 + ['freq_name','env','subject']).size().max())\n",
    "print(dfclass.groupby(cols0 + ['freq_name','env','subject'])['vals_to_plot'].std().max())\n",
    "##['vals_to_plot'].std().max()\n",
    "dfclass = dfclass.drop_duplicates(cols0 + ['freq_name','env','subject'])\n",
    "print(dfclass.groupby(cols0 + ['freq_name','env','subject']).size().max())\n",
    "#print(dfclass.groupby(cols0 + ['freq_name','env','subject'])['vals_to_plot'].std().max())\n",
    "print(len(dfclass))\n",
    "dfclass = dfclass.set_index(cols_)"
   ]
  },
  {
   "cell_type": "code",
   "execution_count": null,
   "id": "178c6138",
   "metadata": {},
   "outputs": [],
   "source": [
    "dfsz = dfclbad.groupby(['varset','env','time_locked','tmin','subject']).size().to_frame()\n",
    "dfsz2 = dfclgood.groupby(['varset','env','time_locked','tmin','subject']).size().to_frame()"
   ]
  },
  {
   "cell_type": "code",
   "execution_count": null,
   "id": "c49b1dbb",
   "metadata": {},
   "outputs": [],
   "source": [
    "dfclass0.loc[n].query('varname == \"belief\"')"
   ]
  },
  {
   "cell_type": "code",
   "execution_count": null,
   "id": "6b473580",
   "metadata": {},
   "outputs": [],
   "source": [
    "gc.collect()"
   ]
  },
  {
   "cell_type": "code",
   "execution_count": null,
   "id": "f630d52e",
   "metadata": {},
   "outputs": [],
   "source": [
    "cols_"
   ]
  },
  {
   "cell_type": "code",
   "execution_count": null,
   "id": "a85408f4",
   "metadata": {},
   "outputs": [],
   "source": [
    "# it is stupid and slow but other ways it did not work\n",
    "dfb2b  = df_b2b_plot.query('varseti != -1')\n",
    "\n",
    "i = 0\n",
    "for rowi,row in dfb2b.iterrows():\n",
    "    mindc = ['classic','classic_varset']\n",
    "    for cn in cols_[2:]:        \n",
    "        mindc.append( row[cn] )\n",
    "    mindb2b = []\n",
    "    for cn in cols_:        \n",
    "        mindb2b.append( row[cn] )\n",
    "    \n",
    "    mindc = tuple(mindc)\n",
    "    mindb2b = tuple(mindb2b)\n",
    "    vc = dfclass.loc[mindc,'vals_to_plot']\n",
    "    v0 = df_b2b_plot___.loc[mindb2b, 'vals_to_plot'] \n",
    "    #v0 = v0.clip(0,None)\n",
    "    v0 = max(0,v0)    \n",
    "    df_b2b_plot___.loc[mindb2b, 'vals_to_plot_nb2b'] = vc * v0\n",
    "    \n",
    "    if i % 5000 == 0:\n",
    "        print(i, len(dfb2b))\n",
    "    i+=1\n",
    "    \n",
    "    #break"
   ]
  },
  {
   "cell_type": "code",
   "execution_count": null,
   "id": "19ae9730",
   "metadata": {},
   "outputs": [],
   "source": [
    "df_b2b_plot = df_b2b_plot___.reset_index()"
   ]
  },
  {
   "cell_type": "code",
   "execution_count": null,
   "id": "d241a39e",
   "metadata": {},
   "outputs": [],
   "source": [
    "# # not working old ver\n",
    "# #dfclass =  df_b2b_plot_.query('varseti == 0')\n",
    "# df_b2b_plot___= df_b2b_plot___.sort_index()\n",
    "# #dfclass = df_b2b_plot___.query('varseti == -1')\n",
    "# #for varseti in range(varseti2varset[0][-1][0] + 1):\n",
    "# for varset in varsets_present:\n",
    "#     #print(varseti)    \n",
    "#     #vns_cur = np.unique( [tpl[0] for tpl in \\\n",
    "#     #    df_b2b_plot___.loc['b2b',varseti,:].index] )\n",
    "#     #print(varset)    \n",
    "#     vns_cur = np.unique( [tpl[0] for tpl in \\\n",
    "#         df_b2b_plot___.loc['b2b',varset,:].index] )\n",
    "#     print(varset, vns_cur)\n",
    "#     for vn in vns_cur:    \n",
    "#         dfcl = dfclass.loc[('b2b','classic_varset',vn),:]#.sort_index()\n",
    "#         v0 = df_b2b_plot___.loc[pd.IndexSlice['b2b',varset, vn]]\n",
    "#         df_b2b_plot___.loc[pd.IndexSlice['b2b',varset, vn],'vals_to_plot_nb2b'] =\\\n",
    "#             v0['vals_to_plot'] * dfcl.loc[v0.index,'vals_to_plot']\n",
    "# #         break\n",
    "# #     break  "
   ]
  },
  {
   "cell_type": "code",
   "execution_count": null,
   "id": "5fbd8d59",
   "metadata": {},
   "outputs": [],
   "source": [
    "df_b2b_plot___['vals_to_plot_nb2b'].isna().all()"
   ]
  },
  {
   "cell_type": "code",
   "execution_count": null,
   "id": "e97c0476",
   "metadata": {},
   "outputs": [],
   "source": [
    "df_b2b_plot['vals_to_plot_nb2b'].isna().all()"
   ]
  },
  {
   "cell_type": "code",
   "execution_count": null,
   "id": "48680376",
   "metadata": {},
   "outputs": [],
   "source": [
    "save = 1\n",
    "#p = pjoin(os.path.expandvars('$PROJECT_DIR_MEMERR'),'collected', 'df_b2b_plot_home.pkl.zip')\n",
    "p = pjoin(os.path.expandvars('$PROJECT_DIR_MEMERR'),'collected', 'df_b2b_plot_home2.pkl.zip')\n",
    "#p = pjoin(os.path.expandvars('$PROJECT_DIR_MEMERR'),'collected', 'df_b2b_plot_EStrunc.pkl.zip')\n",
    "if save:\n",
    "    df_b2b_plot.to_pickle( p, compression='zip')"
   ]
  },
  {
   "cell_type": "markdown",
   "id": "56842cab",
   "metadata": {},
   "source": [
    "## Calc stats"
   ]
  },
  {
   "cell_type": "code",
   "execution_count": null,
   "id": "484ebbf9",
   "metadata": {},
   "outputs": [],
   "source": [
    "# dfconddifd = {}\n",
    "# for coln in ['vals_to_plot_nb2b', 'vals_to_plot']:\n",
    "#     rnd = df_b2b_plot.query('env == \"random\"').set_index(['subject'] + cols0)\n",
    "#     stb = df_b2b_plot.query('env == \"stable\"').set_index(['subject'] + cols0)\n",
    "\n",
    "#     df_b2b_plot.query('env == \"random\"').set_index(['subject'] + cols0)\n",
    "    \n",
    "#     dfconddif = stb[coln] - rnd[coln]\n",
    "#     dfconddif = dfconddif.to_frame().rename(columns={coln:'difcond'})\n",
    "#     dfconddif['coln'] = coln\n",
    "    \n",
    "#     dfconddifd[coln] = dfconddif"
   ]
  },
  {
   "cell_type": "code",
   "execution_count": null,
   "id": "cfd94f40",
   "metadata": {},
   "outputs": [],
   "source": [
    "cols0"
   ]
  },
  {
   "cell_type": "code",
   "execution_count": null,
   "id": "4a526963",
   "metadata": {},
   "outputs": [],
   "source": [
    "from base2 import decod_stats,decod_stats2"
   ]
  },
  {
   "cell_type": "code",
   "execution_count": null,
   "id": "7ea273ca",
   "metadata": {},
   "outputs": [],
   "source": [
    "dfconddif_pvd = {}\n",
    "for coln in ['vals_to_plot_nb2b', 'vals_to_plot']:\n",
    "    def f(dftmp):\n",
    "        rnd = dftmp.query('env == \"random\"')\n",
    "        stb = dftmp.query('env == \"stable\"')\n",
    "\n",
    "        r = stb.pivot(index='subject', columns='tmin', values=coln)\n",
    "        time_order1 = r.columns.tolist()\n",
    "        rst = r.to_numpy()  #print(r.shape)  #participant x times\n",
    "\n",
    "        r = rnd.pivot(index='subject', columns='tmin', values=coln)\n",
    "        time_order2 = r.columns.tolist()\n",
    "        rrnd = r.to_numpy()  #print(r.shape)  #participant x times\n",
    "        \n",
    "        assert(tuple(time_order1) == tuple(time_order2))\n",
    "        #print(rst.shape, rrnd.shape)\n",
    "        # first dimension should be participant according to \n",
    "        # https://mne.tools/stable/auto_examples/stats/cluster_stats_evoked.html\n",
    "\n",
    "        #For example if X = [X1, X2] with X1.shape = (20, 50, 4) and X2.shape = (17, 50, 4), \n",
    "        #then X has 2 groups with respectively 20 and 17 observations in each, \n",
    "        #and each data point is of shape (50, 4)\n",
    "\n",
    "        #pvals =  decod_stats2([rst,rrnd], n_jobs=4, n_permutations = 2**10)\n",
    "        pvals =  decod_stats(rst-rrnd, n_jobs=6, n_permutations = 2**10, tail=1)\n",
    "        #print(pvals.shape)\n",
    "        #print(pvals)\n",
    "        res = pd.DataFrame({'pvalue': pvals, 'tmin':time_order1})#.set_index('tmin')\n",
    "        #display(res)\n",
    "        return res\n",
    "    #cols0 = ['custom_suffix','time_locked','control_type','dec_type','varseti','varname','tmin']\n",
    "    grp = df_b2b_plot.groupby(cols0 + ['env'])\n",
    "    grpsz = grp.size()\n",
    "    assert grpsz.max() == 20,  grp.size().max()\n",
    "    assert cols0[-1] == 'tmin'\n",
    "    dfconddif_pv = df_b2b_plot.sort_values(cols0[:-1] + ['env','tmin']).reset_index(drop=True).\\\n",
    "        groupby(list(set(cols0) - set(['tmin']))).apply(f)\n",
    "    dfconddif_pv['signif'] = dfconddif_pv['pvalue'] < 0.05\n",
    "    dfconddif_pv['coln'] = coln\n",
    "    dfconddif_pvd[coln] = dfconddif_pv"
   ]
  },
  {
   "cell_type": "code",
   "execution_count": null,
   "id": "d8a7b92e",
   "metadata": {},
   "outputs": [],
   "source": [
    "gc.collect()"
   ]
  },
  {
   "cell_type": "code",
   "execution_count": null,
   "id": "fc80631e",
   "metadata": {},
   "outputs": [],
   "source": [
    "#     dfconddif = dfconddifd[coln]\n",
    "# def f(dftmp):\n",
    "#     r = dftmp.pivot(index='subject', columns='tmin', values='difcond')\n",
    "#     time_order = r.columns.tolist()\n",
    "#     #print(r.shape)  #participant x times\n",
    "#     r = r.to_numpy()\n",
    "#     pvals =  decod_stats(r, n_jobs=4, n_permutations = 2**10)\n",
    "#     res = pd.DataFrame({'pvalue': pvals, 'tmin':time_order})#.set_index('tmin')\n",
    "#     #display(res)\n",
    "#     return res\n",
    "# #cols0 = ['custom_suffix','time_locked','control_type','dec_type','varseti','varname','tmin']\n",
    "# grp = dfconddif.groupby(cols0)\n",
    "# assert grp.size().max() == 20,  grp.size().max()\n",
    "# dfconddif_pv = dfconddif.reset_index().groupby(list(set(cols0) - set(['tmin']))).apply(f)\n",
    "# dfconddif_pv['signif'] = dfconddif_pv['pvalue'] < 0.05"
   ]
  },
  {
   "cell_type": "code",
   "execution_count": null,
   "id": "953876e6",
   "metadata": {},
   "outputs": [],
   "source": [
    "df_b2b_plot.groupby(['dec_type','varseti','varname']).size()"
   ]
  },
  {
   "cell_type": "code",
   "execution_count": null,
   "id": "c8323dc0",
   "metadata": {},
   "outputs": [],
   "source": [
    "grp_stb_sz = stb.groupby(cols0).size()\n",
    "if grp_stb_sz.max() > 20:\n",
    "#display(grp_stb_sz)\n",
    "    row = grp_stb_sz[grp_stb_sz > 20].to_frame().iloc[0]\n",
    "    inds = stb.groupby(cols0).groups[row.name]\n",
    "\n",
    "#stb.groupby(['rt']).size()\n",
    "\n",
    "    display(stb.loc[inds])"
   ]
  },
  {
   "cell_type": "code",
   "execution_count": null,
   "id": "e0a1064f",
   "metadata": {},
   "outputs": [],
   "source": [
    "#dfconddif"
   ]
  },
  {
   "cell_type": "code",
   "execution_count": null,
   "id": "beea4d65",
   "metadata": {
    "code_folding": [
     0
    ]
   },
   "outputs": [],
   "source": [
    "# cols_ = list( set(cols_unique) - set(['env']) ); cols_\n",
    "# # takes several minutes\n",
    "# grp = df_b2b_plot.groupby(cols_ + ['varseti','varname'])\n",
    "# assert grp.size().max() == 2\n",
    "\n",
    "# def f(dftmp):\n",
    "#     assert set( dftmp['env'].unique() ) == set(['random','stable'])\n",
    "#     d = dftmp.set_index('env').to_dict('index')\n",
    "#     r = d['stable']['vals_to_plot'] - d['random']['vals_to_plot']\n",
    "#     return r\n",
    "# dfconddif = grp.apply(f)\n",
    "# dfconddif= dfconddif.reset_index(name='difcond')"
   ]
  },
  {
   "cell_type": "code",
   "execution_count": null,
   "id": "97de574b",
   "metadata": {},
   "outputs": [],
   "source": [
    "#display(grp.size().describe())"
   ]
  },
  {
   "cell_type": "code",
   "execution_count": null,
   "id": "5aa0e2e4",
   "metadata": {},
   "outputs": [],
   "source": [
    "# todo show slurm id"
   ]
  },
  {
   "cell_type": "code",
   "execution_count": null,
   "id": "3d2fdff1",
   "metadata": {},
   "outputs": [],
   "source": [
    "cols0"
   ]
  },
  {
   "cell_type": "code",
   "execution_count": null,
   "id": "40e24605",
   "metadata": {},
   "outputs": [],
   "source": [
    "# compare mean vs random decoding\n",
    "dfconddif0_pvd = {}\n",
    "dfconddif0r_pvd = {}\n",
    "from base2 import decod_stats # X - participant x times\n",
    "for coln in ['vals_to_plot_nb2b', 'vals_to_plot']:\n",
    "    #base2.py:82: RuntimeWarning: Provided stat_fun does not treat variables independently. Setting buffer_size to None.\n",
    "    #  T_obs_, clusters, p_values, _ = permutation_cluster_1samp_test(\n",
    "    #/p/project/icei-hbp-2022-0017/memerr/code/base2.py:82: RuntimeWarning: No clusters found, returning empty H0, clusters, and cluster_pv\n",
    "\n",
    "    # compare stable dec with zero\n",
    "    from base2 import decod_stats # X - participant x times\n",
    "    def f(dftmp):\n",
    "        r = dftmp.pivot(index='subject', columns='tmin', values=coln)\n",
    "        time_order = r.columns.tolist()\n",
    "        #print(r.shape)  #participant x times\n",
    "        r = r.to_numpy()\n",
    "        pvals =  decod_stats(r, n_jobs=4, n_permutations = 2**10)\n",
    "        res = pd.DataFrame({'pvalue': pvals, 'tmin':time_order})#.set_index('tmin')\n",
    "        #display(res)\n",
    "        return res\n",
    "\n",
    "    #cols_ = list( set(cols_unique) - set(['subject'])); #cols_\n",
    "    #cols__ = cols_ + ['varseti','varname']\n",
    "    #print(cols__)\n",
    "    df_ = df_b2b_plot.query('env == \"stable\"')\n",
    "    #grp = df_.groupby(cols__)\n",
    "    grp = df_.groupby(cols0)\n",
    "    #grp = dfconddif.groupby(['custom_suffix','varseti','varname','control_type','tmin'])\n",
    "    assert grp.size().max() == 20, grp.size().max()\n",
    "    dfconddif0_pv = df_.groupby(list(set(cols0) - set(['tmin']))).apply(f)\n",
    "    dfconddif0_pv['signif'] = dfconddif0_pv['pvalue'] < 0.05\n",
    "    dfconddif0_pv['coln'] = coln\n",
    "    dfconddif0_pvd[coln] = dfconddif0_pv\n",
    "\n",
    "    # compare random dec with zero\n",
    "    df_ = df_b2b_plot.query('env == \"random\"')\n",
    "    #grp = df_.groupby(cols__)\n",
    "    grp = df_.groupby(cols0)\n",
    "    #grp = dfconddif.groupby(['custom_suffix','varseti','varname','control_type','tmin'])\n",
    "    assert grp.size().max() == 20, grp.size().max()\n",
    "    dfconddif0r_pv = df_.groupby(list(set(cols0) - set(['tmin']))).apply(f)\n",
    "    dfconddif0r_pv['signif'] = dfconddif0r_pv['pvalue'] < 0.05\n",
    "    dfconddif0r_pv['coln'] = coln\n",
    "    dfconddif0r_pvd[coln] = dfconddif0r_pv"
   ]
  },
  {
   "cell_type": "code",
   "execution_count": null,
   "id": "0f82901d",
   "metadata": {},
   "outputs": [],
   "source": [
    "#cols_unique"
   ]
  },
  {
   "cell_type": "code",
   "execution_count": null,
   "id": "8d04f8eb",
   "metadata": {},
   "outputs": [],
   "source": [
    "gc.collect()"
   ]
  },
  {
   "cell_type": "code",
   "execution_count": null,
   "id": "c994348b",
   "metadata": {},
   "outputs": [],
   "source": [
    "#ls /p/project/icei-hbp-2022-0017/memerr/collected"
   ]
  },
  {
   "cell_type": "code",
   "execution_count": null,
   "id": "ca447795",
   "metadata": {},
   "outputs": [],
   "source": [
    "pjoin(path_data,'collected'"
   ]
  },
  {
   "cell_type": "code",
   "execution_count": null,
   "id": "bff9ac85",
   "metadata": {},
   "outputs": [],
   "source": [
    "#suffixes_present"
   ]
  },
  {
   "cell_type": "code",
   "execution_count": null,
   "id": "a08bd55c",
   "metadata": {},
   "outputs": [],
   "source": [
    "#df_b2b_plot.columns"
   ]
  },
  {
   "cell_type": "code",
   "execution_count": null,
   "id": "ee00137a",
   "metadata": {},
   "outputs": [],
   "source": [
    "cols0"
   ]
  },
  {
   "cell_type": "code",
   "execution_count": null,
   "id": "e869d88a",
   "metadata": {},
   "outputs": [],
   "source": [
    "#df_b2b_plot.groupby(['subject'] + cols0 + ['env']).size()"
   ]
  },
  {
   "cell_type": "code",
   "execution_count": null,
   "id": "3b7694aa",
   "metadata": {},
   "outputs": [],
   "source": [
    "#df_b2b_plot.groupby(cols0).size()"
   ]
  },
  {
   "cell_type": "code",
   "execution_count": null,
   "id": "d68831b2",
   "metadata": {},
   "outputs": [],
   "source": [
    "display( df_b2b_plot.groupby(cols0)['subject'].nunique().max(),\\\n",
    "    df_b2b_plot.groupby(cols0)['subject'].nunique().min() )"
   ]
  },
  {
   "cell_type": "code",
   "execution_count": null,
   "id": "5c6085a9",
   "metadata": {},
   "outputs": [],
   "source": [
    "gc.collect()"
   ]
  },
  {
   "cell_type": "code",
   "execution_count": null,
   "id": "b22e5cf3",
   "metadata": {},
   "outputs": [],
   "source": [
    "from postproc import runStatTests\n",
    "calc_naive = False\n",
    "if calc_naive:\n",
    "    #alt = 'two-sided'\n",
    "    alt = 'greater'\n",
    "    # TODO: make more verbose in verbose = 0\n",
    "    df_ttest_resd = {}\n",
    "    df_ttest_res_sigd = {}\n",
    "    for coln in ['vals_to_plot_nb2b', 'vals_to_plot']:\n",
    "        df_ttest_res = runStatTests(df_b2b_plot, cols0, coln, alt, \n",
    "                                    verbose=0)\n",
    "        if alt == 'two_sided':\n",
    "            df_ttest_res_sig = df_ttest_res.query('stable_neq_random <= 0.05').copy()\n",
    "        elif alt == 'greater':\n",
    "            df_ttest_res_sig = df_ttest_res.query('stable_greater_random <= 0.05').copy()\n",
    "\n",
    "        df_ttest_res['coln'] = coln\n",
    "        df_ttest_res_sig['coln'] = coln\n",
    "\n",
    "        df_ttest_resd[coln] = df_ttest_res\n",
    "        df_ttest_res_sigd[coln] = df_ttest_res_sig\n",
    "\n",
    "        print(coln,'finished')"
   ]
  },
  {
   "cell_type": "code",
   "execution_count": null,
   "id": "35dfb026",
   "metadata": {
    "code_folding": [
     1
    ]
   },
   "outputs": [],
   "source": [
    "add_ttest = 0\n",
    "if add_ttest:\n",
    "    df_ttest_res_sig2 = df_ttest_res.query('stable_neq_random <= 0.05 and stable <= 0.05')\n",
    "    df_ttest_res_basic = df_ttest_res.query('varseti == 0')\n",
    "    df_ttest_res_ES = df_ttest_res.query('varseti == 1')\n",
    "\n",
    "    display( df_ttest_res_ES['stable_len'].describe(),\n",
    "            df_ttest_res_basic['stable_len'].describe() )\n",
    "\n",
    "    #df_ttest_res_sig = df_ttest_res.query('stable_greater_random <= 0.05')\n",
    "    print(len(df_ttest_res_sig))\n",
    "    \n",
    "    # just to see numbers, not used later\n",
    "    df_ttest_res_ES_sig = df_ttest_res_ES.query('stable_neq_random <= 0.05').reset_index()\n",
    "    display( df_ttest_res_ES_sig.groupby(cols0[:-1]).size().max() )\n",
    "    df_ttest_res_basic_sig = df_ttest_res_basic.query('stable_neq_random < 0.05').reset_index()\n",
    "    #df_ttest_res_basic_sig.groupby(['time_locked','custom_suffix','control_type','varname']).size()\n",
    "    display( df_ttest_res_basic_sig.groupby(cols0[:-1]).size().max() )\n",
    "    \n",
    "    \n",
    "    #qs = 'stable_greater_random <= 0.05 and stable <= 0.05'\n",
    "    qs = 'stable_neq_random <= 0.05 and stable <= 0.05'\n",
    "    df_ttest_res_ES_sig2 = df_ttest_res_ES.query(qs)\n",
    "    df_ttest_res_basic_sig2 = df_ttest_res_basic.query(qs)\n",
    "\n",
    "    display( df_ttest_res_ES_sig2.groupby(cols0[:-1]).size() )\n",
    "    display( df_ttest_res_basic_sig2.groupby(cols0[:-1]).size() )"
   ]
  },
  {
   "cell_type": "code",
   "execution_count": null,
   "id": "dc574899",
   "metadata": {},
   "outputs": [],
   "source": [
    "cols0"
   ]
  },
  {
   "cell_type": "markdown",
   "id": "c6150bf0",
   "metadata": {
    "heading_collapsed": true
   },
   "source": [
    "## plot of slide"
   ]
  },
  {
   "cell_type": "markdown",
   "id": "7e8f2135",
   "metadata": {
    "heading_collapsed": true,
    "hidden": true
   },
   "source": [
    "### prep"
   ]
  },
  {
   "cell_type": "code",
   "execution_count": null,
   "id": "f3245957",
   "metadata": {
    "hidden": true
   },
   "outputs": [],
   "source": [
    "#del df_b2b_plot_"
   ]
  },
  {
   "cell_type": "code",
   "execution_count": null,
   "id": "08411093",
   "metadata": {
    "hidden": true
   },
   "outputs": [],
   "source": [
    "gc.collect()"
   ]
  },
  {
   "cell_type": "code",
   "execution_count": null,
   "id": "bbeb3196",
   "metadata": {
    "hidden": true
   },
   "outputs": [],
   "source": [
    "# qs_ = qs + ' and varseti == 0'\n",
    "# df_ = df_b2b_plot_.query(qs_)\n",
    "# df_g = df_[~df_['vals_to_plot'].isna()]\n",
    "# df_b = df_[df_['vals_to_plot'].isna()]\n",
    "# print(len(df_g),len(df_b))\n",
    "\n",
    "# qs_ = qs + ' and varseti == -1'\n",
    "# df_ = df_b2b_plot_.query(qs_)\n",
    "# df_g = df_[~df_['vals_to_plot'].isna()]\n",
    "# df_b = df_[df_['vals_to_plot'].isna()]\n",
    "# print(len(df_g),len(df_b))"
   ]
  },
  {
   "cell_type": "code",
   "execution_count": null,
   "id": "e149f181",
   "metadata": {
    "hidden": true
   },
   "outputs": [],
   "source": [
    "#sns.relplot(data=df_g, **pargs)"
   ]
  },
  {
   "cell_type": "code",
   "execution_count": null,
   "id": "1942b057",
   "metadata": {
    "hidden": true
   },
   "outputs": [],
   "source": [
    "dur = 0.464\n",
    "-0.5 - dur * 10, -0.5 + dur * 12"
   ]
  },
  {
   "cell_type": "code",
   "execution_count": null,
   "id": "83a5ad39",
   "metadata": {
    "hidden": true
   },
   "outputs": [],
   "source": [
    "# main plot\n",
    "import re\n",
    "#df_b2b_plot_ = df_b2b_plot.query('rt == \"Ridge\"').copy()\n",
    "df_b2b_plot_ = df_b2b_plot.copy()\n",
    "df_b2b_plot_['tmin'] = df_b2b_plot_['tmin'].astype(float)\n",
    "\n",
    "for y in dfconddif0_pvd.keys():\n",
    "    #for df_ in dfconddif0_pvd[y], dfconddif0r_pvd[y]\n",
    "    dfconddif0_pv    = dfconddif0_pvd[y].reset_index()\n",
    "    dfconddif0_pv['tmin'] = dfconddif0_pv['tmin'].astype(float)\n",
    "    dfconddif0_pvd[y] = dfconddif0_pv.set_index(cols0[:-1])\n",
    "    \n",
    "    dfconddif0r_pv   = dfconddif0r_pvd[y].reset_index()\n",
    "    dfconddif0r_pv['tmin'] = dfconddif0r_pv['tmin'].astype(float)\n",
    "    dfconddif0r_pvd[y] = dfconddif0r_pv.set_index(cols0[:-1])\n",
    "    \n",
    "    dfconddif_pv     = dfconddif_pvd[y].reset_index()\n",
    "    dfconddif_pv['tmin'] = dfconddif_pv['tmin'].astype(float)\n",
    "    dfconddif_pvd[y] = dfconddif_pv.set_index(cols0[:-1])"
   ]
  },
  {
   "cell_type": "code",
   "execution_count": null,
   "id": "63373625",
   "metadata": {
    "hidden": true
   },
   "outputs": [],
   "source": [
    "list(suffixes_present)"
   ]
  },
  {
   "cell_type": "code",
   "execution_count": null,
   "id": "cf2a8c81",
   "metadata": {
    "hidden": true
   },
   "outputs": [],
   "source": [
    "vns = ['prev_error','error','error_pred_Herz','error_pred_Tan',\n",
    "       'error_pred_Died', \n",
    "       'err_sens','err_sens_Herz','err_sens_Tan']\n",
    "vns = vns[1:]\n",
    "\n",
    "#df_b2b_plot.to_pickle(pjoin(path_data,'df_b2b_plot__for_Bernstein.pkl.zip'),compression='zip')\n",
    "\n",
    "\n",
    "\n",
    "\n",
    "varn2pub2={'err_sens':'Empirical ES', \n",
    "          'err_sens_Herz':'Herzfeld ES',\n",
    "         'err_sens_Tan':'Tan ES'}"
   ]
  },
  {
   "cell_type": "code",
   "execution_count": null,
   "id": "6626ca7b",
   "metadata": {
    "hidden": true
   },
   "outputs": [],
   "source": [
    "varn2pub = varn2pub1\n",
    "vns_short = list(varn2pub.keys())\n",
    "fign_suff = 'ERRslide'\n",
    "vns_short"
   ]
  },
  {
   "cell_type": "code",
   "execution_count": null,
   "id": "33cb902a",
   "metadata": {
    "hidden": true
   },
   "outputs": [],
   "source": [
    "varn2pub = varn2pub2\n",
    "vns_short = list(varn2pub.keys())\n",
    "vns_short\n",
    "fign_suff = 'ESswnd'"
   ]
  },
  {
   "cell_type": "code",
   "execution_count": null,
   "id": "faa8ca95",
   "metadata": {
    "hidden": true
   },
   "outputs": [],
   "source": [
    "#varseti2varset"
   ]
  },
  {
   "cell_type": "code",
   "execution_count": null,
   "id": "f85ca55b",
   "metadata": {
    "hidden": true
   },
   "outputs": [],
   "source": [
    "varsets_present = df_b2b_plot.varset.unique()"
   ]
  },
  {
   "cell_type": "code",
   "execution_count": null,
   "id": "9391e608",
   "metadata": {
    "hidden": true
   },
   "outputs": [],
   "source": [
    "#varsets_present"
   ]
  },
  {
   "cell_type": "code",
   "execution_count": null,
   "id": "df6bab64",
   "metadata": {
    "hidden": true
   },
   "outputs": [],
   "source": [
    "ylimES = (-0.05,0.1)\n",
    "d = {'belief,state_Tan,state_Herz,state_Died': ('states',(-0.15,0.6)),\n",
    "    'err_sens_Tan,err_sens_Herz,err_sens': ('ES_ALL',ylimES),\n",
    "    'prev_error,error,err_sens': ('ES_EMPIR',ylimES), \n",
    "    'prev_error,error,err_sens_Tan': ('ES_TAN',ylimES),\n",
    "    'prev_error,error,err_sens_Herz': ('ES_HERZ',ylimES),\n",
    "    'error,error_pred_Tan,error_pred_Herz,error_pred_Died': (\n",
    "        'error_pred_all',(-0.05,0.2))}\n",
    "defylim = (-0.15,0.6)\n",
    "d['prev_movement,prev_error,error,prev_belief'] = ('basic',defylim)\n",
    "d['movement,error,next_error,belief']           = ('basic',defylim)\n",
    "#d['belief,state_Tan,state_Herz,state_Died'] = ('states with belief',defylim)\n",
    "d['err_sens_Tan,err_sens_Herz,err_sens_trunc']= ('ES_ALL_trunc',ylimES)\n",
    "d['error,err_sens_Tan,err_sens_Herz,err_sens_trunc'] = ('ES_ALL_trunc_werr',ylimES)\n",
    "d['prev_error,error,err_sens_Tan,err_sens_Herz,err_sens_trunc'] = ('ES_ALL_trunc_werr2',ylimES)\n",
    "d['prev_error,error,err_sens_trunc'] = ('ES_EMPIR_trunc',ylimES)\n",
    "d['error,err_sens_Tan,err_sens_Herz,err_sens']= ('ES_ALL_werr',ylimES)\n",
    "\n",
    "# classic 2 inc trunc\n",
    "ylim_class = (-0.05,0.95)\n",
    "d[('error_pred_Herz,prev_error,err_sens_Herz,err_sens_trunc,movement,error,'\n",
    "  'error_pred_Died,error_pred_Tan,prev_movement,trials,belief,'\n",
    "   'err_sens,err_sens_Tan,next_error,prev_belief')] =\\\n",
    "    ('classic2',ylim_class)\n",
    "d['error_pred_Tan,error,movement,state_Tan,error_pred_Herz,prev_movement,'\n",
    "  'err_sens_Herz,error_pred_Died,prev_belief,err_sens_Tan,belief,'\n",
    "  'state_Died,err_sens,state_Herz,trials,prev_error,next_error'] =\\\n",
    "    ('classic1',ylim_class)\n",
    "\n",
    "\n",
    "vsfigns = d\n",
    "set(varsets_present) - set(d.keys()) "
   ]
  },
  {
   "cell_type": "code",
   "execution_count": null,
   "id": "b6bd2bd4",
   "metadata": {
    "hidden": true
   },
   "outputs": [],
   "source": [
    "df_b2b_plot.tmin.iloc[0]"
   ]
  },
  {
   "cell_type": "code",
   "execution_count": null,
   "id": "b0e83407",
   "metadata": {
    "hidden": true
   },
   "outputs": [],
   "source": [
    "#df_b2b_plot.query('varset == \"prev_error,error,err_sens_trunc\" and tmin == \"-0.06\" and varname == \"err_sens_trunc\"'\n",
    "#                 ' and time_locked == \"feedback\" and env == \"stable\"')[['subject','vals_to_plot','vals_to_plot_nb2b']]"
   ]
  },
  {
   "cell_type": "code",
   "execution_count": null,
   "id": "be1230cb",
   "metadata": {
    "hidden": true
   },
   "outputs": [],
   "source": [
    "ad = (df_b2b_plot_['vals_to_plot'] - df_b2b_plot_['vals_to_plot_nb2b']).abs()\n",
    "ad.std() / ad.mean()"
   ]
  },
  {
   "cell_type": "code",
   "execution_count": null,
   "id": "d5b2d25f",
   "metadata": {
    "hidden": true
   },
   "outputs": [],
   "source": [
    "# vsifigns = [(-1,'classic',(-0.05,0.95)), (0,'basic vars',(-0.05,0.3))]\n",
    "# for vsi,vs in varseti2varset[0][1:]:\n",
    "#     fign,ylims = d[vs]\n",
    "#     vsifigns += [(vsi,fign,ylims)]\n",
    "# vsifigns"
   ]
  },
  {
   "cell_type": "code",
   "execution_count": null,
   "id": "c94c14b0",
   "metadata": {
    "hidden": true
   },
   "outputs": [],
   "source": [
    "df_b2b_plot_.drop(columns='level_0',inplace=True)"
   ]
  },
  {
   "cell_type": "code",
   "execution_count": null,
   "id": "c338b242",
   "metadata": {
    "hidden": true
   },
   "outputs": [],
   "source": [
    "varnames_all = df_b2b_plot_.reset_index().varname.unique()\n",
    "varnames_all"
   ]
  },
  {
   "cell_type": "code",
   "execution_count": null,
   "id": "78647fda",
   "metadata": {
    "hidden": true
   },
   "outputs": [],
   "source": [
    "df_b2b_plot.columns"
   ]
  },
  {
   "cell_type": "code",
   "execution_count": null,
   "id": "8d6e48a8",
   "metadata": {
    "hidden": true
   },
   "outputs": [],
   "source": [
    "onlyone = None\n",
    "#onlyone = ('target','b2b','ES_ALL_werr')\n",
    "#onlyone = ('feedback','b2b','ES_ALL')\n",
    "onlyone = ('feedback','b2b','ES_ALL_werr')\n",
    "#onlyone = ('target','b2b','ES_ALL_werr')\n",
    "#onlyone = ('target','b2b','states')\n",
    "\n",
    "save_png = 0\n",
    "varn2pub={'err_sens':'Empirical ES', \n",
    "          'err_sens_Herz':'Herzfeld ES',\n",
    "         'err_sens_Tan':'Tan ES'}\n",
    "\n",
    "# varn2pub={'belief':'Empirical state estimate', \n",
    "#           'state_Herz':'Herzfeld state',\n",
    "#          'state_Tan':'Tan state',\n",
    "#          'state_Died':'Diedrichsen state'}\n",
    "\n",
    "# varn2pub={'error':'Obeserved error', \n",
    "#           'error_pred_Herz':'Herzfeld error prediction',\n",
    "#          'error_pred_Tan':'Tan error prediction',\n",
    "#          'error_pred_Died':'Diedrichsen error prediction'}\n",
    "\n",
    "vns_short = list(varn2pub.keys())\n",
    "fign_suff = 'ERRslide'\n",
    "print(vns_short)"
   ]
  },
  {
   "cell_type": "markdown",
   "id": "db4990e6",
   "metadata": {
    "hidden": true
   },
   "source": [
    "### Plot itself"
   ]
  },
  {
   "cell_type": "code",
   "execution_count": null,
   "id": "56ecd612",
   "metadata": {
    "hidden": true
   },
   "outputs": [],
   "source": [
    "df_b2b_plot_.query('dec_type == \"b2b\"')['vals_to_plot'].min(), df_b2b_plot_.query('dec_type == \"b2b\"')['vals_to_plot'].max()"
   ]
  },
  {
   "cell_type": "code",
   "execution_count": null,
   "id": "273a1d5d",
   "metadata": {
    "code_folding": [
     10
    ],
    "hidden": true
   },
   "outputs": [],
   "source": [
    "# main plot, supr long cell\n",
    "test1 = 0\n",
    "onlyone_ = onlyone\n",
    "#onlyone_ = None\n",
    "#color_stneqr = 'red'\n",
    "\n",
    "from figure.plots import plotSlide\n",
    "plotSlide(df_b2b_plot_, dfconddif0_pvd, dfconddif0r_pvd, dfconddif_pvd,\n",
    "          vsfigns, cols0, onlyone=onlyone_,\n",
    "          varn2pub=varn2pub, vns_short=vns_short, \n",
    "          fign_suff=fign_suff, save_png=0, test1=test1)\n",
    "plt.clf(); plt.close()              "
   ]
  },
  {
   "cell_type": "code",
   "execution_count": null,
   "id": "32e49300",
   "metadata": {
    "hidden": true
   },
   "outputs": [],
   "source": [
    "df_b2b_plot_['vals_to_plot_nb2b']"
   ]
  },
  {
   "cell_type": "code",
   "execution_count": null,
   "id": "4161637f",
   "metadata": {
    "hidden": true
   },
   "outputs": [],
   "source": [
    "#df_b2b_plot_.query('dec_type == \"b2b\" and varset == \"\"' )"
   ]
  },
  {
   "cell_type": "code",
   "execution_count": null,
   "id": "a91a09d0",
   "metadata": {
    "hidden": true
   },
   "outputs": [],
   "source": [
    "#dfconddif_pv_.index.levels"
   ]
  },
  {
   "cell_type": "code",
   "execution_count": null,
   "id": "dd75ebff",
   "metadata": {
    "hidden": true
   },
   "outputs": [],
   "source": [
    "# tpl = ('Ridge', 'CNslideModelES_trim0_dhittw0_s_scX0Y2c1_drall_dtall_broad_sh0.232',\n",
    "#        'feedback', 'movement', 'b2b', 'err_sens_Tan,err_sens_Herz,err_sens', 'belief')\n",
    "# dfconddif_pv_ = list(dfconddif_pvd.values())[0]\n",
    "# dfconddif_pv_.loc[tpl]\n",
    "# #list(dfconddif_pvd.values())[0].index[0]"
   ]
  },
  {
   "cell_type": "code",
   "execution_count": null,
   "id": "00cd7d6c",
   "metadata": {
    "hidden": true
   },
   "outputs": [],
   "source": [
    "control_type_present = "
   ]
  },
  {
   "cell_type": "code",
   "execution_count": null,
   "id": "4248bd2f",
   "metadata": {
    "hidden": true
   },
   "outputs": [],
   "source": [
    "y"
   ]
  },
  {
   "cell_type": "code",
   "execution_count": null,
   "id": "f114b52e",
   "metadata": {
    "hidden": true
   },
   "outputs": [],
   "source": [
    "tmins_stable_g_random, varname"
   ]
  },
  {
   "cell_type": "code",
   "execution_count": null,
   "id": "d21bdad3",
   "metadata": {
    "hidden": true
   },
   "outputs": [],
   "source": [
    "gc.collect()"
   ]
  },
  {
   "cell_type": "code",
   "execution_count": null,
   "id": "df62f0b6",
   "metadata": {
    "hidden": true
   },
   "outputs": [],
   "source": [
    "print('ff')"
   ]
  },
  {
   "cell_type": "code",
   "execution_count": null,
   "id": "95f68e42",
   "metadata": {
    "hidden": true
   },
   "outputs": [],
   "source": [
    "\n",
    "\n",
    "# Add the legend\n",
    "ax.legend(handles=[l1, l2], loc='upper left', frameon=True, facecolor='blue')"
   ]
  },
  {
   "cell_type": "code",
   "execution_count": null,
   "id": "542a3f4f",
   "metadata": {
    "hidden": true
   },
   "outputs": [],
   "source": [
    "gc.collect()"
   ]
  },
  {
   "cell_type": "code",
   "execution_count": null,
   "id": "fab504d0",
   "metadata": {
    "hidden": true
   },
   "outputs": [],
   "source": [
    "dur = 0.464 \n",
    "ds = np.arange( -dur*.5 * 64, dur*.5 * 65 , dur/2 ) - 0.5 + dur\n"
   ]
  },
  {
   "cell_type": "code",
   "execution_count": null,
   "id": "6baf134c",
   "metadata": {
    "hidden": true
   },
   "outputs": [],
   "source": [
    "ds[0], ds[-1]"
   ]
  },
  {
   "cell_type": "code",
   "execution_count": null,
   "id": "d992c023",
   "metadata": {
    "hidden": true
   },
   "outputs": [],
   "source": [
    "ds[60:-60] "
   ]
  },
  {
   "cell_type": "code",
   "execution_count": null,
   "id": "e42d96b1",
   "metadata": {
    "hidden": true
   },
   "outputs": [],
   "source": [
    "print(ttl)\n",
    "mrg = re.match('varname = (\\w*) | control_type = (\\w*)', ttl).groups()\n",
    "mrg"
   ]
  },
  {
   "cell_type": "code",
   "execution_count": null,
   "id": "722a21ee",
   "metadata": {
    "hidden": true
   },
   "outputs": [],
   "source": [
    "0.464 / 4"
   ]
  },
  {
   "cell_type": "markdown",
   "id": "841a2ba0",
   "metadata": {
    "heading_collapsed": true
   },
   "source": [
    "## Many boxplots"
   ]
  },
  {
   "cell_type": "code",
   "execution_count": null,
   "id": "6111fdd8",
   "metadata": {
    "hidden": true
   },
   "outputs": [],
   "source": [
    "sns.set(font_scale=1.5)\n",
    "\n",
    "import seaborn as sns\n",
    "#suff = 'CNslide_trim0_dhittw1_s_scX0Y0_drall_dtall'\n",
    "suff = 'CNslide_trim0_dhittw0_s_scX1Y1_drall_dtall'\n",
    "qs = 'tmin.isin(@tmins_to_plot) and control_type == \"movement\" and custom_suffix == @suff'\n",
    "pargs = dict(kind='boxen',  col='custom_suffix',  row='varname',\n",
    "           x = 'tmin', y = 'vals_to_plot',   hue='env', \n",
    "             palette=['orange', 'grey'], aspect=9,\n",
    "            sharey = None, sharex = None)\n",
    "\n",
    "tick_skip = 3\n",
    "\n",
    "fg = sns.catplot(data=df_b2b_plot.query(qs + ' and varseti == 0'), **pargs)\n",
    "for ax in fg.axes.flatten():\n",
    "    ax.axhline(y=0, c='r', ls=':', lw=3)\n",
    "    ax.axvline(x=indhome, c='r', ls=':', lw=3)\n",
    "    ax.grid()\n",
    "    varname = re.match('varname = (\\w*) |.*', ax.title.get_text() ).groups()[0]\n",
    "    tmins_good = df_ttest_res_basic_sig.query('varname == @varname')['tmin'].values    \n",
    "    tmins_good2 = dfconddif_pv.loc[(suff, 0, varname)].query('signif == True')['tmin']\n",
    "    \n",
    "    ymin,ymax = ax.get_ylim()\n",
    "    ax.plot( tmins_good, len(tmins_good) * [ymax * 1.1], lw=0, marker='*')\n",
    "    ax.plot( tmins_good2, len(tmins_good2) * [ymax * 1.3], lw=0, marker='+')\n",
    "    print(varname, len(tmins_good2))\n",
    "    \n",
    "    xticks = ax.get_xticks()[::tick_skip]\n",
    "    ax.set_xticks(xticks)\n",
    "sns.move_legend(fg, loc='upper right')\n",
    "plt.tight_layout()\n",
    "plt.savefig( pjoin(path_fig, 'b2b_slide_basic_vars.pdf'))\n",
    "print('1st fig done')\n",
    "\n",
    "fg = sns.catplot(data=df_b2b_plot.query(qs + ' and varseti == 1'), **pargs)\n",
    "for ax in fg.axes.flatten():\n",
    "    ax.axhline(y=0, c='r', ls=':', lw=3)\n",
    "    ax.axvline(x=indhome, c='r', ls=':', lw=3)\n",
    "    ax.grid()\n",
    "    varname = re.match('varname = (\\w*) |.*', ax.title.get_text() ).groups()[0]\n",
    "    tmins_good= df_ttest_res_ES_sig.query('varname == @varname')['tmin'].values\n",
    "    tmins_good2 = dfconddif_pv.loc[(suff, 1, varname)].query('signif == True')['tmin']\n",
    "    ymin,ymax = ax.get_ylim()\n",
    "    ax.plot( tmins_good, len(tmins_good) * [ymax * 1.1], lw=0, marker='*')\n",
    "    ax.plot( tmins_good2, len(tmins_good2) * [ymax * 1.3], lw=0, marker='+')\n",
    "    print(varname, len(tmins_good2))\n",
    "    \n",
    "    xticks = ax.get_xticks()[::tick_skip]\n",
    "    ax.set_xticks(xticks)\n",
    "\n",
    "\n",
    "sns.move_legend(fg, loc='upper right')\n",
    "plt.tight_layout()\n",
    "plt.savefig( pjoin(path_fig, 'b2b_slide_ES.pdf'))"
   ]
  },
  {
   "cell_type": "code",
   "execution_count": null,
   "id": "d3010309",
   "metadata": {
    "hidden": true
   },
   "outputs": [],
   "source": [
    "ax.get_xticks()"
   ]
  },
  {
   "cell_type": "markdown",
   "id": "7e3b5e1d",
   "metadata": {
    "heading_collapsed": true
   },
   "source": [
    "## Plot home from slide"
   ]
  },
  {
   "cell_type": "code",
   "execution_count": null,
   "id": "e8370000",
   "metadata": {
    "hidden": true
   },
   "outputs": [],
   "source": [
    "ts__ = df_b2b_plot['tmin'].unique()\n",
    "ts__"
   ]
  },
  {
   "cell_type": "code",
   "execution_count": null,
   "id": "9f0ba8d7",
   "metadata": {
    "hidden": true
   },
   "outputs": [],
   "source": [
    "#tmins_to_plot"
   ]
  },
  {
   "cell_type": "code",
   "execution_count": null,
   "id": "47bc3a9e",
   "metadata": {
    "hidden": true
   },
   "outputs": [],
   "source": [
    "lbd = lambda x: x[14:].replace('_drall_dtall','').\\\n",
    "    replace('_sh0.232','').replace('_s','').replace('_trim0_','').\\\n",
    "    replace('h0.250','').replace('trim0_dhittw0cX0Y2c1_','')\n",
    "df_b2b_plot['suff_short'] = df_b2b_plot['custom_suffix'].apply(lbd,1)"
   ]
  },
  {
   "cell_type": "code",
   "execution_count": null,
   "id": "5d15d678",
   "metadata": {
    "hidden": true
   },
   "outputs": [],
   "source": [
    "df_b2b_plot['suff_short']"
   ]
  },
  {
   "cell_type": "code",
   "execution_count": null,
   "id": "6fa82339",
   "metadata": {
    "hidden": true
   },
   "outputs": [],
   "source": [
    "list(df_b2b_plot['suff_short'].unique())"
   ]
  },
  {
   "cell_type": "code",
   "execution_count": null,
   "id": "a73abbd2",
   "metadata": {
    "hidden": true
   },
   "outputs": [],
   "source": [
    "roword = [ 'broad',\n",
    "  'beta',\n",
    "  'gamma']\n",
    "roword = ['broad', 'theta', 'alpha', 'beta',  'gamma']\n",
    "roword = ['broad', 'beta',  'gamma']"
   ]
  },
  {
   "cell_type": "code",
   "execution_count": null,
   "id": "092ea194",
   "metadata": {
    "hidden": true
   },
   "outputs": [],
   "source": [
    "formatter = lambda x: varn2pub[x]"
   ]
  },
  {
   "cell_type": "code",
   "execution_count": null,
   "id": "5ab873fb",
   "metadata": {
    "hidden": true
   },
   "outputs": [],
   "source": [
    "gc.collect()"
   ]
  },
  {
   "cell_type": "code",
   "execution_count": null,
   "id": "34e2df76",
   "metadata": {
    "hidden": true
   },
   "outputs": [],
   "source": [
    "import re\n",
    "import seaborn as sns\n",
    "sns.set(font_scale=1.8)\n",
    "ts__ = list(sorted(ts__,key=float)); ts__"
   ]
  },
  {
   "cell_type": "code",
   "execution_count": null,
   "id": "0806373b",
   "metadata": {
    "hidden": true
   },
   "outputs": [],
   "source": [
    "import matplotlib.ticker as mticker\n",
    "locator =mticker.MaxNLocator(3)\n",
    "sns.set_style('whitegrid', {'legend.frameon':True}) \n",
    "ts__"
   ]
  },
  {
   "cell_type": "code",
   "execution_count": null,
   "id": "8a969dc0",
   "metadata": {
    "hidden": true
   },
   "outputs": [],
   "source": [
    "subdir = 'model_home_Bernstein'\n",
    "if not os.path.exists(pjoin(path_fig,subdir)):\n",
    "    os.makedirs(pjoin(path_fig,subdir))\n",
    "\n",
    "#onlyone = None\n",
    "#onlyone = ('feedback','b2b','ES_ALL_werr'); aspect = 1.6; save_svg = 1\n",
    "onlyone = ('target','b2b','ES_ALL_werr'); save_svg = 1\n",
    "#onlyone = ('target','b2b','states'); aspect = 1.6; save_svg = 1\n",
    "#onlyone = ('feedback','b2b','states'); aspect = 1.6; save_svg = 1\n",
    "#onlyone = ('feedback','b2b','error_pred_all'); save_svg = 1\n",
    "#onlyone = ('target','b2b','error_pred_all'); save_svg = 1\n",
    "#vsfigns\n",
    "\n",
    "varn2pub={'err_sens':'Empirical ES', \n",
    "          'err_sens_Herz':'Herzfeld ES',\n",
    "         'err_sens_Tan':'Tan ES'}\n",
    "\n",
    "# varn2pub={'belief':'Empirical state estimate', \n",
    "#           'state_Herz':'Herzfeld state',\n",
    "#          'state_Tan':'Tan state',\n",
    "#          'state_Died':'Diedrichsen state'}\n",
    "\n",
    "# varn2pub={'error':'Obeserved error', \n",
    "#           'error_pred_Herz':'Herzfeld error prediction',\n",
    "#          'error_pred_Tan':'Tan error prediction',\n",
    "#          'error_pred_Died':'Diedrichsen error prediction'}\n",
    "\n",
    "\n",
    "vns_short = list(varn2pub.keys())\n",
    "# varn2pub={'error':'Obeserved error', \n",
    "#           'error_pred_Herz':'Herzfeld error prediction',\n",
    "#          'error_pred_Tan':'Tan error prediction',\n",
    "#          'error_pred_Died':'Diedrichsen error prediction'}"
   ]
  },
  {
   "cell_type": "code",
   "execution_count": null,
   "id": "e8d1adce",
   "metadata": {
    "hidden": true
   },
   "outputs": [],
   "source": [
    "from figure.mystatann import *"
   ]
  },
  {
   "cell_type": "code",
   "execution_count": null,
   "id": "d53a4523",
   "metadata": {
    "code_folding": [],
    "hidden": true
   },
   "outputs": [],
   "source": [
    "#tmin0 = '-0.64'  # -0.50\n",
    "tmin0 = '0.00'\n",
    "#tmin0 = '0.11'\n",
    "#tmin0 = None\n",
    "save_png = 0\n",
    "dec_type = 'b2b'\n",
    "replace_title = 1\n",
    "print('tmin0 = ', tmin0)\n",
    "pargs = dict(kind='box',  row='suff_short',\n",
    "               y = 'varname', hue='env', palette=['orange', 'grey'],\n",
    "            hue_order= ['stable','random'], row_order=roword, showfliers=0)\n",
    "if tmin0 is None:\n",
    "    pargs['col'] = 'tmin'\n",
    "    pargs['col_order'] = ts__\n",
    "else:\n",
    "    pargs['col'] = 'varseti'\n",
    "\n",
    "#for suff in df_b2b_plot['custom_suffix'].unique():\n",
    "suff_short = suff[14:].replace('_drall_dtall','').\\\n",
    "    replace('h0.250','').replace('_s','') \n",
    "ctr = 0\n",
    "for xcol in ['vals_to_plot_nb2b']: #, 'vals_to_plot']:\n",
    "    for tl in [\"target\",\"feedback\"]:\n",
    "        for varset, (fign, (ymin,ymax)) in vsfigns.items():                \n",
    "            if onlyone is not None:     \n",
    "                if (tl,dec_type,fign) != onlyone: \n",
    "                    print(f'Skip {(tl,dec_type,fign)} due to onlyone {onlyone}')\n",
    "                    continue\n",
    "            figfnb =  f'b2b_home_{tmin0}_{tl}_{fign}'\n",
    "        #for vns_,aspect in [(vns[:4], 1.6), (vns[4:], 1.6)]:            \n",
    "            pargs['x'] = xcol\n",
    "            qs = ('time_locked == @tl and dec_type == @dec_type'\n",
    "                                   ' and varset == @varset')\n",
    "            if tmin0 is not None:\n",
    "                qs += ' and tmin == @tmin0'\n",
    "            df_ = df_b2b_plot.query(qs)\n",
    "            if len(df_) == 0:    \n",
    "                print('Empty df_')\n",
    "                continue\n",
    "            pargs['order'] = vns_short\n",
    "            fg = sns.catplot(data=df_, **pargs, aspect=aspect)\n",
    "            \n",
    "            for ax in fg.axes.flatten():\n",
    "\n",
    "                ttl = ax.get_title()\n",
    "                mr = re.match(f'suff_short = (\\w*) \\| {pargs[\"col\"]} = (.*)', ttl)\n",
    "                if mr is None:\n",
    "                    continue\n",
    "                mrg = mr.groups()\n",
    "                suff = mrg[0]\n",
    "                coln2 = mrg[1]\n",
    "\n",
    "                if replace_title:\n",
    "                    ax.set_title(f'Frequency band = {suff}')\n",
    "                    \n",
    "                df__ = df_.query(f'suff_short == @suff and {pargs[\"col\"]} == @coln2')\n",
    "                colpair = 'varname'\n",
    "                coln = xcol\n",
    "                xlim = ax.get_xlim()\n",
    "                rng = xlim[1] - xlim[0]\n",
    "                x_single = xlim[1]*1.01\n",
    "                x_inc = xlim[1]*0.08\n",
    "                x_double1 = xlim[1]*1.1\n",
    "                plotSigAll(ax, x_double1, x_inc, rng/50, df=df__, \n",
    "                           coln=coln, colpair=colpair, pooled=False, hor=True)\n",
    "                plotSig0All(ax,x_single, rng/50, df=df__, coln=coln, \n",
    "                            colpair=colpair, pooled=False, hor=True);\n",
    "\n",
    "                ax.axvline(x=0, c='r', ls=':', lw=4)\n",
    "                ax.grid(True)\n",
    "                xlabs = ax.get_yticklabels()\n",
    "                xlabs2 = []\n",
    "                for xl in xlabs:\n",
    "                    tt = xl.get_text()\n",
    "                    xlabs2.append( varn2pub.get(tt,tt) )\n",
    "                ax.set_yticklabels(xlabs2)\n",
    "\n",
    "                ax.set_ylabel('')\n",
    "                ax.xaxis.set_major_locator(locator)\n",
    "                #ax.set_xticklabels(ax.get_xticklabels(), rotation=45)\n",
    "\n",
    "                tmin0_ = tmin0\n",
    "                if tmin0 is None:\n",
    "                    tmin0_ = coln2  \n",
    "                if xcol == 'vals_to_plot_nb2b':\n",
    "                    ax.set_xlabel(f'Normalized\\ndecoding accuracy at t={tmin0_}\\nrelative to {tl} onset')\n",
    "                else:\n",
    "                    ax.set_xlabel(f'Decoding accuracy at t={tmin0_}\\nrelative to {tl} onset')                    \n",
    "            sns.move_legend(fg, loc=(0.75,0.864) ) #(0,-0.005) )#'lower left')            \n",
    "            plt.tight_layout()    \n",
    "            #plt.grid(True)            \n",
    "            if xcol == 'vals_to_plot_nb2b':\n",
    "                figfnb += '_norm'\n",
    "            fnfig = pjoin(path_fig,subdir,figfnb + '.pdf')\n",
    "            plt.savefig( fnfig)\n",
    "            if save_png:\n",
    "                plt.savefig( fnfig.replace('.pdf','.png'))\n",
    "            if save_svg:\n",
    "                plt.savefig( fnfig.replace('.pdf','.svg'))                \n",
    "            #     sns.move_legend(fg, loc='upper right')\n",
    "            #     plt.suptitle(suff)\n",
    "            #     plt.tight_layout()\n",
    "            ctr += 1\n",
    "            print('finished ',figfnb)\n",
    "            \n",
    "            #plt.close()\n",
    "        break\n",
    "    break\n",
    "print(f'Plotted {ctr} figs')"
   ]
  },
  {
   "cell_type": "code",
   "execution_count": null,
   "id": "13f232ce",
   "metadata": {
    "hidden": true
   },
   "outputs": [],
   "source": [
    "del tmin"
   ]
  },
  {
   "cell_type": "code",
   "execution_count": null,
   "id": "a834efda",
   "metadata": {
    "hidden": true
   },
   "outputs": [],
   "source": [
    "ttl, mrg, coln2, pargs['col'], tmin0"
   ]
  },
  {
   "cell_type": "markdown",
   "id": "764f5ec9",
   "metadata": {},
   "source": [
    "# Stats"
   ]
  },
  {
   "cell_type": "code",
   "execution_count": null,
   "id": "15d7f85d",
   "metadata": {},
   "outputs": [],
   "source": [
    "# herz is the only one who does okay in both stable and in random"
   ]
  },
  {
   "cell_type": "code",
   "execution_count": null,
   "id": "f3e46155",
   "metadata": {},
   "outputs": [],
   "source": [
    "ttrssigs = []\n",
    "ttrs_all = []\n",
    "for tl in ['target', 'feedback']:\n",
    "    #for suff_short in ['broad','beta','gamma']:\n",
    "    for suff_short in ['broad']:\n",
    "        for tmin0 in tmins0:\n",
    "            for vn in vns:\n",
    "                df_ = df_b2b_plot.query('suff_short == @suff_short and varname == @vn and'\n",
    "                        ' tmin == @tmin0 and varseti == -1'\n",
    "                        ' and time_locked == @tl and dec_type == \"classic\"')\n",
    "\n",
    "                varn = 'vals_to_plot'\n",
    "        #         st = df_.query('env == \"stable\"')#[varn].values\n",
    "        #         rnd = df_.query('env == \"random\"')#[varn].values\n",
    "                from behav_proc import comparePairs, compare0\n",
    "                ttrssig, ttrs = comparePairs(df_, varn, 'env', paired = True)\n",
    "                if ttrs is not None:\n",
    "                    ttrs['varname'] = vn\n",
    "                    ttrs['tmin'] = tmin0\n",
    "                    ttrs['env'] = 'stable vs random'\n",
    "                    ttrs['type'] = 'comp_env'\n",
    "                    ttrs['suff_short'] = suff_short\n",
    "                    ttrs['tl'] = tl\n",
    "                ttrs_all += [ttrs]\n",
    "\n",
    "                for env in ['random','stable']:\n",
    "                    ttrs0 = compare0(df_.query('env == @env'),varn)\n",
    "                    ttrs0['varname'] = vn\n",
    "                    ttrs0['tmin'] = tmin0\n",
    "                    ttrs0['env'] = env            \n",
    "                    ttrs0['type'] = 'check_nz'\n",
    "                    ttrs0['pooled'] = False\n",
    "                    ttrs0['suff_short'] = suff_short\n",
    "                    ttrs0['tl'] = tl\n",
    "                    #print(len(ttrs0))\n",
    "                    ttrs_all += [ttrs0]\n",
    "\n",
    "            for env in ['random','stable']:\n",
    "                df_ = df_b2b_plot.query('suff_short == \"broad\" and varname.isin(@vns) and'\n",
    "                    ' tmin == @tmin0 and varseti == -1'\n",
    "                    ' and time_locked == \"feedback\" and dec_type == \"classic\"'\n",
    "                    ' and env == @env')\n",
    "                ttrssig, ttrs = comparePairs(df_, varn, 'varname', paired = True)\n",
    "                ttrs['varname'] = None\n",
    "                ttrs['tmin'] = tmin0\n",
    "                ttrs['env'] = env\n",
    "                ttrs['type'] = 'comp_var'\n",
    "                ttrs['suff_short'] = suff_short\n",
    "                ttrs['tl'] = tl\n",
    "                ttrs_all += [ttrs]          \n",
    "            \n",
    "    #ttrssigs = pd.concat(ttrssigs, ignore_index=1).query('pooled == False')\n",
    "\n",
    "ttrs_all = pd.concat(ttrs_all, ignore_index=1).query('pooled == False')"
   ]
  },
  {
   "cell_type": "code",
   "execution_count": null,
   "id": "692af6dd",
   "metadata": {},
   "outputs": [],
   "source": [
    "ttrs_allg = ttrs_all.query('pval < 0.05 and alternative != \"two-sided\"')"
   ]
  },
  {
   "cell_type": "code",
   "execution_count": null,
   "id": "4269db90",
   "metadata": {},
   "outputs": [],
   "source": [
    "ttrs_allg.sort_values(['type','varname']).\\\n",
    "    query('tmin == \"0.11\" and type != \"comp_var\" and varname.isin([\"error_pred_Died\",\"error_pred_Herz\"])')\\\n",
    "    [['type','tmin','tl','env','varname','ttstr','pval','T']]"
   ]
  },
  {
   "cell_type": "code",
   "execution_count": null,
   "id": "c82b8d8b",
   "metadata": {},
   "outputs": [],
   "source": [
    "varpairs = [('error','prev_error'), \n",
    "            ('err_sens','err_sens_Tan'), ('err_sens','err_sens_Herz'), \n",
    "            ('err_sens_Tan','err_sens_Herz'), \n",
    "('error','error_pred_Tan'), ('error','error_pred_Herz'), \n",
    "            ('error','error_pred_Died'), ('error_pred_Herz','error_pred_Died'),\n",
    "           ('error_pred_Tan','error_pred_Died')]\n",
    "\n",
    "for tmin in tmins0:\n",
    "    print('\\n      ',tmin)\n",
    "    for v1,v2 in varpairs:    \n",
    "        r = ttrs_allg.query('tmin == @tmin and type == \"comp_var\" '\n",
    "                        'and val1 == @v1 and val2 == @v2')\n",
    "        print(v1,v2, len(r))\n",
    "        if len(r):\n",
    "            display(r[['type','tmin','tl','env','varname','ttstr','pval','T']])"
   ]
  },
  {
   "cell_type": "code",
   "execution_count": null,
   "id": "9072fe26",
   "metadata": {},
   "outputs": [],
   "source": [
    "ttrs_all['val2'].unique()"
   ]
  },
  {
   "cell_type": "code",
   "execution_count": null,
   "id": "65ea19ca",
   "metadata": {},
   "outputs": [],
   "source": [
    "ttrs_all.query('val1 == \"error_pred_Died\" and val2 == \"error_pred_Herz\" and env == \"random\"')\\\n",
    "    [['type','tmin','tl','env','varname','ttstr','pval','T']]"
   ]
  },
  {
   "cell_type": "code",
   "execution_count": null,
   "id": "a89a6c8e",
   "metadata": {},
   "outputs": [],
   "source": [
    "df_.groupby(['subject','env']).size().max()"
   ]
  },
  {
   "cell_type": "code",
   "execution_count": null,
   "id": "4dbf0786",
   "metadata": {},
   "outputs": [],
   "source": [
    "sns.set(font_scale=1.1)\n",
    "#tmin0 = '-0.64'  # -0.50\n",
    "tmins0 = ['-0.26','0.11']\n",
    "#tmin0 = '0.11'\n",
    "print('tmin0 = ', tmin0)\n",
    "import seaborn as sns\n",
    "pargs = dict(kind='box',  row='suff_short',  col='tmin',\n",
    "               y = 'varname', x = 'vals_to_plot',\n",
    "             hue='env', palette=['orange', 'grey'],\n",
    "            hue_order= ['stable','random'], row_order=roword,\n",
    "             col_order = tmins0,\n",
    "            order = vns)\n",
    "\n",
    "#for suff in df_b2b_plot['custom_suffix'].unique():\n",
    "suff_short = suff[14:].replace('_drall_dtall','').\\\n",
    "    replace('h0.250','').replace('_s','') \n",
    "\n",
    "df_ = df_b2b_plot.query('tmin.isin(@tmins0) and varname.isin(@vns)'\n",
    "                        ' and varseti == -1 and time_locked == \"feedback\"'\n",
    "                         ' and dec_type == \"classic\"')\n",
    "if len(df_) != 0:    \n",
    "    fg = sns.catplot(data=df_, **pargs)\n",
    "    for ax in fg.axes.flatten():\n",
    "        ax.axvline(x=0, c='r', ls=':')\n",
    "        ax.grid(True)"
   ]
  },
  {
   "cell_type": "markdown",
   "id": "0dfed6d9",
   "metadata": {
    "heading_collapsed": true
   },
   "source": [
    "# Plot mini slide"
   ]
  },
  {
   "cell_type": "code",
   "execution_count": null,
   "id": "7ff88a77",
   "metadata": {
    "hidden": true
   },
   "outputs": [],
   "source": [
    "#for subject in subjects[:1]:\n",
    "#%debug\n",
    "import gc; gc.collect()\n",
    "plot_diff_vs_es = 0\n",
    "plot_diff = 0\n",
    "\n",
    "regression_type = 'Ridge'\n",
    "#control_type = 'movement'\n",
    "#subject_inds = [0]\n",
    "subject_inds = np.arange(len(subjects))\n",
    "#subject_inds = list(range(12)) + list(range(13,20))\n",
    "#subject_inds = [12]\n",
    "\n",
    "# scale robust = 1\n",
    "#time_start = parser.parse('14:40 of 31 may 2023'); \n",
    "#time_end = parser.parse('21:39 of 31 may 2023'); \n",
    "\n",
    "# scale robust = 0\n",
    "#time_start = parser.parse('13:00 of 14 june 2023'); \n",
    "#time_start = parser.parse('11:36 of 20 june 2023'); \n",
    "time_start = parser.parse('17:00 of 27 june 2023'); \n",
    "time_end = parser.parse('15:58 of 31 may 2027'); \n",
    "\n",
    "custom_prefix = None\n",
    "\n",
    "use_preload_df = 0\n",
    "load_df        = 0\n",
    "exit_after = 'collect'\n",
    "plot_scores_per_subj = 0\n",
    "ktes = ['err_sens','err_sens_Tan','err_sens_Herz',\n",
    "        'error', 'error_pred_Tan','error_pred_Herz',\n",
    "        'error_pred_Died', \n",
    "        'prev_error',\n",
    "        'target_inds',\n",
    "        'trials','trialwb', 'trial_wpert',\n",
    "        'trialwtgt_wb','trialwtgt_wpertstage_wb',\n",
    "        'RT','movement_duration']\n",
    "#b2bdef = 'err_sens,prev_error,error'\n",
    "b2bdef = ['err_sens,prev_error,error',\n",
    "         'err_sens_Tan,prev_error,error',\n",
    "         'err_sens_Herz,prev_error,error',]\n",
    "#b2bdef = 'err_sens_Tan,err_sens_Herz,err_sens,prev_error,error'\n",
    "control_types = ['movement', 'feedback']\n",
    "varnames = ktes\n",
    "#tmins = ['-5.00']\n",
    "tmin_desired = '-0.50'\n",
    "#tmin_desired = None\n",
    "freq_names = ['broad','beta','gamma']\n",
    "time_lockeds=['target', 'feedback']\n",
    "#time_lockeds=['target']\n",
    "\n",
    "#control_types = ['movement']\n",
    "#freq_names = ['broad']\n",
    "#time_lockeds = ['target']\n",
    "\n",
    "import traceback\n",
    "DEBUG = 1\n",
    "require_all_subjects = 0\n",
    "\n",
    "save_df = 0\n",
    "#%debug\n",
    "\n",
    "failed = []\n",
    "dfs = []\n",
    "for hpass in ['no_filter']: #,'0.1']:\n",
    "    #for env in ['stable','random']:\n",
    "    for env in [['stable','random']]:\n",
    "        #for freq_name in list(freq_name2freq.keys() ):\n",
    "        for freq_name in freq_names: #, 'beta']:\n",
    "            for time_locked in time_lockeds:\n",
    "                for control_type in control_types:\n",
    "                    s=  ','.join( getAnalysisVarnames(time_locked, control_type)[0] )\n",
    "                    varnames_b2b = [s ] + b2bdef\n",
    "\n",
    "                    output_folder = f'corr_spoc_es_sliding2_{hpass}'        \n",
    "                    script_name = pjoin(scripts_dir,\n",
    "                            'correlation_error_sensitivity_spoc_decoding_sliding.py')\n",
    "                    try:\n",
    "                        ipy.magic('%run -i {script_name}')                  \n",
    "                    except Exception as e:                    \n",
    "                        print('EXC',e)\n",
    "                        exc_info = sys.exc_info()\n",
    "                        exc = traceback.TracebackException(*exc_info, capture_locals=True)\n",
    "                        ei = exc_info[2]    \n",
    "                        #display(ei.tb_frame)\n",
    "                        psf = ei\n",
    "\n",
    "                        lfprev = None; lf = None\n",
    "                        lfs = []\n",
    "                        di = 0\n",
    "                        while psf.tb_frame is not None:\n",
    "                            stackframe = psf.tb_frame\n",
    "                            display(di, stackframe)\n",
    "\n",
    "                            psf = psf.tb_next  \n",
    "                            if 'conda' not in stackframe.f_code.co_filename:        \n",
    "                                lfprev = lf\n",
    "                                lf = stackframe.f_locals\n",
    "                                lfs += [lf]\n",
    "                                di += 1\n",
    "                            if psf is None:\n",
    "                                break    \n",
    "\n",
    "                        raise e\n",
    "\n",
    "                        print('Exc for ', hpass,freq_name)\n",
    "                        failed += [ (hpass, freq_name)]\n",
    "                        print('EXC',e)\n",
    "                    #df.to_pickle( pjoin(path_fig, save_folder, 'df') )\n",
    "                    dfs += [df]\n",
    "                if not DEBUG:\n",
    "                    del df\n",
    "                import gc; gc.collect()\n",
    "                plt.close()\n",
    "            #break\n",
    "        #break\n",
    "    #break\n",
    "\n",
    "dfc =pd.concat(dfs).reset_index()\n",
    "print(len(dfc))\n",
    "print(dfc['subject'].unique())\n",
    "suffixes_present = dfc['custom_suffix'].unique()\n",
    "print(suffixes_present)\n",
    "dfc_types_present = dfc['dec_type'].unique(); \n",
    "print(dfc_types_present)"
   ]
  },
  {
   "cell_type": "markdown",
   "id": "0801dd59",
   "metadata": {
    "heading_collapsed": true
   },
   "source": [
    "# Plot home"
   ]
  },
  {
   "cell_type": "code",
   "execution_count": null,
   "id": "35ac3478",
   "metadata": {
    "code_folding": [
     0,
     23,
     33,
     60,
     75,
     108
    ],
    "hidden": true
   },
   "outputs": [],
   "source": [
    "# to test collection first exectue with small number of subject_inds\n",
    "#%debug\n",
    "import gc; gc.collect()\n",
    "plot_diff_vs_es = 0\n",
    "plot_diff = 0\n",
    "\n",
    "regression_type = 'Ridge_noCV'\n",
    "#control_type = 'movement'\n",
    "subject_inds = [0]\n",
    "#subject_inds = np.arange(len(subjects))\n",
    "\n",
    "# scale robust = 0\n",
    "#time_start = parser.parse('13:00 of 14 june 2023'); \n",
    "#time_start = parser.parse('11:36 of 20 june 2023'); \n",
    "time_start = parser.parse('19:30 of 27 june 2023'); \n",
    "time_end = parser.parse('15:58 of 31 may 2027'); \n",
    "\n",
    "custom_prefix = None\n",
    "\n",
    "use_preload_df = 0\n",
    "load_df        = 0\n",
    "exit_after = 'collect'\n",
    "plot_scores_per_subj = 0\n",
    "ktes = ['err_sens','err_sens_Tan','err_sens_Herz',\n",
    "        'error', 'error_pred_Tan','error_pred_Herz',\n",
    "        'error_pred_Died', \n",
    "        'prev_error','next_error','prev_belief','belief',\n",
    "        'prev_movement','movement',\n",
    "        'target_inds',\n",
    "        'trials','trialwb', 'trialwpert',\n",
    "        'trialwtgt_wb','trialwtgt_wpertstage_wb',\n",
    "        'RT','movement_duration']\n",
    "#b2bdef = 'err_sens,prev_error,error'\n",
    "b2bdef = ['err_sens,prev_error,error',\n",
    "         'err_sens_Tan,prev_error,error',\n",
    "         'err_sens_Herz,prev_error,error',]\n",
    "#b2bdef = 'err_sens_Tan,err_sens_Herz,err_sens,prev_error,error'\n",
    "control_types = ['movement', 'feedback']\n",
    "varnames = ktes\n",
    "#tmins = ['-5.00']\n",
    "tmin_desired = '-0.50'\n",
    "#tmin_desired = None\n",
    "freq_names = ['broad','beta','gamma']\n",
    "time_lockeds=['target', 'feedback']\n",
    "#time_lockeds=['target']\n",
    "\n",
    "#control_types = ['movement']\n",
    "#freq_names = ['broad']\n",
    "#time_lockeds = ['target']\n",
    "\n",
    "import traceback\n",
    "DEBUG = 1\n",
    "require_all_subjects = 0\n",
    "\n",
    "save_df = 0\n",
    "#%debug\n",
    "\n",
    "failed = []\n",
    "dfs = []\n",
    "#%debug\n",
    "for hpass in ['no_filter']: #,'0.1']:\n",
    "    #for env in ['stable','random']:\n",
    "    for env in [['stable','random']]:\n",
    "        #for freq_name in list(freq_name2freq.keys() ):\n",
    "        for freq_name in freq_names: #, 'beta']:\n",
    "            for time_locked in time_lockeds:\n",
    "                for control_type in control_types:\n",
    "                    s=  ','.join( getAnalysisVarnames(time_locked, control_type)[0] )\n",
    "                    varnames_b2b = [s ] + b2bdef\n",
    "\n",
    "                    output_folder = f'corr_spoc_es_sliding2_{hpass}'        \n",
    "                    script_name = pjoin(scripts_dir,\n",
    "                            'correlation_error_sensitivity_spoc_decoding_sliding.py')\n",
    "                    try:\n",
    "                        ipy.magic('%run -i {script_name}')                  \n",
    "                    except Exception as e:                    \n",
    "                        print('EXC',e)\n",
    "                        exc_info = sys.exc_info()\n",
    "                        exc = traceback.TracebackException(*exc_info, capture_locals=True)\n",
    "                        ei = exc_info[2]    \n",
    "                        #display(ei.tb_frame)\n",
    "                        psf = ei\n",
    "\n",
    "                        lfprev = None; lf = None\n",
    "                        lfs = []\n",
    "                        di = 0\n",
    "                        while psf.tb_frame is not None:\n",
    "                            stackframe = psf.tb_frame\n",
    "                            display(di, stackframe)\n",
    "\n",
    "                            psf = psf.tb_next  \n",
    "                            if ('conda' not in stackframe.f_code.co_filename) and\\\n",
    "                                 'mamba' not in stackframe.f_code.co_filename:        \n",
    "                                lfprev = lf\n",
    "                                lf = stackframe.f_locals\n",
    "                                lfs += [lf]\n",
    "                                di += 1\n",
    "                            if psf is None:\n",
    "                                break    \n",
    "\n",
    "                        raise e\n",
    "\n",
    "                        print('Exc for ', hpass,freq_name)\n",
    "                        failed += [ (hpass, freq_name)]\n",
    "                        print('EXC',e)\n",
    "                        df = None\n",
    "                    #df.to_pickle( pjoin(path_fig, save_folder, 'df') )\n",
    "                    dfs += [df]\n",
    "                if not DEBUG:\n",
    "                    del df\n",
    "                import gc; gc.collect()\n",
    "                plt.close()\n",
    "            #break\n",
    "        #break\n",
    "    #break\n",
    "\n",
    "dfc =pd.concat(dfs).reset_index()\n",
    "print(len(dfc))\n",
    "print(dfc['subject'].unique())\n",
    "suffixes_present = dfc['custom_suffix'].unique()\n",
    "print(suffixes_present)\n",
    "dfc_types_present = dfc['dec_type'].unique(); \n",
    "print(dfc_types_present)"
   ]
  },
  {
   "cell_type": "code",
   "execution_count": null,
   "id": "a5bf2ae4",
   "metadata": {
    "hidden": true
   },
   "outputs": [],
   "source": [
    "dfc =pd.concat(dfs).reset_index()\n",
    "print(len(dfc))\n",
    "print(dfc['subject'].unique())\n",
    "suffixes_present = dfc['custom_suffix'].unique()\n",
    "print(suffixes_present)\n",
    "dfc_types_present = dfc['dec_type'].unique(); \n",
    "print(dfc_types_present)"
   ]
  },
  {
   "cell_type": "code",
   "execution_count": null,
   "id": "a900d354",
   "metadata": {
    "hidden": true
   },
   "outputs": [],
   "source": [
    "#%debug\n",
    "with warnings.catch_warnings(record=True) as w:\n",
    "    warnings.filterwarnings('error')\n",
    "\n",
    "    ipy.magic('%run -i {script_name}') "
   ]
  },
  {
   "cell_type": "code",
   "execution_count": null,
   "id": "b2a3f616",
   "metadata": {
    "hidden": true
   },
   "outputs": [],
   "source": []
  },
  {
   "cell_type": "code",
   "execution_count": null,
   "id": "a95705ec",
   "metadata": {
    "hidden": true
   },
   "outputs": [],
   "source": [
    "lfs"
   ]
  },
  {
   "cell_type": "code",
   "execution_count": null,
   "id": "429301b6",
   "metadata": {
    "hidden": true
   },
   "outputs": [],
   "source": [
    "lfs[-1].keys()"
   ]
  },
  {
   "cell_type": "code",
   "execution_count": null,
   "id": "c16ff4ca",
   "metadata": {
    "hidden": true
   },
   "outputs": [],
   "source": []
  },
  {
   "cell_type": "code",
   "execution_count": null,
   "id": "1a88c796",
   "metadata": {
    "hidden": true
   },
   "outputs": [],
   "source": [
    "from postproc import collectResultsPrefilled,collectResults0\n",
    "hpass = 'no_filter'\n",
    "time_start = parser.parse('19:30 of 27 june 2023'); \n",
    "time_end = parser.parse('15:58 of 31 may 2027'); \n",
    "time_lockeds = ['target', 'feedback']\n",
    "freq_names = ['broad']\n",
    "#freq_names = ['broad', 'beta', 'gamma']\n",
    "control_types = [ 'movement']\n",
    "\n",
    "output_folder = f'corr_spoc_es_sliding2_{hpass}'        \n",
    "df1 = collectResults0(subjects,output_folder)\n",
    "\n",
    "qs = 'time_locked.isin(@time_lockeds) and control_type.isin(@control_types)'\n",
    "qs += ' and freq_name.isin(@freq_names)'\n",
    "qs += ' and mtime >= @time_start'\n",
    "qs += ' and mtime <= @time_end'\n",
    "if tmin_desired is not None:\n",
    "    if isinstance(tmin_desired,list):\n",
    "        qs += ' and tmin.isin(@tmin_desired)'\n",
    "    else:\n",
    "        qs += ' and tmin == @tmin_desired'\n",
    "df2 = df1.query(qs).copy()\n",
    "print('All files {},  after filtering {}'.format(len(df1),len(df2)) )"
   ]
  },
  {
   "cell_type": "code",
   "execution_count": null,
   "id": "d4b09ca5",
   "metadata": {
    "hidden": true
   },
   "outputs": [],
   "source": [
    "# slow\n",
    "#%debug\n",
    "dfc = collectResultsPrefilled(df2)\n",
    "dfc_allcollected = dfc\n",
    "\n",
    "catcols = ['subject', 'fn', 'fn_full', 'SLURM_job_id', 'env',\n",
    "       'trial_group_col_calc', 'rt', 'time_locked', 'control_type',\n",
    "       'custom_suffix', 'freq_name', 'tmin', 'tmax', 'dec_type']\n",
    "for col in catcols:\n",
    "    dfc[col] = dfc[col].astype('category')"
   ]
  },
  {
   "cell_type": "code",
   "execution_count": null,
   "id": "a4aaad8d",
   "metadata": {
    "hidden": true
   },
   "outputs": [],
   "source": [
    "del df1,df2"
   ]
  },
  {
   "cell_type": "code",
   "execution_count": null,
   "id": "e94da3ec",
   "metadata": {
    "hidden": true
   },
   "outputs": [],
   "source": [
    "#dfc_home = dfc"
   ]
  },
  {
   "cell_type": "code",
   "execution_count": null,
   "id": "cbacb276",
   "metadata": {
    "hidden": true
   },
   "outputs": [],
   "source": [
    "dfc.describe(include='category').T"
   ]
  },
  {
   "cell_type": "code",
   "execution_count": null,
   "id": "3bf82991",
   "metadata": {
    "hidden": true
   },
   "outputs": [],
   "source": [
    "f = np.load( dfc['fn_full'].iloc[0], allow_pickle=1 )\n",
    "d = f['decoding_per_var'][()]"
   ]
  },
  {
   "cell_type": "code",
   "execution_count": null,
   "id": "89b6a9ba",
   "metadata": {
    "hidden": true
   },
   "outputs": [],
   "source": [
    "print( f.keys() )"
   ]
  },
  {
   "cell_type": "code",
   "execution_count": null,
   "id": "965af59e",
   "metadata": {
    "hidden": true
   },
   "outputs": [],
   "source": [
    "d.keys()"
   ]
  },
  {
   "cell_type": "code",
   "execution_count": null,
   "id": "5d9ef8c1",
   "metadata": {
    "hidden": true
   },
   "outputs": [],
   "source": [
    "list(d.keys())"
   ]
  },
  {
   "cell_type": "code",
   "execution_count": null,
   "id": "ec238698",
   "metadata": {
    "hidden": true
   },
   "outputs": [],
   "source": [
    "list(dfc.columns)"
   ]
  },
  {
   "cell_type": "code",
   "execution_count": null,
   "id": "25d7b667",
   "metadata": {
    "hidden": true
   },
   "outputs": [],
   "source": [
    "suffixes_present"
   ]
  },
  {
   "cell_type": "code",
   "execution_count": null,
   "id": "a364c441",
   "metadata": {
    "hidden": true
   },
   "outputs": [],
   "source": [
    "print (set( df['subject'] ) ^ set(np.array(subjects)[subject_inds]))"
   ]
  },
  {
   "cell_type": "code",
   "execution_count": null,
   "id": "b9988558",
   "metadata": {
    "hidden": true
   },
   "outputs": [],
   "source": [
    "dfc['mtime'].min(), dfc['mtime'].max()"
   ]
  },
  {
   "cell_type": "code",
   "execution_count": null,
   "id": "de6f690c",
   "metadata": {
    "hidden": true
   },
   "outputs": [],
   "source": [
    "# dubplicates check\n",
    "cols_unique = ['subject','env','time_locked','control_type', \n",
    "    'trial_group_col_calc','freq_name', 'tmin', 'tmax', 'dec_type',\n",
    "              'custom_suffix']\n",
    "if dfc.duplicated(cols_unique).any():\n",
    "    display( dfc[ dfc.duplicated(cols_unique) ] )\n",
    "else:\n",
    "    print('No duplicates!')\n",
    "\n",
    "print( len(dfc), dfc['subject'].nunique(), dfc['control_type'].nunique(), subject_inds )"
   ]
  },
  {
   "cell_type": "code",
   "execution_count": null,
   "id": "397126db",
   "metadata": {
    "hidden": true
   },
   "outputs": [],
   "source": [
    "grp = dfc.groupby(cols_unique)\n",
    "print(grp.size().max())"
   ]
  },
  {
   "cell_type": "code",
   "execution_count": null,
   "id": "c8231cc5",
   "metadata": {
    "hidden": true
   },
   "outputs": [],
   "source": [
    "#dfc = dfc.drop_duplicates(cols_unique)"
   ]
  },
  {
   "cell_type": "code",
   "execution_count": null,
   "id": "8ee08fd0",
   "metadata": {
    "hidden": true
   },
   "outputs": [],
   "source": [
    "list(dfc.columns)"
   ]
  },
  {
   "cell_type": "code",
   "execution_count": null,
   "id": "105421e0",
   "metadata": {
    "hidden": true
   },
   "outputs": [],
   "source": [
    "g = list(grp.groups.keys())[0]\n",
    "inds = grp.groups[g]\n",
    "dfc.loc[inds, ['SLURM_job_id','err_sens_Xshape']]"
   ]
  },
  {
   "cell_type": "code",
   "execution_count": null,
   "id": "2af0127b",
   "metadata": {
    "hidden": true
   },
   "outputs": [],
   "source": [
    "varsets = dfc.query('dec_type == \"classic\"')['varset'].unique()\n",
    "print(list(varsets))\n",
    "varnames0 = list(set(';'.join(varsets).split(';') ) )#.split(',')\n",
    "print('varnames0',varnames0)"
   ]
  },
  {
   "cell_type": "code",
   "execution_count": null,
   "id": "85a7f16c",
   "metadata": {
    "code_folding": [],
    "hidden": true
   },
   "outputs": [],
   "source": [
    "from postproc import  extractB2Bcols\n",
    "#%debug\n",
    "#varnames0 = ['prev_movement','prev_belief','movement','belief','feedback',\n",
    "#             'error','prev_error','err_sens','next_error','correction' ]\n",
    "#varnames0 = ktes\n",
    "dfc_, df_b2b_plot0 = extractB2Bcols(dfc, b2bdef,\n",
    "                        toclean=varnames0)\n",
    "\n",
    "suffixes_present = df_b2b_plot0['custom_suffix'].unique()\n",
    "print(len(dfc_))"
   ]
  },
  {
   "cell_type": "code",
   "execution_count": null,
   "id": "9e51b9c0",
   "metadata": {
    "hidden": true
   },
   "outputs": [],
   "source": [
    "[col for col in dfc.columns if col.find('score') >= 0]"
   ]
  },
  {
   "cell_type": "code",
   "execution_count": null,
   "id": "2533849c",
   "metadata": {
    "hidden": true
   },
   "outputs": [],
   "source": [
    "from postproc import extractClassicCols\n",
    "#,'movement','feedback','next_error','prev_belief','belief',\n",
    "#'prev_movement',\n",
    "# varnames0 = ['error','error_pred_Tan','error_pred_Herz','error_pred_Died',\n",
    "#              'error_pred_Died','prev_error',\n",
    "#              'err_sens','err_sens_Tan','err_sens_Herz',\n",
    "#              'trials','target_inds' ]\n",
    "#varnames = ktes\n",
    "df_class_plot = extractClassicCols(dfc, defvarcolns=varnames0,\n",
    "                                  error_handling = 'ignore')\n",
    "\n",
    "#df_b2b_plot = df_class_plot\n"
   ]
  },
  {
   "cell_type": "code",
   "execution_count": null,
   "id": "51b25196",
   "metadata": {
    "hidden": true
   },
   "outputs": [],
   "source": [
    "df_b2b_plot = pd.concat([df_class_plot,df_b2b_plot0] )#.reset_index()"
   ]
  },
  {
   "cell_type": "code",
   "execution_count": null,
   "id": "c399ea5b",
   "metadata": {
    "hidden": true
   },
   "outputs": [],
   "source": [
    "catcols = ['control_type', 'env', 'varname', \n",
    "           'time_locked', 'custom_suffix']\n",
    "for col in catcols:\n",
    "    df_b2b_plot0[col] = df_b2b_plot0[col] .astype('category')"
   ]
  },
  {
   "cell_type": "code",
   "execution_count": null,
   "id": "03a2796b",
   "metadata": {
    "hidden": true
   },
   "outputs": [],
   "source": [
    "lbd = lambda x: x[14:].replace('_drall_dtall','').\\\n",
    "    replace('_sh0.232','').replace('_s','').replace('trim0_','')\n",
    "df_b2b_plot['suff_short'] = df_b2b_plot['custom_suffix'].apply(lbd,1)"
   ]
  },
  {
   "cell_type": "code",
   "execution_count": null,
   "id": "4a608eb3",
   "metadata": {
    "hidden": true
   },
   "outputs": [],
   "source": [
    "varnameord = ['target_inds',\n",
    " 'prev_error',\n",
    " 'error',              \n",
    " 'next_error', \n",
    " 'prev_movement',\n",
    " 'movement',\n",
    " 'prev_belief',\n",
    " 'belief',\n",
    " 'err_sens']\n",
    "              \n",
    "#  ['err_sens_Tan',\n",
    "#  'err_sens_Herz',\n",
    "#  'error_pred_Tan',\n",
    "#  'error_pred_Herz',\n",
    "#  'error_pred_Died']"
   ]
  },
  {
   "cell_type": "code",
   "execution_count": null,
   "id": "a9ad897b",
   "metadata": {
    "hidden": true
   },
   "outputs": [],
   "source": [
    "#list(df_b2b_plot['varname'].unique())"
   ]
  },
  {
   "cell_type": "code",
   "execution_count": null,
   "id": "3a3f34d2",
   "metadata": {
    "hidden": true
   },
   "outputs": [],
   "source": [
    "#list(df_b2b_plot['suff_short'].unique())\n",
    "# roword = ['dhittw1cX0Y0c0_broad', \n",
    "#           'dhittw1cX0Y0c1_broad',\n",
    "#  'dhittw1cX0Y1c0_broad',\n",
    "#  'dhittw1cX0Y1c1_broad',\n",
    "#  'dhittw1cX0Y2c0_broad',\n",
    "#  'dhittw1cX0Y2c1_broad']\n",
    "\n",
    "roword = ['dhittw1cX0Y0c0_broad', \n",
    "          'dhittw1cX0Y0c1_broad',\n",
    "          'dhittw1cX0Y2c0_broad',\n",
    "          'dhittw1cX0Y2c1_broad',\n",
    "          'dhittw1cX0Y1c0_broad',\n",
    "          'dhittw1cX0Y1c1_broad' ]"
   ]
  },
  {
   "cell_type": "code",
   "execution_count": null,
   "id": "ec4034bb",
   "metadata": {
    "hidden": true
   },
   "outputs": [],
   "source": [
    "df_b2b_plot['suff_short']"
   ]
  },
  {
   "cell_type": "code",
   "execution_count": null,
   "id": "807f195d",
   "metadata": {
    "hidden": true
   },
   "outputs": [],
   "source": [
    "cols_unique"
   ]
  },
  {
   "cell_type": "code",
   "execution_count": null,
   "id": "b9e53c18",
   "metadata": {
    "hidden": true
   },
   "outputs": [],
   "source": [
    "dfc.duplicated(cols_unique).any()"
   ]
  },
  {
   "cell_type": "code",
   "execution_count": null,
   "id": "e02bb80f",
   "metadata": {
    "hidden": true
   },
   "outputs": [],
   "source": [
    "dfc['rt']"
   ]
  },
  {
   "cell_type": "code",
   "execution_count": null,
   "id": "a2bfe872",
   "metadata": {
    "hidden": true
   },
   "outputs": [],
   "source": []
  },
  {
   "cell_type": "code",
   "execution_count": null,
   "id": "b8f2ee18",
   "metadata": {
    "hidden": true
   },
   "outputs": [],
   "source": [
    "df_.groupby(['varname','suff_short','time_locked','env',\n",
    "            'control_type','subject','dec_type','varseti'])\\\n",
    "    .size().max()"
   ]
  },
  {
   "cell_type": "code",
   "execution_count": null,
   "id": "1d9ba2ce",
   "metadata": {
    "hidden": true
   },
   "outputs": [],
   "source": [
    "df_b2b_plot.query('varseti == 0')['varset'].unique()"
   ]
  },
  {
   "cell_type": "code",
   "execution_count": null,
   "id": "c61f4f81",
   "metadata": {
    "hidden": true
   },
   "outputs": [],
   "source": [
    "sns.set(font_scale=1.1)\n",
    "tmin0 = '-0.50'  #'-0.64' \n",
    "import seaborn as sns\n",
    "pargs = dict(kind='box',  row='suff_short',  col='varseti',\n",
    "               y = 'varname', x = 'vals_to_plot',\n",
    "             hue='env', palette=['orange', 'grey'],\n",
    "            hue_order= ['stable','random'],aspect=1.2,\n",
    "            order = varnameord, row_order = roword,\n",
    "             sharex = 'col')#, row_order=roword)\n",
    "\n",
    "for tl in time_lockeds:\n",
    "    df_ = df_b2b_plot.query('tmin == @tmin0 and varname != \"trials\"'\n",
    "                           ' and time_locked == @tl')\n",
    "    assert not df_.duplicated(cols_unique + ['varname','varseti']).any()\n",
    "    if len(df_) != 0:    \n",
    "        fg = sns.catplot(data=df_, **pargs)\n",
    "        for ax in fg.axes.flatten():\n",
    "            ax.axvline(x=0, c='r', ls=':')\n",
    "            ax.grid(True)\n",
    "            #ax.set_xticklabels(ax.get_xticklabels(), rotation=45)\n",
    "\n",
    "        sns.move_legend(fg, loc='upper right')\n",
    "        #plt\n",
    "        #plt.suptitle(suff_short)\n",
    "        plt.tight_layout()    \n",
    "        #plt.grid(True)\n",
    "\n",
    "        #break\n",
    "\n",
    "        plt.savefig( pjoin(path_fig, f'classic_home_basic_vars_{tmin0}_{tl}.pdf'))\n",
    "\n",
    "\n",
    "    #     df_ = df_b2b_plot.query('varseti == 1 and custom_suffix == @suff and tmin == \"-0.50\"')\n",
    "    #     fg = sns.catplot(data=df_, **pargs)\n",
    "    #     for ax in fg.axes.flatten():\n",
    "    #         ax.axhline(y=0, c='r', ls=':')\n",
    "\n",
    "    #     sns.move_legend(fg, loc='upper right')\n",
    "    #     plt.suptitle(suff)\n",
    "    #     plt.tight_layout()\n",
    "\n",
    "    #     plt.savefig( pjoin(path_fig, f'b2b_home_ES_{tmin0}_{suff_short}.pdf'))\n",
    "    print('finished ')"
   ]
  },
  {
   "cell_type": "markdown",
   "id": "86b2e765",
   "metadata": {
    "hidden": true
   },
   "source": [
    "## for Bernstein abstract"
   ]
  },
  {
   "cell_type": "code",
   "execution_count": null,
   "id": "3f5d1398",
   "metadata": {
    "hidden": true
   },
   "outputs": [],
   "source": [
    "from postproc import extractClassicCols\n",
    "#,'movement','feedback','next_error','prev_belief','belief',\n",
    "#'prev_movement',\n",
    "varnames0 = ['error','error_pred_Tan','error_pred_Herz','error_pred_Died',\n",
    "             'error_pred_Died','prev_error',\n",
    "             'err_sens','err_sens_Tan','err_sens_Herz',\n",
    "             'trials' ]\n",
    "varnames = ktes\n",
    "df_class_plot = extractClassicCols(dfc, defvarcolns=varnames0,\n",
    "                                  error_handling = 'ignore')\n",
    "\n",
    "df_b2b_plot = df_class_plot\n",
    "\n",
    "catcols = ['control_type', 'env', 'varname', \n",
    "           'time_locked', 'custom_suffix']\n",
    "for col in catcols:\n",
    "    df_b2b_plot[col] = df_b2b_plot[col] .astype('category')"
   ]
  },
  {
   "cell_type": "code",
   "execution_count": null,
   "id": "6fc8b799",
   "metadata": {
    "hidden": true
   },
   "outputs": [],
   "source": [
    "cols_ = ['subject',\n",
    " 'time_locked',\n",
    " 'control_type',\n",
    " 'trial_group_col_calc',\n",
    " 'freq_name',\n",
    " 'tmin',\n",
    " 'dec_type',\n",
    " 'custom_suffix', 'varseti', 'varname', 'rt','trial_group_col_calc']"
   ]
  },
  {
   "cell_type": "code",
   "execution_count": null,
   "id": "c07385bb",
   "metadata": {
    "hidden": true
   },
   "outputs": [],
   "source": [
    "list(df_b2b_plot['varname'].unique())"
   ]
  },
  {
   "cell_type": "code",
   "execution_count": null,
   "id": "5478edd2",
   "metadata": {
    "hidden": true
   },
   "outputs": [],
   "source": [
    "df_b2b_plot = df_b2b_plot[cols_ + ['env', 'vals_to_plot'] ].drop_duplicates()"
   ]
  },
  {
   "cell_type": "code",
   "execution_count": null,
   "id": "fa3d7189",
   "metadata": {
    "hidden": true
   },
   "outputs": [],
   "source": [
    "df_b2b_plot = df_b2b_plot.reset_index()"
   ]
  },
  {
   "cell_type": "code",
   "execution_count": null,
   "id": "c93bdb47",
   "metadata": {
    "hidden": true
   },
   "outputs": [],
   "source": [
    "# dfsz = df_b2b_plot.groupby(cols_ + ['env']).size().to_frame()\n",
    "# dfsz[dfsz[0] == 2]#.reset_index()"
   ]
  },
  {
   "cell_type": "code",
   "execution_count": null,
   "id": "ea818b25",
   "metadata": {
    "hidden": true
   },
   "outputs": [],
   "source": [
    "#df_b2b_plot[df_b2b_plot.duplicated(cols_ + ['env'])]"
   ]
  },
  {
   "cell_type": "code",
   "execution_count": null,
   "id": "24aec7ba",
   "metadata": {
    "hidden": true
   },
   "outputs": [],
   "source": [
    "df_b2b_plot.query('env == \"random\"')"
   ]
  },
  {
   "cell_type": "code",
   "execution_count": null,
   "id": "0512e410",
   "metadata": {
    "hidden": true
   },
   "outputs": [],
   "source": [
    "catcols_noenv = list(set(catcols) - set([env]))"
   ]
  },
  {
   "cell_type": "code",
   "execution_count": null,
   "id": "361ffeab",
   "metadata": {
    "hidden": true
   },
   "outputs": [],
   "source": [
    "catcols_noenv"
   ]
  },
  {
   "cell_type": "code",
   "execution_count": null,
   "id": "d4e04bb0",
   "metadata": {
    "hidden": true
   },
   "outputs": [],
   "source": [
    "for col in cols_ :\n",
    "    df_b2b_plot[col]= df_b2b_plot[col].astype('string')\n",
    "df_b2b_plot = df_b2b_plot.reset_index()"
   ]
  },
  {
   "cell_type": "code",
   "execution_count": null,
   "id": "dba333aa",
   "metadata": {
    "hidden": true
   },
   "outputs": [],
   "source": []
  },
  {
   "cell_type": "code",
   "execution_count": null,
   "id": "1d995a3e",
   "metadata": {
    "hidden": true
   },
   "outputs": [],
   "source": [
    "dfs = []\n",
    "for env in ['stable','random']:\n",
    "    df_ = df_b2b_plot.query('env == @env').copy()#.reset_index(drop=True)\n",
    "    df_ = df_.drop(columns=['level_0','index','env','trial_group_col_calc'])\n",
    "    \n",
    "    for col in cols_  :\n",
    "        if col not in df_:\n",
    "            continue\n",
    "        df_[col]= df_[col].astype('string')\n",
    "        \n",
    "    cols__ = list(set(cols_) - set(['trial_group_col_calc']) )\n",
    "    dfs += [df_.set_index(cols__) ]"
   ]
  },
  {
   "cell_type": "code",
   "execution_count": null,
   "id": "2a2c7af7",
   "metadata": {
    "hidden": true
   },
   "outputs": [],
   "source": [
    "df_dif = dfs[0]['vals_to_plot'] - dfs[1]['vals_to_plot']\n",
    "df_dif = df_dif.reset_index()"
   ]
  },
  {
   "cell_type": "code",
   "execution_count": null,
   "id": "63457cb2",
   "metadata": {
    "hidden": true
   },
   "outputs": [],
   "source": [
    "#df_b2b_plot.columns"
   ]
  },
  {
   "cell_type": "code",
   "execution_count": null,
   "id": "a151de9b",
   "metadata": {
    "hidden": true
   },
   "outputs": [],
   "source": [
    "df_dif"
   ]
  },
  {
   "cell_type": "code",
   "execution_count": null,
   "id": "83cefb61",
   "metadata": {
    "hidden": true
   },
   "outputs": [],
   "source": [
    "dfs[0].duplicated"
   ]
  },
  {
   "cell_type": "code",
   "execution_count": null,
   "id": "ba9fc980",
   "metadata": {
    "hidden": true
   },
   "outputs": [],
   "source": [
    "dfs['']"
   ]
  },
  {
   "cell_type": "code",
   "execution_count": null,
   "id": "8b00a9a9",
   "metadata": {
    "code_folding": [],
    "hidden": true
   },
   "outputs": [],
   "source": [
    "#path_fit_R = pjoin( os.path.expandvars('$HOME'), 'ownCloud', 'Current' ,'_share_Romain' ); path_fit_R"
   ]
  },
  {
   "cell_type": "code",
   "execution_count": null,
   "id": "fab905f9",
   "metadata": {
    "hidden": true
   },
   "outputs": [],
   "source": [
    "#df_b2b_plot['SLURM_job_id']"
   ]
  },
  {
   "cell_type": "code",
   "execution_count": null,
   "id": "f8485a4b",
   "metadata": {
    "hidden": true
   },
   "outputs": [],
   "source": [
    "dftmp['varname'].unique()"
   ]
  },
  {
   "cell_type": "code",
   "execution_count": null,
   "id": "26ba5297",
   "metadata": {
    "hidden": true
   },
   "outputs": [],
   "source": [
    "from scipy.stats import ttest_rel"
   ]
  },
  {
   "cell_type": "code",
   "execution_count": null,
   "id": "398900a3",
   "metadata": {
    "code_folding": [
     0
    ],
    "hidden": true
   },
   "outputs": [],
   "source": [
    "# calc t-tests\n",
    "#suff = 'trim0_dhittw1_s_scX0Y0_drall_dtall'\n",
    "#suff = 'CNhome_trim0_dhittw1_s_scX1Y1_drall_dtall'\n",
    "qs = ('varseti == 0 and '\n",
    " ' custom_suffix == @suff and tmin == \"-0.50\"')\n",
    "signif_only = 1\n",
    "for suff in suffixes_present:\n",
    "    print('----------- ' ,suff)\n",
    "    for ct in ['movement', 'feedback']:\n",
    "        for varname in ['prev_movement', 'prev_error', 'error', 'prev_belief',\n",
    "               'prev_feedback']:\n",
    "            vsd = {}\n",
    "            vsl = []\n",
    "            for env_cur in ['stable', 'random']:\n",
    "                qs2 = qs + ' and env == @env_cur and control_type == @ct and varname == @varname'\n",
    "                dftmp = df_b2b_plot.query(qs2)            \n",
    "                if len(dftmp) == 0:\n",
    "                    #print(f'zero len for {ct}: {varname}, skipping')\n",
    "                    continue\n",
    "                assert len(dftmp) == 20, len(dftmp)\n",
    "                vsd[env_cur] = dftmp['vals_to_plot'].values\n",
    "                vsl += [dftmp['vals_to_plot'].values]\n",
    "            if len(vsd) == 0:\n",
    "                continue\n",
    "            for env_cur in ['stable', 'random']:\n",
    "                tr = ttest_1samp( vsd[env_cur], 0, alternative='greater' )\n",
    "                s = ' '\n",
    "                if tr.pvalue < 0.05:\n",
    "                    s = '*'\n",
    "                if (tr.pvalue < 0.05) or (not signif_only):\n",
    "                    print(s + 'control={:8}, var={:14}, {}>0, pvalue={:.4f}'.format( ct, varname, env_cur, tr.pvalue) )\n",
    "            tr = ttest_rel(vsl[0],vsl[1], alternative='greater')\n",
    "            s = ' '\n",
    "            if tr.pvalue < 0.05:\n",
    "                s = '*'\n",
    "            if (tr.pvalue < 0.05) or (not signif_only):\n",
    "                print(s + 'control={:8}, var={:14}, stable>random pvalue={:.4f}'.format( ct, varname, tr.pvalue) )\n",
    "            print('')\n",
    "            "
   ]
  },
  {
   "cell_type": "code",
   "execution_count": null,
   "id": "88526f1b",
   "metadata": {
    "hidden": true
   },
   "outputs": [],
   "source": [
    "path_fig"
   ]
  },
  {
   "cell_type": "code",
   "execution_count": null,
   "id": "36580447",
   "metadata": {
    "hidden": true
   },
   "outputs": [],
   "source": [
    "df_b2b_plot['custom_suffix'].unique()"
   ]
  },
  {
   "cell_type": "code",
   "execution_count": null,
   "id": "e6af5ad6",
   "metadata": {
    "hidden": true
   },
   "outputs": [],
   "source": []
  },
  {
   "cell_type": "code",
   "execution_count": null,
   "id": "4e2356e9",
   "metadata": {
    "hidden": true
   },
   "outputs": [],
   "source": [
    "#suffixes_desired = ['CNhome_trim0_dhittw1_s_scX0Y0c0_drall_dtall_broad']"
   ]
  },
  {
   "cell_type": "code",
   "execution_count": null,
   "id": "c40c8cff",
   "metadata": {
    "hidden": true
   },
   "outputs": [],
   "source": [
    "suffixes_desired = suffixes_present"
   ]
  },
  {
   "cell_type": "code",
   "execution_count": null,
   "id": "949ac20c",
   "metadata": {
    "hidden": true
   },
   "outputs": [],
   "source": [
    "suffixes_present"
   ]
  },
  {
   "cell_type": "code",
   "execution_count": null,
   "id": "e962226d",
   "metadata": {
    "hidden": true
   },
   "outputs": [],
   "source": [
    "ttest_1samp?"
   ]
  },
  {
   "cell_type": "code",
   "execution_count": null,
   "id": "e395ff8a",
   "metadata": {
    "hidden": true
   },
   "outputs": [],
   "source": [
    "df_dif.columns"
   ]
  },
  {
   "cell_type": "code",
   "execution_count": null,
   "id": "c8b6ffa2",
   "metadata": {
    "hidden": true
   },
   "outputs": [],
   "source": [
    "vns = [\"error_pred_Herz\", \"error_pred_Tan\"]\n",
    "dfs = []\n",
    "for vn in vns:\n",
    "    df_ = df_dif.query('varname in @vn').set_index(['control_type', 'subject', 'tmin', 'dec_type', 'varseti',\n",
    "       'custom_suffix', 'rt', 'freq_name', 'time_locked'])\n",
    "    dfs+=[df_]\n",
    "    print( len(df_) )\n",
    "    \n",
    "dfdifdif_TH = dfs[0]['vals_to_plot'] - dfs[1]['vals_to_plot']\n",
    "dfdifdif_TH = dfdifdif_TH.to_frame().reset_index()\n",
    "for alt in ['two-sided','greater','less']:\n",
    "    print(alt)\n",
    "    def f(dftmp):\n",
    "        vs = dftmp['vals_to_plot']\n",
    "        vs = vs[~np.isnan(vs)]\n",
    "        r = ttest_1samp(vs,0,alternative=alt)\n",
    "        return r.pvalue\n",
    "    dfr =  dfdifdif_TH.groupby(['control_type','time_locked','freq_name']).apply(f)\n",
    "    display(dfr)"
   ]
  },
  {
   "cell_type": "code",
   "execution_count": null,
   "id": "2fd29d96",
   "metadata": {
    "hidden": true
   },
   "outputs": [],
   "source": [
    "assert not dfs[0].duplicated().any()\n",
    "assert not dfs[1].duplicated().any()"
   ]
  },
  {
   "cell_type": "code",
   "execution_count": null,
   "id": "163d58d7",
   "metadata": {
    "hidden": true
   },
   "outputs": [],
   "source": [
    "vns = [\"err_sens_Herz\", \"err_sens_Tan\"]\n",
    "dfs = []\n",
    "for vn in vns:\n",
    "    df_ = df_dif.query('varname in @vn').set_index(['control_type', 'subject', 'tmin', 'dec_type', 'varseti',\n",
    "       'custom_suffix', 'rt', 'freq_name', 'time_locked'])\n",
    "    dfs+=[df_]\n",
    "    print( len(df_) )\n",
    "dfdifdif_TH = dfs[0]['vals_to_plot'] - dfs[1]['vals_to_plot']\n",
    "dfdifdif_TH = dfdifdif_TH.to_frame().reset_index()\n",
    "def f(dftmp):\n",
    "    vs = dftmp['vals_to_plot']\n",
    "    vs = vs[~np.isnan(vs)]\n",
    "    r = ttest_1samp(vs,0,alternative='two-sided')\n",
    "    return r.pvalue\n",
    "dfdifdif_TH.groupby(['control_type','time_locked','freq_name']).apply(f)"
   ]
  },
  {
   "cell_type": "code",
   "execution_count": null,
   "id": "6ed90247",
   "metadata": {
    "hidden": true
   },
   "outputs": [],
   "source": []
  },
  {
   "cell_type": "code",
   "execution_count": null,
   "id": "47358bf0",
   "metadata": {
    "hidden": true
   },
   "outputs": [],
   "source": [
    "def f(dftmp):\n",
    "    vs = dftmp['vals_to_plot'].values\n",
    "    vs = vs[~np.isnan(vs)]\n",
    "    r = ttest_1samp(vs,0,alternative='greater')\n",
    "    return r.pvalue\n",
    "dfsig = df_dif.groupby(['varname','control_type','time_locked','freq_name']).apply(f).to_frame()\n",
    "#dfsig[dfsig]\n",
    "dfsig[dfsig[0] < 0.05]"
   ]
  },
  {
   "cell_type": "code",
   "execution_count": null,
   "id": "8f1650d0",
   "metadata": {
    "hidden": true
   },
   "outputs": [],
   "source": [
    "vn2pub = dict(zip(['error_pred_Herz', 'error_pred_Tan', 'error_pred_Died'],\n",
    "                  ['Herzfeld', 'Tan', 'Diedrichsen']))"
   ]
  },
  {
   "cell_type": "code",
   "execution_count": null,
   "id": "728f0842",
   "metadata": {
    "hidden": true
   },
   "outputs": [],
   "source": [
    "tls[0].get_text()"
   ]
  },
  {
   "cell_type": "code",
   "execution_count": null,
   "id": "88277ba3",
   "metadata": {
    "hidden": true
   },
   "outputs": [],
   "source": [
    "# classic\n",
    "varns = ['error_pred_Herz', 'error_pred_Tan', 'error_pred_Died']\n",
    "sns.set(font_scale=2.1)\n",
    "import seaborn as sns\n",
    "#for suff in suffixes_desired:\n",
    "pargs = dict(kind='box',               \n",
    "           y = 'varname', x = 'vals_to_plot', row='freq_name',\n",
    "              sharey='none',aspect=1.9)\n",
    "fg = sns.catplot(data=df_dif.query(\n",
    "    'tmin == \"-0.50\" and varname in @varns'\n",
    "    ' and control_type == \"feedback\"'), \n",
    "                 **pargs)\n",
    "for ax in fg.axes.flatten():\n",
    "    #ax.axhline(y=0, c='r', ls=':')\n",
    "    ax.set_xticklabels(ax.get_xticklabels())#, rotation=90)\n",
    "    tls = ax.get_yticklabels()\n",
    "    ax.set_yticklabels([ vn2pub[tl.get_text()] for tl in ax.get_yticklabels()] )#, rotation=90)\n",
    "    ax.grid(True)\n",
    "    ax.set_xlabel('decoding score stable - decoding score random')\n",
    "    ax.set_ylabel('')\n",
    "    ax.axvline(0,c='red',ls=':')\n",
    "\n",
    "#sns.move_legend(fg, loc='upper right')\n",
    "plt.suptitle(suff)\n",
    "plt.tight_layout()    \n",
    "plt.savefig( pjoin(path_fig, f'classic_diff_homeModelES.pdf'))"
   ]
  },
  {
   "cell_type": "code",
   "execution_count": null,
   "id": "b1f62260",
   "metadata": {
    "hidden": true
   },
   "outputs": [],
   "source": [
    "#15:02"
   ]
  },
  {
   "cell_type": "code",
   "execution_count": null,
   "id": "26a59283",
   "metadata": {
    "hidden": true
   },
   "outputs": [],
   "source": [
    "# classic\n",
    "sns.set(font_scale=1.1)\n",
    "import seaborn as sns\n",
    "for suff in suffixes_desired:\n",
    "    \n",
    "    pargs = dict(kind='box',  col='control_type',  \n",
    "                 #row='varseti',\n",
    "               x = 'varname', y = 'vals_to_plot',   hue='env',\n",
    "                 palette=['orange', 'grey'] , sharey='none',\n",
    "                 hue_order=['stable','random'],\n",
    "                row='time_locked')\n",
    "    fg = sns.catplot(data=df_b2b_plot.query(\n",
    "        'custom_suffix == @suff and tmin == \"-0.50\"'), \n",
    "                     **pargs)\n",
    "    for ax in fg.axes.flatten():\n",
    "        ax.axhline(y=0, c='r', ls=':')\n",
    "        ax.set_xticklabels(ax.get_xticklabels(), rotation=90)\n",
    "        ax.grid(True)\n",
    "\n",
    "    sns.move_legend(fg, loc='upper right')\n",
    "    plt.suptitle(suff)\n",
    "    plt.tight_layout()    \n",
    "    plt.savefig( pjoin(path_fig, f'classic_homeModelES_{suff}.pdf'))"
   ]
  },
  {
   "cell_type": "code",
   "execution_count": null,
   "id": "15aa639c",
   "metadata": {
    "hidden": true
   },
   "outputs": [],
   "source": [
    "sns.set(font_scale=1.1)\n",
    "import seaborn as sns\n",
    "for suff in suffixes_desired:\n",
    "    \n",
    "    pargs = dict(kind='box',  col='control_type',  \n",
    "                 #row='varseti',\n",
    "               x = 'varname', y = 'vals_to_plot',   hue='env',\n",
    "                 palette=['orange', 'grey'] , sharey='none',\n",
    "                row='time_locked')\n",
    "    fg = sns.catplot(data=df_b2b_plot.query(\n",
    "        'varseti == 0 and custom_suffix == @suff and tmin == \"-0.50\"'), \n",
    "                     **pargs)\n",
    "    for ax in fg.axes.flatten():\n",
    "        ax.axhline(y=0, c='r', ls=':')\n",
    "        ax.set_xticklabels(ax.get_xticklabels(), rotation=45)\n",
    "        ax.grid(True)\n",
    "\n",
    "    sns.move_legend(fg, loc='upper right')\n",
    "    plt.suptitle(suff)\n",
    "    plt.tight_layout()    \n",
    "    plt.savefig( pjoin(path_fig, f'b2b_home_basic_vars_{suff}.pdf'))\n",
    "\n",
    "    fg = sns.catplot(data=df_b2b_plot.query('varseti == 1 and custom_suffix == @suff and tmin == \"-0.50\"'),\n",
    "                     **pargs)\n",
    "    for ax in fg.axes.flatten():\n",
    "        ax.axhline(y=0, c='r', ls=':')\n",
    "        ax.set_xticklabels(ax.get_xticklabels(), rotation=45)\n",
    "        ax.grid(True)\n",
    "\n",
    "    sns.move_legend(fg, loc='upper right')\n",
    "    plt.suptitle(suff)\n",
    "    plt.tight_layout()\n",
    "\n",
    "    plt.savefig( pjoin(path_fig, f'b2b_home_ES_{suff}.pdf'))"
   ]
  },
  {
   "cell_type": "code",
   "execution_count": null,
   "id": "b0949482",
   "metadata": {
    "hidden": true
   },
   "outputs": [],
   "source": [
    "#ct = \"movement\"\n",
    "#env_cur = 'stable'\n",
    "dfc_cl = dfc.query('dec_type == \"classic\" and tmin == \"-0.50\"')\n",
    "dfc_cl = dfc_cl.copy()\n",
    "print(len(dfc_cl))\n",
    "fg = sns.catplot(data=dfc_cl, kind='boxen', x='control_type',\n",
    "           y = 'prev_error_scores_mean_over_folds', \n",
    "                  hue='env')\n",
    "for ax in fg.axes.flatten():\n",
    "    ax.axhline(y=0, c='r', ls=':')\n",
    "    \n",
    "plt.suptitle('prev_error')\n",
    "plt.savefig( pjoin(path_fig, 'classic_home_prev_error.pdf'))"
   ]
  },
  {
   "cell_type": "markdown",
   "id": "e440c5c8",
   "metadata": {
    "hidden": true
   },
   "source": [
    "### debug"
   ]
  },
  {
   "cell_type": "code",
   "execution_count": null,
   "id": "ea70c9b7",
   "metadata": {
    "hidden": true
   },
   "outputs": [],
   "source": [
    "sub_df.reset_index()\n",
    "print(len(sub_df))\n",
    "sub_df"
   ]
  },
  {
   "cell_type": "code",
   "execution_count": null,
   "id": "2a35336b",
   "metadata": {
    "hidden": true
   },
   "outputs": [],
   "source": []
  },
  {
   "cell_type": "code",
   "execution_count": null,
   "id": "a020281a",
   "metadata": {
    "hidden": true
   },
   "outputs": [],
   "source": [
    "list( sub_df['fn'] ) "
   ]
  },
  {
   "cell_type": "code",
   "execution_count": null,
   "id": "a1ecddac",
   "metadata": {
    "hidden": true
   },
   "outputs": [],
   "source": [
    "times, fns, pars = list( zip(*srt) )\n",
    "from datetime import datetime\n",
    "days = [ datetime.fromtimestamp(t).day for t in times]\n",
    "sum( np.array(days) < 20)"
   ]
  },
  {
   "cell_type": "code",
   "execution_count": null,
   "id": "2fa72773",
   "metadata": {
    "hidden": true
   },
   "outputs": [],
   "source": []
  },
  {
   "cell_type": "code",
   "execution_count": null,
   "id": "e68fa2ae",
   "metadata": {
    "hidden": true
   },
   "outputs": [],
   "source": [
    "\n",
    "#r = re.match( r'(stable|random)_(Ridge|xgboost)_(feedback|movement)_(.*)_([a-z])_t=(.*)\\.npz', fns[0])\n",
    "#r = re.match( r'(stable|random)_(Ridge|xgboost)_(feedback|target)_(.*)_([a-z]).*\\.npz', fns[0])\n",
    "r = re.match( r'(stable|random)_(Ridge|xgboost)_(feedback|target)_(.*)_(' +freqstr+ ')_t=(.*)\\.npz', fns[0])\n",
    "print(r )\n",
    "grps = r.groups(); print(grps)\n",
    "env,rt,tgt,analysis_name,freq_name,tminmax = grps"
   ]
  },
  {
   "cell_type": "code",
   "execution_count": null,
   "id": "99edc272",
   "metadata": {
    "hidden": true
   },
   "outputs": [],
   "source": [
    "len(days)"
   ]
  },
  {
   "cell_type": "code",
   "execution_count": null,
   "id": "865028d9",
   "metadata": {
    "hidden": true
   },
   "outputs": [],
   "source": [
    "fn_full"
   ]
  },
  {
   "cell_type": "code",
   "execution_count": null,
   "id": "4ae9bac0",
   "metadata": {
    "hidden": true
   },
   "outputs": [],
   "source": [
    "shutil."
   ]
  },
  {
   "cell_type": "code",
   "execution_count": null,
   "id": "68903cb9",
   "metadata": {
    "hidden": true
   },
   "outputs": [],
   "source": [
    "# fns[0]\n",
    "# fn_full = op.join(dir_full,fns[0])\n",
    "# import shutil\n",
    "# os.remove(fn_full)"
   ]
  },
  {
   "cell_type": "code",
   "execution_count": null,
   "id": "544479af",
   "metadata": {
    "hidden": true
   },
   "outputs": [],
   "source": [
    "fn_full"
   ]
  },
  {
   "cell_type": "code",
   "execution_count": null,
   "id": "c632f895",
   "metadata": {
    "hidden": true
   },
   "outputs": [],
   "source": []
  },
  {
   "cell_type": "code",
   "execution_count": null,
   "id": "46c2aa07",
   "metadata": {
    "hidden": true
   },
   "outputs": [],
   "source": [
    "shift"
   ]
  },
  {
   "cell_type": "code",
   "execution_count": null,
   "id": "a875e459",
   "metadata": {
    "hidden": true
   },
   "outputs": [],
   "source": [
    "np.all( np.diff(times) > 0)"
   ]
  },
  {
   "cell_type": "code",
   "execution_count": null,
   "id": "0dce2842",
   "metadata": {
    "hidden": true
   },
   "outputs": [],
   "source": []
  },
  {
   "cell_type": "code",
   "execution_count": null,
   "id": "0ac7df49",
   "metadata": {
    "hidden": true
   },
   "outputs": [],
   "source": []
  },
  {
   "cell_type": "code",
   "execution_count": null,
   "id": "2bc619b0",
   "metadata": {
    "hidden": true
   },
   "outputs": [],
   "source": [
    "d = datetime.fromtimestamp(times[0])"
   ]
  },
  {
   "cell_type": "code",
   "execution_count": null,
   "id": "4b00f507",
   "metadata": {
    "hidden": true
   },
   "outputs": [],
   "source": [
    "newver = [ 'slide_windows_type' in par_cur for par_cur in pars]"
   ]
  },
  {
   "cell_type": "code",
   "execution_count": null,
   "id": "9926250b",
   "metadata": {
    "hidden": true
   },
   "outputs": [],
   "source": [
    "len(pars) - sum( newver )"
   ]
  },
  {
   "cell_type": "code",
   "execution_count": null,
   "id": "2fd906b1",
   "metadata": {
    "hidden": true
   },
   "outputs": [],
   "source": []
  },
  {
   "cell_type": "code",
   "execution_count": null,
   "id": "7aa97985",
   "metadata": {
    "hidden": true
   },
   "outputs": [],
   "source": []
  },
  {
   "cell_type": "code",
   "execution_count": null,
   "id": "3d427765",
   "metadata": {
    "hidden": true
   },
   "outputs": [],
   "source": [
    "import matplotlib.pyplot as plt\n",
    "COLOR = 'white'\n",
    "mpl.rcParams['text.color'] = COLOR\n",
    "mpl.rcParams['axes.labelcolor'] = COLOR\n",
    "mpl.rcParams['xtick.color'] = COLOR\n",
    "mpl.rcParams['ytick.color'] = COLOR\n",
    "\n",
    "plt.hist(days)"
   ]
  },
  {
   "cell_type": "code",
   "execution_count": null,
   "id": "7f554d6d",
   "metadata": {
    "hidden": true
   },
   "outputs": [],
   "source": [
    "len(srt)"
   ]
  },
  {
   "cell_type": "code",
   "execution_count": null,
   "id": "ca45c23a",
   "metadata": {
    "hidden": true
   },
   "outputs": [],
   "source": []
  },
  {
   "cell_type": "code",
   "execution_count": null,
   "id": "b33f70ef",
   "metadata": {
    "hidden": true
   },
   "outputs": [],
   "source": [
    "list ( f.keys() )"
   ]
  },
  {
   "cell_type": "code",
   "execution_count": null,
   "id": "73970351",
   "metadata": {
    "hidden": true
   },
   "outputs": [],
   "source": []
  },
  {
   "cell_type": "code",
   "execution_count": null,
   "id": "07f3f0d1",
   "metadata": {
    "hidden": true
   },
   "outputs": [],
   "source": [
    "f['par'][()]"
   ]
  },
  {
   "cell_type": "code",
   "execution_count": null,
   "id": "ec27283c",
   "metadata": {
    "hidden": true
   },
   "outputs": [],
   "source": [
    "biotec falls,\n",
    "new datacenter companies fall"
   ]
  },
  {
   "cell_type": "code",
   "execution_count": null,
   "id": "350f1fe0",
   "metadata": {
    "hidden": true
   },
   "outputs": [],
   "source": [
    "hpass"
   ]
  },
  {
   "cell_type": "code",
   "execution_count": null,
   "id": "9e9c9593",
   "metadata": {
    "hidden": true
   },
   "outputs": [],
   "source": []
  },
  {
   "cell_type": "code",
   "execution_count": null,
   "id": "76400166",
   "metadata": {
    "hidden": true
   },
   "outputs": [],
   "source": [
    "len(  env2all_scores[env] )"
   ]
  },
  {
   "cell_type": "code",
   "execution_count": null,
   "id": "8d4e5dfe",
   "metadata": {
    "hidden": true
   },
   "outputs": [],
   "source": [
    "# (4, 20, 321) in orig;    so  vars x subj x times"
   ]
  },
  {
   "cell_type": "code",
   "execution_count": null,
   "id": "a206cbb0",
   "metadata": {
    "hidden": true
   },
   "outputs": [],
   "source": [
    "len(scores_cur_env_cur_subj)"
   ]
  },
  {
   "cell_type": "code",
   "execution_count": null,
   "id": "74eb82d6",
   "metadata": {
    "hidden": true
   },
   "outputs": [],
   "source": [
    "scs[1,...].shape"
   ]
  },
  {
   "cell_type": "code",
   "execution_count": null,
   "id": "cd113c5b",
   "metadata": {
    "hidden": true
   },
   "outputs": [],
   "source": [
    "scs.transpose( (2,0,1)).shape"
   ]
  },
  {
   "cell_type": "code",
   "execution_count": null,
   "id": "2e1fe830",
   "metadata": {
    "hidden": true
   },
   "outputs": [],
   "source": [
    "scs.shape"
   ]
  },
  {
   "cell_type": "code",
   "execution_count": null,
   "id": "6d077b9c",
   "metadata": {
    "hidden": true
   },
   "outputs": [],
   "source": [
    "from mne.stats import permutation_cluster_1samp_test\n",
    "help(permutation_cluster_1samp_test)"
   ]
  },
  {
   "cell_type": "code",
   "execution_count": null,
   "id": "bcdb6908",
   "metadata": {
    "hidden": true
   },
   "outputs": [],
   "source": [
    "len(tminmaxs)"
   ]
  },
  {
   "cell_type": "code",
   "execution_count": null,
   "id": "e656dbb1",
   "metadata": {
    "hidden": true
   },
   "outputs": [],
   "source": [
    "env2all_scores[env].shape"
   ]
  },
  {
   "cell_type": "code",
   "execution_count": null,
   "id": "070fe417",
   "metadata": {
    "hidden": true
   },
   "outputs": [],
   "source": [
    "print( len(subjects), len(tmins), scs.shape )"
   ]
  },
  {
   "cell_type": "code",
   "execution_count": null,
   "id": "439caad6",
   "metadata": {
    "hidden": true
   },
   "outputs": [],
   "source": [
    "len(env2all_scores['stable'])"
   ]
  },
  {
   "cell_type": "code",
   "execution_count": null,
   "id": "75b164c3",
   "metadata": {
    "hidden": true
   },
   "outputs": [],
   "source": [
    "len(env2all_scores['random'])"
   ]
  },
  {
   "cell_type": "code",
   "execution_count": null,
   "id": "46925912",
   "metadata": {
    "hidden": true
   },
   "outputs": [],
   "source": [
    "scs.shape"
   ]
  },
  {
   "cell_type": "code",
   "execution_count": null,
   "id": "0d1c5605",
   "metadata": {
    "hidden": true
   },
   "outputs": [],
   "source": [
    "len(tmins)"
   ]
  },
  {
   "cell_type": "code",
   "execution_count": null,
   "id": "91c88390",
   "metadata": {
    "hidden": true
   },
   "outputs": [],
   "source": [
    "env2all_scores"
   ]
  },
  {
   "cell_type": "code",
   "execution_count": null,
   "id": "987fa2f8",
   "metadata": {
    "hidden": true
   },
   "outputs": [],
   "source": [
    "dd"
   ]
  },
  {
   "cell_type": "code",
   "execution_count": null,
   "id": "e24496a7",
   "metadata": {
    "hidden": true
   },
   "outputs": [],
   "source": [
    "os.listdir('/p/project/icei-hbp-2020-0012/lyon/memerr/data2/sub20_YOGCJKKB/results')"
   ]
  },
  {
   "cell_type": "code",
   "execution_count": null,
   "id": "39b49ba4",
   "metadata": {
    "hidden": true
   },
   "outputs": [],
   "source": [
    "os.listdir(results_folder)"
   ]
  },
  {
   "cell_type": "code",
   "execution_count": null,
   "id": "840b764b",
   "metadata": {
    "hidden": true
   },
   "outputs": [],
   "source": []
  },
  {
   "cell_type": "code",
   "execution_count": null,
   "id": "6327ba6e",
   "metadata": {
    "hidden": true
   },
   "outputs": [],
   "source": [
    "import sys\n",
    "#for subject in subjects:\n",
    "#for subject in subjects[:1]:\n",
    "control_type = 'target'  # 'movement', 'feedback', 'target' or 'belief'\n",
    "control_type = 'movement'  # 'movement', 'feedback', 'target' or 'belief'\n",
    "script_name = pjoin(scripts_dir,'td_long_fig2.py')\n",
    "for hpass in ['no_filter','0.1','0.05']:\n",
    "    for regression_type in ['Ridge', 'xgboost']:    \n",
    "        ipy.run_line_magic('run', f'-i {script_name}')\n",
    "        #sys.exit(1)\n",
    "        #print('saved_successfully =', saved_successfully)"
   ]
  },
  {
   "cell_type": "code",
   "execution_count": null,
   "id": "09f5badf",
   "metadata": {
    "hidden": true
   },
   "outputs": [],
   "source": []
  },
  {
   "cell_type": "code",
   "execution_count": null,
   "id": "3c9f0392",
   "metadata": {
    "hidden": true
   },
   "outputs": [],
   "source": [
    "import sys\n",
    "#for subject in subjects:\n",
    "#for subject in subjects[:1]:\n",
    "control_type = 'target'  # 'movement', 'feedback', 'target' or 'belief'\n",
    "control_type = 'movement'  # 'movement', 'feedback', 'target' or 'belief'\n",
    "script_name = pjoin(scripts_dir,'td_baselined_final_fig2.py')\n",
    "for hpass in ['no_filter','0.1','0.05']:\n",
    "    for regression_type in ['Ridge', 'xgboost']:    \n",
    "        ipy.run_line_magic('run', f'-i {script_name}')\n",
    "        sys.exit(1)\n",
    "        #print('saved_successfully =', saved_successfully)"
   ]
  },
  {
   "cell_type": "code",
   "execution_count": null,
   "id": "e62a845f",
   "metadata": {
    "hidden": true
   },
   "outputs": [],
   "source": [
    "path_data"
   ]
  },
  {
   "cell_type": "code",
   "execution_count": null,
   "id": "a6cc7d28",
   "metadata": {
    "hidden": true
   },
   "outputs": [],
   "source": []
  },
  {
   "cell_type": "code",
   "execution_count": null,
   "id": "e157cdc6",
   "metadata": {
    "hidden": true
   },
   "outputs": [],
   "source": []
  },
  {
   "cell_type": "code",
   "execution_count": null,
   "id": "50a05e23",
   "metadata": {
    "hidden": true
   },
   "outputs": [],
   "source": []
  },
  {
   "cell_type": "code",
   "execution_count": null,
   "id": "7d6b0c02",
   "metadata": {
    "hidden": true,
    "run_control": {
     "marked": true
    }
   },
   "outputs": [],
   "source": [
    "import gc; gc.collect()"
   ]
  },
  {
   "cell_type": "code",
   "execution_count": null,
   "id": "63e46125",
   "metadata": {
    "hidden": true
   },
   "outputs": [],
   "source": [
    "fnames_missing"
   ]
  },
  {
   "cell_type": "code",
   "execution_count": null,
   "id": "a78454e2",
   "metadata": {
    "hidden": true
   },
   "outputs": [],
   "source": [
    "fn = '/home/demitau/data_Quentin/full_experiments/data2/sub01_WGPOZPEE/results/spoc_home2_0.05/stable_xgboost_scores_prevmovement_preverrors_errors_prevbelief_gamma.npy'\n",
    "f = np.load(fn)"
   ]
  },
  {
   "cell_type": "code",
   "execution_count": null,
   "id": "7e5f2091",
   "metadata": {
    "hidden": true
   },
   "outputs": [],
   "source": [
    "'sub01_WGPOZPEE spoc_home2_0.05 stable_xgboost_scores_prevmovement_preverrors_errors_prevbelief_gamma.npy',"
   ]
  },
  {
   "cell_type": "code",
   "execution_count": null,
   "id": "44fa82b0",
   "metadata": {
    "hidden": true,
    "run_control": {
     "marked": true
    }
   },
   "outputs": [],
   "source": [
    "f"
   ]
  },
  {
   "cell_type": "code",
   "execution_count": null,
   "id": "eedc2513",
   "metadata": {
    "hidden": true
   },
   "outputs": [],
   "source": [
    "fnames_zero_size"
   ]
  },
  {
   "cell_type": "code",
   "execution_count": null,
   "id": "692e3226",
   "metadata": {
    "hidden": true
   },
   "outputs": [],
   "source": [
    "fname_full"
   ]
  },
  {
   "cell_type": "code",
   "execution_count": null,
   "id": "f4d769a2",
   "metadata": {
    "hidden": true
   },
   "outputs": [],
   "source": [
    "all_scores_stable"
   ]
  },
  {
   "cell_type": "code",
   "execution_count": null,
   "id": "20f09323",
   "metadata": {
    "hidden": true
   },
   "outputs": [],
   "source": [
    "#for subject in subjects:\n",
    "#for subject in subjects[:1]:\n",
    "script_name = pjoin(scripts_dir,'td_long_fig2.py')\n",
    "ipy.run_line_magic('run', f'-i {script_name}')"
   ]
  }
 ],
 "metadata": {
  "kernelspec": {
   "display_name": "merr_oldpandas",
   "language": "python",
   "name": "merr_oldpandas"
  },
  "language_info": {
   "codemirror_mode": {
    "name": "ipython",
    "version": 3
   },
   "file_extension": ".py",
   "mimetype": "text/x-python",
   "name": "python",
   "nbconvert_exporter": "python",
   "pygments_lexer": "ipython3",
   "version": "3.11.5"
  }
 },
 "nbformat": 4,
 "nbformat_minor": 5
}
