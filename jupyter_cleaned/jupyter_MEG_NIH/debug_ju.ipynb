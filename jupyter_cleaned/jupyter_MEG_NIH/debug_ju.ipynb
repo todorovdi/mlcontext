{
 "cells": [
  {
   "cell_type": "code",
   "execution_count": null,
   "id": "3361095d",
   "metadata": {},
   "outputs": [],
   "source": [
    "NN=5; st=0.4 #maxmult=1.2\n",
    "#thrs =  np.linspace(mestd/NN, mestd, NN); print(mestd, thrs)\n",
    "mults = st + (1-st) * np.arange(NN) / ( (NN - 1) )\n",
    "mults = [0] + list(mults)\n",
    "#thrs = mestd * mults\n",
    "mults#, thrs\n",
    "\n",
    "from behav_proc import truncateNIHDfFromErr\n",
    "df = truncateNIHDfFromErr(behav_df_full)"
   ]
  },
  {
   "cell_type": "code",
   "execution_count": null,
   "id": "b128a110",
   "metadata": {},
   "outputs": [],
   "source": [
    "192 * 4"
   ]
  },
  {
   "cell_type": "code",
   "execution_count": null,
   "id": "f12706e2",
   "metadata": {},
   "outputs": [],
   "source": [
    "behav_df_full.loc[behav_df_full['trialwb'] == 0, 'err_sens'] = np.inf"
   ]
  },
  {
   "cell_type": "code",
   "execution_count": null,
   "id": "d849af48",
   "metadata": {},
   "outputs": [],
   "source": [
    "behav_df_full.loc[behav_df_full['trialwb'] == 0, 'err_sens']"
   ]
  },
  {
   "cell_type": "code",
   "execution_count": null,
   "id": "1bfc6a21",
   "metadata": {},
   "outputs": [],
   "source": [
    "np.isinf(behav_df_full['err_sens']).sum(), np.isinf(df['err_sens']).sum(), np.isinf(df['err_sens_trunc']).sum()"
   ]
  },
  {
   "cell_type": "code",
   "execution_count": null,
   "id": "ea4b74e9",
   "metadata": {},
   "outputs": [],
   "source": [
    "behav_df_full['err_sens']"
   ]
  },
  {
   "cell_type": "code",
   "execution_count": null,
   "id": "9577e03b",
   "metadata": {},
   "outputs": [],
   "source": [
    "#%debug\n",
    "%load_ext autoreload\n",
    "%autoreload 2\n",
    "\n",
    "from os.path import join as pjoin\n",
    "\n",
    "import os,sys; sys.path.append(os.path.expandvars('$CODE_MEMORY_ERRORS'))\n",
    "from IPython import get_ipython; ipython = get_ipython()\n",
    "#%run -i ../exec_HPC.py 0"
   ]
  },
  {
   "cell_type": "code",
   "execution_count": null,
   "id": "5fc00ea7",
   "metadata": {},
   "outputs": [],
   "source": [
    "%env CODE_MEMORY_ERRORS"
   ]
  },
  {
   "cell_type": "code",
   "execution_count": null,
   "id": "17ba099f",
   "metadata": {},
   "outputs": [],
   "source": [
    "p = os.path.expandvars('$CODE_MEMORY_ERRORS')\n",
    "runstrings = open( pjoin(p,\\\n",
    "                         '_runstrings.txt'),'r').readlines()\n",
    "\n",
    "print( len( set(runstrings) ), len(runstrings) )"
   ]
  },
  {
   "cell_type": "code",
   "execution_count": null,
   "id": "aec0ff95",
   "metadata": {},
   "outputs": [],
   "source": [
    "istr = 0\n",
    "rs = runstrings[istr]\n",
    "if rs.startswith('ipython'):\n",
    "    pstr = ' '.join( rs.split(' ')[5:] )[:-1]\n",
    "    runf = rs.split(' ')[2]\n",
    "    rsmod = runf + ' ' + pstr \n",
    "    print( 'rsmod =', rsmod )\n",
    "else:\n",
    "    pstr = ' '.join( rs.split(' ')[1:] )[:-1] # rem \\n in the end\n",
    "    runf = ''\n",
    "    #runf = rs.split(' ')[2]00\n",
    "print(f'rs {istr} =      ' ,pstr)\n",
    "\n",
    "pstr0 = pstr"
   ]
  },
  {
   "cell_type": "code",
   "execution_count": null,
   "id": "ba529acd",
   "metadata": {},
   "outputs": [],
   "source": [
    "import gc; gc.collect()\n",
    "#ipython.magic()\n",
    "#%debug\n",
    "#mstr0 = '%run -i ' + rsmod\n",
    "#ipython.magic(mstr0)\n",
    "deh = 'raise'\n",
    "ipython.run_line_magic('run',' -i ' + runf + ' ' + pstr + \\\n",
    "    ' --use_preloaded_flt_raw 0 --do_b2b_dec 1 '\n",
    "    ' --do_classic_dec 0  --nb_fold 2'\n",
    "    ' --n_splits_B2B 5 --n_jobs 2 --recalc_err_sens 0'\n",
    "    f' --dec_error_handling {deh}')#' --regression_type Ridge_noCV')\n",
    "                       #--scale_Y_robust 2')\n",
    "    # --exit_after enforce_consist"
   ]
  },
  {
   "cell_type": "code",
   "execution_count": null,
   "id": "55bfe54f",
   "metadata": {},
   "outputs": [],
   "source": [
    "len( epochs.info['ch_names'] ),len( epochs_curenv.info['ch_names'] ), X.shape"
   ]
  },
  {
   "cell_type": "code",
   "execution_count": null,
   "id": "ff9d8611",
   "metadata": {},
   "outputs": [],
   "source": [
    "gc.collect()"
   ]
  },
  {
   "cell_type": "code",
   "execution_count": null,
   "id": "fb86e4e4",
   "metadata": {},
   "outputs": [],
   "source": [
    "set(vars_to_decode_b2b_tmp )  - set(behav_df_cur.columns) "
   ]
  },
  {
   "cell_type": "code",
   "execution_count": null,
   "id": "baa9355d",
   "metadata": {},
   "outputs": [],
   "source": [
    "behav_df_full.groupby('subject').size()"
   ]
  },
  {
   "cell_type": "code",
   "execution_count": null,
   "id": "dc8076a6",
   "metadata": {},
   "outputs": [],
   "source": [
    "# line 1259 of /p/project/icei-hbp-2022-0017/mambaforge/envs/merr/lib/python3.10/site-packages/mne/cov.py"
   ]
  },
  {
   "cell_type": "code",
   "execution_count": null,
   "id": "4c3518c4",
   "metadata": {},
   "outputs": [],
   "source": [
    "#--n_channels_to_use 3"
   ]
  },
  {
   "cell_type": "code",
   "execution_count": null,
   "id": "cb3dbe79",
   "metadata": {},
   "outputs": [],
   "source": [
    "gc.collect()"
   ]
  },
  {
   "cell_type": "code",
   "execution_count": null,
   "id": "6cb064e6",
   "metadata": {},
   "outputs": [],
   "source": [
    "# tmin,tmax = -14.88,-14.42\n",
    "# wstr = '--slide_window_shift 0.232 --slide_windows_type auto'\n",
    "# wstr2 = f'--slide_windows_type explicit --tmin {tmin} --tmax {tmax} '\n",
    "#  #--env_to_run stable,random\n",
    "#     # --env_to_run stable\n",
    "# pstr = pstr0.replace(wstr,wstr2)\n",
    "# pstr = pstr.replace('--regression_type Ridge','--regression_type Ridge_noCV')\n",
    "# pstr"
   ]
  },
  {
   "cell_type": "code",
   "execution_count": null,
   "id": "6ce32b0b",
   "metadata": {},
   "outputs": [],
   "source": [
    "par['recalc_err_sens']"
   ]
  },
  {
   "cell_type": "code",
   "execution_count": null,
   "id": "83b4c5cf",
   "metadata": {},
   "outputs": [],
   "source": [
    "import gc; gc.collect()\n",
    "#ipython.magic()\n",
    "#%debug\n",
    "#mstr0 = '%run -i ' + rsmod\n",
    "#ipython.magic(mstr0)\n",
    "deh = 'raise'\n",
    "ipython.run_line_magic('run',' -i ' + runf + ' ' + pstr + \\\n",
    "    ' --use_preloaded_flt_raw 1 --do_b2b_dec 1 '\n",
    "    ' --do_classic_dec 1 --nskip_trial 8 --nb_fold 2'\n",
    "    ' --n_channels_to_use 3 --n_splits_B2B 5 --n_jobs 1 --recalc_err_sens 0'\n",
    "    f' --dec_error_handling {deh}')#' --regression_type Ridge_noCV')\n",
    "                       #--scale_Y_robust 2')\n",
    "    # --exit_after enforce_consist"
   ]
  },
  {
   "cell_type": "code",
   "execution_count": null,
   "id": "f22e0b46",
   "metadata": {},
   "outputs": [],
   "source": [
    "behav_df_cur['prev_mo']"
   ]
  },
  {
   "cell_type": "code",
   "execution_count": null,
   "id": "f61dd3c6",
   "metadata": {},
   "outputs": [],
   "source": [
    "vars_to_decode_b2b_tmp"
   ]
  },
  {
   "cell_type": "code",
   "execution_count": null,
   "id": "233800cb",
   "metadata": {
    "code_folding": [
     7
    ]
   },
   "outputs": [],
   "source": [
    "import traceback\n",
    "try:\n",
    "    ipython.run_line_magic('run',' -i ' + runf + ' ' + pstr + \\\n",
    "    ' --use_preloaded_flt_raw 1 --do_b2b_dec 1 '\n",
    "    ' --do_classic_dec 1 --nskip_trial 8 --nb_fold 2'\n",
    "    ' --n_channels_to_use 3 --n_splits_B2B 5 --n_jobs 1'\n",
    "    f' --dec_error_handling {deh}')\n",
    "except Exception as e:\n",
    "    print('EXC',e)\n",
    "    exc_info = sys.exc_info()\n",
    "    exc = traceback.TracebackException(*exc_info, capture_locals=True)\n",
    "    ei = exc_info[2]    \n",
    "    #display(ei.tb_frame)\n",
    "    psf = ei\n",
    "\n",
    "    lfprev = None; lf = None\n",
    "    lfs = []\n",
    "    di = 0\n",
    "    while psf.tb_frame is not None:\n",
    "        stackframe = psf.tb_frame        \n",
    "\n",
    "        psf = psf.tb_next  \n",
    "        cfn = stackframe.f_code.co_filename\n",
    "        if ('conda' not in cfn) and\\\n",
    "            ('mamba' not in cfn):        \n",
    "            display(di, stackframe)\n",
    "            lfprev = lf\n",
    "            lf = stackframe.f_locals\n",
    "            lfs += [lf]\n",
    "            di += 1\n",
    "        print(cfn)\n",
    "        if psf is None:\n",
    "            break\n",
    "        \n",
    "    excsfmt = traceback.format_exc()\n",
    "    print(excsfmt)\n"
   ]
  },
  {
   "cell_type": "code",
   "execution_count": null,
   "id": "7fa35961",
   "metadata": {},
   "outputs": [],
   "source": [
    "len(lfs)"
   ]
  },
  {
   "cell_type": "code",
   "execution_count": null,
   "id": "5dffb099",
   "metadata": {},
   "outputs": [],
   "source": [
    "#lfs[-1].keys()"
   ]
  },
  {
   "cell_type": "code",
   "execution_count": null,
   "id": "ee5e6652",
   "metadata": {},
   "outputs": [],
   "source": [
    "lf['est']"
   ]
  },
  {
   "cell_type": "code",
   "execution_count": null,
   "id": "84729dfc",
   "metadata": {},
   "outputs": [],
   "source": [
    "#behav_df_full.columns"
   ]
  },
  {
   "cell_type": "code",
   "execution_count": null,
   "id": "e4991892",
   "metadata": {},
   "outputs": [],
   "source": [
    "ridge = svd['decoding_per_var']['belief']['ests'][0].steps[1][1]\n",
    "spoc = svd['decoding_per_var']['belief']['ests'][0].steps[0][1]\n",
    "vars(spoc), vars(ridge)"
   ]
  },
  {
   "cell_type": "code",
   "execution_count": null,
   "id": "b8edcc62",
   "metadata": {},
   "outputs": [],
   "source": [
    "svd['decoding_per_var_b2b'].keys()"
   ]
  },
  {
   "cell_type": "code",
   "execution_count": null,
   "id": "71ffd61d",
   "metadata": {},
   "outputs": [],
   "source": [
    "resa()"
   ]
  },
  {
   "cell_type": "code",
   "execution_count": null,
   "id": "a1238633",
   "metadata": {},
   "outputs": [],
   "source": [
    "from sklearn.pipeline import Pipeline"
   ]
  },
  {
   "cell_type": "code",
   "execution_count": null,
   "id": "5633df88",
   "metadata": {},
   "outputs": [],
   "source": [
    "G.steps[1][1].coef_"
   ]
  },
  {
   "cell_type": "code",
   "execution_count": null,
   "id": "2d7233cd",
   "metadata": {},
   "outputs": [],
   "source": [
    "par['behav_file']"
   ]
  },
  {
   "cell_type": "code",
   "execution_count": null,
   "id": "4fb89e9a",
   "metadata": {},
   "outputs": [],
   "source": [
    "behav_fnf"
   ]
  },
  {
   "cell_type": "code",
   "execution_count": null,
   "id": "7c0bdd38",
   "metadata": {},
   "outputs": [],
   "source": [
    "[k for k in par.keys() if k.find('class') >=0]"
   ]
  },
  {
   "cell_type": "code",
   "execution_count": null,
   "id": "82b717fa",
   "metadata": {},
   "outputs": [],
   "source": [
    "defcolns_classic"
   ]
  },
  {
   "cell_type": "markdown",
   "id": "a970965a",
   "metadata": {},
   "source": [
    "## defcolns_classic"
   ]
  },
  {
   "cell_type": "code",
   "execution_count": null,
   "id": "183b5ec7",
   "metadata": {},
   "outputs": [],
   "source": [
    "par.get('colns_classic', defcolns_classic)"
   ]
  },
  {
   "cell_type": "code",
   "execution_count": null,
   "id": "a3113acb",
   "metadata": {},
   "outputs": [],
   "source": [
    "len(alphas) // 2"
   ]
  },
  {
   "cell_type": "code",
   "execution_count": null,
   "id": "e68a1c74",
   "metadata": {},
   "outputs": [],
   "source": [
    "res['b2b.G'].named_steps.patterns_"
   ]
  },
  {
   "cell_type": "code",
   "execution_count": null,
   "id": "43dd7487",
   "metadata": {},
   "outputs": [],
   "source": [
    "vars(res['b2b.G'].named_steps['spoc'])"
   ]
  },
  {
   "cell_type": "code",
   "execution_count": null,
   "id": "7e970a3e",
   "metadata": {},
   "outputs": [],
   "source": [
    "svd.keys()"
   ]
  },
  {
   "cell_type": "code",
   "execution_count": null,
   "id": "5977b872",
   "metadata": {},
   "outputs": [],
   "source": [
    "do_b2b_dec"
   ]
  },
  {
   "cell_type": "code",
   "execution_count": null,
   "id": "7113ab00",
   "metadata": {},
   "outputs": [],
   "source": [
    "print('Decoding errors summary:')\n",
    "ks = ['decoding_per_var','decoding_per_var_b2b']\n",
    "for kk in ks:\n",
    "    if kk not in svd:\n",
    "        print(f'!!  {kk} not present')\n",
    "    else:\n",
    "        for k,v in svd[kk].items():\n",
    "            err  = v['error']\n",
    "            if err is not None:\n",
    "                print(k, v['error'] )"
   ]
  },
  {
   "cell_type": "code",
   "execution_count": null,
   "id": "99b85ac6",
   "metadata": {},
   "outputs": [],
   "source": [
    "par.get('colns_ES')"
   ]
  },
  {
   "cell_type": "code",
   "execution_count": null,
   "id": "98f782e1",
   "metadata": {},
   "outputs": [],
   "source": [
    "colns_ES"
   ]
  },
  {
   "cell_type": "code",
   "execution_count": null,
   "id": "a0e9a78c",
   "metadata": {},
   "outputs": [],
   "source": []
  },
  {
   "cell_type": "code",
   "execution_count": null,
   "id": "6c090c01",
   "metadata": {},
   "outputs": [],
   "source": []
  },
  {
   "cell_type": "code",
   "execution_count": null,
   "id": "53cf9f02",
   "metadata": {},
   "outputs": [],
   "source": []
  },
  {
   "cell_type": "code",
   "execution_count": null,
   "id": "f60dff3a",
   "metadata": {},
   "outputs": [],
   "source": [
    "from meg_proc import getTargetCodes"
   ]
  },
  {
   "cell_type": "code",
   "execution_count": null,
   "id": "0baf11f7",
   "metadata": {},
   "outputs": [],
   "source": [
    "def events2df_NIH(events, advcols=True):\n",
    "    dfev = pd.DataFrame({'code':events[:,2], 'sample':events[:,0]})\n",
    "    dfev['type'] = dfev['code'].apply( lambda x: 'target' if x in event_ids_all_tgt else 'feedback' )\n",
    "    \n",
    "    if advcols:\n",
    "        dfev['prev_type'] = dfev['type'].shift(1)\n",
    "        dfev['prev_prev_type'] = dfev['type'].shift(2)\n",
    "        # check alternation\n",
    "        assert (dfev['sample'].diff()[1:] > 0).all()\n",
    "        assert (dfev['prev_prev_type'] == dfev['type']).iloc[2:].all()\n",
    "\n",
    "        dfev['prev_code'] = dfev['code'].shift(1, fill_value=-10000) # fill_value so that we have int and not float type\n",
    "        dfev['target_code'] = dfev.apply( lambda x: x['code'] if x['type'] == 'target' else x['prev_code'], 1 )\n",
    "\n",
    "        # here we may miss some of the trials because triggers did not always arrive\n",
    "        dfev['trial_index_ev'] = (dfev['type'] == 'target').cumsum() - 1\n",
    "    return dfev\n",
    "\n",
    "def getTargetCodes(epochs_both, epochs_subset):\n",
    "    # epochs_both should be created with minimal tmin tmax around zero to capture really all events\n",
    "    # both epochs objects have to be preloaded (otherwise events outside the scope might have not been discarded)\n",
    "    dfev = events2df_NIH(epochs_both.events)\n",
    "    dfev2 = events2df_NIH(epochs_subset.events, advcols =False)\n",
    "    dfev2_ = dfev2.merge(dfev, on='sample', how='left')\n",
    "    \n",
    "    return dfev2_\n",
    "#dfev2 = dfev2.drop(columns=['trial_index_ev'])"
   ]
  },
  {
   "cell_type": "code",
   "execution_count": null,
   "id": "45dbfb2c",
   "metadata": {},
   "outputs": [],
   "source": [
    "pstr_mod = ('-- --param_file dec_err_sens_sliding.ini --random_seed 0 '\n",
    "'--output_folder corrr_spoc_es_sliding2_no_filter --hpass no_filter'\n",
    "'--slide_window_dur 0.464 --slide_window_type explicit'\n",
    "'--tmin -0.5 --max 0 --subject sub01_WGPOZPEE --regression_type Ridge --freq_name broad'\n",
    "' --freq_limits 4,60 --env_to_run stable,random --n_jobs 1')"
   ]
  },
  {
   "cell_type": "code",
   "execution_count": null,
   "id": "909f83c1",
   "metadata": {},
   "outputs": [],
   "source": [
    "rsmod"
   ]
  },
  {
   "cell_type": "code",
   "execution_count": null,
   "id": "dff4b021",
   "metadata": {},
   "outputs": [],
   "source": [
    "pstr = '--param_file dec_err_sens_sliding.ini --random_seed 0 --output_folder corr_spoc_es_sliding2_no_filter --hpass no_filter'\n",
    "# pstr += ' --slide_window_dur 0.464 --slide_window_shift 0.464'\n",
    "#pstr += ' --time_locked feedback'\n",
    "pstr += ' --slide_window_dur 0.464 --slide_windows_type explicit --tmin -0.5 --tmax 0'\n",
    "pstr += ' --time_locked target'\n",
    "\n",
    "pstr += ' --subject sub01_WGPOZPEE --regression_type Ridge --freq_name broad --freq_limits 4,60'\n",
    "pstr +=' --env_to_run stable,random --decode_merge_pert 1 --nskip_trial 4 --n_jobs 1 --nb_fold 3 --save_result 0'"
   ]
  },
  {
   "cell_type": "code",
   "execution_count": null,
   "id": "8a13bb1b",
   "metadata": {},
   "outputs": [],
   "source": [
    "rs"
   ]
  },
  {
   "cell_type": "code",
   "execution_count": null,
   "id": "f3a24495",
   "metadata": {},
   "outputs": [],
   "source": [
    "pstr = ('--param_file dec_err_sens_sliding.ini --random_seed 0 --output_folder corr_spoc_es_sliding2_no_filter '\n",
    "'--hpass no_filter --slide_window_dur 0.464 --slide_window_shift 0.9 --subject sub01_WGPOZPEE --time_locked target '\n",
    "'--regression_type Ridge --freq_name broad --freq_limits 4,60 --env_to_run stable,random')"
   ]
  },
  {
   "cell_type": "code",
   "execution_count": null,
   "id": "5600ae27",
   "metadata": {},
   "outputs": [],
   "source": []
  },
  {
   "cell_type": "code",
   "execution_count": null,
   "id": "093bfc01",
   "metadata": {},
   "outputs": [],
   "source": [
    "behav_df_cur"
   ]
  },
  {
   "cell_type": "code",
   "execution_count": null,
   "id": "ebabbb2c",
   "metadata": {},
   "outputs": [],
   "source": [
    "env_to_run,block_names_cur,pertvals_cur,gseqcs_cur,tgt_inds_cur,\\\n",
    "        dists_rad_from_prevtgt_cur,dists_trial_from_prevtgt_cur"
   ]
  },
  {
   "cell_type": "code",
   "execution_count": null,
   "id": "ab01b34c",
   "metadata": {},
   "outputs": [],
   "source": [
    "len(behav_df_full)"
   ]
  },
  {
   "cell_type": "code",
   "execution_count": null,
   "id": "e3d567ad",
   "metadata": {},
   "outputs": [],
   "source": [
    "len(subdf)"
   ]
  },
  {
   "cell_type": "code",
   "execution_count": null,
   "id": "7fb4744b",
   "metadata": {},
   "outputs": [],
   "source": [
    "X.shape"
   ]
  },
  {
   "cell_type": "code",
   "execution_count": null,
   "id": "c9d8cf42",
   "metadata": {},
   "outputs": [],
   "source": [
    "mask_trunc.shape"
   ]
  },
  {
   "cell_type": "code",
   "execution_count": null,
   "id": "5aefda73",
   "metadata": {},
   "outputs": [],
   "source": [
    "list(svd.keys())"
   ]
  },
  {
   "cell_type": "code",
   "execution_count": null,
   "id": "7c8d2223",
   "metadata": {},
   "outputs": [],
   "source": [
    "for k,kv in svd['decoding_per_var'].items():\n",
    "    sc = kv['scores']\n",
    "    scs = ','.join( map(lambda x: f'{x:5.2f}', sc) )\n",
    "    print(f'{k:20}, {scs}')\n",
    "\n",
    "for k,kv in svd['decoding_per_var_and_pert'].items():\n",
    "    sc = kv['scores']\n",
    "    scs = ','.join( map(lambda x: f'{x:5.2f}', sc) )\n",
    "    print(f'{str(k):20}, {scs}')"
   ]
  },
  {
   "cell_type": "code",
   "execution_count": null,
   "id": "cf07d519",
   "metadata": {},
   "outputs": [],
   "source": [
    "svd['decoding_per_var_and_pert'][('prev_error', -30)]['scores']"
   ]
  },
  {
   "cell_type": "code",
   "execution_count": null,
   "id": "3fbd501d",
   "metadata": {},
   "outputs": [],
   "source": [
    "svd['decoding_per_var_and_pert'][('prev_error', 30)]['scores']"
   ]
  },
  {
   "cell_type": "code",
   "execution_count": null,
   "id": "81aafa50",
   "metadata": {},
   "outputs": [],
   "source": [
    "svd['decoding_per_var_and_pert'][('prev_error', 0)]['scores']"
   ]
  },
  {
   "cell_type": "code",
   "execution_count": null,
   "id": "eb53b9b0",
   "metadata": {},
   "outputs": [],
   "source": [
    "svd['decoding_per_var_and_pert'][('err_sens', -30)]['scores']"
   ]
  },
  {
   "cell_type": "code",
   "execution_count": null,
   "id": "f4bad0ab",
   "metadata": {},
   "outputs": [],
   "source": [
    "svd['decoding_per_var_and_pert'][('err_sens', 30)]['scores']"
   ]
  },
  {
   "cell_type": "code",
   "execution_count": null,
   "id": "6777de98",
   "metadata": {},
   "outputs": [],
   "source": [
    "svd['decoding_per_var_and_pert'][('err_sens', 0)]['scores']"
   ]
  },
  {
   "cell_type": "code",
   "execution_count": null,
   "id": "639ecc85",
   "metadata": {},
   "outputs": [],
   "source": [
    "fnfull=f'/p/project/icei-hbp-2020-0012/lyon/memerr/data2/sub01_WGPOZPEE/results/corr_spoc_es_sliding2_no_filter/random_Ridge_feedback_err_sens_broad_t=-1.07,-0.61.npz'\n",
    "f = np.load(fnfull, allow_pickle=1)"
   ]
  },
  {
   "cell_type": "code",
   "execution_count": null,
   "id": "7017e739",
   "metadata": {},
   "outputs": [],
   "source": [
    "list( f.keys() )"
   ]
  },
  {
   "cell_type": "code",
   "execution_count": null,
   "id": "9deedb06",
   "metadata": {},
   "outputs": [],
   "source": []
  },
  {
   "cell_type": "code",
   "execution_count": null,
   "id": "308a7835",
   "metadata": {},
   "outputs": [],
   "source": [
    "f['decoding_per_var_and_pert'][()][('err_sens', 0)]"
   ]
  },
  {
   "cell_type": "code",
   "execution_count": null,
   "id": "4af3a5ea",
   "metadata": {},
   "outputs": [],
   "source": [
    "set( behav_df_cur['perturbation'] )"
   ]
  }
 ],
 "metadata": {
  "kernelspec": {
   "display_name": "merr_Romain_proj",
   "language": "python",
   "name": "merr_romain_proj"
  },
  "language_info": {
   "codemirror_mode": {
    "name": "ipython",
    "version": 3
   },
   "file_extension": ".py",
   "mimetype": "text/x-python",
   "name": "python",
   "nbconvert_exporter": "python",
   "pygments_lexer": "ipython3",
   "version": "3.10.9"
  }
 },
 "nbformat": 4,
 "nbformat_minor": 5
}
