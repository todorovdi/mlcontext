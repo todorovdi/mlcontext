{
 "cells": [
  {
   "cell_type": "code",
   "execution_count": null,
   "id": "198f3a01",
   "metadata": {},
   "outputs": [],
   "source": [
    "%load_ext autoreload\n",
    "%autoreload 2\n",
    "\n",
    "import os, sys\n",
    "os.environ['OPENBLAS_NUM_THREADS'] = '1'\n",
    "sys.path.insert(0,os.path.expandvars('$CODE_MEMORY_ERRORS'))\n",
    "\n",
    "import config2\n",
    "ipy = get_ipython()\n",
    "#data_dir_general = '/home/demitau/data_Quentin'00\n",
    "#data_subdir_mem_err_main = 'full_experiments/data2'\n",
    "from os.path import join as pjoin\n",
    "import pandas as pd\n",
    "from config2 import *\n",
    "import mne\n",
    "import seaborn as sns\n",
    "\n",
    "print('pandas ver ', pd.__version__)\n",
    "print('seaborn ver ', sns.__version__)\n",
    "print('MNE ver ', mne.__version__)\n",
    "#data_dir_input = pjoin(data_dir_general,data_subdir_mem_err_main)\n",
    "#data_dir_general = '/home/demitau/data_Quentin'\n",
    "#data_subdir_mem_err_main = 'full_experiments/data2'\n",
    "#data_dir_input = pjoin(data_dir_general,data_subdir_mem_err_main)\n",
    "#scripts_dir = pjoin(data_dir_general,'full_experiments','scripts2')\n",
    "\n",
    "data_dir_general = os.path.expandvars('$DATA_QUENTIN')\n",
    "data_dir_input = os.path.expandvars('$DATA_MEMORY_ERRORS_STAB_AND_STOCH')\n",
    "#scripts_dir = pjoin( os.path.expandvars('$CODE_MEMORY_ERRORS'), 'previous_analyses')\n",
    "scripts_dir = pjoin( os.path.expandvars('$CODE_MEMORY_ERRORS'), 'figure')\n",
    "\n",
    "from dateutil import parser\n",
    "from error_sensitivity import getAnalysisVarnames\n",
    "\n",
    "print(data_dir_input, scripts_dir)\n",
    "\n",
    "subjects = [f for f in os.listdir(data_dir_input) if f.startswith('sub') ]\n",
    "subjects = list(sorted(subjects))\n",
    "print(subjects)\n",
    "\n",
    "import figure.plots\n"
   ]
  },
  {
   "cell_type": "markdown",
   "id": "6b94853f",
   "metadata": {},
   "source": [
    "$$e_n = \\mathrm{observation_n} =\\\\= \\mathrm{endpoint}_n- \\mathrm{target\\_angle}_n =\\\\\n",
    "=x_n + \\mathrm{perturbation}_n$$\n",
    "\n",
    "\\\\\n",
    "\n",
    "$$x_{n+1} = \\alpha \\cdot x_{n} + \\beta_n \\cdot e_n$$\n",
    "\n",
    "\n"
   ]
  },
  {
   "cell_type": "markdown",
   "id": "164c4753",
   "metadata": {},
   "source": [
    "* Empirical: $\\beta_n = \\displaystyle\\frac{e_n - e_{n-1}}{|e_{n-1}|}$\n",
    "\n",
    "* Dierichsen:     $\\beta_n \\equiv \\beta$\n",
    "\n",
    "* Tan: $\\beta_n = c \\cdot \\displaystyle\\frac{\\mu^2}{ \\sigma^2 }$\n",
    "\n",
    "* Herzfeld:     $ \\beta_n = \\beta_{n-1} + \\gamma\\cdot \\mathrm{sign}(e_{n-2} \\cdot e_{n-1})  $"
   ]
  },
  {
   "cell_type": "markdown",
   "id": "e845c48a",
   "metadata": {},
   "source": []
  },
  {
   "cell_type": "markdown",
   "id": "bc9e0d44",
   "metadata": {},
   "source": [
    "# Plot sliding"
   ]
  },
  {
   "cell_type": "code",
   "execution_count": null,
   "id": "6b2fe8e7",
   "metadata": {},
   "outputs": [],
   "source": [
    "gc.collect()"
   ]
  },
  {
   "cell_type": "code",
   "execution_count": null,
   "id": "781f5746",
   "metadata": {
    "code_folding": [
     0,
     57
    ]
   },
   "outputs": [],
   "source": [
    "# collect\n",
    "import gc; gc.collect()\n",
    "plot_diff_vs_es = 0\n",
    "plot_diff = 0\n",
    "\n",
    "regression_type = 'Ridge'\n",
    "time_lockeds = ['target', 'feedback']\n",
    "#freq_names = ['broad']\n",
    "#freq_names = ['broad', 'beta', 'gamma']\n",
    "freq_names = ['broad', 'beta', 'gamma']\n",
    "control_types = [ 'movement']\n",
    "#control_types = [ 'movement', 'feedback']\n",
    "#subject_inds = [15,16,17,18,19] # up to 10 fine\n",
    "subject_inds = np.arange(len(subjects))\n",
    "#subject_inds = list(range(12)) + list(range(13,20))\n",
    "#subject_inds = [12]\n",
    "\n",
    "# good combination to plot robust = 1, discard twice = 0,1\n",
    "#time_start = parser.parse('00:00 of 2nd june 2023'); \n",
    "#time_end = parser.parse('16:03 of 3rd june 2023'); \n",
    "\n",
    "#time_start = parser.parse('18:00 of 20th june 2023');  # 1st, for abstract\n",
    "time_start = parser.parse('13:48 of 21st june 2023'); \n",
    "#time_end = parser.parse('16:03 of 3rd june 2023'); \n",
    "time_end = parser.parse('15:58 of 31 may 2027'); \n",
    "\n",
    "custom_prefix = None\n",
    "\n",
    "use_preload_df = 0\n",
    "load_df        = 0\n",
    "exit_after = 'collect'\n",
    "#exit_after = 'end'\n",
    "plot_scores_per_subj = 0\n",
    "ktes = ['err_sens','err_sens_Tan','err_sens_Herz',\n",
    "        'error', 'error_pred_Tan','error_pred_Herz',\n",
    "        'error_pred_Died', \n",
    "        'prev_error',\n",
    "        'trials','trialwe',\n",
    "        'trialwpertstage_wb',\n",
    "        'trialwtgt','trialwtgt_wpertstage_wb',\n",
    "        'RT','target_inds',\n",
    "       'movement_duration']\n",
    "#b2bdef = 'err_sens,prev_error,error'\n",
    "b2bdef = ['err_sens,prev_error,error',\n",
    "         'err_sens_Tan,prev_error,error',\n",
    "         'err_sens_Herz,prev_error,error',]\n",
    "varnames = ktes\n",
    "tmin_desired = None\n",
    "require_all_subjects = 0\n",
    "\n",
    "import traceback\n",
    "DEBUG = 0\n",
    "save_df = 0\n",
    "\n",
    "#%debug\n",
    "failed = []\n",
    "dfs = []\n",
    "for hpass in ['no_filter']: #,'0.1']:\n",
    "    for env in [['stable','random']]:\n",
    "        #for freq_name in list(freq_name2freq.keys() ):\n",
    "        for freq_name in freq_names:\n",
    "            for time_locked in time_lockeds:\n",
    "                for control_type in control_types:                    \n",
    "                    df = None\n",
    "                    s=  ','.join( getAnalysisVarnames(time_locked, control_type)[0] )\n",
    "                    varnames_b2b = [s, 'err_sens,prev_error,error']\n",
    "\n",
    "                    output_folder = f'corr_spoc_es_sliding2_{hpass}'        \n",
    "                    script_name = pjoin(scripts_dir,\n",
    "                            'correlation_error_sensitivity_spoc_decoding_sliding.py')\n",
    "                    try:\n",
    "                        ipy.run_line_magic('run','-i {script_name}')                  \n",
    "                        dfs += [df]                        \n",
    "#                         if not DEBUG:\n",
    "#                             del df\n",
    "                    except Exception as e:                    \n",
    "                        print('EXC',e)\n",
    "                        exc_info = sys.exc_info()\n",
    "                        exc = traceback.TracebackException(*exc_info, capture_locals=True)\n",
    "                        ei = exc_info[2]    \n",
    "                        #display(ei.tb_frame)\n",
    "                        psf = ei\n",
    "\n",
    "                        lfprev = None; lf = None\n",
    "                        lfs = []\n",
    "                        di = 0\n",
    "                        while psf.tb_frame is not None:\n",
    "                            stackframe = psf.tb_frame\n",
    "                            display(di, stackframe)\n",
    "\n",
    "                            psf = psf.tb_next  \n",
    "                            if 'conda' not in stackframe.f_code.co_filename:        \n",
    "                                lfprev = lf\n",
    "                                lf = stackframe.f_locals\n",
    "                                lfs += [lf]\n",
    "                                di += 1\n",
    "                            if psf is None:\n",
    "                                break    \n",
    "\n",
    "                        #raise e\n",
    "\n",
    "                        print('Exc for ', hpass,freq_name)\n",
    "                        failed += [ (hpass, freq_name)]\n",
    "                        print('EXC',e)\n",
    "                    #df.to_pickle( pjoin(path_fig, save_folder, 'df') )                                        \n",
    "                    import gc; gc.collect()\n",
    "                    plt.close()\n",
    "            #break\n",
    "        #break\n",
    "    #break\n",
    "print('Collection finished')\n",
    "\n",
    "dfc =pd.concat(dfs)\n",
    "\n",
    "dfc_allcollected = dfc\n",
    "\n",
    "catcols = ['subject', 'fn', 'fn_full', 'SLURM_job_id', 'env',\n",
    "       'trial_group_col_calc', 'rt', 'time_locked', 'control_type',\n",
    "       'custom_suffix', 'freq_name', 'tmin', 'tmax', 'dec_type']\n",
    "for col in catcols:\n",
    "    dfc[col] = dfc[col].astype('category')\n",
    "\n",
    "dfc['jobind'] = dfc['SLURM_job_id'].apply(lambda x: int(x.split('_')[1] ) )"
   ]
  },
  {
   "cell_type": "code",
   "execution_count": null,
   "id": "784b9f11",
   "metadata": {},
   "outputs": [],
   "source": [
    "df1.columns"
   ]
  },
  {
   "cell_type": "code",
   "execution_count": null,
   "id": "286bb2bc",
   "metadata": {},
   "outputs": [],
   "source": [
    "from postproc import collectResultsPrefilled,collectResults0\n",
    "tmin_desired = None\n",
    "hpass = 'no_filter'\n",
    "time_start = parser.parse('13:48 of 21st june 2023'); \n",
    "time_end = parser.parse('15:58 of 31 may 2027'); \n",
    "time_lockeds = ['target', 'feedback']\n",
    "#freq_names = ['broad']\n",
    "freq_names = ['broad', 'beta', 'gamma']\n",
    "control_types = [ 'movement']\n",
    "\n",
    "output_folder = f'corr_spoc_es_sliding2_{hpass}'        \n",
    "wildcard = \"*CNslideModelES*_sh0.250*.npz\"\n",
    "df1 = collectResults0(subjects,output_folder, wildcard=wildcard)\n",
    "print('len(df1)', len(df1))\n",
    "assert len(df1)"
   ]
  },
  {
   "cell_type": "code",
   "execution_count": null,
   "id": "3f1b7c64",
   "metadata": {},
   "outputs": [],
   "source": [
    "print('tmin_desired = ',tmin_desired)\n",
    "\n",
    "qs = ''\n",
    "#qs += 'time_locked.isin(@time_lockeds) and control_type.isin(@control_types)'\n",
    "#qs += ' freq_name.isin(@freq_names)'\n",
    "qs += ' mtime >= @time_start'\n",
    "qs += ' and mtime <= @time_end'\n",
    "#qs += ' and custom_suffix.str.endswith(\"_sh0.232\")'\n",
    "qs += ' and custom_suffix.str.contains(\"c1_\")'\n",
    "if tmin_desired is not None:\n",
    "    if isinstance(tmin_desired,list):\n",
    "        qs += ' and tmin.isin(@tmin_desired)'\n",
    "    else:\n",
    "        qs += ' and tmin == @tmin_desired'\n",
    "df2 = df1.query(qs).copy()\n",
    "print('after restricting to time interval ',len(df1),len(df2))"
   ]
  },
  {
   "cell_type": "code",
   "execution_count": null,
   "id": "f5a38188",
   "metadata": {},
   "outputs": [],
   "source": [
    "import matplotlib.pyplot as plt"
   ]
  },
  {
   "cell_type": "code",
   "execution_count": null,
   "id": "09d19a79",
   "metadata": {},
   "outputs": [],
   "source": [
    "df2['custom_suffix'].unique()"
   ]
  },
  {
   "cell_type": "code",
   "execution_count": null,
   "id": "f5cde6a4",
   "metadata": {},
   "outputs": [],
   "source": [
    "df2.groupby('custom_suffix').size()"
   ]
  },
  {
   "cell_type": "code",
   "execution_count": null,
   "id": "26480870",
   "metadata": {},
   "outputs": [],
   "source": [
    "df2.groupby('custom_suffix')['mtime'].mean()"
   ]
  },
  {
   "cell_type": "code",
   "execution_count": null,
   "id": "785199c2",
   "metadata": {},
   "outputs": [],
   "source": [
    "plt.hist(df2['mtime'])"
   ]
  },
  {
   "cell_type": "code",
   "execution_count": null,
   "id": "2f6591e2",
   "metadata": {},
   "outputs": [],
   "source": [
    "df2.iloc[0]['fn_full']"
   ]
  },
  {
   "cell_type": "code",
   "execution_count": null,
   "id": "61d82a9c",
   "metadata": {},
   "outputs": [],
   "source": [
    "/p/project/icei-hbp-2022-0017"
   ]
  },
  {
   "cell_type": "code",
   "execution_count": null,
   "id": "97dcb287",
   "metadata": {},
   "outputs": [],
   "source": [
    "#df2['fn_full_scratch'] = df2['fn_full'].apply('')"
   ]
  },
  {
   "cell_type": "code",
   "execution_count": null,
   "id": "1019d75f",
   "metadata": {},
   "outputs": [],
   "source": [
    "dirs = df2.sort_values('mtime').groupby('subject').\\\n",
    "    agg(['last'])['fn_full']['last'].apply(lambda x: os.path.split(x)[0])\n",
    "dirs.iloc[0]"
   ]
  },
  {
   "cell_type": "code",
   "execution_count": null,
   "id": "765cdc9f",
   "metadata": {},
   "outputs": [],
   "source": [
    "path_data"
   ]
  },
  {
   "cell_type": "code",
   "execution_count": null,
   "id": "f8c60763",
   "metadata": {},
   "outputs": [],
   "source": []
  },
  {
   "cell_type": "code",
   "execution_count": null,
   "id": "235f1331",
   "metadata": {},
   "outputs": [],
   "source": [
    "'/p/scratch/icei-hbp-2022-0017/memerr'"
   ]
  },
  {
   "cell_type": "code",
   "execution_count": null,
   "id": "b0028035",
   "metadata": {},
   "outputs": [],
   "source": [
    "df2['fn_full_scratch'] = None\n",
    "\n",
    "import shutil\n",
    "scratch_copy = True\n",
    "copied_to_scratch = False\n",
    "if scratch_copy:\n",
    "    for diri, subdir_cur in enumerate(dirs):\n",
    "        subdir_cur_tmp = subdir_cur.replace(path_data, \n",
    "                pjoin( os.path.expandvars('$SCRATCH'), 'memerr', 'data2' ))\n",
    "        print(diri, subdir_cur, '  -->  ', subdir_cur_tmp)\n",
    "        #continue\n",
    "        import subprocess as sp\n",
    "        if not os.path.exists(subdir_cur_tmp):\n",
    "            os.makedirs(subdir_cur_tmp)\n",
    "        #out = sp.getoutput(f'cp -r {pjoin(gv.data_dir,subdir_cur)}/_!_* {pjoin(gv.data_dir_tmp,subdir_cur)}')\n",
    "        \n",
    "        s = f'rsync -tv {subdir_cur}/{wildcard} {subdir_cur_tmp}/'\n",
    "        print(s)\n",
    "        out = sp.getoutput(s)\n",
    "        #shutil.copytree(pjoin(gv.data_dir,subdir_cur), \n",
    "        #                pjoin(gv.data_dir_tmp,subdir_cur) )\n",
    "        print(out)\n",
    "    copied_to_scratch = True\n",
    "    df2['fn_full_scratch'] = df2['fn_full'].str.replace(path_data,  pjoin( os.path.expandvars('$SCRATCH'), 'memerr', 'data2' ) )\n",
    "else:\n",
    "    print('Skipping scratch copy')"
   ]
  },
  {
   "cell_type": "code",
   "execution_count": null,
   "id": "60ee5776",
   "metadata": {},
   "outputs": [],
   "source": [
    "df2['fn_full_scratch'] = df2['fn_full'].str.replace(path_data,  \n",
    "        pjoin( os.path.expandvars('$SCRATCH'), 'memerr', 'data2' ) )"
   ]
  },
  {
   "cell_type": "code",
   "execution_count": null,
   "id": "61143093",
   "metadata": {},
   "outputs": [],
   "source": [
    "df2"
   ]
  },
  {
   "cell_type": "code",
   "execution_count": null,
   "id": "ca033d81",
   "metadata": {},
   "outputs": [],
   "source": [
    "import gc; gc.collect()"
   ]
  },
  {
   "cell_type": "code",
   "execution_count": null,
   "id": "8c2ce91f",
   "metadata": {},
   "outputs": [],
   "source": [
    "# slow\n",
    "#%debug\n",
    "dfc = collectResultsPrefilled(df2)\n",
    "dfc_allcollected = dfc\n",
    "\n",
    "catcols = ['subject', 'fn', 'fn_full', 'SLURM_job_id', 'env',\n",
    "       'trial_group_col_calc', 'rt', 'time_locked', 'control_type',\n",
    "       'custom_suffix', 'freq_name', 'tmin', 'tmax', 'dec_type']\n",
    "for col in catcols:\n",
    "    dfc[col] = dfc[col].astype('category')\n",
    "\n",
    "dfc['jobind'] = dfc['SLURM_job_id'].apply(lambda x: int(x.split('_')[1] ) )\n",
    "print( len(dfc) )"
   ]
  },
  {
   "cell_type": "code",
   "execution_count": null,
   "id": "24c78f84",
   "metadata": {},
   "outputs": [],
   "source": [
    "dfc[['mtime','rt','custom_suffix']]"
   ]
  },
  {
   "cell_type": "code",
   "execution_count": null,
   "id": "eeaae93f",
   "metadata": {},
   "outputs": [],
   "source": [
    "#df3['b2b_varset']"
   ]
  },
  {
   "cell_type": "code",
   "execution_count": null,
   "id": "ce2a5352",
   "metadata": {},
   "outputs": [],
   "source": [
    "#trialwpertstage_wb_non_hit, ValueError: Incompatible indexer with Series"
   ]
  },
  {
   "cell_type": "code",
   "execution_count": null,
   "id": "1cccb947",
   "metadata": {},
   "outputs": [],
   "source": [
    "print(len(dfc))\n",
    "print(dfc['subject'].unique())\n",
    "suffixes_present = dfc['custom_suffix'].unique()\n",
    "print(list(suffixes_present))\n",
    "dfc_types_present = dfc['dec_type'].unique(); \n",
    "print(list(dfc_types_present))"
   ]
  },
  {
   "cell_type": "code",
   "execution_count": null,
   "id": "833a2371",
   "metadata": {},
   "outputs": [],
   "source": [
    "dfc.duplicated(catcols).sum()"
   ]
  },
  {
   "cell_type": "code",
   "execution_count": null,
   "id": "6a2fd626",
   "metadata": {},
   "outputs": [],
   "source": [
    "list(suffixes_present)"
   ]
  },
  {
   "cell_type": "code",
   "execution_count": null,
   "id": "557236c9",
   "metadata": {},
   "outputs": [],
   "source": [
    "print(dfc['jobind'].astype('int').max())"
   ]
  },
  {
   "cell_type": "code",
   "execution_count": null,
   "id": "1b3af579",
   "metadata": {},
   "outputs": [],
   "source": [
    "  #won't work if columns contain composite types\n",
    "#dfc.duplicated()\n",
    "\n",
    "# print( dfc['time_locked'].unique() )\n",
    "# for dfi,df in enumerate(dfs):\n",
    "#     print(dfi)\n",
    "#     if df is None:\n",
    "#         continue\n",
    "#     print(df.duplicated(catcols).sum() , len(df), df['time_locked'].unique() )"
   ]
  },
  {
   "cell_type": "code",
   "execution_count": null,
   "id": "45f22901",
   "metadata": {},
   "outputs": [],
   "source": [
    "dfc[catcols].describe(include='all').loc['unique', :]"
   ]
  },
  {
   "cell_type": "markdown",
   "id": "09ba47c9",
   "metadata": {
    "heading_collapsed": true
   },
   "source": [
    "#### dbg"
   ]
  },
  {
   "cell_type": "code",
   "execution_count": null,
   "id": "9c0e95e2",
   "metadata": {
    "hidden": true
   },
   "outputs": [],
   "source": [
    "tmin_desired"
   ]
  },
  {
   "cell_type": "code",
   "execution_count": null,
   "id": "72c976f8",
   "metadata": {
    "hidden": true
   },
   "outputs": [],
   "source": [
    "time_lockeds"
   ]
  },
  {
   "cell_type": "code",
   "execution_count": null,
   "id": "ad4339ed",
   "metadata": {
    "hidden": true
   },
   "outputs": [],
   "source": [
    "time_locked"
   ]
  },
  {
   "cell_type": "code",
   "execution_count": null,
   "id": "9a93ed88",
   "metadata": {
    "code_folding": [
     8
    ],
    "hidden": true
   },
   "outputs": [],
   "source": [
    "try:\n",
    "    collectDecodingResults(subjects, subject_inds[:1], output_folder,freq_name, \n",
    "                    env, control_type, \n",
    "                    time_locked, custom_prefix,                       \n",
    "                     tmin_desired,                                                                                                                             \n",
    "                     varnames, varnames_b2b,                                                                                                                   \n",
    "                     time_start, time_end, verbose=1) \n",
    "    \n",
    "except Exception as e:                    \n",
    "    print('EXC',e)\n",
    "    exc_info = sys.exc_info()\n",
    "    exc = traceback.TracebackException(*exc_info, capture_locals=True)\n",
    "    ei = exc_info[2]    \n",
    "    #display(ei.tb_frame)\n",
    "    psf = ei\n",
    "\n",
    "    lfprev = None; lf = None\n",
    "    lfs = []\n",
    "    di = 0\n",
    "    while psf.tb_frame is not None:\n",
    "        stackframe = psf.tb_frame        \n",
    "\n",
    "        psf = psf.tb_next  \n",
    "        if ('conda' not in stackframe.f_code.co_filename) and\\\n",
    "            ('mamba' not in stackframe.f_code.co_filename):        \n",
    "            display(di, stackframe)\n",
    "            lfprev = lf\n",
    "            lf = stackframe.f_locals\n",
    "            lfs += [lf]\n",
    "            di += 1\n",
    "        if psf is None:\n",
    "            break \n",
    "        \n",
    "    raise e"
   ]
  },
  {
   "cell_type": "code",
   "execution_count": null,
   "id": "dc71dafe",
   "metadata": {
    "hidden": true
   },
   "outputs": [],
   "source": [
    "lf['order']"
   ]
  },
  {
   "cell_type": "code",
   "execution_count": null,
   "id": "8d2a86d3",
   "metadata": {
    "hidden": true
   },
   "outputs": [],
   "source": [
    "type( lf['order'] )"
   ]
  },
  {
   "cell_type": "code",
   "execution_count": null,
   "id": "73223456",
   "metadata": {
    "hidden": true
   },
   "outputs": [],
   "source": [
    "lf['df_to_set']['prev_movement,prev_error,error,prev_belief_varnames']"
   ]
  },
  {
   "cell_type": "code",
   "execution_count": null,
   "id": "d574764d",
   "metadata": {
    "hidden": true
   },
   "outputs": [],
   "source": [
    " lf['kvv'] ,  lf['index'] , lf['key']#, lf['df_to_set'][lf['index'] , lf['key']]"
   ]
  },
  {
   "cell_type": "code",
   "execution_count": null,
   "id": "2293855b",
   "metadata": {
    "hidden": true
   },
   "outputs": [],
   "source": [
    "import pandas as pd\n",
    "import numpy as np\n",
    "\n",
    "df = pd.DataFrame({'A': [1, 2], 'B': [3, 4]})\n",
    "df.at[0, 'A'] = list(np.array([5, 6]))"
   ]
  },
  {
   "cell_type": "code",
   "execution_count": null,
   "id": "2631849b",
   "metadata": {
    "hidden": true
   },
   "outputs": [],
   "source": [
    "Length of values (315) does not match length of index (264)"
   ]
  },
  {
   "cell_type": "code",
   "execution_count": null,
   "id": "63dff6a0",
   "metadata": {
    "hidden": true
   },
   "outputs": [],
   "source": [
    "lf['df_to_set'][lf['index'] , lf['key']] = lf['kvv'].tolist()"
   ]
  },
  {
   "cell_type": "code",
   "execution_count": null,
   "id": "3935ec57",
   "metadata": {
    "hidden": true
   },
   "outputs": [],
   "source": [
    "varnames_b2b"
   ]
  },
  {
   "cell_type": "markdown",
   "id": "8daa3f33",
   "metadata": {},
   "source": [
    "#### check collected"
   ]
  },
  {
   "cell_type": "code",
   "execution_count": null,
   "id": "2c0fff97",
   "metadata": {},
   "outputs": [],
   "source": [
    "dec_types_found = dfc_allcollected['dec_type'].unique()\n",
    "print('dec_types_found = ',dec_types_found)\n",
    "assert len(dec_types_found) > 1"
   ]
  },
  {
   "cell_type": "code",
   "execution_count": null,
   "id": "f7bbf912",
   "metadata": {},
   "outputs": [],
   "source": [
    "def calcTminSetVariability(df_, cols):\n",
    "    r = dfc.groupby(cols)['tmin'].nunique()#.apply(lambda x: len(x) )\n",
    "    return r.to_frame().describe().loc['std'].values[0]"
   ]
  },
  {
   "cell_type": "code",
   "execution_count": null,
   "id": "b5c66bae",
   "metadata": {},
   "outputs": [],
   "source": [
    "#dfc.groupby(cols_unique).size().max()"
   ]
  },
  {
   "cell_type": "code",
   "execution_count": null,
   "id": "655173a3",
   "metadata": {
    "code_folding": [
     3
    ]
   },
   "outputs": [],
   "source": [
    "import pandas as pd\n",
    "\n",
    "# Define a function to find the minimal set of categorical columns\n",
    "def find_minimal_columns(dfc):\n",
    "  # Get the list of categorical columns in the DataFrame\n",
    "  cat_cols = dfc.select_dtypes(include='category').columns.tolist()\n",
    "  # Initialize an empty list to store the selected columns\n",
    "  selected_cols = []\n",
    "  # Initialize a variable to store the number of duplicates\n",
    "  num_duplicates = dfc.duplicated().sum()\n",
    "  # Loop through the categorical columns\n",
    "  for col in cat_cols:\n",
    "    # Add the current column to the selected columns\n",
    "    selected_cols.append(col)\n",
    "    # Create a new DataFrame with only the selected columns\n",
    "    dfc_new = dfc[selected_cols]\n",
    "    # Calculate the number of duplicates in the new DataFrame\n",
    "    num_duplicates_new = dfc_new.duplicated().sum()\n",
    "    # If the number of duplicates is zero, break the loop\n",
    "    if num_duplicates_new == 0:\n",
    "        break\n",
    "    # Otherwise, update the number of duplicates\n",
    "    else:\n",
    "        num_duplicates = num_duplicates_new\n",
    "  # Return the selected columns\n",
    "  return selected_cols\n",
    "\n",
    "# Call the function on dfc and print the result\n",
    "minimal_columns = find_minimal_columns(dfc)\n",
    "print('The minimal set of categorical columns is:', minimal_columns)"
   ]
  },
  {
   "cell_type": "code",
   "execution_count": null,
   "id": "df466f94",
   "metadata": {},
   "outputs": [],
   "source": [
    "#dfc.describe?"
   ]
  },
  {
   "cell_type": "code",
   "execution_count": null,
   "id": "fa337cb1",
   "metadata": {},
   "outputs": [],
   "source": [
    "# make it hang\n",
    "#dfc.describe(include='all').loc['unique', :]"
   ]
  },
  {
   "cell_type": "code",
   "execution_count": null,
   "id": "5b6d502f",
   "metadata": {},
   "outputs": [],
   "source": [
    "#dfc.columns"
   ]
  },
  {
   "cell_type": "code",
   "execution_count": null,
   "id": "05c007bc",
   "metadata": {},
   "outputs": [],
   "source": [
    "print(dfc['mtime'].min(), dfc['mtime'].max())\n",
    "\n",
    "cols_unique = ['custom_suffix', 'trial_group_col_calc', \n",
    "    'time_locked','control_type', \n",
    "    'freq_name', 'dec_type', 'env','subject','tmin']\n",
    "if dfc.duplicated(cols_unique).any():\n",
    "    print('DUPLICATES:')\n",
    "    display( dfc[ dfc.duplicated(cols_unique) ] )\n",
    "else:\n",
    "    print('No duplicates (tmin + custom_prefix)!')\n",
    "\n",
    "print( len(dfc), dfc['subject'].nunique(), dfc['control_type'].nunique() )\n",
    "#      subject_inds )\n",
    "\n",
    "\n",
    "cols_unique_ = ['subject','env','time_locked','control_type', \n",
    "    'trial_group_col_calc','freq_name', 'tmin', 'dec_type']\n",
    "if dfc.duplicated(cols_unique_).any():\n",
    "    sz =  dfc.groupby(cols_unique_).size()\n",
    "    print('Within suffix (fixed tmin): min dup = {}, max dup = {}'.\\\n",
    "                format(sz.min(), sz.max() ) )\n",
    "else:\n",
    "    print('No duplicates for same time across suffixes!')\n",
    "    \n",
    "cols_unique_2 = ['subject','env','time_locked','control_type', \n",
    "    'trial_group_col_calc','freq_name', 'dec_type', 'custom_suffix']\n",
    "sz =  dfc.groupby(cols_unique_2).size()\n",
    "# if std of len is > 0, then we might need be in situation where there were two calc runs \n",
    "# with different tmins set\n",
    "print('Within tmin (fixed suffix): min dup = {}, max dup = {}. Std of len = {:.2f}'.\\\n",
    "            format(sz.min(), sz.max(),  calcTminSetVariability(dfc, cols_unique_2) ) )\n",
    "    \n",
    "grp = dfc.groupby(['custom_suffix','time_locked'])\n",
    "print('  Times within suffix')\n",
    "display( grp['mtime'].describe(datetime_is_numeric=True) )\n",
    "\n",
    "suffixes_present = dfc['custom_suffix'].unique()\n",
    "print(suffixes_present)"
   ]
  },
  {
   "cell_type": "code",
   "execution_count": null,
   "id": "86c00e5f",
   "metadata": {},
   "outputs": [],
   "source": [
    "dfc_uncleaned = dfc"
   ]
  },
  {
   "cell_type": "code",
   "execution_count": null,
   "id": "d6b96bb0",
   "metadata": {},
   "outputs": [],
   "source": [
    "suffs = [f'CNslide_trim0_dhittw1_s_scX0Y2c0_drall_dtall_{freq}_sh0.232' for freq in ['broad','beta','gamma']]\n",
    "suffs"
   ]
  },
  {
   "cell_type": "code",
   "execution_count": null,
   "id": "03186678",
   "metadata": {},
   "outputs": [],
   "source": [
    "dfc = dfc_uncleaned.query('custom_suffix in @suffs')"
   ]
  },
  {
   "cell_type": "code",
   "execution_count": null,
   "id": "60c286a6",
   "metadata": {},
   "outputs": [],
   "source": [
    "suff = 'CNslide_trim0_dhittw1_s_scX0Y0_drall_dtall_broad_sh0.232'\n",
    "if suff not in suffixes_present:\n",
    "    suff = suffixes_present[0]\n",
    "tmins_good = dfc.query('custom_suffix == @suff')['tmin'].unique()\n",
    "std = np.diff( tmins_good.astype(float) ).std() \n",
    "print(std)\n",
    "assert std < 1e-2 # recal we round to two digits\n",
    "dfc_clean2 = dfc.query('tmin in @tmins_good')\n",
    "display( dfc_clean2.groupby('custom_suffix')['mtime'].describe(datetime_is_numeric=True) )"
   ]
  },
  {
   "cell_type": "code",
   "execution_count": null,
   "id": "67822a1f",
   "metadata": {},
   "outputs": [],
   "source": [
    "#dfc_ = dfc.query('dec_type == \"classic\"')"
   ]
  },
  {
   "cell_type": "code",
   "execution_count": null,
   "id": "00c6a9a5",
   "metadata": {},
   "outputs": [],
   "source": [
    "#dfc = dfc.query('custom_suffix == @suff')"
   ]
  },
  {
   "cell_type": "code",
   "execution_count": null,
   "id": "6ada2f19",
   "metadata": {},
   "outputs": [],
   "source": [
    "dfc = dfc_clean2"
   ]
  },
  {
   "cell_type": "markdown",
   "id": "7b6cc475",
   "metadata": {
    "heading_collapsed": true
   },
   "source": [
    "### multi calcs mgmt"
   ]
  },
  {
   "cell_type": "code",
   "execution_count": null,
   "id": "96c0bc7c",
   "metadata": {
    "hidden": true
   },
   "outputs": [],
   "source": [
    "\n",
    "#reset_index()['tmin'].apply()"
   ]
  },
  {
   "cell_type": "code",
   "execution_count": null,
   "id": "a7bef515",
   "metadata": {
    "hidden": true
   },
   "outputs": [],
   "source": [
    "sz.reset_index()[0].unique()"
   ]
  },
  {
   "cell_type": "code",
   "execution_count": null,
   "id": "8a1f7c25",
   "metadata": {
    "hidden": true
   },
   "outputs": [],
   "source": [
    "# all\n",
    "grp['mtime'].describe(datetime_is_numeric=True)['max']"
   ]
  },
  {
   "cell_type": "code",
   "execution_count": null,
   "id": "2cb7e65c",
   "metadata": {
    "hidden": true
   },
   "outputs": [],
   "source": [
    "dfc_allcollected['mtime'].dt?"
   ]
  },
  {
   "cell_type": "code",
   "execution_count": null,
   "id": "305108b4",
   "metadata": {
    "hidden": true
   },
   "outputs": [],
   "source": [
    "dfc_allcollected['mtime_sec'] = dfc_allcollected['mtime'].values.astype(np.int64) // 10 ** 9"
   ]
  },
  {
   "cell_type": "code",
   "execution_count": null,
   "id": "6465f689",
   "metadata": {
    "hidden": true
   },
   "outputs": [],
   "source": [
    "cols_unique_"
   ]
  },
  {
   "cell_type": "code",
   "execution_count": null,
   "id": "060a0730",
   "metadata": {
    "hidden": true
   },
   "outputs": [],
   "source": [
    "cols_unique_"
   ]
  },
  {
   "cell_type": "code",
   "execution_count": null,
   "id": "1ed36a5d",
   "metadata": {
    "hidden": true
   },
   "outputs": [],
   "source": [
    "dfc_allcollected_.reset_index(drop=True)"
   ]
  },
  {
   "cell_type": "code",
   "execution_count": null,
   "id": "4cdc35a6",
   "metadata": {
    "hidden": true
   },
   "outputs": [],
   "source": [
    "dfc_allcollected_ = dfc_allcollected.sort_values('mtime_sec').reset_index(drop=True)\n",
    "grp = dfc_allcollected_.groupby(cols_unique_)\n",
    "sz =  grp.size()\n",
    "print('Within suffix: min dup = {}, max dup = {}'.\\\n",
    "            format(sz.min(), sz.max() ) )\n",
    "#grp = dfc_allcollected_.groupby(cols_unique_2)\n",
    "grp = dfc_allcollected_.groupby('custom_suffix')\n",
    "display( grp['mtime'].describe(datetime_is_numeric=True)['max'] )"
   ]
  },
  {
   "cell_type": "code",
   "execution_count": null,
   "id": "6b75992d",
   "metadata": {
    "hidden": true
   },
   "outputs": [],
   "source": [
    "#dfc_allcollected_.groupby(cols_unique_2).size()"
   ]
  },
  {
   "cell_type": "code",
   "execution_count": null,
   "id": "1af3ba0e",
   "metadata": {
    "hidden": true
   },
   "outputs": [],
   "source": [
    "grp = dfc_allcollected_.groupby(cols_unique_)\n",
    "idx = grp['mtime'].idxmax()"
   ]
  },
  {
   "cell_type": "code",
   "execution_count": null,
   "id": "119cdc42",
   "metadata": {
    "hidden": true
   },
   "outputs": [],
   "source": [
    "len(idx), len(dfc_allcollected_)"
   ]
  },
  {
   "cell_type": "code",
   "execution_count": null,
   "id": "dc86de00",
   "metadata": {
    "hidden": true
   },
   "outputs": [],
   "source": [
    "grp['mtime'].max?"
   ]
  },
  {
   "cell_type": "code",
   "execution_count": null,
   "id": "73ee7c88",
   "metadata": {
    "hidden": true
   },
   "outputs": [],
   "source": [
    "grp.max('mtime').reset_index()#.query('custom_suffix == \"CNslide_trim0_dhittw0_s_scX1Y1_drall_dtall\"')"
   ]
  },
  {
   "cell_type": "code",
   "execution_count": null,
   "id": "0785ba72",
   "metadata": {
    "hidden": true
   },
   "outputs": [],
   "source": [
    "grp.max('mtime').reset_index().sort_values('mtime')['mtime']"
   ]
  },
  {
   "cell_type": "code",
   "execution_count": null,
   "id": "9c8064ba",
   "metadata": {
    "hidden": true
   },
   "outputs": [],
   "source": [
    "dfc_allcollected_.loc[idx].sort_values('mtime')['mtime']"
   ]
  },
  {
   "cell_type": "code",
   "execution_count": null,
   "id": "02a4a715",
   "metadata": {
    "hidden": true
   },
   "outputs": [],
   "source": [
    "# select max time within suffix\n",
    "dfc_clean = aggRows(dfc_allcollected_, 'mtime_sec', \n",
    "                   operation= 'max', coltake='corresp', colgrp = cols_unique_)\n",
    "grp = dfc_clean.groupby('custom_suffix')\n",
    "display( grp['mtime'].describe(datetime_is_numeric=True) ['max'] )\n",
    "#dfc = dfc_clean"
   ]
  },
  {
   "cell_type": "code",
   "execution_count": null,
   "id": "89044d8d",
   "metadata": {
    "hidden": true
   },
   "outputs": [],
   "source": [
    "dfc_clean = dfc_allcollected_.sort_values('mtime', ascending=False).drop_duplicates(cols_unique_)\n",
    "grp = dfc_clean.groupby('custom_suffix')\n",
    "display( grp['mtime'].describe(datetime_is_numeric=True) ['max'] )"
   ]
  },
  {
   "cell_type": "code",
   "execution_count": null,
   "id": "d858b711",
   "metadata": {
    "hidden": true
   },
   "outputs": [],
   "source": [
    "dftmp0 = dfc_allcollected_.sample(1000).sort_values('mtime')"
   ]
  },
  {
   "cell_type": "code",
   "execution_count": null,
   "id": "b54251c1",
   "metadata": {
    "hidden": true
   },
   "outputs": [],
   "source": [
    "dftmp1 = dftmp "
   ]
  },
  {
   "cell_type": "code",
   "execution_count": null,
   "id": "d8b55e18",
   "metadata": {
    "hidden": true
   },
   "outputs": [],
   "source": [
    "dftmp2 = dftmp "
   ]
  },
  {
   "cell_type": "code",
   "execution_count": null,
   "id": "71c59c8a",
   "metadata": {
    "hidden": true
   },
   "outputs": [],
   "source": [
    "dftmp3 = dftmp "
   ]
  },
  {
   "cell_type": "code",
   "execution_count": null,
   "id": "dc960ffc",
   "metadata": {
    "hidden": true
   },
   "outputs": [],
   "source": [
    "# select max time within suffix\n",
    "difsec = 0\n",
    "while difsec < 1e-10:\n",
    "    dftmp = dftmp3.sample(5).sort_values('mtime')\n",
    "    #dftmp = dftmp1.sample(20).sort_values('mtime')\n",
    "    #dftmp = dftmp0.sample(100).sort_values('mtime')\n",
    "    #dftmp = dftmp0\n",
    "    grp = dftmp.groupby('custom_suffix')\n",
    "    desc_max0 = grp['mtime'].describe(datetime_is_numeric=True) ['max']\n",
    "    display(desc_max0  )\n",
    "    dfc_clean = aggRows(dftmp, 'mtime_sec', \n",
    "                       operation= 'max', coltake='corresp', colgrp = cols_unique_)\n",
    "    grp = dfc_clean.groupby('custom_suffix')\n",
    "    desc_max = grp['mtime'].describe(datetime_is_numeric=True) ['max']\n",
    "    display(desc_max  )\n",
    "    #dfc = dfc_clean\n",
    "    difsec = (desc_max0.iloc[0] - desc_max.iloc[0]).total_seconds()\n",
    "    print(difsec)"
   ]
  },
  {
   "cell_type": "code",
   "execution_count": null,
   "id": "b1f9b822",
   "metadata": {
    "hidden": true
   },
   "outputs": [],
   "source": []
  },
  {
   "cell_type": "code",
   "execution_count": null,
   "id": "ba41a900",
   "metadata": {
    "hidden": true
   },
   "outputs": [],
   "source": [
    "grp0 = dftmp.groupby(cols_unique_)\n",
    "grp0['mtime'].idxmax()"
   ]
  },
  {
   "cell_type": "code",
   "execution_count": null,
   "id": "9473e5ca",
   "metadata": {
    "hidden": true
   },
   "outputs": [],
   "source": [
    "cols_unique_"
   ]
  },
  {
   "cell_type": "code",
   "execution_count": null,
   "id": "139d2159",
   "metadata": {
    "hidden": true
   },
   "outputs": [],
   "source": [
    "grp0['mtime'].max().reset_index()"
   ]
  },
  {
   "cell_type": "code",
   "execution_count": null,
   "id": "19076504",
   "metadata": {
    "hidden": true
   },
   "outputs": [],
   "source": [
    "set(cols_unique) ^ set(cols_unique_)"
   ]
  },
  {
   "cell_type": "code",
   "execution_count": null,
   "id": "bd5d6f3a",
   "metadata": {
    "hidden": true
   },
   "outputs": [],
   "source": [
    "cols = ['subject',\n",
    " 'env',\n",
    " 'tmin',\n",
    " 'dec_type',\n",
    " 'custom_suffix', 'mtime']"
   ]
  },
  {
   "cell_type": "code",
   "execution_count": null,
   "id": "8970ae11",
   "metadata": {
    "hidden": true
   },
   "outputs": [],
   "source": [
    "dftmp[cols].sort_values('mtime')"
   ]
  },
  {
   "cell_type": "code",
   "execution_count": null,
   "id": "7d3e2ce2",
   "metadata": {
    "hidden": true
   },
   "outputs": [],
   "source": [
    "# remove 4164 -- compared to 5172 same everything except custom suffix\n",
    "dfc_clean[cols].sort_values('mtime')"
   ]
  },
  {
   "cell_type": "code",
   "execution_count": null,
   "id": "7b695521",
   "metadata": {
    "hidden": true
   },
   "outputs": [],
   "source": [
    "dfc = dfc_allcollected"
   ]
  },
  {
   "cell_type": "code",
   "execution_count": null,
   "id": "81d86234",
   "metadata": {
    "hidden": true
   },
   "outputs": [],
   "source": [
    "from behav_proc import aggRowsws"
   ]
  },
  {
   "cell_type": "code",
   "execution_count": null,
   "id": "5f435ceb",
   "metadata": {
    "hidden": true
   },
   "outputs": [],
   "source": [
    "from datetime import timedelta"
   ]
  },
  {
   "cell_type": "code",
   "execution_count": null,
   "id": "0a8c9dca",
   "metadata": {
    "hidden": true
   },
   "outputs": [],
   "source": [
    "tdm.total_seconds()"
   ]
  },
  {
   "cell_type": "code",
   "execution_count": null,
   "id": "12bead4c",
   "metadata": {
    "hidden": true
   },
   "outputs": [],
   "source": [
    "tdm = dfc['mtime'].diff().min()"
   ]
  },
  {
   "cell_type": "code",
   "execution_count": null,
   "id": "0097caa1",
   "metadata": {
    "hidden": true
   },
   "outputs": [],
   "source": [
    "isinstance( date_cutoff, datetime, )"
   ]
  },
  {
   "cell_type": "code",
   "execution_count": null,
   "id": "c52c4632",
   "metadata": {
    "hidden": true
   },
   "outputs": [],
   "source": []
  },
  {
   "cell_type": "code",
   "execution_count": null,
   "id": "5eac827b",
   "metadata": {
    "hidden": true
   },
   "outputs": [],
   "source": [
    "len(dfc_clean), len(dfc)"
   ]
  },
  {
   "cell_type": "code",
   "execution_count": null,
   "id": "3bfe9a78",
   "metadata": {
    "hidden": true
   },
   "outputs": [],
   "source": [
    "#dfc.groupby(cols_unique_)"
   ]
  },
  {
   "cell_type": "code",
   "execution_count": null,
   "id": "ad793174",
   "metadata": {
    "hidden": true
   },
   "outputs": [],
   "source": [
    "date_cutoff = parser.parse('02 june 2023 15:00')\n",
    "#date_cutoff = parser.parse('02 june 2023 15:00')\n",
    "dfc_cut = dfc[dfc['mtime'] > date_cutoff]"
   ]
  },
  {
   "cell_type": "code",
   "execution_count": null,
   "id": "968bf137",
   "metadata": {
    "hidden": true
   },
   "outputs": [],
   "source": [
    "dfc['time_locked'].unique()"
   ]
  },
  {
   "cell_type": "code",
   "execution_count": null,
   "id": "549eeea5",
   "metadata": {
    "hidden": true
   },
   "outputs": [],
   "source": [
    "from postproc import extractB2Bcols"
   ]
  },
  {
   "cell_type": "code",
   "execution_count": null,
   "id": "ab3db7fb",
   "metadata": {
    "hidden": true
   },
   "outputs": [],
   "source": [
    "dfc = dfc.query('custom_suffix.str.startswith(\"CNslide\")'\n",
    "                ' and control_type == \"movement\" and time_locked == \"target\"')\n",
    "dfc_, df_b2b_plot = extractB2Bcols(dfc)\n",
    "\n",
    "sz =  dfc.groupby(cols_unique_).size()\n",
    "print('min dup = {}, max dup = {}'.\\\n",
    "            format(sz.min(), sz.max() ) )"
   ]
  },
  {
   "cell_type": "code",
   "execution_count": null,
   "id": "47fd0b60",
   "metadata": {
    "hidden": true
   },
   "outputs": [],
   "source": [
    "#hours_since"
   ]
  },
  {
   "cell_type": "code",
   "execution_count": null,
   "id": "ff62017b",
   "metadata": {
    "hidden": true
   },
   "outputs": [],
   "source": [
    "np.max(days_since)"
   ]
  },
  {
   "cell_type": "code",
   "execution_count": null,
   "id": "90652833",
   "metadata": {
    "hidden": true
   },
   "outputs": [],
   "source": [
    "grp.groups.keys()"
   ]
  },
  {
   "cell_type": "markdown",
   "id": "1266b7c0",
   "metadata": {
    "heading_collapsed": true
   },
   "source": [
    "### hist of times"
   ]
  },
  {
   "cell_type": "code",
   "execution_count": null,
   "id": "853e95a6",
   "metadata": {
    "hidden": true
   },
   "outputs": [],
   "source": [
    "sns.set(font_scale=1.)\n",
    "import matplotlib.dates as mdates\n",
    "from datetime import datetime, timedelta\n",
    "grp = dfc.groupby(['custom_suffix'] )\n",
    "for suff,inds in grp.groups.items():\n",
    "    df_ = dfc.loc[inds]\n",
    "    date_list = list( sorted( df_['mtime'] ) )\n",
    "    #date_st = datetime(2023,5,31)\n",
    "    date_st = datetime(2023,6,2)\n",
    "    # Calculate the number of days since May 31st and the number of minutes since the corresponding day start\n",
    "    days_since = [(date - date_st).days for date in date_list]\n",
    "    hours_since = [(date - date_st).components.hours for date in date_list]\n",
    "    minutes_since_ds = [(date - date.replace(hour=0, minute=0)).total_seconds() / 60 for date in date_list]\n",
    "    minutes_since = [(date - date_st).total_seconds() / 60 for date in date_list]\n",
    "\n",
    "    # Create a histogram of the dates\n",
    "    fig = plt.figure(figsize=(10,3))\n",
    "    ax = plt.gca()\n",
    "    ax.hist(minutes_since, bins=30)\n",
    "\n",
    "    # Set the x-axis tick format\n",
    "    ax.xaxis.set_major_locator(plt.MaxNLocator(integer=True))\n",
    "    dts = [date_st + timedelta(days=int(day), minutes=int(minute)) for day,minute in zip(days_since, minutes_since)]\n",
    "    xts = [f'{int(day)}\\n{int(minute)}\\n{date.strftime(\"%H:%M\")}' for day,minute,date in zip(days_since, minutes_since_ds,dts)]\n",
    "    #ax.set_xticks(range(len(days_since)))\n",
    "    \n",
    "    def ff(x,f):\n",
    "        x = int(x)\n",
    "        #print(x,f)\n",
    "        r = str(x)\n",
    "        if x < len(days_since):\n",
    "            r = f'{int(days_since[(x)])}\\n{int(minutes_since_ds[(x)])}\\n{date_list[(x)].strftime(\"%H:%M\")}'\n",
    "        return r\n",
    "    ax.xaxis.set_major_formatter(ff)\n",
    "    \n",
    "    #ax.set_xticklabels(xts)\n",
    "\n",
    "    # Set the x-axis label and title\n",
    "    ax.set_xlabel(f'Days Since {date_st} and Minutes Since Day Start')\n",
    "    ax.set_ylabel('Frequency')\n",
    "    ax.set_title('Histogram of Dates ' + suff)\n",
    "    \n",
    "    #break\n",
    "\n",
    "    #plt.show()"
   ]
  },
  {
   "cell_type": "code",
   "execution_count": null,
   "id": "f829be4c",
   "metadata": {
    "hidden": true
   },
   "outputs": [],
   "source": [
    "len(days_since)"
   ]
  },
  {
   "cell_type": "code",
   "execution_count": null,
   "id": "e4e03aad",
   "metadata": {
    "hidden": true
   },
   "outputs": [],
   "source": [
    "tmins_all = dfc.tmin.unique()\n",
    "print(tmins_all), len(tmins_all)"
   ]
  },
  {
   "cell_type": "code",
   "execution_count": null,
   "id": "e9af5442",
   "metadata": {
    "hidden": true
   },
   "outputs": [],
   "source": [
    "#tmins_to_plot = ['-0.36', '-0.13', '0.10', '0.34']\n",
    "tmins_to_plot = ['-1.06', '-0.82', '-0.59', '-0.36', '-0.13', '0.10', '0.34', '0.57', '0.80', '1.03']\n",
    "tmins_to_plot = tmins_all"
   ]
  },
  {
   "cell_type": "code",
   "execution_count": null,
   "id": "9f121898",
   "metadata": {
    "hidden": true
   },
   "outputs": [],
   "source": [
    "#dfc.columns"
   ]
  },
  {
   "cell_type": "markdown",
   "id": "3fe17f8c",
   "metadata": {
    "heading_collapsed": true,
    "hidden": true
   },
   "source": [
    "#### reshape debug"
   ]
  },
  {
   "cell_type": "code",
   "execution_count": null,
   "id": "dadfc8f4",
   "metadata": {
    "hidden": true
   },
   "outputs": [],
   "source": [
    "display(arr_reshaped)"
   ]
  },
  {
   "cell_type": "code",
   "execution_count": null,
   "id": "09a90a28",
   "metadata": {
    "hidden": true
   },
   "outputs": [],
   "source": [
    "arr.reshape(8, 3) - arr.transpose(0,2,1).reshape(8, 3)"
   ]
  },
  {
   "cell_type": "code",
   "execution_count": null,
   "id": "27434598",
   "metadata": {
    "hidden": true
   },
   "outputs": [],
   "source": [
    "arr_reshaped.shape, arr.transpose(0,2,1).shape"
   ]
  },
  {
   "cell_type": "code",
   "execution_count": null,
   "id": "4cb6358c",
   "metadata": {
    "hidden": true
   },
   "outputs": [],
   "source": [
    "arr_back[:,0,:], arr_back[:,1,:]"
   ]
  },
  {
   "cell_type": "code",
   "execution_count": null,
   "id": "92c094f4",
   "metadata": {
    "hidden": true
   },
   "outputs": [],
   "source": [
    "arr_back[0,:,:],arr_back[1,:,:]"
   ]
  },
  {
   "cell_type": "code",
   "execution_count": null,
   "id": "a159e789",
   "metadata": {
    "hidden": true
   },
   "outputs": [],
   "source": [
    "import numpy as np\n",
    "\n",
    "arr = np.arange(24).reshape(2, 3, 4)\n",
    "arr[:,1,:] *= 10\n",
    "arr[:,2,:] *= 100\n",
    "print(\"Original array:\\n\", arr)\n",
    "\n",
    "# Reshape to 3x8 array\n",
    "arr_reshaped = arr.transpose(0,2,1).reshape(-1, 3)\n",
    "print(\"\\nReshaped array:\\n\", arr_reshaped)\n",
    "from sklearn.preprocessing import RobustScaler as robsc\n",
    "arr_reshaped1 = robsc(with_centering=True, unit_variance=False).fit_transform(arr_reshaped)\n",
    "\n",
    "print(arr_reshaped1)\n",
    "\n",
    "# Reshape back to 2x3x4 array\n",
    "arr_back = arr_reshaped1.reshape(arr.transpose(0,2,1).shape).transpose((0,2,1))# * 100\n",
    "print(\"\\nBack to original shape:\\n\", arr_back)\n"
   ]
  },
  {
   "cell_type": "code",
   "execution_count": null,
   "id": "a9aa4bda",
   "metadata": {
    "hidden": true
   },
   "outputs": [],
   "source": [
    "tmins_to_plot"
   ]
  },
  {
   "cell_type": "code",
   "execution_count": null,
   "id": "4163fd98",
   "metadata": {
    "hidden": true
   },
   "outputs": [],
   "source": [
    "suffixes_present"
   ]
  },
  {
   "cell_type": "markdown",
   "id": "92a61b43",
   "metadata": {},
   "source": [
    "## continue"
   ]
  },
  {
   "cell_type": "code",
   "execution_count": null,
   "id": "316dcfe9",
   "metadata": {},
   "outputs": [],
   "source": [
    "varsets = dfc.query('dec_type == \"classic\"')['varset'].unique()\n",
    "print(list(varsets))\n",
    "varnames0 = list(set(';'.join(varsets).split(';') ) )#.split(',')\n",
    "print('varnames0',varnames0)"
   ]
  },
  {
   "cell_type": "code",
   "execution_count": null,
   "id": "ae540d26",
   "metadata": {},
   "outputs": [],
   "source": [
    "from postproc import extractClassicCols\n",
    "#varnames0 = ['prev_movement','prev_belief','movement','belief','feedback',\n",
    "#             'error','prev_error','err_sens','next_error','correction' ]\n",
    "#varnames0 = varnames\n",
    "df_class_plot = extractClassicCols(dfc, defvarcolns=varnames0,\n",
    "                                  error_handling = 'ignore')"
   ]
  },
  {
   "cell_type": "code",
   "execution_count": null,
   "id": "7eb7d515",
   "metadata": {
    "code_folding": []
   },
   "outputs": [],
   "source": [
    "from postproc import extractB2Bcols\n",
    "try:\n",
    "    dfc_, df_b2b_plot0 = extractB2Bcols(dfc, toclean=varnames0)\n",
    "except Exception as e:                    \n",
    "    print('EXC',e)\n",
    "    exc_info = sys.exc_info()\n",
    "    exc = traceback.TracebackException(*exc_info, capture_locals=True)\n",
    "    ei = exc_info[2]    \n",
    "    #display(ei.tb_frame)\n",
    "    psf = ei\n",
    "\n",
    "    lfprev = None; lf = None\n",
    "    lfs = []\n",
    "    di = 0\n",
    "    while psf.tb_frame is not None:\n",
    "        stackframe = psf.tb_frame        \n",
    "\n",
    "        psf = psf.tb_next  \n",
    "        if ('conda' not in stackframe.f_code.co_filename) and\\\n",
    "            ('mamba' not in stackframe.f_code.co_filename):        \n",
    "            display(di, stackframe)\n",
    "            lfprev = lf\n",
    "            lf = stackframe.f_locals\n",
    "            lfs += [lf]\n",
    "            di += 1\n",
    "        if psf is None:\n",
    "            break    \n",
    "\n",
    "    #raise e\n",
    "    print('EXC',e)"
   ]
  },
  {
   "cell_type": "code",
   "execution_count": null,
   "id": "e2a67a17",
   "metadata": {},
   "outputs": [],
   "source": [
    "[cn for cn in list(df_b2b_plot0.columns) if cn.find('err_sens') >= 0]"
   ]
  },
  {
   "cell_type": "code",
   "execution_count": null,
   "id": "2f23f553",
   "metadata": {},
   "outputs": [],
   "source": [
    "df_b2b_plot = pd.concat([df_class_plot,df_b2b_plot0] )"
   ]
  },
  {
   "cell_type": "code",
   "execution_count": null,
   "id": "ebeaa8c4",
   "metadata": {},
   "outputs": [],
   "source": [
    "df_b2b_plot"
   ]
  },
  {
   "cell_type": "code",
   "execution_count": null,
   "id": "a62ed70f",
   "metadata": {},
   "outputs": [],
   "source": [
    "#df_b2b_plot = df_class_plot"
   ]
  },
  {
   "cell_type": "code",
   "execution_count": null,
   "id": "4e5f1745",
   "metadata": {},
   "outputs": [],
   "source": [
    "cols0 = ['rt','custom_suffix','time_locked','control_type','dec_type',\n",
    "         'varseti','varname','tmin']\n",
    "cols_ = list( set(cols_unique) - set(['env']) ); cols_"
   ]
  },
  {
   "cell_type": "code",
   "execution_count": null,
   "id": "484ebbf9",
   "metadata": {},
   "outputs": [],
   "source": [
    "def f(row):\n",
    "    x = row['vals_to_plot']\n",
    "    from postproc import ListWrap\n",
    "    if isinstance(x, ListWrap):\n",
    "        x = x.data    \n",
    "    else:\n",
    "        if not isinstance(x,float):\n",
    "            print(type(x))\n",
    "    if isinstance(x, list) or isinstance(x, np.ndarray):        \n",
    "        if len(x ) != 1:\n",
    "            print(row['dec_type'],row)\n",
    "            raise ValueError('ee')\n",
    "        x = x[0]\n",
    "    return x\n",
    "df_b2b_plot['vals_to_plot'] = df_b2b_plot.apply(f,1)\n",
    "\n",
    "rnd = df_b2b_plot.query('env == \"random\"').set_index(['subject'] + cols0)\n",
    "stb = df_b2b_plot.query('env == \"stable\"').set_index(['subject'] + cols0)\n",
    "\n",
    "dfconddif = stb['vals_to_plot'] - rnd['vals_to_plot']\n",
    "dfconddif = dfconddif.to_frame().rename(columns={'vals_to_plot':'difcond'})"
   ]
  },
  {
   "cell_type": "code",
   "execution_count": null,
   "id": "e569e006",
   "metadata": {},
   "outputs": [],
   "source": [
    "#get tmins\n",
    "tl2tmins_to_plot = {}\n",
    "tl2indhome = {}\n",
    "for tl in df_b2b_plot['time_locked'].unique():    \n",
    "    tmins_to_plot  = list(sorted( df_b2b_plot.query('time_locked == @tl')['tmin'].unique(), key=lambda x: float(x) ) )\n",
    "    tl2tmins_to_plot[tl] = tmins_to_plot\n",
    "    print(tl, len(tmins_to_plot))\n",
    "    \n",
    "    if '-0.50' in tmins_to_plot:\n",
    "        indhome = tmins_to_plot.index('-0.50'); print(indhome)\n",
    "    elif '-0.59' in tmins_to_plot:\n",
    "        indhome = tmins_to_plot.index('-0.59'); print(indhome)\n",
    "    else:\n",
    "        try:\n",
    "            indhome = tmins_to_plot.index('0.09'); print(indhome)\n",
    "        except ValueError as e:\n",
    "            indhome = None\n",
    "    \n",
    "    tl2indhome[tl] = indhome\n",
    "print( tl2indhome )\n",
    "\n",
    "control_type_present = df_b2b_plot['control_type'].unique(); \n",
    "print(control_type_present)\n",
    "time_lockeds_present = df_b2b_plot['time_locked'].unique(); control_type_present\n",
    "print(time_lockeds_present)"
   ]
  },
  {
   "cell_type": "code",
   "execution_count": null,
   "id": "953876e6",
   "metadata": {},
   "outputs": [],
   "source": [
    "df_b2b_plot.groupby(['dec_type','varseti','varname']).size()"
   ]
  },
  {
   "cell_type": "code",
   "execution_count": null,
   "id": "c8323dc0",
   "metadata": {},
   "outputs": [],
   "source": [
    "grp_stb_sz = stb.groupby(cols0).size()\n",
    "if grp_stb_sz.max() > 20:\n",
    "#display(grp_stb_sz)\n",
    "    row = grp_stb_sz[grp_stb_sz > 20].to_frame().iloc[0]\n",
    "    inds = stb.groupby(cols0).groups[row.name]\n",
    "\n",
    "#stb.groupby(['rt']).size()\n",
    "\n",
    "    display(stb.loc[inds])"
   ]
  },
  {
   "cell_type": "code",
   "execution_count": null,
   "id": "e0a1064f",
   "metadata": {},
   "outputs": [],
   "source": [
    "#dfconddif"
   ]
  },
  {
   "cell_type": "code",
   "execution_count": null,
   "id": "beea4d65",
   "metadata": {
    "code_folding": [
     0
    ]
   },
   "outputs": [],
   "source": [
    "# cols_ = list( set(cols_unique) - set(['env']) ); cols_\n",
    "# # takes several minutes\n",
    "# grp = df_b2b_plot.groupby(cols_ + ['varseti','varname'])\n",
    "# assert grp.size().max() == 2\n",
    "\n",
    "# def f(dftmp):\n",
    "#     assert set( dftmp['env'].unique() ) == set(['random','stable'])\n",
    "#     d = dftmp.set_index('env').to_dict('index')\n",
    "#     r = d['stable']['vals_to_plot'] - d['random']['vals_to_plot']\n",
    "#     return r\n",
    "# dfconddif = grp.apply(f)\n",
    "# dfconddif= dfconddif.reset_index(name='difcond')"
   ]
  },
  {
   "cell_type": "code",
   "execution_count": null,
   "id": "97de574b",
   "metadata": {},
   "outputs": [],
   "source": [
    "#display(grp.size().describe())"
   ]
  },
  {
   "cell_type": "code",
   "execution_count": null,
   "id": "5aa0e2e4",
   "metadata": {},
   "outputs": [],
   "source": [
    "# todo show slurm id"
   ]
  },
  {
   "cell_type": "code",
   "execution_count": null,
   "id": "40e24605",
   "metadata": {},
   "outputs": [],
   "source": [
    "# compare mean vs random decoding\n",
    "from base2 import decod_stats # X - participant x times\n",
    "def f(dftmp):\n",
    "    r = dftmp.pivot(index='subject', columns='tmin', values='difcond')\n",
    "    time_order = r.columns.tolist()\n",
    "    #print(r.shape)  #participant x times\n",
    "    r = r.to_numpy()\n",
    "    pvals =  decod_stats(r, n_jobs=4, n_permutations = 2**10)\n",
    "    res = pd.DataFrame({'pvalue': pvals, 'tmin':time_order})#.set_index('tmin')\n",
    "    #display(res)\n",
    "    return res\n",
    "#cols0 = ['custom_suffix','time_locked','control_type','dec_type','varseti','varname','tmin']\n",
    "grp = dfconddif.groupby(cols0)\n",
    "assert grp.size().max() == 20,  grp.size().max()\n",
    "dfconddif_pv = dfconddif.reset_index().groupby(list(set(cols0) - set(['tmin']))).apply(f)\n",
    "dfconddif_pv['signif'] = dfconddif_pv['pvalue'] < 0.05\n",
    "\n",
    "#base2.py:82: RuntimeWarning: Provided stat_fun does not treat variables independently. Setting buffer_size to None.\n",
    "#  T_obs_, clusters, p_values, _ = permutation_cluster_1samp_test(\n",
    "#/p/project/icei-hbp-2022-0017/memerr/code/base2.py:82: RuntimeWarning: No clusters found, returning empty H0, clusters, and cluster_pv"
   ]
  },
  {
   "cell_type": "code",
   "execution_count": null,
   "id": "aa9eaffb",
   "metadata": {},
   "outputs": [],
   "source": [
    "# compare stable dec with zero\n",
    "from base2 import decod_stats # X - participant x times\n",
    "def f(dftmp):\n",
    "    r = dftmp.pivot(index='subject', columns='tmin', values='vals_to_plot')\n",
    "    time_order = r.columns.tolist()\n",
    "    #print(r.shape)  #participant x times\n",
    "    r = r.to_numpy()\n",
    "    pvals =  decod_stats(r, n_jobs=4, n_permutations = 2**10)\n",
    "    res = pd.DataFrame({'pvalue': pvals, 'tmin':time_order})#.set_index('tmin')\n",
    "    #display(res)\n",
    "    return res\n",
    "\n",
    "#cols_ = list( set(cols_unique) - set(['subject'])); #cols_\n",
    "#cols__ = cols_ + ['varseti','varname']\n",
    "#print(cols__)\n",
    "df_ = df_b2b_plot.query('env == \"stable\"')\n",
    "#grp = df_.groupby(cols__)\n",
    "grp = df_.groupby(cols0)\n",
    "#grp = dfconddif.groupby(['custom_suffix','varseti','varname','control_type','tmin'])\n",
    "assert grp.size().max() == 20, grp.size().max()\n",
    "dfconddif0_pv = df_.groupby(list(set(cols0) - set(['tmin']))).apply(f)\n",
    "dfconddif0_pv['signif'] = dfconddif0_pv['pvalue'] < 0.05\n",
    "\n",
    "# compare random dec with zero\n",
    "df_ = df_b2b_plot.query('env == \"random\"')\n",
    "#grp = df_.groupby(cols__)\n",
    "grp = df_.groupby(cols0)\n",
    "#grp = dfconddif.groupby(['custom_suffix','varseti','varname','control_type','tmin'])\n",
    "assert grp.size().max() == 20, grp.size().max()\n",
    "dfconddif0r_pv = df_.groupby(list(set(cols0) - set(['tmin']))).apply(f)\n",
    "dfconddif0r_pv['signif'] = dfconddif0r_pv['pvalue'] < 0.05"
   ]
  },
  {
   "cell_type": "code",
   "execution_count": null,
   "id": "0f82901d",
   "metadata": {},
   "outputs": [],
   "source": [
    "#cols_unique"
   ]
  },
  {
   "cell_type": "code",
   "execution_count": null,
   "id": "8d04f8eb",
   "metadata": {},
   "outputs": [],
   "source": [
    "gc.collect()"
   ]
  },
  {
   "cell_type": "code",
   "execution_count": null,
   "id": "bff9ac85",
   "metadata": {},
   "outputs": [],
   "source": [
    "#suffixes_present"
   ]
  },
  {
   "cell_type": "code",
   "execution_count": null,
   "id": "a08bd55c",
   "metadata": {},
   "outputs": [],
   "source": [
    "#df_b2b_plot.columns"
   ]
  },
  {
   "cell_type": "code",
   "execution_count": null,
   "id": "ee00137a",
   "metadata": {},
   "outputs": [],
   "source": [
    "cols0"
   ]
  },
  {
   "cell_type": "code",
   "execution_count": null,
   "id": "e869d88a",
   "metadata": {},
   "outputs": [],
   "source": [
    "#df_b2b_plot.groupby(['subject'] + cols0 + ['env']).size()"
   ]
  },
  {
   "cell_type": "code",
   "execution_count": null,
   "id": "3b7694aa",
   "metadata": {},
   "outputs": [],
   "source": [
    "#df_b2b_plot.groupby(cols0).size()"
   ]
  },
  {
   "cell_type": "code",
   "execution_count": null,
   "id": "d68831b2",
   "metadata": {},
   "outputs": [],
   "source": [
    "df_b2b_plot.groupby(cols0)['subject'].nunique().max(),\\\n",
    "    df_b2b_plot.groupby(cols0)['subject'].nunique().min()"
   ]
  },
  {
   "cell_type": "code",
   "execution_count": null,
   "id": "5c6085a9",
   "metadata": {},
   "outputs": [],
   "source": [
    "gc.collect()"
   ]
  },
  {
   "cell_type": "code",
   "execution_count": null,
   "id": "b22e5cf3",
   "metadata": {},
   "outputs": [],
   "source": [
    "from postproc import runStatTests\n",
    "alt = 'two-sided'\n",
    "# TODO: make more verbose in verbose = 0\n",
    "df_ttest_res = runStatTests(df_b2b_plot, cols0, alt, \n",
    "                            verbose=0)"
   ]
  },
  {
   "cell_type": "code",
   "execution_count": null,
   "id": "73816f24",
   "metadata": {
    "code_folding": [
     4
    ]
   },
   "outputs": [],
   "source": [
    "verbose = 0\n",
    "# takes a long time to finish\n",
    "from scipy.stats import ttest_rel, ttest_1samp\n",
    "alt = 'two-sided'\n",
    "def f(df):\n",
    "    vsd = {}\n",
    "    vsl = []\n",
    "    resd = {'stable_greater_random':np.nan}\n",
    "    \n",
    "    # choosing subject present for both env\n",
    "    subjs = []\n",
    "    for env_cur in ['stable', 'random']:        \n",
    "        ss = df.query('env == @env_cur')['subject'].unique()\n",
    "        subjs += [ss]\n",
    "    subj_both = list(set(subjs[0]) & set(subjs[1]))\n",
    "    \n",
    "    for env_cur in ['stable', 'random']:        \n",
    "        dftmp = df.query('env == @env_cur')            \n",
    "        if len(dftmp) == 0:\n",
    "            #print(f'zero len for {ct}: {varname}, skipping')\n",
    "            continue\n",
    "        assert len(dftmp) <= 20, len(dftmp)\n",
    "        vsd[env_cur] = dftmp['vals_to_plot'].values\n",
    "        \n",
    "        dftmp = dftmp.query('subject in @subj_both')        \n",
    "        vsl += [dftmp['vals_to_plot'].values]\n",
    "    if len(vsd) == 0:\n",
    "        return None\n",
    "    for env_cur in ['stable', 'random']:\n",
    "        if env_cur not in vsd:\n",
    "            print(f'No {env_cur} found')\n",
    "            print(df[cols0].iloc[0])\n",
    "            resd = pd.DataFrame([resd])\n",
    "            return resd\n",
    "                \n",
    "        tr = ttest_1samp( vsd[env_cur], 0, alternative=alt )\n",
    "        s = ' '\n",
    "        if tr.pvalue < 0.05:\n",
    "            s = '*'\n",
    "        #if (tr.pvalue < 0.05) or (not signif_only):\n",
    "        #    print(s + '{} control={:8}, var={:14}, {}>0, pvalue={:.4f}'.format(tmin, ct, varname, env_cur, tr.pvalue) )\n",
    "        resd[env_cur] = tr.pvalue\n",
    "        resd[env_cur + '_len'] = len(vsd[env_cur])\n",
    "    if len(vsl[0]) != len(vsl[1]):\n",
    "        print('Not equal!', (len(vsl[0]), len(vsl[1])) )\n",
    "        print(len(subj_both))\n",
    "        print(df[cols0].iloc[0])\n",
    "        resd = pd.DataFrame([resd])\n",
    "        return resd\n",
    "    \n",
    "    tr = ttest_rel(vsl[0],vsl[1], alternative=alt )\n",
    "    \n",
    "    s = ' '\n",
    "    if tr.pvalue < 0.05:\n",
    "        s = '*'\n",
    "        #tmins_good += [tmin]\n",
    "    #if (tr.pvalue < 0.05) or (not signif_only):\n",
    "    #    print(s + '{} control={:8}, var={:14}, stable>random pvalue={:.4f}'.format(tmin, ct, varname, tr.pvalue) )\n",
    "    #print('')\n",
    "    if alt == 'greater':\n",
    "        resd['stable_greater_random'] = tr.pvalue\n",
    "    else:\n",
    "        resd['stable_neq_random'] = tr.pvalue\n",
    "    #resd['tmin'] = tmin\n",
    "    #resd['varname'] = varname\n",
    "    #resd['control_type'] = ct\n",
    "    #resd['custom_suffix'] = suff\n",
    "    #resd['varseti'] = varseti\n",
    "    resd = pd.DataFrame([resd])\n",
    "    #rows += [resd]\n",
    "    return resd\n",
    "df_ttest_res = df_b2b_plot.groupby(cols0).apply(f)\n",
    "  "
   ]
  },
  {
   "cell_type": "code",
   "execution_count": null,
   "id": "35dfb026",
   "metadata": {},
   "outputs": [],
   "source": [
    "df_ttest_res_sig = df_ttest_res.query('stable_neq_random <= 0.05')\n",
    "df_ttest_res_sig2 = df_ttest_res.query('stable_neq_random <= 0.05 and stable <= 0.05')"
   ]
  },
  {
   "cell_type": "code",
   "execution_count": null,
   "id": "e7026ec1",
   "metadata": {
    "code_folding": []
   },
   "outputs": [],
   "source": [
    "df_ttest_res_basic = df_ttest_res.query('varseti == 0')\n",
    "df_ttest_res_ES = df_ttest_res.query('varseti == 1')\n",
    "\n",
    "display( df_ttest_res_ES['stable_len'].describe(),\n",
    "        df_ttest_res_basic['stable_len'].describe() )\n",
    "\n",
    "#df_ttest_res_sig = df_ttest_res.query('stable_greater_random <= 0.05')\n",
    "print(len(df_ttest_res_sig))"
   ]
  },
  {
   "cell_type": "code",
   "execution_count": null,
   "id": "2525d3b8",
   "metadata": {},
   "outputs": [],
   "source": [
    "#df_ttest_res.index._names, df_ttest_res.columns"
   ]
  },
  {
   "cell_type": "code",
   "execution_count": null,
   "id": "5bff600f",
   "metadata": {
    "code_folding": [
     0
    ]
   },
   "outputs": [],
   "source": [
    "# Do T-tests (old)\n",
    "#suff = 'trim0_dhittw1_s_scX0Y0_drall_dtall'\n",
    "#suff = 'CNhome_trim0_dhittw1_s_scX1Y1_drall_dtall'\n",
    "signif_only = 1\n",
    "rows = []\n",
    "for varseti in [0,1]:\n",
    "    qs = ('varseti == @varseti and custom_suffix == @suff')\n",
    "    for suff in suffixes_present:\n",
    "        print('----------- ' ,suff)    \n",
    "        for ct in control_type_present: #, 'feedback']:\n",
    "            for varname in ['err_sens', 'correction', \n",
    "                    'prev_error', 'error', 'prev_belief', 'prev_movement', 'prev_feedback']:\n",
    "                tmins_good = []\n",
    "                for tmin in tmins_to_plot:\n",
    "                    vsd = {}\n",
    "                    vsl = []\n",
    "                    resd = {}\n",
    "                    for env_cur in ['stable', 'random']:\n",
    "                        qs2 = qs + ' and env == @env_cur and control_type == @ct and varname == @varname'\n",
    "                        qs2 += ' and tmin == @tmin'\n",
    "                        dftmp = df_b2b_plot.query(qs2)            \n",
    "                        if len(dftmp) == 0:\n",
    "                            #print(f'zero len for {ct}: {varname}, skipping')\n",
    "                            continue\n",
    "                        assert len(dftmp) <= 20, len(dftmp)\n",
    "                        vsd[env_cur] = dftmp['vals_to_plot'].values\n",
    "                        vsl += [dftmp['vals_to_plot'].values]\n",
    "                    if len(vsd) == 0:\n",
    "                        continue\n",
    "                    for env_cur in ['stable', 'random']:\n",
    "                        tr = ttest_1samp( vsd[env_cur], 0, alternative='greater' )\n",
    "                        s = ' '\n",
    "                        if tr.pvalue < 0.05:\n",
    "                            s = '*'\n",
    "                        if (tr.pvalue < 0.05) or (not signif_only):\n",
    "                            print(s + '{} control={:8}, var={:14}, {}>0, pvalue={:.4f}'.format(tmin, ct, varname, env_cur, tr.pvalue) )\n",
    "                        resd[env_cur] = tr.pvalue\n",
    "                        resd[env_cur + '_len'] = len(vsd[env_cur])\n",
    "                    tr = ttest_rel(vsl[0],vsl[1], alternative='greater')\n",
    "                    s = ' '\n",
    "                    if tr.pvalue < 0.05:\n",
    "                        s = '*'\n",
    "                        tmins_good += [tmin]\n",
    "                    if (tr.pvalue < 0.05) or (not signif_only):\n",
    "                        print(s + '{} control={:8}, var={:14}, stable>random pvalue={:.4f}'.format(tmin, ct, varname, tr.pvalue) )\n",
    "                    print('')\n",
    "                    resd['stable_greater_random'] = tr.pvalue\n",
    "                    resd['tmin'] = tmin\n",
    "                    resd['varname'] = varname\n",
    "                    resd['control_type'] = ct\n",
    "                    resd['custom_suffix'] = suff\n",
    "                    resd['varseti'] = varseti\n",
    "                    rows += [resd]\n",
    "            \n",
    "            \n",
    "\n",
    "df_ttest_res = pd.DataFrame(rows)\n"
   ]
  },
  {
   "cell_type": "code",
   "execution_count": null,
   "id": "dc574899",
   "metadata": {},
   "outputs": [],
   "source": [
    "cols0"
   ]
  },
  {
   "cell_type": "code",
   "execution_count": null,
   "id": "a1efe158",
   "metadata": {},
   "outputs": [],
   "source": [
    "# just to see numbers, not used later\n",
    "df_ttest_res_ES_sig = df_ttest_res_ES.query('stable_neq_random <= 0.05').reset_index()\n",
    "display( df_ttest_res_ES_sig.groupby(cols0[:-1]).size().max() )\n",
    "df_ttest_res_basic_sig = df_ttest_res_basic.query('stable_neq_random < 0.05').reset_index()\n",
    "#df_ttest_res_basic_sig.groupby(['time_locked','custom_suffix','control_type','varname']).size()\n",
    "display( df_ttest_res_basic_sig.groupby(cols0[:-1]).size().max() )"
   ]
  },
  {
   "cell_type": "code",
   "execution_count": null,
   "id": "11974514",
   "metadata": {},
   "outputs": [],
   "source": [
    "#qs = 'stable_greater_random <= 0.05 and stable <= 0.05'\n",
    "qs = 'stable_neq_random <= 0.05 and stable <= 0.05'\n",
    "df_ttest_res_ES_sig2 = df_ttest_res_ES.query(qs)\n",
    "df_ttest_res_basic_sig2 = df_ttest_res_basic.query(qs)\n",
    "\n",
    "display( df_ttest_res_ES_sig2.groupby(cols0[:-1]).size() )\n",
    "display( df_ttest_res_basic_sig2.groupby(cols0[:-1]).size() )"
   ]
  },
  {
   "cell_type": "markdown",
   "id": "d34a9531",
   "metadata": {
    "heading_collapsed": true
   },
   "source": [
    "### dbg"
   ]
  },
  {
   "cell_type": "code",
   "execution_count": null,
   "id": "c44f94b8",
   "metadata": {
    "hidden": true
   },
   "outputs": [],
   "source": [
    "#set(tmins_good) ^ set(tmins_to_plot), len((tmins_to_plot)), len(tmins_good)"
   ]
  },
  {
   "cell_type": "code",
   "execution_count": null,
   "id": "4a0d898b",
   "metadata": {
    "hidden": true
   },
   "outputs": [],
   "source": [
    "#\n",
    "#dfconddif_pv.sort_values?\n",
    "#dfconddif_pv\n",
    "#dfconddif_pv.loc[(0, varname)]#.query('signif == True')#['tmin']\n",
    "#dfconddif_pv\n",
    "#dfconddif0_pv"
   ]
  },
  {
   "cell_type": "code",
   "execution_count": null,
   "id": "ea8efe4c",
   "metadata": {
    "hidden": true
   },
   "outputs": [],
   "source": [
    "df_ttest_res_sig.index._names"
   ]
  },
  {
   "cell_type": "code",
   "execution_count": null,
   "id": "15618a88",
   "metadata": {
    "hidden": true
   },
   "outputs": [],
   "source": [
    "cols0[:-1]"
   ]
  },
  {
   "cell_type": "code",
   "execution_count": null,
   "id": "68d09f66",
   "metadata": {
    "hidden": true
   },
   "outputs": [],
   "source": [
    "# indcols = df_ttest_res_sig.index._names[:-1]\n",
    "# for df_ in dfconddif0_pv, dfconddif_pv, df_ttest_res_sig:\n",
    "#     df_.reset_index(drop=False, inplace=True)\n",
    "#     df_.set_index(indcols, inplace=True)"
   ]
  },
  {
   "cell_type": "code",
   "execution_count": null,
   "id": "a2c7742b",
   "metadata": {
    "hidden": true
   },
   "outputs": [],
   "source": [
    "#tpl = (tl, ct, 'stable',slice(None), suff, varseti,'b2b', varname)"
   ]
  },
  {
   "cell_type": "code",
   "execution_count": null,
   "id": "57fd0d73",
   "metadata": {
    "hidden": true
   },
   "outputs": [],
   "source": [
    "#suffixes_present"
   ]
  },
  {
   "cell_type": "code",
   "execution_count": null,
   "id": "b8b9d11b",
   "metadata": {
    "hidden": true
   },
   "outputs": [],
   "source": [
    "#df_ttest_res_sig.index._names"
   ]
  },
  {
   "cell_type": "code",
   "execution_count": null,
   "id": "08142407",
   "metadata": {
    "hidden": true
   },
   "outputs": [],
   "source": [
    "#df_ttest_res_sig = df_ttest_res_sig.reset_index()"
   ]
  },
  {
   "cell_type": "code",
   "execution_count": null,
   "id": "c37a9138",
   "metadata": {
    "hidden": true
   },
   "outputs": [],
   "source": [
    "#dec_types_found"
   ]
  },
  {
   "cell_type": "code",
   "execution_count": null,
   "id": "940db37e",
   "metadata": {
    "hidden": true
   },
   "outputs": [],
   "source": [
    "#dfsub = dfconddif_pv.loc[tpl].reset_index(drop=False)"
   ]
  },
  {
   "cell_type": "code",
   "execution_count": null,
   "id": "c0973b32",
   "metadata": {
    "hidden": true
   },
   "outputs": [],
   "source": []
  },
  {
   "cell_type": "code",
   "execution_count": null,
   "id": "1adb034c",
   "metadata": {
    "hidden": true
   },
   "outputs": [],
   "source": [
    "tpl"
   ]
  },
  {
   "cell_type": "code",
   "execution_count": null,
   "id": "637b0da5",
   "metadata": {
    "hidden": true
   },
   "outputs": [],
   "source": [
    "df_ttest_res_sig.loc[tpl]"
   ]
  },
  {
   "cell_type": "code",
   "execution_count": null,
   "id": "3bdd47ad",
   "metadata": {
    "hidden": true
   },
   "outputs": [],
   "source": [
    "gc.collect()"
   ]
  },
  {
   "cell_type": "code",
   "execution_count": null,
   "id": "f773e8b8",
   "metadata": {
    "hidden": true
   },
   "outputs": [],
   "source": [
    "dec_types_found"
   ]
  },
  {
   "cell_type": "code",
   "execution_count": null,
   "id": "d9d50333",
   "metadata": {
    "hidden": true
   },
   "outputs": [],
   "source": [
    "df_b2b_plot.groupby(['subject','custom_suffix','dec_type']).size()"
   ]
  },
  {
   "cell_type": "code",
   "execution_count": null,
   "id": "d5bade05",
   "metadata": {
    "hidden": true
   },
   "outputs": [],
   "source": [
    "df_b2b_plot.groupby('dec_type').size()"
   ]
  },
  {
   "cell_type": "code",
   "execution_count": null,
   "id": "8dc0c50d",
   "metadata": {
    "hidden": true
   },
   "outputs": [],
   "source": [
    "dec_type = 'classic'"
   ]
  },
  {
   "cell_type": "code",
   "execution_count": null,
   "id": "bf29757a",
   "metadata": {
    "hidden": true
   },
   "outputs": [],
   "source": [
    "suff = 'CNslide_trim0_dhittw1_s_scX0Y0_drall_dtall_broad_sh0.232'"
   ]
  },
  {
   "cell_type": "code",
   "execution_count": null,
   "id": "7bd051d0",
   "metadata": {
    "hidden": true
   },
   "outputs": [],
   "source": [
    "suff,tl,dec_type,varseti"
   ]
  },
  {
   "cell_type": "code",
   "execution_count": null,
   "id": "d6badf1c",
   "metadata": {
    "hidden": true
   },
   "outputs": [],
   "source": [
    "df_ = df_b2b_plot_.query(qs + ' and varseti == @varseti')\n",
    "len(df_)"
   ]
  },
  {
   "cell_type": "markdown",
   "id": "c6150bf0",
   "metadata": {},
   "source": [
    "## plot"
   ]
  },
  {
   "cell_type": "code",
   "execution_count": null,
   "id": "f3245957",
   "metadata": {},
   "outputs": [],
   "source": [
    "del df_b2b_plot_"
   ]
  },
  {
   "cell_type": "code",
   "execution_count": null,
   "id": "08411093",
   "metadata": {},
   "outputs": [],
   "source": [
    "gc.collect()"
   ]
  },
  {
   "cell_type": "code",
   "execution_count": null,
   "id": "bbeb3196",
   "metadata": {},
   "outputs": [],
   "source": [
    "qs_ = qs + ' and varseti == 0'\n",
    "df_ = df_b2b_plot_.query(qs_)\n",
    "df_g = df_[~df_['vals_to_plot'].isna()]\n",
    "df_b = df_[df_['vals_to_plot'].isna()]\n",
    "print(len(df_g),len(df_b))"
   ]
  },
  {
   "cell_type": "code",
   "execution_count": null,
   "id": "baa05b39",
   "metadata": {},
   "outputs": [],
   "source": [
    "qs_ = qs + ' and varseti == -1'\n",
    "df_ = df_b2b_plot_.query(qs_)\n",
    "df_g = df_[~df_['vals_to_plot'].isna()]\n",
    "df_b = df_[df_['vals_to_plot'].isna()]\n",
    "print(len(df_g),len(df_b))"
   ]
  },
  {
   "cell_type": "code",
   "execution_count": null,
   "id": "e149f181",
   "metadata": {},
   "outputs": [],
   "source": [
    "sns.relplot(data=df_g, **pargs)"
   ]
  },
  {
   "cell_type": "code",
   "execution_count": null,
   "id": "5174616e",
   "metadata": {},
   "outputs": [],
   "source": [
    "assert "
   ]
  },
  {
   "cell_type": "code",
   "execution_count": null,
   "id": "1942b057",
   "metadata": {},
   "outputs": [],
   "source": [
    "dur = 0.464\n",
    "-0.5 - dur * 10, -0.5 + dur * 12"
   ]
  },
  {
   "cell_type": "code",
   "execution_count": null,
   "id": "7f6c4ea8",
   "metadata": {},
   "outputs": [],
   "source": [
    "df_b2b_plot.groupby('rt').size()"
   ]
  },
  {
   "cell_type": "code",
   "execution_count": null,
   "id": "5ad479a3",
   "metadata": {},
   "outputs": [],
   "source": [
    "list(df_b2b_plot_.varset.unique())"
   ]
  },
  {
   "cell_type": "code",
   "execution_count": null,
   "id": "83a5ad39",
   "metadata": {},
   "outputs": [],
   "source": [
    "# main plot\n",
    "import re\n",
    "df_b2b_plot_ = df_b2b_plot.query('rt == \"Ridge\"').copy()\n",
    "df_b2b_plot_['tmin'] = df_b2b_plot_['tmin'].astype(float)"
   ]
  },
  {
   "cell_type": "code",
   "execution_count": null,
   "id": "7b948ffd",
   "metadata": {},
   "outputs": [],
   "source": [
    "df_b2b_plot.varseti.max()"
   ]
  },
  {
   "cell_type": "code",
   "execution_count": null,
   "id": "4f8bf347",
   "metadata": {},
   "outputs": [],
   "source": [
    "# time_locked = 'target'; dec_type='b2b'; varseti=-1\n",
    "# df_b2b_plot_.query(qs_)['varname'].unique()"
   ]
  },
  {
   "cell_type": "code",
   "execution_count": null,
   "id": "fe377745",
   "metadata": {},
   "outputs": [],
   "source": [
    "cols0"
   ]
  },
  {
   "cell_type": "code",
   "execution_count": null,
   "id": "771f1e3e",
   "metadata": {},
   "outputs": [],
   "source": [
    "path"
   ]
  },
  {
   "cell_type": "code",
   "execution_count": null,
   "id": "fbad610f",
   "metadata": {},
   "outputs": [],
   "source": [
    "#df_b2b_plot.to_picklekle('$')"
   ]
  },
  {
   "cell_type": "code",
   "execution_count": null,
   "id": "e3f37416",
   "metadata": {},
   "outputs": [],
   "source": [
    "(df_b2b_plot.varname.unique())"
   ]
  },
  {
   "cell_type": "code",
   "execution_count": null,
   "id": "6626ca7b",
   "metadata": {},
   "outputs": [],
   "source": [
    "vns = ['prev_error','error','error_pred_Herz','error_pred_Tan',\n",
    "       'error_pred_Died', \n",
    "       'err_sens','err_sens_Herz','err_sens_Tan']\n",
    "vns = vns[1:]"
   ]
  },
  {
   "cell_type": "code",
   "execution_count": null,
   "id": "e6390115",
   "metadata": {},
   "outputs": [],
   "source": []
  },
  {
   "cell_type": "code",
   "execution_count": null,
   "id": "f6a3b205",
   "metadata": {},
   "outputs": [],
   "source": [
    "#df_b2b_plot.to_pickle(pjoin(path_data,'df_b2b_plot__for_Bernstein.pkl.zip'),compression='zip')"
   ]
  },
  {
   "cell_type": "code",
   "execution_count": null,
   "id": "da033c02",
   "metadata": {},
   "outputs": [],
   "source": [
    "list(suffixes_present)"
   ]
  },
  {
   "cell_type": "code",
   "execution_count": null,
   "id": "76dee421",
   "metadata": {},
   "outputs": [],
   "source": [
    "varn2pub1={'error':'Obeserved error', \n",
    "          'error_pred_Herz':'Herzfeld error prediction',\n",
    "         'error_pred_Tan':'Tan error prediction',\n",
    "         'error_pred_Died':'Diedrichsen error prediction'}\n",
    "varn2pub2={'err_sens':'Empirical ES', \n",
    "          'err_sens_Herz':'Herzfeld ES',\n",
    "         'err_sens_Tan':'Tan ES'}"
   ]
  },
  {
   "cell_type": "code",
   "execution_count": null,
   "id": "dd0b0c92",
   "metadata": {},
   "outputs": [],
   "source": [
    "varn2pub = varn2pub1\n",
    "vns_short = list(varn2pub.keys())\n",
    "fign_suff = 'ERRslide'\n",
    "vns_short"
   ]
  },
  {
   "cell_type": "code",
   "execution_count": null,
   "id": "33cb902a",
   "metadata": {},
   "outputs": [],
   "source": [
    "varn2pub = varn2pub2\n",
    "vns_short = list(varn2pub.keys())\n",
    "vns_short\n",
    "fign_suff = 'ESslide'"
   ]
  },
  {
   "cell_type": "code",
   "execution_count": null,
   "id": "916585e5",
   "metadata": {},
   "outputs": [],
   "source": [
    "trial_dur = 3.9145\n",
    "mvt_dur = 0.7558\n",
    "fb_dur = 0.25\n",
    "ITI_dur = 1.5\n",
    "home_dur = 0.5\n",
    "wnd_SPoC_dur = 0.464\n",
    "xvl = 0"
   ]
  },
  {
   "cell_type": "code",
   "execution_count": null,
   "id": "273a1d5d",
   "metadata": {
    "code_folding": []
   },
   "outputs": [],
   "source": [
    "#dfconddif_pv['tmin'] = dfconddif_pv['tmin'].astype(float)\n",
    "#dfconddif_pv= dfconddif_pv.sort_values('tmin')\n",
    "\n",
    "dfconddif0_pv = dfconddif0_pv.reset_index().set_index(cols0[:-1])\n",
    "dfconddif0r_pv = dfconddif0r_pv.reset_index().set_index(cols0[:-1])\n",
    "dfconddif_pv = dfconddif_pv.reset_index().set_index(cols0[:-1])\n",
    "df_ttest_res_sig= df_ttest_res_sig.reset_index().set_index(cols0[:-1])\n",
    "#df_ttest_res_sig2 = df_ttest_res_sig2.reset_index().set_index(cols0[:-1])\n",
    "\n",
    "import seaborn as sns; \n",
    "sns.set(font_scale=2.5)\n",
    "sns.set_style( {'legend.frameon':True})\n",
    "pargs = dict(kind='line',  col='control_type',  row='varname',\n",
    "           x = 'tmin', y = 'vals_to_plot',   hue='env', \n",
    "             hue_order = ['stable','random'], errorbar='se',    \n",
    "             palette=['orange', 'grey'], aspect=3.5, legend=False,\n",
    "             facet_kws={'sharey': False, 'sharex': True} )\n",
    "\n",
    "#for suff in  suffixes_present:\n",
    "for suff in ['CNslideModelES_trim0_dhittw1_s_scX0Y0c1_drall_dtall_broad_sh0.250']:\n",
    "    #for tl in time_lockeds_present:  \n",
    "    for tl in ['feedback']:  \n",
    "        for dec_type in dec_types_found:\n",
    "            #qs = 'control_type == @ct and custom_suffix == @suff'\n",
    "            qs = ('time_locked == @tl and custom_suffix == @suff '\n",
    "                'and dec_type == @dec_type')\n",
    "            suff_short = suff[14:].replace('_drall_dtall','').\\\n",
    "                replace('h0.250','').replace('_s','').replace('dhittw1cX0Y0c1','').replace('trim0','')\n",
    "\n",
    "            #tick_skip = 2\n",
    "            fignames = ['classic','basic_vars','ES']\n",
    "            for varseti, fign in zip([-1, 0,1],fignames ):\n",
    "#             fignames = ['classic_red']\n",
    "#             for varseti, fign in zip([-1],fignames ):\n",
    "                fign_full = f'{dec_type}_{fign_suff}_relplot_' +\\\n",
    "                    f'{suff_short}_{tl}_{fign}.pdf'\n",
    "                qs_ = qs + ' and varseti == @varseti'\n",
    "                if varseti == -1:\n",
    "                    qs_ += ' and varname in @vns_short'\n",
    "                    pargs['row_order'] = vns_short\n",
    "                else:\n",
    "                    pargs['row_order'] = None\n",
    "                df_ = df_b2b_plot_.query(qs_)\n",
    "                df_g = df_[~df_['vals_to_plot'].isna()]\n",
    "                if not len(df_):\n",
    "                    continue\n",
    "                try:\n",
    "                    #fg = sns.relplot(data=df_g, **pargs)\n",
    "                    fg = sns.relplot(data=df_g, **pargs)\n",
    "                except KeyError as e:\n",
    "                    print('Err during relplot ',suff,tl,\n",
    "                          dec_type,varseti,e)\n",
    "                    plt.close()\n",
    "                    continue\n",
    "                axsf = fg.axes.flatten()\n",
    "                for axi,ax in enumerate(axsf):\n",
    "                    ax.axhline(y=0, c='r', ls=':', lw=3)\n",
    "                    ax.axvline(x=xvl, c='r', ls=':', lw=3)\n",
    "                    if tl == 'feedback':\n",
    "                        ax.axvline(x=xvl - mvt_dur - home_dur, c='b', ls=':', lw=3)                    \n",
    "                        ax.axvline(x=xvl - mvt_dur, c='b', ls=':', lw=3)                    \n",
    "                        ax.axvline(x=xvl + fb_dur, c='b', ls=':', lw=3)                    \n",
    "                        ax.axvline(x=xvl + fb_dur + ITI_dur, c='b', ls=':', lw=3)                    \n",
    "                    elif tl == 'target':\n",
    "                        ax.axvline(x=xvl - home_dur - ITI_dur, c='b', ls=':', lw=3)                    \n",
    "                        ax.axvline(x=xvl - home_dur, c='b', ls=':', lw=3)                    \n",
    "                        ax.axvline(x=xvl + mvt_dur, c='b', ls=':', lw=3)                    \n",
    "                        ax.axvline(x=xvl + mvt_dur + fb_dur, c='b', ls=':', lw=3)  \n",
    "                    ax.set_ylabel('Decoding accuracy')\n",
    "                    ttl = ax.title.get_text()\n",
    "                    mr = re.match('varname = (\\w*) \\| control_type = (\\w*)', ttl)\n",
    "                    if mr is None:\n",
    "                        continue\n",
    "                    mrg = mr.groups()\n",
    "                    varname = mrg[0]\n",
    "                    ct = mrg[1]\n",
    "                    \n",
    "\n",
    "                    if varseti == -1:\n",
    "                        ax.set_title(varn2pub[varname])\n",
    "                        if varname.find('err_sens') >= 0:                        \n",
    "                            ax.set_ylim(-0.05,0.2)\n",
    "                        else:\n",
    "                            ax.set_ylim(-0.05,0.45)\n",
    "                    else:\n",
    "                        ax.set_ylim(-0.01,0.1)\n",
    "                        \n",
    "                    ymin,ymax = ax.get_ylim()\n",
    "                    ymax *= 0.73\n",
    "\n",
    "                    tpl = ('Ridge',suff,tl,ct,dec_type,varseti, varname)\n",
    "                    # * markers are individ ttest > 0 and stable > random\n",
    "                    try:\n",
    "                        tmins_good = df_ttest_res_sig.loc[tpl]  \n",
    "                        tmins_good = tmins_good.reset_index(drop=False)['tmin'].astype(float)\n",
    "#                         ax.plot( tmins_good, \n",
    "#                                 len(tmins_good) * [ymax * 1.1], lw=0, \n",
    "#                                 marker='*', label='stable > random naive')\n",
    "                    except KeyError as e:\n",
    "                        tmins_good = []\n",
    "                        \n",
    "                    # x markers are individ ttest > 0 and stable > random\n",
    "                    try:\n",
    "                        tmins_stable_nonz = dfconddif0_pv.loc[tpl].query('signif == True').reset_index(drop=False)\n",
    "                        tmins_stable_nonz = tmins_stable_nonz['tmin']\n",
    "                        ax.plot( tmins_stable_nonz.astype(float), \n",
    "                            len(tmins_stable_nonz) * [ymax * 1.3], \n",
    "                            lw=0, marker='x', label='stable > 0')    \n",
    "                        \n",
    "                        tmins_random_nonz = dfconddif0r_pv.loc[tpl].query('signif == True').reset_index(drop=False)\n",
    "                        tmins_random_nonz = tmins_random_nonz['tmin']\n",
    "                        ax.plot( tmins_random_nonz.astype(float), \n",
    "                            len(tmins_random_nonz) * [ymax * 1.2], \n",
    "                            lw=0, marker='8', label='random > 0') \n",
    "                    except KeyError as e  :\n",
    "                        tmins_stable_nonz = []\n",
    "\n",
    "                    try:\n",
    "                        dfsub = dfconddif_pv.loc[tpl].reset_index(drop=False)\n",
    "                        dfsub['tmin'] = dfsub['tmin'].astype(float)\n",
    "                        dfsub = dfsub.sort_values('tmin')\n",
    "                        tmins_stable_g_random,sig = dfsub[['tmin','signif']].to_numpy().T                    \n",
    "                        # plus markers are same as shading    \n",
    "                        sig = sig.astype(bool)\n",
    "                        tmins_stable_g_random = tmins_stable_g_random.astype(float)\n",
    "                        #import matplotlib.patches as mpatches\n",
    "                        from matplotlib.patches import Patch\n",
    "                        fill= ax.fill_between(tmins_stable_g_random, \n",
    "                            ymax, where = sig, color='red', alpha=0.1)                        \n",
    "#                         ax.plot( tmins_stable_g_random[sig], \n",
    "#                             np.sum(sig) * [ymax * 1.2], \n",
    "#                             lw=0, marker='+', label='stable != random')\n",
    "                        ##poly = mcollections.PolyCollection(fill.get_paths(), \n",
    "                        #        facecolor='red', alpha=0.1,\n",
    "                        #        label='stable != random')\n",
    "\n",
    "                    except KeyError as e:\n",
    "                        tmins_stable_g_random,sig = [],[]\n",
    "                    print(varname, len(tmins_good), len(tmins_stable_g_random), len(tmins_stable_nonz))\n",
    "\n",
    "                    #xticks = ax.get_xticks()[::tick_skip]\n",
    "                    #ax.set_xticks(xticks)\n",
    "                    ax.grid(True)\n",
    "                    if axi == len(axsf) - 1:\n",
    "                        ax.legend(loc='lower right',markerscale=2.5,\n",
    "                                  framealpha=0.55, fontsize='medium')   \n",
    "                        ax.set_xlabel('Window start [s]')\n",
    "                    if axi == len(axsf) - 2:\n",
    "                        llw = 10\n",
    "                        from matplotlib.lines import Line2D\n",
    "                        from matplotlib.text import Text\n",
    "#                         text = Text(0.5, 0.5, 'eeddddddddddde', \n",
    "#                                     visible=True, label='environment')\n",
    "#                         ax.add_artist(text)\n",
    "                        l1 = Line2D([0], [0], color='orange', label='stable', lw=llw)\n",
    "                        l2 = Line2D([0], [0], color='grey', label='random', lw=llw)\n",
    "                        poly = Patch(facecolor='red', alpha=0.1,\n",
    "                                label='stable !=\\n random')\n",
    "                        ax.legend(handles=[ l1, l2, poly], facecolor='white',\n",
    "                                  #labels=['1','2','3'],\n",
    "                            loc='lower right', framealpha=0.75, fontsize='medium') \n",
    "                    if axi == len(axsf) - 3:\n",
    "                        llw = 6\n",
    "                        from matplotlib.lines import Line2D\n",
    "                        from matplotlib.text import Text\n",
    "#                         text = Text(0.5, 0.5, 'eeddddddddddde', \n",
    "#                                     visible=True, label='environment')\n",
    "#                         ax.add_artist(text)\n",
    "                        l1 = Line2D([0], [0], color='r', label=tl, lw=llw, ls=':')\n",
    "                        l2 = Line2D([0], [0], color='b', label='task stages', lw=llw, ls=':')\n",
    "                        ax.legend(handles=[ l1, l2], facecolor='white',\n",
    "                                  #labels=['1','2','3'],\n",
    "                            loc='lower right', framealpha=0.75, fontsize='small')\n",
    "                try:\n",
    "                    #sns.move_legend(fg, loc=(0.75,0.),\n",
    "                    #               facecolor='white', edgecolor='k') \n",
    "                    #sns.move_legend(fg, loc=(0.85,0.22))\n",
    "                    #sns.move_legend(fg, loc='lower right')\n",
    "                    #    edgecolor='black', markerscale=5., framealpha=1.)\n",
    "                    #plt.suptitle(f'{dec_type} time locked = {tl}', x=0.2)\n",
    "                    plt.tight_layout()\n",
    "                    plt.savefig( pjoin(path_fig, fign_full), \n",
    "                                metadata = {'suff':suff, 'tl':tl})\n",
    "                    plt.savefig( pjoin(path_fig, fign_full.replace('.pdf','.png')), \n",
    "                                metadata = {'suff':suff, 'tl':tl})\n",
    "                    plt.close()\n",
    "                except ValueError as e:\n",
    "                    print('!!! EXC',e)\n",
    "                print(f'{dec_type} varseti={varseti} fig done')\n",
    "\n",
    "            break\n",
    "        break\n",
    "    break\n",
    "\n",
    "plt.clf()\n",
    "plt.close()"
   ]
  },
  {
   "cell_type": "code",
   "execution_count": null,
   "id": "95f68e42",
   "metadata": {},
   "outputs": [],
   "source": [
    "\n",
    "\n",
    "# Add the legend\n",
    "ax.legend(handles=[l1, l2], loc='upper left', frameon=True, facecolor='blue')"
   ]
  },
  {
   "cell_type": "code",
   "execution_count": null,
   "id": "542a3f4f",
   "metadata": {},
   "outputs": [],
   "source": [
    "gc.collect()"
   ]
  },
  {
   "cell_type": "code",
   "execution_count": null,
   "id": "fab504d0",
   "metadata": {},
   "outputs": [],
   "source": [
    "dur = 0.464 \n",
    "ds = np.arange( -dur*.5 * 64, dur*.5 * 65 , dur/2 ) - 0.5 + dur\n"
   ]
  },
  {
   "cell_type": "code",
   "execution_count": null,
   "id": "6baf134c",
   "metadata": {},
   "outputs": [],
   "source": [
    "ds[0], ds[-1]"
   ]
  },
  {
   "cell_type": "code",
   "execution_count": null,
   "id": "d992c023",
   "metadata": {},
   "outputs": [],
   "source": [
    "ds[60:-60] "
   ]
  },
  {
   "cell_type": "code",
   "execution_count": null,
   "id": "e42d96b1",
   "metadata": {},
   "outputs": [],
   "source": [
    "print(ttl)\n",
    "mrg = re.match('varname = (\\w*) | control_type = (\\w*)', ttl).groups()\n",
    "mrg"
   ]
  },
  {
   "cell_type": "code",
   "execution_count": null,
   "id": "722a21ee",
   "metadata": {},
   "outputs": [],
   "source": [
    "0.464 / 4"
   ]
  },
  {
   "cell_type": "markdown",
   "id": "841a2ba0",
   "metadata": {
    "heading_collapsed": true
   },
   "source": [
    "## Many boxplots"
   ]
  },
  {
   "cell_type": "code",
   "execution_count": null,
   "id": "6111fdd8",
   "metadata": {
    "hidden": true
   },
   "outputs": [],
   "source": [
    "sns.set(font_scale=1.5)\n",
    "\n",
    "import seaborn as sns\n",
    "#suff = 'CNslide_trim0_dhittw1_s_scX0Y0_drall_dtall'\n",
    "suff = 'CNslide_trim0_dhittw0_s_scX1Y1_drall_dtall'\n",
    "qs = 'tmin.isin(@tmins_to_plot) and control_type == \"movement\" and custom_suffix == @suff'\n",
    "pargs = dict(kind='boxen',  col='custom_suffix',  row='varname',\n",
    "           x = 'tmin', y = 'vals_to_plot',   hue='env', \n",
    "             palette=['orange', 'grey'], aspect=9,\n",
    "            sharey = None, sharex = None)\n",
    "\n",
    "tick_skip = 3\n",
    "\n",
    "fg = sns.catplot(data=df_b2b_plot.query(qs + ' and varseti == 0'), **pargs)\n",
    "for ax in fg.axes.flatten():\n",
    "    ax.axhline(y=0, c='r', ls=':', lw=3)\n",
    "    ax.axvline(x=indhome, c='r', ls=':', lw=3)\n",
    "    ax.grid()\n",
    "    varname = re.match('varname = (\\w*) |.*', ax.title.get_text() ).groups()[0]\n",
    "    tmins_good = df_ttest_res_basic_sig.query('varname == @varname')['tmin'].values    \n",
    "    tmins_good2 = dfconddif_pv.loc[(suff, 0, varname)].query('signif == True')['tmin']\n",
    "    \n",
    "    ymin,ymax = ax.get_ylim()\n",
    "    ax.plot( tmins_good, len(tmins_good) * [ymax * 1.1], lw=0, marker='*')\n",
    "    ax.plot( tmins_good2, len(tmins_good2) * [ymax * 1.3], lw=0, marker='+')\n",
    "    print(varname, len(tmins_good2))\n",
    "    \n",
    "    xticks = ax.get_xticks()[::tick_skip]\n",
    "    ax.set_xticks(xticks)\n",
    "sns.move_legend(fg, loc='upper right')\n",
    "plt.tight_layout()\n",
    "plt.savefig( pjoin(path_fig, 'b2b_slide_basic_vars.pdf'))\n",
    "print('1st fig done')\n",
    "\n",
    "fg = sns.catplot(data=df_b2b_plot.query(qs + ' and varseti == 1'), **pargs)\n",
    "for ax in fg.axes.flatten():\n",
    "    ax.axhline(y=0, c='r', ls=':', lw=3)\n",
    "    ax.axvline(x=indhome, c='r', ls=':', lw=3)\n",
    "    ax.grid()\n",
    "    varname = re.match('varname = (\\w*) |.*', ax.title.get_text() ).groups()[0]\n",
    "    tmins_good= df_ttest_res_ES_sig.query('varname == @varname')['tmin'].values\n",
    "    tmins_good2 = dfconddif_pv.loc[(suff, 1, varname)].query('signif == True')['tmin']\n",
    "    ymin,ymax = ax.get_ylim()\n",
    "    ax.plot( tmins_good, len(tmins_good) * [ymax * 1.1], lw=0, marker='*')\n",
    "    ax.plot( tmins_good2, len(tmins_good2) * [ymax * 1.3], lw=0, marker='+')\n",
    "    print(varname, len(tmins_good2))\n",
    "    \n",
    "    xticks = ax.get_xticks()[::tick_skip]\n",
    "    ax.set_xticks(xticks)\n",
    "\n",
    "\n",
    "sns.move_legend(fg, loc='upper right')\n",
    "plt.tight_layout()\n",
    "plt.savefig( pjoin(path_fig, 'b2b_slide_ES.pdf'))"
   ]
  },
  {
   "cell_type": "code",
   "execution_count": null,
   "id": "d3010309",
   "metadata": {
    "hidden": true
   },
   "outputs": [],
   "source": [
    "ax.get_xticks()"
   ]
  },
  {
   "cell_type": "markdown",
   "id": "7e3b5e1d",
   "metadata": {},
   "source": [
    "## Plot home from slide"
   ]
  },
  {
   "cell_type": "code",
   "execution_count": null,
   "id": "a94a8224",
   "metadata": {},
   "outputs": [],
   "source": [
    "suff = 'CNslideModelES_trim0_dhittw1_s_scX0Y0c1_drall_dtall_broad_sh0.250'\n",
    "#tmin0 = '-0.26'\n",
    "tmin0 = '0.11'\n",
    "df_ = df_b2b_plot.query(\n",
    "        'varseti == 0 and custom_suffix == @suff and tmin == @tmin0')\n",
    "len(df_)"
   ]
  },
  {
   "cell_type": "code",
   "execution_count": null,
   "id": "1d8c5f1e",
   "metadata": {},
   "outputs": [],
   "source": [
    "sorted(df_b2b_plot_.tmin.unique())"
   ]
  },
  {
   "cell_type": "code",
   "execution_count": null,
   "id": "41e2a10c",
   "metadata": {},
   "outputs": [],
   "source": [
    "df_b2b_plot.varseti.unique()"
   ]
  },
  {
   "cell_type": "code",
   "execution_count": null,
   "id": "7fc8f453",
   "metadata": {},
   "outputs": [],
   "source": [
    "len(df_b2b_plot.query('varseti == 0') )"
   ]
  },
  {
   "cell_type": "code",
   "execution_count": null,
   "id": "08e15840",
   "metadata": {},
   "outputs": [],
   "source": [
    "#list(ts__)"
   ]
  },
  {
   "cell_type": "code",
   "execution_count": null,
   "id": "e8370000",
   "metadata": {},
   "outputs": [],
   "source": [
    "ts__ = df_b2b_plot['tmin'].unique()\n",
    "ts__"
   ]
  },
  {
   "cell_type": "code",
   "execution_count": null,
   "id": "9f0ba8d7",
   "metadata": {},
   "outputs": [],
   "source": [
    "#tmins_to_plot"
   ]
  },
  {
   "cell_type": "code",
   "execution_count": null,
   "id": "676e5a61",
   "metadata": {},
   "outputs": [],
   "source": [
    "len(df_)"
   ]
  },
  {
   "cell_type": "code",
   "execution_count": null,
   "id": "47bc3a9e",
   "metadata": {},
   "outputs": [],
   "source": [
    "lbd = lambda x: x[14:].replace('_drall_dtall','').\\\n",
    "    replace('_sh0.232','').replace('_s','').replace('_trim0_','').\\\n",
    "    replace('h0.250','').replace('dhittw1cX0Y0c1_','')\n",
    "df_b2b_plot['suff_short'] = df_b2b_plot['custom_suffix'].apply(lbd,1)"
   ]
  },
  {
   "cell_type": "code",
   "execution_count": null,
   "id": "376e3658",
   "metadata": {},
   "outputs": [],
   "source": [
    "suff_short"
   ]
  },
  {
   "cell_type": "code",
   "execution_count": null,
   "id": "6fa82339",
   "metadata": {},
   "outputs": [],
   "source": [
    "list(df_b2b_plot['suff_short'].unique())"
   ]
  },
  {
   "cell_type": "code",
   "execution_count": null,
   "id": "873eeabc",
   "metadata": {},
   "outputs": [],
   "source": [
    "df_.groupby('suff_short').size()\n",
    "df_.query('suff_short == \"dhittw1cX0Y0c1_gammah0.250\" and varname.isin(@vns)')"
   ]
  },
  {
   "cell_type": "code",
   "execution_count": null,
   "id": "a73abbd2",
   "metadata": {},
   "outputs": [],
   "source": [
    "roword = [ 'dhittw1cX0Y0c1_broadh0.250',\n",
    "  'dhittw1cX0Y0c1_betah0.250',\n",
    "  'dhittw1cX0Y0c1_gammah0.250']\n",
    "roword = [ 'broad',\n",
    "  'beta',\n",
    "  'gamma']"
   ]
  },
  {
   "cell_type": "code",
   "execution_count": null,
   "id": "e7176095",
   "metadata": {},
   "outputs": [],
   "source": [
    "varn2pub = varn2pub2.copy()\n",
    "varn2pub.update(varn2pub1)\n",
    "varn2pub"
   ]
  },
  {
   "cell_type": "code",
   "execution_count": null,
   "id": "092ea194",
   "metadata": {},
   "outputs": [],
   "source": [
    "formatter = lambda x: varn2pub[x]"
   ]
  },
  {
   "cell_type": "code",
   "execution_count": null,
   "id": "5ab873fb",
   "metadata": {},
   "outputs": [],
   "source": [
    "gc.collect()"
   ]
  },
  {
   "cell_type": "code",
   "execution_count": null,
   "id": "0335f4ba",
   "metadata": {},
   "outputs": [],
   "source": [
    "vns_"
   ]
  },
  {
   "cell_type": "code",
   "execution_count": null,
   "id": "e4b7df78",
   "metadata": {},
   "outputs": [],
   "source": [
    "tmins0"
   ]
  },
  {
   "cell_type": "code",
   "execution_count": null,
   "id": "d53a4523",
   "metadata": {},
   "outputs": [],
   "source": [
    "sns.set(font_scale=1.8)\n",
    "#tmin0 = '-0.64'  # -0.50\n",
    "tmin0 = '-0.26'\n",
    "#tmin0 = '0.11'\n",
    "\n",
    "print('tmin0 = ', tmin0)\n",
    "import seaborn as sns\n",
    "pargs = dict(kind='box',  row='suff_short',  col='varseti',\n",
    "               y = 'varname', x = 'vals_to_plot',\n",
    "             hue='env', palette=['orange', 'grey'],\n",
    "            hue_order= ['stable','random'], row_order=roword,\n",
    "            order = vns)\n",
    "\n",
    "#for suff in df_b2b_plot['custom_suffix'].unique():\n",
    "suff_short = suff[14:].replace('_drall_dtall','').\\\n",
    "    replace('h0.250','').replace('_s','') \n",
    "\n",
    "for tl in [\"target\",\"feedback\"]:\n",
    "    for vns_,aspect in [(vns[:4], 1.6), (vns[4:], 1.6)]:\n",
    "        df_ = df_b2b_plot.query('tmin == @tmin0 and varname.isin(@vns_)'\n",
    "                                ' and time_locked == @tl and dec_type == \"classic\"')\n",
    "        if len(df_) != 0:    \n",
    "            pargs['order'] = vns_\n",
    "            fg = sns.catplot(data=df_, **pargs, aspect=aspect)\n",
    "            for ax in fg.axes.flatten():\n",
    "\n",
    "                ttl = ax.get_title()\n",
    "                mr = re.match('suff_short = (\\w*) \\| varseti = (\\w*)', ttl)\n",
    "                if mr is None:\n",
    "                    continue\n",
    "                mrg = mr.groups()\n",
    "                suff = mrg[0]\n",
    "                vi = mrg[1]\n",
    "\n",
    "                ax.set_title(f'Frequency band = {suff}')\n",
    "\n",
    "                ax.axvline(x=0, c='r', ls=':', lw=4)\n",
    "                ax.grid(True)\n",
    "                xlabs = ax.get_yticklabels()\n",
    "                xlabs2 = []\n",
    "                for xl in xlabs:\n",
    "                    tt = xl.get_text()\n",
    "                    xlabs2.append( varn2pub.get(tt,tt) )\n",
    "                ax.set_yticklabels(xlabs2)\n",
    "\n",
    "                ax.set_ylabel('')\n",
    "                #ax.set_xticklabels(ax.get_xticklabels(), rotation=45)\n",
    "\n",
    "            fg.set_xlabels(f'Decoding accuracy at t={tmin0}')\n",
    "\n",
    "            sns.move_legend(fg, loc=(0,-0.005) )#'lower left')\n",
    "            #plt\n",
    "            #plt.suptitle(suff_short)\n",
    "            plt.tight_layout()    \n",
    "            #plt.grid(True)\n",
    "\n",
    "            #break\n",
    "\n",
    "            fnfig = pjoin(path_fig, \n",
    "                f'b2b_home_basic_vars_{tmin0}_{suff_short}_{tl}_{\",\".join(vns_)}.pdf')\n",
    "            plt.savefig( fnfig)\n",
    "            plt.savefig( fnfig.replace('.pdf','.png'))\n",
    "\n",
    "        #     df_ = df_b2b_plot.query('varseti == 1 and custom_suffix == @suff and tmin == \"-0.50\"')\n",
    "        #     fg = sns.catplot(data=df_, **pargs)\n",
    "        #     for ax in fg.axes.flatten():\n",
    "        #         ax.axhline(y=0, c='r', ls=':')\n",
    "\n",
    "        #     sns.move_legend(fg, loc='upper right')\n",
    "        #     plt.suptitle(suff)\n",
    "        #     plt.tight_layout()\n",
    "\n",
    "        #     plt.savefig( pjoin(path_fig, f'b2b_home_ES_{tmin0}_{suff_short}.pdf'))\n",
    "        print('finisehd ',suff_short)"
   ]
  },
  {
   "cell_type": "code",
   "execution_count": null,
   "id": "aaa969e0",
   "metadata": {},
   "outputs": [],
   "source": []
  },
  {
   "cell_type": "code",
   "execution_count": null,
   "id": "742513d3",
   "metadata": {},
   "outputs": [],
   "source": [
    "df_['tmin'] = "
   ]
  },
  {
   "cell_type": "code",
   "execution_count": null,
   "id": "15d7f85d",
   "metadata": {},
   "outputs": [],
   "source": [
    "# herz is the only one who does okay in both stable and in random"
   ]
  },
  {
   "cell_type": "code",
   "execution_count": null,
   "id": "f3e46155",
   "metadata": {},
   "outputs": [],
   "source": [
    "ttrssigs = []\n",
    "ttrs_all = []\n",
    "for tl in ['target', 'feedback']:\n",
    "    #for suff_short in ['broad','beta','gamma']:\n",
    "    for suff_short in ['broad']:\n",
    "        for tmin0 in tmins0:\n",
    "            for vn in vns:\n",
    "                df_ = df_b2b_plot.query('suff_short == @suff_short and varname == @vn and'\n",
    "                        ' tmin == @tmin0 and varseti == -1'\n",
    "                        ' and time_locked == @tl and dec_type == \"classic\"')\n",
    "\n",
    "                varn = 'vals_to_plot'\n",
    "        #         st = df_.query('env == \"stable\"')#[varn].values\n",
    "        #         rnd = df_.query('env == \"random\"')#[varn].values\n",
    "                from behav_proc import comparePairs, compare0\n",
    "                ttrssig, ttrs = comparePairs(df_, varn, 'env', paired = True)\n",
    "                if ttrs is not None:\n",
    "                    ttrs['varname'] = vn\n",
    "                    ttrs['tmin'] = tmin0\n",
    "                    ttrs['env'] = 'stable vs random'\n",
    "                    ttrs['type'] = 'comp_env'\n",
    "                    ttrs['suff_short'] = suff_short\n",
    "                    ttrs['tl'] = tl\n",
    "                ttrs_all += [ttrs]\n",
    "\n",
    "                for env in ['random','stable']:\n",
    "                    ttrs0 = compare0(df_.query('env == @env'),varn)\n",
    "                    ttrs0['varname'] = vn\n",
    "                    ttrs0['tmin'] = tmin0\n",
    "                    ttrs0['env'] = env            \n",
    "                    ttrs0['type'] = 'check_nz'\n",
    "                    ttrs0['pooled'] = False\n",
    "                    ttrs0['suff_short'] = suff_short\n",
    "                    ttrs0['tl'] = tl\n",
    "                    #print(len(ttrs0))\n",
    "                    ttrs_all += [ttrs0]\n",
    "\n",
    "            for env in ['random','stable']:\n",
    "                df_ = df_b2b_plot.query('suff_short == \"broad\" and varname.isin(@vns) and'\n",
    "                    ' tmin == @tmin0 and varseti == -1'\n",
    "                    ' and time_locked == \"feedback\" and dec_type == \"classic\"'\n",
    "                    ' and env == @env')\n",
    "                ttrssig, ttrs = comparePairs(df_, varn, 'varname', paired = True)\n",
    "                ttrs['varname'] = None\n",
    "                ttrs['tmin'] = tmin0\n",
    "                ttrs['env'] = env\n",
    "                ttrs['type'] = 'comp_var'\n",
    "                ttrs['suff_short'] = suff_short\n",
    "                ttrs['tl'] = tl\n",
    "                ttrs_all += [ttrs]          \n",
    "            \n",
    "    #ttrssigs = pd.concat(ttrssigs, ignore_index=1).query('pooled == False')\n",
    "\n",
    "ttrs_all = pd.concat(ttrs_all, ignore_index=1).query('pooled == False')"
   ]
  },
  {
   "cell_type": "code",
   "execution_count": null,
   "id": "692af6dd",
   "metadata": {},
   "outputs": [],
   "source": [
    "ttrs_allg = ttrs_all.query('pval < 0.05 and alternative != \"two-sided\"')"
   ]
  },
  {
   "cell_type": "code",
   "execution_count": null,
   "id": "4269db90",
   "metadata": {},
   "outputs": [],
   "source": [
    "ttrs_allg.sort_values(['type','varname']).\\\n",
    "    query('tmin == \"0.11\" and type != \"comp_var\" and varname.isin([\"error_pred_Died\",\"error_pred_Herz\"])')\\\n",
    "    [['type','tmin','tl','env','varname','ttstr','pval','T']]"
   ]
  },
  {
   "cell_type": "code",
   "execution_count": null,
   "id": "c82b8d8b",
   "metadata": {},
   "outputs": [],
   "source": [
    "varpairs = [('error','prev_error'), \n",
    "            ('err_sens','err_sens_Tan'), ('err_sens','err_sens_Herz'), \n",
    "            ('err_sens_Tan','err_sens_Herz'), \n",
    "('error','error_pred_Tan'), ('error','error_pred_Herz'), \n",
    "            ('error','error_pred_Died'), ('error_pred_Herz','error_pred_Died'),\n",
    "           ('error_pred_Tan','error_pred_Died')]\n",
    "\n",
    "for tmin in tmins0:\n",
    "    print('\\n      ',tmin)\n",
    "    for v1,v2 in varpairs:    \n",
    "        r = ttrs_allg.query('tmin == @tmin and type == \"comp_var\" '\n",
    "                        'and val1 == @v1 and val2 == @v2')\n",
    "        print(v1,v2, len(r))\n",
    "        if len(r):\n",
    "            display(r[['type','tmin','tl','env','varname','ttstr','pval','T']])"
   ]
  },
  {
   "cell_type": "code",
   "execution_count": null,
   "id": "9072fe26",
   "metadata": {},
   "outputs": [],
   "source": [
    "ttrs_all['val2'].unique()"
   ]
  },
  {
   "cell_type": "code",
   "execution_count": null,
   "id": "65ea19ca",
   "metadata": {},
   "outputs": [],
   "source": [
    "ttrs_all.query('val1 == \"error_pred_Died\" and val2 == \"error_pred_Herz\" and env == \"random\"')\\\n",
    "    [['type','tmin','tl','env','varname','ttstr','pval','T']]"
   ]
  },
  {
   "cell_type": "code",
   "execution_count": null,
   "id": "a89a6c8e",
   "metadata": {},
   "outputs": [],
   "source": [
    "df_.groupby(['subject','env']).size().max()"
   ]
  },
  {
   "cell_type": "code",
   "execution_count": null,
   "id": "4dbf0786",
   "metadata": {},
   "outputs": [],
   "source": [
    "sns.set(font_scale=1.1)\n",
    "#tmin0 = '-0.64'  # -0.50\n",
    "tmins0 = ['-0.26','0.11']\n",
    "#tmin0 = '0.11'\n",
    "print('tmin0 = ', tmin0)\n",
    "import seaborn as sns\n",
    "pargs = dict(kind='box',  row='suff_short',  col='tmin',\n",
    "               y = 'varname', x = 'vals_to_plot',\n",
    "             hue='env', palette=['orange', 'grey'],\n",
    "            hue_order= ['stable','random'], row_order=roword,\n",
    "             col_order = tmins0,\n",
    "            order = vns)\n",
    "\n",
    "#for suff in df_b2b_plot['custom_suffix'].unique():\n",
    "suff_short = suff[14:].replace('_drall_dtall','').\\\n",
    "    replace('h0.250','').replace('_s','') \n",
    "\n",
    "df_ = df_b2b_plot.query('tmin.isin(@tmins0) and varname.isin(@vns)'\n",
    "                        ' and varseti == -1 and time_locked == \"feedback\"'\n",
    "                         ' and dec_type == \"classic\"')\n",
    "if len(df_) != 0:    \n",
    "    fg = sns.catplot(data=df_, **pargs)\n",
    "    for ax in fg.axes.flatten():\n",
    "        ax.axvline(x=0, c='r', ls=':')\n",
    "        ax.grid(True)"
   ]
  },
  {
   "cell_type": "markdown",
   "id": "0dfed6d9",
   "metadata": {
    "heading_collapsed": true
   },
   "source": [
    "# Plot mini slide"
   ]
  },
  {
   "cell_type": "code",
   "execution_count": null,
   "id": "7ff88a77",
   "metadata": {
    "hidden": true
   },
   "outputs": [],
   "source": [
    "#for subject in subjects[:1]:\n",
    "#%debug\n",
    "import gc; gc.collect()\n",
    "plot_diff_vs_es = 0\n",
    "plot_diff = 0\n",
    "\n",
    "regression_type = 'Ridge'\n",
    "#control_type = 'movement'\n",
    "#subject_inds = [0]\n",
    "subject_inds = np.arange(len(subjects))\n",
    "#subject_inds = list(range(12)) + list(range(13,20))\n",
    "#subject_inds = [12]\n",
    "\n",
    "# scale robust = 1\n",
    "#time_start = parser.parse('14:40 of 31 may 2023'); \n",
    "#time_end = parser.parse('21:39 of 31 may 2023'); \n",
    "\n",
    "# scale robust = 0\n",
    "#time_start = parser.parse('13:00 of 14 june 2023'); \n",
    "#time_start = parser.parse('11:36 of 20 june 2023'); \n",
    "time_start = parser.parse('17:00 of 27 june 2023'); \n",
    "time_end = parser.parse('15:58 of 31 may 2027'); \n",
    "\n",
    "custom_prefix = None\n",
    "\n",
    "use_preload_df = 0\n",
    "load_df        = 0\n",
    "exit_after = 'collect'\n",
    "plot_scores_per_subj = 0\n",
    "ktes = ['err_sens','err_sens_Tan','err_sens_Herz',\n",
    "        'error', 'error_pred_Tan','error_pred_Herz',\n",
    "        'error_pred_Died', \n",
    "        'prev_error',\n",
    "        'target_inds',\n",
    "        'trials','trialwb', 'trial_wpert',\n",
    "        'trialwtgt_wb','trialwtgt_wpertstage_wb',\n",
    "        'RT','movement_duration']\n",
    "#b2bdef = 'err_sens,prev_error,error'\n",
    "b2bdef = ['err_sens,prev_error,error',\n",
    "         'err_sens_Tan,prev_error,error',\n",
    "         'err_sens_Herz,prev_error,error',]\n",
    "#b2bdef = 'err_sens_Tan,err_sens_Herz,err_sens,prev_error,error'\n",
    "control_types = ['movement', 'feedback']\n",
    "varnames = ktes\n",
    "#tmins = ['-5.00']\n",
    "tmin_desired = '-0.50'\n",
    "#tmin_desired = None\n",
    "freq_names = ['broad','beta','gamma']\n",
    "time_lockeds=['target', 'feedback']\n",
    "#time_lockeds=['target']\n",
    "\n",
    "#control_types = ['movement']\n",
    "#freq_names = ['broad']\n",
    "#time_lockeds = ['target']\n",
    "\n",
    "import traceback\n",
    "DEBUG = 1\n",
    "require_all_subjects = 0\n",
    "\n",
    "save_df = 0\n",
    "#%debug\n",
    "\n",
    "failed = []\n",
    "dfs = []\n",
    "for hpass in ['no_filter']: #,'0.1']:\n",
    "    #for env in ['stable','random']:\n",
    "    for env in [['stable','random']]:\n",
    "        #for freq_name in list(freq_name2freq.keys() ):\n",
    "        for freq_name in freq_names: #, 'beta']:\n",
    "            for time_locked in time_lockeds:\n",
    "                for control_type in control_types:\n",
    "                    s=  ','.join( getAnalysisVarnames(time_locked, control_type)[0] )\n",
    "                    varnames_b2b = [s ] + b2bdef\n",
    "\n",
    "                    output_folder = f'corr_spoc_es_sliding2_{hpass}'        \n",
    "                    script_name = pjoin(scripts_dir,\n",
    "                            'correlation_error_sensitivity_spoc_decoding_sliding.py')\n",
    "                    try:\n",
    "                        ipy.magic('%run -i {script_name}')                  \n",
    "                    except Exception as e:                    \n",
    "                        print('EXC',e)\n",
    "                        exc_info = sys.exc_info()\n",
    "                        exc = traceback.TracebackException(*exc_info, capture_locals=True)\n",
    "                        ei = exc_info[2]    \n",
    "                        #display(ei.tb_frame)\n",
    "                        psf = ei\n",
    "\n",
    "                        lfprev = None; lf = None\n",
    "                        lfs = []\n",
    "                        di = 0\n",
    "                        while psf.tb_frame is not None:\n",
    "                            stackframe = psf.tb_frame\n",
    "                            display(di, stackframe)\n",
    "\n",
    "                            psf = psf.tb_next  \n",
    "                            if 'conda' not in stackframe.f_code.co_filename:        \n",
    "                                lfprev = lf\n",
    "                                lf = stackframe.f_locals\n",
    "                                lfs += [lf]\n",
    "                                di += 1\n",
    "                            if psf is None:\n",
    "                                break    \n",
    "\n",
    "                        raise e\n",
    "\n",
    "                        print('Exc for ', hpass,freq_name)\n",
    "                        failed += [ (hpass, freq_name)]\n",
    "                        print('EXC',e)\n",
    "                    #df.to_pickle( pjoin(path_fig, save_folder, 'df') )\n",
    "                    dfs += [df]\n",
    "                if not DEBUG:\n",
    "                    del df\n",
    "                import gc; gc.collect()\n",
    "                plt.close()\n",
    "            #break\n",
    "        #break\n",
    "    #break\n",
    "\n",
    "dfc =pd.concat(dfs).reset_index()\n",
    "print(len(dfc))\n",
    "print(dfc['subject'].unique())\n",
    "suffixes_present = dfc['custom_suffix'].unique()\n",
    "print(suffixes_present)\n",
    "dfc_types_present = dfc['dec_type'].unique(); \n",
    "print(dfc_types_present)"
   ]
  },
  {
   "cell_type": "markdown",
   "id": "0801dd59",
   "metadata": {
    "heading_collapsed": true
   },
   "source": [
    "# Plot home"
   ]
  },
  {
   "cell_type": "code",
   "execution_count": null,
   "id": "35ac3478",
   "metadata": {
    "code_folding": [
     0,
     23,
     33,
     60,
     75,
     108
    ],
    "hidden": true
   },
   "outputs": [],
   "source": [
    "# to test collection first exectue with small number of subject_inds\n",
    "#%debug\n",
    "import gc; gc.collect()\n",
    "plot_diff_vs_es = 0\n",
    "plot_diff = 0\n",
    "\n",
    "regression_type = 'Ridge_noCV'\n",
    "#control_type = 'movement'\n",
    "subject_inds = [0]\n",
    "#subject_inds = np.arange(len(subjects))\n",
    "\n",
    "# scale robust = 0\n",
    "#time_start = parser.parse('13:00 of 14 june 2023'); \n",
    "#time_start = parser.parse('11:36 of 20 june 2023'); \n",
    "time_start = parser.parse('19:30 of 27 june 2023'); \n",
    "time_end = parser.parse('15:58 of 31 may 2027'); \n",
    "\n",
    "custom_prefix = None\n",
    "\n",
    "use_preload_df = 0\n",
    "load_df        = 0\n",
    "exit_after = 'collect'\n",
    "plot_scores_per_subj = 0\n",
    "ktes = ['err_sens','err_sens_Tan','err_sens_Herz',\n",
    "        'error', 'error_pred_Tan','error_pred_Herz',\n",
    "        'error_pred_Died', \n",
    "        'prev_error','next_error','prev_belief','belief',\n",
    "        'prev_movement','movement',\n",
    "        'target_inds',\n",
    "        'trials','trialwb', 'trialwpert',\n",
    "        'trialwtgt_wb','trialwtgt_wpertstage_wb',\n",
    "        'RT','movement_duration']\n",
    "#b2bdef = 'err_sens,prev_error,error'\n",
    "b2bdef = ['err_sens,prev_error,error',\n",
    "         'err_sens_Tan,prev_error,error',\n",
    "         'err_sens_Herz,prev_error,error',]\n",
    "#b2bdef = 'err_sens_Tan,err_sens_Herz,err_sens,prev_error,error'\n",
    "control_types = ['movement', 'feedback']\n",
    "varnames = ktes\n",
    "#tmins = ['-5.00']\n",
    "tmin_desired = '-0.50'\n",
    "#tmin_desired = None\n",
    "freq_names = ['broad','beta','gamma']\n",
    "time_lockeds=['target', 'feedback']\n",
    "#time_lockeds=['target']\n",
    "\n",
    "#control_types = ['movement']\n",
    "#freq_names = ['broad']\n",
    "#time_lockeds = ['target']\n",
    "\n",
    "import traceback\n",
    "DEBUG = 1\n",
    "require_all_subjects = 0\n",
    "\n",
    "save_df = 0\n",
    "#%debug\n",
    "\n",
    "failed = []\n",
    "dfs = []\n",
    "#%debug\n",
    "for hpass in ['no_filter']: #,'0.1']:\n",
    "    #for env in ['stable','random']:\n",
    "    for env in [['stable','random']]:\n",
    "        #for freq_name in list(freq_name2freq.keys() ):\n",
    "        for freq_name in freq_names: #, 'beta']:\n",
    "            for time_locked in time_lockeds:\n",
    "                for control_type in control_types:\n",
    "                    s=  ','.join( getAnalysisVarnames(time_locked, control_type)[0] )\n",
    "                    varnames_b2b = [s ] + b2bdef\n",
    "\n",
    "                    output_folder = f'corr_spoc_es_sliding2_{hpass}'        \n",
    "                    script_name = pjoin(scripts_dir,\n",
    "                            'correlation_error_sensitivity_spoc_decoding_sliding.py')\n",
    "                    try:\n",
    "                        ipy.magic('%run -i {script_name}')                  \n",
    "                    except Exception as e:                    \n",
    "                        print('EXC',e)\n",
    "                        exc_info = sys.exc_info()\n",
    "                        exc = traceback.TracebackException(*exc_info, capture_locals=True)\n",
    "                        ei = exc_info[2]    \n",
    "                        #display(ei.tb_frame)\n",
    "                        psf = ei\n",
    "\n",
    "                        lfprev = None; lf = None\n",
    "                        lfs = []\n",
    "                        di = 0\n",
    "                        while psf.tb_frame is not None:\n",
    "                            stackframe = psf.tb_frame\n",
    "                            display(di, stackframe)\n",
    "\n",
    "                            psf = psf.tb_next  \n",
    "                            if ('conda' not in stackframe.f_code.co_filename) and\\\n",
    "                                 'mamba' not in stackframe.f_code.co_filename:        \n",
    "                                lfprev = lf\n",
    "                                lf = stackframe.f_locals\n",
    "                                lfs += [lf]\n",
    "                                di += 1\n",
    "                            if psf is None:\n",
    "                                break    \n",
    "\n",
    "                        raise e\n",
    "\n",
    "                        print('Exc for ', hpass,freq_name)\n",
    "                        failed += [ (hpass, freq_name)]\n",
    "                        print('EXC',e)\n",
    "                        df = None\n",
    "                    #df.to_pickle( pjoin(path_fig, save_folder, 'df') )\n",
    "                    dfs += [df]\n",
    "                if not DEBUG:\n",
    "                    del df\n",
    "                import gc; gc.collect()\n",
    "                plt.close()\n",
    "            #break\n",
    "        #break\n",
    "    #break\n",
    "\n",
    "dfc =pd.concat(dfs).reset_index()\n",
    "print(len(dfc))\n",
    "print(dfc['subject'].unique())\n",
    "suffixes_present = dfc['custom_suffix'].unique()\n",
    "print(suffixes_present)\n",
    "dfc_types_present = dfc['dec_type'].unique(); \n",
    "print(dfc_types_present)"
   ]
  },
  {
   "cell_type": "code",
   "execution_count": null,
   "id": "a5bf2ae4",
   "metadata": {
    "hidden": true
   },
   "outputs": [],
   "source": [
    "dfc =pd.concat(dfs).reset_index()\n",
    "print(len(dfc))\n",
    "print(dfc['subject'].unique())\n",
    "suffixes_present = dfc['custom_suffix'].unique()\n",
    "print(suffixes_present)\n",
    "dfc_types_present = dfc['dec_type'].unique(); \n",
    "print(dfc_types_present)"
   ]
  },
  {
   "cell_type": "code",
   "execution_count": null,
   "id": "a900d354",
   "metadata": {
    "hidden": true
   },
   "outputs": [],
   "source": [
    "#%debug\n",
    "with warnings.catch_warnings(record=True) as w:\n",
    "    warnings.filterwarnings('error')\n",
    "\n",
    "    ipy.magic('%run -i {script_name}') "
   ]
  },
  {
   "cell_type": "code",
   "execution_count": null,
   "id": "b2a3f616",
   "metadata": {
    "hidden": true
   },
   "outputs": [],
   "source": []
  },
  {
   "cell_type": "code",
   "execution_count": null,
   "id": "a95705ec",
   "metadata": {
    "hidden": true
   },
   "outputs": [],
   "source": [
    "lfs"
   ]
  },
  {
   "cell_type": "code",
   "execution_count": null,
   "id": "429301b6",
   "metadata": {
    "hidden": true
   },
   "outputs": [],
   "source": [
    "lfs[-1].keys()"
   ]
  },
  {
   "cell_type": "code",
   "execution_count": null,
   "id": "c16ff4ca",
   "metadata": {
    "hidden": true
   },
   "outputs": [],
   "source": []
  },
  {
   "cell_type": "code",
   "execution_count": null,
   "id": "1a88c796",
   "metadata": {
    "hidden": true
   },
   "outputs": [],
   "source": [
    "from postproc import collectResultsPrefilled,collectResults0\n",
    "hpass = 'no_filter'\n",
    "time_start = parser.parse('19:30 of 27 june 2023'); \n",
    "time_end = parser.parse('15:58 of 31 may 2027'); \n",
    "time_lockeds = ['target', 'feedback']\n",
    "freq_names = ['broad']\n",
    "#freq_names = ['broad', 'beta', 'gamma']\n",
    "control_types = [ 'movement']\n",
    "\n",
    "output_folder = f'corr_spoc_es_sliding2_{hpass}'        \n",
    "df1 = collectResults0(subjects,output_folder)\n",
    "\n",
    "qs = 'time_locked.isin(@time_lockeds) and control_type.isin(@control_types)'\n",
    "qs += ' and freq_name.isin(@freq_names)'\n",
    "qs += ' and mtime >= @time_start'\n",
    "qs += ' and mtime <= @time_end'\n",
    "if tmin_desired is not None:\n",
    "    if isinstance(tmin_desired,list):\n",
    "        qs += ' and tmin.isin(@tmin_desired)'\n",
    "    else:\n",
    "        qs += ' and tmin == @tmin_desired'\n",
    "df2 = df1.query(qs).copy()\n",
    "print('All files {},  after filtering {}'.format(len(df1),len(df2)) )"
   ]
  },
  {
   "cell_type": "code",
   "execution_count": null,
   "id": "d4b09ca5",
   "metadata": {
    "hidden": true
   },
   "outputs": [],
   "source": [
    "# slow\n",
    "#%debug\n",
    "dfc = collectResultsPrefilled(df2)\n",
    "dfc_allcollected = dfc\n",
    "\n",
    "catcols = ['subject', 'fn', 'fn_full', 'SLURM_job_id', 'env',\n",
    "       'trial_group_col_calc', 'rt', 'time_locked', 'control_type',\n",
    "       'custom_suffix', 'freq_name', 'tmin', 'tmax', 'dec_type']\n",
    "for col in catcols:\n",
    "    dfc[col] = dfc[col].astype('category')"
   ]
  },
  {
   "cell_type": "code",
   "execution_count": null,
   "id": "a4aaad8d",
   "metadata": {
    "hidden": true
   },
   "outputs": [],
   "source": [
    "del df1,df2"
   ]
  },
  {
   "cell_type": "code",
   "execution_count": null,
   "id": "e94da3ec",
   "metadata": {
    "hidden": true
   },
   "outputs": [],
   "source": [
    "#dfc_home = dfc"
   ]
  },
  {
   "cell_type": "code",
   "execution_count": null,
   "id": "cbacb276",
   "metadata": {
    "hidden": true
   },
   "outputs": [],
   "source": [
    "dfc.describe(include='category').T"
   ]
  },
  {
   "cell_type": "code",
   "execution_count": null,
   "id": "3bf82991",
   "metadata": {
    "hidden": true
   },
   "outputs": [],
   "source": [
    "f = np.load( dfc['fn_full'].iloc[0], allow_pickle=1 )\n",
    "d = f['decoding_per_var'][()]"
   ]
  },
  {
   "cell_type": "code",
   "execution_count": null,
   "id": "89b6a9ba",
   "metadata": {
    "hidden": true
   },
   "outputs": [],
   "source": [
    "print( f.keys() )"
   ]
  },
  {
   "cell_type": "code",
   "execution_count": null,
   "id": "965af59e",
   "metadata": {
    "hidden": true
   },
   "outputs": [],
   "source": [
    "d.keys()"
   ]
  },
  {
   "cell_type": "code",
   "execution_count": null,
   "id": "5d9ef8c1",
   "metadata": {
    "hidden": true
   },
   "outputs": [],
   "source": [
    "list(d.keys())"
   ]
  },
  {
   "cell_type": "code",
   "execution_count": null,
   "id": "ec238698",
   "metadata": {
    "hidden": true
   },
   "outputs": [],
   "source": [
    "list(dfc.columns)"
   ]
  },
  {
   "cell_type": "code",
   "execution_count": null,
   "id": "25d7b667",
   "metadata": {
    "hidden": true
   },
   "outputs": [],
   "source": [
    "suffixes_present"
   ]
  },
  {
   "cell_type": "code",
   "execution_count": null,
   "id": "a364c441",
   "metadata": {
    "hidden": true
   },
   "outputs": [],
   "source": [
    "print (set( df['subject'] ) ^ set(np.array(subjects)[subject_inds]))"
   ]
  },
  {
   "cell_type": "code",
   "execution_count": null,
   "id": "b9988558",
   "metadata": {
    "hidden": true
   },
   "outputs": [],
   "source": [
    "dfc['mtime'].min(), dfc['mtime'].max()"
   ]
  },
  {
   "cell_type": "code",
   "execution_count": null,
   "id": "de6f690c",
   "metadata": {
    "hidden": true
   },
   "outputs": [],
   "source": [
    "# dubplicates check\n",
    "cols_unique = ['subject','env','time_locked','control_type', \n",
    "    'trial_group_col_calc','freq_name', 'tmin', 'tmax', 'dec_type',\n",
    "              'custom_suffix']\n",
    "if dfc.duplicated(cols_unique).any():\n",
    "    display( dfc[ dfc.duplicated(cols_unique) ] )\n",
    "else:\n",
    "    print('No duplicates!')\n",
    "\n",
    "print( len(dfc), dfc['subject'].nunique(), dfc['control_type'].nunique(), subject_inds )"
   ]
  },
  {
   "cell_type": "code",
   "execution_count": null,
   "id": "397126db",
   "metadata": {
    "hidden": true
   },
   "outputs": [],
   "source": [
    "grp = dfc.groupby(cols_unique)\n",
    "print(grp.size().max())"
   ]
  },
  {
   "cell_type": "code",
   "execution_count": null,
   "id": "c8231cc5",
   "metadata": {
    "hidden": true
   },
   "outputs": [],
   "source": [
    "#dfc = dfc.drop_duplicates(cols_unique)"
   ]
  },
  {
   "cell_type": "code",
   "execution_count": null,
   "id": "8ee08fd0",
   "metadata": {
    "hidden": true
   },
   "outputs": [],
   "source": [
    "list(dfc.columns)"
   ]
  },
  {
   "cell_type": "code",
   "execution_count": null,
   "id": "105421e0",
   "metadata": {
    "hidden": true
   },
   "outputs": [],
   "source": [
    "g = list(grp.groups.keys())[0]\n",
    "inds = grp.groups[g]\n",
    "dfc.loc[inds, ['SLURM_job_id','err_sens_Xshape']]"
   ]
  },
  {
   "cell_type": "code",
   "execution_count": null,
   "id": "2af0127b",
   "metadata": {
    "hidden": true
   },
   "outputs": [],
   "source": [
    "varsets = dfc.query('dec_type == \"classic\"')['varset'].unique()\n",
    "print(list(varsets))\n",
    "varnames0 = list(set(';'.join(varsets).split(';') ) )#.split(',')\n",
    "print('varnames0',varnames0)"
   ]
  },
  {
   "cell_type": "code",
   "execution_count": null,
   "id": "85a7f16c",
   "metadata": {
    "code_folding": [],
    "hidden": true
   },
   "outputs": [],
   "source": [
    "from postproc import  extractB2Bcols\n",
    "#%debug\n",
    "#varnames0 = ['prev_movement','prev_belief','movement','belief','feedback',\n",
    "#             'error','prev_error','err_sens','next_error','correction' ]\n",
    "#varnames0 = ktes\n",
    "dfc_, df_b2b_plot0 = extractB2Bcols(dfc, b2bdef,\n",
    "                        toclean=varnames0)\n",
    "\n",
    "suffixes_present = df_b2b_plot0['custom_suffix'].unique()\n",
    "print(len(dfc_))"
   ]
  },
  {
   "cell_type": "code",
   "execution_count": null,
   "id": "9e51b9c0",
   "metadata": {
    "hidden": true
   },
   "outputs": [],
   "source": [
    "[col for col in dfc.columns if col.find('score') >= 0]"
   ]
  },
  {
   "cell_type": "code",
   "execution_count": null,
   "id": "2533849c",
   "metadata": {
    "hidden": true
   },
   "outputs": [],
   "source": [
    "from postproc import extractClassicCols\n",
    "#,'movement','feedback','next_error','prev_belief','belief',\n",
    "#'prev_movement',\n",
    "# varnames0 = ['error','error_pred_Tan','error_pred_Herz','error_pred_Died',\n",
    "#              'error_pred_Died','prev_error',\n",
    "#              'err_sens','err_sens_Tan','err_sens_Herz',\n",
    "#              'trials','target_inds' ]\n",
    "#varnames = ktes\n",
    "df_class_plot = extractClassicCols(dfc, defvarcolns=varnames0,\n",
    "                                  error_handling = 'ignore')\n",
    "\n",
    "#df_b2b_plot = df_class_plot\n"
   ]
  },
  {
   "cell_type": "code",
   "execution_count": null,
   "id": "51b25196",
   "metadata": {
    "hidden": true
   },
   "outputs": [],
   "source": [
    "df_b2b_plot = pd.concat([df_class_plot,df_b2b_plot0] )#.reset_index()"
   ]
  },
  {
   "cell_type": "code",
   "execution_count": null,
   "id": "c399ea5b",
   "metadata": {
    "hidden": true
   },
   "outputs": [],
   "source": [
    "catcols = ['control_type', 'env', 'varname', \n",
    "           'time_locked', 'custom_suffix']\n",
    "for col in catcols:\n",
    "    df_b2b_plot0[col] = df_b2b_plot0[col] .astype('category')"
   ]
  },
  {
   "cell_type": "code",
   "execution_count": null,
   "id": "03a2796b",
   "metadata": {
    "hidden": true
   },
   "outputs": [],
   "source": [
    "lbd = lambda x: x[14:].replace('_drall_dtall','').\\\n",
    "    replace('_sh0.232','').replace('_s','').replace('trim0_','')\n",
    "df_b2b_plot['suff_short'] = df_b2b_plot['custom_suffix'].apply(lbd,1)"
   ]
  },
  {
   "cell_type": "code",
   "execution_count": null,
   "id": "4a608eb3",
   "metadata": {
    "hidden": true
   },
   "outputs": [],
   "source": [
    "varnameord = ['target_inds',\n",
    " 'prev_error',\n",
    " 'error',              \n",
    " 'next_error', \n",
    " 'prev_movement',\n",
    " 'movement',\n",
    " 'prev_belief',\n",
    " 'belief',\n",
    " 'err_sens']\n",
    "              \n",
    "#  ['err_sens_Tan',\n",
    "#  'err_sens_Herz',\n",
    "#  'error_pred_Tan',\n",
    "#  'error_pred_Herz',\n",
    "#  'error_pred_Died']"
   ]
  },
  {
   "cell_type": "code",
   "execution_count": null,
   "id": "a9ad897b",
   "metadata": {
    "hidden": true
   },
   "outputs": [],
   "source": [
    "#list(df_b2b_plot['varname'].unique())"
   ]
  },
  {
   "cell_type": "code",
   "execution_count": null,
   "id": "3a3f34d2",
   "metadata": {
    "hidden": true
   },
   "outputs": [],
   "source": [
    "#list(df_b2b_plot['suff_short'].unique())\n",
    "# roword = ['dhittw1cX0Y0c0_broad', \n",
    "#           'dhittw1cX0Y0c1_broad',\n",
    "#  'dhittw1cX0Y1c0_broad',\n",
    "#  'dhittw1cX0Y1c1_broad',\n",
    "#  'dhittw1cX0Y2c0_broad',\n",
    "#  'dhittw1cX0Y2c1_broad']\n",
    "\n",
    "roword = ['dhittw1cX0Y0c0_broad', \n",
    "          'dhittw1cX0Y0c1_broad',\n",
    "          'dhittw1cX0Y2c0_broad',\n",
    "          'dhittw1cX0Y2c1_broad',\n",
    "          'dhittw1cX0Y1c0_broad',\n",
    "          'dhittw1cX0Y1c1_broad' ]"
   ]
  },
  {
   "cell_type": "code",
   "execution_count": null,
   "id": "ec4034bb",
   "metadata": {
    "hidden": true
   },
   "outputs": [],
   "source": [
    "df_b2b_plot['suff_short']"
   ]
  },
  {
   "cell_type": "code",
   "execution_count": null,
   "id": "807f195d",
   "metadata": {
    "hidden": true
   },
   "outputs": [],
   "source": [
    "cols_unique"
   ]
  },
  {
   "cell_type": "code",
   "execution_count": null,
   "id": "b9e53c18",
   "metadata": {
    "hidden": true
   },
   "outputs": [],
   "source": [
    "dfc.duplicated(cols_unique).any()"
   ]
  },
  {
   "cell_type": "code",
   "execution_count": null,
   "id": "e02bb80f",
   "metadata": {
    "hidden": true
   },
   "outputs": [],
   "source": [
    "dfc['rt']"
   ]
  },
  {
   "cell_type": "code",
   "execution_count": null,
   "id": "a2bfe872",
   "metadata": {
    "hidden": true
   },
   "outputs": [],
   "source": []
  },
  {
   "cell_type": "code",
   "execution_count": null,
   "id": "b8f2ee18",
   "metadata": {
    "hidden": true
   },
   "outputs": [],
   "source": [
    "df_.groupby(['varname','suff_short','time_locked','env',\n",
    "            'control_type','subject','dec_type','varseti'])\\\n",
    "    .size().max()"
   ]
  },
  {
   "cell_type": "code",
   "execution_count": null,
   "id": "1d9ba2ce",
   "metadata": {
    "hidden": true
   },
   "outputs": [],
   "source": [
    "df_b2b_plot.query('varseti == 0')['varset'].unique()"
   ]
  },
  {
   "cell_type": "code",
   "execution_count": null,
   "id": "c61f4f81",
   "metadata": {
    "hidden": true
   },
   "outputs": [],
   "source": [
    "sns.set(font_scale=1.1)\n",
    "tmin0 = '-0.50'  #'-0.64' \n",
    "import seaborn as sns\n",
    "pargs = dict(kind='box',  row='suff_short',  col='varseti',\n",
    "               y = 'varname', x = 'vals_to_plot',\n",
    "             hue='env', palette=['orange', 'grey'],\n",
    "            hue_order= ['stable','random'],aspect=1.2,\n",
    "            order = varnameord, row_order = roword,\n",
    "             sharex = 'col')#, row_order=roword)\n",
    "\n",
    "for tl in time_lockeds:\n",
    "    df_ = df_b2b_plot.query('tmin == @tmin0 and varname != \"trials\"'\n",
    "                           ' and time_locked == @tl')\n",
    "    assert not df_.duplicated(cols_unique + ['varname','varseti']).any()\n",
    "    if len(df_) != 0:    \n",
    "        fg = sns.catplot(data=df_, **pargs)\n",
    "        for ax in fg.axes.flatten():\n",
    "            ax.axvline(x=0, c='r', ls=':')\n",
    "            ax.grid(True)\n",
    "            #ax.set_xticklabels(ax.get_xticklabels(), rotation=45)\n",
    "\n",
    "        sns.move_legend(fg, loc='upper right')\n",
    "        #plt\n",
    "        #plt.suptitle(suff_short)\n",
    "        plt.tight_layout()    \n",
    "        #plt.grid(True)\n",
    "\n",
    "        #break\n",
    "\n",
    "        plt.savefig( pjoin(path_fig, f'classic_home_basic_vars_{tmin0}_{tl}.pdf'))\n",
    "\n",
    "\n",
    "    #     df_ = df_b2b_plot.query('varseti == 1 and custom_suffix == @suff and tmin == \"-0.50\"')\n",
    "    #     fg = sns.catplot(data=df_, **pargs)\n",
    "    #     for ax in fg.axes.flatten():\n",
    "    #         ax.axhline(y=0, c='r', ls=':')\n",
    "\n",
    "    #     sns.move_legend(fg, loc='upper right')\n",
    "    #     plt.suptitle(suff)\n",
    "    #     plt.tight_layout()\n",
    "\n",
    "    #     plt.savefig( pjoin(path_fig, f'b2b_home_ES_{tmin0}_{suff_short}.pdf'))\n",
    "    print('finished ')"
   ]
  },
  {
   "cell_type": "markdown",
   "id": "86b2e765",
   "metadata": {
    "hidden": true
   },
   "source": [
    "## for Bernstein abstract"
   ]
  },
  {
   "cell_type": "code",
   "execution_count": null,
   "id": "3f5d1398",
   "metadata": {
    "hidden": true
   },
   "outputs": [],
   "source": [
    "from postproc import extractClassicCols\n",
    "#,'movement','feedback','next_error','prev_belief','belief',\n",
    "#'prev_movement',\n",
    "varnames0 = ['error','error_pred_Tan','error_pred_Herz','error_pred_Died',\n",
    "             'error_pred_Died','prev_error',\n",
    "             'err_sens','err_sens_Tan','err_sens_Herz',\n",
    "             'trials' ]\n",
    "varnames = ktes\n",
    "df_class_plot = extractClassicCols(dfc, defvarcolns=varnames0,\n",
    "                                  error_handling = 'ignore')\n",
    "\n",
    "df_b2b_plot = df_class_plot\n",
    "\n",
    "catcols = ['control_type', 'env', 'varname', \n",
    "           'time_locked', 'custom_suffix']\n",
    "for col in catcols:\n",
    "    df_b2b_plot[col] = df_b2b_plot[col] .astype('category')"
   ]
  },
  {
   "cell_type": "code",
   "execution_count": null,
   "id": "6fc8b799",
   "metadata": {
    "hidden": true
   },
   "outputs": [],
   "source": [
    "cols_ = ['subject',\n",
    " 'time_locked',\n",
    " 'control_type',\n",
    " 'trial_group_col_calc',\n",
    " 'freq_name',\n",
    " 'tmin',\n",
    " 'dec_type',\n",
    " 'custom_suffix', 'varseti', 'varname', 'rt','trial_group_col_calc']"
   ]
  },
  {
   "cell_type": "code",
   "execution_count": null,
   "id": "c07385bb",
   "metadata": {
    "hidden": true
   },
   "outputs": [],
   "source": [
    "list(df_b2b_plot['varname'].unique())"
   ]
  },
  {
   "cell_type": "code",
   "execution_count": null,
   "id": "5478edd2",
   "metadata": {
    "hidden": true
   },
   "outputs": [],
   "source": [
    "df_b2b_plot = df_b2b_plot[cols_ + ['env', 'vals_to_plot'] ].drop_duplicates()"
   ]
  },
  {
   "cell_type": "code",
   "execution_count": null,
   "id": "fa3d7189",
   "metadata": {
    "hidden": true
   },
   "outputs": [],
   "source": [
    "df_b2b_plot = df_b2b_plot.reset_index()"
   ]
  },
  {
   "cell_type": "code",
   "execution_count": null,
   "id": "c93bdb47",
   "metadata": {
    "hidden": true
   },
   "outputs": [],
   "source": [
    "# dfsz = df_b2b_plot.groupby(cols_ + ['env']).size().to_frame()\n",
    "# dfsz[dfsz[0] == 2]#.reset_index()"
   ]
  },
  {
   "cell_type": "code",
   "execution_count": null,
   "id": "ea818b25",
   "metadata": {
    "hidden": true
   },
   "outputs": [],
   "source": [
    "#df_b2b_plot[df_b2b_plot.duplicated(cols_ + ['env'])]"
   ]
  },
  {
   "cell_type": "code",
   "execution_count": null,
   "id": "24aec7ba",
   "metadata": {
    "hidden": true
   },
   "outputs": [],
   "source": [
    "df_b2b_plot.query('env == \"random\"')"
   ]
  },
  {
   "cell_type": "code",
   "execution_count": null,
   "id": "0512e410",
   "metadata": {
    "hidden": true
   },
   "outputs": [],
   "source": [
    "catcols_noenv = list(set(catcols) - set([env]))"
   ]
  },
  {
   "cell_type": "code",
   "execution_count": null,
   "id": "361ffeab",
   "metadata": {
    "hidden": true
   },
   "outputs": [],
   "source": [
    "catcols_noenv"
   ]
  },
  {
   "cell_type": "code",
   "execution_count": null,
   "id": "d4e04bb0",
   "metadata": {
    "hidden": true
   },
   "outputs": [],
   "source": [
    "for col in cols_ :\n",
    "    df_b2b_plot[col]= df_b2b_plot[col].astype('string')\n",
    "df_b2b_plot = df_b2b_plot.reset_index()"
   ]
  },
  {
   "cell_type": "code",
   "execution_count": null,
   "id": "dba333aa",
   "metadata": {
    "hidden": true
   },
   "outputs": [],
   "source": []
  },
  {
   "cell_type": "code",
   "execution_count": null,
   "id": "1d995a3e",
   "metadata": {
    "hidden": true
   },
   "outputs": [],
   "source": [
    "dfs = []\n",
    "for env in ['stable','random']:\n",
    "    df_ = df_b2b_plot.query('env == @env').copy()#.reset_index(drop=True)\n",
    "    df_ = df_.drop(columns=['level_0','index','env','trial_group_col_calc'])\n",
    "    \n",
    "    for col in cols_  :\n",
    "        if col not in df_:\n",
    "            continue\n",
    "        df_[col]= df_[col].astype('string')\n",
    "        \n",
    "    cols__ = list(set(cols_) - set(['trial_group_col_calc']) )\n",
    "    dfs += [df_.set_index(cols__) ]"
   ]
  },
  {
   "cell_type": "code",
   "execution_count": null,
   "id": "2a2c7af7",
   "metadata": {
    "hidden": true
   },
   "outputs": [],
   "source": [
    "df_dif = dfs[0]['vals_to_plot'] - dfs[1]['vals_to_plot']\n",
    "df_dif = df_dif.reset_index()"
   ]
  },
  {
   "cell_type": "code",
   "execution_count": null,
   "id": "63457cb2",
   "metadata": {
    "hidden": true
   },
   "outputs": [],
   "source": [
    "#df_b2b_plot.columns"
   ]
  },
  {
   "cell_type": "code",
   "execution_count": null,
   "id": "a151de9b",
   "metadata": {
    "hidden": true
   },
   "outputs": [],
   "source": [
    "df_dif"
   ]
  },
  {
   "cell_type": "code",
   "execution_count": null,
   "id": "83cefb61",
   "metadata": {
    "hidden": true
   },
   "outputs": [],
   "source": [
    "dfs[0].duplicated"
   ]
  },
  {
   "cell_type": "code",
   "execution_count": null,
   "id": "ba9fc980",
   "metadata": {
    "hidden": true
   },
   "outputs": [],
   "source": [
    "dfs['']"
   ]
  },
  {
   "cell_type": "code",
   "execution_count": null,
   "id": "8b00a9a9",
   "metadata": {
    "code_folding": [],
    "hidden": true
   },
   "outputs": [],
   "source": [
    "#path_fit_R = pjoin( os.path.expandvars('$HOME'), 'ownCloud', 'Current' ,'_share_Romain' ); path_fit_R"
   ]
  },
  {
   "cell_type": "code",
   "execution_count": null,
   "id": "fab905f9",
   "metadata": {
    "hidden": true
   },
   "outputs": [],
   "source": [
    "#df_b2b_plot['SLURM_job_id']"
   ]
  },
  {
   "cell_type": "code",
   "execution_count": null,
   "id": "f8485a4b",
   "metadata": {
    "hidden": true
   },
   "outputs": [],
   "source": [
    "dftmp['varname'].unique()"
   ]
  },
  {
   "cell_type": "code",
   "execution_count": null,
   "id": "26ba5297",
   "metadata": {
    "hidden": true
   },
   "outputs": [],
   "source": [
    "from scipy.stats import ttest_rel"
   ]
  },
  {
   "cell_type": "code",
   "execution_count": null,
   "id": "398900a3",
   "metadata": {
    "code_folding": [
     0
    ],
    "hidden": true
   },
   "outputs": [],
   "source": [
    "# calc t-tests\n",
    "#suff = 'trim0_dhittw1_s_scX0Y0_drall_dtall'\n",
    "#suff = 'CNhome_trim0_dhittw1_s_scX1Y1_drall_dtall'\n",
    "qs = ('varseti == 0 and '\n",
    " ' custom_suffix == @suff and tmin == \"-0.50\"')\n",
    "signif_only = 1\n",
    "for suff in suffixes_present:\n",
    "    print('----------- ' ,suff)\n",
    "    for ct in ['movement', 'feedback']:\n",
    "        for varname in ['prev_movement', 'prev_error', 'error', 'prev_belief',\n",
    "               'prev_feedback']:\n",
    "            vsd = {}\n",
    "            vsl = []\n",
    "            for env_cur in ['stable', 'random']:\n",
    "                qs2 = qs + ' and env == @env_cur and control_type == @ct and varname == @varname'\n",
    "                dftmp = df_b2b_plot.query(qs2)            \n",
    "                if len(dftmp) == 0:\n",
    "                    #print(f'zero len for {ct}: {varname}, skipping')\n",
    "                    continue\n",
    "                assert len(dftmp) == 20, len(dftmp)\n",
    "                vsd[env_cur] = dftmp['vals_to_plot'].values\n",
    "                vsl += [dftmp['vals_to_plot'].values]\n",
    "            if len(vsd) == 0:\n",
    "                continue\n",
    "            for env_cur in ['stable', 'random']:\n",
    "                tr = ttest_1samp( vsd[env_cur], 0, alternative='greater' )\n",
    "                s = ' '\n",
    "                if tr.pvalue < 0.05:\n",
    "                    s = '*'\n",
    "                if (tr.pvalue < 0.05) or (not signif_only):\n",
    "                    print(s + 'control={:8}, var={:14}, {}>0, pvalue={:.4f}'.format( ct, varname, env_cur, tr.pvalue) )\n",
    "            tr = ttest_rel(vsl[0],vsl[1], alternative='greater')\n",
    "            s = ' '\n",
    "            if tr.pvalue < 0.05:\n",
    "                s = '*'\n",
    "            if (tr.pvalue < 0.05) or (not signif_only):\n",
    "                print(s + 'control={:8}, var={:14}, stable>random pvalue={:.4f}'.format( ct, varname, tr.pvalue) )\n",
    "            print('')\n",
    "            "
   ]
  },
  {
   "cell_type": "code",
   "execution_count": null,
   "id": "88526f1b",
   "metadata": {
    "hidden": true
   },
   "outputs": [],
   "source": [
    "path_fig"
   ]
  },
  {
   "cell_type": "code",
   "execution_count": null,
   "id": "36580447",
   "metadata": {
    "hidden": true
   },
   "outputs": [],
   "source": [
    "df_b2b_plot['custom_suffix'].unique()"
   ]
  },
  {
   "cell_type": "code",
   "execution_count": null,
   "id": "e6af5ad6",
   "metadata": {
    "hidden": true
   },
   "outputs": [],
   "source": []
  },
  {
   "cell_type": "code",
   "execution_count": null,
   "id": "4e2356e9",
   "metadata": {
    "hidden": true
   },
   "outputs": [],
   "source": [
    "#suffixes_desired = ['CNhome_trim0_dhittw1_s_scX0Y0c0_drall_dtall_broad']"
   ]
  },
  {
   "cell_type": "code",
   "execution_count": null,
   "id": "c40c8cff",
   "metadata": {
    "hidden": true
   },
   "outputs": [],
   "source": [
    "suffixes_desired = suffixes_present"
   ]
  },
  {
   "cell_type": "code",
   "execution_count": null,
   "id": "949ac20c",
   "metadata": {
    "hidden": true
   },
   "outputs": [],
   "source": [
    "suffixes_present"
   ]
  },
  {
   "cell_type": "code",
   "execution_count": null,
   "id": "e962226d",
   "metadata": {
    "hidden": true
   },
   "outputs": [],
   "source": [
    "ttest_1samp?"
   ]
  },
  {
   "cell_type": "code",
   "execution_count": null,
   "id": "e395ff8a",
   "metadata": {
    "hidden": true
   },
   "outputs": [],
   "source": [
    "df_dif.columns"
   ]
  },
  {
   "cell_type": "code",
   "execution_count": null,
   "id": "c8b6ffa2",
   "metadata": {
    "hidden": true
   },
   "outputs": [],
   "source": [
    "vns = [\"error_pred_Herz\", \"error_pred_Tan\"]\n",
    "dfs = []\n",
    "for vn in vns:\n",
    "    df_ = df_dif.query('varname in @vn').set_index(['control_type', 'subject', 'tmin', 'dec_type', 'varseti',\n",
    "       'custom_suffix', 'rt', 'freq_name', 'time_locked'])\n",
    "    dfs+=[df_]\n",
    "    print( len(df_) )\n",
    "    \n",
    "dfdifdif_TH = dfs[0]['vals_to_plot'] - dfs[1]['vals_to_plot']\n",
    "dfdifdif_TH = dfdifdif_TH.to_frame().reset_index()\n",
    "for alt in ['two-sided','greater','less']:\n",
    "    print(alt)\n",
    "    def f(dftmp):\n",
    "        vs = dftmp['vals_to_plot']\n",
    "        vs = vs[~np.isnan(vs)]\n",
    "        r = ttest_1samp(vs,0,alternative=alt)\n",
    "        return r.pvalue\n",
    "    dfr =  dfdifdif_TH.groupby(['control_type','time_locked','freq_name']).apply(f)\n",
    "    display(dfr)"
   ]
  },
  {
   "cell_type": "code",
   "execution_count": null,
   "id": "2fd29d96",
   "metadata": {
    "hidden": true
   },
   "outputs": [],
   "source": [
    "assert not dfs[0].duplicated().any()\n",
    "assert not dfs[1].duplicated().any()"
   ]
  },
  {
   "cell_type": "code",
   "execution_count": null,
   "id": "163d58d7",
   "metadata": {
    "hidden": true
   },
   "outputs": [],
   "source": [
    "vns = [\"err_sens_Herz\", \"err_sens_Tan\"]\n",
    "dfs = []\n",
    "for vn in vns:\n",
    "    df_ = df_dif.query('varname in @vn').set_index(['control_type', 'subject', 'tmin', 'dec_type', 'varseti',\n",
    "       'custom_suffix', 'rt', 'freq_name', 'time_locked'])\n",
    "    dfs+=[df_]\n",
    "    print( len(df_) )\n",
    "dfdifdif_TH = dfs[0]['vals_to_plot'] - dfs[1]['vals_to_plot']\n",
    "dfdifdif_TH = dfdifdif_TH.to_frame().reset_index()\n",
    "def f(dftmp):\n",
    "    vs = dftmp['vals_to_plot']\n",
    "    vs = vs[~np.isnan(vs)]\n",
    "    r = ttest_1samp(vs,0,alternative='two-sided')\n",
    "    return r.pvalue\n",
    "dfdifdif_TH.groupby(['control_type','time_locked','freq_name']).apply(f)"
   ]
  },
  {
   "cell_type": "code",
   "execution_count": null,
   "id": "6ed90247",
   "metadata": {
    "hidden": true
   },
   "outputs": [],
   "source": []
  },
  {
   "cell_type": "code",
   "execution_count": null,
   "id": "47358bf0",
   "metadata": {
    "hidden": true
   },
   "outputs": [],
   "source": [
    "def f(dftmp):\n",
    "    vs = dftmp['vals_to_plot'].values\n",
    "    vs = vs[~np.isnan(vs)]\n",
    "    r = ttest_1samp(vs,0,alternative='greater')\n",
    "    return r.pvalue\n",
    "dfsig = df_dif.groupby(['varname','control_type','time_locked','freq_name']).apply(f).to_frame()\n",
    "#dfsig[dfsig]\n",
    "dfsig[dfsig[0] < 0.05]"
   ]
  },
  {
   "cell_type": "code",
   "execution_count": null,
   "id": "8f1650d0",
   "metadata": {
    "hidden": true
   },
   "outputs": [],
   "source": [
    "vn2pub = dict(zip(['error_pred_Herz', 'error_pred_Tan', 'error_pred_Died'],\n",
    "                  ['Herzfeld', 'Tan', 'Diedrichsen']))"
   ]
  },
  {
   "cell_type": "code",
   "execution_count": null,
   "id": "728f0842",
   "metadata": {
    "hidden": true
   },
   "outputs": [],
   "source": [
    "tls[0].get_text()"
   ]
  },
  {
   "cell_type": "code",
   "execution_count": null,
   "id": "88277ba3",
   "metadata": {
    "hidden": true
   },
   "outputs": [],
   "source": [
    "# classic\n",
    "varns = ['error_pred_Herz', 'error_pred_Tan', 'error_pred_Died']\n",
    "sns.set(font_scale=2.1)\n",
    "import seaborn as sns\n",
    "#for suff in suffixes_desired:\n",
    "pargs = dict(kind='box',               \n",
    "           y = 'varname', x = 'vals_to_plot', row='freq_name',\n",
    "              sharey='none',aspect=1.9)\n",
    "fg = sns.catplot(data=df_dif.query(\n",
    "    'tmin == \"-0.50\" and varname in @varns'\n",
    "    ' and control_type == \"feedback\"'), \n",
    "                 **pargs)\n",
    "for ax in fg.axes.flatten():\n",
    "    #ax.axhline(y=0, c='r', ls=':')\n",
    "    ax.set_xticklabels(ax.get_xticklabels())#, rotation=90)\n",
    "    tls = ax.get_yticklabels()\n",
    "    ax.set_yticklabels([ vn2pub[tl.get_text()] for tl in ax.get_yticklabels()] )#, rotation=90)\n",
    "    ax.grid(True)\n",
    "    ax.set_xlabel('decoding score stable - decoding score random')\n",
    "    ax.set_ylabel('')\n",
    "    ax.axvline(0,c='red',ls=':')\n",
    "\n",
    "#sns.move_legend(fg, loc='upper right')\n",
    "plt.suptitle(suff)\n",
    "plt.tight_layout()    \n",
    "plt.savefig( pjoin(path_fig, f'classic_diff_homeModelES.pdf'))"
   ]
  },
  {
   "cell_type": "code",
   "execution_count": null,
   "id": "b1f62260",
   "metadata": {
    "hidden": true
   },
   "outputs": [],
   "source": [
    "#15:02"
   ]
  },
  {
   "cell_type": "code",
   "execution_count": null,
   "id": "26a59283",
   "metadata": {
    "hidden": true
   },
   "outputs": [],
   "source": [
    "# classic\n",
    "sns.set(font_scale=1.1)\n",
    "import seaborn as sns\n",
    "for suff in suffixes_desired:\n",
    "    \n",
    "    pargs = dict(kind='box',  col='control_type',  \n",
    "                 #row='varseti',\n",
    "               x = 'varname', y = 'vals_to_plot',   hue='env',\n",
    "                 palette=['orange', 'grey'] , sharey='none',\n",
    "                 hue_order=['stable','random'],\n",
    "                row='time_locked')\n",
    "    fg = sns.catplot(data=df_b2b_plot.query(\n",
    "        'custom_suffix == @suff and tmin == \"-0.50\"'), \n",
    "                     **pargs)\n",
    "    for ax in fg.axes.flatten():\n",
    "        ax.axhline(y=0, c='r', ls=':')\n",
    "        ax.set_xticklabels(ax.get_xticklabels(), rotation=90)\n",
    "        ax.grid(True)\n",
    "\n",
    "    sns.move_legend(fg, loc='upper right')\n",
    "    plt.suptitle(suff)\n",
    "    plt.tight_layout()    \n",
    "    plt.savefig( pjoin(path_fig, f'classic_homeModelES_{suff}.pdf'))"
   ]
  },
  {
   "cell_type": "code",
   "execution_count": null,
   "id": "15aa639c",
   "metadata": {
    "hidden": true
   },
   "outputs": [],
   "source": [
    "sns.set(font_scale=1.1)\n",
    "import seaborn as sns\n",
    "for suff in suffixes_desired:\n",
    "    \n",
    "    pargs = dict(kind='box',  col='control_type',  \n",
    "                 #row='varseti',\n",
    "               x = 'varname', y = 'vals_to_plot',   hue='env',\n",
    "                 palette=['orange', 'grey'] , sharey='none',\n",
    "                row='time_locked')\n",
    "    fg = sns.catplot(data=df_b2b_plot.query(\n",
    "        'varseti == 0 and custom_suffix == @suff and tmin == \"-0.50\"'), \n",
    "                     **pargs)\n",
    "    for ax in fg.axes.flatten():\n",
    "        ax.axhline(y=0, c='r', ls=':')\n",
    "        ax.set_xticklabels(ax.get_xticklabels(), rotation=45)\n",
    "        ax.grid(True)\n",
    "\n",
    "    sns.move_legend(fg, loc='upper right')\n",
    "    plt.suptitle(suff)\n",
    "    plt.tight_layout()    \n",
    "    plt.savefig( pjoin(path_fig, f'b2b_home_basic_vars_{suff}.pdf'))\n",
    "\n",
    "    fg = sns.catplot(data=df_b2b_plot.query('varseti == 1 and custom_suffix == @suff and tmin == \"-0.50\"'),\n",
    "                     **pargs)\n",
    "    for ax in fg.axes.flatten():\n",
    "        ax.axhline(y=0, c='r', ls=':')\n",
    "        ax.set_xticklabels(ax.get_xticklabels(), rotation=45)\n",
    "        ax.grid(True)\n",
    "\n",
    "    sns.move_legend(fg, loc='upper right')\n",
    "    plt.suptitle(suff)\n",
    "    plt.tight_layout()\n",
    "\n",
    "    plt.savefig( pjoin(path_fig, f'b2b_home_ES_{suff}.pdf'))"
   ]
  },
  {
   "cell_type": "code",
   "execution_count": null,
   "id": "b0949482",
   "metadata": {
    "hidden": true
   },
   "outputs": [],
   "source": [
    "#ct = \"movement\"\n",
    "#env_cur = 'stable'\n",
    "dfc_cl = dfc.query('dec_type == \"classic\" and tmin == \"-0.50\"')\n",
    "dfc_cl = dfc_cl.copy()\n",
    "print(len(dfc_cl))\n",
    "fg = sns.catplot(data=dfc_cl, kind='boxen', x='control_type',\n",
    "           y = 'prev_error_scores_mean_over_folds', \n",
    "                  hue='env')\n",
    "for ax in fg.axes.flatten():\n",
    "    ax.axhline(y=0, c='r', ls=':')\n",
    "    \n",
    "plt.suptitle('prev_error')\n",
    "plt.savefig( pjoin(path_fig, 'classic_home_prev_error.pdf'))"
   ]
  },
  {
   "cell_type": "markdown",
   "id": "e440c5c8",
   "metadata": {
    "heading_collapsed": true,
    "hidden": true
   },
   "source": [
    "### debug"
   ]
  },
  {
   "cell_type": "code",
   "execution_count": null,
   "id": "ea70c9b7",
   "metadata": {
    "hidden": true
   },
   "outputs": [],
   "source": [
    "sub_df.reset_index()\n",
    "print(len(sub_df))\n",
    "sub_df"
   ]
  },
  {
   "cell_type": "code",
   "execution_count": null,
   "id": "2a35336b",
   "metadata": {
    "hidden": true
   },
   "outputs": [],
   "source": []
  },
  {
   "cell_type": "code",
   "execution_count": null,
   "id": "a020281a",
   "metadata": {
    "hidden": true
   },
   "outputs": [],
   "source": [
    "list( sub_df['fn'] ) "
   ]
  },
  {
   "cell_type": "code",
   "execution_count": null,
   "id": "a1ecddac",
   "metadata": {
    "hidden": true
   },
   "outputs": [],
   "source": [
    "times, fns, pars = list( zip(*srt) )\n",
    "from datetime import datetime\n",
    "days = [ datetime.fromtimestamp(t).day for t in times]\n",
    "sum( np.array(days) < 20)"
   ]
  },
  {
   "cell_type": "code",
   "execution_count": null,
   "id": "2fa72773",
   "metadata": {
    "hidden": true
   },
   "outputs": [],
   "source": []
  },
  {
   "cell_type": "code",
   "execution_count": null,
   "id": "e68fa2ae",
   "metadata": {
    "hidden": true
   },
   "outputs": [],
   "source": [
    "\n",
    "#r = re.match( r'(stable|random)_(Ridge|xgboost)_(feedback|movement)_(.*)_([a-z])_t=(.*)\\.npz', fns[0])\n",
    "#r = re.match( r'(stable|random)_(Ridge|xgboost)_(feedback|target)_(.*)_([a-z]).*\\.npz', fns[0])\n",
    "r = re.match( r'(stable|random)_(Ridge|xgboost)_(feedback|target)_(.*)_(' +freqstr+ ')_t=(.*)\\.npz', fns[0])\n",
    "print(r )\n",
    "grps = r.groups(); print(grps)\n",
    "env,rt,tgt,analysis_name,freq_name,tminmax = grps"
   ]
  },
  {
   "cell_type": "code",
   "execution_count": null,
   "id": "99edc272",
   "metadata": {
    "hidden": true
   },
   "outputs": [],
   "source": [
    "len(days)"
   ]
  },
  {
   "cell_type": "code",
   "execution_count": null,
   "id": "865028d9",
   "metadata": {
    "hidden": true
   },
   "outputs": [],
   "source": [
    "fn_full"
   ]
  },
  {
   "cell_type": "code",
   "execution_count": null,
   "id": "4ae9bac0",
   "metadata": {
    "hidden": true
   },
   "outputs": [],
   "source": [
    "shutil."
   ]
  },
  {
   "cell_type": "code",
   "execution_count": null,
   "id": "68903cb9",
   "metadata": {
    "hidden": true
   },
   "outputs": [],
   "source": [
    "# fns[0]\n",
    "# fn_full = op.join(dir_full,fns[0])\n",
    "# import shutil\n",
    "# os.remove(fn_full)"
   ]
  },
  {
   "cell_type": "code",
   "execution_count": null,
   "id": "544479af",
   "metadata": {
    "hidden": true
   },
   "outputs": [],
   "source": [
    "fn_full"
   ]
  },
  {
   "cell_type": "code",
   "execution_count": null,
   "id": "c632f895",
   "metadata": {
    "hidden": true
   },
   "outputs": [],
   "source": []
  },
  {
   "cell_type": "code",
   "execution_count": null,
   "id": "46c2aa07",
   "metadata": {
    "hidden": true
   },
   "outputs": [],
   "source": [
    "shift"
   ]
  },
  {
   "cell_type": "code",
   "execution_count": null,
   "id": "a875e459",
   "metadata": {
    "hidden": true
   },
   "outputs": [],
   "source": [
    "np.all( np.diff(times) > 0)"
   ]
  },
  {
   "cell_type": "code",
   "execution_count": null,
   "id": "0dce2842",
   "metadata": {
    "hidden": true
   },
   "outputs": [],
   "source": []
  },
  {
   "cell_type": "code",
   "execution_count": null,
   "id": "0ac7df49",
   "metadata": {
    "hidden": true
   },
   "outputs": [],
   "source": []
  },
  {
   "cell_type": "code",
   "execution_count": null,
   "id": "2bc619b0",
   "metadata": {
    "hidden": true
   },
   "outputs": [],
   "source": [
    "d = datetime.fromtimestamp(times[0])"
   ]
  },
  {
   "cell_type": "code",
   "execution_count": null,
   "id": "4b00f507",
   "metadata": {
    "hidden": true
   },
   "outputs": [],
   "source": [
    "newver = [ 'slide_windows_type' in par_cur for par_cur in pars]"
   ]
  },
  {
   "cell_type": "code",
   "execution_count": null,
   "id": "9926250b",
   "metadata": {
    "hidden": true
   },
   "outputs": [],
   "source": [
    "len(pars) - sum( newver )"
   ]
  },
  {
   "cell_type": "code",
   "execution_count": null,
   "id": "2fd906b1",
   "metadata": {
    "hidden": true
   },
   "outputs": [],
   "source": []
  },
  {
   "cell_type": "code",
   "execution_count": null,
   "id": "7aa97985",
   "metadata": {
    "hidden": true
   },
   "outputs": [],
   "source": []
  },
  {
   "cell_type": "code",
   "execution_count": null,
   "id": "3d427765",
   "metadata": {
    "hidden": true
   },
   "outputs": [],
   "source": [
    "import matplotlib.pyplot as plt\n",
    "COLOR = 'white'\n",
    "mpl.rcParams['text.color'] = COLOR\n",
    "mpl.rcParams['axes.labelcolor'] = COLOR\n",
    "mpl.rcParams['xtick.color'] = COLOR\n",
    "mpl.rcParams['ytick.color'] = COLOR\n",
    "\n",
    "plt.hist(days)"
   ]
  },
  {
   "cell_type": "code",
   "execution_count": null,
   "id": "7f554d6d",
   "metadata": {
    "hidden": true
   },
   "outputs": [],
   "source": [
    "len(srt)"
   ]
  },
  {
   "cell_type": "code",
   "execution_count": null,
   "id": "ca45c23a",
   "metadata": {
    "hidden": true
   },
   "outputs": [],
   "source": []
  },
  {
   "cell_type": "code",
   "execution_count": null,
   "id": "b33f70ef",
   "metadata": {
    "hidden": true
   },
   "outputs": [],
   "source": [
    "list ( f.keys() )"
   ]
  },
  {
   "cell_type": "code",
   "execution_count": null,
   "id": "73970351",
   "metadata": {
    "hidden": true
   },
   "outputs": [],
   "source": []
  },
  {
   "cell_type": "code",
   "execution_count": null,
   "id": "07f3f0d1",
   "metadata": {
    "hidden": true
   },
   "outputs": [],
   "source": [
    "f['par'][()]"
   ]
  },
  {
   "cell_type": "code",
   "execution_count": null,
   "id": "ec27283c",
   "metadata": {
    "hidden": true
   },
   "outputs": [],
   "source": [
    "biotec falls,\n",
    "new datacenter companies fall"
   ]
  },
  {
   "cell_type": "code",
   "execution_count": null,
   "id": "350f1fe0",
   "metadata": {
    "hidden": true
   },
   "outputs": [],
   "source": [
    "hpass"
   ]
  },
  {
   "cell_type": "code",
   "execution_count": null,
   "id": "9e9c9593",
   "metadata": {
    "hidden": true
   },
   "outputs": [],
   "source": []
  },
  {
   "cell_type": "code",
   "execution_count": null,
   "id": "76400166",
   "metadata": {
    "hidden": true
   },
   "outputs": [],
   "source": [
    "len(  env2all_scores[env] )"
   ]
  },
  {
   "cell_type": "code",
   "execution_count": null,
   "id": "8d4e5dfe",
   "metadata": {
    "hidden": true
   },
   "outputs": [],
   "source": [
    "# (4, 20, 321) in orig;    so  vars x subj x times"
   ]
  },
  {
   "cell_type": "code",
   "execution_count": null,
   "id": "a206cbb0",
   "metadata": {
    "hidden": true
   },
   "outputs": [],
   "source": [
    "len(scores_cur_env_cur_subj)"
   ]
  },
  {
   "cell_type": "code",
   "execution_count": null,
   "id": "74eb82d6",
   "metadata": {
    "hidden": true
   },
   "outputs": [],
   "source": [
    "scs[1,...].shape"
   ]
  },
  {
   "cell_type": "code",
   "execution_count": null,
   "id": "cd113c5b",
   "metadata": {
    "hidden": true
   },
   "outputs": [],
   "source": [
    "scs.transpose( (2,0,1)).shape"
   ]
  },
  {
   "cell_type": "code",
   "execution_count": null,
   "id": "2e1fe830",
   "metadata": {
    "hidden": true
   },
   "outputs": [],
   "source": [
    "scs.shape"
   ]
  },
  {
   "cell_type": "code",
   "execution_count": null,
   "id": "6d077b9c",
   "metadata": {
    "hidden": true
   },
   "outputs": [],
   "source": [
    "from mne.stats import permutation_cluster_1samp_test\n",
    "help(permutation_cluster_1samp_test)"
   ]
  },
  {
   "cell_type": "code",
   "execution_count": null,
   "id": "bcdb6908",
   "metadata": {
    "hidden": true
   },
   "outputs": [],
   "source": [
    "len(tminmaxs)"
   ]
  },
  {
   "cell_type": "code",
   "execution_count": null,
   "id": "e656dbb1",
   "metadata": {
    "hidden": true
   },
   "outputs": [],
   "source": [
    "env2all_scores[env].shape"
   ]
  },
  {
   "cell_type": "code",
   "execution_count": null,
   "id": "070fe417",
   "metadata": {
    "hidden": true
   },
   "outputs": [],
   "source": [
    "print( len(subjects), len(tmins), scs.shape )"
   ]
  },
  {
   "cell_type": "code",
   "execution_count": null,
   "id": "439caad6",
   "metadata": {
    "hidden": true
   },
   "outputs": [],
   "source": [
    "len(env2all_scores['stable'])"
   ]
  },
  {
   "cell_type": "code",
   "execution_count": null,
   "id": "75b164c3",
   "metadata": {
    "hidden": true
   },
   "outputs": [],
   "source": [
    "len(env2all_scores['random'])"
   ]
  },
  {
   "cell_type": "code",
   "execution_count": null,
   "id": "46925912",
   "metadata": {
    "hidden": true
   },
   "outputs": [],
   "source": [
    "scs.shape"
   ]
  },
  {
   "cell_type": "code",
   "execution_count": null,
   "id": "0d1c5605",
   "metadata": {
    "hidden": true
   },
   "outputs": [],
   "source": [
    "len(tmins)"
   ]
  },
  {
   "cell_type": "code",
   "execution_count": null,
   "id": "91c88390",
   "metadata": {
    "hidden": true
   },
   "outputs": [],
   "source": [
    "env2all_scores"
   ]
  },
  {
   "cell_type": "code",
   "execution_count": null,
   "id": "987fa2f8",
   "metadata": {
    "hidden": true
   },
   "outputs": [],
   "source": [
    "dd"
   ]
  },
  {
   "cell_type": "code",
   "execution_count": null,
   "id": "e24496a7",
   "metadata": {
    "hidden": true
   },
   "outputs": [],
   "source": [
    "os.listdir('/p/project/icei-hbp-2020-0012/lyon/memerr/data2/sub20_YOGCJKKB/results')"
   ]
  },
  {
   "cell_type": "code",
   "execution_count": null,
   "id": "39b49ba4",
   "metadata": {
    "hidden": true
   },
   "outputs": [],
   "source": [
    "os.listdir(results_folder)"
   ]
  },
  {
   "cell_type": "code",
   "execution_count": null,
   "id": "840b764b",
   "metadata": {
    "hidden": true
   },
   "outputs": [],
   "source": []
  },
  {
   "cell_type": "code",
   "execution_count": null,
   "id": "6327ba6e",
   "metadata": {
    "hidden": true
   },
   "outputs": [],
   "source": [
    "import sys\n",
    "#for subject in subjects:\n",
    "#for subject in subjects[:1]:\n",
    "control_type = 'target'  # 'movement', 'feedback', 'target' or 'belief'\n",
    "control_type = 'movement'  # 'movement', 'feedback', 'target' or 'belief'\n",
    "script_name = pjoin(scripts_dir,'td_long_fig2.py')\n",
    "for hpass in ['no_filter','0.1','0.05']:\n",
    "    for regression_type in ['Ridge', 'xgboost']:    \n",
    "        ipy.run_line_magic('run', f'-i {script_name}')\n",
    "        #sys.exit(1)\n",
    "        #print('saved_successfully =', saved_successfully)"
   ]
  },
  {
   "cell_type": "code",
   "execution_count": null,
   "id": "09f5badf",
   "metadata": {
    "hidden": true
   },
   "outputs": [],
   "source": []
  },
  {
   "cell_type": "code",
   "execution_count": null,
   "id": "3c9f0392",
   "metadata": {
    "hidden": true
   },
   "outputs": [],
   "source": [
    "import sys\n",
    "#for subject in subjects:\n",
    "#for subject in subjects[:1]:\n",
    "control_type = 'target'  # 'movement', 'feedback', 'target' or 'belief'\n",
    "control_type = 'movement'  # 'movement', 'feedback', 'target' or 'belief'\n",
    "script_name = pjoin(scripts_dir,'td_baselined_final_fig2.py')\n",
    "for hpass in ['no_filter','0.1','0.05']:\n",
    "    for regression_type in ['Ridge', 'xgboost']:    \n",
    "        ipy.run_line_magic('run', f'-i {script_name}')\n",
    "        sys.exit(1)\n",
    "        #print('saved_successfully =', saved_successfully)"
   ]
  },
  {
   "cell_type": "code",
   "execution_count": null,
   "id": "e62a845f",
   "metadata": {
    "hidden": true
   },
   "outputs": [],
   "source": [
    "path_data"
   ]
  },
  {
   "cell_type": "code",
   "execution_count": null,
   "id": "a6cc7d28",
   "metadata": {
    "hidden": true
   },
   "outputs": [],
   "source": []
  },
  {
   "cell_type": "code",
   "execution_count": null,
   "id": "e157cdc6",
   "metadata": {
    "hidden": true
   },
   "outputs": [],
   "source": []
  },
  {
   "cell_type": "code",
   "execution_count": null,
   "id": "50a05e23",
   "metadata": {
    "hidden": true
   },
   "outputs": [],
   "source": []
  },
  {
   "cell_type": "code",
   "execution_count": null,
   "id": "7d6b0c02",
   "metadata": {
    "hidden": true,
    "run_control": {
     "marked": true
    }
   },
   "outputs": [],
   "source": [
    "import gc; gc.collect()"
   ]
  },
  {
   "cell_type": "code",
   "execution_count": null,
   "id": "63e46125",
   "metadata": {
    "hidden": true
   },
   "outputs": [],
   "source": [
    "fnames_missing"
   ]
  },
  {
   "cell_type": "code",
   "execution_count": null,
   "id": "a78454e2",
   "metadata": {
    "hidden": true
   },
   "outputs": [],
   "source": [
    "fn = '/home/demitau/data_Quentin/full_experiments/data2/sub01_WGPOZPEE/results/spoc_home2_0.05/stable_xgboost_scores_prevmovement_preverrors_errors_prevbelief_gamma.npy'\n",
    "f = np.load(fn)"
   ]
  },
  {
   "cell_type": "code",
   "execution_count": null,
   "id": "7e5f2091",
   "metadata": {
    "hidden": true
   },
   "outputs": [],
   "source": [
    "'sub01_WGPOZPEE spoc_home2_0.05 stable_xgboost_scores_prevmovement_preverrors_errors_prevbelief_gamma.npy',"
   ]
  },
  {
   "cell_type": "code",
   "execution_count": null,
   "id": "44fa82b0",
   "metadata": {
    "hidden": true,
    "run_control": {
     "marked": true
    }
   },
   "outputs": [],
   "source": [
    "f"
   ]
  },
  {
   "cell_type": "code",
   "execution_count": null,
   "id": "eedc2513",
   "metadata": {
    "hidden": true
   },
   "outputs": [],
   "source": [
    "fnames_zero_size"
   ]
  },
  {
   "cell_type": "code",
   "execution_count": null,
   "id": "692e3226",
   "metadata": {
    "hidden": true
   },
   "outputs": [],
   "source": [
    "fname_full"
   ]
  },
  {
   "cell_type": "code",
   "execution_count": null,
   "id": "f4d769a2",
   "metadata": {
    "hidden": true
   },
   "outputs": [],
   "source": [
    "all_scores_stable"
   ]
  },
  {
   "cell_type": "code",
   "execution_count": null,
   "id": "20f09323",
   "metadata": {
    "hidden": true
   },
   "outputs": [],
   "source": [
    "#for subject in subjects:\n",
    "#for subject in subjects[:1]:\n",
    "script_name = pjoin(scripts_dir,'td_long_fig2.py')\n",
    "ipy.run_line_magic('run', f'-i {script_name}')"
   ]
  }
 ],
 "metadata": {
  "kernelspec": {
   "display_name": "merr_oldpandas",
   "language": "python",
   "name": "merr_oldpandas"
  },
  "language_info": {
   "codemirror_mode": {
    "name": "ipython",
    "version": 3
   },
   "file_extension": ".py",
   "mimetype": "text/x-python",
   "name": "python",
   "nbconvert_exporter": "python",
   "pygments_lexer": "ipython3",
   "version": "3.11.5"
  }
 },
 "nbformat": 4,
 "nbformat_minor": 5
}
