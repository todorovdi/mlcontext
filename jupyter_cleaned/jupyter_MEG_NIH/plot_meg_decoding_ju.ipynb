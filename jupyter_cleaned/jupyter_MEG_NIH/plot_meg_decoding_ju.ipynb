{
 "cells": [
  {
   "cell_type": "code",
   "execution_count": null,
   "id": "198f3a01",
   "metadata": {},
   "outputs": [],
   "source": [
    "%load_ext autoreload\n",
    "%autoreload 2\n",
    "\n",
    "import os, sys\n",
    "sys.path.insert(0,os.path.expandvars('$CODE_MEMORY_ERRORS'))\n",
    "\n",
    "import config2\n",
    "ipy = get_ipython()\n",
    "#data_dir_general = '/home/demitau/data_Quentin'00\n",
    "#data_subdir_mem_err_main = 'full_experiments/data2'\n",
    "from os.path import join as pjoin\n",
    "from config2 import *\n",
    "\n",
    "#data_dir_input = pjoin(data_dir_general,data_subdir_mem_err_main)\n",
    "#data_dir_general = '/home/demitau/data_Quentin'\n",
    "#data_subdir_mem_err_main = 'full_experiments/data2'\n",
    "#data_dir_input = pjoin(data_dir_general,data_subdir_mem_err_main)\n",
    "#scripts_dir = pjoin(data_dir_general,'full_experiments','scripts2')\n",
    "\n",
    "data_dir_general = os.path.expandvars('$DATA_QUENTIN')\n",
    "data_dir_input = os.path.expandvars('$DATA_MEMORY_ERRORS_STAB_AND_STOCH')\n",
    "#scripts_dir = pjoin( os.path.expandvars('$CODE_MEMORY_ERRORS'), 'previous_analyses')\n",
    "scripts_dir = pjoin( os.path.expandvars('$CODE_MEMORY_ERRORS'), 'figure')\n",
    "\n",
    "from dateutil import parser\n",
    "from error_sensitivity import getAnalysisVarnames\n",
    "\n",
    "print(data_dir_input, scripts_dir)\n",
    "\n",
    "subjects = [f for f in os.listdir(data_dir_input) if f.startswith('sub') ]\n",
    "subjects = list(sorted(subjects))\n",
    "print(subjects)\n",
    "\n",
    "import figure.plots"
   ]
  },
  {
   "cell_type": "markdown",
   "id": "02c9d53a",
   "metadata": {
    "heading_collapsed": true
   },
   "source": [
    "# sliding dec err-sens"
   ]
  },
  {
   "cell_type": "code",
   "execution_count": null,
   "id": "e10bb377",
   "metadata": {
    "hidden": true
   },
   "outputs": [],
   "source": [
    "!ls /p/project/icei-hbp-2020-0012/lyon/memerr/data2/sub01_WGPOZPEE/results/\n",
    "#corr_spoc_es_sliding2_no_filter\n",
    "#corrr_spoc_es_sliding2_no_filter"
   ]
  },
  {
   "cell_type": "code",
   "execution_count": null,
   "id": "7cd6c3b3",
   "metadata": {
    "hidden": true
   },
   "outputs": [],
   "source": [
    "#from .plots import *"
   ]
  },
  {
   "cell_type": "code",
   "execution_count": null,
   "id": "6d4ff6bd",
   "metadata": {
    "hidden": true
   },
   "outputs": [],
   "source": [
    "list(freq_name2freq.keys() )"
   ]
  },
  {
   "cell_type": "code",
   "execution_count": null,
   "id": "b1acf669",
   "metadata": {
    "hidden": true
   },
   "outputs": [],
   "source": [
    "\n",
    "#getAnalysisVarnames?"
   ]
  },
  {
   "cell_type": "code",
   "execution_count": null,
   "id": "ff49dec1",
   "metadata": {
    "hidden": true
   },
   "outputs": [],
   "source": [
    "getAnalysisVarnames(time_locked, control_type)"
   ]
  },
  {
   "cell_type": "code",
   "execution_count": null,
   "id": "14ca73ee",
   "metadata": {
    "hidden": true
   },
   "outputs": [],
   "source": [
    "-0.5 - 0.464 * 10, -0.5 + 0.464 * 12"
   ]
  },
  {
   "cell_type": "markdown",
   "id": "bc9e0d44",
   "metadata": {},
   "source": [
    "# Plot sliding"
   ]
  },
  {
   "cell_type": "code",
   "execution_count": null,
   "id": "6b2fe8e7",
   "metadata": {},
   "outputs": [],
   "source": [
    "gc.collect()"
   ]
  },
  {
   "cell_type": "code",
   "execution_count": null,
   "id": "781f5746",
   "metadata": {
    "code_folding": [
     60
    ]
   },
   "outputs": [],
   "source": [
    "# collect\n",
    "import gc; gc.collect()\n",
    "plot_diff_vs_es = 0\n",
    "plot_diff = 0\n",
    "\n",
    "regression_type = 'Ridge'\n",
    "time_lockeds = ['target', 'feedback']\n",
    "#freq_names = ['broad']\n",
    "freq_names = ['broad', 'beta', 'gamma']\n",
    "control_types = [ 'movement', 'feedback']\n",
    "#subject_inds = [15,16,17,18,19] # up to 10 fine\n",
    "subject_inds = np.arange(len(subjects))\n",
    "#subject_inds = list(range(12)) + list(range(13,20))\n",
    "#subject_inds = [12]\n",
    "\n",
    "# good combination to plot robust = 1, discard twice = 0,1\n",
    "#time_start = parser.parse('00:00 of 2nd june 2023'); \n",
    "#time_end = parser.parse('16:03 of 3rd june 2023'); \n",
    "\n",
    "time_start = parser.parse('14:28 of 14th june 2023'); \n",
    "#time_end = parser.parse('16:03 of 3rd june 2023'); \n",
    "time_end = parser.parse('15:58 of 31 may 2027'); \n",
    "\n",
    "custom_prefix = None\n",
    "\n",
    "use_preload_df = 0\n",
    "load_df        = 0\n",
    "exit_after = 'collect'\n",
    "#exit_after = 'end'\n",
    "plot_scores_per_subj = 0\n",
    "ktes = ['err_sens','correction','error', 'prev_error' ]#[:2]\n",
    "varnames = ktes\n",
    "tmin_desired = None\n",
    "require_all_subjects = 0\n",
    "\n",
    "import traceback\n",
    "DEBUG = 0\n",
    "save_df = 0\n",
    "\n",
    "#%debug\n",
    "failed = []\n",
    "dfs = []\n",
    "for hpass in ['no_filter']: #,'0.1']:\n",
    "    for env in [['stable','random']]:\n",
    "        #for freq_name in list(freq_name2freq.keys() ):\n",
    "        for freq_name in freq_names:\n",
    "            for time_locked in time_lockeds:\n",
    "                for control_type in control_types:                    \n",
    "                    df = None\n",
    "                    s=  ','.join( getAnalysisVarnames(time_locked, control_type)[0] )\n",
    "                    varnames_b2b = [s, 'err_sens,prev_error,error']\n",
    "\n",
    "                    output_folder = f'corr_spoc_es_sliding2_{hpass}'        \n",
    "                    script_name = pjoin(scripts_dir,\n",
    "                            'correlation_error_sensitivity_spoc_decoding_sliding.py')\n",
    "                    try:\n",
    "                        ipy.run_line_magic('run','-i {script_name}')                  \n",
    "                        dfs += [df]                        \n",
    "#                         if not DEBUG:\n",
    "#                             del df\n",
    "                    except Exception as e:                    \n",
    "                        print('EXC',e)\n",
    "                        exc_info = sys.exc_info()\n",
    "                        exc = traceback.TracebackException(*exc_info, capture_locals=True)\n",
    "                        ei = exc_info[2]    \n",
    "                        #display(ei.tb_frame)\n",
    "                        psf = ei\n",
    "\n",
    "                        lfprev = None; lf = None\n",
    "                        lfs = []\n",
    "                        di = 0\n",
    "                        while psf.tb_frame is not None:\n",
    "                            stackframe = psf.tb_frame\n",
    "                            display(di, stackframe)\n",
    "\n",
    "                            psf = psf.tb_next  \n",
    "                            if 'conda' not in stackframe.f_code.co_filename:        \n",
    "                                lfprev = lf\n",
    "                                lf = stackframe.f_locals\n",
    "                                lfs += [lf]\n",
    "                                di += 1\n",
    "                            if psf is None:\n",
    "                                break    \n",
    "\n",
    "                        #raise e\n",
    "\n",
    "                        print('Exc for ', hpass,freq_name)\n",
    "                        failed += [ (hpass, freq_name)]\n",
    "                        print('EXC',e)\n",
    "                    #df.to_pickle( pjoin(path_fig, save_folder, 'df') )                                        \n",
    "                    import gc; gc.collect()\n",
    "                    plt.close()\n",
    "            #break\n",
    "        #break\n",
    "    #break\n",
    "print('Collection finished')\n",
    "\n",
    "dfc =pd.concat(dfs)\n",
    "\n",
    "dfc_allcollected = dfc\n",
    "\n",
    "catcols = ['subject', 'fn', 'fn_full', 'SLURM_job_id', 'env',\n",
    "       'trial_group_col_calc', 'rt', 'time_locked', 'control_type',\n",
    "       'custom_suffix', 'freq_name', 'tmin', 'tmax', 'dec_type']\n",
    "for col in catcols:\n",
    "    dfc[col] = dfc[col].astype('category')\n",
    "\n",
    "dfc['jobind'] = dfc['SLURM_job_id'].apply(lambda x: int(x.split('_')[1] ) )"
   ]
  },
  {
   "cell_type": "code",
   "execution_count": null,
   "id": "833a2371",
   "metadata": {},
   "outputs": [],
   "source": [
    "dfc.duplicated(catcols).sum()"
   ]
  },
  {
   "cell_type": "code",
   "execution_count": null,
   "id": "557236c9",
   "metadata": {},
   "outputs": [],
   "source": [
    "print(dfc['jobind'].astype('int').max())"
   ]
  },
  {
   "cell_type": "code",
   "execution_count": null,
   "id": "1b3af579",
   "metadata": {},
   "outputs": [],
   "source": [
    "  #won't work if columns contain composite types\n",
    "#dfc.duplicated()\n",
    "\n",
    "# print( dfc['time_locked'].unique() )\n",
    "# for dfi,df in enumerate(dfs):\n",
    "#     print(dfi)\n",
    "#     if df is None:\n",
    "#         continue\n",
    "#     print(df.duplicated(catcols).sum() , len(df), df['time_locked'].unique() )"
   ]
  },
  {
   "cell_type": "code",
   "execution_count": null,
   "id": "45f22901",
   "metadata": {},
   "outputs": [],
   "source": [
    "dfc[catcols].describe(include='all').loc['unique', :]"
   ]
  },
  {
   "cell_type": "markdown",
   "id": "09ba47c9",
   "metadata": {
    "heading_collapsed": true
   },
   "source": [
    "#### dbg"
   ]
  },
  {
   "cell_type": "code",
   "execution_count": null,
   "id": "9c0e95e2",
   "metadata": {
    "hidden": true
   },
   "outputs": [],
   "source": [
    "tmin_desired"
   ]
  },
  {
   "cell_type": "code",
   "execution_count": null,
   "id": "72c976f8",
   "metadata": {
    "hidden": true
   },
   "outputs": [],
   "source": [
    "time_lockeds"
   ]
  },
  {
   "cell_type": "code",
   "execution_count": null,
   "id": "ad4339ed",
   "metadata": {
    "hidden": true
   },
   "outputs": [],
   "source": [
    "time_locked"
   ]
  },
  {
   "cell_type": "code",
   "execution_count": null,
   "id": "9a93ed88",
   "metadata": {
    "code_folding": [
     8
    ],
    "hidden": true
   },
   "outputs": [],
   "source": [
    "try:\n",
    "    collectDecodingResults(subjects, subject_inds[:1], output_folder,freq_name, \n",
    "                    env, control_type, \n",
    "                    time_locked, custom_prefix,                       \n",
    "                     tmin_desired,                                                                                                                             \n",
    "                     varnames, varnames_b2b,                                                                                                                   \n",
    "                     time_start, time_end, verbose=1) \n",
    "    \n",
    "except Exception as e:                    \n",
    "    print('EXC',e)\n",
    "    exc_info = sys.exc_info()\n",
    "    exc = traceback.TracebackException(*exc_info, capture_locals=True)\n",
    "    ei = exc_info[2]    \n",
    "    #display(ei.tb_frame)\n",
    "    psf = ei\n",
    "\n",
    "    lfprev = None; lf = None\n",
    "    lfs = []\n",
    "    di = 0\n",
    "    while psf.tb_frame is not None:\n",
    "        stackframe = psf.tb_frame        \n",
    "\n",
    "        psf = psf.tb_next  \n",
    "        if ('conda' not in stackframe.f_code.co_filename) and\\\n",
    "            ('mamba' not in stackframe.f_code.co_filename):        \n",
    "            display(di, stackframe)\n",
    "            lfprev = lf\n",
    "            lf = stackframe.f_locals\n",
    "            lfs += [lf]\n",
    "            di += 1\n",
    "        if psf is None:\n",
    "            break \n",
    "        \n",
    "    raise e"
   ]
  },
  {
   "cell_type": "code",
   "execution_count": null,
   "id": "dc71dafe",
   "metadata": {
    "hidden": true
   },
   "outputs": [],
   "source": [
    "lf['order']"
   ]
  },
  {
   "cell_type": "code",
   "execution_count": null,
   "id": "8d2a86d3",
   "metadata": {
    "hidden": true
   },
   "outputs": [],
   "source": [
    "type( lf['order'] )"
   ]
  },
  {
   "cell_type": "code",
   "execution_count": null,
   "id": "73223456",
   "metadata": {
    "hidden": true
   },
   "outputs": [],
   "source": [
    "lf['df_to_set']['prev_movement,prev_error,error,prev_belief_varnames']"
   ]
  },
  {
   "cell_type": "code",
   "execution_count": null,
   "id": "d574764d",
   "metadata": {
    "hidden": true
   },
   "outputs": [],
   "source": [
    " lf['kvv'] ,  lf['index'] , lf['key']#, lf['df_to_set'][lf['index'] , lf['key']]"
   ]
  },
  {
   "cell_type": "code",
   "execution_count": null,
   "id": "2293855b",
   "metadata": {
    "hidden": true
   },
   "outputs": [],
   "source": [
    "import pandas as pd\n",
    "import numpy as np\n",
    "\n",
    "df = pd.DataFrame({'A': [1, 2], 'B': [3, 4]})\n",
    "df.at[0, 'A'] = list(np.array([5, 6]))"
   ]
  },
  {
   "cell_type": "code",
   "execution_count": null,
   "id": "2631849b",
   "metadata": {
    "hidden": true
   },
   "outputs": [],
   "source": [
    "Length of values (315) does not match length of index (264)"
   ]
  },
  {
   "cell_type": "code",
   "execution_count": null,
   "id": "63dff6a0",
   "metadata": {
    "hidden": true
   },
   "outputs": [],
   "source": [
    "lf['df_to_set'][lf['index'] , lf['key']] = lf['kvv'].tolist()"
   ]
  },
  {
   "cell_type": "code",
   "execution_count": null,
   "id": "3935ec57",
   "metadata": {
    "hidden": true
   },
   "outputs": [],
   "source": [
    "varnames_b2b"
   ]
  },
  {
   "cell_type": "markdown",
   "id": "8daa3f33",
   "metadata": {},
   "source": [
    "#### check collected"
   ]
  },
  {
   "cell_type": "code",
   "execution_count": null,
   "id": "f7bbf912",
   "metadata": {},
   "outputs": [],
   "source": [
    "dec_types_found = dfc_allcollected['dec_type'].unique()\n",
    "print('dec_types_found = ',dec_types_found)\n",
    "assert len(dec_types_found) > 1\n",
    "\n",
    "def calcTminSetVariability(df_, cols):\n",
    "    r = dfc.groupby(cols)['tmin'].nunique()#.apply(lambda x: len(x) )\n",
    "    return r.to_frame().describe().loc['std'].values[0]"
   ]
  },
  {
   "cell_type": "code",
   "execution_count": null,
   "id": "b5c66bae",
   "metadata": {},
   "outputs": [],
   "source": [
    "#dfc.groupby(cols_unique).size().max()"
   ]
  },
  {
   "cell_type": "code",
   "execution_count": null,
   "id": "655173a3",
   "metadata": {
    "code_folding": [
     3
    ]
   },
   "outputs": [],
   "source": [
    "import pandas as pd\n",
    "\n",
    "# Define a function to find the minimal set of categorical columns\n",
    "def find_minimal_columns(dfc):\n",
    "  # Get the list of categorical columns in the DataFrame\n",
    "  cat_cols = dfc.select_dtypes(include='category').columns.tolist()\n",
    "  # Initialize an empty list to store the selected columns\n",
    "  selected_cols = []\n",
    "  # Initialize a variable to store the number of duplicates\n",
    "  num_duplicates = dfc.duplicated().sum()\n",
    "  # Loop through the categorical columns\n",
    "  for col in cat_cols:\n",
    "    # Add the current column to the selected columns\n",
    "    selected_cols.append(col)\n",
    "    # Create a new DataFrame with only the selected columns\n",
    "    dfc_new = dfc[selected_cols]\n",
    "    # Calculate the number of duplicates in the new DataFrame\n",
    "    num_duplicates_new = dfc_new.duplicated().sum()\n",
    "    # If the number of duplicates is zero, break the loop\n",
    "    if num_duplicates_new == 0:\n",
    "        break\n",
    "    # Otherwise, update the number of duplicates\n",
    "    else:\n",
    "        num_duplicates = num_duplicates_new\n",
    "  # Return the selected columns\n",
    "  return selected_cols\n",
    "\n",
    "# Call the function on dfc and print the result\n",
    "minimal_columns = find_minimal_columns(dfc)\n",
    "print('The minimal set of categorical columns is:', minimal_columns)"
   ]
  },
  {
   "cell_type": "code",
   "execution_count": null,
   "id": "df466f94",
   "metadata": {},
   "outputs": [],
   "source": [
    "#dfc.describe?"
   ]
  },
  {
   "cell_type": "code",
   "execution_count": null,
   "id": "fa337cb1",
   "metadata": {},
   "outputs": [],
   "source": [
    "# make it hang\n",
    "#dfc.describe(include='all').loc['unique', :]"
   ]
  },
  {
   "cell_type": "code",
   "execution_count": null,
   "id": "5b6d502f",
   "metadata": {},
   "outputs": [],
   "source": [
    "#dfc.columns"
   ]
  },
  {
   "cell_type": "code",
   "execution_count": null,
   "id": "05c007bc",
   "metadata": {},
   "outputs": [],
   "source": [
    "print(dfc['mtime'].min(), dfc['mtime'].max())\n",
    "\n",
    "cols_unique = ['custom_suffix', 'trial_group_col_calc', \n",
    "    'time_locked','control_type', \n",
    "    'freq_name', 'dec_type', 'env','subject','tmin']\n",
    "if dfc.duplicated(cols_unique).any():\n",
    "    print('DUPLICATES:')\n",
    "    display( dfc[ dfc.duplicated(cols_unique) ] )\n",
    "else:\n",
    "    print('No duplicates (tmin + custom_prefix)!')\n",
    "\n",
    "print( len(dfc), dfc['subject'].nunique(), dfc['control_type'].nunique(), subject_inds )\n",
    "\n",
    "\n",
    "cols_unique_ = ['subject','env','time_locked','control_type', \n",
    "    'trial_group_col_calc','freq_name', 'tmin', 'dec_type']\n",
    "if dfc.duplicated(cols_unique_).any():\n",
    "    sz =  dfc.groupby(cols_unique_).size()\n",
    "    print('Within suffix (fixed tmin): min dup = {}, max dup = {}'.\\\n",
    "                format(sz.min(), sz.max() ) )\n",
    "else:\n",
    "    print('No duplicates for same time across suffixes!')\n",
    "    \n",
    "cols_unique_2 = ['subject','env','time_locked','control_type', \n",
    "    'trial_group_col_calc','freq_name', 'dec_type', 'custom_suffix']\n",
    "sz =  dfc.groupby(cols_unique_2).size()\n",
    "# if std of len is > 0, then we might need be in situation where there were two calc runs \n",
    "# with different tmins set\n",
    "print('Within tmin (fixed suffix): min dup = {}, max dup = {}. Std of len = {:.2f}'.\\\n",
    "            format(sz.min(), sz.max(),  calcTminSetVariability(dfc, cols_unique_2) ) )\n",
    "    \n",
    "grp = dfc.groupby(['custom_suffix','time_locked'])\n",
    "print('  Times within suffix')\n",
    "display( grp['mtime'].describe(datetime_is_numeric=True) )\n",
    "\n",
    "suffixes_present = dfc['custom_suffix'].unique()\n",
    "print(suffixes_present)"
   ]
  },
  {
   "cell_type": "code",
   "execution_count": null,
   "id": "86c00e5f",
   "metadata": {},
   "outputs": [],
   "source": [
    "dfc_uncleaned = dfc"
   ]
  },
  {
   "cell_type": "code",
   "execution_count": null,
   "id": "d6b96bb0",
   "metadata": {},
   "outputs": [],
   "source": [
    "suffs = [f'CNslide_trim0_dhittw1_s_scX0Y2c0_drall_dtall_{freq}_sh0.232' for freq in ['broad','beta','gamma']]\n",
    "suffs"
   ]
  },
  {
   "cell_type": "code",
   "execution_count": null,
   "id": "03186678",
   "metadata": {},
   "outputs": [],
   "source": [
    "dfc = dfc_uncleaned.query('custom_suffix in @suffs')"
   ]
  },
  {
   "cell_type": "code",
   "execution_count": null,
   "id": "60c286a6",
   "metadata": {},
   "outputs": [],
   "source": [
    "suff = 'CNslide_trim0_dhittw1_s_scX0Y0_drall_dtall_broad_sh0.232'\n",
    "if suff not in suffixes_present:\n",
    "    suff = suffixes_present[0]\n",
    "tmins_good = dfc.query('custom_suffix == @suff')['tmin'].unique()\n",
    "std = np.diff( tmins_good.astype(float) ).std() \n",
    "print(std)\n",
    "assert std < 1e-2 # recal we round to two digits\n",
    "dfc_clean2 = dfc.query('tmin in @tmins_good')\n",
    "display( dfc_clean2.groupby('custom_suffix')['mtime'].describe(datetime_is_numeric=True) )"
   ]
  },
  {
   "cell_type": "code",
   "execution_count": null,
   "id": "67822a1f",
   "metadata": {},
   "outputs": [],
   "source": [
    "#dfc_ = dfc.query('dec_type == \"classic\"')"
   ]
  },
  {
   "cell_type": "code",
   "execution_count": null,
   "id": "00c6a9a5",
   "metadata": {},
   "outputs": [],
   "source": [
    "#dfc = dfc.query('custom_suffix == @suff')"
   ]
  },
  {
   "cell_type": "code",
   "execution_count": null,
   "id": "6ada2f19",
   "metadata": {},
   "outputs": [],
   "source": [
    "dfc = dfc_clean2"
   ]
  },
  {
   "cell_type": "markdown",
   "id": "7b6cc475",
   "metadata": {
    "heading_collapsed": true
   },
   "source": [
    "### multi calcs mgmt"
   ]
  },
  {
   "cell_type": "code",
   "execution_count": null,
   "id": "96c0bc7c",
   "metadata": {
    "hidden": true
   },
   "outputs": [],
   "source": [
    "\n",
    "#reset_index()['tmin'].apply()"
   ]
  },
  {
   "cell_type": "code",
   "execution_count": null,
   "id": "a7bef515",
   "metadata": {
    "hidden": true
   },
   "outputs": [],
   "source": [
    "sz.reset_index()[0].unique()"
   ]
  },
  {
   "cell_type": "code",
   "execution_count": null,
   "id": "8a1f7c25",
   "metadata": {
    "hidden": true
   },
   "outputs": [],
   "source": [
    "# all\n",
    "grp['mtime'].describe(datetime_is_numeric=True)['max']"
   ]
  },
  {
   "cell_type": "code",
   "execution_count": null,
   "id": "2cb7e65c",
   "metadata": {
    "hidden": true
   },
   "outputs": [],
   "source": [
    "dfc_allcollected['mtime'].dt?"
   ]
  },
  {
   "cell_type": "code",
   "execution_count": null,
   "id": "305108b4",
   "metadata": {
    "hidden": true
   },
   "outputs": [],
   "source": [
    "dfc_allcollected['mtime_sec'] = dfc_allcollected['mtime'].values.astype(np.int64) // 10 ** 9"
   ]
  },
  {
   "cell_type": "code",
   "execution_count": null,
   "id": "6465f689",
   "metadata": {
    "hidden": true
   },
   "outputs": [],
   "source": [
    "cols_unique_"
   ]
  },
  {
   "cell_type": "code",
   "execution_count": null,
   "id": "060a0730",
   "metadata": {
    "hidden": true
   },
   "outputs": [],
   "source": [
    "cols_unique_"
   ]
  },
  {
   "cell_type": "code",
   "execution_count": null,
   "id": "1ed36a5d",
   "metadata": {
    "hidden": true
   },
   "outputs": [],
   "source": [
    "dfc_allcollected_.reset_index(drop=True)"
   ]
  },
  {
   "cell_type": "code",
   "execution_count": null,
   "id": "4cdc35a6",
   "metadata": {
    "hidden": true
   },
   "outputs": [],
   "source": [
    "dfc_allcollected_ = dfc_allcollected.sort_values('mtime_sec').reset_index(drop=True)\n",
    "grp = dfc_allcollected_.groupby(cols_unique_)\n",
    "sz =  grp.size()\n",
    "print('Within suffix: min dup = {}, max dup = {}'.\\\n",
    "            format(sz.min(), sz.max() ) )\n",
    "#grp = dfc_allcollected_.groupby(cols_unique_2)\n",
    "grp = dfc_allcollected_.groupby('custom_suffix')\n",
    "display( grp['mtime'].describe(datetime_is_numeric=True)['max'] )"
   ]
  },
  {
   "cell_type": "code",
   "execution_count": null,
   "id": "6b75992d",
   "metadata": {
    "hidden": true
   },
   "outputs": [],
   "source": [
    "#dfc_allcollected_.groupby(cols_unique_2).size()"
   ]
  },
  {
   "cell_type": "code",
   "execution_count": null,
   "id": "1af3ba0e",
   "metadata": {
    "hidden": true
   },
   "outputs": [],
   "source": [
    "grp = dfc_allcollected_.groupby(cols_unique_)\n",
    "idx = grp['mtime'].idxmax()"
   ]
  },
  {
   "cell_type": "code",
   "execution_count": null,
   "id": "119cdc42",
   "metadata": {
    "hidden": true
   },
   "outputs": [],
   "source": [
    "len(idx), len(dfc_allcollected_)"
   ]
  },
  {
   "cell_type": "code",
   "execution_count": null,
   "id": "dc86de00",
   "metadata": {
    "hidden": true
   },
   "outputs": [],
   "source": [
    "grp['mtime'].max?"
   ]
  },
  {
   "cell_type": "code",
   "execution_count": null,
   "id": "73ee7c88",
   "metadata": {
    "hidden": true
   },
   "outputs": [],
   "source": [
    "grp.max('mtime').reset_index()#.query('custom_suffix == \"CNslide_trim0_dhittw0_s_scX1Y1_drall_dtall\"')"
   ]
  },
  {
   "cell_type": "code",
   "execution_count": null,
   "id": "0785ba72",
   "metadata": {
    "hidden": true
   },
   "outputs": [],
   "source": [
    "grp.max('mtime').reset_index().sort_values('mtime')['mtime']"
   ]
  },
  {
   "cell_type": "code",
   "execution_count": null,
   "id": "9c8064ba",
   "metadata": {
    "hidden": true
   },
   "outputs": [],
   "source": [
    "dfc_allcollected_.loc[idx].sort_values('mtime')['mtime']"
   ]
  },
  {
   "cell_type": "code",
   "execution_count": null,
   "id": "02a4a715",
   "metadata": {
    "hidden": true
   },
   "outputs": [],
   "source": [
    "# select max time within suffix\n",
    "dfc_clean = aggRows(dfc_allcollected_, 'mtime_sec', \n",
    "                   operation= 'max', coltake='corresp', colgrp = cols_unique_)\n",
    "grp = dfc_clean.groupby('custom_suffix')\n",
    "display( grp['mtime'].describe(datetime_is_numeric=True) ['max'] )\n",
    "#dfc = dfc_clean"
   ]
  },
  {
   "cell_type": "code",
   "execution_count": null,
   "id": "89044d8d",
   "metadata": {
    "hidden": true
   },
   "outputs": [],
   "source": [
    "dfc_clean = dfc_allcollected_.sort_values('mtime', ascending=False).drop_duplicates(cols_unique_)\n",
    "grp = dfc_clean.groupby('custom_suffix')\n",
    "display( grp['mtime'].describe(datetime_is_numeric=True) ['max'] )"
   ]
  },
  {
   "cell_type": "code",
   "execution_count": null,
   "id": "d858b711",
   "metadata": {
    "hidden": true
   },
   "outputs": [],
   "source": [
    "dftmp0 = dfc_allcollected_.sample(1000).sort_values('mtime')"
   ]
  },
  {
   "cell_type": "code",
   "execution_count": null,
   "id": "b54251c1",
   "metadata": {
    "hidden": true
   },
   "outputs": [],
   "source": [
    "dftmp1 = dftmp "
   ]
  },
  {
   "cell_type": "code",
   "execution_count": null,
   "id": "d8b55e18",
   "metadata": {
    "hidden": true
   },
   "outputs": [],
   "source": [
    "dftmp2 = dftmp "
   ]
  },
  {
   "cell_type": "code",
   "execution_count": null,
   "id": "71c59c8a",
   "metadata": {
    "hidden": true
   },
   "outputs": [],
   "source": [
    "dftmp3 = dftmp "
   ]
  },
  {
   "cell_type": "code",
   "execution_count": null,
   "id": "dc960ffc",
   "metadata": {
    "hidden": true
   },
   "outputs": [],
   "source": [
    "# select max time within suffix\n",
    "difsec = 0\n",
    "while difsec < 1e-10:\n",
    "    dftmp = dftmp3.sample(5).sort_values('mtime')\n",
    "    #dftmp = dftmp1.sample(20).sort_values('mtime')\n",
    "    #dftmp = dftmp0.sample(100).sort_values('mtime')\n",
    "    #dftmp = dftmp0\n",
    "    grp = dftmp.groupby('custom_suffix')\n",
    "    desc_max0 = grp['mtime'].describe(datetime_is_numeric=True) ['max']\n",
    "    display(desc_max0  )\n",
    "    dfc_clean = aggRows(dftmp, 'mtime_sec', \n",
    "                       operation= 'max', coltake='corresp', colgrp = cols_unique_)\n",
    "    grp = dfc_clean.groupby('custom_suffix')\n",
    "    desc_max = grp['mtime'].describe(datetime_is_numeric=True) ['max']\n",
    "    display(desc_max  )\n",
    "    #dfc = dfc_clean\n",
    "    difsec = (desc_max0.iloc[0] - desc_max.iloc[0]).total_seconds()\n",
    "    print(difsec)"
   ]
  },
  {
   "cell_type": "code",
   "execution_count": null,
   "id": "b1f9b822",
   "metadata": {
    "hidden": true
   },
   "outputs": [],
   "source": []
  },
  {
   "cell_type": "code",
   "execution_count": null,
   "id": "ba41a900",
   "metadata": {
    "hidden": true
   },
   "outputs": [],
   "source": [
    "grp0 = dftmp.groupby(cols_unique_)\n",
    "grp0['mtime'].idxmax()"
   ]
  },
  {
   "cell_type": "code",
   "execution_count": null,
   "id": "9473e5ca",
   "metadata": {
    "hidden": true
   },
   "outputs": [],
   "source": [
    "cols_unique_"
   ]
  },
  {
   "cell_type": "code",
   "execution_count": null,
   "id": "139d2159",
   "metadata": {
    "hidden": true
   },
   "outputs": [],
   "source": [
    "grp0['mtime'].max().reset_index()"
   ]
  },
  {
   "cell_type": "code",
   "execution_count": null,
   "id": "19076504",
   "metadata": {
    "hidden": true
   },
   "outputs": [],
   "source": [
    "set(cols_unique) ^ set(cols_unique_)"
   ]
  },
  {
   "cell_type": "code",
   "execution_count": null,
   "id": "bd5d6f3a",
   "metadata": {
    "hidden": true
   },
   "outputs": [],
   "source": [
    "cols = ['subject',\n",
    " 'env',\n",
    " 'tmin',\n",
    " 'dec_type',\n",
    " 'custom_suffix', 'mtime']"
   ]
  },
  {
   "cell_type": "code",
   "execution_count": null,
   "id": "8970ae11",
   "metadata": {
    "hidden": true
   },
   "outputs": [],
   "source": [
    "dftmp[cols].sort_values('mtime')"
   ]
  },
  {
   "cell_type": "code",
   "execution_count": null,
   "id": "7d3e2ce2",
   "metadata": {
    "hidden": true
   },
   "outputs": [],
   "source": [
    "# remove 4164 -- compared to 5172 same everything except custom suffix\n",
    "dfc_clean[cols].sort_values('mtime')"
   ]
  },
  {
   "cell_type": "code",
   "execution_count": null,
   "id": "7b695521",
   "metadata": {
    "hidden": true
   },
   "outputs": [],
   "source": [
    "dfc = dfc_allcollected"
   ]
  },
  {
   "cell_type": "code",
   "execution_count": null,
   "id": "81d86234",
   "metadata": {
    "hidden": true
   },
   "outputs": [],
   "source": [
    "from behav_proc import aggRowsws"
   ]
  },
  {
   "cell_type": "code",
   "execution_count": null,
   "id": "5f435ceb",
   "metadata": {
    "hidden": true
   },
   "outputs": [],
   "source": [
    "from datetime import timedelta"
   ]
  },
  {
   "cell_type": "code",
   "execution_count": null,
   "id": "0a8c9dca",
   "metadata": {
    "hidden": true
   },
   "outputs": [],
   "source": [
    "tdm.total_seconds()"
   ]
  },
  {
   "cell_type": "code",
   "execution_count": null,
   "id": "12bead4c",
   "metadata": {
    "hidden": true
   },
   "outputs": [],
   "source": [
    "tdm = dfc['mtime'].diff().min()"
   ]
  },
  {
   "cell_type": "code",
   "execution_count": null,
   "id": "0097caa1",
   "metadata": {
    "hidden": true
   },
   "outputs": [],
   "source": [
    "isinstance( date_cutoff, datetime, )"
   ]
  },
  {
   "cell_type": "code",
   "execution_count": null,
   "id": "c52c4632",
   "metadata": {
    "hidden": true
   },
   "outputs": [],
   "source": []
  },
  {
   "cell_type": "code",
   "execution_count": null,
   "id": "5eac827b",
   "metadata": {
    "hidden": true
   },
   "outputs": [],
   "source": [
    "len(dfc_clean), len(dfc)"
   ]
  },
  {
   "cell_type": "code",
   "execution_count": null,
   "id": "3bfe9a78",
   "metadata": {
    "hidden": true
   },
   "outputs": [],
   "source": [
    "#dfc.groupby(cols_unique_)"
   ]
  },
  {
   "cell_type": "code",
   "execution_count": null,
   "id": "ad793174",
   "metadata": {
    "hidden": true
   },
   "outputs": [],
   "source": [
    "date_cutoff = parser.parse('02 june 2023 15:00')\n",
    "#date_cutoff = parser.parse('02 june 2023 15:00')\n",
    "dfc_cut = dfc[dfc['mtime'] > date_cutoff]"
   ]
  },
  {
   "cell_type": "code",
   "execution_count": null,
   "id": "968bf137",
   "metadata": {
    "hidden": true
   },
   "outputs": [],
   "source": [
    "dfc['time_locked'].unique()"
   ]
  },
  {
   "cell_type": "code",
   "execution_count": null,
   "id": "549eeea5",
   "metadata": {
    "hidden": true
   },
   "outputs": [],
   "source": [
    "from postproc import extractB2Bcols"
   ]
  },
  {
   "cell_type": "code",
   "execution_count": null,
   "id": "ab3db7fb",
   "metadata": {
    "hidden": true
   },
   "outputs": [],
   "source": [
    "dfc = dfc.query('custom_suffix.str.startswith(\"CNslide\")'\n",
    "                ' and control_type == \"movement\" and time_locked == \"target\"')\n",
    "dfc_, df_b2b_plot = extractB2Bcols(dfc)\n",
    "\n",
    "sz =  dfc.groupby(cols_unique_).size()\n",
    "print('min dup = {}, max dup = {}'.\\\n",
    "            format(sz.min(), sz.max() ) )"
   ]
  },
  {
   "cell_type": "code",
   "execution_count": null,
   "id": "47fd0b60",
   "metadata": {
    "hidden": true
   },
   "outputs": [],
   "source": [
    "#hours_since"
   ]
  },
  {
   "cell_type": "code",
   "execution_count": null,
   "id": "ff62017b",
   "metadata": {
    "hidden": true
   },
   "outputs": [],
   "source": [
    "np.max(days_since)"
   ]
  },
  {
   "cell_type": "code",
   "execution_count": null,
   "id": "90652833",
   "metadata": {
    "hidden": true
   },
   "outputs": [],
   "source": [
    "grp.groups.keys()"
   ]
  },
  {
   "cell_type": "markdown",
   "id": "1266b7c0",
   "metadata": {
    "heading_collapsed": true
   },
   "source": [
    "### hist of times"
   ]
  },
  {
   "cell_type": "code",
   "execution_count": null,
   "id": "853e95a6",
   "metadata": {
    "hidden": true
   },
   "outputs": [],
   "source": [
    "sns.set(font_scale=1.)\n",
    "import matplotlib.dates as mdates\n",
    "from datetime import datetime, timedelta\n",
    "grp = dfc.groupby(['custom_suffix'] )\n",
    "for suff,inds in grp.groups.items():\n",
    "    df_ = dfc.loc[inds]\n",
    "    date_list = list( sorted( df_['mtime'] ) )\n",
    "    #date_st = datetime(2023,5,31)\n",
    "    date_st = datetime(2023,6,2)\n",
    "    # Calculate the number of days since May 31st and the number of minutes since the corresponding day start\n",
    "    days_since = [(date - date_st).days for date in date_list]\n",
    "    hours_since = [(date - date_st).components.hours for date in date_list]\n",
    "    minutes_since_ds = [(date - date.replace(hour=0, minute=0)).total_seconds() / 60 for date in date_list]\n",
    "    minutes_since = [(date - date_st).total_seconds() / 60 for date in date_list]\n",
    "\n",
    "    # Create a histogram of the dates\n",
    "    fig = plt.figure(figsize=(10,3))\n",
    "    ax = plt.gca()\n",
    "    ax.hist(minutes_since, bins=30)\n",
    "\n",
    "    # Set the x-axis tick format\n",
    "    ax.xaxis.set_major_locator(plt.MaxNLocator(integer=True))\n",
    "    dts = [date_st + timedelta(days=int(day), minutes=int(minute)) for day,minute in zip(days_since, minutes_since)]\n",
    "    xts = [f'{int(day)}\\n{int(minute)}\\n{date.strftime(\"%H:%M\")}' for day,minute,date in zip(days_since, minutes_since_ds,dts)]\n",
    "    #ax.set_xticks(range(len(days_since)))\n",
    "    \n",
    "    def ff(x,f):\n",
    "        x = int(x)\n",
    "        #print(x,f)\n",
    "        r = str(x)\n",
    "        if x < len(days_since):\n",
    "            r = f'{int(days_since[(x)])}\\n{int(minutes_since_ds[(x)])}\\n{date_list[(x)].strftime(\"%H:%M\")}'\n",
    "        return r\n",
    "    ax.xaxis.set_major_formatter(ff)\n",
    "    \n",
    "    #ax.set_xticklabels(xts)\n",
    "\n",
    "    # Set the x-axis label and title\n",
    "    ax.set_xlabel(f'Days Since {date_st} and Minutes Since Day Start')\n",
    "    ax.set_ylabel('Frequency')\n",
    "    ax.set_title('Histogram of Dates ' + suff)\n",
    "    \n",
    "    #break\n",
    "\n",
    "    #plt.show()"
   ]
  },
  {
   "cell_type": "code",
   "execution_count": null,
   "id": "f829be4c",
   "metadata": {
    "hidden": true
   },
   "outputs": [],
   "source": [
    "len(days_since)"
   ]
  },
  {
   "cell_type": "code",
   "execution_count": null,
   "id": "e4e03aad",
   "metadata": {
    "hidden": true
   },
   "outputs": [],
   "source": [
    "tmins_all = dfc.tmin.unique()\n",
    "print(tmins_all), len(tmins_all)"
   ]
  },
  {
   "cell_type": "code",
   "execution_count": null,
   "id": "e9af5442",
   "metadata": {
    "hidden": true
   },
   "outputs": [],
   "source": [
    "#tmins_to_plot = ['-0.36', '-0.13', '0.10', '0.34']\n",
    "tmins_to_plot = ['-1.06', '-0.82', '-0.59', '-0.36', '-0.13', '0.10', '0.34', '0.57', '0.80', '1.03']\n",
    "tmins_to_plot = tmins_all"
   ]
  },
  {
   "cell_type": "code",
   "execution_count": null,
   "id": "9f121898",
   "metadata": {
    "hidden": true
   },
   "outputs": [],
   "source": [
    "#dfc.columns"
   ]
  },
  {
   "cell_type": "markdown",
   "id": "3fe17f8c",
   "metadata": {
    "heading_collapsed": true,
    "hidden": true
   },
   "source": [
    "#### reshape debug"
   ]
  },
  {
   "cell_type": "code",
   "execution_count": null,
   "id": "dadfc8f4",
   "metadata": {
    "hidden": true
   },
   "outputs": [],
   "source": [
    "display(arr_reshaped)"
   ]
  },
  {
   "cell_type": "code",
   "execution_count": null,
   "id": "09a90a28",
   "metadata": {
    "hidden": true
   },
   "outputs": [],
   "source": [
    "arr.reshape(8, 3) - arr.transpose(0,2,1).reshape(8, 3)"
   ]
  },
  {
   "cell_type": "code",
   "execution_count": null,
   "id": "27434598",
   "metadata": {
    "hidden": true
   },
   "outputs": [],
   "source": [
    "arr_reshaped.shape, arr.transpose(0,2,1).shape"
   ]
  },
  {
   "cell_type": "code",
   "execution_count": null,
   "id": "4cb6358c",
   "metadata": {
    "hidden": true
   },
   "outputs": [],
   "source": [
    "arr_back[:,0,:], arr_back[:,1,:]"
   ]
  },
  {
   "cell_type": "code",
   "execution_count": null,
   "id": "92c094f4",
   "metadata": {
    "hidden": true
   },
   "outputs": [],
   "source": [
    "arr_back[0,:,:],arr_back[1,:,:]"
   ]
  },
  {
   "cell_type": "code",
   "execution_count": null,
   "id": "a159e789",
   "metadata": {
    "hidden": true
   },
   "outputs": [],
   "source": [
    "import numpy as np\n",
    "\n",
    "arr = np.arange(24).reshape(2, 3, 4)\n",
    "arr[:,1,:] *= 10\n",
    "arr[:,2,:] *= 100\n",
    "print(\"Original array:\\n\", arr)\n",
    "\n",
    "# Reshape to 3x8 array\n",
    "arr_reshaped = arr.transpose(0,2,1).reshape(-1, 3)\n",
    "print(\"\\nReshaped array:\\n\", arr_reshaped)\n",
    "from sklearn.preprocessing import RobustScaler as robsc\n",
    "arr_reshaped1 = robsc(with_centering=True, unit_variance=False).fit_transform(arr_reshaped)\n",
    "\n",
    "print(arr_reshaped1)\n",
    "\n",
    "# Reshape back to 2x3x4 array\n",
    "arr_back = arr_reshaped1.reshape(arr.transpose(0,2,1).shape).transpose((0,2,1))# * 100\n",
    "print(\"\\nBack to original shape:\\n\", arr_back)\n"
   ]
  },
  {
   "cell_type": "code",
   "execution_count": null,
   "id": "a9aa4bda",
   "metadata": {
    "hidden": true
   },
   "outputs": [],
   "source": [
    "tmins_to_plot"
   ]
  },
  {
   "cell_type": "code",
   "execution_count": null,
   "id": "4163fd98",
   "metadata": {
    "hidden": true
   },
   "outputs": [],
   "source": [
    "suffixes_present"
   ]
  },
  {
   "cell_type": "markdown",
   "id": "92a61b43",
   "metadata": {},
   "source": [
    "## continue"
   ]
  },
  {
   "cell_type": "code",
   "execution_count": null,
   "id": "ae540d26",
   "metadata": {},
   "outputs": [],
   "source": [
    "from postproc import extractClassicCols\n",
    "varnames0 = ['prev_movement','prev_belief','movement','belief','feedback',\n",
    "             'error','prev_error','err_sens','next_error','correction' ]\n",
    "df_class_plot = extractClassicCols(dfc, defvarcolns=varnames0,\n",
    "                                  error_handling = 'ignore')"
   ]
  },
  {
   "cell_type": "code",
   "execution_count": null,
   "id": "7eb7d515",
   "metadata": {
    "code_folding": []
   },
   "outputs": [],
   "source": [
    "from postproc import extractB2Bcols\n",
    "try:\n",
    "    dfc_, df_b2b_plot0 = extractB2Bcols(dfc, toclean=varnames0)\n",
    "except Exception as e:                    \n",
    "    print('EXC',e)\n",
    "    exc_info = sys.exc_info()\n",
    "    exc = traceback.TracebackException(*exc_info, capture_locals=True)\n",
    "    ei = exc_info[2]    \n",
    "    #display(ei.tb_frame)\n",
    "    psf = ei\n",
    "\n",
    "    lfprev = None; lf = None\n",
    "    lfs = []\n",
    "    di = 0\n",
    "    while psf.tb_frame is not None:\n",
    "        stackframe = psf.tb_frame        \n",
    "\n",
    "        psf = psf.tb_next  \n",
    "        if ('conda' not in stackframe.f_code.co_filename) and\\\n",
    "            ('mamba' not in stackframe.f_code.co_filename):        \n",
    "            display(di, stackframe)\n",
    "            lfprev = lf\n",
    "            lf = stackframe.f_locals\n",
    "            lfs += [lf]\n",
    "            di += 1\n",
    "        if psf is None:\n",
    "            break    \n",
    "\n",
    "    #raise e\n",
    "    print('EXC',e)"
   ]
  },
  {
   "cell_type": "code",
   "execution_count": null,
   "id": "484ebbf9",
   "metadata": {},
   "outputs": [],
   "source": [
    "df_b2b_plot = pd.concat([df_class_plot,df_b2b_plot0] )\n",
    "def f(row):\n",
    "    x = row['vals_to_plot']\n",
    "    from postproc import ListWrap\n",
    "    if isinstance(x, ListWrap):\n",
    "        x = x.data    \n",
    "    else:\n",
    "        if not isinstance(x,float):\n",
    "            print(type(x))\n",
    "    if isinstance(x, list) or isinstance(x, np.ndarray):        \n",
    "        if len(x ) != 1:\n",
    "            print(row['dec_type'],row)\n",
    "            raise ValueError('ee')\n",
    "        x = x[0]\n",
    "    return x\n",
    "df_b2b_plot['vals_to_plot'] = df_b2b_plot.apply(f,1)\n",
    "\n",
    "rnd = df_b2b_plot.query('env == \"random\"').set_index(['subject'] + cols0)\n",
    "stb = df_b2b_plot.query('env == \"stable\"').set_index(['subject'] + cols0)\n",
    "\n",
    "dfconddif = stb['vals_to_plot'] - rnd['vals_to_plot']\n",
    "dfconddif = dfconddif.to_frame().rename(columns={'vals_to_plot':'difcond'})"
   ]
  },
  {
   "cell_type": "code",
   "execution_count": null,
   "id": "e569e006",
   "metadata": {},
   "outputs": [],
   "source": [
    "#get tmins\n",
    "tl2tmins_to_plot = {}\n",
    "tl2indhome = {}\n",
    "for tl in df_b2b_plot['time_locked'].unique():    \n",
    "    tmins_to_plot  = list(sorted( df_b2b_plot.query('time_locked == @tl')['tmin'].unique(), key=lambda x: float(x) ) )\n",
    "    tl2tmins_to_plot[tl] = tmins_to_plot\n",
    "    print(tl, len(tmins_to_plot))\n",
    "    \n",
    "    if '-0.50' in tmins_to_plot:\n",
    "        indhome = tmins_to_plot.index('-0.50'); print(indhome)\n",
    "    elif '-0.59' in tmins_to_plot:\n",
    "        indhome = tmins_to_plot.index('-0.59'); print(indhome)\n",
    "    else:\n",
    "        try:\n",
    "            indhome = tmins_to_plot.index('0.09'); print(indhome)\n",
    "        except ValueError as e:\n",
    "            indhome = None\n",
    "    \n",
    "    tl2indhome[tl] = indhome\n",
    "print( tl2indhome )\n",
    "\n",
    "control_type_present = df_b2b_plot['control_type'].unique(); \n",
    "print(control_type_present)\n",
    "time_lockeds_present = df_b2b_plot['time_locked'].unique(); control_type_present\n",
    "print(time_lockeds_present)"
   ]
  },
  {
   "cell_type": "code",
   "execution_count": null,
   "id": "953876e6",
   "metadata": {},
   "outputs": [],
   "source": [
    "df_b2b_plot.groupby(['dec_type','varname']).size()"
   ]
  },
  {
   "cell_type": "code",
   "execution_count": null,
   "id": "e0a1064f",
   "metadata": {},
   "outputs": [],
   "source": [
    "#dfconddif"
   ]
  },
  {
   "cell_type": "code",
   "execution_count": null,
   "id": "beea4d65",
   "metadata": {},
   "outputs": [],
   "source": [
    "# cols_ = list( set(cols_unique) - set(['env']) ); cols_\n",
    "# # takes several minutes\n",
    "# grp = df_b2b_plot.groupby(cols_ + ['varseti','varname'])\n",
    "# assert grp.size().max() == 2\n",
    "\n",
    "# def f(dftmp):\n",
    "#     assert set( dftmp['env'].unique() ) == set(['random','stable'])\n",
    "#     d = dftmp.set_index('env').to_dict('index')\n",
    "#     r = d['stable']['vals_to_plot'] - d['random']['vals_to_plot']\n",
    "#     return r\n",
    "# dfconddif = grp.apply(f)\n",
    "# dfconddif= dfconddif.reset_index(name='difcond')"
   ]
  },
  {
   "cell_type": "code",
   "execution_count": null,
   "id": "97de574b",
   "metadata": {},
   "outputs": [],
   "source": [
    "#display(grp.size().describe())"
   ]
  },
  {
   "cell_type": "code",
   "execution_count": null,
   "id": "dabbd82b",
   "metadata": {},
   "outputs": [],
   "source": [
    "cols0 = ['custom_suffix','time_locked','control_type','dec_type','varseti','varname','tmin']\n",
    "cols_ = list( set(cols_unique) - set(['env']) ); cols_"
   ]
  },
  {
   "cell_type": "code",
   "execution_count": null,
   "id": "40e24605",
   "metadata": {},
   "outputs": [],
   "source": [
    "# compare mean vs random decoding\n",
    "from base2 import decod_stats # X - participant x times\n",
    "def f(dftmp):\n",
    "    r = dftmp.pivot(index='subject', columns='tmin', values='difcond')\n",
    "    time_order = r.columns.tolist()\n",
    "    #print(r.shape)  #participant x times\n",
    "    r = r.to_numpy()\n",
    "    pvals =  decod_stats(r, n_jobs=4, n_permutations = 2**10)\n",
    "    res = pd.DataFrame({'pvalue': pvals, 'tmin':time_order})#.set_index('tmin')\n",
    "    #display(res)\n",
    "    return res\n",
    "cols0 = ['custom_suffix','time_locked','control_type','dec_type','varseti','varname','tmin']\n",
    "grp = dfconddif.groupby(cols0)\n",
    "assert grp.size().max() == 20,  grp.size().max()\n",
    "dfconddif_pv = dfconddif.reset_index().groupby(list(set(cols0) - set(['tmin']))).apply(f)\n",
    "dfconddif_pv['signif'] = dfconddif_pv['pvalue'] < 0.05"
   ]
  },
  {
   "cell_type": "code",
   "execution_count": null,
   "id": "aa9eaffb",
   "metadata": {},
   "outputs": [],
   "source": [
    "# compare stable dec with zero\n",
    "from base2 import decod_stats # X - participant x times\n",
    "def f(dftmp):\n",
    "    r = dftmp.pivot(index='subject', columns='tmin', values='vals_to_plot')\n",
    "    time_order = r.columns.tolist()\n",
    "    #print(r.shape)  #participant x times\n",
    "    r = r.to_numpy()\n",
    "    pvals =  decod_stats(r, n_jobs=4, n_permutations = 2**10)\n",
    "    res = pd.DataFrame({'pvalue': pvals, 'tmin':time_order})#.set_index('tmin')\n",
    "    #display(res)\n",
    "    return res\n",
    "\n",
    "cols_ = list( set(cols_unique) - set(['subject'])); #cols_\n",
    "cols__ = cols_ + ['varseti','varname']\n",
    "print(cols__)\n",
    "df_ = df_b2b_plot.query('env == \"stable\"')\n",
    "grp = df_.groupby(cols__)\n",
    "#grp = dfconddif.groupby(['custom_suffix','varseti','varname','control_type','tmin'])\n",
    "assert grp.size().max() == 20, grp.size().max()\n",
    "dfconddif0_pv = df_.groupby(list(set(cols__) - set(['tmin']))).apply(f)\n",
    "dfconddif0_pv['signif'] = dfconddif0_pv['pvalue'] < 0.05"
   ]
  },
  {
   "cell_type": "code",
   "execution_count": null,
   "id": "0f82901d",
   "metadata": {},
   "outputs": [],
   "source": [
    "#cols_unique"
   ]
  },
  {
   "cell_type": "code",
   "execution_count": null,
   "id": "8d04f8eb",
   "metadata": {},
   "outputs": [],
   "source": [
    "gc.collect()"
   ]
  },
  {
   "cell_type": "code",
   "execution_count": null,
   "id": "bff9ac85",
   "metadata": {},
   "outputs": [],
   "source": [
    "#suffixes_present"
   ]
  },
  {
   "cell_type": "code",
   "execution_count": null,
   "id": "a08bd55c",
   "metadata": {},
   "outputs": [],
   "source": [
    "#df_b2b_plot.columns"
   ]
  },
  {
   "cell_type": "code",
   "execution_count": null,
   "id": "ee00137a",
   "metadata": {},
   "outputs": [],
   "source": [
    "cols0"
   ]
  },
  {
   "cell_type": "code",
   "execution_count": null,
   "id": "e869d88a",
   "metadata": {},
   "outputs": [],
   "source": [
    "#df_b2b_plot.groupby(['subject'] + cols0 + ['env']).size()"
   ]
  },
  {
   "cell_type": "code",
   "execution_count": null,
   "id": "3b7694aa",
   "metadata": {},
   "outputs": [],
   "source": [
    "#df_b2b_plot.groupby(cols0).size()"
   ]
  },
  {
   "cell_type": "code",
   "execution_count": null,
   "id": "d68831b2",
   "metadata": {},
   "outputs": [],
   "source": [
    "df_b2b_plot.groupby(cols0)['subject'].nunique()"
   ]
  },
  {
   "cell_type": "code",
   "execution_count": null,
   "id": "5c6085a9",
   "metadata": {},
   "outputs": [],
   "source": [
    "gc.collect()"
   ]
  },
  {
   "cell_type": "code",
   "execution_count": null,
   "id": "b22e5cf3",
   "metadata": {},
   "outputs": [],
   "source": [
    "from postproc import runStatTests\n",
    "df_ttest_res = runStatTests(df_b2b_plot, cols0, 'two-sided', \n",
    "                            verbose=0)"
   ]
  },
  {
   "cell_type": "code",
   "execution_count": null,
   "id": "73816f24",
   "metadata": {
    "code_folding": [
     4
    ]
   },
   "outputs": [],
   "source": [
    "verbose = 0\n",
    "# takes a long time to finish\n",
    "from scipy.stats import ttest_rel, ttest_1samp\n",
    "alt = 'two-sided'\n",
    "def f(df):\n",
    "    vsd = {}\n",
    "    vsl = []\n",
    "    resd = {'stable_greater_random':np.nan}\n",
    "    \n",
    "    # choosing subject present for both env\n",
    "    subjs = []\n",
    "    for env_cur in ['stable', 'random']:        \n",
    "        ss = df.query('env == @env_cur')['subject'].unique()\n",
    "        subjs += [ss]\n",
    "    subj_both = list(set(subjs[0]) & set(subjs[1]))\n",
    "    \n",
    "    for env_cur in ['stable', 'random']:        \n",
    "        dftmp = df.query('env == @env_cur')            \n",
    "        if len(dftmp) == 0:\n",
    "            #print(f'zero len for {ct}: {varname}, skipping')\n",
    "            continue\n",
    "        assert len(dftmp) <= 20, len(dftmp)\n",
    "        vsd[env_cur] = dftmp['vals_to_plot'].values\n",
    "        \n",
    "        dftmp = dftmp.query('subject in @subj_both')        \n",
    "        vsl += [dftmp['vals_to_plot'].values]\n",
    "    if len(vsd) == 0:\n",
    "        return None\n",
    "    for env_cur in ['stable', 'random']:\n",
    "        if env_cur not in vsd:\n",
    "            print(f'No {env_cur} found')\n",
    "            print(df[cols0].iloc[0])\n",
    "            resd = pd.DataFrame([resd])\n",
    "            return resd\n",
    "                \n",
    "        tr = ttest_1samp( vsd[env_cur], 0, alternative=alt )\n",
    "        s = ' '\n",
    "        if tr.pvalue < 0.05:\n",
    "            s = '*'\n",
    "        #if (tr.pvalue < 0.05) or (not signif_only):\n",
    "        #    print(s + '{} control={:8}, var={:14}, {}>0, pvalue={:.4f}'.format(tmin, ct, varname, env_cur, tr.pvalue) )\n",
    "        resd[env_cur] = tr.pvalue\n",
    "        resd[env_cur + '_len'] = len(vsd[env_cur])\n",
    "    if len(vsl[0]) != len(vsl[1]):\n",
    "        print('Not equal!', (len(vsl[0]), len(vsl[1])) )\n",
    "        print(len(subj_both))\n",
    "        print(df[cols0].iloc[0])\n",
    "        resd = pd.DataFrame([resd])\n",
    "        return resd\n",
    "    \n",
    "    tr = ttest_rel(vsl[0],vsl[1], alternative=alt )\n",
    "    \n",
    "    s = ' '\n",
    "    if tr.pvalue < 0.05:\n",
    "        s = '*'\n",
    "        #tmins_good += [tmin]\n",
    "    #if (tr.pvalue < 0.05) or (not signif_only):\n",
    "    #    print(s + '{} control={:8}, var={:14}, stable>random pvalue={:.4f}'.format(tmin, ct, varname, tr.pvalue) )\n",
    "    #print('')\n",
    "    if alt == 'greater':\n",
    "        resd['stable_greater_random'] = tr.pvalue\n",
    "    else:\n",
    "        resd['stable_neq_random'] = tr.pvalue\n",
    "    #resd['tmin'] = tmin\n",
    "    #resd['varname'] = varname\n",
    "    #resd['control_type'] = ct\n",
    "    #resd['custom_suffix'] = suff\n",
    "    #resd['varseti'] = varseti\n",
    "    resd = pd.DataFrame([resd])\n",
    "    #rows += [resd]\n",
    "    return resd\n",
    "df_ttest_res = df_b2b_plot.groupby(cols0).apply(f)\n",
    "  "
   ]
  },
  {
   "cell_type": "code",
   "execution_count": null,
   "id": "76d2cd80",
   "metadata": {},
   "outputs": [],
   "source": [
    "df_b2b_plot.query('dec_type == \"classic\"').iloc[0]"
   ]
  },
  {
   "cell_type": "code",
   "execution_count": null,
   "id": "24153596",
   "metadata": {},
   "outputs": [],
   "source": [
    "#cols0"
   ]
  },
  {
   "cell_type": "code",
   "execution_count": null,
   "id": "b1a671e7",
   "metadata": {},
   "outputs": [],
   "source": [
    "#df_ttest_res"
   ]
  },
  {
   "cell_type": "code",
   "execution_count": null,
   "id": "e7026ec1",
   "metadata": {
    "code_folding": []
   },
   "outputs": [],
   "source": [
    "df_ttest_res_basic = df_ttest_res.query('varseti == 0')\n",
    "df_ttest_res_ES = df_ttest_res.query('varseti == 1')\n",
    "\n",
    "display( df_ttest_res_ES['stable_len'].describe(),\n",
    "        df_ttest_res_basic['stable_len'].describe() )\n",
    "\n",
    "#df_ttest_res_sig = df_ttest_res.query('stable_greater_random <= 0.05')\n",
    "df_ttest_res_sig = df_ttest_res.query('stable_neq_random <= 0.05')\n",
    "print(len(df_ttest_res_sig))"
   ]
  },
  {
   "cell_type": "code",
   "execution_count": null,
   "id": "2525d3b8",
   "metadata": {},
   "outputs": [],
   "source": [
    "#df_ttest_res.index._names, df_ttest_res.columns"
   ]
  },
  {
   "cell_type": "code",
   "execution_count": null,
   "id": "5bff600f",
   "metadata": {
    "code_folding": [
     0
    ]
   },
   "outputs": [],
   "source": [
    "# Do T-tests (old)\n",
    "#suff = 'trim0_dhittw1_s_scX0Y0_drall_dtall'\n",
    "#suff = 'CNhome_trim0_dhittw1_s_scX1Y1_drall_dtall'\n",
    "signif_only = 1\n",
    "rows = []\n",
    "for varseti in [0,1]:\n",
    "    qs = ('varseti == @varseti and custom_suffix == @suff')\n",
    "    for suff in suffixes_present:\n",
    "        print('----------- ' ,suff)    \n",
    "        for ct in control_type_present: #, 'feedback']:\n",
    "            for varname in ['err_sens', 'correction', \n",
    "                    'prev_error', 'error', 'prev_belief', 'prev_movement', 'prev_feedback']:\n",
    "                tmins_good = []\n",
    "                for tmin in tmins_to_plot:\n",
    "                    vsd = {}\n",
    "                    vsl = []\n",
    "                    resd = {}\n",
    "                    for env_cur in ['stable', 'random']:\n",
    "                        qs2 = qs + ' and env == @env_cur and control_type == @ct and varname == @varname'\n",
    "                        qs2 += ' and tmin == @tmin'\n",
    "                        dftmp = df_b2b_plot.query(qs2)            \n",
    "                        if len(dftmp) == 0:\n",
    "                            #print(f'zero len for {ct}: {varname}, skipping')\n",
    "                            continue\n",
    "                        assert len(dftmp) <= 20, len(dftmp)\n",
    "                        vsd[env_cur] = dftmp['vals_to_plot'].values\n",
    "                        vsl += [dftmp['vals_to_plot'].values]\n",
    "                    if len(vsd) == 0:\n",
    "                        continue\n",
    "                    for env_cur in ['stable', 'random']:\n",
    "                        tr = ttest_1samp( vsd[env_cur], 0, alternative='greater' )\n",
    "                        s = ' '\n",
    "                        if tr.pvalue < 0.05:\n",
    "                            s = '*'\n",
    "                        if (tr.pvalue < 0.05) or (not signif_only):\n",
    "                            print(s + '{} control={:8}, var={:14}, {}>0, pvalue={:.4f}'.format(tmin, ct, varname, env_cur, tr.pvalue) )\n",
    "                        resd[env_cur] = tr.pvalue\n",
    "                        resd[env_cur + '_len'] = len(vsd[env_cur])\n",
    "                    tr = ttest_rel(vsl[0],vsl[1], alternative='greater')\n",
    "                    s = ' '\n",
    "                    if tr.pvalue < 0.05:\n",
    "                        s = '*'\n",
    "                        tmins_good += [tmin]\n",
    "                    if (tr.pvalue < 0.05) or (not signif_only):\n",
    "                        print(s + '{} control={:8}, var={:14}, stable>random pvalue={:.4f}'.format(tmin, ct, varname, tr.pvalue) )\n",
    "                    print('')\n",
    "                    resd['stable_greater_random'] = tr.pvalue\n",
    "                    resd['tmin'] = tmin\n",
    "                    resd['varname'] = varname\n",
    "                    resd['control_type'] = ct\n",
    "                    resd['custom_suffix'] = suff\n",
    "                    resd['varseti'] = varseti\n",
    "                    rows += [resd]\n",
    "            \n",
    "            \n",
    "\n",
    "df_ttest_res = pd.DataFrame(rows)\n"
   ]
  },
  {
   "cell_type": "code",
   "execution_count": null,
   "id": "dc574899",
   "metadata": {},
   "outputs": [],
   "source": [
    "cols0"
   ]
  },
  {
   "cell_type": "code",
   "execution_count": null,
   "id": "a1efe158",
   "metadata": {},
   "outputs": [],
   "source": [
    "# just to see numbers, not used later\n",
    "df_ttest_res_ES_sig = df_ttest_res_ES.query('stable_neq_random <= 0.05').reset_index()\n",
    "display( df_ttest_res_ES_sig.groupby(cols0[:-1]).size().max() )\n",
    "df_ttest_res_basic_sig = df_ttest_res_basic.query('stable_neq_random < 0.05').reset_index()\n",
    "#df_ttest_res_basic_sig.groupby(['time_locked','custom_suffix','control_type','varname']).size()\n",
    "display( df_ttest_res_basic_sig.groupby(cols0[:-1]).size().max() )"
   ]
  },
  {
   "cell_type": "code",
   "execution_count": null,
   "id": "11974514",
   "metadata": {},
   "outputs": [],
   "source": [
    "#qs = 'stable_greater_random <= 0.05 and stable <= 0.05'\n",
    "qs = 'stable_neq_random <= 0.05 and stable <= 0.05'\n",
    "df_ttest_res_ES_sig2 = df_ttest_res_ES.query(qs)\n",
    "df_ttest_res_basic_sig2 = df_ttest_res_basic.query(qs)\n",
    "\n",
    "display( df_ttest_res_ES_sig2.groupby(cols0[:-1]).size() )\n",
    "display( df_ttest_res_basic_sig2.groupby(cols0[:-1]).size() )"
   ]
  },
  {
   "cell_type": "markdown",
   "id": "d34a9531",
   "metadata": {
    "heading_collapsed": true
   },
   "source": [
    "### dbg"
   ]
  },
  {
   "cell_type": "code",
   "execution_count": null,
   "id": "c44f94b8",
   "metadata": {
    "hidden": true
   },
   "outputs": [],
   "source": [
    "#set(tmins_good) ^ set(tmins_to_plot), len((tmins_to_plot)), len(tmins_good)"
   ]
  },
  {
   "cell_type": "code",
   "execution_count": null,
   "id": "4a0d898b",
   "metadata": {
    "hidden": true
   },
   "outputs": [],
   "source": [
    "#\n",
    "#dfconddif_pv.sort_values?\n",
    "#dfconddif_pv\n",
    "#dfconddif_pv.loc[(0, varname)]#.query('signif == True')#['tmin']\n",
    "#dfconddif_pv\n",
    "#dfconddif0_pv"
   ]
  },
  {
   "cell_type": "code",
   "execution_count": null,
   "id": "ea8efe4c",
   "metadata": {
    "hidden": true
   },
   "outputs": [],
   "source": [
    "df_ttest_res_sig.index._names"
   ]
  },
  {
   "cell_type": "code",
   "execution_count": null,
   "id": "15618a88",
   "metadata": {
    "hidden": true
   },
   "outputs": [],
   "source": [
    "cols0[:-1]"
   ]
  },
  {
   "cell_type": "code",
   "execution_count": null,
   "id": "68d09f66",
   "metadata": {
    "hidden": true
   },
   "outputs": [],
   "source": [
    "# indcols = df_ttest_res_sig.index._names[:-1]\n",
    "# for df_ in dfconddif0_pv, dfconddif_pv, df_ttest_res_sig:\n",
    "#     df_.reset_index(drop=False, inplace=True)\n",
    "#     df_.set_index(indcols, inplace=True)"
   ]
  },
  {
   "cell_type": "code",
   "execution_count": null,
   "id": "a2c7742b",
   "metadata": {
    "hidden": true
   },
   "outputs": [],
   "source": [
    "#tpl = (tl, ct, 'stable',slice(None), suff, varseti,'b2b', varname)"
   ]
  },
  {
   "cell_type": "code",
   "execution_count": null,
   "id": "57fd0d73",
   "metadata": {
    "hidden": true
   },
   "outputs": [],
   "source": [
    "#suffixes_present"
   ]
  },
  {
   "cell_type": "code",
   "execution_count": null,
   "id": "b8b9d11b",
   "metadata": {
    "hidden": true
   },
   "outputs": [],
   "source": [
    "#df_ttest_res_sig.index._names"
   ]
  },
  {
   "cell_type": "code",
   "execution_count": null,
   "id": "08142407",
   "metadata": {
    "hidden": true
   },
   "outputs": [],
   "source": [
    "#df_ttest_res_sig = df_ttest_res_sig.reset_index()"
   ]
  },
  {
   "cell_type": "code",
   "execution_count": null,
   "id": "c37a9138",
   "metadata": {
    "hidden": true
   },
   "outputs": [],
   "source": [
    "#dec_types_found"
   ]
  },
  {
   "cell_type": "code",
   "execution_count": null,
   "id": "940db37e",
   "metadata": {
    "hidden": true
   },
   "outputs": [],
   "source": [
    "#dfsub = dfconddif_pv.loc[tpl].reset_index(drop=False)"
   ]
  },
  {
   "cell_type": "code",
   "execution_count": null,
   "id": "c0973b32",
   "metadata": {
    "hidden": true
   },
   "outputs": [],
   "source": []
  },
  {
   "cell_type": "code",
   "execution_count": null,
   "id": "1adb034c",
   "metadata": {
    "hidden": true
   },
   "outputs": [],
   "source": [
    "tpl"
   ]
  },
  {
   "cell_type": "code",
   "execution_count": null,
   "id": "637b0da5",
   "metadata": {
    "hidden": true
   },
   "outputs": [],
   "source": [
    "df_ttest_res_sig.loc[tpl]"
   ]
  },
  {
   "cell_type": "code",
   "execution_count": null,
   "id": "3bdd47ad",
   "metadata": {
    "hidden": true
   },
   "outputs": [],
   "source": [
    "gc.collect()"
   ]
  },
  {
   "cell_type": "code",
   "execution_count": null,
   "id": "f773e8b8",
   "metadata": {
    "hidden": true
   },
   "outputs": [],
   "source": [
    "dec_types_found"
   ]
  },
  {
   "cell_type": "code",
   "execution_count": null,
   "id": "d9d50333",
   "metadata": {
    "hidden": true
   },
   "outputs": [],
   "source": [
    "df_b2b_plot.groupby(['subject','custom_suffix','dec_type']).size()"
   ]
  },
  {
   "cell_type": "code",
   "execution_count": null,
   "id": "d5bade05",
   "metadata": {
    "hidden": true
   },
   "outputs": [],
   "source": [
    "df_b2b_plot.groupby('dec_type').size()"
   ]
  },
  {
   "cell_type": "code",
   "execution_count": null,
   "id": "8dc0c50d",
   "metadata": {
    "hidden": true
   },
   "outputs": [],
   "source": [
    "dec_type = 'classic'"
   ]
  },
  {
   "cell_type": "code",
   "execution_count": null,
   "id": "bf29757a",
   "metadata": {
    "hidden": true
   },
   "outputs": [],
   "source": [
    "suff = 'CNslide_trim0_dhittw1_s_scX0Y0_drall_dtall_broad_sh0.232'"
   ]
  },
  {
   "cell_type": "code",
   "execution_count": null,
   "id": "7bd051d0",
   "metadata": {
    "hidden": true
   },
   "outputs": [],
   "source": [
    "suff,tl,dec_type,varseti"
   ]
  },
  {
   "cell_type": "code",
   "execution_count": null,
   "id": "d6badf1c",
   "metadata": {
    "hidden": true
   },
   "outputs": [],
   "source": [
    "df_ = df_b2b_plot_.query(qs + ' and varseti == @varseti')\n",
    "len(df_)"
   ]
  },
  {
   "cell_type": "markdown",
   "id": "c6150bf0",
   "metadata": {},
   "source": [
    "## plot"
   ]
  },
  {
   "cell_type": "code",
   "execution_count": null,
   "id": "08411093",
   "metadata": {},
   "outputs": [],
   "source": [
    "del df_b2b_plot_\n",
    "gc.collect()"
   ]
  },
  {
   "cell_type": "code",
   "execution_count": null,
   "id": "375764ff",
   "metadata": {},
   "outputs": [],
   "source": []
  },
  {
   "cell_type": "code",
   "execution_count": null,
   "id": "bbeb3196",
   "metadata": {},
   "outputs": [],
   "source": [
    "qs_ = qs + ' and varseti == 0'\n",
    "df_ = df_b2b_plot_.query(qs_)\n",
    "df_g = df_[~df_['vals_to_plot'].isna()]\n",
    "df_b = df_[df_['vals_to_plot'].isna()]\n",
    "print(len(df_g),len(df_b))"
   ]
  },
  {
   "cell_type": "code",
   "execution_count": null,
   "id": "baa05b39",
   "metadata": {},
   "outputs": [],
   "source": [
    "qs_ = qs + ' and varseti == -1'\n",
    "df_ = df_b2b_plot_.query(qs_)\n",
    "df_g = df_[~df_['vals_to_plot'].isna()]\n",
    "df_b = df_[df_['vals_to_plot'].isna()]\n",
    "print(len(df_g),len(df_b))"
   ]
  },
  {
   "cell_type": "code",
   "execution_count": null,
   "id": "e149f181",
   "metadata": {},
   "outputs": [],
   "source": [
    "sns.relplot(data=df_g, **pargs)"
   ]
  },
  {
   "cell_type": "code",
   "execution_count": null,
   "id": "5174616e",
   "metadata": {},
   "outputs": [],
   "source": [
    "assert "
   ]
  },
  {
   "cell_type": "code",
   "execution_count": null,
   "id": "83a5ad39",
   "metadata": {},
   "outputs": [],
   "source": [
    "# main plot\n",
    "import re\n",
    "df_b2b_plot_ = df_b2b_plot.copy()\n",
    "df_b2b_plot_['tmin'] = df_b2b_plot_['tmin'].astype(float)"
   ]
  },
  {
   "cell_type": "code",
   "execution_count": null,
   "id": "e2e56107",
   "metadata": {},
   "outputs": [],
   "source": [
    "df_['dec_type']"
   ]
  },
  {
   "cell_type": "code",
   "execution_count": null,
   "id": "4f8bf347",
   "metadata": {},
   "outputs": [],
   "source": [
    "time_locked = 'target'; dec_type='b2b'; varseti=-1\n",
    "df_b2b_plot_.query(qs_)['varname'].unique()"
   ]
  },
  {
   "cell_type": "code",
   "execution_count": null,
   "id": "273a1d5d",
   "metadata": {},
   "outputs": [],
   "source": [
    "#dfconddif_pv['tmin'] = dfconddif_pv['tmin'].astype(float)\n",
    "#dfconddif_pv= dfconddif_pv.sort_values('tmin')\n",
    "\n",
    "dfconddif0_pv = dfconddif0_pv.reset_index().set_index(cols0[:-1])\n",
    "dfconddif_pv = dfconddif_pv.reset_index().set_index(cols0[:-1])\n",
    "df_ttest_res_sig= df_ttest_res_sig.reset_index().set_index(cols0[:-1])\n",
    "df_ttest_res_basic_sig2 = df_ttest_res_basic_sig2.reset_index().set_index(cols0[:-1])\n",
    "\n",
    "\n",
    "sns.set(font_scale=1.5)\n",
    "import seaborn as sns\n",
    "#suff = 'CNslide_trim0_dhittw1_s_scX0Y0_drall_dtall'\n",
    "# 'CNslide_trim0_dhittw0_s_scX1Y1_drall_dtall'\n",
    "\n",
    "pargs = dict(kind='line',  col='control_type',  row='varname',\n",
    "           x = 'tmin', y = 'vals_to_plot',   hue='env', \n",
    "             hue_order = ['stable','random'],\n",
    "             palette=['orange', 'grey'], aspect=3, \n",
    "             facet_kws={'sharey': False} )\n",
    "\n",
    "for suff in  suffixes_present:\n",
    "    for tl in time_lockeds_present:  \n",
    "        for dec_type in dec_types_found:\n",
    "            #qs = 'control_type == @ct and custom_suffix == @suff'\n",
    "            qs = ('time_locked == @tl and custom_suffix == @suff '\n",
    "                'and dec_type == @dec_type')\n",
    "            suff_short = suff[14:].replace('_drall_dtall','').\\\n",
    "                replace('_sh0.232','').replace('_s','')\n",
    "\n",
    "            #tick_skip = 2\n",
    "            fignames = ['classic','basic_vars','ES']\n",
    "            for varseti, fign in zip([-1, 0,1],fignames ):\n",
    "                qs_ = qs + ' and varseti == @varseti'\n",
    "                df_ = df_b2b_plot_.query(qs_)\n",
    "                df_g = df_[~df_['vals_to_plot'].isna()]\n",
    "                if not len(df_):\n",
    "                    continue\n",
    "                try:\n",
    "                    fg = sns.relplot(data=df_g, **pargs)\n",
    "                except KeyError as e:\n",
    "                    print('Err during relplot ',suff,tl,\n",
    "                          dec_type,varseti,e)\n",
    "                    plt.close()\n",
    "                    continue\n",
    "                axsf = fg.axes.flatten()\n",
    "                for axi,ax in enumerate(axsf):\n",
    "                    ax.axhline(y=0, c='r', ls=':', lw=3)\n",
    "                    ax.axvline(x=-0.5, c='r', ls=':', lw=3)\n",
    "                    ttl = ax.title.get_text()\n",
    "                    mr = re.match('varname = (\\w*) \\| control_type = (\\w*)', ttl)\n",
    "                    if mr is None:\n",
    "                        continue\n",
    "                    mrg = mr.groups()\n",
    "                    varname = mrg[0]\n",
    "                    ct = mrg[1]\n",
    "\n",
    "                    ymin,ymax = ax.get_ylim()\n",
    "\n",
    "                    tpl = (suff,tl,ct,dec_type,varseti, varname)\n",
    "                    # * markers are individ ttest > 0 and stable > random\n",
    "                    try:\n",
    "                        tmins_good = df_ttest_res_sig.loc[tpl]  \n",
    "                        tmins_good = tmins_good.reset_index(drop=False)['tmin'].astype(float)\n",
    "                        ax.plot( tmins_good, \n",
    "                                len(tmins_good) * [ymax * 1.1], lw=0, \n",
    "                                marker='*', label='stable > random naive')\n",
    "                    except KeyError as e:\n",
    "                        tmins_good = []\n",
    "                        \n",
    "                    # x markers are individ ttest > 0 and stable > random\n",
    "                    try:\n",
    "                        tmins_stable_nonz = dfconddif0_pv.loc[tpl].query('signif == True').reset_index(drop=False)\n",
    "                        tmins_stable_nonz = tmins_stable_nonz['tmin']\n",
    "                        ax.plot( tmins_stable_nonz.astype(float), \n",
    "                            len(tmins_stable_nonz) * [ymax * 1.3], \n",
    "                            lw=0, marker='x', label='stable > 0')    \n",
    "                    except KeyError as e  :\n",
    "                        tmins_stable_nonz = []\n",
    "\n",
    "                    try:\n",
    "                        dfsub = dfconddif_pv.loc[tpl].reset_index(drop=False)\n",
    "                        dfsub['tmin'] = dfsub['tmin'].astype(float)\n",
    "                        dfsub = dfsub.sort_values('tmin')\n",
    "                        tmins_stable_g_random,sig = dfsub[['tmin','signif']].to_numpy().T                    \n",
    "                        # plus markers are same as shading    \n",
    "                        sig = sig.astype(bool)\n",
    "                        tmins_stable_g_random = tmins_stable_g_random.astype(float)\n",
    "                        ax.fill_between(tmins_stable_g_random, \n",
    "                            ymax, where = sig, color='red', alpha=0.1)                        \n",
    "                        ax.plot( tmins_stable_g_random[sig], \n",
    "                            np.sum(sig) * [ymax * 1.2], \n",
    "                            lw=0, marker='+', label='stable != random')\n",
    "                    except KeyError as e:\n",
    "                        tmins_stable_g_random,sig = [],[]\n",
    "                    print(varname, len(tmins_good), len(tmins_stable_g_random), len(tmins_stable_nonz))\n",
    "\n",
    "                    #xticks = ax.get_xticks()[::tick_skip]\n",
    "                    #ax.set_xticks(xticks)\n",
    "                    ax.grid(True)\n",
    "                    if axi == 3:\n",
    "                        ax.legend(loc='lower right')\n",
    "                try:\n",
    "                    sns.move_legend(fg, loc='upper right')\n",
    "                    plt.suptitle(f'{dec_type} time locked = {tl}')\n",
    "                    plt.savefig( pjoin(path_fig, f'{dec_type}_slide_relplot_{suff_short}_{tl}_{fign}.pdf'))                    \n",
    "                    plt.close()\n",
    "                except ValueError as e:\n",
    "                    print(e)\n",
    "                print(f'{dec_type} varseti={varseti} fig done')\n",
    "            #break\n",
    "        #break\n",
    "    #break"
   ]
  },
  {
   "cell_type": "code",
   "execution_count": null,
   "id": "fab504d0",
   "metadata": {},
   "outputs": [],
   "source": [
    "dur = 0.464 \n",
    "ds = np.arange( -dur*.5 * 64, dur*.5 * 65 , dur/2 ) - 0.5 + dur\n"
   ]
  },
  {
   "cell_type": "code",
   "execution_count": null,
   "id": "6baf134c",
   "metadata": {},
   "outputs": [],
   "source": [
    "ds[0], ds[-1]"
   ]
  },
  {
   "cell_type": "code",
   "execution_count": null,
   "id": "d992c023",
   "metadata": {},
   "outputs": [],
   "source": [
    "ds[60:-60] "
   ]
  },
  {
   "cell_type": "code",
   "execution_count": null,
   "id": "e42d96b1",
   "metadata": {},
   "outputs": [],
   "source": [
    "print(ttl)\n",
    "mrg = re.match('varname = (\\w*) | control_type = (\\w*)', ttl).groups()\n",
    "mrg"
   ]
  },
  {
   "cell_type": "code",
   "execution_count": null,
   "id": "722a21ee",
   "metadata": {},
   "outputs": [],
   "source": [
    "0.464 / 4"
   ]
  },
  {
   "cell_type": "markdown",
   "id": "841a2ba0",
   "metadata": {
    "heading_collapsed": true
   },
   "source": [
    "## Many boxplots"
   ]
  },
  {
   "cell_type": "code",
   "execution_count": null,
   "id": "6111fdd8",
   "metadata": {
    "hidden": true
   },
   "outputs": [],
   "source": [
    "sns.set(font_scale=1.5)\n",
    "\n",
    "import seaborn as sns\n",
    "#suff = 'CNslide_trim0_dhittw1_s_scX0Y0_drall_dtall'\n",
    "suff = 'CNslide_trim0_dhittw0_s_scX1Y1_drall_dtall'\n",
    "qs = 'tmin.isin(@tmins_to_plot) and control_type == \"movement\" and custom_suffix == @suff'\n",
    "pargs = dict(kind='boxen',  col='custom_suffix',  row='varname',\n",
    "           x = 'tmin', y = 'vals_to_plot',   hue='env', \n",
    "             palette=['orange', 'grey'], aspect=9,\n",
    "            sharey = None, sharex = None)\n",
    "\n",
    "tick_skip = 3\n",
    "\n",
    "fg = sns.catplot(data=df_b2b_plot.query(qs + ' and varseti == 0'), **pargs)\n",
    "for ax in fg.axes.flatten():\n",
    "    ax.axhline(y=0, c='r', ls=':', lw=3)\n",
    "    ax.axvline(x=indhome, c='r', ls=':', lw=3)\n",
    "    ax.grid()\n",
    "    varname = re.match('varname = (\\w*) |.*', ax.title.get_text() ).groups()[0]\n",
    "    tmins_good = df_ttest_res_basic_sig.query('varname == @varname')['tmin'].values    \n",
    "    tmins_good2 = dfconddif_pv.loc[(suff, 0, varname)].query('signif == True')['tmin']\n",
    "    \n",
    "    ymin,ymax = ax.get_ylim()\n",
    "    ax.plot( tmins_good, len(tmins_good) * [ymax * 1.1], lw=0, marker='*')\n",
    "    ax.plot( tmins_good2, len(tmins_good2) * [ymax * 1.3], lw=0, marker='+')\n",
    "    print(varname, len(tmins_good2))\n",
    "    \n",
    "    xticks = ax.get_xticks()[::tick_skip]\n",
    "    ax.set_xticks(xticks)\n",
    "sns.move_legend(fg, loc='upper right')\n",
    "plt.tight_layout()\n",
    "plt.savefig( pjoin(path_fig, 'b2b_slide_basic_vars.pdf'))\n",
    "print('1st fig done')\n",
    "\n",
    "fg = sns.catplot(data=df_b2b_plot.query(qs + ' and varseti == 1'), **pargs)\n",
    "for ax in fg.axes.flatten():\n",
    "    ax.axhline(y=0, c='r', ls=':', lw=3)\n",
    "    ax.axvline(x=indhome, c='r', ls=':', lw=3)\n",
    "    ax.grid()\n",
    "    varname = re.match('varname = (\\w*) |.*', ax.title.get_text() ).groups()[0]\n",
    "    tmins_good= df_ttest_res_ES_sig.query('varname == @varname')['tmin'].values\n",
    "    tmins_good2 = dfconddif_pv.loc[(suff, 1, varname)].query('signif == True')['tmin']\n",
    "    ymin,ymax = ax.get_ylim()\n",
    "    ax.plot( tmins_good, len(tmins_good) * [ymax * 1.1], lw=0, marker='*')\n",
    "    ax.plot( tmins_good2, len(tmins_good2) * [ymax * 1.3], lw=0, marker='+')\n",
    "    print(varname, len(tmins_good2))\n",
    "    \n",
    "    xticks = ax.get_xticks()[::tick_skip]\n",
    "    ax.set_xticks(xticks)\n",
    "\n",
    "\n",
    "sns.move_legend(fg, loc='upper right')\n",
    "plt.tight_layout()\n",
    "plt.savefig( pjoin(path_fig, 'b2b_slide_ES.pdf'))"
   ]
  },
  {
   "cell_type": "code",
   "execution_count": null,
   "id": "d3010309",
   "metadata": {
    "hidden": true
   },
   "outputs": [],
   "source": [
    "ax.get_xticks()"
   ]
  },
  {
   "cell_type": "markdown",
   "id": "7e3b5e1d",
   "metadata": {},
   "source": [
    "## Plot home from slide"
   ]
  },
  {
   "cell_type": "code",
   "execution_count": null,
   "id": "d53a4523",
   "metadata": {},
   "outputs": [],
   "source": [
    "sns.set(font_scale=1.1)\n",
    "import seaborn as sns\n",
    "pargs = dict(kind='box',  col='control_type',  row='varseti',\n",
    "               x = 'varname', y = 'vals_to_plot',   hue='env', palette=['orange', 'grey'] )\n",
    "\n",
    "for suff in df_b2b_plot['custom_suffix'].unique():\n",
    "    suff_short = suff[14:].replace('_drall_dtall','').\\\n",
    "        replace('_sh0.232','').replace('_s','') \n",
    "    \n",
    "    fg = sns.catplot(data=df_b2b_plot.query(\n",
    "        'varseti == 0 and custom_suffix == @suff and tmin == \"-0.50\"'), **pargs)\n",
    "    for ax in fg.axes.flatten():\n",
    "        ax.axhline(y=0, c='r', ls=':')\n",
    "        ax.grid()\n",
    "\n",
    "    sns.move_legend(fg, loc='upper right')\n",
    "    plt.suptitle(suff)\n",
    "    plt.tight_layout()    \n",
    "    plt.savefig( pjoin(path_fig, f'b2b_home_basic_vars_{suff_short}.pdf'))\n",
    "\n",
    "    df_ = df_b2b_plot.query('varseti == 1 and custom_suffix == @suff and tmin == \"-0.50\"')\n",
    "    fg = sns.catplot(data=df_, **pargs)\n",
    "    for ax in fg.axes.flatten():\n",
    "        ax.axhline(y=0, c='r', ls=':')\n",
    "\n",
    "    sns.move_legend(fg, loc='upper right')\n",
    "    plt.suptitle(suff)\n",
    "    plt.tight_layout()\n",
    "\n",
    "    plt.savefig( pjoin(path_fig, f'b2b_home_ES_{suff_short}.pdf'))"
   ]
  },
  {
   "cell_type": "markdown",
   "id": "0801dd59",
   "metadata": {
    "heading_collapsed": true
   },
   "source": [
    "# Plot home"
   ]
  },
  {
   "cell_type": "code",
   "execution_count": null,
   "id": "35ac3478",
   "metadata": {
    "code_folding": [
     56,
     58,
     60
    ],
    "hidden": true
   },
   "outputs": [],
   "source": [
    "#for subject in subjects[:1]:\n",
    "#%debug\n",
    "import gc; gc.collect()\n",
    "plot_diff_vs_es = 0\n",
    "plot_diff = 0\n",
    "\n",
    "regression_type = 'Ridge'\n",
    "time_lockeds=['target', 'feedback']\n",
    "#control_type = 'movement'\n",
    "#subject_inds = [0]\n",
    "subject_inds = np.arange(len(subjects))\n",
    "require_all_subjects = False\n",
    "#subject_inds = list(range(12)) + list(range(13,20))\n",
    "#subject_inds = [12]\n",
    "\n",
    "# scale robust = 1\n",
    "#time_start = parser.parse('14:40 of 31 may 2023'); \n",
    "#time_end = parser.parse('21:39 of 31 may 2023'); \n",
    "\n",
    "# scale robust = 0\n",
    "#time_start = parser.parse('13:00 of 14 june 2023'); \n",
    "time_start = parser.parse('17:30 of 27 june 2023'); \n",
    "time_end = parser.parse('15:58 of 31 may 2027'); \n",
    "\n",
    "custom_prefix = None\n",
    "\n",
    "use_preload_df = 0\n",
    "load_df        = 0\n",
    "exit_after = 'collect'\n",
    "plot_scores_per_subj = 0\n",
    "ktes = ['err_sens','correction','error', 'prev_error' ]\n",
    "control_types = ['movement', 'feedback']\n",
    "varnames = ktes\n",
    "#tmins = ['-5.00']\n",
    "tmin_desired = '-0.50'\n",
    "#tmin_desired = None\n",
    "\n",
    "import traceback\n",
    "DEBUG = 1\n",
    "\n",
    "save_df = 0\n",
    "#%debug\n",
    "\n",
    "failed = []\n",
    "dfs = []\n",
    "for hpass in ['no_filter']: #,'0.1']:\n",
    "    #for env in ['stable','random']:\n",
    "    for env in [['stable','random']]:\n",
    "        #for freq_name in list(freq_name2freq.keys() ):\n",
    "        for freq_name in ['broad']: #, 'beta']:\n",
    "            for time_locked in time_lockeds:\n",
    "                for control_type in control_types:\n",
    "\n",
    "                    s=  ','.join( getAnalysisVarnames(time_locked, control_type)[0] )\n",
    "                    varnames_b2b = [s, 'err_sens,prev_error,error']\n",
    "\n",
    "                    output_folder = f'corr_spoc_es_sliding2_{hpass}'        \n",
    "                    script_name = pjoin(scripts_dir,\n",
    "                            'correlation_error_sensitivity_spoc_decoding_sliding.py')\n",
    "                    try:\n",
    "                        ipy.magic('%run -i {script_name}')                  \n",
    "                    except Exception as e:                    \n",
    "                        print('EXC',e)\n",
    "                        exc_info = sys.exc_info()\n",
    "                        exc = traceback.TracebackException(*exc_info, capture_locals=True)\n",
    "                        ei = exc_info[2]    \n",
    "                        #display(ei.tb_frame)\n",
    "                        psf = ei\n",
    "\n",
    "                        lfprev = None; lf = None\n",
    "                        lfs = []\n",
    "                        di = 0\n",
    "                        while psf.tb_frame is not None:\n",
    "                            stackframe = psf.tb_frame\n",
    "                            display(di, stackframe)\n",
    "\n",
    "                            psf = psf.tb_next  \n",
    "                            if 'conda' not in stackframe.f_code.co_filename:        \n",
    "                                lfprev = lf\n",
    "                                lf = stackframe.f_locals\n",
    "                                lfs += [lf]\n",
    "                                di += 1\n",
    "                            if psf is None:\n",
    "                                break    \n",
    "\n",
    "                        raise e\n",
    "\n",
    "                        print('Exc for ', hpass,freq_name)\n",
    "                        failed += [ (hpass, freq_name)]\n",
    "                        print('EXC',e)\n",
    "                    #df.to_pickle( pjoin(path_fig, save_folder, 'df') )\n",
    "                    dfs += [df]\n",
    "                if not DEBUG:\n",
    "                    del df\n",
    "                import gc; gc.collect()\n",
    "                plt.close()\n",
    "            #break\n",
    "        #break\n",
    "    #break\n",
    "\n",
    "dfc =pd.concat(dfs)"
   ]
  },
  {
   "cell_type": "code",
   "execution_count": null,
   "id": "25d7b667",
   "metadata": {
    "hidden": true
   },
   "outputs": [],
   "source": [
    "dfc['custom_suffix'].unique()"
   ]
  },
  {
   "cell_type": "code",
   "execution_count": null,
   "id": "a364c441",
   "metadata": {
    "hidden": true
   },
   "outputs": [],
   "source": [
    "set( df['subject'] ) ^ set(np.array(subjects)[subject_inds])"
   ]
  },
  {
   "cell_type": "code",
   "execution_count": null,
   "id": "b9988558",
   "metadata": {
    "hidden": true
   },
   "outputs": [],
   "source": [
    "dfc['mtime'].min(), dfc['mtime'].max()"
   ]
  },
  {
   "cell_type": "code",
   "execution_count": null,
   "id": "de6f690c",
   "metadata": {
    "hidden": true
   },
   "outputs": [],
   "source": [
    "cols_unique = ['subject','env','time_locked','control_type', \n",
    "    'trial_group_col_calc','freq_name', 'tmin', 'tmax', 'dec_type',\n",
    "              'custom_suffix']\n",
    "if dfc.duplicated(cols_unique).any():\n",
    "    display( dfc[ dfc.duplicated(cols_unique) ] )\n",
    "else:\n",
    "    print('No duplicates!')\n",
    "\n",
    "print( len(dfc), dfc['subject'].nunique(), dfc['control_type'].nunique(), subject_inds )"
   ]
  },
  {
   "cell_type": "code",
   "execution_count": null,
   "id": "85a7f16c",
   "metadata": {
    "code_folding": [],
    "hidden": true
   },
   "outputs": [],
   "source": [
    "from postproc import  extractB2Bcols\n",
    "#%debug\n",
    "varnames0 = ['prev_movement','prev_belief','movement','belief','feedback',\n",
    "             'error','prev_error','err_sens','next_error','correction' ]\n",
    "dfc_, df_b2b_plot = extractB2Bcols(dfc, toclean=varnames0)\n",
    "\n",
    "suffixes_present = df_b2b_plot['custom_suffix'].unique()"
   ]
  },
  {
   "cell_type": "code",
   "execution_count": null,
   "id": "8b00a9a9",
   "metadata": {
    "hidden": true
   },
   "outputs": [],
   "source": [
    "#path_fit_R = pjoin( os.path.expandvars('$HOME'), 'ownCloud', 'Current' ,'_share_Romain' ); path_fit_R"
   ]
  },
  {
   "cell_type": "code",
   "execution_count": null,
   "id": "fab905f9",
   "metadata": {
    "hidden": true
   },
   "outputs": [],
   "source": [
    "#df_b2b_plot['SLURM_job_id']"
   ]
  },
  {
   "cell_type": "code",
   "execution_count": null,
   "id": "f8485a4b",
   "metadata": {
    "hidden": true
   },
   "outputs": [],
   "source": [
    "dftmp['varname'].unique()"
   ]
  },
  {
   "cell_type": "code",
   "execution_count": null,
   "id": "26ba5297",
   "metadata": {
    "hidden": true
   },
   "outputs": [],
   "source": [
    "from scipy.stats import ttest_rel"
   ]
  },
  {
   "cell_type": "code",
   "execution_count": null,
   "id": "398900a3",
   "metadata": {
    "hidden": true
   },
   "outputs": [],
   "source": [
    "#suff = 'trim0_dhittw1_s_scX0Y0_drall_dtall'\n",
    "#suff = 'CNhome_trim0_dhittw1_s_scX1Y1_drall_dtall'\n",
    "qs = ('varseti == 0 and '\n",
    " ' custom_suffix == @suff and tmin == \"-0.50\"')\n",
    "signif_only = 1\n",
    "for suff in suffixes_present:\n",
    "    print('----------- ' ,suff)\n",
    "    for ct in ['movement', 'feedback']:\n",
    "        for varname in ['prev_movement', 'prev_error', 'error', 'prev_belief',\n",
    "               'prev_feedback']:\n",
    "            vsd = {}\n",
    "            vsl = []\n",
    "            for env_cur in ['stable', 'random']:\n",
    "                qs2 = qs + ' and env == @env_cur and control_type == @ct and varname == @varname'\n",
    "                dftmp = df_b2b_plot.query(qs2)            \n",
    "                if len(dftmp) == 0:\n",
    "                    #print(f'zero len for {ct}: {varname}, skipping')\n",
    "                    continue\n",
    "                assert len(dftmp) == 20, len(dftmp)\n",
    "                vsd[env_cur] = dftmp['vals_to_plot'].values\n",
    "                vsl += [dftmp['vals_to_plot'].values]\n",
    "            if len(vsd) == 0:\n",
    "                continue\n",
    "            for env_cur in ['stable', 'random']:\n",
    "                tr = ttest_1samp( vsd[env_cur], 0, alternative='greater' )\n",
    "                s = ' '\n",
    "                if tr.pvalue < 0.05:\n",
    "                    s = '*'\n",
    "                if (tr.pvalue < 0.05) or (not signif_only):\n",
    "                    print(s + 'control={:8}, var={:14}, {}>0, pvalue={:.4f}'.format( ct, varname, env_cur, tr.pvalue) )\n",
    "            tr = ttest_rel(vsl[0],vsl[1], alternative='greater')\n",
    "            s = ' '\n",
    "            if tr.pvalue < 0.05:\n",
    "                s = '*'\n",
    "            if (tr.pvalue < 0.05) or (not signif_only):\n",
    "                print(s + 'control={:8}, var={:14}, stable>random pvalue={:.4f}'.format( ct, varname, tr.pvalue) )\n",
    "            print('')\n",
    "            "
   ]
  },
  {
   "cell_type": "code",
   "execution_count": null,
   "id": "88526f1b",
   "metadata": {
    "hidden": true
   },
   "outputs": [],
   "source": [
    "path_fig"
   ]
  },
  {
   "cell_type": "code",
   "execution_count": null,
   "id": "36580447",
   "metadata": {
    "hidden": true
   },
   "outputs": [],
   "source": [
    "df_b2b_plot['custom_suffix'].unique()"
   ]
  },
  {
   "cell_type": "code",
   "execution_count": null,
   "id": "0e4f4b16",
   "metadata": {
    "hidden": true
   },
   "outputs": [],
   "source": []
  },
  {
   "cell_type": "code",
   "execution_count": null,
   "id": "89bbfe2d",
   "metadata": {
    "hidden": true
   },
   "outputs": [],
   "source": [
    "    suff = 'CNhome_trim0_dhittw0_s_scX1Y1_drall_dtall'\n",
    "    fg = sns.catplot(data=df_b2b_plot.query(\n",
    "        'varseti == 1 and custom_suffix == @suff and varname == \"err_sens\"'), **pargs)\n",
    "    for ax in fg.axes.flatten():\n",
    "        ax.axhline(y=0, c='r', ls=':')\n",
    "\n",
    "    sns.move_legend(fg, loc='upper right')\n",
    "    plt.suptitle(suff)\n",
    "    plt.tight_layout()\n"
   ]
  },
  {
   "cell_type": "code",
   "execution_count": null,
   "id": "e6af5ad6",
   "metadata": {
    "hidden": true
   },
   "outputs": [],
   "source": [
    "catcols = ['control_type', 'env', 'varname', 'time_locked', 'custom_suffix']\n",
    "for col in catcols:\n",
    "    df_b2b_plot[col] = df_b2b_plot[col] .astype('category')"
   ]
  },
  {
   "cell_type": "code",
   "execution_count": null,
   "id": "4e2356e9",
   "metadata": {
    "hidden": true
   },
   "outputs": [],
   "source": [
    "suffixes_desired = ['CNhome_trim0_dhittw1_s_scX0Y0c0_drall_dtall_broad']"
   ]
  },
  {
   "cell_type": "code",
   "execution_count": null,
   "id": "c40c8cff",
   "metadata": {
    "hidden": true
   },
   "outputs": [],
   "source": [
    "suffixes_present"
   ]
  },
  {
   "cell_type": "code",
   "execution_count": null,
   "id": "15aa639c",
   "metadata": {
    "hidden": true
   },
   "outputs": [],
   "source": [
    "sns.set(font_scale=1.1)\n",
    "import seaborn as sns\n",
    "for suff in suffixes_desired:\n",
    "    \n",
    "    pargs = dict(kind='box',  col='control_type',  \n",
    "                 #row='varseti',\n",
    "               x = 'varname', y = 'vals_to_plot',   hue='env',\n",
    "                 palette=['orange', 'grey'] , sharey='none',\n",
    "                row='time_locked')\n",
    "    fg = sns.catplot(data=df_b2b_plot.query(\n",
    "        'varseti == 0 and custom_suffix == @suff and tmin == \"-0.50\"'), \n",
    "                     **pargs)\n",
    "    for ax in fg.axes.flatten():\n",
    "        ax.axhline(y=0, c='r', ls=':')\n",
    "        ax.set_xticklabels(ax.get_xticklabels(), rotation=45)\n",
    "        ax.grid(True)\n",
    "\n",
    "    sns.move_legend(fg, loc='upper right')\n",
    "    plt.suptitle(suff)\n",
    "    plt.tight_layout()    \n",
    "    plt.savefig( pjoin(path_fig, f'b2b_home_basic_vars_{suff}.pdf'))\n",
    "\n",
    "    fg = sns.catplot(data=df_b2b_plot.query('varseti == 1 and custom_suffix == @suff and tmin == \"-0.50\"'),\n",
    "                     **pargs)\n",
    "    for ax in fg.axes.flatten():\n",
    "        ax.axhline(y=0, c='r', ls=':')\n",
    "        ax.set_xticklabels(ax.get_xticklabels(), rotation=45)\n",
    "        ax.grid(True)\n",
    "\n",
    "    sns.move_legend(fg, loc='upper right')\n",
    "    plt.suptitle(suff)\n",
    "    plt.tight_layout()\n",
    "\n",
    "    plt.savefig( pjoin(path_fig, f'b2b_home_ES_{suff}.pdf'))"
   ]
  },
  {
   "cell_type": "code",
   "execution_count": null,
   "id": "b0949482",
   "metadata": {
    "hidden": true
   },
   "outputs": [],
   "source": [
    "#ct = \"movement\"\n",
    "#env_cur = 'stable'\n",
    "dfc_cl = dfc.query('dec_type == \"classic\" and tmin == \"-0.50\"')\n",
    "dfc_cl = dfc_cl.copy()\n",
    "print(len(dfc_cl))\n",
    "fg = sns.catplot(data=dfc_cl, kind='boxen', x='control_type',\n",
    "           y = 'prev_error_scores_mean_over_folds', \n",
    "                  hue='env')\n",
    "for ax in fg.axes.flatten():\n",
    "    ax.axhline(y=0, c='r', ls=':')\n",
    "    \n",
    "plt.suptitle('prev_error')\n",
    "plt.savefig( pjoin(path_fig, 'classic_home_prev_error.pdf'))"
   ]
  },
  {
   "cell_type": "markdown",
   "id": "e440c5c8",
   "metadata": {
    "hidden": true
   },
   "source": [
    "### debug"
   ]
  },
  {
   "cell_type": "code",
   "execution_count": null,
   "id": "fedfc0e9",
   "metadata": {
    "hidden": true
   },
   "outputs": [],
   "source": [
    "fn = 'stable_trials_Ridge_target_movement_trim0_dhittw1_s_scX0Y0_drall_dtall_broad_t=-0.50,0.00.npz'\n",
    "regex = r'(stable|random)_(trialwb|trialwe|trialwpert_wb|trialwpert_we|trialwtgt|trialwpert|trialwtgt_we|trialwtgt_wb|trialwtgt_wpert_wb|trialwtgt_wpert_we|trialwpertstage_wb|trialwtgt_wpertstage_wb|trialwtgt_wpertstage_we|trials)_(Ridge|xgboost)_(feedback|target)_(feedback|movement)_(.*)_(broad|theta|alpha|beta|gamma)_t=(.*),(.*)\\.npz'\n",
    "import re\n",
    "r = re.match(regex,fn)\n",
    "r.groups()"
   ]
  },
  {
   "cell_type": "code",
   "execution_count": null,
   "id": "f187b456",
   "metadata": {
    "hidden": true
   },
   "outputs": [],
   "source": [
    "#set( df['subject'] ) ^ set(np.array(subjects)[subject_inds])"
   ]
  },
  {
   "cell_type": "code",
   "execution_count": null,
   "id": "6fcff6b5",
   "metadata": {
    "hidden": true
   },
   "outputs": [],
   "source": [
    "fnf = dfc.query('dec_type == \"b2b\" and control_type == \"movement\"')['fn_full'].iloc[0]"
   ]
  },
  {
   "cell_type": "code",
   "execution_count": null,
   "id": "462fcee0",
   "metadata": {
    "hidden": true
   },
   "outputs": [],
   "source": [
    "f = np.load(fnf, allow_pickle=1)"
   ]
  },
  {
   "cell_type": "code",
   "execution_count": null,
   "id": "deb094cc",
   "metadata": {
    "hidden": true
   },
   "outputs": [],
   "source": [
    "fnf"
   ]
  },
  {
   "cell_type": "code",
   "execution_count": null,
   "id": "5e1f16df",
   "metadata": {
    "hidden": true
   },
   "outputs": [],
   "source": [
    "f['decoding_per_var_b2b'][()]['prev_movement,prev_error,error,prev_belief']['scores']#.keys()"
   ]
  },
  {
   "cell_type": "code",
   "execution_count": null,
   "id": "9a013520",
   "metadata": {
    "hidden": true
   },
   "outputs": [],
   "source": [
    "list(f.keys())"
   ]
  },
  {
   "cell_type": "code",
   "execution_count": null,
   "id": "26939cfb",
   "metadata": {
    "hidden": true
   },
   "outputs": [],
   "source": [
    "dfc.query('dec_type == \"b2b\" and control_type == \"movement\"')[cols_unique +\\\n",
    "    ['prev_movement,prev_error,error,prev_belief_scores', 'mtime'] ].sort_values('mtime')"
   ]
  },
  {
   "cell_type": "code",
   "execution_count": null,
   "id": "930d5321",
   "metadata": {
    "hidden": true
   },
   "outputs": [],
   "source": [
    "subj = subjects[subject_inds[0]]\n",
    "dfc.query('subject==@subj and dec_type == \"b2b\"')[cols_unique +\\\n",
    "    ['prev_feedback,prev_error,error,prev_belief_scores', 'mtime', 'SLURM_job_id'] ].sort_values('mtime')"
   ]
  },
  {
   "cell_type": "code",
   "execution_count": null,
   "id": "9a6425c8",
   "metadata": {
    "hidden": true
   },
   "outputs": [],
   "source": []
  },
  {
   "cell_type": "code",
   "execution_count": null,
   "id": "78b7bfc8",
   "metadata": {
    "hidden": true
   },
   "outputs": [],
   "source": [
    "dfc['control_type'].unique()"
   ]
  },
  {
   "cell_type": "code",
   "execution_count": null,
   "id": "4812ecef",
   "metadata": {
    "hidden": true
   },
   "outputs": [],
   "source": [
    "varnames_b2b"
   ]
  },
  {
   "cell_type": "code",
   "execution_count": null,
   "id": "e9ec3ace",
   "metadata": {
    "hidden": true
   },
   "outputs": [],
   "source": []
  },
  {
   "cell_type": "code",
   "execution_count": null,
   "id": "577f8cb4",
   "metadata": {
    "hidden": true
   },
   "outputs": [],
   "source": [
    "#dfc_cl['prev_error_scores_mean_over_folds']"
   ]
  },
  {
   "cell_type": "code",
   "execution_count": null,
   "id": "57f83c5f",
   "metadata": {
    "hidden": true
   },
   "outputs": [],
   "source": [
    "#dfc_cl.columns"
   ]
  },
  {
   "cell_type": "code",
   "execution_count": null,
   "id": "91e98980",
   "metadata": {
    "hidden": true
   },
   "outputs": [],
   "source": [
    "# print(vns)\n",
    "# dfc_.loc[inds, vns + '_scores']"
   ]
  },
  {
   "cell_type": "code",
   "execution_count": null,
   "id": "e3c51bb0",
   "metadata": {
    "hidden": true
   },
   "outputs": [],
   "source": [
    "#dfc_.loc[inds, vns + '_scores'].apply(pd.Series)"
   ]
  },
  {
   "cell_type": "code",
   "execution_count": null,
   "id": "da0a8b24",
   "metadata": {
    "hidden": true
   },
   "outputs": [],
   "source": [
    "gc.collect()"
   ]
  },
  {
   "cell_type": "code",
   "execution_count": null,
   "id": "314c83fc",
   "metadata": {
    "hidden": true
   },
   "outputs": [],
   "source": [
    "-0.464*4 -0.5,  0.464*8 -0.5"
   ]
  },
  {
   "cell_type": "code",
   "execution_count": null,
   "id": "be63a683",
   "metadata": {
    "hidden": true
   },
   "outputs": [],
   "source": [
    "# varnames_b2b_s = varnames_b2b \n",
    "# varnames_b2b = varnames_b2b_s.split(',')\n",
    "# varnames_b2b"
   ]
  },
  {
   "cell_type": "code",
   "execution_count": null,
   "id": "4bb3000b",
   "metadata": {
    "hidden": true
   },
   "outputs": [],
   "source": [
    "dfc.columns"
   ]
  },
  {
   "cell_type": "code",
   "execution_count": null,
   "id": "38a252b0",
   "metadata": {
    "hidden": true
   },
   "outputs": [],
   "source": [
    "rs =r'(stable|random|all)_(trialwb|trialwe|trialwpert_wb|trialwpert_we|trialwtgt|trialwpert|trialwtgt_we|trialwtgt_wb|trialwtgt_wpert_wb|trialwtgt_wpert_we|trialwpertstage_wb|trialwtgt_wpertstage_wb|trialwtgt_wpertstage_we|trials)_(Ridge|xgboost)_(feedback|target)_(.*)_(broad|theta|alpha|beta|gamma)_t=(.*),(.*)\\.npz'\n",
    "import re\n",
    "r = re.match(rs, r'random_trials_Ridge_feedback_trim0_dhittw1_s_drall_dtall_broad_t=-0.50,0.00.npz')\n",
    "r"
   ]
  },
  {
   "cell_type": "code",
   "execution_count": null,
   "id": "31eadec7",
   "metadata": {
    "hidden": true
   },
   "outputs": [],
   "source": [
    "r.groups()"
   ]
  },
  {
   "cell_type": "code",
   "execution_count": null,
   "id": "a0e39dcf",
   "metadata": {
    "hidden": true
   },
   "outputs": [],
   "source": [
    "lfs[-1]['regex']"
   ]
  },
  {
   "cell_type": "code",
   "execution_count": null,
   "id": "ecb2a957",
   "metadata": {
    "hidden": true
   },
   "outputs": [],
   "source": [
    "from behav_proc import trial_group_cols_all\n",
    "'|'.join(trial_group_cols_all)"
   ]
  },
  {
   "cell_type": "code",
   "execution_count": null,
   "id": "3b355ea8",
   "metadata": {
    "hidden": true
   },
   "outputs": [],
   "source": [
    "import gc; gc.collect()"
   ]
  },
  {
   "cell_type": "code",
   "execution_count": null,
   "id": "39656e7f",
   "metadata": {
    "hidden": true
   },
   "outputs": [],
   "source": [
    "for pv in df['perturbation'].unique()[1:]:\n",
    "    dfc = df[(df['tmin'] == '-5.00') & df['subject'].str.startswith('sub01') & \\\n",
    "             (df['perturbation'] == pv)][[f'{kte}_scores','fn_full']]\n",
    "    fn_full = str( dfc.loc[dfc.index[0], 'fn_full'] )\n",
    "    print(fn_full)"
   ]
  },
  {
   "cell_type": "code",
   "execution_count": null,
   "id": "db23bcec",
   "metadata": {
    "hidden": true
   },
   "outputs": [],
   "source": [
    "f = np.load(fn_full, allow_pickle=1)"
   ]
  },
  {
   "cell_type": "code",
   "execution_count": null,
   "id": "04bab907",
   "metadata": {
    "hidden": true
   },
   "outputs": [],
   "source": [
    "for pv in df['perturbation'].unique()[1:]:\n",
    "    dpvp =  f['decoding_per_var_and_pert'][()]\n",
    "    sc = dpvp[('err_sens',pv)]['scores']\n",
    "    print(scores)"
   ]
  },
  {
   "cell_type": "code",
   "execution_count": null,
   "id": "4bb08b9c",
   "metadata": {
    "hidden": true
   },
   "outputs": [],
   "source": [
    "df['perturbation']"
   ]
  },
  {
   "cell_type": "code",
   "execution_count": null,
   "id": "bbe5324d",
   "metadata": {
    "hidden": true
   },
   "outputs": [],
   "source": [
    "df[df['tmin'] == '-0.50'][['subject', 'perturbation', f'{kte}_scores']]"
   ]
  },
  {
   "cell_type": "code",
   "execution_count": null,
   "id": "7523032e",
   "metadata": {
    "hidden": true
   },
   "outputs": [],
   "source": [
    "df.groupby(['tmin','perturbation']).mean()['err_sens_scores_mean_over_folds']"
   ]
  },
  {
   "cell_type": "code",
   "execution_count": null,
   "id": "b43cd7b7",
   "metadata": {
    "hidden": true
   },
   "outputs": [],
   "source": []
  },
  {
   "cell_type": "markdown",
   "id": "429b6b9b",
   "metadata": {
    "heading_collapsed": true
   },
   "source": [
    "# plot_behav2"
   ]
  },
  {
   "cell_type": "code",
   "execution_count": null,
   "id": "69ff01e1",
   "metadata": {
    "hidden": true
   },
   "outputs": [],
   "source": [
    "script_name = pjoin(scripts_dir,'plot_behav2.py')\n",
    "ipy.run_line_magic('run', f'-i {script_name}')"
   ]
  },
  {
   "cell_type": "markdown",
   "id": "85a1a80b",
   "metadata": {
    "heading_collapsed": true
   },
   "source": [
    "# compute_error_sensitivity2"
   ]
  },
  {
   "cell_type": "code",
   "execution_count": null,
   "id": "7f60010d",
   "metadata": {
    "hidden": true
   },
   "outputs": [],
   "source": [
    "#for subject in subjects:\n",
    "#for subject in subjects[:1]:\n",
    "script_name = pjoin(scripts_dir,'compute_error_sensitivity2.py')\n",
    "ipy.run_line_magic('run', f'-i {script_name}')"
   ]
  },
  {
   "cell_type": "code",
   "execution_count": null,
   "id": "3e28f410",
   "metadata": {
    "hidden": true
   },
   "outputs": [],
   "source": [
    "subjects"
   ]
  },
  {
   "cell_type": "markdown",
   "id": "8c513415",
   "metadata": {
    "heading_collapsed": true
   },
   "source": [
    "# plot_corr_decod_es2"
   ]
  },
  {
   "cell_type": "code",
   "execution_count": null,
   "id": "824b511c",
   "metadata": {
    "hidden": true
   },
   "outputs": [],
   "source": [
    "#for subject in subjects:\n",
    "#for subject in subjects[:1]:\n",
    "script_name = pjoin(scripts_dir,'plot_corr_decod_es2.py')\n",
    "ipy.run_line_magic('run', f'-i {script_name}')"
   ]
  },
  {
   "cell_type": "code",
   "execution_count": null,
   "id": "fd0f7fab",
   "metadata": {
    "hidden": true
   },
   "outputs": [],
   "source": [
    "#stable_Ridge_spatial_scores_prevmovement_preverrors_errors_prevbelief_broad"
   ]
  },
  {
   "cell_type": "markdown",
   "id": "61042ada",
   "metadata": {
    "heading_collapsed": true
   },
   "source": [
    "# spoc_home_final_fig2"
   ]
  },
  {
   "cell_type": "code",
   "execution_count": null,
   "id": "48793ccd",
   "metadata": {
    "hidden": true
   },
   "outputs": [],
   "source": [
    "!which python"
   ]
  },
  {
   "cell_type": "code",
   "execution_count": null,
   "id": "05650f0b",
   "metadata": {
    "hidden": true
   },
   "outputs": [],
   "source": [
    "!pip install seaborn"
   ]
  },
  {
   "cell_type": "code",
   "execution_count": null,
   "id": "fd132b98",
   "metadata": {
    "hidden": true
   },
   "outputs": [],
   "source": [
    "#for subject in subjects:\n",
    "#for subject in subjects[:1]:\n",
    "freqs = ['broad', 'theta', 'alpha', 'beta', 'gamma']\n",
    "script_name = pjoin(scripts_dir,'spoc_home_final_fig2.py')\n",
    "for hpass in ['no_filter','0.1','0.05']:\n",
    "    for seed in [0,1]:\n",
    "        for regression_type in ['Ridge', 'xgboost'][:1]:    \n",
    "            for freq_name in freqs:\n",
    "        #for regression_type in ['Ridge']:    \n",
    "        #for regression_type in ['xgboost']:\n",
    "                ipy.run_line_magic('run', f'-i {script_name}')\n",
    "            #print('saved_successfully =', saved_successfully)\n",
    "\n",
    "print( len(fnames_missing), len(fnames_zero_size) )"
   ]
  },
  {
   "cell_type": "code",
   "execution_count": null,
   "id": "2362020e",
   "metadata": {
    "hidden": true
   },
   "outputs": [],
   "source": [
    "fnames_missing"
   ]
  },
  {
   "cell_type": "code",
   "execution_count": null,
   "id": "f4082c0b",
   "metadata": {
    "hidden": true
   },
   "outputs": [],
   "source": [
    "print( len(fnames_missing), len(fnames_zero_size) )"
   ]
  },
  {
   "cell_type": "markdown",
   "id": "f303732d",
   "metadata": {
    "heading_collapsed": true
   },
   "source": [
    "# spoc_sliding"
   ]
  },
  {
   "cell_type": "code",
   "execution_count": null,
   "id": "474e5af1",
   "metadata": {
    "hidden": true
   },
   "outputs": [],
   "source": [
    "import gc; gc.collect()"
   ]
  },
  {
   "cell_type": "code",
   "execution_count": null,
   "id": "c6b204bd",
   "metadata": {
    "hidden": true
   },
   "outputs": [],
   "source": [
    "#for subject in subjects:\n",
    "#for subject in subjects[:1]:\n",
    "\n",
    "time_start = parser.parse('00:00 of 19 jul 2022'); \n",
    "time_end = parser.parse('16:00 of 22 sept 2027');   # later at 29 july I occidentally put some err sens decoding files there\n",
    "\n",
    "freqs = ['broad', 'theta', 'alpha', 'beta', 'gamma']\n",
    "hpasses = ['no_filter','0.1','0.05']\n",
    "rts = ['Ridge', 'xgboost']\n",
    "\n",
    "freqs = ['broad']\n",
    "#hpasses = ['0.1']\n",
    "hpasses = ['no_filter']\n",
    "rts = ['Ridge']\n",
    "time_lockeds = ['target']\n",
    "decoding_types = ['classic', 'b2b']\n",
    "DEBUG=0\n",
    "script_name = pjoin(scripts_dir,'spoc_sliding2.py')\n",
    "for hpass in hpasses:\n",
    "    for regression_type in rts:    \n",
    "        for freq_name in freqs:\n",
    "    #for regression_type in ['Ridge']:    \n",
    "    #for regression_type in ['xgboost']:\n",
    "            ipy.run_line_magic('run', f'-i {script_name}')\n",
    "        #print('saved_successfully =', saved_successfully)"
   ]
  },
  {
   "cell_type": "code",
   "execution_count": null,
   "id": "c42530ec",
   "metadata": {
    "hidden": true
   },
   "outputs": [],
   "source": [
    "fname_fig"
   ]
  },
  {
   "cell_type": "code",
   "execution_count": null,
   "id": "d12a6817",
   "metadata": {
    "code_folding": [
     0
    ],
    "hidden": true
   },
   "outputs": [],
   "source": [
    "def listdirPd(folder):\n",
    "    from datetime import datetime\n",
    "    fns = os.listdir(folder)\n",
    "    rows = []\n",
    "    for f in fns:\n",
    "        d = {'fname':f, 'folder':folder}\n",
    "        finfo = os.stat(pjoin(folder,f) )\n",
    "        d['mtime'] = datetime.fromtimestamp(finfo.st_mtime)\n",
    "        d['ctime'] = datetime.fromtimestamp(finfo.st_ctime)\n",
    "        d['atime'] = datetime.fromtimestamp(finfo.st_atime)        \n",
    "        d['size_bytes'] = finfo.st_size\n",
    "        d['size_kbytes'] = finfo.st_size / 1024\n",
    "#         st_mode − protection bits.\n",
    "#         st_ino − inode number.\n",
    "#         st_dev − device.\n",
    "#         st_nlink − number of hard links.\n",
    "#         st_uid − user id of owner.\n",
    "#         st_gid − group id of owner.\n",
    "#         st_size − size of file, in bytes.\n",
    "#         st_atime − time of most recent access.\n",
    "#         st_mtime − time of most recent content modification.\n",
    "#         st_ctime − time of most recent metadata change.\n",
    "        rows += [d]\n",
    "    df = pd.DataFrame(rows)\n",
    "    return df.sort_values(['mtime'])\n",
    "df_fns =  listdirPd(fld)"
   ]
  },
  {
   "cell_type": "code",
   "execution_count": null,
   "id": "66f8aa1d",
   "metadata": {
    "hidden": true
   },
   "outputs": [],
   "source": [
    "from collections import Counter\n",
    "Counter( [a.day for a in df_fns['ctime']] )"
   ]
  },
  {
   "cell_type": "code",
   "execution_count": null,
   "id": "41ea6db7",
   "metadata": {
    "hidden": true
   },
   "outputs": [],
   "source": [
    "fld = pjoin(path_data,subject,'results',output_folder)\n",
    "fld"
   ]
  },
  {
   "cell_type": "code",
   "execution_count": null,
   "id": "7648d3df",
   "metadata": {
    "hidden": true
   },
   "outputs": [],
   "source": [
    "time_locked"
   ]
  },
  {
   "cell_type": "code",
   "execution_count": null,
   "id": "4638220c",
   "metadata": {
    "hidden": true
   },
   "outputs": [],
   "source": [
    "o2 gift card"
   ]
  },
  {
   "cell_type": "code",
   "execution_count": null,
   "id": "599b1f1e",
   "metadata": {
    "hidden": true
   },
   "outputs": [],
   "source": [
    "df_collect['time_locked']"
   ]
  },
  {
   "cell_type": "code",
   "execution_count": null,
   "id": "7f4be785",
   "metadata": {
    "hidden": true
   },
   "outputs": [],
   "source": [
    "df_collect"
   ]
  },
  {
   "cell_type": "code",
   "execution_count": null,
   "id": "45dd117c",
   "metadata": {
    "hidden": true
   },
   "outputs": [],
   "source": [
    "(df_collect['env'] == env) & (df_collect['time_locked'] == time_locked)"
   ]
  },
  {
   "cell_type": "code",
   "execution_count": null,
   "id": "d1b1981e",
   "metadata": {
    "hidden": true
   },
   "outputs": [],
   "source": [
    "time_locked"
   ]
  },
  {
   "cell_type": "code",
   "execution_count": null,
   "id": "754b6f64",
   "metadata": {
    "hidden": true
   },
   "outputs": [],
   "source": [
    "sub_df"
   ]
  },
  {
   "cell_type": "code",
   "execution_count": null,
   "id": "13cc2e61",
   "metadata": {
    "hidden": true
   },
   "outputs": [],
   "source": [
    "sc_aug"
   ]
  },
  {
   "cell_type": "code",
   "execution_count": null,
   "id": "6e3da6c4",
   "metadata": {
    "hidden": true
   },
   "outputs": [],
   "source": [
    "sub_df.columns"
   ]
  },
  {
   "cell_type": "code",
   "execution_count": null,
   "id": "f995c414",
   "metadata": {
    "hidden": true
   },
   "outputs": [],
   "source": [
    "vals.shape"
   ]
  },
  {
   "cell_type": "code",
   "execution_count": null,
   "id": "4ac87e3d",
   "metadata": {
    "hidden": true
   },
   "outputs": [],
   "source": [
    "for (time_locked,decoding_type,env2all_scores) in tpls:\n",
    "\n",
    "    analysis_name = getAnalysisName(time_locked,control_type)\n",
    "    var_order = analysis_name2var_ord[analysis_name]\n",
    "\n",
    "    for vari,varn in enumerate(var_order):\n",
    "        env2scs = {}\n",
    "        for env,scs in env2all_scores.items():\n",
    "            scs_all = np.array(scs)\n",
    "            tmins_all = scs[-1,:,:]\n",
    "            tmins_ = tmins_all[0]  # take of the first subject\n",
    "            scs = scs_all[:-1,:,:]\n",
    "\n",
    "            vals_ = scs[vari,...]\n",
    "            #ys_ = vals.mean(axis=0)  # mean over subjects\n",
    "\n",
    "            # tmins are not sorted\n",
    "            a = sorted( zip(tmins_,vals_.T), key=lambda x: x[0] )\n",
    "            tmins,vals = zip(*a)\n",
    "            vals = np.array(vals).T\n",
    "\n",
    "            env2scs[env] = np.array(vals)\n",
    "\n",
    "        # TODO: use argsort to solve\n",
    "        diff = env2scs['stable'] - env2scs['random']\n",
    "\n",
    "        plt.title(f'{decoding_type} decoding {varn} differences', fontsize=14)\n",
    "        # Plot errors during stable environment\n",
    "        plt.plot(tmins, diff.mean(0), color=colors[0], linewidth=0.5)\n",
    "        sig = decod_stats(diff) < 0.05\n",
    "        plt.fill_between(tmins, diff.mean(0), where=sig, color=colors[0], alpha=0.3)\n",
    "        fname_fig = op.join( path_fig, save_folder,\n",
    "            f'Exp2{varn}_{regression_type}_{freq_name}_{time_locked}_{decoding_type}' )\n",
    "        plt.savefig(fname_fig, dpi=400)\n",
    "        print(f'Fig saved to {fname_fig}')\n",
    "        plt.close()\n"
   ]
  },
  {
   "cell_type": "code",
   "execution_count": null,
   "id": "0091d171",
   "metadata": {
    "hidden": true
   },
   "outputs": [],
   "source": [
    "a = sorted( zip(tmins_,vals.T), key=lambda x: x[0] )\n",
    "tmins,ys = zip(*a)\n"
   ]
  },
  {
   "cell_type": "code",
   "execution_count": null,
   "id": "b82da14a",
   "metadata": {
    "hidden": true
   },
   "outputs": [],
   "source": [
    "ys"
   ]
  },
  {
   "cell_type": "code",
   "execution_count": null,
   "id": "72a35425",
   "metadata": {
    "hidden": true
   },
   "outputs": [],
   "source": [
    "getAnalysisName('target',control_type)"
   ]
  },
  {
   "cell_type": "code",
   "execution_count": null,
   "id": "ad68554a",
   "metadata": {
    "hidden": true
   },
   "outputs": [],
   "source": [
    "var_order"
   ]
  },
  {
   "cell_type": "code",
   "execution_count": null,
   "id": "c06856eb",
   "metadata": {
    "hidden": true
   },
   "outputs": [],
   "source": [
    "for a in df_collect[['fn_full','tmin']].to_numpy():\n",
    "    print(a)"
   ]
  },
  {
   "cell_type": "code",
   "execution_count": null,
   "id": "ebd8d88f",
   "metadata": {
    "hidden": true
   },
   "outputs": [],
   "source": [
    "\n",
    "#sub_df['analysis_name']._idx(0)"
   ]
  },
  {
   "cell_type": "code",
   "execution_count": null,
   "id": "157a79d2",
   "metadata": {
    "hidden": true
   },
   "outputs": [],
   "source": [
    "np.array( scores_cur_env_cur_subj ).shape"
   ]
  },
  {
   "cell_type": "code",
   "execution_count": null,
   "id": "0ad946c5",
   "metadata": {
    "hidden": true
   },
   "outputs": [],
   "source": [
    "a = sorted( zip(tmins,ys), key=lambda x: x[0] )\n",
    "tmins_,ys_ = zip(*a)\n",
    "plt.plot(tmins,ys, lw=0, marker='*')\n",
    "plt.plot(tmins_,ys_)"
   ]
  },
  {
   "cell_type": "code",
   "execution_count": null,
   "id": "a956a507",
   "metadata": {
    "hidden": true
   },
   "outputs": [],
   "source": [
    "tmins_all = np.array(scores_cur_env)[...,-1]\n",
    "np.max( np.std(tmins_all,axis=0) )"
   ]
  },
  {
   "cell_type": "code",
   "execution_count": null,
   "id": "3e69a68b",
   "metadata": {
    "hidden": true
   },
   "outputs": [],
   "source": [
    "min(tmins),max(tmins)"
   ]
  },
  {
   "cell_type": "code",
   "execution_count": null,
   "id": "bfeb309b",
   "metadata": {
    "hidden": true
   },
   "outputs": [],
   "source": [
    "tuples_a = np.array(tuples,dtype=object)"
   ]
  },
  {
   "cell_type": "code",
   "execution_count": null,
   "id": "7d483797",
   "metadata": {
    "hidden": true
   },
   "outputs": [],
   "source": [
    "sc"
   ]
  },
  {
   "cell_type": "code",
   "execution_count": null,
   "id": "9eb9b9cd",
   "metadata": {
    "hidden": true
   },
   "outputs": [],
   "source": [
    "df_collect"
   ]
  },
  {
   "cell_type": "code",
   "execution_count": null,
   "id": "e1b03b40",
   "metadata": {
    "hidden": true
   },
   "outputs": [],
   "source": [
    "len( df_collect[ (df_collect['env'] == env) ] )"
   ]
  },
  {
   "cell_type": "code",
   "execution_count": null,
   "id": "ef54836b",
   "metadata": {
    "hidden": true
   },
   "outputs": [],
   "source": [
    "sub_df = df_collect[ (df_collect['time_locked'] == time_locked) & (df_collect['env'] == env) ]"
   ]
  },
  {
   "cell_type": "code",
   "execution_count": null,
   "id": "ea70c9b7",
   "metadata": {
    "hidden": true
   },
   "outputs": [],
   "source": [
    "sub_df.reset_index()\n",
    "print(len(sub_df))\n",
    "sub_df"
   ]
  },
  {
   "cell_type": "code",
   "execution_count": null,
   "id": "2a35336b",
   "metadata": {
    "hidden": true
   },
   "outputs": [],
   "source": []
  },
  {
   "cell_type": "code",
   "execution_count": null,
   "id": "a020281a",
   "metadata": {
    "hidden": true
   },
   "outputs": [],
   "source": [
    "list( sub_df['fn'] ) "
   ]
  },
  {
   "cell_type": "code",
   "execution_count": null,
   "id": "a1ecddac",
   "metadata": {
    "hidden": true
   },
   "outputs": [],
   "source": [
    "times, fns, pars = list( zip(*srt) )\n",
    "from datetime import datetime\n",
    "days = [ datetime.fromtimestamp(t).day for t in times]\n",
    "sum( np.array(days) < 20)"
   ]
  },
  {
   "cell_type": "code",
   "execution_count": null,
   "id": "2fa72773",
   "metadata": {
    "hidden": true
   },
   "outputs": [],
   "source": []
  },
  {
   "cell_type": "code",
   "execution_count": null,
   "id": "e68fa2ae",
   "metadata": {
    "hidden": true
   },
   "outputs": [],
   "source": [
    "\n",
    "#r = re.match( r'(stable|random)_(Ridge|xgboost)_(feedback|movement)_(.*)_([a-z])_t=(.*)\\.npz', fns[0])\n",
    "#r = re.match( r'(stable|random)_(Ridge|xgboost)_(feedback|target)_(.*)_([a-z]).*\\.npz', fns[0])\n",
    "r = re.match( r'(stable|random)_(Ridge|xgboost)_(feedback|target)_(.*)_(' +freqstr+ ')_t=(.*)\\.npz', fns[0])\n",
    "print(r )\n",
    "grps = r.groups(); print(grps)\n",
    "env,rt,tgt,analysis_name,freq_name,tminmax = grps"
   ]
  },
  {
   "cell_type": "code",
   "execution_count": null,
   "id": "99edc272",
   "metadata": {
    "hidden": true
   },
   "outputs": [],
   "source": [
    "len(days)"
   ]
  },
  {
   "cell_type": "code",
   "execution_count": null,
   "id": "865028d9",
   "metadata": {
    "hidden": true
   },
   "outputs": [],
   "source": [
    "fn_full"
   ]
  },
  {
   "cell_type": "code",
   "execution_count": null,
   "id": "4ae9bac0",
   "metadata": {
    "hidden": true
   },
   "outputs": [],
   "source": [
    "shutil."
   ]
  },
  {
   "cell_type": "code",
   "execution_count": null,
   "id": "68903cb9",
   "metadata": {
    "hidden": true
   },
   "outputs": [],
   "source": [
    "# fns[0]\n",
    "# fn_full = op.join(dir_full,fns[0])\n",
    "# import shutil\n",
    "# os.remove(fn_full)"
   ]
  },
  {
   "cell_type": "code",
   "execution_count": null,
   "id": "544479af",
   "metadata": {
    "hidden": true
   },
   "outputs": [],
   "source": [
    "fn_full"
   ]
  },
  {
   "cell_type": "code",
   "execution_count": null,
   "id": "c632f895",
   "metadata": {
    "hidden": true
   },
   "outputs": [],
   "source": []
  },
  {
   "cell_type": "code",
   "execution_count": null,
   "id": "46c2aa07",
   "metadata": {
    "hidden": true
   },
   "outputs": [],
   "source": [
    "shift"
   ]
  },
  {
   "cell_type": "code",
   "execution_count": null,
   "id": "a875e459",
   "metadata": {
    "hidden": true
   },
   "outputs": [],
   "source": [
    "np.all( np.diff(times) > 0)"
   ]
  },
  {
   "cell_type": "code",
   "execution_count": null,
   "id": "0dce2842",
   "metadata": {
    "hidden": true
   },
   "outputs": [],
   "source": []
  },
  {
   "cell_type": "code",
   "execution_count": null,
   "id": "0ac7df49",
   "metadata": {
    "hidden": true
   },
   "outputs": [],
   "source": []
  },
  {
   "cell_type": "code",
   "execution_count": null,
   "id": "2bc619b0",
   "metadata": {
    "hidden": true
   },
   "outputs": [],
   "source": [
    "d = datetime.fromtimestamp(times[0])"
   ]
  },
  {
   "cell_type": "code",
   "execution_count": null,
   "id": "4b00f507",
   "metadata": {
    "hidden": true
   },
   "outputs": [],
   "source": [
    "newver = [ 'slide_windows_type' in par_cur for par_cur in pars]"
   ]
  },
  {
   "cell_type": "code",
   "execution_count": null,
   "id": "9926250b",
   "metadata": {
    "hidden": true
   },
   "outputs": [],
   "source": [
    "len(pars) - sum( newver )"
   ]
  },
  {
   "cell_type": "code",
   "execution_count": null,
   "id": "2fd906b1",
   "metadata": {
    "hidden": true
   },
   "outputs": [],
   "source": []
  },
  {
   "cell_type": "code",
   "execution_count": null,
   "id": "7aa97985",
   "metadata": {
    "hidden": true
   },
   "outputs": [],
   "source": []
  },
  {
   "cell_type": "code",
   "execution_count": null,
   "id": "3d427765",
   "metadata": {
    "hidden": true
   },
   "outputs": [],
   "source": [
    "import matplotlib.pyplot as plt\n",
    "COLOR = 'white'\n",
    "mpl.rcParams['text.color'] = COLOR\n",
    "mpl.rcParams['axes.labelcolor'] = COLOR\n",
    "mpl.rcParams['xtick.color'] = COLOR\n",
    "mpl.rcParams['ytick.color'] = COLOR\n",
    "\n",
    "plt.hist(days)"
   ]
  },
  {
   "cell_type": "code",
   "execution_count": null,
   "id": "7f554d6d",
   "metadata": {
    "hidden": true
   },
   "outputs": [],
   "source": [
    "len(srt)"
   ]
  },
  {
   "cell_type": "code",
   "execution_count": null,
   "id": "ca45c23a",
   "metadata": {
    "hidden": true
   },
   "outputs": [],
   "source": []
  },
  {
   "cell_type": "code",
   "execution_count": null,
   "id": "b33f70ef",
   "metadata": {
    "hidden": true
   },
   "outputs": [],
   "source": [
    "list ( f.keys() )"
   ]
  },
  {
   "cell_type": "code",
   "execution_count": null,
   "id": "73970351",
   "metadata": {
    "hidden": true
   },
   "outputs": [],
   "source": []
  },
  {
   "cell_type": "code",
   "execution_count": null,
   "id": "07f3f0d1",
   "metadata": {
    "hidden": true
   },
   "outputs": [],
   "source": [
    "f['par'][()]"
   ]
  },
  {
   "cell_type": "code",
   "execution_count": null,
   "id": "ec27283c",
   "metadata": {
    "hidden": true
   },
   "outputs": [],
   "source": [
    "biotec falls,\n",
    "new datacenter companies fall"
   ]
  },
  {
   "cell_type": "code",
   "execution_count": null,
   "id": "350f1fe0",
   "metadata": {
    "hidden": true
   },
   "outputs": [],
   "source": [
    "hpass"
   ]
  },
  {
   "cell_type": "code",
   "execution_count": null,
   "id": "9e9c9593",
   "metadata": {
    "hidden": true
   },
   "outputs": [],
   "source": []
  },
  {
   "cell_type": "code",
   "execution_count": null,
   "id": "76400166",
   "metadata": {
    "hidden": true
   },
   "outputs": [],
   "source": [
    "len(  env2all_scores[env] )"
   ]
  },
  {
   "cell_type": "code",
   "execution_count": null,
   "id": "8d4e5dfe",
   "metadata": {
    "hidden": true
   },
   "outputs": [],
   "source": [
    "# (4, 20, 321) in orig;    so  vars x subj x times"
   ]
  },
  {
   "cell_type": "code",
   "execution_count": null,
   "id": "a206cbb0",
   "metadata": {
    "hidden": true
   },
   "outputs": [],
   "source": [
    "len(scores_cur_env_cur_subj)"
   ]
  },
  {
   "cell_type": "code",
   "execution_count": null,
   "id": "74eb82d6",
   "metadata": {
    "hidden": true
   },
   "outputs": [],
   "source": [
    "scs[1,...].shape"
   ]
  },
  {
   "cell_type": "code",
   "execution_count": null,
   "id": "cd113c5b",
   "metadata": {
    "hidden": true
   },
   "outputs": [],
   "source": [
    "scs.transpose( (2,0,1)).shape"
   ]
  },
  {
   "cell_type": "code",
   "execution_count": null,
   "id": "2e1fe830",
   "metadata": {
    "hidden": true
   },
   "outputs": [],
   "source": [
    "scs.shape"
   ]
  },
  {
   "cell_type": "code",
   "execution_count": null,
   "id": "6d077b9c",
   "metadata": {
    "hidden": true
   },
   "outputs": [],
   "source": [
    "from mne.stats import permutation_cluster_1samp_test\n",
    "help(permutation_cluster_1samp_test)"
   ]
  },
  {
   "cell_type": "code",
   "execution_count": null,
   "id": "bcdb6908",
   "metadata": {
    "hidden": true
   },
   "outputs": [],
   "source": [
    "len(tminmaxs)"
   ]
  },
  {
   "cell_type": "code",
   "execution_count": null,
   "id": "e656dbb1",
   "metadata": {
    "hidden": true
   },
   "outputs": [],
   "source": [
    "env2all_scores[env].shape"
   ]
  },
  {
   "cell_type": "code",
   "execution_count": null,
   "id": "070fe417",
   "metadata": {
    "hidden": true
   },
   "outputs": [],
   "source": [
    "print( len(subjects), len(tmins), scs.shape )"
   ]
  },
  {
   "cell_type": "code",
   "execution_count": null,
   "id": "439caad6",
   "metadata": {
    "hidden": true
   },
   "outputs": [],
   "source": [
    "len(env2all_scores['stable'])"
   ]
  },
  {
   "cell_type": "code",
   "execution_count": null,
   "id": "75b164c3",
   "metadata": {
    "hidden": true
   },
   "outputs": [],
   "source": [
    "len(env2all_scores['random'])"
   ]
  },
  {
   "cell_type": "code",
   "execution_count": null,
   "id": "46925912",
   "metadata": {
    "hidden": true
   },
   "outputs": [],
   "source": [
    "scs.shape"
   ]
  },
  {
   "cell_type": "code",
   "execution_count": null,
   "id": "0d1c5605",
   "metadata": {
    "hidden": true
   },
   "outputs": [],
   "source": [
    "len(tmins)"
   ]
  },
  {
   "cell_type": "code",
   "execution_count": null,
   "id": "91c88390",
   "metadata": {
    "hidden": true
   },
   "outputs": [],
   "source": [
    "env2all_scores"
   ]
  },
  {
   "cell_type": "code",
   "execution_count": null,
   "id": "987fa2f8",
   "metadata": {
    "hidden": true
   },
   "outputs": [],
   "source": [
    "dd"
   ]
  },
  {
   "cell_type": "code",
   "execution_count": null,
   "id": "e24496a7",
   "metadata": {
    "hidden": true
   },
   "outputs": [],
   "source": [
    "os.listdir('/p/project/icei-hbp-2020-0012/lyon/memerr/data2/sub20_YOGCJKKB/results')"
   ]
  },
  {
   "cell_type": "code",
   "execution_count": null,
   "id": "39b49ba4",
   "metadata": {
    "hidden": true
   },
   "outputs": [],
   "source": [
    "os.listdir(results_folder)"
   ]
  },
  {
   "cell_type": "markdown",
   "id": "942bdd20",
   "metadata": {
    "heading_collapsed": true
   },
   "source": [
    "# td_long_fig"
   ]
  },
  {
   "cell_type": "code",
   "execution_count": null,
   "id": "840b764b",
   "metadata": {
    "hidden": true
   },
   "outputs": [],
   "source": []
  },
  {
   "cell_type": "code",
   "execution_count": null,
   "id": "6327ba6e",
   "metadata": {
    "hidden": true
   },
   "outputs": [],
   "source": [
    "import sys\n",
    "#for subject in subjects:\n",
    "#for subject in subjects[:1]:\n",
    "control_type = 'target'  # 'movement', 'feedback', 'target' or 'belief'\n",
    "control_type = 'movement'  # 'movement', 'feedback', 'target' or 'belief'\n",
    "script_name = pjoin(scripts_dir,'td_long_fig2.py')\n",
    "for hpass in ['no_filter','0.1','0.05']:\n",
    "    for regression_type in ['Ridge', 'xgboost']:    \n",
    "        ipy.run_line_magic('run', f'-i {script_name}')\n",
    "        #sys.exit(1)\n",
    "        #print('saved_successfully =', saved_successfully)"
   ]
  },
  {
   "cell_type": "markdown",
   "id": "efc18972",
   "metadata": {
    "heading_collapsed": true
   },
   "source": [
    "# td_baselined_final_fig2"
   ]
  },
  {
   "cell_type": "code",
   "execution_count": null,
   "id": "3c9f0392",
   "metadata": {
    "hidden": true
   },
   "outputs": [],
   "source": [
    "import sys\n",
    "#for subject in subjects:\n",
    "#for subject in subjects[:1]:\n",
    "control_type = 'target'  # 'movement', 'feedback', 'target' or 'belief'\n",
    "control_type = 'movement'  # 'movement', 'feedback', 'target' or 'belief'\n",
    "script_name = pjoin(scripts_dir,'td_baselined_final_fig2.py')\n",
    "for hpass in ['no_filter','0.1','0.05']:\n",
    "    for regression_type in ['Ridge', 'xgboost']:    \n",
    "        ipy.run_line_magic('run', f'-i {script_name}')\n",
    "        sys.exit(1)\n",
    "        #print('saved_successfully =', saved_successfully)"
   ]
  },
  {
   "cell_type": "code",
   "execution_count": null,
   "id": "e62a845f",
   "metadata": {
    "hidden": true
   },
   "outputs": [],
   "source": [
    "path_data"
   ]
  },
  {
   "cell_type": "code",
   "execution_count": null,
   "id": "a6cc7d28",
   "metadata": {
    "hidden": true
   },
   "outputs": [],
   "source": []
  },
  {
   "cell_type": "code",
   "execution_count": null,
   "id": "e157cdc6",
   "metadata": {
    "hidden": true
   },
   "outputs": [],
   "source": []
  },
  {
   "cell_type": "code",
   "execution_count": null,
   "id": "50a05e23",
   "metadata": {
    "hidden": true
   },
   "outputs": [],
   "source": []
  },
  {
   "cell_type": "code",
   "execution_count": null,
   "id": "7d6b0c02",
   "metadata": {
    "hidden": true,
    "run_control": {
     "marked": true
    }
   },
   "outputs": [],
   "source": [
    "import gc; gc.collect()"
   ]
  },
  {
   "cell_type": "code",
   "execution_count": null,
   "id": "63e46125",
   "metadata": {
    "hidden": true
   },
   "outputs": [],
   "source": [
    "fnames_missing"
   ]
  },
  {
   "cell_type": "code",
   "execution_count": null,
   "id": "a78454e2",
   "metadata": {
    "hidden": true
   },
   "outputs": [],
   "source": [
    "fn = '/home/demitau/data_Quentin/full_experiments/data2/sub01_WGPOZPEE/results/spoc_home2_0.05/stable_xgboost_scores_prevmovement_preverrors_errors_prevbelief_gamma.npy'\n",
    "f = np.load(fn)"
   ]
  },
  {
   "cell_type": "code",
   "execution_count": null,
   "id": "7e5f2091",
   "metadata": {
    "hidden": true
   },
   "outputs": [],
   "source": [
    "'sub01_WGPOZPEE spoc_home2_0.05 stable_xgboost_scores_prevmovement_preverrors_errors_prevbelief_gamma.npy',"
   ]
  },
  {
   "cell_type": "code",
   "execution_count": null,
   "id": "44fa82b0",
   "metadata": {
    "hidden": true,
    "run_control": {
     "marked": true
    }
   },
   "outputs": [],
   "source": [
    "f"
   ]
  },
  {
   "cell_type": "code",
   "execution_count": null,
   "id": "eedc2513",
   "metadata": {
    "hidden": true
   },
   "outputs": [],
   "source": [
    "fnames_zero_size"
   ]
  },
  {
   "cell_type": "code",
   "execution_count": null,
   "id": "692e3226",
   "metadata": {
    "hidden": true
   },
   "outputs": [],
   "source": [
    "fname_full"
   ]
  },
  {
   "cell_type": "code",
   "execution_count": null,
   "id": "f4d769a2",
   "metadata": {
    "hidden": true
   },
   "outputs": [],
   "source": [
    "all_scores_stable"
   ]
  },
  {
   "cell_type": "markdown",
   "id": "891d6b13",
   "metadata": {},
   "source": [
    "# td_long_fig2"
   ]
  },
  {
   "cell_type": "code",
   "execution_count": null,
   "id": "20f09323",
   "metadata": {},
   "outputs": [],
   "source": [
    "#for subject in subjects:\n",
    "#for subject in subjects[:1]:\n",
    "script_name = pjoin(scripts_dir,'td_long_fig2.py')\n",
    "ipy.run_line_magic('run', f'-i {script_name}')"
   ]
  }
 ],
 "metadata": {
  "kernelspec": {
   "display_name": "merr_Romain_proj",
   "language": "python",
   "name": "merr_romain_proj"
  },
  "language_info": {
   "codemirror_mode": {
    "name": "ipython",
    "version": 3
   },
   "file_extension": ".py",
   "mimetype": "text/x-python",
   "name": "python",
   "nbconvert_exporter": "python",
   "pygments_lexer": "ipython3",
   "version": "3.10.9"
  }
 },
 "nbformat": 4,
 "nbformat_minor": 5
}
