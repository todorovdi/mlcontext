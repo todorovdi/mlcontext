{
 "cells": [
  {
   "cell_type": "code",
   "execution_count": null,
   "id": "377fc7a8",
   "metadata": {},
   "outputs": [],
   "source": [
    "%env FIG_MEMORY_ERRORS_STAB_AND_STOCH=/home/demitau/data_Quentin/full_experiments/output_plots2"
   ]
  },
  {
   "cell_type": "code",
   "execution_count": null,
   "id": "198f3a01",
   "metadata": {},
   "outputs": [],
   "source": [
    "%load_ext autoreload\n",
    "%autoreload 2\n",
    "\n",
    "import os, sys; sys.path.append(os.path.expandvars('$CODE_MEMORY_ERRORS'))\n",
    "import config2\n",
    "ipy = get_ipython()\n",
    "#data_dir_general = '/home/demitau/data_Quentin'\n",
    "#data_subdir_mem_err_main = 'full_experiments/data2'\n",
    "from os.path import join as pjoin\n",
    "#data_dir_input = pjoin(data_dir_general,data_subdir_mem_err_main)\n",
    "\n",
    "\n",
    "#data_dir_general = '/home/demitau/data_Quentin'\n",
    "#data_subdir_mem_err_main = 'full_experiments/data2'\n",
    "#data_dir_input = pjoin(data_dir_general,data_subdir_mem_err_main)\n",
    "#scripts_dir = pjoin(data_dir_general,'full_experiments','scripts2')\n",
    "\n",
    "data_dir_general = os.path.expandvars('$DATA_QUENTIN')\n",
    "data_dir_input = os.path.expandvars('$DATA_MEMORY_ERRORS_STAB_AND_STOCH')\n",
    "#scripts_dir = pjoin( os.path.expandvars('$CODE_MEMORY_ERRORS'), 'previous_analyses')\n",
    "scripts_dir = pjoin( os.path.expandvars('$CODE_MEMORY_ERRORS'), 'figure')\n",
    "\n",
    "\n",
    "print(data_dir_input, scripts_dir)\n",
    "\n",
    "subjects = [f for f in os.listdir(data_dir_input) if f.startswith('sub') ]\n",
    "subjects = list(sorted(subjects))\n",
    "print(subjects)"
   ]
  },
  {
   "cell_type": "code",
   "execution_count": null,
   "id": "e401776b",
   "metadata": {},
   "outputs": [],
   "source": [
    "#%set_env FIG_MEMORY_ERRORS_STAB_AND_STOCH=$DATA_QUENTIN/output_plots2"
   ]
  },
  {
   "cell_type": "code",
   "execution_count": null,
   "id": "90be3350",
   "metadata": {},
   "outputs": [],
   "source": []
  },
  {
   "cell_type": "code",
   "execution_count": null,
   "id": "73a6adf5",
   "metadata": {},
   "outputs": [],
   "source": [
    "s = os.path.expandvars('$FIG_MEMORY_ERRORS_STAB_AND_STOCH')\n",
    "s"
   ]
  },
  {
   "cell_type": "markdown",
   "id": "429b6b9b",
   "metadata": {
    "heading_collapsed": true
   },
   "source": [
    "# plot_behav2"
   ]
  },
  {
   "cell_type": "code",
   "execution_count": null,
   "id": "69ff01e1",
   "metadata": {
    "hidden": true
   },
   "outputs": [],
   "source": [
    "script_name = pjoin(scripts_dir,'plot_behav2.py')\n",
    "ipy.run_line_magic('run', f'-i {script_name}')"
   ]
  },
  {
   "cell_type": "markdown",
   "id": "85a1a80b",
   "metadata": {
    "heading_collapsed": true
   },
   "source": [
    "# compute_error_sensitivity2"
   ]
  },
  {
   "cell_type": "code",
   "execution_count": null,
   "id": "7f60010d",
   "metadata": {
    "hidden": true
   },
   "outputs": [],
   "source": [
    "#for subject in subjects:\n",
    "#for subject in subjects[:1]:\n",
    "script_name = pjoin(scripts_dir,'compute_error_sensitivity2.py')\n",
    "ipy.run_line_magic('run', f'-i {script_name}')"
   ]
  },
  {
   "cell_type": "code",
   "execution_count": null,
   "id": "3e28f410",
   "metadata": {
    "hidden": true
   },
   "outputs": [],
   "source": [
    "subjects"
   ]
  },
  {
   "cell_type": "markdown",
   "id": "8c513415",
   "metadata": {},
   "source": [
    "# plot_corr_decod_es2"
   ]
  },
  {
   "cell_type": "code",
   "execution_count": null,
   "id": "824b511c",
   "metadata": {},
   "outputs": [],
   "source": [
    "#for subject in subjects:\n",
    "#for subject in subjects[:1]:\n",
    "script_name = pjoin(scripts_dir,'plot_corr_decod_es2.py')\n",
    "ipy.run_line_magic('run', f'-i {script_name}')"
   ]
  },
  {
   "cell_type": "code",
   "execution_count": null,
   "id": "fd0f7fab",
   "metadata": {},
   "outputs": [],
   "source": [
    "#stable_Ridge_spatial_scores_prevmovement_preverrors_errors_prevbelief_broad"
   ]
  },
  {
   "cell_type": "markdown",
   "id": "c46f041d",
   "metadata": {},
   "source": [
    "# Plot sliding err sens decoding"
   ]
  },
  {
   "cell_type": "code",
   "execution_count": null,
   "id": "0e5453b1",
   "metadata": {},
   "outputs": [],
   "source": [
    "df['prev_error']"
   ]
  },
  {
   "cell_type": "code",
   "execution_count": null,
   "id": "28ce949e",
   "metadata": {
    "run_control": {
     "marked": false
    }
   },
   "outputs": [],
   "source": [
    "#for subject in subjects[:1]:\n",
    "#%debug\n",
    "plot_diff_vs_es = 0\n",
    "freq_name = 'broad'\n",
    "regression_type = 'Ridge'\n",
    "hpass = 'no_filter'\n",
    "output_folder = 'corr_spoc_es_sliding2_%s' % hpass\n",
    "script_name = pjoin(scripts_dir,\n",
    "                    'correlation_error_sensitivity_spoc_decoding_sliding.py')\n",
    "ipy.run_line_magic('run', f'-i {script_name}')"
   ]
  },
  {
   "cell_type": "code",
   "execution_count": null,
   "id": "5cad60df",
   "metadata": {},
   "outputs": [],
   "source": [
    "df_curwnd['diff'].apply(lambda x: np.mean(x)).mean()"
   ]
  },
  {
   "cell_type": "code",
   "execution_count": null,
   "id": "33413a1e",
   "metadata": {},
   "outputs": [],
   "source": [
    "list( df_curwnd['diff'].to_numpy() )\n",
    "        #diff.shape"
   ]
  },
  {
   "cell_type": "code",
   "execution_count": null,
   "id": "e16532f4",
   "metadata": {},
   "outputs": [],
   "source": [
    "diff.shape"
   ]
  },
  {
   "cell_type": "code",
   "execution_count": null,
   "id": "39a9c43e",
   "metadata": {},
   "outputs": [],
   "source": [
    "        sc = np.array ( list( df_curwnd['scores_es'].to_numpy() ) )\n",
    "        scm = sc.mean(axis=1) # mean over splits\n",
    "\n",
    "        scm.mean()"
   ]
  },
  {
   "cell_type": "code",
   "execution_count": null,
   "id": "c0a125d2",
   "metadata": {},
   "outputs": [],
   "source": [
    "scores"
   ]
  },
  {
   "cell_type": "code",
   "execution_count": null,
   "id": "69498181",
   "metadata": {},
   "outputs": [],
   "source": [
    "len( df_curwnd_cursubj['diff'] )"
   ]
  },
  {
   "cell_type": "code",
   "execution_count": null,
   "id": "46d37886",
   "metadata": {},
   "outputs": [],
   "source": [
    "diff[0]"
   ]
  },
  {
   "cell_type": "markdown",
   "id": "61042ada",
   "metadata": {
    "heading_collapsed": true
   },
   "source": [
    "# spoc_home_final_fig2"
   ]
  },
  {
   "cell_type": "code",
   "execution_count": null,
   "id": "fd132b98",
   "metadata": {
    "hidden": true
   },
   "outputs": [],
   "source": [
    "#for subject in subjects:\n",
    "#for subject in subjects[:1]:\n",
    "freqs = ['broad', 'theta', 'alpha', 'beta', 'gamma']\n",
    "script_name = pjoin(scripts_dir,'spoc_home_final_fig2.py')\n",
    "for hpass in ['no_filter','0.1','0.05']:\n",
    "    for regression_type in ['Ridge', 'xgboost']:    \n",
    "        for freq_name in freqs:\n",
    "    #for regression_type in ['Ridge']:    \n",
    "    #for regression_type in ['xgboost']:\n",
    "            ipy.run_line_magic('run', f'-i {script_name}')\n",
    "        #print('saved_successfully =', saved_successfully)"
   ]
  },
  {
   "cell_type": "markdown",
   "id": "942bdd20",
   "metadata": {
    "heading_collapsed": true
   },
   "source": [
    "# td_long_fig"
   ]
  },
  {
   "cell_type": "code",
   "execution_count": null,
   "id": "6327ba6e",
   "metadata": {
    "hidden": true
   },
   "outputs": [],
   "source": [
    "import sys\n",
    "#for subject in subjects:\n",
    "#for subject in subjects[:1]:\n",
    "control_type = 'target'  # 'movement', 'feedback', 'target' or 'belief'\n",
    "control_type = 'movement'  # 'movement', 'feedback', 'target' or 'belief'\n",
    "script_name = pjoin(scripts_dir,'td_long_fig2.py')\n",
    "#for hpass in ['no_filter','0.1','0.05']:\n",
    "for hpass in ['0.1']:\n",
    "    for regression_type in ['Ridge']:    \n",
    "    #for regression_type in ['Ridge', 'xgboost']:    \n",
    "        ipy.run_line_magic('run', f'-i {script_name}')\n",
    "        #sys.exit(1)\n",
    "        #print('saved_successfully =', saved_successfully)"
   ]
  },
  {
   "cell_type": "code",
   "execution_count": null,
   "id": "0a434543",
   "metadata": {
    "hidden": true
   },
   "outputs": [],
   "source": [
    "all_scores_random.shape"
   ]
  },
  {
   "cell_type": "markdown",
   "id": "efc18972",
   "metadata": {
    "heading_collapsed": true
   },
   "source": [
    "# td_baselined_final_fig2"
   ]
  },
  {
   "cell_type": "code",
   "execution_count": null,
   "id": "3c9f0392",
   "metadata": {
    "hidden": true
   },
   "outputs": [],
   "source": [
    "import sys\n",
    "#for subject in subjects:\n",
    "#for subject in subjects[:1]:\n",
    "control_type = 'target'  # 'movement', 'feedback', 'target' or 'belief'\n",
    "control_type = 'movement'  # 'movement', 'feedback', 'target' or 'belief'\n",
    "script_name = pjoin(scripts_dir,'td_baselined_final_fig2.py')\n",
    "for hpass in ['no_filter','0.1','0.05']:\n",
    "    for regression_type in ['Ridge', 'xgboost']:    \n",
    "        ipy.run_line_magic('run', f'-i {script_name}')\n",
    "        sys.exit(1)\n",
    "        #print('saved_successfully =', saved_successfully)"
   ]
  },
  {
   "cell_type": "code",
   "execution_count": null,
   "id": "7d6b0c02",
   "metadata": {
    "hidden": true,
    "run_control": {
     "marked": true
    }
   },
   "outputs": [],
   "source": [
    "import gc; gc.collect()"
   ]
  },
  {
   "cell_type": "code",
   "execution_count": null,
   "id": "63e46125",
   "metadata": {
    "hidden": true
   },
   "outputs": [],
   "source": [
    "fnames_missing"
   ]
  },
  {
   "cell_type": "code",
   "execution_count": null,
   "id": "a78454e2",
   "metadata": {
    "hidden": true
   },
   "outputs": [],
   "source": [
    "fn = '/home/demitau/data_Quentin/full_experiments/data2/sub01_WGPOZPEE/results/spoc_home2_0.05/stable_xgboost_scores_prevmovement_preverrors_errors_prevbelief_gamma.npy'\n",
    "f = np.load(fn)"
   ]
  },
  {
   "cell_type": "code",
   "execution_count": null,
   "id": "7e5f2091",
   "metadata": {
    "hidden": true
   },
   "outputs": [],
   "source": [
    "'sub01_WGPOZPEE spoc_home2_0.05 stable_xgboost_scores_prevmovement_preverrors_errors_prevbelief_gamma.npy',"
   ]
  },
  {
   "cell_type": "code",
   "execution_count": null,
   "id": "44fa82b0",
   "metadata": {
    "hidden": true,
    "run_control": {
     "marked": true
    }
   },
   "outputs": [],
   "source": [
    "f"
   ]
  },
  {
   "cell_type": "code",
   "execution_count": null,
   "id": "eedc2513",
   "metadata": {
    "hidden": true
   },
   "outputs": [],
   "source": [
    "fnames_zero_size"
   ]
  },
  {
   "cell_type": "code",
   "execution_count": null,
   "id": "692e3226",
   "metadata": {
    "hidden": true
   },
   "outputs": [],
   "source": [
    "fname_full"
   ]
  },
  {
   "cell_type": "code",
   "execution_count": null,
   "id": "f4d769a2",
   "metadata": {
    "hidden": true
   },
   "outputs": [],
   "source": [
    "all_scores_stable"
   ]
  },
  {
   "cell_type": "markdown",
   "id": "891d6b13",
   "metadata": {
    "heading_collapsed": true
   },
   "source": [
    "# td_long_fig2"
   ]
  },
  {
   "cell_type": "code",
   "execution_count": null,
   "id": "608c7754",
   "metadata": {
    "hidden": true
   },
   "outputs": [],
   "source": []
  },
  {
   "cell_type": "code",
   "execution_count": null,
   "id": "313070b4",
   "metadata": {
    "hidden": true
   },
   "outputs": [],
   "source": [
    "#"
   ]
  },
  {
   "cell_type": "code",
   "execution_count": null,
   "id": "20f09323",
   "metadata": {
    "hidden": true
   },
   "outputs": [],
   "source": [
    "#for subject in subjects:\n",
    "#for subject in subjects[:1]:\n",
    "script_name = pjoin(scripts_dir,'td_long_fig2.py')\n",
    "ipy.run_line_magic('run', f'-i {script_name}')"
   ]
  },
  {
   "cell_type": "markdown",
   "id": "8567a715",
   "metadata": {
    "heading_collapsed": true
   },
   "source": [
    "# collect plotted and put on one plot"
   ]
  },
  {
   "cell_type": "code",
   "execution_count": null,
   "id": "1d049ae1",
   "metadata": {
    "hidden": true
   },
   "outputs": [],
   "source": [
    "from config2 import path_fig\n",
    "import matplotlib.pyplot as plt\n",
    "from PIL import Image\n",
    "path_fig\n",
    "\n",
    "fsz = 18\n",
    "analysis_name = 'prevmovement_preverrors_errors_prevbelief'\n",
    "# local\n",
    "remote_dir = '/home/demitau/ju_lyon/memerr/'\n",
    "loc_dir    = path_fig\n",
    "\n",
    "save_summary_subdir = f'SPoC2_{analysis_name}'\n",
    "\n",
    "pt2p = {}\n",
    "pt2p['march_Romain'] = f'SPoC2_{analysis_name}_from_Romain'\n",
    "#pt2p['11july_loc'] = f'SPoC2_{analysis_name}' #11 july\n",
    "#remote\n",
    "pt2p['18july_jusuf_seed0'] = r'SPoC2_{}_' + f'{analysis_name}_seed0'\n",
    "pt2p['18july_jusuf_seed1'] = r'SPoC2_{}_' + f'{analysis_name}_seed1'\n",
    "\n",
    "rt = 'Ridge'\n",
    "for decoding_type in ['classic', 'b2b']:\n",
    "#decoding_type = 'classic'\n",
    "#decoding_type = 'b2b'\n",
    "    nc = 5\n",
    "    nr = 6 + 1\n",
    "    ww = 10; hh = 8\n",
    "    fig,axs = plt.subplots(nr,nc,figsize=(nc*ww,nr*hh))\n",
    "    plt.subplots_adjust(left=0.01,right=0.99,top=0.99,bottom=0.01, \n",
    "                        wspace = 0.01,hspace=0.03)\n",
    "\n",
    "    #loc_ind = 0\n",
    "    for col_ind,freq_name in enumerate(['broad', 'theta', 'alpha', 'beta', 'gamma'] ):        \n",
    "        row_ind = 0\n",
    "        for loc,sudbir in pt2p.items():\n",
    "            if loc.find('jusuf') >= 0:\n",
    "                for hpass in ['no_filter', '0.1', '0.05']:\n",
    "                    ax = axs[row_ind,col_ind]\n",
    "                    #output_folder = f'spoc_home2_{hpass}'\n",
    "                    #fig_folder = f'SPoC2_{hpass}_{analysis_name}'                    \n",
    "                    d = op.join(remote_dir, 'output_plots2', sudbir.format(hpass))\n",
    "                    #results_folder = op.join(path_data_cur, subject,'results', output_folder)\n",
    "                    fn = f'{rt}_{analysis_name}_{freq_name}_{decoding_type}.png'\n",
    "                    fn_full = op.join(d,fn)\n",
    "                    if not os.path.exists(fn_full):\n",
    "                        print('no', fn_full)\n",
    "                    else:\n",
    "                        print(fn_full)\n",
    "\n",
    "                    s = fn.replace(analysis_name,'')\n",
    "                    s = s.replace(rt,'')\n",
    "                    s = s.replace('.png','')\n",
    "                    ax.set_title(f'{loc}: {s} {hpass}',fontdict={'fontsize':fsz} )\n",
    "\n",
    "                    im = Image.open(fn_full)\n",
    "                    ax.imshow(im)                                \n",
    "\n",
    "                    row_ind += 1\n",
    "            else:    \n",
    "                ax = axs[row_ind,col_ind]\n",
    "                d = op.join(loc_dir, sudbir)\n",
    "                if loc.find('Romain') >= 0:\n",
    "                    fn = f'{analysis_name}_{freq_name}_{decoding_type}.png'\n",
    "                else:\n",
    "                    fn = f'{rt}_{analysis_name}_{freq_name}_{decoding_type}.png'\n",
    "                fn_full = op.join(d,fn)\n",
    "                if not os.path.exists(fn_full):\n",
    "                    print('no', fn_full)\n",
    "                else:\n",
    "                    print(fn_full)\n",
    "\n",
    "                im = Image.open(fn_full)\n",
    "                ax.imshow(im)\n",
    "                s = fn.replace(analysis_name,'')\n",
    "                s = s.replace(rt,'')\n",
    "                s = s.replace('.png','')\n",
    "                ax.set_title(f'{loc}: {s}',fontdict={'fontsize':fsz})\n",
    "\n",
    "                row_ind += 1\n",
    "\n",
    "                #fname_full = pjoin(results_folder,fn)\n",
    "\n",
    "    plt.savefig(pjoin(loc_dir,save_summary_subdir,f'summary_{decoding_type}.jpg'))\n",
    "    plt.close()\n"
   ]
  },
  {
   "cell_type": "code",
   "execution_count": null,
   "id": "bcf7efb5",
   "metadata": {
    "hidden": true
   },
   "outputs": [],
   "source": []
  }
 ],
 "metadata": {
  "kernelspec": {
   "display_name": "base",
   "language": "python",
   "name": "base"
  },
  "language_info": {
   "codemirror_mode": {
    "name": "ipython",
    "version": 3
   },
   "file_extension": ".py",
   "mimetype": "text/x-python",
   "name": "python",
   "nbconvert_exporter": "python",
   "pygments_lexer": "ipython3",
   "version": "3.8.13"
  }
 },
 "nbformat": 4,
 "nbformat_minor": 5
}
