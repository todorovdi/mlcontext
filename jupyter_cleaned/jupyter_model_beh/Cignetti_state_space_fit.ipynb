{
 "cells": [
  {
   "cell_type": "code",
   "execution_count": null,
   "id": "8b5e7714",
   "metadata": {},
   "outputs": [],
   "source": [
    "%load_ext autoreload\n",
    "%autoreload 2\n",
    "from IPython import get_ipython; ipython = get_ipython()\n",
    "#%run -i ../exec_HPC.py 0\n",
    "import os \n",
    "import sys\n",
    "from os.path import join as pjoin\n",
    "p = pjoin( os.path.expandvars('$CODE_MEMORY_ERRORS'), 'state-space-adaptation' )\n",
    "sys.path.append(p)\n",
    "p2 = pjoin( os.path.expandvars('$CODE_MEMORY_ERRORS'), 'state-space-adaptation','state_space_fit_toolbox' )\n",
    "sys.path.append(p2)\n",
    "import pandas as pd\n",
    "\n",
    "df = pd.read_pickle('/home/demitau/ownCloud/Current/output/memerr/workstation_CRNL/row=trial.pkl.zip')\n",
    "\n",
    "import state_space_Tan2014 as tan\n",
    "from state_space_Tan2014 import *\n",
    "\n",
    "scripts_dir = pjoin(p, 'state_space_fit_toolbox')\n",
    "scr = pjoin(scripts_dir, 'run_example.py')\n",
    "\n",
    "assert not df.duplicated(['subject','trial_index']).any()\n",
    "subjects = df['subject'].unique()\n",
    "\n",
    "dfos = df.query('subject == @subjects[0]')\n",
    "\n",
    "assert 0 == len( dfos.loc[dfos['perturbation'].isna()] )\n",
    "\n",
    "import pyEMtoolbox.emtb as pyEM\n",
    "\n",
    "import pymatreader as pym\n",
    "r = pym.read_mat( pjoin(scripts_dir,'example_behavior.mat') )\n",
    "r.keys()\n",
    "measured_error = r['measured_error']\n",
    "perturb        = r['perturb']"
   ]
  },
  {
   "cell_type": "code",
   "execution_count": null,
   "id": "0b376c59",
   "metadata": {
    "code_folding": []
   },
   "outputs": [],
   "source": [
    "#pivot\n",
    "#%xmode context"
   ]
  },
  {
   "cell_type": "code",
   "execution_count": null,
   "id": "7fa171f9",
   "metadata": {},
   "outputs": [],
   "source": [
    "# # main run\n",
    "# nt = 1000\n",
    "# nsub = 4\n",
    "# subjects_sub = subjects[0:nsub]\n",
    "# numtrain = 12\n",
    "# dfc = df.query('subject in @subjects_sub and trial_index < @nt and trial_index >= @numtrain').copy()\n",
    "# dfc.loc[dfc.query('error_lh2_ang_deg.abs() > 60').index, 'error_lh2_ang_deg'] = np.nan\n",
    "# # TODO: maybe I should invalidate too big errors, they are clearly outliers\n",
    "# coln_error = 'error_lh2_ang_deg'\n",
    "# n_jobs = 10\n",
    "# do_plot = 0"
   ]
  },
  {
   "cell_type": "code",
   "execution_count": null,
   "id": "3b359b88",
   "metadata": {},
   "outputs": [],
   "source": [
    "np.isnan(measured_error).any()"
   ]
  },
  {
   "cell_type": "code",
   "execution_count": null,
   "id": "2a60496d",
   "metadata": {},
   "outputs": [],
   "source": [
    "measured_error.shape, perturb.shape"
   ]
  },
  {
   "cell_type": "code",
   "execution_count": null,
   "id": "68535697",
   "metadata": {},
   "outputs": [],
   "source": [
    "params_init_Diedrischen.shape"
   ]
  },
  {
   "cell_type": "code",
   "execution_count": null,
   "id": "b4320456",
   "metadata": {},
   "outputs": [],
   "source": [
    "params_Diedrischen.shape, params_init_Diedrischen.shape"
   ]
  },
  {
   "cell_type": "code",
   "execution_count": null,
   "id": "3e044649",
   "metadata": {},
   "outputs": [],
   "source": [
    "ipython.run_line_magic('run',' -i ' + scr)"
   ]
  },
  {
   "cell_type": "code",
   "execution_count": null,
   "id": "71f13b6a",
   "metadata": {
    "code_folding": [
     4,
     11,
     24
    ]
   },
   "outputs": [],
   "source": [
    "\n",
    "#measured_error = np.random.uniform(size=(nt,))\n",
    "linalg_error_handling = 'ignore'\n",
    "import traceback\n",
    "try:\n",
    "    # Fit a two-state model with retention factor using stochastic EM approach\n",
    "    # (Albert, 2018) optimizing parameters in log-space\n",
    "    r = state_space_fit(behavior_cursubj, perturb_cursubj,\n",
    "            params_init_Albert, search_space_Albert, 'em', 'log',\n",
    "                        linalg_error_handling = linalg_error_handling)\n",
    "\n",
    "except Exception as e:\n",
    "    #print('EXC',e)\n",
    "    exc_info = sys.exc_info()\n",
    "    exc = traceback.TracebackException(*exc_info, capture_locals=True)\n",
    "    ei = exc_info[2]\n",
    "\n",
    "    #display(ei.tb_frame)\n",
    "    print('\\n'.join( traceback.format_exc().split('\\n')[-9:]) ) \n",
    "    psf = ei\n",
    "    \n",
    "    lfprev,lf = None, None\n",
    "    lfs = []\n",
    "    cofns = []\n",
    "    while psf.tb_frame is not None:\n",
    "        stackframe = psf.tb_frame\n",
    "        cofn = stackframe.f_code.co_filename\n",
    "        #print(cofn)\n",
    "        isco = cofn.find('conda') >= 0\n",
    "        isaf = cofn.find('__array_function__') >= 0\n",
    "        lfprev = lf\n",
    "        lf = stackframe.f_locals\n",
    "        if not (isco or isaf):\n",
    "            display(stackframe)                        \n",
    "            lfs += [lf]\n",
    "            cofns += [cofn]\n",
    "        psf = psf.tb_next    \n",
    "        if psf is None:\n",
    "            break\n",
    "\n",
    "    print('EXC',e)"
   ]
  },
  {
   "cell_type": "code",
   "execution_count": null,
   "id": "795d20d3",
   "metadata": {
    "code_folding": [
     11
    ]
   },
   "outputs": [],
   "source": [
    "#nt = 80\n",
    "#measured_error = np.random.uniform(size=(nt,))\n",
    "linalg_error_handling = 'ignore'\n",
    "import traceback\n",
    "try:\n",
    "    print( params_init_Diedrischen, search_space_Diedrischen )\n",
    "    r = state_space_fit(behavior_cursubj, perturb_cursubj,\n",
    "            params_init_Diedrischen, search_space_Diedrischen,\n",
    "            'lmse', 'norm', linalg_error_handling=linalg_error_handling)\n",
    "    output, params, asymptote, noises_var, states, performances  = r\n",
    "\n",
    "\n",
    "except Exception as e:\n",
    "    #print('EXC',e)\n",
    "    exc_info = sys.exc_info()\n",
    "    exc = traceback.TracebackException(*exc_info, capture_locals=True)\n",
    "    ei = exc_info[2]\n",
    "\n",
    "    #display(ei.tb_frame)\n",
    "    print('\\n'.join( traceback.format_exc().split('\\n')[-6:]) ) \n",
    "    psf = ei\n",
    "    \n",
    "    lfprev,lf = None, None\n",
    "    lfs = []\n",
    "    cofns = []\n",
    "    while psf.tb_frame is not None:\n",
    "        stackframe = psf.tb_frame\n",
    "        cofn = stackframe.f_code.co_filename\n",
    "        #print(cofn)\n",
    "        isco = cofn.find('conda') >= 0\n",
    "        isaf = cofn.find('__array_function__') >= 0\n",
    "        lfprev = lf\n",
    "        lf = stackframe.f_locals\n",
    "        if not (isco or isaf):\n",
    "            display(stackframe)                        \n",
    "            lfs += [lf]\n",
    "            cofns += [cofn]\n",
    "        psf = psf.tb_next    \n",
    "        if psf is None:\n",
    "            break\n",
    "\n",
    "    print('EXC',e)"
   ]
  },
  {
   "cell_type": "code",
   "execution_count": null,
   "id": "379e3f27",
   "metadata": {},
   "outputs": [],
   "source": [
    "lfind = -1\n",
    "lfc  = lfs[lfind]\n",
    "print(cofns[lfind], lfc.keys())"
   ]
  },
  {
   "cell_type": "code",
   "execution_count": null,
   "id": "780d6263",
   "metadata": {},
   "outputs": [],
   "source": [
    "locals().update(lfc)"
   ]
  },
  {
   "cell_type": "code",
   "execution_count": null,
   "id": "ca4607ce",
   "metadata": {},
   "outputs": [],
   "source": [
    " np.mean(perturb)"
   ]
  },
  {
   "cell_type": "code",
   "execution_count": null,
   "id": "7a4faddd",
   "metadata": {},
   "outputs": [],
   "source": [
    "b[:, np.newaxis]"
   ]
  },
  {
   "cell_type": "code",
   "execution_count": null,
   "id": "846f603e",
   "metadata": {},
   "outputs": [],
   "source": [
    "b[:, np.newaxis] @ np.mean(perturb)"
   ]
  },
  {
   "cell_type": "code",
   "execution_count": null,
   "id": "565f6066",
   "metadata": {},
   "outputs": [],
   "source": [
    "params_search_ranges[:, 0::2].flatten(), params_search_ranges[:, 1::2].flatten()"
   ]
  },
  {
   "cell_type": "code",
   "execution_count": null,
   "id": "a5934724",
   "metadata": {},
   "outputs": [],
   "source": [
    "[0.0001, 10000], [0.0001, 10000], [0.0000001, 10]"
   ]
  },
  {
   "cell_type": "code",
   "execution_count": null,
   "id": "37457751",
   "metadata": {},
   "outputs": [],
   "source": [
    "bds0 = np.vstack((params_search_ranges[:, [0, 2, 4]].flatten(), \n",
    "                 params_search_ranges[:, [1, 3, 5]].flatten() ) ).T\n",
    "bds_add = np.array([[0.0001, 10000], [0.0001, 10000], [0.0000001, 10]])\n",
    "print(bds0.shape, bds_add.shape)\n",
    "#print(bds.T.shape)\n",
    "bds = np.vstack([bds0,bds_add])\n",
    "print(bds.shape)"
   ]
  },
  {
   "cell_type": "code",
   "execution_count": null,
   "id": "ec87e9ee",
   "metadata": {},
   "outputs": [],
   "source": [
    "#bds should be nparamx x 2"
   ]
  },
  {
   "cell_type": "code",
   "execution_count": null,
   "id": "e194f518",
   "metadata": {},
   "outputs": [],
   "source": [
    "bds = list(zip(*bds.T))"
   ]
  },
  {
   "cell_type": "code",
   "execution_count": null,
   "id": "f0b28673",
   "metadata": {},
   "outputs": [],
   "source": [
    "b_con, b_con.shape"
   ]
  },
  {
   "cell_type": "code",
   "execution_count": null,
   "id": "b654bb06",
   "metadata": {},
   "outputs": [],
   "source": [
    "A_con.shape[0:1], A_con.shape"
   ]
  },
  {
   "cell_type": "code",
   "execution_count": null,
   "id": "89ac0113",
   "metadata": {},
   "outputs": [],
   "source": [
    "np.broadcast_to?"
   ]
  },
  {
   "cell_type": "code",
   "execution_count": null,
   "id": "292fec36",
   "metadata": {},
   "outputs": [],
   "source": [
    "np.broadcast_to(b_con, (2,))"
   ]
  },
  {
   "cell_type": "code",
   "execution_count": null,
   "id": "3d9e09e4",
   "metadata": {},
   "outputs": [],
   "source": [
    "from scipy.optimize import LinearConstraint\n",
    "LinearConstraint(A_con, b_con, b_con)"
   ]
  },
  {
   "cell_type": "code",
   "execution_count": null,
   "id": "927bb10d",
   "metadata": {},
   "outputs": [],
   "source": [
    "from pyEMtoolbox.emtb import generalized_expectation_maximization\n",
    "#%debug\n",
    "S_opt, likelihoods = generalized_expectation_maximization(\n",
    "    np.hstack((params_init.flatten(), 2, 2, 5)),  # Initial guess\n",
    "    behavior, perturb, np.zeros(len(behavior)), \n",
    "    np.nan * np.ones(len(behavior)), np.ones(nbStates),  # Paradigm\n",
    "    bds,  # Search-space\n",
    "    A_con, b_con[:,0],  # constraints\n",
    "    100, 0, search_method)\n"
   ]
  },
  {
   "cell_type": "code",
   "execution_count": null,
   "id": "f4bc0e21",
   "metadata": {},
   "outputs": [],
   "source": [
    "S_opt"
   ]
  },
  {
   "cell_type": "code",
   "execution_count": null,
   "id": "c4d5a9a5",
   "metadata": {},
   "outputs": [],
   "source": [
    "output_Diedrischen[:,s] = r[0]"
   ]
  },
  {
   "cell_type": "code",
   "execution_count": null,
   "id": "632d3ea1",
   "metadata": {},
   "outputs": [],
   "source": [
    "params_Diedrischen.shape"
   ]
  },
  {
   "cell_type": "code",
   "execution_count": null,
   "id": "b3bb9841",
   "metadata": {},
   "outputs": [],
   "source": [
    "r[1].shape"
   ]
  },
  {
   "cell_type": "code",
   "execution_count": null,
   "id": "dd49f2f3",
   "metadata": {},
   "outputs": [],
   "source": [
    "r[3].shape"
   ]
  },
  {
   "cell_type": "code",
   "execution_count": null,
   "id": "16d267c8",
   "metadata": {},
   "outputs": [],
   "source": [
    "params_Diedrischen[:,s] = r[1]"
   ]
  },
  {
   "cell_type": "code",
   "execution_count": null,
   "id": "c25389af",
   "metadata": {},
   "outputs": [],
   "source": [
    "    (output_Diedrischen[:,s], params_Diedrischen[:,s],\n",
    "     asymptote_Diedrischen[s], noise_Diedrischen[s], _,\n",
    "     perf_Diedrischen[:,s]) = ra\n",
    "    \n"
   ]
  },
  {
   "cell_type": "code",
   "execution_count": null,
   "id": "182280d8",
   "metadata": {},
   "outputs": [],
   "source": [
    "r"
   ]
  },
  {
   "cell_type": "code",
   "execution_count": null,
   "id": "e56f78e3",
   "metadata": {},
   "outputs": [],
   "source": [
    "# @ in python means matrix multiply"
   ]
  },
  {
   "cell_type": "code",
   "execution_count": null,
   "id": "40d2ddf8",
   "metadata": {},
   "outputs": [],
   "source": [
    "nbStates,2*nbStates"
   ]
  },
  {
   "cell_type": "code",
   "execution_count": null,
   "id": "93e79124",
   "metadata": {},
   "outputs": [],
   "source": [
    "S_opt"
   ]
  },
  {
   "cell_type": "code",
   "execution_count": null,
   "id": "722f62fe",
   "metadata": {},
   "outputs": [],
   "source": [
    "search_method"
   ]
  },
  {
   "cell_type": "code",
   "execution_count": null,
   "id": "d11d9a1c",
   "metadata": {},
   "outputs": [],
   "source": [
    "np.diag(A), b #- b[:, np.newaxis]"
   ]
  },
  {
   "cell_type": "code",
   "execution_count": null,
   "id": "d2fefb52",
   "metadata": {},
   "outputs": [],
   "source": [
    "AAarg = np.eye(nbStates) -\\\n",
    "        (np.diag(A) - b[:, np.newaxis] @ \\\n",
    "         np.ones((1, nbStates)))\n",
    "print(AAarg)\n",
    "AA = np.linalg.inv(AAarg)"
   ]
  },
  {
   "cell_type": "code",
   "execution_count": null,
   "id": "03507eeb",
   "metadata": {},
   "outputs": [],
   "source": [
    "from scipy.linalg import LinAlgError as lae"
   ]
  },
  {
   "cell_type": "code",
   "execution_count": null,
   "id": "c296f98a",
   "metadata": {},
   "outputs": [],
   "source": [
    "    asymptote = np.ones((1, nbStates)) @ AA @ (b[:, np.newaxis] @ np.mean(perturb))\n",
    "    params = np.vstack((A, b, x0))\n"
   ]
  },
  {
   "cell_type": "code",
   "execution_count": null,
   "id": "c0d14734",
   "metadata": {},
   "outputs": [],
   "source": [
    "nbStates"
   ]
  },
  {
   "cell_type": "code",
   "execution_count": null,
   "id": "6630e129",
   "metadata": {},
   "outputs": [],
   "source": [
    "params_search_ranges"
   ]
  },
  {
   "cell_type": "code",
   "execution_count": null,
   "id": "cd39bf57",
   "metadata": {},
   "outputs": [],
   "source": [
    "params_init"
   ]
  },
  {
   "cell_type": "code",
   "execution_count": null,
   "id": "b32613d5",
   "metadata": {},
   "outputs": [],
   "source": [
    "params init shape defines num states"
   ]
  },
  {
   "cell_type": "code",
   "execution_count": null,
   "id": "a4879ac7",
   "metadata": {},
   "outputs": [],
   "source": [
    "params_search_ranges.shape"
   ]
  },
  {
   "cell_type": "code",
   "execution_count": null,
   "id": "c16657d8",
   "metadata": {},
   "outputs": [],
   "source": [
    "bds"
   ]
  },
  {
   "cell_type": "code",
   "execution_count": null,
   "id": "827a1071",
   "metadata": {},
   "outputs": [],
   "source": [
    "params_search_ranges.shape"
   ]
  },
  {
   "cell_type": "code",
   "execution_count": null,
   "id": "b98eb51c",
   "metadata": {},
   "outputs": [],
   "source": [
    "params_search_ranges[0,::2]"
   ]
  },
  {
   "cell_type": "code",
   "execution_count": null,
   "id": "7f4ff763",
   "metadata": {},
   "outputs": [],
   "source": [
    "print(params_init.flatten())\n",
    "bds = list(zip(params_search_ranges[0, ::2],\n",
    "                    params_search_ranges[0, ::2]))\n",
    "print('bds = ',bds)\n",
    "res = minimize(deterministic_ss_mse, params_init.flatten(),\n",
    "    args=(perturb, behavior, search_method),\n",
    "    bounds=bds)\n"
   ]
  },
  {
   "cell_type": "code",
   "execution_count": null,
   "id": "0cede72e",
   "metadata": {},
   "outputs": [],
   "source": [
    "traceback.format_exc()"
   ]
  },
  {
   "cell_type": "code",
   "execution_count": null,
   "id": "e4826026",
   "metadata": {},
   "outputs": [],
   "source": [
    "stackframe.f_code."
   ]
  },
  {
   "cell_type": "code",
   "execution_count": null,
   "id": "c114c644",
   "metadata": {},
   "outputs": [],
   "source": [
    "print(params_init.flatten())\n",
    "print(list(zip(params_search_ranges[:, 0],\n",
    "                    params_search_ranges[:, 1])) )\n",
    "res = minimize(deterministic_ss_mse, params_init.flatten(),\n",
    "    args=(perturb, behavior, search_method),\n",
    "    bounds=list(zip(params_search_ranges[:, 0],\n",
    "                    params_search_ranges[:, 1])))\n"
   ]
  },
  {
   "cell_type": "code",
   "execution_count": null,
   "id": "ca241ea7",
   "metadata": {},
   "outputs": [],
   "source": []
  },
  {
   "cell_type": "code",
   "execution_count": null,
   "id": "f6007e80",
   "metadata": {},
   "outputs": [],
   "source": []
  },
  {
   "cell_type": "code",
   "execution_count": null,
   "id": "e6af67dc",
   "metadata": {},
   "outputs": [],
   "source": []
  },
  {
   "cell_type": "code",
   "execution_count": null,
   "id": "56bde276",
   "metadata": {
    "code_folding": [
     0
    ]
   },
   "outputs": [],
   "source": [
    "for subj in subj2out_Tan:\n",
    "    error = dfc.query('subject == @subj')[coln_error].to_numpy()\n",
    "    perturb = dfc.query('subject == @subj')['perturbation'].to_numpy()    \n",
    "    out = subj2out_Tan[subj ]\n",
    "    adaptationRate_Tan = out['adaptation_rate']\n",
    "    output_Tan = out['y_pred']\n",
    "    plt.figure(figsize=(15,3)) # Use matplotlib.pyplot to plot figures\n",
    "    plt.title('Subject ' + s) # Use string concatenation to make titles\n",
    "    plt.plot(error, linewidth=2, label='Observed error') # Use label argument to add legends\n",
    "    plt.plot(output_Tan, linewidth=2, label='Model prediction',alpha=0.8)\n",
    "    plt.ylabel('Angle (°)')\n",
    "    plt.xlabel('Trials')\n",
    "    plt.plot(perturb, label='pert', color='red', ls=':')\n",
    "    plt.legend() # Call legend function to show legends\n",
    "    #plt.twinx() # Use twinx function to create a second y-axis\n",
    "    plt.plot(30 + 50*adaptationRate_Tan, linewidth=1, label='Adaptation rate', color='green') # Use color argument to change the line color\n",
    "    plt.legend() # Call legend function to show legends\n",
    "    plt.ylim(-40,60)\n",
    "    plt.grid(True)\n",
    "    plt.show() # Call show function to display the figure\n"
   ]
  },
  {
   "cell_type": "code",
   "execution_count": null,
   "id": "785be807",
   "metadata": {},
   "outputs": [],
   "source": [
    "for subj in subj2out_Tan: \n",
    "    print('     ',subj)\n",
    "    for k,v in subj2out_Tan[subj ].items():\n",
    "        if not isinstance(v,np.ndarray):\n",
    "            if isinstance(v,dict):\n",
    "                print(k); display(v)\n",
    "            else:\n",
    "                print(k,v)"
   ]
  },
  {
   "cell_type": "code",
   "execution_count": null,
   "id": "f42f848b",
   "metadata": {},
   "outputs": [],
   "source": []
  }
 ],
 "metadata": {
  "kernelspec": {
   "display_name": "merr",
   "language": "python",
   "name": "merr"
  },
  "language_info": {
   "codemirror_mode": {
    "name": "ipython",
    "version": 3
   },
   "file_extension": ".py",
   "mimetype": "text/x-python",
   "name": "python",
   "nbconvert_exporter": "python",
   "pygments_lexer": "ipython3",
   "version": "3.8.15"
  }
 },
 "nbformat": 4,
 "nbformat_minor": 5
}
