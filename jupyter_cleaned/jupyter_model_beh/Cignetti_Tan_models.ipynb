{
 "cells": [
  {
   "cell_type": "code",
   "execution_count": null,
   "id": "76fb2c75",
   "metadata": {},
   "outputs": [],
   "source": [
    "%load_ext autoreload\n",
    "%autoreload 2\n",
    "from IPython import get_ipython; ipython = get_ipython()\n",
    "#%run -i ../exec_HPC.py 0\n",
    "import os \n",
    "import sys\n",
    "from os.path import join as pjoin\n",
    "p = pjoin( os.path.expandvars('$CODE_MEMORY_ERRORS'), 'state-space-adaptation' )\n",
    "sys.path.append(p)\n",
    "import pandas as pd\n",
    "\n",
    "df = pd.read_pickle('/home/demitau/ownCloud/Current/output/memerr/workstation_CRNL/row=trial.pkl.zip')\n",
    "\n",
    "import state_space_Tan2014 as tan\n",
    "from state_space_Tan2014 import *\n",
    "\n",
    "scripts_dir = pjoin(p, 'state_space_Tan2014')\n",
    "scr = pjoin(scripts_dir, 'run_example.py')\n",
    "\n",
    "assert not df.duplicated(['subject','trial_index']).any()\n",
    "\n",
    "# pivot = df.pivot(index='trial_index', columns='subject', values='error_lh2_ang')\n",
    "\n",
    "# pivot2 = df.pivot(index='trial_index', columns='subject', values='perturbation')\n",
    "# # convert the pivot table to a numpy array\n",
    "\n",
    "# measured_error = pivot.to_numpy()\n",
    "# perturb = pivot2.to_numpy()\n",
    "subjects = df['subject'].unique()\n",
    "\n",
    "\n",
    "# perturb = perturb[:nt,:nsub]\n",
    "# measured_error = measured_error[:nt,:nsub]\n",
    "\n",
    "# print(measured_error.shape)\n"
   ]
  },
  {
   "cell_type": "code",
   "execution_count": null,
   "id": "c01b6833",
   "metadata": {},
   "outputs": [],
   "source": [
    "dfos = df.query('subject == @subjects[0]')"
   ]
  },
  {
   "cell_type": "code",
   "execution_count": null,
   "id": "cdaa5522",
   "metadata": {},
   "outputs": [],
   "source": [
    "dfos.loc[dfos['perturbation'].isna()]"
   ]
  },
  {
   "cell_type": "code",
   "execution_count": null,
   "id": "49d6f8b3",
   "metadata": {},
   "outputs": [],
   "source": [
    "df.columns"
   ]
  },
  {
   "cell_type": "code",
   "execution_count": null,
   "id": "6aad1f7f",
   "metadata": {},
   "outputs": [],
   "source": [
    "# ToDo make trial num depend subject"
   ]
  },
  {
   "cell_type": "code",
   "execution_count": null,
   "id": "d560711f",
   "metadata": {
    "code_folding": []
   },
   "outputs": [],
   "source": [
    "#pivot\n",
    "%xmode context"
   ]
  },
  {
   "cell_type": "code",
   "execution_count": null,
   "id": "e21e09b7",
   "metadata": {},
   "outputs": [],
   "source": [
    "#measured_error"
   ]
  },
  {
   "cell_type": "code",
   "execution_count": null,
   "id": "61bdb5ff",
   "metadata": {},
   "outputs": [],
   "source": [
    "np.isnan(measured_error).any()"
   ]
  },
  {
   "cell_type": "code",
   "execution_count": null,
   "id": "689ccd69",
   "metadata": {},
   "outputs": [],
   "source": [
    "#df['error_lh2_ang_deg']"
   ]
  },
  {
   "cell_type": "code",
   "execution_count": null,
   "id": "26fd7a67",
   "metadata": {},
   "outputs": [],
   "source": [
    "#perturb"
   ]
  },
  {
   "cell_type": "code",
   "execution_count": null,
   "id": "ad576189",
   "metadata": {},
   "outputs": [],
   "source": [
    "# main run\n",
    "nt = 1000\n",
    "nsub = 4\n",
    "subjects_sub = subjects[0:nsub]\n",
    "numtrain = 12\n",
    "dfc = df.query('subject in @subjects_sub and trial_index < @nt and trial_index >= @numtrain').copy()\n",
    "dfc.loc[dfc.query('error_lh2_ang_deg.abs() > 60').index, 'error_lh2_ang_deg'] = np.nan\n",
    "# TODO: maybe I should invalidate too big errors, they are clearly outliers\n",
    "coln_error = 'error_lh2_ang_deg'\n",
    "n_jobs = 10\n",
    "do_plot = 0\n",
    "ipython.run_line_magic('run',' -i ' + scr)"
   ]
  },
  {
   "cell_type": "code",
   "execution_count": null,
   "id": "3eaf1d3a",
   "metadata": {},
   "outputs": [],
   "source": [
    "for subj in subj2out_Tan:\n",
    "    error = dfc.query('subject == @subj')[coln_error].to_numpy()\n",
    "    perturb = dfc.query('subject == @subj')['perturbation'].to_numpy()    \n",
    "    out = subj2out_Tan[subj ]\n",
    "    adaptationRate_Tan = out['adaptation_rate']\n",
    "    output_Tan = out['y_pred']\n",
    "    plt.figure(figsize=(15,3)) # Use matplotlib.pyplot to plot figures\n",
    "    plt.title('Subject ' + s) # Use string concatenation to make titles\n",
    "    plt.plot(error, linewidth=2, label='Observed error') # Use label argument to add legends\n",
    "    plt.plot(output_Tan, linewidth=2, label='Model prediction',alpha=0.8)\n",
    "    plt.ylabel('Angle (°)')\n",
    "    plt.xlabel('Trials')\n",
    "    plt.plot(perturb, label='pert', color='red', ls=':')\n",
    "    plt.legend() # Call legend function to show legends\n",
    "    #plt.twinx() # Use twinx function to create a second y-axis\n",
    "    plt.plot(30 + 50*adaptationRate_Tan, linewidth=1, label='Adaptation rate', color='green') # Use color argument to change the line color\n",
    "    plt.legend() # Call legend function to show legends\n",
    "    plt.ylim(-40,60)\n",
    "    plt.grid(True)\n",
    "    plt.show() # Call show function to display the figure\n"
   ]
  },
  {
   "cell_type": "code",
   "execution_count": null,
   "id": "6d24eb22",
   "metadata": {},
   "outputs": [],
   "source": [
    "for subj in subj2out_Tan: \n",
    "    print('     ',subj)\n",
    "    for k,v in subj2out_Tan[subj ].items():\n",
    "        if not isinstance(v,np.ndarray):\n",
    "            if isinstance(v,dict):\n",
    "                print(k); display(v)\n",
    "            else:\n",
    "                print(k,v)"
   ]
  },
  {
   "cell_type": "code",
   "execution_count": null,
   "id": "c76ef75a",
   "metadata": {},
   "outputs": [],
   "source": []
  }
 ],
 "metadata": {
  "kernelspec": {
   "display_name": "merr",
   "language": "python",
   "name": "merr"
  },
  "language_info": {
   "codemirror_mode": {
    "name": "ipython",
    "version": 3
   },
   "file_extension": ".py",
   "mimetype": "text/x-python",
   "name": "python",
   "nbconvert_exporter": "python",
   "pygments_lexer": "ipython3",
   "version": "3.8.15"
  }
 },
 "nbformat": 4,
 "nbformat_minor": 5
}
