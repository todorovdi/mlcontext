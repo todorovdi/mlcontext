{
 "cells": [
  {
   "cell_type": "code",
   "execution_count": null,
   "id": "41241b91",
   "metadata": {},
   "outputs": [],
   "source": [
    "%load_ext autoreload\n",
    "%autoreload 2\n",
    "from IPython import get_ipython; ipython = get_ipython()\n",
    "#%run -i ../exec_HPC.py 0\n",
    "import os \n",
    "import sys\n",
    "from os.path import join as pjoin\n",
    "p = pjoin( os.path.expandvars('$CODE_MEMORY_ERRORS'), 'state-space-adaptation' )\n",
    "sys.path.append(p)\n",
    "sys.path.append(os.path.expandvars('$CODE_MEMORY_ERRORS'))\n",
    "import pandas as pd\n",
    "import time\n",
    "import numpy as np\n",
    "from config2 import path_data\n",
    "import matplotlib.pyplot as plt\n",
    "\n",
    "import state_space_Tan2014 as tan\n",
    "from state_space_Tan2014 import *\n",
    "import matplotlib.pyplot as plt\n",
    "\n",
    "#df = pd.read_pickle('/home/demitau/ownCloud/Current/output/memerr/workstation_CRNL/row=trial.pkl.zip')\n",
    "\n",
    "d = '/home/demitau/data_Quentin/full_experiments/context_change_behav/'\n",
    "#fnb = 'dima_test_context_change_20230309_164851'\n",
    "#fnb = '2023-SE1-pilot2_context_change_20230310_161928'\n",
    "fnb = '2023-SE1-017_context_change_20230425_161049'\n",
    "fn = fnb + '.log'\n",
    "fnp = fnb + '.param'\n",
    "fnf_dfcc = pjoin(d,'row=trial.pkl.zip')\n",
    "dfcc_all     = pd.read_pickle(fnf_dfcc)      \n",
    "dfcpc_all    = pd.read_pickle(pjoin(d,'row=pause.pkl.zip'))\n",
    "\n",
    "scripts_dir = pjoin(p, 'state_space_Tan2014')\n",
    "scr = pjoin(scripts_dir, 'run_example.py')\n",
    "\n",
    "assert not dfcc_all.duplicated(['subject','trial_index']).any()\n",
    "subjects = dfcc_all['subject'].unique()\n",
    "\n",
    "\n",
    "fnf_NIH = pjoin(path_data,'df_all_multi_tsz.pkl.zip')\n",
    "import datetime\n",
    "print('NIH dataset mtime = ', datetime.datetime.fromtimestamp(os.path.getmtime(fnf_NIH)) )\n",
    "dfcc_all_NIH_ = pd.read_pickle(fnf_NIH)\n",
    "dfcc_all_NIH = dfcc_all_NIH_.query('trial_shift_size == 1 and trial_group_col_calc == \"trials\"').copy()\n",
    "assert not dfcc_all_NIH.duplicated(['subject','trials']).any()\n",
    "\n",
    "subjects_NIH = dfcc_all_NIH['subject'].unique()\n",
    "\n",
    "# # main run\n",
    "# nt = 1000\n",
    "# nsub = 4\n",
    "# subjects_sub = subjects[0:nsub]\n",
    "# numtrain = 12\n",
    "# dfc = df.query('subject in @subjects_sub and trial_index < @nt and trial_index >= @numtrain').copy()\n",
    "# dfc.loc[dfc.query('error_lh2_ang_deg.abs() > 60').index, 'error_lh2_ang_deg'] = np.nan\n",
    "# # TODO: maybe I should invalidate too big errors, they are clearly outliers\n",
    "n_jobs = 8\n",
    "numtrain = 12\n",
    "# do_plot = 0\n",
    "# #ipython.run_line_magic('run',' -i ' + scr)\n",
    "\n",
    "#from taumodels.models import fitTanModel\n",
    "inds = dfcc_all_NIH.query('environment == 1').index\n",
    "dfcc_all_NIH.loc[inds,'perturbation'] = dfcc_all_NIH.loc[inds,'feedback'] - dfcc_all_NIH.loc[inds,'org_feedback']\n",
    "dfcc_all_NIH.loc[inds,'perturbation'] *= 180 / np.pi\n",
    "#[]\n",
    "dfcc_all_NIH['trial_index'] = dfcc_all_NIH['trials']"
   ]
  },
  {
   "cell_type": "code",
   "execution_count": null,
   "id": "e7c81aee",
   "metadata": {},
   "outputs": [],
   "source": [
    "datetime.datetime.fromtimestamp(os.path.getmtime(fnf_NIH)).month"
   ]
  },
  {
   "cell_type": "code",
   "execution_count": null,
   "id": "075c693a",
   "metadata": {},
   "outputs": [],
   "source": [
    "dfcc_all_NIH.groupby('subject')['trial_index'].diff().min()"
   ]
  },
  {
   "cell_type": "code",
   "execution_count": null,
   "id": "960cfef9",
   "metadata": {},
   "outputs": [],
   "source": [
    "from behav_proc import addWindowCols\n",
    "dfcc_all_NIH = addWindowCols(dfcc_all_NIH)\n",
    "\n",
    "def f(df):\n",
    "    df['error_prod'] = df['error'] * df['error'].shift(1)\n",
    "    return df\n",
    "dfcc_all_NIH = dfcc_all_NIH.groupby(['subject'],group_keys=False).apply(f)\n",
    "dfcc_all_NIH['prev_error_prod'] = dfcc_all_NIH.groupby(['subject'])['error_prod'].shift(1)\n"
   ]
  },
  {
   "cell_type": "code",
   "execution_count": null,
   "id": "9d0ab64b",
   "metadata": {},
   "outputs": [],
   "source": [
    "dfcc_all_NIH['err_sens']"
   ]
  },
  {
   "cell_type": "code",
   "execution_count": null,
   "id": "75505802",
   "metadata": {},
   "outputs": [],
   "source": [
    "coln_error = 'error_lh2_ang_deg'"
   ]
  },
  {
   "cell_type": "code",
   "execution_count": null,
   "id": "cae6b236",
   "metadata": {},
   "outputs": [],
   "source": [
    "path_data_cc = '/home/demitau/data_Quentin/full_experiments/context_change_behav/results'"
   ]
  },
  {
   "cell_type": "code",
   "execution_count": null,
   "id": "533e6f13",
   "metadata": {},
   "outputs": [],
   "source": [
    "fnf = pjoin(path_data_cc,'dfnamesubj2res_Tan.npz')\n",
    "dfnamesubj2res_Tan = np.load(fnf, allow_pickle=1)\n",
    "dfnamesubj2res_Tan = dfnamesubj2res_Tan['arr_0'][()]\n",
    "print(len(dfnamesubj2res_Tan))"
   ]
  },
  {
   "cell_type": "code",
   "execution_count": null,
   "id": "144eb430",
   "metadata": {},
   "outputs": [],
   "source": [
    "fnf = pjoin(path_data_cc,'dfnamesubj2res_Died.npz')\n",
    "dfnamesubj2res_Died = np.load(fnf, allow_pickle=1)\n",
    "dfnamesubj2res_Died = dfnamesubj2res_Died['arr_0'][()]"
   ]
  },
  {
   "cell_type": "code",
   "execution_count": null,
   "id": "bf070611",
   "metadata": {},
   "outputs": [],
   "source": [
    "fnf = pjoin(path_data_cc,'dfnamesubj2res_Died_fboffl.npz')\n",
    "dfnamesubj2res_Died_fboffl = np.load(fnf, allow_pickle=1)\n",
    "dfnamesubj2res_Died_fboffl = dfnamesubj2res_Died_fboffl['arr_0'][()]"
   ]
  },
  {
   "cell_type": "code",
   "execution_count": null,
   "id": "bfb68713",
   "metadata": {},
   "outputs": [],
   "source": [
    "fnf = pjoin(path_data_cc,'dfnamesubj2res_Herz.npz')\n",
    "dfnamesubj2res_Herz = np.load(fnf, allow_pickle=1)\n",
    "dfnamesubj2res_Herz = dfnamesubj2res_Herz['arr_0'][()]"
   ]
  },
  {
   "cell_type": "code",
   "execution_count": null,
   "id": "e8d535af",
   "metadata": {},
   "outputs": [],
   "source": [
    "def getTanModelNte(s):\n",
    "    p = dfnamesubj2res_Tan[('NIH',s)]['params']\n",
    "    return p['NbPreviousTrials'], p['c']\n",
    "ntes, cs = [getTanModelNte(s)[0] for s in subjects_NIH], [getTanModelNte(s)[1] for s in subjects_NIH]"
   ]
  },
  {
   "cell_type": "code",
   "execution_count": null,
   "id": "37ba6c1c",
   "metadata": {},
   "outputs": [],
   "source": [
    "#getTanModelNte(subjects_NIH[5])"
   ]
  },
  {
   "cell_type": "code",
   "execution_count": null,
   "id": "db84b8ce",
   "metadata": {},
   "outputs": [],
   "source": [
    "dfmc = pd.DataFrame({'Nt':ntes,'C':cs})\n",
    "dfmc.describe().T"
   ]
  },
  {
   "cell_type": "code",
   "execution_count": null,
   "id": "255e39e2",
   "metadata": {},
   "outputs": [],
   "source": [
    "np.mean(  ntes), np.std(  ntes), np.mean(  cs), np.std(  cs)"
   ]
  },
  {
   "cell_type": "code",
   "execution_count": null,
   "id": "5a19c875",
   "metadata": {},
   "outputs": [],
   "source": [
    "dfnamesubj2res_Died_fboffl.keys()"
   ]
  },
  {
   "cell_type": "code",
   "execution_count": null,
   "id": "13d22efb",
   "metadata": {},
   "outputs": [],
   "source": [
    "fnf = pjoin(path_data_cc,'dfnamesubj2res_Died.npz')\n",
    "dfnamesubj2res_Died = np.load(fnf, allow_pickle=1)\n",
    "dfnamesubj2res_Died = dfnamesubj2res_Died['arr_0'][()]"
   ]
  },
  {
   "cell_type": "code",
   "execution_count": null,
   "id": "4c1ba6a7",
   "metadata": {},
   "outputs": [],
   "source": [
    "# Died\n",
    "dfs = []\n",
    "plot0 = 1\n",
    "for (dfn,subj),out in dfnamesubj2res_Died.items():\n",
    "    if dfn == 'NIH':\n",
    "        dfos = dfcc_all_NIH.query('subject == @subj')\n",
    "        coln_error_ = 'error'\n",
    "        error   = dfos[coln_error_].to_numpy() * 180 / np.pi\n",
    "        trial_index = dfos['trials']\n",
    "        dfcur = dfcc_all_NIH        \n",
    "    else:\n",
    "        dfos = dfcc_all.query('subject == @subj  and trial_index >= @numtrain')\n",
    "        coln_error_ = coln_error\n",
    "        error   = dfos[coln_error_].to_numpy() \n",
    "        trial_index = dfos['trial_index']\n",
    "        dfcur = dfcc_all\n",
    "    #for out in out_cursubj:\n",
    "#for out in [outT, outD]:\n",
    "        \n",
    "    perturb = dfos['perturbation'].to_numpy()    \n",
    "    #out = subj2out_Tan[subj ]        \n",
    "    if 'adaptation_rate' in out:\n",
    "        adaptationRate = out['adaptation_rate']\n",
    "        output = out['y_pred']\n",
    "                \n",
    "        adaptationRate2 = out['adaptation_rate']\n",
    "        output2 = out['y_pred']\n",
    "    else:\n",
    "        adaptationRate = None\n",
    "        out2 = dfnamesubj2res_Died_fboffl[(dfn,subj)]\n",
    "        output = out['output']\n",
    "        output2 = out2['output']\n",
    "\n",
    "    dfcur.loc[dfos.index, 'error_pred_Died'] = -output+perturb\n",
    "    dfcur.loc[dfos.index, 'state_Died'] = out['states']\n",
    "    #dfcur.loc[dfos.index, 'err_sens_Tan'] = err_sens2\n",
    "    \n",
    "#     df = pd.DataFrame({'error':error, \n",
    "#                        'error_pred':output,\n",
    "#                       'pert':perturb,\n",
    "#                        'err_sens':adaptationRate,\n",
    "#                       'trial_index':trial_index})\n",
    "#     df['subject'] = subj\n",
    "#     df['dfname'] = dfn\n",
    "#     df['model'] = 'Diedrichsen'\n",
    "#     dfs += [df]\n",
    "    \n",
    "    if plot0:\n",
    "        plt.figure(figsize=(15,3)) # Use matplotlib.pyplot to plot figures\n",
    "        plt.title('Subject ' + dfos['subject'].values[0]) # Use string concatenation to make titles\n",
    "        plt.plot(error, linewidth=2, label='Observed error') # Use label argument to add legends\n",
    "        plt.plot(-output+perturb, \n",
    "                 linewidth=2, label='Model prediction',alpha=0.8)\n",
    "        #plt.plot( -output2+perturb, \n",
    "        #         linewidth=2, label='mp_fboffl',alpha=0.8)\n",
    "\n",
    "        plt.ylabel('Angle (°)')\n",
    "        plt.xlabel('Trials')\n",
    "        plt.plot(perturb, label='pert', color='red', ls=':')\n",
    "        plt.legend() # Call legend function to show legends\n",
    "        #plt.twinx() # Use twinx function to create a second y-axis\n",
    "        if adaptationRate is not None:\n",
    "            plt.plot(30 + 50*adaptationRate, linewidth=1, label='Adaptation rate', color='green')            \n",
    "            #plt.plot(30 + 50*adaptationRate2, linewidth=1, label='Adaptation rate', color='darkgreen')            \n",
    "            plt.legend() # Call legend function to show legends\n",
    "        plt.ylim(-40,60)\n",
    "        plt.grid(True)\n",
    "        plt.show() # Call show function to display the figure\n",
    "    #break\n",
    "    "
   ]
  },
  {
   "cell_type": "code",
   "execution_count": null,
   "id": "a9c1aad9",
   "metadata": {},
   "outputs": [],
   "source": [
    "np.max(output)"
   ]
  },
  {
   "cell_type": "code",
   "execution_count": null,
   "id": "a091bce8",
   "metadata": {},
   "outputs": [],
   "source": [
    "np.std(output - output2) / np.mean(np.abs(output) )"
   ]
  },
  {
   "cell_type": "code",
   "execution_count": null,
   "id": "2706c3f7",
   "metadata": {},
   "outputs": [],
   "source": [
    "dfr_D=  pd.concat(dfs).reset_index()"
   ]
  },
  {
   "cell_type": "code",
   "execution_count": null,
   "id": "edb3ebaa",
   "metadata": {},
   "outputs": [],
   "source": [
    "len(output), len(error)"
   ]
  },
  {
   "cell_type": "code",
   "execution_count": null,
   "id": "e1eb2b8a",
   "metadata": {},
   "outputs": [],
   "source": [
    "from matplotlib import pyplot as plt"
   ]
  },
  {
   "cell_type": "code",
   "execution_count": null,
   "id": "2c017901",
   "metadata": {},
   "outputs": [],
   "source": [
    "numtrain = 12"
   ]
  },
  {
   "cell_type": "code",
   "execution_count": null,
   "id": "3b7a3429",
   "metadata": {
    "code_folding": []
   },
   "outputs": [],
   "source": [
    "# Tan\n",
    "#dfs = []\n",
    "plot0 = 1\n",
    "for (dfn,subj),out in dfnamesubj2res_Tan.items():\n",
    "    if dfn == 'NIH':\n",
    "        dfcur = dfcc_all_NIH\n",
    "        dfos = dfcc_all_NIH.query('subject == @subj')\n",
    "        coln_error_ = 'error'\n",
    "        error   = dfos[coln_error_].to_numpy() * 180 / np.pi\n",
    "        trial_index = dfos['trials']\n",
    "    else:\n",
    "        dfcur = dfcc_all\n",
    "        dfos = dfcc_all.query('subject == @subj  and trial_index >= @numtrain')\n",
    "        coln_error_ = coln_error\n",
    "        error   = dfos[coln_error_].to_numpy() \n",
    "        trial_index = dfos['trial_index']\n",
    "        \n",
    "        #break\n",
    "    #for out in out_cursubj:\n",
    "#for out in [outT, outD]:\n",
    "    #error   = dfos[coln_error_].to_numpy() * 180 / np.pi\n",
    "    perturb = dfos['perturbation'].to_numpy()    \n",
    "    #out = subj2out_Tan[subj ]\n",
    "    adaptationRate = None\n",
    "    if 'adaptation_rate' in out:\n",
    "        adaptationRate = out['adaptation_rate']\n",
    "    output = out['y_pred']\n",
    "    \n",
    "    dfcur.loc[dfos.index, 'error_pred_Tan'] = output\n",
    "    dfcur.loc[dfos.index, 'err_sens_Tan'] = adaptationRate\n",
    "    dfcur.loc[dfos.index, 'state_Tan'] = out['states']\n",
    "    \n",
    "#     df = pd.DataFrame({'error':error, \n",
    "#                        'error_pred':output,\n",
    "#                       'pert':perturb,\n",
    "#                        'err_sens':adaptationRate,\n",
    "#                       'trial_index':trial_index})\n",
    "#     df['subject'] = subj\n",
    "#     df['dfname'] = dfn\n",
    "#     df['model'] = 'Tan'\n",
    "#     dfs += [df]\n",
    "    Net, coef = getTanModelNte(subj)\n",
    "    if plot0:\n",
    "        plt.figure(figsize=(15,3)) # Use matplotlib.pyplot to plot figures\n",
    "        plt.title('Subject ' + dfos['subject'].values[0] + f' Net={Net}, c={coef:.4f}') # Use string concatenation to make titles\n",
    "        plt.plot(error, linewidth=2, label='Observed error') # Use label argument to add legends\n",
    "        plt.plot(output, linewidth=2, label='Model prediction',alpha=0.8)\n",
    "        plt.ylabel('Angle (°)')\n",
    "        plt.xlabel('Trials')\n",
    "        plt.plot(perturb, label='pert', color='red', ls=':')\n",
    "        plt.legend() # Call legend function to show legends\n",
    "        #plt.twinx() # Use twinx function to create a second y-axis\n",
    "        if adaptationRate is not None:\n",
    "            plt.plot(30 + 50*adaptationRate, linewidth=1, label='Adaptation rate', color='green')            \n",
    "            plt.legend() # Call legend function to show legends\n",
    "        plt.ylim(-40,60)\n",
    "        plt.grid(True)\n",
    "        plt.show() # Call show function to display the figure\n",
    "    #break\n",
    "#dfr_T=  pd.concat(dfs).reset_index()"
   ]
  },
  {
   "cell_type": "code",
   "execution_count": null,
   "id": "721b3a0b",
   "metadata": {},
   "outputs": [],
   "source": [
    "len(output), len(dfos)"
   ]
  },
  {
   "cell_type": "code",
   "execution_count": null,
   "id": "5de92345",
   "metadata": {},
   "outputs": [],
   "source": [
    "#dfr_T0 = dfr_T"
   ]
  },
  {
   "cell_type": "code",
   "execution_count": null,
   "id": "bbeab352",
   "metadata": {},
   "outputs": [],
   "source": []
  },
  {
   "cell_type": "code",
   "execution_count": null,
   "id": "cdf8dc42",
   "metadata": {},
   "outputs": [],
   "source": [
    "from taumodels.models import calcH_orig"
   ]
  },
  {
   "cell_type": "code",
   "execution_count": null,
   "id": "d3b62c3d",
   "metadata": {},
   "outputs": [],
   "source": [
    "len(err_sens2), len(output), len(error)"
   ]
  },
  {
   "cell_type": "code",
   "execution_count": null,
   "id": "95cb3563",
   "metadata": {},
   "outputs": [],
   "source": [
    "cols = ['trialwb',\n",
    " 'trialwe',\n",
    " 'trialwpertstage_wb',\n",
    " 'trialwpert_wb',\n",
    " 'trialwpert_we',\n",
    " 'trialwtgt',\n",
    " 'trialwtgt_wpert_wb',\n",
    " 'trialwtgt_wpertstage_wb',\n",
    " 'trialwtgt_wpertstage_we',\n",
    " 'trialwtgt_wpert_we',\n",
    " 'trialwtgt_we',\n",
    " 'trialwtgt_wb',\n",
    " 'trialwpert',\n",
    " 'trialwtgt_wpert'] + ['movement_duration','RT']\n",
    "','.join(cols)"
   ]
  },
  {
   "cell_type": "code",
   "execution_count": null,
   "id": "15b65f75",
   "metadata": {
    "run_control": {
     "marked": false
    }
   },
   "outputs": [],
   "source": [
    "[coln for coln in dfcc_all_NIH.columns if coln.find('RT') >= 0]"
   ]
  },
  {
   "cell_type": "code",
   "execution_count": null,
   "id": "cae46b17",
   "metadata": {},
   "outputs": [],
   "source": [
    "fnf = pjoin(path_data_cc,'dfnamesubj2res_Herz.npz')\n",
    "dfnamesubj2res_Herz = np.load(fnf, allow_pickle=1)\n",
    "dfnamesubj2res_Herz = dfnamesubj2res_Herz['arr_0'][()]"
   ]
  },
  {
   "cell_type": "code",
   "execution_count": null,
   "id": "a2a7d2c3",
   "metadata": {},
   "outputs": [],
   "source": [
    "from taumodels.models import getBestHerzPar, calcH_orig"
   ]
  },
  {
   "cell_type": "code",
   "execution_count": null,
   "id": "306fc15f",
   "metadata": {},
   "outputs": [],
   "source": [
    "out.keys()"
   ]
  },
  {
   "cell_type": "code",
   "execution_count": null,
   "id": "4969f5a3",
   "metadata": {
    "code_folding": []
   },
   "outputs": [],
   "source": [
    "# Herz\n",
    "dfs = []\n",
    "plot0 = 1\n",
    "for (dfn,subj),out in dfnamesubj2res_Herz.items():\n",
    "    if dfn == 'NIH':\n",
    "        dfcur = dfcc_all_NIH\n",
    "        dfos = dfcur.query('subject == @subj')\n",
    "        coln_error_ = 'error'\n",
    "        error   = dfos[coln_error_].to_numpy() * 180 / np.pi\n",
    "        trial_index = dfos['trials'].values\n",
    "        perturb = dfos['perturbation'].values\n",
    "        EC_mask = np.zeros_like(perturb)\n",
    "    else:\n",
    "        dfcur = dfcc_all\n",
    "        dfos = dfcur.query('subject == @subj  and trial_index >= @numtrain')\n",
    "        coln_error_ = coln_error\n",
    "        error   = dfos[coln_error_].to_numpy() \n",
    "        trial_index = dfos['trial_index']\n",
    "        perturb = dfos['perturbation'].values\n",
    "        EC_mask = (dfos['trial_type'] == \"error_clamp\").values\n",
    "        \n",
    "    best_par = getBestHerzPar(out)\n",
    "    if best_par is None:\n",
    "        print('not par found for ',dfn,subj)\n",
    "        continue\n",
    "    \n",
    "    pard = best_par.copy()\n",
    "    for k in 'fun,nit,nfev,seed'.split(','):\n",
    "        del pard[k]\n",
    "    r = calcH_orig(-perturb,EC_mask=EC_mask, **pard)\n",
    "    (motor_output,error_pred2,ws,err_sens2, \n",
    "        gaussian_centers,gaussian_variances) = r \n",
    "    output = error_pred2\n",
    "    #np.array(ws).shape == (767,20)\n",
    "    \n",
    "    dfcur.loc[dfos.index, 'error_pred_Herz'] = output\n",
    "    dfcur.loc[dfos.index, 'err_sens_Herz'] = err_sens2\n",
    "    # there is no \"state\" in Herzfeld, only motor output\n",
    "    dfcur.loc[dfos.index, 'state_Herz'] = motor_output\n",
    "    \n",
    "#     df = pd.DataFrame({'error':error, \n",
    "#                    'error_pred':output,\n",
    "#                   'pert':perturb,\n",
    "#                    'err_sens':err_sens2,\n",
    "#                   'trial_index':trial_index})\n",
    "#     df['subject'] = subj\n",
    "#     df['dfname'] = dfn\n",
    "#     df['model'] = 'Herzfeld_mod'\n",
    "#     df['error_diff'] = df['error'] - df['error_pred']\n",
    "#     dfs += [df]\n",
    "    \n",
    "    \n",
    "    if plot0:\n",
    "        plt.figure(figsize=(15,3)) # Use matplotlib.pyplot to plot figures\n",
    "        plt.title('Subject ' + dfos['subject'].values[0]) # Use string concatenation to make titles\n",
    "        plt.plot(error, linewidth=2, label='Observed error') # Use label argument to add legends\n",
    "        plt.plot(output, linewidth=2, label='Model prediction',alpha=0.8)\n",
    "        plt.plot(motor_output, linewidth=2, label='state')\n",
    "        plt.ylabel('Angle (°)')\n",
    "        plt.xlabel('Trials')\n",
    "        plt.plot(perturb, label='pert', color='red', ls=':')\n",
    "        plt.legend() # Call legend function to show legends\n",
    "        #plt.twinx() # Use twinx function to create a second y-axis\n",
    "        if adaptationRate is not None:\n",
    "            plt.plot(30 + 50*adaptationRate, linewidth=1, label='Adaptation rate', color='green')            \n",
    "            plt.legend() # Call legend function to show legends\n",
    "        plt.ylim(-40,60)\n",
    "        plt.grid(True)\n",
    "        plt.show() # Call show function to display the figure\n",
    "    #break\n",
    "\n",
    "#dfr_H=  pd.concat(dfs).reset_index()"
   ]
  },
  {
   "cell_type": "code",
   "execution_count": null,
   "id": "5dd9f566",
   "metadata": {},
   "outputs": [],
   "source": []
  },
  {
   "cell_type": "code",
   "execution_count": null,
   "id": "939bad0f",
   "metadata": {},
   "outputs": [],
   "source": [
    "#np.quantile?"
   ]
  },
  {
   "cell_type": "code",
   "execution_count": null,
   "id": "d4a61514",
   "metadata": {},
   "outputs": [],
   "source": [
    "cols = 'trials,error_pred_Tan,error_pred_Herz,error_pred_Died,err_sens_Herz,err_sens_Tan,prev_error,error'.split(',')\n",
    "for col in cols:\n",
    "    if col not in dfcc_all_NIH:\n",
    "        print(col)"
   ]
  },
  {
   "cell_type": "code",
   "execution_count": null,
   "id": "677cc314",
   "metadata": {},
   "outputs": [],
   "source": [
    "import seaborn as sns"
   ]
  },
  {
   "cell_type": "code",
   "execution_count": null,
   "id": "cc8abcc1",
   "metadata": {},
   "outputs": [],
   "source": [
    "#dfr = pd.concat([dfr_D, dfr_T, dfr_H])"
   ]
  },
  {
   "cell_type": "code",
   "execution_count": null,
   "id": "e2c461f8",
   "metadata": {
    "run_control": {
     "marked": false
    }
   },
   "outputs": [],
   "source": [
    "for vn in ['movement','belief', 'state_Died','state_Tan','state_Herz']:\n",
    "    vneff = vn\n",
    "    if vn == 'movement':\n",
    "        vneff = 'org_feedback'\n",
    "    dfcc_all_NIH[f'prev_{vn}'] = dfcc_all_NIH.groupby('subject')[vneff].shift(1)\n",
    "\n",
    "print(path_data)\n",
    "from behav_proc import pscAdj_NIH, reshiftPi\n",
    "cols = ['error_pred_Tan', 'error_pred_Died', 'error_pred_Herz']\n",
    "pscAdj_NIH(dfcc_all_NIH, cols)\n",
    "\n",
    "cols = ['state_Tan', 'state_Died', 'state_Herz']\n",
    "pscAdj_NIH(dfcc_all_NIH, cols)\n",
    "\n",
    "#dfcc_all_NIH['error_deg'] = dfcc_all_NIH['error'] * 180 / np.pi\n",
    "reshiftPi(dfcc_all_NIH,'error')\n",
    "dfcc_all_NIH['error_deg'] = dfcc_all_NIH['error'] / np.pi * 180 \n",
    "\n",
    "def f(x):    \n",
    "    PI = 180\n",
    "    if x > PI:\n",
    "        x -= 2*PI\n",
    "    elif x < -PI:\n",
    "        x += 2*PI\n",
    "    return x\n",
    "dfcc_all_NIH['error_pred_Tan']  = dfcc_all_NIH['error_pred_Tan'].apply(f)\n",
    "dfcc_all_NIH['error_pred_Died'] = dfcc_all_NIH['error_pred_Died'].apply(f)\n",
    "dfcc_all_NIH['error_pred_Herz'] = dfcc_all_NIH['error_pred_Herz'].apply(f)\n",
    "\n",
    "from config2 import envcode2env\n",
    "dfcc_all_NIH['env'] = dfcc_all_NIH['environment'].apply(lambda x: envcode2env[x])\n",
    "\n",
    "\n",
    "pscAdj_NIH(dfcc_all_NIH, ['error_deg'])\n",
    "dfcc_all_NIH['error_diff_Tan']  = dfcc_all_NIH['error_deg'] - dfcc_all_NIH['error_pred_Tan']\n",
    "dfcc_all_NIH['error_diff_Died'] = dfcc_all_NIH['error_deg'] - dfcc_all_NIH['error_pred_Died']\n",
    "dfcc_all_NIH['error_diff_Herz'] = dfcc_all_NIH['error_deg'] - dfcc_all_NIH['error_pred_Herz']\n",
    "dfcc_all_NIH['error_diff_Tan']  = dfcc_all_NIH['error_diff_Tan'].apply(f)\n",
    "dfcc_all_NIH['error_diff_Died'] = dfcc_all_NIH['error_diff_Died'].apply(f)\n",
    "dfcc_all_NIH['error_diff_Herz'] = dfcc_all_NIH['error_diff_Herz'].apply(f)\n",
    "\n",
    "dfcc_all_NIH['error_abs'] = dfcc_all_NIH['error'].abs()\n",
    "dfcc_all_NIH['prev_error_abs'] = dfcc_all_NIH['prev_error'].abs()\n",
    "\n",
    "pscAdj_NIH(dfcc_all_NIH, 'error_diff_Tan,error_diff_Died,error_diff_Herz'.split(','))\n",
    "fn = 'row_frame_wmodel_output.pkl.zip'\n",
    "dfcc_all_NIH.to_pickle(pjoin(path_data, fn), compression='zip')"
   ]
  },
  {
   "cell_type": "code",
   "execution_count": null,
   "id": "109b5117",
   "metadata": {},
   "outputs": [],
   "source": [
    "from shutil import copyfile \n",
    "r = copyfile( pjoin(path_data, fn), '/home/demitau/ju_lyon/memerr/data2/' + fn )\n",
    "print(r)\n",
    "r = copyfile( pjoin(path_data, fn), pjoin('/home/demitau/ownCloud/Current/merr_data', fn ) )\n",
    "print(r)"
   ]
  },
  {
   "cell_type": "code",
   "execution_count": null,
   "id": "c7386a9d",
   "metadata": {},
   "outputs": [],
   "source": [
    "dfcc_all_NIH['state_Died']"
   ]
  },
  {
   "cell_type": "code",
   "execution_count": null,
   "id": "a502d287",
   "metadata": {},
   "outputs": [],
   "source": []
  },
  {
   "cell_type": "code",
   "execution_count": null,
   "id": "f6adc03b",
   "metadata": {},
   "outputs": [],
   "source": [
    "dfcc_all_NIH['error_diff_Tan'].abs().max()\n",
    "dfcc_all_NIH['error_diff_Died'].abs().max()\n",
    "dfcc_all_NIH['error_diff_Herz'].abs().max()"
   ]
  },
  {
   "cell_type": "code",
   "execution_count": null,
   "id": "5d8ef423",
   "metadata": {},
   "outputs": [],
   "source": [
    "sns.set(font_scale=2)"
   ]
  },
  {
   "cell_type": "code",
   "execution_count": null,
   "id": "0a4b9e47",
   "metadata": {},
   "outputs": [],
   "source": [
    "dfes_ = pd.read_pickle('/home/demitau/data_Quentin/full_experiments/data2/df_all_multi_tsz.pkl.zip')\n",
    "\n",
    "dfes = dfes_.query('trial_group_col_calc == \"trials\" and trial_shift_size == 1').copy()\n",
    "\n",
    "assert not dfes.duplicated(['subject','trials']).any()\n",
    "print(dfes.groupby('subject')['trials'].max().std())\n",
    "\n",
    "dfes['err_sens_clip'] = dfes['err_sens'].clip(-1,1)\n",
    "dfes['err_sens_clip3'] = dfes['err_sens'].clip(-3,3)"
   ]
  },
  {
   "cell_type": "code",
   "execution_count": null,
   "id": "21c512bd",
   "metadata": {},
   "outputs": [],
   "source": [
    "pertplot = {'color': 'r', 'alpha': 0.9, 'ls': ':'}"
   ]
  },
  {
   "cell_type": "code",
   "execution_count": null,
   "id": "9d529518",
   "metadata": {},
   "outputs": [],
   "source": [
    "from behav_proc import truncateDf\n",
    "dfes_trunc_by1 = truncateDf(dfes,'err_sens',inplace=False,\n",
    "                       q=None, low=-1,hi=1,\n",
    "                       infnan_handling='discard')\n",
    "\n",
    "dfes_trunc_q = truncateDf(dfes,'err_sens',inplace=False,\n",
    "                       q=0.05,\n",
    "                       infnan_handling='discard')"
   ]
  },
  {
   "cell_type": "code",
   "execution_count": null,
   "id": "b224e82a",
   "metadata": {},
   "outputs": [],
   "source": [
    "dfes_trunc_by3 = truncateDf(dfes,'err_sens',inplace=False,\n",
    "                       q=None, low=-3,hi=3,\n",
    "                       infnan_handling='discard')\n"
   ]
  },
  {
   "cell_type": "code",
   "execution_count": null,
   "id": "55657fda",
   "metadata": {},
   "outputs": [],
   "source": [
    "len(dfes_trunc) / len(dfes),len(dfes_trunc_by3) / len(dfes), len(dfes_trunc_q)/len(dfes)"
   ]
  },
  {
   "cell_type": "code",
   "execution_count": null,
   "id": "40f2fbff",
   "metadata": {},
   "outputs": [],
   "source": [
    "dfc_p = dfcc_all_NIH.query(f'subject == \"{subjects_NIH[0]}\"')\n",
    "dfc_p = dfc_p.sort_values('trials')\n",
    "pert = dfc_p['perturbation'].values[:192*4]\n",
    "tr   = dfc_p['trials'].values[:192*4]\n",
    "envv = dfc_p['environment'].values[:192*4].astype(float)\n",
    "envv[envv == 0] = np.nan\n",
    "pert[envv == 1] = np.nan"
   ]
  },
  {
   "cell_type": "code",
   "execution_count": null,
   "id": "7f4ddf98",
   "metadata": {
    "run_control": {
     "marked": false
    }
   },
   "outputs": [],
   "source": [
    "fg = sns.relplot(data=dfes, \n",
    "            kind='line',x='trials',\n",
    "            y ='err_sens', aspect=3, facet_kws={'sharex': 'col'},\n",
    "                ci='sd')\n",
    "ax = fg.axes.flatten()[0]\n",
    "_c = 0.5\n",
    "ax.plot(pert / 30 * _c + _c, **pertplot)\n",
    "#ax.set_title('H. Tan model')\n",
    "ax.axhline(0,c='r',ls=':')\n",
    "ax.set_ylabel('Error sensitivity')\n",
    "ax.set_title('no trunc')\n",
    "ax.grid(True)\n",
    "\n",
    "fg = sns.relplot(data=dfes_trunc_by1, \n",
    "            kind='line',x='trials',\n",
    "            y ='err_sens', aspect=3, facet_kws={'sharex': 'col'},\n",
    "                ci='sd')\n",
    "ax = fg.axes.flatten()[0]\n",
    "_c = 0.5\n",
    "ax.plot(pert / 30 * _c + _c, **pertplot)\n",
    "#ax.set_title('H. Tan model')\n",
    "ax.axhline(0,c='r',ls=':')\n",
    "ax.set_ylabel('Error sensitivity')\n",
    "ax.set_title('trunc when abs > 1')\n",
    "ax.grid(True)\n",
    "\n",
    "fg = sns.relplot(data=dfes_trunc_by3, \n",
    "            kind='line',x='trials',\n",
    "            y ='err_sens', aspect=3, facet_kws={'sharex': 'col'},\n",
    "                ci='sd')\n",
    "ax = fg.axes.flatten()[0]\n",
    "_c = 0.5\n",
    "ax.plot(pert / 30 * _c + _c, **pertplot)\n",
    "#ax.set_title('H. Tan model')\n",
    "ax.axhline(0,c='r',ls=':')\n",
    "ax.set_ylabel('Error sensitivity')\n",
    "ax.set_title('trunc when abs > 3')\n",
    "ax.grid(True)\n",
    "\n",
    "fg = sns.relplot(data=dfes_trunc_q, \n",
    "            kind='line',x='trials',\n",
    "            y ='err_sens', aspect=3, facet_kws={'sharex': 'col'},\n",
    "                ci='sd')\n",
    "ax = fg.axes.flatten()[0]\n",
    "_c = 0.5\n",
    "ax.plot(pert / 30 * _c + _c, **pertplot)\n",
    "#ax.set_title('H. Tan model')\n",
    "ax.axhline(0,c='r',ls=':')\n",
    "ax.set_ylabel('Error sensitivity')\n",
    "ax.set_title('trunc when q > 0.05')\n",
    "ax.grid(True)"
   ]
  },
  {
   "cell_type": "code",
   "execution_count": null,
   "id": "b2f3634a",
   "metadata": {},
   "outputs": [],
   "source": []
  },
  {
   "cell_type": "code",
   "execution_count": null,
   "id": "3bd3ddad",
   "metadata": {},
   "outputs": [],
   "source": [
    "from behav_proc import correctPertCol_NIH\n",
    "subj = subjects_NIH[0]\n",
    "correctPertCol_NIH(dfes)"
   ]
  },
  {
   "cell_type": "code",
   "execution_count": null,
   "id": "82fa7d45",
   "metadata": {},
   "outputs": [],
   "source": [
    "pert"
   ]
  },
  {
   "cell_type": "code",
   "execution_count": null,
   "id": "59f8c0d4",
   "metadata": {},
   "outputs": [],
   "source": [
    "dfcc_all_NIH['err']"
   ]
  },
  {
   "cell_type": "code",
   "execution_count": null,
   "id": "1723d66c",
   "metadata": {
    "code_folding": [
     2,
     36,
     53
    ]
   },
   "outputs": [],
   "source": [
    "#err sens\n",
    "sns.set_style('whitegrid')\n",
    "# df_ = dfes.query('subject == @subj')\n",
    "# print ( len(df_) )\n",
    "# fg = sns.relplot(data=df_, \n",
    "#     kind='line',x='trials',\n",
    "#     y ='perturbation', aspect=3, facet_kws={'sharex': 'col'},\n",
    "#         ci='sd')\n",
    "# ax = fg.axes.flatten()[0]\n",
    "# ax.set_title('Perturbation schedule')\n",
    "# ax.set_ylabel('perturbation [deg]')\n",
    "# ax.set_ylim(-35,35)\n",
    "# ax.set_xlabel('')\n",
    "# ax.grid(True)\n",
    "tpls = zip( ['err_sens_clip','err_sens_Tan','err_sens_Herz'], ['Empirical data (clipped to [-1,1])',\n",
    "                                                       'H. Tan model','D. Herzfeld model'],\n",
    "          [dfes, dfcc_all_NIH, dfcc_all_NIH])\n",
    "\n",
    "ww=17\n",
    "fig,axs = plt.subplots(3,1,figsize=(ww,3*ww/3.5))\n",
    "for axi,(vn,vstr,df_) in enumerate(tpls):\n",
    "    ax = axs[axi]\n",
    "    sns.set(font_scale=2.5)\n",
    "    with warnings.catch_warnings() as w:\n",
    "        warnings.filterwarnings('ignore',category = FutureWarning)\n",
    "        fg = sns.lineplot(data=df_, x='trials',\n",
    "                y =vn, ci='sd', ax=ax)\n",
    "    ax.axhline(0,c='r',ls=':')\n",
    "    ax.set_title(vstr)\n",
    "    ax.set_ylabel('Error sensitivity\\nmean over\\nsubjects')\n",
    "    ax.set_ylim(-1,1.3)\n",
    "    ax.set_xlabel('')\n",
    "    ax.grid(True)\n",
    "    N = 40; pertc = 1/N\n",
    "    vshift = 0; \n",
    "    ax.plot(tr, vshift + pert * pertc, c='violet', ls= '--', label=f'perturbation / {N}')\n",
    "    #ax.plot(tr, vshift + envv * 30 * pertc, c='black', ls = ':', lw=0, marker='.' ,\n",
    "    #                   alpha=0.2, label='environment')\n",
    "    ax.set_xticklabels([])\n",
    "    ax.set_xlabel('')\n",
    "\n",
    "# fg = sns.relplot(data=dfcc_all_NIH, \n",
    "#             kind='line',x='trial_index',\n",
    "#             y ='err_sens_Tan', aspect=3, facet_kws={'sharex': 'col'},\n",
    "#                 ci='sd')\n",
    "# ax = fg.axes.flatten()[0]\n",
    "# ax.set_title('H. Tan model')\n",
    "# ax.axhline(0,c='r',ls=':')\n",
    "# ax.set_ylabel('Error sensitivity')\n",
    "# ax.set_xlabel('')\n",
    "# ax.set_ylim(-1,1.3)\n",
    "# ax.grid(True)\n",
    "# ax.plot(tr, vshift + pert * pertc, c='violet', ls= '--', label='perturbation')\n",
    "# ax.plot(tr, vshift + envv * 30 * pertc, c='black', ls = ':', lw=0, marker='.' ,\n",
    "#                    alpha=0.2, label='environment')\n",
    "# ax.set_xticklabels([])\n",
    "# ax.set_xlabel('')\n",
    "\n",
    "# fg = sns.relplot(data=dfcc_all_NIH, \n",
    "#             kind='line',x='trial_index',\n",
    "#             y ='err_sens_Herz', aspect=3, facet_kws={'sharex': 'col'},\n",
    "#                 ci='sd')\n",
    "# ax = fg.axes.flatten()[0]\n",
    "# ax.set_title('D. Herzfeld model')\n",
    "# ax.axhline(0,c='r',ls=':')\n",
    "# ax.set_ylabel('Error sensitivity')\n",
    "# ax.set_ylim(-1,1.3)\n",
    "# ax.set_xlabel('Trial index')\n",
    "# ax.grid(True)\n",
    "# ax.plot(tr, vshift + pert * pertc, c='violet', ls= '--', label='perturbation')\n",
    "# ax.plot(tr, vshift + envv * 30 * pertc, c='black', ls = ':', lw=0, marker='.' ,\n",
    "#                    alpha=0.2, label='environment')\n",
    "ax.legend(loc='lower right', markerscale=4.)\n",
    "\n",
    "# Create two line objects\n",
    "import matplotlib.patches as mpatches\n",
    "from matplotlib.lines import Line2D\n",
    "blue_line = Line2D([], [], color='tab:blue', alpha=1, lw=4)\n",
    "pink_dashed_line = Line2D([], [], color='violet', linestyle='dashed', lw=4)\n",
    "blue_rectangle = mpatches.Rectangle((0, 0), 1, 1, color='tab:blue', alpha=0.3)\n",
    "\n",
    "# Add the line objects to the legend\n",
    "ax.legend(handles=[blue_line, pink_dashed_line,blue_rectangle], \n",
    "          labels=['state', f'perturbation / {N}','ES $\\sigma$'], \n",
    "          loc='lower right', frameon=True)\n",
    "\n",
    "        \n",
    "from config2 import path_fig\n",
    "plt.tight_layout()\n",
    "plt.savefig(pjoin(path_fig,'model_ES_dyn.pdf'))\n",
    "plt.savefig(pjoin(path_fig,'model_ES_dyn.svg'))"
   ]
  },
  {
   "cell_type": "code",
   "execution_count": null,
   "id": "2ad4447c",
   "metadata": {},
   "outputs": [],
   "source": [
    "varn2pub1={'error_deg':'Obeserved error', \n",
    "          'error_pred_Herz':'Herzfeld error prediction',\n",
    "         'error_pred_Tan':'Tan error prediction',\n",
    "         'error_pred_Died':'Diedrichsen error prediction'}\n",
    "varn2pub2={'err_sens':'Empirical ES', \n",
    "          'err_sens_Herz':'Herzfeld ES',\n",
    "         'err_sens_Tan':'Tan ES'}"
   ]
  },
  {
   "cell_type": "code",
   "execution_count": null,
   "id": "f37f2904",
   "metadata": {},
   "outputs": [],
   "source": [
    "# errr pred pscadj\n",
    "cols=['error_deg', 'error_pred_Died','error_pred_Tan',\n",
    "          'error_pred_Herz']\n",
    "for ci,coln in enumerate(cols):\n",
    "    fg = sns.relplot(data=dfcc_all_NIH, \n",
    "                kind='line',x='trial_index',\n",
    "                y =coln + '_pscadj', aspect=3, facet_kws={'sharex': 'col'},\n",
    "                    ci='sd',height=5)\n",
    "    ax = fg.axes.flatten()[0]\n",
    "    ax.set_title(varn2pub1[coln])\n",
    "    ax.set_ylabel('error [deg]')\n",
    "    ax.axhline(0,c='r',ls=':')\n",
    "    ax.grid(True,which='both')\n",
    "    ax.set_ylim(-50,50)\n",
    "    \n",
    "    pertc = 1.\n",
    "    ax.plot(tr, vshift + pert * pertc, c='violet', ls= '--', label='perturbation')\n",
    "    ax.plot(tr, vshift + envv * 30 * pertc, c='black', ls = ':', lw=0, marker='.' ,\n",
    "                   alpha=0.2, label='environment')\n",
    "    ax.set_xlabel('Trial index')\n",
    "    if ci != (len(cols) - 1):\n",
    "        ax.set_xticklabels([])\n",
    "        ax.set_xlabel('')"
   ]
  },
  {
   "cell_type": "code",
   "execution_count": null,
   "id": "79785b97",
   "metadata": {},
   "outputs": [],
   "source": [
    "# orig, pred, orig - pred for one model \n",
    "for coln in ['error_deg_pscadj', 'error_pred_Tan_pscadj', 'error_diff_Tan_pscadj']:\n",
    "    fg = sns.relplot(data=dfcc_all_NIH, \n",
    "            kind='line',x='trial_index',\n",
    "            y =coln, aspect=3, facet_kws={'sharex': 'col'},\n",
    "                ci='sd')\n",
    "    ax = fg.axes.flatten()[0]\n",
    "    ax.set_title(coln)\n",
    "    ax.axhline(0,c='r',ls=':')"
   ]
  },
  {
   "cell_type": "code",
   "execution_count": null,
   "id": "7b69d005",
   "metadata": {},
   "outputs": [],
   "source": [
    "for coln in [coln + '_pscadj' for coln in 'error_diff_Tan,error_diff_Died,error_diff_Herz'.split(',')]:\n",
    "    fg = sns.relplot(data=dfcc_all_NIH, \n",
    "            kind='line',x='trial_index',\n",
    "            y =coln, aspect=3, facet_kws={'sharex': 'col'},\n",
    "                ci='sd')\n",
    "    ax = fg.axes.flatten()[0]\n",
    "    ax.set_title(coln)\n",
    "    ax.axhline(0,c='r',ls=':')\n",
    "    ax.set_ylim(-30,30)\n",
    "    ax.grid(True)"
   ]
  },
  {
   "cell_type": "code",
   "execution_count": null,
   "id": "49cb6282",
   "metadata": {},
   "outputs": [],
   "source": []
  },
  {
   "cell_type": "code",
   "execution_count": null,
   "id": "ef944fba",
   "metadata": {},
   "outputs": [],
   "source": []
  },
  {
   "cell_type": "code",
   "execution_count": null,
   "id": "7f116c35",
   "metadata": {},
   "outputs": [],
   "source": []
  },
  {
   "cell_type": "code",
   "execution_count": null,
   "id": "ee996286",
   "metadata": {},
   "outputs": [],
   "source": [
    "[c for c in dfcc_all_NIH.columns if c.find('state') >= 0]"
   ]
  },
  {
   "cell_type": "code",
   "execution_count": null,
   "id": "1745ab67",
   "metadata": {},
   "outputs": [],
   "source": [
    "dfcc_all_NIH['state_Herz_neg'] = -dfcc_all_NIH['state_Herz']"
   ]
  },
  {
   "cell_type": "code",
   "execution_count": null,
   "id": "1783d3d7",
   "metadata": {},
   "outputs": [],
   "source": [
    "cols=[ 'state_Died','state_Tan',\n",
    "          'state_Herz_neg', 'belief']\n",
    "cols_ = ['Diedrichsen state','Tan state','Herzfeld state','Empirical state = movement - target']\n",
    "varn2pub3 = dict(zip(cols,cols_))"
   ]
  },
  {
   "cell_type": "code",
   "execution_count": null,
   "id": "14de178a",
   "metadata": {},
   "outputs": [],
   "source": [
    "dfcc_all_NIH = pscAdj_NIH(dfcc_all_NIH, ['perturbation'])"
   ]
  },
  {
   "cell_type": "code",
   "execution_count": null,
   "id": "46b20f50",
   "metadata": {},
   "outputs": [],
   "source": [
    "#dfcc_all_NIH['belief']"
   ]
  },
  {
   "cell_type": "code",
   "execution_count": null,
   "id": "9188dd98",
   "metadata": {},
   "outputs": [],
   "source": [
    "dfcc_all_NIH['belief_pscadj' ] = dfcc_all_NIH['perturbation_pscadj'] - dfcc_all_NIH['error_deg_pscadj']"
   ]
  },
  {
   "cell_type": "code",
   "execution_count": null,
   "id": "fd2fdef1",
   "metadata": {},
   "outputs": [],
   "source": [
    "dfcc_all_NIH['state_Herz_neg_pscadj'] = -dfcc_all_NIH['state_Herz_pscadj']"
   ]
  },
  {
   "cell_type": "code",
   "execution_count": null,
   "id": "fc6220d4",
   "metadata": {},
   "outputs": [],
   "source": [
    "# errr pred pscadj\n",
    "import warnings\n",
    "sns.set_style('whitegrid')\n",
    "cols=[ 'belief','state_Died','state_Tan',\n",
    "          'state_Herz_neg']\n",
    "ww=17\n",
    "fig,axs = plt.subplots(4,1,figsize=(ww,4*ww/3.5))\n",
    "for ci,coln in enumerate(cols):\n",
    "    ax = axs[ci]\n",
    "    with warnings.catch_warnings() as w:\n",
    "        warnings.filterwarnings( 'ignore', category=FutureWarning)\n",
    "        fg = sns.lineplot(data=dfcc_all_NIH, \n",
    "                x='trial_index', y =coln + '_pscadj',  \n",
    "                    errorbar='sd', ax=ax)\n",
    "    #ax = fg.axes#.flatten()[0]\n",
    "    ax.set_title(varn2pub3[coln])\n",
    "    #ax.set_title(coln)\n",
    "    ax.set_ylabel('Latent state, mean\\nover subjects')\n",
    "    ax.axhline(0,c='r',ls=':')\n",
    "    ax.grid(True,which='both')\n",
    "    ax.set_ylim(-35,35)\n",
    "    \n",
    "    pertc = 1.\n",
    "    ax.plot(tr, vshift + pert * pertc, c='violet', ls= '--', label='perturbation')\n",
    "    #ax.plot(tr, vshift + envv * 30 * pertc, c='black', ls = ':', lw=0, marker='.' ,\n",
    "    #               alpha=0.2, label='environment')\n",
    "    ax.set_xlabel('Trial index')\n",
    "    if ci != (len(cols) - 1):\n",
    "        ax.set_xticklabels([])\n",
    "        ax.set_xlabel('')\n",
    "        \n",
    "# Create two line objects\n",
    "import matplotlib.patches as mpatches\n",
    "from matplotlib.lines import Line2D\n",
    "blue_line = Line2D([], [], color='tab:blue', alpha=1, lw=4)\n",
    "pink_dashed_line = Line2D([], [], color='violet', linestyle='dashed', lw=4)\n",
    "blue_rectangle = mpatches.Rectangle((0, 0), 1, 1, color='tab:blue', alpha=0.3)\n",
    "\n",
    "# Add the line objects to the legend\n",
    "ax.legend(handles=[blue_line, pink_dashed_line,blue_rectangle], \n",
    "          labels=['state', 'perturbation','state $\\sigma$'], \n",
    "          loc='lower right', frameon=True)\n",
    "\n",
    "        \n",
    "from config2 import path_fig\n",
    "plt.tight_layout()\n",
    "plt.savefig(pjoin(path_fig,'model_state_dyn.pdf'))\n",
    "plt.savefig(pjoin(path_fig,'model_state_dyn.svg'))"
   ]
  },
  {
   "cell_type": "markdown",
   "id": "f80f373d",
   "metadata": {},
   "source": [
    "# stats"
   ]
  },
  {
   "cell_type": "code",
   "execution_count": null,
   "id": "ec1e19ae",
   "metadata": {},
   "outputs": [],
   "source": []
  },
  {
   "cell_type": "code",
   "execution_count": null,
   "id": "e76a01c5",
   "metadata": {
    "run_control": {
     "marked": false
    }
   },
   "outputs": [],
   "source": [
    "colns_errdif = [coln + '_pscadj_abs' for coln in 'error_diff_Died,error_diff_Tan,error_diff_Herz'.split(',')]\n",
    "dfme = dfcc_all_NIH.groupby(['subject','env'])[colns_errdif].mean().reset_index()\n",
    "tpls = zip(colns_errdif, ['Mismatch with\\nDiedrichsen','Mismatch with\\nTan','Mismatch with\\nHerzfeld'])\n",
    "#sns.set_style()\n",
    "sns.set(style='whitegrid', font_scale=1.5)\n",
    "fig,axs = plt.subplots(1,4,figsize=(12,4))\n",
    "\n",
    "for colni,(coln,coln_nice) in enumerate(tpls):\n",
    "    with warnings.catch_warnings():\n",
    "        ax = axs[colni]\n",
    "        warnings.filterwarnings('ignore',category=FutureWarning)\n",
    "        #plt.figure()\n",
    "        sns.boxplot(data=dfme, x='env', y = coln, ax = ax, \n",
    "                    order = ['stable','random'], \n",
    "                   palette=['tab:orange','tab:grey'])#, kind='box')\n",
    "        ax.set_title(coln_nice)\n",
    "        ax.set_ylabel('')\n",
    "        ax.set_ylim(0,17)\n",
    "        ax.axhline(y=0,ls=':',c='red',lw=2)        \n",
    "        if colni != 0:\n",
    "            ax.set_yticklabels([])\n",
    "        if colni == 0:\n",
    "            ax.set_ylabel('abs(Error mismatch) [deg]')\n",
    "        ax.yaxis.grid(True)\n",
    "        ax.set_xlabel('')\n",
    "    #break\n",
    "#fig.subplots_adjust(right=0.8)    \n",
    "#blue_line = Line2D([], [], color='tab:blue', alpha=1, lw=4)\n",
    "#pink_dashed_line = Line2D([], [], color='tab:orange', linestyle='dashed', lw=4)\n",
    "blue_rectangle   = mpatches.Rectangle((0, 0), 1, 1, color='tab:orange')\n",
    "orange_rectangle = mpatches.Rectangle((0, 0), 1, 1, color='tab:grey')\n",
    "\n",
    "# Add the line objects to the legend\n",
    "ax = axs[-1]; ax.set_yticks([])\n",
    "ax.axis('off')\n",
    "ax.legend(handles=[blue_rectangle, orange_rectangle], \n",
    "          labels=['stable','random'], \n",
    "          loc='lower right', frameon=True)    \n",
    "\n",
    "plt.tight_layout()\n",
    "plt.savefig(pjoin(path_fig,'model_error_mismatch.pdf'))\n",
    "plt.savefig(pjoin(path_fig,'model_error_mismatch.svg'))\n",
    "#plt.tight_layout()\n",
    "#plt.suptitle('Error mismatch', )"
   ]
  },
  {
   "cell_type": "code",
   "execution_count": null,
   "id": "62e5c2de",
   "metadata": {},
   "outputs": [],
   "source": [
    "dfcc_all_NIH['error_diff_Died_pscadj_abs']"
   ]
  },
  {
   "cell_type": "code",
   "execution_count": null,
   "id": "bcef1384",
   "metadata": {},
   "outputs": [],
   "source": [
    "for coln in [coln + '_pscadj' for coln in 'error_diff_Tan,error_diff_Died,error_diff_Herz'.split(',')]:\n",
    "    dfcc_all_NIH[coln + '_abs'] = dfcc_all_NIH[coln].abs()\n"
   ]
  },
  {
   "cell_type": "code",
   "execution_count": null,
   "id": "bea077cf",
   "metadata": {},
   "outputs": [],
   "source": [
    "dfrs = []\n",
    "for coln in [coln + '_pscadj' for coln in 'error_diff_Tan,error_diff_Died,error_diff_Herz'.split(',')]:\n",
    "    colneff = coln + '_abs'\n",
    "    r = dfcc_all_NIH.groupby(['subject','env'])[colneff].mean()\n",
    "    r = r.to_frame().reset_index()\n",
    "    #r.drop_columns\n",
    "    r['varname'] = colneff\n",
    "    r['model'] = coln.split('_')[2]\n",
    "    r = r.rename(columns={colneff:'valme'})\n",
    "    #display(r)\n",
    "    dfrs += [r]\n",
    "dfrs = pd.concat(dfrs, ignore_index = 1)\n",
    "dfrs"
   ]
  },
  {
   "cell_type": "code",
   "execution_count": null,
   "id": "47ae7bb6",
   "metadata": {},
   "outputs": [],
   "source": [
    "from behav_proc import comparePairs"
   ]
  },
  {
   "cell_type": "code",
   "execution_count": null,
   "id": "4eeb6a5a",
   "metadata": {},
   "outputs": [],
   "source": [
    "import pingouin"
   ]
  },
  {
   "cell_type": "code",
   "execution_count": null,
   "id": "e865aef5",
   "metadata": {},
   "outputs": [],
   "source": []
  },
  {
   "cell_type": "code",
   "execution_count": null,
   "id": "c56e189e",
   "metadata": {},
   "outputs": [],
   "source": [
    "ttrssig,ttrs = comparePairs(dfrs.query('env == \"random\"'), 'valme', 'model', paired=True)\n",
    "\n",
    "ttrssig.query('alternative != \"two-sided\" and pooled == True')[['ttstr','pval']]"
   ]
  },
  {
   "cell_type": "code",
   "execution_count": null,
   "id": "1b5b2305",
   "metadata": {},
   "outputs": [],
   "source": [
    "ttrssig,ttrs = comparePairs(dfrs.query('env == \"stable\"'), 'valme', 'model', paired=True)\n",
    "\n",
    "ttrssig.query('alternative != \"two-sided\" and pooled == True')[['ttstr','pval']]"
   ]
  },
  {
   "cell_type": "code",
   "execution_count": null,
   "id": "3405e765",
   "metadata": {},
   "outputs": [],
   "source": [
    "for model in ['Died','Tan','Herz']:\n",
    "    ttrssig,ttrs = comparePairs(dfrs.query('model == @model'), 'valme', 'env', paired=True)\n",
    "    r = ttrssig.query('alternative != \"two-sided\" and pooled == True')[['ttstr','pval']]\n",
    "    display(model, r)"
   ]
  },
  {
   "cell_type": "code",
   "execution_count": null,
   "id": "e2d5a3aa",
   "metadata": {},
   "outputs": [],
   "source": [
    "dfrs.groupby(['model','env']).mean()"
   ]
  },
  {
   "cell_type": "code",
   "execution_count": null,
   "id": "616c0eed",
   "metadata": {},
   "outputs": [],
   "source": [
    "sns.set_style('white')\n",
    "#sns.set_style('dark')"
   ]
  },
  {
   "cell_type": "code",
   "execution_count": null,
   "id": "a5a84270",
   "metadata": {},
   "outputs": [],
   "source": [
    "dfr['error_diff'] = dfr['error'] - dfr['error_pred']\n",
    "dfr['error_diff_abs'] = dfr['error_diff'].abs()"
   ]
  },
  {
   "cell_type": "code",
   "execution_count": null,
   "id": "4adee20e",
   "metadata": {},
   "outputs": [],
   "source": [
    "dfr['error_abs'] = dfr['error'].abs()\n",
    "dfr['error_pred_abs'] = dfr['error_pred'].abs()"
   ]
  },
  {
   "cell_type": "code",
   "execution_count": null,
   "id": "8ea83620",
   "metadata": {},
   "outputs": [],
   "source": [
    "pert_plot = dfcc_all_NIH.query('subject == @subjects_NIH[0]')['perturbation'].values"
   ]
  },
  {
   "cell_type": "code",
   "execution_count": null,
   "id": "53851e02",
   "metadata": {},
   "outputs": [],
   "source": [
    "pertplot=dict(color='r', alpha=0.6, ls=':')"
   ]
  },
  {
   "cell_type": "code",
   "execution_count": null,
   "id": "fa4582fa",
   "metadata": {},
   "outputs": [],
   "source": [
    "#pertplot=dict(color='r', alpha=1, ls=':')\n",
    "\n",
    "#plt.figure(figsize=(12,4))\n",
    "fg = sns.relplot(data=dfr.query('model != \"Diedrichsen\"'), \n",
    "            kind='line',x='trial_index',\n",
    "            y ='err_sens', col='dfname', row='model',\n",
    "                aspect=3, facet_kws={'sharex': 'col'},\n",
    "                ci='sd')\n",
    "for axi,ax in enumerate(fg.axes.flatten()):\n",
    "    if axi % 2 ==0:\n",
    "        #ax.plot(pert_plot, **pertplot)\n",
    "        ax.plot(0.8 + pert_plot / (30*4), **pertplot)\n",
    "    ax.axhline(0,c='k',ls=':')\n",
    "    ax.grid(True)\n",
    "    "
   ]
  },
  {
   "cell_type": "code",
   "execution_count": null,
   "id": "7cd0012c",
   "metadata": {},
   "outputs": [],
   "source": [
    "sns.lineplot?"
   ]
  },
  {
   "cell_type": "code",
   "execution_count": null,
   "id": "de1f2142",
   "metadata": {
    "code_folding": []
   },
   "outputs": [],
   "source": [
    "#%debug\n",
    "fg = sns.relplot(data=dfr, kind='line',x='trial_index',\n",
    "            y ='error_pred_abs', col='dfname', row='model',\n",
    "                ci='sd')\n",
    "for axi,ax in enumerate(fg.axes.flatten()):\n",
    "    if axi % 2 ==0:\n",
    "        ax.plot(pert_plot, **pertplot)\n",
    "    ax.axhline(0,c='k',ls=':')\n",
    "    ax.grid(True)\n",
    "\n",
    "# fg = sns.relplot(data=dfr, kind='line',x='trial_index',\n",
    "#             y ='error_pred_abs', col='dfname', row='model')\n",
    "# for ax in fg.axes.flatten():\n",
    "#     ax.plot(perturb , **pertplot)"
   ]
  },
  {
   "cell_type": "code",
   "execution_count": null,
   "id": "33db4e8d",
   "metadata": {},
   "outputs": [],
   "source": [
    "#%debug\n",
    "fg = sns.relplot(data=dfr, kind='line',x='trial_index',\n",
    "            y ='error_diff', col='dfname', row='model',\n",
    "                ci='sd')\n",
    "for axi,ax in enumerate(fg.axes.flatten()):\n",
    "    if axi % 2 ==0:\n",
    "        ax.plot(pert_plot, **pertplot)\n",
    "    ax.axhline(0,c='k',ls=':')\n",
    "    ax.grid(True)\n",
    "\n",
    "# fg = sns.relplot(data=dfr, kind='line',x='trial_index',\n",
    "#             y ='error_pred_abs', col='dfname', row='model')\n",
    "# for ax in fg.axes.flatten():\n",
    "#     ax.plot(perturb , **pertplot)"
   ]
  },
  {
   "cell_type": "code",
   "execution_count": null,
   "id": "023dd1b4",
   "metadata": {},
   "outputs": [],
   "source": [
    "fg.axes.shape"
   ]
  },
  {
   "cell_type": "code",
   "execution_count": null,
   "id": "cc536d03",
   "metadata": {},
   "outputs": [],
   "source": [
    "fg = sns.relplot(data=dfr, kind='line',x='trial_index',\n",
    "            y ='error_diff_abs', col='dfname', row='model',\n",
    "                 ci='sd')\n",
    "for axi,ax in enumerate(fg.axes.flatten()):\n",
    "    if axi % 2 ==0:\n",
    "        ax.plot(pert_plot, **pertplot)\n",
    "    ax.axhline(0,c='k',ls=':')\n",
    "    ax.grid(True)"
   ]
  },
  {
   "cell_type": "code",
   "execution_count": null,
   "id": "acc48582",
   "metadata": {},
   "outputs": [],
   "source": [
    "fg = sns.relplot(data=dfr, kind='line',x='trial_index',\n",
    "            y ='error_abs', col='dfname', row='model')\n",
    "for ax in fg.axes.flatten():\n",
    "    ax.plot(perturb, **pertplot)\n",
    "\n",
    "fg = sns.relplot(data=dfr, kind='line',x='trial_index',\n",
    "            y ='error_pred_abs', col='dfname', row='model')\n",
    "for ax in fg.axes.flatten():\n",
    "    ax.plot(perturb , **pertplot)"
   ]
  },
  {
   "cell_type": "code",
   "execution_count": null,
   "id": "233242d0",
   "metadata": {},
   "outputs": [],
   "source": []
  },
  {
   "cell_type": "code",
   "execution_count": null,
   "id": "b9df2905",
   "metadata": {},
   "outputs": [],
   "source": []
  },
  {
   "cell_type": "code",
   "execution_count": null,
   "id": "0556eb22",
   "metadata": {},
   "outputs": [],
   "source": []
  }
 ],
 "metadata": {
  "kernelspec": {
   "display_name": "merr",
   "language": "python",
   "name": "merr"
  },
  "language_info": {
   "codemirror_mode": {
    "name": "ipython",
    "version": 3
   },
   "file_extension": ".py",
   "mimetype": "text/x-python",
   "name": "python",
   "nbconvert_exporter": "python",
   "pygments_lexer": "ipython3",
   "version": "3.8.13"
  }
 },
 "nbformat": 4,
 "nbformat_minor": 5
}
