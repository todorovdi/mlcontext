{
 "cells": [
  {
   "cell_type": "code",
   "execution_count": null,
   "id": "9196934d",
   "metadata": {},
   "outputs": [],
   "source": [
    "from IPython.display import display, HTML\n",
    "display(HTML(\"<style>.container { width:100% !important; }</style>\"))"
   ]
  },
  {
   "cell_type": "code",
   "execution_count": null,
   "id": "6371e94b",
   "metadata": {},
   "outputs": [],
   "source": [
    "%load_ext autoreload\n",
    "%autoreload 2\n",
    "\n",
    "import os\n",
    "ipy = get_ipython()\n",
    "#data_dir_general = '/home/demitau/data_Quentin'\n",
    "#data_subdir_mem_err_main = 'full_experiments/data2'\n",
    "from os.path import join as pjoin\n",
    "import os,sys; sys.path.append(os.path.expandvars('$CODE_MEMORY_ERRORS'))\n",
    "import error_sensitivity\n",
    "#data_dir_input = pjoin(data_dir_general,data_subdir_mem_err_main)\n",
    "import pandas as pd\n",
    "\n",
    "#data_dir_general = '/home/demitau/data_Quentin'\n",
    "#data_subdir_mem_err_main = 'full_experiments/data2'\n",
    "#data_dir_input = pjoin(data_dir_general,data_subdir_mem_err_main)\n",
    "#scripts_dir = pjoin(data_dir_general,'full_experiments','scripts2')\n",
    "\n",
    "data_dir_general = os.path.expandvars('$DATA_QUENTIN')\n",
    "data_dir_input = os.path.expandvars('$DATA_MEMORY_ERRORS_STAB_AND_STOCH')\n",
    "#scripts_dir = pjoin( os.path.expandvars('$CODE_MEMORY_ERRORS'), 'previous_analyses')\n",
    "scripts_dir = pjoin( os.path.expandvars('$CODE_MEMORY_ERRORS'))\n",
    "\n",
    "\n",
    "print(data_dir_input, scripts_dir)\n",
    "\n",
    "subjects = [f for f in os.listdir(data_dir_input) if f.startswith('sub') ]\n",
    "subjects = list(sorted(subjects))\n",
    "print(subjects)"
   ]
  },
  {
   "cell_type": "markdown",
   "id": "c8c8e922",
   "metadata": {
    "heading_collapsed": true,
    "jp-MarkdownHeadingCollapsed": true
   },
   "source": [
    "# Do manually"
   ]
  },
  {
   "cell_type": "code",
   "execution_count": null,
   "id": "cb8a47df",
   "metadata": {
    "hidden": true
   },
   "outputs": [],
   "source": [
    "from config2 import path_data\n",
    "subject = subjects[0]\n",
    "\n",
    "folder = pjoin(path_data, subject, 'behavdata')\n",
    "files = os.listdir(folder)\n",
    "fname_behavior = list()\n",
    "task = 'visuomotor'\n",
    "fname_behavior.extend([pjoin(folder, f) for f in files if ((task in f) and\n",
    "                                                             ('.log' in f))])\n",
    "print(fname_behavior)\n",
    "fnf = fname_behavior[0]\n",
    "# time is time since start\n",
    "logcols = ('trials,trigger,target_inds,perturbation,jax1,jax2,'\n",
    "    'feedbackX_screen,feedbackY_screen,'\n",
    "    'org_feedbackX_screen,org_feedbackY_screen,'\n",
    "    'error_distance,environment,time').split(',')\n",
    "df = pd.read_csv(fnf, names=logcols)\n",
    "assert (df['time'].diff().iloc[1:] > 0).all()\n",
    "\n",
    "import numpy as np\n",
    "target_angs = (np.array([157.5, 112.5, 67.5, 22.5]) + 90) * \\\n",
    "              (np.pi/180)\n",
    "\n",
    "from config2 import stage2evn2event_ids,envcode2env\n",
    "from base2 import width,height\n",
    "from behav_proc import aggRows\n",
    "df['subject'] = subject"
   ]
  },
  {
   "cell_type": "code",
   "execution_count": null,
   "id": "445dd499",
   "metadata": {
    "hidden": true
   },
   "outputs": [],
   "source": [
    "#len(logcols)"
   ]
  },
  {
   "cell_type": "code",
   "execution_count": null,
   "id": "d3d66d78",
   "metadata": {
    "hidden": true
   },
   "outputs": [],
   "source": [
    "stage2evn2event_ids"
   ]
  },
  {
   "cell_type": "code",
   "execution_count": null,
   "id": "cb59658e",
   "metadata": {
    "hidden": true
   },
   "outputs": [],
   "source": [
    "phase2trigger = {\n",
    "    'REST_PHASE': 10,\n",
    "    'TARGET_PHASE': 20,\n",
    "    'FEEDBACK_PHASE': 30,\n",
    "    'ITI_PHASE': 40,\n",
    "    'BREAK_PHASE': 50\n",
    "}\n",
    "trigger2phase = {\n",
    "    10: 'REST_PHASE',\n",
    "    20: 'TARGET_PHASE',\n",
    "    30: 'FEEDBACK_PHASE',\n",
    "    40: 'ITI_PHASE',\n",
    "    50: 'BREAK_PHASE'\n",
    "}\n",
    "\n",
    "df['phase'] = df['trigger'].apply(lambda x: trigger2phase[x])\n",
    "\n",
    "d = {'TARGET_PHASE':'target', 'FEEDBACK_PHASE':'feedback'}\n",
    "df['env'] = df['environment'].apply(lambda x: envcode2env[x])\n",
    "\n",
    "df['target_locs'] = df['target_inds'].apply(lambda x: target_angs[x])\n",
    "df['target_locs'] = df['target_locs'] - np.pi\n",
    "def f(x):\n",
    "    ph = x['phase']\n",
    "    if ph not in d:\n",
    "        return -10000\n",
    "    else:\n",
    "        #print(ph)\n",
    "        inds = stage2evn2event_ids[d[ph] ][x['env'] ]\n",
    "        #print(inds, x['tgti'])\n",
    "        if len(inds) == 1:\n",
    "            r = inds[0]\n",
    "        else:\n",
    "            r = inds[x['target_inds']] \n",
    "        return r\n",
    "    \n",
    "df['target_codes'] = df.apply(f, 1)\n",
    "\n",
    "df['org_feedbackX'] = df['org_feedbackX_screen'] - width /2 \n",
    "df['org_feedbackY'] = df['org_feedbackY_screen'] - height /2 \n",
    "\n",
    "df['feedbackX'] = df['feedbackX_screen'] - width /2 \n",
    "df['feedbackY'] = df['feedbackY_screen'] - height /2 \n",
    "\n",
    "# df = df.drop(columns=['feedbackX_screen','feedbackY_screen',\n",
    "#                       'org_feedbackX_screen','org_feedbackY_screen'] )\n",
    "\n",
    "#########\n",
    "\n",
    "dfc_ = df.query('phase == \"BREAK_PHASE\"')\n",
    "grp_ = dfc_.groupby(['trials'])\n",
    "dfcpc = aggRows(dfc_ , \n",
    "    'time', 'max', grp_, coltake='corresp').copy()\n",
    "dfcpc['perturbation'] = np.nan\n",
    "dfcpc[['jax1','jax2','org_feedbackX','org_feedbackY',\n",
    "      'feedbackX','feedbackY']] = np.nan\n",
    "\n",
    "#########\n",
    "\n",
    "#df['feedbackX'].isna().any()\n",
    "\n",
    "from base2 import calc_rad_angle_from_coordinates\n",
    "from base2 import radius\n",
    "c = df['feedbackX'].isna()\n",
    "df.loc[~c, 'feedback'] = calc_rad_angle_from_coordinates(\n",
    "    df.loc[~c, 'feedbackX'].values, \n",
    "    df.loc[~c, 'feedbackY'].values, radius)\n",
    "df['feedback'] = df['feedback'] - np.pi\n",
    "\n",
    "c = df['org_feedbackX'].isna()\n",
    "df.loc[~c, 'org_feedback'] = calc_rad_angle_from_coordinates(\n",
    "    df.loc[~c, 'org_feedbackX'].values, \n",
    "    df.loc[~c, 'org_feedbackY'].values, radius)\n",
    "df['org_feedback'] = df['org_feedback'] - np.pi\n",
    "\n",
    "df['error'] = df['feedback'] - df['target_locs']\n",
    "df['belief'] = df['org_feedback'] - df['target_locs']\n",
    "dfc = df\n",
    "\n",
    "\n",
    "grp = dfc.query('phase == \"FEEDBACK_PHASE\"').groupby(['trials'])\n",
    "dfcc = aggRows(dfc, 'time', 'max', grp, coltake = 'corresp')\n",
    "dfcc['time_diff'] = dfcc['time'].diff()\n",
    "\n",
    "inds = dfcc.query('environment == 1').index\n",
    "dfcc.loc[inds,'perturbation'] = dfcc.loc[inds,'feedback'] - dfcc.loc[inds,'org_feedback']\n"
   ]
  },
  {
   "cell_type": "code",
   "execution_count": null,
   "id": "7a45f92f",
   "metadata": {
    "hidden": true
   },
   "outputs": [],
   "source": []
  },
  {
   "cell_type": "code",
   "execution_count": null,
   "id": "24a39b7d",
   "metadata": {
    "hidden": true
   },
   "outputs": [],
   "source": [
    "df['org_feedbackX_screen']"
   ]
  },
  {
   "cell_type": "code",
   "execution_count": null,
   "id": "3c173397",
   "metadata": {
    "hidden": true
   },
   "outputs": [],
   "source": [
    "df['traj_dist_from_center'] = np.sqrt((df['jax1'] -  width /2)**2 +\\\n",
    "                                         (df['jax2'] -  height /2)**2)"
   ]
  },
  {
   "cell_type": "code",
   "execution_count": null,
   "id": "de9b069b",
   "metadata": {
    "hidden": true
   },
   "outputs": [],
   "source": [
    "df['traj_dist_from_center']"
   ]
  },
  {
   "cell_type": "code",
   "execution_count": null,
   "id": "c3796645",
   "metadata": {
    "hidden": true
   },
   "outputs": [],
   "source": [
    "df.query('phase == \"TARGET_PHASE\" and trials == 0').\\\n",
    "    plot(x='time',y='traj_dist_from_center')"
   ]
  },
  {
   "cell_type": "code",
   "execution_count": null,
   "id": "734d63a7",
   "metadata": {
    "hidden": true,
    "run_control": {
     "marked": true
    }
   },
   "outputs": [],
   "source": [
    "df.query('phase == \"TARGET_PHASE\" and trials == 20')\\\n",
    "    [['trials','org_feedbackX','org_feedbackY','org_feedbackX_screen',\n",
    "      'org_feedbackY_screen','org_dist_from_center']]"
   ]
  },
  {
   "cell_type": "code",
   "execution_count": null,
   "id": "c93efd6b",
   "metadata": {
    "hidden": true
   },
   "outputs": [],
   "source": [
    "from base2 import radius_cursor, radius_target\n",
    "home_radius = radius_cursor + radius_target; home_radius"
   ]
  },
  {
   "cell_type": "code",
   "execution_count": null,
   "id": "8c91d7e0",
   "metadata": {
    "hidden": true
   },
   "outputs": [],
   "source": [
    "# def f(df_):\n",
    "#     return df_\n",
    "# df.groupby\n",
    "\n",
    "def f(df__):\n",
    "    RT = np.nan\n",
    "    #print()\n",
    "    df_ = df.loc[df__.index]\n",
    "    \n",
    "    \n",
    "    subdf0 = df_.query('phase == \"TARGET_PHASE\"')\n",
    "    st_time = subdf0.iloc[0]['time']\n",
    "    subdf1 = subdf0.query('traj_dist_from_center > @home_radius')\n",
    "    exit_home_time = subdf1.iloc[0]['time']\n",
    "    \n",
    "    RT = exit_home_time - st_time\n",
    "    #if len(subdf ):\n",
    "    #    RT = subdf.iloc[0]['time'] - st_time\n",
    "    #print(dur)\n",
    "    #pd.DataFrame({'trials'})\n",
    "    newdf = df_[['trials','time']].copy()\n",
    "    newdf['RT'] = RT\n",
    "\n",
    "    print(RT)\n",
    "    raise ValueError('e')\n",
    "    return newdf\n",
    "assert df['time'].diff().min() > 0\n",
    "r = df.groupby(['trials'], group_keys=False).apply(f)\n",
    "df['RT'] = r['RT']\n",
    "\n",
    "df[['trials','RT']].iloc[0]"
   ]
  },
  {
   "cell_type": "code",
   "execution_count": null,
   "id": "6b2bb968",
   "metadata": {
    "hidden": true
   },
   "outputs": [],
   "source": [
    "dfcc1R[['trials','RT']]"
   ]
  },
  {
   "cell_type": "code",
   "execution_count": null,
   "id": "8c37166a",
   "metadata": {
    "hidden": true
   },
   "outputs": [],
   "source": [
    "df['RT'].describe()"
   ]
  },
  {
   "cell_type": "code",
   "execution_count": null,
   "id": "1f0d40f0",
   "metadata": {
    "hidden": true
   },
   "outputs": [],
   "source": [
    "from behav_proc import addNonHitCol, addBehavCols\n",
    "#dfos = addBehavCols(dfcc)"
   ]
  },
  {
   "cell_type": "code",
   "execution_count": null,
   "id": "5e2e714d",
   "metadata": {
    "hidden": true
   },
   "outputs": [],
   "source": [
    "#dfcc.plot(y='error', x='trials')"
   ]
  },
  {
   "cell_type": "code",
   "execution_count": null,
   "id": "fec0d30c",
   "metadata": {
    "hidden": true
   },
   "outputs": [],
   "source": [
    "# in romain data BREAK is not a separate trial,\n",
    "# it is just a phase after condition change, around 25-33 sec"
   ]
  },
  {
   "cell_type": "code",
   "execution_count": null,
   "id": "8e839b09",
   "metadata": {
    "hidden": true
   },
   "outputs": [],
   "source": [
    "FPS = 120\n",
    "break_durations = dfc.query('phase == \"BREAK_PHASE\"').groupby('trials').size() / FPS\n",
    "break_durations = break_durations.to_frame()\n",
    "display(break_durations)"
   ]
  },
  {
   "cell_type": "code",
   "execution_count": null,
   "id": "4444d915",
   "metadata": {
    "hidden": true
   },
   "outputs": [],
   "source": [
    "print( 'timd_diff of dfcc ')\n",
    "display(dfcc['time_diff'].describe()) "
   ]
  },
  {
   "cell_type": "code",
   "execution_count": null,
   "id": "9a51c0af",
   "metadata": {
    "hidden": true
   },
   "outputs": [],
   "source": [
    "#grp = dfc.groupby(['trials','phase'])"
   ]
  },
  {
   "cell_type": "code",
   "execution_count": null,
   "id": "8e0f2f3f",
   "metadata": {
    "hidden": true
   },
   "outputs": [],
   "source": [
    "#.describe()\n",
    "grp = dfc.groupby(['trials','phase'])\n",
    "dfcc0 = aggRows(dfc, 'time', 'max', grp, coltake = 'corresp')\n",
    "dfcc0['time_diff_phase'] = dfcc0['time'].diff()\n",
    "dfcc0 = dfcc0.set_index(['trials','phase'])\n",
    "dfcc0['phase_duration'] = aggRows(dfc, 'time', 'max', grp, coltake = 'corresp').set_index(['trials','phase'])['time'] -\\\n",
    "      aggRows(dfc, 'time', 'min', grp, coltake = 'corresp').set_index(['trials','phase'])['time']\n",
    "\n",
    "dfcc0 = dfcc0.reset_index()\n",
    "dfcc0 = dfcc0.sort_values('time')\n",
    "dfcc0['time_since_last'] = \\\n",
    "    dfcc0.sort_values('time').groupby('phase')['time'].diff()\n",
    "\n",
    "dfcc0['phase_duration'].describe()"
   ]
  },
  {
   "cell_type": "code",
   "execution_count": null,
   "id": "b197229d",
   "metadata": {
    "hidden": true
   },
   "outputs": [],
   "source": [
    "# from break Romain goes to ITI\n",
    "# then trial index chanegx only after switch from ITI to REST"
   ]
  },
  {
   "cell_type": "code",
   "execution_count": null,
   "id": "2a7b2633",
   "metadata": {
    "hidden": true
   },
   "outputs": [],
   "source": [
    "#dfcc.query('time_diff > 10') "
   ]
  },
  {
   "cell_type": "code",
   "execution_count": null,
   "id": "3c0dfd6b",
   "metadata": {
    "hidden": true
   },
   "outputs": [],
   "source": [
    "#dfcc0['trial_has_break'] = dfcc0['phase'] == 'BREAK_PHASE'"
   ]
  },
  {
   "cell_type": "code",
   "execution_count": null,
   "id": "a45e0511",
   "metadata": {
    "hidden": true
   },
   "outputs": [],
   "source": [
    "trbr = dfcpc['trials'].unique()\n",
    "dfcc0.sort_values('time').query('trials.isin(@trbr)')[['trials','phase','time']]"
   ]
  },
  {
   "cell_type": "code",
   "execution_count": null,
   "id": "c3b20715",
   "metadata": {
    "hidden": true
   },
   "outputs": [],
   "source": [
    "#dfc.query('trials.isin(@trbr)').iloc[:800:20][['trials','phase','time']]"
   ]
  },
  {
   "cell_type": "code",
   "execution_count": null,
   "id": "d4e47d0c",
   "metadata": {
    "hidden": true,
    "run_control": {
     "marked": false
    }
   },
   "outputs": [],
   "source": [
    "# dfcc1 = dfcc.set_index('trials') \n",
    "# dfcc1['trial_has_break'] = dfcc0.groupby('trials').apply(\n",
    "#     lambda dftmp: dftmp['trial_has_break'].any())\n",
    "\n",
    "# assert (dfcc1['time'].diff().iloc[1:] > 0).all()"
   ]
  },
  {
   "cell_type": "code",
   "execution_count": null,
   "id": "4e55e6a4",
   "metadata": {
    "hidden": true
   },
   "outputs": [],
   "source": [
    "dfcc0"
   ]
  },
  {
   "cell_type": "code",
   "execution_count": null,
   "id": "910c010d",
   "metadata": {
    "hidden": true
   },
   "outputs": [],
   "source": [
    "# definte break duration for trials where it happened\n",
    "dfcc0['pre_break_duration'] = np.nan\n",
    "c = dfcc0['phase'].isin( [\"BREAK_PHASE\"])\n",
    "trials_with_break = dfcc0[c]['trials'].unique()\n",
    "inds_ = dfcc0.query('trials.isin(@trials_with_break)').index\n",
    "#dfcc0.loc[inds,'pre_break_duration'] = \n",
    "\n",
    "def f(df):\n",
    "    dur = 0.\n",
    "    #print()\n",
    "    df_ = dfcc0.loc[df.index]\n",
    "    subdf = df_.query('phase == \"BREAK_PHASE\"')\n",
    "    if len(subdf ):\n",
    "        dur = subdf.iloc[0]['phase_duration']\n",
    "    #print(dur)\n",
    "    #pd.DataFrame({'trials'})\n",
    "    newdf = df_[['trials','phase']].copy()\n",
    "    newdf['pre_break_duration'] = dur\n",
    "    if dur > 1e-10:\n",
    "        newdf['was_pre_break'] = True\n",
    "    else:\n",
    "        newdf['was_pre_break'] = False\n",
    "    return newdf\n",
    "r = dfcc0.groupby(['trials'], group_keys=False).apply(f)\n",
    "\n",
    "dfcc0['pre_break_duration'] = r['pre_break_duration']\n",
    "dfcc0['was_pre_break'] = r['was_pre_break']"
   ]
  },
  {
   "cell_type": "markdown",
   "id": "b9832333",
   "metadata": {
    "hidden": true
   },
   "source": [
    "I have phases, I need to set for each trial (or even for reach phase) a var of pre_break_dur to something"
   ]
  },
  {
   "cell_type": "code",
   "execution_count": null,
   "id": "d2e261e0",
   "metadata": {
    "hidden": true
   },
   "outputs": [],
   "source": [
    "# take only one phase\n",
    "dfcc0_ = dfcc0.sort_values('time')\n",
    "c = dfcc0_['phase'].isin( [\"FEEDBACK_PHASE\"])\n",
    "dfcc1 = dfcc0_[c].copy()\n",
    "print( len(dfcc), len(dfcc1) )\n",
    "assert np.min(dfcc1['time'].diff().iloc[1:]) > 0\n",
    "assert not dfcc1.duplicated(['trials']).any()\n",
    "\n",
    "c = dfcc1['perturbation'].abs() > 1e-10\n",
    "dfcc1.loc[c,'trial_type'] = 'perturbation'\n",
    "dfcc1.loc[~c,'trial_type'] = 'veridical'\n",
    "dfcc1.loc[dfcc1['phase'] == \"BREAK_PHASE\",'trial_type'] = 'pause'\n",
    "\n",
    "###############  add more stuff from dfcc0\n",
    "#dfcc2 = dfcc2.set_index(['trials','phase'])\n",
    "qs0 = 'phase == \"FEEDBACK_PHASE\"'\n",
    "dfcc1 = dfcc1.reset_index().sort_values('trials')\n",
    "inds = dfcc1.query(qs0).index\n",
    "dfcc0_ = dfcc0.reset_index().sort_values('trials')\n",
    "dfcc1['home_duration'] = np.nan\n",
    "dfcc1['movement_duration'] = np.nan\n",
    "dfcc1['trial_duration'] = np.nan\n",
    "qs = 'phase == \"REST_PHASE\"'\n",
    "dfcc1.loc[inds,'home_duration']     = dfcc0_.query(qs)['phase_duration'].values\n",
    "qs = 'phase == \"TARGET_PHASE\"'\n",
    "dfcc1.loc[inds,'movement_duration'] = dfcc0_.query(qs)['phase_duration'].values\n",
    "\n",
    "# not counting break part even if present\n",
    "df_ = dfc.query('phase != \"BREAK_PHASE\"').groupby('trials')\n",
    "trial_dur_excbreak = df_['time'].max() - df_['time'].min()\n",
    "assert trial_dur_excbreak.to_frame().reset_index()['trials'].diff()[1:].min() > 0\n",
    "dfcc1.loc[inds, 'trial_duration'] = trial_dur_excbreak.values\n",
    "\n",
    "# if I want to compute time distance between target phase starts\n",
    "# then I'd take dfcc0.query('TARGET_PHASE')['time_since_last']\n",
    "dfcc1 = dfcc1.sort_values('time')"
   ]
  },
  {
   "cell_type": "code",
   "execution_count": null,
   "id": "eaa20ee1",
   "metadata": {
    "hidden": true
   },
   "outputs": [],
   "source": [
    "# creating a \"virtual trial\" for break part\n",
    "dfcc0_ = dfcc0.sort_values('time')\n",
    "c = dfcc0_['phase'].isin( [\"FEEDBACK_PHASE\",\"BREAK_PHASE\"])\n",
    "dfcc0_['trial_index_inc_pause'] = c.cumsum() - 1\n",
    "\n",
    "dfcc2 = dfcc0_[c].copy()\n",
    "print( len(dfcc), len(dfcc2) )\n",
    "assert np.min(dfcc2['time'].diff().iloc[1:]) > 0\n",
    "assert not dfcc2.duplicated(['trial_index_inc_pause']).any()\n",
    "\n",
    "c = dfcc2['perturbation'].abs() > 1e-10\n",
    "dfcc2.loc[c,'trial_type'] = 'perturbation'\n",
    "dfcc2.loc[~c,'trial_type'] = 'veridical'\n",
    "dfcc2.loc[dfcc2['phase'] == \"BREAK_PHASE\",'trial_type'] = 'pause'\n",
    "\n",
    "###############  add more stuff from dfcc0\n",
    "#dfcc2 = dfcc2.set_index(['trials','phase'])\n",
    "qs0 = 'phase == \"FEEDBACK_PHASE\"'\n",
    "dfcc2 = dfcc2.reset_index().sort_values('trials')\n",
    "inds = dfcc2.query(qs0).index\n",
    "dfcc0_ = dfcc0.reset_index().sort_values('trials')\n",
    "dfcc2['home_duration'] = np.nan\n",
    "dfcc2['movement_duration'] = np.nan\n",
    "dfcc2['trial_duration'] = np.nan\n",
    "qs = 'phase == \"REST_PHASE\"'\n",
    "dfcc2.loc[inds,'home_duration']     = dfcc0_.query(qs)['phase_duration'].values\n",
    "qs = 'phase == \"TARGET_PHASE\"'\n",
    "dfcc2.loc[inds,'movement_duration'] = dfcc0_.query(qs)['phase_duration'].values\n",
    "\n",
    "# not counting break part even if present\n",
    "df_ = dfc.query('phase != \"BREAK_PHASE\"').groupby('trials')\n",
    "trial_dur_excbreak = df_['time'].max() - df_['time'].min()\n",
    "assert trial_dur_excbreak.to_frame().reset_index()['trials'].diff()[1:].min() > 0\n",
    "dfcc2.loc[inds, 'trial_duration'] = trial_dur_excbreak.values\n",
    "\n",
    "# if I want to compute time distance between target phase starts\n",
    "# then I'd take dfcc0.query('TARGET_PHASE')['time_since_last']\n",
    "\n",
    "qs0 = 'phase == \"BREAK_PHASE\"'\n",
    "inds = dfcc2.query(qs0).index.values\n",
    "qs = 'phase == \"BREAK_PHASE\"'\n",
    "dfcc2.loc[inds,'trial_duration'] = dfcc0_.query(qs)['phase_duration'].values\n",
    "\n",
    "dfcc2 = dfcc2.sort_values('time')"
   ]
  },
  {
   "cell_type": "markdown",
   "id": "82e95bd8",
   "metadata": {
    "hidden": true
   },
   "source": [
    "'RT' when exit home_radius\n",
    "'err'"
   ]
  },
  {
   "cell_type": "code",
   "execution_count": null,
   "id": "a84df860",
   "metadata": {
    "hidden": true
   },
   "outputs": [],
   "source": [
    "cols = ['trial_index_inc_pause','trials','phase','home_duration',\n",
    "        'movement_duration','trial_duration','time_since_last']\n",
    "dfcc2[cols]"
   ]
  },
  {
   "cell_type": "code",
   "execution_count": null,
   "id": "d5ee160f",
   "metadata": {
    "hidden": true
   },
   "outputs": [],
   "source": [
    "cols = ['trials','phase','home_duration',\n",
    "        'movement_duration','trial_duration','time_since_last','pre_break_duration']\n",
    "dfcc1[cols]"
   ]
  },
  {
   "cell_type": "code",
   "execution_count": null,
   "id": "ae43dcd5",
   "metadata": {
    "hidden": true
   },
   "outputs": [],
   "source": [
    "dfcc1.query('was_pre_break == 1')"
   ]
  },
  {
   "cell_type": "code",
   "execution_count": null,
   "id": "9b3add64",
   "metadata": {
    "hidden": true
   },
   "outputs": [],
   "source": [
    "dfcc1.columns"
   ]
  },
  {
   "cell_type": "code",
   "execution_count": null,
   "id": "42acef67",
   "metadata": {
    "hidden": true
   },
   "outputs": [],
   "source": [
    "dfcc1['movement_duration']#.isna().all()"
   ]
  },
  {
   "cell_type": "code",
   "execution_count": null,
   "id": "d3e6ac2c",
   "metadata": {
    "hidden": true
   },
   "outputs": [],
   "source": []
  },
  {
   "cell_type": "code",
   "execution_count": null,
   "id": "5942c2bf",
   "metadata": {
    "hidden": true
   },
   "outputs": [],
   "source": [
    "set(['trials', 'perturbation', 'error', 'err', 'trajectoryX', 'trajectoryY', 'feedbackX', 'feedbackY', 'feedback', 'org_feedback', 'belief', 'target_inds', 'target_codes', 'target_locs', 'RT', 'trial_duration', 'movement_duration', 'environment'])\\\n",
    "     - set(dfcc1.columns) \n"
   ]
  },
  {
   "cell_type": "code",
   "execution_count": null,
   "id": "7012c125",
   "metadata": {
    "hidden": true
   },
   "outputs": [],
   "source": [
    "# dfcc2['home_duration'],\n",
    "# dfcc2['movement_duration'],"
   ]
  },
  {
   "cell_type": "code",
   "execution_count": null,
   "id": "322d5971",
   "metadata": {
    "hidden": true
   },
   "outputs": [],
   "source": [
    "#dfcc2.query('trial_type == \"pause\"')"
   ]
  },
  {
   "cell_type": "code",
   "execution_count": null,
   "id": "d9733d14",
   "metadata": {
    "hidden": true
   },
   "outputs": [],
   "source": []
  },
  {
   "cell_type": "code",
   "execution_count": null,
   "id": "47eaac3e",
   "metadata": {
    "hidden": true
   },
   "outputs": [],
   "source": [
    "subj = subjects[0]\n",
    "behav_data_dir = pjoin(data_dir_input,'behavdata')\n",
    "#behavdata"
   ]
  },
  {
   "cell_type": "markdown",
   "id": "1e9727bf",
   "metadata": {
    "heading_collapsed": true
   },
   "source": [
    "# Plot"
   ]
  },
  {
   "cell_type": "code",
   "execution_count": null,
   "id": "7e8f9533",
   "metadata": {
    "hidden": true
   },
   "outputs": [],
   "source": [
    "dfcc.plot(x='time',y='time_diff')\n",
    "dfcc0.plot(x='time',y='time_diff_phase')\n",
    "\n",
    "dfcc0.plot(x='time', y='time_diff_phase')\n",
    "\n",
    "dfcc0.query('phase.isin([\"FEEDBACK_PHASE\",\"BREAK_PHASE\"])')\\\n",
    "    .plot(x='time', y='trigger')\n",
    "\n",
    "dfcc0.query('phase != \"BREAK_PHASE\"').plot(y='time_since_last')"
   ]
  },
  {
   "cell_type": "markdown",
   "id": "fa36cd42",
   "metadata": {},
   "source": [
    "# Run script"
   ]
  },
  {
   "cell_type": "markdown",
   "id": "d009860a",
   "metadata": {
    "jp-MarkdownHeadingCollapsed": true
   },
   "source": [
    "## quick test ES calc"
   ]
  },
  {
   "cell_type": "code",
   "execution_count": null,
   "id": "3803f4ca",
   "metadata": {},
   "outputs": [],
   "source": [
    "# recalc all behav essentially\n",
    "#%debug\n",
    "script_name = pjoin(scripts_dir,'preprocess_behav_calc_ES.py')\n",
    "ipy.run_line_magic('run', f'-i {script_name} '\n",
    "   '--use_sub_angles 1  --read_behav_version v2 --n_subjects 1 '\n",
    "   '--do_read 0 --perturbation_random_recalc 1 --save_suffix \"\" '\n",
    "  ' --trial_shift_size_max 2 --do_per_tgt 1 --do_per_env 1 --do_plot 0 --do_save 0'\n",
    "    ' --retention_factor 1 --long_shift_numerator 0')\n",
    "    \n",
    "df_1 = df_all_multi_tsz\n",
    "del df_all_multi_tsz\n",
    "\n",
    "ipy.run_line_magic('run', f'-i {script_name} '\n",
    "   '--use_sub_angles 1  --read_behav_version v2 --n_subjects 1 '\n",
    "   '--do_read 0 --perturbation_random_recalc 1 --save_suffix \"\" '\n",
    "  ' --trial_shift_size_max 2 --do_per_tgt 1 --do_per_env 1 --do_plot 0 --do_save 0'\n",
    "    ' --retention_factor 1 --long_shift_numerator 1')\n",
    "    \n",
    "df_2 = df_all_multi_tsz"
   ]
  },
  {
   "cell_type": "code",
   "execution_count": null,
   "id": "46956e76",
   "metadata": {},
   "outputs": [],
   "source": [
    "qs = 'trial_shift_size == 2'\n",
    "df1,df2  = df_1.query(qs),df_2.query(qs)"
   ]
  },
  {
   "cell_type": "code",
   "execution_count": null,
   "id": "6fca49cf",
   "metadata": {},
   "outputs": [],
   "source": [
    "-0.0284+0.0412, -0.0284+0.1015"
   ]
  },
  {
   "cell_type": "code",
   "execution_count": null,
   "id": "0be6c108",
   "metadata": {},
   "outputs": [],
   "source": [
    "cols = ['subject_ind','block_name','trial_index','non_hit_not_adj','vals_for_corr1','vals_for_corr2','error','prevlike_error','correction','err_sens']\n",
    "N = 4\n",
    "display(df1[cols].iloc[:N])\n",
    "display(df2[cols].iloc[:N])\n",
    "\n",
    "qs = 'trial_shift_size == 1'\n",
    "df1_,df2_  = df_1.query(qs),df_2.query(qs)\n",
    "display(df1_[cols].iloc[:N])\n",
    "display(df2_[cols].iloc[:N])\n"
   ]
  },
  {
   "cell_type": "code",
   "execution_count": null,
   "id": "51965989",
   "metadata": {},
   "outputs": [],
   "source": [
    "df1['err_sens']"
   ]
  },
  {
   "cell_type": "code",
   "execution_count": null,
   "id": "4c703efe",
   "metadata": {},
   "outputs": [],
   "source": [
    "df1['err_sens']"
   ]
  },
  {
   "cell_type": "markdown",
   "id": "8b988089",
   "metadata": {
    "heading_collapsed": true,
    "jp-MarkdownHeadingCollapsed": true
   },
   "source": [
    "## Fast read_behav2_upd"
   ]
  },
  {
   "cell_type": "code",
   "execution_count": null,
   "id": "75eb724c",
   "metadata": {
    "hidden": true
   },
   "outputs": [],
   "source": [
    "#for subject in subjects:\n",
    "for subject in subjects[:1]:\n",
    "    script_name = pjoin(scripts_dir,'read_behav2_upd.py')\n",
    "    ipy.run_line_magic('run', f'-i {script_name} --subject {subject} --save_suffix \"\"')\n",
    "    "
   ]
  },
  {
   "cell_type": "code",
   "execution_count": null,
   "id": "1a153c76",
   "metadata": {
    "hidden": true
   },
   "outputs": [],
   "source": [
    "df.query('trials == 0')[['time','trigger','phase']]"
   ]
  },
  {
   "cell_type": "code",
   "execution_count": null,
   "id": "9c2c3f07",
   "metadata": {
    "hidden": true
   },
   "outputs": [],
   "source": [
    "from behav_proc import checkErrBounds\n",
    "checkErrBounds(dfcc1, ['feedback','org_feedback','belief'])"
   ]
  },
  {
   "cell_type": "code",
   "execution_count": null,
   "id": "7a323234",
   "metadata": {
    "hidden": true
   },
   "outputs": [],
   "source": [
    "dfcc1upd['error']"
   ]
  },
  {
   "cell_type": "code",
   "execution_count": null,
   "id": "8f681e93",
   "metadata": {
    "hidden": true
   },
   "outputs": [],
   "source": [
    "from base2 import subAngles"
   ]
  },
  {
   "cell_type": "code",
   "execution_count": null,
   "id": "e6100a4c",
   "metadata": {
    "hidden": true,
    "run_control": {
     "marked": false
    }
   },
   "outputs": [],
   "source": [
    "# import cmath\n",
    "# from cmath import exp as cexp\n",
    "# def subAngles(ang1, ang2):\n",
    "#     if isinstance(ang1, pd.Series):\n",
    "#         ang1 = ang1.values\n",
    "#     if isinstance(ang2, pd.Series):\n",
    "#         ang2 = ang2.values\n",
    "#     r = np.exp(ang1 * 1j) * np.exp(-ang2 * 1j)\n",
    "#     return np.log(r).imag\n",
    "\n",
    "a1,a2 = 10,210\n",
    "a1 = a1/  180 * np.pi\n",
    "a2 = a2/  180 * np.pi\n",
    "r = subAngles(a1,a2) / np.pi * 180\n",
    "print(r)\n",
    "\n",
    "subAngles(dfcc1upd['target_locs'], dfcc1upd['org_feedback'])"
   ]
  },
  {
   "cell_type": "code",
   "execution_count": null,
   "id": "74266965",
   "metadata": {
    "hidden": true
   },
   "outputs": [],
   "source": [
    "import seaborn as sns\n",
    "sns.lineplot(data=dfcc1, x='trials', y='error')"
   ]
  },
  {
   "cell_type": "code",
   "execution_count": null,
   "id": "3fc9ce07",
   "metadata": {
    "hidden": true
   },
   "outputs": [],
   "source": [
    "#os.listdir('/home/demitau/data_Quentin/full_experiments/data2/sub01_WGPOZPEE/behavdata/')"
   ]
  },
  {
   "cell_type": "markdown",
   "id": "87d9ed59",
   "metadata": {
    "heading_collapsed": true,
    "jp-MarkdownHeadingCollapsed": true
   },
   "source": [
    "## compare side by side"
   ]
  },
  {
   "cell_type": "code",
   "execution_count": null,
   "id": "00be93f4",
   "metadata": {
    "hidden": true
   },
   "outputs": [],
   "source": [
    "subject = subjects[4]\n",
    "\n",
    "script_name = pjoin(scripts_dir,'read_behav2.py')\n",
    "ipy.run_line_magic('run', f'-i {script_name} --subject {subject} '\n",
    "                   ' --save_suffix _test ')\n",
    "\n",
    "script_name = pjoin(scripts_dir,'read_behav2_upd.py')\n",
    "ipy.run_line_magic('run', f'-i {script_name} --subject {subject} '\n",
    "                   ' --save_suffix _test  --use_sub_angles 1 '\n",
    "                  ' --perturbation_random_recalc 0')"
   ]
  },
  {
   "cell_type": "code",
   "execution_count": null,
   "id": "e49923e1",
   "metadata": {
    "hidden": true
   },
   "outputs": [],
   "source": [
    "df_ = df.query('environment == 1')\n",
    "(df_['feedback'] - df_['org_feedback']).abs().max()"
   ]
  },
  {
   "cell_type": "code",
   "execution_count": null,
   "id": "33951cab",
   "metadata": {
    "hidden": true
   },
   "outputs": [],
   "source": [
    "df_ = dfcc.query('environment == 1')\n",
    "(df_['perturbation']).abs().max()"
   ]
  },
  {
   "cell_type": "code",
   "execution_count": null,
   "id": "e9bbb8a3",
   "metadata": {
    "hidden": true
   },
   "outputs": [],
   "source": [
    "df_ = dfcc1.query('environment == 1')\n",
    "(df_['perturbation']).abs().max()"
   ]
  },
  {
   "cell_type": "code",
   "execution_count": null,
   "id": "04e3499a",
   "metadata": {
    "hidden": true
   },
   "outputs": [],
   "source": [
    "import datetime\n",
    "#subject = 'sub04_XNDMUSRS'\n",
    "fnf = f'/home/demitau/data_Quentin/full_experiments/data2/{subject}/behavdata/behav_VisuoMotor_df_upd_test.pkl'\n",
    "dfcc1upd = pd.read_pickle(fnf)\n",
    "print( str(datetime.datetime.fromtimestamp(os.path.getmtime(fnf))) )\n",
    "fnf = f'/home/demitau/data_Quentin/full_experiments/data2/{subject}/behavdata/behav_VisuoMotor_dfv1_test.pkl'\n",
    "dfcc1R = pd.read_pickle(fnf)\n",
    "#from datetime import datetime\n",
    "print(datetime.datetime.fromtimestamp(os.path.getmtime(fnf)))\n",
    "\n",
    "for col in dfcc1R.columns:\n",
    "    if col in dfcc1upd.columns:\n",
    "        if dfcc1upd[col].dtype == 'O':\n",
    "            print(col)\n",
    "            continue\n",
    "        dfd = (dfcc1upd[col] - dfcc1R[col]).abs().describe()\n",
    "        if dfd['max'] > 1e-5:\n",
    "            display(dfd)\n",
    "        else:\n",
    "            print(col,' consistent')"
   ]
  },
  {
   "cell_type": "code",
   "execution_count": null,
   "id": "e32f83c7",
   "metadata": {
    "hidden": true
   },
   "outputs": [],
   "source": [
    "checkErrBounds(dfcc1R), \n",
    "\n",
    "checkErrBounds(dfcc1upd)\n",
    "\n",
    "checkErrBounds(dfcc1old)"
   ]
  },
  {
   "cell_type": "code",
   "execution_count": null,
   "id": "da4ddf37",
   "metadata": {
    "hidden": true
   },
   "outputs": [],
   "source": [
    "subject = subjects[4]\n",
    "fnf = '/home/demitau/data_Quentin/full_experiments/data2/df_all_3.09.23.pkl.zip'\n",
    "dfcc1old = pd.read_pickle(fnf)\n",
    "adjust_PI = False\n",
    "dfcc1old_ = dfcc1old.query('subject == @subject').copy()"
   ]
  },
  {
   "cell_type": "code",
   "execution_count": null,
   "id": "f6c197ca",
   "metadata": {
    "hidden": true
   },
   "outputs": [],
   "source": [
    "for col in dfcc1upd.columns:\n",
    "    if col in dfcc1old_.columns:\n",
    "        if dfcc1old_[col].dtype == 'O':\n",
    "            print(col)\n",
    "            continue\n",
    "        dfd = (dfcc1old_[col] - dfcc1upd[col]).abs().describe()\n",
    "        if dfd['max'] > 1e-5:\n",
    "            display(dfd)\n",
    "        else:\n",
    "            print(col,' consistent')\n",
    "       "
   ]
  },
  {
   "cell_type": "code",
   "execution_count": null,
   "id": "b0f4be66",
   "metadata": {
    "hidden": true
   },
   "outputs": [],
   "source": [
    "4.387671 - 2*np.pi"
   ]
  },
  {
   "cell_type": "code",
   "execution_count": null,
   "id": "89fb580c",
   "metadata": {
    "hidden": true
   },
   "outputs": [],
   "source": [
    "dfcc1old_ = dfcc1old_.copy()\n",
    "adjust_PI = True\n",
    "adjustErrBoundsPi(dfcc1old_, ['feedback','org_feedback'])"
   ]
  },
  {
   "cell_type": "code",
   "execution_count": null,
   "id": "66cd6be9",
   "metadata": {
    "hidden": true
   },
   "outputs": [],
   "source": [
    "display( dfcc1old_.loc[:10,['trials','feedback']] )\n",
    "display( dfcc1upd.loc[:10,['trials','feedback']] )\n",
    "# - dfcc1R[col]"
   ]
  },
  {
   "cell_type": "markdown",
   "id": "6f179e7e",
   "metadata": {
    "hidden": true
   },
   "source": [
    "computeErrSens3 seems to give wrong sign of ES currently.\n",
    "Belief_ in computeErrSens3 is computed without regard for constant shift in target_locs (and it's absense in org_feedback) though it does not seem to cause obvious problems\n",
    "\n",
    "\n",
    "--use_sub_angles 0 gives consistency between (current version of) read_behav2 and read_behav2_up\n",
    "\n",
    "September df_all is more consistent with use_sub_angles 1, except for feedback and org_feedback. But I apply adjustErrBoundsPi(dfcc1old_, ['feedback','org_feedback']), then it becomes consistent"
   ]
  },
  {
   "cell_type": "code",
   "execution_count": null,
   "id": "99568cdd",
   "metadata": {
    "hidden": true
   },
   "outputs": [],
   "source": [
    "dfcc1old = dfcc1old.reset_index()\n",
    "\n",
    "from behav_proc import addBehavCols, computeErrSensVersions, truncateDf\n",
    "addBehavCols(dfcc1old)\n",
    "\n",
    "df_all_multi_tsz_old, ndf2vn = computeErrSensVersions(dfcc1old, envs_cur,\n",
    "    block_names_cur,pertvals_cur,gseqcs_cur,tgt_inds_cur,\n",
    "    dists_rad_from_prevtgt_cur,dists_trial_from_prevtgt_cur,\n",
    "    coln_nh = 'non_hit_not_adj',\n",
    "    coln_nh_out = 'non_hit_shifted',\n",
    "    computation_ver='computeErrSens3',\n",
    "    subj_list = subjects, error_type=error_type,\n",
    "    trial_shift_sizes = [1],\n",
    "             addvars=[], use_sub_angles = use_sub_angles)\n",
    "\n",
    "df_all_multi_tsz_old['err_sens']  = -df_all_multi_tsz_old['err_sens']\n",
    "\n",
    "df_ = truncateDf(df_all_multi_tsz_old, q=0,infnan_handling='discard',coln='err_sens' )\n",
    "#dfext = df_\n",
    "me = df_.groupby(['subject','environment'], observed=True).\\\n",
    "    mean(numeric_only=1).reset_index()\n",
    "#me.groupby(['env','thr']).size()\n",
    "sns.set(font_scale=1.3)\n",
    "\n",
    "from figure.mystatann import *"
   ]
  },
  {
   "cell_type": "code",
   "execution_count": null,
   "id": "2839919f",
   "metadata": {
    "hidden": true
   },
   "outputs": [],
   "source": [
    "fg = sns.catplot(data = me, kind='violin', y='err_sens', \n",
    "    x='environment',  order=[0,1], \n",
    "                 palette = ['tab:orange','tab:grey',], legend=None,\n",
    "                bw = 0.5)\n",
    "#addTitleInfo(fg.axes.flatten()[0])\n",
    "for ax in fg.axes.flatten():\n",
    "    ax.axhline(y=0, c='r', ls=':'); #ax.set_ylim(-5,5)\n",
    "    \n",
    "plotSigAll(ax, 0.8, 0.05, ticklen=0.02,\n",
    "           df=me, coln='err_sens', colpair = 'environment')\n",
    "if adjust_PI:\n",
    "    plt.suptitle('Done djustment of org_feedback')"
   ]
  },
  {
   "cell_type": "code",
   "execution_count": null,
   "id": "21e006e1",
   "metadata": {
    "hidden": true
   },
   "outputs": [],
   "source": []
  },
  {
   "cell_type": "code",
   "execution_count": null,
   "id": "6b6b8d98",
   "metadata": {
    "hidden": true
   },
   "outputs": [],
   "source": []
  },
  {
   "cell_type": "code",
   "execution_count": null,
   "id": "9defd7c0",
   "metadata": {
    "hidden": true
   },
   "outputs": [],
   "source": [
    "df_all_upd = pd.read_pickle(\n",
    "    '/home/demitau/data_Quentin/full_experiments/data2/df_all_test.pkl.zip')\n",
    "df_all_upd = df_all_upd.reset_index()\n",
    "from behav_proc import addBehavCols, computeErrSensVersions, truncateDf\n",
    "addBehavCols(df_all_upd)\n",
    "\n",
    "df_all_multi_tsz_upd, ndf2vn = computeErrSensVersions(df_all_upd, envs_cur,\n",
    "    block_names_cur,pertvals_cur,gseqcs_cur,tgt_inds_cur,\n",
    "    dists_rad_from_prevtgt_cur,dists_trial_from_prevtgt_cur,\n",
    "    coln_nh = 'non_hit_not_adj',\n",
    "    coln_nh_out = 'non_hit_shifted',\n",
    "    computation_ver='computeErrSens3',\n",
    "    subj_list = subjects, error_type=error_type,\n",
    "    trial_shift_sizes = [1],\n",
    "             addvars=[], use_sub_angles = use_sub_angles)\n",
    "\n",
    "\n",
    "df_all_multi_tsz_upd['err_sens']  = -df_all_multi_tsz_upd['err_sens']\n",
    "\n",
    "df_ = truncateDf(df_all_multi_tsz_upd, q=0,infnan_handling='discard',coln='err_sens' )\n",
    "#dfext = df_\n",
    "me = df_.groupby(['subject','environment'], observed=True).\\\n",
    "    mean(numeric_only=1).reset_index()\n",
    "#me.groupby(['env','thr']).size()\n",
    "sns.set(font_scale=1.3)\n",
    "\n",
    "from figure.mystatann import *\n",
    "\n",
    "fg = sns.catplot(data = me, kind='violin', y='err_sens', \n",
    "    x='environment',  order=[0,1], \n",
    "                 palette = ['tab:orange','tab:grey',], legend=None,\n",
    "                bw = 0.5)\n",
    "#addTitleInfo(fg.axes.flatten()[0])\n",
    "for ax in fg.axes.flatten():\n",
    "    ax.axhline(y=0, c='r', ls=':'); #ax.set_ylim(-5,5)\n",
    "    \n",
    "plotSigAll(ax, 0.8, 0.05, ticklen=0.02,\n",
    "           df=me, coln='err_sens', colpair = 'environment')"
   ]
  },
  {
   "cell_type": "code",
   "execution_count": null,
   "id": "946c2535",
   "metadata": {
    "hidden": true
   },
   "outputs": [],
   "source": [
    "checkErrBounds(df_all_multi_tsz_upd)"
   ]
  },
  {
   "cell_type": "code",
   "execution_count": null,
   "id": "387168cf",
   "metadata": {
    "hidden": true
   },
   "outputs": [],
   "source": [
    "dfcc1R.query('environment == 1')['perturbation']"
   ]
  },
  {
   "cell_type": "code",
   "execution_count": null,
   "id": "530a7116",
   "metadata": {
    "hidden": true
   },
   "outputs": [],
   "source": [
    "dfcc1upd.query('environment == 1')['perturbation']"
   ]
  },
  {
   "cell_type": "code",
   "execution_count": null,
   "id": "1408d5b0",
   "metadata": {
    "hidden": true
   },
   "outputs": [],
   "source": [
    "4.319689 / np.pi * 180 - 90"
   ]
  },
  {
   "cell_type": "code",
   "execution_count": null,
   "id": "b46c3765",
   "metadata": {
    "hidden": true
   },
   "outputs": [],
   "source": [
    "#x,y=0,1\n",
    "x,y=-1,-1\n",
    "calc_rad_angle_from_coordinates(np.array([x]),np.array([y]) ) / np.pi * 180"
   ]
  },
  {
   "cell_type": "code",
   "execution_count": null,
   "id": "f409df90",
   "metadata": {
    "hidden": true
   },
   "outputs": [],
   "source": [
    "import gc; gc.collect()"
   ]
  },
  {
   "cell_type": "code",
   "execution_count": null,
   "id": "63825952",
   "metadata": {
    "hidden": true
   },
   "outputs": [],
   "source": [
    "dfcc1R.loc[304:306,'org_feedback']"
   ]
  },
  {
   "cell_type": "code",
   "execution_count": null,
   "id": "e642c925",
   "metadata": {
    "hidden": true
   },
   "outputs": [],
   "source": [
    "# df.query('phase.isin([\"FEEDBACK_PHASE\"])')\\\n",
    "#     [['trials','target_inds','target_codes','phase','env']]"
   ]
  },
  {
   "cell_type": "code",
   "execution_count": null,
   "id": "bc9e85e9",
   "metadata": {
    "hidden": true
   },
   "outputs": [],
   "source": [
    "cols = ['phase','trials','perturbation','feedback']"
   ]
  },
  {
   "cell_type": "code",
   "execution_count": null,
   "id": "fa27ce11",
   "metadata": {
    "hidden": true
   },
   "outputs": [],
   "source": [
    "col = 'feedback'\n",
    "dfcc1upd[np.abs(dfcc1upd[col] - dfcc1R[col]) > 0][cols]"
   ]
  },
  {
   "cell_type": "code",
   "execution_count": null,
   "id": "f47e2649",
   "metadata": {
    "hidden": true
   },
   "outputs": [],
   "source": [
    " dfcc1upd['target_locs_'] = dfcc1upd['target_locs'] + np.pi"
   ]
  },
  {
   "cell_type": "code",
   "execution_count": null,
   "id": "ae530f1e",
   "metadata": {
    "hidden": true
   },
   "outputs": [],
   "source": [
    "qs = ''\n",
    "qs = 'environment == 0'\n",
    "print('New')\n",
    "display( dfcc1upd.query(qs)[cols] )\n",
    "print('Romain')\n",
    "display( dfcc1R.query(qs)[list(set(cols) & set(dfcc1R.columns))] )"
   ]
  },
  {
   "cell_type": "code",
   "execution_count": null,
   "id": "ada1b97a",
   "metadata": {
    "hidden": true
   },
   "outputs": [],
   "source": [
    "stage2evn2event_ids"
   ]
  },
  {
   "cell_type": "code",
   "execution_count": null,
   "id": "e22744d0",
   "metadata": {
    "hidden": true
   },
   "outputs": [],
   "source": [
    "event_ids_tgt_random"
   ]
  },
  {
   "cell_type": "code",
   "execution_count": null,
   "id": "f2c9c041",
   "metadata": {
    "hidden": true
   },
   "outputs": [],
   "source": [
    "event_ids_tgt_stable"
   ]
  },
  {
   "cell_type": "code",
   "execution_count": null,
   "id": "58388888",
   "metadata": {
    "hidden": true
   },
   "outputs": [],
   "source": [
    "set(dfcc1R.columns) - set(dfcc1upd.columns) "
   ]
  },
  {
   "cell_type": "code",
   "execution_count": null,
   "id": "de785477",
   "metadata": {
    "hidden": true
   },
   "outputs": [],
   "source": [
    "#for subject in subjects:\n",
    "for subject in subjects[:1]:\n",
    "    script_name = pjoin(scripts_dir,'read_behav2.py')\n",
    "    ipy.run_line_magic('run', f'-i {script_name}')\n",
    "    "
   ]
  },
  {
   "cell_type": "markdown",
   "id": "387301a8",
   "metadata": {
    "heading_collapsed": true,
    "jp-MarkdownHeadingCollapsed": true
   },
   "source": [
    "## preproc_raw"
   ]
  },
  {
   "cell_type": "code",
   "execution_count": null,
   "id": "3a8a2f61",
   "metadata": {
    "hidden": true
   },
   "outputs": [],
   "source": [
    "script_name = pjoin(scripts_dir,'preprocess_raw2.py')\n",
    "ipy.run_line_magic('run', f'-i {script_name}')"
   ]
  },
  {
   "cell_type": "code",
   "execution_count": null,
   "id": "65578435",
   "metadata": {
    "hidden": true
   },
   "outputs": [],
   "source": [
    "hpass = 'no_filter'"
   ]
  },
  {
   "cell_type": "code",
   "execution_count": null,
   "id": "e3e0185c",
   "metadata": {
    "hidden": true
   },
   "outputs": [],
   "source": [
    "raw = raw_backup.copy()"
   ]
  },
  {
   "cell_type": "code",
   "execution_count": null,
   "id": "e7f91599",
   "metadata": {
    "hidden": true
   },
   "outputs": [],
   "source": [
    "raw_backup = raw.copy()"
   ]
  },
  {
   "cell_type": "code",
   "execution_count": null,
   "id": "0b0e432e",
   "metadata": {
    "hidden": true
   },
   "outputs": [],
   "source": [
    "if hpass == 'no_hpass':\n",
    "    raw.filter(l_freq=None, h_freq=30, n_jobs=n_jobs)\n",
    "elif hpass == 'no_hpass_tf':\n",
    "    raw.filter(l_freq=None, h_freq=150, n_jobs=n_jobs)\n",
    "elif hpass == 'no_filter':\n",
    "    pass\n",
    "else:\n",
    "    # 30 -- just to smooth\n",
    "    raw.filter(l_freq=float(hpass), h_freq=30, n_jobs=n_jobs)\n",
    "if with_ICA:\n",
    "    fname = op.join(path_data, subject, f'raw_{task}_{hpass}_with_ICA.fif')\n",
    "else:\n",
    "    fname = op.join(path_data, subject, f'raw_{task}_{hpass}.fif' )\n",
    "raw.save(fname, overwrite=True)\n"
   ]
  },
  {
   "cell_type": "code",
   "execution_count": null,
   "id": "fd738161",
   "metadata": {
    "hidden": true
   },
   "outputs": [],
   "source": [
    "fname"
   ]
  },
  {
   "cell_type": "code",
   "execution_count": null,
   "id": "c7249d0c",
   "metadata": {
    "hidden": true
   },
   "outputs": [],
   "source": [
    "plt.hist( log[:,2] )"
   ]
  },
  {
   "cell_type": "code",
   "execution_count": null,
   "id": "2e78583d",
   "metadata": {
    "hidden": true,
    "run_control": {
     "marked": false
    }
   },
   "outputs": [],
   "source": [
    "targets"
   ]
  },
  {
   "cell_type": "code",
   "execution_count": null,
   "id": "2ec88331",
   "metadata": {
    "hidden": true
   },
   "outputs": [],
   "source": []
  },
  {
   "cell_type": "markdown",
   "id": "82a498e2",
   "metadata": {},
   "source": [
    "## long (all subjects)"
   ]
  },
  {
   "cell_type": "code",
   "execution_count": null,
   "id": "c497e22c",
   "metadata": {},
   "outputs": [],
   "source": [
    "# todo edit error sensititivity calc: change numerator for shifts. Or maybe add a flag that changes it"
   ]
  },
  {
   "cell_type": "code",
   "execution_count": null,
   "id": "df5b101d",
   "metadata": {},
   "outputs": [],
   "source": [
    "len(args.save_suffix)"
   ]
  },
  {
   "cell_type": "code",
   "execution_count": null,
   "id": "cad498ca",
   "metadata": {},
   "outputs": [],
   "source": [
    "# recalc all behav essentially\n",
    "#%debug\n",
    "do_read = 0 # 1 means reprocess .csv\n",
    "script_name = pjoin(scripts_dir,'preprocess_behav_calc_ES.py')\n",
    "ipy.run_line_magic('run', f'-i {script_name} '\n",
    "   '--use_sub_angles 1  --read_behav_version v2 '\n",
    "   f'--do_read {do_read} --perturbation_random_recalc 1 --save_suffix \"\" '\n",
    "  ' --trial_shift_size_max 4 --do_per_tgt 1 --do_per_env 1'\n",
    "    ' --retention_factor 1.,0.924')"
   ]
  },
  {
   "cell_type": "code",
   "execution_count": null,
   "id": "b0980f3f",
   "metadata": {},
   "outputs": [],
   "source": []
  },
  {
   "cell_type": "code",
   "execution_count": null,
   "id": "8109d464",
   "metadata": {},
   "outputs": [],
   "source": [
    "radius_cursor, radius_target"
   ]
  },
  {
   "cell_type": "code",
   "execution_count": null,
   "id": "8b757c5f",
   "metadata": {},
   "outputs": [],
   "source": [
    "home_position = (400,400)"
   ]
  },
  {
   "cell_type": "code",
   "execution_count": null,
   "id": "394e0db4",
   "metadata": {},
   "outputs": [],
   "source": [
    "pa`"
   ]
  },
  {
   "cell_type": "code",
   "execution_count": null,
   "id": "d90eae6f",
   "metadata": {},
   "outputs": [],
   "source": [
    "home"
   ]
  },
  {
   "cell_type": "code",
   "execution_count": null,
   "id": "40e523c3",
   "metadata": {},
   "outputs": [],
   "source": [
    "params['ra']"
   ]
  },
  {
   "cell_type": "code",
   "execution_count": null,
   "id": "d328f9c0",
   "metadata": {},
   "outputs": [],
   "source": [
    "dfcc0.groupby(['phase'])['phase_duration'].describe()"
   ]
  },
  {
   "cell_type": "code",
   "execution_count": null,
   "id": "c34d2ed1",
   "metadata": {},
   "outputs": [],
   "source": [
    "print(args.save_suffix)"
   ]
  },
  {
   "cell_type": "code",
   "execution_count": null,
   "id": "2690df70",
   "metadata": {},
   "outputs": [],
   "source": [
    "dftmp = df_all_multi_tsz.query('trial_shift_size == 1')\n",
    "dftmp = truncateDf(dftmp, q=0,infnan_handling='discard',coln='err_sens' )    \n",
    "me = dftmp.groupby(['subject','environment','trial_group_col_calc','retention_factor_s'], observed=True).\\\n",
    "    mean(numeric_only=1).reset_index() "
   ]
  },
  {
   "cell_type": "code",
   "execution_count": null,
   "id": "00af57c2",
   "metadata": {},
   "outputs": [],
   "source": [
    "me"
   ]
  },
  {
   "cell_type": "code",
   "execution_count": null,
   "id": "2ecfba87",
   "metadata": {},
   "outputs": [],
   "source": [
    "fg = sns.catplot(y='err_sens',x='environment',hue='environment',kind='violin',\n",
    "            data=me, col='trial_group_col_calc',\n",
    "            row='retention_factor_s') \n",
    "\n",
    "fg.refline(y=0)"
   ]
  },
  {
   "cell_type": "code",
   "execution_count": null,
   "id": "8dc76566",
   "metadata": {},
   "outputs": [],
   "source": [
    "df_all_multi_tsz['retention_factor_s']"
   ]
  },
  {
   "cell_type": "code",
   "execution_count": null,
   "id": "ccda5bec",
   "metadata": {},
   "outputs": [],
   "source": [
    "df_ = truncateDf(df_, q=0,infnan_handling='discard',coln='err_sens' )"
   ]
  },
  {
   "cell_type": "code",
   "execution_count": null,
   "id": "5895b1ea",
   "metadata": {
    "run_control": {
     "marked": true
    }
   },
   "outputs": [],
   "source": [
    "df_all_multi_tsz.duplicated(['subject','trials','trial_group_col_calc','trial_shift_size','retention_factor_s']).any()"
   ]
  },
  {
   "cell_type": "code",
   "execution_count": null,
   "id": "3a3f8e77",
   "metadata": {},
   "outputs": [],
   "source": [
    "args.retention_factor"
   ]
  },
  {
   "cell_type": "code",
   "execution_count": null,
   "id": "f68f25b6",
   "metadata": {
    "run_control": {
     "marked": true
    }
   },
   "outputs": [],
   "source": [
    "df_all_multi_tsz['trial_group_col_calc'].unique()"
   ]
  },
  {
   "cell_type": "code",
   "execution_count": null,
   "id": "2ee431bd",
   "metadata": {},
   "outputs": [],
   "source": [
    "df_all_multi_tsz.groupby(['subject','trials']).size().describe()"
   ]
  },
  {
   "cell_type": "code",
   "execution_count": null,
   "id": "ffb27f93",
   "metadata": {},
   "outputs": [],
   "source": [
    "import datetime\n",
    "#datetime.datetime.fromtimestamp(os.path.getmtime(fname))\n",
    "str( datetime.datetime.now() )[:10]"
   ]
  },
  {
   "cell_type": "code",
   "execution_count": null,
   "id": "114adc6b",
   "metadata": {},
   "outputs": [],
   "source": [
    "script_name = pjoin(scripts_dir,'test_ES_calc.py')\n",
    "ipy.run_line_magic('run', f'-i {script_name} '\n",
    "                   '--use_sub_angles 1  --read_behav_version v2 '\n",
    "                   '--do_read 0 --perturbation_random_recalc 1 --save_suffix _test')"
   ]
  },
  {
   "cell_type": "code",
   "execution_count": null,
   "id": "957a13cc",
   "metadata": {},
   "outputs": [],
   "source": [
    "import pingouin as pg"
   ]
  },
  {
   "cell_type": "code",
   "execution_count": null,
   "id": "7bf87968",
   "metadata": {},
   "outputs": [],
   "source": [
    "from behav_proc import comparePairs"
   ]
  },
  {
   "cell_type": "code",
   "execution_count": null,
   "id": "c40b2333",
   "metadata": {},
   "outputs": [],
   "source": [
    "ttrssig, ttrs = comparePairs(df_, 'err_sens', 'environment')\n",
    "assert ttrssig.query('ttstr == \"0.0 > 1.0\" and not pooled')['pval'].iloc[0] < 0.05"
   ]
  },
  {
   "cell_type": "code",
   "execution_count": null,
   "id": "aced7e57",
   "metadata": {},
   "outputs": [],
   "source": [
    "pg.ttest(df_, 'environment')"
   ]
  },
  {
   "cell_type": "code",
   "execution_count": null,
   "id": "881b7f32",
   "metadata": {},
   "outputs": [],
   "source": [
    "#order=[0,1], hue='environment',\n",
    "#                 palette = ['tab:orange', 'tab:grey'], legend=None"
   ]
  },
  {
   "cell_type": "code",
   "execution_count": null,
   "id": "64b0cc03",
   "metadata": {},
   "outputs": [],
   "source": [
    " df_all_multi_tsz['non_hit_not_adj'].shift()  "
   ]
  },
  {
   "cell_type": "code",
   "execution_count": null,
   "id": "eac8780f",
   "metadata": {},
   "outputs": [],
   "source": [
    "#df_all_multi_tsz.loc[(~(df_all_multi_tsz['non_hit_not_adj'].shift(fill_value=True))), 'err_sens'] = np.nan\n",
    "df_all_multi_tsz['err_sens'] = -df_all_multi_tsz['err_sens']"
   ]
  },
  {
   "cell_type": "code",
   "execution_count": null,
   "id": "2e63b825",
   "metadata": {},
   "outputs": [],
   "source": [
    "df_ = df_all_multi_tsz.query('trial_shift_size == 1 and trial_group_col_calc == \"trials\"')\n",
    "assert not df_.duplicated(['subject','trials']).any()\n",
    "\n",
    "df_ = truncateDf(df_, q=0,infnan_handling='discard',coln='err_sens' )\n",
    "#plt.figure()\n",
    "me = df_.groupby(['subject','environment'], observed=True).\\\n",
    "    mean(numeric_only=1).reset_index()\n",
    "#me.groupby(['env','thr']).size()\n",
    "sns.set(font_scale=1.3)\n",
    "fg = sns.catplot(data = me, kind='violin', y='err_sens', hue='environment',\n",
    "    x='environment',palette = ['tab:orange', 'tab:grey'], legend=False)\n",
    "#addTitleInfo(fg.axes.flatten()[0])\n",
    "for ax in fg.axes.flatten():\n",
    "    ax.axhline(y=0, c='r', ls=':'); #ax.set_ylim(-5,5)\n",
    "\n",
    "from figure.mystatann import plotSigAll\n",
    "plotSigAll(ax, 0.8, 0.05, ticklen=0.02,\n",
    "       df=me, coln='err_sens', colpair = 'environment')\n"
   ]
  },
  {
   "cell_type": "code",
   "execution_count": null,
   "id": "ff4aa500",
   "metadata": {},
   "outputs": [],
   "source": [
    "script_name = pjoin(scripts_dir,'test_ES_calc.py')\n",
    "ipy.run_line_magic('run', f'-i {script_name} '\n",
    "                   '--use_sub_angles 0  --read_behav_version v1 '\n",
    "                   '--do_read 1 --perturbation_random_recalc 1')"
   ]
  },
  {
   "cell_type": "code",
   "execution_count": null,
   "id": "51b5f4fa",
   "metadata": {},
   "outputs": [],
   "source": [
    "#%debug\n",
    "#addBehavCols(df_all)"
   ]
  },
  {
   "cell_type": "code",
   "execution_count": null,
   "id": "f0a2cc0e",
   "metadata": {},
   "outputs": [],
   "source": []
  },
  {
   "cell_type": "code",
   "execution_count": null,
   "id": "59bac953",
   "metadata": {},
   "outputs": [],
   "source": [
    "dfext = df_all.sort_values(['subject','trials']).copy()"
   ]
  },
  {
   "cell_type": "code",
   "execution_count": null,
   "id": "1c6e0741",
   "metadata": {},
   "outputs": [],
   "source": [
    "for subj in subjects:\n",
    "    df_ = dfext.query('subject == @subj')\n",
    "    inds = df_.index\n",
    "    dfext.loc[inds,'_v'] = (dfext.loc[inds, 'target_locs'] - np.pi/2) - dfext.loc[inds, 'org_feedback']\n",
    "    dfext.loc[inds,'correction'] = dfext.loc[inds,'_v'].diff()\n",
    "    dfext.loc[inds,'err_sens']  = dfext.loc[inds,'correction'] / dfext.loc[inds,'error'].shift()\n",
    "\n",
    "dfext['trial_shift_size'] = 1\n",
    "dfext['trial_group_col_calc'] = 'trials'\n",
    "dfext.loc[ ~dfext['non_hit_not_adj'].shift(fill_value = False),'err_sens'] = np.nan"
   ]
  },
  {
   "cell_type": "code",
   "execution_count": null,
   "id": "f13aa636",
   "metadata": {},
   "outputs": [],
   "source": [
    "dfext['target_locs'].max()"
   ]
  },
  {
   "cell_type": "code",
   "execution_count": null,
   "id": "53a9a689",
   "metadata": {},
   "outputs": [],
   "source": [
    "checkErrBounds(dfext, ['_v'])"
   ]
  },
  {
   "cell_type": "code",
   "execution_count": null,
   "id": "9773626f",
   "metadata": {},
   "outputs": [],
   "source": [
    " (dfext['non_hit_not_adj'].shift())"
   ]
  },
  {
   "cell_type": "code",
   "execution_count": null,
   "id": "9447f232",
   "metadata": {},
   "outputs": [],
   "source": [
    "df_ = truncateDf(dfext, q=0,infnan_handling='discard',coln='err_sens' )\n",
    "#dfext = df_\n",
    "me = df_.groupby(['subject','environment'], observed=True).\\\n",
    "    mean(numeric_only=1).reset_index()\n",
    "#me.groupby(['env','thr']).size()\n",
    "sns.set(font_scale=1.3)\n",
    "fg = sns.catplot(data = me, kind='violin', y='err_sens', \n",
    "    x='environment',  order=[0,1], hue = 'environment', palette = ['tab:orange','tab:grey',], legend=None)\n",
    "#addTitleInfo(fg.axes.flatten()[0])\n",
    "for ax in fg.axes.flatten():\n",
    "    ax.axhline(y=0, c='r', ls=':'); #ax.set_ylim(-5,5)\n"
   ]
  },
  {
   "cell_type": "code",
   "execution_count": null,
   "id": "cd2e0d6a",
   "metadata": {},
   "outputs": [],
   "source": [
    "df_all_multi_tsz, ndf2vn = computeErrSensVersions(df_all, envs_cur,\n",
    "    block_names_cur,pertvals_cur,gseqcs_cur,tgt_inds_cur,\n",
    "    dists_rad_from_prevtgt_cur,dists_trial_from_prevtgt_cur,\n",
    "    coln_nh = 'non_hit_not_adj',\n",
    "    coln_nh_out = 'non_hit_shifted',\n",
    "    computation_ver='computeErrSens3',\n",
    "    subj_list = subjects, error_type=error_type,\n",
    "    trial_shift_sizes = [1],\n",
    "             addvars=[], use_sub_angles = use_sub_angles)\n"
   ]
  },
  {
   "cell_type": "code",
   "execution_count": null,
   "id": "b506db15",
   "metadata": {},
   "outputs": [],
   "source": [
    "## simple test"
   ]
  },
  {
   "cell_type": "code",
   "execution_count": null,
   "id": "ce27ca21",
   "metadata": {},
   "outputs": [],
   "source": [
    "def calcESnaive(dfext, subtract_pi2=1):\n",
    "    for subj in dfext['subject'].unique():\n",
    "        df_ = dfext.query('subject == @subj')\n",
    "        inds = df_.index\n",
    "        dfext.loc[inds,'_v'] = (dfext.loc[inds, 'target_locs']) - dfext.loc[inds, 'org_feedback']\n",
    "        if subtract_pi2:\n",
    "            dfext.loc[inds,'_v'] -= np.pi/2\n",
    "        dfext.loc[inds,'correction'] = dfext.loc[inds,'_v'].diff()\n",
    "        dfext.loc[inds,'err_sens']  = dfext.loc[inds,'correction'] / dfext.loc[inds,'error'].shift()\n",
    "        dfext.loc[inds].loc[~dfext.loc[inds,'non_hit_not_adj'].\\\n",
    "                  shift(fill_value = False),'err_sens'] = np.nan\n",
    "\n",
    "    dfext['trial_shift_size'] = 1\n",
    "    dfext['trial_group_col_calc'] = 'trials'    \n",
    "    cols = ['subject','trials','org_feedback','target_locs','error',\n",
    "                   'non_hit_not_adj','_v','correction','err_sens']\n",
    "    if 'perturbation' in dfext.columns:\n",
    "        cols.append('perturbation')\n",
    "    display(dfext[cols])"
   ]
  },
  {
   "cell_type": "code",
   "execution_count": null,
   "id": "fa02c67a",
   "metadata": {},
   "outputs": [],
   "source": [
    "dft = pd.DataFrame({'target_locs':[0,1.5], 'org_feedback':[0,1.25],\n",
    "                   'perturbation':[0,0], 'noise':[0.1,0.1]})\n",
    "\n",
    "dft['org_feedback'] = [0,1.45]\n",
    "dft['trials'] = np.arange(len(dft))\n",
    "# + or - perturbation?\n",
    "dft['org_feedback'] += dft['noise']\n",
    "dft['error'] = -dft['target_locs'] + ( dft['org_feedback'] + dft['perturbation'] )\n",
    "\n",
    "dft['subject'] = 'test0'\n",
    "dft['non_hit_not_adj'] = True\n",
    "calcESnaive(dft, subtract_pi2=0)"
   ]
  },
  {
   "cell_type": "code",
   "execution_count": null,
   "id": "6e009eb0",
   "metadata": {},
   "outputs": [],
   "source": [
    "cols = ['subject','trials','org_feedback','target_locs','error',\n",
    "        'non_hit_not_adj','perturbation']\n",
    "sl = slice(22,27)\n",
    "dft1 = df_all.iloc[sl][cols]\n",
    "calcESnaive(dft1, subtract_pi2=0)"
   ]
  },
  {
   "cell_type": "code",
   "execution_count": null,
   "id": "242422bf",
   "metadata": {},
   "outputs": [],
   "source": [
    "dft2 = df_all_multi_tsz.iloc[sl][cols + ['belief_','belief','correction','err_sens']]\n",
    "#calcESnaive(dft2)\n",
    "display(dft2)"
   ]
  },
  {
   "cell_type": "code",
   "execution_count": null,
   "id": "211fd644",
   "metadata": {},
   "outputs": [],
   "source": [
    "checkErrBounds(df_all_multi_tsz,'belief_')"
   ]
  },
  {
   "cell_type": "code",
   "execution_count": null,
   "id": "66adb46c",
   "metadata": {},
   "outputs": [],
   "source": [
    "df_all['mtime'].min()"
   ]
  },
  {
   "cell_type": "code",
   "execution_count": null,
   "id": "42e908b1",
   "metadata": {},
   "outputs": [],
   "source": [
    "for subject in subjects:\n",
    "#for subject in subjects[:1]:\n",
    "    #script_name = pjoin(scripts_dir,'read_behav2.py')\n",
    "    script_name = pjoin(scripts_dir,'read_behav2_upd.py')\n",
    "    ipy.run_line_magic('run', f'-i {script_name}')\n",
    "    \n",
    "    del df\n",
    "    del dfcc\n",
    "    del dfcc1, dfcc2\n",
    "    \n",
    "    import gc; gc.collect()"
   ]
  },
  {
   "cell_type": "code",
   "execution_count": null,
   "id": "a2c571cd",
   "metadata": {},
   "outputs": [],
   "source": [
    "from behav_proc import *\n",
    "#updstr = ''\n",
    "updstr = '_upd'\n",
    "behav_df_all = []\n",
    "#or subj in subjects[:4]:#[si]\n",
    "for subj in subjects:\n",
    "    behav_data_dir = pjoin(data_dir_input,'behavdata')\n",
    "    #behavdata\n",
    "    task = 'VisuoMotor'\n",
    "    fname = pjoin(path_data, subj, 'behavdata',\n",
    "                    f'behav_{task}_df{updstr}.pkl' )\n",
    "    # where we would save cleaned df\n",
    "    #fname_EC = pjoin(path_data, subj, 'behavdata',\n",
    "    #                f'behav_{task}_df_EC.pkl' )\n",
    "    behav_df_full = pd.read_pickle(fname)\n",
    "\n",
    "    behav_df = pd.read_pickle(fname)\n",
    "    behav_df['subject'] = subj\n",
    "    \n",
    "    behav_df_all += [behav_df]\n",
    "    \n",
    "behav_df_all = pd.concat(behav_df_all)\n",
    "# behav_df_all['correction'] = None\n",
    "# behav_df_all['err_sens'] = None\n",
    "df_all = behav_df_all.reset_index()"
   ]
  },
  {
   "cell_type": "code",
   "execution_count": null,
   "id": "70e3927a",
   "metadata": {},
   "outputs": [],
   "source": [
    "import seaborn as sns\n",
    "sns.lineplot(data=df_all, x='trials',y='error')\n",
    "plt.figure()\n",
    "sns.lineplot(data=df_all, x='trials',y='belief')\n",
    "plt.figure()\n",
    "sns.lineplot(data=df_all, x='trials',y='perturbation')"
   ]
  },
  {
   "cell_type": "code",
   "execution_count": null,
   "id": "04bc2217",
   "metadata": {},
   "outputs": [],
   "source": [
    "df_all['perturbation'].max()"
   ]
  },
  {
   "cell_type": "code",
   "execution_count": null,
   "id": "2b32bad1",
   "metadata": {},
   "outputs": [],
   "source": [
    "# script_name = pjoin(scripts_dir,'figure','plot_behav2.py')\n",
    "# ipy.run_line_magic('run', f'{script_name}')"
   ]
  },
  {
   "cell_type": "markdown",
   "id": "bc4dbba7",
   "metadata": {},
   "source": [
    "## long test"
   ]
  },
  {
   "cell_type": "code",
   "execution_count": null,
   "id": "544dec45",
   "metadata": {},
   "outputs": [],
   "source": [
    "# recalc all behav essentially\n",
    "#%debug\n",
    "script_name = pjoin(scripts_dir,'test_ES_calc.py')\n",
    "ipy.run_line_magic('run', f'-i {script_name} '\n",
    "   '--use_sub_angles 1  --read_behav_version v2 '\n",
    "   '--do_read 0 --perturbation_random_recalc 1 --save_suffix \"\" '\n",
    "  ' --trial_shift_size_max 1 --do_per_tgt 0 --do_per_env 1 --do_save 0 '\n",
    "    ' --coln_error error_pscadj --coln_correction_calc vals_for_corr_pscadj'\n",
    "    ' --retention_factor 1.000') #0.924"
   ]
  },
  {
   "cell_type": "markdown",
   "id": "dfaac4ee",
   "metadata": {
    "heading_collapsed": true
   },
   "source": [
    "## large ES"
   ]
  },
  {
   "cell_type": "code",
   "execution_count": null,
   "id": "21f83f5c",
   "metadata": {
    "hidden": true
   },
   "outputs": [],
   "source": [
    "s2bdf = {}\n",
    "for subject in [subjects[0], subjects[1], subjects[2]]:\n",
    "    script_name = pjoin(scripts_dir,'read_behav2.py')\n",
    "    ipy.run_line_magic('run', f'-i {script_name} --subject {subject} '\n",
    "                       ' --save_suffix _test ')\n",
    "\n",
    "    s2bdf[subject] = behav_df\n",
    "\n",
    "    "
   ]
  },
  {
   "cell_type": "code",
   "execution_count": null,
   "id": "0633fa45",
   "metadata": {
    "hidden": true
   },
   "outputs": [],
   "source": [
    "ev = 0.131100\n",
    "for subject,behav_df in s2bdf.items():\n",
    "    print(subject)\n",
    "    display( behav_df.query('abs(abs(error) - @ev ) < 1e-5')[cols0] )\n",
    "    #display(behav_df.query('trials in @trs')[cols0])"
   ]
  },
  {
   "cell_type": "code",
   "execution_count": null,
   "id": "bb258903",
   "metadata": {
    "hidden": true
   },
   "outputs": [],
   "source": [
    "-0.063956 * 180 / np.pi"
   ]
  },
  {
   "cell_type": "code",
   "execution_count": null,
   "id": "f5d75fe1",
   "metadata": {
    "hidden": true
   },
   "outputs": [],
   "source": [
    "display(behav_df.query('trials in @trs')[cols0])\n",
    "behav_df.query('trials in @trs')['error']+ 2*np.pi"
   ]
  },
  {
   "cell_type": "code",
   "execution_count": null,
   "id": "c68baf2e",
   "metadata": {
    "hidden": true
   },
   "outputs": [],
   "source": []
  },
  {
   "cell_type": "code",
   "execution_count": null,
   "id": "d2f8589e",
   "metadata": {
    "hidden": true
   },
   "outputs": [],
   "source": [
    "# test\n",
    "#%debug\n",
    "script_name = pjoin(scripts_dir,'test_ES_calc.py')\n",
    "s = (f'-i {script_name} '\n",
    "   ' --read_behav_version v2 '\n",
    "   '--do_read 0 --perturbation_random_recalc 1 --save_suffix \"\"'\n",
    "  ' --trial_shift_size_max 1 --do_per_tgt 1 '\n",
    "     '--do_per_env 1 --retention_factor 1.'\n",
    "    ' --n_subjects 4 --do_save 0 --do_calc_ES 1 --do_plot 0')\n",
    "ipy.run_line_magic('run', s + ' --reref_target_locs 0 --use_sub_angles 1 ')\n",
    "df_all_multi_tsz0 = df_all_multi_tsz\n",
    "\n",
    "ipy.run_line_magic('run', s + ' --reref_target_locs 1 --use_sub_angles 1 ')\n",
    "df_all_multi_tsz1 = df_all_multi_tsz\n",
    "\n",
    "ipy.run_line_magic('run', s + ' --reref_target_locs 0 --use_sub_angles 0 ')\n",
    "df_all_multi_tsz2 = df_all_multi_tsz\n",
    "\n",
    "ipy.run_line_magic('run', s + ' --reref_target_locs 1 --use_sub_angles 0 ')\n",
    "df_all_multi_tsz3 = df_all_multi_tsz\n"
   ]
  },
  {
   "cell_type": "code",
   "execution_count": null,
   "id": "630af761",
   "metadata": {
    "hidden": true
   },
   "outputs": [],
   "source": [
    "qs_sing = 'trial_shift_size == 1 and trial_group_col_calc == \"trials\" and retention_factor_s == \"1.000\"'\n",
    "#qs = qs_sing "
   ]
  },
  {
   "cell_type": "code",
   "execution_count": null,
   "id": "56c032bc",
   "metadata": {
    "hidden": true
   },
   "outputs": [],
   "source": [
    "dftmp0 = df_all_multi_tsz0.query(qs_sing)\n",
    "dftmp1 = df_all_multi_tsz1.query(qs_sing)\n",
    "dftmp2 = df_all_multi_tsz2.query(qs_sing)\n",
    "dftmp3 = df_all_multi_tsz3.query(qs_sing)"
   ]
  },
  {
   "cell_type": "code",
   "execution_count": null,
   "id": "12bbb73e",
   "metadata": {
    "hidden": true
   },
   "outputs": [],
   "source": [
    "m = ~np.isinf(dftmp0['err_sens'])\n",
    "dfdif = (dftmp0.loc[m]['err_sens'] -\\\n",
    "     dftmp1.query(qs_sing).loc[m]['err_sens'] )\n",
    "\n",
    "print( len(dfdif[dfdif > 1e-6]) )"
   ]
  },
  {
   "cell_type": "code",
   "execution_count": null,
   "id": "b8f07006",
   "metadata": {
    "hidden": true
   },
   "outputs": [],
   "source": [
    "dftmp0.columns"
   ]
  },
  {
   "cell_type": "code",
   "execution_count": null,
   "id": "cba95fa3",
   "metadata": {
    "hidden": true
   },
   "outputs": [],
   "source": [
    "cols_ = ['subject_ind','trials','err_sens','correction',\n",
    "         'vals_for_corr1','vals_for_corr2','org_feedback','target_locs',\n",
    "         'home_duration','movement_duration']\n",
    "qst = 'subject_ind == 4 and trials >= 305 and trials <= 308'\n",
    "display( dftmp0.query(qst)[cols_] )\n",
    "display( dftmp1.query(qst)[cols_] )\n",
    "display( dftmp2.query(qst)[cols_] )\n",
    "display( dftmp3.query(qst)[cols_] )"
   ]
  },
  {
   "cell_type": "code",
   "execution_count": null,
   "id": "4c954c86",
   "metadata": {
    "hidden": true
   },
   "outputs": [],
   "source": [
    "from figure.plots import relplot_multi\n",
    "r= relplot_multi(data=dftmp0.query(qst),\n",
    "              ys=[['err_sens'],\n",
    "                  ['correction'],                  \n",
    "                  ['belief_'],                                    \n",
    "                 ['target_locs'],\n",
    "                 ['org_feedback'],\n",
    "                 ], x='trials',\n",
    "                height=1.7,aspect=4)\n",
    "r[0].refline(y=0)\n",
    "r[0].refline(x=307)\n",
    "\n",
    "#['error'],\n",
    "from figure.plots import relplot_multi\n",
    "r= relplot_multi(data=dftmp1.query(qst),\n",
    "              ys=[['err_sens'],\n",
    "                  ['correction'],                  \n",
    "                  ['belief_'],                                    \n",
    "                 ], x='trials',\n",
    "                height=1.7,aspect=4)\n",
    "r[0].refline(y=0)\n",
    "r[0].refline(x=307)"
   ]
  },
  {
   "cell_type": "code",
   "execution_count": null,
   "id": "e71fe875",
   "metadata": {
    "hidden": true
   },
   "outputs": [],
   "source": []
  },
  {
   "cell_type": "code",
   "execution_count": null,
   "id": "b8bb10bc",
   "metadata": {
    "hidden": true
   },
   "outputs": [],
   "source": []
  },
  {
   "cell_type": "code",
   "execution_count": null,
   "id": "0cd58397",
   "metadata": {
    "hidden": true
   },
   "outputs": [],
   "source": []
  },
  {
   "cell_type": "code",
   "execution_count": null,
   "id": "a1c1329a",
   "metadata": {
    "hidden": true
   },
   "outputs": [],
   "source": [
    "12551\tsub01_WGPOZPEE\t455\t-0.492990\t8.679813\t0.063956\n",
    "67670\tsub03_GPVDQMWB\t278\t0.298931\t-9.314656\t-0.063956"
   ]
  },
  {
   "cell_type": "code",
   "execution_count": null,
   "id": "21471cc3",
   "metadata": {
    "hidden": true
   },
   "outputs": [],
   "source": [
    "badsubjs = ['sub01_WGPOZPEE','sub03_GPVDQMWB']\n",
    "trials = [455,278]"
   ]
  },
  {
   "cell_type": "code",
   "execution_count": null,
   "id": "052b9e2f",
   "metadata": {
    "hidden": true
   },
   "outputs": [],
   "source": [
    "qs = 'subject.isin(@badsubjs) and trials.isin(@trials)'\n",
    "dftmp = behav_df_all.query(qs)\n",
    "dftmp = df_all_multi_tsz.query(qs +\\\n",
    "    ' and trial_shift_size == 1 and trial_group_col_calc == \"trials\" and retention_factor_s == \"1.000\"')\n",
    "cols0 = ['subject','trials','error']\n",
    "cols = cols0 + ['prev_error']\n",
    "dftmp[cols]"
   ]
  },
  {
   "cell_type": "code",
   "execution_count": null,
   "id": "b8a8d950",
   "metadata": {
    "hidden": true
   },
   "outputs": [],
   "source": [
    "#ev = 0.041254\n",
    "ev = 0.063956\n",
    "trs = df_all.query('abs(abs(error) - @ev) < 1e-5')\\\n",
    "    ['trials'].values\n",
    "df_all.query('abs(abs(error) - @ev) < 1e-5')[cols0]"
   ]
  },
  {
   "cell_type": "code",
   "execution_count": null,
   "id": "9fa0900e",
   "metadata": {
    "hidden": true
   },
   "outputs": [],
   "source": [
    "for rowi,row in behav_df_all.query('subject == @subjects[0]').iterrows():\n",
    "    ev = row['error']\n",
    "    ti = row['trials']\n",
    "    dftmp = df_all.query('abs(abs(error) - @ev) < 1e-5')\n",
    "    if len(dftmp) > 2:\n",
    "        print(ti, f'{ev:.6f}', len(dftmp[cols0]), dftmp.subject.nunique() )"
   ]
  },
  {
   "cell_type": "code",
   "execution_count": null,
   "id": "2553c710",
   "metadata": {
    "hidden": true
   },
   "outputs": [],
   "source": [
    "pd.__version__"
   ]
  },
  {
   "cell_type": "code",
   "execution_count": null,
   "id": "f87a2dc3",
   "metadata": {
    "hidden": true
   },
   "outputs": [],
   "source": [
    "dft = pd.DataFrame({'A':[0.1,0,2]})\n",
    "dft['A'] = dft['A'].apply(lambda x:'f{x:.2f}')"
   ]
  },
  {
   "cell_type": "markdown",
   "id": "372f8e15",
   "metadata": {},
   "source": [
    "# Questions\n",
    "* mvt duration = cue (dissapearance of the cursor) till crossing the outer circle (reaching certain distance from the start)\n",
    "* target_types, feeback_phase, target_phase -- ?\n",
    "* ITI_duration = ?\n",
    "* how large is noise?\n",
    "* feedback vs org_feedback -- # feedback -- preceived feedback,  org_feedback -- feedback that would be perceived without perturbation"
   ]
  },
  {
   "cell_type": "code",
   "execution_count": null,
   "id": "9b0fad90",
   "metadata": {},
   "outputs": [],
   "source": []
  }
 ],
 "metadata": {
  "kernelspec": {
   "display_name": "conda_merrbeh_py3113",
   "language": "python",
   "name": "conda_merrbeh_py3113"
  },
  "language_info": {
   "codemirror_mode": {
    "name": "ipython",
    "version": 3
   },
   "file_extension": ".py",
   "mimetype": "text/x-python",
   "name": "python",
   "nbconvert_exporter": "python",
   "pygments_lexer": "ipython3",
   "version": "3.10.4"
  }
 },
 "nbformat": 4,
 "nbformat_minor": 5
}
