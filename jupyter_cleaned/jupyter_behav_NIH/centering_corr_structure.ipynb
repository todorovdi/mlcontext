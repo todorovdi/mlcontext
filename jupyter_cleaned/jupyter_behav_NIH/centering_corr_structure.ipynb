{
 "cells": [
  {
   "cell_type": "code",
   "execution_count": null,
   "id": "2f1e6e03",
   "metadata": {},
   "outputs": [],
   "source": [
    "%load_ext autoreload\n",
    "%autoreload 2\n",
    "\n",
    "import os\n",
    "ipy = get_ipython()\n",
    "#data_dir_general = '/home/demitau/data_Quentin'\n",
    "#data_subdir_mem_err_main = 'full_experiments/data2'\n",
    "from os.path import join as pjoin\n",
    "import os,sys; sys.path.append(os.path.expandvars('$CODE_MEMORY_ERRORS'))\n",
    "import error_sensitivity\n",
    "#data_dir_input = pjoin(data_dir_general,data_subdir_mem_err_main)\n",
    "import pandas as pd\n",
    "import numpy as np\n",
    "import seaborn as sns\n",
    "import matplotlib.pyplot as plt"
   ]
  },
  {
   "cell_type": "code",
   "execution_count": null,
   "id": "70806ef9",
   "metadata": {},
   "outputs": [],
   "source": [
    "df_all_multi_tsz = pd.read_pickle('/home/demitau/data_Quentin/full_experiments/data2/df_all_multi_tsz.pkl.zip')"
   ]
  },
  {
   "cell_type": "code",
   "execution_count": null,
   "id": "495797e2",
   "metadata": {},
   "outputs": [],
   "source": [
    "df_all_multi_tsz = pd.read_pickle('/home/demitau/ownCloud/Current/merr_data/df_all_multi_tsz_NIH.pkl.zip')"
   ]
  },
  {
   "cell_type": "code",
   "execution_count": null,
   "id": "4edc044f",
   "metadata": {},
   "outputs": [],
   "source": [
    "df_all_multi_tsz.columns"
   ]
  },
  {
   "cell_type": "code",
   "execution_count": null,
   "id": "c4c65472",
   "metadata": {},
   "outputs": [],
   "source": [
    "df_all = df_all_multi_tsz.query('trial_shift_size == 1 and trial_group_col_calc == \"trials\"').copy()"
   ]
  },
  {
   "cell_type": "code",
   "execution_count": null,
   "id": "438019d7",
   "metadata": {},
   "outputs": [],
   "source": [
    "assert not df_all.duplicated(['subject','trials']).any()"
   ]
  },
  {
   "cell_type": "code",
   "execution_count": null,
   "id": "5859ce96",
   "metadata": {},
   "outputs": [],
   "source": [
    "subjects = df_all['subject'].unique()\n",
    "print(subjects)"
   ]
  },
  {
   "cell_type": "code",
   "execution_count": null,
   "id": "7b6abd1d",
   "metadata": {},
   "outputs": [],
   "source": [
    "df_all = df_all.sort_values(['subject','trials'])\n",
    "\n",
    "vs = ['feedback','prev_feedback','belief','prev_belief','error','prev_error','movement','prev_movement']\n",
    "\n",
    "vs2 = ['subject','trials'] + vs\n",
    "\n",
    "df_all['prev_feedback'] = df_all.groupby('subject')['feedback'].shift(1)\n",
    "\n",
    "df_all['feedback']      = df_all['feedback'] - np.pi\n",
    "df_all['prev_feedback'] = df_all['prev_feedback'] - np.pi\n",
    "\n",
    "df_all['movement'] = df_all['org_feedback'] - np.pi\n",
    "df_all['prev_movement'] = df_all.groupby('subject')['org_feedback'].shift(1) - np.pi\n",
    "\n",
    "df_all['belief']  = df_all['org_feedback'] - df_all['target_locs']\n",
    "df_all['prev_belief'] =  df_all.groupby('subject')['belief'].shift(1)"
   ]
  },
  {
   "cell_type": "code",
   "execution_count": null,
   "id": "5c9493da",
   "metadata": {},
   "outputs": [],
   "source": [
    "subjects"
   ]
  },
  {
   "cell_type": "code",
   "execution_count": null,
   "id": "ea0afe28",
   "metadata": {
    "run_control": {
     "marked": false
    }
   },
   "outputs": [],
   "source": [
    "sns.pairplot(df_all.query('environment == 0 and subject ==@subjects[0]')[vs])"
   ]
  },
  {
   "cell_type": "code",
   "execution_count": null,
   "id": "4e71734c",
   "metadata": {
    "run_control": {
     "marked": false
    }
   },
   "outputs": [],
   "source": [
    "# very corr to 'err' column\n",
    "df_all['error_pscadj_pertstageadj_abs'] = df_all['error_pscadj_pertstageadj'].abs()\n",
    "\n",
    "import numpy as np\n",
    "import pandas as pd\n",
    "from scipy.stats import pearsonr\n",
    "\n",
    "def select_numeric_columns(df):\n",
    "    numerical_columns = []\n",
    "    for column in df.columns:\n",
    "        if np.issubdtype(df[column].dtype, np.number):\n",
    "            numerical_columns.append(column)\n",
    "    return df[numerical_columns]\n",
    "\n",
    "def compute_significant_correlations(df, allow_empty=0):\n",
    "    correlations = []\n",
    "    for i in range(len(df.columns)):\n",
    "        for j in range(i + 1, len(df.columns)):\n",
    "            dfi = df[df.columns[i]]\n",
    "            bad1 = dfi.isna() | np.isinf(dfi)\n",
    "            dfj = df[df.columns[j]]\n",
    "            bad2 = dfj.isna() | np.isinf(dfj)\n",
    "            subdf = df[~(bad1 | bad2)]\n",
    "            if allow_empty and len(subdf) == 0:\n",
    "                corr, pval = None,1\n",
    "            else:\n",
    "                corr, pval = pearsonr(subdf[subdf.columns[i]], \n",
    "                                      subdf[subdf.columns[j]])\n",
    "            if pval < 0.05:\n",
    "                d = dict(zip(['col1','col2','r','pval'],(df.columns[i], \n",
    "                    df.columns[j], corr, pval)) )\n",
    "                \n",
    "                correlations.append(d)\n",
    "    return pd.DataFrame(correlations)\n",
    "\n",
    "# df = pd.DataFrame({\n",
    "#     \"x\": np.random.randint(0, 100, 100),\n",
    "#     \"y\": np.random.randint(0, 100, 100),\n",
    "#     \"z\": np.random.randint(0, 100, 100)\n",
    "# })\n",
    "\n",
    "print(len(df_all.query('error_pscadj_pertstageadj_abs >= 1.5 ') ))\n",
    "df_all_c = df_all.query('error_pscadj_pertstageadj_abs < 1.5 ') \n",
    "\n",
    "df_num = select_numeric_columns(df_all_c.drop(columns=['index']))\n",
    "correlations = compute_significant_correlations(df_num)\n",
    "display(correlations)\n"
   ]
  },
  {
   "cell_type": "code",
   "execution_count": null,
   "id": "83834318",
   "metadata": {},
   "outputs": [],
   "source": [
    "correlations_st = compute_significant_correlations(df_num.query('environment == 0'))\n",
    "correlations_rnd = compute_significant_correlations(df_num.query('environment == 1'), allow_empty = 1)"
   ]
  },
  {
   "cell_type": "code",
   "execution_count": null,
   "id": "fbab2b34",
   "metadata": {},
   "outputs": [],
   "source": []
  },
  {
   "cell_type": "code",
   "execution_count": null,
   "id": "37790daa",
   "metadata": {},
   "outputs": [],
   "source": [
    "correlations['rabs'] = correlations['r'].abs()\n",
    "correlations_st['rabs'] = correlations_st['r'].abs()\n",
    "correlations_rnd['rabs'] = correlations_rnd['r'].abs()"
   ]
  },
  {
   "cell_type": "code",
   "execution_count": null,
   "id": "0e96d61e",
   "metadata": {},
   "outputs": [],
   "source": [
    "len(correlations), len(correlations_st), len(correlations_rnd)"
   ]
  },
  {
   "cell_type": "code",
   "execution_count": null,
   "id": "947d82e2",
   "metadata": {},
   "outputs": [],
   "source": [
    "cols = [col for col in df_all.columns if not col.startswith('trial')]\n",
    "cols = list( (set(cols) - set(['movement',\n",
    "     'feedbackX','feedbackY','error_pscadj_pertstageadj',\n",
    "     'target_locs','err','target_codes','org_feedback_pscadj',\n",
    "    'error_pscadj_pertstageadj', 'org_feedback'] ) )\n",
    "            | set(['trials','trialwtgt','trialwpert_wb']) )"
   ]
  },
  {
   "cell_type": "code",
   "execution_count": null,
   "id": "c7433c6c",
   "metadata": {},
   "outputs": [],
   "source": [
    "cols"
   ]
  },
  {
   "cell_type": "code",
   "execution_count": null,
   "id": "56828036",
   "metadata": {},
   "outputs": [],
   "source": [
    "inds = [3,21, 28,31,155, 180,181,182,183,186,214,215,222, 248, 307, 355] +\\\n",
    "    list(range(40,56+1)) + list(range(249,288+1))"
   ]
  },
  {
   "cell_type": "code",
   "execution_count": null,
   "id": "d3e70efe",
   "metadata": {},
   "outputs": [],
   "source": [
    "# see what abserr would be corr with"
   ]
  },
  {
   "cell_type": "code",
   "execution_count": null,
   "id": "42ed4a77",
   "metadata": {},
   "outputs": [],
   "source": [
    "correlations.to_pickle('/home/demitau/data_Quentin/full_experiments/data2/NIH_behav_signif_corr_exchugeerr.pkl')\n",
    "correlations_st.to_pickle('/home/demitau/data_Quentin/full_experiments/data2/'\n",
    "                       'NIH_behav_stable_signif_corr_exchugeerr.pkl')\n",
    "correlations_rnd.to_pickle('/home/demitau/data_Quentin/full_experiments/data2/'\n",
    "                       'NIH_behav_random_signif_corr_exchugeerr.pkl')"
   ]
  },
  {
   "cell_type": "code",
   "execution_count": null,
   "id": "9f8c9195",
   "metadata": {},
   "outputs": [],
   "source": [
    "def srt(lst):\n",
    "    lst = list(lst)\n",
    "    r = sorted(lst, \n",
    "       key=lambda x: list(df_all.columns.values).index(x))\n",
    "    return tuple(list(r))"
   ]
  },
  {
   "cell_type": "code",
   "execution_count": null,
   "id": "fa0c1ebc",
   "metadata": {},
   "outputs": [],
   "source": [
    "srt(['RT', 'prev_belief']), srt(['prev_belief','RT'])"
   ]
  },
  {
   "cell_type": "code",
   "execution_count": null,
   "id": "8366e02c",
   "metadata": {},
   "outputs": [],
   "source": [
    "sets_st = [srt(l) for l in correlations_st[['col1','col2']].values]\n",
    "sets_rnd = [srt(l) for l in correlations_rnd[['col1','col2']].values]\n",
    "sets_all = [srt(l) for l in correlations[['col1','col2']].values]"
   ]
  },
  {
   "cell_type": "code",
   "execution_count": null,
   "id": "63f3878b",
   "metadata": {},
   "outputs": [],
   "source": [
    "(len(sets_all), len(sets_st), len( set(sets_all) ^ set(sets_st) ) ,\n",
    " len( set(sets_all) ^ set(sets_rnd ) ), \n",
    " len( set(sets_st) ^ set(sets_rnd) ) )   "
   ]
  },
  {
   "cell_type": "code",
   "execution_count": null,
   "id": "775fdb38",
   "metadata": {},
   "outputs": [],
   "source": []
  },
  {
   "cell_type": "code",
   "execution_count": null,
   "id": "8a875962",
   "metadata": {},
   "outputs": [],
   "source": [
    "sets_st"
   ]
  },
  {
   "cell_type": "code",
   "execution_count": null,
   "id": "32b20ffc",
   "metadata": {},
   "outputs": [],
   "source": [
    "set(sets_st)"
   ]
  },
  {
   "cell_type": "code",
   "execution_count": null,
   "id": "54c8e0e5",
   "metadata": {},
   "outputs": [],
   "source": [
    "#all\n",
    "with pd.option_context('display.max_rows', None):\n",
    "    display(correlations_st.\\\n",
    "            query('col1.isin(@cols) and col2.isin(@cols)') )"
   ]
  },
  {
   "cell_type": "code",
   "execution_count": null,
   "id": "10452dbf",
   "metadata": {},
   "outputs": [],
   "source": [
    "#all\n",
    "with pd.option_context('display.max_rows', None):\n",
    "    display(correlations.\\\n",
    "            query('col1.isin(@cols) and col2.isin(@cols)') )"
   ]
  },
  {
   "cell_type": "code",
   "execution_count": null,
   "id": "dd7e8205",
   "metadata": {},
   "outputs": [],
   "source": [
    "def f(x):\n",
    "    #c1,c2 = srt((x['col1'],x['col2']))\n",
    "    if x['col2'] < x['col1'] or len(x['col2']) > len(x['col1']):\n",
    "        c1,c2 = x['col2'],x['col1']\n",
    "    else:\n",
    "        c1,c2 = x['col1'],x['col2']\n",
    "    return c1,c2\n",
    "correlations[['col1srt','col2srt']] = correlations.apply(\n",
    "    f,1 ,result_type='expand')\n",
    "correlations_st[['col1srt','col2srt']] = correlations_st.apply(\n",
    "    f,1 ,result_type='expand')\n",
    "correlations_rnd[['col1srt','col2srt']] = correlations_rnd.apply(\n",
    "    f,1 ,result_type='expand')"
   ]
  },
  {
   "cell_type": "code",
   "execution_count": null,
   "id": "29f70245",
   "metadata": {},
   "outputs": [],
   "source": [
    "df_.columns"
   ]
  },
  {
   "cell_type": "code",
   "execution_count": null,
   "id": "dd902636",
   "metadata": {},
   "outputs": [],
   "source": [
    "df0 = correlations_st\n",
    "\n",
    "cols_int = ['error_pscadj_pertstageadj_abs','err_sens',\n",
    "'error','trialwb','movement_duration',\n",
    "'RT','perturbation']\n",
    "\n",
    "col2info = {}\n",
    "for col_int in cols_int:#[:1]:\n",
    "    neg = []\n",
    "    pos = []\n",
    "    with pd.option_context('display.max_rows', None):\n",
    "        df_ = df0.query('col1.isin(@cols) and col2.isin(@cols)')\n",
    "        #df_ = df0\n",
    "        df_ = df_.query('col2 == @col_int '\n",
    "                    'or col1 == @col_int')\\\n",
    "            [['col1srt','col2srt','r','pval']].sort_values('r')\n",
    "        \n",
    "\n",
    "        #dfneg = df_.query('r < 0')\n",
    "        display( df_)\n",
    "    #dfneg = df_.query('r < 0')\n",
    "    for i,row in df_.iterrows():\n",
    "        r = row['r']\n",
    "        othercol = list(set([row['col1srt'],row['col2srt']])-\\\n",
    "                        set([col_int]))[0]\n",
    "        if r < 0:            \n",
    "            neg += [(othercol, row['r'], row['pval']) ]\n",
    "        else:\n",
    "            pos += [(othercol, row['r'], row['pval'])]\n",
    "    \n",
    "    col2info[col_int] = {'pos':pos, 'neg':neg}\n",
    "\n",
    "for col_int,info in col2info.items():\n",
    "    neg = [col[0] for col in info['neg'] ]\n",
    "    pos = [col[0] for col in info['pos'] ]\n",
    "    print('{} is negatively correlated with {}'.format( col_int,\n",
    "                                    sorted(neg) ) )\n",
    "    print('  it is postively correlated with ',sorted(pos))\n",
    "    print('')"
   ]
  },
  {
   "cell_type": "code",
   "execution_count": null,
   "id": "cd8578db",
   "metadata": {},
   "outputs": [],
   "source": [
    "df0 = correlations_rnd\n",
    "\n",
    "cols_int = ['error_pscadj_pertstageadj_abs','err_sens',\n",
    "'error','trialwb','movement_duration',\n",
    "'RT','perturbation']\n",
    "\n",
    "col2info = {}\n",
    "for col_int in cols_int:#[:1]:\n",
    "    neg = []\n",
    "    pos = []\n",
    "    with pd.option_context('display.max_rows', None):\n",
    "        df_ = df0.query('col1.isin(@cols) and col2.isin(@cols)')\n",
    "        df_ = df_.query('col2 == @col_int '\n",
    "                    'or col1 == @col_int')\\\n",
    "            [['col1srt','col2srt','r','pval']].sort_values('r')\n",
    "        \n",
    "\n",
    "        #dfneg = df_.query('r < 0')\n",
    "        display( df_)\n",
    "    #dfneg = df_.query('r < 0')\n",
    "    for i,row in df_.iterrows():\n",
    "        r = row['r']\n",
    "        othercol = list(set([row['col1srt'],row['col2srt']])-\\\n",
    "                        set([col_int]))[0]\n",
    "        if r < 0:            \n",
    "            neg += [(othercol, row['r'], row['pval']) ]\n",
    "        else:\n",
    "            pos += [(othercol, row['r'], row['pval'])]\n",
    "    \n",
    "    col2info[col_int] = {'pos':pos, 'neg':neg}\n",
    "\n",
    "for col_int,info in col2info.items():\n",
    "    neg = [col[0] for col in info['neg'] ]\n",
    "    pos = [col[0] for col in info['pos'] ]\n",
    "    print('{} is negatively correlated with {}'.format( col_int,\n",
    "                                    sorted(neg) ) )\n",
    "    print('  it is postively correlated with ',sorted(pos))\n",
    "    print('')"
   ]
  },
  {
   "cell_type": "code",
   "execution_count": null,
   "id": "6a1bd7db",
   "metadata": {},
   "outputs": [],
   "source": [
    "#all\n",
    "#col_int = 'error_pscadj_pertstageadj_abs'\n",
    "#col_int = 'trialwb'\n",
    "#col_int = 'err_sens'\n",
    "#col_int = 'movement_duration'\n",
    "col_int = 'RT'\n",
    "with pd.option_context('display.max_rows', None):\n",
    "    display(correlations.query('col2 == @col_int or col1 == @col_int')\\\n",
    "            [['col1','col2','r','pval']].sort_values('r') )"
   ]
  },
  {
   "cell_type": "code",
   "execution_count": null,
   "id": "452b2567",
   "metadata": {},
   "outputs": [],
   "source": [
    "#all\n",
    "with pd.option_context('display.max_rows', None):\n",
    "    display(correlations.loc[inds] [['col1','col2','r','pval']] )"
   ]
  },
  {
   "cell_type": "code",
   "execution_count": null,
   "id": "de41a7bf",
   "metadata": {},
   "outputs": [],
   "source": []
  },
  {
   "cell_type": "code",
   "execution_count": null,
   "id": "fd8359d1",
   "metadata": {},
   "outputs": [],
   "source": [
    "df_all_c.plot(x='trials',y=['error_pscadj_pertstageadj_abs'])"
   ]
  },
  {
   "cell_type": "code",
   "execution_count": null,
   "id": "83754ebe",
   "metadata": {},
   "outputs": [],
   "source": [
    "df_all['pert_stage_wb'].max()#,df_all['pert_stage_'].max()"
   ]
  },
  {
   "cell_type": "code",
   "execution_count": null,
   "id": "ae083d2c",
   "metadata": {},
   "outputs": [],
   "source": [
    "df_all[['trials','trialwtgt']]"
   ]
  },
  {
   "cell_type": "code",
   "execution_count": null,
   "id": "67224d2d",
   "metadata": {},
   "outputs": [],
   "source": [
    "dfos = df_all.query('environment == 0 and subject ==@subjects[0]')\n",
    "dfos = dfos[~dfos['error'].isna() & ~dfos['prev_error'].isna()]"
   ]
  },
  {
   "cell_type": "code",
   "execution_count": null,
   "id": "ad9babc1",
   "metadata": {},
   "outputs": [],
   "source": [
    "from scipy.stats import pearsonr\n",
    "#np.corrcoef\n",
    "pearsonr(dfos['error'], dfos['prev_error'])"
   ]
  },
  {
   "cell_type": "code",
   "execution_count": null,
   "id": "7b9dbb6e",
   "metadata": {},
   "outputs": [],
   "source": [
    "pearsonr(dfos['movement'], dfos['prev_movement'])"
   ]
  },
  {
   "cell_type": "code",
   "execution_count": null,
   "id": "588be8a0",
   "metadata": {},
   "outputs": [],
   "source": [
    "sns.pairplot(df_all_c.query('subject ==@subjects[0]')[vs])"
   ]
  },
  {
   "cell_type": "code",
   "execution_count": null,
   "id": "232ad18e",
   "metadata": {},
   "outputs": [],
   "source": [
    "df_all['pert_stage_wb'].max()"
   ]
  },
  {
   "cell_type": "code",
   "execution_count": null,
   "id": "8807e40a",
   "metadata": {},
   "outputs": [],
   "source": [
    "sns.pairplot(df_all_c.query(\n",
    "    'environment == 0 and prev_error.abs() < 1.6')[vs])\n",
    "\n",
    "sns.pairplot(df_all_c.query(\n",
    "    'environment == 0 and prev_error.abs() < 1.6')[['error','prev_error']])"
   ]
  },
  {
   "cell_type": "code",
   "execution_count": null,
   "id": "023650c3",
   "metadata": {},
   "outputs": [],
   "source": [
    "#halfpi = np.pi / 2"
   ]
  },
  {
   "cell_type": "code",
   "execution_count": null,
   "id": "70847406",
   "metadata": {},
   "outputs": [],
   "source": [
    "sns.pairplot(df_all_c.query(\n",
    "    'environment == 1 and belief.abs() < 1.6 and '\n",
    "     ' prev_error.abs() < 1.6'\n",
    "    ' and prev_belief.abs() < 1.6')[vs])"
   ]
  },
  {
   "cell_type": "code",
   "execution_count": null,
   "id": "05bcac5f",
   "metadata": {},
   "outputs": [],
   "source": [
    "sns.pairplot(df_all_c.query(\n",
    "    'environment == 1 and belief.abs() < 1.6 and '\n",
    "     ' prev_error.abs() < 1.6'\n",
    "    ' and prev_belief.abs() < 1.6')[['error','prev_error']])"
   ]
  },
  {
   "cell_type": "code",
   "execution_count": null,
   "id": "1f11a23a",
   "metadata": {},
   "outputs": [],
   "source": [
    "sns.pairplot(df_all[vs])"
   ]
  },
  {
   "cell_type": "code",
   "execution_count": null,
   "id": "2421a2ff",
   "metadata": {},
   "outputs": [],
   "source": [
    "import numpy as np\n",
    "(df_all['prev_belief']*180/np.pi).hist()"
   ]
  },
  {
   "cell_type": "code",
   "execution_count": null,
   "id": "1ca4fd9a",
   "metadata": {},
   "outputs": [],
   "source": [
    "import numpy as np\n",
    "(df_all['movement']*180/np.pi).hist()"
   ]
  },
  {
   "cell_type": "code",
   "execution_count": null,
   "id": "5713bfd1",
   "metadata": {},
   "outputs": [],
   "source": [
    "df_all['movement'].describe()"
   ]
  },
  {
   "cell_type": "code",
   "execution_count": null,
   "id": "7765d096",
   "metadata": {},
   "outputs": [],
   "source": [
    "df_all['movement'].min()"
   ]
  },
  {
   "cell_type": "code",
   "execution_count": null,
   "id": "2fe06bfa",
   "metadata": {},
   "outputs": [],
   "source": [
    "df_all['error'].min()"
   ]
  },
  {
   "cell_type": "code",
   "execution_count": null,
   "id": "10acd243",
   "metadata": {},
   "outputs": [],
   "source": [
    "df_noc_st = df_all.query('environment == 0')[vs2]\n",
    "df_c_st = df_noc_st.copy()\n",
    "df_c_st.loc[:,vs] = df_c_st.loc[:,vs].apply(lambda x: x-x.mean(), axis=0)\n",
    "\n",
    "df_noc = df_all[vs2]\n",
    "df_c = df_noc.copy()\n",
    "df_c.loc[:,vs] = df_c.loc[:,vs].apply(lambda x: x-x.mean(), axis=0)"
   ]
  },
  {
   "cell_type": "code",
   "execution_count": null,
   "id": "ec714b97",
   "metadata": {},
   "outputs": [],
   "source": [
    "from scipy.stats import pearsonr\n",
    "#np.corrcoef\n",
    "for df_ in [df_noc_st, df_c_st]:\n",
    "    dfg = df_.query('subject ==@subjects[0]')\n",
    "    dfg = dfg[~dfg['error'].isna() & ~dfg['prev_error'].isna()]\n",
    "    c1 = pearsonr(dfg['error'], dfg['prev_error'])\n",
    "    c2 = pearsonr(dfg['movement'], dfg['prev_movement'])\n",
    "    print(c1,c2)"
   ]
  },
  {
   "cell_type": "code",
   "execution_count": null,
   "id": "14eff3f6",
   "metadata": {},
   "outputs": [],
   "source": [
    "df_ = df_c_st[vs]\n",
    "(df_/df_.std()).cov()\n",
    "#.cov()"
   ]
  },
  {
   "cell_type": "code",
   "execution_count": null,
   "id": "9130edce",
   "metadata": {},
   "outputs": [],
   "source": [
    "display( df_noc[vs].describe().loc[['count','mean','std']] )\n",
    "display( df_c[vs].describe().loc[['count','mean','std']] )"
   ]
  },
  {
   "cell_type": "code",
   "execution_count": null,
   "id": "2081124c",
   "metadata": {},
   "outputs": [],
   "source": [
    "df_noc[vs] - df_c[vs]"
   ]
  },
  {
   "cell_type": "code",
   "execution_count": null,
   "id": "13f8aa97",
   "metadata": {},
   "outputs": [],
   "source": [
    "#df_c"
   ]
  },
  {
   "cell_type": "code",
   "execution_count": null,
   "id": "daac1328",
   "metadata": {},
   "outputs": [],
   "source": [
    "import gc; gc.collect()"
   ]
  },
  {
   "cell_type": "code",
   "execution_count": null,
   "id": "70775819",
   "metadata": {},
   "outputs": [],
   "source": [
    "df_ = df_noc[vs]\n",
    "df_norm = df_ / df_.std()"
   ]
  },
  {
   "cell_type": "code",
   "execution_count": null,
   "id": "c972323a",
   "metadata": {},
   "outputs": [],
   "source": [
    "df_noc[vs].isna().sum()"
   ]
  },
  {
   "cell_type": "code",
   "execution_count": null,
   "id": "9963aa4b",
   "metadata": {},
   "outputs": [],
   "source": [
    "df_noc[vs].interpolate(method='linear').dropna().isna().sum()"
   ]
  },
  {
   "cell_type": "code",
   "execution_count": null,
   "id": "049db3d7",
   "metadata": {},
   "outputs": [],
   "source": [
    "# Compute the correlation matrix using the dot product of the normalized dataframe and its transpose\n",
    "df_norm.T.dot(df_norm)\n",
    "# Print the correlation matrix"
   ]
  },
  {
   "cell_type": "code",
   "execution_count": null,
   "id": "fe3bc2be",
   "metadata": {},
   "outputs": [],
   "source": [
    "def dumbCorr(df):\n",
    "    df = df.interpolate(method='linear').dropna()\n",
    "    df_norm = df / df.std()\n",
    "    # Compute the correlation matrix using the dot product of the normalized dataframe and its transpose\n",
    "    corr_matrix = df_norm.T.dot(df_norm)\n",
    "    # Print the correlation matrix\n",
    "    return corr_matrix\n",
    "#print(corr_matrix)"
   ]
  },
  {
   "cell_type": "code",
   "execution_count": null,
   "id": "b5422ebd",
   "metadata": {},
   "outputs": [],
   "source": [
    "ddof = None\n",
    "cov_matrix_noc = df_noc[vs].cov(ddof=ddof)\n",
    "#plot the heatmap of the covariance matrix\n",
    "ax = sns.heatmap(cov_matrix_noc)\n",
    "ax.invert_yaxis()\n",
    "ax.set_title('pandas cov UNcentered')\n",
    "plt.figure()\n",
    "cov_matrix_c = df_c[vs].cov(ddof = ddof)\n",
    "#plot the heatmap of the covariance matrix\n",
    "ax = sns.heatmap(cov_matrix_c)\n",
    "ax.invert_yaxis()\n",
    "ax.set_title('pandas cov centered')\n",
    "\n",
    "plt.figure()\n",
    "corr_matrix_noc = df_noc[vs].corr()\n",
    "ax = sns.heatmap(corr_matrix_noc)\n",
    "ax.invert_yaxis()\n",
    "ax.set_title('pandas corr UNcentered')\n",
    "plt.figure()\n",
    "corr_matrix_c = df_c[vs].corr()\n",
    "ax = sns.heatmap(corr_matrix_c)\n",
    "ax.invert_yaxis()\n",
    "ax.set_title('pandas corr centered')\n",
    "\n",
    "plt.figure()\n",
    "dcorr_matrix_noc = dumbCorr(df_noc[vs])\n",
    "ax = sns.heatmap(dcorr_matrix_noc)\n",
    "ax.invert_yaxis()\n",
    "ax.set_title('dumb corr UNcentered')\n",
    "plt.figure()\n",
    "dcorr_matrix_c = dumbCorr(df_c[vs])\n",
    "ax = sns.heatmap(dcorr_matrix_c)\n",
    "ax.invert_yaxis()\n",
    "ax.set_title('dumb corr centered')"
   ]
  },
  {
   "cell_type": "code",
   "execution_count": null,
   "id": "420ce072",
   "metadata": {},
   "outputs": [],
   "source": [
    "df_noc, df_c = \\\n",
    "    df_noc_st.query('subject == @subjects[0]'), \\\n",
    "    df_c_st.query('subject == @subjects[0]')"
   ]
  },
  {
   "cell_type": "code",
   "execution_count": null,
   "id": "db3e1691",
   "metadata": {},
   "outputs": [],
   "source": [
    "df_noc_, df_c_ = df_noc_st, df_c_st"
   ]
  },
  {
   "cell_type": "code",
   "execution_count": null,
   "id": "a757ad44",
   "metadata": {},
   "outputs": [],
   "source": [
    "ddof = 1\n",
    "cov_matrix_noc = df_noc_[vs].cov(ddof=ddof)\n",
    "#plot the heatmap of the covariance matrix\n",
    "ax = sns.heatmap(cov_matrix_noc)\n",
    "ax.invert_yaxis()\n",
    "ax.set_title('pandas cov UNcentered')\n",
    "plt.figure()\n",
    "cov_matrix_c = df_c_[vs].cov(ddof = ddof)\n",
    "#plot the heatmap of the covariance matrix\n",
    "ax = sns.heatmap(cov_matrix_c)\n",
    "ax.invert_yaxis()\n",
    "ax.set_title('pandas cov centered')\n",
    "\n",
    "plt.figure()\n",
    "cov_matrix_noc = (df_noc_/df_noc_.std())[vs].cov(ddof=ddof)\n",
    "#plot the heatmap of the covariance matrix\n",
    "ax = sns.heatmap(cov_matrix_noc)\n",
    "ax.invert_yaxis()\n",
    "ax.set_title('pandas normalized cov UNcentered')\n",
    "plt.figure()\n",
    "cov_matrix_c = (df_c_/df_c_.std())[vs].cov(ddof = ddof)\n",
    "#plot the heatmap of the covariance matrix\n",
    "ax = sns.heatmap(cov_matrix_c)\n",
    "ax.invert_yaxis()\n",
    "ax.set_title('pandas normalized cov centered')\n",
    "\n",
    "plt.figure()\n",
    "corr_matrix_noc = df_noc_[vs].corr()\n",
    "ax = sns.heatmap(corr_matrix_noc)\n",
    "ax.invert_yaxis()\n",
    "ax.set_title('pandas corr UNcentered')\n",
    "plt.figure()\n",
    "corr_matrix_c = df_c_[vs].corr()\n",
    "ax = sns.heatmap(corr_matrix_c)\n",
    "ax.invert_yaxis()\n",
    "ax.set_title('pandas corr centered')\n",
    "\n",
    "plt.figure()\n",
    "dcorr_matrix_noc = dumbCorr(df_noc_[vs])\n",
    "ax = sns.heatmap(dcorr_matrix_noc)\n",
    "ax.invert_yaxis()\n",
    "ax.set_title('dumb corr UNcentered')\n",
    "plt.figure()\n",
    "dcorr_matrix_c = dumbCorr(df_c_[vs])\n",
    "ax = sns.heatmap(dcorr_matrix_c)\n",
    "ax.invert_yaxis()\n",
    "ax.set_title('dumb corr centered')"
   ]
  },
  {
   "cell_type": "code",
   "execution_count": null,
   "id": "81fe9a70",
   "metadata": {},
   "outputs": [],
   "source": [
    "dcorr_matrix_noc - dcorr_matrix_c"
   ]
  },
  {
   "cell_type": "code",
   "execution_count": null,
   "id": "9befba3e",
   "metadata": {},
   "outputs": [],
   "source": [
    "#If rowvar is True (default), then each row represents a variable, with observations in the columns."
   ]
  },
  {
   "cell_type": "code",
   "execution_count": null,
   "id": "b2cd1999",
   "metadata": {},
   "outputs": [],
   "source": [
    "cov_matrix_noc - cov_matrix_c"
   ]
  },
  {
   "cell_type": "code",
   "execution_count": null,
   "id": "02d57e58",
   "metadata": {},
   "outputs": [],
   "source": [
    "ma.cov?"
   ]
  },
  {
   "cell_type": "code",
   "execution_count": null,
   "id": "36d2f41a",
   "metadata": {},
   "outputs": [],
   "source": [
    "import numpy.ma as ma\n",
    "marr = ma.masked_invalid(df_noc[vs].values.T)\n",
    "#compute the covariance using numpy.ma.cov\n",
    "cov_ = ma.cov(marr)\n",
    "cov_noc = cov_.filled(np.nan)\n",
    "assert not np.isnan(cov_noc).any()\n",
    "\n",
    "marr = ma.masked_invalid(df_c[vs].values.T)\n",
    "#compute the covariance using numpy.ma.cov\n",
    "cov_ = ma.cov(marr)\n",
    "cov_c = cov_.filled(np.nan)\n",
    "assert not np.isnan(cov_c).any()"
   ]
  },
  {
   "cell_type": "code",
   "execution_count": null,
   "id": "9f56971c",
   "metadata": {},
   "outputs": [],
   "source": [
    "np.abs(cov_c - cov_noc).max()"
   ]
  },
  {
   "cell_type": "code",
   "execution_count": null,
   "id": "c1e5abf2",
   "metadata": {},
   "outputs": [],
   "source": [
    "vs"
   ]
  },
  {
   "cell_type": "code",
   "execution_count": null,
   "id": "6ecfabc0",
   "metadata": {},
   "outputs": [],
   "source": [
    "#cov.shape"
   ]
  },
  {
   "cell_type": "code",
   "execution_count": null,
   "id": "1b17d319",
   "metadata": {},
   "outputs": [],
   "source": [
    "import pingouin\n",
    "from pingouin import partial_corr\n",
    "pingouin.__version__"
   ]
  },
  {
   "cell_type": "code",
   "execution_count": null,
   "id": "fab43332",
   "metadata": {},
   "outputs": [],
   "source": [
    "vs"
   ]
  },
  {
   "cell_type": "code",
   "execution_count": null,
   "id": "0f330b39",
   "metadata": {},
   "outputs": [],
   "source": [
    "vs0 = [ 'error',\n",
    " 'prev_error',\n",
    "       'prev_belief',\n",
    " 'prev_movement']\n",
    "susp_var = 'prev_movement'\n"
   ]
  },
  {
   "cell_type": "code",
   "execution_count": null,
   "id": "5908e478",
   "metadata": {},
   "outputs": [],
   "source": [
    "from base2 import B2B\n",
    "from sklearn.linear_model import LinearRegression\n",
    "def partial_corr_b2b(df, x,y, covar, intercept_G = 0, intercept_H = 0):\n",
    "    #X,Y\n",
    "    df = df.interpolate(method='linear').dropna()\n",
    "    X = df[x].values[:,None]\n",
    "    Y = df[[y] + covar].values\n",
    "    #print(Y.shape)\n",
    "    \n",
    "    G = LinearRegression(fit_intercept = bool(intercept_G) )\n",
    "    H = LinearRegression(fit_intercept = bool(intercept_H) )\n",
    "    b2b = B2B(G,H, random_state_split = 0)\n",
    "    b2b.fit(X,Y, verbose=False)\n",
    "    return np.diag(b2b.E_), b2b\n",
    "r, b2b = partial_corr_b2b(df_c, susp_var, v1, other_vars)"
   ]
  },
  {
   "cell_type": "code",
   "execution_count": null,
   "id": "955351d6",
   "metadata": {},
   "outputs": [],
   "source": []
  },
  {
   "cell_type": "code",
   "execution_count": null,
   "id": "7fc85efc",
   "metadata": {},
   "outputs": [],
   "source": [
    "b2b"
   ]
  },
  {
   "cell_type": "code",
   "execution_count": null,
   "id": "16a67bdd",
   "metadata": {},
   "outputs": [],
   "source": [
    "rs = []\n",
    "for susp_var in vs0:\n",
    "    for name,df in [('c',df_c),('noc',df_noc)]:\n",
    "        for v1 in (set(vs0) - set([susp_var])):\n",
    "            for alt in ['two-sided','greater','less']:\n",
    "                other_vars = list(set(vs0) - set([susp_var,v1]))#; print(other_vars)\n",
    "                r = partial_corr(df, x = susp_var, y=v1, covar=other_vars, alternative=alt)\n",
    "                r['alt'] = alt\n",
    "                r['v1'] = v1\n",
    "                r['centering'] = name\n",
    "                r['susp_var'] = susp_var\n",
    "                r['covar']  = ','.join(list(sorted(other_vars) ))\n",
    "                r['alg'] = 'partial_corr'\n",
    "                r['iG'] = 0\n",
    "                r['iH'] = 0\n",
    "                rs += [r]\n",
    "            \n",
    "            for (iG,iH) in [(0,0), (1,1), (1,0), (0,1)]:\n",
    "                np.random.seed(0)\n",
    "                r = partial_corr_b2b(df, susp_var, v1, other_vars, iG,iH)\n",
    "                d = { 'r': r[0], 'r1': r[1], 'r2': r[2]}\n",
    "                r = pd.DataFrame([d])\n",
    "                r['alt'] = alt\n",
    "                r['v1'] = v1\n",
    "                r['centering'] = name\n",
    "                r['susp_var'] = susp_var\n",
    "                r['covar']  = ','.join(list(sorted(other_vars) ))\n",
    "                r['alg'] = 'partial_corr_b2b'\n",
    "                r['iG'] = iG\n",
    "                r['iH'] = iH\n",
    "                rs += [r]\n",
    "dfr= pd.concat(rs).sort_values(['susp_var','v1','alt','alg','centering']).reset_index(drop=1)\n",
    "dfr"
   ]
  },
  {
   "cell_type": "code",
   "execution_count": null,
   "id": "7cd6f79d",
   "metadata": {},
   "outputs": [],
   "source": [
    "#def f(dftmp):\n",
    "#    dftmp.query('centering')\n",
    "dfr_ = dfr.query('alg == \"partial_corr\"')\n",
    "dif = dfr_.query('centering == \"c\"').set_index(['susp_var','v1','alt'])['r'] - \\\n",
    "    dfr_.query('centering == \"noc\"').set_index(['susp_var','v1','alt'])['r']\n",
    "(dif.abs() > 1e-10).any()"
   ]
  },
  {
   "cell_type": "code",
   "execution_count": null,
   "id": "ff5605ea",
   "metadata": {},
   "outputs": [],
   "source": [
    "#def f(dftmp):\n",
    "#    dftmp.query('centering')\n",
    "dfr_ = dfr.query('alg == \"partial_corr_b2b\"')\n",
    "dif = dfr_.query('centering == \"c\"').set_index(['susp_var','v1','iG','iH'])['r'] - \\\n",
    "    dfr_.query('centering == \"noc\"').set_index(['susp_var','v1','iG','iH'])['r']\n",
    "(dif.abs() > 1e-10).any()"
   ]
  },
  {
   "cell_type": "code",
   "execution_count": null,
   "id": "94171034",
   "metadata": {},
   "outputs": [],
   "source": [
    "for (iG,iH) in [(0,0), (1,1), (1,0), (0,1)]:\n",
    "    print(iG,iH, 'max abs dif = {:.6f}'.format( dif[:,:,iG,iH].abs().max() ) )"
   ]
  },
  {
   "cell_type": "code",
   "execution_count": null,
   "id": "ba9d51b3",
   "metadata": {},
   "outputs": [],
   "source": [
    "dif.groupby(['iG','iH']).abs()"
   ]
  },
  {
   "cell_type": "code",
   "execution_count": null,
   "id": "c7c31859",
   "metadata": {},
   "outputs": [],
   "source": [
    "with pd.option_context('display.max_rows', None,):\n",
    "    df_ = dfr.query('alg == \"partial_corr_b2b\" and iG == iH and iH == 1')[['susp_var','r1','covar', 'centering','r','r1','r2','iG','iH']]\n",
    "    display(df_)"
   ]
  },
  {
   "cell_type": "code",
   "execution_count": null,
   "id": "5023b6be",
   "metadata": {},
   "outputs": [],
   "source": [
    "# pingouin.partial_corr(data=None, x=None, y=None, covar=None, x_covar=None, y_covar=None, alternative='two-sided', method='pearson')\n",
    "# Partial and semi-partial correlation.\n",
    "\n"
   ]
  }
 ],
 "metadata": {
  "kernelspec": {
   "display_name": "merr",
   "language": "python",
   "name": "merr"
  },
  "language_info": {
   "codemirror_mode": {
    "name": "ipython",
    "version": 3
   },
   "file_extension": ".py",
   "mimetype": "text/x-python",
   "name": "python",
   "nbconvert_exporter": "python",
   "pygments_lexer": "ipython3",
   "version": "3.8.13"
  }
 },
 "nbformat": 4,
 "nbformat_minor": 5
}
