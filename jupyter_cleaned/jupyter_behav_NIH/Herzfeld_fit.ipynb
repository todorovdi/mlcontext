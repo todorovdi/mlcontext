{
 "cells": [
  {
   "cell_type": "code",
   "execution_count": null,
   "id": "b18d27c2",
   "metadata": {},
   "outputs": [],
   "source": [
    "%load_ext autoreload\n",
    "%autoreload 2\n",
    "from IPython import get_ipython; ipython = get_ipython()\n",
    "import sys, os\n",
    "from os.path import join as pjoin\n",
    "import seaborn as sns\n",
    "p = pjoin( os.path.expandvars('$CODE_MEMORY_ERRORS'), 'state-space-adaptation' )\n",
    "sys.path.append(p)\n",
    "sys.path.append(os.path.expandvars('$CODE_MEMORY_ERRORS'))\n",
    "scripts_dir = pjoin( os.path.expandvars('$CODE_MEMORY_ERRORS'))\n",
    "script_name = pjoin(scripts_dir,'taumodels/test_fit.py')\n",
    "\n",
    "from config2 import subjects as subjects_NIH\n",
    "from figure.plots import relplot_multi\n",
    "from config2 import path_fig\n",
    "import warnings, gc\n",
    "from behav_proc import aggRows"
   ]
  },
  {
   "cell_type": "code",
   "execution_count": null,
   "id": "90dd3fce",
   "metadata": {},
   "outputs": [],
   "source": [
    "dfbc = []\n",
    "args_all = []\n",
    "n_runs = 30\n",
    "#fit_to = 'errors'\n",
    "fit_to = 'errors_and_err_sens'\n",
    "#%debug\n",
    "#for subj in subjects_NIH[:6]:\n",
    "for subj in subjects_NIH:    \n",
    "    #for nb in [5,10,20,30]:\n",
    "    #for nb in [10,20]:\n",
    "    #for nb in [20]:\n",
    "    for nb in [-1]:\n",
    "        #for reg in [0.,0.1, 0.25, 0.5, 1.]:\n",
    "        #for reg in [0.25]:\n",
    "        #for reg in [0, 0.25]:\n",
    "        for reg in [0, 0.1]:\n",
    "            for fitmask in ['no','random', 'stable']:\n",
    "            #for fitmask in ['no']:\n",
    "                ipython.run_line_magic('run', f'-i {script_name} '\n",
    "                    f'--subject {subj} --reg {reg:.2f} '\n",
    "                    f'--save_suffix _reg={reg:.2f}_mask={fitmask}_nb={nb} '\n",
    "                    f' --fitmask {fitmask} --n_runs {n_runs} '\n",
    "                    f'--exit_after args_prep --num_bases {nb}'\n",
    "                    f' --fit_to {fit_to}')\n",
    "                #dfbc += [bestCalcs]\n",
    "                args_all += args_ext\n",
    "    \n",
    "# for subj in subjects_NIH:\n",
    "#     ipython.run_line_magic('run', f'-i {script_name} '\n",
    "#        f'--subject {subj} --reg 1')\n",
    "#     dfbc += [bestCalcs]"
   ]
  },
  {
   "cell_type": "code",
   "execution_count": null,
   "id": "29a6f797",
   "metadata": {},
   "outputs": [],
   "source": [
    "import gc;gc.collect()"
   ]
  },
  {
   "cell_type": "code",
   "execution_count": null,
   "id": "6b5a5f92",
   "metadata": {},
   "outputs": [],
   "source": [
    "print(len(args_all))\n",
    "n_jobs_for_all = 50\n",
    "if n_jobs_for_all == 1:\n",
    "    plr = []\n",
    "    for arg in args_all:\n",
    "        plr += [_opt(**arg)]\n",
    "else:\n",
    "    plr = Parallel(n_jobs=n_jobs_for_all, backend='multiprocessing',\n",
    "                )(delayed(_opt)(**arg) for arg in args_all) "
   ]
  },
  {
   "cell_type": "code",
   "execution_count": null,
   "id": "fa0e8262",
   "metadata": {},
   "outputs": [],
   "source": [
    "from behav_proc import aggRows\n",
    "plr = pd.DataFrame(plr, columns=['minres','pard','arg','subject']) \n",
    "for k in plr.arg.values[0]:\n",
    "    plr[k] = plr.arg.apply(lambda x: x.get(k,None))\n",
    "\n",
    "def f(x):\n",
    "    thr = x[\"small_err_thr\"]\n",
    "    \n",
    "    r = (f'useTrueErr={x[\"use_true_errors\"]}; optimES0={x[\"optimize_initial_err_sens\"]};'\n",
    "    f' capES={x[\"cap_err_sens\"]}; '\n",
    "    f' fit_to={x[\"fit_to\"]}; {x[\"rnsuff\"]}'     )\n",
    "    return r\n",
    "#sethr={thr > 1e-6}; \n",
    "plr['runname'] = plr.apply(f,1)\n",
    "\n",
    "###################################################\n",
    "plrg = plr[~plr.pard.isnull()].copy()\n",
    "\n",
    "for k in plrg.pard.values[0]:\n",
    "    plrg[k] = plrg.pard.apply(lambda x: x.get(k,None))\n",
    "\n",
    "\n",
    "plrg['fun'] = plrg.apply(lambda x: x['minres'].fun, 1)                   \n",
    "\n",
    "\n",
    "\n",
    "bestCalcs = aggRows(plrg, 'fun', 'min',\n",
    "     grp = plrg.groupby(['subject','runname'] ) ).reset_index()\n",
    "\n",
    "bestCalcs['fitmask'] = bestCalcs['runname'].str.extract(r'_mask=([^_]*)')\n",
    "\n",
    "bestCalcs.to_pickle(pjoin(path_data,'herz_param_calced6.pkl.zip')\n",
    "    ,compression='zip')\n",
    "\n"
   ]
  },
  {
   "cell_type": "code",
   "execution_count": null,
   "id": "8c6028bc",
   "metadata": {},
   "outputs": [],
   "source": [
    "sz = plrg.groupby(['subject','runname']).size()\n",
    "mx = sz.max() \n",
    "assert mx <= argscmd.n_runs, mx"
   ]
  },
  {
   "cell_type": "markdown",
   "id": "9ea34c5b",
   "metadata": {
    "heading_collapsed": true
   },
   "source": [
    "## best"
   ]
  },
  {
   "cell_type": "code",
   "execution_count": null,
   "id": "e0f74f78",
   "metadata": {
    "hidden": true
   },
   "outputs": [],
   "source": [
    "#bestCalcs.sort_values(['runname'], ascending=False)['runname']"
   ]
  },
  {
   "cell_type": "code",
   "execution_count": null,
   "id": "d664935b",
   "metadata": {
    "hidden": true
   },
   "outputs": [],
   "source": [
    "rn = sz[sz > argscmd.n_runs].index[0]\n",
    "cols = [col for col in plrg.columns if col not in ['minres','pard','arg']]\n",
    "plrg.query('runname == @rn')[cols]"
   ]
  },
  {
   "cell_type": "code",
   "execution_count": null,
   "id": "0616dbd1",
   "metadata": {
    "hidden": true
   },
   "outputs": [],
   "source": [
    "bc = bestCalcs.groupby(['runname'])['fun'].mean().to_frame()\n",
    "i = bc['fun'].idxmin()\n",
    "print( bc.loc[i] )\n",
    "\n",
    "cols = ['eta','alpha','alpha_w','weight_forgetting_exp_pause','initial_sensitivity','fun']\n",
    "bc00 = bestCalcs.query('use_true_errors == True and fitmask != \"random\" and reg > 0')\n",
    "bc0 = bc00.groupby(['runname'])\n",
    "bc = bc0['fun'].mean().to_frame()\n",
    "i = bc['fun'].idxmin()\n",
    "print( bc.loc[i] )\n",
    "rn = bc.loc[i].name"
   ]
  },
  {
   "cell_type": "code",
   "execution_count": null,
   "id": "1e0975ce",
   "metadata": {
    "hidden": true
   },
   "outputs": [],
   "source": [
    "plr.query('subject.isin(@bad_subjects) and runname == @rn').iloc[0].minres"
   ]
  },
  {
   "cell_type": "code",
   "execution_count": null,
   "id": "39298d5b",
   "metadata": {
    "hidden": true
   },
   "outputs": [],
   "source": [
    "bad_subjects = set(subjects_NIH) - set( bc00.query('runname == @rn')['subject'].values )\n",
    "bad_subjects = list(bad_subjects)\n",
    "print(bad_subjects)"
   ]
  },
  {
   "cell_type": "code",
   "execution_count": null,
   "id": "5d31a765",
   "metadata": {
    "hidden": true
   },
   "outputs": [],
   "source": [
    "#rn = 'useTrueErr=True; optimES0=optimize; capES=False; fit_to=errors; _reg=0.25_mask=stable_nb=-1_sethr=mestd*1.0'"
   ]
  },
  {
   "cell_type": "code",
   "execution_count": null,
   "id": "185b0bae",
   "metadata": {
    "hidden": true
   },
   "outputs": [],
   "source": [
    "bc0[cols].mean().nsmallest(10,columns=['fun'])[cols]"
   ]
  },
  {
   "cell_type": "code",
   "execution_count": null,
   "id": "e75f940b",
   "metadata": {
    "hidden": true
   },
   "outputs": [],
   "source": [
    "dfd = bestCalcs.query('use_true_errors == True and runname == @rn').\\\n",
    "    groupby(['runname'])[cols].describe(percentiles=[])"
   ]
  },
  {
   "cell_type": "code",
   "execution_count": null,
   "id": "177192ab",
   "metadata": {
    "hidden": true
   },
   "outputs": [],
   "source": [
    "dfd.T"
   ]
  },
  {
   "cell_type": "code",
   "execution_count": null,
   "id": "4efc56fc",
   "metadata": {
    "hidden": true
   },
   "outputs": [],
   "source": [
    "dfd['eta']['mean']"
   ]
  },
  {
   "cell_type": "code",
   "execution_count": null,
   "id": "304d5f9f",
   "metadata": {
    "hidden": true
   },
   "outputs": [],
   "source": [
    "#bestCalcs['fitmask']"
   ]
  },
  {
   "cell_type": "code",
   "execution_count": null,
   "id": "dc12fb75",
   "metadata": {
    "hidden": true
   },
   "outputs": [],
   "source": [
    "bestCalcs.columns"
   ]
  },
  {
   "cell_type": "code",
   "execution_count": null,
   "id": "7da0a38c",
   "metadata": {
    "hidden": true
   },
   "outputs": [],
   "source": [
    "# df_ = dfcc_all_NIH_.query('trial_shift_size == 1 and '\n",
    "#     'trial_group_col_calc == \"trials\" and retention_factor_s == \"0.924\"'\n",
    "#                          )\n",
    "# df_.loc[df_['pre_break_duration'] > 0,\n",
    "#         ['subject','trials','pre_break_duration']]"
   ]
  },
  {
   "cell_type": "markdown",
   "id": "0e85beb9",
   "metadata": {},
   "source": [
    "# plot"
   ]
  },
  {
   "cell_type": "code",
   "execution_count": null,
   "id": "4e4681bf",
   "metadata": {},
   "outputs": [],
   "source": [
    "assert not bestCalcs.duplicated(['subject','runname']).any()"
   ]
  },
  {
   "cell_type": "code",
   "execution_count": null,
   "id": "259bd140",
   "metadata": {},
   "outputs": [],
   "source": [
    "dfcc_all_NIH_['perturbation_pscadj'] = dfcc_all_NIH_['perturbation']\n",
    "dfcc_all_NIH_.loc[dfcc_all_NIH_['pert_seq_code'] == 1, \n",
    "    'perturbation_pscadj'] = -dfcc_all_NIH_['perturbation']\n",
    "\n",
    "#df0['perturbation'].describe()\n",
    "\n",
    "dfr =[]\n",
    "for rowi,row in bestCalcs.iterrows():\n",
    "    runname = row['runname']\n",
    "    pard_ = row['pard']\n",
    "    if pard_ is None:\n",
    "        print('empty',runname)\n",
    "        continue\n",
    "    pard = pard_.copy()\n",
    "    if 'fun' in pard:\n",
    "        del pard['fun']\n",
    "        del pard['nit']\n",
    "        del pard['nfev']        \n",
    "    \n",
    "    subj = row[\"subject\"]\n",
    "    print(rowi,len(bestCalcs), subj, runname)\n",
    "    df0 = dfcc_all_NIH_.query('trial_shift_size == 1 and '\n",
    "        'trial_group_col_calc == \"trials\" and '\n",
    "        'retention_factor_s == \"0.924\" and '\n",
    "        'subject == @subj').sort_values(['trials'])\n",
    "    pre_break_duration = df0['pre_break_duration'].values\n",
    "    error = df0['error_pscadj'].values * 180 / np.pi\n",
    "    perturb = df0['perturbation_pscadj'].values\n",
    "\n",
    "    use_true_errors = row['use_true_errors']\n",
    "    cap_err_sens = row['cap_err_sens']    \n",
    "    r = simMoE(-perturb,EC_mask=EC_mask,true_errors=error,\n",
    "                pre_break_duration=pre_break_duration,\n",
    "                **pard, cap_err_sens=cap_err_sens,\n",
    "               small_err_thr = row['small_err_thr'],\n",
    "               num_bases = row['num_bases'],\n",
    "        use_true_errors=use_true_errors)\n",
    "    \n",
    "    (motor_output,error_pred2,ws,err_sens2, \n",
    "        gaussian_centers,gaussian_variances) = r \n",
    "    _dat = np.array((motor_output,error_pred2,\n",
    "        err_sens2, np.arange(len(motor_output), dtype=int) ) )\n",
    "    df_ = pd.DataFrame(data=_dat.T, \n",
    "        columns = ['motor_output','error_pred2',\n",
    "                'err_sens2','trial_index'])\n",
    "            \n",
    "    df_['err_sens'] = df0['err_sens'].values\n",
    "    df_['error_pscadj_deg'] = df0['error_pscadj'].values * 180 / np.pi\n",
    "\n",
    "    for kn,kv in row.items():\n",
    "        df_[kn] = kv\n",
    "    dfr += [df_ ]\n",
    "dfr = pd.concat(dfr,ignore_index=1)\n",
    "\n",
    "dfr = dfr.sort_values(['runname'], ascending=False)\n",
    "\n",
    "runnames = dfr['runname'].unique()\n",
    "print(runnames)\n",
    "\n",
    "gc.collect()"
   ]
  },
  {
   "cell_type": "code",
   "execution_count": null,
   "id": "e26ef9ce",
   "metadata": {},
   "outputs": [],
   "source": [
    "print( plr.subject.nunique(), dfr.subject.nunique(), len(runnames) )"
   ]
  },
  {
   "cell_type": "code",
   "execution_count": null,
   "id": "9dada110",
   "metadata": {},
   "outputs": [],
   "source": []
  },
  {
   "cell_type": "code",
   "execution_count": null,
   "id": "1662b155",
   "metadata": {},
   "outputs": [],
   "source": [
    "gc.collect()"
   ]
  },
  {
   "cell_type": "code",
   "execution_count": null,
   "id": "655d5052",
   "metadata": {},
   "outputs": [],
   "source": [
    "#%debug\n",
    "import warnings\n",
    "\n",
    "for rn in list(sorted(runnames))[::-1]:\n",
    "    df_ = dfr.query('runname == @rn')# and fit_to == \"errors\"')\n",
    "    \n",
    "    alphas = bestCalcs.query(f'runname == @rn')['alpha']\n",
    "    ss = f'\\n  {alphas.mean():.2f} {alphas.std():.2f}' \n",
    "    \n",
    "    if len(df_) == 0:\n",
    "        print('Emtpy for ',rn)\n",
    "        continue\n",
    "    with warnings.catch_warnings(record=True):\n",
    "        warnings.filterwarnings(\"ignore\",category=FutureWarning)\n",
    "        warnings.filterwarnings(\"ignore\",category=UserWarning)\n",
    "        fg,df__ = relplot_multi(kind='line',data=df_,\n",
    "                x='trial_index',\n",
    "            ys=[['error_pred2','error_pscadj_deg'],\n",
    "               ['err_sens','err_sens2']], \n",
    "            ylabel = ['error','ES'],\n",
    "            ylim=[(-100,100), (-0.8,1)], aspect = 2, \n",
    "                                height = 3,\n",
    "            facet_kws = {'sharex':True, 'sharey':False})\n",
    "\n",
    "        fg.refline(y=0)    \n",
    "        fg.refline(x=192)\n",
    "        fg.refline(x=192*2)\n",
    "        fg.refline(x=192*3)\n",
    "        plt.suptitle(rn + '\\n' + ss)    \n",
    "\n",
    "        plt.savefig(pjoin(path_fig, rn + '.pdf'))\n",
    "        plt.close()"
   ]
  },
  {
   "cell_type": "code",
   "execution_count": null,
   "id": "0723d6fe",
   "metadata": {},
   "outputs": [],
   "source": []
  }
 ],
 "metadata": {
  "kernelspec": {
   "display_name": "merr3_mamba",
   "language": "python",
   "name": "merr3_mamba"
  },
  "language_info": {
   "codemirror_mode": {
    "name": "ipython",
    "version": 3
   },
   "file_extension": ".py",
   "mimetype": "text/x-python",
   "name": "python",
   "nbconvert_exporter": "python",
   "pygments_lexer": "ipython3",
   "version": "3.11.5"
  }
 },
 "nbformat": 4,
 "nbformat_minor": 5
}
