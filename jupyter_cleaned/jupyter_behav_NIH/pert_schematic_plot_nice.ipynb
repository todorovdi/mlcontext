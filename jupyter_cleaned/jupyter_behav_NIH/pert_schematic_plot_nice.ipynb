{
 "cells": [
  {
   "cell_type": "code",
   "execution_count": null,
   "id": "46f78fd5",
   "metadata": {},
   "outputs": [],
   "source": [
    "%load_ext autoreload\n",
    "%autoreload 2\n",
    "\n",
    "import os\n",
    "ipy = get_ipython()\n",
    "#data_dir_general = '/home/demitau/data_Quentin'\n",
    "#data_subdir_mem_err_main = 'full_experiments/data2'\n",
    "from os.path import join as pjoin\n",
    "import os,sys; sys.path.append(os.path.expandvars('$CODE_MEMORY_ERRORS'))\n",
    "import error_sensitivity\n",
    "#data_dir_input = pjoin(data_dir_general,data_subdir_mem_err_main)\n",
    "import pandas as pd\n",
    "import seaborn as sns; print(sns.__version__)\n",
    "from datetime import datetime\n",
    "\n",
    "import pingouin as pg\n",
    "#data_dir_general = '/home/demitau/data_Quentin'\n",
    "#data_subdir_mem_err_main = 'full_experiments/data2'\n",
    "#data_dir_input = pjoin(data_dir_general,data_subdir_mem_err_main)\n",
    "#scripts_dir = pjoin(data_dir_general,'full_experiments','scripts2')\n",
    "\n",
    "data_dir_general = os.path.expandvars('$DATA_QUENTIN')\n",
    "data_dir_input = os.path.expandvars('$DATA_MEMORY_ERRORS_STAB_AND_STOCH')\n",
    "#scripts_dir = pjoin( os.path.expandvars('$CODE_MEMORY_ERRORS'), 'previous_analyses')\n",
    "scripts_dir = pjoin( os.path.expandvars('$CODE_MEMORY_ERRORS'))\n",
    "\n",
    "\n",
    "print(data_dir_input, scripts_dir)\n",
    "\n",
    "subjects = [f for f in os.listdir(data_dir_input) if f.startswith('sub') ]\n",
    "subjects = list(sorted(subjects))\n",
    "print(subjects)\n",
    "\n",
    "from config2 import path_data\n",
    "import os\n",
    "import pandas as pd\n",
    "import matplotlib.pyplot as plt\n",
    "import matplotlib as mpl\n",
    "import seaborn as sns\n",
    "from behav_proc import *\n",
    "\n",
    "import numpy as np\n",
    "#from collections import OrderedDict as odict\n",
    "from config2 import envcode2env\n",
    "from pingouin import ttest\n",
    "\n",
    "from base2 import radius_cursor\n",
    "radius_cursor"
   ]
  },
  {
   "cell_type": "markdown",
   "id": "a314b185",
   "metadata": {},
   "source": [
    "Participants will experience perturbation schedules akin to (Smith et al., 2006) four times. Block 1 will consist of 40 baseline trials (no perturbation, meaning that the screen cursor movement is congruent with the joystick movement), then 80 trials of 30 deg perturbation (participants will experience perturbation trials where the cursor feedback is rotated by 30 degrees), then 10 trials of opposite perturbation and then 60 of 30 de again. During such perturbation blocks, participants adapt their movement to minimize their error (Fig. 1d). Then 100 trials of no error washout. Block 2: the same but with 40-10-40-100 trial distribution (and this time all 100 trials are error clamp=0). During an error-clamp trial the visual feedback reaches the target regardless of what the participant’s movements are. Block 3: same as block 1 but 10 trials in the middle are just zero perturbation trials, no opposite perturbation. Block 4: same as block 2."
   ]
  },
  {
   "cell_type": "code",
   "execution_count": null,
   "id": "7cb12f85",
   "metadata": {},
   "outputs": [],
   "source": [
    "perts = [(40,0,'norm'), (80,30,'norm'), (10,-30,'norm'), \n",
    "    (60,30,'norm'), (100,0,'norm')]\n",
    "\n",
    "ps = []\n",
    "for N,pv,pt in perts:\n",
    "    ps += N*[pv]\n",
    "    \n",
    "plt.plot(ps)"
   ]
  },
  {
   "cell_type": "code",
   "execution_count": null,
   "id": "3b778ed3",
   "metadata": {},
   "outputs": [],
   "source": []
  }
 ],
 "metadata": {
  "kernelspec": {
   "display_name": "merr3_mamba",
   "language": "python",
   "name": "merr3_mamba"
  },
  "language_info": {
   "codemirror_mode": {
    "name": "ipython",
    "version": 3
   },
   "file_extension": ".py",
   "mimetype": "text/x-python",
   "name": "python",
   "nbconvert_exporter": "python",
   "pygments_lexer": "ipython3",
   "version": "3.11.5"
  }
 },
 "nbformat": 4,
 "nbformat_minor": 5
}
