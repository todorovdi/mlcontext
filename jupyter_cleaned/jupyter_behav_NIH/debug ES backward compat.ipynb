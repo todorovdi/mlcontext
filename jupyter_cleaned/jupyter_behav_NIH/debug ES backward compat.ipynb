{
 "cells": [
  {
   "cell_type": "code",
   "execution_count": null,
   "id": "9c0ad53f",
   "metadata": {},
   "outputs": [],
   "source": [
    "# NIH data\n",
    "%load_ext autoreload\n",
    "%autoreload 2\n",
    "\n",
    "import os\n",
    "import pandas as pd\n",
    "import matplotlib.pyplot as plt\n",
    "import matplotlib as mpl\n",
    "import seaborn as sns\n",
    "\n",
    "ipy = get_ipython()\n",
    "#data_dir_general = '/home/demitau/data_Quentin'\n",
    "#data_subdir_mem_err_main = 'full_experiments/data2'\n",
    "from os.path import join as pjoin\n",
    "#data_dir_input = pjoin(data_dir_general,data_subdir_mem_err_main)\n",
    "\n",
    "\n",
    "#data_dir_general = '/home/demitau/data_Quentin'\n",
    "#data_subdir_mem_err_main = 'full_experiments/data2'\n",
    "#data_dir_input = pjoin(data_dir_general,data_subdir_mem_err_main)\n",
    "#scripts_dir = pjoin(data_dir_general,'full_experiments','scripts2')\n",
    "\n",
    "import os,sys; sys.path.append(os.path.expandvars('$CODE_MEMORY_ERRORS'))\n",
    "data_dir_general = os.path.expandvars('$DATA_QUENTIN')\n",
    "data_dir_input = os.path.expandvars('$DATA_MEMORY_ERRORS_STAB_AND_STOCH')\n",
    "scripts_dir = pjoin( os.path.expandvars('$CODE_MEMORY_ERRORS'), 'previous_analyses')\n",
    "\n",
    "\n",
    "print(data_dir_input, scripts_dir)\n",
    "\n",
    "subjects = [f for f in os.listdir(data_dir_input) if f.startswith('sub') ]\n",
    "subjects = list(sorted(subjects))\n",
    "print(subjects)\n",
    "\n",
    "from config2 import *\n",
    "\n",
    "from base2 import (width, height, radius, calc_target_coordinates_centered,\n",
    "                  calc_rad_angle_from_coordinates)\n",
    "\n",
    "import numpy as np\n",
    "target_angs = (np.array([157.5, 112.5, 67.5, 22.5]) + 90) * \\\n",
    "              (np.pi/180)\n",
    "target_coords = calc_target_coordinates_centered(target_angs)"
   ]
  },
  {
   "cell_type": "code",
   "execution_count": null,
   "id": "f5581cd6",
   "metadata": {},
   "outputs": [],
   "source": [
    "from behav_proc import *"
   ]
  },
  {
   "cell_type": "code",
   "execution_count": null,
   "id": "feb03988",
   "metadata": {},
   "outputs": [],
   "source": [
    "df_all = pd.read_pickle('/home/demitau/data_Quentin/full_experiments/data2/df_all_3.09.23.pkl.zip')"
   ]
  },
  {
   "cell_type": "code",
   "execution_count": null,
   "id": "2637c3c8",
   "metadata": {},
   "outputs": [],
   "source": [
    "df_all_9jan = pd.read_pickle('/home/demitau/data_Quentin/full_experiments/data2/df_all2.pkl' )"
   ]
  },
  {
   "cell_type": "code",
   "execution_count": null,
   "id": "c7664d36",
   "metadata": {},
   "outputs": [],
   "source": [
    "len(df_all), len(df_all_9jan)"
   ]
  },
  {
   "cell_type": "code",
   "execution_count": null,
   "id": "bbd02610",
   "metadata": {},
   "outputs": [],
   "source": [
    "df_all.describe() - df_all_9jan.describe()"
   ]
  },
  {
   "cell_type": "code",
   "execution_count": null,
   "id": "52b73726",
   "metadata": {},
   "outputs": [],
   "source": [
    "tgt_inds_all = list( df_all['target_inds'].unique() )  + [None]"
   ]
  },
  {
   "cell_type": "code",
   "execution_count": null,
   "id": "2cb3d7fb",
   "metadata": {},
   "outputs": [],
   "source": [
    "#from figure.plot_behav2 import getSubDf, getColn, computeErrSensVersions\n",
    "envs_cur = ['stable', 'random']\n",
    "block_names_cur = ['all']\n",
    "pertvals_cur = [None]\n",
    "gseqcs_cur = [ (0,1) ]\n",
    "tgt_inds_cur = tgt_inds_all\n",
    "dists_rad_from_prevtgt_cur = [None]\n",
    "dists_trial_from_prevtgt_cur = [None]\n",
    "error_type = 'MPE'  # observed - goal, motor performance error"
   ]
  },
  {
   "cell_type": "code",
   "execution_count": null,
   "id": "33fc69a0",
   "metadata": {},
   "outputs": [],
   "source": [
    "# compute separately for variable shift sizes to generate grids later\n",
    "# separately to avoid filtering problems later (I could get too many values per subj \n",
    "# due to multiple rows with diffrent trial shift size and same trial)\n",
    "envs_cur = ['stable', 'random', 'all']\n",
    "tgt_inds_cur = tgt_inds_all\n",
    "#%debug\n",
    "df_all_multi_tsz, ndf2vn = computeErrSensVersions(df_all, envs_cur,block_names_cur,pertvals_cur,gseqcs_cur,tgt_inds_cur,\n",
    "       dists_rad_from_prevtgt_cur,dists_trial_from_prevtgt_cur,\n",
    "        coln_nh = 'non_hit_not_adj',\n",
    "        coln_nh_out = 'non_hit_shifted',\n",
    "        subj_list = subjects, error_type=error_type,\n",
    "        trial_shift_sizes = [1],\n",
    "                 addvars=[])\n",
    "\n",
    "assert not df_all_multi_tsz.duplicated().any() "
   ]
  },
  {
   "cell_type": "code",
   "execution_count": null,
   "id": "f0f18e12",
   "metadata": {},
   "outputs": [],
   "source": [
    "# compute separately for variable shift sizes to generate grids later\n",
    "# separately to avoid filtering problems later (I could get too many values per subj \n",
    "# due to multiple rows with diffrent trial shift size and same trial)\n",
    "envs_cur = ['stable', 'random', 'all']\n",
    "tgt_inds_cur = tgt_inds_all\n",
    "#%debug\n",
    "computation_ver='computeErrSens3'\n",
    "df_all_multi_tsz3, ndf2vn = computeErrSensVersions(df_all, envs_cur,block_names_cur,pertvals_cur,gseqcs_cur,tgt_inds_cur,\n",
    "       dists_rad_from_prevtgt_cur,dists_trial_from_prevtgt_cur,\n",
    "        coln_nh = 'non_hit_not_adj',\n",
    "        coln_nh_out = 'non_hit_shifted',\n",
    "        computation_ver=computation_ver,\n",
    "        subj_list = subjects, error_type=error_type,\n",
    "        trial_shift_sizes = [1],\n",
    "                 addvars=[])\n",
    "\n",
    "computation_ver='computeErrSens2'\n",
    "df_all_multi_tsz2, ndf2vn = computeErrSensVersions(df_all, envs_cur,block_names_cur,pertvals_cur,gseqcs_cur,tgt_inds_cur,\n",
    "       dists_rad_from_prevtgt_cur,dists_trial_from_prevtgt_cur,\n",
    "        coln_nh = 'non_hit_not_adj',\n",
    "        coln_nh_out = 'non_hit_shifted',\n",
    "        computation_ver=computation_ver,\n",
    "        subj_list = subjects, error_type=error_type,\n",
    "        trial_shift_sizes = [1],\n",
    "                 addvars=[])\n",
    "\n",
    "assert not df_all_multi_tsz.duplicated().any() "
   ]
  },
  {
   "cell_type": "code",
   "execution_count": null,
   "id": "13d72051",
   "metadata": {},
   "outputs": [],
   "source": [
    "COLOR = 'black'\n",
    "mpl.rcParams['text.color'] = COLOR\n",
    "mpl.rcParams['axes.labelcolor'] = COLOR\n",
    "mpl.rcParams['xtick.color'] = COLOR\n",
    "mpl.rcParams['ytick.color'] = COLOR\n",
    "\n",
    "\n",
    "sns.set(rc={'axes.facecolor':'white', 'figure.facecolor':'white',\n",
    "           'grid.color':'grey', 'grid.alpha':0.5})\n",
    "\n",
    "tgtc = ['b','g','r','brown']"
   ]
  },
  {
   "cell_type": "code",
   "execution_count": null,
   "id": "33454776",
   "metadata": {},
   "outputs": [],
   "source": [
    "def plot_violins(df):\n",
    "    coln = 'err_sens'\n",
    "    #dfc_multi_tsz  = truncateDf(df_all_multi_tsz, coln, q=0.05, infnan_handling='discard')\n",
    "    dfc0_multi_tsz  = truncateDf(df, coln, q=0.0, infnan_handling='discard')\n",
    "\n",
    "    qs = 'trial_shift_size == 1 and trial_group_col_calc == \"trialwe\"'\n",
    "    qs += ' and non_hit_not_adj'\n",
    "    #dfc  = dfc_multi_tsz.query(qs)\n",
    "    dfc0 = dfc0_multi_tsz.query(qs).sort_values(['subject','trials'])\n",
    "    print(len(dfc0))\n",
    "\n",
    "    me = dfc0.groupby(['subject','environment'])['err_sens'].\\\n",
    "        mean(numeric_only=1).reset_index()\n",
    "\n",
    "    #sns.set(font_scale=1.3)\n",
    "    fg = sns.catplot(data = me, kind='violin', y='err_sens', \n",
    "        x='environment')#,  order=['stable','random'])\n",
    "    \n",
    "    return dfc0\n",
    "    # for ax in fg.axes.flatten():\n",
    "    #     ax.set_ylim(-5,5)"
   ]
  },
  {
   "cell_type": "code",
   "execution_count": null,
   "id": "5af1a951",
   "metadata": {},
   "outputs": [],
   "source": [
    "df_all_multi_tsz_3sept_3 = df_all_multi_tsz3\n",
    "df_all_multi_tsz_3sept_2 = df_all_multi_tsz2\n",
    "df_all_multi_tsz_28feb = pd.read_pickle('/home/demitau/data_Quentin/full_experiments/data2/df_all_multi_tsz.pkl')"
   ]
  },
  {
   "cell_type": "code",
   "execution_count": null,
   "id": "4522df1e",
   "metadata": {},
   "outputs": [],
   "source": [
    "# df1 = truncateDf(df_all_multi_tsz_3sept, coln, q=0.0, infnan_handling='discard').sort_values(['subject','trials'])\n",
    "# df2 = truncateDf(df_all_multi_tsz_28feb, coln, q=0.0, infnan_handling='discard').sort_values(['subject','trials'])"
   ]
  },
  {
   "cell_type": "code",
   "execution_count": null,
   "id": "13d90b3d",
   "metadata": {},
   "outputs": [],
   "source": [
    "addNonHitCol(df_all_multi_tsz_3sept), addNonHitCol(df_all_multi_tsz_28feb), "
   ]
  },
  {
   "cell_type": "code",
   "execution_count": null,
   "id": "a9d4b082",
   "metadata": {
    "run_control": {
     "marked": true
    }
   },
   "outputs": [],
   "source": [
    "qs = 'trial_shift_size == 1 and trial_group_col_calc == \"trialwe\"'\n",
    "df_all_multi_tsz_3sept_2_ = df_all_multi_tsz_3sept_2.query(qs)\n",
    "df_all_multi_tsz_3sept_3_ = df_all_multi_tsz_3sept_3.query(qs)\n",
    "df_all_multi_tsz_28feb_ = df_all_multi_tsz_28feb.query(qs)"
   ]
  },
  {
   "cell_type": "code",
   "execution_count": null,
   "id": "19fa4cf1",
   "metadata": {},
   "outputs": [],
   "source": [
    "dfc0_28feb.columns"
   ]
  },
  {
   "cell_type": "code",
   "execution_count": null,
   "id": "70524049",
   "metadata": {},
   "outputs": [],
   "source": [
    "dfc0_3sept.columns"
   ]
  },
  {
   "cell_type": "code",
   "execution_count": null,
   "id": "b1f1e6f1",
   "metadata": {},
   "outputs": [],
   "source": [
    "# df_all_multi_tsz_3sept_3inv = df_all_multi_tsz_3sept_3.copy()\n",
    "# df_all_multi_tsz_3sept_3inv['err_sens'] = -df_all_multi_tsz_3sept_3inv['err_sens']"
   ]
  },
  {
   "cell_type": "code",
   "execution_count": null,
   "id": "b8e0e867",
   "metadata": {},
   "outputs": [],
   "source": [
    "dfc0_3sept_2 = plot_violins(df_all_multi_tsz_3sept_2)\n",
    "dfc0_3sept_3 = plot_violins(df_all_multi_tsz_3sept_3)\n",
    "#plot_violins(df_all_multi_tsz_3sept_3inv)\n",
    "dfc0_28feb= plot_violins(df_all_multi_tsz_28feb)"
   ]
  },
  {
   "cell_type": "code",
   "execution_count": null,
   "id": "3f154b53",
   "metadata": {},
   "outputs": [],
   "source": [
    "len(df_all_multi_tsz_3sept), len(df_all_multi_tsz_28feb)"
   ]
  },
  {
   "cell_type": "code",
   "execution_count": null,
   "id": "2dfbe527",
   "metadata": {},
   "outputs": [],
   "source": [
    "df_all_multi_tsz_28feb_.non_hit_shifted"
   ]
  },
  {
   "cell_type": "code",
   "execution_count": null,
   "id": "ca9249bb",
   "metadata": {},
   "outputs": [],
   "source": [
    "df_all_multi_tsz_3sept_.non_hit_shifted"
   ]
  },
  {
   "cell_type": "code",
   "execution_count": null,
   "id": "989936b3",
   "metadata": {},
   "outputs": [],
   "source": [
    "addNonHitCol(df_all)"
   ]
  },
  {
   "cell_type": "code",
   "execution_count": null,
   "id": "996d6bfc",
   "metadata": {},
   "outputs": [],
   "source": [
    "df_all.columns"
   ]
  },
  {
   "cell_type": "code",
   "execution_count": null,
   "id": "06ec5d79",
   "metadata": {},
   "outputs": [],
   "source": [
    "df_all[['trials','non_hit_not_adj']]"
   ]
  },
  {
   "cell_type": "code",
   "execution_count": null,
   "id": "bee4e34a",
   "metadata": {},
   "outputs": [],
   "source": [
    "with pd.option_context('display.min_rows',35,\n",
    "                      'display.max_rows',35):\n",
    "    display(\n",
    "        df_all_multi_tsz_3sept_2_[['subject','trials','target_inds',\n",
    "                                 'error','err_sens','non_hit_shifted','trial_group_col_calc']] )\n",
    "    \n",
    "    display(\n",
    "            df_all_multi_tsz_3sept_3_[['subject','trials','target_inds',\n",
    "                                 'error','err_sens','non_hit_shifted','trial_group_col_calc']] )\n",
    "    \n",
    "    \n",
    "    display(\n",
    "    df_all_multi_tsz_28feb_[['subject','trials','target_inds',\n",
    "                                 'error','err_sens','non_hit_shifted','trial_group_col_calc']] )\n",
    "        \n",
    "        "
   ]
  },
  {
   "cell_type": "code",
   "execution_count": null,
   "id": "6981f900",
   "metadata": {},
   "outputs": [],
   "source": [
    "df3= df_all_multi_tsz_3sept_3_.set_index(['subject','trials'])\n",
    "df2= df_all_multi_tsz_3sept_2_.set_index(['subject','trials'])\n",
    "df0 = df_all_multi_tsz_28feb_.set_index(['subject','trials'])"
   ]
  },
  {
   "cell_type": "code",
   "execution_count": null,
   "id": "c8137883",
   "metadata": {},
   "outputs": [],
   "source": [
    "coln = 'err_sens'\n",
    "r = df2[coln] -\\\n",
    "    df0[coln]\n",
    "# wrong because joins nan and inf from both so no wonder r == 0\n",
    "#rbad = (r == np.inf) | (r == -np.inf) | r.isna()\n",
    "#r[~rbad].max()"
   ]
  },
  {
   "cell_type": "code",
   "execution_count": null,
   "id": "4f9a10a8",
   "metadata": {},
   "outputs": [],
   "source": [
    "a1 = ((df3[coln] == np.inf) == (df0[coln] == np.inf))\n",
    "a2 = ((df3[coln] == -np.inf) == (df0[coln] == -np.inf))\n",
    "a3 = ((df3[coln].isna()) == (df0[coln].isna()))\n",
    "\n",
    "bads = ((df3[coln] == np.inf) | (df3[coln] == -np.inf) | (df3[coln].isna()))\n",
    "(a1 &a2 & a3).all()"
   ]
  },
  {
   "cell_type": "code",
   "execution_count": null,
   "id": "879d688e",
   "metadata": {},
   "outputs": [],
   "source": [
    "r = df3[coln] + df0[coln]\n",
    "r[~bads].max()"
   ]
  },
  {
   "cell_type": "code",
   "execution_count": null,
   "id": "97f8ec1f",
   "metadata": {},
   "outputs": [],
   "source": [
    "df0[coln]"
   ]
  },
  {
   "cell_type": "code",
   "execution_count": null,
   "id": "d311801e",
   "metadata": {},
   "outputs": [],
   "source": [
    "df3[coln]"
   ]
  },
  {
   "cell_type": "code",
   "execution_count": null,
   "id": "4f16e9d4",
   "metadata": {},
   "outputs": [],
   "source": [
    "df3[['error','correction']]"
   ]
  },
  {
   "cell_type": "code",
   "execution_count": null,
   "id": "64392d3a",
   "metadata": {},
   "outputs": [],
   "source": [
    "df0[['error','correction']]"
   ]
  },
  {
   "cell_type": "code",
   "execution_count": null,
   "id": "481ef19a",
   "metadata": {},
   "outputs": [],
   "source": []
  }
 ],
 "metadata": {
  "kernelspec": {
   "display_name": "merr",
   "language": "python",
   "name": "merr"
  },
  "language_info": {
   "codemirror_mode": {
    "name": "ipython",
    "version": 3
   },
   "file_extension": ".py",
   "mimetype": "text/x-python",
   "name": "python",
   "nbconvert_exporter": "python",
   "pygments_lexer": "ipython3",
   "version": "3.8.13"
  }
 },
 "nbformat": 4,
 "nbformat_minor": 5
}
