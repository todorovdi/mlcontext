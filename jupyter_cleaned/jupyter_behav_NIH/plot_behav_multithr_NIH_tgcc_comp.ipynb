{
 "cells": [
  {
   "cell_type": "code",
   "execution_count": null,
   "id": "f9952a90",
   "metadata": {},
   "outputs": [],
   "source": [
    "%load_ext autoreload\n",
    "%autoreload 2\n",
    "\n",
    "import os\n",
    "ipy = get_ipython()\n",
    "#data_dir_general = '/home/demitau/data_Quentin'\n",
    "#data_subdir_mem_err_main = 'full_experiments/data2'\n",
    "from os.path import join as pjoin\n",
    "import os,sys; sys.path.append(os.path.expandvars('$CODE_MEMORY_ERRORS'))\n",
    "import error_sensitivity\n",
    "#data_dir_input = pjoin(data_dir_general,data_subdir_mem_err_main)\n",
    "import pandas as pd\n",
    "import seaborn as sns; print(sns.__version__)\n",
    "\n",
    "#data_dir_general = '/home/demitau/data_Quentin'\n",
    "#data_subdir_mem_err_main = 'full_experiments/data2'\n",
    "#data_dir_input = pjoin(data_dir_general,data_subdir_mem_err_main)\n",
    "#scripts_dir = pjoin(data_dir_general,'full_experiments','scripts2')\n",
    "\n",
    "data_dir_general = os.path.expandvars('$DATA_QUENTIN')\n",
    "data_dir_input = os.path.expandvars('$DATA_MEMORY_ERRORS_STAB_AND_STOCH')\n",
    "#scripts_dir = pjoin( os.path.expandvars('$CODE_MEMORY_ERRORS'), 'previous_analyses')\n",
    "scripts_dir = pjoin( os.path.expandvars('$CODE_MEMORY_ERRORS'))\n",
    "\n",
    "\n",
    "print(data_dir_input, scripts_dir)\n",
    "\n",
    "subjects = [f for f in os.listdir(data_dir_input) if f.startswith('sub') ]\n",
    "subjects = list(sorted(subjects))\n",
    "print(subjects)"
   ]
  },
  {
   "cell_type": "code",
   "execution_count": null,
   "id": "9ab37059",
   "metadata": {},
   "outputs": [],
   "source": [
    "%%javascript\n",
    "// needed to access notebook path later\n",
    "var nb = IPython.notebook;\n",
    "var kernel = IPython.notebook.kernel;\n",
    "var command = \"NOTEBOOK_FULL_PATH = '\" + nb.base_url + nb.notebook_path + \"'\";\n",
    "kernel.execute(command);"
   ]
  },
  {
   "cell_type": "code",
   "execution_count": null,
   "id": "f3511f6a",
   "metadata": {},
   "outputs": [],
   "source": [
    "print(\"NOTEBOOK_FULL_PATH:\\n\", NOTEBOOK_FULL_PATH)"
   ]
  },
  {
   "cell_type": "code",
   "execution_count": null,
   "id": "31801f4c",
   "metadata": {
    "run_control": {
     "marked": false
    }
   },
   "outputs": [],
   "source": [
    "import os\n",
    "\n",
    "def getAddInfo():\n",
    "    import datetime\n",
    "    # Get the current date and time in the format YYYY-MM-DD HH:MM:SS\n",
    "    now = datetime.datetime.now().strftime(\"%Y-%m-%d %H:%M:%S\")\n",
    "    # Get the name of the current jupyter notebook\n",
    "    #notebook_name = os.path.basename(os.environ.get(\"NOTEBOOK_PATH\", \"\"))\n",
    "    notebook_name = NOTEBOOK_FULL_PATH\n",
    "    #print(notebook_name)\n",
    "    add_ttle = f\"{now}\\n{notebook_name}\"\n",
    "    return add_ttle\n",
    "\n",
    "def addTitleInfo(axs):\n",
    "    add_ttle = getAddInfo()\n",
    "    # Add a linebreak and the date, time, and notebook name to the ylabel of each axis\n",
    "    if axs is not None:\n",
    "        if isinstance(axs, (list, np.ndarray)): # If axs is a list or an array of axes\n",
    "            for ax in axs:\n",
    "                title = ax.get_title()\n",
    "                new_title = f\"{title}\\n{add_ttle}\"\n",
    "                ax.set_title(new_title)\n",
    "        else: # If axs is a single axis\n",
    "            title = axs.get_title()\n",
    "            new_title = f\"{title}\\n{add_ttle}\"\n",
    "            axs.set_title(new_title)\n",
    "    else:\n",
    "        title = plt.gcf()._suptitle.get_text()\n",
    "        new_title = f\"{title}\\n{add_ttle}\"\n",
    "        plt.suptitle(new_title)"
   ]
  },
  {
   "cell_type": "code",
   "execution_count": null,
   "id": "9f4ddcb2",
   "metadata": {},
   "outputs": [],
   "source": [
    "from config2 import path_data\n",
    "import os\n",
    "import pandas as pd\n",
    "import matplotlib.pyplot as plt\n",
    "import matplotlib as mpl\n",
    "import seaborn as sns\n",
    "from behav_proc import *\n",
    "\n",
    "import numpy as np\n",
    "#from collections import OrderedDict as odict\n",
    "from config2 import envcode2env\n",
    "from pingouin import ttest\n",
    "\n",
    "from base2 import radius_cursor\n",
    "from datetime import datetime\n",
    "radius_cursor"
   ]
  },
  {
   "cell_type": "code",
   "execution_count": null,
   "id": "fcf7e515",
   "metadata": {},
   "outputs": [],
   "source": [
    "fnf = pjoin(path_data,'df_all_multi_tsz.pkl.zip')\n",
    "print(fnf)\n",
    "print( str(datetime.fromtimestamp(os.stat(fnf).st_mtime)))\n",
    "df_all_multi_tsz = pd.read_pickle(fnf)\n",
    "#dfc_multi_tsz = pd.   read_pickle(pjoin(path_data,'df_all_multi_tsz_trunc_q=0.05.pkl.zip'))\n",
    "#df = df_all_multi_tsz.query('trial_shift_size == 1 and trial_group_col_calc == \"trialwe\"').copy()\n",
    "#df_orig = df\n",
    "#del df_all_multi_tsz"
   ]
  },
  {
   "cell_type": "code",
   "execution_count": null,
   "id": "bf248831",
   "metadata": {},
   "outputs": [],
   "source": [
    "#df_all_multi_tsz_whtr = df_all_multi_tsz.merge(stds, on='subject')\n",
    "df = df_all_multi_tsz.\\\n",
    "    query('trial_group_col_calc in [\"trialwe\", \"trialwtgt_we\"]').copy()\n",
    "\n",
    "df['env'] = df['environment'].apply(lambda x: envcode2env[x])\n",
    "df['feedback_deg'] = df['feedback'] / np.pi * 180\n",
    "\n",
    "def f(x):    \n",
    "    if x > np.pi:\n",
    "        x -= 2*np.pi\n",
    "    elif x < -np.pi:\n",
    "        x += 2*np.pi\n",
    "    return x\n",
    "df['error'] = df['error'].apply(f)\n",
    "\n",
    "df['error_deg'] = df['error'] / np.pi * 180 \n",
    "\n",
    "def f(x):    \n",
    "    if x > np.pi:\n",
    "        x -= 2*np.pi\n",
    "    elif x < -np.pi:\n",
    "        x += 2*np.pi\n",
    "    return x\n",
    "df['prev_error'] = df['prev_error'].apply(f)\n",
    "\n",
    "df['env'] = df['env'].astype('category')\n",
    "df['subject'] = df['subject'].astype('category')\n",
    "\n",
    "print( df['pert_stage_wb'].unique() )\n",
    "\n",
    "df['pert_stage_wb'] = df['pert_stage_wb'].where(\n",
    "    df['env'] ==\"stable\", -1 )\n",
    "df['pert_stage_wb'] = df['pert_stage_wb'].astype(int)\n",
    "\n",
    "df['pert_stage'] = df['pert_stage'].where(\n",
    "    df['env'] ==\"stable\", -1 )\n",
    "df['pert_stage'] = df['pert_stage'].astype(int)\n",
    "\n",
    "print( df['pert_stage'].unique() )\n",
    "\n",
    "df['ps_'] = 'rnd'\n",
    "c = df['pert_stage_wb'].isin([1,3])\n",
    "df.loc[c,'ps_'] = 'pert' \n",
    "c = df['pert_stage_wb'].isin([2,4])\n",
    "df.loc[c,'ps_'] = 'washout' \n",
    "c = df['pert_stage_wb'].isin([0])\n",
    "df.loc[c,'ps_'] = 'pre' \n",
    "print( df['ps_'].unique() )\n",
    "\n",
    "df['ps2_'] = 'rnd'\n",
    "c = df['pert_stage_wb'].isin([1])\n",
    "df.loc[c,'ps2_'] = 'pert_pro' \n",
    "c = df['pert_stage_wb'].isin([3])\n",
    "df.loc[c,'ps2_'] = 'pert_contra' \n",
    "c = df['pert_stage_wb'].isin([2,4])\n",
    "df.loc[c,'ps2_'] = 'washout' \n",
    "c = df['pert_stage_wb'].isin([0])\n",
    "df.loc[c,'ps2_'] = 'pre' \n",
    "print( df['ps2_'].unique() )\n",
    "\n",
    "df['trialwpertstage_wb'] = df['trialwpertstage_wb'].where(df['env'] ==\"stable\", \n",
    "                                    df['trialwb'])\n",
    "df['trialwpertstage_wb'] = df['trialwpertstage_wb'].astype(int)\n",
    "\n",
    "# just get perturabtion and env scheme from one subject\n",
    "# will be needed for plotting time resovled\n",
    "#dfall = dfall.reset_index()\n",
    "dfc_p = df.query(f'subject == \"{subjects[0]}\"')\n",
    "dfc_p = dfc_p.sort_values('trials')\n",
    "pert = dfc_p['perturbation'].values[:192*4]\n",
    "tr   = dfc_p['trials'].values[:192*4]\n",
    "envv = dfc_p['environment'].values[:192*4].astype(float)\n",
    "envv[envv == 0] = np.nan\n",
    "pert[envv == 1] = np.nan"
   ]
  },
  {
   "cell_type": "code",
   "execution_count": null,
   "id": "a16ad57f",
   "metadata": {},
   "outputs": [],
   "source": [
    "assert not df.duplicated(['subject','trials','trial_shift_size','trial_group_col_calc']).any()"
   ]
  },
  {
   "cell_type": "code",
   "execution_count": null,
   "id": "d1c7896e",
   "metadata": {},
   "outputs": [],
   "source": [
    "df[['subject','trials','trial_shift_size','trial_group_col_calc','err_sens']]"
   ]
  },
  {
   "cell_type": "code",
   "execution_count": null,
   "id": "e04e4953",
   "metadata": {},
   "outputs": [],
   "source": [
    "stds"
   ]
  },
  {
   "cell_type": "code",
   "execution_count": null,
   "id": "56cab652",
   "metadata": {
    "run_control": {
     "marked": false
    }
   },
   "outputs": [],
   "source": [
    "# estimate error at second halfs of init stage\n",
    "qs_initstage = 'pert_stage_wb.abs() < 1e-10'\n",
    "df_init = df.query(qs_initstage + ' and trialwb >= 10')\n",
    "grp = df_init.groupby(['subject','trial_shift_size','trial_group_col_calc'])\n",
    "#display(grp.size())\n",
    "#df_init['feedback_deg'].min(), df_init['feedback_deg'].max()\n",
    "\n",
    "grp['error_deg'].std()\n",
    "\n",
    "stds = grp['error_deg'].std()#.std()\n",
    "mestd = stds.mean()\n",
    "print(mestd, stds.std() )\n",
    "\n",
    "stds = stds.to_frame().reset_index().rename(columns={'error_deg':'error_deg_initstd'})\n",
    "df_wthr = df.merge(stds, on=['subject','trial_shift_size','trial_group_col_calc'])\n",
    "#df_wthr"
   ]
  },
  {
   "cell_type": "code",
   "execution_count": null,
   "id": "264926c1",
   "metadata": {},
   "outputs": [],
   "source": [
    "df_wthr.trial_group_col_calc.unique(), df_wthr.trial_shift_size.unique()"
   ]
  },
  {
   "cell_type": "code",
   "execution_count": null,
   "id": "6cb41826",
   "metadata": {},
   "outputs": [],
   "source": [
    "shiftszs = df['trial_shift_size'].unique()\n",
    "shiftszs"
   ]
  },
  {
   "cell_type": "code",
   "execution_count": null,
   "id": "5ae47767",
   "metadata": {},
   "outputs": [],
   "source": [
    "[col for col in df_all_multi_tsz.columns if col.find('like') >= 0]"
   ]
  },
  {
   "cell_type": "code",
   "execution_count": null,
   "id": "dbca2356",
   "metadata": {},
   "outputs": [],
   "source": [
    "df_all_multi_tsz.query('trials <= 4 and subject == @subjects[0] and  trial_group_col_calc == \"trialwe\"')\\\n",
    "    [['trials','trial_shift_size','error','prev_error']]"
   ]
  },
  {
   "cell_type": "code",
   "execution_count": null,
   "id": "9f58661a",
   "metadata": {
    "run_control": {
     "marked": false
    }
   },
   "outputs": [],
   "source": [
    "NN=5; st=0.4 #maxmult=1.2\n",
    "#thrs =  np.linspace(mestd/NN, mestd, NN); print(mestd, thrs)\n",
    "mults = st + (1-st) * np.arange(NN) / ( (NN - 1) )\n",
    "mults = [0] + list(mults)\n",
    "#thrs = mestd * mults\n",
    "mults#, thrs"
   ]
  },
  {
   "cell_type": "code",
   "execution_count": null,
   "id": "3f9ea61d",
   "metadata": {},
   "outputs": [],
   "source": [
    "# pooled random vs stable\n",
    "dfs = []\n",
    "ttrs = []\n",
    "for shiftsz in shiftszs:\n",
    "    for tgcc in df_wthr.trial_group_col_calc.unique():\n",
    "        for multi, mult in enumerate(mults):\n",
    "            # prev_error is not enough, it does not respect shift size\n",
    "            df_ = df_wthr.query('trial_shift_size == @shiftsz and trial_group_col_calc == @tgcc').copy()\n",
    "            assert not df_.duplicated(['subject','trials']).any()\n",
    "            df_ = df_[df_.error_deg.shift(shiftsz).abs() >= \\\n",
    "                    df_['error_deg_initstd'] * mults[multi] ]        \n",
    "            #df_ = df_.query('error_deg.shift(1).abs() >= @thr')\n",
    "            #thr_s = '{:.3f}'.format(thr)\n",
    "            #thr_s = f'{maxmult}*mestd/{ NN - (thri)}'\n",
    "            #thr_s = f'mestd/{ NN - (thri)}'\n",
    "            thr_s = f'mestd*{mults[multi]}'\n",
    "            df_['thr'] = thr_s\n",
    "            dfs += [df_]\n",
    "            print(thr_s, len(df_))\n",
    "dfall_notclean = pd.concat(dfs)\n",
    "# ttrs = pd.concat(ttrs)\n",
    "# ttrs = ttrs.rename(columns={'p-val':'pval'})\n",
    "\n",
    "from behav_proc import truncateDf\n",
    "dfall_mshsz  = truncateDf(dfall_notclean, 'err_sens', q=0.0, infnan_handling='discard', \n",
    "                   cols_uniqify = ['subject','environment','thr','trial_shift_size','trial_group_col_calc'])\n"
   ]
  },
  {
   "cell_type": "markdown",
   "id": "9487b84d",
   "metadata": {},
   "source": [
    "### basic violin stats (random vs env and pert stages)"
   ]
  },
  {
   "cell_type": "code",
   "execution_count": null,
   "id": "b6c6d26f",
   "metadata": {},
   "outputs": [],
   "source": [
    "sns.set(font_scale=1.3)"
   ]
  },
  {
   "cell_type": "code",
   "execution_count": null,
   "id": "75ffe923",
   "metadata": {},
   "outputs": [],
   "source": [
    "print(getAddInfo())\n",
    "thrs = [\"mestd*1.0\", \"mestd*0\"]\n",
    "qs = 'thr in @thrs'\n",
    "display( ttrs.query('pval < 0.05 and thr in @thrs') )"
   ]
  },
  {
   "cell_type": "code",
   "execution_count": null,
   "id": "b05ccf8f",
   "metadata": {
    "run_control": {
     "marked": false
    }
   },
   "outputs": [],
   "source": [
    "# non pooled (av within participant) random vs stable\n",
    "dfall_ = dfall_mshsz.query('trial_shift_size == 1')\n",
    "me = dfall_.groupby(['trial_group_col_calc', 'thr','subject','env']).\\\n",
    "    mean(numeric_only=1).reset_index()\n",
    "#me.groupby(['env','thr']).size()\n",
    "sns.set(font_scale=1.3)\n",
    "fg = sns.catplot(data = me, kind='violin', y='err_sens', \n",
    "    x='env', col='thr', order=['stable','random'], row='trial_group_col_calc')\n",
    "addTitleInfo(fg.axes.flatten()[0])\n",
    "for ax in fg.axes.flatten():\n",
    "    ax.axhline(y=0, c='r', ls=':'); #ax.set_ylim(-5,5)\n",
    "    "
   ]
  },
  {
   "cell_type": "code",
   "execution_count": null,
   "id": "026b6597",
   "metadata": {},
   "outputs": [],
   "source": [
    "%matplotlib inline"
   ]
  },
  {
   "cell_type": "code",
   "execution_count": null,
   "id": "29c2692c",
   "metadata": {
    "run_control": {
     "marked": false
    }
   },
   "outputs": [],
   "source": [
    "# -------------\n",
    "me = dfall_.groupby(['trial_group_col_calc', 'thr','subject','block_name']).\\\n",
    "    mean(numeric_only=1).reset_index()\n",
    "#display(me.groupby(['block_name','thr']).size())\n",
    "sns.set(font_scale=1.3)\n",
    "fg = sns.catplot(data = me, kind='violin', y='err_sens', \n",
    "    x='block_name', col='thr', order=['stable1','stable2',\n",
    "                                     'random1','random2'], row='trial_group_col_calc')\n",
    "addTitleInfo(fg.axes.flatten()[0])\n",
    "for ax in fg.axes.flatten():\n",
    "    ax.axhline(y=0, c='r', ls=':'); #ax.set_ylim(-5,5)\n",
    "# -------------\n",
    "me = dfall_.groupby(['trial_group_col_calc', 'thr','subject','pert_stage']).\\\n",
    "    mean(numeric_only=1).reset_index()\n",
    "#me.groupby(['env','thr']).size()\n",
    "sns.set(font_scale=1.3)\n",
    "fg = sns.catplot(data = me, kind='violin', y='err_sens', \n",
    "    x='pert_stage', col='thr', row='trial_group_col_calc')\n",
    "addTitleInfo(fg.axes.flatten()[0])\n",
    "for ax in fg.axes.flatten():\n",
    "    ax.axhline(y=0, c='r', ls=':'); #ax.set_ylim(-5,5)"
   ]
  },
  {
   "cell_type": "code",
   "execution_count": null,
   "id": "910dc8d3",
   "metadata": {},
   "outputs": [],
   "source": [
    "# non-pooled stages and env comparison\n",
    "me = dfall_.groupby(['trial_group_col_calc', 'thr','subject','ps_']).\\\n",
    "    mean(numeric_only=1).reset_index()\n",
    "#me.groupby(['ps_','thr']).size()\n",
    "sns.set(font_scale=1.3)\n",
    "fg = sns.catplot(data = me, kind='violin', y='err_sens', \n",
    "    x='ps_', col='thr', row='trial_group_col_calc')\n",
    "for ax in fg.axes.flatten():\n",
    "    ax.axhline(y=0, c='r', ls=':'); #ax.set_ylim(-5,5)\n",
    "addTitleInfo(fg.axes.flatten()[0])\n",
    "\n",
    "me = dfall_.groupby(['trial_group_col_calc','thr','subject','ps2_']).\\\n",
    "    mean(numeric_only=1).reset_index()\n",
    "\n",
    "#me.groupby(['ps_','thr']).size()\n",
    "sns.set(font_scale=1.3)\n",
    "fg = sns.catplot(data = me, kind='violin', y='err_sens', \n",
    "    x='ps2_', col='thr', row='trial_group_col_calc')\n",
    "for ax in fg.axes.flatten():\n",
    "    ax.axhline(y=0, c='r', ls=':'); #ax.set_ylim(-5,5)\n",
    "addTitleInfo(fg.axes.flatten()[0])"
   ]
  },
  {
   "cell_type": "markdown",
   "id": "96ced7a3",
   "metadata": {
    "heading_collapsed": true
   },
   "source": [
    "### Fig 2 CD"
   ]
  },
  {
   "cell_type": "code",
   "execution_count": null,
   "id": "27ab39b8",
   "metadata": {
    "hidden": true
   },
   "outputs": [],
   "source": [
    "dfall.subject.nunique()"
   ]
  },
  {
   "cell_type": "code",
   "execution_count": null,
   "id": "a920c278",
   "metadata": {
    "hidden": true
   },
   "outputs": [],
   "source": [
    "me.subject.nunique()"
   ]
  },
  {
   "cell_type": "code",
   "execution_count": null,
   "id": "041ab84c",
   "metadata": {
    "hidden": true
   },
   "outputs": [],
   "source": [
    "thr = \"mestd*1.0\"\n",
    "me = dfall.groupby(['thr','subject','env']).\\\n",
    "    mean(numeric_only=1).reset_index()\n",
    "me_env = me\n",
    "#me.groupby(['env','thr']).size()\n",
    "sns.set(font_scale=1.3)\n",
    "fg = sns.catplot(data = me.query('thr == @thr'), \n",
    "                 kind='violin', y='err_sens', \n",
    "    x='env', col='thr', order=['stable','random'])\n",
    "addTitleInfo(fg.axes.flatten()[0])\n",
    "for ax in fg.axes.flatten():\n",
    "    ax.axhline(y=0, c='r', ls=':'); #ax.set_ylim(-5,5)\n",
    "    \n",
    "ax.annotate('C', xy=(0, 1), xytext=(-60, 60), \n",
    "      fontsize=19, fontweight='bold', va='top', ha='left',\n",
    "      xycoords='axes fraction', textcoords='offset points')\n",
    "fg.set_ylabels('Error sensitivity')\n",
    "\n",
    "plt.show()\n",
    "    \n",
    "###################\n",
    "\n",
    "# non-pooled stages and env comparison\n",
    "me = dfall.groupby(['thr','subject','ps_']).\\\n",
    "    mean(numeric_only=1).reset_index()\n",
    "me_ps = me\n",
    "#me.groupby(['ps_','thr']).size()\n",
    "sns.set(font_scale=1.3)\n",
    "fg = sns.catplot(data = me.query('thr == @thr'), kind='violin', y='err_sens', \n",
    "    x='ps_', col='thr', order=['pre','pert','washout','rnd'])\n",
    "for ax in fg.axes.flatten():\n",
    "    ax.axhline(y=0, c='r', ls=':'); #ax.set_ylim(-5,5)\n",
    "addTitleInfo(fg.axes.flatten()[0])\n",
    "#plt.gcf().add_subplot_labels(['C'])\n",
    "\n",
    "ax.annotate('D', xy=(0, 1), xytext=(-60, 60), \n",
    "      fontsize=19, fontweight='bold', va='top', ha='left',\n",
    "      xycoords='axes fraction', textcoords='offset points')\n",
    "\n",
    "fg.set_ylabels('Error sensitivity')\n",
    "#fg.set_titles()"
   ]
  },
  {
   "cell_type": "code",
   "execution_count": null,
   "id": "ef7933d2",
   "metadata": {
    "hidden": true
   },
   "outputs": [],
   "source": [
    "statcols_toshow = ['varn','T','pval','val1',\n",
    "                   'val2','alternative','pooled', 'ttstr','dof']"
   ]
  },
  {
   "cell_type": "code",
   "execution_count": null,
   "id": "a26913af",
   "metadata": {
    "hidden": true
   },
   "outputs": [],
   "source": [
    "for col, me in [('env', me_env), ('ps_', me_ps)]:\n",
    "    for qs in ['thr == \"mestd*1.0\"', 'thr == \"mestd*0\"']:\n",
    "        df_ = dfall #me.query(qs)\n",
    "        print(col, qs)\n",
    "        varn = 'err_sens'\n",
    "        ttrssig, ttrs = comparePairs(df_,varn,col)\n",
    "        display(ttrssig.query('alternative != \"two-sided\"')\\\n",
    "                [statcols_toshow])"
   ]
  },
  {
   "cell_type": "markdown",
   "id": "2f551d72",
   "metadata": {
    "heading_collapsed": true
   },
   "source": [
    "### Fig 2 AB"
   ]
  },
  {
   "cell_type": "code",
   "execution_count": null,
   "id": "e421b95f",
   "metadata": {
    "hidden": true
   },
   "outputs": [],
   "source": [
    "c = 1 / np.pi  * 180\n",
    "thrs = [\"mestd*1.0\"]#, \"mestd*0\"]\n",
    "qs = 'thr in @thrs'\n",
    "for lablet,varn,pertc in [('A', 'error_pscadj', 1.), \n",
    "                   ('B', 'err_sens', 0.06)]:\n",
    "    #varn = 'org_feedback'\n",
    "    #for varn in     \n",
    "    #for truncs, df in zip(['truncate q=5%','truncate no'],[dfc, dfc0]):\n",
    "    #for truncs, dfall in zip(['truncate q=5%'],[df_]):\n",
    "    varn_eff = varn\n",
    "    if varn.startswith('org_feedback'):\n",
    "        dfall['vtp'] = np.array(dfall[varn]) * c# - 180\n",
    "        varn_eff = 'vtp'\n",
    "    elif varn.startswith('error'):\n",
    "        dfall['vtp'] = np.array(dfall[varn]) * c \n",
    "        varn_eff = 'vtp'\n",
    "    #elif varn.startswith('err_sens'):\n",
    "    #    pert_shift = \n",
    "        #df['vtp'] = np.array(df[varn]) \n",
    "        #varn_eff = 'vtp'\n",
    "\n",
    "    plt.figure(figsize=(12,4))\n",
    "    fg = sns.relplot(data=dfall.query(qs),\n",
    "        kind='line', x=\"trials\", y=varn_eff, \n",
    "        col='thr', estimator='mean', ci='sd', height = 4, aspect=2.5)\n",
    "\n",
    "    for ax in fg.axes.flatten():\n",
    "        ax.plot(tr, pert * pertc, c='violet', ls= '--')\n",
    "        ax.plot(tr, envv * 30 * pertc, c='black', lw=0, marker='.' ,alpha=0.2)\n",
    "        #ax.set_title(f'{varn}  {truncs}')\n",
    "        ax.set_ylabel(varn )\n",
    "    if varn.startswith('error_'):\n",
    "        fg.set_ylabels('Angular error [deg]')\n",
    "        fg.set_titles('Error dynamics')\n",
    "    else:\n",
    "        fg.set_ylabels('Error sensitivity')\n",
    "        fg.set_titles('Error sensitivity dynamics')\n",
    "    fg.set_xlabels('Trial number')\n",
    "    \n",
    "     \n",
    "    #addTitleInfo(fg.axes.flatten()[0])\n",
    "    ax.annotate(lablet, xy=(0, 1), xytext=(-60, 20), \n",
    "      fontsize=19, fontweight='bold', va='top', ha='left',\n",
    "      xycoords='axes fraction', textcoords='offset points')"
   ]
  },
  {
   "cell_type": "code",
   "execution_count": null,
   "id": "0c222d24",
   "metadata": {
    "hidden": true
   },
   "outputs": [],
   "source": []
  },
  {
   "cell_type": "code",
   "execution_count": null,
   "id": "4bbf3ac2",
   "metadata": {
    "hidden": true
   },
   "outputs": [],
   "source": []
  },
  {
   "cell_type": "code",
   "execution_count": null,
   "id": "f219a969",
   "metadata": {
    "hidden": true
   },
   "outputs": [],
   "source": [
    "# ttests stages and envs"
   ]
  },
  {
   "cell_type": "code",
   "execution_count": null,
   "id": "1636655a",
   "metadata": {
    "hidden": true
   },
   "outputs": [],
   "source": [
    "# compare all pairs stats\n",
    "from behav_proc import comparePairs    \n",
    "df_ = dfall.query('thr == \"mestd*0\"')\n",
    "varn = 'err_sens'\n",
    "col = 'ps_'\n",
    "\n",
    "ttrssig, ttrs = comparePairs(df_,varn,col)\n",
    "ttrssig[statcols_toshow]\n",
    "\n",
    "# per > pert\n",
    "# pre > washout\n",
    "# pre > rnd\n",
    "# pert < washout\n",
    "# washout > rnd\n",
    "\n",
    "# pert < rnd only in pooled (pval is 0.028, much bigger than others)"
   ]
  },
  {
   "cell_type": "code",
   "execution_count": null,
   "id": "067d17ef",
   "metadata": {
    "hidden": true,
    "run_control": {
     "marked": false
    }
   },
   "outputs": [],
   "source": [
    "#df_.groupby(['subject','ps_']).mean(numeric_only = 1)"
   ]
  },
  {
   "cell_type": "markdown",
   "id": "49e204f9",
   "metadata": {
    "heading_collapsed": true
   },
   "source": [
    "## compare first and second random ES -- no difference"
   ]
  },
  {
   "cell_type": "code",
   "execution_count": null,
   "id": "05ee7606",
   "metadata": {
    "hidden": true
   },
   "outputs": [],
   "source": [
    "\n",
    "from behav_proc import comparePairs    \n",
    "df_ = dfall.query('thr == \"mestd*0\" and env == \"random\"')\n",
    "varn = 'err_sens'\n",
    "col = 'block_name'\n",
    "\n",
    "print('Compare different random blocks no trunc')\n",
    "ttrssig, ttrs = comparePairs(df_,varn,col)\n",
    "if ttrssig is None:\n",
    "    print('None')\n",
    "else:\n",
    "    ttrssig[statcols_toshow]\n",
    "\n",
    "print('Compare different random blocks')\n",
    "df_ = dfall.query('thr == \"mestd*1.0\" and env == \"random\"')\n",
    "varn = 'err_sens'\n",
    "col = 'block_name'\n",
    "\n",
    "ttrssig, ttrs = comparePairs(df_,varn,col)\n",
    "if ttrssig is None:\n",
    "    print('None')\n",
    "else:\n",
    "    ttrssig[statcols_toshow]"
   ]
  },
  {
   "cell_type": "code",
   "execution_count": null,
   "id": "7dbeba16",
   "metadata": {
    "hidden": true
   },
   "outputs": [],
   "source": [
    "import gc; gc.collect()"
   ]
  },
  {
   "cell_type": "code",
   "execution_count": null,
   "id": "cb5caf83",
   "metadata": {
    "hidden": true
   },
   "outputs": [],
   "source": [
    "import pingouin as pg"
   ]
  },
  {
   "cell_type": "markdown",
   "id": "43cc8777",
   "metadata": {
    "heading_collapsed": true
   },
   "source": [
    "# Time resolved"
   ]
  },
  {
   "cell_type": "code",
   "execution_count": null,
   "id": "70f4dd37",
   "metadata": {
    "hidden": true
   },
   "outputs": [],
   "source": [
    "c = 1 / np.pi  * 180\n",
    "thrs = [\"mestd*1.0\", \"mestd*0\"]\n",
    "qs = 'thr in @thrs'\n",
    "for varn,pertc in [('error_pscadj', 1.), ('err_sens', 0.04)]:\n",
    "    #varn = 'org_feedback'\n",
    "    #for varn in     \n",
    "    #for truncs, df in zip(['truncate q=5%','truncate no'],[dfc, dfc0]):\n",
    "    #for truncs, dfall in zip(['truncate q=5%'],[df_]):\n",
    "    varn_eff = varn\n",
    "    if varn.startswith('org_feedback'):\n",
    "        dfall['vtp'] = np.array(dfall[varn]) * c# - 180\n",
    "        varn_eff = 'vtp'\n",
    "    elif varn.startswith('error'):\n",
    "        dfall['vtp'] = np.array(dfall[varn]) * c \n",
    "        varn_eff = 'vtp'\n",
    "    #elif varn.startswith('err_sens'):\n",
    "    #    pert_shift = \n",
    "        #df['vtp'] = np.array(df[varn]) \n",
    "        #varn_eff = 'vtp'\n",
    "\n",
    "    plt.figure(figsize=(12,4))\n",
    "    fg = sns.relplot(data=dfall.query(qs), kind='line', x=\"trials\", y=varn_eff, col='thr', estimator='mean', ci='sd')\n",
    "\n",
    "    for ax in fg.axes.flatten():\n",
    "        ax.plot(tr, pert * pertc, c='violet', ls= '--')\n",
    "        ax.plot(tr, envv * 30 * pertc, c='black', lw=0, marker='.' ,alpha=0.2)\n",
    "        #ax.set_title(f'{varn}  {truncs}')\n",
    "        ax.set_ylabel(varn )\n",
    "    # sns.lineplot(ax=ax, x=\"trials\", y=\"perturbation\",\n",
    "    #              data=dfc.query('pert_seq_code == 0') )\n",
    "\n",
    "    #plt.legend(title=None, loc='lower right',\n",
    "    #           labels=['within tgt', '_nolegend_', 'across tgt'])\n",
    "    #ax.set_ylim(-0.25,0.3)\n",
    "for ax in fg.axes.flatten():\n",
    "    ax.set_ylim(-5,5)"
   ]
  },
  {
   "cell_type": "markdown",
   "id": "cf1dec8e",
   "metadata": {
    "heading_collapsed": true
   },
   "source": [
    "# classical corr (separman) trialwpertstage_wb"
   ]
  },
  {
   "cell_type": "markdown",
   "id": "f5689e3a",
   "metadata": {
    "heading_collapsed": true,
    "hidden": true
   },
   "source": [
    "### random"
   ]
  },
  {
   "cell_type": "code",
   "execution_count": null,
   "id": "83d22648",
   "metadata": {
    "hidden": true
   },
   "outputs": [],
   "source": [
    "dfallrnd = dfall.query('env == \"random\"').copy()\n",
    "dfallrnd['error_abs'] = dfallrnd['error'].abs()\n",
    "print('random: err_abs')\n",
    "def f(df_):\n",
    "    r = pg.corr( df_['trialwb'], \n",
    "        df_['error_abs'],  method='spearman')\n",
    "    return r\n",
    "corrs = dfallrnd.\\\n",
    "    groupby(['thr','block_name']).apply(f)\n",
    "corrs = corrs.rename(columns={'p-val':'pval'})\n",
    "#display(corrs)\n",
    "\n",
    "print(getAddInfo())\n",
    "thrs = [\"mestd*1.0\", \"mestd*0\"]\n",
    "qs = 'thr in @thrs'\n",
    "display( corrs.query('pval < 0.05 and thr in @thrs') )\n",
    "\n",
    "print('random: err_sens')\n",
    "def f(df_):\n",
    "    r = pg.corr( df_['trialwb'], \n",
    "        df_['err_sens'],  method='spearman')\n",
    "    return r\n",
    "corrs = dfallrnd.\\\n",
    "    groupby(['thr','block_name']).apply(f)\n",
    "corrs = corrs.rename(columns={'p-val':'pval'})\n",
    "#display(corrs)\n",
    "\n",
    "print(getAddInfo())\n",
    "thrs = [\"mestd*1.0\", \"mestd*0\"]\n",
    "qs = 'thr in @thrs'\n",
    "display( corrs.query('pval < 0.05 and thr in @thrs') )"
   ]
  },
  {
   "cell_type": "code",
   "execution_count": null,
   "id": "95db4b10",
   "metadata": {
    "hidden": true,
    "run_control": {
     "marked": false
    }
   },
   "outputs": [],
   "source": [
    "corrs_per_subj = dfallrnd.query('thr == \"mestd*0\"').\\\n",
    "    groupby(['thr','subject','block_name']).apply(f)"
   ]
  },
  {
   "cell_type": "code",
   "execution_count": null,
   "id": "56ecc2de",
   "metadata": {
    "hidden": true
   },
   "outputs": [],
   "source": [
    "corrs_per_subj = corrs_per_subj.rename(columns={'p-val':'pval'})\n",
    "print(getAddInfo())\n",
    "with pd.option_context('display.min_rows',40):\n",
    "    display(\\\n",
    "        corrs_per_subj.query(qs + ' and pval < 0.05').groupby(['subject']).size()\n",
    "        )"
   ]
  },
  {
   "cell_type": "code",
   "execution_count": null,
   "id": "316f0045",
   "metadata": {
    "hidden": true,
    "run_control": {
     "marked": true
    }
   },
   "outputs": [],
   "source": [
    "gc.collect()"
   ]
  },
  {
   "cell_type": "markdown",
   "id": "6b0ea09e",
   "metadata": {
    "heading_collapsed": true,
    "hidden": true
   },
   "source": [
    "## abs error and trial"
   ]
  },
  {
   "cell_type": "code",
   "execution_count": null,
   "id": "3ace3069",
   "metadata": {
    "hidden": true
   },
   "outputs": [],
   "source": [
    "#df_['error_pscadj_pertstageadj']"
   ]
  },
  {
   "cell_type": "code",
   "execution_count": null,
   "id": "29a781de",
   "metadata": {
    "code_folding": [],
    "hidden": true
   },
   "outputs": [],
   "source": [
    "# stable\n",
    "dfall['error_pscadj_pertstageadj_abs'] = dfall['error_pscadj_pertstageadj'].abs()\n",
    "\n",
    "#dfallst = dfall.query('env == \"stable\"').copy()\n",
    "dfallst = dfall.copy()\n",
    "dfallst['pert_stage'] = dfallst['pert_stage'].astype('int').astype('category')\n",
    "dfallst['pert_stage_wb'] = dfallst['pert_stage_wb'].astype('int').astype('category')\n",
    "\n",
    "# error\n",
    "def f(df_):\n",
    "    r = pg.corr( df_['trialwpertstage_wb'], \n",
    "                df_['error_pscadj_pertstageadj_abs'],  method='spearman')\n",
    "    return r\n",
    "corrs_per_subj = dfallst.query('thr == \"mestd*0\"').\\\n",
    "    groupby(['thr','subject','pert_stage_wb']).apply(f)\n",
    "corrs_per_subj = corrs_per_subj.rename(columns={'p-val':'pval'})\n",
    "corrs_per_subj_me = corrs_per_subj.\\\n",
    "    groupby('pert_stage_wb')[['r','pval']].mean()\n",
    "display(corrs_per_subj_me)\n",
    "\n",
    "corrs_per_subj_me_errabs = corrs_per_subj_me\n",
    "\n",
    "#corrs = dfallst.query('thr == \"mestd*0\"').\\\n",
    "#    groupby(['thr','pert_stage']).apply(f)\n",
    "corrs = dfallst.\\\n",
    "    groupby(['thr','pert_stage_wb']).apply(f)\n",
    "\n",
    "corrs = corrs.rename(columns={'p-val':'pval'})\n",
    "display(corrs)\n",
    "# def f(df_):    \n",
    "#     a = df_.query('env == \"stable\"')['r']\n",
    "#     b = df_.query('env == \"random\"')['r']\n",
    "#     rs = []\n",
    "#     for alt in ['two-sided','greater','less']:\n",
    "#         print(len(a),len(b), a ,b)\n",
    "#         rs.append( pg.ttest( a, b, alternative = alt) )\n",
    "#     return pd.concat(rs)\n",
    "# ttest_of_corr = corrs_per_subj.groupby(['thr']).apply(f)\n",
    "# display(ttest_of_corr)"
   ]
  },
  {
   "cell_type": "code",
   "execution_count": null,
   "id": "1a6d7ae5",
   "metadata": {
    "code_folding": [],
    "hidden": true
   },
   "outputs": [],
   "source": [
    "print(getAddInfo())\n",
    "thrs = [\"mestd*1.0\", \"mestd*0\"]\n",
    "qs = 'thr in @thrs'\n",
    "display( corrs.query('pval < 0.05 and thr in @thrs') )"
   ]
  },
  {
   "cell_type": "code",
   "execution_count": null,
   "id": "6a13dc3d",
   "metadata": {
    "hidden": true
   },
   "outputs": [],
   "source": [
    "# all corrs are negative within participants\n",
    "def f(df):\n",
    "    if len(df) == 0:\n",
    "        return None\n",
    "    ttrs = compare0(df, 'r')\n",
    "    return ttrs\n",
    "ttrs = corrs_per_subj.query('pert_stage_wb != -1').\\\n",
    "    groupby(['thr','pert_stage_wb']).apply(f)\n",
    "ttrs.query('pval <= 0.05')"
   ]
  },
  {
   "cell_type": "code",
   "execution_count": null,
   "id": "e7662967",
   "metadata": {
    "hidden": true
   },
   "outputs": [],
   "source": [
    "print(getAddInfo())\n",
    "with pd.option_context('display.min_rows',40):\n",
    "    display(\\\n",
    "        corrs_per_subj.query(qs + ' and pval < 0.05').groupby(['pert_stage_wb']).size()\n",
    "        )"
   ]
  },
  {
   "cell_type": "markdown",
   "id": "b4d9dd91",
   "metadata": {
    "hidden": true
   },
   "source": [
    "## err sens and trial"
   ]
  },
  {
   "cell_type": "code",
   "execution_count": null,
   "id": "6fdfe46b",
   "metadata": {
    "hidden": true
   },
   "outputs": [],
   "source": [
    "def f(df_):\n",
    "    r = pg.corr( df_['trialwpertstage_wb'], df_['err_sens'],  method='spearman')\n",
    "    r['method'] = 'spearman'\n",
    "    return r\n",
    "corrs_per_subj = dfallst.groupby(['thr','subject','pert_stage_wb']).apply(f)\n",
    "corrs_per_subj = corrs_per_subj.rename(columns={'p-val':'pval'})\n",
    "display(corrs_per_subj)\n",
    "\n",
    "corrs_per_subj_me = corrs_per_subj.\\\n",
    "    groupby(['thr','pert_stage_wb'])[['r','pval']].mean()\n",
    "corrs_per_subj_me['method'] = 'spearman'\n",
    "corrs_per_subj_me_ES = corrs_per_subj_me\n",
    "\n",
    "corrs_per_subj2 = dfallst.groupby(['thr','subject','ps_']).apply(f)\n",
    "corrs_per_subj2 = corrs_per_subj2.rename(columns={'p-val':'pval'})\n",
    "corrs_per_subj2_me = corrs_per_subj2.\\\n",
    "    groupby(['thr','ps_'])[['r','pval']].mean()\n",
    "corrs_per_subj2_me['method'] = 'spearman'\n",
    "corrs_per_subj2_me_ES = corrs_per_subj2_me\n",
    "\n",
    "corrs = dfallst.groupby(['thr','pert_stage_wb']).apply(f)\n",
    "corrs = corrs.rename(columns={'p-val':'pval'})\n",
    "display(corrs)\n",
    "\n",
    "\n",
    "\n",
    "def f(df_):\n",
    "    try:\n",
    "        r = pg.corr( df_['trialwpertstage_wb'], df_['err_sens'],  \n",
    "                    method='pearson')\n",
    "        r['method'] = 'pearson'\n",
    "        r['mean_x'] = df_['trialwpertstage_wb'].mean()\n",
    "        r['mean_y'] = df_['err_sens'].mean()\n",
    "        r['std_x'] = df_['trialwpertstage_wb'].std()\n",
    "        r['std_y'] = df_['err_sens'].std()\n",
    "    except ValueError as e:\n",
    "        return None\n",
    "    return r\n",
    "corrs_per_subj_me_pearson = dfallst.groupby(['thr','subject','pert_stage_wb']).apply(f)\n",
    "corrs_per_subj_me_pearson = corrs_per_subj_me_pearson.rename(columns={'p-val':'pval'})\n",
    "corrs_per_subj_me_pearson = corrs_per_subj_me_pearson.\\\n",
    "    groupby(['thr','pert_stage_wb'])[['r','pval',\n",
    "        'mean_x','mean_y','std_x','std_y']].mean()\n",
    "corrs_per_subj_me_pearson['method'] = 'pearson'\n",
    "corrs_per_subj_me_ES_pearson = corrs_per_subj_me_pearson"
   ]
  },
  {
   "cell_type": "code",
   "execution_count": null,
   "id": "e3de7686",
   "metadata": {
    "hidden": true
   },
   "outputs": [],
   "source": [
    "corrs_per_subj2_me"
   ]
  },
  {
   "cell_type": "code",
   "execution_count": null,
   "id": "71dc5d1f",
   "metadata": {
    "hidden": true
   },
   "outputs": [],
   "source": [
    "#corrs_per_subj_me_ES_pearson"
   ]
  },
  {
   "cell_type": "code",
   "execution_count": null,
   "id": "414a72b0",
   "metadata": {
    "hidden": true
   },
   "outputs": [],
   "source": [
    "print(getAddInfo())\n",
    "with pd.option_context('display.min_rows',40):\n",
    "    display(\\\n",
    "        corrs_per_subj.query(qs + ' and pval < 0.05').groupby(['pert_stage_wb']).size()\n",
    "        )"
   ]
  },
  {
   "cell_type": "code",
   "execution_count": null,
   "id": "b312a2c1",
   "metadata": {
    "hidden": true
   },
   "outputs": [],
   "source": [
    "# pooled\n",
    "print(getAddInfo())\n",
    "thrs = [\"mestd*1.0\", \"mestd*0\"]\n",
    "qs = 'thr in @thrs'\n",
    "display( corrs.query('pval < 0.05 and thr in @thrs') )"
   ]
  },
  {
   "cell_type": "code",
   "execution_count": null,
   "id": "d590fc49",
   "metadata": {
    "hidden": true
   },
   "outputs": [],
   "source": [
    "# all corrs are positive within participants\n",
    "from behav_proc import compare0\n",
    "def f(df):\n",
    "    if len(df) == 0:\n",
    "        return None\n",
    "    ttrs = compare0(df, 'r')\n",
    "    return ttrs\n",
    "ttrs = corrs_per_subj.\\\n",
    "    groupby(['thr','pert_stage_wb']).apply(f)\n",
    "print(getAddInfo())\n",
    "display(ttrs.query('pval <= 0.05 and thr in @thrs'))\n",
    "\n",
    "ttrs = corrs_per_subj2.\\\n",
    "    groupby(['thr','ps_']).apply(f)\n",
    "print(getAddInfo())\n",
    "display(ttrs.query('pval <= 0.05 and thr in @thrs'))"
   ]
  },
  {
   "cell_type": "code",
   "execution_count": null,
   "id": "3476caeb",
   "metadata": {
    "hidden": true
   },
   "outputs": [],
   "source": [
    "#ttest_of_corr[ttest_of_corr['p-val'] < 5e-2]"
   ]
  },
  {
   "cell_type": "markdown",
   "id": "7472a885",
   "metadata": {
    "heading_collapsed": true
   },
   "source": [
    "# partial corr"
   ]
  },
  {
   "cell_type": "code",
   "execution_count": null,
   "id": "eab13db3",
   "metadata": {
    "hidden": true
   },
   "outputs": [],
   "source": [
    "dfs = []\n",
    "dfall['error_abs'] = dfall['error'].abs()\n",
    "dfall['prev_error_abs'] = dfall['prev_error'].abs()\n",
    "\n",
    "dfrs_per_subj = []\n",
    "dfrs_per_subj2 = []\n",
    "for varn in ['error','error_abs','prev_error','prev_error_abs']:\n",
    "    method = 'spearman'\n",
    "    def f(df_):\n",
    "        if len(df_) < 3:\n",
    "            return pd.DataFrame()\n",
    "        r = pg.partial_corr( df_, 'trialwpertstage_wb', 'err_sens', varn,  \n",
    "                            method=method)\n",
    "        return r\n",
    "    \n",
    "    dfall_  = dfall.query('pert_stage_wb != -1')\n",
    "\n",
    "    pcorrs = dfall_.\\\n",
    "        groupby(['thr','pert_stage_wb']).apply(f)\n",
    "    pcorrs['varn'] = varn\n",
    "    pcorrs['method'] = method\n",
    "    pcorrs = pcorrs.rename(columns={'p-val':'pval'})\n",
    "    dfs += [pcorrs]\n",
    "    #sigcorrs = pcorrs[pcorrs['pval'] < 5e-2]\n",
    "    #dfs += [sigcorrs]\n",
    "    \n",
    "    method = 'pearson'\n",
    "    def f(df_):\n",
    "        if len(df_) < 3:\n",
    "            return pd.DataFrame()\n",
    "        r = pg.partial_corr( df_, 'trialwpertstage_wb', \n",
    "                            'err_sens', varn,  \n",
    "                            method=method)\n",
    "        r['mean_x'] = df_['trialwpertstage_wb'].mean()\n",
    "        r['mean_y'] = df_['err_sens'].mean()\n",
    "        r['std_x'] = df_['trialwpertstage_wb'].std()\n",
    "        r['std_y'] = df_['err_sens'].std()\n",
    "        r['mean_z'] = df_[varn].mean()\n",
    "        return r\n",
    "    pcorrs_per_subj = dfall_.groupby(['thr','subject','pert_stage_wb']).apply(f)\n",
    "    #display(pcorrs_per_subj)\n",
    "    pcorrs_per_subj['varn'] = varn\n",
    "    pcorrs_per_subj['method'] = method\n",
    "    pcorrs_per_subj = pcorrs_per_subj.rename(columns={'p-val':'pval'})\n",
    "    dfrs_per_subj += [pcorrs_per_subj.reset_index()]\n",
    "    \n",
    "    pcorrs_per_subj2 = dfall_.groupby(['thr','subject','ps_']).apply(f)\n",
    "    pcorrs_per_subj2 = pcorrs_per_subj2.rename(columns={'p-val':'pval'})\n",
    "    pcorrs_per_subj2['varn'] = varn\n",
    "    pcorrs_per_subj2['method'] = method\n",
    "    \n",
    "    dfrs_per_subj2 += [pcorrs_per_subj2.reset_index()]\n",
    "#     pcorrs_per_subj2_me = pcorrs_per_subj2.\\\n",
    "#         groupby(['thr','ps_'])[['r','pval']].mean()\n",
    "#     pcorrs_per_subj2_me_ES = pcorrs_per_subj2_me\n",
    "    \n",
    "    \n",
    "    \n",
    "dfr = pd.concat(dfs, ignore_index=1)#.set_index('')\n",
    "dfr_per_subj = pd.concat(dfrs_per_subj, ignore_index=1)\n",
    "dfr_per_subj2 = pd.concat(dfrs_per_subj2, ignore_index=1)"
   ]
  },
  {
   "cell_type": "code",
   "execution_count": null,
   "id": "5e60a481",
   "metadata": {
    "hidden": true
   },
   "outputs": [],
   "source": [
    "pcorrs_per_subj = dfr_per_subj.query('varn == \"error_abs\"')\n",
    "pcorrs_per_subj_me = pcorrs_per_subj.\\\n",
    "    groupby(['thr','pert_stage_wb'])[['r','pval',\n",
    "        'mean_x','mean_y','std_x','std_y','mean_z']].mean()\n",
    "\n",
    "pcorrs_per_subj2 = dfr_per_subj2.query('varn == \"error_abs\"')\n",
    "pcorrs_per_subj2_me = pcorrs_per_subj2.\\\n",
    "    groupby(['thr','ps_'])[['r','pval',\n",
    "        'mean_x','mean_y','std_x','std_y','mean_z']].mean()"
   ]
  },
  {
   "cell_type": "code",
   "execution_count": null,
   "id": "7bece46b",
   "metadata": {
    "hidden": true
   },
   "outputs": [],
   "source": [
    "pcorrs_per_subj2_me"
   ]
  },
  {
   "cell_type": "code",
   "execution_count": null,
   "id": "c538c286",
   "metadata": {
    "hidden": true
   },
   "outputs": [],
   "source": [
    "pg.__version__"
   ]
  },
  {
   "cell_type": "code",
   "execution_count": null,
   "id": "481e3dd2",
   "metadata": {
    "hidden": true
   },
   "outputs": [],
   "source": [
    "gc.collect()"
   ]
  },
  {
   "cell_type": "code",
   "execution_count": null,
   "id": "4525df5a",
   "metadata": {
    "hidden": true
   },
   "outputs": [],
   "source": [
    "# all varn\n",
    "print(getAddInfo())\n",
    "with pd.option_context('display.max_rows', 500):\n",
    "    display(dfr.query('thr == \"mestd*1.0\" and pert_stage_wb in [1,3]'))\n",
    "    display(dfr.query('thr == \"mestd*1.0\" and pert_stage_wb in [0,2,4]'))"
   ]
  },
  {
   "cell_type": "code",
   "execution_count": null,
   "id": "44695afd",
   "metadata": {
    "hidden": true
   },
   "outputs": [],
   "source": [
    "# only err abs\n",
    "print(getAddInfo())\n",
    "thrs = [\"mestd*1.0\", \"mestd*0\"]\n",
    "qs = 'thr in @thrs'\n",
    "with pd.option_context('display.max_rows', 500):\n",
    "    dfr_ = dfr.query('varn == \"error_abs\"')\n",
    "    display(dfr_.query(qs + ' and pert_stage_wb in [1,3]'))\n",
    "    display(dfr_.query(qs + ' and pert_stage_wb in [0,2,4]'))"
   ]
  },
  {
   "cell_type": "code",
   "execution_count": null,
   "id": "a2f8ac0c",
   "metadata": {
    "hidden": true
   },
   "outputs": [],
   "source": [
    "dfr_per_subj"
   ]
  },
  {
   "cell_type": "code",
   "execution_count": null,
   "id": "cbf3a4b0",
   "metadata": {
    "hidden": true
   },
   "outputs": [],
   "source": [
    "# within participant 1 and 3 are neg, 4 is pos\n",
    "from behav_proc import compare0\n",
    "def f(df):\n",
    "    if len(df) == 0:\n",
    "        return None\n",
    "    ttrs = compare0(df, 'r')\n",
    "    return ttrs\n",
    "ttrs = dfr_per_subj.query('varn == \"error_abs\"').\\\n",
    "    groupby(['thr','pert_stage_wb']).apply(f)\n",
    "print(getAddInfo())\n",
    "display(ttrs.query('pval <= 0.05 and thr in @thrs'))\n",
    "\n",
    "ttrs = dfr_per_subj2.query('varn == \"error_abs\"').\\\n",
    "    groupby(['thr','ps_']).apply(f)\n",
    "print(getAddInfo())\n",
    "display(ttrs.query('pval <= 0.05 and thr in @thrs'))"
   ]
  },
  {
   "cell_type": "markdown",
   "id": "ff30b23b",
   "metadata": {
    "hidden": true
   },
   "source": [
    "### within pert stage"
   ]
  },
  {
   "cell_type": "code",
   "execution_count": null,
   "id": "ad0764ec",
   "metadata": {
    "hidden": true
   },
   "outputs": [],
   "source": [
    "dfall['error_abs'] = dfall['error'].abs()\n",
    "def f(df_):\n",
    "    if len(df_) < 3:\n",
    "        return pd.DataFrame()\n",
    "    r = pg.partial_corr( df_, 'trialwpertstage_wb', 'err_sens', 'error_abs',  method='spearman')    \n",
    "    return r"
   ]
  },
  {
   "cell_type": "code",
   "execution_count": null,
   "id": "9c77edff",
   "metadata": {
    "hidden": true
   },
   "outputs": [],
   "source": [
    "persubj = dfall.groupby(['thr','subject','pert_stage_wb']).apply(f)\n",
    "   #['p-val']\n",
    "persubj['signif'] = persubj['p-val'] < 0.05\n",
    "persubj.query('signif').groupby(['thr','pert_stage_wb']).size()"
   ]
  },
  {
   "cell_type": "code",
   "execution_count": null,
   "id": "b4c1ade7",
   "metadata": {
    "hidden": true
   },
   "outputs": [],
   "source": [
    "dfall['error_abs'] = dfall['error'].abs()\n",
    "def f(df_):\n",
    "    if len(df_) < 3:\n",
    "        return pd.DataFrame()\n",
    "    #r = pg.partial_corr( df_, 'trialwtgt_wpertstage_wb', 'err_sens', 'error_abs',  method='spearman')    \n",
    "    r = pg.partial_corr( df_, 'trialwpertstage_wb', 'err_sens', 'error_abs',  method='spearman')    \n",
    "    return r"
   ]
  },
  {
   "cell_type": "code",
   "execution_count": null,
   "id": "8504ac59",
   "metadata": {
    "hidden": true
   },
   "outputs": [],
   "source": [
    "#pcorrs_per_subj = dfall.groupby(['thr','subject','env']).apply(f)\n",
    "#display(pcorrs_per_subj)\n",
    "\n",
    "print('pooled subj signif corr')\n",
    "pcorrs_ = dfall.groupby(['thr','pert_stage_wb']).apply(f)\n",
    "display(pcorrs_[pcorrs_['p-val'] < 0.05])\n",
    "\n",
    "print('average of within subj')\n",
    "pcorrs_per_subj_ = dfall.groupby(['thr','subject','pert_stage_wb']).apply(f).\\\n",
    "    groupby(['thr','pert_stage_wb'])['p-val'].mean().to_frame()\n",
    "display(pcorrs_per_subj_[pcorrs_per_subj_['p-val'] < 0.05])"
   ]
  },
  {
   "cell_type": "code",
   "execution_count": null,
   "id": "fd364258",
   "metadata": {
    "hidden": true
   },
   "outputs": [],
   "source": [
    "pcorrs_per_subj_r = dfall.groupby(['thr','subject','pert_stage_wb']).apply(f).\\\n",
    "    groupby(['thr','pert_stage_wb'])['r'].mean().to_frame()\n",
    "pcorrs_per_subj_r"
   ]
  },
  {
   "cell_type": "code",
   "execution_count": null,
   "id": "15c690c6",
   "metadata": {
    "hidden": true
   },
   "outputs": [],
   "source": [
    "persubj = dfall.groupby(['thr','subject','pert_stage_wb']).apply(f)\n",
    "   #['p-val']\n",
    "persubj['signif'] = persubj['p-val'] < 0.05\n",
    "persubj.query('signif').groupby(['thr','pert_stage_wb']).size()"
   ]
  },
  {
   "cell_type": "code",
   "execution_count": null,
   "id": "acdccc16",
   "metadata": {
    "hidden": true
   },
   "outputs": [],
   "source": [
    "persubj = dfall.groupby(['thr','subject','pert_stage']).apply(f)\n",
    "   #['p-val']\n",
    "persubj['signif'] = persubj['p-val'] < 0.05\n",
    "persubj.query('signif').groupby(['thr','pert_stage']).size()"
   ]
  },
  {
   "cell_type": "code",
   "execution_count": null,
   "id": "86d2f931",
   "metadata": {
    "hidden": true
   },
   "outputs": [],
   "source": [
    "persubj = dfall.groupby(['thr','subject','environment']).apply(f)\n",
    "   #['p-val']\n",
    "persubj['signif'] = persubj['p-val'] < 0.05\n",
    "persubj.query('signif').groupby(['thr','environment']).size()"
   ]
  },
  {
   "cell_type": "code",
   "execution_count": null,
   "id": "63c5ab6f",
   "metadata": {
    "hidden": true
   },
   "outputs": [],
   "source": [
    "pcorrs_per_subj_ = dfall.groupby(['thr','subject','pert_stage']).apply(f).\\\n",
    "    groupby(['thr','pert_stage'])['p-val'].mean().to_frame()\n",
    "display(pcorrs_per_subj_[pcorrs_per_subj_['p-val'] < 0.05])"
   ]
  },
  {
   "cell_type": "code",
   "execution_count": null,
   "id": "df88eabb",
   "metadata": {
    "hidden": true
   },
   "outputs": [],
   "source": [
    "# def f(df_):\n",
    "#     a = df_.query('env == \"stable\"')['r']\n",
    "#     b = df_.query('env == \"random\"')['r']\n",
    "#     rs = []\n",
    "#     for alt in ['two-sided','greater','less']:\n",
    "#         rs.append( pg.ttest( a, b, alternative = alt) )\n",
    "#     return pd.concat(rs)\n",
    "# ttest_of_pcorr = pcorrs_per_subj.groupby(['thr']).apply(f)\n",
    "# display(ttest_of_pcorr)\n",
    "\n",
    "pcorrs_ = dfall.groupby(['thr','pert_stage']).apply(f)#.to_frame()\n",
    "display(pcorrs_[pcorrs_['p-val'] < 0.05])"
   ]
  },
  {
   "cell_type": "markdown",
   "id": "78c5c3ae",
   "metadata": {
    "hidden": true
   },
   "source": []
  },
  {
   "cell_type": "markdown",
   "id": "c8a1949a",
   "metadata": {
    "heading_collapsed": true
   },
   "source": [
    "# corr with abs error for plot"
   ]
  },
  {
   "cell_type": "code",
   "execution_count": null,
   "id": "c7475589",
   "metadata": {
    "hidden": true
   },
   "outputs": [],
   "source": [
    "# correlation between ES and abs err within env\n",
    "dfall['error_abs'] = dfall['error'].abs()\n",
    "dfall['prev_error_abs'] = dfall['prev_error'].abs()\n",
    "dfs = []\n",
    "for varn in ['error','error_abs','prev_error','prev_error_abs']:\n",
    "    def f(df_):\n",
    "        #df_.query('err_sens < inf')\n",
    "        r = pg.corr( df_[varn], df_['err_sens'],  method='spearman')\n",
    "        return r\n",
    "    corrs_abserr_per_subj = dfall.groupby(['thr','subject','env']).apply(f)\n",
    "    #display(corrs_abserr_per_subj)\n",
    "\n",
    "    corrs_abserr = dfall.groupby(['thr','env']).apply(f)\n",
    "    #display(corrs_abserr)\n",
    "\n",
    "    def f(df_):    \n",
    "        a = df_.query('env == \"stable\"')['r']\n",
    "        b = df_.query('env == \"random\"')['r']\n",
    "        #print(len(a),len(b),a.abs().min(),b.abs().min())\n",
    "        rs = []\n",
    "        for alt in ['two-sided','greater','less']:\n",
    "            #print(a.values, b.values)\n",
    "            rs.append( pg.ttest( a, b, alternative = alt) )\n",
    "        return pd.concat(rs)\n",
    "\n",
    "    #%debug\n",
    "    import warnings\n",
    "    #warnings.filterwarnings(\"error\")\n",
    "    warnings.filterwarnings(\"ignore\")\n",
    "    #with warnings.catch_warnings(record=True) as w:\n",
    "    ttest_of_corr_abserr = corrs_abserr_per_subj.\\\n",
    "        groupby(['thr']).apply(f)\n",
    "    ttest_of_corr_abserr['varn'] = varn\n",
    "    dfs += [ttest_of_corr_abserr]\n",
    "\n",
    "dfr = pd.concat(dfs)\n",
    "dfr = dfr.rename(columns={'p-val':'pval'})\n",
    "\n",
    "corrs_abserr = corrs_abserr.rename(columns={'p-val':'pval'})"
   ]
  },
  {
   "cell_type": "code",
   "execution_count": null,
   "id": "6d0f0bb5",
   "metadata": {
    "hidden": true
   },
   "outputs": [],
   "source": [
    "corrs_abserr_per_subj"
   ]
  },
  {
   "cell_type": "code",
   "execution_count": null,
   "id": "365121ee",
   "metadata": {
    "hidden": true
   },
   "outputs": [],
   "source": [
    "print(getAddInfo())\n",
    "#display( corrs[corrs['pval'] < 5e-2] )\n",
    "with pd.option_context('display.max_rows', 500):\n",
    "    dfr = dfr[dfr['pval'] <= 0.05]\n",
    "    display(dfr.query('thr == \"mestd*1.0\"' ))# and alternative==\"two-sided\"'))\n",
    "    #display(dfr.query('thr == \"mestd*1.0\" and pert_stage_wb in [0,2,4]'))"
   ]
  },
  {
   "cell_type": "code",
   "execution_count": null,
   "id": "4e6e5704",
   "metadata": {
    "hidden": true
   },
   "outputs": [],
   "source": [
    "print(getAddInfo())\n",
    "thrs = [\"mestd*1.0\", \"mestd*0\"]\n",
    "qs = 'thr in @thrs'\n",
    "corrs_ = corrs_abserr.query(qs)\n",
    "display( corrs_[corrs_['pval'] < 5e-2] )\n",
    "with pd.option_context('display.max_rows', 500):\n",
    "    dfr_ = dfr.query('varn == \"error_abs\" and pval < 0.05')\n",
    "    display(dfr_.query(qs))\n",
    "    #display(dfr_.query('thr == \"mestd*1.0\"))"
   ]
  },
  {
   "cell_type": "code",
   "execution_count": null,
   "id": "806d7fdb",
   "metadata": {
    "hidden": true
   },
   "outputs": [],
   "source": [
    "pg.__version__"
   ]
  },
  {
   "cell_type": "code",
   "execution_count": null,
   "id": "1880caff",
   "metadata": {
    "hidden": true
   },
   "outputs": [],
   "source": [
    "# signed error\n",
    "def f(df_):\n",
    "    r = pg.corr( df_['error'], df_['err_sens'],  method='spearman')\n",
    "    return r\n",
    "corrs_err_per_subj = dfall.groupby(['thr','subject','env']).apply(f)\n",
    "\n",
    "\n",
    "# preverror\n",
    "def f(df_):\n",
    "    r = pg.corr( df_['prev_error_abs'], df_['err_sens'],  method='spearman')\n",
    "    return r\n",
    "corrs_prevabserr_per_subj = dfall.groupby(['thr','subject','env']).apply(f)\n",
    "\n",
    "def f(df_):    \n",
    "    a = df_.query('env == \"stable\"')['r']\n",
    "    b = df_.query('env == \"random\"')['r']\n",
    "    rs = []\n",
    "    for alt in ['two-sided','greater','less']:\n",
    "        rs.append( pg.ttest( a, b, alternative = alt) )\n",
    "    return pd.concat(rs)\n",
    "ttest_of_corr_prevabserr = corrs_prevabserr_per_subj.groupby(['thr']).apply(f)\n",
    "display(ttest_of_corr_prevabserr)"
   ]
  },
  {
   "cell_type": "code",
   "execution_count": null,
   "id": "056be1e3",
   "metadata": {
    "hidden": true
   },
   "outputs": [],
   "source": [
    "#dfall.set_index()"
   ]
  },
  {
   "cell_type": "code",
   "execution_count": null,
   "id": "e7f9458b",
   "metadata": {
    "hidden": true
   },
   "outputs": [],
   "source": [
    "len(dfall), len(dfall_aug)"
   ]
  },
  {
   "cell_type": "code",
   "execution_count": null,
   "id": "a4154bcf",
   "metadata": {
    "hidden": true
   },
   "outputs": [],
   "source": [
    "#np.cov( df_['error_abs'].values[:10], df_['error_abs'].values[:10])"
   ]
  },
  {
   "cell_type": "code",
   "execution_count": null,
   "id": "81f8c637",
   "metadata": {
    "hidden": true
   },
   "outputs": [],
   "source": [
    "def f(df_):\n",
    "    #df_.query('err_sens < inf')\n",
    "    r = np.cov( df_['err_sens'].values, df_['error'].values )\n",
    "    return r[0,1] / r[1,1]\n",
    "covs_err_per_subj = dfall.groupby(['thr','subject','env']).apply(f).to_frame().reset_index().rename(columns={0:'cov'})\n",
    "\n",
    "def f(df_):\n",
    "    #df_.query('err_sens < inf')\n",
    "    r = np.cov( df_['err_sens'].values, df_['error_abs'].values )\n",
    "    return r[0,1] / r[1,1]\n",
    "covs_abserr_per_subj = dfall.groupby(['thr','subject','env']).apply(f).to_frame().reset_index().rename(columns={0:'covabs'})\n",
    "\n",
    "def f(df_):\n",
    "    #df_.query('err_sens < inf')\n",
    "    r = np.cov( df_['err_sens'].values, df_['prev_error_abs'].values  )\n",
    "    return r[0,1] / r[1,1]\n",
    "covs_prevabserr_per_subj = dfall.groupby(['thr','subject','env']).apply(f)\n",
    "covs_prevabserr_per_subj = covs_prevabserr_per_subj.to_frame().reset_index().rename(columns={0:'covabsprev'})\n",
    "\n",
    "display(covs_err_per_subj)\n",
    "display(covs_abserr_per_subj)\n",
    "display(covs_prevabserr_per_subj)"
   ]
  },
  {
   "cell_type": "code",
   "execution_count": null,
   "id": "27d213ed",
   "metadata": {
    "hidden": true
   },
   "outputs": [],
   "source": [
    "#dfall_aug.columns"
   ]
  },
  {
   "cell_type": "code",
   "execution_count": null,
   "id": "5819a556",
   "metadata": {
    "hidden": true
   },
   "outputs": [],
   "source": [
    "#dfall_aug.groupby(['thr','subject','env'])['r'].std().max()"
   ]
  },
  {
   "cell_type": "code",
   "execution_count": null,
   "id": "782b9d57",
   "metadata": {
    "hidden": true
   },
   "outputs": [],
   "source": [
    "dfall_aug = dfall.merge(covs_abserr_per_subj, on = ['thr','subject','env'])\n",
    "dfall_aug = dfall_aug.merge(covs_prevabserr_per_subj, on = ['thr','subject','env'])\n",
    "dfall_aug = dfall_aug.merge(covs_err_per_subj, on = ['thr','subject','env'])\n",
    "\n",
    "dfall_aug = dfall_aug.assign(err_sens_abserrcorr = \\\n",
    "            dfall_aug['err_sens'] - dfall_aug['error_abs'] * dfall_aug['covabs'])\n",
    "dfall_aug = dfall_aug.assign(err_sens_errcorr = \\\n",
    "            dfall_aug['err_sens'] - dfall_aug['error'] * dfall_aug['cov'])\n",
    "dfall_aug = dfall_aug.assign(err_sens_prevabserrcorr = \\\n",
    "            dfall_aug['err_sens'] - dfall_aug['prev_error_abs'] * dfall_aug['covabsprev'])\n",
    "\n",
    "#dfall_aug = dfall_aug.drop(columns=['r', 'ES_y'])"
   ]
  },
  {
   "cell_type": "code",
   "execution_count": null,
   "id": "8b7cc5ac",
   "metadata": {
    "hidden": true
   },
   "outputs": [],
   "source": [
    "dfall_aug[['err_sens','err_sens_abserrcorr','cov', 'error_abs']]"
   ]
  },
  {
   "cell_type": "code",
   "execution_count": null,
   "id": "9c2133c1",
   "metadata": {
    "hidden": true
   },
   "outputs": [],
   "source": [
    "# zoom in\n",
    "df_ = dfall_aug.query('thr == \"mestd*1.0\"').copy()\n",
    "c = 1 / np.pi  * 180\n",
    "for varn,pertc in [('error_pscadj', 1.), ('err_sens', 0.04), \n",
    "        ('err_sens_abserrcorr', 0.04), ('err_sens_errcorr', 0.04)]:\n",
    "    #varn = 'org_feedback'\n",
    "    #for varn in     \n",
    "    #for truncs, df in zip(['truncate q=5%','truncate no'],[dfc, dfc0]):\n",
    "    #for truncs, dfall in zip(['truncate q=5%'],[df_]):\n",
    "    varn_eff = varn\n",
    "    if varn.startswith('org_feedback'):\n",
    "        df_['vtp'] = np.array(df_[varn]) * c# - 180\n",
    "        varn_eff = 'vtp'\n",
    "    elif varn.startswith('error'):\n",
    "        df_['vtp'] = np.array(df_[varn]) * c \n",
    "        varn_eff = 'vtp'\n",
    "    #elif varn.startswith('err_sens'):\n",
    "    #    pert_shift = \n",
    "        #df['vtp'] = np.array(df[varn]) \n",
    "        #varn_eff = 'vtp'\n",
    "\n",
    "    #plt.figure(figsize=(18,4))\n",
    "    fg = sns.relplot(data=df_, kind='line', x=\"trials\", y=varn_eff, col='thr',\n",
    "                     estimator='mean', ci='sd', height=3, aspect=3)\n",
    "\n",
    "    for ax in fg.axes.flatten():\n",
    "        ax.plot(tr, pert * pertc, c='violet', ls= '--')\n",
    "        ax.plot(tr, envv * 30 * pertc, c='black', lw=0, marker='.' ,alpha=0.2)\n",
    "        #ax.set_title(f'{varn}  {truncs}')\n",
    "        ax.set_ylabel(varn )\n",
    "        ax.axhline(0,ls=':',c='red', alpha=0.7)\n",
    "        addTitleInfo(ax)\n",
    "    # sns.lineplot(ax=ax, x=\"trials\", y=\"perturbation\",\n",
    "    #              data=dfc.query('pert_seq_code == 0') )\n",
    "\n",
    "    #plt.legend(title=None, loc='lower right',\n",
    "    #           labels=['within tgt', '_nolegend_', 'across tgt'])\n",
    "    #ax.set_ylim(-0.25,0.3)\n",
    "    if varn.startswith('err_sens'):\n",
    "        for ax in fg.axes.flatten():\n",
    "            ax.set_ylim(-3,3)\n",
    "    else:\n",
    "        for ax in fg.axes.flatten():\n",
    "            ax.set_ylim(-35,35)"
   ]
  },
  {
   "cell_type": "code",
   "execution_count": null,
   "id": "5b73ce57",
   "metadata": {
    "hidden": true,
    "run_control": {
     "marked": false
    }
   },
   "outputs": [],
   "source": [
    "df_ = dfall_aug\n",
    "c = 1 / np.pi  * 180\n",
    "for varn,pertc in [('error_pscadj', 1.), ('err_sens', 0.04),                    \n",
    "        ('err_sens_abserrcorr', 0.04), \n",
    "                   ('err_sens_prevabserrcorr', 0.04),\n",
    "                  ('err_sens_errcorr', 0.04),]:\n",
    "    #varn = 'org_feedback'\n",
    "    #for varn in     \n",
    "    #for truncs, df in zip(['truncate q=5%','truncate no'],[dfc, dfc0]):\n",
    "    #for truncs, dfall in zip(['truncate q=5%'],[df_]):\n",
    "    varn_eff = varn\n",
    "    if varn.startswith('org_feedback'):\n",
    "        df_['vtp'] = np.array(df_[varn]) * c# - 180\n",
    "        varn_eff = 'vtp'\n",
    "    elif varn.startswith('error'):\n",
    "        df_['vtp'] = np.array(df_[varn]) * c \n",
    "        varn_eff = 'vtp'\n",
    "    #elif varn.startswith('err_sens'):\n",
    "    #    pert_shift = \n",
    "        #df['vtp'] = np.array(df[varn]) \n",
    "        #varn_eff = 'vtp'\n",
    "\n",
    "    #plt.figure(figsize=(12,4))\n",
    "    fg = sns.relplot(data=df_, kind='line', x=\"trials\", y=varn_eff, \n",
    "                     col='thr', estimator='mean', ci='sd', height=4)\n",
    "\n",
    "    for ax in fg.axes.flatten():\n",
    "        ax.plot(tr, pert * pertc, c='violet', ls= '--')\n",
    "        ax.plot(tr, envv * 30 * pertc, c='black', lw=0, marker='.' ,alpha=0.2)\n",
    "        #ax.set_title(f'{varn}  {truncs}')\n",
    "        ax.set_ylabel(varn, fontsize = 20 )\n",
    "        ax.axhline(0,ls=':',c='red', alpha=0.7)\n",
    "    # sns.lineplot(ax=ax, x=\"trials\", y=\"perturbation\",\n",
    "    #              data=dfc.query('pert_seq_code == 0') )\n",
    "\n",
    "    #plt.legend(title=None, loc='lower right',\n",
    "    #           labels=['within tgt', '_nolegend_', 'across tgt'])\n",
    "    #ax.set_ylim(-0.25,0.3)\n",
    "    if varn.startswith('err_sens'):\n",
    "        for ax in fg.axes.flatten():\n",
    "            ax.set_ylim(-5,5)\n",
    "    \n",
    "    addTitleInfo(fg.axes.flatten()[0])"
   ]
  },
  {
   "cell_type": "code",
   "execution_count": null,
   "id": "0079dc4f",
   "metadata": {
    "hidden": true
   },
   "outputs": [],
   "source": [
    "gc.collect()"
   ]
  },
  {
   "cell_type": "markdown",
   "id": "07f1080f",
   "metadata": {
    "heading_collapsed": true
   },
   "source": [
    "# Within pert stage time resolved plots (Fig 3)"
   ]
  },
  {
   "cell_type": "code",
   "execution_count": null,
   "id": "5514d9aa",
   "metadata": {
    "hidden": true
   },
   "outputs": [],
   "source": [
    "dfall = dfall.reset_index()"
   ]
  },
  {
   "cell_type": "code",
   "execution_count": null,
   "id": "6fcda0de",
   "metadata": {
    "hidden": true
   },
   "outputs": [],
   "source": [
    "dfc = dfall_aug.query('thr == \"mestd*1.0\"')\n",
    "dfc['trialwpertstage_wb'] = dfc['trialwpertstage_wb'].\\\n",
    "    where(dfc['environment'] == 0, dfc['trialwb'])\n",
    "dfc['trialwpertstage_wb'] = dfc['trialwpertstage_wb'].astype(int)\n",
    "\n",
    "dfc.duplicated(['subject','trials']).any()\n",
    "# nan-ify after pause\n",
    "dfc.loc[dfc['trialwb'] == 0, 'err_sens'] = np.nan"
   ]
  },
  {
   "cell_type": "code",
   "execution_count": null,
   "id": "888395b4",
   "metadata": {
    "hidden": true
   },
   "outputs": [],
   "source": [
    "sns.__version__"
   ]
  },
  {
   "cell_type": "code",
   "execution_count": null,
   "id": "f9119bda",
   "metadata": {
    "hidden": true
   },
   "outputs": [],
   "source": [
    "dfall_notclean.query('thr == \"mestd*1.0\" and trialwpertstage_wb.isin([0,1]) and pert_stage_wb.isin([1,3])').\\\n",
    "    sort_values(['thr','subject',\n",
    "            'pert_stage','trials'])\\\n",
    "    [['subject','trials','trialwb','pert_stage','err_sens','error']]"
   ]
  },
  {
   "cell_type": "code",
   "execution_count": null,
   "id": "b1864813",
   "metadata": {
    "hidden": true
   },
   "outputs": [],
   "source": [
    "# dfc.query('trialwb == 0')\\\n",
    "#     [['subject','trials','trialwb','block_name','err_sens','error']]"
   ]
  },
  {
   "cell_type": "markdown",
   "id": "7a03de37",
   "metadata": {
    "heading_collapsed": true,
    "hidden": true
   },
   "source": [
    "## Fig 3"
   ]
  },
  {
   "cell_type": "code",
   "execution_count": null,
   "id": "6fe29e44",
   "metadata": {
    "hidden": true
   },
   "outputs": [],
   "source": [
    "pswb2r = corrs_per_subj_me_ES_pearson.loc[('mestd*1.0',slice(None))].\\\n",
    "    to_dict()\n",
    "print(pswb2r)\n",
    "def f(row):\n",
    "    ps = row['pert_stage_wb']\n",
    "    r = pswb2r['r'][ps]\n",
    "    std_x = pswb2r['std_x'][ps]\n",
    "    mean_x = pswb2r['mean_x'][ps]\n",
    "    std_y = pswb2r['std_y'][ps]\n",
    "    mean_y = pswb2r['mean_y'][ps]\n",
    "    xs = row['trialwpertstage_wb']\n",
    "    return mean_y + r * (xs - mean_x) / std_x * std_y \n",
    "dfc['pred'] = dfc.apply(f, axis=1)\n",
    "#corrs_per_subj_me_ES['r'] * dfc['error_abs']\n",
    "\n",
    "pswb2r = pcorrs_per_subj_me.loc[('mestd*1.0',slice(None))].\\\n",
    "    to_dict()\n",
    "print(pswb2r)\n",
    "def f(row):\n",
    "    ps = row['pert_stage_wb']\n",
    "    if ps == -1:\n",
    "        return None\n",
    "    r = pswb2r['r'][ps]\n",
    "    std_x = pswb2r['std_x'][ps]\n",
    "    mean_x = pswb2r['mean_x'][ps]\n",
    "    std_y = pswb2r['std_y'][ps]\n",
    "    mean_y = pswb2r['mean_y'][ps]\n",
    "    #mean_z =  pswb2r['mean_z'][ps]\n",
    "    xs = row['trialwpertstage_wb']\n",
    "    return mean_y + r * (xs - mean_x) / std_x * std_y# + mean_z\n",
    "dfc['ppred'] = dfc.apply(f, axis=1)"
   ]
  },
  {
   "cell_type": "code",
   "execution_count": null,
   "id": "63d953ca",
   "metadata": {
    "hidden": true
   },
   "outputs": [],
   "source": []
  },
  {
   "cell_type": "code",
   "execution_count": null,
   "id": "5257e6b7",
   "metadata": {
    "hidden": true,
    "run_control": {
     "marked": false
    }
   },
   "outputs": [],
   "source": [
    "# dfc['pred'] = corrs_per_subj_me_ES['r'] * dfc['error_abs']\n",
    "fdsfsd"
   ]
  },
  {
   "cell_type": "code",
   "execution_count": null,
   "id": "b48c56b3",
   "metadata": {
    "hidden": true
   },
   "outputs": [],
   "source": [
    "#fg.axes_dict.keys()\n",
    "#dict_keys(['pre', 'pert', 'washout', 'rnd'])\n",
    "#fg."
   ]
  },
  {
   "cell_type": "code",
   "execution_count": null,
   "id": "d82a0eff",
   "metadata": {
    "hidden": true
   },
   "outputs": [],
   "source": [
    "fg.col_names"
   ]
  },
  {
   "cell_type": "code",
   "execution_count": null,
   "id": "bc0aeaee",
   "metadata": {
    "hidden": true
   },
   "outputs": [],
   "source": [
    "hue_order = dfc['pert_stage_wb'].unique()\n",
    "col_order = ['pre', 'pert', 'washout', 'rnd']\n",
    "hues = [[0],[1,3],[2,4],[5]]\n",
    "\n",
    "# TODO: add fit\n",
    "# TODO: start of pert\n",
    "# TODO: sd instead of se\n",
    "palette=['blue', 'orange', 'green', 'olive','cyan','brown']\n",
    "df_ = dfc.query('trial_shift_size == 1')\n",
    "fg = sns.relplot(data=df_, kind='line',\n",
    "            x='trialwpertstage_wb', col='ps_',\n",
    "           y='err_sens', hue='pert_stage_wb',\n",
    "                 ci = 'sd', palette = palette,\n",
    "           facet_kws={'sharex':False},\n",
    "                 hue_order=hue_order,\n",
    "            col_order = col_order, legend=None)\n",
    "# for ax in fg.axes.flatten():\n",
    "#     ax.axhline(0,ls=':',c='red', alpha=0.7)\n",
    "addTitleInfo(fg.axes.flat[0])\n",
    "    \n",
    "for i, ax in enumerate(fg.axes.flat):\n",
    "    col_ = fg.col_names[i]\n",
    "    if col_ == 'rnd':\n",
    "        continue\n",
    "    sp = np.array(palette)[hues[i]]\n",
    "    sp = list(sp)\n",
    "    sns.lineplot(data=df_[df_['ps_'] == col_], \n",
    "        x='trialwpertstage_wb', y='pred', \n",
    "        hue='pert_stage_wb', ax=ax, legend=None,\n",
    "                palette = sp, dashes=[4,2])\n",
    "    \n",
    "print(fg.hue_kws, fg.hue_names)\n",
    "fg.refline(y=0, color='red')\n",
    "#fg.map(plt.hist, 'tip').refline(0.15)\n",
    "    \n",
    "fg.set_titles('{col_name}')\n",
    "fg.set_xlabels('Trial number')\n",
    "fg.set_ylabels('Error sensitivy')\n",
    "    \n",
    "lablet = 'A'\n",
    "ax = fg.axes.flat[0]\n",
    "ax.annotate(lablet, xy=(0, 1), xytext=(-60, 40), \n",
    "  fontsize=19, fontweight='bold', va='top', ha='left',\n",
    "  xycoords='axes fraction', textcoords='offset points')\n",
    "fnfig = pjoin(path_fig, f'Fig3_{lablet}_dynESpert_stage.pdf')\n",
    "plt.savefig(fnfig)\n",
    "plt.tight_layout()\n",
    "plt.show()\n",
    "\n",
    "###############################\n",
    "\n",
    "palette=['blue', 'orange', 'green', 'olive','cyan','brown']\n",
    "df_ = dfc.query('trial_shift_size == 1')\n",
    "fg = sns.relplot(data=df_, kind='line',\n",
    "            x='trialwpertstage_wb', col='ps_',\n",
    "           y='err_sens_abserrcorr', hue='pert_stage_wb',\n",
    "                 ci = 'sd', palette = palette,\n",
    "           facet_kws={'sharex':False},\n",
    "                 hue_order=hue_order,\n",
    "            col_order = col_order, legend=None)\n",
    "# for ax in fg.axes.flatten():\n",
    "#     ax.axhline(0,ls=':',c='red', alpha=0.7)\n",
    "addTitleInfo(fg.axes.flat[0])\n",
    "    \n",
    "for i, ax in enumerate(fg.axes.flat):\n",
    "    col_ = fg.col_names[i]\n",
    "    if col_ == 'rnd':\n",
    "        continue\n",
    "    sp = np.array(palette)[hues[i]]\n",
    "    sp = list(sp)\n",
    "    sns.lineplot(data=df_[df_['ps_'] == col_], \n",
    "        x='trialwpertstage_wb', y='ppred', \n",
    "        hue='pert_stage_wb', ax=ax, legend=None,\n",
    "                palette = sp, dashes=[4,2])\n",
    "    \n",
    "print(fg.hue_kws, fg.hue_names)\n",
    "fg.refline(y=0, color='red')\n",
    "\n",
    "fg.set_titles('{col_name}')\n",
    "fg.set_xlabels('Trial number')\n",
    "fg.set_ylabels('Error sensitivy conditioned\\non absolut error')\n",
    "\n",
    "\n",
    "lablet = 'B'\n",
    "ax = fg.axes.flat[0]\n",
    "ax.annotate(lablet, xy=(0, 1), xytext=(-60, 40), \n",
    "  fontsize=19, fontweight='bold', va='top', ha='left',\n",
    "  xycoords='axes fraction', textcoords='offset points')\n",
    "fnfig = pjoin(path_fig, f'Fig3_{lablet}_dynESpert_stage.pdf')\n",
    "plt.savefig(fnfig)\n",
    "plt.tight_layout()\n",
    "plt.show()"
   ]
  },
  {
   "cell_type": "code",
   "execution_count": null,
   "id": "377076a7",
   "metadata": {
    "hidden": true
   },
   "outputs": [],
   "source": [
    "gc.collect()"
   ]
  },
  {
   "cell_type": "code",
   "execution_count": null,
   "id": "ced9d271",
   "metadata": {
    "hidden": true
   },
   "outputs": [],
   "source": [
    "#corrs_per_subj_me_errabs.info()"
   ]
  },
  {
   "cell_type": "code",
   "execution_count": null,
   "id": "4db9af69",
   "metadata": {
    "hidden": true
   },
   "outputs": [],
   "source": [
    "df_[['ps_','pert_stage_wb','err_sens','trialwpertstage_wb',\n",
    "    'subject']].info()"
   ]
  },
  {
   "cell_type": "code",
   "execution_count": null,
   "id": "f44e43c6",
   "metadata": {
    "hidden": true
   },
   "outputs": [],
   "source": [
    "dfc['ps_'].unique()"
   ]
  },
  {
   "cell_type": "code",
   "execution_count": null,
   "id": "5231a8fe",
   "metadata": {
    "hidden": true
   },
   "outputs": [],
   "source": []
  },
  {
   "cell_type": "code",
   "execution_count": null,
   "id": "90661b9b",
   "metadata": {
    "hidden": true
   },
   "outputs": [],
   "source": [
    "#dfc[['err_sens', 'err_sens_abserrcorr']]"
   ]
  },
  {
   "cell_type": "code",
   "execution_count": null,
   "id": "c466b7d5",
   "metadata": {
    "hidden": true
   },
   "outputs": [],
   "source": [
    "df_ = dfc.query('trial_shift_size == 1 and environment == 0 and pert_stage_wb in [1,3]')\n",
    "ax = sns.lineplot(x=\"trialwpertstage_wb\", \n",
    "        y='err_sens',  estimator='mean',\n",
    "                  #hue = 'pert_stage', # errorbar='se',\n",
    "                  hue = 'pert_stage', \n",
    "         data=df_, color='#DE8F03')#, hue='trial_group_col_calc')\n",
    "ax.legend(loc='lower right')\n",
    "ax.axhline(0,ls=':',c='red', alpha=0.7)\n",
    "ax.set_title('ES uncorr')\n",
    "addTitleInfo(ax)\n",
    "plt.show()\n",
    "\n",
    "ax = sns.lineplot(x=\"trialwpertstage_wb\", \n",
    "        y='err_sens_abserrcorr',  estimator='mean',\n",
    "                  #hue = 'pert_stage', # errorbar='se',\n",
    "                  hue = 'pert_stage', \n",
    "         data=df_, color='#DE8F03')#, hue='trial_group_col_calc')\n",
    "ax.legend(loc='lower right')\n",
    "ax.axhline(0,ls=':',c='red', alpha=0.7)\n",
    "ax.set_title('ES corr by abs err')\n",
    "addTitleInfo(ax)\n",
    "plt.show()\n",
    "\n",
    "ax = sns.lineplot(x=\"trialwpertstage_wb\", \n",
    "        y='err_sens_errcorr',  estimator='mean',\n",
    "                  #hue = 'pert_stage', # errorbar='se',\n",
    "                  hue = 'pert_stage', \n",
    "         data=df_, color='#DE8F03')#, hue='trial_group_col_calc')\n",
    "ax.legend(loc='lower right')\n",
    "ax.axhline(0,ls=':',c='red', alpha=0.7)\n",
    "ax.set_title('ES corr by err')\n",
    "addTitleInfo(ax)"
   ]
  },
  {
   "cell_type": "markdown",
   "id": "bb5effbc",
   "metadata": {
    "hidden": true
   },
   "source": [
    "### on one axis"
   ]
  },
  {
   "cell_type": "code",
   "execution_count": null,
   "id": "206dbd0e",
   "metadata": {
    "hidden": true
   },
   "outputs": [],
   "source": [
    "p = [0,2,4]\n",
    "\n",
    "df_ = dfc.query('trial_shift_size == 1 and environment == 0 and pert_stage_wb in @p')\n",
    "ax = sns.lineplot(x=\"trialwpertstage_wb\", \n",
    "        y='err_sens',  estimator='mean',\n",
    "                  #hue = 'pert_stage', # errorbar='se',\n",
    "                  hue = 'pert_stage', \n",
    "         data=df_, color='#DE8F03')#, hue='trial_group_col_calc')\n",
    "ax.legend(loc='lower right')\n",
    "ax.axhline(0,ls=':',c='red', alpha=0.7)\n",
    "ax.set_title('ES uncorr')\n",
    "addTitleInfo(ax)\n",
    "plt.show()\n",
    "\n",
    "ax = sns.lineplot(x=\"trialwpertstage_wb\", \n",
    "        y='err_sens_abserrcorr',  estimator='mean',\n",
    "                  #hue = 'pert_stage', # errorbar='se',\n",
    "                  hue = 'pert_stage', \n",
    "         data=df_, color='#DE8F03')#, hue='trial_group_col_calc')\n",
    "ax.legend(loc='lower right')\n",
    "ax.axhline(0,ls=':',c='red', alpha=0.7)\n",
    "ax.set_title('ES corr by abs err')\n",
    "addTitleInfo(ax)\n",
    "plt.show()\n",
    "\n",
    "ax = sns.lineplot(x=\"trialwpertstage_wb\", \n",
    "        y='err_sens_errcorr',  estimator='mean',\n",
    "                  #hue = 'pert_stage', # errorbar='se',\n",
    "                  hue = 'pert_stage', \n",
    "         data=df_, color='#DE8F03')#, hue='trial_group_col_calc')\n",
    "ax.legend(loc='lower right')\n",
    "ax.axhline(0,ls=':',c='red', alpha=0.7)\n",
    "ax.set_title('ES corr by err')\n",
    "addTitleInfo(ax)"
   ]
  },
  {
   "cell_type": "code",
   "execution_count": null,
   "id": "693a36d4",
   "metadata": {
    "hidden": true
   },
   "outputs": [],
   "source": [
    "df_ = dfc.query('trial_shift_size == 1 and environment == 1')\n",
    "ax = sns.lineplot(x=\"trialwb\", \n",
    "        y='err_sens',  estimator='mean',\n",
    "                  #hue = 'pert_stage', # errorbar='se',\n",
    "                  hue = 'block_name', \n",
    "         data=df_, color='#DE8F03')#, hue='trial_group_col_calc')\n",
    "ax.legend(loc='lower right')\n",
    "ax.axhline(0,ls=':',c='red', alpha=0.7)\n",
    "plt.show()\n",
    "\n",
    "df_ = dfc.query('trial_shift_size == 1 and environment == 1')\n",
    "ax = sns.lineplot(x=\"trialwb\", \n",
    "        y='err_sens_abserrcorr',  estimator='mean',\n",
    "                  #hue = 'pert_stage', # errorbar='se',\n",
    "                  hue = 'block_name', \n",
    "         data=df_, color='#DE8F03')#, hue='trial_group_col_calc')\n",
    "ax.legend(loc='lower right')\n",
    "ax.axhline(0,ls=':',c='red', alpha=0.7)"
   ]
  },
  {
   "cell_type": "code",
   "execution_count": null,
   "id": "7fb2fac3",
   "metadata": {
    "hidden": true
   },
   "outputs": [],
   "source": [
    "gc.collect()"
   ]
  },
  {
   "cell_type": "markdown",
   "id": "874445a9",
   "metadata": {
    "heading_collapsed": true
   },
   "source": [
    "# variability"
   ]
  },
  {
   "cell_type": "code",
   "execution_count": null,
   "id": "3ecaf20b",
   "metadata": {
    "hidden": true
   },
   "outputs": [],
   "source": [
    "#dfc = dfall_aug.query('thr == \"mestd*1.0\"')\n",
    "dfc = dfall_aug.query('thr == \"mestd*1.0\"')\n",
    "dfc['trialwpertstage_wb'] = dfc['trialwpertstage_wb'].\\\n",
    "    where(dfc['environment'] == 0, dfc['trialwb'])\n",
    "dfc['trialwpertstage_wb'] = dfc['trialwpertstage_wb'].astype(int)\n",
    "\n",
    "dfc.duplicated(['subject','trials']).any()\n",
    "# nan-ify after pause\n",
    "dfc.loc[dfc['trialwb'] == 0, 'err_sens'] = np.nan"
   ]
  },
  {
   "cell_type": "code",
   "execution_count": null,
   "id": "2fe2d8f4",
   "metadata": {
    "hidden": true
   },
   "outputs": [],
   "source": [
    "def f(x):    \n",
    "    if x > np.pi:\n",
    "        x -= 2*np.pi\n",
    "    elif x < -np.pi:\n",
    "        x += 2*np.pi\n",
    "    return x\n",
    "dfc['error_pscadj'] = dfc['error_pscadj'].apply(f)"
   ]
  },
  {
   "cell_type": "code",
   "execution_count": null,
   "id": "405f3644",
   "metadata": {
    "hidden": true
   },
   "outputs": [],
   "source": [
    "dfc['error_change'] = dfc['error'] - dfc['error'].shift(1)"
   ]
  },
  {
   "cell_type": "code",
   "execution_count": null,
   "id": "cb38525c",
   "metadata": {
    "hidden": true
   },
   "outputs": [],
   "source": [
    "dfcs = dfc.sort_values(['pert_seq_code', 'subject', 'trial_group_col_calc','trials'])\n",
    "grp = dfcs.\\\n",
    "    groupby(['pert_seq_code', 'subject', 'trial_group_col_calc'] )\n",
    "# grp = dfcs.\\\n",
    "#     groupby(['trial_group_col_calc','subject'] )\n",
    "\n",
    "\n",
    "\n",
    "mavsz = 10\n",
    "std_mavsz = 5\n",
    "#vars_to_plot = ['err_sens','error', 'org_feedback']\n",
    "vars_to_plot = ['err_sens','error_pscadj', 'error_change'] #, 'org_feedback_pscadj']\n",
    "for varn in vars_to_plot:\n",
    "    for g,gi in grp.groups.items():\n",
    "        dfcs.loc[gi,f'{varn}_mav'] = dfcs.loc[gi,varn].rolling(mavsz).mean()    \n",
    "        dfcs.loc[gi,f'{varn}_std'] = dfcs.loc[gi,varn].rolling(std_mavsz).std()    "
   ]
  },
  {
   "cell_type": "code",
   "execution_count": null,
   "id": "fa98b929",
   "metadata": {
    "hidden": true
   },
   "outputs": [],
   "source": [
    "for varn in vars_to_plot:\n",
    "    dfcs[f'{varn}_invstd'] = 1/dfcs[f'{varn}_std']"
   ]
  },
  {
   "cell_type": "markdown",
   "id": "b985d646",
   "metadata": {
    "hidden": true
   },
   "source": [
    "## corr with prev errors var"
   ]
  },
  {
   "cell_type": "code",
   "execution_count": null,
   "id": "efaa0729",
   "metadata": {
    "hidden": true
   },
   "outputs": [],
   "source": [
    "#envv"
   ]
  },
  {
   "cell_type": "markdown",
   "id": "e7c61344",
   "metadata": {
    "heading_collapsed": true,
    "hidden": true
   },
   "source": [
    "## plot of var"
   ]
  },
  {
   "cell_type": "code",
   "execution_count": null,
   "id": "87a9c8c3",
   "metadata": {
    "code_folding": [],
    "hidden": true
   },
   "outputs": [],
   "source": [
    "# plot VAR\n",
    "use_var_pubnames = False\n",
    "#%debug\n",
    "for suff in ['std','invstd']:\n",
    "    for varn, pertc in [('error_pscadj', 0.01), ('error_change',0.01), ('err_sens', 0.017)]:\n",
    "        c = 1 / np.pi  * 180\n",
    "        #for truncs, df in zip(['truncate q=5%','truncate no'],[dfc, dfc0]):\n",
    "        for truncs, df in zip(['mestd * 1.0'],[dfcs]):\n",
    "            plt.figure(figsize=(12,4))\n",
    "            #qs = 'trial_group_col_calc in [\"trialwe\",\"trialwtgt_we\"]'\n",
    "            #qs += ' and pert_seq_code == 0'\n",
    "            #df_= df.query(qs)\n",
    "            df_ = df\n",
    "            varn_eff = f\"{varn}_{suff}\"    \n",
    "            ax = sns.lineplot(x=\"trials\", y=varn_eff,  estimator='mean', ci='sd',\n",
    "                         data=df_)\n",
    "            vshift = 0.\n",
    "            if varn.startswith('err_sens'):\n",
    "                vshift = 0.5  \n",
    "            # important to put this legend call before plotting pert and env\n",
    "            #plt.legend(title='', loc='lower right', labels=['within tgt', 'across tgt'])\n",
    "            ax.plot(tr, vshift + pert * pertc, c='violet', ls= '--', label='perturbation')\n",
    "            #ax.plot(tr, vshift + envv * 30 * pertc, c='black', ls = ':', lw=0, marker='.' ,\n",
    "            #        alpha=0.2, label='environment')\n",
    "\n",
    "            axlbl = varn\n",
    "            if use_var_pubnames:\n",
    "                axlbl = var_pubnames[varn]\n",
    "            else:\n",
    "                ax.set_title(f'{varn}  {truncs}')\n",
    "\n",
    "            ax.axhline(0,ls=':',c='red', alpha=0.7)\n",
    "            ax.set_ylabel(axlbl + f'_{suff}' )\n",
    "            addTitleInfo(ax)\n"
   ]
  },
  {
   "cell_type": "code",
   "execution_count": null,
   "id": "59303692",
   "metadata": {
    "hidden": true
   },
   "outputs": [],
   "source": [
    "fg = sns.relplot(kind='line', x=\"trials\", \n",
    "                 y='err_sens_mav',  estimator='mean', ci='sd',\n",
    "                 col='subject', col_wrap=4,\n",
    "                data=df_)\n",
    "for ax in fg.axes.flatten():\n",
    "    ax.plot(tr, vshift + pert * pertc, c='violet', ls= '--', label='perturbation')\n",
    "    ax.axhline(0,ls=':',c='red', alpha=0.7)\n",
    "        \n",
    "plt.suptitle(f'err_sens_mav {mavsz}')\n",
    "addTitleInfo(None)"
   ]
  },
  {
   "cell_type": "code",
   "execution_count": null,
   "id": "d9940998",
   "metadata": {
    "hidden": true
   },
   "outputs": [],
   "source": [
    "# plot MAV\n",
    "use_var_pubnames = False\n",
    "#%debug\n",
    "for varn, pertc in [('error_pscadj', 0.01), \n",
    "                    ('error_change',0.001),\n",
    "                    ('err_sens', 0.017)]:\n",
    "    c = 1 / np.pi  * 180\n",
    "    #for truncs, df in zip(['truncate q=5%','truncate no'],[dfc, dfc0]):\n",
    "    for truncs, df in zip(['mestd * 1.0'],[dfcs]):\n",
    "        plt.figure(figsize=(12,4))\n",
    "        df_ = df\n",
    "        varn_eff = f\"{varn}_mav\"  \n",
    "        ax = sns.lineplot(x=\"trials\", y=varn_eff,  estimator='mean', ci='sd',\n",
    "                     data=df_)\n",
    "\n",
    "        vshift = 0.\n",
    "        if varn.startswith('err_sens'):\n",
    "            vshift = 0.5\n",
    "  \n",
    "        # important to put this legend call before plotting pert and env\n",
    "        #plt.legend(title='', loc='lower right', labels=['within tgt', 'across tgt'])\n",
    "        ax.plot(tr, vshift + pert * pertc, c='violet', ls= '--', label='perturbation')\n",
    "        #ax.plot(tr, vshift + envv * 30 * pertc, c='black', ls = ':', lw=0, marker='.' ,\n",
    "        #        alpha=0.2, label='environment')\n",
    "        \n",
    "        axlbl = varn\n",
    "        if use_var_pubnames:\n",
    "            axlbl = var_pubnames[varn]\n",
    "        else:\n",
    "            ax.set_title(f'{varn}  {truncs}')\n",
    "            \n",
    "        ax.axhline(0,ls=':',c='red', alpha=0.7)\n",
    "        ax.set_ylabel(axlbl + '_mav' )\n",
    "        addTitleInfo(ax)\n",
    "        "
   ]
  },
  {
   "cell_type": "code",
   "execution_count": null,
   "id": "d38c6ea6",
   "metadata": {
    "hidden": true
   },
   "outputs": [],
   "source": [
    "\n",
    "#Modifying @jfb method, gives the function below which worked fine on ipykernel-5.3.4.\n",
    "from IPython.display import display, Javascript\n",
    "def getNotebookName():\n",
    "    display(Javascript('IPython.notebook.kernel.execute(\"NotebookName = \" + \"\\'\"+window.document.getElementById(\"notebook_name\").innerHTML+\"\\'\");'))\n",
    "    try:\n",
    "        _ = type(NotebookName)\n",
    "        return NotebookName\n",
    "    except:\n",
    "        return None\n",
    "getNotebookName()"
   ]
  },
  {
   "cell_type": "code",
   "execution_count": null,
   "id": "a9471829",
   "metadata": {
    "hidden": true
   },
   "outputs": [],
   "source": [
    "dfall.columns"
   ]
  },
  {
   "cell_type": "code",
   "execution_count": null,
   "id": "9490e4a7",
   "metadata": {
    "hidden": true
   },
   "outputs": [],
   "source": [
    "dfall.groupby('subject')['movement_duration'].mean().mean()"
   ]
  },
  {
   "cell_type": "code",
   "execution_count": null,
   "id": "434343be",
   "metadata": {
    "hidden": true
   },
   "outputs": [],
   "source": [
    "dfall.groupby('subject')['trial_duration'].mean().mean()"
   ]
  },
  {
   "cell_type": "code",
   "execution_count": null,
   "id": "311b7b30",
   "metadata": {
    "hidden": true
   },
   "outputs": [],
   "source": [
    "plt.get_su"
   ]
  },
  {
   "cell_type": "code",
   "execution_count": null,
   "id": "b2a4c68d",
   "metadata": {
    "hidden": true
   },
   "outputs": [],
   "source": [
    "\n",
    "os.environ.get(\"NOTEBOOK_PATH\")"
   ]
  },
  {
   "cell_type": "code",
   "execution_count": null,
   "id": "19c182fa",
   "metadata": {
    "hidden": true
   },
   "outputs": [],
   "source": [
    "from "
   ]
  },
  {
   "cell_type": "markdown",
   "id": "61ef53b4",
   "metadata": {
    "heading_collapsed": true
   },
   "source": [
    "# Generalization (Fig 4)"
   ]
  },
  {
   "cell_type": "code",
   "execution_count": null,
   "id": "2d1f54ec",
   "metadata": {
    "hidden": true
   },
   "outputs": [],
   "source": [
    "# Need to re-read entire dataset and don't limit to just one columns calc"
   ]
  },
  {
   "cell_type": "code",
   "execution_count": null,
   "id": "bafa293c",
   "metadata": {
    "hidden": true
   },
   "outputs": [],
   "source": [
    "dfall_mshsz['thr']"
   ]
  },
  {
   "cell_type": "code",
   "execution_count": null,
   "id": "af4cc099",
   "metadata": {
    "hidden": true
   },
   "outputs": [],
   "source": [
    "dfc_multi_tsz = dfall_mshsz.query('thr == \"mestd*1.0\"')\n",
    "#dfc_multi_tsz = dfall_mshsz.query('thr == \"mestd*0\"')"
   ]
  },
  {
   "cell_type": "code",
   "execution_count": null,
   "id": "5e639437",
   "metadata": {
    "hidden": true
   },
   "outputs": [],
   "source": [
    "drs = dfc_multi_tsz['dist_rad_from_prevtgt'].unique();\n",
    "drs_f = np.array( list(map( float, drs) ) )\n",
    "drs = list(sorted(drs,key = lambda x: float(x)))\n",
    "\n",
    "#dfc_s = dfc[dfc['trial_group_col_calc'] == 'trialwtgt_we']\n",
    "# TODO: should I restrict to one env?\n",
    "dfc_s = dfc_multi_tsz.query('trial_group_col_calc == \"trialwe\"')\n",
    "grp = dfc_s.groupby(['trial_shift_size', 'dist_rad_from_prevtgt2'])\n",
    "dts = dfc_multi_tsz['trial_shift_size'].unique()\n",
    "nt = len(dts)"
   ]
  },
  {
   "cell_type": "code",
   "execution_count": null,
   "id": "ec18374b",
   "metadata": {
    "hidden": true
   },
   "outputs": [],
   "source": [
    "drpairs = [(drs[i],drs[i+1] ) for i in range(3)]\n",
    "drpairs += [(drs[0],drs[i] ) for i in range(2,4)]\n",
    "drpairs += [(drs[1],drs[3] )]\n",
    "print(drpairs)\n",
    "\n",
    "dtpairs = [(dts[i],dts[i+1] ) for i in range(3)]\n",
    "dtpairs += [(dts[0],dts[i] ) for i in range(2,4)]\n",
    "dtpairs += [(dts[1],dts[3] )]\n",
    "dtpairs"
   ]
  },
  {
   "cell_type": "code",
   "execution_count": null,
   "id": "51846f68",
   "metadata": {
    "hidden": true
   },
   "outputs": [],
   "source": [
    "def getPvals(dftmp,fitcol,pairs):\n",
    "    from scipy.stats import ttest_ind\n",
    "    pvalues = []\n",
    "    for drp in pairs:\n",
    "        if isinstance(drp[0],str):\n",
    "            vs1 = dftmp.query(f'{fitcol} == \"{drp[0]}\"')['err_sens']\n",
    "            vs2 = dftmp.query(f'{fitcol} == \"{drp[1]}\"')['err_sens']\n",
    "        else:\n",
    "            vs1 = dftmp.query(f'{fitcol} == {drp[0]}')['err_sens']\n",
    "            vs2 = dftmp.query(f'{fitcol} == {drp[1]}')['err_sens']\n",
    "        #ttr = ttest_ind(vs1,vs2)\n",
    "        ttr = ttest_ind(vs1,vs2, alternative='greater')\n",
    "        pvalues += [ttr.pvalue]\n",
    "        \n",
    "        print(drp, ttr.pvalue)\n",
    "    # pvalues = [\n",
    "    #     sci_stats.mannwhitneyu(robots, flight, alternative=\"two-sided\").pvalue,\n",
    "    #     sci_stats.mannwhitneyu(flight, sound, alternative=\"two-sided\").pvalue,\n",
    "    #     sci_stats.mannwhitneyu(robots, sound, alternative=\"two-sided\").pvalue\n",
    "    # ]\n",
    "\n",
    "    # pvalues\n",
    "    # [0.00013485140468088997, 0.2557331102364572, 0.00022985464929005115]\n",
    "\n",
    "    # Transform each p-value to \"p=\" in scientific notation\n",
    "    formatted_pvalues = [f'p={pvalue:.2e}' for pvalue in pvalues]\n",
    "    return pvalues, formatted_pvalues\n",
    "\n",
    "# make polynomial fits\n",
    "def plotPolys(ax, dftmp, fitcol, degs=range(2,6), mean=1):\n",
    "    if mean:\n",
    "        me = dftmp.groupby(fitcol).median(numeric_only=1).reset_index()\n",
    "        dftmp = me\n",
    "    dftmp[fitcol] = pd.to_numeric(dftmp[fitcol] )\n",
    "    esv, dv = dftmp[['err_sens',fitcol]]._values.T\n",
    "    print(np.min(dv),dv,dv-np.min(dv),esv)\n",
    "    #pr = np.polyfit(esv,dv,2)\n",
    "    from numpy.linalg import LinAlgError\n",
    "    dvu = np.unique(dv)\n",
    "    dvu = np.array( list(sorted(dvu)) )\n",
    "    print(dvu)\n",
    "    for deg in degs:\n",
    "        try:\n",
    "            pr = np.polyfit(dv-np.min(dv),esv-np.min(esv),deg)        \n",
    "        except (SystemError,LinAlgError):\n",
    "            print(f'Failed deg={deg}')\n",
    "            print(dv,esv, np.std(dv))\n",
    "            continue\n",
    "            \n",
    "        poly = np.poly1d(pr)\n",
    "        #if len(degs) > 1:\n",
    "        if mean:\n",
    "            lbl = f'polynomial fit of means deg={deg}'\n",
    "        else:\n",
    "            lbl = f'polynomial fit deg={deg}'\n",
    "        #else:\n",
    "        #    lbl = None\n",
    "        esv2 = poly(dvu-np.min(dvu)) + np.min(esv)\n",
    "        print(dvu-np.min(dvu), esv)\n",
    "        ax.plot(range(len(dvu)) , poly(dvu-np.min(dvu)) + np.min(esv), \n",
    "                label=lbl, c='grey', lw=0.85 )\n",
    "    return pr\n",
    "    #ax.legend(loc='lower right')\n",
    "\n",
    "#plotPolys(ax,dftmp,fitcol,mean=0)\n",
    "ax = plt.gca()\n",
    "plotPolys(ax,dftmp,fitcol, degs=rng, mean=meanfit)"
   ]
  },
  {
   "cell_type": "code",
   "execution_count": null,
   "id": "029049e7",
   "metadata": {
    "hidden": true
   },
   "outputs": [],
   "source": [
    "# pooled\n",
    "#%debug\n",
    "\n",
    "hue = 'env'\n",
    "env2color = {'stable':'lightblue', 'random':'orange'}\n",
    "aspect=1.3\n",
    "#rng = [2]\n",
    "#rng = [2,3,4,5,6,7]\n",
    "rng = [2]\n",
    "ylim = [-2,3]\n",
    "meanfit=1\n",
    "bnqs = [  ('grid_line_violin_spatial','Spatial distance [deg]',drs,drpairs,'dist_rad_from_prevtgt2', f'trial_group_col_calc == \"trialwe\" and err_sens >= {ylim[0]} and err_sens <= {ylim[1]} and trial_shift_size == 1'),\n",
    "        ( 'grid_line_violin_temporal','Temporal distance [number of trials]',dts,dtpairs,'trial_shift_size','trial_group_col_calc == \"trialwe\" and dist_rad_from_prevtgt2 == \"0.00\"')]\n",
    "\n",
    "for env_type in ['stable','random']:\n",
    "    color = env2color[env_type]\n",
    "    for bn,xlab,order,pairs,fitcol,qs in bnqs:\n",
    "        #qs0 = f'trial_group_col_calc == \"trialwe\" and err_sens >= {ylim[0]} and err_sens <= {ylim[1]}'\n",
    "        #qs = qs + ' and trial_shift_size == 1'\n",
    "        if env_type in ['stable', 'random']:\n",
    "            qs += ' and env == @env_type'\n",
    "            hue = None\n",
    "\n",
    "        dftmp0 = dfc_multi_tsz.query(qs)\n",
    "        #fitcol = 'dist_rad_from_prevtgt2'\n",
    "        fg = sns.catplot(kind='violin', data=dftmp0, y='err_sens', \n",
    "                         hue=hue, x=fitcol, order = order,\n",
    "                          color=color, aspect=aspect, cut=True)\n",
    "        dftmp = dfc_multi_tsz.query(qs).copy()\n",
    "        pvalues, formatted_pvalues = getPvals(dftmp,fitcol, pairs)\n",
    "\n",
    "\n",
    "        for ax in fg.axes.flatten():\n",
    "            ax.axhline(0,ls=':',c='r')\n",
    "            ax.set_ylabel('Error sensitivity', fontdict={'fontsize':12})\n",
    "            ax.set_xlabel(xlab, fontdict={'fontsize':12} )\n",
    "            if bn == 'grid_line_violin_spatial':\n",
    "                ax.set_xticklabels(['same target', 45, 90, 135])\n",
    "            ax.set_ylim(ylim)\n",
    "            ax.set_title(f'{env_type} environment', y = 0.967,\n",
    "                        fontdict={'fontsize':15, 'fontweight':'bold'})\n",
    "\n",
    "\n",
    "#         from statannotations.Annotator import Annotator    \n",
    "#         annotator = Annotator(ax,pairs, data=dftmp0, x=fitcol, y='err_sens',\n",
    "#                              plot='violinplot', order=order)\n",
    "#         #annotator.set_custom_annotations(formatted_pvalues)\n",
    "#         annotator.set_pvalues(pvalues)\n",
    "#         annotator.annotate()\n",
    "\n",
    "        ax.set_ylim(-2,7)\n",
    "\n",
    "        plotPolys(ax,dftmp,fitcol, degs=rng, mean=meanfit)\n",
    "        #bn = 'grid_line_violin_spatial'\n",
    "        plt.savefig(pjoin(path_fig,'behav',f'pool_{env_type}_{bn}.svg'))\n",
    "        plt.savefig(pjoin(path_fig,'behav',f'pool_{env_type}_{bn}.pdf'))\n"
   ]
  },
  {
   "cell_type": "code",
   "execution_count": null,
   "id": "a0b171f7",
   "metadata": {
    "hidden": true
   },
   "outputs": [],
   "source": [
    "dfc_multi_tsz.groupby(['subject','environment','dist_rad_from_prevtgt2']).size()"
   ]
  },
  {
   "cell_type": "code",
   "execution_count": null,
   "id": "5985dd08",
   "metadata": {
    "hidden": true
   },
   "outputs": [],
   "source": [
    "# not pooled\n",
    "#%debug\n",
    "\n",
    "hue = 'env'\n",
    "env2color = {'stable':'lightblue', 'random':'orange'}\n",
    "aspect=1.3\n",
    "#rng = [2]\n",
    "#rng = [2,3,4,5,6,7]\n",
    "rng = [2]\n",
    "ylim = [-2,3]\n",
    "meanfit=1\n",
    "bnqs = [  ('grid_line_violin_spatial','Spatial distance [deg]',drs,drpairs,'dist_rad_from_prevtgt2', f'trial_group_col_calc == \"trialwe\" and err_sens >= {ylim[0]} and err_sens <= {ylim[1]} and trial_shift_size == 1'),\n",
    "        ( 'grid_line_violin_temporal','Temporal distance [number of trials]',dts,dtpairs,'trial_shift_size','trial_group_col_calc == \"trialwe\" and dist_rad_from_prevtgt2 == \"0.00\"')]\n",
    "\n",
    "for env_type in ['stable','random']:\n",
    "    color = env2color[env_type]\n",
    "    for bn,xlab,order,pairs,fitcol,qs in bnqs:\n",
    "        #qs0 = f'trial_group_col_calc == \"trialwe\" and err_sens >= {ylim[0]} and err_sens <= {ylim[1]}'\n",
    "        #qs = qs + ' and trial_shift_size == 1'\n",
    "        if env_type in ['stable', 'random']:\n",
    "            qs += ' and env == @env_type'\n",
    "            hue = None\n",
    "            \n",
    "        dftmp0 = dfc_multi_tsz.query(qs).groupby(['subject','environment',fitcol])\n",
    "        dftmp0 = dftmp0.mean(numeric_only = True).reset_index()\n",
    "\n",
    "        #dftmp0 = dfc_multi_tsz.query(qs)\n",
    "        #fitcol = 'dist_rad_from_prevtgt2'\n",
    "        fg = sns.catplot(kind='violin', data=dftmp0, y='err_sens', \n",
    "                         hue=hue, x=fitcol, order = order,\n",
    "                          color=color, aspect=aspect, cut=True)\n",
    "        #dftmp = dfc_multi_tsz.query(qs).copy()\n",
    "        dftmp = dftmp0.copy()\n",
    "        pvalues, formatted_pvalues = getPvals(dftmp,fitcol, pairs)\n",
    "\n",
    "\n",
    "        for ax in fg.axes.flatten():\n",
    "            ax.axhline(0,ls=':',c='r')\n",
    "            ax.set_ylabel('Error sensitivity', fontdict={'fontsize':12})\n",
    "            ax.set_xlabel(xlab, fontdict={'fontsize':12} )\n",
    "            if bn == 'grid_line_violin_spatial':\n",
    "                ax.set_xticklabels(['same target', 45, 90, 135])\n",
    "            ax.set_ylim(ylim)\n",
    "            ax.set_title(f'{env_type} environment', y = 0.967,\n",
    "                        fontdict={'fontsize':15, 'fontweight':'bold'})\n",
    "\n",
    "\n",
    "#         from statannotations.Annotator import Annotator    \n",
    "#         annotator = Annotator(ax,pairs, data=dftmp0, x=fitcol, y='err_sens',\n",
    "#                              plot='violinplot', order=order)\n",
    "#         #annotator.set_custom_annotations(formatted_pvalues)\n",
    "#         annotator.set_pvalues(pvalues)\n",
    "#         annotator.annotate()\n",
    "\n",
    "        ax.set_ylim(-1,1.5)\n",
    "\n",
    "        plotPolys(ax,dftmp,fitcol, degs=rng, mean=meanfit)\n",
    "        #bn = 'grid_line_violin_spatial'\n",
    "        plt.savefig(pjoin(path_fig,'behav',f'nopool_{env_type}_{bn}.svg'))\n",
    "        plt.savefig(pjoin(path_fig,'behav',f'nopool_{env_type}_{bn}.pdf'))\n"
   ]
  },
  {
   "cell_type": "markdown",
   "id": "989c3021",
   "metadata": {
    "heading_collapsed": true
   },
   "source": [
    "# MDS"
   ]
  },
  {
   "cell_type": "code",
   "execution_count": null,
   "id": "0da7ab7b",
   "metadata": {
    "hidden": true
   },
   "outputs": [],
   "source": [
    "p = [1,3]\n",
    "#p = [1]\n",
    "df_ = df.query('pert_stage_wb in @p')\n",
    "\n",
    "df_['pert_stage'] = df_['pert_stage'].astype('int')\n",
    "df_['trialwpertstage_wb'] = df_['trialwpertstage_wb'].astype('int')\n",
    "df_['pert_stage'] = df_['pert_stage'].astype('category')\n",
    "\n"
   ]
  },
  {
   "cell_type": "code",
   "execution_count": null,
   "id": "eb61534c",
   "metadata": {
    "hidden": true
   },
   "outputs": [],
   "source": [
    "df_['error_pscadj_pertstageadj_deg'] = df['error_pscadj_pertstageadj'] * 180/np.pi"
   ]
  },
  {
   "cell_type": "markdown",
   "id": "3b04a8f1",
   "metadata": {
    "hidden": true
   },
   "source": [
    "### is last pert within subj worse than other perts?"
   ]
  },
  {
   "cell_type": "code",
   "execution_count": null,
   "id": "ff80de87",
   "metadata": {
    "hidden": true
   },
   "outputs": [],
   "source": [
    "fg = sns.relplot(data=df_,kind='line', x='trialwpertstage_wb', \n",
    "             y='error_pscadj_pertstageadj_deg', hue='pert_stage', col='subject',\n",
    "        col_wrap=4, palette=['r','g','b','k'])\n",
    "for ax in fg.axes.flatten():\n",
    "    ax.set_ylim(-30,50)\n",
    "    ax.axhline(y=0,c='red',ls=':')"
   ]
  },
  {
   "cell_type": "code",
   "execution_count": null,
   "id": "0a4f5538",
   "metadata": {
    "hidden": true
   },
   "outputs": [],
   "source": [
    "# 03, 04, 07, "
   ]
  },
  {
   "cell_type": "markdown",
   "id": "8a5f6b70",
   "metadata": {
    "hidden": true
   },
   "source": [
    "except 1,6 and 3,6  further adaptatino is worse than first previous one\n",
    "1 is comparable to 6 and  6 is better than 3\n",
    "\n",
    "so very first pert stage is better than anyone except 6 (first pert stage after random)\n",
    "also second pert stage is better than fourth (second after random)\n",
    "also third (first pert after random) is better than second and fourth\n",
    "\n",
    "so first perts (before and after random) are the best,  \n",
    "second are worse, the last one is absolute worst"
   ]
  },
  {
   "cell_type": "code",
   "execution_count": null,
   "id": "f7a93175",
   "metadata": {
    "hidden": true
   },
   "outputs": [],
   "source": [
    "col"
   ]
  },
  {
   "cell_type": "code",
   "execution_count": null,
   "id": "de5f69fd",
   "metadata": {
    "hidden": true
   },
   "outputs": [],
   "source": [
    "ttrs = []\n",
    "\n",
    "for i1,i2 in [( 1,3), (1,6), (1,8), (6,3), (3,8), (6,8)]:\n",
    "    dfdif = df_.query('pert_stage == @i1').set_index(['subject','trialwpertstage_wb'])[col] -\\\n",
    "        df_.query('pert_stage == @i2').set_index(['subject','trialwpertstage_wb'])[col]\n",
    "    \n",
    "    ttr = pg.ttest(dfdif,0, alternative='less' )\n",
    "    ttr['i1'] = i1; ttr['i2'] = i2\n",
    "    ttr['type'] = 'all_pooled'\n",
    "    ttrs += [ttr]\n",
    "    \n",
    "    # mean across subjects within trial\n",
    "    mesubj = dfdif.to_frame().reset_index().groupby('trialwpertstage_wb').mean()\n",
    "    ttr = pg.ttest(mesubj[col],0, alternative='less' )\n",
    "    ttr['i1'] = i1; ttr['i2'] = i2\n",
    "    ttr['type'] = 'mean_over_subjects'\n",
    "    ttrs += [ttr]\n",
    "    \n",
    "    # mean across trials within subj\n",
    "    mewsubj = dfdif.to_frame().reset_index().groupby('subject').mean()\n",
    "    ttr = pg.ttest(mewsubj[col],0, alternative='less' )\n",
    "    ttr['i1'] = i1; ttr['i2'] = i2\n",
    "    ttr['type'] = 'mean_over_trials'\n",
    "    ttrs += [ttr]\n",
    "\n",
    "    print(i1,i2)\n",
    "    display(mesubj.describe())\n",
    "\n",
    "ttrs = pd.concat(ttrs)"
   ]
  },
  {
   "cell_type": "code",
   "execution_count": null,
   "id": "08f95d59",
   "metadata": {
    "hidden": true
   },
   "outputs": [],
   "source": [
    "print(getAddInfo())\n",
    "display(ttrs[['T','p-val','i1','i2','type']])"
   ]
  },
  {
   "cell_type": "code",
   "execution_count": null,
   "id": "ce6abd34",
   "metadata": {
    "hidden": true
   },
   "outputs": [],
   "source": [
    "pert_stage"
   ]
  },
  {
   "cell_type": "code",
   "execution_count": null,
   "id": "f3b41e25",
   "metadata": {
    "hidden": true
   },
   "outputs": [],
   "source": []
  },
  {
   "cell_type": "code",
   "execution_count": null,
   "id": "ec6b3361",
   "metadata": {
    "hidden": true
   },
   "outputs": [],
   "source": [
    "#df_['error_pscadj_pertstageadj']"
   ]
  },
  {
   "cell_type": "markdown",
   "id": "16d965e9",
   "metadata": {
    "hidden": true
   },
   "source": [
    "### mds plots"
   ]
  },
  {
   "cell_type": "code",
   "execution_count": null,
   "id": "2ca19ceb",
   "metadata": {
    "hidden": true
   },
   "outputs": [],
   "source": [
    "pivoted_df = df_.pivot(index=[\"trialwpertstage_wb\", 'subject'],\n",
    "                      columns=[\"pert_stage\"], values=\"error\")\n",
    "\n",
    "# convert the pivoted DataFrame to a numpy array\n",
    "X = pivoted_df.to_numpy()\n",
    "print(X.shape)\n",
    "\n",
    "# perform MDS with 2 components\n",
    "mds = MDS(n_components=2, random_state=0)\n",
    "Y = mds.fit_transform(X)"
   ]
  },
  {
   "cell_type": "code",
   "execution_count": null,
   "id": "34eda5b2",
   "metadata": {
    "hidden": true
   },
   "outputs": [],
   "source": [
    "# one subj = 1 point\n",
    "pivot_df = df_.pivot_table(index=[\"subject\", \"pert_stage\", \"trialwpertstage_wb\"], \n",
    "                           values=\"error_pscadj_pertstageadj\")\n",
    "\n",
    "# convert the pivot table to a 2D numpy array\n",
    "pivot_array0 = pivot_df.to_numpy()\n",
    "\n",
    "subjects = df_[\"subject\"].unique()\n",
    "trialwpertstage_wb = df_[\"trialwpertstage_wb\"].unique()\n",
    "pert_stage = df_[\"pert_stage\"].unique()\n",
    "pivot_array = np.reshape(pivot_array0, \n",
    "    (len(subjects), len(trialwpertstage_wb), len(pert_stage)))\n",
    "\n",
    "# print the shape and the content of the array\n",
    "print(pivot_array.shape)\n",
    "print(pivot_array)\n",
    "\n",
    "#Xrsh = X.reshape(20,-1,4)\n",
    "Xrsh = pivot_array\n",
    "\n",
    "\n",
    "X = pivot_array.reshape(-1,4*60)\n",
    "print(X.shape)\n",
    "mds = MDS(n_components=2, random_state=0)\n",
    "Y_complete_subj = mds.fit_transform(X)\n",
    "print(Y_complete_subj.shape)"
   ]
  },
  {
   "cell_type": "code",
   "execution_count": null,
   "id": "707a2636",
   "metadata": {
    "hidden": true
   },
   "outputs": [],
   "source": [
    "Xrsh.shape"
   ]
  },
  {
   "cell_type": "code",
   "execution_count": null,
   "id": "e8716315",
   "metadata": {
    "hidden": true
   },
   "outputs": [],
   "source": [
    "Yrsh.shape"
   ]
  },
  {
   "cell_type": "code",
   "execution_count": null,
   "id": "4a68efca",
   "metadata": {
    "hidden": true
   },
   "outputs": [],
   "source": []
  },
  {
   "cell_type": "code",
   "execution_count": null,
   "id": "ac54070c",
   "metadata": {
    "hidden": true
   },
   "outputs": [],
   "source": [
    "#Y\n",
    "Yrsh = Y_complete_subj\n",
    "# create a figure with one subplot\n",
    "fig, ax = plt.subplots(1, 1, figsize=(5, 5))\n",
    "\n",
    "# plot the 2D projection of the trajectory with different colors for each subject\n",
    "#colors = [\"red\", \"blue\", \"green\", \"yellow\"] # define a list of colors for each subject\n",
    "#for subject in range(1, 5):\n",
    "S = 40\n",
    "N = 10\n",
    "for si in np.arange(N):\n",
    "    # select the rows that belong to the current subject\n",
    "    #mask = df[\"subject\"] == subject\n",
    "    ax.scatter(Yrsh[si,0], Yrsh[si,1], s=S)\n",
    "               #, color=colors[subject-1], label=f\"Subject {subject}\")\n",
    "#ax.set_xlim(-1,1)\n",
    "#ax.set_ylim(-1,1)\n",
    "\n",
    "# add title and labels to the plot\n",
    "ax.set_title(\"MDS Projection of Error Trajectory\")\n",
    "ax.set_xlabel(\"MDS Component 1\")\n",
    "ax.set_ylabel(\"MDS Component 2\")\n",
    "\n",
    "# add a legend to show the color mapping\n",
    "#ax.legend()\n",
    "\n",
    "# show the figure\n",
    "plt.show()"
   ]
  },
  {
   "cell_type": "code",
   "execution_count": null,
   "id": "fedd7c29",
   "metadata": {
    "hidden": true
   },
   "outputs": [],
   "source": []
  },
  {
   "cell_type": "code",
   "execution_count": null,
   "id": "2f43e6fb",
   "metadata": {
    "hidden": true
   },
   "outputs": [],
   "source": [
    "a4d[:,:,:,0].reshape(-1, 60).T"
   ]
  },
  {
   "cell_type": "code",
   "execution_count": null,
   "id": "98169b6c",
   "metadata": {
    "hidden": true
   },
   "outputs": [],
   "source": [
    "# # one pert stage = 1 point\n",
    "# pivot_df = df_.pivot_table(index=[\"subject\", \"pert_stage\", \"trialwpertstage_wb\"], \n",
    "#                            values=\"error_pscadj_pertstageadj\")\n",
    "\n",
    "# # convert the pivot table to a 2D numpy array\n",
    "# pivot_array0 = pivot_df.to_numpy()\n",
    "\n",
    "# subjects = df_[\"subject\"].unique()\n",
    "# trialwpertstage_wb = df_[\"trialwpertstage_wb\"].unique()\n",
    "# pert_stage = df_[\"pert_stage\"].unique()\n",
    "# pivot_array = np.reshape(pivot_array0, \n",
    "#     (len(subjects), len(trialwpertstage_wb), len(pert_stage)))\n",
    "\n",
    "# # print the shape and the content of the array\n",
    "# print(pivot_array.shape)\n",
    "# #print(pivot_array)\n",
    "\n",
    "# #Xrsh = X.reshape(20,-1,4)\n",
    "# Xrsh = pivot_array\n",
    "\n",
    "\n",
    "# X = pivot_array.reshape(-1,60, order='F')\n",
    "\n",
    "Xrsh = a4d[:,:,:,1]\n",
    "print(Xrsh.shape)\n",
    "#np.rollaxis(Xrsh,1).shape\n",
    "X = Xrsh.reshape(-1, 60)\n",
    "print(X.shape)\n",
    "\n",
    "mds = MDS(n_components=2, random_state=0)\n",
    "Y_complete = mds.fit_transform(X)\n",
    "print(Y_complete.shape)\n",
    "\n",
    "Yrsh.shape\n",
    "\n",
    "#Y\n",
    "Yrsh = Y_complete.reshape(20,4,2)\n",
    "# create a figure with one subplot\n",
    "fig, ax = plt.subplots(1, 1, figsize=(10, 10))\n",
    "\n",
    "# plot the 2D projection of the trajectory with different colors for each subject\n",
    "#colors = [\"red\", \"blue\", \"green\", \"yellow\"] # define a list of colors for each subject\n",
    "#for subject in range(1, 5):\n",
    "S = 80\n",
    "N = 20\n",
    "for si in np.arange(N):\n",
    "    # select the rows that belong to the current subject\n",
    "    #mask = df[\"subject\"] == subject\n",
    "    #for mi,m in enumerate(['+','x','o','*']):\n",
    "    #    ax.scatter(Yrsh[si,mi, 0], Yrsh[si,mi, 1], s=S, alpha=0.7, marker=m)\n",
    "    plt.plot(Yrsh[si,:, 0], Yrsh[si,:, 1])\n",
    "               #, color=colors[subject-1], label=f\"Subject {subject}\")\n",
    "#ax.set_xlim(-1,1)\n",
    "#ax.set_ylim(-1,1)\n",
    "\n",
    "# add title and labels to the plot\n",
    "ax.set_title(\"MDS Projection of Error Trajectory\")\n",
    "ax.set_xlabel(\"MDS Component 1\")\n",
    "ax.set_ylabel(\"MDS Component 2\")\n",
    "\n",
    "# add a legend to show the color mapping\n",
    "#ax.legend()\n",
    "\n",
    "# show the figure\n",
    "plt.show()"
   ]
  },
  {
   "cell_type": "code",
   "execution_count": null,
   "id": "af19eea0",
   "metadata": {
    "hidden": true
   },
   "outputs": [],
   "source": [
    "pivot_df = df_.pivot_table(index=[\"subject\", \"trialwpertstage_wb\", \"pert_stage\"], \n",
    "                           values=\"error_pscadj_pertstageadj\")\n",
    "\n",
    "# convert the pivot table to a 2D numpy array\n",
    "pivot_array0 = pivot_df.to_numpy()\n",
    "\n",
    "subjects = df_[\"subject\"].unique()\n",
    "trialwpertstage_wb = df_[\"trialwpertstage_wb\"].unique()\n",
    "pert_stage = df_[\"pert_stage\"].unique()\n",
    "pivot_array = np.reshape(pivot_array0, \n",
    "    (len(subjects), len(trialwpertstage_wb), len(pert_stage)))\n",
    "\n",
    "# print the shape and the content of the array\n",
    "print(pivot_array.shape)\n",
    "#print(pivot_array)\n",
    "\n",
    "#Xrsh = X.reshape(20,-1,4)\n",
    "Xrsh = pivot_array"
   ]
  },
  {
   "cell_type": "code",
   "execution_count": null,
   "id": "b5d972b5",
   "metadata": {
    "hidden": true
   },
   "outputs": [],
   "source": [
    "a4d = a3d.reshape(20,4,60,2, order='F')\n",
    "X = np.rollaxis(a4d[:,:,:,1],2)\n",
    "a = np.rollaxis(a4d[:,:,:,0],2)\n",
    "print(X.shape)# [:,:,0]\n",
    "#X = a4d[:,:,:,1].reshape()"
   ]
  },
  {
   "cell_type": "code",
   "execution_count": null,
   "id": "1d8aa6d8",
   "metadata": {
    "hidden": true
   },
   "outputs": [],
   "source": [
    "a"
   ]
  },
  {
   "cell_type": "code",
   "execution_count": null,
   "id": "e0e3cdce",
   "metadata": {
    "hidden": true
   },
   "outputs": [],
   "source": [
    "mds = MDS(n_components=2, random_state=0)\n",
    "Y = mds.fit_transform(X.reshape(-1,4,order='F'))#.reshape( *X.shape[:2], -1)"
   ]
  },
  {
   "cell_type": "code",
   "execution_count": null,
   "id": "b21cfea7",
   "metadata": {
    "hidden": true
   },
   "outputs": [],
   "source": [
    "Yrsh = Y.reshape( *X.shape[:2], -1, order='F')\n",
    "print(Y.shape, Yrsh.shape)"
   ]
  },
  {
   "cell_type": "code",
   "execution_count": null,
   "id": "d9bb0e24",
   "metadata": {
    "hidden": true
   },
   "outputs": [],
   "source": [
    "# Yrsh = np.rollaxis(Yrsh,1)\n",
    "# Yrsh.shape"
   ]
  },
  {
   "cell_type": "code",
   "execution_count": null,
   "id": "ae2752b8",
   "metadata": {
    "hidden": true
   },
   "outputs": [],
   "source": []
  },
  {
   "cell_type": "code",
   "execution_count": null,
   "id": "02726737",
   "metadata": {
    "hidden": true
   },
   "outputs": [],
   "source": [
    "X = pivot_array.reshape(-1,4, order='F')\n",
    "print(X.shape)\n",
    "mds = MDS(n_components=2, random_state=0)\n",
    "Y = mds.fit_transform(X)\n",
    "print(Y.shape)"
   ]
  },
  {
   "cell_type": "code",
   "execution_count": null,
   "id": "c45cf830",
   "metadata": {
    "hidden": true
   },
   "outputs": [],
   "source": [
    "# TODO: other data groupings (single subject as datapoint, entire pert stage as datapoint)"
   ]
  },
  {
   "cell_type": "code",
   "execution_count": null,
   "id": "5fe3b6f0",
   "metadata": {
    "hidden": true
   },
   "outputs": [],
   "source": [
    "#Y\n",
    "print(Yrsh.shape)\n",
    "#Yrsh = Y.reshape(20,-1,2, order = 'F')\n",
    "# create a figure with one subplot\n",
    "fig, ax = plt.subplots(1, 1, figsize=(10, 10))\n",
    "\n",
    "# plot the 2D projection of the trajectory with different colors for each subject\n",
    "#colors = [\"red\", \"blue\", \"green\", \"yellow\"] # define a list of colors for each subject\n",
    "#for subject in range(1, 5):\n",
    "S = 40\n",
    "N = 2\n",
    "for si in np.arange(N):\n",
    "    # select the rows that belong to the current subject\n",
    "    #mask = df[\"subject\"] == subject\n",
    "    ax.scatter(Yrsh[:,si, 0], Yrsh[:,si, 1], s=S, alpha=0.7)\n",
    "               #, color=colors[subject-1], label=f\"Subject {subject}\")\n",
    "#ax.set_xlim(-1,1)\n",
    "#ax.set_ylim(-1,1)\n",
    "\n",
    "# add title and labels to the plot\n",
    "ax.set_title(\"MDS Projection of Error Trajectory\")\n",
    "ax.set_xlabel(\"MDS Component 1\")\n",
    "ax.set_ylabel(\"MDS Component 2\")\n",
    "\n",
    "# add a legend to show the color mapping\n",
    "#ax.legend()\n",
    "\n",
    "# show the figure\n",
    "plt.show()"
   ]
  },
  {
   "cell_type": "code",
   "execution_count": null,
   "id": "78997ce3",
   "metadata": {
    "hidden": true
   },
   "outputs": [],
   "source": [
    "a3d = np.array(list(df_.groupby(['subject','pert_stage']).apply(lambda x:\n",
    "    x[['trialwpertstage_wb','error_pscadj_pertstageadj']].to_numpy())))\n",
    "print(a3d.shape)\n",
    "#subj, pertstage, trial, trialind\n",
    "a4d = a3d.reshape(20,4,60,2, order='F')\n",
    "a4d_ = a3d.reshape(20,60,4,2, order='F')"
   ]
  },
  {
   "cell_type": "code",
   "execution_count": null,
   "id": "4d0870cf",
   "metadata": {
    "hidden": true
   },
   "outputs": [],
   "source": [
    "a4d[0,:,:,0]"
   ]
  },
  {
   "cell_type": "code",
   "execution_count": null,
   "id": "03f348f6",
   "metadata": {
    "hidden": true
   },
   "outputs": [],
   "source": [
    "plt.plot(a4d[0,:,:,1].T)\n",
    "plt.show()\n",
    "plt.plot(a4d[1,:,:,1].T)"
   ]
  },
  {
   "cell_type": "code",
   "execution_count": null,
   "id": "03b4d630",
   "metadata": {
    "hidden": true
   },
   "outputs": [],
   "source": [
    "#X\n",
    "Xrsh = a4d[:,:,:,1]\n",
    "fig, axs = plt.subplots(2, 2, figsize=(10, 10))\n",
    "N = 3\n",
    "S = 10\n",
    "pargs={'marker':'o', 'ms':S, 'lw':0, 'alpha':0.5}\n",
    "ax = axs[0,0]\n",
    "i1,i2 = 0,1\n",
    "for si in np.arange(N):\n",
    "    #ax.plot(Xrsh[si,:, 0], Xrsh[si,:, 1], ms=S)\n",
    "    ax.plot(Xrsh[si,i1,:], Xrsh[si,i2,:], **pargs)\n",
    "    ax.set_xlabel(str(i1)); ax.set_ylabel(str(i2)); \n",
    "\n",
    "ax = axs[0,1]\n",
    "i1,i2 = 2,3\n",
    "for si in np.arange(N):\n",
    "    ax.plot(Xrsh[si,i1,:], Xrsh[si,i2,:], **pargs)\n",
    "    ax.set_xlabel(str(i1)); ax.set_ylabel(str(i2)); \n",
    "    \n",
    "ax = axs[1,0]\n",
    "i1,i2 = 0,2\n",
    "for si in np.arange(N):\n",
    "    ax.plot(Xrsh[si,i1,:], Xrsh[si,i2,:], **pargs)\n",
    "    ax.set_xlabel(str(i1)); ax.set_ylabel(str(i2)); \n",
    "\n",
    "ax = axs[1,1]\n",
    "i1,i2 = 1,3\n",
    "for si in np.arange(N):\n",
    "    ax.plot(Xrsh[si,i1,:], Xrsh[si,i2,:], **pargs)\n",
    "    ax.set_xlabel(str(i1)); ax.set_ylabel(str(i2)); \n",
    "\n",
    "######################\n",
    "ylim = (-1,1)\n",
    "for ax in axs.flatten():\n",
    "    ax.set_xlim(*ylim)\n",
    "    ax.set_ylim(*ylim)\n",
    "\n",
    "# show the figure\n",
    "plt.tight_layout()\n",
    "plt.show()"
   ]
  },
  {
   "cell_type": "code",
   "execution_count": null,
   "id": "75dde44e",
   "metadata": {
    "hidden": true
   },
   "outputs": [],
   "source": [
    "sns.scatterplot(x='')"
   ]
  },
  {
   "cell_type": "code",
   "execution_count": null,
   "id": "3357f81c",
   "metadata": {
    "hidden": true
   },
   "outputs": [],
   "source": [
    "#This means that the shape of the array will be (nrows, ncols * nvalues),\n",
    "pivot_df = df_.pivot_table(index=[\"subject\", 'trialwpertstage_wb'], \n",
    "                           columns=[ \"pert_stage\"],\n",
    "                           values=[\"error_pscadj_pertstageadj\"])\n",
    "pivot_df.to_numpy().shape"
   ]
  },
  {
   "cell_type": "code",
   "execution_count": null,
   "id": "9544a011",
   "metadata": {
    "hidden": true
   },
   "outputs": [],
   "source": [
    "pivot_df"
   ]
  },
  {
   "cell_type": "code",
   "execution_count": null,
   "id": "dd7f8fa7",
   "metadata": {
    "hidden": true
   },
   "outputs": [],
   "source": [
    "pivot_df.values.shape"
   ]
  },
  {
   "cell_type": "code",
   "execution_count": null,
   "id": "929419a3",
   "metadata": {
    "hidden": true
   },
   "outputs": [],
   "source": [
    "df__ = df_[[\"subject\", \"pert_stage\", \"trialwpertstage_wb\",\n",
    "     'error_pscadj_pertstageadj']].set_index([\"subject\", \"pert_stage\", \"trialwpertstage_wb\"])\n",
    "df__.unstack(level=-1).to_numpy().shape #['error_pscadj_pertstageadj']\n",
    "#df_.set_index([\"subject\", \"pert_stage\", \"trialwpertstage_wb\"])['error_pscadj_pertstageadj'].unstack(-1).to_numpy().shape\n",
    "#values.shape"
   ]
  },
  {
   "cell_type": "code",
   "execution_count": null,
   "id": "f240e7cf",
   "metadata": {
    "hidden": true
   },
   "outputs": [],
   "source": [
    "df__['error_pscadj_pertstageadj'].unstack().to_numpy().shape"
   ]
  },
  {
   "cell_type": "code",
   "execution_count": null,
   "id": "037649b2",
   "metadata": {
    "hidden": true
   },
   "outputs": [],
   "source": [
    "80*60"
   ]
  },
  {
   "cell_type": "code",
   "execution_count": null,
   "id": "bda7a348",
   "metadata": {
    "hidden": true
   },
   "outputs": [],
   "source": []
  },
  {
   "cell_type": "code",
   "execution_count": null,
   "id": "5996804b",
   "metadata": {
    "hidden": true
   },
   "outputs": [],
   "source": [
    "pivot_df = df_.pivot_table(index=[\"subject\",\"trialwpertstage_wb\"], \n",
    "                           columns=[ \"pert_stage\"],\n",
    "                           values=[\"error_pscadj_pertstageadj\"], \n",
    "                           aggfunc='first')\n",
    "pivot_df"
   ]
  },
  {
   "cell_type": "code",
   "execution_count": null,
   "id": "d3a96fdd",
   "metadata": {
    "hidden": true
   },
   "outputs": [],
   "source": [
    "# one pert stage = 1 point\n",
    "pivot_df = df_.pivot_table(index=[\"subject\", \"pert_stage\"], \n",
    "                           columns='trialwpertstage_wb',\n",
    "                           values=[\"error_pscadj_pertstageadj\"], aggfunc='first')\n",
    "\n",
    "# convert the pivot table to a 2D numpy array\n",
    "pivot_array0 = pivot_df.to_numpy()\n",
    "\n",
    "subjects = df_[\"subject\"].unique()\n",
    "trialwpertstage_wb = df_[\"trialwpertstage_wb\"].unique()\n",
    "pert_stage = df_[\"pert_stage\"].unique()\n",
    "pivot_array = np.reshape(pivot_array0, \n",
    "    (len(subjects), len(trialwpertstage_wb), len(pert_stage)), order='F')\n",
    "pivot_array.shape"
   ]
  },
  {
   "cell_type": "code",
   "execution_count": null,
   "id": "22c25e47",
   "metadata": {
    "hidden": true
   },
   "outputs": [],
   "source": [
    "pivot_df.values.shape"
   ]
  },
  {
   "cell_type": "code",
   "execution_count": null,
   "id": "3f3148e3",
   "metadata": {
    "hidden": true
   },
   "outputs": [],
   "source": [
    "pivot_df"
   ]
  },
  {
   "cell_type": "code",
   "execution_count": null,
   "id": "b9cd8c00",
   "metadata": {
    "hidden": true
   },
   "outputs": [],
   "source": [
    "print(pivot_array0.shape, pivot_array.shape)\n",
    "pivot_array[0,:,0]"
   ]
  },
  {
   "cell_type": "code",
   "execution_count": null,
   "id": "f355628b",
   "metadata": {
    "hidden": true
   },
   "outputs": [],
   "source": [
    "pd.__version__\n"
   ]
  },
  {
   "cell_type": "code",
   "execution_count": null,
   "id": "3a71bcb9",
   "metadata": {
    "hidden": true
   },
   "outputs": [],
   "source": [
    "df00 = pd.DataFrame({\n",
    "    'name': ['Alice', 'Bob', 'Charlie', 'David'],\n",
    "    'type': ['A', 'B', 'A', 'B'],\n",
    "    'date': ['2023-01-01', '2023-01-02', '2023-01-03', '2023-01-04'],\n",
    "    'value': [10, 20, 30, 40]\n",
    "})\n",
    "\n",
    "pivoted = df00.pivot(index='name', columns=['type', 'date'], values='value')\n",
    "pivoted.values.shape"
   ]
  }
 ],
 "metadata": {
  "kernelspec": {
   "display_name": "merr2",
   "language": "python",
   "name": "merr2"
  },
  "language_info": {
   "codemirror_mode": {
    "name": "ipython",
    "version": 3
   },
   "file_extension": ".py",
   "mimetype": "text/x-python",
   "name": "python",
   "nbconvert_exporter": "python",
   "pygments_lexer": "ipython3",
   "version": "3.10.13"
  }
 },
 "nbformat": 4,
 "nbformat_minor": 5
}
