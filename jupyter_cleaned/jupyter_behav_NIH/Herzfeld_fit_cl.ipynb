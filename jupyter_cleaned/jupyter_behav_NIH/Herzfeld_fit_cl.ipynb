{
 "cells": [
  {
   "cell_type": "code",
   "execution_count": null,
   "id": "b18d27c2",
   "metadata": {
    "run_control": {
     "marked": false
    }
   },
   "outputs": [],
   "source": [
    "%load_ext autoreload\n",
    "%autoreload 2\n",
    "from IPython import get_ipython; ipython = get_ipython()\n",
    "import sys, os\n",
    "from os.path import join as pjoin\n",
    "import seaborn as sns\n",
    "p = pjoin( os.path.expandvars('$CODE_MEMORY_ERRORS'), 'state-space-adaptation' )\n",
    "sys.path.append(p)\n",
    "sys.path.append(os.path.expandvars('$CODE_MEMORY_ERRORS'))\n",
    "scripts_dir = pjoin( os.path.expandvars('$CODE_MEMORY_ERRORS'))\n",
    "script_name = pjoin(scripts_dir,'taumodels/fit_Herzfeld.py')\n",
    "\n",
    "from config2 import subjects as subjects_NIH\n",
    "from figure.plots import relplot_multi\n",
    "from config2 import path_fig\n",
    "import warnings, gc\n",
    "from behav_proc import aggRows\n",
    "from datetime import datetime\n",
    "\n",
    "import numpy as np\n",
    "#np.show_config()"
   ]
  },
  {
   "cell_type": "markdown",
   "id": "f50644b0",
   "metadata": {},
   "source": [
    "# run"
   ]
  },
  {
   "cell_type": "code",
   "execution_count": null,
   "id": "9f7dc806",
   "metadata": {},
   "outputs": [],
   "source": [
    "# prepare args\n",
    "dfbc = []\n",
    "args_all = []\n",
    "#n_runs = 30\n",
    "\n",
    "#n_runs = 30\n",
    "\n",
    "#n_runs = 5\n",
    "n_runs = 20\n",
    "#fit_to = 'errors_and_err_sens'\n",
    "#%debug\n",
    "#for subj in subjects_NIH[:6]:\n",
    "\n",
    "subjs = subjects_NIH\n",
    "fit_tos = ['errors','errors_and_err_sens']\n",
    "oes_vals = ['optimize','from_data','custom']\n",
    "osic_vals = [0, 1]\n",
    "nbs = [-1]\n",
    "regs = [0, 0.1]\n",
    "fitmasks = ['no','random', 'stable']\n",
    "utes = [1, 0] #use true errors\n",
    "tvms = [0, 1, 2] # thr val mult (to determin if ES udpate needed)\n",
    "\n",
    "#subjs = subjects_NIH\n",
    "#oes_vals = ['optimize']\n",
    "#fit_tos = ['errors']\n",
    "#fit_tos = ['errors_and_err_sens']\n",
    "#oes_vals = ['optimize','from_data','custom']\n",
    "#tvms = [0, 1]\n",
    "\n",
    "\n",
    "#fitmasks = ['no']#,'random', 'stable']\n",
    "oes_vals = ['optimize']\n",
    "osic_vals = [1]\n",
    "nbs = [-1,1]\n",
    "#fit_tos = ['errors']\n",
    "#utes = [1, 0] #use true errors\n",
    "#tvms = [0,1,2]\n",
    "\n",
    "\n",
    "# subjs = subjects_NIH[:4]\n",
    "# utes = [1]\n",
    "# regs = [0]\n",
    "# fitmasks = ['no']\n",
    "# tvms = [0]\n",
    "# oes_vals = ['optimize']\n",
    "# fit_tos = ['errors']\n",
    "\n",
    "\n",
    "from itertools import product\n",
    "preargs = product(subjs, oes_vals, osic_vals, nbs, regs, fitmasks, utes, tvms, fit_tos)\n",
    "for pa in preargs:\n",
    "    subj, oes, osic, nb, reg, fitmask, ute, tvm, fit_to = pa\n",
    "    \n",
    "    ipython.run_line_magic('run', f'-i {script_name} '\n",
    "        f'--subject {subj} --reg {reg:.2f} '\n",
    "        f'--save_suffix _reg={reg:.2f}_mask={fitmask}_nb={nb} '\n",
    "        f' --fitmask {fitmask} --n_runs {n_runs} '\n",
    "        f' --exit_after args_prep --num_bases {nb} --optimize_initial_err_sens {oes}'\n",
    "        f' --optimize_initial_state {osic} '\n",
    "        f' --fit_to {fit_to} --thr_val_mult {tvm} --use_true_errors {ute} --ES_thr 7.077')\n",
    "    #dfbc += [bestCalcs]\n",
    "    args_all += args\n",
    "    \n",
    "# for subj in subjects_NIH:\n",
    "#     ipython.run_line_magic('run', f'-i {script_name} '\n",
    "#        f'--subject {subj} --reg 1')\n",
    "#     dfbc += [bestCalcs]\n",
    "\n",
    "print('len args = ',len(args_all))"
   ]
  },
  {
   "cell_type": "code",
   "execution_count": null,
   "id": "b33d16ec",
   "metadata": {},
   "outputs": [],
   "source": [
    "print('len args = ',len(args_all))\n",
    "import gc;gc.collect()"
   ]
  },
  {
   "cell_type": "code",
   "execution_count": null,
   "id": "ccd97462",
   "metadata": {},
   "outputs": [],
   "source": [
    "#18*400"
   ]
  },
  {
   "cell_type": "code",
   "execution_count": null,
   "id": "bd6e849b",
   "metadata": {},
   "outputs": [],
   "source": [
    "#args_all = args_all[18 * N:]"
   ]
  },
  {
   "cell_type": "code",
   "execution_count": null,
   "id": "0c26fd41",
   "metadata": {},
   "outputs": [],
   "source": [
    "print('len args = ',len(args_all))\n",
    "import gc;gc.collect()"
   ]
  },
  {
   "cell_type": "markdown",
   "id": "75cf27f0",
   "metadata": {
    "heading_collapsed": true
   },
   "source": [
    "## try one "
   ]
  },
  {
   "cell_type": "code",
   "execution_count": null,
   "id": "44770cfd",
   "metadata": {
    "hidden": true
   },
   "outputs": [],
   "source": [
    "arg0 = args_all[10].copy()\n",
    "for k,v in arg0.items():\n",
    "    if not isinstance(v,np.ndarray):\n",
    "        print(k,v)\n",
    "#print(arg0)\n",
    "arg0['use_true_errors']"
   ]
  },
  {
   "cell_type": "code",
   "execution_count": null,
   "id": "06c442fa",
   "metadata": {
    "hidden": true
   },
   "outputs": [],
   "source": [
    "np.sum( np.isnan(arg['errors']) )"
   ]
  },
  {
   "cell_type": "code",
   "execution_count": null,
   "id": "14fcaf9f",
   "metadata": {
    "hidden": true
   },
   "outputs": [],
   "source": [
    "#fitmask_vals\n",
    "#s = int(np.ceil(time.time() * 1e4) ) % int( 1e5 )   \n",
    "#arg0['seed'] = s\n",
    "#arg0['fitmask'] = fitmask_vals\n",
    "r = _opt(**arg0)"
   ]
  },
  {
   "cell_type": "code",
   "execution_count": null,
   "id": "6236f9d3",
   "metadata": {
    "hidden": true
   },
   "outputs": [],
   "source": [
    "r[1]['fun_full']"
   ]
  },
  {
   "cell_type": "code",
   "execution_count": null,
   "id": "78d888c5",
   "metadata": {
    "hidden": true
   },
   "outputs": [],
   "source": [
    "_opt?"
   ]
  },
  {
   "cell_type": "code",
   "execution_count": null,
   "id": "cdfc9d95",
   "metadata": {
    "hidden": true
   },
   "outputs": [],
   "source": [
    "arg0.keys()"
   ]
  },
  {
   "cell_type": "code",
   "execution_count": null,
   "id": "ed727771",
   "metadata": {
    "hidden": true
   },
   "outputs": [],
   "source": [
    "arg0 = args_all[0].copy()\n",
    "from taumodels.models import interpnan\n",
    "verbose = 0\n",
    "arg0sim = arg0.copy()\n",
    "\n",
    "print('Num nans in errors= ', np.sum(np.isnan(arg0['errors'])))\n",
    "arg0sim['true_errors'] = interpnan(arg0['errors'])\n",
    "#arg0sim['true_err'] = arg0['errors']\n",
    "todel = ['optimize_initial_err_sens','err_sens','errors','fit_to',\n",
    "        'reg','timeout','fitmask_vals','fitmask',\n",
    "        'err_handling','subject','rnsuff']\n",
    "for td in todel:\n",
    "    del arg0sim[td]\n",
    "#subj = arg0['subject']\n",
    "# df0 = dfcc_all_NIH_.query('trial_shift_size == 1 and '\n",
    "#     'trial_group_col_calc == \"trials\" and '\n",
    "#     'retention_factor_s == \"0.924\" and '\n",
    "#     'subject == @subj').sort_values(['trials'])\n",
    "#pre_break_duration = df0['pre_break_duration'].values\n",
    "#error   = df0['error_pscadj'].values * 180 / np.pi\n",
    "#perturb = -df0['perturbation_pscadj'].values\n",
    "#perturb[perturb > 180] = perturb[perturb > 180] - 360 \n",
    "\n",
    "#errors_ =  interpnan(error.copy())  \n",
    "#err_sens = interpnan(df0['err_sens'].values.copy())  \n",
    "\n",
    "#use_true_errors = row['use_true_errors']\n",
    "#cap_err_sens = row['cap_err_sens']    \n",
    "r = simMoE(**arg0sim, verbose=verbose)\n",
    "#-perturb,EC_mask=EC_mask,true_errors=errors_,\n",
    "#            pre_break_duration=pre_break_duration,\n",
    "#            **pard, cap_err_sens=cap_err_sens,\n",
    "#           small_err_thr = row['small_err_thr'],\n",
    "#           num_bases = row['num_bases'],\n",
    "#    use_true_errors=use_true_errors\n",
    "\n",
    "(motor_output,error_pred2,ws,err_sens2, \n",
    "    gaussian_centers,gaussian_variances) = r \n",
    "\n",
    "from taumodels.models import calcLoss_H\n",
    "fun = calcLoss_H(arg0sim['true_errors'], error_pred2, arg0['err_sens'], \n",
    "                 err_sens2,  None, arg0['fit_to'], arg0['reg'])\n",
    "\n",
    "err_sens2_ = err_sens2#[1:]\n",
    "print(err_sens2_.max(), err_sens2_.mean(), err_sens2_.std(),fun)\n"
   ]
  },
  {
   "cell_type": "markdown",
   "id": "b8e2189f",
   "metadata": {},
   "source": [
    "## run all"
   ]
  },
  {
   "cell_type": "code",
   "execution_count": null,
   "id": "042b154d",
   "metadata": {},
   "outputs": [],
   "source": [
    "prl = []"
   ]
  },
  {
   "cell_type": "code",
   "execution_count": null,
   "id": "0926f0da",
   "metadata": {},
   "outputs": [],
   "source": [
    "# run\n",
    "N = 400\n",
    "ind = 0\n",
    "i = 0"
   ]
  },
  {
   "cell_type": "code",
   "execution_count": null,
   "id": "6b5a5f92",
   "metadata": {
    "code_folding": [],
    "run_control": {
     "marked": false
    }
   },
   "outputs": [],
   "source": [
    "n_jobs_for_all = 52\n",
    "#backend = 'multiprocessing' # to see output realtime\n",
    "backend = 'loky'\n",
    "\n",
    "#from IPython.core.output import capture_output\n",
    "# Capture the output of your code block\n",
    "#%%capture captured\n",
    "if n_jobs_for_all == 1:\n",
    "    for arg in args_all:\n",
    "        prl += [_opt(**arg)]\n",
    "else:    \n",
    "    #plr = []    \n",
    "    while ind < len(args_all):      \n",
    "        gc.collect()\n",
    "        subargs = args_all[ind:ind+N]\n",
    "        prl_ = Parallel(n_jobs=n_jobs_for_all, backend=backend,\n",
    "                    )(delayed(_opt)(**arg) for arg in subargs) \n",
    "        #plr += [plr_]\n",
    "        s_ = str(datetime.now())[:-7].replace(' ','_')\n",
    "        np.savez( pjoin(path_data, f'prl_Herz_{i}__{s_}'), prl_ )\n",
    "\n",
    "        del prl_\n",
    "        ind += N\n",
    "        i += 1\n",
    "\n",
    "#Nout = 40        \n",
    "# Access and print the last N lines (replace N with your desired number)\n",
    "#last_lines = captured.stdout.splitlines()[-Nout:]\n",
    "#print(*last_lines, sep='\\n')            "
   ]
  },
  {
   "cell_type": "code",
   "execution_count": null,
   "id": "8d5f8321",
   "metadata": {},
   "outputs": [],
   "source": [
    "print(ind, ind/N)"
   ]
  },
  {
   "cell_type": "markdown",
   "id": "6554895c",
   "metadata": {},
   "source": [
    "# read"
   ]
  },
  {
   "cell_type": "code",
   "execution_count": null,
   "id": "d2826992",
   "metadata": {},
   "outputs": [],
   "source": [
    "from datetime import datetime\n",
    "from config2 import path_data, path_fig\n",
    "import dateutil\n",
    "#dtstart = dateutil.parser.parse('march 31 2024  18:10')\n",
    "#dtstart = dateutil.parser.parse('april 2 2024  19:12')\n",
    "dtstart = dateutil.parser.parse('may 11 2024  12:00')\n",
    "\n",
    "import glob\n",
    "prls_fnf = glob.glob(path_data + '/prl_Herz*')\n",
    "\n",
    "prl = []\n",
    "for p in prls_fnf:    \n",
    "    #p=  pjoin(path_data, f'prl_{ind}.npz')\n",
    "    if not os.path.exists(p):\n",
    "        continue\n",
    "    \n",
    "    dt = datetime.fromtimestamp(os.path.getmtime(p))\n",
    "    if not dt >= dtstart:\n",
    "        continue    \n",
    "    print(p, dt)\n",
    "    prl_ = np.load(p,allow_pickle=1)['arr_0']\n",
    "    print(len(prl_))\n",
    "    \n",
    "    prl += list(prl_)\n",
    "\n",
    "print(len(prl))"
   ]
  },
  {
   "cell_type": "code",
   "execution_count": null,
   "id": "fa0e8262",
   "metadata": {},
   "outputs": [],
   "source": [
    "from behav_proc import aggRows\n",
    "import pandas as pd\n",
    "prl = pd.DataFrame(prl, columns=['minres','pard','arg','subject']) \n",
    "for k in prl.arg.values[0]:\n",
    "    prl[k] = prl.arg.apply(lambda x: x.get(k,None))\n",
    "\n",
    "def f(x):\n",
    "    thr = x[\"small_err_thr\"]\n",
    "    \n",
    "    r = (f'useTrueErr={x[\"use_true_errors\"]}; optimES0={x[\"optimize_initial_err_sens\"]};'\n",
    "    f' capES={x[\"cap_err_sens\"]}; '\n",
    "    f' fit_to={x[\"fit_to\"]}; {x[\"rnsuff\"]}'     )\n",
    "    return r\n",
    "#sethr={thr > 1e-6}; \n",
    "prl['runname'] = prl.apply(f,1)\n",
    "\n",
    "###################################################\n",
    "prlg = prl[~prl.pard.isnull()].copy()\n",
    "\n",
    "pard0 = prlg.pard.values[0]\n",
    "for k in pard0.keys():\n",
    "    if isinstance(pard0[k], np.ndarray):\n",
    "        continue\n",
    "    prlg[k] = prlg.pard.apply(lambda x: x.get(k,None))\n",
    "\n",
    "\n",
    "prlg['fun'] = prlg.apply(lambda x: x['minres'].fun, 1)                   "
   ]
  },
  {
   "cell_type": "code",
   "execution_count": null,
   "id": "97490005",
   "metadata": {},
   "outputs": [],
   "source": [
    "#prlg.iloc[0][prlg.columns[3:]]"
   ]
  },
  {
   "cell_type": "code",
   "execution_count": null,
   "id": "860ddabf",
   "metadata": {},
   "outputs": [],
   "source": [
    "prlg.use_true_errors.any()"
   ]
  },
  {
   "cell_type": "code",
   "execution_count": null,
   "id": "6554ae52",
   "metadata": {},
   "outputs": [],
   "source": [
    "#prlg[prlg.columns[3:]]"
   ]
  },
  {
   "cell_type": "markdown",
   "id": "bb8b70ad",
   "metadata": {
    "heading_collapsed": true
   },
   "source": [
    "# aug"
   ]
  },
  {
   "cell_type": "code",
   "execution_count": null,
   "id": "f25284f3",
   "metadata": {
    "hidden": true
   },
   "outputs": [],
   "source": [
    "ipython.run_line_magic('run', f'-i {script_name} '\n",
    "                    f'--subject {subjects_NIH[0]} '                    \n",
    "                    f'--exit_after init')"
   ]
  },
  {
   "cell_type": "code",
   "execution_count": null,
   "id": "a7137258",
   "metadata": {
    "hidden": true
   },
   "outputs": [],
   "source": [
    "def recalcRow(row, pard_upd = None, verbose=0):\n",
    "    if row['fitmask'] == 'no':\n",
    "        prlg.loc[rowi,'fun_full'] = row['fun']\n",
    "        return np.nan\n",
    "    runname = row['runname']\n",
    "    pard_ = row['pard']\n",
    "    if pard_ is None:\n",
    "        print('empty',runname)\n",
    "        return np.nan\n",
    "    pard = pard_.copy()\n",
    "    if 'fun' in pard:\n",
    "        del pard['fun']\n",
    "        del pard['nit']\n",
    "        del pard['nfev']        \n",
    "        \n",
    "    s = int(np.ceil(time.time() * 1e4) ) % int( 1e5  )\n",
    "    \n",
    "    if pard_upd is not None:\n",
    "        for k in pard_upd.keys():\n",
    "            if pard[k] != pard_upd[k]:\n",
    "                print(f'    {k}: {pard[k]} -> {pard_upd[k]}')\n",
    "        pard.update(pard_upd)\n",
    "    \n",
    "    subj = row[\"subject\"]\n",
    "    print('recalcRow: ',ind, len(prlg), subj, runname)\n",
    "    df0 = dfcc_all_NIH_.query('trial_shift_size == 1 and '\n",
    "        'trial_group_col_calc == \"trials\" and '\n",
    "        'retention_factor_s == \"0.924\" and '\n",
    "        'subject == @subj').sort_values(['trials'])\n",
    "    pre_break_duration = df0['pre_break_duration'].values\n",
    "    error   = df0['error_pscadj'].values * 180 / np.pi\n",
    "    perturb = df0['perturbation_pscadj'].values\n",
    "    \n",
    "    print('Num nans in errors= ', np.sum(np.isnan(error)))\n",
    "    errors_ =  interpnan(error.copy())  \n",
    "    err_sens = interpnan(df0['err_sens'].values.copy())  \n",
    "\n",
    "    use_true_errors = row['use_true_errors']\n",
    "    cap_err_sens = row['cap_err_sens']    \n",
    "    r = simMoE(-perturb,EC_mask=EC_mask,true_errors=errors_,\n",
    "                pre_break_duration=pre_break_duration,\n",
    "                **pard, cap_err_sens=cap_err_sens,\n",
    "               small_err_thr = row['small_err_thr'],\n",
    "               num_bases = row['num_bases'],\n",
    "        use_true_errors=use_true_errors, verbose=verbose)\n",
    "    \n",
    "    (motor_output,error_pred2,ws,err_sens2, \n",
    "        gaussian_centers,gaussian_variances) = r \n",
    "    \n",
    "    err_sens2g = err_sens2[~np.isnan(err_sens2)]\n",
    "    print('err_sens2 len,mean,std = ', len(err_sens2g), err_sens2g.mean(), err_sens2g.std())\n",
    "    # fitmask should be 'no' here\n",
    "    fun = calcLoss_H(errors_, error_pred2, err_sens, err_sens2,  None, row['fit_to'], row['reg'])\n",
    "    return fun"
   ]
  },
  {
   "cell_type": "code",
   "execution_count": null,
   "id": "4f056068",
   "metadata": {
    "hidden": true
   },
   "outputs": [],
   "source": [
    "#row['small_err_thr']"
   ]
  },
  {
   "cell_type": "code",
   "execution_count": null,
   "id": "81357eef",
   "metadata": {
    "hidden": true
   },
   "outputs": [],
   "source": [
    "# effecot of weight_forgetting_exp_pause is really small because ES in general changes little"
   ]
  },
  {
   "cell_type": "code",
   "execution_count": null,
   "id": "d9d303c8",
   "metadata": {
    "hidden": true
   },
   "outputs": [],
   "source": [
    "verbose = 0\n",
    "row = best_par_rows.iloc[-5]\n",
    "for i in range(1):    \n",
    "    v = np.random.uniform(0,2)    \n",
    "    print(v, row['fun_full'], row['initial_sensitivity'])\n",
    "    display(row['pard'])\n",
    "    fun = recalcRow(row, {'weight_forgetting_exp_pause':v}, verbose=verbose)\n",
    "    print('  fun_full = ',fun, '\\n\\n')"
   ]
  },
  {
   "cell_type": "code",
   "execution_count": null,
   "id": "e712b286",
   "metadata": {
    "hidden": true
   },
   "outputs": [],
   "source": [
    "best_par_rows[['fun_full','weight_forgetting_exp_pause']]"
   ]
  },
  {
   "cell_type": "code",
   "execution_count": null,
   "id": "54ce32c2",
   "metadata": {
    "hidden": true
   },
   "outputs": [],
   "source": [
    "# add values for those with fitmask not full\n",
    "from taumodels.models import simMoE, calcLoss_H, interpnan\n",
    "prlg['fun_full'] = np.nan\n",
    "ind = 0 \n",
    "for rowi,row in prlg.iterrows():\n",
    "    fun = recalcRow(row)\n",
    "    prlg.loc[rowi,'fun_full'] = fun\n",
    "    print('    fun=',fun)\n",
    "    ind += 1"
   ]
  },
  {
   "cell_type": "markdown",
   "id": "6b670abd",
   "metadata": {},
   "source": [
    "# best"
   ]
  },
  {
   "cell_type": "code",
   "execution_count": null,
   "id": "0d706d7d",
   "metadata": {},
   "outputs": [],
   "source": [
    "# best within runname (across runs)\n",
    "bestCalcs = aggRows(prlg, 'fun_full', 'min',\n",
    "     grp = prlg.groupby(['subject','runname'] ) ).reset_index()\n",
    "\n",
    "bestCalcs['fitmask'] = bestCalcs['runname'].str.extract(r'_mask=([^_]*)')\n",
    "\n",
    "bestCalcs.to_pickle(pjoin(path_data,'herz_param_calced6.pkl.zip')\n",
    "    ,compression='zip')\n",
    "\n",
    "bestCalcs[['fitmask','fun','fun_full']]"
   ]
  },
  {
   "cell_type": "code",
   "execution_count": null,
   "id": "036e080b",
   "metadata": {},
   "outputs": [],
   "source": [
    "prl.use_true_errors.unique(), prlg.use_true_errors.unique(), bestCalcs.use_true_errors.unique()"
   ]
  },
  {
   "cell_type": "code",
   "execution_count": null,
   "id": "1e237bce",
   "metadata": {},
   "outputs": [],
   "source": [
    "bcs = bestCalcs\n",
    "ss = sum( [list(b.keys()) for b in bcs['pard'].values], [] )\n",
    "ss = set(ss ) - set(['error_pred', 'err_sens'])\n",
    "pardkeys = list(sorted(ss))\n",
    "\n",
    "def f(row):\n",
    "    pard = row.get('pard',None)\n",
    "    if pard is None:\n",
    "        tpl = tuple( [np.nan] * len(pardkeys))\n",
    "    else:\n",
    "        tpl = tuple( [pard[pk] for pk in pardkeys] )\n",
    "    return tpl\n",
    "bcs[pardkeys]  = bcs.apply(f, 1 ,result_type='expand')\n",
    "prlg[pardkeys] = prlg.apply(f, 1 ,result_type='expand')\n",
    "\n",
    "def f(row):\n",
    "    pard = row['pard']\n",
    "    ES = pard['err_sens']\n",
    "    return np.mean(ES), np.std(ES), np.max(ES)\n",
    "cols_ESsimstat = ['err_sens_mean','err_sens_std','err_sens_max']\n",
    "bcs[cols_ESsimstat] = bcs.apply(f,1, result_type='expand')\n",
    "\n",
    "# param explanation: alpha retetion, alpha w retention of weights, eta weight update speed\n",
    "grp = bcs.groupby('runname')[pardkeys + cols_ESsimstat] \n",
    "me = grp.mean()#.mean(numeric_only = True)\n",
    "desc = grp.describe()#[('alpha')]\n",
    "\n",
    "#desc_allsubj = desc[desc[('fun_full','count')] == 20]\n",
    "desc_allsubj = desc[desc[('fun_full','count')] >= 10]\n",
    "\n",
    "desc_allsubj = desc_allsubj.sort_values([('fun_full','mean')])\n",
    "\n",
    "rn_best = desc_allsubj.iloc[0].name\n",
    "print(rn_best)"
   ]
  },
  {
   "cell_type": "code",
   "execution_count": null,
   "id": "4a95cdb4",
   "metadata": {},
   "outputs": [],
   "source": [
    "# prep ols\n",
    "cols = []\n",
    "for k in pardkeys:\n",
    "    if k in ['fun','fun_full']:\n",
    "        continue\n",
    "    cols += [(k,'mean'),(k,'std') ]\n",
    "\n",
    "cols_ESsimstat_ext = []\n",
    "for k in cols_ESsimstat:    \n",
    "    cols += [(k,'mean'),(k,'std') ]\n",
    "\n",
    "cols = [('eta','count'), ('fun_full','mean'), ('fun_full','std')] + cols\n",
    "print(cols)"
   ]
  },
  {
   "cell_type": "code",
   "execution_count": null,
   "id": "444257e6",
   "metadata": {},
   "outputs": [],
   "source": [
    "desc_allsubj[cols]"
   ]
  },
  {
   "cell_type": "code",
   "execution_count": null,
   "id": "127abc67",
   "metadata": {},
   "outputs": [],
   "source": [
    "# variation of weight forgetting within runname\n",
    "best_par_rows = bcs.query('runname == @rn_best')\n",
    "best_par_rows[['subject','weight_forgetting_exp_pause']]"
   ]
  },
  {
   "cell_type": "code",
   "execution_count": null,
   "id": "c916955d",
   "metadata": {},
   "outputs": [],
   "source": [
    "#%run"
   ]
  },
  {
   "cell_type": "code",
   "execution_count": null,
   "id": "6a31d830",
   "metadata": {},
   "outputs": [],
   "source": [
    "rn_new = desc_allsubj.reset_index().runname.str.replace('capES=False; ','').\\\n",
    "    str.replace(' optimES0=optimize; ','').str.replace('nb=-1','')\n",
    "rn_new = rn_new.str.replace('useTrueErr','trueErr').str.replace('__sethr=','; ')\n",
    "rn_new.values"
   ]
  },
  {
   "cell_type": "code",
   "execution_count": null,
   "id": "016f06b2",
   "metadata": {},
   "outputs": [],
   "source": [
    "desc_allsubj_.columns"
   ]
  },
  {
   "cell_type": "code",
   "execution_count": null,
   "id": "99dd633f",
   "metadata": {},
   "outputs": [],
   "source": [
    "# what is the best runname withing subset?\n",
    "\n",
    "# alpha ~ 0.95. alpha_w ~ 0.36. eta~0.02, eta=0.05, \n",
    "# init ES ~ 0.0064 (std = 0.08), pause forget ~ 0.8 (std=0.87).\n",
    "grp = bcs.groupby(['runname','use_true_errors','fit_to'])[pardkeys + cols_ESsimstat] \n",
    "me = grp.mean()#.mean(numeric_only = True)\n",
    "grp2 = me.groupby(['use_true_errors','fit_to'])\n",
    "mebest = aggRows(me, 'fun_full', 'min', grp=grp2).reset_index().sort_values('fun_full')\n",
    "\n",
    "#desc_allsubj_ = desc_allsubj.copy().reset_index()\n",
    "rn_new = desc_allsubj.index.str.replace('capES=False; ','').\\\n",
    "    str.replace(' optimES0=optimize; ','').str.replace('nb=-1','')\n",
    "rn_new = rn_new.str.replace('useTrueErr','trueErr').str.replace('__sethr=','; ')\n",
    "desc_allsubj['rnshort'] = rn_new\n",
    "\n",
    "rns_best = list(mebest.runname) \n",
    "rns = rns_best\n",
    "\n",
    "runnames_sorted_funfull = mebest['runname'].values\n",
    "\n",
    "display(rns_best)\n",
    "desc_allsubj_ = desc_allsubj.reset_index()\n",
    "desc_allsubj_ = desc_allsubj_[desc_allsubj_['runname'].isin(rns_best)]\n",
    "display( desc_allsubj_[[('rnshort','')] + cols[:11]] )\n",
    "#display( desc_allsubj_[cols[6:11]] )\n",
    "display( desc_allsubj_[[('rnshort','')] +cols[11:]] )\n",
    "display( desc_allsubj_[[('rnshort','')] +cols[15:]] )"
   ]
  },
  {
   "cell_type": "markdown",
   "id": "966fff5f",
   "metadata": {
    "heading_collapsed": true
   },
   "source": [
    "## old"
   ]
  },
  {
   "cell_type": "code",
   "execution_count": null,
   "id": "3dffe3cb",
   "metadata": {
    "hidden": true
   },
   "outputs": [],
   "source": [
    "# get the very best\n",
    "# mean across subjects\n",
    "bc = bestCalcs.groupby(['runname'])['fun_full'].mean().to_frame()\n",
    "bcstd = bestCalcs.groupby(['runname'])['fun_full'].std().to_frame()\n",
    "i = bc['fun_full'].idxmin()\n",
    "print( bc.loc[i].name)\n",
    "print('mean = ', bc.loc[i,'fun_full'], ', std = ',bcstd.loc[i,'fun_full'] )\n",
    "rn = bc.loc[i].name"
   ]
  },
  {
   "cell_type": "code",
   "execution_count": null,
   "id": "05a04f83",
   "metadata": {
    "hidden": true
   },
   "outputs": [],
   "source": []
  },
  {
   "cell_type": "code",
   "execution_count": null,
   "id": "0616dbd1",
   "metadata": {
    "hidden": true
   },
   "outputs": [],
   "source": [
    "cols = ['eta','alpha','alpha_w','weight_forgetting_exp_pause','initial_sensitivity','fun']\n",
    "bc00 = bestCalcs.query('use_true_errors == True and fitmask != \"random\" and reg > 0')\n",
    "bc0 = bc00.groupby(['runname'])\n",
    "bc = bc0['fun'].mean().to_frame()\n",
    "print(bc)\n",
    "if len(bc):\n",
    "    i = bc['fun'].idxmin()\n",
    "    print( bc.loc[i] )\n",
    "    rn = bc.loc[i].name"
   ]
  },
  {
   "cell_type": "code",
   "execution_count": null,
   "id": "39298d5b",
   "metadata": {
    "hidden": true
   },
   "outputs": [],
   "source": [
    "bad_subjects = set(subjects_NIH) - set( bc00.query('runname == @rn')['subject'].values )\n",
    "bad_subjects = list(bad_subjects)\n",
    "print(len(bad_subjects),bad_subjects)"
   ]
  },
  {
   "cell_type": "code",
   "execution_count": null,
   "id": "5d31a765",
   "metadata": {
    "hidden": true
   },
   "outputs": [],
   "source": [
    "#rn = 'useTrueErr=True; optimES0=optimize; capES=False; fit_to=errors; _reg=0.25_mask=stable_nb=-1_sethr=mestd*1.0'"
   ]
  },
  {
   "cell_type": "code",
   "execution_count": null,
   "id": "be335e30",
   "metadata": {
    "hidden": true
   },
   "outputs": [],
   "source": [
    "prl.query('subject.isin(@bad_subjects) and runname == @rn').iloc[0].minres"
   ]
  },
  {
   "cell_type": "code",
   "execution_count": null,
   "id": "185b0bae",
   "metadata": {
    "hidden": true
   },
   "outputs": [],
   "source": [
    "bc0[cols].mean().nsmallest(10,columns=['fun'])[cols]"
   ]
  },
  {
   "cell_type": "code",
   "execution_count": null,
   "id": "e75f940b",
   "metadata": {
    "hidden": true
   },
   "outputs": [],
   "source": [
    "dfd = bestCalcs.query('use_true_errors == True and runname == @rn').\\\n",
    "    groupby(['runname'])[cols].describe(percentiles=[])"
   ]
  },
  {
   "cell_type": "code",
   "execution_count": null,
   "id": "7da0a38c",
   "metadata": {
    "hidden": true
   },
   "outputs": [],
   "source": [
    "# df_ = dfcc_all_NIH_.query('trial_shift_size == 1 and '\n",
    "#     'trial_group_col_calc == \"trials\" and retention_factor_s == \"0.924\"'\n",
    "#                          )\n",
    "# df_.loc[df_['pre_break_duration'] > 0,\n",
    "#         ['subject','trials','pre_break_duration']]"
   ]
  },
  {
   "cell_type": "markdown",
   "id": "0e85beb9",
   "metadata": {},
   "source": [
    "# plot prep"
   ]
  },
  {
   "cell_type": "code",
   "execution_count": null,
   "id": "4e4681bf",
   "metadata": {},
   "outputs": [],
   "source": [
    "assert not bestCalcs.duplicated(['subject','runname']).any()\n",
    "from taumodels.models import calcLoss_H,interpnan"
   ]
  },
  {
   "cell_type": "markdown",
   "id": "552d2285",
   "metadata": {
    "heading_collapsed": true
   },
   "source": [
    "### old"
   ]
  },
  {
   "cell_type": "code",
   "execution_count": null,
   "id": "259bd140",
   "metadata": {
    "code_folding": [],
    "hidden": true
   },
   "outputs": [],
   "source": [
    "# resim\n",
    "dfcc_all_NIH_['perturbation_pscadj'] = dfcc_all_NIH_['perturbation']\n",
    "dfcc_all_NIH_.loc[dfcc_all_NIH_['pert_seq_code'] == 1, \n",
    "    'perturbation_pscadj'] = -dfcc_all_NIH_['perturbation']\n",
    "\n",
    "#df0['perturbation'].describe()\n",
    "\n",
    "dfr =[]\n",
    "for rowi,row in bestCalcs.iterrows():\n",
    "    runname = row['runname']\n",
    "    pard_ = row['pard']\n",
    "    if pard_ is None:\n",
    "        print('empty',runname)\n",
    "        continue\n",
    "    pard = pard_.copy()\n",
    "    if 'fun' in pard:\n",
    "        del pard['fun']\n",
    "        del pard['nit']\n",
    "        del pard['nfev']        \n",
    "    \n",
    "    subj = row[\"subject\"]\n",
    "    print(rowi,len(bestCalcs), subj, runname)\n",
    "    df0 = dfcc_all_NIH_.query('trial_shift_size == 1 and '\n",
    "        'trial_group_col_calc == \"trials\" and '\n",
    "        'retention_factor_s == \"0.924\" and '\n",
    "        'subject == @subj').sort_values(['trials'])\n",
    "    pre_break_duration = df0['pre_break_duration'].values\n",
    "    error = df0['error_pscadj'].values * 180 / np.pi\n",
    "    perturb = df0['perturbation_pscadj'].values\n",
    "    \n",
    "    errors_ = interpnan(error.copy())  \n",
    "    #err_sens = np.interpnan(df0['err_sens'])  \n",
    "\n",
    "    use_true_errors = row['use_true_errors']\n",
    "    cap_err_sens = row['cap_err_sens']    \n",
    "    r = simMoE(-perturb,EC_mask=EC_mask,true_errors=errors_,\n",
    "                pre_break_duration=pre_break_duration,\n",
    "                **pard, cap_err_sens=cap_err_sens,\n",
    "               small_err_thr = row['small_err_thr'],\n",
    "               num_bases = row['num_bases'],\n",
    "        use_true_errors=use_true_errors)\n",
    "    \n",
    "    (motor_output,error_pred2,ws,err_sens2, \n",
    "        gaussian_centers,gaussian_variances) = r \n",
    "    \n",
    "    # fitmask should be 'no' here\n",
    "    #fun = calcLoss_H(errors_, error_pred2, err_sens, err_sens2, 'no', row['fit_to'])\n",
    "    #bestCalcs.loc[row,'fun_full'] = fun\n",
    "    \n",
    "    #if prep_plot:\n",
    "    _dat = np.array((motor_output,error_pred2,\n",
    "        err_sens2, np.arange(len(motor_output), dtype=int) ) )\n",
    "    df_ = pd.DataFrame(data=_dat.T, \n",
    "        columns = ['motor_output','error_pred2',\n",
    "                'err_sens2','trial_index'])\n",
    "            \n",
    "    df_['err_sens'] = df0['err_sens'].values\n",
    "    df_['error_pscadj_deg'] = df0['error_pscadj'].values * 180 / np.pi\n",
    "\n",
    "    for kn,kv in row.items():\n",
    "        df_[kn] = kv\n",
    "    dfr += [df_ ]\n",
    "dfr = pd.concat(dfr,ignore_index=1)\n",
    "\n",
    "dfr = dfr.sort_values(['runname'], ascending=False)\n",
    "\n",
    "runnames = dfr['runname'].unique()\n",
    "print(runnames)\n",
    "\n",
    "gc.collect()"
   ]
  },
  {
   "cell_type": "code",
   "execution_count": null,
   "id": "7e04d010",
   "metadata": {
    "hidden": true
   },
   "outputs": [],
   "source": [
    "pard0['err_sens']"
   ]
  },
  {
   "cell_type": "code",
   "execution_count": null,
   "id": "6e5f5e92",
   "metadata": {
    "hidden": true
   },
   "outputs": [],
   "source": [
    "bestCalcs.columns"
   ]
  },
  {
   "cell_type": "markdown",
   "id": "918c63b4",
   "metadata": {},
   "source": [
    "### new"
   ]
  },
  {
   "cell_type": "code",
   "execution_count": null,
   "id": "b96bb79e",
   "metadata": {},
   "outputs": [],
   "source": [
    "assert not bestCalcs.duplicated(['subject','runname']).any()\n",
    "from taumodels.models import calcLoss_H,interpnan\n",
    "\n",
    "ipython.run_line_magic('run', f'-i {script_name} '\n",
    "                    f'--subject {subjects_NIH[0]} '                    \n",
    "                    f'--exit_after init')"
   ]
  },
  {
   "cell_type": "code",
   "execution_count": null,
   "id": "71980b82",
   "metadata": {},
   "outputs": [],
   "source": [
    "dfr =[]\n",
    "for rowi,row in bestCalcs.query('runname.isin(@rns_best)').iterrows():\n",
    "#for rowi,row in bestCalcs.iterrows():    \n",
    "    pard = row['pard']\n",
    "    subj = row[\"subject\"]\n",
    "    \n",
    "    err_sens_pred   = pard['err_sens']\n",
    "    error_pred = pard['error_pred']    \n",
    "    \n",
    "    print(rowi,len(bestCalcs), subj, row['runname'])\n",
    "    df0 = dfcc_all_NIH_.query('trial_shift_size == 1 and '\n",
    "        'trial_group_col_calc == \"trials\" and '\n",
    "        'retention_factor_s == \"0.924\" and '\n",
    "        'subject == @subj').sort_values(['trials'])    \n",
    "    \n",
    "    _dat = np.array((error_pred,\n",
    "        err_sens_pred, np.arange(len(err_sens_pred), dtype=int) ) )\n",
    "    df_ = pd.DataFrame(data=_dat.T, \n",
    "        columns = ['error_pred2',\n",
    "                'err_sens2','trial_index'])\n",
    "            \n",
    "    df_['err_sens'] = df0['err_sens'].values\n",
    "    df_['error_pscadj_deg'] = df0['error_pscadj'].values * 180 / np.pi\n",
    "    \n",
    "    df_['errdif'] = (df_['error_pred2'] - df_['error_pscadj_deg']).abs()\n",
    "    \n",
    "    for kn,kv in row.items():\n",
    "        if kn in ['pard','arg','minres','err_sens','error_pred']:\n",
    "            continue\n",
    "        df_[kn] = kv\n",
    "    dfr += [df_ ]\n",
    "dfr = pd.concat(dfr,ignore_index=1)\n",
    "\n",
    "dfr = dfr.sort_values(['runname'], ascending=False)\n",
    "\n",
    "runnames = dfr['runname'].unique()\n",
    "print(runnames)\n",
    "\n",
    "gc.collect()"
   ]
  },
  {
   "cell_type": "code",
   "execution_count": null,
   "id": "e26ef9ce",
   "metadata": {},
   "outputs": [],
   "source": [
    "print( prl.subject.nunique(), dfr.subject.nunique(), len(runnames) )"
   ]
  },
  {
   "cell_type": "code",
   "execution_count": null,
   "id": "0daa0583",
   "metadata": {},
   "outputs": [],
   "source": [
    "# # alpha retetion, alpha w retention of weights, eta weight update speed\n",
    "# grp = bcs.groupby('runname')[pardkeys + ['fun_full','fun']] \n",
    "# me = grp.mean()#.mean(numeric_only = True)\n",
    "# me = me.sort_values(['fun_full'])\n",
    "# me['fun_full_diff'] = me['fun_full'].diff()\n",
    "# display(me.iloc[:20])"
   ]
  },
  {
   "cell_type": "markdown",
   "id": "f1887f13",
   "metadata": {},
   "source": [
    "# Plot "
   ]
  },
  {
   "cell_type": "code",
   "execution_count": null,
   "id": "71c7607f",
   "metadata": {},
   "outputs": [],
   "source": [
    "gc.collect()"
   ]
  },
  {
   "cell_type": "code",
   "execution_count": null,
   "id": "3adff777",
   "metadata": {},
   "outputs": [],
   "source": [
    "from IPython.display import display, HTML\n",
    "display(HTML(\"<style>.container { width:100% !important; }</style>\"))"
   ]
  },
  {
   "cell_type": "code",
   "execution_count": null,
   "id": "1f5cfce2",
   "metadata": {
    "code_folding": []
   },
   "outputs": [],
   "source": [
    "def row2s(row):\n",
    "    sres =''\n",
    "    sres_l = []\n",
    "    for i,((a1,b1),(a2,b2)) in enumerate( zip(cols[1::2],cols[2::2]) ):\n",
    "        #print(i, a1,b1, a2,b2)    \n",
    "        c1,c2 = row[(a1,'mean')],row[(a1,'std')]\n",
    "        bb = c2/c1 * 100\n",
    "        a1 = a1.replace('forgetting_exp_pause','forget')\n",
    "        a1 = a1.replace('initial_sensitivity','ES0')\n",
    "        s = f'{a1}={c1:.3f} (std={bb:.2f}%)'\n",
    "        sres += s + '; '\n",
    "        if len(sres) > 60:\n",
    "            sres_l += [sres]\n",
    "            sres = ''\n",
    "        #print('      ' ,s)\n",
    "    sres_final = '\\n'.join(sres_l) \n",
    "    return sres_final\n",
    "    #print('\\n\\n')\n",
    "    #print('\\n'.join(sres_l) )"
   ]
  },
  {
   "cell_type": "code",
   "execution_count": null,
   "id": "655d5052",
   "metadata": {
    "code_folding": [
     0
    ],
    "run_control": {
     "marked": false
    }
   },
   "outputs": [],
   "source": [
    "# plot\n",
    "#%debug\n",
    "import warnings\n",
    "trs = dfos.query('perturbation.diff().abs() > 0 and env == \"stable\"')['trials'].values\n",
    "\n",
    "ys = [['errdif'], ['error_pred2','error_pscadj_deg'], ['err_sens2'], ['err_sens']]\n",
    "\n",
    "for rn in rns_best:\n",
    "#for rn in list(runnames):#[2:]:\n",
    "    gc.collect()\n",
    "    df_ = dfr.query('runname == @rn').copy()# and fit_to == \"errors\"')\n",
    "    \n",
    "    row = desc_allsubj.loc[rn,cols]\n",
    "    ss = '\\n' + row2s(row)\n",
    "    print(rn,ss)\n",
    "    \n",
    "    if len(df_) == 0:\n",
    "        print('Emtpy for ',rn)\n",
    "        continue\n",
    "    with warnings.catch_warnings(record=True):\n",
    "        warnings.filterwarnings(\"ignore\",category=FutureWarning)\n",
    "        warnings.filterwarnings(\"ignore\",category=UserWarning)        \n",
    "        fg,df__ = relplot_multi(kind='line',data=df_,\n",
    "                x='trial_index',\n",
    "            ys=ys, \n",
    "            ylabel = ['errdiff','error','ES_opt','ES_true'],\n",
    "            ylim=[(0,40), (-50,50), (-0.01,0.15), (-2,2)], aspect = 2, \n",
    "                                height = 3,\n",
    "            facet_kws = {'sharex':True, 'sharey':False})\n",
    "\n",
    "        fg.refline(y=0)    \n",
    "        fg.refline(x=192)\n",
    "        fg.refline(x=192*2)\n",
    "        fg.refline(x=192*3)\n",
    "        fg.axes[2,0].axhline(y=row[('initial_sensitivity')]['mean'],\n",
    "                            color='grey',ls='--')\n",
    "        plt.suptitle(rn + '\\n' + ss, fontsize=10)    \n",
    "\n",
    "        for tr in trs:\n",
    "            fg.refline(x=tr) \n",
    "                \n",
    "                \n",
    "        plt.savefig(pjoin(path_fig, '_Herz_fit_to_ES', rn + '.pdf'))\n",
    "        print('   saved')\n",
    "        plt.close()\n",
    "        \n",
    "    del df__,df_\n",
    "    \n",
    "    print(rn)"
   ]
  },
  {
   "cell_type": "code",
   "execution_count": null,
   "id": "35a8bd58",
   "metadata": {},
   "outputs": [],
   "source": [
    "row"
   ]
  },
  {
   "cell_type": "code",
   "execution_count": null,
   "id": "963af080",
   "metadata": {},
   "outputs": [],
   "source": [
    "print(bestCalcs.query('runname == @rn').columns)"
   ]
  },
  {
   "cell_type": "code",
   "execution_count": null,
   "id": "7909feea",
   "metadata": {},
   "outputs": [],
   "source": [
    "rns_best"
   ]
  },
  {
   "cell_type": "code",
   "execution_count": null,
   "id": "0723d6fe",
   "metadata": {},
   "outputs": [],
   "source": [
    "# plot nice\n",
    "#%debug\n",
    "import warnings\n",
    "trs = dfos.query('perturbation.diff().abs() > 0 and env == \"stable\"')['trials'].values\n",
    "\n",
    "#ys = [['errdif'], ['error_pred2','error_pscadj_deg'], ['err_sens2'], ['err_sens']]\n",
    "ys = [['errdif'], ['error_pred2','error_pscadj_deg'], ['err_sens2']]\n",
    "\n",
    "for rn in np.array(rns_best)[[0,2]]:\n",
    "#for rn in rns_best[:2]:\n",
    "#for rn in list(runnames):#[2:]:\n",
    "    gc.collect()\n",
    "    df_ = dfr.query('runname == @rn').copy()# and fit_to == \"errors\"')\n",
    "    \n",
    "    ute,fitto = bestCalcs.query('runname == @rn').iloc[0][['use_true_errors','fit_to']]\n",
    "    \n",
    "    row = desc_allsubj.loc[rn,cols]\n",
    "    ss = '\\n' + row2s(row)\n",
    "    print(rn,ss)\n",
    "    \n",
    "    if len(df_) == 0:\n",
    "        print('Emtpy for ',rn)\n",
    "        continue\n",
    "    with warnings.catch_warnings(record=True):\n",
    "        warnings.filterwarnings(\"ignore\",category=FutureWarning)\n",
    "        warnings.filterwarnings(\"ignore\",category=UserWarning)        \n",
    "        fg,df__ = relplot_multi(sep_ys_by = 'hue', kind='line',data=df_,\n",
    "                x='trial_index',\n",
    "            ys=ys, \n",
    "            ylabel = ['Error discrepancy [deg]','Error [deg]','Simulated error sensitivity'],\n",
    "            ylim=[(-10,30), (-50,50), (-0.01,0.125)], aspect = 2, \n",
    "                                height = 3,\n",
    "            facet_kws = {'sharex':True, 'sharey':False}, ci='sd')\n",
    "\n",
    "        fg.refline(y=0)    \n",
    "        fg.refline(x=192)\n",
    "        fg.refline(x=192*2)\n",
    "        fg.refline(x=192*3)\n",
    "        fg.axes[2,0].axhline(y=row[('initial_sensitivity')]['mean'],\n",
    "                            color='grey',ls='--')\n",
    "        #if rn.find('u')\n",
    "        ttl0 = f'Use true history = {bool(ute)}'\n",
    "        #plt.suptitle(, fontsize=12)    \n",
    "        plt.suptitle(ttl0 + '\\n' + ss, fontsize=10)    \n",
    "\n",
    "        for tr in trs:\n",
    "            fg.refline(x=tr) \n",
    "                \n",
    "                \n",
    "        plt.savefig(pjoin(path_fig, '_Herz_fit_to_ES', rn + '.pdf'))\n",
    "        print('   saved')\n",
    "        #plt.close()\n",
    "        \n",
    "    del df__,df_\n",
    "    \n",
    "    print(rn)"
   ]
  },
  {
   "cell_type": "code",
   "execution_count": null,
   "id": "0cdcce9f",
   "metadata": {},
   "outputs": [],
   "source": []
  }
 ],
 "metadata": {
  "kernelspec": {
   "display_name": "merr3_mamba",
   "language": "python",
   "name": "merr3_mamba"
  },
  "language_info": {
   "codemirror_mode": {
    "name": "ipython",
    "version": 3
   },
   "file_extension": ".py",
   "mimetype": "text/x-python",
   "name": "python",
   "nbconvert_exporter": "python",
   "pygments_lexer": "ipython3",
   "version": "3.11.5"
  }
 },
 "nbformat": 4,
 "nbformat_minor": 5
}
