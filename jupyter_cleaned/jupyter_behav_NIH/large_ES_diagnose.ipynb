{
 "cells": [
  {
   "cell_type": "code",
   "execution_count": null,
   "id": "2d09d6d7",
   "metadata": {},
   "outputs": [],
   "source": [
    "%load_ext autoreload\n",
    "%autoreload 2\n",
    "\n",
    "import os\n",
    "ipy = get_ipython()\n",
    "#data_dir_general = '/home/demitau/data_Quentin'\n",
    "#data_subdir_mem_err_main = 'full_experiments/data2'\n",
    "from os.path import join as pjoin\n",
    "import os,sys; sys.path.append(os.path.expandvars('$CODE_MEMORY_ERRORS'))\n",
    "import error_sensitivity\n",
    "#data_dir_input = pjoin(data_dir_general,data_subdir_mem_err_main)\n",
    "import pandas as pd\n",
    "import seaborn as sns; print(sns.__version__)\n",
    "from datetime import datetime\n",
    "\n",
    "import pingouin as pg\n",
    "#data_dir_general = '/home/demitau/data_Quentin'\n",
    "#data_subdir_mem_err_main = 'full_experiments/data2'\n",
    "#data_dir_input = pjoin(data_dir_general,data_subdir_mem_err_main)\n",
    "#scripts_dir = pjoin(data_dir_general,'full_experiments','scripts2')\n",
    "\n",
    "data_dir_general = os.path.expandvars('$DATA_QUENTIN')\n",
    "data_dir_input = os.path.expandvars('$DATA_MEMORY_ERRORS_STAB_AND_STOCH')\n",
    "#scripts_dir = pjoin( os.path.expandvars('$CODE_MEMORY_ERRORS'), 'previous_analyses')\n",
    "scripts_dir = pjoin( os.path.expandvars('$CODE_MEMORY_ERRORS'))\n",
    "\n",
    "\n",
    "print(data_dir_input, scripts_dir)\n",
    "\n",
    "subjects = [f for f in os.listdir(data_dir_input) if f.startswith('sub') ]\n",
    "subjects = list(sorted(subjects))\n",
    "print(subjects)"
   ]
  },
  {
   "cell_type": "code",
   "execution_count": null,
   "id": "cc246ffb",
   "metadata": {},
   "outputs": [],
   "source": [
    "from config2 import path_data\n",
    "import os\n",
    "import pandas as pd\n",
    "import matplotlib.pyplot as plt\n",
    "import matplotlib as mpl\n",
    "import seaborn as sns\n",
    "from behav_proc import *\n",
    "\n",
    "import numpy as np\n",
    "#from collections import OrderedDict as odict\n",
    "from config2 import envcode2env\n",
    "from pingouin import ttest\n",
    "\n",
    "from base2 import radius_cursor\n",
    "radius_cursor"
   ]
  },
  {
   "cell_type": "code",
   "execution_count": null,
   "id": "9cf52832",
   "metadata": {},
   "outputs": [],
   "source": [
    "fnf = pjoin(path_data,'df_all_multi_tsz_.pkl.zip')\n",
    "#fnf = '/home/demitau/ownCloud/Current/merr_data/df_all_multi_tsz.pkl.zip'\n",
    "print(fnf)\n",
    "print( str(datetime.fromtimestamp(os.stat(fnf).st_mtime)))\n",
    "df_all_multi_tsz = pd.read_pickle(fnf)\n",
    "#dfc_multi_tsz = pd.   read_pickle(pjoin(path_data,'df_all_multi_tsz_trunc_q=0.05.pkl.zip'))\n",
    "df = df_all_multi_tsz.query('trial_shift_size == 1 and trial_group_col_calc == \"trialwe\" '\n",
    "                            ' and retention_factor_s == \"1.000\"').copy()\n",
    "df_orig = df\n",
    "\n",
    "assert not df.duplicated(['subject','trials']).any()\n",
    "#del df_all_multi_tsz\n",
    "#df['env'] = df['environment'].apply(lambda x: envcode2env[x])\n",
    "assert 'env' in df\n",
    "df['feedback_deg'] = df['feedback'] / np.pi * 180\n",
    "df['error_deg'] = df['error'] / np.pi * 180 "
   ]
  },
  {
   "cell_type": "code",
   "execution_count": null,
   "id": "0b5945b0",
   "metadata": {},
   "outputs": [],
   "source": [
    "dfni = df[~np.isinf(df['err_sens'])]\n",
    "std_mult = 5\n",
    "ES_thr = dfni_d[dfni_d.columns[1:]].mean().to_dict()['std'] * std_mult\n",
    "dfni_g = dfni.query('err_sens.abs() <= @ES_thr')\n",
    "nremoved_pooled = len(dfni) - len(dfni_g)\n",
    "\n",
    "sz = dfni.groupby(['subject']).size()\n",
    "sz_g = dfni_g.groupby(['subject']).size()\n",
    "mpct = ((sz - sz_g) / sz).mean() * 100\n",
    "print(f'Mean percentage of removed trials = {mpct:.2f}%, '\n",
    "      f'pooled = {nremoved_pooled / len(dfni) * 100:.2f}%')"
   ]
  },
  {
   "cell_type": "code",
   "execution_count": null,
   "id": "f6d0731d",
   "metadata": {},
   "outputs": [],
   "source": [
    "print('Largetst ES')\n",
    "display( df.loc[df['err_sens'].nlargest(10).index,\n",
    "      ['subject_ind','trials','err_sens','correction',\n",
    "       'vals_for_corr1','vals_for_corr2',\n",
    "       'target_locs','org_feedback',\n",
    "      'error','prev_error']] )\n",
    "dfni = df[~np.isinf(df['err_sens'])]\n",
    "print('Pooled ES')\n",
    "display(dfni['err_sens'].describe())\n",
    "\n",
    "print('Mean of ES stats within particpant')\n",
    "dfni_d = dfni.groupby(['subject'])['err_sens'].describe().reset_index()#.mean(numeric_only=True)\n",
    "dfni_d[dfni_d.columns[1:]].mean().to_frame().T"
   ]
  },
  {
   "cell_type": "code",
   "execution_count": null,
   "id": "4677f1dc",
   "metadata": {},
   "outputs": [],
   "source": [
    "std_mult = 5\n",
    "ES_thr = dfni_d[dfni_d.columns[1:]].mean().to_dict()['std'] * std_mult\n",
    "dfni_g = dfni.query('err_sens.abs() <= @ES_thr')\n",
    "len(dfni_g), len(dfni), len(dfni) - len(dfni_g)"
   ]
  },
  {
   "cell_type": "code",
   "execution_count": null,
   "id": "6c9f22d2",
   "metadata": {},
   "outputs": [],
   "source": [
    "sz = dfni.groupby(['subject']).size()\n",
    "sz_g = dfni_g.groupby(['subject']).size()\n",
    "display('N removed trials',sz - sz_g)\n",
    "mpct = ((sz - sz_g) / sz).mean() * 100\n",
    "print(f'Mean percentage of removed trials = {mpct}%')"
   ]
  },
  {
   "cell_type": "code",
   "execution_count": null,
   "id": "a9196c6d",
   "metadata": {},
   "outputs": [],
   "source": [
    "dftmp = df[~np.isinf(df['err_sens'])].query('err_sens.abs() > 10')\n",
    "tr = list(set( (dftmp.trials.values) - 1 ) | set(dftmp.trials.values))\n",
    "sinds = list(sorted( (dftmp.subject_ind) ) )\n",
    "print(tr,sinds)\n",
    "dftmp = df.query('subject_ind.isin(@sinds) and trials.isin(@tr)')\n",
    "dftmp = dftmp.reset_index()\n",
    "dftmp[['subject_ind','trials','err_sens','correction',\n",
    "       'vals_for_corr1','vals_for_corr2',\n",
    "       'target_locs','org_feedback',\n",
    "      'error','prev_error']]"
   ]
  },
  {
   "cell_type": "code",
   "execution_count": null,
   "id": "1b0f2641",
   "metadata": {},
   "outputs": [],
   "source": [
    "from figure.plots import relplot_multi\n",
    "dftmp = df.query(\n",
    "    'subject_ind == 6 '\n",
    "    ' and trials >= 523 and trials <= 528')\n",
    "print( len(dftmp) )\n",
    "r= relplot_multi(data=dftmp,\n",
    "              ys=[['err_sens'],\n",
    "                  ['correction'],                  \n",
    "                  ['vals_for_corr1'],\n",
    "                  ['movement_duration'],\n",
    "                  ['home_duration'],\n",
    "                  ['error'],\n",
    "                 ['target_locs'],\n",
    "                 ['org_feedback'],\n",
    "                 ], x='trials',\n",
    "                height=1.7,aspect=4)\n",
    "r[0].refline(y=0)\n",
    "r[0].refline(x=526)"
   ]
  },
  {
   "cell_type": "code",
   "execution_count": null,
   "id": "dfc3c7d4",
   "metadata": {},
   "outputs": [],
   "source": [
    "from figure.plots import relplot_multi\n",
    "dftmp = df.query(\n",
    "    'subject_ind == 4 '\n",
    "    ' and trials >= 303 and trials <= 308')\n",
    "print( len(dftmp) )\n",
    "r= relplot_multi(data=dftmp,\n",
    "              ys=[['err_sens'],\n",
    "                  ['correction'],                  \n",
    "                  ['vals_for_corr1'],\n",
    "                  ['movement_duration'],\n",
    "                  ['home_duration'],\n",
    "                  ['error'],\n",
    "                 ['target_locs'],\n",
    "                 ['org_feedback'],\n",
    "                 ], x='trials',\n",
    "                height=1.7,aspect=4)\n",
    "r[0].refline(y=0)\n",
    "r[0].refline(x=307)\n",
    "# on trial 306 belief_ is very large, on 307 it is small so \n",
    "# corretion is big at 307\n",
    "# why belief_ is large on 306? because it is =\n",
    "# target_locs - org_feedback and target_locs is pos and org_feedback is neg"
   ]
  },
  {
   "cell_type": "code",
   "execution_count": null,
   "id": "f0d87051",
   "metadata": {},
   "outputs": [],
   "source": [
    "from figure.plots import relplot_multi\n",
    "dftmp = df.query(\n",
    "    'subject_ind == 4  '\n",
    "    ' and trials >= 0 and trials <= 708')\n",
    "print( len(dftmp) )\n",
    "r= relplot_multi(data=dftmp,\n",
    "              ys=[['err_sens'],\n",
    "                  ['correction'],                  \n",
    "                  ['vals_for_corr1'],\n",
    "                  ['movement_duration'],\n",
    "                  ['home_duration'],\n",
    "                  ['error'],\n",
    "                 ['target_locs'],\n",
    "                 ['org_feedback'],\n",
    "                 ], x='trials',\n",
    "                height=2,aspect=3)\n",
    "r[0].refline(y=0)\n",
    "r[0].refline(x=307)"
   ]
  },
  {
   "cell_type": "code",
   "execution_count": null,
   "id": "5359196a",
   "metadata": {},
   "outputs": [],
   "source": [
    "sns.pairplot(data=dftmp, \n",
    "    x_vars=['movement_duration','home_duration',\n",
    "            'pre_break_duration'],\n",
    "    y_vars = ['error','err_sens','correction','vals_for_corr1'])"
   ]
  },
  {
   "cell_type": "code",
   "execution_count": null,
   "id": "c51e1d59",
   "metadata": {},
   "outputs": [],
   "source": []
  }
 ],
 "metadata": {
  "kernelspec": {
   "display_name": "merr3_mamba",
   "language": "python",
   "name": "merr3_mamba"
  },
  "language_info": {
   "codemirror_mode": {
    "name": "ipython",
    "version": 3
   },
   "file_extension": ".py",
   "mimetype": "text/x-python",
   "name": "python",
   "nbconvert_exporter": "python",
   "pygments_lexer": "ipython3",
   "version": "3.11.5"
  }
 },
 "nbformat": 4,
 "nbformat_minor": 5
}
