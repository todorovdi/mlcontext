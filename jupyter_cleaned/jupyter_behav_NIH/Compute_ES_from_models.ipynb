{
 "cells": [
  {
   "cell_type": "code",
   "execution_count": null,
   "id": "76fb2c75",
   "metadata": {},
   "outputs": [],
   "source": [
    "%load_ext autoreload\n",
    "%autoreload 2\n",
    "from IPython import get_ipython; ipython = get_ipython()\n",
    "#%run -i ../exec_HPC.py 0\n",
    "import os \n",
    "import sys\n",
    "from os.path import join as pjoin\n",
    "p = pjoin( os.path.expandvars('$CODE_MEMORY_ERRORS'), 'state-space-adaptation' )\n",
    "sys.path.append(p)\n",
    "sys.path.append(os.path.expandvars('$CODE_MEMORY_ERRORS'))\n",
    "import pandas as pd\n",
    "import time\n",
    "import numpy as np\n",
    "from config2 import path_data\n",
    "\n",
    "import state_space_Tan2014 as tan\n",
    "from state_space_Tan2014 import *\n",
    "import matplotlib.pyplot as plt\n",
    "\n",
    "fnf_NIH = pjoin(path_data,'df_all_multi_tsz_.pkl.zip')\n",
    "dfcc_all_NIH_ = pd.read_pickle(fnf_NIH)\n",
    "dfcc_all_NIH = dfcc_all_NIH_.query('trial_shift_size == 1 and '\n",
    "    'trial_group_col_calc == \"trials\" and retention_factor_s == \"0.924\"').copy()\n",
    "assert not dfcc_all_NIH.duplicated(['subject','trials']).any()\n",
    "from datetime import datetime\n",
    "print('Data mtime',datetime.fromtimestamp(os.stat(fnf_NIH).st_mtime))\n",
    "\n",
    "subjects_NIH = dfcc_all_NIH['subject'].unique()\n",
    "from taumodels.models import fitDiedrischenModel,fitTanModel\n",
    "\n",
    "# # main run\n",
    "# nt = 1000\n",
    "# nsub = 4\n",
    "# subjects_sub = subjects[0:nsub]\n",
    "# numtrain = 12\n",
    "# dfc = df.query('subject in @subjects_sub and trial_index < @nt and trial_index >= @numtrain').copy()\n",
    "# dfc.loc[dfc.query('error_lh2_ang_deg.abs() > 60').index, 'error_lh2_ang_deg'] = np.nan\n",
    "# # TODO: maybe I should invalidate too big errors, they are clearly outliers\n",
    "n_jobs = 8\n",
    "numtrain = 12\n",
    "# do_plot = 0\n",
    "# #ipython.run_line_magic('run',' -i ' + scr)\n",
    "\n",
    "inds = dfcc_all_NIH.query('environment == 1').index\n",
    "dfcc_all_NIH.loc[inds,'perturbation'] = dfcc_all_NIH.loc[inds,'feedback'] - dfcc_all_NIH.loc[inds,'org_feedback']\n",
    "dfcc_all_NIH.loc[inds,'perturbation'] *= 180 / np.pi\n",
    "#[]\n",
    "dfcc_all_NIH['trial_index'] = dfcc_all_NIH['trials']\n",
    "\n",
    "path_data_cc = '/home/demitau/data_Quentin/full_experiments/context_change_behav/results'\n",
    "\n",
    "dfcc_all_NIH['error_deg'] = dfcc_all_NIH['error'] * 180 / np.pi\n",
    "\n",
    "coln_error = 'error_lh2_ang_deg'"
   ]
  },
  {
   "cell_type": "code",
   "execution_count": null,
   "id": "4035800a",
   "metadata": {},
   "outputs": [],
   "source": [
    "dfcc_all_NIH.query('subject == @subjects_NIH[0]').\\\n",
    "    to_pickle(pjoin(path_data,'df_all_ext_onesubj.pkl.zip'),\n",
    "              compression='zip')"
   ]
  },
  {
   "cell_type": "code",
   "execution_count": null,
   "id": "2aee8a47",
   "metadata": {},
   "outputs": [],
   "source": [
    "from itertools import product\n",
    "#stats_powers_all = [(2,-2),(1,-1),(1,0),(2,0),(0,-1),(0,-2),(1,-2),(2,-1)]\n",
    "stats_powers_all = [(0,-1),(0,-2),(1,-2)]\n",
    "prod = product(stats_powers_all,[0,1],[0,1],[0.,1.5,3.,6],['all','stable','random'])\n",
    "prod = list(prod)\n",
    "prod"
   ]
  },
  {
   "cell_type": "markdown",
   "id": "83b8affb",
   "metadata": {
    "heading_collapsed": true
   },
   "source": [
    "# Tan"
   ]
  },
  {
   "cell_type": "code",
   "execution_count": null,
   "id": "770ca263",
   "metadata": {
    "code_folding": [
     3,
     19
    ],
    "hidden": true,
    "run_control": {
     "marked": false
    }
   },
   "outputs": [],
   "source": [
    "dfnamesubj2res_Tan = {}\n",
    "nruns = 20\n",
    "n_jobs = 32\n",
    "#reg = 1e-3\n",
    "#reg = 10\n",
    "#reg = 5\n",
    "#reg = 1\n",
    "#reg = 3\n",
    "nruns = 5\n",
    "#nsubj = 20\n",
    "minStartIdx =3; maxStartIdx=7; maxNbTrials = 11; minNbTrials = 2\n",
    "#stats_powers = (2,-2)\n",
    "#stats_powers = (0,-1)\n",
    "#fit_trials = 'stable' # the problem is how to reset state between to blocks\n",
    "#use_true_error=0; use_true_error_stats=1\n",
    "#nsubj=1; nruns=3; reg=3; fit_trials='stable'; minStartIdx =6; maxStartIdx=7; maxNbTrials = 7;minNbTrials = 2\n",
    "nsubj=3; nruns=4; minStartIdx =6; maxStartIdx=7; maxNbTrials = 6;minNbTrials = 3\n",
    "#for dfname,df in zip(['NIH', 'cc'], [dfcc_all_NIH,dfcc_all]):\n",
    "for dfname,df in zip(['NIH'], [dfcc_all_NIH,dfcc_all]):\n",
    "    for subj in df.subject.unique()[:nsubj]:\n",
    "        print(dfname, '   subj == ',subj)\n",
    "        qs0 = 'subject == @subj'\n",
    "        \n",
    "        motor_var = df.query(qs0 + ' and trial_index >= 10 and trial_index <= 24')['error'].abs().std()\n",
    "        t0 = time.time()\n",
    "        inds_state_reset = []  \n",
    "        \n",
    "        dfnamesubj2res_Tan[(dfname,subj)]= []\n",
    "        for (stats_powers,use_true_error,use_true_error_stats,reg,fit_trials) in prod:\n",
    "            if dfname == 'NIH':\n",
    "                coln_error_ = 'error_deg'                       \n",
    "                if fit_trials == 'stable':\n",
    "                    qs = qs0 + ' and environment == 0'\n",
    "                    #inds_state_reset = np.arange(192,700, 192)\n",
    "                    inds_state_reset = np.array([192])\n",
    "                elif fit_trials == 'random':\n",
    "                    qs = qs0 + ' and environment == 1'\n",
    "                    #inds_state_reset = np.arange(192,700, 192)\n",
    "                    inds_state_reset = np.array([192])\n",
    "                else:\n",
    "                    qs = qs0\n",
    "            else:         \n",
    "                qs = qs0 + ' and trial_index >= @numtrain'            \n",
    "                coln_error_ = coln_error\n",
    "            dfos = df.query(qs)    \n",
    "            \n",
    "            \n",
    "            motor_var_ = motor_var\n",
    "            if use_true_error:\n",
    "                motor_var_ = 0. # would just confuse model additionally\n",
    "            \n",
    "            out_cursubj = None\n",
    "            import warnings\n",
    "            with warnings.catch_warnings(record=True) as w:\n",
    "                warnings.filterwarnings('ignore',category=RuntimeWarning)\n",
    "\n",
    "                out_cursubj = fitTanModel(dfos, coln_error_, n_jobs, \n",
    "                            bclip=(-1,1), nruns=nruns,\n",
    "                         reg = reg, neg_error=1,\n",
    "                        maxNbTrials = maxNbTrials,\n",
    "                        minNbTrials = minNbTrials,\n",
    "                        minStartIdx = minStartIdx,\n",
    "                        maxStartIdx=maxStartIdx, cmax = 0.007, online_feedback=False, \n",
    "                        inds_state_reset = inds_state_reset, stats_powers=stats_powers,\n",
    "                        motor_var = motor_var_,\n",
    "                        use_true_error=use_true_error, use_true_error_stats=use_true_error_stats)\n",
    "        \n",
    "            out_cursubj['fit_trials'] = fit_trials\n",
    "            dfnamesubj2res_Tan[(dfname,subj)].append( out_cursubj )\n",
    "            #for subj in subj2out_Tan: \n",
    "            #    print('     ',subj)\n",
    "            #    for k,v in subj2out_Tan[subj ].items():\n",
    "            print(out_cursubj['params'],stats_powers,use_true_error,use_true_error_stats )\n",
    "\n",
    "            perturb = dfos['perturbation'].to_numpy()    \n",
    "            adaptationRate = out_cursubj['adaptation_rate']\n",
    "            output = out_cursubj['y_pred']\n",
    "            error = dfos['error_deg'].values\n",
    "\n",
    "            plot = 0\n",
    "            if plot:\n",
    "                plt.figure(figsize=(15,3)) # Use matplotlib.pyplot to plot figures\n",
    "                ttl = 'Subject {}, optres={}, pows={} onlfb={}, truerr={}, trueerrst={}'.format( \n",
    "                    dfos['subject'].values[0][:5],\n",
    "                    out_cursubj['optres']['success'],out_cursubj['stats_powers'], \n",
    "                        out_cursubj['online_feedback'],out_cursubj['use_true_error'], \n",
    "                        out_cursubj['use_true_error_stats'] )            \n",
    "                plt.title(ttl) # Use string concatenation to make titles\n",
    "                plt.plot(error, linewidth=2, label='Observed error') # Use label argument to add legends\n",
    "                plt.plot(output, linewidth=2, label='Model prediction',alpha=0.8)\n",
    "                plt.ylabel('Angle (°)')\n",
    "                plt.xlabel('Trials')\n",
    "                plt.plot(perturb, label='pert', color='red', ls=':')\n",
    "                plt.legend() # Call legend function to show legends\n",
    "                #plt.twinx() # Use twinx function to create a second y-axis\n",
    "                if adaptationRate is not None:\n",
    "                    plt.plot(30 + 50*adaptationRate, linewidth=1, label='Adaptation rate', color='green')            \n",
    "                    plt.legend() # Call legend function to show legends\n",
    "                plt.ylim(-40,60)\n",
    "                plt.grid(True)\n",
    "                plt.show() # Call"
   ]
  },
  {
   "cell_type": "code",
   "execution_count": null,
   "id": "bc3f195e",
   "metadata": {
    "hidden": true
   },
   "outputs": [],
   "source": [
    "import gc; gc.collect()"
   ]
  },
  {
   "cell_type": "code",
   "execution_count": null,
   "id": "bb6a4bd1",
   "metadata": {
    "hidden": true
   },
   "outputs": [],
   "source": [
    "len( list(dfnamesubj2res_Tan.values())[0] )"
   ]
  },
  {
   "cell_type": "code",
   "execution_count": null,
   "id": "e568e010",
   "metadata": {
    "hidden": true
   },
   "outputs": [],
   "source": [
    "out_cursubj.keys()"
   ]
  },
  {
   "cell_type": "code",
   "execution_count": null,
   "id": "dbe8689e",
   "metadata": {
    "hidden": true
   },
   "outputs": [],
   "source": []
  },
  {
   "cell_type": "code",
   "execution_count": null,
   "id": "86635eb0",
   "metadata": {
    "hidden": true
   },
   "outputs": [],
   "source": [
    "out_cursubj['minfval']"
   ]
  },
  {
   "cell_type": "code",
   "execution_count": null,
   "id": "53428dc0",
   "metadata": {
    "hidden": true
   },
   "outputs": [],
   "source": [
    "ttl = 'Subject {}, optres={}, pows={} onlfb={}, truerr={}, trueerrst={}'.format( \n",
    "            dfos['subject'].values[0][:5],\n",
    "            out_cursubj['optres']['success'],\n",
    "                                  out_cursubj['stats_powers'], \n",
    "                out_cursubj['online_feedback'],out_cursubj['use_true_error'], \n",
    "                out_cursubj['use_true_error_stats'] )\n",
    "ttl"
   ]
  },
  {
   "cell_type": "code",
   "execution_count": null,
   "id": "959d32f6",
   "metadata": {
    "hidden": true
   },
   "outputs": [],
   "source": [
    "import gc; gc.collect()"
   ]
  },
  {
   "cell_type": "code",
   "execution_count": null,
   "id": "32e9f81c",
   "metadata": {
    "hidden": true
   },
   "outputs": [],
   "source": [
    "len(dfnamesubj2res_Tan)"
   ]
  },
  {
   "cell_type": "code",
   "execution_count": null,
   "id": "b3e7a852",
   "metadata": {
    "hidden": true
   },
   "outputs": [],
   "source": [
    "['minres'].success"
   ]
  },
  {
   "cell_type": "code",
   "execution_count": null,
   "id": "9830478e",
   "metadata": {
    "hidden": true
   },
   "outputs": [],
   "source": [
    "len(dfnamesubj2res_Tan)"
   ]
  },
  {
   "cell_type": "code",
   "execution_count": null,
   "id": "db129f29",
   "metadata": {
    "hidden": true,
    "run_control": {
     "marked": true
    }
   },
   "outputs": [],
   "source": [
    "import matplotlib.pyplot as plt"
   ]
  },
  {
   "cell_type": "code",
   "execution_count": null,
   "id": "a8af875a",
   "metadata": {
    "hidden": true
   },
   "outputs": [],
   "source": [
    "out['params'].keys()"
   ]
  },
  {
   "cell_type": "code",
   "execution_count": null,
   "id": "49cd0aa4",
   "metadata": {
    "hidden": true
   },
   "outputs": [],
   "source": [
    "def out2parstr(out):\n",
    "    output = []\n",
    "    # Loop through the keys and values of the dictionary\n",
    "    for key, value in out['params'].items():\n",
    "        # If the value is a float, use the formatting with 3 digits after the decimal point\n",
    "        if isinstance(value, float):\n",
    "            if key == 'c':\n",
    "                output.append(f\"{key}={value:g}\")\n",
    "            else:\n",
    "                output.append(f\"{key}={value:.2f}\")\n",
    "        # Otherwise, append the value without formatting\n",
    "        else:\n",
    "            output.append(f\"{key}={value}\")\n",
    "\n",
    "    # Join the list of strings with a newline character as a separator\n",
    "    output = '; '.join(output)\n",
    "    return output"
   ]
  },
  {
   "cell_type": "code",
   "execution_count": null,
   "id": "d95247fc",
   "metadata": {
    "hidden": true
   },
   "outputs": [],
   "source": [
    "out.keys()"
   ]
  },
  {
   "cell_type": "code",
   "execution_count": null,
   "id": "86c19f7d",
   "metadata": {
    "code_folding": [
     0
    ],
    "hidden": true
   },
   "outputs": [],
   "source": [
    "# recompute 1\n",
    "out = outs[0]\n",
    "ttl = 'Subject {}, optres={}, pows={} onlfb={}, truerr={}, trueerrst={}, reg={}, minf={:.3f}'.format( \n",
    "        dfos['subject'].values[0][:5],\n",
    "        out['optres']['success'],\n",
    "            out['stats_powers'], \n",
    "            out['online_feedback'],out['use_true_error'], \n",
    "            out['use_true_error_stats'], out['reg'], out['minfval'] )\n",
    "print(ttl,'\\n',out2parstr(out))\n",
    "#reg = 3\n",
    "reg = 0.\n",
    "out = fitTanModel(dfos, coln_error_, n_jobs, \n",
    "                bclip=(-1,1), nruns=nruns,\n",
    "            reg = reg, neg_error=1,\n",
    "            maxNbTrials = 14,minNbTrials = 2,\n",
    "            minStartIdx = 2, maxStartIdx=10, online_feedback=False, \n",
    "            cmax = 0.006,\n",
    "            inds_state_reset = inds_state_reset, stats_powers=(2,-2),\n",
    "            use_true_error=0, use_true_error_stats=1)\n",
    "\n",
    "plot = 1\n",
    "if plot:\n",
    "    adaptationRate = out['adaptation_rate']\n",
    "    plt.figure(figsize=(15,3)) # Use matplotlib.pyplot to plot figures\n",
    "    plt.title('Subject ' + dfos['subject'].values[0]) # Use string concatenation to make titles\n",
    "    plt.plot(error, linewidth=2, label='Observed error') # Use label argument to add legends\n",
    "    plt.plot(out['y_pred'], linewidth=2, label='Model prediction',alpha=0.8)\n",
    "    plt.plot(out['states'], label='states', c='purple')\n",
    "    plt.ylabel('Angle (°)')\n",
    "    plt.xlabel('Trials')\n",
    "    plt.plot(perturb, label='pert', color='red', ls=':')\n",
    "    plt.legend() # Call legend function to show legends\n",
    "    #plt.twinx() # Use twinx function to create a second y-axis\n",
    "    if adaptationRate is not None:\n",
    "        plt.plot(30 + 50*adaptationRate, linewidth=1, label='Adaptation rate', color='green')            \n",
    "        plt.legend() # Call legend function to show legends\n",
    "    plt.ylim(-40,60)\n",
    "    plt.grid(True)\n",
    "\n",
    "    ttl = 'Subject {}, optres={}, pows={} onlfb={}, truerr={}, trueerrst={}, reg={}, minf={:.3f}'.format( \n",
    "            dfos['subject'].values[0][:5],\n",
    "            out['optres']['success'],\n",
    "                out['stats_powers'], \n",
    "                out['online_feedback'],out['use_true_error'], \n",
    "                out['use_true_error_stats'], out['reg'], out['minfval'] )\n",
    "    plt.title(ttl + '\\n' + out2parstr(out))"
   ]
  },
  {
   "cell_type": "code",
   "execution_count": null,
   "id": "9af4c631",
   "metadata": {
    "hidden": true,
    "run_control": {
     "marked": true
    }
   },
   "outputs": [],
   "source": [
    "for out in outs:\n",
    "    del out['params']['params']"
   ]
  },
  {
   "cell_type": "code",
   "execution_count": null,
   "id": "47ba07a2",
   "metadata": {
    "hidden": true
   },
   "outputs": [],
   "source": [
    "p = out['params'].copy()\n",
    "print('params' in p)\n",
    "p.keys()"
   ]
  },
  {
   "cell_type": "code",
   "execution_count": null,
   "id": "95865426",
   "metadata": {
    "hidden": true
   },
   "outputs": [],
   "source": []
  },
  {
   "cell_type": "code",
   "execution_count": null,
   "id": "8a0ef2fb",
   "metadata": {
    "hidden": true
   },
   "outputs": [],
   "source": [
    "coln_error_ = 'error_deg'\n",
    "pertr = ['states', 'y_pred',  'adaptation_rate'] #'optres',\n",
    "rows = []\n",
    "for (dfn,subj),outs in dfnamesubj2res_Tan.items():\n",
    "    qs = 'subject == @subj'    \n",
    "    for outi,out in enumerate(outs):\n",
    "        print(subj, outi, out['fit_trials'])\n",
    "        p = out['params'].copy()\n",
    "        assert 'params' not in p\n",
    "        for k in out.keys():\n",
    "            if k in ['params','optres']:\n",
    "                continue\n",
    "            elif k not in pertr:\n",
    "                p[k] = out[k]\n",
    "        p['fit_success'] = out['optres'].success\n",
    "        p['ind'] = outi\n",
    "        p['subject'] = subj\n",
    "\n",
    "        assert 'params' not in p\n",
    "        pp = {}\n",
    "        for k in p.keys():\n",
    "            pp[k] = [p[k]] * len(out['states'])\n",
    "        assert 'params' not in pp\n",
    "        for k in pertr:\n",
    "            pp[k] = out[k]\n",
    "        assert 'params' not in pp\n",
    "        pp['trial_index'] = np.arange(len(out['states']))\n",
    "        \n",
    "        dfos = dfcc_all_NIH.query(qs) \n",
    "        if p['fit_trials'] == 'stable':\n",
    "            dfos = dfos.query('environment == 0')\n",
    "        elif p['fit_trials'] == 'random':\n",
    "            dfos = dfos.query('environment == 1')\n",
    "            \n",
    "        print(len( out['states']), len(dfos) )\n",
    "            \n",
    "        pp['error'] = dfos[coln_error_].values\n",
    "        pp['perturbation'] = dfos['perturbation'].values\n",
    "        pp['mismatch'] = out['y_pred'] + dfos[coln_error_].values\n",
    "        pp['environment'] = dfos['environment'].values\n",
    "        \n",
    "        subdf = pd.DataFrame(pp)\n",
    "        subdf['mismatch_0'] = np.sqrt( out['mismatch_var'] ) / len(subdf)\n",
    "        st = subdf.query('environment == 0')\n",
    "        if len(st):\n",
    "            subdf['mismatch_stable'] = np.sqrt( (st['mismatch']**2).sum() ) / len(st)\n",
    "        else:\n",
    "            subdf['mismatch_stable'] = np.nan\n",
    "            \n",
    "        rnd = subdf.query('environment == 1')\n",
    "        if len(rnd):\n",
    "            subdf['mismatch_random'] = np.sqrt( (rnd['mismatch']**2).sum() ) / len(rnd)\n",
    "        else:\n",
    "            subdf['mismatch_random'] = np.nan\n",
    "\n",
    "        subdf['mismatch_all'] = np.sqrt( (subdf['mismatch']**2).sum() ) / len(subdf)\n",
    "        rows += [subdf]\n",
    "        \n",
    "df = pd.concat(rows, ignore_index=1)"
   ]
  },
  {
   "cell_type": "code",
   "execution_count": null,
   "id": "a27f82d1",
   "metadata": {
    "hidden": true
   },
   "outputs": [],
   "source": [
    "gc. collect()"
   ]
  },
  {
   "cell_type": "code",
   "execution_count": null,
   "id": "4abf76d0",
   "metadata": {
    "hidden": true
   },
   "outputs": [],
   "source": [
    "#pp['fit_trials']"
   ]
  },
  {
   "cell_type": "code",
   "execution_count": null,
   "id": "93c8962f",
   "metadata": {
    "hidden": true
   },
   "outputs": [],
   "source": [
    "len(out['y_pred']), len(out['states'])"
   ]
  },
  {
   "cell_type": "code",
   "execution_count": null,
   "id": "a8338c3a",
   "metadata": {
    "hidden": true
   },
   "outputs": [],
   "source": [
    "p['fit_trials']"
   ]
  },
  {
   "cell_type": "code",
   "execution_count": null,
   "id": "485a2de0",
   "metadata": {
    "hidden": true
   },
   "outputs": [],
   "source": [
    "len(dfos)"
   ]
  },
  {
   "cell_type": "code",
   "execution_count": null,
   "id": "9afabb20",
   "metadata": {
    "hidden": true
   },
   "outputs": [],
   "source": [
    "df.columns"
   ]
  },
  {
   "cell_type": "code",
   "execution_count": null,
   "id": "c2d448d3",
   "metadata": {
    "hidden": true
   },
   "outputs": [],
   "source": [
    "out['params']"
   ]
  },
  {
   "cell_type": "code",
   "execution_count": null,
   "id": "82a01429",
   "metadata": {
    "hidden": true
   },
   "outputs": [],
   "source": [
    "out.keys()"
   ]
  },
  {
   "cell_type": "code",
   "execution_count": null,
   "id": "34eff3dd",
   "metadata": {
    "hidden": true
   },
   "outputs": [],
   "source": [
    "coln_error_"
   ]
  },
  {
   "cell_type": "code",
   "execution_count": null,
   "id": "2fad813e",
   "metadata": {
    "hidden": true
   },
   "outputs": [],
   "source": [
    "dfsrt = df.sort_values('mismatch_0')\n",
    "dfsrt['powdiff'] = dfsrt['stats_powers'].apply(lambda x: x[0] + x[1], 1)\n",
    "dftest_pre = dfsrt.query('trial_index == 82')"
   ]
  },
  {
   "cell_type": "code",
   "execution_count": null,
   "id": "c8d6834c",
   "metadata": {
    "hidden": true
   },
   "outputs": [],
   "source": [
    "import seaborn as sns"
   ]
  },
  {
   "cell_type": "code",
   "execution_count": null,
   "id": "44dee1ad",
   "metadata": {
    "hidden": true
   },
   "outputs": [],
   "source": [
    "import pingouin as pg\n",
    "pg.corr(dfsrt['mismatch_stable'],dfsrt['powdiff'])"
   ]
  },
  {
   "cell_type": "code",
   "execution_count": null,
   "id": "60e02a0b",
   "metadata": {
    "hidden": true
   },
   "outputs": [],
   "source": [
    "pg.corr(dfsrt['mismatch_all'],dfsrt['powdiff'])"
   ]
  },
  {
   "cell_type": "code",
   "execution_count": null,
   "id": "36e90450",
   "metadata": {
    "hidden": true
   },
   "outputs": [],
   "source": [
    "pg.corr(dfsrt['mismatch_stable'],dfsrt['mismatch_all'])"
   ]
  },
  {
   "cell_type": "code",
   "execution_count": null,
   "id": "bcbd748a",
   "metadata": {
    "hidden": true
   },
   "outputs": [],
   "source": [
    "with warnings.catch_warnings(record=True) as w:\n",
    "    #warnings.filterwarnings('ignore',category=RuntimeWarning)\n",
    "    sns.pairplot(dfsrt, vars=['powdiff','mismatch_stable','mismatch_random'], hue='reg', corner=True )"
   ]
  },
  {
   "cell_type": "code",
   "execution_count": null,
   "id": "c3cf7b1e",
   "metadata": {
    "hidden": true
   },
   "outputs": [],
   "source": [
    "dftest = dftest_pre.tail(20)\n",
    "dftest[cols]"
   ]
  },
  {
   "cell_type": "code",
   "execution_count": null,
   "id": "1551a505",
   "metadata": {
    "hidden": true
   },
   "outputs": [],
   "source": [
    "with warnings.catch_warnings(record=True) as w:\n",
    "    warnings.filterwarnings('ignore',category=FutureWarning)\n",
    "    sns.catplot(data=dftest_pre, kind='violin', y='mismatch_all', x='powdiff',row='reg',hue='fit_success',\n",
    "            col='fit_trials',\n",
    "           split=True)"
   ]
  },
  {
   "cell_type": "code",
   "execution_count": null,
   "id": "7e72b126",
   "metadata": {
    "hidden": true
   },
   "outputs": [],
   "source": [
    "#'perturbation'\n",
    "dftest = dfsrt.query('trial_index == 82').head(60)\n",
    "cols = ['ind','error','y_pred','A','c','fit_success','reg',\n",
    "    'use_true_error','use_true_error_stats','stats_powers','NbPreviousTrials','X0','fit_trials',\n",
    "        'mismatch_all','mismatch_stable']\n",
    "dftest[cols]"
   ]
  },
  {
   "cell_type": "code",
   "execution_count": null,
   "id": "85d1fa5a",
   "metadata": {
    "hidden": true
   },
   "outputs": [],
   "source": [
    "dfsrt.columns"
   ]
  },
  {
   "cell_type": "code",
   "execution_count": null,
   "id": "0154967a",
   "metadata": {
    "hidden": true
   },
   "outputs": [],
   "source": [
    "dfsrt['error_abs'] = dfsrt['error'].abs()\n",
    "dfsrt['states_abs'] = dfsrt['states'].abs()\n",
    "dfsrt['y_pred_abs'] = dfsrt['y_pred'].abs()"
   ]
  },
  {
   "cell_type": "code",
   "execution_count": null,
   "id": "0650e53b",
   "metadata": {
    "hidden": true
   },
   "outputs": [],
   "source": [
    "dfsrt['mispred'] = (dfsrt['y_pred'] - dfsrt['error']).abs()"
   ]
  },
  {
   "cell_type": "code",
   "execution_count": null,
   "id": "5513f70e",
   "metadata": {
    "hidden": true
   },
   "outputs": [],
   "source": [
    "dfsrt['stats_powers'].unique(), dfsrt['reg'].unique()"
   ]
  },
  {
   "cell_type": "code",
   "execution_count": null,
   "id": "e946e6a8",
   "metadata": {
    "hidden": true
   },
   "outputs": [],
   "source": [
    "stp = (0,-1)\n",
    "regs = [0., 6.]\n",
    "#use_true_error == True and \n",
    "df_ = dfsrt.query('use_true_error_stats == True and fit_trials == \"all\"'\n",
    "                  ' and reg in @regs') # ' and reg == 0. and stats_powers == @stp \n",
    "df_.groupby(['trial_index']).size().max()"
   ]
  },
  {
   "cell_type": "code",
   "execution_count": null,
   "id": "91f0a3eb",
   "metadata": {
    "hidden": true
   },
   "outputs": [],
   "source": [
    "df__ = dfsrt.query('use_true_error_stats == True and fit_trials == \"all\"'\n",
    "                  ' and reg == 0. and stats_powers == @stp' )\n",
    "df__.groupby(['trial_index']).size().max()"
   ]
  },
  {
   "cell_type": "code",
   "execution_count": null,
   "id": "3ae6d314",
   "metadata": {
    "hidden": true
   },
   "outputs": [],
   "source": [
    "df__.query('trial_index == 81').groupby(['use_true_error'])['mismatch_all'].describe()"
   ]
  },
  {
   "cell_type": "code",
   "execution_count": null,
   "id": "682e1df7",
   "metadata": {
    "hidden": true
   },
   "outputs": [],
   "source": [
    "df__.query('trial_index == 81').groupby(['use_true_error'])['mispred'].describe()"
   ]
  },
  {
   "cell_type": "code",
   "execution_count": null,
   "id": "d4539aa1",
   "metadata": {
    "hidden": true
   },
   "outputs": [],
   "source": [
    "df__.query('trial_index == 81').groupby(['use_true_error'])['y_pred_abs'].describe()"
   ]
  },
  {
   "cell_type": "code",
   "execution_count": null,
   "id": "68571bfd",
   "metadata": {
    "hidden": true
   },
   "outputs": [],
   "source": [
    "# (in implem if use true error =1 then yp =  error[t-1]) \n",
    "# if use true error = 0 AND stat power for mean == 0 \n",
    "#   => mismatch grow in first pertstage (both before and after random)\n",
    "#     for stat powers (1,-2) it is actually okay \n",
    "# well, this is not stable across subjects. Like above was only for subject0\n",
    "\n",
    "# using true of false error stats makes diff only if use true error =0 \n",
    "# and only for some stat powers combin (1,-2)"
   ]
  },
  {
   "cell_type": "code",
   "execution_count": null,
   "id": "e56eb4f3",
   "metadata": {
    "hidden": true
   },
   "outputs": [],
   "source": [
    "with warnings.catch_warnings(record=True) as w:\n",
    "    warnings.filterwarnings('ignore',category=FutureWarning)\n",
    "    sns.pairplot(dftest_pre.query('use_true_error == False'),\n",
    "                 vars=['c','mismatch_stable','mismatch_all'], hue='stats_powers')"
   ]
  },
  {
   "cell_type": "code",
   "execution_count": null,
   "id": "c53afea1",
   "metadata": {
    "hidden": true
   },
   "outputs": [],
   "source": [
    "with warnings.catch_warnings(record=True) as w:\n",
    "    warnings.filterwarnings('ignore',category=FutureWarning)\n",
    "    #df__ = df_.query('subject == @subjects_NIH[12]')\n",
    "    df__ = df_.groupby(['environment','stats_powers','reg','use_true_error','subject'])['mispred'].mean().reset_index()\n",
    "    fg = sns.catplot(df__, kind='violin', y='mispred',\n",
    "                x='environment',col='stats_powers', row='reg', errorbar='sd', hue='use_true_error',\n",
    "                    split=True, hue_order=[0,1])\n",
    "    for ax in fg.axes.flat:\n",
    "        ax.yaxis.grid(True)"
   ]
  },
  {
   "cell_type": "code",
   "execution_count": null,
   "id": "bca68dba",
   "metadata": {
    "hidden": true
   },
   "outputs": [],
   "source": [
    "df_ = dfsrt.query('fit_trials == \"all\"'\n",
    "                  ' and reg in @regs and use_true_error == True') # ' and reg == 0. and stats_powers == @stp \n",
    "df_.groupby(['trial_index']).size().max()\n",
    "with warnings.catch_warnings(record=True) as w:\n",
    "    warnings.filterwarnings('ignore',category=FutureWarning)\n",
    "    #df__ = df_.query('subject == @subjects_NIH[12]')\n",
    "    df__ = df_.groupby(['environment','stats_powers','reg','use_true_error_stats','subject'])['mispred'].mean().reset_index()\n",
    "    fg = sns.catplot(df__, kind='violin', y='mispred',\n",
    "                x='environment',col='stats_powers', row='reg', errorbar='sd', hue='use_true_error_stats',\n",
    "                    split=True, hue_order=[0,1])\n",
    "    for ax in fg.axes.flat:\n",
    "        ax.yaxis.grid(True)"
   ]
  },
  {
   "cell_type": "code",
   "execution_count": null,
   "id": "4af60012",
   "metadata": {
    "hidden": true
   },
   "outputs": [],
   "source": [
    "stp = (0,-1)\n",
    "regs = [0.]\n",
    "df_ = dfsrt.query('fit_trials == \"all\"'\n",
    "                  ' and reg in @regs and stats_powers == @stp')\n",
    "df_.groupby(['trial_index']).size().max()\n",
    "with warnings.catch_warnings(record=True) as w:\n",
    "    warnings.filterwarnings('ignore',category=FutureWarning)\n",
    "    #df__ = df_.query('subject == @subjects_NIH[12]')\n",
    "    df__ = df_.groupby(['environment','stats_powers','reg','use_true_error_stats','use_true_error',\n",
    "                        'fit_success','subject'])['mispred'].mean().reset_index()\n",
    "    fg = sns.catplot(df__, kind='violin', y='mispred',\n",
    "                x='environment',col='use_true_error_stats', row='use_true_error', errorbar='sd', \n",
    "                     hue='fit_success',\n",
    "                    split=True, hue_order=[0,1])\n",
    "    for ax in fg.axes.flat:\n",
    "        ax.yaxis.grid(True)"
   ]
  },
  {
   "cell_type": "code",
   "execution_count": null,
   "id": "02e0b906",
   "metadata": {
    "hidden": true
   },
   "outputs": [],
   "source": [
    "#use_true_error_stats == True\n",
    "with warnings.catch_warnings(record=True) as w:\n",
    "    warnings.filterwarnings('ignore',category=FutureWarning)\n",
    "    fg = sns.relplot(df_, kind='line', y='mispred',\n",
    "                x='trial_index',col='stats_powers', row='reg', errorbar='sd', hue='use_true_error')\n",
    "#    fg.grid(True)\n",
    "    for ax in fg.axes.flat:\n",
    "        ax.yaxis.grid(True)"
   ]
  },
  {
   "cell_type": "code",
   "execution_count": null,
   "id": "48eac8f8",
   "metadata": {
    "hidden": true
   },
   "outputs": [],
   "source": [
    "with warnings.catch_warnings(record=True) as w:\n",
    "    warnings.filterwarnings('ignore',category=FutureWarning)\n",
    "    fg = sns.relplot(df_.query('subject == @subjects_NIH[2]'), kind='line', y='mispred',\n",
    "                x='trial_index',col='stats_powers', row='reg', errorbar='sd', hue='use_true_error')"
   ]
  },
  {
   "cell_type": "code",
   "execution_count": null,
   "id": "ef7d99ab",
   "metadata": {
    "hidden": true
   },
   "outputs": [],
   "source": [
    "good_inds = dftest['ind']"
   ]
  },
  {
   "cell_type": "code",
   "execution_count": null,
   "id": "84c763ac",
   "metadata": {
    "hidden": true
   },
   "outputs": [],
   "source": [
    "good_inds"
   ]
  },
  {
   "cell_type": "code",
   "execution_count": null,
   "id": "c941733c",
   "metadata": {
    "hidden": true
   },
   "outputs": [],
   "source": [
    "out['optres']['success'],\n",
    "                    out['stats_powers'], \n",
    "                    out['online_feedback'],out['use_true_error'], \n",
    "                    out['use_true_error_stats'], out['reg'], out['minfval']out['params']"
   ]
  },
  {
   "cell_type": "code",
   "execution_count": null,
   "id": "31738efa",
   "metadata": {
    "hidden": true
   },
   "outputs": [],
   "source": [
    "out['optres']['success'],\n",
    "                    out['stats_powers'], \n",
    "                    out['online_feedback'],out['use_true_error'], \n",
    "                    out['use_true_error_stats'], out['reg'], out['minfval']"
   ]
  },
  {
   "cell_type": "code",
   "execution_count": null,
   "id": "32ed598b",
   "metadata": {
    "hidden": true
   },
   "outputs": [],
   "source": [
    "dfnamesubj2res_Tan.items()"
   ]
  },
  {
   "cell_type": "code",
   "execution_count": null,
   "id": "310fa978",
   "metadata": {
    "code_folding": [],
    "hidden": true
   },
   "outputs": [],
   "source": [
    "# plot many\n",
    "for (dfn,subj),outs in dfnamesubj2res_Tan.items():\n",
    "    #for out in outs:\n",
    "    for ind,out in np.array(list(enumerate(outs ) ))[good_inds]:\n",
    "        if 'adaptation_rate' in out:\n",
    "            adaptationRate = out['adaptation_rate']\n",
    "            output = out['y_pred']\n",
    "        else:\n",
    "            adaptationRate = None\n",
    "            output = out['output']\n",
    "        print(ind,subj)\n",
    "        dfos = dfcc_all_NIH.query('subject == @subj')\n",
    "\n",
    "        coln_error_ = 'error'\n",
    "        error   = dfos[coln_error_].to_numpy() * 180 / np.pi\n",
    "        perturb = dfos['perturbation'].values\n",
    "        adaptationRate = out['adaptation_rate']\n",
    "\n",
    "        plt.figure(figsize=(15,3)) # Use matplotlib.pyplot to plot figures\n",
    "        plt.title('Subject ' + dfos['subject'].values[0]) # Use string concatenation to make titles\n",
    "        plt.plot(error, linewidth=2, label='Observed error') # Use label argument to add legends\n",
    "        plt.plot(out['y_pred'], linewidth=2, label='Model prediction',alpha=0.8)\n",
    "        plt.plot(out['states'], label='states', c='purple')\n",
    "        plt.ylabel('Angle (°)')\n",
    "        plt.xlabel('Trials')\n",
    "        plt.plot(perturb, label='pert', color='red', ls=':')\n",
    "        plt.legend() # Call legend function to show legends\n",
    "        #plt.twinx() # Use twinx function to create a second y-axis\n",
    "        if adaptationRate is not None:\n",
    "            plt.plot(30 + 50*adaptationRate, linewidth=1, label='Adaptation rate', color='green')            \n",
    "            plt.legend() # Call legend function to show legends\n",
    "        plt.ylim(-40,60)\n",
    "        plt.grid(True)\n",
    "\n",
    "        ttl = 'Subject {}, optres={}, pows={} onlfb={}, truerr={}, trueerrst={}, reg={}, minf={:.3f} fit_trials={}'.format( \n",
    "                dfos['subject'].values[0][:5],\n",
    "                out['optres']['success'],\n",
    "                    out['stats_powers'], \n",
    "                    out['online_feedback'],out['use_true_error'], \n",
    "                    out['use_true_error_stats'], out['reg'], out['minfval'], out['fit_trials'] )\n",
    "        plt.title(ttl + '\\n' + out2parstr(out))\n",
    "        plt.show() # Call show function to display the figure\n",
    "        #break"
   ]
  },
  {
   "cell_type": "code",
   "execution_count": null,
   "id": "47ff9f54",
   "metadata": {
    "hidden": true
   },
   "outputs": [],
   "source": [
    "gc.collect()"
   ]
  },
  {
   "cell_type": "code",
   "execution_count": null,
   "id": "15d12e10",
   "metadata": {
    "hidden": true
   },
   "outputs": [],
   "source": [
    "if len(dfnamesubj2res_Tan) == 20:    \n",
    "    fnf = pjoin(path_data_cc,'dfnamesubj2res_Tan_many.npz')\n",
    "    print(len(dfnamesubj2res_Tan), fnf)\n",
    "    np.savez(fnf, dfnamesubj2res_Tan)"
   ]
  },
  {
   "cell_type": "code",
   "execution_count": null,
   "id": "eb4b480c",
   "metadata": {
    "hidden": true
   },
   "outputs": [],
   "source": [
    "out['params']"
   ]
  },
  {
   "cell_type": "code",
   "execution_count": null,
   "id": "5ac94462",
   "metadata": {
    "hidden": true
   },
   "outputs": [],
   "source": [
    "if len(dfnamesubj2res_Tan) == 20:    \n",
    "    fnf = pjoin(path_data_cc,'dfnamesubj2res_Tan_fboffl.npz')\n",
    "    print(len(dfnamesubj2res_Tan), fnf)\n",
    "    np.savez(fnf, dfnamesubj2res_Tan)"
   ]
  },
  {
   "cell_type": "code",
   "execution_count": null,
   "id": "8b94ec76",
   "metadata": {
    "hidden": true
   },
   "outputs": [],
   "source": [
    "import matplotlib.pyplot as plt"
   ]
  },
  {
   "cell_type": "code",
   "execution_count": null,
   "id": "89574d76",
   "metadata": {
    "hidden": true
   },
   "outputs": [],
   "source": [
    "COLOR = 'black'\n",
    "import matplotlib as mpl\n",
    "import seaborn as sns\n",
    "mpl.rcParams['text.color'] = COLOR\n",
    "mpl.rcParams['axes.labelcolor'] = COLOR\n",
    "mpl.rcParams['xtick.color'] = COLOR\n",
    "mpl.rcParams['ytick.color'] = COLOR\n",
    "\n",
    "\n",
    "sns.set(rc={'axes.facecolor':'white', 'figure.facecolor':'white',\n",
    "           'grid.color':'grey', 'grid.alpha':0.5})\n",
    "\n",
    "tgtc = ['b','g','r','brown']"
   ]
  },
  {
   "cell_type": "code",
   "execution_count": null,
   "id": "b13df092",
   "metadata": {
    "hidden": true
   },
   "outputs": [],
   "source": [
    "nurns = 4\n",
    "outd = {}\n",
    "dfos = df.query('subject == @subj')\n",
    "outn = 'all_off'; out = fitDiedrischenModel(dfos, coln_error_,\n",
    "                                 nruns=nruns, online_feedback = False); outd[outn] = out\n",
    "outn = 'all_on'; out = fitDiedrischenModel(dfos, coln_error_,\n",
    "                                 nruns=nruns, online_feedback = True); outd[outn] = out\n",
    "qsst = 'environment == 0'\n",
    "outn = 'stable_off'; out = fitDiedrischenModel(dfos.query(qsst), coln_error_,\n",
    "                                 nruns=nruns, online_feedback = False); outd[outn] = out\n",
    "outn = 'stable_on'; out = fitDiedrischenModel(dfos.query(qsst), coln_error_,\n",
    "                                 nruns=nruns, online_feedback = True); outd[outn] = out\n",
    "\n",
    "qsst = 'environment == 1'\n",
    "outn = 'random_off'; out = fitDiedrischenModel(dfos.query(qsst), coln_error_,\n",
    "                                 nruns=nruns, online_feedback = False); outd[outn] = out\n",
    "outn = 'random_on'; out = fitDiedrischenModel(dfos.query(qsst), coln_error_,\n",
    "                                 nruns=nruns, online_feedback = True); outd[outn] = out\n",
    "#output_fboff = out_fboff['output']\n",
    "#output_fbon  = out_fbon['output']\n",
    "# -output + perturb"
   ]
  },
  {
   "cell_type": "code",
   "execution_count": null,
   "id": "95a59766",
   "metadata": {
    "hidden": true
   },
   "outputs": [],
   "source": [
    "for outn,out in outd.items():\n",
    "    print(outn, dict(zip(['A','B','X0'],out['params'])) )"
   ]
  },
  {
   "cell_type": "code",
   "execution_count": null,
   "id": "f265272b",
   "metadata": {
    "code_folding": [
     8
    ],
    "hidden": true
   },
   "outputs": [],
   "source": [
    "from taumodels.state_space_fit_toolbox.state_space_fit import simulate_deterministic_state_space2\n",
    "inds_st = np.hstack([np.arange(192),np.arange(192*2,192*3)])\n",
    "inds_rnd = np.hstack([np.arange(192,192*2),np.arange(192*3,192*4)])\n",
    "\n",
    "perturb = df.query('subject == @subj')['perturbation'].values\n",
    "perturb_s = df.query('subject == @subj')['perturbation'].shift(1).values; perturb_s[0] = 0\n",
    "behavior = perturb  - error\n",
    "error   = df.query('subject == @subj')[coln_error_].values\n",
    "for pref in ['random','all','stable']:\n",
    "    #dif = outd[f'{pref}_off']['output'] - outd[f'{pref}_on']['output']\n",
    "    y_pred_d={}\n",
    "    for fb in ['on','off']:            \n",
    "        out = outd[f'{pref}_{fb}']\n",
    "        S = out['params']\n",
    "        #print(S)\n",
    "        if fb == 'on':\n",
    "            y_pred,state = simulate_deterministic_state_space(S,perturb,behavior,'norm')\n",
    "        else:\n",
    "            y_pred,state,errp = simulate_deterministic_state_space2(S,perturb,behavior,'norm')\n",
    "        y_pred_d[fb]  = y_pred\n",
    "        err_pred = perturb - y_pred # y_pred - (perturb - err)\n",
    "        \n",
    "        plt.figure(figsize=(10,3))\n",
    "        plt.plot(error, linewidth=2, label='Observed error') \n",
    "        #plt.plot(-output + perturb, linewidth=2, label='Model prediction',alpha=0.8)\n",
    "        plt.plot(err_pred, linewidth=2, label='Model prediction',alpha=0.8)\n",
    "        #plt.plot(perturb-error, linewidth=2, label='pert-err') \n",
    "\n",
    "        plt.ylabel('Angle (°)')\n",
    "        plt.xlabel('Trials')\n",
    "        plt.plot(perturb, label='pert', color='pink', ls=':')\n",
    "        plt.legend() # Call legend function to show legends\n",
    "        #plt.twinx() # Use twinx function to create a second y-axis\n",
    "        plt.ylim(-40,60)\n",
    "        plt.grid(True)\n",
    "        discr = np.abs(err_pred - error)\n",
    "        discr_mean = np.mean(discr)\n",
    "        discr_mean_st = np.mean(discr[inds_st])\n",
    "        discr_mean_rnd = np.mean(discr[inds_rnd])\n",
    "        plt.title(f'{pref}_{fb}  discr={discr_mean:.3f} st={discr_mean_st:.3f} rnd={discr_mean_rnd:.3f}')\n",
    "        plt.show()\n",
    "    dif = np.abs(y_pred_d['on'] - y_pred_d['off'])\n",
    "    print(pref,S,   np.std(dif[inds_st]), np.std(dif[inds_rnd]) )\n",
    "    #err_pred = y_pred - behavior\n",
    "    #if \n",
    "    #print( np.std( dif[inds_st  ]), np.std( dif[inds_rnd  ]) )"
   ]
  },
  {
   "cell_type": "code",
   "execution_count": null,
   "id": "651c262b",
   "metadata": {
    "hidden": true
   },
   "outputs": [],
   "source": [
    "sl = slice(0,200)\n",
    "simulate_deterministic_state_space2(S,perturb[sl],behavior[sl],'norm',1);"
   ]
  },
  {
   "cell_type": "code",
   "execution_count": null,
   "id": "9ff59411",
   "metadata": {
    "hidden": true
   },
   "outputs": [],
   "source": [
    "plt.plot(perturb, ls='--', c='pink')\n",
    "plt.plot(error, label='obs err')\n",
    "plt.plot(y_pred, label='state')\n",
    "plt.plot(perturb-y_pred, label='pert-state')\n",
    "plt.plot(perturb-error, label='beh=pert-err')\n",
    "#plt.plot(errp, label='errP')\n",
    "plt.axhline(y=0, ls=':', c='r')\n",
    "plt.axvline(x=192, ls=':', c='r')\n",
    "plt.legend()\n",
    "plt.xlim(30,250)"
   ]
  },
  {
   "cell_type": "code",
   "execution_count": null,
   "id": "0a07117d",
   "metadata": {
    "hidden": true
   },
   "outputs": [],
   "source": [
    "out_fboff.keys()"
   ]
  },
  {
   "cell_type": "code",
   "execution_count": null,
   "id": "315be17d",
   "metadata": {
    "hidden": true
   },
   "outputs": [],
   "source": [
    "np.abs(output_fboff - output_fbon).max() / np.std(output_fboff)"
   ]
  },
  {
   "cell_type": "code",
   "execution_count": null,
   "id": "26e45e4b",
   "metadata": {
    "hidden": true
   },
   "outputs": [],
   "source": [
    "out_fboff['noises_var']"
   ]
  },
  {
   "cell_type": "code",
   "execution_count": null,
   "id": "5b2e89f5",
   "metadata": {
    "hidden": true
   },
   "outputs": [],
   "source": [
    "df['subject']"
   ]
  },
  {
   "cell_type": "markdown",
   "id": "34768260",
   "metadata": {
    "heading_collapsed": true
   },
   "source": [
    "# Died"
   ]
  },
  {
   "cell_type": "code",
   "execution_count": null,
   "id": "ae3df19d",
   "metadata": {
    "hidden": true
   },
   "outputs": [],
   "source": [
    "dfnamesubj2res_Died = {}\n",
    "nruns = 6\n",
    "#nsubj = 1\n",
    "nsubj = 2\n",
    "#fit_trials = 'stable'\n",
    "fit_trials = 'all'\n",
    "#for dfname,df in zip(['NIH', 'cc'], [dfcc_all_NIH,dfcc_all]):\n",
    "for dfname,df in zip(['NIH'], [dfcc_all_NIH]):\n",
    "    for subj in df.subject.unique()[:nsubj]:\n",
    "        print('   subj == ',subj)\n",
    "        qs = 'subject == @subj'\n",
    "        t0 = time.time()\n",
    "        if dfname == 'NIH':\n",
    "            coln_error_ = 'error_deg'\n",
    "            if fit_trials == 'stable':\n",
    "                qs += ' and environment == 0'\n",
    "        else:         \n",
    "            qs += ' and trial_index >= @numtrain'            \n",
    "            coln_error_ = coln_error\n",
    "        dfos = df.query(qs)   \n",
    "\n",
    "        t0 = time.time()\n",
    "        out_cursubj = fitDiedrischenModel(dfos, coln_error_,\n",
    "                             nruns=nruns, online_feedback = False)\n",
    "        outD = out_cursubj\n",
    "        t1 = time.time()\n",
    "        print(f'Fit of Diedrischen model took {t1-t0:.2f} sec')\n",
    "        #dict_keys(['output', 'params', 'asymptote', 'noises_var', 'states', 'performances'])\n",
    "        \n",
    "        dfnamesubj2res_Died[(dfname,subj)] = out_cursubj\n",
    "        \n",
    "        perturb = dfos['perturbation'].values\n",
    "        #error   = dfos[coln_error_].to_numpy() \n",
    "        #output = out_cursubj['output']\n",
    "        \n",
    "        error =df.query('subject == @subj')[coln_error_].values\n",
    "        perturb = df.query('subject == @subj')['perturbation'].shift(1).values\n",
    "        behavior = perturb  - error\n",
    "        #perturb = df.query('subject == @subj')['perturbation'].shift(1).values\n",
    "        from taumodels.state_space_fit_toolbox.state_space_fit import simulate_deterministic_state_space\n",
    "        S = out_cursubj['params']\n",
    "        y_pred,state = simulate_deterministic_state_space(S,perturb,behavior,'norm')\n",
    "        err_pred = perturb - y_pred \n",
    "                \n",
    "        plt.figure(figsize=(15,3)) # Use matplotlib.pyplot to plot figures\n",
    "        plt.title('Subject ' + dfos['subject'].values[0])         \n",
    "        plt.plot(error, linewidth=2, label='Observed error') \n",
    "        #plt.plot(-output + perturb, linewidth=2, label='Model prediction',alpha=0.8)\n",
    "        plt.plot(err_pred, linewidth=2, label='Model prediction',alpha=0.8)\n",
    "        #plt.plot(perturb-error, linewidth=2, label='pert-err') \n",
    "\n",
    "        plt.ylabel('Angle (°)')\n",
    "        plt.xlabel('Trials')\n",
    "        plt.plot(perturb, label='pert', color='pink', ls=':')\n",
    "        \n",
    "        plt.plot(y_pred,label='state')\n",
    "        plt.legend() # Call legend function to show legends\n",
    "        #plt.twinx() # Use twinx function to create a second y-axis\n",
    "        plt.ylim(-40,60)\n",
    "        plt.grid(True)\n",
    "        plt.show() # Call show function to display\n",
    "        #break"
   ]
  },
  {
   "cell_type": "code",
   "execution_count": null,
   "id": "ba1c6c73",
   "metadata": {
    "hidden": true
   },
   "outputs": [],
   "source": [
    "#error"
   ]
  },
  {
   "cell_type": "code",
   "execution_count": null,
   "id": "83028ad9",
   "metadata": {
    "hidden": true
   },
   "outputs": [],
   "source": []
  },
  {
   "cell_type": "code",
   "execution_count": null,
   "id": "766113ea",
   "metadata": {
    "code_folding": [],
    "hidden": true
   },
   "outputs": [],
   "source": [
    "if len(dfnamesubj2res_Died) == 20:\n",
    "    fnf = pjoin(path_data_cc,'dfnamesubj2res_Died_fboffl.npz')\n",
    "    print(len(dfnamesubj2res_Died), fnf)\n",
    "    np.savez(fnf, dfnamesubj2res_Died)"
   ]
  },
  {
   "cell_type": "code",
   "execution_count": null,
   "id": "f44d7eb8",
   "metadata": {
    "hidden": true
   },
   "outputs": [],
   "source": [
    "# print('Start parallel over nbTrials and startIdx')\n",
    "# from joblib import Parallel, delayed\n",
    "# nruns = 5\n",
    "# plr = Parallel(n_jobs=n_jobs, backend='multiprocessing',\n",
    "#                )(delayed(calcH_min)(-perturb, error, EC_mask) for i in np.arange(nruns))\n"
   ]
  },
  {
   "cell_type": "markdown",
   "id": "3b3d0833",
   "metadata": {},
   "source": [
    "# Herz"
   ]
  },
  {
   "cell_type": "code",
   "execution_count": null,
   "id": "5d83b3e4",
   "metadata": {
    "code_folding": []
   },
   "outputs": [],
   "source": [
    "# async not parallel\n",
    "timeout = 12\n",
    "from taumodels.models import simMoE, calcH_min\n",
    "from taumodels.models import getBestHerzPar\n",
    "def fitModelHerz_simple(perturb, error, EC_mask, nruns = 20, \n",
    "                 timeout=12, reg=0):\n",
    "    plr = []\n",
    "    for i in range(nruns*10):\n",
    "        # Create a queue to store the result\n",
    "        queue = mp.Queue()\n",
    "        # Create a process that runs the optimize function and puts the result in the queue\n",
    "        p = mp.Process(target=lambda q, x: \n",
    "            q.put(_opt(x)), \n",
    "                args=(queue, (perturb, error, EC_mask,reg)))\n",
    "        p.start()\n",
    "        p.join(timeout)\n",
    "\n",
    "        # Check if the process is still alive\n",
    "        if p.is_alive():\n",
    "            p.terminate()\n",
    "            p.join()\n",
    "            print(\"------ Terminating optimization: time limit reached\")\n",
    "            # Return None\n",
    "            res = None,None,None\n",
    "        else:\n",
    "            # Get the result from the queue\n",
    "            res = queue.get()\n",
    "\n",
    "        if isSuccess(res):\n",
    "            plr += [res]\n",
    "        if len(plr) >= nruns:\n",
    "            break\n",
    "        else:\n",
    "            print(len(plr))\n",
    "    return plr\n",
    "\n",
    "def isSuccess(res, check_q = False):\n",
    "    (minres_H, pard, seed) = res\n",
    "    #print('isSuccess: pard={} minres={}'.format(pard,minres_H))\n",
    "    if pard is None:\n",
    "        return False\n",
    "    r = simMoE(-perturb, EC_mask=EC_mask, **pard)\n",
    "    motor_output,error_pred2,ws,err_sens2, gaussian_centers,gaussian_variances = r \n",
    "    \n",
    "    if check_q:\n",
    "        q = np.quantile(err_sens2, 0.9) \n",
    "    else:\n",
    "        q = 0\n",
    "    if minres_H.success and q < 0.98:\n",
    "        return True\n",
    "    return False\n",
    "\n",
    "import multiprocessing as mp\n",
    "def _opt(_x):\n",
    "    perturb, error, EC_mask, pre_break_duration, reg = _x\n",
    "    s = int(np.ceil(time.time() * 1e4) ) % int( 1e5 )\n",
    "    try:        \n",
    "        print('Starting opt with seed = ',s)\n",
    "        np.random.seed( s )\n",
    "        minres_H, pard = calcH_min(-perturb, error, EC_mask, pre_break_duration,\n",
    "                                  reg=reg, timeout = timeout)\n",
    "    except ValueError as e:\n",
    "        raise e\n",
    "        print(e)\n",
    "        pard = None\n",
    "        minres_H = None\n",
    "    return (minres_H, pard, s)"
   ]
  },
  {
   "cell_type": "code",
   "execution_count": null,
   "id": "032868eb",
   "metadata": {},
   "outputs": [],
   "source": [
    "import sys,os\n",
    "import numpy as np\n",
    "sys.path.append(os.path.expandvars('$CODE_MEMORY_ERRORS'))\n",
    "from taumodels.models import simMoE, calcH_min\n",
    "perturb = np.array([0,0,30])\n",
    "error = perturb\n",
    "EC_mask = np.array([0,0,0])\n",
    "pre_break_duration = np.array([0,0,0])\n",
    "reg = 0\n",
    "\n",
    "#%debug\n",
    "#_opt((perturb, error, EC_mask, pre_break_duration, reg))\n",
    "\n",
    "calcH_min(-perturb, error, EC_mask, pre_break_duration,\n",
    "                                  reg=reg, timeout = 12)"
   ]
  },
  {
   "cell_type": "code",
   "execution_count": null,
   "id": "75ffb4de",
   "metadata": {},
   "outputs": [],
   "source": []
  },
  {
   "cell_type": "code",
   "execution_count": null,
   "id": "95dda419",
   "metadata": {},
   "outputs": [],
   "source": [
    "np.max(pre_break_duration)"
   ]
  },
  {
   "cell_type": "code",
   "execution_count": null,
   "id": "a0be4848",
   "metadata": {},
   "outputs": [],
   "source": [
    "import gc; gc.collect()"
   ]
  },
  {
   "cell_type": "code",
   "execution_count": null,
   "id": "84335e81",
   "metadata": {},
   "outputs": [],
   "source": [
    "dfcc_all_NIH.query('pre_break_duration > 0')['pre_break_duration']"
   ]
  },
  {
   "cell_type": "code",
   "execution_count": null,
   "id": "f6b05b78",
   "metadata": {},
   "outputs": [],
   "source": [
    "dfnamesubj2res_Herz = {}"
   ]
  },
  {
   "cell_type": "code",
   "execution_count": null,
   "id": "f5c5e223",
   "metadata": {
    "code_folding": [],
    "run_control": {
     "marked": false
    }
   },
   "outputs": [],
   "source": [
    "nruns = 20\n",
    "max_attempts = 9\n",
    "timeout = 50\n",
    "n_jobs=25\n",
    "\n",
    "nruns = 12\n",
    "\n",
    "# max_attempts = 25\n",
    "# timeout = 10\n",
    "# nruns = 5\n",
    "# reg = 1\n",
    "\n",
    "addonly = 1\n",
    "# nruns = 4\n",
    "# max_attempts = 4 # reattemptts actually\n",
    "# timeout = 7\n",
    "print(len(dfnamesubj2res_Herz ))\n",
    "#for dfname,df in zip(['NIH', 'cc'], [dfcc_all_NIH,dfcc_all]):\n",
    "for dfname,df in zip(['NIH'], [dfcc_all_NIH]):\n",
    "    for subj in df.subject.unique()[::-1]:\n",
    "        if addonly and (dfname,subj) in dfnamesubj2res_Herz:\n",
    "            if len(dfnamesubj2res_Herz[(dfname,subj)]) > 1:\n",
    "                continue\n",
    "        print('-------------------')\n",
    "        print('-------------------')\n",
    "        print('########### ',dfname, '   subj == ',subj)\n",
    "        print('-------------------')\n",
    "        print('-------------------')\n",
    "        qs = 'subject == @subj'\n",
    "        t0 = time.time()\n",
    "        if dfname == 'NIH':\n",
    "            coln_error_ = 'error_deg'\n",
    "        else:         \n",
    "            qs += ' and trial_index >= @numtrain'            \n",
    "            coln_error_ = coln_error\n",
    "        \n",
    "        clear_outlier = 120\n",
    "        dfos = df.query(qs).copy()\n",
    "        inds = dfos.query(\n",
    "            f'{coln_error_}.abs() > {clear_outlier}').index\n",
    "        dfos.loc[inds,coln_error_] = np.nan\n",
    "        \n",
    "        \n",
    "        error = dfos[coln_error_].values\n",
    "        perturb = dfos['perturbation'].values\n",
    "        \n",
    "        perturb[perturb > 180] = perturb[perturb > 180] - 360\n",
    "        \n",
    "        if dfname == 'NIH':\n",
    "            EC_mask = np.array( [0] * len(dfos) )\n",
    "        else:\n",
    "            EC_mask = (dfos['trial_type'] == \"error_clamp\").values\n",
    "        \n",
    "        pre_break_duration = dfos['pre_break_duration'].values\n",
    "            \n",
    "        #out_cursubj = fitModelHerz(perturb, error, EC_mask, nruns = nruns, \n",
    "        #                    max_attempts = max_attempts, timeout=timeout,\n",
    "        #                          n_jobs=n_jobs)\n",
    "        #out_cursubj = fitModelHerz_simple(perturb, \n",
    "        #        error, EC_mask, nruns = nruns, \n",
    "        #        timeout=timeout, reg=reg)\n",
    "        plr = []\n",
    "        dfnamesubj2res_Herz[(dfname,subj)]  = []\n",
    "        for i in range(nruns*max_attempts):\n",
    "            # Create a queue to store the result\n",
    "            queue = mp.Queue()\n",
    "            # Create a process that runs the optimize function and puts the result in the queue\n",
    "            p = mp.Process(target=lambda q, x: \n",
    "                q.put(_opt(x)), \n",
    "                    args=(queue, (perturb, error, EC_mask, pre_break_duration, reg)))\n",
    "            p.start()\n",
    "            p.join(timeout)\n",
    "\n",
    "            # Check if the process is still alive\n",
    "            if p.is_alive():\n",
    "                p.terminate()\n",
    "                p.join()\n",
    "                print(f\"------ {subj} Terminating optimization: time limit reached\")                \n",
    "                res = None,None,None\n",
    "            else:\n",
    "                res = queue.get()\n",
    "\n",
    "            if isSuccess(res):\n",
    "                dfnamesubj2res_Herz[(dfname,subj)].append(res)\n",
    "                plr.append(res)\n",
    "                print('-------------------')\n",
    "                print('get output but with success!'\n",
    "                      ' new len(plr) = {len(plr)} ( of needed {nruns})')\n",
    "                print('-------------------')\n",
    "            else:\n",
    "                print('-------------------')\n",
    "                print('get output but w/ot success')\n",
    "                print('-------------------')\n",
    "            \n",
    "            if len(plr) >= nruns:\n",
    "                print(f'Finishing for {subj} after {i+1} runs')\n",
    "                break\n",
    "            else:\n",
    "                print(f'---- {subj} Len plr = ',len(plr))\n",
    "                \n",
    "        dfnamesubj2res_Herz[(dfname,subj)] = plr\n",
    "#         break\n",
    "#     break\n",
    "        pard0 = getBestHerzPar(plr)        \n",
    "        pard = pard0.copy()\n",
    "        if 'fun' in pard:\n",
    "            del pard['fun']\n",
    "            del pard['nit']\n",
    "            del pard['nfev']\n",
    "            del pard['seed']\n",
    "        r = calcH_orig(-perturb,EC_mask=EC_mask, **pard)\n",
    "        (motor_output,error_pred2,ws,err_sens2, \n",
    "            gaussian_centers,gaussian_variances) = r \n",
    "\n",
    "        plt.figure(figsize=(12,3))\n",
    "        plt.plot(error,label='true')\n",
    "        plt.plot(error_pred2,label='pred')\n",
    "        plt.plot(perturb,label='pert', c='r',alpha=0.7, ls=':')\n",
    "        plt.plot(30 + err_sens2*20,label='ES')\n",
    "        plt.axhline(30, ls=':', c='k')\n",
    "        plt.axhline(30+20, ls=':', c='k')\n",
    "        plt.grid(True)\n",
    "        plt.title('fval = {:.3f}; alpha={:.3f} alpha_w={:.3f}'.\\\n",
    "                  format(pard0['fun'], pard['alpha'], pard['alpha_w']))\n",
    "        plt.legend()\n",
    "        plt.show()"
   ]
  },
  {
   "cell_type": "code",
   "execution_count": null,
   "id": "77fc65f2",
   "metadata": {},
   "outputs": [],
   "source": [
    "bads = []\n",
    "for k,v in dfnamesubj2res_Herz.items():\n",
    "    if len(v) == 0:\n",
    "        bads += [k]\n",
    "print(bads)\n",
    "for k in bads:\n",
    "    del dfnamesubj2res_Herz[k]"
   ]
  },
  {
   "cell_type": "code",
   "execution_count": null,
   "id": "21c571e1",
   "metadata": {},
   "outputs": [],
   "source": [
    "# subj014 does not fit Herz"
   ]
  },
  {
   "cell_type": "code",
   "execution_count": null,
   "id": "82a2de3f",
   "metadata": {},
   "outputs": [],
   "source": []
  },
  {
   "cell_type": "code",
   "execution_count": null,
   "id": "ddb89108",
   "metadata": {},
   "outputs": [],
   "source": [
    "len(plr), len(dfnamesubj2res_Herz)"
   ]
  },
  {
   "cell_type": "code",
   "execution_count": null,
   "id": "f767e087",
   "metadata": {},
   "outputs": [],
   "source": [
    "dfnamesubj2res_Herz.keys()"
   ]
  },
  {
   "cell_type": "code",
   "execution_count": null,
   "id": "d8d390c6",
   "metadata": {},
   "outputs": [],
   "source": [
    "from pprint import pprint"
   ]
  },
  {
   "cell_type": "code",
   "execution_count": null,
   "id": "cf87e0e0",
   "metadata": {},
   "outputs": [],
   "source": [
    "out_cursubj"
   ]
  },
  {
   "cell_type": "code",
   "execution_count": null,
   "id": "476834b3",
   "metadata": {},
   "outputs": [],
   "source": [
    "out_cursubj = plr"
   ]
  },
  {
   "cell_type": "code",
   "execution_count": null,
   "id": "c2575ad9",
   "metadata": {
    "code_folding": [
     2,
     8
    ],
    "run_control": {
     "marked": false
    }
   },
   "outputs": [],
   "source": [
    "        pard0 = getBestHerzPar(plr)        \n",
    "        pard = pard0.copy()\n",
    "        if 'fun' in pard:\n",
    "            del pard['fun']\n",
    "            del pard['nit']\n",
    "            del pard['nfev']\n",
    "            del pard['seed']\n",
    "        r = calcH_orig(-perturb,EC_mask=EC_mask, **pard)\n",
    "        (motor_output,error_pred2,ws,err_sens2, \n",
    "            gaussian_centers,gaussian_variances) = r \n",
    "\n",
    "        plt.figure(figsize=(12,3))\n",
    "        plt.plot(error,label='true')\n",
    "        plt.plot(error_pred2,label='pred')\n",
    "        plt.plot(perturb,label='pert', c='r',alpha=0.7, ls=':')\n",
    "        plt.plot(30 + err_sens2*20,label='ES')\n",
    "        plt.axhline(30, ls=':', c='k')\n",
    "        plt.axhline(30+20, ls=':', c='k')\n",
    "        plt.grid(True)\n",
    "        plt.title('fval = {:.3f}; alpha={:.3f} alpha_w={:.3f}'.\\\n",
    "                  format(pard0['fun'], pard['alpha'], pard['alpha_w']))\n",
    "        plt.legend()"
   ]
  },
  {
   "cell_type": "code",
   "execution_count": null,
   "id": "52d76d44",
   "metadata": {},
   "outputs": [],
   "source": []
  },
  {
   "cell_type": "code",
   "execution_count": null,
   "id": "cdc7a09c",
   "metadata": {},
   "outputs": [],
   "source": [
    "if len(dfnamesubj2res_Herz):\n",
    "    fnf = pjoin(path_data_cc,'dfnamesubj2res_Herz.npz')\n",
    "    print(len(dfnamesubj2res_Herz), fnf)\n",
    "    np.savez(fnf, dfnamesubj2res_Herz)"
   ]
  },
  {
   "cell_type": "code",
   "execution_count": null,
   "id": "c6b75558",
   "metadata": {
    "code_folding": [
     3,
     46,
     55
    ],
    "run_control": {
     "marked": false
    }
   },
   "outputs": [],
   "source": [
    "# using async IO to handle optim prone to hang\n",
    "\n",
    "import time\n",
    "def fitModelHerz(perturb, error, EC_mask, nruns = 20, \n",
    "                 max_attempts = 5, timeout=30, n_jobs=8):\n",
    "    attempts_per_run_left = np.array( nruns*[max_attempts] )\n",
    "    timouts_per_run_left = np.array( nruns*[max_attempts] )  # maybe redundant\n",
    "    success_per_run = np.array( nruns * [False] )\n",
    "\n",
    "    plrpre = []\n",
    "    plr2 = []\n",
    "    pool = mp.Pool(min(n_jobs, nruns) )\n",
    "    for i in range(nruns):\n",
    "        result = pool.apply_async(_opt, args=((perturb, error, EC_mask),))\n",
    "        plrpre.append(result)\n",
    "\n",
    "    while (not np.all(success_per_run) ) and np.sum( attempts_per_run_left ) > 0: \n",
    "        # Assume that all the optimizations succeeded unless proven otherwise success = True \n",
    "        # Loop over the list of results and their corresponding initial guesses \n",
    "        for i, result in enumerate(plrpre): \n",
    "            # if timout it is not always (never?) ready\n",
    "            if result.ready(): # Use the successful method of the result object to check \n",
    "                if (not result.successful()) or (not success_per_run[i]): # If it has failed, set the success flag to False \n",
    "                    success_per_run[i] = False # Print a message\n",
    "                    if attempts_per_run_left[i] == 0:\n",
    "                        continue\n",
    "                    print(f\"Optimization {i} failed, restarting\") \n",
    "                    result = pool.apply_async(_opt, args=((perturb, error, EC_mask),))\n",
    "                    attempts_per_run_left[i] -= 1\n",
    "                    plrpre[i] = result \n",
    "            else: \n",
    "                success_per_run[i] = False\n",
    "\n",
    "        # If all the optimizations have succeeded, break out of the loop\n",
    "        npoor1 = np.sum( attempts_per_run_left[~success_per_run] )\n",
    "        npoor2 = np.sum( timouts_per_run_left[~success_per_run] )\n",
    "        if np.all(success_per_run) or npoor1 == 0 or npoor2 == 0:\n",
    "            print('Terminate everything')\n",
    "            pool.terminate()\n",
    "            pool.join()\n",
    "            time.sleep(5)\n",
    "            break \n",
    "\n",
    "        for i, result in enumerate(plrpre):\n",
    "            if success_per_run[i]:\n",
    "                continue\n",
    "            try:\n",
    "                res = result.get(timeout=30)\n",
    "                succ = isSuccess(res)\n",
    "                print('Wrk {} check Success. Ready={}, succ0={}, succ1={}; len(plr2) = {},\\n attempts={}, still fail={}'.\\\n",
    "                      format(i,result.ready(),result.successful(), succ, len(plr2) ,\n",
    "                      attempts_per_run_left[~success_per_run], np.where(~success_per_run)[0] ) )\n",
    "                if succ:\n",
    "                    plr2 += [res]\n",
    "                    success_per_run[i] = True\n",
    "            except mp.TimeoutError: # Handle any exceptions raised by the get method\n",
    "                # Print a message\n",
    "                timouts_per_run_left[i] -= 1            \n",
    "                npoor = np.sum( timouts_per_run_left[~success_per_run] )\n",
    "                print(f\"Terminating {i}: time limit reached ready={result.ready()}, sum tl={npoor}\")\n",
    "                \n",
    "        npoor = np.sum( timouts_per_run_left[~success_per_run] )\n",
    "        if npoor == 0:\n",
    "            # Terminate the pool\n",
    "            print('Terminate everything 2')\n",
    "            pool.terminate()\n",
    "            pool.join()\n",
    "            time.sleep(5)\n",
    "            break\n",
    "\n",
    "    if np.all(success_per_run):\n",
    "        print(\"All optimizations succeeded\")\n",
    "    else:\n",
    "        print(\"Maximum number of attempts reached: succesed {} of {}\".format( np.sum(success_per_run), \n",
    "                                                                             nruns))\n",
    "        pool.terminate()\n",
    "        pool.join()\n",
    "    return plr2"
   ]
  },
  {
   "cell_type": "code",
   "execution_count": null,
   "id": "f6dc107f",
   "metadata": {},
   "outputs": [],
   "source": [
    "best_par0 = {'initial_sensitivity': 0.3661433958521835, 'gaussian_variance': 3.850651446260379, 'eta': 0.06792935414425082, 'alpha': 0.694112481631201, 'execution_noise_variance': 2.369905698380425, 'sensory_noise_variance': 0.40409512579074175, 'alpha_w': 0.9385030600766864, 'fun': 64.69090744102397, 'nit': 5.0, 'nfev': 8.0}\n",
    "best_par1 = {'initial_sensitivity': 0.33031854635212193, 'gaussian_variance': 3.5238276546075986, 'eta': 0.14726827889543936, 'alpha': 0.848256765609661, 'execution_noise_variance': 1.2807575561680065, 'sensory_noise_variance': 1.4880866262162167, 'alpha_w': 0.4708160119528675, 'fun': 65.65002206900775, 'nit': 6.0, 'nfev': 26.0}"
   ]
  },
  {
   "cell_type": "code",
   "execution_count": null,
   "id": "a99071f3",
   "metadata": {},
   "outputs": [],
   "source": [
    "plr2 = list(dfnamesubj2res_Herz.values())[0]"
   ]
  },
  {
   "cell_type": "code",
   "execution_count": null,
   "id": "2e9e4940",
   "metadata": {},
   "outputs": [],
   "source": [
    "import pandas as pd\n",
    "rows = []\n",
    "for tpl in plr2:\n",
    "    d = tpl[1].copy()\n",
    "    d['fun'] = tpl[0].fun\n",
    "    d['nit'] = tpl[0].nit\n",
    "    d['nfev'] = tpl[0].nfev\n",
    "    d['seed'] = tpl[2]\n",
    "    rows += [d]\n",
    "dfrespar = pd.DataFrame(rows)#.describe()\n",
    "if len(dfrespar):\n",
    "    display( dfrespar.describe() )\n",
    "\n",
    "    ind =  dfrespar['fun'].idxmin()\n",
    "    print(ind)\n",
    "    best_par = dfrespar.loc[ind].to_dict()\n",
    "    print(best_par)"
   ]
  },
  {
   "cell_type": "code",
   "execution_count": null,
   "id": "0201ce6f",
   "metadata": {},
   "outputs": [],
   "source": [
    "dfrespar"
   ]
  },
  {
   "cell_type": "code",
   "execution_count": null,
   "id": "212073cd",
   "metadata": {},
   "outputs": [],
   "source": [
    "len( plr2 )"
   ]
  },
  {
   "cell_type": "code",
   "execution_count": null,
   "id": "5c9a8653",
   "metadata": {},
   "outputs": [],
   "source": [
    "pard"
   ]
  },
  {
   "cell_type": "code",
   "execution_count": null,
   "id": "1b483caa",
   "metadata": {},
   "outputs": [],
   "source": [
    "#plr = [(minres_H, pard)]"
   ]
  },
  {
   "cell_type": "code",
   "execution_count": null,
   "id": "28a6d5ea",
   "metadata": {},
   "outputs": [],
   "source": [
    "plt.hist(err_sens2)"
   ]
  },
  {
   "cell_type": "code",
   "execution_count": null,
   "id": "4ecbbdc9",
   "metadata": {},
   "outputs": [],
   "source": [
    "q = np.quantile(err_sens2, 0.9) \n",
    "print(q)\n",
    "#-  0.8"
   ]
  },
  {
   "cell_type": "code",
   "execution_count": null,
   "id": "fbd81a66",
   "metadata": {},
   "outputs": [],
   "source": [
    "pard"
   ]
  },
  {
   "cell_type": "code",
   "execution_count": null,
   "id": "668c93d8",
   "metadata": {},
   "outputs": [],
   "source": [
    "EC_mask = (dfos['trial_type'] == \"error_clamp\").values\n",
    "#EC_mask = None\n",
    "#%debug\n",
    "error = dfos[coln_error].values\n",
    "perturb = dfos['perturbation'].values\n",
    "r = calcH_orig(-perturb,EC_mask=EC_mask)\n",
    "motor_output,error_pred,ws,err_sens, gaussian_centers,gaussian_variances = r "
   ]
  },
  {
   "cell_type": "code",
   "execution_count": null,
   "id": "7ac38410",
   "metadata": {},
   "outputs": [],
   "source": [
    "plt.figure(figsize=(12,3))\n",
    "plt.plot(error,label='true')\n",
    "plt.plot(error_pred,label='pred')\n",
    "plt.plot(perturb,label='pert', c='r',alpha=0.7, ls=':')\n",
    "plt.plot(30 + err_sens*20,label='ES')\n",
    "plt.axhline(30, ls=':', c='k')\n",
    "plt.axhline(30+20, ls=':', c='k')\n",
    "plt.grid(True)\n",
    "plt.legend()\n",
    "\n",
    "for tpl in plr2:\n",
    "    minres,pard = tpl\n",
    "    if 'fun' in pard:\n",
    "        del pard['fun']\n",
    "    r = calcH_orig(-perturb,EC_mask=EC_mask, **pard)\n",
    "    motor_output,error_pred2,ws,err_sens2, gaussian_centers,gaussian_variances = r \n",
    "\n",
    "    plt.figure(figsize=(12,3))\n",
    "    plt.plot(error,label='true')\n",
    "    plt.plot(error_pred2,label='pred')\n",
    "    plt.plot(perturb,label='pert', c='r',alpha=0.7, ls=':')\n",
    "    plt.plot(30 + err_sens2*20,label='ES')\n",
    "    plt.axhline(30, ls=':', c='k')\n",
    "    plt.axhline(30+20, ls=':', c='k')\n",
    "    plt.grid(True)\n",
    "    plt.title('fval = {:.3f}; alpha={:.3f} alpha_w={:.3f}'.format(minres.fun, pard['alpha'], pard['alpha_w']))\n",
    "    plt.legend()"
   ]
  },
  {
   "cell_type": "code",
   "execution_count": null,
   "id": "db19f18e",
   "metadata": {},
   "outputs": [],
   "source": [
    "ind"
   ]
  },
  {
   "cell_type": "code",
   "execution_count": null,
   "id": "787e7efa",
   "metadata": {},
   "outputs": [],
   "source": []
  },
  {
   "cell_type": "markdown",
   "id": "9075ffdd",
   "metadata": {},
   "source": [
    "# plot"
   ]
  },
  {
   "cell_type": "code",
   "execution_count": null,
   "id": "12561e44",
   "metadata": {},
   "outputs": [],
   "source": [
    "import matplotlib.pyplot as plt"
   ]
  },
  {
   "cell_type": "code",
   "execution_count": null,
   "id": "3eaf1d3a",
   "metadata": {},
   "outputs": [],
   "source": [
    "#for subj in subj2out_Tan:\n",
    "for out in [outT, outD]:\n",
    "    error   = dfos[coln_error].to_numpy()\n",
    "    perturb = dfos['perturbation'].to_numpy()    \n",
    "    #out = subj2out_Tan[subj ]\n",
    "    adaptationRate = None\n",
    "    if 'adaptation_rate' in out:\n",
    "        adaptationRate = out['adaptation_rate']\n",
    "    output = out['y_pred']\n",
    "    plt.figure(figsize=(15,3)) # Use matplotlib.pyplot to plot figures\n",
    "    plt.title('Subject ' + dfos['subject'].values[0]) # Use string concatenation to make titles\n",
    "    plt.plot(error, linewidth=2, label='Observed error') # Use label argument to add legends\n",
    "    plt.plot(output, linewidth=2, label='Model prediction',alpha=0.8)\n",
    "    plt.ylabel('Angle (°)')\n",
    "    plt.xlabel('Trials')\n",
    "    plt.plot(perturb, label='pert', color='red', ls=':')\n",
    "    plt.legend() # Call legend function to show legends\n",
    "    #plt.twinx() # Use twinx function to create a second y-axis\n",
    "    if adaptationRate is not None:\n",
    "        plt.plot(30 + 50*adaptationRate, linewidth=1, label='Adaptation rate', color='green') # Use color argument to change the line color\n",
    "        plt.legend() # Call legend function to show legends\n",
    "    plt.ylim(-40,60)\n",
    "    plt.grid(True)\n",
    "    plt.show() # Call show function to display the figure\n"
   ]
  },
  {
   "cell_type": "code",
   "execution_count": null,
   "id": "c76ef75a",
   "metadata": {},
   "outputs": [],
   "source": []
  }
 ],
 "metadata": {
  "kernelspec": {
   "display_name": "merr3_mamba",
   "language": "python",
   "name": "merr3_mamba"
  },
  "language_info": {
   "codemirror_mode": {
    "name": "ipython",
    "version": 3
   },
   "file_extension": ".py",
   "mimetype": "text/x-python",
   "name": "python",
   "nbconvert_exporter": "python",
   "pygments_lexer": "ipython3",
   "version": "3.11.5"
  }
 },
 "nbformat": 4,
 "nbformat_minor": 5
}
