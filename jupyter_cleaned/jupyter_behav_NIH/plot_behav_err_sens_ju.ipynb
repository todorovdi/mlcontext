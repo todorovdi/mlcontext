{
 "cells": [
  {
   "cell_type": "code",
   "execution_count": null,
   "id": "bebd2cf9",
   "metadata": {},
   "outputs": [],
   "source": [
    "%load_ext autoreload\n",
    "%autoreload 2\n",
    "\n",
    "import os\n",
    "import pandas as pd\n",
    "import matplotlib.pyplot as plt\n",
    "\n",
    "ipy = get_ipython()\n",
    "#data_dir_general = '/home/demitau/data_Quentin'\n",
    "#data_subdir_mem_err_main = 'full_experiments/data2'\n",
    "from os.path import join as pjoin\n",
    "#data_dir_input = pjoin(data_dir_general,data_subdir_mem_err_main)\n",
    "\n",
    "\n",
    "#data_dir_general = '/home/demitau/data_Quentin'\n",
    "#data_subdir_mem_err_main = 'full_experiments/data2'\n",
    "#data_dir_input = pjoin(data_dir_general,data_subdir_mem_err_main)\n",
    "#scripts_dir = pjoin(data_dir_general,'full_experiments','scripts2')\n",
    "\n",
    "import os,sys; sys.path.append(os.path.expandvars('$CODE_MEMORY_ERRORS'))\n",
    "data_dir_general = os.path.expandvars('$DATA_QUENTIN')\n",
    "data_dir_input = os.path.expandvars('$DATA_MEMORY_ERRORS_STAB_AND_STOCH')\n",
    "scripts_dir = pjoin( os.path.expandvars('$CODE_MEMORY_ERRORS'), 'previous_analyses')\n",
    "\n",
    "\n",
    "print(data_dir_input, scripts_dir)\n",
    "\n",
    "subjects = [f for f in os.listdir(data_dir_input) if f.startswith('sub') ]\n",
    "subjects = list(sorted(subjects))\n",
    "print(subjects)\n",
    "\n",
    "from config2 import *\n",
    "\n",
    "from base2 import (width, height, radius, calc_target_coordinates_centered,\n",
    "                  calc_rad_angle_from_coordinates)\n",
    "\n",
    "import numpy as np\n",
    "target_angs = (np.array([157.5, 112.5, 67.5, 22.5]) + 90) * \\\n",
    "              (np.pi/180)\n",
    "target_coords = calc_target_coordinates_centered(target_angs)\n"
   ]
  },
  {
   "cell_type": "markdown",
   "id": "36805c1d",
   "metadata": {},
   "source": [
    "# init"
   ]
  },
  {
   "cell_type": "code",
   "execution_count": null,
   "id": "5b025f97",
   "metadata": {},
   "outputs": [],
   "source": [
    "from figure.plot_behav2 import addCols\n",
    "\n",
    "behav_df_all = []\n",
    "#or subj in subjects[:4]:#[si]\n",
    "for subj in subjects:#[si]\n",
    "    behav_data_dir = pjoin(data_dir_input,'behavdata')\n",
    "    #behavdata\n",
    "    task = 'VisuoMotor'\n",
    "    fname = pjoin(path_data, subj, 'behavdata',\n",
    "                    f'behav_{task}_df.pkl' )\n",
    "    # where we would save cleaned df\n",
    "    fname_EC = pjoin(path_data, subj, 'behavdata',\n",
    "                    f'behav_{task}_df_EC.pkl' )\n",
    "    behav_df_full = pd.read_pickle(fname)\n",
    "\n",
    "    behav_df = pd.read_pickle(fname)\n",
    "    behav_df['subject'] = subj\n",
    "    behav_df_all += [behav_df]\n",
    "    \n",
    "behav_df_all = pd.concat(behav_df_all)\n",
    "# behav_df_all['correction'] = None\n",
    "# behav_df_all['err_sens'] = None\n",
    "df_all = behav_df_all.reset_index()\n",
    "\n",
    "addCols(df_all)"
   ]
  },
  {
   "cell_type": "code",
   "execution_count": null,
   "id": "e3df9941",
   "metadata": {},
   "outputs": [],
   "source": [
    "path_fig"
   ]
  },
  {
   "cell_type": "code",
   "execution_count": null,
   "id": "51a3d689",
   "metadata": {},
   "outputs": [],
   "source": [
    "df_all.to_pickle( pjoin(path_fig, 'output_intermed.gzip'),'gzip')"
   ]
  },
  {
   "cell_type": "code",
   "execution_count": null,
   "id": "72784115",
   "metadata": {},
   "outputs": [],
   "source": [
    "import matplotlib as mpl\n",
    "COLOR = 'black'\n",
    "mpl.rcParams['text.color'] = COLOR\n",
    "mpl.rcParams['axes.labelcolor'] = COLOR\n",
    "mpl.rcParams['xtick.color'] = COLOR\n",
    "mpl.rcParams['ytick.color'] = COLOR\n",
    "\n",
    "tgtc = ['b','g','r','brown']"
   ]
  },
  {
   "cell_type": "code",
   "execution_count": null,
   "id": "9d8863ee",
   "metadata": {},
   "outputs": [],
   "source": [
    "from error_sensitivity import computeErrSens2\n",
    "\n",
    "pertvals = list( df_all['perturbation'].unique() )\n",
    "pertvals = list(pertvals) + [None]\n",
    "\n",
    "envs = ['stable','random','all']\n",
    "#envs = ['stable','random']\n",
    "tgt_inds_all = list( df_all['target_inds'].unique() )  + [None]\n",
    "#tgt_inds_all = list( df_all['target_inds'].unique() )  \n",
    "#tgt_inds_all = [None]\n",
    "#tgt_inds_all = [1]\n",
    "nsubj = df_all['subject'].nunique()\n",
    "\n",
    "#subj_list = subjects[:2]\n",
    "#subj_list = ['mean'] \n",
    "#subj_list = subjects[:2] + ['mean']\n",
    "subj_list = subjects\n",
    "\n",
    "respect_trial_inds = True\n",
    "ww = 6; hh = 3\n",
    "nr = len(subj_list) * len(pertvals)\n",
    "nc = len(envs)"
   ]
  },
  {
   "cell_type": "code",
   "execution_count": null,
   "id": "763f9fd8",
   "metadata": {},
   "outputs": [],
   "source": [
    "from figure.plot_behav2 import *\n",
    "# for envi,env in enumerate(envs):\n",
    "#     for pertv in pertvals:\n",
    "#         if (env,pertv) not in allowed_env_pert_combin:\n",
    "#             print('skipping',env,pertv)\n",
    "#         for tgti in tgt_inds_all:\n",
    "#             coln = getColn(pertv,tgti,env)\n",
    "#             #print(coln)\n",
    "#             #print(len(df_all[coln]))\n",
    "#             df_all[coln]    = [np.nan] * len(df_all)"
   ]
  },
  {
   "cell_type": "code",
   "execution_count": null,
   "id": "70547588",
   "metadata": {},
   "outputs": [],
   "source": []
  },
  {
   "cell_type": "code",
   "execution_count": null,
   "id": "0a55d283",
   "metadata": {},
   "outputs": [],
   "source": [
    "df_all['subject'].nunique()"
   ]
  },
  {
   "cell_type": "markdown",
   "id": "2ec5ba2f",
   "metadata": {},
   "source": [
    "# Make plot"
   ]
  },
  {
   "cell_type": "markdown",
   "id": "bac8df97",
   "metadata": {
    "heading_collapsed": true
   },
   "source": [
    "#### debug"
   ]
  },
  {
   "cell_type": "code",
   "execution_count": null,
   "id": "7c65ed30",
   "metadata": {
    "hidden": true
   },
   "outputs": [],
   "source": [
    "len(err_sens_nh) == len(trial_inds_nh)"
   ]
  },
  {
   "cell_type": "code",
   "execution_count": null,
   "id": "e56257e5",
   "metadata": {
    "hidden": true
   },
   "outputs": [],
   "source": [
    "df_all.loc[trial_inds_nh,'err_sens_perenv']"
   ]
  },
  {
   "cell_type": "code",
   "execution_count": null,
   "id": "13ebcb23",
   "metadata": {
    "hidden": true
   },
   "outputs": [],
   "source": [
    "np.any(~np.isnan(df_all['err_sens_perenv'] ) )"
   ]
  },
  {
   "cell_type": "code",
   "execution_count": null,
   "id": "17b23b86",
   "metadata": {
    "hidden": true
   },
   "outputs": [],
   "source": [
    "df_all.loc[trial_inds_nh,'err_sens_perenv'] = df_esv_nh['err_sens']"
   ]
  },
  {
   "cell_type": "code",
   "execution_count": null,
   "id": "056bdde1",
   "metadata": {
    "hidden": true
   },
   "outputs": [],
   "source": [
    "df_all.loc[trial_inds_nh,'err_sens_perenv'] = err_sens_nh"
   ]
  },
  {
   "cell_type": "code",
   "execution_count": null,
   "id": "2352f5f6",
   "metadata": {
    "hidden": true
   },
   "outputs": [],
   "source": [
    "df_all.loc[trial_inds_nh,'err_sens_perenv']"
   ]
  },
  {
   "cell_type": "code",
   "execution_count": null,
   "id": "49d98640",
   "metadata": {
    "hidden": true
   },
   "outputs": [],
   "source": [
    "help( np.mean )"
   ]
  },
  {
   "cell_type": "code",
   "execution_count": null,
   "id": "76d7e250",
   "metadata": {
    "hidden": true
   },
   "outputs": [],
   "source": []
  },
  {
   "cell_type": "code",
   "execution_count": null,
   "id": "09eeaa08",
   "metadata": {
    "hidden": true
   },
   "outputs": [],
   "source": [
    "df_all"
   ]
  },
  {
   "cell_type": "code",
   "execution_count": null,
   "id": "2719f2f3",
   "metadata": {
    "hidden": true
   },
   "outputs": [],
   "source": [
    "df[['trials',coln]]#.groupby('trials').count()"
   ]
  },
  {
   "cell_type": "code",
   "execution_count": null,
   "id": "a7989aa3",
   "metadata": {
    "hidden": true
   },
   "outputs": [],
   "source": []
  },
  {
   "cell_type": "code",
   "execution_count": null,
   "id": "416eb9ac",
   "metadata": {
    "hidden": true
   },
   "outputs": [],
   "source": [
    "tgti"
   ]
  },
  {
   "cell_type": "code",
   "execution_count": null,
   "id": "e5ed76aa",
   "metadata": {
    "hidden": true
   },
   "outputs": [],
   "source": [
    "print(env,subj,pertv,tgti)"
   ]
  },
  {
   "cell_type": "code",
   "execution_count": null,
   "id": "b37fd769",
   "metadata": {
    "hidden": true
   },
   "outputs": [],
   "source": [
    "envcode"
   ]
  },
  {
   "cell_type": "code",
   "execution_count": null,
   "id": "bf5fc5cb",
   "metadata": {
    "hidden": true
   },
   "outputs": [],
   "source": [
    "df = df_all\n",
    "if pertv is not None:\n",
    "    df = df[df['perturbation'] == pertv]  \n",
    "    \n",
    "print (len(df))\n",
    "if tgti is not None:\n",
    "    df = df[df['target_inds'] == tgti] \n",
    "print (len(df))    \n",
    "\n",
    "if env in env2envcode:  # make trial inds (within subject)\n",
    "    envcode = env2envcode[env]\n",
    "    coln = 'err_sens_perenv'\n",
    "    db_inds = np.where(df['environment'] == envcode)[0]                    \n",
    "    df = df[df['environment'] == envcode]\n",
    "else:\n",
    "    db_inds = np.arange(len(environment)) \n",
    "    coln = 'err_sens_all'\n",
    "    \n",
    "df"
   ]
  },
  {
   "cell_type": "code",
   "execution_count": null,
   "id": "71258a88",
   "metadata": {
    "hidden": true
   },
   "outputs": [],
   "source": [
    "#err_sens_nh   = grpme[coln]\n",
    "err_sens_nh"
   ]
  },
  {
   "cell_type": "code",
   "execution_count": null,
   "id": "b12599a0",
   "metadata": {
    "hidden": true
   },
   "outputs": [],
   "source": [
    "plt.plot(err_sens_nh)"
   ]
  },
  {
   "cell_type": "code",
   "execution_count": null,
   "id": "f83c0778",
   "metadata": {
    "hidden": true
   },
   "outputs": [],
   "source": [
    "grp.count()"
   ]
  },
  {
   "cell_type": "code",
   "execution_count": null,
   "id": "62cfa35d",
   "metadata": {
    "hidden": true
   },
   "outputs": [],
   "source": [
    " print(env,subj,pertv,tgti)"
   ]
  },
  {
   "cell_type": "code",
   "execution_count": null,
   "id": "b1592703",
   "metadata": {
    "hidden": true
   },
   "outputs": [],
   "source": [
    "a,b = list(grp)[0] \n",
    "a,b"
   ]
  },
  {
   "cell_type": "code",
   "execution_count": null,
   "id": "01392876",
   "metadata": {
    "hidden": true
   },
   "outputs": [],
   "source": [
    "df_all.groupby"
   ]
  },
  {
   "cell_type": "code",
   "execution_count": null,
   "id": "94c06fd3",
   "metadata": {
    "hidden": true
   },
   "outputs": [],
   "source": [
    "#df.values[:,1]"
   ]
  },
  {
   "cell_type": "code",
   "execution_count": null,
   "id": "a49da4ea",
   "metadata": {
    "hidden": true
   },
   "outputs": [],
   "source": []
  },
  {
   "cell_type": "code",
   "execution_count": null,
   "id": "1816a132",
   "metadata": {
    "hidden": true
   },
   "outputs": [],
   "source": [
    "display( grp.apply(lambda g: g.mean(skipna=True)) )\n",
    "grp.apply(lambda g: av(g,coln))#.reset_index()"
   ]
  },
  {
   "cell_type": "code",
   "execution_count": null,
   "id": "9f59e2c6",
   "metadata": {
    "hidden": true
   },
   "outputs": [],
   "source": [
    "#grp.get_group(5)#; print(coln)\n",
    "av( grp.get_group(5), coln)"
   ]
  },
  {
   "cell_type": "code",
   "execution_count": null,
   "id": "1d7b3845",
   "metadata": {
    "hidden": true
   },
   "outputs": [],
   "source": []
  },
  {
   "cell_type": "code",
   "execution_count": null,
   "id": "ee937bb8",
   "metadata": {
    "hidden": true
   },
   "outputs": [],
   "source": [
    "#grpme.values"
   ]
  },
  {
   "cell_type": "markdown",
   "id": "17d743b2",
   "metadata": {
    "heading_collapsed": true
   },
   "source": [
    "#### final"
   ]
  },
  {
   "cell_type": "code",
   "execution_count": null,
   "id": "a6efd03b",
   "metadata": {
    "hidden": true
   },
   "outputs": [],
   "source": [
    "import gc; gc.collect()"
   ]
  },
  {
   "cell_type": "code",
   "execution_count": null,
   "id": "3df9d348",
   "metadata": {
    "hidden": true
   },
   "outputs": [],
   "source": [
    "pd.options.mode.use_inf_as_na = True"
   ]
  },
  {
   "cell_type": "code",
   "execution_count": null,
   "id": "4b166b35",
   "metadata": {
    "hidden": true
   },
   "outputs": [],
   "source": [
    "DEBUG = 0"
   ]
  },
  {
   "cell_type": "markdown",
   "id": "bb032db9",
   "metadata": {
    "heading_collapsed": true,
    "hidden": true
   },
   "source": [
    "##### debug subjStat"
   ]
  },
  {
   "cell_type": "code",
   "execution_count": null,
   "id": "719cc845",
   "metadata": {
    "hidden": true
   },
   "outputs": [],
   "source": [
    "from figure.plot_behav2 import subjStat\n",
    "#trialcol = 'trialwb'\n",
    "# trialcol = 'trialwe'\n",
    "# pertv = None\n",
    "# tgti = 0\n",
    "# env = 'stable' \n",
    "\n",
    "env,pertv,gseqc,tgti,trial_group_col = ('all', None, (0,), 3, 'trials')\n",
    "coln = getColn(pertv, tgti, env, trial_group_col)\n",
    "print(coln)\n",
    "df = getSubDf(df_all,'mean',pertv, tgti, env, False, pert_seq_code=gseqc[0])\n",
    "\n",
    "#print(df['subject'].unique(), df['environment'].unique(), df['perturbation'].unique(), df['target_inds'].unique() )\n",
    "from collections import Counter\n",
    "\n",
    "print( Counter(df['subject']), Counter(df['environment']), \n",
    "      Counter(df['perturbation']), Counter(df['target_inds']) )\n",
    "\n",
    "\n",
    "grpstat = subjStat(df, coln, trial_group_col)\n",
    "err_sens_nh   = grpstat[coln]\n",
    "trial_inds_nh = grpstat[trialcol]\n",
    "display(grpstat)\n",
    "#display(grpstd)"
   ]
  },
  {
   "cell_type": "code",
   "execution_count": null,
   "id": "7bab8eb4",
   "metadata": {
    "hidden": true
   },
   "outputs": [],
   "source": [
    "df.subject.unique()"
   ]
  },
  {
   "cell_type": "code",
   "execution_count": null,
   "id": "2d615045",
   "metadata": {
    "hidden": true
   },
   "outputs": [],
   "source": [
    "df.columns[:25]"
   ]
  },
  {
   "cell_type": "code",
   "execution_count": null,
   "id": "c1104a48",
   "metadata": {
    "hidden": true
   },
   "outputs": [],
   "source": [
    "cols = ['subject', 'environment', 'perturbation',\n",
    "        'trials', 'trialwb', 'trialwe', 'err', 'RT']  + [coln]\n",
    "df.loc[ df['trialwb'] == 0,  cols]"
   ]
  },
  {
   "cell_type": "code",
   "execution_count": null,
   "id": "679f5fa4",
   "metadata": {
    "hidden": true
   },
   "outputs": [],
   "source": [
    "plt.plot( df['perturbation'] )\n",
    "plt.plot(df['trialwb'] / 10)\n",
    "plt.plot(df['trialwe'] / 20)"
   ]
  },
  {
   "cell_type": "markdown",
   "id": "2d80ded4",
   "metadata": {},
   "source": [
    "#### fill per subject table"
   ]
  },
  {
   "cell_type": "code",
   "execution_count": null,
   "id": "37f91cd9",
   "metadata": {},
   "outputs": [],
   "source": [
    "#df_all.loc[:50,['environment','target_inds','perturbation','trials','trialwtgt','trialwtgt_wpert_we','trialwtgt_wpert_wb']]"
   ]
  },
  {
   "cell_type": "code",
   "execution_count": null,
   "id": "c7adb834",
   "metadata": {},
   "outputs": [],
   "source": [
    "df_all.columns"
   ]
  },
  {
   "cell_type": "code",
   "execution_count": null,
   "id": "c0d077d0",
   "metadata": {},
   "outputs": [],
   "source": [
    "allowed_env_pert_combin = [('all',0.), ('all',30.), ('all',-30.), ('all',None), \n",
    "                           ('stable',0.),('stable',30.),('stable',-30.),('stable',None),('random',0.),\n",
    "                           ('random',None)]\n",
    "\n",
    "allowed_env_trialcol_combin = [('all','trials'), ('all','trialwtgt'), \n",
    "        ('all','trialwtgt_wpert_wb'), ('all','trialwtgt_wpert_we'), \n",
    "        ('stable','trialwtgt'), ('random','trialwe'),\n",
    "        ('stable','trialwpert'), ('stable','trialwe'), ('stable','trialwb'), \n",
    "        ('stable','trialwpert_we'), ('stable','trialwpert_wb'),  \n",
    "        ('stable', 'trialwtgt_wpert_wb') , ('stable','trialwtgt_wpert_we')]\n",
    "#  -- meaningless if separate across tgt because targets are not sync across participants\n",
    "\n",
    "#allowed_env_trialcol_combin = [('all','trials'), \n",
    "#                                 ('stable','trialwe'), ('random','trialwe') ]\n",
    "\n",
    "allowed_tgt_trialcol_combin = [(None,'trialwe'), (None,'trials'), \n",
    "                               (None,'trialwpert_wb'), (None,'trialwpert_we')]\n",
    "for tgti in range(4):  # only numeric, not None here\n",
    "    allowed_tgt_trialcol_combin += [(tgti,'trialwtgt')] + [(tgti,'trialwe')]\n",
    "    allowed_tgt_trialcol_combin += [(tgti,'trialwpert_wb')] \n",
    "    allowed_tgt_trialcol_combin += [(tgti,'trialwpert_we')]\n",
    "    allowed_tgt_trialcol_combin += [(tgti,'trialwtgt_wpert_wb')]\n",
    "    allowed_tgt_trialcol_combin += [(tgti,'trialwtgt_wpert_we')]\n",
    "    allowed_tgt_trialcol_combin += [(tgti,'trialwb')] \n",
    "    \n",
    "#allowed_env_tgt_trialcol_combin = ['stable',]"
   ]
  },
  {
   "cell_type": "code",
   "execution_count": null,
   "id": "649b3812",
   "metadata": {},
   "outputs": [],
   "source": []
  },
  {
   "cell_type": "code",
   "execution_count": null,
   "id": "93a2c29b",
   "metadata": {},
   "outputs": [],
   "source": [
    "subj_list = subjects"
   ]
  },
  {
   "cell_type": "code",
   "execution_count": null,
   "id": "dca78668",
   "metadata": {
    "code_folding": [
     3,
     21
    ]
   },
   "outputs": [],
   "source": [
    "from figure.plot_behav2 import getSubDf, getColn\n",
    "error_type = 'MPE'  # observed - goal, motor performance error\n",
    "colns_set  = []\n",
    "debug_break = 0\n",
    "for env, trial_group_col in allowed_env_trialcol_combin:\n",
    "    for subj in subj_list:#[si]\n",
    "        for pertv in pertvals:\n",
    "            if (env,pertv) not in allowed_env_pert_combin:\n",
    "                print('skipping',env,pertv)\n",
    "                continue\n",
    "            for tgti in tgt_inds_all:\n",
    "                if (tgti,trial_group_col) not in allowed_tgt_trialcol_combin:\n",
    "                    continue\n",
    "                print(env,subj,pertv,tgti,trial_group_col)\n",
    "                #df = df_all\n",
    "                # if we take only non-hit then, since we'll compute err sens sequentially \n",
    "                # we'll get wrong\n",
    "                #if trial_group_col in ['trialwb']:\n",
    "                #    raise ValueError('not implemented')\n",
    "                df = getSubDf(df_all, subj, pertv,tgti,env, non_hit = False)\n",
    "                db_inds = df.index                \n",
    "                \n",
    "                coln = getColn(pertv, tgti, env, None) #, trial_group_col)        \n",
    "                print('  ',coln,len(df))                                \n",
    "                if (len(df) == 0) or (len(db_inds) == 0):\n",
    "                    #rowi += 1\n",
    "                    print('skip',coln,subj)\n",
    "                    if DEBUG:\n",
    "                        debug_break = 1\n",
    "                        break\n",
    "                    continue                      \n",
    "                                            \n",
    "                # resetting index is important\n",
    "                r = computeErrSens2(df.reset_index(), df_inds=None, \n",
    "                                    error_type=error_type)\n",
    "                nhna, df_esv, ndf2vn = r            \n",
    "\n",
    "                #df_esv_nh     = df_esv[df_esv['non_hit_not_adj'] & \\\n",
    "                #                       ~np.isinf(df_esv['err_sens'])]\n",
    "                #err_sens_nh   = np.array( df_esv_nh['err_sens'] )\n",
    "                #trial_inds_nh = np.array( df_esv_nh['trial_inds_glob'] )\n",
    "\n",
    "                #pert_nh = df_esv_nh['perturbation']\n",
    "                # if I don't convert to array then there is an indexing problem\n",
    "                # even though I try to work wtih db_inds it assigns elsewhere \n",
    "                # (or does not assigne at all)\n",
    "                es_vals = np.array( df_esv['err_sens'] ) \n",
    "                \n",
    "                assert np.any(~np.isnan(es_vals)), coln  # at least one is not None\n",
    "                assert np.any(~np.isnan(es_vals)), coln  # at least one is not None\n",
    "                                \n",
    "                colns_set += [coln]\n",
    "                df_all.loc[db_inds,coln] = es_vals  # NOT _nh, otherwise different number\n",
    "                df_all.loc[db_inds,'error_type'] = error_type\n",
    "                \n",
    "                if DEBUG and coln == 'err_sens_pert-30_tgt3_envSep':                    \n",
    "                    debug_break = 1; print('brk')\n",
    "                    db_inds_save = db_inds\n",
    "                    df_save = df\n",
    "                    break\n",
    "            if debug_break:\n",
    "                break\n",
    "        if debug_break:\n",
    "            break\n",
    "    if debug_break:\n",
    "        break\n",
    "print('Finished successfully')"
   ]
  },
  {
   "cell_type": "code",
   "execution_count": null,
   "id": "026edda5",
   "metadata": {},
   "outputs": [],
   "source": [
    "dfc = df_all[df_all['subject'] == subj]\n",
    "#dfc['perturbation']"
   ]
  },
  {
   "cell_type": "markdown",
   "id": "b79aea3f",
   "metadata": {
    "heading_collapsed": true
   },
   "source": [
    "#### fill mean table"
   ]
  },
  {
   "cell_type": "code",
   "execution_count": null,
   "id": "a1c72f3a",
   "metadata": {
    "hidden": true
   },
   "outputs": [],
   "source": [
    "allowed_env_trialcol_combin"
   ]
  },
  {
   "cell_type": "code",
   "execution_count": null,
   "id": "d529433d",
   "metadata": {
    "hidden": true
   },
   "outputs": [],
   "source": [
    "# allowed_pert_gseqc = [('None', 'all'), ('None', 'sep'), ('0', 'all'), ('0', 'sep'),\n",
    "#                       ('30','sep'), ('-30','sep')]\n",
    "allowed_pert_gseqc = [(None, [0,1]), (None, [0]),  (None, [1]),\n",
    "                      (0, [0,1]), (0, [0]), (0, [1]),\n",
    "                      (30,[0]), (30,[1]), (-30,[0]),  (-30,[1])]\n",
    "allowed_pert_gseqc = [ (s,tuple(a) ) for (s,a) in allowed_pert_gseqc ]\n",
    "display(allowed_env_trialcol_combin, allowed_env_pert_combin, \n",
    "        allowed_pert_gseqc, tgt_inds_all, pertvals)\n",
    "print(allowed_tgt_trialcol_combin)"
   ]
  },
  {
   "cell_type": "code",
   "execution_count": null,
   "id": "45dea1de",
   "metadata": {
    "hidden": true
   },
   "outputs": [],
   "source": [
    "# compute mean veersion  \n",
    "# not then if I set come value to None and others to float, \n",
    "# then None gets converted to NaN\n",
    "dfme = []\n",
    "dfme2 = []\n",
    "#for envi,env in enumerate(envs):\n",
    "nrows = []\n",
    "for env, trial_group_col in allowed_env_trialcol_combin:\n",
    "    rowi = 0    \n",
    "    for pertv in pertvals:\n",
    "        for gseqc in [(0,), (1,), (0,1)]:\n",
    "            if (pertv,gseqc) not in allowed_pert_gseqc:\n",
    "                print('skipping',pertv,gseqc)\n",
    "                continue                \n",
    "            if (env,pertv) not in allowed_env_pert_combin:\n",
    "                print('skipping',env,pertv)\n",
    "                continue            \n",
    "                \n",
    "            for tgti in tgt_inds_all:\n",
    "                if (tgti,trial_group_col) not in allowed_tgt_trialcol_combin:\n",
    "                    continue\n",
    "                print(env,pertv,gseqc,tgti,trial_group_col)\n",
    "                subj = 'mean'\n",
    "                pert_seq_code = None\n",
    "                if gseqc != (0,1):\n",
    "                    pert_seq_code = gseqc[0]\n",
    "                df = getSubDf(df_all, subj, pertv,tgti,env, non_hit = False,\n",
    "                             pert_seq_code = pert_seq_code)\n",
    "                db_inds = df.index\n",
    "                \n",
    "                coln_calc = getColn(pertv, tgti, env, None)\n",
    "                assert coln in colns_set\n",
    "                if (len(df) == 0) or (len(db_inds) == 0):\n",
    "                    #rowi += 1\n",
    "                    continue                      \n",
    "                #%debug\n",
    "                #ax = axs[rowi,envi]\n",
    "    #             try:\n",
    "    \n",
    "                coln_av = getColn(pertv, tgti, env, trial_group_col)\n",
    "                #\n",
    "                grpstat = subjStat(df, coln_calc, trial_group_col)\n",
    "                #pscstr = ','.join( list( map(str, list( sorted(df['pert_seq_code'].unique() ) ) ) ) )\n",
    "                pscstr = ','.join( list( map(str, gseqc ) ) )    \n",
    "                # some things are for filtering, some for actual usage,\n",
    "                # that's why pertrubation is pertv and pert_nh is actual vals\n",
    "                r = { 'environment':env, 'trial_group_col':trial_group_col, \n",
    "                     'perturbation':pertv, 'pert_seq_code':pscstr,\n",
    "                     'pert_nh':grpstat['perturbation'],\n",
    "                     'target_inds':tgti,  'nav_nh': grpstat['nav'],\n",
    "                     'trial_inds_nh':grpstat[trial_group_col], \n",
    "                     'err_sens_me_nh':grpstat['mean'], \n",
    "                     'err_sens_std_nh':grpstat['std'], \n",
    "                     'err_sens_sem_nh':grpstat['sem'],\n",
    "                     'coln':coln_av, 'coln_calc':coln_calc  }\n",
    "                \n",
    "                r = { 'environment':env, 'trial_group_col':trial_group_col, \n",
    "                     'perturbation':pertv, 'pert_seq_code':pscstr,\n",
    "                     'pert_nh':grpstat['perturbation'],\n",
    "                     'target_inds':tgti,  'nav_nh': grpstat['nav'],\n",
    "                     'trial_inds_nh':grpstat[trial_group_col], \n",
    "                     'err_sens_me_nh':grpstat['mean'], \n",
    "                     'err_sens_std_nh':grpstat['std'], \n",
    "                     'err_sens_sem_nh':grpstat['sem'],\n",
    "                     'coln':coln_av, 'coln_calc':coln_calc  }\n",
    "                dfme += [r]\n",
    "                rowi += 1\n",
    "    nrows += [rowi]\n",
    "nrows = np.max(nrows); print(nrows)\n",
    "dfme = pd.DataFrame(dfme)\n",
    "dfme"
   ]
  },
  {
   "cell_type": "code",
   "execution_count": null,
   "id": "5f6d45f2",
   "metadata": {
    "hidden": true
   },
   "outputs": [],
   "source": [
    "# 'pertAll_tgtAll_envAll': 'trials'\n",
    "# 'pertAll_tgtAll_envAll': 'trials'"
   ]
  },
  {
   "cell_type": "code",
   "execution_count": null,
   "id": "0d792b48",
   "metadata": {
    "hidden": true
   },
   "outputs": [],
   "source": [
    "#df_all[['subject','trials','trialwtgt','target_inds']]"
   ]
  },
  {
   "cell_type": "code",
   "execution_count": null,
   "id": "3425352b",
   "metadata": {
    "hidden": true
   },
   "outputs": [],
   "source": [
    "plt.figure();\n",
    "for rowi,row in dfme.iterrows():\n",
    "    p = row['pert_nh']    \n",
    "    if np.std(p) < 1e-10:\n",
    "        continue\n",
    "    plt.plot(p)\n",
    "    print(np.max(p))\n",
    "    #break\n",
    "    "
   ]
  },
  {
   "cell_type": "code",
   "execution_count": null,
   "id": "971495fd",
   "metadata": {
    "hidden": true
   },
   "outputs": [],
   "source": [
    "row['perturbation']"
   ]
  },
  {
   "cell_type": "markdown",
   "id": "a44a45ed",
   "metadata": {
    "heading_collapsed": true,
    "hidden": true
   },
   "source": [
    "##### debug"
   ]
  },
  {
   "cell_type": "code",
   "execution_count": null,
   "id": "94e101e2",
   "metadata": {
    "hidden": true
   },
   "outputs": [],
   "source": [
    "subj, pertv,tgti,env"
   ]
  },
  {
   "cell_type": "code",
   "execution_count": null,
   "id": "50e77e4c",
   "metadata": {
    "hidden": true
   },
   "outputs": [],
   "source": [
    "df_save"
   ]
  },
  {
   "cell_type": "code",
   "execution_count": null,
   "id": "7398188c",
   "metadata": {
    "hidden": true
   },
   "outputs": [],
   "source": [
    "pd.DataFrame(dfme)"
   ]
  },
  {
   "cell_type": "markdown",
   "id": "aefbdbe1",
   "metadata": {
    "heading_collapsed": true
   },
   "source": [
    "### plot mean"
   ]
  },
  {
   "cell_type": "code",
   "execution_count": null,
   "id": "812bedd4",
   "metadata": {
    "hidden": true
   },
   "outputs": [],
   "source": [
    "#np.any (dfme['pert_seq_code'].isna())"
   ]
  },
  {
   "cell_type": "code",
   "execution_count": null,
   "id": "06d1c063",
   "metadata": {
    "hidden": true
   },
   "outputs": [],
   "source": [
    "#print(colns)\n",
    "print(allowed_env_trialcol_combin)\n",
    "print(allowed_pert_gseqc)\n",
    "print(pertvals)"
   ]
  },
  {
   "cell_type": "code",
   "execution_count": null,
   "id": "53f7c158",
   "metadata": {
    "hidden": true
   },
   "outputs": [],
   "source": [
    "tgt_inds_all,pertvals"
   ]
  },
  {
   "cell_type": "code",
   "execution_count": null,
   "id": "a2f63939",
   "metadata": {
    "hidden": true
   },
   "outputs": [],
   "source": [
    "toplot_tgt_inds, toplot_pertvals"
   ]
  },
  {
   "cell_type": "code",
   "execution_count": null,
   "id": "e495ca21",
   "metadata": {
    "hidden": true
   },
   "outputs": [],
   "source": [
    "# Why for stable pert = 30, tgti = 0, psc=0 tgtwe  I get mean nav == 2?\n",
    "# perhaps because numbering assumes I have same target so when I average I get to little"
   ]
  },
  {
   "cell_type": "code",
   "execution_count": null,
   "id": "a85909ac",
   "metadata": {
    "hidden": true
   },
   "outputs": [],
   "source": [
    "tgt_inds_all"
   ]
  },
  {
   "cell_type": "code",
   "execution_count": null,
   "id": "c38956ac",
   "metadata": {
    "hidden": true
   },
   "outputs": [],
   "source": [
    "allowed_env_trialcol_combin"
   ]
  },
  {
   "cell_type": "code",
   "execution_count": null,
   "id": "e4ac1b66",
   "metadata": {
    "code_folding": [
     17
    ],
    "hidden": true
   },
   "outputs": [],
   "source": [
    "respect_trial_inds = True\n",
    "colns = dfme['coln'].unique()\n",
    "#colns_all = dfme.loc[dfme['environment'] == 'all','coln'].unique()\n",
    "#nr = len(colns)\n",
    "#nc = dfme['env'].nunique()\n",
    "ww = 10\n",
    "hh = 3\n",
    "\n",
    "#toplot_allowed_env_trialcol_combin = allowed_env_trialcol_combin\n",
    "toplot_allowed_env_trialcol_combin = [('stable', 'trialwb')]\n",
    "toplot_pertvals = pertvals#[:2]\n",
    "toplot_tgt_inds = tgt_inds_all[-2:]\n",
    "\n",
    "ncpr = 3  # ncols per plot\n",
    "nc = ncpr #len(toplot_allowed_env_trialcol_combin)\n",
    "nr = 20\n",
    "###################################\n",
    "do_plot = 1  # set to 0 to estimate nrows\n",
    "from figure.plot_behav2 import plotErrSens\n",
    "s = ','.join(map(str,sorted( [t for t in tgt_inds_all if t is not None] ) ) )\n",
    "if None in tgt_inds_all:\n",
    "    s += ',all'\n",
    "print(s)\n",
    "# err sens values depend on target, env and pert (in this sequency)\n",
    "# so I have to compute all ways of computing it and the plot averages\n",
    "#subj_list_plot = subj_list + ['mean']\n",
    "#ylim = -7,7\n",
    "ylim = -20,20\n",
    "\n",
    "#for envi,env in enumerate(envs):\n",
    "irshift=0\n",
    "while irshift < len(allowed_env_trialcol_combin):    \n",
    "    toplotcur_allowed_env_trialcol_combin = \\\n",
    "        toplot_allowed_env_trialcol_combin[irshift: irshift+ncpr]\n",
    "    stc = ';'.join( [','.join(ab) for ab in toplotcur_allowed_env_trialcol_combin] )\n",
    "    figname = f'err_sens_{nr,nc}_{stc}_tgt={s}_respti={int(respect_trial_inds)}.pdf'\n",
    "    \n",
    "    if do_plot and len(stc):\n",
    "        print(figname)\n",
    "        fig,axs = plt.subplots(nr,nc,figsize=(nc*ww,nr*hh))\n",
    "\n",
    "    for envi, (env,trial_group_col) in enumerate(toplotcur_allowed_env_trialcol_combin):\n",
    "        rowi = 0\n",
    "        for pertv in toplot_pertvals:\n",
    "            for gseqc in [(0,), (1,), (0,1)]:\n",
    "                if (pertv,gseqc) not in allowed_pert_gseqc:\n",
    "                    print('skipping',pertv,gseqc)\n",
    "                    continue                \n",
    "                if (env,pertv) not in allowed_env_pert_combin:\n",
    "                    print('skipping',env,pertv)\n",
    "                    continue            \n",
    "\n",
    "                for tgti in toplot_tgt_inds:\n",
    "                    if (tgti,trial_group_col) not in allowed_tgt_trialcol_combin:\n",
    "                        continue\n",
    "\n",
    "                    if do_plot:\n",
    "                        ax = axs[rowi,envi]\n",
    "                        df = plotErrSens(ax,dfme,env,pertv,gseqc,tgti,trial_group_col,\n",
    "                                   ylim=ylim)\n",
    "                    rowi += 1\n",
    "\n",
    "    nrows = rowi\n",
    "\n",
    "    if do_plot and len(stc):\n",
    "        plt.tight_layout()\n",
    "        #plt.savefig(pjoin(path_fig,'behav','err_sens_me.pdf' ) )\n",
    "        plt.savefig(pjoin(path_fig,'behav', figname ) )\n",
    "        plt.close()\n",
    "        print('saved')\n",
    "    else:\n",
    "        print('nrows =',nrows)\n",
    "        break\n",
    "    \n",
    "    irshift += ncpr"
   ]
  },
  {
   "cell_type": "code",
   "execution_count": null,
   "id": "63f38d50",
   "metadata": {
    "hidden": true
   },
   "outputs": [],
   "source": [
    "tmax = df_all['trials'].max()"
   ]
  },
  {
   "cell_type": "code",
   "execution_count": null,
   "id": "e1f47c60",
   "metadata": {
    "hidden": true
   },
   "outputs": [],
   "source": [
    "[s for s in df_all.columns if s.find('trial') >= 0]"
   ]
  },
  {
   "cell_type": "code",
   "execution_count": null,
   "id": "1dd6c245",
   "metadata": {
    "hidden": true
   },
   "outputs": [],
   "source": [
    "tmax = df_all['trials'].max()\n",
    "tcolnames = ['trials',\n",
    " 'trialwb',\n",
    " 'trialwe',\n",
    " 'trialwpert_wb',\n",
    " 'trialwpert_we',\n",
    " 'trialwtgt',\n",
    " 'trialwtgt_wpert_wb',\n",
    " 'trialwtgt_wpert_we']\n",
    "for tcn in tcolnames:\n",
    "    print(tcn, df_all[tcn].max(), dfc[tcn].diff().max())\n",
    "    #assert df_all[tcn].max() >= 0"
   ]
  },
  {
   "cell_type": "code",
   "execution_count": null,
   "id": "b6942589",
   "metadata": {
    "hidden": true
   },
   "outputs": [],
   "source": [
    "dfc['target_inds'].diff().max(), dfc['target_inds'].diff().abs().mean()#, dfc['target_inds'].diff().std()"
   ]
  },
  {
   "cell_type": "code",
   "execution_count": null,
   "id": "6c2baddc",
   "metadata": {
    "hidden": true
   },
   "outputs": [],
   "source": [
    "dfc.loc[fvi]"
   ]
  },
  {
   "cell_type": "code",
   "execution_count": null,
   "id": "3b7400c0",
   "metadata": {
    "hidden": true
   },
   "outputs": [],
   "source": [
    "df"
   ]
  },
  {
   "cell_type": "code",
   "execution_count": null,
   "id": "f38abb25",
   "metadata": {
    "hidden": true
   },
   "outputs": [],
   "source": [
    "np.nanmax([np.nan, 1])"
   ]
  },
  {
   "cell_type": "code",
   "execution_count": null,
   "id": "b3ec87e5",
   "metadata": {
    "hidden": true
   },
   "outputs": [],
   "source": [
    "tgti"
   ]
  },
  {
   "cell_type": "code",
   "execution_count": null,
   "id": "6c60fee2",
   "metadata": {
    "hidden": true
   },
   "outputs": [],
   "source": [
    "df['target_inds'] == 1."
   ]
  },
  {
   "cell_type": "code",
   "execution_count": null,
   "id": "022a584f",
   "metadata": {
    "hidden": true
   },
   "outputs": [],
   "source": []
  },
  {
   "cell_type": "code",
   "execution_count": null,
   "id": "8ba41e4f",
   "metadata": {
    "hidden": true
   },
   "outputs": [],
   "source": [
    "1 / np.sqrt( grpstat['nav'] ) "
   ]
  },
  {
   "cell_type": "code",
   "execution_count": null,
   "id": "d7e80b59",
   "metadata": {
    "hidden": true
   },
   "outputs": [],
   "source": [
    "np.nanstd"
   ]
  },
  {
   "cell_type": "markdown",
   "id": "97f4dba6",
   "metadata": {
    "hidden": true
   },
   "source": [
    "#### plot sep subj"
   ]
  },
  {
   "cell_type": "code",
   "execution_count": null,
   "id": "b9577ac5",
   "metadata": {
    "hidden": true
   },
   "outputs": [],
   "source": [
    "#colns_set"
   ]
  },
  {
   "cell_type": "code",
   "execution_count": null,
   "id": "088f31ea",
   "metadata": {
    "hidden": true
   },
   "outputs": [],
   "source": [
    "#df_all['']"
   ]
  },
  {
   "cell_type": "code",
   "execution_count": null,
   "id": "704a6cb5",
   "metadata": {
    "code_folding": [],
    "hidden": true
   },
   "outputs": [],
   "source": [
    "# err sens values depend on target, env and pert (in this sequency)\n",
    "# so I have to compute all ways of computing it and the plot averages\n",
    "subj_list_plot = subj_list\n",
    "\n",
    "s = ','.join(map(str,tgt_inds_all) )\n",
    "meflag= int('mean' in subj_list_plot)\n",
    "figname = f'err_sens_tgt={s}_trialinds={int(respect_trial_inds)}_me{meflag}.pdf'\n",
    "figname\n",
    "\n",
    "fig,axs = plt.subplots(nr,nc,figsize=(nc*ww,nr*hh))\n",
    "for envi,env in enumerate(envs):\n",
    "    rowi = 0\n",
    "    for subj in subj_list_plot:#[si]\n",
    "        for pertv in pertvals:\n",
    "            for tgti in tgt_inds_all:\n",
    "                print(env,subj,pertv,tgti)\n",
    "                if subj == 'mean':\n",
    "                    mask = (dfme['env'] == env) & (dfme['perturbation'] == pertv) & \\\n",
    "                        (dfme['target_ind'] == tgti) & (dfme['coln'] == coln)\n",
    "                    df = dfme[mask]\n",
    "                    assert len(df) <= 1, len(df)\n",
    "                else:                \n",
    "                    #df = df_all\n",
    "                    df = getSubDf(df_all, subj, pertv,tgti,env)\n",
    "                db_inds = df.index\n",
    "                \n",
    "                coln = getColn(pertv, tgti, env, 'trials')  \n",
    "                if coln not in colns_set:\n",
    "                    print('skip',coln)\n",
    "                    continue\n",
    "                if (len(df) == 0) or (len(db_inds) == 0):\n",
    "                    #rowi += 1\n",
    "                    print('skip',coln,subj)\n",
    "                    continue      \n",
    "                ax = axs[rowi,envi]\n",
    "\n",
    "                ax.set_title(f'{subj[:5]} env={env} pert={pertv} tgti={tgti}')                                      \n",
    "                #trial_inds = trial_inds[nhna]         \n",
    "                #err_sens   = err_sens[nhna]              \n",
    "                \n",
    "                err_sens_nh   = df_all.loc[db_inds,coln]\n",
    "                trial_inds_nh = df_all.loc[db_inds,'trials']\n",
    "                pert_nh = df_all.loc[db_inds,'perturbation']\n",
    "                \n",
    "                if tgti is not None:\n",
    "                    col = tgtc[tgti]\n",
    "                else:\n",
    "                    col = 'b'\n",
    "                    \n",
    "                coef = 0.21\n",
    "                if respect_trial_inds:\n",
    "                    ax.plot(trial_inds_nh, err_sens_nh , label=f'tgti={tgti}',\n",
    "                            ls='', marker = 'o' , c= col)\n",
    "                    ax.set_xlabel('trial ind glob')\n",
    "                    \n",
    "                    ax.plot(trial_inds_nh, pert_nh * coef, c='grey', ls=':')\n",
    "                else:\n",
    "                    ax.plot(err_sens_nh , label=f'tgti={tgti}', c= col)\n",
    "                    ax.set_xlabel('trial ind loc')\n",
    "                    \n",
    "                    ax.plot(pert_nh * coef, c='grey', ls=':')                                    \n",
    "                    \n",
    "                me = np.mean(err_sens_nh)\n",
    "                std = np.std(err_sens_nh)\n",
    "                ax.axhline( me, ls='--',    c= col, alpha=0.5 )\n",
    "                ax.axhline( me-std, ls=':', c= col, alpha=0.5 )\n",
    "                ax.axhline( me+std, ls=':', c= col, alpha=0.5 )   \n",
    "                \n",
    "                ax.axhline(0, ls=':')\n",
    "                \n",
    "                if pertv is not None:\n",
    "                    ax.axhline(pertv / 10., ls=':', c='red')                \n",
    "                ax.set_ylim(-7,7)                \n",
    "            rowi += 1\n",
    "            ax.legend()\n",
    "                \n",
    "plt.tight_layout()\n",
    "#plt.savefig(pjoin(path_fig,'behav','err_sens_me.pdf' ) )\n",
    "plt.savefig(pjoin(path_fig,'behav', figname ) )\n",
    "plt.close()"
   ]
  },
  {
   "cell_type": "code",
   "execution_count": null,
   "id": "29e28380",
   "metadata": {
    "hidden": true
   },
   "outputs": [],
   "source": [
    "# average across subj"
   ]
  },
  {
   "cell_type": "code",
   "execution_count": null,
   "id": "2c46dbcb",
   "metadata": {
    "hidden": true
   },
   "outputs": [],
   "source": [
    "# I cannot save 'all' err sens to df because it would overwrite. And if I compute per pert, same\n",
    "# how do I define \"prev\" error there?"
   ]
  },
  {
   "cell_type": "code",
   "execution_count": null,
   "id": "50c085a6",
   "metadata": {
    "hidden": true
   },
   "outputs": [],
   "source": [
    "df_all"
   ]
  },
  {
   "cell_type": "code",
   "execution_count": null,
   "id": "786a816e",
   "metadata": {
    "hidden": true
   },
   "outputs": [],
   "source": [
    "df_esv.columns"
   ]
  },
  {
   "cell_type": "code",
   "execution_count": null,
   "id": "d73d13e0",
   "metadata": {
    "hidden": true
   },
   "outputs": [],
   "source": [
    "behav_df"
   ]
  },
  {
   "cell_type": "code",
   "execution_count": null,
   "id": "831d4fc6",
   "metadata": {
    "hidden": true
   },
   "outputs": [],
   "source": [
    "def plotTrialHor(ax,trial):    \n",
    "    Xs = trajectoryX[trial]\n",
    "    Ys = trajectoryY[trial]\n",
    "    cta = target_angs[tgtind]\n",
    "    cta = -cta\n",
    "    X0 = Xs[0]\n",
    "    Y0 = Ys[0]\n",
    "    trajX_rot = (Xs - X0) * cos(cta ) - (Ys-Y0) * sin(cta ) + X0\n",
    "    trajY_rot = (Xs - X0) * sin(cta ) + (Ys-Y0) * cos(cta ) + Y0\n",
    "    trajY_rot += tgt_shifts[tgtind]\n",
    "    \n",
    "    ax.plot(trajX_rot,trajY_rot, c='blue', alpha=0.3)\n",
    "\n",
    "    tx = radius #targetAngs[tgtind]\n",
    "    ty = tgt_shifts[tgtind]\n",
    "    #tx_rot = tx * cos(-cta / 360 * 2 * np.pi) - ty * sin(cta / 360 * 2 * np.pi)\n",
    "    #ty_rot = tx * sin(-cta / 360 * 2 * np.pi) + ty * cos(cta / 360 * 2 * np.pi)\n",
    "    tx_rot = tx\n",
    "    ty_rot = ty\n",
    "    ax.plot([tx_rot], [ty_rot], 'ro', markersize=15)\n",
    "\n",
    "    ax.axhline(tgt_shifts[tgtind], ls=':', c='black')\n",
    "    \n",
    "def plotTrial(ax,trial):    \n",
    "    Xs = trajectoryX[trial]\n",
    "    Ys = trajectoryY[trial]    \n",
    "    tx,ty = target_coords[targets[trial]]\n",
    "    ax.plot([tx], [ty], 'ro', markersize=15)\n",
    "    fbx,fby = feedbackX[trial],feedbackY[trial]\n",
    "    ax.plot([fbx], [fby], c='yellow', marker='o', markersize=10, alpha=0.5)\n",
    "    \n",
    "    fbxo,fbyo = org_feedbackX[trial],org_feedbackY[trial]\n",
    "    ax.plot([fbxo], [fbyo], c='green', marker='o', markersize=2)\n",
    "    \n",
    "    ax.scatter([0,tx], [0,ty], ls=':', c='black')    \n",
    "    ax.plot(Xs,Ys, c='blue', alpha=0.3)\n",
    "    \n",
    "#     cta = target_angs[tgtind]\n",
    "#     cta = -cta\n",
    "#     X0 = Xs[0]\n",
    "#     Y0 = Ys[0]\n",
    "#     trajX_rot = (Xs - X0) * cos(cta ) - (Ys-Y0) * sin(cta ) + X0\n",
    "#     trajY_rot = (Xs - X0) * sin(cta ) + (Ys-Y0) * cos(cta ) + Y0\n",
    "#     trajY_rot += tgt_shifts[tgtind]\n",
    "    \n",
    "#     ax.plot(trajX_rot,trajY_rot, c='blue', alpha=0.3)\n",
    "\n",
    "#     tx = radius #targetAngs[tgtind]\n",
    "#     ty = tgt_shifts[tgtind]\n",
    "#     #tx_rot = tx * cos(-cta / 360 * 2 * np.pi) - ty * sin(cta / 360 * 2 * np.pi)\n",
    "#     #ty_rot = tx * sin(-cta / 360 * 2 * np.pi) + ty * cos(cta / 360 * 2 * np.pi)\n",
    "#     tx_rot = tx\n",
    "#     ty_rot = ty\n",
    "#     ax.plot([tx_rot], [ty_rot], 'ro', markersize=15)\n"
   ]
  },
  {
   "cell_type": "code",
   "execution_count": null,
   "id": "6d969996",
   "metadata": {
    "hidden": true
   },
   "outputs": [],
   "source": [
    "perturbations_int = (perturbations.copy() ).astype(int)\n",
    "#perturbations_int = (perturbations.copy() / np.pi * 180 ).astype(int)\n",
    "pertu = np.unique(perturbations_int[environment == 0])\n",
    "pert2ind = dict( zip( pertu, np.arange(len(pertu))) )\n",
    "#pert2ind\n",
    "\n",
    "nr = 4; nc = len(pertu) + 1\n",
    "ww = 4; hh = 4\n",
    "col_timeplot = 1\n",
    "col_spaceplot=  0\n",
    "fig,axs = plt.subplots(nr,nc,figsize=(nc*ww,nr*hh))\n",
    "axs = axs.reshape((nr,nc))\n",
    "\n",
    "from numpy import cos,sin\n",
    "#plt.figure(figsize=(7,12))\n",
    "tgt_shifts = np.arange(len(target_angs) ) * 320\n",
    "enum_targets = np.array( list(enumerate(targets) ) )\n",
    "\n",
    "for pert_val in pert2ind:\n",
    "    inds_per_pertval = np.where(perturbations_int == pert_val)[0]\n",
    "    for trial,tgtind in enum_targets[inds_per_pertval]:\n",
    "        #pert_val = int( perturbations[trial] )\n",
    "        colind = pert2ind[pert_val]\n",
    "        ax = axs[tgtind,colind]\n",
    "        ax.set_title(f'{pert_val}')\n",
    "        plotTrial(ax,trial)\n",
    "\n",
    "inds_per_pertval = np.where(environment)[0]\n",
    "for trial,tgtind in enum_targets[inds_per_pertval]:\n",
    "    colind = -1\n",
    "    ax = axs[tgtind,colind]\n",
    "    ax.set_title('random')\n",
    "    plotTrial(ax,trial)\n",
    "        \n",
    "#fig.suptitle('Traj rotated by -<target angle>')\n",
    "fig.suptitle('Traj')\n",
    "plt.savefig(f'{subj}_reach_traj.pdf')"
   ]
  },
  {
   "cell_type": "code",
   "execution_count": null,
   "id": "7ff263ff",
   "metadata": {
    "hidden": true
   },
   "outputs": [],
   "source": []
  },
  {
   "cell_type": "code",
   "execution_count": null,
   "id": "fa4b7b4e",
   "metadata": {
    "hidden": true
   },
   "outputs": [],
   "source": []
  },
  {
   "cell_type": "code",
   "execution_count": null,
   "id": "ba893b62",
   "metadata": {
    "hidden": true
   },
   "outputs": [],
   "source": []
  }
 ],
 "metadata": {
  "kernelspec": {
   "display_name": "merr",
   "language": "python",
   "name": "merr"
  },
  "language_info": {
   "codemirror_mode": {
    "name": "ipython",
    "version": 3
   },
   "file_extension": ".py",
   "mimetype": "text/x-python",
   "name": "python",
   "nbconvert_exporter": "python",
   "pygments_lexer": "ipython3",
   "version": "3.9.6"
  }
 },
 "nbformat": 4,
 "nbformat_minor": 5
}
