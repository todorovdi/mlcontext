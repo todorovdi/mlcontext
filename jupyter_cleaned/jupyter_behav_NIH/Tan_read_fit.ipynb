{
 "cells": [
  {
   "cell_type": "code",
   "execution_count": null,
   "id": "57378e27",
   "metadata": {},
   "outputs": [],
   "source": [
    "from IPython.display import display, HTML\n",
    "display(HTML(\"<style>.container { width:100% !important; }</style>\"))"
   ]
  },
  {
   "cell_type": "code",
   "execution_count": null,
   "id": "b18d27c2",
   "metadata": {
    "run_control": {
     "marked": false
    }
   },
   "outputs": [],
   "source": [
    "%load_ext autoreload\n",
    "%autoreload 2\n",
    "from IPython import get_ipython; ipython = get_ipython()\n",
    "import sys, os\n",
    "from os.path import join as pjoin\n",
    "import seaborn as sns\n",
    "p = pjoin( os.path.expandvars('$CODE_MEMORY_ERRORS'), 'state-space-adaptation' )\n",
    "sys.path.append(p)\n",
    "sys.path.append(os.path.expandvars('$CODE_MEMORY_ERRORS'))\n",
    "scripts_dir = pjoin( os.path.expandvars('$CODE_MEMORY_ERRORS'))\n",
    "script_name = pjoin(scripts_dir,'taumodels/fit_Tan.py')\n",
    "\n",
    "from config2 import subjects as subjects_NIH\n",
    "from figure.plots import relplot_multi\n",
    "from config2 import path_fig\n",
    "import warnings, gc\n",
    "from behav_proc import aggRows\n",
    "from datetime import datetime\n",
    "\n",
    "import numpy as np\n",
    "#np.show_config()\n",
    "\n",
    "from taumodels.models import fitTanModel,fitDiedrischenModel, calcH_min"
   ]
  },
  {
   "cell_type": "code",
   "execution_count": null,
   "id": "2bcf112c",
   "metadata": {},
   "outputs": [],
   "source": [
    "from config2 import path_data\n",
    "import pandas as pd\n",
    "fnf_NIH = pjoin(path_data,'df_all_multi_tsz_.pkl.zip')\n",
    "df_all_multi_tsz = pd.read_pickle(fnf_NIH)\n",
    "dfcc_all_NIH_ = df_all_multi_tsz.query('trial_shift_size == 1 and trial_group_col_calc == \"trialwe\" '\n",
    "                           ' and retention_factor_s == \"0.924\"').copy().sort_values(['subject','trials'])\n",
    "\n",
    "from datetime import datetime\n",
    "print('Data mtime',datetime.fromtimestamp(os.stat(fnf_NIH).st_mtime))\n",
    "dfcc_all_NIH = dfcc_all_NIH_.copy()\n",
    "\n",
    "assert not dfcc_all_NIH.duplicated(['subject','trial_index']).any()"
   ]
  },
  {
   "cell_type": "code",
   "execution_count": null,
   "id": "6f5eaf15",
   "metadata": {},
   "outputs": [],
   "source": [
    "dfcc_all_NIH_['error_deg_pscadj'] = dfcc_all_NIH_['error_pscadj'] * 180 / np.pi\n",
    "coln_error_ = 'error_deg_pscadj'\n",
    "\n",
    "dfcc_all_NIH_tofit = dfcc_all_NIH_.copy()\n",
    "bads = dfcc_all_NIH_tofit[coln_error_] > 90\n",
    "dfcc_all_NIH_tofit.loc[bads,coln_error_] = np.nan"
   ]
  },
  {
   "cell_type": "code",
   "execution_count": null,
   "id": "01a0d391",
   "metadata": {},
   "outputs": [],
   "source": [
    "dfcs_fixhistlen_untrunc = pd.read_pickle(pjoin(path_data,'dfcs_fixhistlen_untrunc.pkl') )\n",
    "me_pct_excl = pd.read_pickle(pjoin(path_data,'me_pct_excl.pkl') )"
   ]
  },
  {
   "cell_type": "code",
   "execution_count": null,
   "id": "b399682b",
   "metadata": {},
   "outputs": [],
   "source": [
    "dfcs_fixhistlen_untrunc.columns"
   ]
  },
  {
   "cell_type": "code",
   "execution_count": null,
   "id": "5a8fb597",
   "metadata": {},
   "outputs": [],
   "source": [
    "#me_pct_excl['type'] = me_pct_excl['varn'].apply(lambda x: x.split('_')[-1])\n",
    "me_pct_excl['absed'] = me_pct_excl['varn'].apply(lambda x: x.find('_abs_') >= 0)\n",
    "me_pct_excl['histlen'] = me_pct_excl['varn'].str.extract(r'(\\d+)$', expand=False).astype(int)"
   ]
  },
  {
   "cell_type": "code",
   "execution_count": null,
   "id": "c0192fb6",
   "metadata": {},
   "outputs": [],
   "source": [
    "me_pct_excl['statkind']    = me_pct_excl['varn'].str.extract(r'error_pscadj(?<!_abs)_([_a-zA-Z]+)\\d+$', expand=False)\n",
    "#me_pct_excl['type']    = me_pct_excl['varn'].str.extract(r'(?<=_)(.+)', expand=False)\n",
    "me_pct_excl['statkind'].unique()"
   ]
  },
  {
   "cell_type": "code",
   "execution_count": null,
   "id": "754edd4e",
   "metadata": {},
   "outputs": [],
   "source": [
    "#dfcs1 = dfcs_fixhistlen_untrunc.query('err_sens.abs() <= @ES_thr')  \n",
    "#truncateDf(dfc1,'err_sens',q=0., infnan_handling = 'discard', cols_uniqify = ['subject'])\n",
    "import behav_proc\n",
    "types = ['std','invstd','Tan', 'std_d_mav', 'mav_d_std', 'invTan']\n",
    "dfcs_fixhistlen, me_pct_excl_ = behav_proc.truncLargeStats(dfcs_fixhistlen_untrunc, me_pct_excl.histlen.unique(), std_mult = 5.,\n",
    "                                                         suffixes = types, varns0 = ['error_pscadj'])"
   ]
  },
  {
   "cell_type": "code",
   "execution_count": null,
   "id": "af3c43f4",
   "metadata": {},
   "outputs": [],
   "source": [
    "display(me_pct_excl)\n",
    "me_pct_excl['statkind'].unique()"
   ]
  },
  {
   "cell_type": "code",
   "execution_count": null,
   "id": "fc6d3585",
   "metadata": {},
   "outputs": [],
   "source": [
    "colns_stat_precomp = me_pct_excl.query('absed == False and type in @types and histlen % 3 == 0').varn.values\n",
    "colns_stat_precomp"
   ]
  },
  {
   "cell_type": "code",
   "execution_count": null,
   "id": "c4b66575",
   "metadata": {
    "code_folding": [
     0
    ]
   },
   "outputs": [],
   "source": [
    "def d2ps(d):\n",
    "    s = ''\n",
    "    for k,v in d.items():\n",
    "        if isinstance(v,float):\n",
    "            s += f' {k}={v:.2f},'\n",
    "        else:\n",
    "            s += f' {k}={v},'\n",
    "    return s[:-1]"
   ]
  },
  {
   "cell_type": "markdown",
   "id": "46aeb987",
   "metadata": {
    "heading_collapsed": true
   },
   "source": [
    "# Died"
   ]
  },
  {
   "cell_type": "code",
   "execution_count": null,
   "id": "e7631a81",
   "metadata": {
    "hidden": true
   },
   "outputs": [],
   "source": [
    "print(coln_error_)"
   ]
  },
  {
   "cell_type": "code",
   "execution_count": null,
   "id": "82ee52ff",
   "metadata": {
    "hidden": true
   },
   "outputs": [],
   "source": [
    "    dfni = dfcc_all_NIH_[~np.isinf(dfcc_all_NIH_['err_sens'])]\n",
    "    std_mult = 5\n",
    "    dfni_d = dfni.groupby(['subject'])['err_sens'].describe().reset_index()\n",
    "    ES_thr = dfni_d[dfni_d.columns[1:]].mean().to_dict()['std'] * std_mult\n",
    "    print(f'ES_thr (calc from all) = {ES_thr}')\n"
   ]
  },
  {
   "cell_type": "code",
   "execution_count": null,
   "id": "f23a7b88",
   "metadata": {
    "hidden": true
   },
   "outputs": [],
   "source": [
    "bads = dfcc_all_NIH['error_pscadj'] > np.pi / 2\n",
    "dfcc_all_NIH.loc[bads]"
   ]
  },
  {
   "cell_type": "code",
   "execution_count": null,
   "id": "31212477",
   "metadata": {
    "hidden": true
   },
   "outputs": [],
   "source": [
    "dfcc_all_NIH['error_pscadj'].describe()"
   ]
  },
  {
   "cell_type": "code",
   "execution_count": null,
   "id": "6d566c64",
   "metadata": {
    "hidden": true
   },
   "outputs": [],
   "source": [
    "coln_error_"
   ]
  },
  {
   "cell_type": "code",
   "execution_count": null,
   "id": "03fac432",
   "metadata": {
    "hidden": true
   },
   "outputs": [],
   "source": []
  },
  {
   "cell_type": "code",
   "execution_count": null,
   "id": "bc70037f",
   "metadata": {
    "code_folding": [
     5
    ],
    "hidden": true
   },
   "outputs": [],
   "source": [
    "coln_pert = 'perturbation_pscadj'\n",
    "from taumodels.models import interpnan, fitDiedrischenModel\n",
    "\n",
    "nruns = 8\n",
    "outd_all = {}\n",
    "for subj in subjects_NIH:\n",
    "    outd = {}    \n",
    "    dfos = dfcc_all_NIH_tofit.query('subject == @subj').copy()        \n",
    "    perturb = dfos[coln_pert].values\n",
    "    error = dfos[coln_error_].values\n",
    "    error = interpnan(error)\n",
    "        \n",
    "#     clear_outlier = ES_thr * 5\n",
    "#     #dfos = dfos.query(qs).copy()\n",
    "#     inds = dfos.query(\n",
    "#         f'{coln_error_}.abs() > {clear_outlier}').index\n",
    "#     dfos.loc[inds,coln_error_] = np.nan    \n",
    "    \n",
    "    print('    ', subj, len(dfos))\n",
    "    outn = 'all_off'; out = fitDiedrischenModel(perturb, error, \n",
    "                                     nruns=nruns, online_feedback = False); outd[outn] = out\n",
    "    outn = 'all_on'; out = fitDiedrischenModel(perturb, error, \n",
    "                                     nruns=nruns, online_feedback = True); outd[outn] = out\n",
    "    \n",
    "    qsst = 'environment == 0'\n",
    "    dfos_ = dfos.query(qsst)\n",
    "    print(len(dfos_))\n",
    "    perturb = dfos_[coln_pert].values\n",
    "    error   = dfos_[coln_error_].values\n",
    "    error = interpnan(error)\n",
    "    outn = 'stable_off'; out = fitDiedrischenModel(perturb, error, \n",
    "                                     nruns=nruns, online_feedback = False); outd[outn] = out\n",
    "    outn = 'stable_on'; out = fitDiedrischenModel(perturb, error, \n",
    "                                     nruns=nruns, online_feedback = True); outd[outn] = out\n",
    "\n",
    "    qsst = 'environment == 1'\n",
    "    dfos_ = dfos.query(qsst)\n",
    "    print(len(dfos_))\n",
    "    perturb = dfos_[coln_pert].values\n",
    "    error   = dfos_[coln_error_].values\n",
    "    error = interpnan(error)\n",
    "    outn = 'random_off'; out = fitDiedrischenModel(perturb, error, \n",
    "                                     nruns=nruns, online_feedback = False); outd[outn] = out\n",
    "    outn = 'random_on'; out = fitDiedrischenModel(perturb, error, \n",
    "                                     nruns=nruns, online_feedback = True); outd[outn] = out\n",
    "    outd_all[subj] = outd\n",
    "#output_fboff = out_fboff['output']\n",
    "#output_fbon  = out_fbon['output']\n",
    "# -output + perturb"
   ]
  },
  {
   "cell_type": "code",
   "execution_count": null,
   "id": "278a9701",
   "metadata": {
    "hidden": true
   },
   "outputs": [],
   "source": [
    "dfr = []\n",
    "for subj,outd in outd_all.items():\n",
    "    for k,out in outd.items():\n",
    "        d = {}\n",
    "        A,B,X0 = out['params']\n",
    "        d['subject'] = subj\n",
    "        d['outn'] = k        \n",
    "        \n",
    "        d['A'] = float(A[0])\n",
    "        d['B'] = float(B[0])\n",
    "        d['X0'] = float(X0[0])\n",
    "        d['online_feedback'] = out['online_feedback']\n",
    "        d['noises_var'] = out['noises_var']\n",
    "        d['nruns'] = out['nruns']\n",
    "        d['asymp'] = out['asymptote']\n",
    "        d['AIC'] = out['performances'][0]\n",
    "        d['mse'] = out['performances'][1]\n",
    "        dfr += [d]\n",
    "dfr = pd.DataFrame(dfr)\n",
    "\n",
    "def simRow(row):\n",
    "    from taumodels.models import interpnan\n",
    "    from taumodels.state_space_fit_toolbox.state_space_fit import simulate_deterministic_state_space\n",
    "    subj = row['subject']\n",
    "    dfos = dfcc_all_NIH_tofit.query('subject == @subj')\n",
    "    S = np.array([ row['A'],row['B'],row['X0'] ] )\n",
    "    behav = interpnan(dfos[coln_pert].values) -\\\n",
    "        interpnan(dfos[coln_error_].values)\n",
    "    #behav = perturb - dofs[]\n",
    "    r = simulate_deterministic_state_space(S,dfos[coln_pert].values,\n",
    "                                                  behav,'norm')\n",
    "    y_pred,state = r\n",
    "    mse_full = np.mean((y_pred - behav)**2)\n",
    "    return y_pred,state,mse_full"
   ]
  },
  {
   "cell_type": "code",
   "execution_count": null,
   "id": "94042fc5",
   "metadata": {
    "hidden": true
   },
   "outputs": [],
   "source": [
    "def f(row):\n",
    "    #if 'all' not in row['outn']:\n",
    "    y_pred,state,mse_full = simRow(row)        \n",
    "    #else:\n",
    "    #    mse_full = row['mse']\n",
    "    return mse_full\n",
    "        \n",
    "dfr['mse_full'] = dfr.apply(f,1)\n",
    "#TODO: test on all, so I have to do like in Herzfeld"
   ]
  },
  {
   "cell_type": "code",
   "execution_count": null,
   "id": "488f52c5",
   "metadata": {
    "hidden": true
   },
   "outputs": [],
   "source": [
    "save = 1\n",
    "if save:\n",
    "    dfr.to_pickle( pjoin(path_data, 'df_died_fit.pkl') )"
   ]
  },
  {
   "cell_type": "code",
   "execution_count": null,
   "id": "a5d6acf4",
   "metadata": {
    "hidden": true
   },
   "outputs": [],
   "source": [
    "#['outn','mse','A','B']\n",
    "descr = dfr[['outn','mse_full','mse','A','B']].groupby('outn').describe(percentiles=[])\n",
    "descr"
   ]
  },
  {
   "cell_type": "code",
   "execution_count": null,
   "id": "e523419f",
   "metadata": {
    "hidden": true
   },
   "outputs": [],
   "source": [
    "descr['A']"
   ]
  },
  {
   "cell_type": "code",
   "execution_count": null,
   "id": "7c9bf9cc",
   "metadata": {
    "hidden": true
   },
   "outputs": [],
   "source": [
    "dfr.nlargest(1,['mse_full'])"
   ]
  },
  {
   "cell_type": "code",
   "execution_count": null,
   "id": "bd75f583",
   "metadata": {
    "hidden": true
   },
   "outputs": [],
   "source": [
    "d.keys()"
   ]
  },
  {
   "cell_type": "code",
   "execution_count": null,
   "id": "f9218def",
   "metadata": {
    "hidden": true
   },
   "outputs": [],
   "source": [
    "# collect\n",
    "do_plot = 0\n",
    "import matplotlib.pyplot as plt\n",
    "inds_st = np.hstack([np.arange(192),np.arange(192*2,192*3)])\n",
    "inds_rnd = np.hstack([np.arange(192,192*2),np.arange(192*3,192*4)])\n",
    "\n",
    "dfcr = []\n",
    "#for rowi,row in dfr.iloc[0:2].iterrows():\n",
    "for rowi,row in dfr.iterrows():\n",
    "    #row = dfr.iloc[3] # 33\n",
    "    subj = row['subject']\n",
    "    dfos = dfcc_all_NIH_.query('subject == @subj').copy().sort_values('trial_index')\n",
    "    dfos_tofit = dfcc_all_NIH_tofit.query('subject == @subj')\n",
    "    S = np.array([ row['A'],row['B'],row['X0'] ] )\n",
    "    print(S)\n",
    "\n",
    "    y_pred,state,mse_full = simRow(row)\n",
    "    \n",
    "    behav = interpnan(dfos[coln_pert].values) -\\\n",
    "        interpnan(dfos[coln_error_].values)\n",
    "\n",
    "    err_pred = dfos[coln_pert].values - y_pred # y_pred - (perturb - err)\n",
    "\n",
    "    if do_plot:\n",
    "        plt.figure(figsize=(10,3))\n",
    "        plt.plot(dfos[coln_error_].values, linewidth=2, label='Observed error') \n",
    "        #plt.plot(-output + perturb, linewidth=2, label='Model prediction',alpha=0.8)\n",
    "        plt.plot(err_pred, linewidth=2, label='Model prediction',alpha=0.8)\n",
    "        #plt.plot(perturb-error, linewidth=2, label='pert-err') \n",
    "\n",
    "        plt.ylabel('Angle (°)')\n",
    "        plt.xlabel('Trials')\n",
    "        plt.plot(dfos[coln_pert].values, label='pert', color='pink', ls=':')\n",
    "        plt.legend() # Call legend function to show legends\n",
    "        #plt.twinx() # Use twinx function to create a second y-axis\n",
    "        plt.ylim(-40,60)\n",
    "        plt.grid(True)\n",
    "\n",
    "        print('MSE full ',row['mse_full'],mse_full)\n",
    "        discr = np.abs(err_pred - interpnan(dfos_tofit[coln_error_].values) )**2\n",
    "        discr_mean = np.mean(discr)\n",
    "        discr_mean_st = np.mean(discr[inds_st])\n",
    "        discr_mean_rnd = np.mean(discr[inds_rnd])\n",
    "        plt.title(f'{subj[:5]} {row[\"outn\"]}  discr={discr_mean:.3f} st={discr_mean_st:.3f} rnd={discr_mean_rnd:.3f}')\n",
    "        plt.show()\n",
    "\n",
    "        plt.figure(figsize=(10,2))\n",
    "        plt.plot(behav,label='behav')\n",
    "        plt.plot(y_pred,label='state')\n",
    "        plt.legend()\n",
    "    \n",
    "    dfos['state_Died'] = y_pred\n",
    "    dfos['error_pred_Died'] = err_pred\n",
    "    #dfos['behav_']\n",
    "    dfos['mse_full'] = row['mse_full']\n",
    "    dfos['outn'] = row['outn']\n",
    "    \n",
    "#     d = {'state':y_pred, 'behav':behav, 'mse_full':row['mse_full'],\n",
    "#      'perturbation':dfos['perturbation'].values, \n",
    "#      'error':dfos[coln_error_].values,\n",
    "#     'err_pred':err_pred}\n",
    "#     d = pd.DataFrame(d)\n",
    "#     d['subject'] = subj\n",
    "#     d['trial_index'] = np.arange(len(behav))\n",
    "#     d['outn'] = row['outn']\n",
    "    dfcr += [dfos]\n",
    "\n",
    "dfcr = pd.concat(dfcr).reset_index()"
   ]
  },
  {
   "cell_type": "code",
   "execution_count": null,
   "id": "97065b12",
   "metadata": {
    "hidden": true
   },
   "outputs": [],
   "source": [
    "relplot_multi(data=dfcr,\n",
    "              ys=[[coln_error_,'error_pred_Died'],[coln_pert,'state_Died']],\n",
    "             x='trial_index', kind='line');"
   ]
  },
  {
   "cell_type": "code",
   "execution_count": null,
   "id": "71cbc56a",
   "metadata": {
    "hidden": true
   },
   "outputs": [],
   "source": [
    "d"
   ]
  },
  {
   "cell_type": "code",
   "execution_count": null,
   "id": "b78b4856",
   "metadata": {
    "hidden": true
   },
   "outputs": [],
   "source": [
    "relplot_multi?"
   ]
  },
  {
   "cell_type": "markdown",
   "id": "6a09b579",
   "metadata": {
    "heading_collapsed": true
   },
   "source": [
    "# Albert"
   ]
  },
  {
   "cell_type": "code",
   "execution_count": null,
   "id": "fa56ee45",
   "metadata": {
    "hidden": true
   },
   "outputs": [],
   "source": [
    "gc.collect()"
   ]
  },
  {
   "cell_type": "code",
   "execution_count": null,
   "id": "fe6925c9",
   "metadata": {
    "hidden": true,
    "run_control": {
     "marked": false
    }
   },
   "outputs": [],
   "source": [
    "from taumodels.models import fitAlbertModel\n",
    "from joblib import Parallel, delayed\n",
    "\n",
    "nruns = 4\n",
    "dfr = []\n",
    "fcs = [True,False]\n",
    "\n",
    "calc_id = 0\n",
    "args = []\n",
    "for subj in subjects_NIH:\n",
    "    dfos = dfcc_all_NIH_tofit.query('subject == @subj')        \n",
    "    perturb = dfos[coln_pert].values\n",
    "    error = dfos[coln_error_].values\n",
    "    error = interpnan(error)\n",
    "            \n",
    "    print('   ',subj[:5])\n",
    "    for fc in fcs:\n",
    "        for ir in range(nruns):        \n",
    "            outd = {}                \n",
    "            \n",
    "            kw = dict(search_method='norm', force_constraints = fc)\n",
    "            args += [(calc_id,subj,perturb,error,kw)]\n",
    "            calc_id += 1\n",
    "\n",
    "def f(calc_id, subj, perturb, error, kw):\n",
    "    res,y_pred,state = fitAlbertModel(perturb, error,**kw)\n",
    "    while not res.success:\n",
    "        print('Recalc due to non-conv')\n",
    "        res,y_pred,state = fitAlbertModel(perturb, error,**kw)\n",
    "\n",
    "    # status, nit, nfev, njev\n",
    "    d = res.xd.copy()\n",
    "\n",
    "    print(res)\n",
    "    d.update({'fun':res.fun, \n",
    "              'converged':res.success, 'mess':res.message, 'nit':res.nit,\n",
    "             'nfev':res.nfev})\n",
    "    d['subject'] = subj\n",
    "    d['B_step'] = res.B_step\n",
    "    d['A_step'] = res.A_step\n",
    "    d['force_constraints'] = res.force_constraints\n",
    "    d['calc_id'] = calc_id\n",
    "    #dfr += [d]\n",
    "    \n",
    "    return d,y_pred,state\n",
    "\n",
    "n_jobs = 20\n",
    "plr = Parallel(n_jobs=n_jobs, backend='multiprocessing')\\\n",
    "    (delayed(f)(*arg) for arg in args)\n",
    "\n",
    "dfr = pd.DataFrame( [p[0] for p in plr] )\n",
    "\n",
    "dfcr = []\n",
    "for d,y_pred,state in plr:\n",
    "    subj = d['subject']\n",
    "    dfos = dfcc_all_NIH_tofit.query('subject == @subj').copy()        \n",
    "    \n",
    "    dfos['state1'] = state[:,0]\n",
    "    dfos['state2'] = state[:,1]\n",
    "    dfos['state_Albert'] = y_pred\n",
    "    dfos['error_pred_Albert'] = dfos[coln_pert].values - y_pred\n",
    "    dfos['B_step'] = res.B_step\n",
    "    dfos['A_step'] = res.A_step\n",
    "    dfos['force_constraints'] = res.force_constraints\n",
    "    dfos['calc_id'] = calc_id # to have corresp between dfr and dfcr later\n",
    "    dfcr += [dfos]\n",
    "            \n",
    "            \n",
    "#dfr = pd.DataFrame(dfr)\n",
    "dfcr = pd.concat(dfcr)"
   ]
  },
  {
   "cell_type": "code",
   "execution_count": null,
   "id": "48b749b4",
   "metadata": {
    "hidden": true
   },
   "outputs": [],
   "source": [
    "gc.collect()"
   ]
  },
  {
   "cell_type": "code",
   "execution_count": null,
   "id": "5887abb7",
   "metadata": {
    "hidden": true
   },
   "outputs": [],
   "source": [
    "dfr"
   ]
  },
  {
   "cell_type": "code",
   "execution_count": null,
   "id": "dd6ef2a9",
   "metadata": {
    "hidden": true
   },
   "outputs": [],
   "source": [
    "from behav_proc import aggRows\n",
    "grp = dfr.groupby(['force_constraints','subject'])\n",
    "dfr_ = aggRows(dfr,'fun','min',grp)"
   ]
  },
  {
   "cell_type": "code",
   "execution_count": null,
   "id": "7fdb8952",
   "metadata": {
    "hidden": true
   },
   "outputs": [],
   "source": [
    "dfr.groupby('force_constraints')['fun'].describe()"
   ]
  },
  {
   "cell_type": "code",
   "execution_count": null,
   "id": "8eb0a9ab",
   "metadata": {
    "hidden": true
   },
   "outputs": [],
   "source": [
    "dfr_.groupby('force_constraints')['fun'].describe()"
   ]
  },
  {
   "cell_type": "code",
   "execution_count": null,
   "id": "7c18a9c9",
   "metadata": {
    "hidden": true
   },
   "outputs": [],
   "source": [
    "dfr_Albert = dfr_"
   ]
  },
  {
   "cell_type": "code",
   "execution_count": null,
   "id": "5f914fb4",
   "metadata": {
    "hidden": true
   },
   "outputs": [],
   "source": [
    "dfr_"
   ]
  },
  {
   "cell_type": "code",
   "execution_count": null,
   "id": "090ad87a",
   "metadata": {
    "hidden": true
   },
   "outputs": [],
   "source": [
    "dfr_.groupby('force_constraints').describe(percentiles=[])\\\n",
    "    [[('fun','mean'),('A1','mean'),('A2','mean'),('B1','mean'),('B2','mean'),\n",
    "      ('X01','mean'),('X01','std'),('X02','mean'),('X02','std')]]"
   ]
  },
  {
   "cell_type": "code",
   "execution_count": null,
   "id": "1c67e60e",
   "metadata": {
    "hidden": true
   },
   "outputs": [],
   "source": [
    "path_data"
   ]
  },
  {
   "cell_type": "code",
   "execution_count": null,
   "id": "8c80ac1f",
   "metadata": {
    "hidden": true
   },
   "outputs": [],
   "source": [
    "dfr_.to_pickle( pjoin(path_data, 'df_albert_fit.pkl') )"
   ]
  },
  {
   "cell_type": "code",
   "execution_count": null,
   "id": "ffba1a03",
   "metadata": {
    "hidden": true
   },
   "outputs": [],
   "source": [
    "#dfr['fun'].describe()"
   ]
  },
  {
   "cell_type": "code",
   "execution_count": null,
   "id": "71180a97",
   "metadata": {
    "hidden": true
   },
   "outputs": [],
   "source": [
    "relplot_multi(data=dfcr.query('force_constraints == True'),\n",
    "              ys=[[coln_error_,'error_pred_Albert'],[coln_pert,'state_Albert']],\n",
    "             x='trial_index', kind='line');"
   ]
  },
  {
   "cell_type": "markdown",
   "id": "f50644b0",
   "metadata": {},
   "source": [
    "# Tan"
   ]
  },
  {
   "cell_type": "code",
   "execution_count": null,
   "id": "e6ebd783",
   "metadata": {},
   "outputs": [],
   "source": [
    "# when calc stat-based ES in the model I could calc using all data (inc outliers)\n",
    "# or only usining non-outlier data (like I did for stats)"
   ]
  },
  {
   "cell_type": "markdown",
   "id": "1a99ca2b",
   "metadata": {},
   "source": [
    "# Read Tan"
   ]
  },
  {
   "cell_type": "code",
   "execution_count": null,
   "id": "59d052d7",
   "metadata": {},
   "outputs": [],
   "source": [
    "del dfr, prl"
   ]
  },
  {
   "cell_type": "code",
   "execution_count": null,
   "id": "4ba10eca",
   "metadata": {},
   "outputs": [],
   "source": [
    "gc.collect()\n",
    "from datetime import datetime\n",
    "from config2 import path_data, path_fig\n",
    "import dateutil\n",
    "#dtstart = dateutil.parser.parse('march 31 2024  18:10')\n",
    "#dtstart = dateutil.parser.parse('april 2 2024  19:12')\n",
    "\n",
    "# long list without mser and mses\n",
    "#dtstart = dateutil.parser.parse('may 12 2024  01:00')\n",
    "\n",
    "dtstart = dateutil.parser.parse('may 13 2024  09:00')\n",
    "\n",
    "import glob\n",
    "prls_fnf = glob.glob(path_data + '/prl_Tan*')\n",
    "\n",
    "prl = []\n",
    "for p in prls_fnf:    \n",
    "    #p=  pjoin(path_data, f'prl_{ind}.npz')\n",
    "    if not os.path.exists(p):\n",
    "        continue\n",
    "    \n",
    "    dt = datetime.fromtimestamp(os.path.getmtime(p))\n",
    "    if not dt >= dtstart:\n",
    "        continue    \n",
    "    print(p, dt)\n",
    "    prl_ = np.load(p,allow_pickle=1)['arr_0']\n",
    "    print(len(prl_))\n",
    "    \n",
    "    prl += list(prl_)\n",
    "\n",
    "print(len(prl))\n",
    "\n",
    "#print(prl[0].keys())\n",
    "for i in range(len(prl)):\n",
    "    prl[i]['prlind'] = i"
   ]
  },
  {
   "cell_type": "code",
   "execution_count": null,
   "id": "4d9a1a44",
   "metadata": {},
   "outputs": [],
   "source": [
    "parns_calced = ['prlind', 'paramsd','optres', 'mse', 'mser','mses',\n",
    "                'minfval', 'AIC', 'motor_var'] #'mismatch_var',\n",
    "parns_arg = ['subject',  'stat_name',  'reg', 'bclip', \n",
    "'online_feedback', 'use_true_error', 'use_true_error_stats', \n",
    "'stats_powers', 'maxNbTrials', 'minNbTrials', 'maxStartIdx', \n",
    "'minStartIdx', 'cmin', 'cmax', 'amin', 'amax',  'rate_is_additive',\n",
    "            'inds_state_reset','initial_state_bounds','optIC']\n",
    "parns = parns_calced + parns_arg\n",
    "\n",
    "parns_unique0 = ['subject',  'stat_name',  'reg', 'bclip', \n",
    "'online_feedback', 'use_true_error', 'use_true_error_stats', \n",
    "'stats_powers', 'maxNbTrials',  'maxStartIdx', \n",
    " 'cmin', 'cmax', 'amin', 'amax', \n",
    "'rate_is_additive', 'statkind', 'histlen', 'initial_state_bounds'] \n",
    "\n",
    "d0 = prl[0]['paramsd']\n",
    "opns = list(d0.keys())"
   ]
  },
  {
   "cell_type": "code",
   "execution_count": null,
   "id": "a6c8ccc8",
   "metadata": {},
   "outputs": [],
   "source": [
    "# cols for display\n",
    "cols = ['subject','mse','mser','mses','A', 'c', 'Bstart', 'X0', \n",
    "        'state_reset', 'rate_is_additive','initial_state_bounds',\n",
    "        'stats_powers',  'use_true_error',\n",
    "  'rate_is_additive',   \n",
    "        'StartIdx', 'AIC', 'stat_name',\n",
    "        'reg', 'motor_var']\n"
   ]
  },
  {
   "cell_type": "code",
   "execution_count": null,
   "id": "fd8cf3df",
   "metadata": {},
   "outputs": [],
   "source": [
    "dfr = pd.DataFrame([p for p in prl if p is not None], columns=parns)"
   ]
  },
  {
   "cell_type": "code",
   "execution_count": null,
   "id": "0af8470e",
   "metadata": {},
   "outputs": [],
   "source": [
    "read_saved = 0\n",
    "if read_saved:\n",
    "    dfr = pd.read_pickle(pjoin(path_data,'dfr_Tan_calc_res.pkl'))\n",
    "    dfr['statkind'] = dfr['type']\n",
    "    dfr = dfr.drop(columns = 'type')"
   ]
  },
  {
   "cell_type": "code",
   "execution_count": null,
   "id": "fce31575",
   "metadata": {},
   "outputs": [],
   "source": [
    "prl[0].keys()"
   ]
  },
  {
   "cell_type": "code",
   "execution_count": null,
   "id": "2148d139",
   "metadata": {
    "code_folding": []
   },
   "outputs": [],
   "source": [
    "#print('optres' in  dfr.columns)\n",
    "for k in d0.keys():\n",
    "    dfr[k] = dfr.apply(lambda x: x['paramsd'][k], 1)\n",
    "dfr['success'] = dfr.apply(lambda x: x['optres'].success, 1)\n",
    "\n",
    "dfr['absed'] = dfr['stat_name'].apply(lambda x: x.find('_abs_') >= 0 if x is not None else None)\n",
    "c = ~dfr['stat_name'].isnull()\n",
    "dfr['histlen'] = None\n",
    "dfr.loc[c,'histlen'] = dfr.loc[c,'stat_name'].str.extract(r'(\\d+)$', expand=False).astype(int)\n",
    "dfr['statkind'] = None\n",
    "dfr.loc[c,'statkind']    = dfr.loc[c,'stat_name'].str.extract(r'error_pscadj(?<!_abs)_([_a-zA-Z]+)\\d+$', expand=False)\n",
    "#dfr.loc[c,'statkind']    = dfr.loc[c,'stat_name'].str.extract(r'_([a-zA-Z]+)\\d+$', expand=False)\n",
    "dfr['state_reset'] = dfr['inds_state_reset'].apply(lambda x: len(x))\n",
    "#me_pct_excl['type']    = me_pct_excl['varn'].str.extract(r'(?<=_)(.+)', expand=False)\n",
    "\n",
    "print(len(dfr))\n",
    "dfr_all = dfr\n",
    "dfr_good = dfr_all.query('success')\n",
    "print(f'proportion of converged runs {len(dfr_good)/len(dfr)=}')\n",
    "dfr = dfr_good\n",
    "from behav_proc import aggRows\n",
    "#dfr[parns[2:]]\n",
    "\n",
    "if 'mser' not in prl[0].keys():\n",
    "    print('no mser')\n",
    "    #dfr['mser'] = -1\n",
    "    #dfr['mses'] = -1\n",
    "\n",
    "parns_unique = parns_unique0 + ['state_reset']\n",
    "\n",
    "# need to set from None to something otherwise grouping does not work\n",
    "_inds = dfr.query('use_true_error == 0').index\n",
    "dfr.loc[_inds,'stat_name'] = dfr.loc[_inds,'stats_powers'].astype('str')\n",
    "dfr.loc[_inds,'statkind'] = dfr.loc[_inds,'stat_name']\n",
    "dfr.loc[_inds,'histlen'] = dfr.loc[_inds,'NbPreviousTrials']"
   ]
  },
  {
   "cell_type": "code",
   "execution_count": null,
   "id": "01bd1fc9",
   "metadata": {},
   "outputs": [],
   "source": [
    "dfr['statkind'].unique()"
   ]
  },
  {
   "cell_type": "code",
   "execution_count": null,
   "id": "3a722b2b",
   "metadata": {},
   "outputs": [],
   "source": [
    "assert not dfr.loc[_inds,'NbPreviousTrials'].isna().any()\n",
    "assert not dfr.loc[_inds,'stats_powers'].isnull().any()\n",
    "assert not dfr['initial_state_bounds'].isnull().any()"
   ]
  },
  {
   "cell_type": "code",
   "execution_count": null,
   "id": "6be47357",
   "metadata": {
    "code_folding": [
     4
    ],
    "run_control": {
     "marked": false
    }
   },
   "outputs": [],
   "source": [
    "# add random and stable mse. Pretty long\n",
    "stable_inds = np.concatenate( [np.arange(192) , np.arange(192*2,192*3) ])\n",
    "random_inds = np.concatenate( [np.arange(192,192*2) , np.arange(192*3,192*4) ])\n",
    "\n",
    "if ('mser' not in prl[0].keys()) and ('mser' not in dfr.columns):\n",
    "    for rowi,row in dfr.iterrows():\n",
    "    #for rowi,row in dfr.iterrows():\n",
    "        if rowi % 100 == 0:\n",
    "            print(rowi, len(dfr))\n",
    "        subj = row['subject']\n",
    "        dfos = dfcc_all_NIH_tofit.query('subject == @subj')        \n",
    "        #perturb = dfos['perturbation_pscadj'].to_numpy()    \n",
    "        error = dfos[coln_error_].values\n",
    "\n",
    "        out_cursubj = prl[row['prlind']]\n",
    "        #adaptationRate = out_cursubj['adaptation_rate']\n",
    "        output = out_cursubj['error_pred']\n",
    "\n",
    "        diff = (error - output)**2\n",
    "        #mse = np.mean(diff)\n",
    "        mser = np.mean(diff[random_inds])\n",
    "        mses = np.mean(diff[stable_inds])\n",
    "        #print(mse,mses,mser, row['mse'])\n",
    "        dfr.loc[rowi,'mser'] = mser\n",
    "        dfr.loc[rowi,'mses'] = mses\n",
    "        #break"
   ]
  },
  {
   "cell_type": "code",
   "execution_count": null,
   "id": "634621a8",
   "metadata": {},
   "outputs": [],
   "source": [
    "dfr = dfr.drop(columns=['paramsd','optres'])"
   ]
  },
  {
   "cell_type": "code",
   "execution_count": null,
   "id": "0683af12",
   "metadata": {},
   "outputs": [],
   "source": [
    "save = 0\n",
    "if save:\n",
    "    dfr.to_pickle(pjoin(path_data,'dfr_Tan_calc_res2.pkl'))"
   ]
  },
  {
   "cell_type": "code",
   "execution_count": null,
   "id": "dae37c6b",
   "metadata": {},
   "outputs": [],
   "source": [
    "#dfr.groupby(parns_unique[:1] + parns_unique[3:]).size()"
   ]
  },
  {
   "cell_type": "code",
   "execution_count": null,
   "id": "2cf3bd57",
   "metadata": {},
   "outputs": [],
   "source": [
    "dfrb = aggRows(dfr, 'mse', 'min', grp=dfr.groupby(parns_unique))\n",
    "print(len(dfr),len(dfrb))"
   ]
  },
  {
   "cell_type": "code",
   "execution_count": null,
   "id": "9ab8b932",
   "metadata": {},
   "outputs": [],
   "source": [
    "#dfr_ute0[['stat_name','initial_state_bounds','statkind','histlen']]"
   ]
  },
  {
   "cell_type": "code",
   "execution_count": null,
   "id": "853f85ad",
   "metadata": {},
   "outputs": [],
   "source": [
    "# dfr_ute0 = dfr.query('use_true_error == 0')\n",
    "# for N in range(1,len(parns_unique)):\n",
    "#     parns_test = parns_unique[:N]\n",
    "    \n",
    "# #    parns_test = ['stat_name']\n",
    "#     print(N,parns_test)\n",
    "#     dfrb_ute0 = aggRows(dfr_ute0, 'mse', 'min', \n",
    "#         grp=dfr_ute0.groupby(parns_test, observed=True))\n",
    "#     print(len(dfr_ute0),len(dfrb_ute0))"
   ]
  },
  {
   "cell_type": "code",
   "execution_count": null,
   "id": "8e931d52",
   "metadata": {},
   "outputs": [],
   "source": [
    "dfsz = grp.size().to_frame()\n",
    "dfsz = dfsz.rename(columns={0:'sz'})\n",
    "dfsz.query('sz == 1')"
   ]
  },
  {
   "cell_type": "code",
   "execution_count": null,
   "id": "99885663",
   "metadata": {},
   "outputs": [],
   "source": [
    "dfcc_all_NIH_['perturbation'].abs().max()"
   ]
  },
  {
   "cell_type": "code",
   "execution_count": null,
   "id": "94e42494",
   "metadata": {},
   "outputs": [],
   "source": [
    "# excl subject\n",
    "grp = dfrb.groupby(parns_unique[1:]) # except subject\n",
    "szmn,szmx = grp.size().min(),grp.size().max()\n",
    "print(szmn,szmx)\n",
    "\n",
    "grp_ = dfrb.query('use_true_error == 1').groupby(parns_unique[1:]) # except subject\n",
    "szmn_,szmx_ = grp_.size().min(),grp.size().max()\n",
    "print(szmn_,szmx_)\n",
    "\n",
    "assert (20,20) == (szmn,szmx), (szmn,szmx) # both should be 20"
   ]
  },
  {
   "cell_type": "code",
   "execution_count": null,
   "id": "91528e34",
   "metadata": {},
   "outputs": [],
   "source": [
    "print(parns_unique)"
   ]
  },
  {
   "cell_type": "code",
   "execution_count": null,
   "id": "bd91bd82",
   "metadata": {},
   "outputs": [],
   "source": [
    "dfrbme, dfrbstd = grp.mean(numeric_only = True), grp.std(numeric_only = True)\n",
    "df_ = dfrbme.reset_index().query('histlen > 4')\n",
    "dfrbmeb = aggRows(df_, 'mse', 'min', \n",
    "    grp=df_.groupby(['use_true_error','statkind'])) \n",
    "\n",
    "dfrbmeb[['statkind','histlen'] + cols[1:-9]]#['mse']"
   ]
  },
  {
   "cell_type": "code",
   "execution_count": null,
   "id": "d3d3f708",
   "metadata": {},
   "outputs": [],
   "source": [
    "df_ = dfrbme.reset_index().query('histlen > 4 and c > 1e-3 and mse <= 150')\n",
    "dfrbmeb = aggRows(df_, 'mse', 'min', \n",
    "    grp=df_.groupby(['use_true_error','statkind','rate_is_additive','state_reset'])) \n",
    "\n",
    "dfrbmeb[['statkind','histlen'] + cols[1:-9]]#['mse']"
   ]
  },
  {
   "cell_type": "code",
   "execution_count": null,
   "id": "98f17a5e",
   "metadata": {},
   "outputs": [],
   "source": [
    "#ind_to_try = 1627 \n",
    "ind_to_try = 1067 \n",
    "row = dfrbmeb.loc[ind_to_try]\n",
    "print(row)"
   ]
  },
  {
   "cell_type": "code",
   "execution_count": null,
   "id": "149fe382",
   "metadata": {},
   "outputs": [],
   "source": [
    "dfrb.query('use_true_error == 1').groupby(['stat_name','rate_is_additive']).size().mean()"
   ]
  },
  {
   "cell_type": "code",
   "execution_count": null,
   "id": "d59facc6",
   "metadata": {
    "code_folding": [
     0
    ],
    "run_control": {
     "marked": false
    }
   },
   "outputs": [],
   "source": [
    "# before\n",
    "print(parns_arg[1:] + opns + parns_calced[2:]  )\n",
    "#'use_true_error_stats', 'bclip',\n",
    "dfrb = dfrb.sort_values(parns_arg)\n",
    "#'cmin', 'cmax', 'amin', 'amax',\n",
    "dfrb_best = dfrb.nsmallest(5,['mse'])\n",
    "display(dfrb_best[cols])\n",
    "\n",
    "dfrb2 = aggRows(dfr, 'mse', 'min', dfr.groupby(['subject']))\n",
    "dfrb_best2 = dfrb2.nsmallest(8,'mse')\n",
    "display( dfrb_best2[cols] )\n",
    "\n",
    "dfrb3 = aggRows(dfr, 'mse', 'min', dfr.query('use_true_error == 1').groupby(['subject']))\n",
    "dfrb_best3 = dfrb3.nsmallest(5,'mse')\n",
    "display( dfrb_best3[cols] )\n"
   ]
  },
  {
   "cell_type": "code",
   "execution_count": null,
   "id": "c33a4b64",
   "metadata": {},
   "outputs": [],
   "source": [
    "ind_to_try"
   ]
  },
  {
   "cell_type": "code",
   "execution_count": null,
   "id": "d4873798",
   "metadata": {},
   "outputs": [],
   "source": []
  },
  {
   "cell_type": "code",
   "execution_count": null,
   "id": "e4f3530a",
   "metadata": {},
   "outputs": [],
   "source": [
    "#cols_ = ['use_true_error','histlen','statkind','rate_is_additive','state_reset']\n",
    "cols_ = parns_unique[1:]\n",
    "dfrb_ = dfrb.set_index(cols_)\n",
    "df_ = dfrb_.loc[ tuple(row[cols_].values) ].reset_index()\n",
    "# df_ = dfrb.query('histlen == @ and statkind == @row[\"statkind\"] '\n",
    "#                  'and rate_is_additive == @row[\"rate_is_additive\"] '\n",
    "#                  'and state_reset == @row[\"state_reset\"]')\n",
    "assert len(df_) == 20, len(df_)\n",
    "df_['stat_name']"
   ]
  },
  {
   "cell_type": "code",
   "execution_count": null,
   "id": "42719db0",
   "metadata": {
    "code_folding": [],
    "run_control": {
     "marked": false
    }
   },
   "outputs": [],
   "source": [
    "from matplotlib import pyplot as plt\n",
    "plot = 0\n",
    "\n",
    "dfnew = []\n",
    "for rowi,row in df_.iterrows():\n",
    "#for rowi,row in dfrb_best3.iterrows():\n",
    "#for rowi,row in dfr.iterrows():\n",
    "    subj = row['subject']\n",
    "    dfos = dfcc_all_NIH_tofit.query('subject == @subj')        \n",
    "    perturb = dfos['perturbation_pscadj'].to_numpy()    \n",
    "    error = dfos[coln_error_].values\n",
    "\n",
    "    out_cursubj = prl[row['prlind']]\n",
    "    adaptationRate = out_cursubj['adaptation_rate']\n",
    "    output = out_cursubj['error_pred']\n",
    "    state = out_cursubj['states']\n",
    "    \n",
    "    dfnew += [pd.DataFrame({'error_pred':output, 'error':error, 'perturbation':perturb, 'state':state,\n",
    "               'trial_index':np.arange(len(error)), 'err_sens':dfos['err_sens'].values, 'err_sens_pred':out_cursubj['adaptation_rate'], \n",
    "               'subject':[subj]*len(error)} )]\n",
    "\n",
    "    if plot:\n",
    "        plt.figure(figsize=(15,3)) # Use matplotlib.pyplot to plot figures\n",
    "        ttl = 'Subject {}, optres={}, pows={} onlfb={}, truerr={}, trueerrst={}, rate_add={}, statname={} mse={:.2f}'.format( \n",
    "            dfos['subject'].values[0][:5],\n",
    "            out_cursubj['optres']['success'],out_cursubj['stats_powers'], \n",
    "                out_cursubj['online_feedback'],out_cursubj['use_true_error'], \n",
    "                out_cursubj['use_true_error_stats'], out_cursubj['rate_is_additive'],\n",
    "            out_cursubj['stat_name'],\n",
    "            out_cursubj['mse'] )\n",
    "        ttl += '\\n' + d2ps(out_cursubj['paramsd'])\n",
    "        plt.title(ttl) # Use string concatenation to make titles\n",
    "        plt.plot(error, linewidth=2, label='Observed error') # Use label argument to add legends\n",
    "        plt.plot(output, linewidth=2, label='Model prediction',alpha=0.8)\n",
    "        plt.plot(state, linewidth=2, label='State', c='purple', alpha=0.6)\n",
    "        plt.ylabel('Angle (°)')\n",
    "        plt.xlabel('Trials')\n",
    "        plt.plot(perturb, label='pert', color='red', ls=':')\n",
    "        plt.legend() # Call legend function to show legends\n",
    "        #plt.twinx() # Use twinx function to create a second y-axis\n",
    "        if adaptationRate is not None:\n",
    "            Y = 30\n",
    "            plt.plot(Y + 50*adaptationRate, linewidth=1, color='green')            \n",
    "            plt.axhline(Y, linewidth=1, label='Y + 50*Adaptation rate', ls=':',color='green')            \n",
    "            plt.legend() # Call legend function to show legends\n",
    "        plt.ylim(-40,70)\n",
    "        #plt.xlim(0,30)\n",
    "        plt.grid(True)\n",
    "        plt.show() # Call\n",
    "dfnew = pd.concat(dfnew)\n",
    "\n",
    "from figure.plots import relplot_multi\n",
    "#relplot_multi?\n",
    "\n",
    "dfnew['errdif'] = dfnew['error'] - dfnew['error_pred']\n",
    "dfnew.loc[dfnew['trial_index'] <= 3, 'err_sens_pred'] = np.nan"
   ]
  },
  {
   "cell_type": "code",
   "execution_count": null,
   "id": "d813bcdc",
   "metadata": {},
   "outputs": [],
   "source": [
    "print(dfnew.columns)"
   ]
  },
  {
   "cell_type": "code",
   "execution_count": null,
   "id": "5e4b7483",
   "metadata": {},
   "outputs": [],
   "source": [
    "#perturbation\n",
    "with warnings.catch_warnings(record=True):\n",
    "    warnings.filterwarnings(\"ignore\",category=FutureWarning)\n",
    "    warnings.filterwarnings(\"ignore\",category=UserWarning)        \n",
    "    fg, df__ = relplot_multi(data=dfnew, kind='line',\n",
    "    x='trial_index', ys=[['errdif'], ['error','error_pred'],['err_sens_pred']],\n",
    "             aspect = 2, height=3, ylabel = ['Error discrepancy [deg]','Error [deg]','Simulated error sensitivity'],\n",
    "              facet_kws = {'sharex':True, 'sharey':False}, ci='sd', ylim=[(-25,25), (-45,45), (0,0.2) ]);\n",
    "    fg.refline(y=0)    \n",
    "    fg.refline(x=192)\n",
    "    fg.refline(x=192*2)\n",
    "    fg.refline(x=192*3)\n",
    "    plt.suptitle(df_['stat_name'].iloc[0])\n",
    "#'Error discrepancy [deg]',"
   ]
  },
  {
   "cell_type": "code",
   "execution_count": null,
   "id": "32227234",
   "metadata": {},
   "outputs": [],
   "source": [
    "with warnings.catch_warnings(record=True):\n",
    "    warnings.filterwarnings(\"ignore\",category=FutureWarning)\n",
    "    warnings.filterwarnings(\"ignore\",category=UserWarning)        \n",
    "    relplot_multi(data=dfnew, kind='line',\n",
    "    x='trial_index', ys=[['perturbation','error','error_pred'],['err_sens_pred'],['err_sens'],['perturbation','state']],\n",
    "             aspect = 2, height=3);"
   ]
  },
  {
   "cell_type": "markdown",
   "id": "77f60cc3",
   "metadata": {
    "heading_collapsed": true
   },
   "source": [
    "## debug"
   ]
  },
  {
   "cell_type": "code",
   "execution_count": null,
   "id": "68b0991b",
   "metadata": {
    "hidden": true
   },
   "outputs": [],
   "source": [
    "out_cursubj['mse'], out_cursubj['mismatch_var']"
   ]
  },
  {
   "cell_type": "code",
   "execution_count": null,
   "id": "17222141",
   "metadata": {
    "hidden": true
   },
   "outputs": [],
   "source": [
    "np.mean( (out_cursubj['error_pred'] - error)**2 )"
   ]
  },
  {
   "cell_type": "code",
   "execution_count": null,
   "id": "eeb6b269",
   "metadata": {
    "hidden": true
   },
   "outputs": [],
   "source": [
    "#fitDiedrischenModel?\n",
    "from taumodels.state_space_fit_toolbox.state_space_fit import simulate_deterministic_state_space,deterministic_ss_mse,deterministic_ss_mse2\n",
    "resd = fitDiedrischenModel(perturb, error)\n",
    "resd['paramsd']"
   ]
  },
  {
   "cell_type": "code",
   "execution_count": null,
   "id": "c7c79c31",
   "metadata": {
    "hidden": true
   },
   "outputs": [],
   "source": [
    "beh = perturb - error\n",
    "_arg = resd['params'].flatten(),perturb,beh,'norm'\n",
    "y_predD,stateD,err_predD = simulate_deterministic_state_space(*_arg)\n",
    "mse_on_err = np.mean ( (err_predD - error)**2)\n",
    "mse,mse2 = deterministic_ss_mse(*_arg),deterministic_ss_mse2(*_arg)\n",
    "mse,mse2,mse_on_err"
   ]
  },
  {
   "cell_type": "code",
   "execution_count": null,
   "id": "a33ec926",
   "metadata": {
    "hidden": true
   },
   "outputs": [],
   "source": [
    "# use fitted in Tan but sim using Diedrichsen\n",
    "opd = out_cursubj['paramsd']\n",
    "S = np.array( [opd['A'],opd['Bstart'],opd['X0']] )\n",
    "_arg = S,perturb,beh,'norm'\n",
    "y_pred,state,err_pred = simulate_deterministic_state_space(*_arg)\n",
    "mse_on_err = np.mean ( (err_pred - error)**2)\n",
    "mse,mse2 = deterministic_ss_mse(*_arg),deterministic_ss_mse2(*_arg)\n",
    "mse,mse2,mse_on_err"
   ]
  },
  {
   "cell_type": "code",
   "execution_count": null,
   "id": "0493e2dc",
   "metadata": {
    "hidden": true
   },
   "outputs": [],
   "source": [
    "#np.mean( (out_cursubj['error_pred'] - err_pred)**2 )\n",
    "plt.plot(error)\n",
    "plt.plot(out_cursubj['error_pred'])\n",
    "plt.plot(err_pred)\n",
    "plt.xlim(0,60)\n"
   ]
  },
  {
   "cell_type": "code",
   "execution_count": null,
   "id": "fecba2cb",
   "metadata": {
    "hidden": true
   },
   "outputs": [],
   "source": [
    "resH,dH = calcH_min(-perturb, error, None, None, optimize_initial_err_sens='optimize',\n",
    "    state_retention_bounds=(0,1), weight_update_speed_bounds=(0,0), weight_retention_bounds=(0,0))"
   ]
  },
  {
   "cell_type": "code",
   "execution_count": null,
   "id": "bfc8b489",
   "metadata": {
    "hidden": true
   },
   "outputs": [],
   "source": [
    "print( dH.keys() )\n",
    "S = np.array([dH['alpha'], dH['initial_sensitivity'], -dH['initial_state']])\n",
    "_arg = S,perturb,beh,'norm'\n",
    "y_predH,state,err_predH = simulate_deterministic_state_space(*_arg)\n",
    "mse_on_err = np.mean ( (err_predH - error)**2)\n",
    "mse,mse2 = deterministic_ss_mse(*_arg),deterministic_ss_mse2(*_arg)\n",
    "mse,mse2,mse_on_err"
   ]
  },
  {
   "cell_type": "code",
   "execution_count": null,
   "id": "65e5cdee",
   "metadata": {
    "hidden": true
   },
   "outputs": [],
   "source": [
    "plt.plot(y_predD,label='stateD')\n",
    "plt.plot(y_pred,label='stateT')\n",
    "plt.plot(resd['states'],label='state_T_T', ls=':',c='r')\n",
    "plt.legend()\n",
    "plt.show()\n",
    "\n",
    "plt.plot(y_predH,label='stateH')\n",
    "plt.plot(-dH['motor_output'],label='state_H_H')\n",
    "#plt.plot(y_pred,label='stateT')\n",
    "#plt.plot(resd['states'],label='state_T_T', ls=':',c='r')\n",
    "plt.xlim(0,60)\n",
    "plt.legend()"
   ]
  },
  {
   "cell_type": "code",
   "execution_count": null,
   "id": "ccd97462",
   "metadata": {
    "hidden": true
   },
   "outputs": [],
   "source": [
    "#18*400"
   ]
  },
  {
   "cell_type": "code",
   "execution_count": null,
   "id": "bd6e849b",
   "metadata": {
    "hidden": true
   },
   "outputs": [],
   "source": [
    "#args_all = args_all[18 * N:]"
   ]
  },
  {
   "cell_type": "code",
   "execution_count": null,
   "id": "0c26fd41",
   "metadata": {
    "hidden": true
   },
   "outputs": [],
   "source": [
    "print('len args = ',len(args_all))\n",
    "import gc;gc.collect()"
   ]
  },
  {
   "cell_type": "markdown",
   "id": "02b361bd",
   "metadata": {
    "heading_collapsed": true
   },
   "source": [
    "## old ver"
   ]
  },
  {
   "cell_type": "code",
   "execution_count": null,
   "id": "df46eda1",
   "metadata": {
    "hidden": true
   },
   "outputs": [],
   "source": [
    "startidx, histlen"
   ]
  },
  {
   "cell_type": "code",
   "execution_count": null,
   "id": "66a333be",
   "metadata": {
    "hidden": true
   },
   "outputs": [],
   "source": []
  },
  {
   "cell_type": "code",
   "execution_count": null,
   "id": "eaa6ba0a",
   "metadata": {
    "hidden": true
   },
   "outputs": [],
   "source": [
    "import time\n",
    "from taumodels.models import fitDiedrischenModel,fitTanModel\n",
    "dfnamesubj2res_Tan = {}\n",
    "nruns = 20\n",
    "n_jobs = 32\n",
    "#reg = 1e-3\n",
    "#reg = 10\n",
    "#reg = 5\n",
    "#reg = 1\n",
    "#reg = 3\n",
    "nruns = 5\n",
    "#nsubj = 20\n",
    "minStartIdx =3; maxStartIdx=7; maxNbTrials = 11; minNbTrials = 2\n",
    "#stats_powers = (2,-2)\n",
    "#stats_powers = (0,-1)\n",
    "#fit_trials = 'stable' # the problem is how to reset state between to blocks\n",
    "#use_true_error=0; use_true_error_stats=1\n",
    "#nsubj=1; nruns=3; reg=3; fit_trials='stable'; minStartIdx =6; maxStartIdx=7; maxNbTrials = 7;minNbTrials = 2\n",
    "nsubj=3; nruns=4; minStartIdx =6; maxStartIdx=7; maxNbTrials = 6;minNbTrials = 3\n",
    "#for dfname,df in zip(['NIH', 'cc'], [dfcc_all_NIH,dfcc_all]):\n",
    "for dfname,df in zip(['NIH'], [dfcc_all_NIH]):\n",
    "    for subj in df.subject.unique()[:nsubj]:\n",
    "        print(dfname, '   subj == ',subj)\n",
    "        qs0 = 'subject == @subj'\n",
    "        \n",
    "        motor_var = df.query(qs0 + ' and trial_index >= 10 and trial_index <= 24')['error'].abs().std()\n",
    "        t0 = time.time()\n",
    "        inds_state_reset = []  \n",
    "        \n",
    "        dfnamesubj2res_Tan[(dfname,subj)]= []\n",
    "        for (stats_powers,use_true_error,use_true_error_stats,reg,fit_trials) in prod:\n",
    "            if dfname == 'NIH':\n",
    "                coln_error_ = 'error_deg'                       \n",
    "                if fit_trials == 'stable':\n",
    "                    qs = qs0 + ' and environment == 0'\n",
    "                    #inds_state_reset = np.arange(192,700, 192)\n",
    "                    inds_state_reset = np.array([192])\n",
    "                elif fit_trials == 'random':\n",
    "                    qs = qs0 + ' and environment == 1'\n",
    "                    #inds_state_reset = np.arange(192,700, 192)\n",
    "                    inds_state_reset = np.array([192])\n",
    "                else:\n",
    "                    qs = qs0\n",
    "            else:         \n",
    "                qs = qs0 + ' and trial_index >= @numtrain'            \n",
    "                coln_error_ = coln_error\n",
    "            dfos = df.query(qs)    \n",
    "            \n",
    "            \n",
    "            motor_var_ = motor_var\n",
    "            if use_true_error:\n",
    "                motor_var_ = 0. # would just confuse model additionally\n",
    "            \n",
    "            out_cursubj = None\n",
    "            import warnings\n",
    "            with warnings.catch_warnings(record=True) as w:\n",
    "                warnings.filterwarnings('ignore',category=RuntimeWarning)\n",
    "\n",
    "                out_cursubj = fitTanModel(dfos, coln_error_, n_jobs, \n",
    "                            bclip=(-1,1), nruns=nruns,\n",
    "                         reg = reg, neg_error=1,\n",
    "                        maxNbTrials = maxNbTrials,\n",
    "                        minNbTrials = minNbTrials,\n",
    "                        minStartIdx = minStartIdx,\n",
    "                        maxStartIdx=maxStartIdx, cmax = 0.007, online_feedback=False, \n",
    "                        inds_state_reset = inds_state_reset, stats_powers=stats_powers,\n",
    "                        motor_var = motor_var_,\n",
    "                        use_true_error=use_true_error, use_true_error_stats=use_true_error_stats)\n",
    "        \n",
    "            out_cursubj['fit_trials'] = fit_trials\n",
    "            dfnamesubj2res_Tan[(dfname,subj)].append( out_cursubj )\n",
    "            #for subj in subj2out_Tan: \n",
    "            #    print('     ',subj)\n",
    "            #    for k,v in subj2out_Tan[subj ].items():\n",
    "            print(out_cursubj['params'],stats_powers,use_true_error,use_true_error_stats )\n",
    "\n",
    "            perturb = dfos['perturbation'].to_numpy()    \n",
    "            adaptationRate = out_cursubj['adaptation_rate']\n",
    "            output = out_cursubj['y_pred']\n",
    "            error = dfos['error_deg'].values\n",
    "\n",
    "            plot = 0\n",
    "            if plot:\n",
    "                plt.figure(figsize=(15,3)) # Use matplotlib.pyplot to plot figures\n",
    "                ttl = 'Subject {}, optres={}, pows={} onlfb={}, truerr={}, trueerrst={}'.format( \n",
    "                    dfos['subject'].values[0][:5],\n",
    "                    out_cursubj['optres']['success'],out_cursubj['stats_powers'], \n",
    "                        out_cursubj['online_feedback'],out_cursubj['use_true_error'], \n",
    "                        out_cursubj['use_true_error_stats'] )            \n",
    "                plt.title(ttl) # Use string concatenation to make titles\n",
    "                plt.plot(error, linewidth=2, label='Observed error') # Use label argument to add legends\n",
    "                plt.plot(output, linewidth=2, label='Model prediction',alpha=0.8)\n",
    "                plt.ylabel('Angle (°)')\n",
    "                plt.xlabel('Trials')\n",
    "                plt.plot(perturb, label='pert', color='red', ls=':')\n",
    "                plt.legend() # Call legend function to show legends\n",
    "                #plt.twinx() # Use twinx function to create a second y-axis\n",
    "                if adaptationRate is not None:\n",
    "                    plt.plot(30 + 50*adaptationRate, linewidth=1, label='Adaptation rate', color='green')            \n",
    "                    plt.legend() # Call legend function to show legends\n",
    "                plt.ylim(-40,60)\n",
    "                plt.grid(True)\n",
    "                plt.show() # Call"
   ]
  },
  {
   "cell_type": "markdown",
   "id": "75cf27f0",
   "metadata": {
    "heading_collapsed": true
   },
   "source": [
    "## try one "
   ]
  },
  {
   "cell_type": "code",
   "execution_count": null,
   "id": "44770cfd",
   "metadata": {
    "hidden": true
   },
   "outputs": [],
   "source": [
    "arg0 = args_all[10].copy()\n",
    "for k,v in arg0.items():\n",
    "    if not isinstance(v,np.ndarray):\n",
    "        print(k,v)\n",
    "#print(arg0)\n",
    "arg0['use_true_errors']"
   ]
  },
  {
   "cell_type": "code",
   "execution_count": null,
   "id": "06c442fa",
   "metadata": {
    "hidden": true
   },
   "outputs": [],
   "source": [
    "np.sum( np.isnan(arg['errors']) )"
   ]
  },
  {
   "cell_type": "code",
   "execution_count": null,
   "id": "14fcaf9f",
   "metadata": {
    "hidden": true
   },
   "outputs": [],
   "source": [
    "#fitmask_vals\n",
    "#s = int(np.ceil(time.time() * 1e4) ) % int( 1e5 )   \n",
    "#arg0['seed'] = s\n",
    "#arg0['fitmask'] = fitmask_vals\n",
    "r = _opt(**arg0)"
   ]
  },
  {
   "cell_type": "code",
   "execution_count": null,
   "id": "6236f9d3",
   "metadata": {
    "hidden": true
   },
   "outputs": [],
   "source": [
    "r[1]['fun_full']"
   ]
  },
  {
   "cell_type": "code",
   "execution_count": null,
   "id": "78d888c5",
   "metadata": {
    "hidden": true
   },
   "outputs": [],
   "source": [
    "_opt?"
   ]
  },
  {
   "cell_type": "code",
   "execution_count": null,
   "id": "cdfc9d95",
   "metadata": {
    "hidden": true
   },
   "outputs": [],
   "source": [
    "arg0.keys()"
   ]
  },
  {
   "cell_type": "code",
   "execution_count": null,
   "id": "ed727771",
   "metadata": {
    "hidden": true
   },
   "outputs": [],
   "source": [
    "arg0 = args_all[0].copy()\n",
    "from taumodels.models import interpnan\n",
    "verbose = 0\n",
    "arg0sim = arg0.copy()\n",
    "\n",
    "print('Num nans in errors= ', np.sum(np.isnan(arg0['errors'])))\n",
    "arg0sim['true_errors'] = interpnan(arg0['errors'])\n",
    "#arg0sim['true_err'] = arg0['errors']\n",
    "todel = ['optimize_initial_err_sens','err_sens','errors','fit_to',\n",
    "        'reg','timeout','fitmask_vals','fitmask',\n",
    "        'err_handling','subject','rnsuff']\n",
    "for td in todel:\n",
    "    del arg0sim[td]\n",
    "#subj = arg0['subject']\n",
    "# df0 = dfcc_all_NIH_.query('trial_shift_size == 1 and '\n",
    "#     'trial_group_col_calc == \"trials\" and '\n",
    "#     'retention_factor_s == \"0.924\" and '\n",
    "#     'subject == @subj').sort_values(['trials'])\n",
    "#pre_break_duration = df0['pre_break_duration'].values\n",
    "#error   = df0['error_pscadj'].values * 180 / np.pi\n",
    "#perturb = -df0['perturbation_pscadj'].values\n",
    "#perturb[perturb > 180] = perturb[perturb > 180] - 360 \n",
    "\n",
    "#errors_ =  interpnan(error.copy())  \n",
    "#err_sens = interpnan(df0['err_sens'].values.copy())  \n",
    "\n",
    "#use_true_errors = row['use_true_errors']\n",
    "#cap_err_sens = row['cap_err_sens']    \n",
    "r = simMoE(**arg0sim, verbose=verbose)\n",
    "#-perturb,EC_mask=EC_mask,true_errors=errors_,\n",
    "#            pre_break_duration=pre_break_duration,\n",
    "#            **pard, cap_err_sens=cap_err_sens,\n",
    "#           small_err_thr = row['small_err_thr'],\n",
    "#           num_bases = row['num_bases'],\n",
    "#    use_true_errors=use_true_errors\n",
    "\n",
    "(motor_output,error_pred2,ws,err_sens2, \n",
    "    gaussian_centers,gaussian_variances) = r \n",
    "\n",
    "from taumodels.models import calcLoss_H\n",
    "fun = calcLoss_H(arg0sim['true_errors'], error_pred2, arg0['err_sens'], \n",
    "                 err_sens2,  None, arg0['fit_to'], arg0['reg'])\n",
    "\n",
    "err_sens2_ = err_sens2#[1:]\n",
    "print(err_sens2_.max(), err_sens2_.mean(), err_sens2_.std(),fun)\n"
   ]
  },
  {
   "cell_type": "markdown",
   "id": "b8e2189f",
   "metadata": {
    "heading_collapsed": true
   },
   "source": [
    "## run all"
   ]
  },
  {
   "cell_type": "code",
   "execution_count": null,
   "id": "042b154d",
   "metadata": {
    "hidden": true
   },
   "outputs": [],
   "source": [
    "prl = []"
   ]
  },
  {
   "cell_type": "code",
   "execution_count": null,
   "id": "0926f0da",
   "metadata": {
    "hidden": true
   },
   "outputs": [],
   "source": [
    "# run\n",
    "N = 400\n",
    "ind = 0\n",
    "i = 0"
   ]
  },
  {
   "cell_type": "code",
   "execution_count": null,
   "id": "6b5a5f92",
   "metadata": {
    "code_folding": [],
    "hidden": true,
    "run_control": {
     "marked": false
    }
   },
   "outputs": [],
   "source": [
    "n_jobs_for_all = 52\n",
    "#backend = 'multiprocessing' # to see output realtime\n",
    "backend = 'loky'\n",
    "\n",
    "#from IPython.core.output import capture_output\n",
    "# Capture the output of your code block\n",
    "#%%capture captured\n",
    "if n_jobs_for_all == 1:\n",
    "    for arg in args_all:\n",
    "        prl += [_opt(**arg)]\n",
    "else:    \n",
    "    #plr = []    \n",
    "    while ind < len(args_all):      \n",
    "        gc.collect()\n",
    "        subargs = args_all[ind:ind+N]\n",
    "        prl_ = Parallel(n_jobs=n_jobs_for_all, backend=backend,\n",
    "                    )(delayed(_opt)(**arg) for arg in subargs) \n",
    "        #plr += [plr_]\n",
    "        s_ = str(datetime.now())[:-7].replace(' ','_')\n",
    "        np.savez( pjoin(path_data, f'prl_Herz_{i}__{s_}'), prl_ )\n",
    "\n",
    "        del prl_\n",
    "        ind += N\n",
    "        i += 1\n",
    "\n",
    "#Nout = 40        \n",
    "# Access and print the last N lines (replace N with your desired number)\n",
    "#last_lines = captured.stdout.splitlines()[-Nout:]\n",
    "#print(*last_lines, sep='\\n')            "
   ]
  },
  {
   "cell_type": "code",
   "execution_count": null,
   "id": "8d5f8321",
   "metadata": {
    "hidden": true
   },
   "outputs": [],
   "source": [
    "print(ind, ind/N)"
   ]
  },
  {
   "cell_type": "markdown",
   "id": "6554895c",
   "metadata": {
    "heading_collapsed": true
   },
   "source": [
    "# read"
   ]
  },
  {
   "cell_type": "code",
   "execution_count": null,
   "id": "d2826992",
   "metadata": {
    "hidden": true
   },
   "outputs": [],
   "source": [
    "from datetime import datetime\n",
    "from config2 import path_data, path_fig\n",
    "import dateutil\n",
    "#dtstart = dateutil.parser.parse('march 31 2024  18:10')\n",
    "dtstart = dateutil.parser.parse('april 2 2024  19:12')\n",
    "\n",
    "import glob\n",
    "prls_fnf = glob.glob(path_data + '/prl_Herz*')\n",
    "\n",
    "prl = []\n",
    "for p in prls_fnf:    \n",
    "    #p=  pjoin(path_data, f'prl_{ind}.npz')\n",
    "    if not os.path.exists(p):\n",
    "        continue\n",
    "    \n",
    "    dt = datetime.fromtimestamp(os.path.getmtime(p))\n",
    "    if not dt >= dtstart:\n",
    "        continue    \n",
    "    print(p, dt)\n",
    "    prl_ = np.load(p,allow_pickle=1)['arr_0']\n",
    "    print(len(prl_))\n",
    "    \n",
    "    prl += list(prl_)\n",
    "\n",
    "print(len(prl))"
   ]
  },
  {
   "cell_type": "code",
   "execution_count": null,
   "id": "fa0e8262",
   "metadata": {
    "hidden": true
   },
   "outputs": [],
   "source": [
    "from behav_proc import aggRows\n",
    "import pandas as pd\n",
    "prl = pd.DataFrame(prl, columns=['minres','pard','arg','subject']) \n",
    "for k in prl.arg.values[0]:\n",
    "    prl[k] = prl.arg.apply(lambda x: x.get(k,None))\n",
    "\n",
    "def f(x):\n",
    "    thr = x[\"small_err_thr\"]\n",
    "    \n",
    "    r = (f'useTrueErr={x[\"use_true_errors\"]}; optimES0={x[\"optimize_initial_err_sens\"]};'\n",
    "    f' capES={x[\"cap_err_sens\"]}; '\n",
    "    f' fit_to={x[\"fit_to\"]}; {x[\"rnsuff\"]}'     )\n",
    "    return r\n",
    "#sethr={thr > 1e-6}; \n",
    "prl['runname'] = prl.apply(f,1)\n",
    "\n",
    "###################################################\n",
    "prlg = prl[~prl.pard.isnull()].copy()\n",
    "\n",
    "pard0 = prlg.pard.values[0]\n",
    "for k in pard0.keys():\n",
    "    if isinstance(pard0[k], np.ndarray):\n",
    "        continue\n",
    "    prlg[k] = prlg.pard.apply(lambda x: x.get(k,None))\n",
    "\n",
    "\n",
    "prlg['fun'] = prlg.apply(lambda x: x['minres'].fun, 1)                   "
   ]
  },
  {
   "cell_type": "code",
   "execution_count": null,
   "id": "97490005",
   "metadata": {
    "hidden": true
   },
   "outputs": [],
   "source": [
    "#prlg.iloc[0][prlg.columns[3:]]"
   ]
  },
  {
   "cell_type": "code",
   "execution_count": null,
   "id": "860ddabf",
   "metadata": {
    "hidden": true
   },
   "outputs": [],
   "source": [
    "prlg.use_true_errors.any()"
   ]
  },
  {
   "cell_type": "code",
   "execution_count": null,
   "id": "6554ae52",
   "metadata": {
    "hidden": true
   },
   "outputs": [],
   "source": [
    "#prlg[prlg.columns[3:]]"
   ]
  },
  {
   "cell_type": "markdown",
   "id": "bb8b70ad",
   "metadata": {
    "heading_collapsed": true
   },
   "source": [
    "# aug"
   ]
  },
  {
   "cell_type": "code",
   "execution_count": null,
   "id": "f25284f3",
   "metadata": {
    "hidden": true
   },
   "outputs": [],
   "source": [
    "ipython.run_line_magic('run', f'-i {script_name} '\n",
    "                    f'--subject {subjects_NIH[0]} '                    \n",
    "                    f'--exit_after init')"
   ]
  },
  {
   "cell_type": "code",
   "execution_count": null,
   "id": "a7137258",
   "metadata": {
    "hidden": true
   },
   "outputs": [],
   "source": [
    "def recalcRow(row, pard_upd = None, verbose=0):\n",
    "    if row['fitmask'] == 'no':\n",
    "        prlg.loc[rowi,'fun_full'] = row['fun']\n",
    "        return np.nan\n",
    "    runname = row['runname']\n",
    "    pard_ = row['pard']\n",
    "    if pard_ is None:\n",
    "        print('empty',runname)\n",
    "        return np.nan\n",
    "    pard = pard_.copy()\n",
    "    if 'fun' in pard:\n",
    "        del pard['fun']\n",
    "        del pard['nit']\n",
    "        del pard['nfev']        \n",
    "        \n",
    "    s = int(np.ceil(time.time() * 1e4) ) % int( 1e5  )\n",
    "    \n",
    "    if pard_upd is not None:\n",
    "        for k in pard_upd.keys():\n",
    "            if pard[k] != pard_upd[k]:\n",
    "                print(f'    {k}: {pard[k]} -> {pard_upd[k]}')\n",
    "        pard.update(pard_upd)\n",
    "    \n",
    "    subj = row[\"subject\"]\n",
    "    print('recalcRow: ',ind, len(prlg), subj, runname)\n",
    "    df0 = dfcc_all_NIH_.query('trial_shift_size == 1 and '\n",
    "        'trial_group_col_calc == \"trials\" and '\n",
    "        'retention_factor_s == \"0.924\" and '\n",
    "        'subject == @subj').sort_values(['trials'])\n",
    "    pre_break_duration = df0['pre_break_duration'].values\n",
    "    error   = df0['error_pscadj'].values * 180 / np.pi\n",
    "    perturb = df0['perturbation_pscadj'].values\n",
    "    \n",
    "    print('Num nans in errors= ', np.sum(np.isnan(error)))\n",
    "    errors_ =  interpnan(error.copy())  \n",
    "    err_sens = interpnan(df0['err_sens'].values.copy())  \n",
    "\n",
    "    use_true_errors = row['use_true_errors']\n",
    "    cap_err_sens = row['cap_err_sens']    \n",
    "    r = simMoE(-perturb,EC_mask=EC_mask,true_errors=errors_,\n",
    "                pre_break_duration=pre_break_duration,\n",
    "                **pard, cap_err_sens=cap_err_sens,\n",
    "               small_err_thr = row['small_err_thr'],\n",
    "               num_bases = row['num_bases'],\n",
    "        use_true_errors=use_true_errors, verbose=verbose)\n",
    "    \n",
    "    (motor_output,error_pred2,ws,err_sens2, \n",
    "        gaussian_centers,gaussian_variances) = r \n",
    "    \n",
    "    err_sens2g = err_sens2[~np.isnan(err_sens2)]\n",
    "    print('err_sens2 len,mean,std = ', len(err_sens2g), err_sens2g.mean(), err_sens2g.std())\n",
    "    # fitmask should be 'no' here\n",
    "    fun = calcLoss_H(errors_, error_pred2, err_sens, err_sens2,  None, row['fit_to'], row['reg'])\n",
    "    return fun"
   ]
  },
  {
   "cell_type": "code",
   "execution_count": null,
   "id": "4f056068",
   "metadata": {
    "hidden": true
   },
   "outputs": [],
   "source": [
    "#row['small_err_thr']"
   ]
  },
  {
   "cell_type": "code",
   "execution_count": null,
   "id": "81357eef",
   "metadata": {
    "hidden": true
   },
   "outputs": [],
   "source": [
    "# effecot of weight_forgetting_exp_pause is really small because ES in general changes little"
   ]
  },
  {
   "cell_type": "code",
   "execution_count": null,
   "id": "d9d303c8",
   "metadata": {
    "hidden": true
   },
   "outputs": [],
   "source": [
    "verbose = 0\n",
    "row = best_par_rows.iloc[-5]\n",
    "for i in range(1):    \n",
    "    v = np.random.uniform(0,2)    \n",
    "    print(v, row['fun_full'], row['initial_sensitivity'])\n",
    "    display(row['pard'])\n",
    "    fun = recalcRow(row, {'weight_forgetting_exp_pause':v}, verbose=verbose)\n",
    "    print('  fun_full = ',fun, '\\n\\n')"
   ]
  },
  {
   "cell_type": "code",
   "execution_count": null,
   "id": "e712b286",
   "metadata": {
    "hidden": true
   },
   "outputs": [],
   "source": [
    "best_par_rows[['fun_full','weight_forgetting_exp_pause']]"
   ]
  },
  {
   "cell_type": "code",
   "execution_count": null,
   "id": "54ce32c2",
   "metadata": {
    "hidden": true
   },
   "outputs": [],
   "source": [
    "# add values for those with fitmask not full\n",
    "from taumodels.models import simMoE, calcLoss_H, interpnan\n",
    "prlg['fun_full'] = np.nan\n",
    "ind = 0 \n",
    "for rowi,row in prlg.iterrows():\n",
    "    fun = recalcRow(row)\n",
    "    prlg.loc[rowi,'fun_full'] = fun\n",
    "    print('    fun=',fun)\n",
    "    ind += 1"
   ]
  },
  {
   "cell_type": "markdown",
   "id": "6b670abd",
   "metadata": {
    "heading_collapsed": true
   },
   "source": [
    "# best"
   ]
  },
  {
   "cell_type": "code",
   "execution_count": null,
   "id": "0d706d7d",
   "metadata": {
    "hidden": true
   },
   "outputs": [],
   "source": [
    "# best within runname (across runs)\n",
    "bestCalcs = aggRows(prlg, 'fun_full', 'min',\n",
    "     grp = prlg.groupby(['subject','runname'] ) ).reset_index()\n",
    "\n",
    "bestCalcs['fitmask'] = bestCalcs['runname'].str.extract(r'_mask=([^_]*)')\n",
    "\n",
    "bestCalcs.to_pickle(pjoin(path_data,'herz_param_calced6.pkl.zip')\n",
    "    ,compression='zip')\n",
    "\n",
    "bestCalcs[['fitmask','fun','fun_full']]"
   ]
  },
  {
   "cell_type": "code",
   "execution_count": null,
   "id": "036e080b",
   "metadata": {
    "hidden": true
   },
   "outputs": [],
   "source": [
    "prl.use_true_errors.unique(), prlg.use_true_errors.unique(), bestCalcs.use_true_errors.unique()"
   ]
  },
  {
   "cell_type": "code",
   "execution_count": null,
   "id": "1e237bce",
   "metadata": {
    "hidden": true
   },
   "outputs": [],
   "source": [
    "bcs = bestCalcs\n",
    "ss = sum( [list(b.keys()) for b in bcs['pard'].values], [] )\n",
    "ss = set(ss ) - set(['error_pred', 'err_sens'])\n",
    "pardkeys = list(sorted(ss))\n",
    "\n",
    "def f(row):\n",
    "    pard = row.get('pard',None)\n",
    "    if pard is None:\n",
    "        tpl = tuple( [np.nan] * len(pardkeys))\n",
    "    else:\n",
    "        tpl = tuple( [pard[pk] for pk in pardkeys] )\n",
    "    return tpl\n",
    "bcs[pardkeys]  = bcs.apply(f, 1 ,result_type='expand')\n",
    "prlg[pardkeys] = prlg.apply(f, 1 ,result_type='expand')\n",
    "\n",
    "def f(row):\n",
    "    pard = row['pard']\n",
    "    ES = pard['err_sens']\n",
    "    return np.mean(ES), np.std(ES), np.max(ES)\n",
    "cols_ESsimstat = ['err_sens_mean','err_sens_std','err_sens_max']\n",
    "bcs[cols_ESsimstat] = bcs.apply(f,1, result_type='expand')\n",
    "\n",
    "# param explanation: alpha retetion, alpha w retention of weights, eta weight update speed\n",
    "grp = bcs.groupby('runname')[pardkeys + cols_ESsimstat] \n",
    "me = grp.mean()#.mean(numeric_only = True)\n",
    "desc = grp.describe()#[('alpha')]\n",
    "\n",
    "#desc_allsubj = desc[desc[('fun_full','count')] == 20]\n",
    "desc_allsubj = desc[desc[('fun_full','count')] >= 10]\n",
    "\n",
    "desc_allsubj = desc_allsubj.sort_values([('fun_full','mean')])\n",
    "\n",
    "rn_best = desc_allsubj.iloc[0].name\n",
    "print(rn_best)"
   ]
  },
  {
   "cell_type": "code",
   "execution_count": null,
   "id": "4a95cdb4",
   "metadata": {
    "hidden": true
   },
   "outputs": [],
   "source": [
    "# prep ols\n",
    "cols = []\n",
    "for k in pardkeys:\n",
    "    if k in ['fun','fun_full']:\n",
    "        continue\n",
    "    cols += [(k,'mean'),(k,'std') ]\n",
    "\n",
    "cols_ESsimstat_ext = []\n",
    "for k in cols_ESsimstat:    \n",
    "    cols += [(k,'mean'),(k,'std') ]\n",
    "\n",
    "cols = [('eta','count'), ('fun_full','mean'), ('fun_full','std')] + cols\n",
    "print(cols)"
   ]
  },
  {
   "cell_type": "code",
   "execution_count": null,
   "id": "444257e6",
   "metadata": {
    "hidden": true
   },
   "outputs": [],
   "source": [
    "desc_allsubj[cols]"
   ]
  },
  {
   "cell_type": "code",
   "execution_count": null,
   "id": "127abc67",
   "metadata": {
    "hidden": true
   },
   "outputs": [],
   "source": [
    "# variation of weight forgetting within runname\n",
    "best_par_rows = bcs.query('runname == @rn_best')\n",
    "best_par_rows[['subject','weight_forgetting_exp_pause']]"
   ]
  },
  {
   "cell_type": "code",
   "execution_count": null,
   "id": "c916955d",
   "metadata": {
    "hidden": true
   },
   "outputs": [],
   "source": [
    "#%run"
   ]
  },
  {
   "cell_type": "code",
   "execution_count": null,
   "id": "6a31d830",
   "metadata": {
    "hidden": true
   },
   "outputs": [],
   "source": [
    "rn_new = desc_allsubj.reset_index().runname.str.replace('capES=False; ','').\\\n",
    "    str.replace(' optimES0=optimize; ','').str.replace('nb=-1','')\n",
    "rn_new = rn_new.str.replace('useTrueErr','trueErr').str.replace('__sethr=','; ')\n",
    "rn_new.values"
   ]
  },
  {
   "cell_type": "code",
   "execution_count": null,
   "id": "016f06b2",
   "metadata": {
    "hidden": true
   },
   "outputs": [],
   "source": [
    "desc_allsubj_.columns"
   ]
  },
  {
   "cell_type": "code",
   "execution_count": null,
   "id": "99dd633f",
   "metadata": {
    "hidden": true
   },
   "outputs": [],
   "source": [
    "# what is the best runname withing subset?\n",
    "\n",
    "# alpha ~ 0.95. alpha_w ~ 0.36. eta~0.02, eta=0.05, \n",
    "# init ES ~ 0.0064 (std = 0.08), pause forget ~ 0.8 (std=0.87).\n",
    "grp = bcs.groupby(['runname','use_true_errors','fit_to'])[pardkeys + cols_ESsimstat] \n",
    "me = grp.mean()#.mean(numeric_only = True)\n",
    "grp2 = me.groupby(['use_true_errors','fit_to'])\n",
    "mebest = aggRows(me, 'fun_full', 'min', grp=grp2).reset_index().sort_values('fun_full')\n",
    "\n",
    "#desc_allsubj_ = desc_allsubj.copy().reset_index()\n",
    "rn_new = desc_allsubj.index.str.replace('capES=False; ','').\\\n",
    "    str.replace(' optimES0=optimize; ','').str.replace('nb=-1','')\n",
    "rn_new = rn_new.str.replace('useTrueErr','trueErr').str.replace('__sethr=','; ')\n",
    "desc_allsubj['rnshort'] = rn_new\n",
    "\n",
    "rns_best = list(mebest.runname) \n",
    "rns = rns_best\n",
    "\n",
    "runnames_sorted_funfull = mebest['runname'].values\n",
    "\n",
    "display(rns_best)\n",
    "desc_allsubj_ = desc_allsubj.reset_index()\n",
    "desc_allsubj_ = desc_allsubj_[desc_allsubj_['runname'].isin(rns_best)]\n",
    "display( desc_allsubj_[[('rnshort','')] + cols[:11]] )\n",
    "#display( desc_allsubj_[cols[6:11]] )\n",
    "display( desc_allsubj_[[('rnshort','')] +cols[11:]] )\n",
    "display( desc_allsubj_[[('rnshort','')] +cols[15:]] )"
   ]
  },
  {
   "cell_type": "markdown",
   "id": "966fff5f",
   "metadata": {
    "heading_collapsed": true,
    "hidden": true
   },
   "source": [
    "## old"
   ]
  },
  {
   "cell_type": "code",
   "execution_count": null,
   "id": "3dffe3cb",
   "metadata": {
    "hidden": true
   },
   "outputs": [],
   "source": [
    "# get the very best\n",
    "# mean across subjects\n",
    "bc = bestCalcs.groupby(['runname'])['fun_full'].mean().to_frame()\n",
    "bcstd = bestCalcs.groupby(['runname'])['fun_full'].std().to_frame()\n",
    "i = bc['fun_full'].idxmin()\n",
    "print( bc.loc[i].name)\n",
    "print('mean = ', bc.loc[i,'fun_full'], ', std = ',bcstd.loc[i,'fun_full'] )\n",
    "rn = bc.loc[i].name"
   ]
  },
  {
   "cell_type": "code",
   "execution_count": null,
   "id": "05a04f83",
   "metadata": {
    "hidden": true
   },
   "outputs": [],
   "source": []
  },
  {
   "cell_type": "code",
   "execution_count": null,
   "id": "0616dbd1",
   "metadata": {
    "hidden": true
   },
   "outputs": [],
   "source": [
    "cols = ['eta','alpha','alpha_w','weight_forgetting_exp_pause','initial_sensitivity','fun']\n",
    "bc00 = bestCalcs.query('use_true_errors == True and fitmask != \"random\" and reg > 0')\n",
    "bc0 = bc00.groupby(['runname'])\n",
    "bc = bc0['fun'].mean().to_frame()\n",
    "print(bc)\n",
    "if len(bc):\n",
    "    i = bc['fun'].idxmin()\n",
    "    print( bc.loc[i] )\n",
    "    rn = bc.loc[i].name"
   ]
  },
  {
   "cell_type": "code",
   "execution_count": null,
   "id": "39298d5b",
   "metadata": {
    "hidden": true
   },
   "outputs": [],
   "source": [
    "bad_subjects = set(subjects_NIH) - set( bc00.query('runname == @rn')['subject'].values )\n",
    "bad_subjects = list(bad_subjects)\n",
    "print(len(bad_subjects),bad_subjects)"
   ]
  },
  {
   "cell_type": "code",
   "execution_count": null,
   "id": "5d31a765",
   "metadata": {
    "hidden": true
   },
   "outputs": [],
   "source": [
    "#rn = 'useTrueErr=True; optimES0=optimize; capES=False; fit_to=errors; _reg=0.25_mask=stable_nb=-1_sethr=mestd*1.0'"
   ]
  },
  {
   "cell_type": "code",
   "execution_count": null,
   "id": "be335e30",
   "metadata": {
    "hidden": true
   },
   "outputs": [],
   "source": [
    "prl.query('subject.isin(@bad_subjects) and runname == @rn').iloc[0].minres"
   ]
  },
  {
   "cell_type": "code",
   "execution_count": null,
   "id": "185b0bae",
   "metadata": {
    "hidden": true
   },
   "outputs": [],
   "source": [
    "bc0[cols].mean().nsmallest(10,columns=['fun'])[cols]"
   ]
  },
  {
   "cell_type": "code",
   "execution_count": null,
   "id": "e75f940b",
   "metadata": {
    "hidden": true
   },
   "outputs": [],
   "source": [
    "dfd = bestCalcs.query('use_true_errors == True and runname == @rn').\\\n",
    "    groupby(['runname'])[cols].describe(percentiles=[])"
   ]
  },
  {
   "cell_type": "code",
   "execution_count": null,
   "id": "7da0a38c",
   "metadata": {
    "hidden": true
   },
   "outputs": [],
   "source": [
    "# df_ = dfcc_all_NIH_.query('trial_shift_size == 1 and '\n",
    "#     'trial_group_col_calc == \"trials\" and retention_factor_s == \"0.924\"'\n",
    "#                          )\n",
    "# df_.loc[df_['pre_break_duration'] > 0,\n",
    "#         ['subject','trials','pre_break_duration']]"
   ]
  },
  {
   "cell_type": "markdown",
   "id": "0e85beb9",
   "metadata": {
    "heading_collapsed": true
   },
   "source": [
    "# plot prep"
   ]
  },
  {
   "cell_type": "code",
   "execution_count": null,
   "id": "4e4681bf",
   "metadata": {
    "hidden": true
   },
   "outputs": [],
   "source": [
    "assert not bestCalcs.duplicated(['subject','runname']).any()\n",
    "from taumodels.models import calcLoss_H,interpnan"
   ]
  },
  {
   "cell_type": "markdown",
   "id": "552d2285",
   "metadata": {
    "heading_collapsed": true,
    "hidden": true
   },
   "source": [
    "### old"
   ]
  },
  {
   "cell_type": "code",
   "execution_count": null,
   "id": "259bd140",
   "metadata": {
    "code_folding": [],
    "hidden": true
   },
   "outputs": [],
   "source": [
    "# resim\n",
    "dfcc_all_NIH_['perturbation_pscadj'] = dfcc_all_NIH_['perturbation']\n",
    "dfcc_all_NIH_.loc[dfcc_all_NIH_['pert_seq_code'] == 1, \n",
    "    'perturbation_pscadj'] = -dfcc_all_NIH_['perturbation']\n",
    "\n",
    "#df0['perturbation'].describe()\n",
    "\n",
    "dfr =[]\n",
    "for rowi,row in bestCalcs.iterrows():\n",
    "    runname = row['runname']\n",
    "    pard_ = row['pard']\n",
    "    if pard_ is None:\n",
    "        print('empty',runname)\n",
    "        continue\n",
    "    pard = pard_.copy()\n",
    "    if 'fun' in pard:\n",
    "        del pard['fun']\n",
    "        del pard['nit']\n",
    "        del pard['nfev']        \n",
    "    \n",
    "    subj = row[\"subject\"]\n",
    "    print(rowi,len(bestCalcs), subj, runname)\n",
    "    df0 = dfcc_all_NIH_.query('trial_shift_size == 1 and '\n",
    "        'trial_group_col_calc == \"trials\" and '\n",
    "        'retention_factor_s == \"0.924\" and '\n",
    "        'subject == @subj').sort_values(['trials'])\n",
    "    pre_break_duration = df0['pre_break_duration'].values\n",
    "    error = df0['error_pscadj'].values * 180 / np.pi\n",
    "    perturb = df0['perturbation_pscadj'].values\n",
    "    \n",
    "    errors_ = interpnan(error.copy())  \n",
    "    #err_sens = np.interpnan(df0['err_sens'])  \n",
    "\n",
    "    use_true_errors = row['use_true_errors']\n",
    "    cap_err_sens = row['cap_err_sens']    \n",
    "    r = simMoE(-perturb,EC_mask=EC_mask,true_errors=errors_,\n",
    "                pre_break_duration=pre_break_duration,\n",
    "                **pard, cap_err_sens=cap_err_sens,\n",
    "               small_err_thr = row['small_err_thr'],\n",
    "               num_bases = row['num_bases'],\n",
    "        use_true_errors=use_true_errors)\n",
    "    \n",
    "    (motor_output,error_pred2,ws,err_sens2, \n",
    "        gaussian_centers,gaussian_variances) = r \n",
    "    \n",
    "    # fitmask should be 'no' here\n",
    "    #fun = calcLoss_H(errors_, error_pred2, err_sens, err_sens2, 'no', row['fit_to'])\n",
    "    #bestCalcs.loc[row,'fun_full'] = fun\n",
    "    \n",
    "    #if prep_plot:\n",
    "    _dat = np.array((motor_output,error_pred2,\n",
    "        err_sens2, np.arange(len(motor_output), dtype=int) ) )\n",
    "    df_ = pd.DataFrame(data=_dat.T, \n",
    "        columns = ['motor_output','error_pred2',\n",
    "                'err_sens2','trial_index'])\n",
    "            \n",
    "    df_['err_sens'] = df0['err_sens'].values\n",
    "    df_['error_pscadj_deg'] = df0['error_pscadj'].values * 180 / np.pi\n",
    "\n",
    "    for kn,kv in row.items():\n",
    "        df_[kn] = kv\n",
    "    dfr += [df_ ]\n",
    "dfr = pd.concat(dfr,ignore_index=1)\n",
    "\n",
    "dfr = dfr.sort_values(['runname'], ascending=False)\n",
    "\n",
    "runnames = dfr['runname'].unique()\n",
    "print(runnames)\n",
    "\n",
    "gc.collect()"
   ]
  },
  {
   "cell_type": "code",
   "execution_count": null,
   "id": "7e04d010",
   "metadata": {
    "hidden": true
   },
   "outputs": [],
   "source": [
    "pard0['err_sens']"
   ]
  },
  {
   "cell_type": "code",
   "execution_count": null,
   "id": "6e5f5e92",
   "metadata": {
    "hidden": true
   },
   "outputs": [],
   "source": [
    "bestCalcs.columns"
   ]
  },
  {
   "cell_type": "markdown",
   "id": "918c63b4",
   "metadata": {
    "hidden": true
   },
   "source": [
    "### new"
   ]
  },
  {
   "cell_type": "code",
   "execution_count": null,
   "id": "b96bb79e",
   "metadata": {
    "hidden": true
   },
   "outputs": [],
   "source": [
    "assert not bestCalcs.duplicated(['subject','runname']).any()\n",
    "from taumodels.models import calcLoss_H,interpnan\n",
    "\n",
    "ipython.run_line_magic('run', f'-i {script_name} '\n",
    "                    f'--subject {subjects_NIH[0]} '                    \n",
    "                    f'--exit_after init')"
   ]
  },
  {
   "cell_type": "code",
   "execution_count": null,
   "id": "71980b82",
   "metadata": {
    "hidden": true
   },
   "outputs": [],
   "source": [
    "dfr =[]\n",
    "for rowi,row in bestCalcs.query('runname.isin(@rns_best)').iterrows():\n",
    "#for rowi,row in bestCalcs.iterrows():    \n",
    "    pard = row['pard']\n",
    "    subj = row[\"subject\"]\n",
    "    \n",
    "    err_sens_pred   = pard['err_sens']\n",
    "    error_pred = pard['error_pred']    \n",
    "    \n",
    "    print(rowi,len(bestCalcs), subj, row['runname'])\n",
    "    df0 = dfcc_all_NIH_.query('trial_shift_size == 1 and '\n",
    "        'trial_group_col_calc == \"trials\" and '\n",
    "        'retention_factor_s == \"0.924\" and '\n",
    "        'subject == @subj').sort_values(['trials'])    \n",
    "    \n",
    "    _dat = np.array((error_pred,\n",
    "        err_sens_pred, np.arange(len(err_sens_pred), dtype=int) ) )\n",
    "    df_ = pd.DataFrame(data=_dat.T, \n",
    "        columns = ['error_pred2',\n",
    "                'err_sens2','trial_index'])\n",
    "            \n",
    "    df_['err_sens'] = df0['err_sens'].values\n",
    "    df_['error_pscadj_deg'] = df0['error_pscadj'].values * 180 / np.pi\n",
    "    \n",
    "    df_['errdif'] = (df_['error_pred2'] - df_['error_pscadj_deg']).abs()\n",
    "    \n",
    "    for kn,kv in row.items():\n",
    "        if kn in ['pard','arg','minres','err_sens','error_pred']:\n",
    "            continue\n",
    "        df_[kn] = kv\n",
    "    dfr += [df_ ]\n",
    "dfr = pd.concat(dfr,ignore_index=1)\n",
    "\n",
    "dfr = dfr.sort_values(['runname'], ascending=False)\n",
    "\n",
    "runnames = dfr['runname'].unique()\n",
    "print(runnames)\n",
    "\n",
    "gc.collect()"
   ]
  },
  {
   "cell_type": "code",
   "execution_count": null,
   "id": "e26ef9ce",
   "metadata": {
    "hidden": true
   },
   "outputs": [],
   "source": [
    "print( prl.subject.nunique(), dfr.subject.nunique(), len(runnames) )"
   ]
  },
  {
   "cell_type": "code",
   "execution_count": null,
   "id": "0daa0583",
   "metadata": {
    "hidden": true
   },
   "outputs": [],
   "source": [
    "# # alpha retetion, alpha w retention of weights, eta weight update speed\n",
    "# grp = bcs.groupby('runname')[pardkeys + ['fun_full','fun']] \n",
    "# me = grp.mean()#.mean(numeric_only = True)\n",
    "# me = me.sort_values(['fun_full'])\n",
    "# me['fun_full_diff'] = me['fun_full'].diff()\n",
    "# display(me.iloc[:20])"
   ]
  },
  {
   "cell_type": "markdown",
   "id": "f1887f13",
   "metadata": {
    "heading_collapsed": true
   },
   "source": [
    "# Plot "
   ]
  },
  {
   "cell_type": "code",
   "execution_count": null,
   "id": "71c7607f",
   "metadata": {
    "hidden": true
   },
   "outputs": [],
   "source": [
    "gc.collect()"
   ]
  },
  {
   "cell_type": "code",
   "execution_count": null,
   "id": "3adff777",
   "metadata": {
    "hidden": true
   },
   "outputs": [],
   "source": [
    "from IPython.display import display, HTML\n",
    "display(HTML(\"<style>.container { width:100% !important; }</style>\"))"
   ]
  },
  {
   "cell_type": "code",
   "execution_count": null,
   "id": "1f5cfce2",
   "metadata": {
    "code_folding": [],
    "hidden": true
   },
   "outputs": [],
   "source": [
    "def row2s(row):\n",
    "    sres =''\n",
    "    sres_l = []\n",
    "    for i,((a1,b1),(a2,b2)) in enumerate( zip(cols[1::2],cols[2::2]) ):\n",
    "        #print(i, a1,b1, a2,b2)    \n",
    "        c1,c2 = row[(a1,'mean')],row[(a1,'std')]\n",
    "        bb = c2/c1 * 100\n",
    "        a1 = a1.replace('forgetting_exp_pause','forget')\n",
    "        a1 = a1.replace('initial_sensitivity','ES0')\n",
    "        s = f'{a1}={c1:.3f} (std={bb:.2f}%)'\n",
    "        sres += s + '; '\n",
    "        if len(sres) > 60:\n",
    "            sres_l += [sres]\n",
    "            sres = ''\n",
    "        #print('      ' ,s)\n",
    "    sres_final = '\\n'.join(sres_l) \n",
    "    return sres_final\n",
    "    #print('\\n\\n')\n",
    "    #print('\\n'.join(sres_l) )"
   ]
  },
  {
   "cell_type": "code",
   "execution_count": null,
   "id": "655d5052",
   "metadata": {
    "code_folding": [
     0
    ],
    "hidden": true,
    "run_control": {
     "marked": false
    }
   },
   "outputs": [],
   "source": [
    "# plot\n",
    "#%debug\n",
    "import warnings\n",
    "trs = dfos.query('perturbation.diff().abs() > 0 and env == \"stable\"')['trials'].values\n",
    "\n",
    "ys = [['errdif'], ['error_pred2','error_pscadj_deg'], ['err_sens2'], ['err_sens']]\n",
    "\n",
    "for rn in rns_best:\n",
    "#for rn in list(runnames):#[2:]:\n",
    "    gc.collect()\n",
    "    df_ = dfr.query('runname == @rn').copy()# and fit_to == \"errors\"')\n",
    "    \n",
    "    row = desc_allsubj.loc[rn,cols]\n",
    "    ss = '\\n' + row2s(row)\n",
    "    print(rn,ss)\n",
    "    \n",
    "    if len(df_) == 0:\n",
    "        print('Emtpy for ',rn)\n",
    "        continue\n",
    "    with warnings.catch_warnings(record=True):\n",
    "        warnings.filterwarnings(\"ignore\",category=FutureWarning)\n",
    "        warnings.filterwarnings(\"ignore\",category=UserWarning)        \n",
    "        fg,df__ = relplot_multi(kind='line',data=df_,\n",
    "                x='trial_index',\n",
    "            ys=ys, \n",
    "            ylabel = ['errdiff','error','ES_opt','ES_true'],\n",
    "            ylim=[(0,40), (-50,50), (-0.01,0.15), (-2,2)], aspect = 2, \n",
    "                                height = 3,\n",
    "            facet_kws = {'sharex':True, 'sharey':False})\n",
    "\n",
    "        fg.refline(y=0)    \n",
    "        fg.refline(x=192)\n",
    "        fg.refline(x=192*2)\n",
    "        fg.refline(x=192*3)\n",
    "        fg.axes[2,0].axhline(y=row[('initial_sensitivity')]['mean'],\n",
    "                            color='grey',ls='--')\n",
    "        plt.suptitle(rn + '\\n' + ss, fontsize=10)    \n",
    "\n",
    "        for tr in trs:\n",
    "            fg.refline(x=tr) \n",
    "                \n",
    "                \n",
    "        plt.savefig(pjoin(path_fig, '_Herz_fit_to_ES', rn + '.pdf'))\n",
    "        print('   saved')\n",
    "        plt.close()\n",
    "        \n",
    "    del df__,df_\n",
    "    \n",
    "    print(rn)"
   ]
  },
  {
   "cell_type": "code",
   "execution_count": null,
   "id": "35a8bd58",
   "metadata": {
    "hidden": true
   },
   "outputs": [],
   "source": [
    "row"
   ]
  },
  {
   "cell_type": "code",
   "execution_count": null,
   "id": "963af080",
   "metadata": {
    "hidden": true
   },
   "outputs": [],
   "source": [
    "print(bestCalcs.query('runname == @rn').columns)"
   ]
  },
  {
   "cell_type": "code",
   "execution_count": null,
   "id": "7909feea",
   "metadata": {
    "hidden": true
   },
   "outputs": [],
   "source": [
    "rns_best"
   ]
  },
  {
   "cell_type": "code",
   "execution_count": null,
   "id": "0723d6fe",
   "metadata": {
    "hidden": true
   },
   "outputs": [],
   "source": [
    "# plot nice\n",
    "#%debug\n",
    "import warnings\n",
    "trs = dfos.query('perturbation.diff().abs() > 0 and env == \"stable\"')['trials'].values\n",
    "\n",
    "#ys = [['errdif'], ['error_pred2','error_pscadj_deg'], ['err_sens2'], ['err_sens']]\n",
    "ys = [['errdif'], ['error_pred2','error_pscadj_deg'], ['err_sens2']]\n",
    "\n",
    "for rn in np.array(rns_best)[[0,2]]:\n",
    "#for rn in rns_best[:2]:\n",
    "#for rn in list(runnames):#[2:]:\n",
    "    gc.collect()\n",
    "    df_ = dfr.query('runname == @rn').copy()# and fit_to == \"errors\"')\n",
    "    \n",
    "    ute,fitto = bestCalcs.query('runname == @rn').iloc[0][['use_true_errors','fit_to']]\n",
    "    \n",
    "    row = desc_allsubj.loc[rn,cols]\n",
    "    ss = '\\n' + row2s(row)\n",
    "    print(rn,ss)\n",
    "    \n",
    "    if len(df_) == 0:\n",
    "        print('Emtpy for ',rn)\n",
    "        continue\n",
    "    with warnings.catch_warnings(record=True):\n",
    "        warnings.filterwarnings(\"ignore\",category=FutureWarning)\n",
    "        warnings.filterwarnings(\"ignore\",category=UserWarning)        \n",
    "        fg,df__ = relplot_multi(sep_ys_by = 'hue', kind='line',data=df_,\n",
    "                x='trial_index',\n",
    "            ys=ys, \n",
    "            ylabel = ['Error discrepancy [deg]','Error [deg]','Simulated error sensitivity'],\n",
    "            ylim=[(-10,30), (-50,50), (-0.01,0.125)], aspect = 2, \n",
    "                                height = 3,\n",
    "            facet_kws = {'sharex':True, 'sharey':False}, ci='sd')\n",
    "\n",
    "        fg.refline(y=0)    \n",
    "        fg.refline(x=192)\n",
    "        fg.refline(x=192*2)\n",
    "        fg.refline(x=192*3)\n",
    "        fg.axes[2,0].axhline(y=row[('initial_sensitivity')]['mean'],\n",
    "                            color='grey',ls='--')\n",
    "        #if rn.find('u')\n",
    "        ttl0 = f'Use true history = {bool(ute)}'\n",
    "        #plt.suptitle(, fontsize=12)    \n",
    "        plt.suptitle(ttl0 + '\\n' + ss, fontsize=10)    \n",
    "\n",
    "        for tr in trs:\n",
    "            fg.refline(x=tr) \n",
    "                \n",
    "                \n",
    "        plt.savefig(pjoin(path_fig, '_Herz_fit_to_ES', rn + '.pdf'))\n",
    "        print('   saved')\n",
    "        #plt.close()\n",
    "        \n",
    "    del df__,df_\n",
    "    \n",
    "    print(rn)"
   ]
  },
  {
   "cell_type": "code",
   "execution_count": null,
   "id": "0cdcce9f",
   "metadata": {
    "hidden": true
   },
   "outputs": [],
   "source": []
  }
 ],
 "metadata": {
  "kernelspec": {
   "display_name": "merr3_mamba",
   "language": "python",
   "name": "merr3_mamba"
  },
  "language_info": {
   "codemirror_mode": {
    "name": "ipython",
    "version": 3
   },
   "file_extension": ".py",
   "mimetype": "text/x-python",
   "name": "python",
   "nbconvert_exporter": "python",
   "pygments_lexer": "ipython3",
   "version": "3.11.5"
  }
 },
 "nbformat": 4,
 "nbformat_minor": 5
}
