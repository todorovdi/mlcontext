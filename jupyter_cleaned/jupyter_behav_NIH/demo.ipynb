{
 "cells": [
  {
   "cell_type": "code",
   "execution_count": null,
   "id": "582250a8",
   "metadata": {},
   "outputs": [],
   "source": [
    "import pandas as pd\n",
    "import seaborn as sns\n",
    "from os.path import join as pjoin\n",
    "import numpy as np"
   ]
  },
  {
   "cell_type": "code",
   "execution_count": null,
   "id": "050ef2c2",
   "metadata": {},
   "outputs": [],
   "source": [
    "# df_tgt is equal to df_fb and this is okay because for decoding we need stuff \n",
    "# at the feedback anyway\n",
    "#\n",
    "p2 = '/home/demitau/data_Quentin/full_experiments/_export_Saxena/feedback.parquet'\n",
    "df_fb = pd.read_parquet(p2)\n",
    "\n",
    "p = '/home/demitau/data_Quentin/full_experiments/_export_Saxena/dfev_full.parquet'\n",
    "dfev_full = pd.read_parquet(p)\n",
    "\n",
    "p = '/home/demitau/data_Quentin/full_experiments/_export_Saxena/df_perframe.parquet'\n",
    "dfpf_full = pd.read_parquet(p)"
   ]
  },
  {
   "cell_type": "code",
   "execution_count": null,
   "id": "42593fab",
   "metadata": {},
   "outputs": [],
   "source": [
    "dfpf_full['jax1'].hist()\n",
    "#plt.plot()\n",
    "dfpf_full['jax2'].hist()"
   ]
  },
  {
   "cell_type": "code",
   "execution_count": null,
   "id": "468d0b6a",
   "metadata": {},
   "outputs": [],
   "source": [
    "#dfpf_full.groupby(['subject','trial_index','phase'])['error'].std()"
   ]
  },
  {
   "cell_type": "code",
   "execution_count": null,
   "id": "0b67b220",
   "metadata": {},
   "outputs": [],
   "source": [
    "#dfpf_full['nframe'] = np.arange(len(dfpf_full))"
   ]
  },
  {
   "cell_type": "code",
   "execution_count": null,
   "id": "a953825e",
   "metadata": {},
   "outputs": [],
   "source": [
    "# print rough info about dataset\n",
    "display(df_tgt.columns)\n",
    "for col in df_tgt.columns:\n",
    "    cu = df_tgt[col].unique()\n",
    "    cu_to_print = cu\n",
    "    if len(cu) > 10:\n",
    "        cu_to_print = f'len={len(cu)}'\n",
    "    print(f'{col:30}', cu_to_print)"
   ]
  },
  {
   "cell_type": "markdown",
   "id": "0b2c6e23",
   "metadata": {
    "heading_collapsed": true
   },
   "source": [
    "# read raw"
   ]
  },
  {
   "cell_type": "code",
   "execution_count": null,
   "id": "ad05258f",
   "metadata": {
    "hidden": true
   },
   "outputs": [],
   "source": [
    "import mne\n",
    "\n",
    "fnf = '/home/demitau/data_Quentin/full_experiments/data2/sub01_WGPOZPEE/raw_VisuoMotor_no_filter_with_ICA_broad.fif'\n",
    "raw  = mne.io.read_raw_fif(fnf)\n",
    "\n",
    "eyes_xy = ['UADC009-2104', 'UADC010-2104']\n",
    "raw.set_channel_types({eyes_xy[0]:'eog',eyes_xy[1]:'eog'})\n",
    "\n",
    "chnames_refmeg = ['BG1-1609', 'BG2-1609', 'BG3-1609', 'BP1-1609',\n",
    "                  'BP2-1609', 'BP3-1609', 'BR1-1609', 'BR2-1609',\n",
    "                  'BR3-1609', 'G11-1609', 'G12-1609', 'G13-1609', \n",
    "                  'G22-1609', 'G23-1609', 'P11-1609', 'P12-1609', \n",
    "                  'P22-1609', 'P23-1609', 'Q11-1609', 'Q12-1609', 'Q13-1609', 'Q22-1609', 'Q23-1609', \n",
    "                  'R11-1609', 'R12-1609', 'R13-1609', 'R22-1609', 'R23-1609']\n",
    "\n",
    "rawmeg = raw.pick(['meg','eog'], exclude=chnames_refmeg)\n",
    "chns = rawmeg.ch_names\n",
    "dat,times = rawmeg[chns]\n",
    "assert times[0] < 1e-6\n",
    "\n",
    "print( times.shape, dat.shape, rawmeg.info['sfreq'] )\n",
    "\n",
    "df = pd.DataFrame(dat.T, columns=chns)\n",
    "\n",
    "df['time'] = times\n",
    "df['nsample'] = np.arange(len(times))\n",
    "\n",
    "df = df.set_index('nsample');#"
   ]
  },
  {
   "cell_type": "code",
   "execution_count": null,
   "id": "13bf62fc",
   "metadata": {
    "hidden": true
   },
   "outputs": [],
   "source": [
    "#df.set_index?"
   ]
  },
  {
   "cell_type": "code",
   "execution_count": null,
   "id": "8b0d9f08",
   "metadata": {
    "hidden": true
   },
   "outputs": [],
   "source": [
    "path_data ='/home/demitau/data_Quentin/full_experiments/data2'"
   ]
  },
  {
   "cell_type": "code",
   "execution_count": null,
   "id": "dbe911de",
   "metadata": {
    "hidden": true
   },
   "outputs": [],
   "source": [
    "import os\n",
    "exp_dir = pjoin(os.path.dirname(path_data), '_export_Saxena') \n",
    "exp_fname = pjoin(exp_dir, f'MEG_data.parquet')\n",
    "df.to_parquet(exp_fname)#, compression = 'brotli')"
   ]
  },
  {
   "cell_type": "code",
   "execution_count": null,
   "id": "06775dcf",
   "metadata": {
    "hidden": true
   },
   "outputs": [],
   "source": [
    "#df_fb['trigger_nsample'].max() "
   ]
  },
  {
   "cell_type": "markdown",
   "id": "c672a3a1",
   "metadata": {},
   "source": [
    "# Align time"
   ]
  },
  {
   "cell_type": "code",
   "execution_count": null,
   "id": "35feeb1e",
   "metadata": {},
   "outputs": [],
   "source": [
    "dt = 1/rawmeg.info['sfreq']\n",
    "\n",
    "dfev_full = dfev_full.rename(columns={'sample':'nsample'})\n",
    "dfev_full['time'] = dfev_full['nsample'] * dt"
   ]
  },
  {
   "cell_type": "code",
   "execution_count": null,
   "id": "a999ea36",
   "metadata": {},
   "outputs": [],
   "source": [
    "# set time_since\n",
    "ti = dfpf_full.query('triggers_found').trials.min()\n",
    "print(ti)\n",
    "time_first_valid_REST_start = dfpf_full.query('trial_index == @ti and phase == \"REST_PHASE\"').time.min()\n",
    "print('time_first_valid_REST_start (in dfph)',time_first_valid_REST_start)\n",
    "dfpf_full['time_since'] = dfpf_full['time'] - time_first_valid_REST_start\n",
    "\n",
    "################################# \n",
    "rbeh = df_fb.query('trial_index == @ti' ).iloc[0]\n",
    "nframe = rbeh['nframe']\n",
    "nsample_fb = rbeh['trigger_nsample']\n",
    "print('nframe', nframe, 'nsampe_fb',nsample_fb)\n",
    "\n",
    "r = dfev_full.query('nsample <= @nsample_fb and phase == \"REST_PHASE\"').tail(1).iloc[0]\n",
    "time_first_valid_REST_start_ev = r['time']\n",
    "dfev_full['time_since'] = dfev_full['time'] - time_first_valid_REST_start_ev\n",
    "print('raw time of first valid rest = ',time_first_valid_REST_start_ev)\n",
    "\n",
    "df['time_since'] = df['time'] - time_first_valid_REST_start_ev"
   ]
  },
  {
   "cell_type": "code",
   "execution_count": null,
   "id": "170a22dd",
   "metadata": {},
   "outputs": [],
   "source": [
    "time_inside = 0.5 # hardcoded in exp task\n",
    "df_fb['time_REST']   = df_fb['time_prevprev_phase_start'] #- time_inside\n",
    "df_fb['time_REST_since']   = df_fb['time_REST'] - time_first_valid_REST_start\n",
    "df_fb['time_since2'] = df_fb['time'] - time_first_valid_REST_start\n",
    "\n",
    "# note that we cannot set up 'time_since from here to df_fb' because the shift in time is not constant\n",
    "#df_tgt['time_since'] = df_tgt['time_REST'] - time_first_valid_REST_start\n",
    "df_fb = df_fb.reset_index().set_index('nframe')\n",
    "df_fb['time_since'] = dfpf_full.set_index('nframe')['time_since']\n",
    "df_fb = df_fb.reset_index()"
   ]
  },
  {
   "cell_type": "markdown",
   "id": "77e28983",
   "metadata": {
    "heading_collapsed": true
   },
   "source": [
    "### dbg"
   ]
  },
  {
   "cell_type": "code",
   "execution_count": null,
   "id": "939d9b6b",
   "metadata": {
    "hidden": true
   },
   "outputs": [],
   "source": [
    "df_fb.query('trial_index == @ti' )[['nsample'] +df_fb.columns[-5:]]"
   ]
  },
  {
   "cell_type": "code",
   "execution_count": null,
   "id": "874a19dd",
   "metadata": {
    "hidden": true
   },
   "outputs": [],
   "source": [
    "if 'trigger_nsample' in df_fb.columns:\n",
    "    df_fb = df_fb.rename(columns={'trigger_nsample':'nsample'})\n",
    "if 'nsample' in df_fb.columns:\n",
    "    df_fb = df_fb.reset_index(drop=True).set_index('nsample')\n",
    "\n",
    "df_fb['time_meg']       = df['time']\n",
    "df_fb['time_since_meg'] = df['time_since'] \n",
    "\n",
    "df_fb = df_fb.reset_index()"
   ]
  },
  {
   "cell_type": "code",
   "execution_count": null,
   "id": "731da57e",
   "metadata": {
    "hidden": true
   },
   "outputs": [],
   "source": [
    "print(times[nsample_fb])\n",
    "cols_ = ['nframe','trial_index','target_inds','time','time_phase_start',\n",
    "                                 'time_since','time_REST']\n",
    "df_fb.reset_index(drop=True).query('nsample == @nsample_fb')[cols_]"
   ]
  },
  {
   "cell_type": "code",
   "execution_count": null,
   "id": "54924fa2",
   "metadata": {
    "hidden": true
   },
   "outputs": [],
   "source": [
    "dfev_full.query('nsample == @nsample_fb')[['time','phase']]"
   ]
  },
  {
   "cell_type": "code",
   "execution_count": null,
   "id": "af87c42e",
   "metadata": {
    "hidden": true
   },
   "outputs": [],
   "source": [
    "df.query('nsample == @nsample_fb')[['time','time_since']]"
   ]
  },
  {
   "cell_type": "code",
   "execution_count": null,
   "id": "1f2b6223",
   "metadata": {
    "hidden": true
   },
   "outputs": [],
   "source": [
    "dif = df_fb['time_meg'] - df_fb['time_REST']\n",
    "dif.describe()"
   ]
  },
  {
   "cell_type": "code",
   "execution_count": null,
   "id": "26126b2e",
   "metadata": {
    "hidden": true
   },
   "outputs": [],
   "source": [
    "dif = df_fb['time_since_meg'] - df_fb['time_since']\n",
    "dif.describe()"
   ]
  },
  {
   "cell_type": "code",
   "execution_count": null,
   "id": "7a161a31",
   "metadata": {
    "hidden": true
   },
   "outputs": [],
   "source": [
    "dif = df_fb['time_since_meg'] - df_fb['time_REST_since']\n",
    "dif.describe()"
   ]
  },
  {
   "cell_type": "markdown",
   "id": "f14f4faa",
   "metadata": {},
   "source": [
    "# Interpolate continuous variables to add to df"
   ]
  },
  {
   "cell_type": "code",
   "execution_count": null,
   "id": "152e5546",
   "metadata": {},
   "outputs": [],
   "source": [
    "new_time = df['time_since'].values\n",
    "\n",
    "cols = ['jax1','jax2','joyX','joyY'] + [\n",
    "    'feedbackX',\n",
    "    'feedbackY',\n",
    "    'org_feedbackX',\n",
    "    'org_feedbackY', 'traj_dist_from_center']\n",
    "\n",
    "# 'error_distance','feedbackX','feedbackY','org_feedbackX','org_feedbackY',\n",
    "# are calculated in the experiment script only in TARGET_PHASE\n",
    "# joyX,joyY are real-time positions of cursor, jax1,2 are real-time angles\n",
    "motor_outputs = ['jax1','jax2']\n",
    "perception = ['feedbackX','feedbackY']\n",
    "\n",
    "cols2 = ['nframe','trial_index']\n",
    "for col in cols + cols2:\n",
    "    #One-dimensional linear interpolation for monotonically increasing sample points.\n",
    "    df[col] = np.interp(new_time, dfpf_full['time_since'], dfpf_full[col])\n",
    "for col in cols2:\n",
    "    df[col] = df[col].round(0).astype(int)"
   ]
  },
  {
   "cell_type": "code",
   "execution_count": null,
   "id": "ff4b0f70",
   "metadata": {},
   "outputs": [],
   "source": [
    "# check alignment\n",
    "qs = 'time_since <= 20 and time_since >= 0'\n",
    "cols_plot = cols[:2]\n",
    "df.query(qs).plot(x='time_since',y=cols_plot, figsize=(7,2))\n",
    "dfpf_full.query(qs).plot(x='time_since',y=cols_plot, figsize=(7,2))\n",
    "\n",
    "qs = 'time_since <= 620 and time_since >= 600'\n",
    "cols_plot = cols[:2]\n",
    "df.query(qs).plot(x='time_since',y=cols_plot, figsize=(7,2))\n",
    "dfpf_full.query(qs).plot(x='time_since',y=cols_plot, figsize=(7,2))"
   ]
  },
  {
   "cell_type": "code",
   "execution_count": null,
   "id": "48ff5daa",
   "metadata": {
    "run_control": {
     "marked": true
    }
   },
   "outputs": [],
   "source": [
    "#df_fb['time_'] = pd.to_datetime(df_fb['time'])"
   ]
  },
  {
   "cell_type": "code",
   "execution_count": null,
   "id": "1e38467e",
   "metadata": {
    "code_folding": [
     0
    ]
   },
   "outputs": [],
   "source": [
    "# Create the new DataFrame with the desired time step\n",
    "time_new = np.arange(0, len(dt) ) * dt\n",
    "df_new = pd.DataFrame({'time': time_new})\n",
    "\n",
    "# Method to assign 'phase' values for the new DataFrame\n",
    "def assign_phase(row, df_old):\n",
    "    # Find the closest original time points before and after the new time\n",
    "    closest_before = df_old[df_old['time'] <= row['time']].tail(1).index[0]\n",
    "    closest_after = df_old[df_old['time'] >= row['time']].head(1).index[0]\n",
    "    \n",
    "    # If the new time point matches an original time point exactly, use its phase directly\n",
    "    if closest_before == closest_after:\n",
    "        return df_old.loc[closest_before, 'phase']\n",
    "    \n",
    "    # Otherwise, distribute phase value based on proximity to the closest original time points\n",
    "    phase_before = df_old.loc[closest_before, 'phase']\n",
    "    phase_after = df_old.loc[closest_after, 'phase']\n",
    "    \n",
    "    # For simplicity, we'll assign the phase of the closest time point\n",
    "    # This approach can be refined to consider a weighted distribution if needed\n",
    "    if row['time'] - df_old.loc[closest_before, 'time'] < df_old.loc[closest_after, 'time'] - row['time']:\n",
    "        return phase_before\n",
    "    else:\n",
    "        return phase_after\n",
    "\n",
    "# Assign 'phase' values to the new DataFrame\n",
    "df_new['phase'] = df_new.apply(assign_phase, axis=1, df_old=df)\n",
    "\n",
    "# Display the first few rows of the new DataFrame to verify\n",
    "df_new.head()\n"
   ]
  },
  {
   "cell_type": "markdown",
   "id": "6d909e9f",
   "metadata": {},
   "source": [
    "# Create input columns"
   ]
  },
  {
   "cell_type": "code",
   "execution_count": null,
   "id": "03341275",
   "metadata": {},
   "outputs": [],
   "source": [
    "dfev_full = dfev_full.reset_index()\n",
    "df = df.reset_index()"
   ]
  },
  {
   "cell_type": "code",
   "execution_count": null,
   "id": "91c42b2d",
   "metadata": {},
   "outputs": [],
   "source": [
    "#dfev_full"
   ]
  },
  {
   "cell_type": "code",
   "execution_count": null,
   "id": "a322c095",
   "metadata": {
    "run_control": {
     "marked": false
    }
   },
   "outputs": [],
   "source": [
    "if 'sample' in dfev_full:\n",
    "    dfev_full['nsample'] = dfev_full['sample']\n",
    "    dfev_full = dfev_full.drop(columns = ['sample'])\n",
    "dfev_full = dfev_full.set_index('nsample')\n",
    "\n",
    "dfev_full['israndom'] = dfev_full['code'] % 10 >= 5\n",
    "\n",
    "dfev_full['target_inds'] = -1\n",
    "c = dfev_full['phase'] == 'TARGET_PHASE'\n",
    "cs = c &  ~dfev_full['israndom']\n",
    "dfev_full.loc[cs,'target_inds']  = dfev_full.loc[cs,'code'] % 10\n",
    "\n",
    "cs = c &  dfev_full['israndom']\n",
    "dfev_full.loc[cs,'target_inds']  = dfev_full.loc[cs,'code'] % 10 - 5"
   ]
  },
  {
   "cell_type": "code",
   "execution_count": null,
   "id": "416c803d",
   "metadata": {},
   "outputs": [],
   "source": [
    "dfev_full['cursor_ON'] = dfev_full['phase'].isin(['FEEDBACK_PHASE'])\n",
    "# also if it is at home during REST. But this requires incorporating info from behav df\n",
    "# well, if have to do it anyway\n",
    "\n",
    "for tgt in range(4):\n",
    "    dfev_full[f'target{tgt}_ON'] = (dfev_full['target_inds'] == tgt) | \\\n",
    "        ( (dfev_full['phase'] == 'FEEDBACK_PHASE')  & (dfev_full['target_inds'].shift(1) == tgt)  )\n",
    "dfev_full['break_ON'] = dfev_full['phase'].isin(['BREAK_PHASE'])\n",
    "dfev_full['home_ON']  = dfev_full['phase'].isin(['REST_PHASE','FEEDBACK_PHASE','TARGET_PHASE'])"
   ]
  },
  {
   "cell_type": "code",
   "execution_count": null,
   "id": "d36d4757",
   "metadata": {},
   "outputs": [],
   "source": [
    "# import math\n",
    "# def point_in_circle(circle_center, point, circle_radius):                                                                                     \n",
    "#     d = math.sqrt(math.pow(point[0]-circle_center[0], 2) +                                                                                          \n",
    "#                  math.pow(point[1]-circle_center[1], 2))                                                                                           \n",
    "#     return d < circle_radius\n",
    "\n",
    "# def f(row):\n",
    "#     joyX,joyY = row['jax1'],row['jax2']\n",
    "#     point_in_circle(home_position, (joyX, joyY), radius_cursor * 5)   \n",
    "# df['cursor_ON_REST'] = df.apply(f,1)"
   ]
  },
  {
   "cell_type": "code",
   "execution_count": null,
   "id": "d8b6609d",
   "metadata": {},
   "outputs": [],
   "source": [
    "cols = [f'target{tgt}_ON' for tgt in range(4)] + ['cursor_ON', 'break_ON', 'home_ON']\n",
    "for col in cols:\n",
    "    df[col] = False\n",
    "\n",
    "#df['target_visible'] = dfev_full['target_visible']\n",
    "for col in cols:\n",
    "    df[col] = dfev_full[col]\n",
    "\n",
    "for col in cols:\n",
    "    df[col] = df[col].ffill().fillna(False)\n",
    "    #df[col] = df[col].fillna(False)\n",
    "\n",
    "df['phase'] = dfev_full['phase']\n",
    "df['phase'] = df['phase'].ffill().fillna(False)\n",
    "\n",
    "radius_cursor, radius_target = 8,12\n",
    "home_position = (400,400)\n",
    "\n",
    "hx,hy = home_position\n",
    "#df['cursor_ON_REST_cond'] = ((hx-df['org_feedbackX'])**2 + (hy-df['org_feedbackY'])**2) < radius_cursor * 5\n",
    "#df['traj_dist_from_center'] = ((hx-df['org_feedbackX'])**2 + (hy-df['org_feedbackY'])**2) < radius_cursor * 5\n",
    "df['cursor_ON_REST_cond'] = df['traj_dist_from_center'] < radius_cursor * 5\n",
    "\n",
    "df['cursor_ON_0'] = df['cursor_ON'] # just for debug\n",
    "df['cursor_ON'] = df['phase'].isin(['FEEDBACK_PHASE']) | \\\n",
    "    ( (df['phase'] == 'REST_PHASE') & df['cursor_ON_REST_cond'])  "
   ]
  },
  {
   "cell_type": "code",
   "execution_count": null,
   "id": "996ea09f",
   "metadata": {},
   "outputs": [],
   "source": [
    "df['phase'].isin(['FEEDBACK_PHASE']).sum() / rawmeg.info['sfreq']"
   ]
  },
  {
   "cell_type": "code",
   "execution_count": null,
   "id": "cbf3bf41",
   "metadata": {},
   "outputs": [],
   "source": [
    "df['cursor_ON'].sum() / rawmeg.info['sfreq'], df['cursor_ON_0'].sum() / rawmeg.info['sfreq']"
   ]
  },
  {
   "cell_type": "code",
   "execution_count": null,
   "id": "686e8a4d",
   "metadata": {},
   "outputs": [],
   "source": [
    "# print durations\n",
    "for col in cols:\n",
    "    d = len( df.query(col) ) / raw.info['sfreq']\n",
    "    print(col,d)"
   ]
  },
  {
   "cell_type": "code",
   "execution_count": null,
   "id": "ce21da6a",
   "metadata": {},
   "outputs": [],
   "source": [
    "# plot inputs\n",
    "for col in cols:\n",
    "    df[col+'_int'] = df[col].astype(int)\n",
    "colints = [col+'_int' for col in cols]\n",
    "\n",
    "qs = 'time >= 5 and time < 15'\n",
    "df_ = df.query(qs)\n",
    "df_.plot(x='time_since', y=['cursor_ON_int'], figsize=(7,2))  #colints)\n",
    "df_.plot(x='time_since', y=['target3_ON_int','target1_ON_int'], figsize=(7,2))  #colints)\n",
    "df_.plot(x='time_since', y=colints, figsize=(7,2))  #colints)"
   ]
  },
  {
   "cell_type": "markdown",
   "id": "8b6d26fe",
   "metadata": {},
   "source": [
    "I have a pandas DataFrame df with columns 'nsample','phase','target_inds' \n",
    "containing output of this experiment. Nsample is basically number of frame since the beginning of the run.\n",
    "nsample is continuos stream of intergers from 0 to N.\n",
    "phase is one of several strings. \n",
    "Target_inds is one of several integers: -1,0,2,3,4. Here -1 means invalid value.\n",
    "    \n",
    "Possible phase values are REST_PHASE then TARGET_PHASE then FEEDBACK_PHASE then ITI_PHASE and BREAK_PHASE. \n",
    "The sequence they appear in is REST_PHASE then TARGET_PHASE then FEEDBACK_PHASE then ITI_PHASE and then again REST_PHASE and so on.\n",
    "Thre are also 4 rows with phase = BREAK_PHASE. \n",
    "Cursor is visible only during FEEDBACK_PHASE\n",
    "Target is visible during both TARGET_PHASE and FEEDBACK_PHASE.\n",
    "\n",
    "I want to create new columns: 'cursor_ON', 'target1_ON','target2_ON','target3_ON','target4_ON','break_ON'. \n",
    "cursor_ON should contain True only if the cursor is visible at this sample\n",
    "target1_ON should contain True only if the the target is visible at this sample and the last target_inds was equal to 1\n",
    "and so on"
   ]
  },
  {
   "cell_type": "code",
   "execution_count": null,
   "id": "ec6ee867",
   "metadata": {},
   "outputs": [],
   "source": []
  },
  {
   "cell_type": "raw",
   "id": "d370b892",
   "metadata": {},
   "source": [
    "   one row = one trial\n",
    "ATEOTR = at the end of the reach\n",
    "_pscadj suffix means that sign was adjusted so align subjects with different pert_seq_code\n",
    "\n",
    "trial_index  -- index of the current trials\n",
    "target_inds  -- index of the target \n",
    "perturbation  -- float perturbation size and direction, in degrees\n",
    "jax1  -- joystick angle 1 ATEOTR\n",
    "jax2  -- joystick angle 2 ATEOTR\n",
    "error_distance  -- distance to the target ATEOTR\n",
    "time  -- time.time() in seconds from the start of the task\n",
    "env  -- environment (stable or random)\n",
    "target_locs  -- target angle in radians, counted from South CCW\n",
    "org_feedbackX  -- cursor location without perturbation applied ATEOT\n",
    "org_feedbackY  -- cursor location without perturbation applied ATEOT\n",
    "org_feedback  -- cursor angle without perturbation applied ATEOT\n",
    "feedbackX  -- cursor location with perturbation applied ATEOT\n",
    "feedbackY  -- cursor location with perturbation applied ATEOT\n",
    "feedback  -- cursor angle in radians with perturbation applied ATEOT\n",
    "error  -- anglular error in radians\n",
    "belief  -- \n",
    "RT  -- reaction time in seconds (first time when cursor exist 'home' circle)\n",
    "reltime_start_tgt_phase  -- delay of tgt appearance after trial start   \n",
    "  \n",
    "pre_break_duration  --  duration of the pause before the trial if it was there\n",
    "was_pre_break  -- bool if there was a pause before this trial\n",
    "trial_type  -- veridical or perturbation feedback \n",
    "home_duration  --  how much was spend at home, in seconds\n",
    "movement_duration  -- in seconds\n",
    "trial_duration  -- total trial duration in seconds\n",
    "ITI_duration  -- inter trial interval duration in seconds (there is a bit of jitter)\n",
    "mtime  -- time of file creation\n",
    "dist_trial_from_prevtgt  -- how far in the past did we encounter the same target \n",
    "dist_rad_from_prevtgt  -- how far was the (immediately) previous target, in radians (in string format for easlier grouping)\n",
    "distsgn_rad_from_prevtgt  -- same, but signed angle (in string format for easlier grouping)\n",
    "pert_seq_code  -- whether fist stable pert is +30 or -30 (there are two subject groups)\n",
    "block_name  -- ['stable1' 'random1' 'stable2' 'random2']\n",
    "trialwb  -- index of trial within block\n",
    "trialwe  -- index of trial within environment (jumps over other block when counts)\n",
    "pert_stage_wb  -- perturbation stage index within block (NaN for random trials)\n",
    "pert_stage  -- perturbation stage index global (across blocks) (NaN for random trials)\n",
    "\n",
    "error_deg  -- error in degrees\n",
    "error_pscadj  -- error in radians\n",
    "perturbation_pscadj  --  perturbation in degrees  pert_seq_code\n",
    "org_feedback_pscadj  -- \n",
    "error_pscadj_pertstageadj  -- \n",
    "\n",
    "non_hit_not_adj  -- whether participants hit the target in the end of the trial (just came close enough to it)\n",
    "trial_shift_size  --  normally should be 1 for you (otherwise I send you the wrong dataset), ignore it\n",
    "\n",
    "time_locked  -- whether nsample is aligend to feedback presentation or to target presentation\n",
    "err_sens  -- empirical error sensitivity (see Herzfeld paper)\n",
    "trial_group_col_calc  -- normally should be 'trialwe' for you (otherwise I send you the wrong dataset), ignore it\n",
    "\n",
    "prev_error  -- error on previous trial, in radians\n",
    "\n",
    "retention_factor  -- some parameter used for err_sens computation, perhaps ignore it for now\n",
    "\n",
    "error_initstd -- standard deviation of error on for the zero perturabation trials\n",
    "\n",
    "trigger_present  -- trigger arrived (should be True for all of the trials in this dataset)\n",
    "trigger_nsample  -- index of the sample (to be used to align with the MEG data)\n",
    "\n",
    "   many different ways to counting trials, perhaps ignore for now\n",
    "trialwpertstage_wb  -- trial within perturbation stage within block\n",
    "trialwpert_wb  -- \n",
    "trialwpert_we  -- \n",
    "trialwtgt  -- \n",
    "trialwtgt_wpert_wb  -- \n",
    "trialwtgt_wpertstage_wb  -- \n",
    "trialwtgt_wpertstage_we  -- \n",
    "trialwtgt_wpert_we  -- \n",
    "trialwtgt_we  -- \n",
    "trialwtgt_wb  -- \n",
    "trialwpert  -- \n",
    "trialwtgt_wpert  -- "
   ]
  },
  {
   "cell_type": "markdown",
   "id": "725f84c6",
   "metadata": {},
   "source": [
    "# plots"
   ]
  },
  {
   "cell_type": "code",
   "execution_count": null,
   "id": "9c0f1208",
   "metadata": {},
   "outputs": [],
   "source": [
    "df_fb.plot(x='trial_index',y=['error_deg','perturbation'])"
   ]
  },
  {
   "cell_type": "code",
   "execution_count": null,
   "id": "ee54f527",
   "metadata": {},
   "outputs": [],
   "source": []
  }
 ],
 "metadata": {
  "kernelspec": {
   "display_name": "merr3_mamba",
   "language": "python",
   "name": "merr3_mamba"
  },
  "language_info": {
   "codemirror_mode": {
    "name": "ipython",
    "version": 3
   },
   "file_extension": ".py",
   "mimetype": "text/x-python",
   "name": "python",
   "nbconvert_exporter": "python",
   "pygments_lexer": "ipython3",
   "version": "3.11.5"
  }
 },
 "nbformat": 4,
 "nbformat_minor": 5
}
