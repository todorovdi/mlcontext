{
 "cells": [
  {
   "cell_type": "code",
   "execution_count": null,
   "id": "4bf42d0d",
   "metadata": {},
   "outputs": [],
   "source": [
    "%load_ext autoreload\n",
    "%autoreload 2"
   ]
  },
  {
   "cell_type": "code",
   "execution_count": null,
   "id": "0792e820",
   "metadata": {},
   "outputs": [],
   "source": [
    "# NIH data\n",
    "%load_ext autoreload\n",
    "%autoreload 2\n",
    "\n",
    "import os\n",
    "import pandas as pd\n",
    "import matplotlib.pyplot as plt\n",
    "import matplotlib as mpl\n",
    "import seaborn as sns\n",
    "\n",
    "ipy = get_ipython()\n",
    "#data_dir_general = '/home/demitau/data_Quentin'\n",
    "#data_subdir_mem_err_main = 'full_experiments/data2'\n",
    "from os.path import join as pjoin\n",
    "#data_dir_input = pjoin(data_dir_general,data_subdir_mem_err_main)\n",
    "\n",
    "\n",
    "#data_dir_general = '/home/demitau/data_Quentin'\n",
    "#data_subdir_mem_err_main = 'full_experiments/data2'\n",
    "#data_dir_input = pjoin(data_dir_general,data_subdir_mem_err_main)\n",
    "#scripts_dir = pjoin(data_dir_general,'full_experiments','scripts2')\n",
    "\n",
    "import os,sys; sys.path.append(os.path.expandvars('$CODE_MEMORY_ERRORS'))\n",
    "data_dir_general = os.path.expandvars('$DATA_QUENTIN')\n",
    "data_dir_input = os.path.expandvars('$DATA_MEMORY_ERRORS_STAB_AND_STOCH')\n",
    "scripts_dir = pjoin( os.path.expandvars('$CODE_MEMORY_ERRORS'), 'previous_analyses')\n",
    "\n",
    "\n",
    "print(data_dir_input, scripts_dir)\n",
    "\n",
    "subjects = [f for f in os.listdir(data_dir_input) if f.startswith('sub') ]\n",
    "subjects = list(sorted(subjects))\n",
    "print(subjects)\n",
    "\n",
    "from config2 import *\n",
    "\n",
    "from base2 import (width, height, radius, calc_target_coordinates_centered,\n",
    "                  calc_rad_angle_from_coordinates)\n",
    "\n",
    "import numpy as np\n",
    "target_angs = (np.array([157.5, 112.5, 67.5, 22.5]) + 90) * \\\n",
    "              (np.pi/180)\n",
    "target_coords = calc_target_coordinates_centered(target_angs)"
   ]
  },
  {
   "cell_type": "code",
   "execution_count": null,
   "id": "38250afc",
   "metadata": {},
   "outputs": [],
   "source": [
    "assert sns.__version__ == '0.12.2', sns.__version__"
   ]
  },
  {
   "cell_type": "code",
   "execution_count": null,
   "id": "bebd2cf9",
   "metadata": {},
   "outputs": [],
   "source": [
    "COLOR = 'black'\n",
    "mpl.rcParams['text.color'] = COLOR\n",
    "mpl.rcParams['axes.labelcolor'] = COLOR\n",
    "mpl.rcParams['xtick.color'] = COLOR\n",
    "mpl.rcParams['ytick.color'] = COLOR\n",
    "\n",
    "\n",
    "sns.set(rc={'axes.facecolor':'white', 'figure.facecolor':'white',\n",
    "           'grid.color':'grey', 'grid.alpha':0.5})\n",
    "\n",
    "tgtc = ['b','g','r','brown']"
   ]
  },
  {
   "cell_type": "markdown",
   "id": "36805c1d",
   "metadata": {},
   "source": [
    "# init"
   ]
  },
  {
   "cell_type": "markdown",
   "id": "ccdd6c42",
   "metadata": {
    "heading_collapsed": true
   },
   "source": [
    "## per subj sep"
   ]
  },
  {
   "cell_type": "code",
   "execution_count": null,
   "id": "e3ab9569",
   "metadata": {
    "hidden": true
   },
   "outputs": [],
   "source": [
    "from behav_proc import *\n",
    "\n",
    "behav_df_all = []\n",
    "#or subj in subjects[:4]:#[si]\n",
    "for subj in subjects: #[:1]:#[si]\n",
    "    behav_data_dir = pjoin(data_dir_input,'behavdata')\n",
    "    #behavdata\n",
    "    task = 'VisuoMotor'\n",
    "    fname = pjoin(path_data, subj, 'behavdata',\n",
    "                    f'behav_{task}_df.pkl' )\n",
    "    # where we would save cleaned df\n",
    "    fname_EC = pjoin(path_data, subj, 'behavdata',\n",
    "                    f'behav_{task}_df_EC.pkl' )\n",
    "    behav_df_full = pd.read_pickle(fname)\n",
    "\n",
    "    behav_df = pd.read_pickle(fname)\n",
    "    behav_df['subject'] = subj\n",
    "    addBehavCols(behav_df)\n",
    "    \n",
    "    behav_df_all += [behav_df]\n",
    "    \n",
    "behav_df_all = pd.concat(behav_df_all)\n",
    "# behav_df_all['correction'] = None\n",
    "# behav_df_all['err_sens'] = None\n",
    "df_all = behav_df_all.reset_index()"
   ]
  },
  {
   "cell_type": "code",
   "execution_count": null,
   "id": "76b291f8",
   "metadata": {
    "hidden": true
   },
   "outputs": [],
   "source": [
    "behav_df.groupby('block_name')['trials'].min().to_dict()"
   ]
  },
  {
   "cell_type": "code",
   "execution_count": null,
   "id": "1419263f",
   "metadata": {
    "hidden": true
   },
   "outputs": [],
   "source": [
    "behav_df.duplicated(['subject','trials']).any()"
   ]
  },
  {
   "cell_type": "markdown",
   "id": "7b5a1ddc",
   "metadata": {},
   "source": [
    "## together"
   ]
  },
  {
   "cell_type": "code",
   "execution_count": null,
   "id": "de3fb105",
   "metadata": {},
   "outputs": [],
   "source": [
    "from behav_proc import *\n",
    "\n",
    "behav_df_all = []\n",
    "#or subj in subjects[:4]:#[si]\n",
    "for subj in subjects:\n",
    "    behav_data_dir = pjoin(data_dir_input,'behavdata')\n",
    "    #behavdata\n",
    "    task = 'VisuoMotor'\n",
    "    fname = pjoin(path_data, subj, 'behavdata',\n",
    "                    f'behav_{task}_df.pkl' )\n",
    "    # where we would save cleaned df\n",
    "    fname_EC = pjoin(path_data, subj, 'behavdata',\n",
    "                    f'behav_{task}_df_EC.pkl' )\n",
    "    behav_df_full = pd.read_pickle(fname)\n",
    "\n",
    "    behav_df = pd.read_pickle(fname)\n",
    "    behav_df['subject'] = subj\n",
    "    \n",
    "    behav_df_all += [behav_df]\n",
    "    \n",
    "behav_df_all = pd.concat(behav_df_all)\n",
    "# behav_df_all['correction'] = None\n",
    "# behav_df_all['err_sens'] = None\n",
    "df_all = behav_df_all.reset_index()"
   ]
  },
  {
   "cell_type": "code",
   "execution_count": null,
   "id": "1fe65687",
   "metadata": {},
   "outputs": [],
   "source": [
    "behav_df_all.to_pickle(pjoin(path_data,'df_all_3.09.23.pkl.zip') , compression='zip')"
   ]
  },
  {
   "cell_type": "code",
   "execution_count": null,
   "id": "c9396264",
   "metadata": {},
   "outputs": [],
   "source": [
    "#%debug\n",
    "import sys, traceback\n",
    "try:\n",
    "    addBehavCols(df_all)\n",
    "except Exception as e:\n",
    "    exc_info = sys.exc_info()\n",
    "    exc = traceback.TracebackException(*exc_info, capture_locals=True)\n",
    "    \n",
    "    \n",
    "    stackframe = exc_info[2].tb_next.tb_frame\n",
    "    local_vars_in_fun = stackframe.f_locals\n",
    "    display(exc_info, stackframe)\n",
    "    print('line num = ',exc_info[2].tb_next.tb_lineno)\n"
   ]
  },
  {
   "cell_type": "markdown",
   "id": "88d885d2",
   "metadata": {},
   "source": [
    "## Continue init"
   ]
  },
  {
   "cell_type": "code",
   "execution_count": null,
   "id": "b5463bad",
   "metadata": {},
   "outputs": [],
   "source": [
    "pertvals = list( df_all['perturbation'].unique() )\n",
    "pertvals = list(pertvals) + [None]\n",
    "\n",
    "envs = ['stable','random','all']\n",
    "#envs = ['stable','random']\n",
    "tgt_inds_all = list( df_all['target_inds'].unique() )  + [None]\n",
    "#tgt_inds_all = list( df_all['target_inds'].unique() )  \n",
    "#tgt_inds_all = [None]\n",
    "#tgt_inds_all = [1]\n",
    "nsubj = df_all['subject'].nunique()\n",
    "\n",
    "#subj_list = subjects[:2]\n",
    "#subj_list = ['mean'] \n",
    "#subj_list = subjects[:2] + ['mean']\n",
    "subj_list = subjects\n",
    "\n",
    "respect_trial_inds = True\n",
    "ww = 6; hh = 3\n",
    "nr = len(subj_list) * len(pertvals)\n",
    "nc = len(envs)\n",
    "\n",
    "from figure.plot_behav2 import *\n",
    "# for envi,env in enumerate(envs):\n",
    "#     for pertv in pertvals:\n",
    "#         if (env,pertv) not in allowed_env_pert_combin:\n",
    "#             print('skipping',env,pertv)\n",
    "#         for tgti in tgt_inds_all:\n",
    "#             coln = getColn(pertv,tgti,env)\n",
    "#             #print(coln)\n",
    "#             #print(len(df_all[coln]))\n",
    "#             df_all[coln]    = [np.nan] * len(df_all)"
   ]
  },
  {
   "cell_type": "markdown",
   "id": "c305640b",
   "metadata": {
    "heading_collapsed": true
   },
   "source": [
    "#### supp plots"
   ]
  },
  {
   "cell_type": "code",
   "execution_count": null,
   "id": "2d5f066d",
   "metadata": {
    "hidden": true
   },
   "outputs": [],
   "source": [
    "sns.pairplot(data=df_all, vars=['trials','RT'])"
   ]
  },
  {
   "cell_type": "code",
   "execution_count": null,
   "id": "6b6ca2f9",
   "metadata": {
    "hidden": true
   },
   "outputs": [],
   "source": [
    "bn2trial_st = {'stable1': [0, 24, 84, 108, 168, 192], 'stable2': [384, 408, 468, 492, 552, 576]}"
   ]
  },
  {
   "cell_type": "code",
   "execution_count": null,
   "id": "8cb90a3b",
   "metadata": {
    "hidden": true
   },
   "outputs": [],
   "source": [
    "df_all['pert_stage_wb']"
   ]
  },
  {
   "cell_type": "code",
   "execution_count": null,
   "id": "c1c4fb08",
   "metadata": {
    "hidden": true
   },
   "outputs": [],
   "source": [
    "\n",
    "\n",
    "df_all['trialwpert_wb'] = df_all.apply(f,1)\n"
   ]
  },
  {
   "cell_type": "code",
   "execution_count": null,
   "id": "8fe20f51",
   "metadata": {
    "hidden": true
   },
   "outputs": [],
   "source": [
    "#subjects =df_all['subject'].unique()\n",
    "df = df_all\n",
    "dfc = df.query('subject == @subjects[0]')\n",
    "\n",
    "\n",
    "#dfc.plot?\n",
    "\n",
    "for col in ['trialwpert_wb', 'trialwtgt_wpert_wb', 'trialwpertstage_wb',\n",
    "           'trialwtgt_wpertstage_wb', 'trialwtgt_wpertstage_we']:\n",
    "    if 'wtgt' in col:\n",
    "        df_ = dfc.query('target_inds == 0')\n",
    "    else:\n",
    "        df_ = dfc\n",
    "    #plt.figure(figsize=(13,3))\n",
    "    ax = df_.plot(x='trials',y=[col,'pert_stage_wb'], figsize=(10,3))\n",
    "    ax.set_title(col)\n",
    "    ax.legend(loc='upper left')\n",
    "    \n",
    "    "
   ]
  },
  {
   "cell_type": "code",
   "execution_count": null,
   "id": "8a55377f",
   "metadata": {
    "hidden": true
   },
   "outputs": [],
   "source": [
    "behav_df['trials'].max()"
   ]
  },
  {
   "cell_type": "code",
   "execution_count": null,
   "id": "e11f8509",
   "metadata": {
    "hidden": true
   },
   "outputs": [],
   "source": [
    "local_vars_in_fun['bn2trial_st']"
   ]
  },
  {
   "cell_type": "code",
   "execution_count": null,
   "id": "80f00e01",
   "metadata": {
    "hidden": true
   },
   "outputs": [],
   "source": [
    "tcn = local_vars_in_fun['tcn']\n",
    "print(local_vars_in_fun['tmax'], tcn)\n",
    "local_vars_in_fun['df_all'][tcn].max()"
   ]
  },
  {
   "cell_type": "code",
   "execution_count": null,
   "id": "51a3d689",
   "metadata": {
    "hidden": true
   },
   "outputs": [],
   "source": [
    "#df_all.to_pickle( pjoin(path_fig, 'output_intermed.gzip'),'gzip')"
   ]
  },
  {
   "cell_type": "code",
   "execution_count": null,
   "id": "56ff95f1",
   "metadata": {
    "hidden": true
   },
   "outputs": [],
   "source": [
    "for col in ['trialwpert_wb', 'trialwtgt_wpert_wb', 'trialwpertstage_wb',\n",
    "           'trialwtgt_wpertstage_wb', 'trialwtgt_wpertstage_we']:\n",
    "    for pert in [0.,30,-30.]:\n",
    "        mx = df_all.query('perturbation == @pert')[col].max()\n",
    "        print(f'{col:20}, pert={pert:3.0f},   mx={mx:5.0f}')"
   ]
  },
  {
   "cell_type": "code",
   "execution_count": null,
   "id": "c7106eef",
   "metadata": {
    "hidden": true
   },
   "outputs": [],
   "source": [
    "print( df_['pert_stage_wb'].unique() )"
   ]
  },
  {
   "cell_type": "code",
   "execution_count": null,
   "id": "2411202c",
   "metadata": {
    "hidden": true
   },
   "outputs": [],
   "source": [
    "df_['pert_stage_wb'].astype(int)"
   ]
  },
  {
   "cell_type": "code",
   "execution_count": null,
   "id": "1bca6c85",
   "metadata": {
    "hidden": true
   },
   "outputs": [],
   "source": [
    "df_['block_name'].unique(), df_['perturbation'].unique()"
   ]
  },
  {
   "cell_type": "code",
   "execution_count": null,
   "id": "aeadd243",
   "metadata": {
    "hidden": true
   },
   "outputs": [],
   "source": [
    "sns.lineplot?"
   ]
  },
  {
   "cell_type": "code",
   "execution_count": null,
   "id": "fcc06f18",
   "metadata": {
    "hidden": true
   },
   "outputs": [],
   "source": []
  },
  {
   "cell_type": "code",
   "execution_count": null,
   "id": "7c82de32",
   "metadata": {
    "hidden": true
   },
   "outputs": [],
   "source": [
    "sum(c)"
   ]
  },
  {
   "cell_type": "code",
   "execution_count": null,
   "id": "457a526c",
   "metadata": {
    "hidden": true
   },
   "outputs": [],
   "source": [
    "df_ = df_all[~df_all['pert_stage_wb'].isna() ].copy()#.query('trial_shift_size == 1')\n",
    "df_['pert_stage_wb'] = df_['pert_stage_wb'].astype(int)#.astype('category')\n",
    "#df_ = df_.query('pert_stage_wb in [1,3]')\n",
    "df_ = df_.query('pert_stage_wb in [1,3]')\n",
    "print( df_['pert_stage_wb'].unique() )\n",
    "sns.lineplot(data=df_, y ='error_pscadj_pertstageadj', \n",
    "             #x = 'trialwpertstage_wb',\n",
    "             x = 'trialwpertstage_wb',\n",
    "            hue = 'pert_stage')"
   ]
  },
  {
   "cell_type": "code",
   "execution_count": null,
   "id": "77fbd083",
   "metadata": {
    "hidden": true,
    "run_control": {
     "marked": false
    }
   },
   "outputs": [],
   "source": []
  },
  {
   "cell_type": "code",
   "execution_count": null,
   "id": "30abcdc5",
   "metadata": {
    "hidden": true
   },
   "outputs": [],
   "source": [
    "df_ = df_all[~df_all['pert_stage_wb'].isna() ].copy()#.query('trial_shift_size == 1')\n",
    "df_['pert_stage_wb'] = df_['pert_stage_wb']#.astype('category')\n",
    "df_ = df_.query('pert_stage_wb in [1,3]')\n",
    "sns.lineplot(data=df_, y ='error_pscadj_pertstageadj', x = 'trialwtgt_wpertstage_wb',\n",
    "            hue = 'pert_stage')"
   ]
  },
  {
   "cell_type": "code",
   "execution_count": null,
   "id": "866112f4",
   "metadata": {
    "hidden": true
   },
   "outputs": [],
   "source": [
    "df_ = df_all[~df_all['pert_stage_wb'].isna() ].copy()#.query('trial_shift_size == 1')\n",
    "df_['pert_stage_wb'] = df_['pert_stage_wb']#.astype('category')\n",
    "df_ = df_.query('pert_stage_wb in [0,2,4]')\n",
    "#df_['pert_stage_wb'] = df_['pert_stage_wb'].astype('category')\n",
    "print( df_['pert_stage_wb'].unique() )\n",
    "sns.lineplot(data=df_, y ='error_pscadj_pertstageadj', x = 'trialwpertstage_wb',\n",
    "            hue = 'pert_stage')\n",
    "# sns.relplot(data=df_, kind='line', y ='error', x = 'trialwpertstage_wb',\n",
    "#             row = 'pert_stage_wb')"
   ]
  },
  {
   "cell_type": "code",
   "execution_count": null,
   "id": "b2a819a5",
   "metadata": {
    "hidden": true
   },
   "outputs": [],
   "source": [
    "df_ = df_all[~df_all['pert_stage_wb'].isna() ].copy()#.query('trial_shift_size == 1')\n",
    "df_['pert_stage_wb'] = df_['pert_stage_wb']#.astype('category')\n",
    "df_ = df_.query('pert_stage_wb in [0,2,4]')\n",
    "sns.lineplot(data=df_, y ='error_pscadj_pertstageadj', x = 'trialwtgt_wpertstage_wb',\n",
    "            hue = 'pert_stage')"
   ]
  },
  {
   "cell_type": "code",
   "execution_count": null,
   "id": "71bdc3ad",
   "metadata": {
    "hidden": true
   },
   "outputs": [],
   "source": [
    "df_all['trialwpert_wb'].max()"
   ]
  },
  {
   "cell_type": "code",
   "execution_count": null,
   "id": "f997bf9c",
   "metadata": {
    "hidden": true
   },
   "outputs": [],
   "source": [
    "df_all['trialwtgt_wpert']"
   ]
  },
  {
   "cell_type": "code",
   "execution_count": null,
   "id": "9d8863ee",
   "metadata": {
    "hidden": true
   },
   "outputs": [],
   "source": [
    "from error_sensitivity import computeErrSens2\n",
    "\n"
   ]
  },
  {
   "cell_type": "code",
   "execution_count": null,
   "id": "6cae553e",
   "metadata": {
    "hidden": true
   },
   "outputs": [],
   "source": [
    "behav_df"
   ]
  },
  {
   "cell_type": "markdown",
   "id": "fbec8837",
   "metadata": {},
   "source": [
    "# Prepare plotting (calc err sens in different ways)"
   ]
  },
  {
   "cell_type": "markdown",
   "id": "bac8df97",
   "metadata": {
    "heading_collapsed": true
   },
   "source": [
    "#### debug"
   ]
  },
  {
   "cell_type": "code",
   "execution_count": null,
   "id": "7c65ed30",
   "metadata": {
    "hidden": true
   },
   "outputs": [],
   "source": [
    "len(err_sens_nh) == len(trial_inds_nh)"
   ]
  },
  {
   "cell_type": "code",
   "execution_count": null,
   "id": "e56257e5",
   "metadata": {
    "hidden": true
   },
   "outputs": [],
   "source": [
    "df_all.loc[trial_inds_nh,'err_sens_perenv']"
   ]
  },
  {
   "cell_type": "code",
   "execution_count": null,
   "id": "13ebcb23",
   "metadata": {
    "hidden": true
   },
   "outputs": [],
   "source": [
    "np.any(~np.isnan(df_all['err_sens_perenv'] ) )"
   ]
  },
  {
   "cell_type": "code",
   "execution_count": null,
   "id": "17b23b86",
   "metadata": {
    "hidden": true
   },
   "outputs": [],
   "source": [
    "df_all.loc[trial_inds_nh,'err_sens_perenv'] = df_esv_nh['err_sens']"
   ]
  },
  {
   "cell_type": "code",
   "execution_count": null,
   "id": "056bdde1",
   "metadata": {
    "hidden": true
   },
   "outputs": [],
   "source": [
    "df_all.loc[trial_inds_nh,'err_sens_perenv'] = err_sens_nh"
   ]
  },
  {
   "cell_type": "code",
   "execution_count": null,
   "id": "2352f5f6",
   "metadata": {
    "hidden": true
   },
   "outputs": [],
   "source": [
    "df_all.loc[trial_inds_nh,'err_sens_perenv']"
   ]
  },
  {
   "cell_type": "code",
   "execution_count": null,
   "id": "49d98640",
   "metadata": {
    "hidden": true
   },
   "outputs": [],
   "source": [
    "help( np.mean )"
   ]
  },
  {
   "cell_type": "code",
   "execution_count": null,
   "id": "76d7e250",
   "metadata": {
    "hidden": true
   },
   "outputs": [],
   "source": []
  },
  {
   "cell_type": "code",
   "execution_count": null,
   "id": "09eeaa08",
   "metadata": {
    "hidden": true
   },
   "outputs": [],
   "source": [
    "df_all"
   ]
  },
  {
   "cell_type": "code",
   "execution_count": null,
   "id": "2719f2f3",
   "metadata": {
    "hidden": true
   },
   "outputs": [],
   "source": [
    "df[['trials',coln]]#.groupby('trials').count()"
   ]
  },
  {
   "cell_type": "code",
   "execution_count": null,
   "id": "a7989aa3",
   "metadata": {
    "hidden": true
   },
   "outputs": [],
   "source": []
  },
  {
   "cell_type": "code",
   "execution_count": null,
   "id": "416eb9ac",
   "metadata": {
    "hidden": true
   },
   "outputs": [],
   "source": [
    "tgti"
   ]
  },
  {
   "cell_type": "code",
   "execution_count": null,
   "id": "e5ed76aa",
   "metadata": {
    "hidden": true
   },
   "outputs": [],
   "source": [
    "print(env,subj,pertv,tgti)"
   ]
  },
  {
   "cell_type": "code",
   "execution_count": null,
   "id": "b37fd769",
   "metadata": {
    "hidden": true
   },
   "outputs": [],
   "source": [
    "envcode"
   ]
  },
  {
   "cell_type": "code",
   "execution_count": null,
   "id": "bf5fc5cb",
   "metadata": {
    "hidden": true
   },
   "outputs": [],
   "source": [
    "df = df_all\n",
    "if pertv is not None:\n",
    "    df = df[df['perturbation'] == pertv]  \n",
    "    \n",
    "print (len(df))\n",
    "if tgti is not None:\n",
    "    df = df[df['target_inds'] == tgti] \n",
    "print (len(df))    \n",
    "\n",
    "if env in env2envcode:  # make trial inds (within subject)\n",
    "    envcode = env2envcode[env]\n",
    "    coln = 'err_sens_perenv'\n",
    "    db_inds = np.where(df['environment'] == envcode)[0]                    \n",
    "    df = df[df['environment'] == envcode]\n",
    "else:\n",
    "    db_inds = np.arange(len(environment)) \n",
    "    coln = 'err_sens_all'\n",
    "    \n",
    "df"
   ]
  },
  {
   "cell_type": "code",
   "execution_count": null,
   "id": "71258a88",
   "metadata": {
    "hidden": true
   },
   "outputs": [],
   "source": [
    "#err_sens_nh   = grpme[coln]\n",
    "err_sens_nh"
   ]
  },
  {
   "cell_type": "code",
   "execution_count": null,
   "id": "b12599a0",
   "metadata": {
    "hidden": true
   },
   "outputs": [],
   "source": [
    "plt.plot(err_sens_nh)"
   ]
  },
  {
   "cell_type": "code",
   "execution_count": null,
   "id": "f83c0778",
   "metadata": {
    "hidden": true
   },
   "outputs": [],
   "source": [
    "grp.count()"
   ]
  },
  {
   "cell_type": "code",
   "execution_count": null,
   "id": "62cfa35d",
   "metadata": {
    "hidden": true
   },
   "outputs": [],
   "source": [
    " print(env,subj,pertv,tgti)"
   ]
  },
  {
   "cell_type": "code",
   "execution_count": null,
   "id": "b1592703",
   "metadata": {
    "hidden": true
   },
   "outputs": [],
   "source": [
    "a,b = list(grp)[0] \n",
    "a,b"
   ]
  },
  {
   "cell_type": "code",
   "execution_count": null,
   "id": "01392876",
   "metadata": {
    "hidden": true
   },
   "outputs": [],
   "source": [
    "df_all.groupby"
   ]
  },
  {
   "cell_type": "code",
   "execution_count": null,
   "id": "94c06fd3",
   "metadata": {
    "hidden": true
   },
   "outputs": [],
   "source": [
    "#df.values[:,1]"
   ]
  },
  {
   "cell_type": "code",
   "execution_count": null,
   "id": "a49da4ea",
   "metadata": {
    "hidden": true
   },
   "outputs": [],
   "source": []
  },
  {
   "cell_type": "code",
   "execution_count": null,
   "id": "1816a132",
   "metadata": {
    "hidden": true
   },
   "outputs": [],
   "source": [
    "display( grp.apply(lambda g: g.mean(skipna=True)) )\n",
    "grp.apply(lambda g: av(g,coln))#.reset_index()"
   ]
  },
  {
   "cell_type": "code",
   "execution_count": null,
   "id": "9f59e2c6",
   "metadata": {
    "hidden": true
   },
   "outputs": [],
   "source": [
    "#grp.get_group(5)#; print(coln)\n",
    "av( grp.get_group(5), coln)"
   ]
  },
  {
   "cell_type": "code",
   "execution_count": null,
   "id": "1d7b3845",
   "metadata": {
    "hidden": true
   },
   "outputs": [],
   "source": []
  },
  {
   "cell_type": "code",
   "execution_count": null,
   "id": "ee937bb8",
   "metadata": {
    "hidden": true
   },
   "outputs": [],
   "source": [
    "#grpme.values"
   ]
  },
  {
   "cell_type": "markdown",
   "id": "17d743b2",
   "metadata": {
    "heading_collapsed": true
   },
   "source": [
    "#### final"
   ]
  },
  {
   "cell_type": "code",
   "execution_count": null,
   "id": "a6efd03b",
   "metadata": {
    "hidden": true
   },
   "outputs": [],
   "source": [
    "import gc; gc.collect()"
   ]
  },
  {
   "cell_type": "code",
   "execution_count": null,
   "id": "3df9d348",
   "metadata": {
    "hidden": true
   },
   "outputs": [],
   "source": [
    "pd.options.mode.use_inf_as_na = True"
   ]
  },
  {
   "cell_type": "code",
   "execution_count": null,
   "id": "4b166b35",
   "metadata": {
    "hidden": true
   },
   "outputs": [],
   "source": [
    "DEBUG = 0"
   ]
  },
  {
   "cell_type": "markdown",
   "id": "bb032db9",
   "metadata": {
    "heading_collapsed": true,
    "hidden": true
   },
   "source": [
    "##### debug subjStat"
   ]
  },
  {
   "cell_type": "code",
   "execution_count": null,
   "id": "719cc845",
   "metadata": {
    "hidden": true
   },
   "outputs": [],
   "source": [
    "from figure.plot_behav2 import subjStat\n",
    "#trialcol = 'trialwb'\n",
    "# trialcol = 'trialwe'\n",
    "# pertv = None\n",
    "# tgti = 0\n",
    "# env = 'stable' \n",
    "\n",
    "env,pertv,gseqc,tgti,trial_group_col = ('all', None, (0,), 3, 'trials')\n",
    "coln = getColn(pertv, tgti, env, trial_group_col)\n",
    "print(coln)\n",
    "df = getSubDf(df_all,'mean',pertv, tgti, env, False, pert_seq_code=gseqc[0])\n",
    "\n",
    "#print(df['subject'].unique(), df['environment'].unique(), df['perturbation'].unique(), df['target_inds'].unique() )\n",
    "from collections import Counter\n",
    "\n",
    "print( Counter(df['subject']), Counter(df['environment']), \n",
    "      Counter(df['perturbation']), Counter(df['target_inds']) )\n",
    "\n",
    "\n",
    "grpstat = subjStat(df, coln, trial_group_col)\n",
    "err_sens_nh   = grpstat[coln]\n",
    "trial_inds_nh = grpstat[trialcol]\n",
    "display(grpstat)\n",
    "#display(grpstd)"
   ]
  },
  {
   "cell_type": "code",
   "execution_count": null,
   "id": "7bab8eb4",
   "metadata": {
    "hidden": true
   },
   "outputs": [],
   "source": [
    "df.subject.unique()"
   ]
  },
  {
   "cell_type": "code",
   "execution_count": null,
   "id": "2d615045",
   "metadata": {
    "hidden": true
   },
   "outputs": [],
   "source": [
    "df.columns[:25]"
   ]
  },
  {
   "cell_type": "code",
   "execution_count": null,
   "id": "c1104a48",
   "metadata": {
    "hidden": true
   },
   "outputs": [],
   "source": [
    "cols = ['subject', 'environment', 'perturbation',\n",
    "        'trials', 'trialwb', 'trialwe', 'err', 'RT']  + [coln]\n",
    "df.loc[ df['trialwb'] == 0,  cols]"
   ]
  },
  {
   "cell_type": "code",
   "execution_count": null,
   "id": "679f5fa4",
   "metadata": {
    "hidden": true
   },
   "outputs": [],
   "source": [
    "plt.plot( df['perturbation'] )\n",
    "plt.plot(df['trialwb'] / 10)\n",
    "plt.plot(df['trialwe'] / 20)"
   ]
  },
  {
   "cell_type": "markdown",
   "id": "2d80ded4",
   "metadata": {
    "heading_collapsed": true
   },
   "source": [
    "#### fill per subject table"
   ]
  },
  {
   "cell_type": "code",
   "execution_count": null,
   "id": "37f91cd9",
   "metadata": {
    "hidden": true
   },
   "outputs": [],
   "source": [
    "#df_all.loc[:50,['environment','target_inds','perturbation','trials','trialwtgt','trialwtgt_wpert_we','trialwtgt_wpert_wb']]"
   ]
  },
  {
   "cell_type": "code",
   "execution_count": null,
   "id": "c7adb834",
   "metadata": {
    "hidden": true
   },
   "outputs": [],
   "source": [
    "df_all.columns"
   ]
  },
  {
   "cell_type": "code",
   "execution_count": null,
   "id": "c0d077d0",
   "metadata": {
    "hidden": true
   },
   "outputs": [],
   "source": [
    "allowed_env_pert_combin = [('all',0.), ('all',30.), ('all',-30.), ('all',None), \n",
    "                           ('stable',0.),('stable',30.),('stable',-30.),('stable',None),('random',0.),\n",
    "                           ('random',None)]\n",
    "\n",
    "allowed_env_trialcol_combin = [('all','trials'), ('all','trialwtgt'), \n",
    "        ('all','trialwtgt_wpert_wb'), ('all','trialwtgt_wpert_we'), \n",
    "        ('stable','trialwtgt'), ('stable','trialwtgt_we'), ('random','trialwe'),\n",
    "        ('stable','trialwpert'), ('stable','trialwe'), ('stable','trialwb'), \n",
    "        ('stable','trialwpert_we'), ('stable','trialwpert_wb'),  \n",
    "        ('stable', 'trialwtgt_wpert_wb') , ('stable','trialwtgt_wpert_we')]\n",
    "\n",
    "allowed_env_trialcol_combin = [('stable','trialwe'), ('stable','trialwtgt_we'),\n",
    "('random','trialwe'), ('random','trialwtgt_we')]\n",
    "#  -- meaningless if separate across tgt because targets are not sync across participants\n",
    "\n",
    "#allowed_env_trialcol_combin = [('all','trials'), \n",
    "#                                 ('stable','trialwe'), ('random','trialwe') ]\n",
    "\n",
    "allowed_tgt_trialcol_combin = [(None,'trialwe'), (None,'trials'), \n",
    "                               (None,'trialwpert_wb'), (None,'trialwpert_we')]\n",
    "for tgti in range(4):  # only numeric, not None here\n",
    "    allowed_tgt_trialcol_combin += [(tgti,'trialwtgt')] + [(tgti,'trialwe')]\n",
    "    allowed_tgt_trialcol_combin += [(tgti,'trialwtgt_we')] \n",
    "    allowed_tgt_trialcol_combin += [(tgti,'trialwpert_wb')] \n",
    "    allowed_tgt_trialcol_combin += [(tgti,'trialwpert_we')]\n",
    "    allowed_tgt_trialcol_combin += [(tgti,'trialwtgt_wpert_wb')]\n",
    "    allowed_tgt_trialcol_combin += [(tgti,'trialwtgt_wpert_we')]\n",
    "    allowed_tgt_trialcol_combin += [(tgti,'trialwb')] \n",
    "    \n",
    "#allowed_env_tgt_trialcol_combin = ['stable',]"
   ]
  },
  {
   "cell_type": "code",
   "execution_count": null,
   "id": "649b3812",
   "metadata": {
    "hidden": true
   },
   "outputs": [],
   "source": [
    "allowed_envblock = [('stable','stable1'), ('stable','stable2'), \n",
    "                   ('stable','all'), ('random','random1'), ('random','random2'),\n",
    "                   ('random','all'), ('all','all')]"
   ]
  },
  {
   "cell_type": "code",
   "execution_count": null,
   "id": "d1d6aa69",
   "metadata": {
    "hidden": true
   },
   "outputs": [],
   "source": [
    "block_names_to_calc = block_names + ['all']"
   ]
  },
  {
   "cell_type": "code",
   "execution_count": null,
   "id": "93a2c29b",
   "metadata": {
    "hidden": true
   },
   "outputs": [],
   "source": [
    "DEBUG = 0\n",
    "subj_list = subjects"
   ]
  },
  {
   "cell_type": "code",
   "execution_count": null,
   "id": "45c89ba4",
   "metadata": {
    "hidden": true
   },
   "outputs": [],
   "source": [
    "pertvals_to_calc = pertvals + [None]\n",
    "pertvals_to_calc"
   ]
  },
  {
   "cell_type": "markdown",
   "id": "925ffd0d",
   "metadata": {
    "heading_collapsed": true
   },
   "source": [
    "#### oldv (adding columns)"
   ]
  },
  {
   "cell_type": "code",
   "execution_count": null,
   "id": "dca78668",
   "metadata": {
    "code_folding": [
     3,
     21
    ],
    "hidden": true,
    "run_control": {
     "marked": true
    }
   },
   "outputs": [],
   "source": [
    "from figure.plot_behav2 import getSubDf, getColn\n",
    "error_type = 'MPE'  # observed - goal, motor performance error\n",
    "colns_set  = []; colns_skip = [];\n",
    "debug_break = 0\n",
    "for env, trial_group_col in allowed_env_trialcol_combin:\n",
    "    for block_name in block_names_to_calc:\n",
    "        if (env,block_name) not in allowed_envblock:\n",
    "            continue\n",
    "    for subj in subj_list:#[si]\n",
    "        for pertv in pertvals_to_calc:\n",
    "            if (env,pertv) not in allowed_env_pert_combin:\n",
    "                print('skipping',env,pertv)\n",
    "                continue\n",
    "            for tgti in tgt_inds_all:\n",
    "                if (tgti,trial_group_col) not in allowed_tgt_trialcol_combin:\n",
    "                    continue\n",
    "                print(env,subj,pertv,tgti,trial_group_col)\n",
    "                #df = df_all\n",
    "                # if we take only non-hit then, since we'll compute err sens sequentially \n",
    "                # we'll get wrong\n",
    "                #if trial_group_col in ['trialwb']:\n",
    "                #    raise ValueError('not implemented')\n",
    "                df = getSubDf(df_all, subj, pertv,tgti,env,block_name,\n",
    "                              non_hit = False)\n",
    "                db_inds = df.index                \n",
    "                \n",
    "                coln = getColn(pertv, tgti, env, block_name, None) #, trial_group_col)        \n",
    "                print('  ',coln,len(df))                                \n",
    "                if (len(df) == 0) or (len(db_inds) == 0):\n",
    "                    #rowi += 1\n",
    "                    print('skip',coln,subj)\n",
    "                    colns_skip += [coln]\n",
    "                    if DEBUG:\n",
    "                        debug_break = 1\n",
    "                        break\n",
    "                    continue                      \n",
    "                                            \n",
    "                # resetting index is important\n",
    "                r = computeErrSens2(df.reset_index(), df_inds=None, \n",
    "                                    error_type=error_type)\n",
    "                nhna, df_esv, ndf2vn = r            \n",
    "\n",
    "                #df_esv_nh     = df_esv[df_esv['non_hit_not_adj'] & \\\n",
    "                #                       ~np.isinf(df_esv['err_sens'])]\n",
    "                #err_sens_nh   = np.array( df_esv_nh['err_sens'] )\n",
    "                #trial_inds_nh = np.array( df_esv_nh['trial_inds_glob'] )\n",
    "\n",
    "                #pert_nh = df_esv_nh['perturbation']\n",
    "                \n",
    "                # if I don't convert to array then there is an indexing problem\n",
    "                # even though I try to work wtih db_inds it assigns elsewhere \n",
    "                # (or does not assigne at all)\n",
    "                es_vals = np.array( df_esv['err_sens'] ) \n",
    "                \n",
    "                assert np.any(~np.isnan(es_vals)), coln  # at least one is not None\n",
    "                assert np.any(~np.isnan(es_vals)), coln  # at least one is not None\n",
    "                                \n",
    "                colns_set += [coln]\n",
    "                df_all.loc[db_inds,coln] = es_vals  # NOT _nh, otherwise different number\n",
    "                df_all.loc[db_inds,'error_type'] = error_type                \n",
    "                \n",
    "                if DEBUG and coln == 'err_sens_pert-30_tgt3_envSep':                    \n",
    "                    debug_break = 1; print('brk')\n",
    "                    db_inds_save = db_inds\n",
    "                    df_save = df\n",
    "                    break\n",
    "            if debug_break:\n",
    "                break\n",
    "        if debug_break:\n",
    "            break\n",
    "    if debug_break:\n",
    "        break\n",
    "print('Finished successfully')"
   ]
  },
  {
   "cell_type": "markdown",
   "id": "c188ff9a",
   "metadata": {},
   "source": [
    "#### newv (concat)"
   ]
  },
  {
   "cell_type": "code",
   "execution_count": null,
   "id": "16410efa",
   "metadata": {},
   "outputs": [],
   "source": [
    "#from figure.plot_behav2 import getSubDf, getColn, computeErrSensVersions\n",
    "envs_cur = ['stable', 'random']\n",
    "block_names_cur = ['all']\n",
    "pertvals_cur = [None]\n",
    "gseqcs_cur = [ (0,1) ]\n",
    "tgt_inds_cur = tgt_inds_all\n",
    "dists_rad_from_prevtgt_cur = [None]\n",
    "dists_trial_from_prevtgt_cur = [None]\n",
    "error_type = 'MPE'  # observed - goal, motor performance error"
   ]
  },
  {
   "cell_type": "code",
   "execution_count": null,
   "id": "8d83b44a",
   "metadata": {},
   "outputs": [],
   "source": [
    "# compute separately for variable shift sizes to generate grids later\n",
    "# separately to avoid filtering problems later (I could get too many values per subj \n",
    "# due to multiple rows with diffrent trial shift size and same trial)\n",
    "envs_cur = ['stable', 'random', 'all']\n",
    "tgt_inds_cur = tgt_inds_all\n",
    "#%debug\n",
    "df_all_multi_tsz, ndf2vn = computeErrSensVersions(df_all, envs_cur,block_names_cur,pertvals_cur,gseqcs_cur,tgt_inds_cur,\n",
    "       dists_rad_from_prevtgt_cur,dists_trial_from_prevtgt_cur,\n",
    "        coln_nh = 'non_hit_not_adj',\n",
    "        coln_nh_out = 'non_hit_shifted',\n",
    "        computation_ver='computeErrSens3',\n",
    "        subj_list = subjects, error_type=error_type,\n",
    "        trial_shift_sizes = np.arange(1,5),\n",
    "                 addvars=[])\n",
    "\n",
    "assert not df_all_multi_tsz.duplicated().any() "
   ]
  },
  {
   "cell_type": "code",
   "execution_count": null,
   "id": "5af2f630",
   "metadata": {},
   "outputs": [],
   "source": [
    "df_all_multi_tsz['non_hit_not_adj']"
   ]
  },
  {
   "cell_type": "markdown",
   "id": "6967739a",
   "metadata": {
    "heading_collapsed": true
   },
   "source": [
    "##### supp"
   ]
  },
  {
   "cell_type": "code",
   "execution_count": null,
   "id": "9a2a775c",
   "metadata": {
    "hidden": true
   },
   "outputs": [],
   "source": [
    "tgt_inds_all"
   ]
  },
  {
   "cell_type": "code",
   "execution_count": null,
   "id": "869f2e38",
   "metadata": {
    "hidden": true
   },
   "outputs": [],
   "source": [
    "DEBUG=0"
   ]
  },
  {
   "cell_type": "code",
   "execution_count": null,
   "id": "ed39e791",
   "metadata": {
    "hidden": true
   },
   "outputs": [],
   "source": [
    "df_all2, ndf2vn = computeErrSensVersions(df_all, envs_cur,block_names_cur,pertvals_cur,gseqcs_cur,tgt_inds_cur,\n",
    "               dists_rad_from_prevtgt_cur,dists_trial_from_prevtgt_cur,\n",
    "                                subj_list = subjects, error_type=error_type,\n",
    "                                addvars=[])"
   ]
  },
  {
   "cell_type": "markdown",
   "id": "055103eb",
   "metadata": {
    "hidden": true
   },
   "source": [
    "Q: non hit -- do I have to calc them\n",
    "    separate when I compute for primary vars and for err sens?\n",
    "    I mean, to reduce doing AND for current and prev trials\n",
    "Q: should I compute multiple trial groupings or just one at a time?\n",
    "TODO: behav table within pert\n",
    "when do fit maybe remove outliers\n",
    "\n",
    "should I keep merged and non-merged pert in the same fun of dec err sens?\n",
    "it is better for debuggging but less good for coding\n",
    "\n",
    "TODO: find code where I was extracting locals from traceback"
   ]
  },
  {
   "cell_type": "code",
   "execution_count": null,
   "id": "9d57ec30",
   "metadata": {
    "hidden": true
   },
   "outputs": [],
   "source": [
    "envs_cur = ['stable', 'random', 'all']\n",
    "tgt_inds_cur = tgt_inds_all\n",
    "df_all3, ndf2vn = computeErrSensVersions(df_all, envs_cur,\n",
    "        block_names_cur,pertvals_cur,gseqcs_cur,tgt_inds_cur,\n",
    "       dists_rad_from_prevtgt_cur,dists_trial_from_prevtgt_cur,\n",
    "        subj_list = subjects, error_type=error_type,\n",
    "        addvars=[])"
   ]
  },
  {
   "cell_type": "markdown",
   "id": "9ecfeed6",
   "metadata": {
    "heading_collapsed": true
   },
   "source": [
    "##### dbg"
   ]
  },
  {
   "cell_type": "code",
   "execution_count": null,
   "id": "c2c34c13",
   "metadata": {
    "hidden": true
   },
   "outputs": [],
   "source": [
    "for s in [1,2]:\n",
    "    dfdbg = df_all_multi_tsz_.query('(trial_shift_size == @s) and (trial_group_col_calc == \"trialwe\")')\n",
    "    cols = ['trials', 'target_inds', 'target_locs',\n",
    "                      'trial_shift_size','dist_rad_from_prevtgt',\n",
    "                      'dist_rad_from_tgt-1','dist_rad_from_tgt-2',\n",
    "                      'dist_rad_from_prevtgt2']\n",
    "    r = dfdbg.loc[dfdbg.index[:10],cols]\n",
    "    display(r)"
   ]
  },
  {
   "cell_type": "code",
   "execution_count": null,
   "id": "90392310",
   "metadata": {
    "hidden": true
   },
   "outputs": [],
   "source": [
    "help(df_all.apply)"
   ]
  },
  {
   "cell_type": "code",
   "execution_count": null,
   "id": "c9df9102",
   "metadata": {
    "hidden": true
   },
   "outputs": [],
   "source": [
    "envs_cur =  ['all']\n",
    "tgt_inds_cur = [None]\n",
    "df_all4 = computeErrSensVersions(df_all, envs_cur,block_names_cur,pertvals_cur,gseqcs_cur,tgt_inds_cur,\n",
    "               dists_rad_from_prevtgt_cur,dists_trial_from_prevtgt_cur,\n",
    "                                subj_list = subjects[:1], error_type=error_type)"
   ]
  },
  {
   "cell_type": "code",
   "execution_count": null,
   "id": "3befd80a",
   "metadata": {
    "hidden": true
   },
   "outputs": [],
   "source": []
  },
  {
   "cell_type": "markdown",
   "id": "3046f55b",
   "metadata": {
    "heading_collapsed": true
   },
   "source": [
    "#### compare with Romain direct ver"
   ]
  },
  {
   "cell_type": "code",
   "execution_count": null,
   "id": "aedccb31",
   "metadata": {
    "hidden": true
   },
   "outputs": [],
   "source": [
    "%run -i ../figure/plot_es_q.py"
   ]
  },
  {
   "cell_type": "code",
   "execution_count": null,
   "id": "e3cae504",
   "metadata": {
    "hidden": true
   },
   "outputs": [],
   "source": [
    "subjects[0],all_es_stable2[0]"
   ]
  },
  {
   "cell_type": "code",
   "execution_count": null,
   "id": "39bf28ed",
   "metadata": {
    "hidden": true
   },
   "outputs": [],
   "source": [
    "all_es[0][:20]"
   ]
  },
  {
   "cell_type": "code",
   "execution_count": null,
   "id": "b388dd94",
   "metadata": {
    "hidden": true
   },
   "outputs": [],
   "source": [
    "df_all4.query('subject == \"sub01_WGPOZPEE\"')[['trials','err_sens']]"
   ]
  },
  {
   "cell_type": "code",
   "execution_count": null,
   "id": "1c6284f2",
   "metadata": {
    "hidden": true
   },
   "outputs": [],
   "source": [
    "len(es)"
   ]
  },
  {
   "cell_type": "code",
   "execution_count": null,
   "id": "da02b8cc",
   "metadata": {
    "hidden": true
   },
   "outputs": [],
   "source": [
    "corr = (Y[0]-Y[2]) - (Y[1]-Y[3])\n",
    "non_hit[:20], es[:20], Y[4][:20], corr[:20] "
   ]
  },
  {
   "cell_type": "code",
   "execution_count": null,
   "id": "dd1836fe",
   "metadata": {
    "hidden": true
   },
   "outputs": [],
   "source": [
    "a = np.vstack([df_esv['err_sens'].values, es])\n",
    "np.isnan(a[0]) ^ np.isnan(a[1])"
   ]
  },
  {
   "cell_type": "code",
   "execution_count": null,
   "id": "74b9d9e2",
   "metadata": {
    "hidden": true
   },
   "outputs": [],
   "source": [
    "#### dbg\n",
    "subj = 'sub01_WGPOZPEE'\n",
    "env = 'all'\n",
    "df = getSubDf(df_all, subj, pertv,tgti,env,block_name,\n",
    "              non_hit = False, verbose=1)\n",
    "db_inds = df.index\n",
    "\n",
    "tgn = getTrialGroupName(pertv, tgti, env, block_name)\n",
    "coln = getColn(pertv, tgti, env, block_name, None) #, trial_group_col)\n",
    "print('  ',tgn, coln,len(df))\n",
    "\n",
    "# resetting index is important\n",
    "r = computeErrSens2(df.reset_index(), df_inds=None,\n",
    "                    error_type=error_type,\n",
    "                    colname_nh = 'non_hit_shifted',\n",
    "                    correct_hit = 'inf', shiftsz=2, err_sens_coln = 'err_sens')\n",
    "nhna, df_esv, ndf2vn = r\n",
    "df_esv\n",
    "\n",
    "dfcur = df.copy()\n",
    "\n",
    "dfcur['dist_rad_from_prevtgt2'] = dfcur['target_locs'].values -\\\n",
    "    df_esv['prev_target'].values\n",
    "dfcur['dist_rad_from_prevtgt2'] =\\\n",
    "    dfcur['dist_rad_from_prevtgt2'].abs().apply(lbd, 1)\n",
    "dfcur.drop(['trajectoryX','trajectoryY'],1)"
   ]
  },
  {
   "cell_type": "code",
   "execution_count": null,
   "id": "697328c7",
   "metadata": {
    "hidden": true
   },
   "outputs": [],
   "source": []
  },
  {
   "cell_type": "code",
   "execution_count": null,
   "id": "78ba1453",
   "metadata": {
    "hidden": true
   },
   "outputs": [],
   "source": [
    "#np.nanmean(all_es,0)"
   ]
  },
  {
   "cell_type": "code",
   "execution_count": null,
   "id": "eefbf9ec",
   "metadata": {
    "hidden": true
   },
   "outputs": [],
   "source": [
    "arr = 1. / np.array([np.inf])\n",
    "#arr.dtype"
   ]
  },
  {
   "cell_type": "code",
   "execution_count": null,
   "id": "8c047b6b",
   "metadata": {
    "hidden": true
   },
   "outputs": [],
   "source": [
    "print(Y[4][:1])\n",
    "arr = 1 / Y[4][:1]  # dividing by zero gives divides by zero error\n",
    "arr, type(arr), arr.dtype"
   ]
  },
  {
   "cell_type": "code",
   "execution_count": null,
   "id": "8c7516af",
   "metadata": {
    "hidden": true
   },
   "outputs": [],
   "source": []
  },
  {
   "cell_type": "code",
   "execution_count": null,
   "id": "dcba83ea",
   "metadata": {
    "hidden": true
   },
   "outputs": [],
   "source": [
    " (~df_all4[['trials']].notna()).sum()"
   ]
  },
  {
   "cell_type": "code",
   "execution_count": null,
   "id": "ca703ce8",
   "metadata": {
    "hidden": true
   },
   "outputs": [],
   "source": [
    "df_all4[ ~df_all4['err_sens'].notna() ]['error']"
   ]
  },
  {
   "cell_type": "code",
   "execution_count": null,
   "id": "b97bd625",
   "metadata": {
    "hidden": true
   },
   "outputs": [],
   "source": [
    "df_all4.loc[:20,['trials','err_sens','non_hit_not_adj','non_hit_shifted', 'error']]"
   ]
  },
  {
   "cell_type": "code",
   "execution_count": null,
   "id": "56dbcb5c",
   "metadata": {
    "hidden": true,
    "run_control": {
     "marked": true
    }
   },
   "outputs": [],
   "source": [
    "#np.zeros(1) / ( np.ones(1) * np.inf) "
   ]
  },
  {
   "cell_type": "code",
   "execution_count": null,
   "id": "4e8124f8",
   "metadata": {
    "hidden": true
   },
   "outputs": [],
   "source": [
    "cols = ['subject','trials','trialwe','trialwtgt_we','target_inds',\n",
    "               'error','correction','non_hit_not_adj','non_hit_shifted']"
   ]
  },
  {
   "cell_type": "code",
   "execution_count": null,
   "id": "f1083993",
   "metadata": {
    "hidden": true,
    "run_control": {
     "marked": true
    }
   },
   "outputs": [],
   "source": [
    "df_all2.columns"
   ]
  },
  {
   "cell_type": "code",
   "execution_count": null,
   "id": "c2f90253",
   "metadata": {
    "hidden": true
   },
   "outputs": [],
   "source": [
    "#df_all2.sort_values(by=['subject','trials'])"
   ]
  },
  {
   "cell_type": "code",
   "execution_count": null,
   "id": "e8b6c787",
   "metadata": {
    "hidden": true
   },
   "outputs": [],
   "source": [
    "dfc = df_all2[cols + ['trial_group_col_calc','err_sens','error']]"
   ]
  },
  {
   "cell_type": "code",
   "execution_count": null,
   "id": "4d236540",
   "metadata": {
    "hidden": true
   },
   "outputs": [],
   "source": [
    "df_all2['trial_group_col_calc'].unique(), df_all3['trial_group_col_calc'].unique(), "
   ]
  },
  {
   "cell_type": "code",
   "execution_count": null,
   "id": "75c304ac",
   "metadata": {
    "hidden": true
   },
   "outputs": [],
   "source": [
    "dfc[dfc['trial_group_col_calc'] == 'trialwtgt_we']"
   ]
  },
  {
   "cell_type": "code",
   "execution_count": null,
   "id": "5c32cb4d",
   "metadata": {
    "hidden": true
   },
   "outputs": [],
   "source": [
    "dfc[dfc['trial_group_col_calc'] != 'trialwtgt_we']"
   ]
  },
  {
   "cell_type": "code",
   "execution_count": null,
   "id": "66659698",
   "metadata": {
    "hidden": true
   },
   "outputs": [],
   "source": [
    "dfc['trial_group_col_calc'].unique()"
   ]
  },
  {
   "cell_type": "code",
   "execution_count": null,
   "id": "082979f5",
   "metadata": {
    "hidden": true
   },
   "outputs": [],
   "source": [
    "import gc; gc.collect()"
   ]
  },
  {
   "cell_type": "code",
   "execution_count": null,
   "id": "4fdf60e3",
   "metadata": {
    "hidden": true
   },
   "outputs": [],
   "source": []
  },
  {
   "cell_type": "code",
   "execution_count": null,
   "id": "026edda5",
   "metadata": {
    "hidden": true
   },
   "outputs": [],
   "source": [
    "dfc = df_all[df_all['subject'] == subj]\n",
    "#dfc['perturbation']"
   ]
  },
  {
   "cell_type": "markdown",
   "id": "b79aea3f",
   "metadata": {
    "heading_collapsed": true
   },
   "source": [
    "#### fill mean table"
   ]
  },
  {
   "cell_type": "code",
   "execution_count": null,
   "id": "a1c72f3a",
   "metadata": {
    "hidden": true
   },
   "outputs": [],
   "source": [
    "allowed_env_trialcol_combin"
   ]
  },
  {
   "cell_type": "code",
   "execution_count": null,
   "id": "d529433d",
   "metadata": {
    "hidden": true
   },
   "outputs": [],
   "source": [
    "# allowed_pert_gseqc = [('None', 'all'), ('None', 'sep'), ('0', 'all'), ('0', 'sep'),\n",
    "#                       ('30','sep'), ('-30','sep')]\n",
    "allowed_pert_gseqc = [(None, [0,1]), (None, [0]),  (None, [1]),\n",
    "                      (0, [0,1]), (0, [0]), (0, [1]),\n",
    "                      (30,[0]), (30,[1]), (-30,[0]),  (-30,[1])]\n",
    "allowed_pert_gseqc = [ (s,tuple(a) ) for (s,a) in allowed_pert_gseqc ]\n",
    "display(allowed_env_trialcol_combin, allowed_env_pert_combin, \n",
    "        allowed_pert_gseqc, tgt_inds_all, pertvals)\n",
    "print(allowed_tgt_trialcol_combin)"
   ]
  },
  {
   "cell_type": "markdown",
   "id": "ec1bb11f",
   "metadata": {
    "heading_collapsed": true
   },
   "source": [
    "#### oldv"
   ]
  },
  {
   "cell_type": "code",
   "execution_count": null,
   "id": "45dea1de",
   "metadata": {
    "hidden": true
   },
   "outputs": [],
   "source": [
    "# compute mean veersion  \n",
    "# not then if I set come value to None and others to float, \n",
    "# then None gets converted to NaN\n",
    "dfme = []\n",
    "dfme2 = []\n",
    "#for envi,env in enumerate(envs):\n",
    "nrows = []\n",
    "for env, trial_group_col in allowed_env_trialcol_combin:\n",
    "    for block_name in block_names_to_calc:\n",
    "        if (env,block_name) not in allowed_envblock:\n",
    "            continue\n",
    "        rowi = 0    \n",
    "        for pertv in pertvals:\n",
    "            for gseqc in [(0,), (1,), (0,1)]:\n",
    "                if (pertv,gseqc) not in allowed_pert_gseqc:\n",
    "                    print('skipping',pertv,gseqc)\n",
    "                    continue                \n",
    "                if (env,pertv) not in allowed_env_pert_combin:\n",
    "                    print('skipping',env,pertv)\n",
    "                    continue            \n",
    "\n",
    "                for tgti in tgt_inds_all:\n",
    "                    if (tgti,trial_group_col) not in allowed_tgt_trialcol_combin:\n",
    "                        continue\n",
    "                    print(env,pertv,gseqc,tgti,trial_group_col)\n",
    "                    subj = 'mean'\n",
    "                    pert_seq_code = None\n",
    "                    if gseqc != (0,1):\n",
    "                        pert_seq_code = gseqc[0]\n",
    "                    df = getSubDf(df_all, subj, pertv,tgti,env, non_hit = False,\n",
    "                                 pert_seq_code = pert_seq_code)\n",
    "                    db_inds = df.index\n",
    "\n",
    "                    coln_calc = getColn(pertv, tgti, env, None)\n",
    "                    assert coln in colns_set\n",
    "                    if (len(df) == 0) or (len(db_inds) == 0):\n",
    "                        #rowi += 1\n",
    "                        continue                      \n",
    "                    #%debug\n",
    "                    #ax = axs[rowi,envi]\n",
    "        #             try:\n",
    "\n",
    "                    coln_av = getColn(pertv, tgti, env, trial_group_col)\n",
    "                    #\n",
    "                    grpstat = subjStat(df, coln_calc, trial_group_col)\n",
    "                    #pscstr = ','.join( list( map(str, list( sorted(df['pert_seq_code'].unique() ) ) ) ) )\n",
    "                    pscstr = ','.join( list( map(str, gseqc ) ) )    \n",
    "                    # some things are for filtering, some for actual usage,\n",
    "                    # that's why pertrubation is pertv and pert_nh is actual vals\n",
    "                    r = { 'environment':env, 'trial_group_col':trial_group_col, \n",
    "                         'perturbation':pertv, 'pert_seq_code':pscstr,\n",
    "                         'pert_nh':grpstat['perturbation'],\n",
    "                         'target_inds':tgti,  'nav_nh': grpstat['nav'],\n",
    "                         'trial_inds_nh':grpstat[trial_group_col], \n",
    "                         'err_sens_me_nh':grpstat['mean'], \n",
    "                         'err_sens_std_nh':grpstat['std'], \n",
    "                         'err_sens_sem_nh':grpstat['sem'],\n",
    "                         'coln':coln_av, 'coln_calc':coln_calc  }\n",
    "\n",
    "                    r = { 'environment':env, 'trial_group_col':trial_group_col, \n",
    "                         'perturbation':pertv, 'pert_seq_code':pscstr,\n",
    "                         'pert_nh':grpstat['perturbation'],\n",
    "                         'target_inds':tgti,  'nav_nh': grpstat['nav'],\n",
    "                         'trial_inds_nh':grpstat[trial_group_col], \n",
    "                         'err_sens_me_nh':grpstat['mean'], \n",
    "                         'err_sens_std_nh':grpstat['std'], \n",
    "                         'err_sens_sem_nh':grpstat['sem'],\n",
    "                         'coln':coln_av, 'coln_calc':coln_calc  }\n",
    "                    dfme += [r]\n",
    "                    rowi += 1\n",
    "        nrows += [rowi]\n",
    "nrows = np.max(nrows); print(nrows)\n",
    "dfme = pd.DataFrame(dfme)\n",
    "dfme"
   ]
  },
  {
   "cell_type": "markdown",
   "id": "66e23b0d",
   "metadata": {
    "heading_collapsed": true
   },
   "source": [
    "#### newv"
   ]
  },
  {
   "cell_type": "code",
   "execution_count": null,
   "id": "11e3aa67",
   "metadata": {
    "hidden": true
   },
   "outputs": [],
   "source": [
    "df_all.columns"
   ]
  },
  {
   "cell_type": "code",
   "execution_count": null,
   "id": "9b6c6b3e",
   "metadata": {
    "hidden": true
   },
   "outputs": [],
   "source": [
    "*(tpl[:-1]), tgcalc,tgav"
   ]
  },
  {
   "cell_type": "code",
   "execution_count": null,
   "id": "8c26d1b0",
   "metadata": {
    "hidden": true
   },
   "outputs": [],
   "source": [
    "from figure.plot_behav2 import computeStat"
   ]
  },
  {
   "cell_type": "code",
   "execution_count": null,
   "id": "ac3a589d",
   "metadata": {
    "hidden": true
   },
   "outputs": [],
   "source": [
    "#help( pd.concat)"
   ]
  },
  {
   "cell_type": "code",
   "execution_count": null,
   "id": "cae3ad56",
   "metadata": {
    "hidden": true,
    "run_control": {
     "marked": false
    }
   },
   "outputs": [],
   "source": [
    "# compute mean veersion  \n",
    "# not then if I set come value to None and others to float, \n",
    "# then None gets converted to NaN\n",
    "envs_cur = ['stable', 'random']\n",
    "block_names_cur = ['all']\n",
    "pertvals_cur = [None]\n",
    "gseqcs_cur = [ (0,1) ]\n",
    "tgt_inds_cur = [None]\n",
    "dists_rad_from_prevtgt_cur = [None]\n",
    "dists_trial_from_prevtgt_cur = [None]\n",
    "trgcol_pairs = [('trialwe','trialwe'), ('trialwtgt_we','trialwtgt_we')]\n",
    "\n",
    "dfme = []\n",
    "from itertools import product as itprod\n",
    "p = itprod(envs_cur,block_names_cur,pertvals_cur,gseqcs_cur,tgt_inds_cur,\n",
    "           dists_rad_from_prevtgt_cur,dists_trial_from_prevtgt_cur,trgcol_pairs)\n",
    "for tpl in p:\n",
    "    #print(len(tpl), tpl)\n",
    "    (env,block_name,pertv,gseqc,tgti,drptgt,dtptgt,trgcolp) = tpl\n",
    "    (tgcalc,tgav)= trgcolp\n",
    "    \n",
    "    r = computeStat(df_all,*(tpl[:-1]), tgcalc,tgav, verbose=0  )\n",
    "    if r is None:\n",
    "        print()\n",
    "        break\n",
    "        #continue\n",
    "    grpstat, coln_calc, coln_av  = r\n",
    "    pscstr = ','.join( list( map(str, gseqc ) ) )    \n",
    "    # some things are for filtering, some for actual usage,\n",
    "    # that's why pertrubation is pertv and pert_nh is actual vals\n",
    "#     r = { 'environment':env, 'trial_group_col':trial_group_col, \n",
    "#          'perturbation':pertv, 'pert_seq_code':pscstr,\n",
    "#          'pert_nh':grpstat['perturbation'],\n",
    "#          'target_inds':tgti,  'nav_nh': grpstat['nav'],\n",
    "#          'trial_inds_nh':grpstat[trial_group_col], \n",
    "#          'err_sens_me_nh':grpstat['mean'], \n",
    "#          'err_sens_std_nh':grpstat['std'], \n",
    "#          'err_sens_sem_nh':grpstat['sem'],\n",
    "#          'coln':coln_av, 'coln_calc':coln_calc  }\n",
    "    #dfme += [r]\n",
    "    dfme += [grpstat] \n",
    "    \n",
    "assert len(dfme)\n",
    "dfme  = pd.concat(dfme)\n",
    "dfme.reset_index(inplace=True)\n",
    "dfme"
   ]
  },
  {
   "cell_type": "code",
   "execution_count": null,
   "id": "d9dfa4b5",
   "metadata": {
    "hidden": true
   },
   "outputs": [],
   "source": [
    "dfme"
   ]
  },
  {
   "cell_type": "code",
   "execution_count": null,
   "id": "ef283b9b",
   "metadata": {
    "hidden": true
   },
   "outputs": [],
   "source": [
    "df_all.columns"
   ]
  },
  {
   "cell_type": "code",
   "execution_count": null,
   "id": "084185b0",
   "metadata": {
    "hidden": true
   },
   "outputs": [],
   "source": [
    "## reshape df_all\n",
    "df_all2 = df_all.copy()\n",
    "#df_all['err_sens'] = "
   ]
  },
  {
   "cell_type": "markdown",
   "id": "2a671e09",
   "metadata": {},
   "source": [
    "# Plot pooled across time [violins comparable with Romain]"
   ]
  },
  {
   "cell_type": "code",
   "execution_count": null,
   "id": "ecbc5848",
   "metadata": {},
   "outputs": [],
   "source": [
    "# def f(row):\n",
    "#     bn = row['block_name']\n",
    "#     ps = row['pert_stage_wb']\n",
    "#     if np.isnan(ps):\n",
    "#         return None\n",
    "#     if bn.endswith('2'):\n",
    "#         ps = int(ps) + 5\n",
    "\n",
    "#     return ps\n",
    "# df_all_multi_tsz['pert_stage'] = df_all_multi_tsz.apply(f,1)\n"
   ]
  },
  {
   "cell_type": "code",
   "execution_count": null,
   "id": "dbfd71d8",
   "metadata": {},
   "outputs": [],
   "source": [
    "coln = 'err_sens'\n",
    "# old\n",
    "# dfc  = truncateDf(df_all2, coln, q=0.05, clean_infnan=True)\n",
    "# dfc0 = truncateDf(df_all2, coln, q=None, clean_infnan=True)\n",
    "\n",
    "# dfc_  = truncateDf(df_all3, coln, q=0.05, clean_infnan=True)\n",
    "# dfc0_ = truncateDf(df_all3, coln, q=None, clean_infnan=True)\n",
    "\n",
    "dfc_multi_tsz  = truncateDf(df_all_multi_tsz, coln, q=0.05, infnan_handling='discard')\n",
    "dfc0_multi_tsz  = truncateDf(df_all_multi_tsz, coln, q=0.0, infnan_handling='discard')\n",
    "\n",
    "qs = 'trial_shift_size == 1'\n",
    "dfc  = dfc_multi_tsz.query(qs)\n",
    "dfc0 = dfc0_multi_tsz.query(qs)"
   ]
  },
  {
   "cell_type": "code",
   "execution_count": null,
   "id": "28b5a169",
   "metadata": {},
   "outputs": [],
   "source": [
    "path_data"
   ]
  },
  {
   "cell_type": "code",
   "execution_count": null,
   "id": "bf7ca9b9",
   "metadata": {},
   "outputs": [],
   "source": [
    "#dfc_notna_multi_tsz = dfc_multi_tsz[~dfc_multi_tsz['err_sens'].isna()]"
   ]
  },
  {
   "cell_type": "code",
   "execution_count": null,
   "id": "4cece1fe",
   "metadata": {},
   "outputs": [],
   "source": [
    "len(df_all_multi_tsz), len(dfc_multi_tsz)"
   ]
  },
  {
   "cell_type": "code",
   "execution_count": null,
   "id": "d16e3363",
   "metadata": {},
   "outputs": [],
   "source": [
    "fnf = pjoin(path_data,'df_all_multi_tsz.pkl.zip')\n",
    "print(fnf)"
   ]
  },
  {
   "cell_type": "code",
   "execution_count": null,
   "id": "72dc1b80",
   "metadata": {},
   "outputs": [],
   "source": [
    "fnf = pjoin(path_data,'df_all_multi_tsz.pkl.zip')\n",
    "print(fnf)\n",
    "df_all_multi_tsz.to_pickle(fnf, \n",
    "                           compression='zip')\n",
    "dfc_multi_tsz.   to_pickle(pjoin(path_data,'df_all_multi_tsz_trunc_q=0.05.pkl.zip'),\n",
    "                          compression='zip')"
   ]
  },
  {
   "cell_type": "code",
   "execution_count": null,
   "id": "6f766de6",
   "metadata": {},
   "outputs": [],
   "source": []
  },
  {
   "cell_type": "markdown",
   "id": "c502b7ac",
   "metadata": {},
   "source": [
    "#### means per subj distr"
   ]
  },
  {
   "cell_type": "code",
   "execution_count": null,
   "id": "85212ad9",
   "metadata": {},
   "outputs": [],
   "source": [
    "dfc_multi_tsz.columns"
   ]
  },
  {
   "cell_type": "code",
   "execution_count": null,
   "id": "ae6bf63f",
   "metadata": {},
   "outputs": [],
   "source": [
    "#dfc['environment'].unique()"
   ]
  },
  {
   "cell_type": "code",
   "execution_count": null,
   "id": "2e2857b4",
   "metadata": {},
   "outputs": [],
   "source": [
    "dfc0"
   ]
  },
  {
   "cell_type": "code",
   "execution_count": null,
   "id": "d64df9f3",
   "metadata": {},
   "outputs": [],
   "source": [
    "fnf = pjoin(path_data,'df_all_multi_tsz.pkl.zip')\n",
    "df_all_multi_tsz = pd.read_pickle(fnf)\n",
    "coln = 'err_sens'\n",
    "dfc_multi_tsz  = truncateDf(df_all_multi_tsz, coln, q=0.05, infnan_handling='discard')\n",
    "dfc0_multi_tsz  = truncateDf(df_all_multi_tsz, coln, q=0.0, infnan_handling='discard')\n",
    "\n",
    "qs = 'trial_shift_size == 1'\n",
    "dfc  = dfc_multi_tsz.query(qs)\n",
    "dfc0 = dfc0_multi_tsz.query(qs)"
   ]
  },
  {
   "cell_type": "code",
   "execution_count": null,
   "id": "79d3bb0a",
   "metadata": {},
   "outputs": [],
   "source": [
    "qs = 'trial_shift_size == 1'\n",
    "dfc  = dfc_multi_tsz.query(qs)\n",
    "dfc0 = dfc0_multi_tsz.query(qs)"
   ]
  },
  {
   "cell_type": "code",
   "execution_count": null,
   "id": "4f2932dc",
   "metadata": {},
   "outputs": [],
   "source": [
    "dfc0.duplicated(['subject','trials','environment','trial_group_col_calc']).any()"
   ]
  },
  {
   "cell_type": "code",
   "execution_count": null,
   "id": "0184ffaf",
   "metadata": {},
   "outputs": [],
   "source": [
    "df_all_multi_tsz = pd.read_pickle('/home/demitau/data_Quentin/full_experiments/data2/df_all_multi_tsz.pkl')\n",
    "#df_all_multi_tsz = pd.read_pickle(fnf)\n",
    "coln = 'err_sens'\n",
    "dfc_multi_tsz  = truncateDf(df_all_multi_tsz, coln, q=0.05, infnan_handling='discard')\n",
    "dfc0_multi_tsz  = truncateDf(df_all_multi_tsz, coln, q=0.0, infnan_handling='discard')\n",
    "\n",
    "qs = 'trial_shift_size == 1'\n",
    "#dfc  = dfc_multi_tsz.query(qs)\n",
    "dfc0 = dfc0_multi_tsz.query(qs)"
   ]
  },
  {
   "cell_type": "code",
   "execution_count": null,
   "id": "15c8d035",
   "metadata": {},
   "outputs": [],
   "source": [
    "%matplotlib inline\n",
    "me = dfc0.groupby(['subject','environment','trial_group_col_calc']).\\\n",
    "    mean(numeric_only=1).reset_index()\n",
    "sns.catplot(data=me, kind='violin', y='err_sens', x='environment', \n",
    "            col='trial_group_col_calc')"
   ]
  },
  {
   "cell_type": "code",
   "execution_count": null,
   "id": "57aa390d",
   "metadata": {},
   "outputs": [],
   "source": [
    "# not truncated\n",
    "me = dfc0.groupby(['subject','environment','trial_group_col_calc']).\\\n",
    "    mean(numeric_only=1).reset_index()\n",
    "sns.catplot(data=me, kind='violin', y='err_sens', x='environment', \n",
    "            col='trial_group_col_calc')\n",
    "\n",
    "# truncated\n",
    "me = dfc.groupby(['subject','environment','trial_group_col_calc']).\\\n",
    "    mean(numeric_only=1).reset_index()\n",
    "sns.catplot(data=me, kind='violin', y='err_sens', x='environment', \n",
    "            col='trial_group_col_calc')"
   ]
  },
  {
   "cell_type": "code",
   "execution_count": null,
   "id": "d6774a87",
   "metadata": {},
   "outputs": [],
   "source": [
    "tgcc = 'trialwe'\n",
    "for truncs, df in zip(['truncate q=5%','truncate no'],[dfc, dfc0]):\n",
    "    dfc_s = df[(df['trial_group_col_calc'] == tgcc) ]\n",
    "    grp = dfc_s.groupby(['subject','environment',])\n",
    "    me = grp.mean(numeric_only = 1)['err_sens'].reset_index()\n",
    "    plt.figure()\n",
    "    ax = sns.violinplot(data=me, y='err_sens', x='environment')\n",
    "    ax.set_title(f'{tgcc} {truncs}')\n",
    "    ax.set_ylim(-0.4,0.8)\n",
    "    \n",
    "tgcc = 'trials'\n",
    "#for truncs, df in zip(['truncate q=5%','truncate no'],[dfc_, dfc0_]):\n",
    "for truncs, df in zip(['truncate q=5%','truncate no'],[dfc, dfc0]):\n",
    "    dfc_s = df[(df['trial_group_col_calc'] == tgcc) ]\n",
    "    grp = dfc_s.groupby(['subject','environment'])\n",
    "    me = grp.mean(numeric_only = 1)['err_sens'].reset_index()\n",
    "    plt.figure()\n",
    "    ax = sns.violinplot(data=me, y='err_sens', x='environment')\n",
    "    ax.set_title(f'{tgcc} {truncs}')\n",
    "    ax.set_ylim(-0.4,0.8)"
   ]
  },
  {
   "cell_type": "code",
   "execution_count": null,
   "id": "b4ec6e2b",
   "metadata": {},
   "outputs": [],
   "source": [
    "#dfc[~(dfc[coln].isna() | np.isinf(dfc[coln]) )]\n",
    "dfc"
   ]
  },
  {
   "cell_type": "code",
   "execution_count": null,
   "id": "b690447d",
   "metadata": {},
   "outputs": [],
   "source": [
    "#dfc_s['environment']"
   ]
  },
  {
   "cell_type": "markdown",
   "id": "0413d029",
   "metadata": {
    "heading_collapsed": true
   },
   "source": [
    "#### per subj"
   ]
  },
  {
   "cell_type": "code",
   "execution_count": null,
   "id": "2ecd81ff",
   "metadata": {
    "hidden": true
   },
   "outputs": [],
   "source": [
    "coln = 'err_sens'\n",
    "tgcc = 'trialwe'\n",
    "dfc_s = dfc[dfc['trial_group_col_calc'] == tgcc]\n",
    "sns.violinplot(data=dfc_s, y=coln, hue='environment', x='subject', split=1)"
   ]
  },
  {
   "cell_type": "markdown",
   "id": "4c078fdf",
   "metadata": {
    "heading_collapsed": true
   },
   "source": [
    "### all dists pooled"
   ]
  },
  {
   "cell_type": "code",
   "execution_count": null,
   "id": "d2d6dfdf",
   "metadata": {
    "hidden": true
   },
   "outputs": [],
   "source": [
    "coln"
   ]
  },
  {
   "cell_type": "code",
   "execution_count": null,
   "id": "b4fd09b1",
   "metadata": {
    "hidden": true
   },
   "outputs": [],
   "source": [
    "#dfc.get('environment')"
   ]
  },
  {
   "cell_type": "code",
   "execution_count": null,
   "id": "7003a65e",
   "metadata": {
    "hidden": true
   },
   "outputs": [],
   "source": [
    "import seaborn as sns\n",
    "#%debug\n",
    "fg = sns.catplot(kind='violin', data=dfc, y=coln, \n",
    "                 x='trial_group_col_calc', hue='environment', split=True)\n",
    "for ax in fg.axes.flatten():\n",
    "    ax.axhline(0,ls=':',c='r')\n",
    "    #ax.axhline(5,ls=':',c='r')\n",
    "    \n",
    "# fg = sns.catplot(kind='violin', data=dfc0, y=coln, \n",
    "#                  x='trial_group_col_calc', hue='environment', split=True)\n",
    "# for ax in fg.axes.flatten():\n",
    "#     ax.axhline(0,ls=':',c='r')\n",
    "#     #ax.axhline(5,ls=':',c='r')"
   ]
  },
  {
   "cell_type": "markdown",
   "id": "d4456dd6",
   "metadata": {
    "heading_collapsed": true
   },
   "source": [
    "### per dist"
   ]
  },
  {
   "cell_type": "code",
   "execution_count": null,
   "id": "99c449d6",
   "metadata": {
    "hidden": true
   },
   "outputs": [],
   "source": [
    "import seaborn as sns\n",
    "#%debug\n",
    "fg = sns.catplot(kind='violin', data=dfc, y='err_sens', \n",
    "                 col='dist_rad_from_prevtgt', hue='environment', \n",
    "                 x='trial_group_col_calc', split=True)\n",
    "for ax in fg.axes.flatten():\n",
    "    ax.axhline(0,ls=':',c='r')\n",
    "    #ax.axhline(5,ls=':',c='r')"
   ]
  },
  {
   "cell_type": "code",
   "execution_count": null,
   "id": "14e27049",
   "metadata": {
    "hidden": true
   },
   "outputs": [],
   "source": [
    "import seaborn as sns\n",
    "#%debug\n",
    "fg = sns.catplot(kind='violin', data=dfc, y='err_sens', \n",
    "                 col='dist_rad_from_prevtgt', hue='environment', \n",
    "                 x='trial_group_col_calc', split=True)\n",
    "for ax in fg.axes.flatten():\n",
    "    ax.axhline(0,ls=':',c='r')\n",
    "    #ax.axhline(5,ls=':',c='r')"
   ]
  },
  {
   "cell_type": "code",
   "execution_count": null,
   "id": "38facbe4",
   "metadata": {
    "hidden": true
   },
   "outputs": [],
   "source": [
    "drs = sorted(drs,key=lambda x: float(x))\n",
    "drs"
   ]
  },
  {
   "cell_type": "code",
   "execution_count": null,
   "id": "72ac9061",
   "metadata": {
    "hidden": true
   },
   "outputs": [],
   "source": [
    "dfc_multi_tsz['environment'].nunique()"
   ]
  },
  {
   "cell_type": "code",
   "execution_count": null,
   "id": "a8d882ad",
   "metadata": {
    "hidden": true
   },
   "outputs": [],
   "source": [
    "drs"
   ]
  },
  {
   "cell_type": "code",
   "execution_count": null,
   "id": "e9cbdf71",
   "metadata": {
    "hidden": true
   },
   "outputs": [],
   "source": [
    "#debug\n",
    "fg = sns.catplot(kind='violin', col_order=np.arange(1,5) , row_order = drs,\n",
    "                 data=dfc_multi_tsz.query('trial_group_col_calc == \"trialwe\"'), \n",
    "                 y='err_sens',  x='trial_group_col_calc', hue='environment', \n",
    "                 col='trial_shift_size',\n",
    "                 row='dist_rad_from_prevtgt2', split=True)\n",
    "for ax in fg.axes.flatten():\n",
    "    ax.axhline(0,ls=':',c='r')\n",
    "    #ax.axhline(5,ls=':',c='r')\n",
    "plt.savefig(pjoin(path_fig,'behav','grid_violin.pdf'))\n"
   ]
  },
  {
   "cell_type": "code",
   "execution_count": null,
   "id": "04d15096",
   "metadata": {
    "hidden": true
   },
   "outputs": [],
   "source": [
    "#debug\n",
    "fg = sns.catplot(kind='violin', \n",
    "                 col_wrap = 4,\n",
    "                 data=dfc_multi_tsz.query('trial_group_col_calc == \"trialwe\" and dist_rad_from_prevtgt2 == \"0.00\" '), \n",
    "                 y='err_sens',  x='trial_shift_size', hue='environment', \n",
    "                 col='subject', split=True)\n",
    "for ax in fg.axes.flatten():\n",
    "    ax.axhline(0,ls=':',c='r')\n",
    "    #ax.axhline(5,ls=':',c='r')\n",
    "plt.savefig(pjoin(path_fig,'behav','gridlike_trial_dist_violin_persubj.pdf'))\n"
   ]
  },
  {
   "cell_type": "code",
   "execution_count": null,
   "id": "48bc0612",
   "metadata": {
    "hidden": true
   },
   "outputs": [],
   "source": [
    "#debug\n",
    "fg = sns.catplot(kind='violin', \n",
    "                 col_wrap = 4,\n",
    "                 data=dfc_multi_tsz.query('trial_group_col_calc == \"trialwe\" and trial_shift_size == 1 '), \n",
    "                 y='err_sens',  x='dist_rad_from_prevtgt2', hue='environment', \n",
    "                 col='subject', split=True)\n",
    "for ax in fg.axes.flatten():\n",
    "    ax.axhline(0,ls=':',c='r')\n",
    "    #ax.axhline(5,ls=':',c='r')\n",
    "plt.savefig(pjoin(path_fig,'behav','gridlike_rad_dist_violin_persubj.pdf'))\n"
   ]
  },
  {
   "cell_type": "code",
   "execution_count": null,
   "id": "2e25b3bb",
   "metadata": {
    "hidden": true
   },
   "outputs": [],
   "source": [
    "df_tmp = dfc_multi_tsz.query('trial_group_col_calc == \"trialwe\"').reset_index()\n",
    "df_tmp['dist_rad_from_prevtgt2'] = df_tmp['dist_rad_from_prevtgt2'].astype(float)\n",
    "sns.pairplot(df_tmp, kind='hist',\n",
    "    vars = ['err_sens','dist_rad_from_prevtgt2','trial_shift_size' ], hue='environment' )"
   ]
  },
  {
   "cell_type": "markdown",
   "id": "e68b304c",
   "metadata": {},
   "source": [
    "## grids (temporal vs spatial dist) err sens mean [REDO]"
   ]
  },
  {
   "cell_type": "markdown",
   "id": "b3678a90",
   "metadata": {},
   "source": [
    "#### important columns"
   ]
  },
  {
   "cell_type": "code",
   "execution_count": null,
   "id": "4bb264d2",
   "metadata": {},
   "outputs": [],
   "source": [
    "drs = dfc_multi_tsz['dist_rad_from_prevtgt'].unique();\n",
    "drs_f = np.array( list(map( float, drs) ) )\n",
    "drs = list(sorted(drs,key = lambda x: float(x)))\n",
    "\n",
    "#dfc_s = dfc[dfc['trial_group_col_calc'] == 'trialwtgt_we']\n",
    "# TODO: should I restrict to one env?\n",
    "dfc_s = dfc_multi_tsz.query('trial_group_col_calc == \"trialwe\"')\n",
    "grp = dfc_s.groupby(['trial_shift_size', 'dist_rad_from_prevtgt2'])\n",
    "dts = dfc_multi_tsz['trial_shift_size'].unique()\n",
    "nt = len(dts)"
   ]
  },
  {
   "cell_type": "code",
   "execution_count": null,
   "id": "d37554f1",
   "metadata": {},
   "outputs": [],
   "source": [
    "drs_f"
   ]
  },
  {
   "cell_type": "code",
   "execution_count": null,
   "id": "411ca0f2",
   "metadata": {},
   "outputs": [],
   "source": [
    "drs"
   ]
  },
  {
   "cell_type": "code",
   "execution_count": null,
   "id": "df09a0f0",
   "metadata": {},
   "outputs": [],
   "source": [
    "dfc_multi_tsz['env_nice'] = dfc_multi_tsz['environment'].apply(\n",
    "    lambda x: envcode2env[x] , 1)"
   ]
  },
  {
   "cell_type": "code",
   "execution_count": null,
   "id": "128295ca",
   "metadata": {},
   "outputs": [],
   "source": [
    "# make polynomial fits\n",
    "def plotPolys(ax, dftmp, fitcol, degs=range(2,6), mean=1):\n",
    "    if mean:\n",
    "        me = dftmp.groupby(fitcol).median().reset_index()\n",
    "        dftmp = me\n",
    "    dftmp[fitcol] = pd.to_numeric(dftmp[fitcol] )\n",
    "    esv, dv = dftmp[['err_sens',fitcol]]._values.T\n",
    "    print(np.min(dv),dv,dv-np.min(dv),esv)\n",
    "    #pr = np.polyfit(esv,dv,2)\n",
    "    from numpy.linalg import LinAlgError\n",
    "    dvu = np.unique(dv)\n",
    "    dvu = np.array( list(sorted(dvu)) )\n",
    "    print(dvu)\n",
    "    for deg in degs:\n",
    "        try:\n",
    "            pr = np.polyfit(dv-np.min(dv),esv-np.min(esv),deg)        \n",
    "        except (SystemError,LinAlgError):\n",
    "            print(f'Failed deg={deg}')\n",
    "            print(dv,esv, np.std(dv))\n",
    "            continue\n",
    "            \n",
    "        poly = np.poly1d(pr)\n",
    "        #if len(degs) > 1:\n",
    "        if mean:\n",
    "            lbl = f'polynomial fit of means deg={deg}'\n",
    "        else:\n",
    "            lbl = f'polynomial fit deg={deg}'\n",
    "        #else:\n",
    "        #    lbl = None\n",
    "        esv2 = poly(dvu-np.min(dvu)) + np.min(esv)\n",
    "        print(dvu-np.min(dvu), esv)\n",
    "        ax.plot(range(len(dvu)) , poly(dvu-np.min(dvu)) + np.min(esv), \n",
    "                label=lbl, c='grey', lw=0.85 )\n",
    "    return pr\n",
    "    #ax.legend(loc='lower right')\n",
    "\n",
    "#plotPolys(ax,dftmp,fitcol,mean=0)\n",
    "ax = plt.gca()\n",
    "plotPolys(ax,dftmp,fitcol, degs=rng, mean=meanfit)"
   ]
  },
  {
   "cell_type": "code",
   "execution_count": null,
   "id": "1c546f6e",
   "metadata": {},
   "outputs": [],
   "source": [
    "drpairs = [(drs[i],drs[i+1] ) for i in range(3)]\n",
    "drpairs += [(drs[0],drs[i] ) for i in range(2,4)]\n",
    "drpairs += [(drs[1],drs[3] )]\n",
    "drpairs\n",
    "\n",
    "dtpairs = [(dts[i],dts[i+1] ) for i in range(3)]\n",
    "dtpairs += [(dts[0],dts[i] ) for i in range(2,4)]\n",
    "dtpairs += [(dts[1],dts[3] )]\n",
    "dtpairs"
   ]
  },
  {
   "cell_type": "code",
   "execution_count": null,
   "id": "477753ef",
   "metadata": {},
   "outputs": [],
   "source": [
    "def getPvals(dftmp,fitcol,pairs):\n",
    "    from scipy.stats import ttest_ind\n",
    "    pvalues = []\n",
    "    for drp in pairs:\n",
    "        if isinstance(drp[0],str):\n",
    "            vs1 = dftmp.query(f'{fitcol} == \"{drp[0]}\"')['err_sens']\n",
    "            vs2 = dftmp.query(f'{fitcol} == \"{drp[1]}\"')['err_sens']\n",
    "        else:\n",
    "            vs1 = dftmp.query(f'{fitcol} == {drp[0]}')['err_sens']\n",
    "            vs2 = dftmp.query(f'{fitcol} == {drp[1]}')['err_sens']\n",
    "        #ttr = ttest_ind(vs1,vs2)\n",
    "        ttr = ttest_ind(vs1,vs2, alternative='greater')\n",
    "        pvalues += [ttr.pvalue]\n",
    "        \n",
    "        print(drp, ttr.pvalue)\n",
    "    # pvalues = [\n",
    "    #     sci_stats.mannwhitneyu(robots, flight, alternative=\"two-sided\").pvalue,\n",
    "    #     sci_stats.mannwhitneyu(flight, sound, alternative=\"two-sided\").pvalue,\n",
    "    #     sci_stats.mannwhitneyu(robots, sound, alternative=\"two-sided\").pvalue\n",
    "    # ]\n",
    "\n",
    "    # pvalues\n",
    "    # [0.00013485140468088997, 0.2557331102364572, 0.00022985464929005115]\n",
    "\n",
    "    # Transform each p-value to \"p=\" in scientific notation\n",
    "    formatted_pvalues = [f'p={pvalue:.2e}' for pvalue in pvalues]\n",
    "    return pvalues, formatted_pvalues"
   ]
  },
  {
   "cell_type": "code",
   "execution_count": null,
   "id": "0c2775cf",
   "metadata": {},
   "outputs": [],
   "source": [
    "ax.set_title?"
   ]
  },
  {
   "cell_type": "code",
   "execution_count": null,
   "id": "7183db55",
   "metadata": {},
   "outputs": [],
   "source": [
    "mpl.rcParams['axes.titlesize']"
   ]
  },
  {
   "cell_type": "code",
   "execution_count": null,
   "id": "4d3a4740",
   "metadata": {},
   "outputs": [],
   "source": [
    "ax.set_ylabel?"
   ]
  },
  {
   "cell_type": "code",
   "execution_count": null,
   "id": "293c6075",
   "metadata": {},
   "outputs": [],
   "source": [
    "import seaborn as sns\n",
    "#%debug\n",
    "\n",
    "hue = 'env_nice'\n",
    "env2color = {'stable':'lightblue', 'random':'orange'}\n",
    "aspect=1.3\n",
    "#rng = [2]\n",
    "#rng = [2,3,4,5,6,7]\n",
    "rng = [2]\n",
    "ylim = [-2,3]\n",
    "meanfit=1\n",
    "bnqs = [  ('grid_line_violin_spatial','Spatial distance [deg]',drs,drpairs,'dist_rad_from_prevtgt2', f'trial_group_col_calc == \"trialwe\" and err_sens >= {ylim[0]} and err_sens <= {ylim[1]} and trial_shift_size == 1'),\n",
    "        ( 'grid_line_violin_temporal','Temporal distance [number of trials]',dts,dtpairs,'trial_shift_size','trial_group_col_calc == \"trialwe\" and dist_rad_from_prevtgt2 == \"0.00\"')]\n",
    "\n",
    "for env_type in ['stable','random']:\n",
    "    color = env2color[env_type]\n",
    "    for bn,xlab,order,pairs,fitcol,qs in bnqs:\n",
    "        #qs0 = f'trial_group_col_calc == \"trialwe\" and err_sens >= {ylim[0]} and err_sens <= {ylim[1]}'\n",
    "        #qs = qs + ' and trial_shift_size == 1'\n",
    "        if env_type in ['stable', 'random']:\n",
    "            qs += ' and env_nice == @env_type'\n",
    "            hue = None\n",
    "\n",
    "        dftmp0 = dfc_multi_tsz.query(qs)\n",
    "        #fitcol = 'dist_rad_from_prevtgt2'\n",
    "        fg = sns.catplot(kind='violin', data=dftmp0, y='err_sens', \n",
    "                         hue=hue, x=fitcol, order = order,\n",
    "                         split=True, color=color, aspect=aspect)\n",
    "        dftmp = dfc_multi_tsz.query(qs).copy()\n",
    "        pvalues, formatted_pvalues = getPvals(dftmp,fitcol, pairs)\n",
    "\n",
    "\n",
    "        for ax in fg.axes.flatten():\n",
    "            ax.axhline(0,ls=':',c='r')\n",
    "            ax.set_ylabel('Error sensitivity', fontdict={'fontsize':12})\n",
    "            ax.set_xlabel(xlab, fontdict={'fontsize':12} )\n",
    "            if bn == 'grid_line_violin_spatial':\n",
    "                ax.set_xticklabels(['same target', 45, 90, 135])\n",
    "            ax.set_ylim(ylim)\n",
    "            ax.set_title(f'{env_type} environment', y = 0.967,\n",
    "                        fontdict={'fontsize':15, 'fontweight':'bold'})\n",
    "\n",
    "\n",
    "        from statannotations.Annotator import Annotator    \n",
    "        annotator = Annotator(ax,pairs, data=dftmp0, x=fitcol, y='err_sens',\n",
    "                             plot='violinplot', order=order)\n",
    "        #annotator.set_custom_annotations(formatted_pvalues)\n",
    "        annotator.set_pvalues(pvalues)\n",
    "        annotator.annotate()\n",
    "\n",
    "        ax.set_ylim(-2,7)\n",
    "\n",
    "        plotPolys(ax,dftmp,fitcol, degs=rng, mean=meanfit)\n",
    "        #bn = 'grid_line_violin_spatial'\n",
    "        plt.savefig(pjoin(path_fig,'behav',f'{env_type}_{bn}.svg'))\n",
    "        plt.savefig(pjoin(path_fig,'behav',f'{env_type}_{bn}.pdf'))\n",
    "\n",
    "#     #plt.figure(figsize=(10,3))    \n",
    "#     qs = 'trial_group_col_calc == \"trialwe\" and dist_rad_from_prevtgt2 == \"0.00\"'\n",
    "#     if env_type in ['stable', 'random']:\n",
    "#         qs += ' and env_nice == @env_type'\n",
    "#         hue = None  \n",
    "\n",
    "#     fitcol = 'trial_shift_size'\n",
    "#     dftmp0 = dfc_multi_tsz.query(qs)\n",
    "#     fg = sns.catplot(kind='violin', data=dftmp0, y='err_sens', \n",
    "#                      hue=hue, x=fitcol, order = dts,\n",
    "#                      split=True, color=color, aspect=aspect)\n",
    "#     dftmp = dfc_multi_tsz.query(qs).copy()\n",
    "\n",
    "#     for ax in fg.axes.flatten():\n",
    "#         ax.axhline(0,ls=':',c='r')\n",
    "#         ax.set_ylabel('Error sensitivity')\n",
    "#         ax.set_xlabel('Number of trials to the same target in the past')\n",
    "#         ax.set_ylim(ylim)\n",
    "#         ax.set_title(f'{env_type} environment', y = 0.98 )\n",
    "#         #x\n",
    "\n",
    "#     pvalues, formatted_pvalues = getPvals(dftmp,fitcol, dtpairs)\n",
    "#     annotator = Annotator(ax,dtpairs, data=dftmp0, x=fitcol, y='err_sens')\n",
    "#     #annotator.set_custom_annotations(formatted_pvalues)\n",
    "#     annotator.set_pvalues(pvalues)\n",
    "#     annotator.annotate()\n",
    "\n",
    "#     plotPolys(ax,dftmp,fitcol, degs=rng, mean=meanfit)\n",
    "\n",
    "#     bn = 'grid_line_violin_temporal'\n",
    "#     plt.savefig(pjoin(path_fig,f'behav',f'{env_type}_{bn}.svg'))\n",
    "#     plt.savefig(pjoin(path_fig,f'behav',f'{env_type}_{bn}.pdf'))\n",
    "\n",
    "    \n",
    "# plt.legend(title=None, loc='lower right',\n",
    "#        labels=['stable', 'random'])"
   ]
  },
  {
   "cell_type": "code",
   "execution_count": null,
   "id": "df7e1118",
   "metadata": {},
   "outputs": [],
   "source": [
    "(f'{env_type}_behav',f'{bn}.svg')"
   ]
  },
  {
   "cell_type": "code",
   "execution_count": null,
   "id": "d93d2094",
   "metadata": {},
   "outputs": [],
   "source": [
    "pjoin(path_fig,'behav',f'{bn}.svg')"
   ]
  },
  {
   "cell_type": "markdown",
   "id": "9673e908",
   "metadata": {
    "heading_collapsed": true
   },
   "source": [
    "#### Mean across subj"
   ]
  },
  {
   "cell_type": "code",
   "execution_count": null,
   "id": "7a8b7d42",
   "metadata": {
    "hidden": true
   },
   "outputs": [],
   "source": [
    "for envc in [0,1]: #,None]:\n",
    "    env = envcode2env.get(envc,'all')\n",
    "    qs = 'trial_group_col_calc == \"trialwe\"'\n",
    "    if envc is not None:\n",
    "        qs += f' and environment == {envc}'\n",
    "    dfc_s = dfc_multi_tsz.query(qs)\n",
    "    grp = dfc_s.groupby(['trial_shift_size', 'dist_rad_from_prevtgt2'])\n",
    "    \n",
    "    mes = grp['err_sens'].mean()#.reset_index()\n",
    "    res = np.zeros((len(drs), nt))\n",
    "    for (dt,dr), es_mean in mes.items():\n",
    "        #print(dt,dr)\n",
    "        res[ drs.index(dr), list(dts).index(dt) ] =  es_mean\n",
    "        \n",
    "    std = grp['err_sens'].std()#.reset_index()\n",
    "    res_std = np.zeros((len(drs), nt))\n",
    "    for (dt,dr), es_std in std.items():\n",
    "        #print(dt,dr)\n",
    "        res_std[ drs.index(dr), list(dts).index(dt) ] =  es_std\n",
    "        \n",
    "    nav = np.zeros((len(drs), nt))\n",
    "    for (dt,dr),sz in dict( grp.size()  ).items():\n",
    "        #if np.isnan( float(dr) ):     \n",
    "        if dr == 'nan':\n",
    "            continue\n",
    "        nav[ drs.index(dr), dt-1 ] = sz\n",
    "\n",
    "    mtpls = [('mean',res), ('std',res_std), ('number',nav)]\n",
    "    for mn,m in mtpls:\n",
    "        plt.figure()\n",
    "        vm = None; vmi = None\n",
    "        if mn == 'mean':\n",
    "            vm = 0.53\n",
    "            vmi = 0.08\n",
    "        elif mn == 'std':\n",
    "            vm = 0.95\n",
    "            vmi = 0.68\n",
    "            \n",
    "        print(mn,m.max())\n",
    "        ax = sns.heatmap(m, vmax=vm, vmin=vmi) \n",
    "        ttl = f'meansubj_{mn}_{env}'\n",
    "        ax.set_title(ttl)\n",
    "        ax.set_xlabel('dist_trial')  # rows\n",
    "        ax.set_xticklabels( list(dts));\n",
    "        ax.set_ylabel('dist_rad')  # rows\n",
    "        ax.set_yticklabels( list(drs));\n",
    "        \n",
    "        plt.savefig(pjoin(path_fig, 'behav', ttl + '.pdf'))\n",
    "        \n",
    "        \n",
    "\n",
    "        #ax.invert_yaxis()\n",
    "    "
   ]
  },
  {
   "cell_type": "markdown",
   "id": "2cb5055d",
   "metadata": {
    "heading_collapsed": true
   },
   "source": [
    "#### per subj grid plot"
   ]
  },
  {
   "cell_type": "code",
   "execution_count": null,
   "id": "5c766d76",
   "metadata": {
    "hidden": true
   },
   "outputs": [],
   "source": [
    "std_mins,std_maxs = [],[]\n",
    "me_mins,me_maxs = [],[]\n",
    "for envc in [0,1,None]:\n",
    "    env = envcode2env.get(envc,'all')\n",
    "    for subj in subjects:\n",
    "        qs = f'trial_group_col_calc == \"trialwe\" and subject == \"{subj}\"'\n",
    "        if envc is not None:\n",
    "            qs += f' and environment == {envc}'\n",
    "        dfc_s = dfc_multi_tsz.query(qs)\n",
    "        grp = dfc_s.groupby(['trial_shift_size', 'dist_rad_from_prevtgt2'])\n",
    "\n",
    "\n",
    "        mes = grp['err_sens'].mean()#.reset_index()\n",
    "        res = np.zeros((len(drs), nt))\n",
    "        for (dt,dr), es_mean in mes.items():\n",
    "            #print(dt,dr)\n",
    "            res[ drs.index(dr), list(dts).index(dt) ] =  es_mean\n",
    "\n",
    "        std = grp['err_sens'].std()#.reset_index()\n",
    "        res_std = np.zeros((len(drs), nt))\n",
    "        for (dt,dr), es_std in std.items():\n",
    "            #print(dt,dr)\n",
    "            res_std[ drs.index(dr), list(dts).index(dt) ] =  es_std\n",
    "\n",
    "        nav = np.zeros((len(drs), nt))\n",
    "        for (dt,dr),sz in dict( grp.size()  ).items():\n",
    "            #if np.isnan( float(dr) ):     \n",
    "            if dr == 'nan':\n",
    "                continue\n",
    "            nav[ drs.index(dr), dt-1 ] = sz\n",
    "\n",
    "        mtpls = [('mean',res), ('std',res_std), ('number',nav)]\n",
    "        for mn,m in mtpls:\n",
    "            plt.figure()\n",
    "            vm = None; vmi = None\n",
    "            if mn == 'mean':\n",
    "                vm = 0.84\n",
    "                vmi = -0.28\n",
    "                me_mins += [m.min()]\n",
    "                me_maxs += [m.max()]\n",
    "            elif mn == 'std':\n",
    "                vm = 1.44\n",
    "                vmi = 0.42\n",
    "                std_mins += [m.min()]\n",
    "                std_maxs += [m.max()]\n",
    "\n",
    "            print(mn,m.max())\n",
    "            ax = sns.heatmap(m, vmax=vm, vmin=vmi)\n",
    "            ttl = f'{subj[:6]}_{mn}_{env}'\n",
    "            ax.set_title(ttl)\n",
    "            ax.set_xlabel('dist_trial')  # rows\n",
    "            ax.set_xticklabels( list(dts));\n",
    "            ax.set_ylabel('dist_rad')  # rows\n",
    "            ax.set_yticklabels( list(drs));\n",
    "            \n",
    "            plt.savefig(pjoin(path_fig, 'behav', ttl + '.pdf'))\n",
    "            \n",
    "            plt.close()\n",
    "\n",
    "#         break\n",
    "#     break\n",
    "\n",
    "\n",
    "        #ax.invert_yaxis()\n",
    "    "
   ]
  },
  {
   "cell_type": "markdown",
   "id": "1026463a",
   "metadata": {},
   "source": [
    "#### Mean t-tests between cells"
   ]
  },
  {
   "cell_type": "markdown",
   "id": "59609c71",
   "metadata": {
    "heading_collapsed": true
   },
   "source": [
    "##### all to all"
   ]
  },
  {
   "cell_type": "code",
   "execution_count": null,
   "id": "cf6c5fde",
   "metadata": {
    "hidden": true,
    "run_control": {
     "marked": false
    }
   },
   "outputs": [],
   "source": [
    "envc = 0\n",
    "env = envcode2env.get(envc,'all')\n",
    "qs = 'trial_group_col_calc == \"trialwe\"'\n",
    "if envc is not None:\n",
    "    qs += f' and environment == {envc}'\n",
    "dfc_s = dfc_multi_tsz.query(qs)\n",
    "grp = dfc_s.groupby(['trial_shift_size', 'dist_rad_from_prevtgt2'])\n",
    "\n",
    "\n",
    "from itertools import product\n",
    "p = product( grp.groups.keys(),  grp.groups.keys() ) \n",
    "p = list(p)\n",
    "\n",
    "\n",
    "good_tpls = []\n",
    "bad_tpls = []\n",
    "for tpl in p:\n",
    "    ((dt1,dr1), (dt2,dr2))= tpl\n",
    "    if tpl[0] == tpl[1]:\n",
    "        continue\n",
    "    if dt1 == d2 and float(dr1) < float(dr2):\n",
    "        continue\n",
    "    if dr1 == dr2 and dt1 < dt2:\n",
    "        continue\n",
    "    \n",
    "    inds1 = grp.groups[(dt1,dr1)]\n",
    "    inds2 = grp.groups[(dt2,dr2)]\n",
    "    ttr = ttest_ind(dfc_s.loc[inds1, coln], dfc_s.loc[inds2, coln])\n",
    "    pv = ttr.pvalue\n",
    "    svtpl = (tpl, pv, len(inds1), len(inds2))\n",
    "    if pv <= 0.05:\n",
    "        good_tpls += [svtpl]\n",
    "    else:\n",
    "        bad_tpls += [svtpl]\n",
    "\n",
    "#     des,res = rp.ttest( dfc_s.loc[inds1, coln], dfc_s.loc[inds2, coln],\n",
    "#                       str(tpl[0]), str(tpl[1]))\n",
    "#     print(tpl )\n",
    "#     display(des)\n",
    "print(len(good_tpls), len(bad_tpls), len(p))"
   ]
  },
  {
   "cell_type": "code",
   "execution_count": null,
   "id": "62ef303b",
   "metadata": {
    "hidden": true,
    "run_control": {
     "marked": false
    }
   },
   "outputs": [],
   "source": [
    "#len(good_tpls), good_tpls\n",
    "for tpl, pv, l1, l2 in good_tpls:\n",
    "    ((dt1,dr1), (dt2,dr2))= tpl\n",
    "    print( f'trial; spatial = ({dt1}; {dr1}) N={l1} is diff from ({dt2}; {dr2}) N={l2}; pv={pv:.3f}')"
   ]
  },
  {
   "cell_type": "code",
   "execution_count": null,
   "id": "a0628eb0",
   "metadata": {
    "hidden": true,
    "run_control": {
     "marked": false
    }
   },
   "outputs": [],
   "source": [
    "#len(good_tpls), good_tpls\n",
    "for tpl, pv, l1, l2 in bad_tpls:\n",
    "    ((dt1,dr1), (dt2,dr2))= tpl\n",
    "    print( f'trial; spatial = ({dt1}; {dr1}) N={l1} is NOT diff from ({dt2}; {dr2}) N={l2}; pv={pv:.3f}')"
   ]
  },
  {
   "cell_type": "markdown",
   "id": "58c66098",
   "metadata": {
    "heading_collapsed": true
   },
   "source": [
    "##### within row or col ttests"
   ]
  },
  {
   "cell_type": "code",
   "execution_count": null,
   "id": "ed00cc09",
   "metadata": {
    "hidden": true
   },
   "outputs": [],
   "source": [
    "rc2query"
   ]
  },
  {
   "cell_type": "code",
   "execution_count": null,
   "id": "050163b6",
   "metadata": {
    "hidden": true
   },
   "outputs": [],
   "source": [
    "rc2axnames"
   ]
  },
  {
   "cell_type": "code",
   "execution_count": null,
   "id": "8d9a9fd9",
   "metadata": {
    "hidden": true
   },
   "outputs": [],
   "source": [
    "from scipy.stats import ttest_ind"
   ]
  },
  {
   "cell_type": "code",
   "execution_count": null,
   "id": "32aefbf6",
   "metadata": {
    "hidden": true
   },
   "outputs": [],
   "source": [
    "show_bad = 0\n",
    "envc = 1\n",
    "#rc = 'row1'\n",
    "#rc = 'row4'\n",
    "#rc = 'col1'\n",
    "env = envcode2env.get(envc,'all')\n",
    "for rc in rc2query:\n",
    "    print(f'     env={env}, {rc}')\n",
    "    for alt in [ 'two-sided', 'greater', 'less']:\n",
    "        qs = 'trial_group_col_calc == \"trialwe\"'\n",
    "        if envc is not None:\n",
    "            qs += f' and environment == {envc}'\n",
    "        dfc_s = dfc_multi_tsz.query(qs + ' and ' + rc2query[rc])\n",
    "\n",
    "        grp = dfc_s.groupby([rc2axnames[rc][0] ] )\n",
    "\n",
    "        from itertools import product\n",
    "        p = product( grp.groups.keys(),  grp.groups.keys() ) \n",
    "        p = list(p)\n",
    "\n",
    "        good_tpls = []\n",
    "        bad_tpls = []\n",
    "        for tpl in p:\n",
    "            (v1,v2)= tpl\n",
    "            if float(v1) <= float(v2):\n",
    "                continue\n",
    "            inds1 = grp.groups[v1]\n",
    "            inds2 = grp.groups[v2]\n",
    "            ttr = ttest_ind(dfc_s.loc[inds1, coln], dfc_s.loc[inds2, coln],\n",
    "                           alternative = alt)\n",
    "            pv = ttr.pvalue\n",
    "            svtpl = (tpl, pv, len(inds1), len(inds2))\n",
    "            if pv <= 0.05:\n",
    "                good_tpls += [svtpl]\n",
    "            else:\n",
    "                bad_tpls += [svtpl]\n",
    "\n",
    "        #     des,res = rp.ttest( dfc_s.loc[inds1, coln], dfc_s.loc[inds2, coln],\n",
    "        #                       str(tpl[0]), str(tpl[1]))\n",
    "        #     print(tpl )\n",
    "        #     display(des)    \n",
    "        nt  = len(good_tpls) + len(bad_tpls)\n",
    "        print(f'  alt={alt}, nreject_null={len(good_tpls)}, naccept_null={len(bad_tpls)}, ntot={nt}')\n",
    "\n",
    "        dg = {'two-sided':'diff', 'greater': '>', 'less': '<'} #null is rejected\n",
    "        db = {'two-sided':'NOT diff', 'greater': '?<=', 'less': '?>='} # null is not rejected\n",
    "        # alt hyp is presence of diff in one of the ways\n",
    "        # null hypothesis is equal means, not rejected if pvalue is large\n",
    "        #len(good_tpls), good_tpls\n",
    "        for tpl, pv, l1, l2 in good_tpls:\n",
    "            (v1,v2)= tpl\n",
    "            print( f'{rc2axnames[rc][0]}={v1} N={l1:4} is {dg[alt]} from {v2} N={l2:4}; pv={pv:.4f}')\n",
    "\n",
    "        if show_bad:\n",
    "            for tpl, pv, l1, l2 in bad_tpls:\n",
    "                (v1,v2)= tpl\n",
    "                print( f'!{rc2axnames[rc][0]}={v1} N={l1:4} is {db[alt]} from {v2} N={l2:4}; pv={pv:.4f}')\n",
    "        print('')\n",
    "    print('---------------------------------------')"
   ]
  },
  {
   "cell_type": "markdown",
   "id": "2b25910d",
   "metadata": {
    "heading_collapsed": true
   },
   "source": [
    "#### per subj regr (regression on grid cells made per subject)"
   ]
  },
  {
   "cell_type": "code",
   "execution_count": null,
   "id": "3f347922",
   "metadata": {
    "hidden": true
   },
   "outputs": [],
   "source": [
    "d = {}; d2={}\n",
    "d['col1']       = ['dist_rad_from_prevtgt2','err_sens']\n",
    "d['row1'] = ['trial_shift_size','err_sens']\n",
    "d['row4'] = ['trial_shift_size','err_sens']\n",
    "d2['col1'] = 'trial_shift_size == 1'\n",
    "d2['row1'] = 'dist_rad_from_prevtgt2 == \"0.00\"'\n",
    "d2['row4'] = 'dist_rad_from_prevtgt2 == \"2.36\"'\n",
    "\n",
    "rc2axnames = d\n",
    "rc2query = d2\n",
    "rc2name = {'col1':'fix time dist', 'row1':'fix spatial dist',\n",
    "          'row4':'fix spatial dist last'}\n",
    "\n",
    "qs = f'trial_group_col_calc == \"trialwe\"'\n",
    "qsprc = {}\n",
    "for rc in d2:\n",
    "    qsprc[rc] = qs + ' and ' + d2[rc]\n"
   ]
  },
  {
   "cell_type": "code",
   "execution_count": null,
   "id": "e734558c",
   "metadata": {
    "hidden": true
   },
   "outputs": [],
   "source": [
    "std_mins,std_maxs = [],[]\n",
    "me_mins,me_maxs = [],[]\n",
    "envc2coef_means = {0:[], 1:[]}\n",
    "coefsd_per_env = {}\n",
    "envc2rc2yX = {0:[], 1:[]}\n",
    "envc2rc2yX2 = {0:[], 1:[]}\n",
    "for envc in [0,1]: #,None]:\n",
    "    env = envcode2env.get(envc,'all')\n",
    "    qs = f'trial_group_col_calc == \"trialwe\"'\n",
    "    if envc is not None:\n",
    "        qs += f' and environment == {envc}'\n",
    "    dfc_s = dfc_multi_tsz.query(qs)\n",
    "    grp = dfc_s.groupby(['trial_shift_size', 'dist_rad_from_prevtgt2','subject'])\n",
    "\n",
    "\n",
    "    mes = grp['err_sens'].mean()#.reset_index()\n",
    "\n",
    "    mesri = mes.reset_index()\n",
    "    #row1 = mesri.query('trial_shift_size == 1')\n",
    "    #col1 = mesri.query('dist_rad_from_prevtgt2 == \"0.00\"')\n",
    "\n",
    "    # regression on 4 * len(subjects) elements\n",
    "    coefsd = dict(zip(rc2query.keys(), len(rc2query) * [None] ) )\n",
    "    yXd = dict(zip(rc2query.keys(), len(rc2query) * [None]) )\n",
    "    for rc in rc2axnames:\n",
    "    #for df, cols, name in [(row1, rc2axnames[rc], 'row1 time dist'), \\\n",
    "    #                 (col1,['trial_shift_size','err_sens'], 'col1 spatial dist')]:\n",
    "        df = mesri.query(rc2query[rc])\n",
    "        cols = rc2axnames[rc]\n",
    "        name = rc + ' ' + rc2name[rc]\n",
    "        \n",
    "        yX = df[cols].values.astype(np.float64)\n",
    "        X = yX[:,:1]\n",
    "        y = yX[:,1]\n",
    "        \n",
    "#         X = yX[:,1:]\n",
    "#         y = yX[:,0]\n",
    "        \n",
    "        yXd[name[:4]] = yX\n",
    "\n",
    "        from sklearn.model_selection import KFold\n",
    "        from sklearn.linear_model import LinearRegression\n",
    "\n",
    "        model = LinearRegression()\n",
    "        scores = []; coefs = []\n",
    "        icepts = []\n",
    "        kfold = KFold(n_splits=5, shuffle=True, random_state=42)\n",
    "        for i, (train, test) in enumerate(kfold.split(X, y)):\n",
    "            model.fit(X[train,:], y[train])\n",
    "            # R2 = coef of determination\n",
    "            scores.append(model.score(X[test,:], y[test])) \n",
    "            coefs += [model.coef_]\n",
    "            icepts += [model.intercept_]\n",
    "        scores = np.array(scores)\n",
    "        coefs = np.array(coefs)\n",
    "        sm = scores.mean()\n",
    "        cm = coefs.mean()\n",
    "        icm = np.array(icepts).mean()\n",
    "        coefsd[rc] = cm\n",
    "        print(f'env={env}, {name:18}, r2={sm:.2f}, coef={cm:.4f}, icept={icm:.4f}')\n",
    "    envc2coef_means[envc] = coefsd\n",
    "    envc2rc2yX[envc] = yXd\n",
    "        \n",
    "    \n",
    "    # regression on 4 elements for every subjects\n",
    "    yXd = dict(zip(rc2query.keys(), [ [] for _ in range(len(rc2query)) ] ) )\n",
    "    coefsd = dict(zip(rc2query.keys(), len(rc2query) * [ [] for _ in range(len(rc2query)) ] ) )\n",
    "    k = 1\n",
    "    for rc in rc2axnames:\n",
    "        for subj in subjects:        \n",
    "#         row1 = mesri.query(f'trial_shift_size == 1 and subject == \"{subj}\"')\n",
    "#         col1 = mesri.query(f'dist_rad_from_prevtgt2 == \"0.00\" and subject == \"{subj}\"')\n",
    "\n",
    "#         for df, cols, name in [(row1, ['dist_rad_from_prevtgt2','err_sens'], 'row1 time dist'), \\\n",
    "#                          (col1,['trial_shift_size','err_sens'], 'col1 spatial dist')]:\n",
    "        \n",
    "            df = mesri.query(rc2query[rc] + f' and subject == \"{subj}\"')\n",
    "            cols = rc2axnames[rc]\n",
    "            name = rc + ' ' + rc2name[rc]\n",
    "\n",
    "            yX = df[cols].values.astype(np.float64)\n",
    "            X = yX[:,:1]\n",
    "            y = yX[:,1]\n",
    "            \n",
    "            yXd[name[:4]] += [ yX]\n",
    "\n",
    "            from sklearn.model_selection import KFold\n",
    "            from sklearn.linear_model import LinearRegression\n",
    "\n",
    "            model = LinearRegression()\n",
    "            coefs = []            \n",
    "            model.fit(X, y)            \n",
    "            cm = model.coef_[0]    \n",
    "            \n",
    "            coefsd[rc] += [cm]\n",
    "            #print(k,rc, len(coefsd[rc] ) ); k+=1 \n",
    "            \n",
    "            \n",
    "            #print(f'env={env}, {name:18}, r2={sm:.2f}, coef={cm:.2f}')\n",
    "    coefsd_per_env[envc] = coefsd\n",
    "    envc2rc2yX2[envc] = yXd"
   ]
  },
  {
   "cell_type": "markdown",
   "id": "08da0e52",
   "metadata": {
    "hidden": true
   },
   "source": [
    "##### plots "
   ]
  },
  {
   "cell_type": "code",
   "execution_count": null,
   "id": "41c15bb7",
   "metadata": {
    "hidden": true
   },
   "outputs": [],
   "source": [
    "len( coefsd['row1'] ) #, coefsd['row4'] )"
   ]
  },
  {
   "cell_type": "code",
   "execution_count": null,
   "id": "eeb74a47",
   "metadata": {
    "hidden": true,
    "run_control": {
     "marked": false
    }
   },
   "outputs": [],
   "source": [
    "envc2col=['orange','grey']\n",
    "\n",
    "#rc2marker = {'row1':'o', 'col1':'*'}\n",
    "rc = 'row1'\n",
    "for rc in rc2query:\n",
    "    plt.figure()\n",
    "    for envc, yXd in envc2rc2yX.items():\n",
    "        yX = yXd[rc]\n",
    "        #for rc,yX in yXd.items():\n",
    "        X = yX[:,:1]\n",
    "        y = yX[:,1]\n",
    "        plt.scatter(X,y, c=envc2col[envc],marker='o' )#, marker = rc2marker[rc])\n",
    "        \n",
    "        #plt.scatter(X,y, c=envc2col[envc], marker = rc2marker[rc])\n",
    "        for xx in np.unique(X):\n",
    "            ym = y[ np.where(X[:,0] == xx) ].mean()\n",
    "            print(rc, envc, xx,  ym)\n",
    "            plt.plot([xx],[ym], c=envc2col[envc],  markersize=20, marker='*')\n",
    "            # #, marker = rc2marker[rc],\n",
    "        plt.title(rc + ' ' + rc2name[rc])\n",
    "        plt.xlabel(rc2axnames[rc][0])\n",
    "        plt.ylabel(rc2axnames[rc][1])\n",
    "        \n",
    "        cm = envc2coef_means[envc][rc]\n",
    "        xv = np.unique(X[:,0])\n",
    "        xv.sort()\n",
    "        plt.plot(xv,xv*cm - xv[0]*cm, c=envc2col[envc])        \n",
    "        "
   ]
  },
  {
   "cell_type": "code",
   "execution_count": null,
   "id": "4123c366",
   "metadata": {
    "hidden": true
   },
   "outputs": [],
   "source": [
    "envc2col=['orange','grey']\n",
    "\n",
    "rc2marker = {'row1':'o', 'col1':'*'}\n",
    "rc = 'row1'\n",
    "for rc in rc2query:\n",
    "    plt.figure()\n",
    "    for envc, yXd in envc2rc2yX.items():\n",
    "        yX = np.vstack( envc2rc2yX2[envc][rc] )\n",
    "        #for rc,yX in yXd.items():\n",
    "        X = yX[:,:1]\n",
    "        y = yX[:,1]\n",
    "        plt.scatter(X,y, c=envc2col[envc], marker = 'o') #rc2marker[rc])\n",
    "        plt.title(rc + ' ' + rc2name[rc])\n",
    "        plt.xlabel(rc2axnames[rc][0])\n",
    "        plt.ylabel(rc2axnames[rc][1])\n",
    "        \n",
    "        for cm in coefsd_per_env[envc][rc]:\n",
    "            xv = np.unique(X[:,0])\n",
    "            xv.sort()\n",
    "            plt.plot(xv,xv*cm, c=envc2col[envc], alpha=0.7)        \n",
    "        "
   ]
  },
  {
   "cell_type": "code",
   "execution_count": null,
   "id": "6c51430a",
   "metadata": {
    "hidden": true
   },
   "outputs": [],
   "source": [
    "# so each is nonzero but the slopes for stable and random can totally be equal\n",
    "for rc in ['col1', 'row1', 'row4']:\n",
    "    st = coefsd_per_env[0][rc]\n",
    "    ra = coefsd_per_env[1][rc]\n",
    "    \n",
    "    name = rc2name[rc]\n",
    "    \n",
    "    r0 = ttest_1samp(st, 0)\n",
    "    print(name, 'diff from zero stable pvalue', r0.pvalue)\n",
    "    \n",
    "    r = ttest_rel (st,ra)\n",
    "    print(name, 'diff between env pvalue', r.pvalue)"
   ]
  },
  {
   "cell_type": "markdown",
   "id": "7a16573b",
   "metadata": {
    "heading_collapsed": true
   },
   "source": [
    "#### diff of regr slopes within subj"
   ]
  },
  {
   "cell_type": "code",
   "execution_count": null,
   "id": "8fff5bff",
   "metadata": {
    "hidden": true
   },
   "outputs": [],
   "source": [
    "#fig,axs = plt.subplots(1,2)\n",
    "rcord = ['row1', 'col1']\n",
    "coefsd_per_env = {}\n",
    "for envc in [0,1,None]:\n",
    "    env = envcode2env.get(envc,'all')\n",
    "    coefsd = {'row1':[], 'col1':[]}\n",
    "    for subj in subjects:\n",
    "        qs = f'trial_group_col_calc == \"trialwe\" and subject == \"{subj}\"'\n",
    "        if envc is not None:\n",
    "            qs += f' and environment == {envc}'        \n",
    "                        \n",
    "        for rc in rc2axnames:\n",
    "            df = dfc_multi_tsz.query(rc2query[rc] + ' and ' + qs)\n",
    "            cols = rc2axnames[rc]\n",
    "            name = rc + ' ' + rc2name[rc]\n",
    "            yX = df[cols].values.astype(np.float64)\n",
    "            \n",
    "#             if envc is not None:\n",
    "#                 envc2color = {0:'orange', 1:'grey'}\n",
    "#                 c = envc2color[envc]\n",
    "#                 df[cols].plot.scatter(cols[0], cols[1], \n",
    "#                     ax=axs[rcord.index(name[:4])], c=c)\n",
    "            \n",
    "            X = yX[:,:1]\n",
    "            y = yX[:,1]\n",
    "\n",
    "            from sklearn.model_selection import KFold\n",
    "            from sklearn.linear_model import LinearRegression\n",
    "\n",
    "            model = LinearRegression()\n",
    "            scores = []; coefs = []\n",
    "            kfold = KFold(n_splits=5, shuffle=True, random_state=42)\n",
    "            for i, (train, test) in enumerate(kfold.split(X, y)):\n",
    "                model.fit(X[train,:], y[train])\n",
    "                # R2 = coef of determination\n",
    "                scores.append(model.score(X[test,:], y[test])) \n",
    "                coefs += [model.coef_]\n",
    "            scores = np.array(scores)\n",
    "            coefs = np.array(coefs)\n",
    "            sm = scores.mean()\n",
    "            cm = coefs.mean()\n",
    "            \n",
    "            coefsd[name[:4]] += [cm]\n",
    "            print(f'{subj} env={env}, {name:18}, r2={sm:.2f}, coef={cm:.2f}')\n",
    "            #grp = dfc_s.groupby(['trial_shift_size', 'dist_rad_from_prevtgt2'])\n",
    "            #mes = grp['err_sens'].mean()\n",
    "#             break\n",
    "#         break\n",
    "#     break\n",
    "    coefsd_per_env[env] = coefsd\n",
    "    \n",
    "coefsd_per_env2 = coefsd_per_env"
   ]
  },
  {
   "cell_type": "code",
   "execution_count": null,
   "id": "97f581d0",
   "metadata": {
    "hidden": true
   },
   "outputs": [],
   "source": [
    "np.array(coefsd_per_env2['stable']['row1']) - np.array(coefsd_per_env['stable']['row1'])"
   ]
  },
  {
   "cell_type": "code",
   "execution_count": null,
   "id": "32761fc8",
   "metadata": {
    "hidden": true
   },
   "outputs": [],
   "source": [
    "np.array(coefsd_per_env2['stable']['col1']) - np.array(coefsd_per_env['stable']['col1'])"
   ]
  },
  {
   "cell_type": "code",
   "execution_count": null,
   "id": "6df19c02",
   "metadata": {
    "hidden": true
   },
   "outputs": [],
   "source": [
    "coefsd_per_env"
   ]
  },
  {
   "cell_type": "code",
   "execution_count": null,
   "id": "21803a26",
   "metadata": {
    "hidden": true
   },
   "outputs": [],
   "source": [
    "from scipy.stats import ttest_rel, ttest_1samp"
   ]
  },
  {
   "cell_type": "code",
   "execution_count": null,
   "id": "0d4b73b8",
   "metadata": {
    "hidden": true
   },
   "outputs": [],
   "source": [
    "# so each is nonzero but the slopes for stable and random can totally be equal\n",
    "for name in ['col1', 'row1', 'row4']:\n",
    "    st = coefsd_per_env['stable'][name]\n",
    "    ra = coefsd_per_env['random'][name]\n",
    "    \n",
    "    r0 = ttest_1samp(st, 0)\n",
    "    print(name, 'r0', r0)\n",
    "    \n",
    "    r = ttest_rel (st,ra)\n",
    "    print(name, r)"
   ]
  },
  {
   "cell_type": "code",
   "execution_count": null,
   "id": "fa6b972a",
   "metadata": {
    "hidden": true
   },
   "outputs": [],
   "source": [
    "# rp.difference_test('err_sens ~ C(dist_rad_from_prevtgt2) + C(trial_shift_size)',\n",
    "#                   data = grp)"
   ]
  },
  {
   "cell_type": "code",
   "execution_count": null,
   "id": "80be16b9",
   "metadata": {
    "hidden": true
   },
   "outputs": [],
   "source": [
    "drs = list(sorted(drs,key = lambda x: float(x)))"
   ]
  },
  {
   "cell_type": "markdown",
   "id": "745f6435",
   "metadata": {
    "heading_collapsed": true
   },
   "source": [
    "#### mean by hand (old)"
   ]
  },
  {
   "cell_type": "code",
   "execution_count": null,
   "id": "98108ce4",
   "metadata": {
    "hidden": true
   },
   "outputs": [],
   "source": [
    "# compute err sens within env (not target), \n",
    "# shifting errors, targets and movements by a fixed number of trials t\n",
    "# depending on which distance is the shfited target from the current one,\n",
    "# put it in the corresponding table entry\n",
    "drs = dfc_multi_tsz['dist_rad_from_prevtgt'].unique();\n",
    "drs = list(sorted(drs,key = lambda x: float(x)))\n",
    "\n",
    "#dfc_s = dfc[dfc['trial_group_col_calc'] == 'trialwtgt_we']\n",
    "dfc_s = dfc_multi_tsz.query('trial_group_col_calc == \"trialwe\"')\n",
    "#dfc_s['dist_trial_from_prevtgt'] #= dfc_s['dist_trial_from_prevtgt'].astype(int)\n",
    "nt = 4\n",
    "res = np.zeros((len(drs), nt))\n",
    "res_std = np.zeros((len(drs), nt))\n",
    "nav = np.zeros((len(drs), nt), dtype=int)\n",
    "#for dri,dr in enumerate(drs):\n",
    "dts = np.arange(1,1+nt)\n",
    "mes = []; cols = []\n",
    "for dt in dts:\n",
    "    #dfc_sc = dfc_s.query(f'dist_rad_from_tgt-{dt}')\n",
    "    \n",
    "    col = f'dist_rad_from_tgt-{dt}'\n",
    "    grp =  dfc_s.query('trial_shift_size == @dt').groupby(col)\n",
    "    me =grp.mean()    \n",
    "    mes += [me]; cols += [col]\n",
    "    for dr,row in me.iterrows():\n",
    "        #if np.isnan( float(dr) ):\n",
    "        if dr == 'nan':\n",
    "            continue\n",
    "        v = row['err_sens']\n",
    "        res[ drs.index(dr), dt-1 ] = v\n",
    "    \n",
    "    r = rp.summarize(grp['err_sens'])\n",
    "    display(dt,r)\n",
    "    \n",
    "    std =grp.std()    \n",
    "    for dr,row in std.iterrows():\n",
    "        #if np.isnan( float(dr) ):\n",
    "        if dr == 'nan':\n",
    "            continue\n",
    "        v = row['err_sens']\n",
    "        res_std[ drs.index(dr), dt-1 ] = v\n",
    "    \n",
    "    #std =grp.std()    \n",
    "    for dr,sz in dict( grp.size()  ).items():\n",
    "        #if np.isnan( float(dr) ):     \n",
    "        if dr == 'nan':\n",
    "            continue\n",
    "        nav[ drs.index(dr), dt-1 ] = sz\n",
    "    \n",
    "    \n",
    "    #if dt == 2:\n",
    "    #    break"
   ]
  },
  {
   "cell_type": "code",
   "execution_count": null,
   "id": "3b5923c9",
   "metadata": {
    "hidden": true
   },
   "outputs": [],
   "source": [
    "mtpls = [('mean',res), ('std',res_std), ('number',nav)]\n",
    "for mn,m in mtpls:\n",
    "    plt.figure()\n",
    "    ax = sns.heatmap(m)\n",
    "    ax.set_title(mn)\n",
    "    ax.set_xlabel('dist_trial')  # rows\n",
    "    ax.set_xticklabels( list(dts));\n",
    "    ax.set_ylabel('dist_rad')  # rows\n",
    "    ax.set_yticklabels( list(drs));\n",
    "    #ax.invert_yaxis()\n",
    "    "
   ]
  },
  {
   "cell_type": "markdown",
   "id": "35e26dec",
   "metadata": {
    "heading_collapsed": true
   },
   "source": [
    "# Stats"
   ]
  },
  {
   "cell_type": "markdown",
   "id": "3e2f9af9",
   "metadata": {
    "heading_collapsed": true,
    "hidden": true
   },
   "source": [
    "## Mixed ANOVA"
   ]
  },
  {
   "cell_type": "code",
   "execution_count": null,
   "id": "538fc65f",
   "metadata": {
    "hidden": true
   },
   "outputs": [],
   "source": [
    "# 4 cols -- env,spat (or time) dist and error sens and subject\n",
    "# rm_anova\n",
    "# dv = err_sens\n",
    "# within = ['env', 'time']\n",
    "# subject = subject\n",
    "# correction = "
   ]
  },
  {
   "cell_type": "code",
   "execution_count": null,
   "id": "28ec61a0",
   "metadata": {
    "hidden": true
   },
   "outputs": [],
   "source": [
    "import pingouin as pg\n",
    "for rc in rc2query:\n",
    "#    for envc in [0,1]: #,None]:\n",
    "    env = envcode2env.get(envc,'all')\n",
    "    qs = f'trial_group_col_calc == \"trialwe\" and '  + rc2query[rc]\n",
    "#         if envc is not None:\n",
    "#             qs += f' and environment == {envc}'\n",
    "    df = dfc_multi_tsz.query(qs)\n",
    "    #grp = dfc_s.groupby(['trial_shift_size', 'dist_rad_from_prevtgt2','subject'])\n",
    "\n",
    "    aov = pg.rm_anova(dv='err_sens', within=[rc2axnames[rc][0], 'environment'],\n",
    "                  subject='subject', data=df)\n",
    "    display(aov)\n",
    "    "
   ]
  },
  {
   "cell_type": "markdown",
   "id": "518488b9",
   "metadata": {
    "heading_collapsed": true,
    "hidden": true
   },
   "source": [
    "## KS tests"
   ]
  },
  {
   "cell_type": "markdown",
   "id": "c646f5ea",
   "metadata": {
    "heading_collapsed": true,
    "hidden": true
   },
   "source": [
    "#### pooled "
   ]
  },
  {
   "cell_type": "code",
   "execution_count": null,
   "id": "27e5ef91",
   "metadata": {
    "hidden": true
   },
   "outputs": [],
   "source": [
    "coln = 'err_sens'\n",
    "#dfc = truncateDf(df_all2, coln, q=0.05, clean_infnan=True)\n",
    "dfc = truncateDf(df_all2, coln, q=0.05, clean_infnan=True)"
   ]
  },
  {
   "cell_type": "code",
   "execution_count": null,
   "id": "5752cb86",
   "metadata": {
    "hidden": true
   },
   "outputs": [],
   "source": [
    "dfc.to_pickle(pjoin(path_data,'dfc.pkl'))"
   ]
  },
  {
   "cell_type": "code",
   "execution_count": null,
   "id": "131887df",
   "metadata": {
    "hidden": true
   },
   "outputs": [],
   "source": [
    "# is err_sens distr similar across env for a fixed grouping? Yes\n",
    "from scipy.stats import ks_2samp\n",
    "from scipy.stats import ttest_ind\n",
    "for tgcc in dfc['trial_group_col_calc'].unique():\n",
    "    dfc_s = dfc[dfc['trial_group_col_calc'] == tgcc]\n",
    "    d = {}\n",
    "    for envc in envcode2env:\n",
    "        d[envc] = dfc_s.loc[dfc_s['environment'] == envc,coln].values \n",
    "\n",
    "    print('  ',tgcc)\n",
    "    for alt in ['two-sided', 'less', 'greater']:\n",
    "        # small p-val means different distr (reject identical)\n",
    "        ksr     = ks_2samp(d[0], d[1], alternative=alt)  \n",
    "        classic = ttest_ind(d[0], d[1], alternative=alt)\n",
    "        print(f' alt={alt:9}','KS',ksr.pvalue <= 0.05,'ttest_ind',classic.pvalue <= 0.05)\n",
    "    print('')"
   ]
  },
  {
   "cell_type": "code",
   "execution_count": null,
   "id": "22e8a1da",
   "metadata": {
    "hidden": true
   },
   "outputs": [],
   "source": [
    "# is err_sens distr similar across groupingings for fixed env? only KS-wise\n",
    "env = 'stable'\n",
    "dfc_s = dfc[dfc['environment'] == env2envcode[env]]\n",
    "d = {}\n",
    "tgccs = dfc['trial_group_col_calc'].unique()\n",
    "for tgcc in tgccs:\n",
    "    d[tgcc] = dfc_s.loc[dfc_s['trial_group_col_calc'] == tgcc,coln].values\n",
    "    print(len(d[tgcc]))\n",
    "\n",
    "print(env,tgccs)\n",
    "for alt in ['two-sided', 'less', 'greater']:\n",
    "    # small p-val means not identical\n",
    "    ksr = ks_2samp(d[tgccs[0] ], d[ tgccs[1] ], alternative=alt)  \n",
    "    cr = ttest_ind(d[tgccs[0]], d[tgccs[1]], alternative=alt)\n",
    "    print(alt,'KS',ksr.pvalue, 'ttest_ind', cr.pvalue)"
   ]
  },
  {
   "cell_type": "code",
   "execution_count": null,
   "id": "13e3fd15",
   "metadata": {
    "hidden": true
   },
   "outputs": [],
   "source": [
    "plt.hist(d[tgccs[0] ], bins=50,alpha=0.5);\n",
    "plt.hist(d[tgccs[1] ], bins=50,alpha=0.5);"
   ]
  },
  {
   "cell_type": "code",
   "execution_count": null,
   "id": "3a8c9dd5",
   "metadata": {
    "hidden": true
   },
   "outputs": [],
   "source": [
    "dfc['dist_rad_from_prevtgt'].unique()"
   ]
  },
  {
   "cell_type": "code",
   "execution_count": null,
   "id": "9547c791",
   "metadata": {
    "hidden": true
   },
   "outputs": [],
   "source": [
    "dfc['trial_group_col_calc'].unique()"
   ]
  },
  {
   "cell_type": "code",
   "execution_count": null,
   "id": "734b2a78",
   "metadata": {
    "hidden": true
   },
   "outputs": [],
   "source": [
    "# is err_sens distr similar across env for a fixed grouping and rad dist? yes\n",
    "from scipy.stats import ks_2samp\n",
    "for tgcc in dfc['trial_group_col_calc'].unique():\n",
    "    for dr in ['0.00', '0.79']:\n",
    "        dfc_s = dfc[(dfc['trial_group_col_calc'] == tgcc) & \\\n",
    "                   (dfc['dist_rad_from_prevtgt'] == dr)]\n",
    "        d = {}\n",
    "        for envc in envcode2env:\n",
    "            d[envc] = dfc_s.loc[dfc_s['environment'] == envc,coln].values\n",
    "\n",
    "        print('  ', tgcc,dr, 'compare env')\n",
    "        alt = 'two-sided'\n",
    "        ksr = ks_2samp(d[0], d[1], alternative=alt)  # small p-val means different distr (not identical)\n",
    "        cr = ttest_ind(d[0], d[1], alternative=alt)\n",
    "        print('KS',ksr.pvalue, 'ttest_ind',cr.pvalue)"
   ]
  },
  {
   "cell_type": "code",
   "execution_count": null,
   "id": "7180cffa",
   "metadata": {
    "hidden": true
   },
   "outputs": [],
   "source": [
    "help(ks_2samp)"
   ]
  },
  {
   "cell_type": "code",
   "execution_count": null,
   "id": "4844d525",
   "metadata": {
    "hidden": true
   },
   "outputs": [],
   "source": [
    "# is err_sens distr similar across dist rad for fixed env? Only for fruthermost tgt\n",
    "env = 'stable'\n",
    "dfc_s = dfc[dfc['environment'] == env2envcode[env]]\n",
    "d = {}\n",
    "drs = ['0.00', '0.79', '1.57', '2.36']\n",
    "tgcc = 'trialwe' #& (dfc['trial_group_col_calc'] == tgcc)\n",
    "for dr in drs:\n",
    "    #dfc_s = dfc[(dfc['dist_rad_from_prevtgt'] == dr)  ]\n",
    "    dfc_s = dfc[(dfc['dist_rad_from_prevtgt'] == dr) &\\\n",
    "                (dfc['trial_group_col_calc'] == tgcc)  ]\n",
    "    d[dr] = dfc_s[coln].values\n",
    "    \n",
    "print(env)\n",
    "ksr = ks_2samp(d[drs[0] ], d[ drs[1] ])  # small p-val means not identical\n",
    "print(drs[0],drs[1],ksr)\n",
    "ksr = ks_2samp(d[drs[0] ], d[ drs[2] ])  # small p-val means not identical\n",
    "print(drs[0],drs[2],ksr)\n",
    "ksr = ks_2samp(d[drs[1] ], d[ drs[2] ])  # small p-val means not identical\n",
    "print(drs[1],drs[2],ksr)\n",
    "ksr = ks_2samp(d[drs[2] ], d[ drs[3] ])  # small p-val means not identical\n",
    "print(drs[2],drs[3],ksr)\n",
    "\n",
    "ksr = ttest_ind(d[drs[0] ], d[ drs[1] ])  # small p-val means not identical\n",
    "print(drs[0],drs[1],ksr)\n",
    "ksr = ttest_ind(d[drs[0] ], d[ drs[2] ])  # small p-val means not identical\n",
    "print(drs[0],drs[2],ksr)\n",
    "ksr = ttest_ind(d[drs[1] ], d[ drs[2] ])  # small p-val means not identical\n",
    "print(drs[1],drs[2],ksr)\n",
    "ksr = ttest_ind(d[drs[2] ], d[ drs[3] ])  # small p-val means not identical\n",
    "print(drs[2],drs[3],ksr)\n",
    "\n",
    "i = 0; alpha=0.5\n",
    "plt.hist(d[drs[i] ], bins=50,alpha=alpha, density=1, label=drs[i]); i+=1; \n",
    "plt.hist(d[drs[i] ], bins=50,alpha=alpha, density=1, label=drs[i]); i+=1;\n",
    "plt.hist(d[drs[i] ], bins=50,alpha=alpha, density=1, label=drs[i]); i+=1;\n",
    "plt.hist(d[drs[i] ], bins=50,alpha=alpha, density=1, label=drs[i]); i+=1;\n",
    "plt.legend()\n",
    "    \n",
    "# tgccs = dfc['trial_group_col_calc'].unique()\n",
    "# for tgcc in tgccs:\n",
    "#     d[tgcc] = dfc_s.loc[dfc_s['trial_group_col_calc'] == tgcc,coln].values\n",
    "#     print(len(d[tgcc]))\n",
    "\n",
    "# print(env)\n",
    "# ksr = ks_2samp(d[tgccs[0] ], d[ tgccs[1] ])  # small p-val means not identical\n",
    "# print(ksr)"
   ]
  },
  {
   "cell_type": "markdown",
   "id": "b18cf66d",
   "metadata": {
    "hidden": true
   },
   "source": [
    "#### per subject"
   ]
  },
  {
   "cell_type": "code",
   "execution_count": null,
   "id": "3a091c66",
   "metadata": {
    "hidden": true
   },
   "outputs": [],
   "source": [
    "# is err_sens distr similar across env for a fixed grouping? ~Half of the times\n",
    "from scipy.stats import ks_2samp\n",
    "for truncs, df in zip(['truncate q=5%','truncate no'],[dfc, dfc0]):\n",
    "    print('  truncs = ',truncs)\n",
    "    for alt in ['two-sided', 'less', 'greater']:\n",
    "        for tgcc in df['trial_group_col_calc'].unique():\n",
    "            print(tgcc)\n",
    "            dfc_s = df.query(f'trial_group_col_calc == \"{tgcc}\"' )\n",
    "            pvals = []\n",
    "            pvals_c = []\n",
    "            for subj in subjects:\n",
    "                dfc_sc = dfc_s[(dfc_s['subject'] == subj) ]\n",
    "                d = {}\n",
    "                for envc in envcode2env:\n",
    "                    d[envc] = dfc_sc.loc[dfc_sc['environment'] == envc,coln].values\n",
    "\n",
    "\n",
    "                ksr = ks_2samp(d[0], d[1], alternative=alt)  # small p-val means not identical\n",
    "                #print(subj, ksr)\n",
    "                pvals += [ksr.pvalue]\n",
    "\n",
    "                cr = ttest_ind(d[0], d[1], alternative=alt, equal_var=0)\n",
    "                pvals_c += [cr.pvalue]\n",
    "\n",
    "            pvals = np.array(pvals)\n",
    "            pvals_c = np.array(pvals_c)\n",
    "            print(alt, 'ks_2samp', np.sum( pvals <= 0.05), 'ttest_ind', np.sum( pvals_c <= 0.05))"
   ]
  },
  {
   "cell_type": "code",
   "execution_count": null,
   "id": "38d381f2",
   "metadata": {
    "hidden": true
   },
   "outputs": [],
   "source": [
    "grp = dfc_s.groupby(['subject','environment'])\n",
    "me = grp.mean()['err_sens'].reset_index()"
   ]
  },
  {
   "cell_type": "code",
   "execution_count": null,
   "id": "246217ad",
   "metadata": {
    "hidden": true
   },
   "outputs": [],
   "source": [
    "rp.summary_cont(me.groupby(['environment'])['err_sens'] )"
   ]
  },
  {
   "cell_type": "markdown",
   "id": "4722b2d8",
   "metadata": {
    "heading_collapsed": true,
    "hidden": true
   },
   "source": [
    "##### ks_2samp (compare means within subj)"
   ]
  },
  {
   "cell_type": "code",
   "execution_count": null,
   "id": "c5ce6798",
   "metadata": {
    "hidden": true
   },
   "outputs": [],
   "source": [
    "tgcc = 'trialwe'\n",
    "for truncs, df in zip(['truncate q=5%','truncate no'],[dfc_, dfc0_]):\n",
    "    dfc_s = df[(df['trial_group_col_calc'] == tgcc) ]\n",
    "    grp = dfc_s.groupby(['subject','environment'])\n",
    "    me = grp.mean()['err_sens'].reset_index()\n",
    "\n",
    "    d = {}\n",
    "    for envc in envcode2env:\n",
    "        d[envc] = me.loc[me['environment'] == envc,coln].values\n",
    "\n",
    "    alt = 'two-sided'\n",
    "    ksr = ks_2samp(d[0], d[1], alternative=alt)  # small p-val means not identical\n",
    "    #print(subj, ksr)\n",
    "    #pvals += [ksr.pvalue]\n",
    "    cr = ttest_ind(d[0], d[1], alternative=alt, equal_var=0)\n",
    "    crel = ttest_rel(d[0], d[1], alternative=alt)\n",
    "    #pvals_c += [cr.pvalue]\n",
    "\n",
    "    print( f'{truncs:13}, alt={alt} ks_2samp={ksr.pvalue:.3f},'\n",
    "          f' ttest_rel={crel.pvalue:.3f}' )\n",
    "\n",
    "    plt.figure()\n",
    "    ax=  sns.violinplot(data=me, y='err_sens', x='environment')\n",
    "    ax.axhline(0, c='r', ls=':')"
   ]
  },
  {
   "cell_type": "code",
   "execution_count": null,
   "id": "d6fc2fea",
   "metadata": {
    "hidden": true
   },
   "outputs": [],
   "source": []
  },
  {
   "cell_type": "markdown",
   "id": "4cdec11f",
   "metadata": {
    "heading_collapsed": true,
    "hidden": true
   },
   "source": [
    "## Mixed model"
   ]
  },
  {
   "cell_type": "code",
   "execution_count": null,
   "id": "cc004166",
   "metadata": {
    "hidden": true
   },
   "outputs": [],
   "source": [
    "import researchpy as rp\n",
    "import statsmodels.formula.api as smf\n",
    "import statsmodels.api as sm\n",
    "from scipy.stats import norm as stnorm"
   ]
  },
  {
   "cell_type": "markdown",
   "id": "1cad810a",
   "metadata": {
    "hidden": true
   },
   "source": [
    "re_formula : str\n",
    "        A one-sided formula defining the variance structure of the\n",
    "        model.  The default gives a random intercept for each\n",
    "        group.\n",
    "    vc_formula : dict-like\n",
    "        Formulas describing variance components.  `vc_formula[vc]` is\n",
    "        the formula for the component with variance parameter named\n",
    "        `vc`.  The formula is processed into a matrix, and the columns\n",
    "        of this matrix are linearly combined with independent random\n",
    "        coefficients having mean zero and a common variance.\n",
    "        \n",
    "        If the variance component is intended to produce random\n",
    "    intercepts for disjoint subsets of a group, specified by\n",
    "    string labels or a categorical data value, always use '0 +' in\n",
    "    the formula so that no overall intercept is included."
   ]
  },
  {
   "cell_type": "markdown",
   "id": "941c1b35",
   "metadata": {
    "hidden": true
   },
   "source": [
    "from_formula(formula, data, re_formula=None, vc_formula=None, subset=None, \n",
    "             use_sparse=False, missing='none', *args, **kwargs)"
   ]
  },
  {
   "cell_type": "code",
   "execution_count": null,
   "id": "910e2abb",
   "metadata": {
    "hidden": true
   },
   "outputs": [],
   "source": [
    "help(smf.mixedlm)"
   ]
  },
  {
   "cell_type": "code",
   "execution_count": null,
   "id": "fca4dc8e",
   "metadata": {
    "hidden": true
   },
   "outputs": [],
   "source": []
  },
  {
   "cell_type": "code",
   "execution_count": null,
   "id": "a5a36300",
   "metadata": {
    "hidden": true
   },
   "outputs": [],
   "source": []
  },
  {
   "cell_type": "code",
   "execution_count": null,
   "id": "cdc10f21",
   "metadata": {
    "hidden": true
   },
   "outputs": [],
   "source": []
  },
  {
   "cell_type": "code",
   "execution_count": null,
   "id": "bf884175",
   "metadata": {
    "hidden": true
   },
   "outputs": [],
   "source": [
    "# apparently for zero pert (especially prep but also washout) err sens is larger"
   ]
  },
  {
   "cell_type": "markdown",
   "id": "005d7154",
   "metadata": {
    "hidden": true
   },
   "source": [
    "### Within env"
   ]
  },
  {
   "cell_type": "code",
   "execution_count": null,
   "id": "59ba5383",
   "metadata": {
    "hidden": true
   },
   "outputs": [],
   "source": [
    "dfc_multi_tsz"
   ]
  },
  {
   "cell_type": "code",
   "execution_count": null,
   "id": "5965b479",
   "metadata": {
    "hidden": true
   },
   "outputs": [],
   "source": [
    "dfsmtsz = dfc_multi_tsz.copy()\n",
    "dfsmtsz['dist_rad_from_prevtgt2'] = dfsmtsz['dist_rad_from_prevtgt2'].astype(float)"
   ]
  },
  {
   "cell_type": "code",
   "execution_count": null,
   "id": "bacf0732",
   "metadata": {
    "hidden": true
   },
   "outputs": [],
   "source": [
    "import researchpy as rp"
   ]
  },
  {
   "cell_type": "code",
   "execution_count": null,
   "id": "1dd78e03",
   "metadata": {
    "hidden": true
   },
   "outputs": [],
   "source": [
    "dfc_s = dfc[dfc['trial_group_col_calc'] == 'trialwe']\n",
    "cols = ['subject', 'err_sens', 'environment', 'perturbation', \n",
    "        'dist_rad_from_prevtgt', 'dist_trial_from_prevtgt', 'pert_stage_wb',\n",
    "       'block_name']\n",
    "dfsm = dfc_s[cols]\n",
    "dfsm = dfsm.reset_index()\n",
    "dfsm['perturbation_notprep'] = np.nan\n",
    "dfsm['dist_rad_from_prevtgt'] = dfsm['dist_rad_from_prevtgt'].astype(float)\n",
    "m = ~(dfsm['pert_stage_wb'] == 0.0)\n",
    "dfsm.loc[m, 'perturbation_notprep'] = dfsm.loc[m,'perturbation']\n",
    "\n",
    "# dfsm['pert_stage_wb'] = dfsm['pert_stage_wb'].\\\n",
    "#     apply(lambda x: f'{x:.0f}' if not np.isnan(x) else 'nan', 1)\n",
    "dfsm['pert_stage_wb'] = dfsm['pert_stage_wb'].\\\n",
    "    apply(lambda x: int(x) if not np.isnan(x) else 10, 1)\n",
    "\n",
    "\n",
    "dfsm[cols].info()\n",
    "# 11  RT                        11470 non-null  float64\n",
    "# 12  trial_duration            11470 non-null  float64\n",
    "# 13  movement_duration         11470 non-null  float64\n",
    "# 14  environment  \n",
    "rp.codebook(dfsm)"
   ]
  },
  {
   "cell_type": "code",
   "execution_count": null,
   "id": "91a73fe7",
   "metadata": {
    "hidden": true
   },
   "outputs": [],
   "source": [
    "r= rp.summary_cont(dfsm.groupby(['environment'])['err_sens'] )\n",
    "display(r)\n",
    "r= rp.summary_cont(dfsm.groupby(['environment','perturbation_notprep'])['err_sens'] )\n",
    "display(r)\n",
    "r= rp.summary_cont(dfsm.groupby(['environment','pert_stage_wb'])['err_sens'] )\n",
    "display(r)\n",
    "r= rp.summary_cont(dfsm.groupby(['environment','dist_rad_from_prevtgt'])['err_sens'] )\n",
    "display(r)"
   ]
  },
  {
   "cell_type": "code",
   "execution_count": null,
   "id": "071a29d3",
   "metadata": {
    "hidden": true
   },
   "outputs": [],
   "source": [
    "# The z value is the Wald statistic for testing the hypothesis that the\n",
    "# corresponding parameter (regression coefficient) is zero.  Under the\n",
    "# null hypothesis it has an approximately N(0,1) distribution.  P(>|z|)\n",
    "# is the tail area in a 2-tail test, i.e. the test within a 2-sided\n",
    "# outer hypothesis.\n",
    "#  Pr(>|z|) column represents the p-value associated with the value in the z value column"
   ]
  },
  {
   "cell_type": "code",
   "execution_count": null,
   "id": "a06c654a",
   "metadata": {
    "hidden": true
   },
   "outputs": [],
   "source": [
    "# using both C(env) and + C(pert_stage_wb) gives problems"
   ]
  },
  {
   "cell_type": "code",
   "execution_count": null,
   "id": "356775fa",
   "metadata": {
    "hidden": true
   },
   "outputs": [],
   "source": [
    "help(sns.displot)"
   ]
  },
  {
   "cell_type": "code",
   "execution_count": null,
   "id": "55b2cf33",
   "metadata": {
    "hidden": true
   },
   "outputs": [],
   "source": [
    "md = smf.mixedlm(\"err_sens ~ C(pert_stage_wb) + dist_rad_from_prevtgt\",                 \n",
    "                 data = dfsm, groups=\"subject\")\n",
    "# if I add  + C(pert_stage_wb):C(dist_rad_from_prevtgt), it is not signif\n",
    "mdf = md.fit()\n",
    "display(mdf.summary())"
   ]
  },
  {
   "cell_type": "code",
   "execution_count": null,
   "id": "9ce21058",
   "metadata": {
    "hidden": true
   },
   "outputs": [],
   "source": [
    "# random intercept\n",
    "md = smf.mixedlm(\"err_sens ~ 0 + C(pert_stage_wb) + dist_rad_from_prevtgt\",                 \n",
    "                 data = dfsm, groups=\"subject\")\n",
    "# if I add  + C(pert_stage_wb):C(dist_rad_from_prevtgt), it is not signif\n",
    "mdf = md.fit()\n",
    "display(mdf.summary())\n",
    "\n",
    "fig = plt.figure(figsize = (16, 9))\n",
    "ax = sns.distplot(mdf.resid, hist = False, \n",
    "                  kde_kws = {\"shade\" : True, \"lw\": 1}, fit = stnorm)\n",
    "ax.set_title(\"Plot of Model Residuals (Blue) and Normal Distribution (Black)\")\n",
    "ax.set_xlabel(\"Residuals\")\n",
    "\n",
    "## Q-Q PLot\n",
    "\n",
    "fig = plt.figure(figsize = (16, 9))\n",
    "ax = fig.add_subplot(111)\n",
    "\n",
    "sm.qqplot(mdf.resid, dist = stnorm, line = 's', ax = ax)\n",
    "\n",
    "ax.set_title(\"Q-Q Plot\")"
   ]
  },
  {
   "cell_type": "code",
   "execution_count": null,
   "id": "c936cf25",
   "metadata": {
    "hidden": true
   },
   "outputs": [],
   "source": [
    "#data = sm.datasets.get_rdataset(\"dietox\", \"geepack\").data\n",
    "#md = smf.mixedlm(\"err_sens ~ environment + (1 + environment | subject)\",\n",
    "# random intercept\n",
    "md = smf.mixedlm(\"err_sens ~ C(environment) + dist_rad_from_prevtgt\",                 \n",
    "                 data = dfsm, groups=\"subject\")\n",
    "#+ C(dist_rad_from_prevtgt)\n",
    "# adding + C(environment):C(dist_rad_from_prevtgt) does not add signif\n",
    "mdf = md.fit()\n",
    "display(mdf.summary())\n",
    "\n",
    "\n",
    "\n",
    "fig = plt.figure(figsize = (16, 9))\n",
    "ax = sns.distplot(mdf.resid, hist = False, \n",
    "                  kde_kws = {\"shade\" : True, \"lw\": 1}, fit = stnorm)\n",
    "ax.set_title(\"Plot of Model Residuals (Blue) and Normal Distribution (Black)\")\n",
    "ax.set_xlabel(\"Residuals\")\n",
    "\n",
    "## Q-Q PLot\n",
    "\n",
    "fig = plt.figure(figsize = (16, 9))\n",
    "ax = fig.add_subplot(111)\n",
    "\n",
    "sm.qqplot(mdf.resid, dist = stnorm, line = 's', ax = ax)\n",
    "\n",
    "ax.set_title(\"Q-Q Plot\")"
   ]
  },
  {
   "cell_type": "code",
   "execution_count": null,
   "id": "1dfaa505",
   "metadata": {
    "hidden": true
   },
   "outputs": [],
   "source": [
    "#rc2axnames"
   ]
  },
  {
   "cell_type": "code",
   "execution_count": null,
   "id": "0e493970",
   "metadata": {
    "hidden": true
   },
   "outputs": [],
   "source": [
    "#data = sm.datasets.get_rdataset(\"dietox\", \"geepack\").data\n",
    "#md = smf.mixedlm(\"err_sens ~ environment + (1 + environment | subject)\",\n",
    "# random intercept\n",
    "md = smf.mixedlm(\"err_sens ~ C(environment) + dist_rad_from_prevtgt2 + trial_shift_size\",                 \n",
    "                 data = dfsmtsz, groups=\"subject\")\n",
    "#+ C(dist_rad_from_prevtgt)\n",
    "# adding + C(environment):C(dist_rad_from_prevtgt) does not add signif\n",
    "mdf = md.fit()\n",
    "display(mdf.summary())\n",
    "\n",
    "\n",
    "\n",
    "fig = plt.figure(figsize = (16, 9))\n",
    "ax = sns.distplot(mdf.resid, hist = False, \n",
    "                  kde_kws = {\"shade\" : True, \"lw\": 1}, fit = stnorm)\n",
    "ax.set_title(\"Plot of Model Residuals (Blue) and Normal Distribution (Black)\")\n",
    "ax.set_xlabel(\"Residuals\")\n",
    "\n",
    "## Q-Q PLot\n",
    "\n",
    "fig = plt.figure(figsize = (16, 9))\n",
    "ax = fig.add_subplot(111)\n",
    "\n",
    "sm.qqplot(mdf.resid, dist = stnorm, line = 's', ax = ax)\n",
    "\n",
    "ax.set_title(\"Q-Q Plot\")"
   ]
  },
  {
   "cell_type": "code",
   "execution_count": null,
   "id": "16f28a15",
   "metadata": {
    "hidden": true
   },
   "outputs": [],
   "source": [
    "#help(mdf.summary)"
   ]
  },
  {
   "cell_type": "code",
   "execution_count": null,
   "id": "2887f501",
   "metadata": {
    "hidden": true
   },
   "outputs": [],
   "source": [
    "# intraclass correlation coefficient (ICC) \n",
    "ICC = 0.028  / mdf.scale; ICC"
   ]
  },
  {
   "cell_type": "markdown",
   "id": "fb8229c6",
   "metadata": {
    "heading_collapsed": true,
    "hidden": true
   },
   "source": [
    "#### old"
   ]
  },
  {
   "cell_type": "code",
   "execution_count": null,
   "id": "c9e0e549",
   "metadata": {
    "hidden": true
   },
   "outputs": [],
   "source": [
    "# subject var = random effects of the cluster variable; \n",
    "# This models the variation that is present between the subject."
   ]
  },
  {
   "cell_type": "code",
   "execution_count": null,
   "id": "942ac7bb",
   "metadata": {
    "hidden": true
   },
   "outputs": [],
   "source": [
    "dfc_s = dfc[dfc['trial_group_col_calc'] == 'trialwe']\n",
    "import statsmodels.formula.api as smf\n",
    "#data = sm.datasets.get_rdataset(\"dietox\", \"geepack\").data\n",
    "md = smf.mixedlm(\"err_sens ~ environment + \",\n",
    "                 data = dfc_s, groups=dfc_s[\"subject\"])\n",
    "mdf = md.fit()\n",
    "mdf.summary()"
   ]
  },
  {
   "cell_type": "code",
   "execution_count": null,
   "id": "5ffee1d4",
   "metadata": {
    "hidden": true
   },
   "outputs": [],
   "source": [
    "dfc_s = dfc[dfc['trial_group_col_calc'] == 'trialwe']\n",
    "import statsmodels.formula.api as smf\n",
    "#data = sm.datasets.get_rdataset(\"dietox\", \"geepack\").data\n",
    "md = smf.mixedlm(\"err_sens ~ environment + dist_rad_from_prevtgt\",\n",
    "                 re_formula='1',\n",
    "                 data = dfc_s, groups=dfc_s[\"subject\"])\n",
    "mdf = md.fit()"
   ]
  },
  {
   "cell_type": "code",
   "execution_count": null,
   "id": "3b5ec2d7",
   "metadata": {
    "hidden": true
   },
   "outputs": [],
   "source": [
    "mdf.summary()"
   ]
  },
  {
   "cell_type": "code",
   "execution_count": null,
   "id": "5f6d45f2",
   "metadata": {
    "hidden": true
   },
   "outputs": [],
   "source": [
    "# 'pertAll_tgtAll_envAll': 'trials'\n",
    "# 'pertAll_tgtAll_envAll': 'trials'"
   ]
  },
  {
   "cell_type": "code",
   "execution_count": null,
   "id": "0d792b48",
   "metadata": {
    "hidden": true
   },
   "outputs": [],
   "source": [
    "#df_all[['subject','trials','trialwtgt','target_inds']]"
   ]
  },
  {
   "cell_type": "markdown",
   "id": "d9057ec4",
   "metadata": {
    "heading_collapsed": true,
    "hidden": true
   },
   "source": [
    "### Within target"
   ]
  },
  {
   "cell_type": "code",
   "execution_count": null,
   "id": "f90a7d15",
   "metadata": {
    "hidden": true
   },
   "outputs": [],
   "source": [
    "dfc_s = dfc[dfc['trial_group_col_calc'] == 'trialwtgt_we']\n",
    "cols = ['subject', 'err_sens', 'environment', 'perturbation', \n",
    "        'dist_rad_from_prevtgt', 'dist_trial_from_prevtgt', 'pert_stage_wb',\n",
    "       'block_name']\n",
    "\n",
    "dfc_s = dfc_s[dfc_s['dist_trial_from_prevtgt'] <= 4]\n",
    "\n",
    "dfsm = dfc_s[cols]\n",
    "dfsm = dfsm.reset_index()\n",
    "dfsm['dist_rad_from_prevtgt'] = dfsm['dist_rad_from_prevtgt'].astype(float)\n",
    "dfsm['perturbation_notprep'] = np.nan\n",
    "m = ~(dfsm['pert_stage_wb'] == 0.0)\n",
    "dfsm.loc[m, 'perturbation_notprep'] = dfsm.loc[m,'perturbation']\n",
    "\n",
    "# dfsm['pert_stage_wb'] = dfsm['pert_stage_wb'].\\\n",
    "#     apply(lambda x: f'{x:.0f}' if not np.isnan(x) else 'nan', 1)\n",
    "dfsm['pert_stage_wb'] = dfsm['pert_stage_wb'].\\\n",
    "    apply(lambda x: int(x) if not np.isnan(x) else 10, 1)\n",
    "\n",
    "\n",
    "dfsm[cols].info()\n",
    "# 11  RT                        11470 non-null  float64\n",
    "# 12  trial_duration            11470 non-null  float64\n",
    "# 13  movement_duration         11470 non-null  float64\n",
    "# 14  environment  \n",
    "rp.codebook(dfsm)"
   ]
  },
  {
   "cell_type": "code",
   "execution_count": null,
   "id": "b256ed9d",
   "metadata": {
    "hidden": true
   },
   "outputs": [],
   "source": [
    "r= rp.summary_cont(dfsm.groupby(['environment'])['err_sens'] )\n",
    "display(r)\n",
    "r= rp.summary_cont(dfsm.groupby(['environment','perturbation_notprep'])['err_sens'] )\n",
    "display(r)\n",
    "r= rp.summary_cont(dfsm.groupby(['environment','pert_stage_wb'])['err_sens'] )\n",
    "display(r)\n",
    "r= rp.summary_cont(dfsm.groupby(['environment','dist_rad_from_prevtgt'])['err_sens'] )\n",
    "display(r)\n",
    "r= rp.summary_cont(dfsm.groupby(['environment','dist_trial_from_prevtgt'])['err_sens'] )\n",
    "display(r)\n",
    "r= rp.summary_cont(dfsm.groupby(['environment','dist_rad_from_prevtgt', 'dist_trial_from_prevtgt'])['err_sens'] )\n",
    "display(r)"
   ]
  },
  {
   "cell_type": "code",
   "execution_count": null,
   "id": "4014ad4e",
   "metadata": {
    "hidden": true
   },
   "outputs": [],
   "source": [
    "# The z value is the Wald statistic for testing the hypothesis that the\n",
    "# corresponding parameter (regression coefficient) is zero.  Under the\n",
    "# null hypothesis it has an approximately N(0,1) distribution.  P(>|z|)\n",
    "# is the tail area in a 2-tail test, i.e. the test within a 2-sided\n",
    "# outer hypothesis.\n",
    "#  Pr(>|z|) column represents the p-value associated with the value in the z value column"
   ]
  },
  {
   "cell_type": "code",
   "execution_count": null,
   "id": "d0e88878",
   "metadata": {
    "hidden": true
   },
   "outputs": [],
   "source": [
    "# using both C(env) and + C(pert_stage_wb) gives problems"
   ]
  },
  {
   "cell_type": "code",
   "execution_count": null,
   "id": "20030d08",
   "metadata": {
    "hidden": true
   },
   "outputs": [],
   "source": [
    "help(sns.displot)"
   ]
  },
  {
   "cell_type": "code",
   "execution_count": null,
   "id": "43e4f873",
   "metadata": {
    "hidden": true
   },
   "outputs": [],
   "source": [
    "# random intercept\n",
    "md = smf.mixedlm(\"err_sens ~ C(environment) + dist_trial_from_prevtgt + C(pert_stage_wb):dist_rad_from_prevtgt\",                 \n",
    "                 data = dfsm, groups=\"subject\")\n",
    "# + C(dist_rad_from_prevtgt) or interacrtion gives problems\n",
    "# if I add  + C(pert_stage_wb):C(dist_rad_from_prevtgt), it is not signif\n",
    "mdf = md.fit()\n",
    "display(mdf.summary())"
   ]
  },
  {
   "cell_type": "code",
   "execution_count": null,
   "id": "0c84861a",
   "metadata": {
    "hidden": true
   },
   "outputs": [],
   "source": [
    "# emmeans (esimated marginal means) -- in R"
   ]
  },
  {
   "cell_type": "code",
   "execution_count": null,
   "id": "e668f93e",
   "metadata": {
    "hidden": true
   },
   "outputs": [],
   "source": [
    "# random intercept\n",
    "md = smf.mixedlm(\"err_sens ~ 0 + C(environment) + dist_rad_from_prevtgt\",                 \n",
    "                 data = dfsm, groups=\"subject\")\n",
    "# + C(dist_rad_from_prevtgt) or interacrtion gives problems\n",
    "# if I add  + C(pert_stage_wb):C(dist_rad_from_prevtgt), it is not signif\n",
    "mdf = md.fit()\n",
    "display(mdf.summary())\n",
    "\n",
    "fig = plt.figure(figsize = (16, 9))\n",
    "ax = sns.distplot(mdf.resid, hist = False, \n",
    "                  kde_kws = {\"shade\" : True, \"lw\": 1}, fit = stnorm)\n",
    "ax.set_title(\"Plot of Model Residuals (Blue) and Normal Distribution (Black)\")\n",
    "ax.set_xlabel(\"Residuals\")\n",
    "\n",
    "## Q-Q PLot\n",
    "\n",
    "fig = plt.figure(figsize = (16, 9))\n",
    "ax = fig.add_subplot(111)\n",
    "\n",
    "sm.qqplot(mdf.resid, dist = stnorm, line = 's', ax = ax)\n",
    "\n",
    "ax.set_title(\"Q-Q Plot\")"
   ]
  },
  {
   "cell_type": "code",
   "execution_count": null,
   "id": "8d53beaa",
   "metadata": {
    "hidden": true
   },
   "outputs": [],
   "source": [
    "# random intercept\n",
    "md = smf.mixedlm(\"err_sens ~ C(environment) + dist_rad_from_prevtgt\",                 \n",
    "                 data = dfsm, groups=\"subject\")\n",
    "# + C(dist_rad_from_prevtgt) or interacrtion gives problems\n",
    "# if I add  + C(pert_stage_wb):C(dist_rad_from_prevtgt), it is not signif\n",
    "mdf = md.fit()\n",
    "display(mdf.summary())\n",
    "\n",
    "fig = plt.figure(figsize = (16, 9))\n",
    "ax = sns.distplot(mdf.resid, hist = False, \n",
    "                  kde_kws = {\"shade\" : True, \"lw\": 1}, fit = stnorm)\n",
    "ax.set_title(\"Plot of Model Residuals (Blue) and Normal Distribution (Black)\")\n",
    "ax.set_xlabel(\"Residuals\")\n",
    "\n",
    "## Q-Q PLot\n",
    "\n",
    "fig = plt.figure(figsize = (16, 9))\n",
    "ax = fig.add_subplot(111)\n",
    "\n",
    "sm.qqplot(mdf.resid, dist = stnorm, line = 's', ax = ax)\n",
    "\n",
    "ax.set_title(\"Q-Q Plot\")"
   ]
  },
  {
   "cell_type": "code",
   "execution_count": null,
   "id": "27a65a28",
   "metadata": {
    "hidden": true
   },
   "outputs": [],
   "source": [
    "# random intercept\n",
    "md = smf.mixedlm(\"err_sens ~ 0 + C(pert_stage_wb) + dist_trial_from_prevtgt\",                 \n",
    "                 data = dfsm, groups=\"subject\")\n",
    "# + C(dist_rad_from_prevtgt) or interacrtion gives problems\n",
    "# if I add  + C(pert_stage_wb):C(dist_rad_from_prevtgt), it is not signif\n",
    "mdf = md.fit()\n",
    "display(mdf.summary())"
   ]
  },
  {
   "cell_type": "code",
   "execution_count": null,
   "id": "3e264df1",
   "metadata": {
    "hidden": true,
    "run_control": {
     "marked": false
    }
   },
   "outputs": [],
   "source": [
    "#dfsm[['dist_rad_from_prevtgt','dist_trial_from_prevtgt']]"
   ]
  },
  {
   "cell_type": "code",
   "execution_count": null,
   "id": "48837768",
   "metadata": {
    "hidden": true
   },
   "outputs": [],
   "source": [
    "# random intercept\n",
    "md = smf.mixedlm(\"err_sens ~ 0 + C(pert_stage_wb) + dist_rad_from_prevtgt\",                 \n",
    "                 data = dfsm, groups=\"subject\")\n",
    "# if I add  + C(pert_stage_wb):C(dist_rad_from_prevtgt), it is not signif\n",
    "mdf = md.fit()\n",
    "display(mdf.summary())\n",
    "\n",
    "fig = plt.figure(figsize = (16, 9))\n",
    "ax = sns.distplot(mdf.resid, hist = False, \n",
    "                  kde_kws = {\"shade\" : True, \"lw\": 1}, fit = stnorm)\n",
    "ax.set_title(\"Plot of Model Residuals (Blue) and Normal Distribution (Black)\")\n",
    "ax.set_xlabel(\"Residuals\")\n",
    "\n",
    "## Q-Q PLot\n",
    "fig = plt.figure(figsize = (16, 9))\n",
    "ax = fig.add_subplot(111)\n",
    "sm.qqplot(mdf.resid, dist = stnorm, line = 's', ax = ax)\n",
    "ax.set_title(\"Q-Q Plot\")"
   ]
  },
  {
   "cell_type": "code",
   "execution_count": null,
   "id": "e37ee98d",
   "metadata": {
    "hidden": true
   },
   "outputs": [],
   "source": [
    "#data = sm.datasets.get_rdataset(\"dietox\", \"geepack\").data\n",
    "#md = smf.mixedlm(\"err_sens ~ environment + (1 + environment | subject)\",\n",
    "# random intercept\n",
    "md = smf.mixedlm(\"err_sens ~ 0 +C(environment) + C(dist_trial_from_prevtgt)\",                 \n",
    "                 data = dfsm, groups=\"subject\")\n",
    "# adding + C(environment):C(dist_rad_from_prevtgt) does not add signif\n",
    "mdf = md.fit()\n",
    "display(mdf.summary())\n",
    "\n",
    "fig = plt.figure(figsize = (16, 9))\n",
    "ax = sns.distplot(mdf.resid, hist = False, \n",
    "                  kde_kws = {\"shade\" : True, \"lw\": 1}, fit = stnorm)\n",
    "ax.set_title(\"Plot of Model Residuals (Blue) and Normal Distribution (Black)\")\n",
    "ax.set_xlabel(\"Residuals\")\n",
    "\n",
    "## Q-Q PLot\n",
    "fig = plt.figure(figsize = (16, 9))\n",
    "ax = fig.add_subplot(111)\n",
    "sm.qqplot(mdf.resid, dist = stnorm, line = 's', ax = ax)\n",
    "ax.set_title(\"Q-Q Plot\")"
   ]
  },
  {
   "cell_type": "code",
   "execution_count": null,
   "id": "1c07df35",
   "metadata": {
    "hidden": true
   },
   "outputs": [],
   "source": [
    "#data = sm.datasets.get_rdataset(\"dietox\", \"geepack\").data\n",
    "#md = smf.mixedlm(\"err_sens ~ environment + (1 + environment | subject)\",\n",
    "# random intercept\n",
    "md = smf.mixedlm(\"err_sens ~ C(environment) + dist_trial_from_prevtgt '\n",
    "                 '+ dist_rad_from_prevtgt + dist_rad_from_prevtgt:dist_trial_from_prevtgt\",                 \n",
    "                 data = dfsm, groups=\"subject\")\n",
    "# adding + C(environment):C(dist_rad_from_prevtgt) does not add signif\n",
    "mdf = md.fit()\n",
    "display(mdf.summary())\n",
    "\n",
    "fig = plt.figure(figsize = (16, 9))\n",
    "ax = sns.distplot(mdf.resid, hist = False, \n",
    "                  kde_kws = {\"shade\" : True, \"lw\": 1}, fit = stnorm)\n",
    "ax.set_title(\"Plot of Model Residuals (Blue) and Normal Distribution (Black)\")\n",
    "ax.set_xlabel(\"Residuals\")\n",
    "\n",
    "## Q-Q PLot\n",
    "fig = plt.figure(figsize = (16, 9))\n",
    "ax = fig.add_subplot(111)\n",
    "sm.qqplot(mdf.resid, dist = stnorm, line = 's', ax = ax)\n",
    "ax.set_title(\"Q-Q Plot\")"
   ]
  },
  {
   "cell_type": "markdown",
   "id": "aefbdbe1",
   "metadata": {
    "heading_collapsed": true
   },
   "source": [
    "# Plot mean dynamics"
   ]
  },
  {
   "cell_type": "code",
   "execution_count": null,
   "id": "9362674f",
   "metadata": {
    "hidden": true
   },
   "outputs": [],
   "source": [
    "sns.set(rc={'axes.facecolor':'white', 'figure.facecolor':'white',\n",
    "           'grid.color':'grey', 'grid.alpha':0.5})"
   ]
  },
  {
   "cell_type": "markdown",
   "id": "fe7834ef",
   "metadata": {
    "hidden": true
   },
   "source": [
    "### time series plot"
   ]
  },
  {
   "cell_type": "code",
   "execution_count": null,
   "id": "4f3b55b6",
   "metadata": {
    "hidden": true
   },
   "outputs": [],
   "source": [
    "# just get perturabtion and env scheme from one subject\n",
    "dfc_p = df_all.query(f'subject == \"{subjects[0]}\"')\n",
    "dfc_p = dfc_p.sort_values('trials')\n",
    "pert = dfc_p['perturbation'].values[:192*4]\n",
    "tr   = dfc_p['trials'].values[:192*4]\n",
    "envv = dfc_p['environment'].values[:192*4].astype(float)\n",
    "envv[envv == 0] = np.nan\n",
    "pert[envv == 1] = np.nan"
   ]
  },
  {
   "cell_type": "code",
   "execution_count": null,
   "id": "fd354aec",
   "metadata": {
    "hidden": true
   },
   "outputs": [],
   "source": []
  },
  {
   "cell_type": "code",
   "execution_count": null,
   "id": "53acac75",
   "metadata": {
    "hidden": true
   },
   "outputs": [],
   "source": [
    "v0 = df['trials'].values[0]\n",
    "df.query('trials == @v0 and trial_group_col_calc == \"trialwe\"')['subject']"
   ]
  },
  {
   "cell_type": "code",
   "execution_count": null,
   "id": "8853a931",
   "metadata": {
    "hidden": true
   },
   "outputs": [],
   "source": [
    "df_all.columns"
   ]
  },
  {
   "cell_type": "code",
   "execution_count": null,
   "id": "fd6c54a6",
   "metadata": {
    "hidden": true
   },
   "outputs": [],
   "source": []
  },
  {
   "cell_type": "code",
   "execution_count": null,
   "id": "84389d69",
   "metadata": {
    "hidden": true
   },
   "outputs": [],
   "source": [
    "dfc['err_sens']"
   ]
  },
  {
   "cell_type": "code",
   "execution_count": null,
   "id": "b5246866",
   "metadata": {
    "hidden": true
   },
   "outputs": [],
   "source": [
    "df_ = dfc.query('trial_shift_size == 1 and environment == 0 and pert_stage_wb in [1,3]')\n",
    "ax = sns.lineplot(x=\"trialwpertstage_wb\", \n",
    "        y='err_sens',  estimator='mean',\n",
    "                  #hue = 'pert_stage', # errorbar='se',\n",
    "                  hue = 'pert_stage', \n",
    "         data=df_, color='#DE8F03')#, hue='trial_group_col_calc')\n",
    "ax.legend(loc='lower right')\n"
   ]
  },
  {
   "cell_type": "code",
   "execution_count": null,
   "id": "921e678f",
   "metadata": {
    "hidden": true
   },
   "outputs": [],
   "source": [
    "df_ = dfc.query('trial_shift_size == 1 and environment == 0 and pert_stage_wb in [0,2,4]')\n",
    "ax = sns.lineplot(x=\"trialwpertstage_wb\", \n",
    "        y='err_sens',  estimator='mean',\n",
    "                  #hue = 'pert_stage', # errorbar='se',\n",
    "                  hue = 'pert_stage', \n",
    "         data=df_, color='#DE8F03')#, hue='trial_group_col_calc')\n",
    "ax.legend(loc='lower right')\n"
   ]
  },
  {
   "cell_type": "markdown",
   "id": "f92c2f64",
   "metadata": {
    "hidden": true
   },
   "source": [
    "#### for CRCNS"
   ]
  },
  {
   "cell_type": "code",
   "execution_count": null,
   "id": "f85fe6dd",
   "metadata": {
    "hidden": true
   },
   "outputs": [],
   "source": [
    "c = 1 / np.pi  * 180\n",
    "for varn,pertc in [('error_pscadj', 1.)]:\n",
    "    #varn = 'org_feedback'\n",
    "    #for varn in     \n",
    "    #for truncs, df in zip(['truncate q=5%','truncate no'],[dfc, dfc0]):\n",
    "    for truncs, df in zip(['truncate q=5%'],[dfc]):\n",
    "        varn_eff = varn\n",
    "        if varn.startswith('org_feedback'):\n",
    "            df['vtp'] = np.array(df[varn]) * c# - 180\n",
    "            varn_eff = 'vtp'\n",
    "        elif varn.startswith('error'):\n",
    "            df['vtp'] = np.array(df[varn]) * c \n",
    "            varn_eff = 'vtp'\n",
    "        #elif varn.startswith('err_sens'):\n",
    "        #    pert_shift = \n",
    "            #df['vtp'] = np.array(df[varn]) \n",
    "            #varn_eff = 'vtp'\n",
    "        n = 107\n",
    "        plt.figure(figsize=(4,4))\n",
    "        qs = 'trial_group_col_calc in [\"trialwe\"]'\n",
    "        #qs += ' and pert_seq_code == 0'\n",
    "        #qs += ' and subject==\"' + subjects[0] + '\"'\n",
    "        qs += ' and trials < @n'\n",
    "        df_ = df.query(qs)\n",
    "        ax = sns.lineplot(x=\"trials\", y=varn_eff,  estimator='mean', errorbar='se',\n",
    "                     data=df_, color='#DE8F03')#, hue='trial_group_col_calc')\n",
    "\n",
    "        ax.plot(tr, pert * pertc,  ls= '-', color='#80A5BC', lw=2)\n",
    "        #ax.plot(tr, envv * 30 * pertc, c='black', ls = ':', lw=0, marker='.' ,alpha=0.2)\n",
    "        #ax.set_title(f'{varn}  {truncs}')\n",
    "        ax.set_ylabel('endpoint error [deg]' )\n",
    "        ax.set_xlabel('trial number' )\n",
    "        # sns.lineplot(ax=ax, x=\"trials\", y=\"perturbation\",\n",
    "        #              data=dfc.query('pert_seq_code == 0') )\n",
    "\n",
    "        plt.legend(title=None, loc='lower left',\n",
    "                   labels=['error', 'SEM', 'perturbation'])\n",
    "        #ax.set_ylim(-0.25,0.3)\n",
    "        ax.set_xlim(0,n)\n",
    "\n",
    "plt.tight_layout()\n",
    "#plt.savefig(pjoin(path_fig,'behav','crcns_timresolved.emf'), dpi=300)\n",
    "#plt.savefig(pjoin(path_fig,'behav','crcns_timresolved.png'), dpi=300)\n",
    "plt.savefig(pjoin(path_fig,'behav','crcns_timresolved.pdf'), dpi=300)\n"
   ]
  },
  {
   "cell_type": "markdown",
   "id": "961ba690",
   "metadata": {
    "hidden": true
   },
   "source": [
    "#### full"
   ]
  },
  {
   "cell_type": "code",
   "execution_count": null,
   "id": "b1c9530d",
   "metadata": {
    "hidden": true
   },
   "outputs": [],
   "source": [
    "c = 1 / np.pi  * 180\n",
    "for varn,pertc in [('org_feedback_pscadj',1), ('error_pscadj', 1.), ('err_sens', 0.04)]:\n",
    "    #varn = 'org_feedback'\n",
    "    #for varn in     \n",
    "    #for truncs, df in zip(['truncate q=5%','truncate no'],[dfc, dfc0]):\n",
    "    for truncs, df in zip(['truncate q=5%'],[dfc]):\n",
    "        varn_eff = varn\n",
    "        if varn.startswith('org_feedback'):\n",
    "            df['vtp'] = np.array(df[varn]) * c# - 180\n",
    "            varn_eff = 'vtp'\n",
    "        elif varn.startswith('error'):\n",
    "            df['vtp'] = np.array(df[varn]) * c \n",
    "            varn_eff = 'vtp'\n",
    "        #elif varn.startswith('err_sens'):\n",
    "        #    pert_shift = \n",
    "            #df['vtp'] = np.array(df[varn]) \n",
    "            #varn_eff = 'vtp'\n",
    "        \n",
    "        plt.figure(figsize=(12,4))\n",
    "        qs = 'trial_group_col_calc in [\"trialwe\",\"trialwtgt_we\"]'\n",
    "        #qs += ' and pert_seq_code == 0'\n",
    "        #qs += ' and subject==\"' + subjects[0] + '\"'\n",
    "        df_ = df.query(qs)\n",
    "        ax = sns.lineplot(x=\"trials\", y=varn_eff,  estimator='mean', errorbar='se',\n",
    "                     data=df_, hue='trial_group_col_calc')\n",
    "\n",
    "        ax.plot(tr, pert * pertc, c='violet', ls= '--')\n",
    "        ax.plot(tr, envv * 30 * pertc, c='black', lw=0, marker='.' ,alpha=0.2)\n",
    "        ax.set_title(f'{varn}  {truncs}')\n",
    "        ax.set_ylabel(varn )\n",
    "        # sns.lineplot(ax=ax, x=\"trials\", y=\"perturbation\",\n",
    "        #              data=dfc.query('pert_seq_code == 0') )\n",
    "\n",
    "        plt.legend(title=None, loc='lower right',\n",
    "                   labels=['within tgt', '_nolegend_', 'across tgt'])\n",
    "        #ax.set_ylim(-0.25,0.3)\n"
   ]
  },
  {
   "cell_type": "code",
   "execution_count": null,
   "id": "bd525510",
   "metadata": {
    "hidden": true
   },
   "outputs": [],
   "source": [
    "import gc; gc.collect()"
   ]
  },
  {
   "cell_type": "markdown",
   "id": "1b4feaa3",
   "metadata": {
    "hidden": true
   },
   "source": [
    "### smoothened"
   ]
  },
  {
   "cell_type": "code",
   "execution_count": null,
   "id": "21879f7c",
   "metadata": {
    "hidden": true
   },
   "outputs": [],
   "source": [
    "vars_to_pscadj = ['error', 'org_feedback']\n",
    "for varn in vars_to_pscadj:\n",
    "    dfc[f'{varn}_pscadj'] = dfc[varn]\n",
    "    dfc.loc[dfc['pert_seq_code'] == 1, f'{varn}_pscadj']= -dfc[varn]\n",
    "    \n",
    "vars_to_pscadj = [ 'org_feedback']\n",
    "# 'prev_error' ?\n",
    "for varn in vars_to_pscadj:\n",
    "    dfc[f'{varn}_pscadj'] = dfc[varn] - np.pi\n",
    "#     cond = dfc['pert_seq_code'] == 0\n",
    "#     dfc.loc[cond, f'{varn}_pscadj']= dfc.loc[cond,varn] - np.pi\n",
    "    \n",
    "    cond = dfc['pert_seq_code'] == 1\n",
    "    dfc.loc[cond, f'{varn}_pscadj']=  - ( dfc.loc[cond,varn]  -np.pi)"
   ]
  },
  {
   "cell_type": "code",
   "execution_count": null,
   "id": "3aaef7db",
   "metadata": {
    "hidden": true
   },
   "outputs": [],
   "source": [
    "me.columns"
   ]
  },
  {
   "cell_type": "code",
   "execution_count": null,
   "id": "8d1ac62e",
   "metadata": {
    "hidden": true,
    "run_control": {
     "marked": false
    }
   },
   "outputs": [],
   "source": [
    "\n",
    "#################\n",
    "vars_to_plot = ['err_sens','error_pscadj', 'org_feedback_pscadj']\n",
    "cols = ['pert_seq_code','trial_group_col_calc','trials']\n",
    "#cols = ['trial_group_col_calc','trials']\n",
    "me = dfc.groupby(cols).mean().reset_index()\n",
    "#dfcs = me.sort_values(['trials'])\n",
    "dfcs = me.sort_values(cols)\n",
    "grp = dfcs.\\\n",
    "    groupby([ 'pert_seq_code','trial_group_col_calc'] )\n",
    "\n",
    "mavsz = 10\n",
    "for varn in vars_to_plot:\n",
    "    for g,gi in grp.groups.items():\n",
    "        dfcs.loc[gi,f'{varn}_mav'] = dfcs.loc[gi,varn].rolling(mavsz).mean() \n",
    "        \n",
    "        \n",
    "me0 = dfc0.groupby(cols).mean().reset_index()\n",
    "#dfcs = me.sort_values(['trials'])\n",
    "dfcs0 = me0.sort_values(cols)\n",
    "grp0 = dfcs0.\\\n",
    "    groupby([ 'pert_seq_code','trial_group_col_calc'] )\n",
    "\n",
    "for varn in vars_to_plot:\n",
    "    for g,gi in grp0.groups.items():\n",
    "        dfcs0.loc[gi,f'{varn}_mav'] = dfcs0.loc[gi,varn].rolling(mavsz).mean() "
   ]
  },
  {
   "cell_type": "code",
   "execution_count": null,
   "id": "f46b1801",
   "metadata": {
    "hidden": true
   },
   "outputs": [],
   "source": [
    "print( dfc['org_feedback_pscadj'] / np.pi )\n",
    "print( dfc['org_feedback'].mean() )\n",
    "print( dfc['org_feedback'] / np.pi )"
   ]
  },
  {
   "cell_type": "code",
   "execution_count": null,
   "id": "ec8e09aa",
   "metadata": {
    "hidden": true
   },
   "outputs": [],
   "source": [
    "c = 1 / np.pi  * 180\n",
    "#for varn in vars_to_plot:\n",
    "for varn, pertc in [ ('org_feedback_pscadj',1), ('error_pscadj', 1.), ('err_sens', 0.02)]:\n",
    "    #for psc in [0,1,None]:\n",
    "    for psc in [None]:\n",
    "        if varn in ['error', 'org_feedback' ] and psc is None:\n",
    "            continue\n",
    "        if varn == 'err_sens' and psc is not None:\n",
    "            continue\n",
    "        plt.figure(figsize=(12,4))\n",
    "        qs = 'trial_group_col_calc in [\"trialwe\",\"trialwtgt_we\"]'                \n",
    "        if psc is not None:\n",
    "            qs += f' and pert_seq_code=={psc}'\n",
    "            \n",
    "        if varn.startswith('err_sens'):\n",
    "            df_ = dfcs.query(qs)\n",
    "        else:\n",
    "            df_ = dfcs0.query(qs)\n",
    "        \n",
    "        varn_eff = f\"{varn}_mav\"\n",
    "        if varn.startswith('org_feedback'):\n",
    "            df_['vtp'] = np.array(df_[varn]) * c #- 180\n",
    "            varn_eff = 'vtp'\n",
    "        elif varn.startswith('error'):\n",
    "            df_['vtp'] = np.array(df_[varn]) * c \n",
    "            varn_eff = 'vtp'\n",
    "        #elif varn.startswith('err_sens'):\n",
    "        #    pert_shift = \n",
    "            #df['vtp'] = np.array(df[varn]) \n",
    "            #varn_eff = 'vtp'\n",
    "            \n",
    "        vshift = 0.\n",
    "        if varn.startswith('err_sens'):\n",
    "            vshift = 0.5\n",
    "        #elif varn.startswith('org_feedback'):\n",
    "        #    vshift = -200\n",
    "\n",
    "        ax = sns.lineplot(x=\"trials\", y=varn_eff,  estimator='mean',\n",
    "                          errorbar = 'se',\n",
    "                         data=df_, hue='trial_group_col_calc')\n",
    "                \n",
    "#         ax.legend(title=None, loc='lower right',\n",
    "#                    labels=['within tgt', '_nolegend_', 'across tgt'])\n",
    "\n",
    "        ax.plot(tr, vshift + pert * pertc, c='violet', ls= '--', label='perturbation')\n",
    "        ax.plot(tr, vshift + envv * 30 * pertc, c='black', ls = ':', lw=0, marker='.' ,\n",
    "                alpha=0.2, label='environment')\n",
    "        #plt.plot(tr, pert / 50, c='violet', ls= '--', label='perturbation')\n",
    "        #ax.plot(tr, envv * 1.25, c='black', ls = ':', lw=0, marker='.' ,alpha=0.2,\n",
    "        #       label='environment')\n",
    "        ax.set_ylabel(varn )\n",
    "        ax.set_title(f'Mav ntrials={mavsz}  {varn} psc = {psc}')\n",
    "        \n",
    "        ax.legend()\n",
    "        handles = ax.get_legend_handles_labels()\n",
    "        hs = handles[0], ['within target', 'across targets' ] + handles[1][2:]\n",
    "        ax.legend(*hs)\n",
    "        \n",
    "        plt.savefig(pjoin(path_fig,'behav','es_mean_mav.pdf'))\n",
    "        \n",
    "    #break\n",
    "        "
   ]
  },
  {
   "cell_type": "markdown",
   "id": "c081a676",
   "metadata": {
    "hidden": true
   },
   "source": [
    "Funny in err sens plot:\n",
    "* across target err ES does not grow in stable2 block (first pert)\n",
    "* both across and within ES don't change in stable2 block (second pert)\n",
    "* within target is probably higher at the beginning of both random1 and random2\n",
    "In error plot\n",
    "* in stable1 block there is overshoot in the beginning of second pert\n",
    "* it exists also in stable2 second pert, but it is lower there"
   ]
  },
  {
   "cell_type": "code",
   "execution_count": null,
   "id": "eecb7d60",
   "metadata": {
    "hidden": true
   },
   "outputs": [],
   "source": []
  },
  {
   "cell_type": "markdown",
   "id": "c38c32d4",
   "metadata": {
    "hidden": true
   },
   "source": [
    "##### per subj"
   ]
  },
  {
   "cell_type": "code",
   "execution_count": null,
   "id": "1d4d5f07",
   "metadata": {
    "hidden": true
   },
   "outputs": [],
   "source": [
    "dfcs = dfc.sort_values(['pert_seq_code', 'subject', 'trial_group_col_calc','trials'])\n",
    "grp = dfcs.\\\n",
    "    groupby(['pert_seq_code', 'subject', 'trial_group_col_calc'] )\n",
    "# grp = dfcs.\\\n",
    "#     groupby(['trial_group_col_calc','subject'] )\n",
    "\n",
    "mavsz = 10\n",
    "#vars_to_plot = ['err_sens','error', 'org_feedback']\n",
    "vars_to_plot = ['err_sens','error_pscadj', 'org_feedback_pscadj']\n",
    "for varn in vars_to_plot:\n",
    "    for g,gi in grp.groups.items():\n",
    "        dfcs.loc[gi,f'{varn}_mav'] = dfcs.loc[gi,varn].rolling(mavsz).mean()    "
   ]
  },
  {
   "cell_type": "code",
   "execution_count": null,
   "id": "56b4437b",
   "metadata": {
    "hidden": true
   },
   "outputs": [],
   "source": [
    "var_pubnames = {'error_pscadj':'reaching error [deg]', 'err_sens':'error sensitivity',\n",
    "           'org_feedback_pscadj':'reaching angle'}"
   ]
  },
  {
   "cell_type": "code",
   "execution_count": null,
   "id": "70304842",
   "metadata": {
    "hidden": true
   },
   "outputs": [],
   "source": [
    "df['org_feedback_pscadj']"
   ]
  },
  {
   "cell_type": "code",
   "execution_count": null,
   "id": "5a7931e6",
   "metadata": {
    "hidden": true
   },
   "outputs": [],
   "source": [
    "use_var_pubnames = True\n",
    "for varn, pertc in [ ('org_feedback_pscadj', 1.),('error_pscadj', 1.), ('err_sens', 0.017)]:\n",
    "    c = 1 / np.pi  * 180\n",
    "    #for truncs, df in zip(['truncate q=5%','truncate no'],[dfc, dfc0]):\n",
    "    for truncs, df in zip(['truncate q=5%'],[dfcs]):\n",
    "        plt.figure(figsize=(12,4))\n",
    "        qs = 'trial_group_col_calc in [\"trialwe\",\"trialwtgt_we\"]'\n",
    "        #qs += ' and pert_seq_code == 0'\n",
    "        df_= df.query(qs)\n",
    "        varn_eff = f\"{varn}_mav\"\n",
    "        if varn.startswith('org_feedback'):\n",
    "            df_['vtp'] = np.array(df_[varn]) * c \n",
    "            varn_eff = 'vtp'\n",
    "        elif varn.startswith('error'):\n",
    "            df_['vtp'] = np.array(df_[varn]) * c \n",
    "            varn_eff = 'vtp'\n",
    "        \n",
    "        ax = sns.lineplot(x=\"trials\", y=varn_eff,  estimator='mean', errorbar='se',\n",
    "                     data=df_,\n",
    "                    hue='trial_group_col_calc')\n",
    "\n",
    "        vshift = 0.\n",
    "        if varn.startswith('err_sens'):\n",
    "            vshift = 0.5\n",
    "  \n",
    "        # important to put this legend call before plotting pert and env\n",
    "        plt.legend(title='', loc='lower right', labels=['within tgt', 'across tgt'])\n",
    "        ax.plot(tr, vshift + pert * pertc, c='violet', ls= '--', label='perturbation')\n",
    "        ax.plot(tr, vshift + envv * 30 * pertc, c='black', ls = ':', lw=0, marker='.' ,\n",
    "                alpha=0.2, label='environment')\n",
    "        \n",
    "        axlbl = varn\n",
    "        if use_var_pubnames:\n",
    "            axlbl = var_pubnames[varn]\n",
    "        else:\n",
    "            ax.set_title(f'{varn}  {truncs}')\n",
    "        ax.set_ylabel(axlbl )\n",
    "        # sns.lineplot(ax=ax, x=\"trials\", y=\"perturbation\",\n",
    "        #              data=dfc.query('pert_seq_code == 0') )\n",
    "        \n",
    "        ax.legend()\n",
    "        handles = ax.get_legend_handles_labels()\n",
    "        hs = handles[0], ['within target', 'across targets' ] + handles[1][2:]\n",
    "        ax.legend(*hs)\n",
    "\n",
    "        #plt.legend(title='', loc='lower right', labels=['within tgt', 'across tgt'])\n",
    "#         plt.legend(title='', loc='lower right', \n",
    "#                    labels=['within tgt', '_nolegend_', \n",
    "#                            'across tgt','_nolegend_',\n",
    "#                            'pert','env'])\n",
    "        \n",
    "        \n",
    "        #ax.set_ylim(-0.25,0.3)\n",
    "#         break\n",
    "#     break\n"
   ]
  },
  {
   "cell_type": "code",
   "execution_count": null,
   "id": "93e246af",
   "metadata": {
    "hidden": true
   },
   "outputs": [],
   "source": [
    "lgd = ax.legend()"
   ]
  },
  {
   "cell_type": "code",
   "execution_count": null,
   "id": "87651c29",
   "metadata": {
    "hidden": true
   },
   "outputs": [],
   "source": [
    "ax.get_legend_handles_labels()#[0][0]"
   ]
  },
  {
   "cell_type": "code",
   "execution_count": null,
   "id": "7e39ab96",
   "metadata": {
    "hidden": true
   },
   "outputs": [],
   "source": [
    "# grp = dfc.groupby(['trial_group_col_calc','subject'])\n",
    "# grpma = grp.rolling(10).mean()\n",
    "fg = sns.relplot(\n",
    "    data=dfcs, x=\"trials\", y=\"err_sens_mav\",\n",
    "    col=\"subject\", hue=\"trial_group_col_calc\", kind=\"line\", aspect=2,\n",
    "col_wrap = 3)\n",
    "for ax in fg.axes.flatten():\n",
    "    ax.set_ylim(-0.6,1.4)\n",
    "    ax.plot(tr, pert / 30 * 1.2, c='violet', ls= '--')\n",
    "    ax.plot(tr, envv * 1.25, c='black', ls = ':', lw=0, marker='.' ,alpha=0.2)\n",
    "    ax.axhline(0,c='r',ls=':')\n",
    "plt.savefig(pjoin(path_fig,'behav','es_mav.pdf'), dpi=150)"
   ]
  },
  {
   "cell_type": "code",
   "execution_count": null,
   "id": "e181c148",
   "metadata": {
    "hidden": true
   },
   "outputs": [],
   "source": [
    "import gc; gc.collect()"
   ]
  },
  {
   "cell_type": "markdown",
   "id": "8a826678",
   "metadata": {
    "heading_collapsed": true,
    "hidden": true
   },
   "source": [
    "### old"
   ]
  },
  {
   "cell_type": "code",
   "execution_count": null,
   "id": "812bedd4",
   "metadata": {
    "hidden": true
   },
   "outputs": [],
   "source": [
    "#np.any (dfme['pert_seq_code'].isna())"
   ]
  },
  {
   "cell_type": "code",
   "execution_count": null,
   "id": "06d1c063",
   "metadata": {
    "hidden": true
   },
   "outputs": [],
   "source": [
    "#print(colns)\n",
    "print(allowed_env_trialcol_combin)\n",
    "print(allowed_pert_gseqc)\n",
    "print(pertvals)"
   ]
  },
  {
   "cell_type": "code",
   "execution_count": null,
   "id": "53f7c158",
   "metadata": {
    "hidden": true
   },
   "outputs": [],
   "source": [
    "tgt_inds_all,pertvals"
   ]
  },
  {
   "cell_type": "code",
   "execution_count": null,
   "id": "a2f63939",
   "metadata": {
    "hidden": true
   },
   "outputs": [],
   "source": [
    "toplot_tgt_inds, toplot_pertvals"
   ]
  },
  {
   "cell_type": "code",
   "execution_count": null,
   "id": "e495ca21",
   "metadata": {
    "hidden": true
   },
   "outputs": [],
   "source": [
    "# Why for stable pert = 30, tgti = 0, psc=0 tgtwe  I get mean nav == 2?\n",
    "# perhaps because numbering assumes I have same target so when I average I get to little"
   ]
  },
  {
   "cell_type": "code",
   "execution_count": null,
   "id": "a85909ac",
   "metadata": {
    "hidden": true
   },
   "outputs": [],
   "source": [
    "tgt_inds_all"
   ]
  },
  {
   "cell_type": "code",
   "execution_count": null,
   "id": "c38956ac",
   "metadata": {
    "hidden": true
   },
   "outputs": [],
   "source": [
    "allowed_env_trialcol_combin"
   ]
  },
  {
   "cell_type": "code",
   "execution_count": null,
   "id": "e4ac1b66",
   "metadata": {
    "code_folding": [
     17
    ],
    "hidden": true
   },
   "outputs": [],
   "source": [
    "respect_trial_inds = True\n",
    "colns = dfme['coln'].unique()\n",
    "#colns_all = dfme.loc[dfme['environment'] == 'all','coln'].unique()\n",
    "#nr = len(colns)\n",
    "#nc = dfme['env'].nunique()\n",
    "ww = 10\n",
    "hh = 3\n",
    "\n",
    "#toplot_allowed_env_trialcol_combin = allowed_env_trialcol_combin\n",
    "toplot_allowed_env_trialcol_combin = [('stable', 'trialwb')]\n",
    "toplot_pertvals = pertvals#[:2]\n",
    "toplot_tgt_inds = tgt_inds_all[-2:]\n",
    "\n",
    "ncpr = 3  # ncols per plot\n",
    "nc = ncpr #len(toplot_allowed_env_trialcol_combin)\n",
    "nr = 20\n",
    "###################################\n",
    "do_plot = 1  # set to 0 to estimate nrows\n",
    "from figure.plot_behav2 import plotErrSens\n",
    "s = ','.join(map(str,sorted( [t for t in tgt_inds_all if t is not None] ) ) )\n",
    "if None in tgt_inds_all:\n",
    "    s += ',all'\n",
    "print(s)\n",
    "# err sens values depend on target, env and pert (in this sequency)\n",
    "# so I have to compute all ways of computing it and the plot averages\n",
    "#subj_list_plot = subj_list + ['mean']\n",
    "#ylim = -7,7\n",
    "ylim = -20,20\n",
    "\n",
    "#for envi,env in enumerate(envs):\n",
    "irshift=0\n",
    "while irshift < len(allowed_env_trialcol_combin):    \n",
    "    toplotcur_allowed_env_trialcol_combin = \\\n",
    "        toplot_allowed_env_trialcol_combin[irshift: irshift+ncpr]\n",
    "    stc = ';'.join( [','.join(ab) for ab in toplotcur_allowed_env_trialcol_combin] )\n",
    "    figname = f'err_sens_{nr,nc}_{stc}_tgt={s}_respti={int(respect_trial_inds)}.pdf'\n",
    "    \n",
    "    if do_plot and len(stc):\n",
    "        print(figname)\n",
    "        fig,axs = plt.subplots(nr,nc,figsize=(nc*ww,nr*hh))\n",
    "\n",
    "    for envi, (env,trial_group_col) in enumerate(toplotcur_allowed_env_trialcol_combin):\n",
    "        rowi = 0\n",
    "        for pertv in toplot_pertvals:\n",
    "            for gseqc in [(0,), (1,), (0,1)]:\n",
    "                if (pertv,gseqc) not in allowed_pert_gseqc:\n",
    "                    print('skipping',pertv,gseqc)\n",
    "                    continue                \n",
    "                if (env,pertv) not in allowed_env_pert_combin:\n",
    "                    print('skipping',env,pertv)\n",
    "                    continue            \n",
    "\n",
    "                for tgti in toplot_tgt_inds:\n",
    "                    if (tgti,trial_group_col) not in allowed_tgt_trialcol_combin:\n",
    "                        continue\n",
    "\n",
    "                    if do_plot:\n",
    "                        ax = axs[rowi,envi]\n",
    "                        df = plotErrSens(ax,dfme,env,pertv,gseqc,tgti,trial_group_col,\n",
    "                                   ylim=ylim)\n",
    "                    rowi += 1\n",
    "\n",
    "    nrows = rowi\n",
    "\n",
    "    if do_plot and len(stc):\n",
    "        plt.tight_layout()\n",
    "        #plt.savefig(pjoin(path_fig,'behav','err_sens_me.pdf' ) )\n",
    "        plt.savefig(pjoin(path_fig,'behav', figname ) )\n",
    "        plt.close()\n",
    "        print('saved')\n",
    "    else:\n",
    "        print('nrows =',nrows)\n",
    "        break\n",
    "    \n",
    "    irshift += ncpr"
   ]
  },
  {
   "cell_type": "code",
   "execution_count": null,
   "id": "63f38d50",
   "metadata": {
    "hidden": true
   },
   "outputs": [],
   "source": [
    "tmax = df_all['trials'].max()"
   ]
  },
  {
   "cell_type": "code",
   "execution_count": null,
   "id": "e1f47c60",
   "metadata": {
    "hidden": true
   },
   "outputs": [],
   "source": [
    "[s for s in df_all.columns if s.find('trial') >= 0]"
   ]
  },
  {
   "cell_type": "code",
   "execution_count": null,
   "id": "1dd6c245",
   "metadata": {
    "hidden": true
   },
   "outputs": [],
   "source": [
    "tmax = df_all['trials'].max()\n",
    "tcolnames = ['trials',\n",
    " 'trialwb',\n",
    " 'trialwe',\n",
    " 'trialwpert_wb',\n",
    " 'trialwpert_we',\n",
    " 'trialwtgt',\n",
    " 'trialwtgt_wpert_wb',\n",
    " 'trialwtgt_wpert_we']\n",
    "for tcn in tcolnames:\n",
    "    print(tcn, df_all[tcn].max(), dfc[tcn].diff().max())\n",
    "    #assert df_all[tcn].max() >= 0"
   ]
  },
  {
   "cell_type": "code",
   "execution_count": null,
   "id": "b6942589",
   "metadata": {
    "hidden": true
   },
   "outputs": [],
   "source": [
    "dfc['target_inds'].diff().max(), dfc['target_inds'].diff().abs().mean()#, dfc['target_inds'].diff().std()"
   ]
  },
  {
   "cell_type": "code",
   "execution_count": null,
   "id": "6c2baddc",
   "metadata": {
    "hidden": true
   },
   "outputs": [],
   "source": [
    "dfc.loc[fvi]"
   ]
  },
  {
   "cell_type": "code",
   "execution_count": null,
   "id": "3b7400c0",
   "metadata": {
    "hidden": true
   },
   "outputs": [],
   "source": [
    "df"
   ]
  },
  {
   "cell_type": "code",
   "execution_count": null,
   "id": "f38abb25",
   "metadata": {
    "hidden": true
   },
   "outputs": [],
   "source": [
    "np.nanmax([np.nan, 1])"
   ]
  },
  {
   "cell_type": "code",
   "execution_count": null,
   "id": "b3ec87e5",
   "metadata": {
    "hidden": true
   },
   "outputs": [],
   "source": [
    "tgti"
   ]
  },
  {
   "cell_type": "code",
   "execution_count": null,
   "id": "6c60fee2",
   "metadata": {
    "hidden": true
   },
   "outputs": [],
   "source": [
    "df['target_inds'] == 1."
   ]
  },
  {
   "cell_type": "code",
   "execution_count": null,
   "id": "022a584f",
   "metadata": {
    "hidden": true
   },
   "outputs": [],
   "source": []
  },
  {
   "cell_type": "code",
   "execution_count": null,
   "id": "8ba41e4f",
   "metadata": {
    "hidden": true
   },
   "outputs": [],
   "source": [
    "1 / np.sqrt( grpstat['nav'] ) "
   ]
  },
  {
   "cell_type": "code",
   "execution_count": null,
   "id": "d7e80b59",
   "metadata": {
    "hidden": true
   },
   "outputs": [],
   "source": [
    "np.nanstd"
   ]
  },
  {
   "cell_type": "markdown",
   "id": "97f4dba6",
   "metadata": {
    "hidden": true
   },
   "source": [
    "#### plot sep subj"
   ]
  },
  {
   "cell_type": "code",
   "execution_count": null,
   "id": "b9577ac5",
   "metadata": {
    "hidden": true
   },
   "outputs": [],
   "source": [
    "#colns_set"
   ]
  },
  {
   "cell_type": "code",
   "execution_count": null,
   "id": "088f31ea",
   "metadata": {
    "hidden": true
   },
   "outputs": [],
   "source": [
    "#df_all['']"
   ]
  },
  {
   "cell_type": "code",
   "execution_count": null,
   "id": "704a6cb5",
   "metadata": {
    "code_folding": [],
    "hidden": true
   },
   "outputs": [],
   "source": [
    "# err sens values depend on target, env and pert (in this sequency)\n",
    "# so I have to compute all ways of computing it and the plot averages\n",
    "subj_list_plot = subj_list\n",
    "\n",
    "s = ','.join(map(str,tgt_inds_all) )\n",
    "meflag= int('mean' in subj_list_plot)\n",
    "figname = f'err_sens_tgt={s}_trialinds={int(respect_trial_inds)}_me{meflag}.pdf'\n",
    "figname\n",
    "\n",
    "fig,axs = plt.subplots(nr,nc,figsize=(nc*ww,nr*hh))\n",
    "for envi,env in enumerate(envs):\n",
    "    rowi = 0\n",
    "    for subj in subj_list_plot:#[si]\n",
    "        for pertv in pertvals:\n",
    "            for tgti in tgt_inds_all:\n",
    "                print(env,subj,pertv,tgti)\n",
    "                if subj == 'mean':\n",
    "                    mask = (dfme['env'] == env) & (dfme['perturbation'] == pertv) & \\\n",
    "                        (dfme['target_ind'] == tgti) & (dfme['coln'] == coln)\n",
    "                    df = dfme[mask]\n",
    "                    assert len(df) <= 1, len(df)\n",
    "                else:                \n",
    "                    #df = df_all\n",
    "                    df = getSubDf(df_all, subj, pertv,tgti,env)\n",
    "                db_inds = df.index\n",
    "                \n",
    "                coln = getColn(pertv, tgti, env, 'trials')  \n",
    "                if coln not in colns_set:\n",
    "                    print('skip',coln)\n",
    "                    continue\n",
    "                if (len(df) == 0) or (len(db_inds) == 0):\n",
    "                    #rowi += 1\n",
    "                    print('skip',coln,subj)\n",
    "                    continue      \n",
    "                ax = axs[rowi,envi]\n",
    "\n",
    "                ax.set_title(f'{subj[:5]} env={env} pert={pertv} tgti={tgti}')                                      \n",
    "                #trial_inds = trial_inds[nhna]         \n",
    "                #err_sens   = err_sens[nhna]              \n",
    "                \n",
    "                err_sens_nh   = df_all.loc[db_inds,coln]\n",
    "                trial_inds_nh = df_all.loc[db_inds,'trials']\n",
    "                pert_nh = df_all.loc[db_inds,'perturbation']\n",
    "                \n",
    "                if tgti is not None:\n",
    "                    col = tgtc[tgti]\n",
    "                else:\n",
    "                    col = 'b'\n",
    "                    \n",
    "                coef = 0.21\n",
    "                if respect_trial_inds:\n",
    "                    ax.plot(trial_inds_nh, err_sens_nh , label=f'tgti={tgti}',\n",
    "                            ls='', marker = 'o' , c= col)\n",
    "                    ax.set_xlabel('trial ind glob')\n",
    "                    \n",
    "                    ax.plot(trial_inds_nh, pert_nh * coef, c='grey', ls=':')\n",
    "                else:\n",
    "                    ax.plot(err_sens_nh , label=f'tgti={tgti}', c= col)\n",
    "                    ax.set_xlabel('trial ind loc')\n",
    "                    \n",
    "                    ax.plot(pert_nh * coef, c='grey', ls=':')                                    \n",
    "                    \n",
    "                me = np.mean(err_sens_nh)\n",
    "                std = np.std(err_sens_nh)\n",
    "                ax.axhline( me, ls='--',    c= col, alpha=0.5 )\n",
    "                ax.axhline( me-std, ls=':', c= col, alpha=0.5 )\n",
    "                ax.axhline( me+std, ls=':', c= col, alpha=0.5 )   \n",
    "                \n",
    "                ax.axhline(0, ls=':')\n",
    "                \n",
    "                if pertv is not None:\n",
    "                    ax.axhline(pertv / 10., ls=':', c='red')                \n",
    "                ax.set_ylim(-7,7)                \n",
    "            rowi += 1\n",
    "            ax.legend()\n",
    "                \n",
    "plt.tight_layout()\n",
    "#plt.savefig(pjoin(path_fig,'behav','err_sens_me.pdf' ) )\n",
    "plt.savefig(pjoin(path_fig,'behav', figname ) )\n",
    "plt.close()"
   ]
  },
  {
   "cell_type": "code",
   "execution_count": null,
   "id": "29e28380",
   "metadata": {
    "hidden": true
   },
   "outputs": [],
   "source": [
    "# average across subj"
   ]
  },
  {
   "cell_type": "code",
   "execution_count": null,
   "id": "2c46dbcb",
   "metadata": {
    "hidden": true
   },
   "outputs": [],
   "source": [
    "# I cannot save 'all' err sens to df because it would overwrite. And if I compute per pert, same\n",
    "# how do I define \"prev\" error there?"
   ]
  },
  {
   "cell_type": "code",
   "execution_count": null,
   "id": "50c085a6",
   "metadata": {
    "hidden": true
   },
   "outputs": [],
   "source": [
    "df_all"
   ]
  },
  {
   "cell_type": "code",
   "execution_count": null,
   "id": "786a816e",
   "metadata": {
    "hidden": true
   },
   "outputs": [],
   "source": [
    "df_esv.columns"
   ]
  },
  {
   "cell_type": "code",
   "execution_count": null,
   "id": "d73d13e0",
   "metadata": {
    "hidden": true
   },
   "outputs": [],
   "source": [
    "behav_df"
   ]
  },
  {
   "cell_type": "code",
   "execution_count": null,
   "id": "831d4fc6",
   "metadata": {
    "hidden": true
   },
   "outputs": [],
   "source": [
    "def plotTrialHor(ax,trial):    \n",
    "    Xs = trajectoryX[trial]\n",
    "    Ys = trajectoryY[trial]\n",
    "    cta = target_angs[tgtind]\n",
    "    cta = -cta\n",
    "    X0 = Xs[0]\n",
    "    Y0 = Ys[0]\n",
    "    trajX_rot = (Xs - X0) * cos(cta ) - (Ys-Y0) * sin(cta ) + X0\n",
    "    trajY_rot = (Xs - X0) * sin(cta ) + (Ys-Y0) * cos(cta ) + Y0\n",
    "    trajY_rot += tgt_shifts[tgtind]\n",
    "    \n",
    "    ax.plot(trajX_rot,trajY_rot, c='blue', alpha=0.3)\n",
    "\n",
    "    tx = radius #targetAngs[tgtind]\n",
    "    ty = tgt_shifts[tgtind]\n",
    "    #tx_rot = tx * cos(-cta / 360 * 2 * np.pi) - ty * sin(cta / 360 * 2 * np.pi)\n",
    "    #ty_rot = tx * sin(-cta / 360 * 2 * np.pi) + ty * cos(cta / 360 * 2 * np.pi)\n",
    "    tx_rot = tx\n",
    "    ty_rot = ty\n",
    "    ax.plot([tx_rot], [ty_rot], 'ro', markersize=15)\n",
    "\n",
    "    ax.axhline(tgt_shifts[tgtind], ls=':', c='black')\n",
    "    \n",
    "def plotTrial(ax,trial):    \n",
    "    Xs = trajectoryX[trial]\n",
    "    Ys = trajectoryY[trial]    \n",
    "    tx,ty = target_coords[targets[trial]]\n",
    "    ax.plot([tx], [ty], 'ro', markersize=15)\n",
    "    fbx,fby = feedbackX[trial],feedbackY[trial]\n",
    "    ax.plot([fbx], [fby], c='yellow', marker='o', markersize=10, alpha=0.5)\n",
    "    \n",
    "    fbxo,fbyo = org_feedbackX[trial],org_feedbackY[trial]\n",
    "    ax.plot([fbxo], [fbyo], c='green', marker='o', markersize=2)\n",
    "    \n",
    "    ax.scatter([0,tx], [0,ty], ls=':', c='black')    \n",
    "    ax.plot(Xs,Ys, c='blue', alpha=0.3)\n",
    "    \n",
    "#     cta = target_angs[tgtind]\n",
    "#     cta = -cta\n",
    "#     X0 = Xs[0]\n",
    "#     Y0 = Ys[0]\n",
    "#     trajX_rot = (Xs - X0) * cos(cta ) - (Ys-Y0) * sin(cta ) + X0\n",
    "#     trajY_rot = (Xs - X0) * sin(cta ) + (Ys-Y0) * cos(cta ) + Y0\n",
    "#     trajY_rot += tgt_shifts[tgtind]\n",
    "    \n",
    "#     ax.plot(trajX_rot,trajY_rot, c='blue', alpha=0.3)\n",
    "\n",
    "#     tx = radius #targetAngs[tgtind]\n",
    "#     ty = tgt_shifts[tgtind]\n",
    "#     #tx_rot = tx * cos(-cta / 360 * 2 * np.pi) - ty * sin(cta / 360 * 2 * np.pi)\n",
    "#     #ty_rot = tx * sin(-cta / 360 * 2 * np.pi) + ty * cos(cta / 360 * 2 * np.pi)\n",
    "#     tx_rot = tx\n",
    "#     ty_rot = ty\n",
    "#     ax.plot([tx_rot], [ty_rot], 'ro', markersize=15)\n"
   ]
  },
  {
   "cell_type": "code",
   "execution_count": null,
   "id": "6d969996",
   "metadata": {
    "hidden": true
   },
   "outputs": [],
   "source": [
    "perturbations_int = (perturbations.copy() ).astype(int)\n",
    "#perturbations_int = (perturbations.copy() / np.pi * 180 ).astype(int)\n",
    "pertu = np.unique(perturbations_int[environment == 0])\n",
    "pert2ind = dict( zip( pertu, np.arange(len(pertu))) )\n",
    "#pert2ind\n",
    "\n",
    "nr = 4; nc = len(pertu) + 1\n",
    "ww = 4; hh = 4\n",
    "col_timeplot = 1\n",
    "col_spaceplot=  0\n",
    "fig,axs = plt.subplots(nr,nc,figsize=(nc*ww,nr*hh))\n",
    "axs = axs.reshape((nr,nc))\n",
    "\n",
    "from numpy import cos,sin\n",
    "#plt.figure(figsize=(7,12))\n",
    "tgt_shifts = np.arange(len(target_angs) ) * 320\n",
    "enum_targets = np.array( list(enumerate(targets) ) )\n",
    "\n",
    "for pert_val in pert2ind:\n",
    "    inds_per_pertval = np.where(perturbations_int == pert_val)[0]\n",
    "    for trial,tgtind in enum_targets[inds_per_pertval]:\n",
    "        #pert_val = int( perturbations[trial] )\n",
    "        colind = pert2ind[pert_val]\n",
    "        ax = axs[tgtind,colind]\n",
    "        ax.set_title(f'{pert_val}')\n",
    "        plotTrial(ax,trial)\n",
    "\n",
    "inds_per_pertval = np.where(environment)[0]\n",
    "for trial,tgtind in enum_targets[inds_per_pertval]:\n",
    "    colind = -1\n",
    "    ax = axs[tgtind,colind]\n",
    "    ax.set_title('random')\n",
    "    plotTrial(ax,trial)\n",
    "        \n",
    "#fig.suptitle('Traj rotated by -<target angle>')\n",
    "fig.suptitle('Traj')\n",
    "plt.savefig(f'{subj}_reach_traj.pdf')"
   ]
  },
  {
   "cell_type": "code",
   "execution_count": null,
   "id": "7ff263ff",
   "metadata": {
    "hidden": true
   },
   "outputs": [],
   "source": []
  },
  {
   "cell_type": "code",
   "execution_count": null,
   "id": "fa4b7b4e",
   "metadata": {
    "hidden": true
   },
   "outputs": [],
   "source": []
  },
  {
   "cell_type": "code",
   "execution_count": null,
   "id": "ba893b62",
   "metadata": {
    "hidden": true
   },
   "outputs": [],
   "source": []
  }
 ],
 "metadata": {
  "kernelspec": {
   "display_name": "merr2",
   "language": "python",
   "name": "merr2"
  },
  "language_info": {
   "codemirror_mode": {
    "name": "ipython",
    "version": 3
   },
   "file_extension": ".py",
   "mimetype": "text/x-python",
   "name": "python",
   "nbconvert_exporter": "python",
   "pygments_lexer": "ipython3",
   "version": "3.10.13"
  }
 },
 "nbformat": 4,
 "nbformat_minor": 5
}
