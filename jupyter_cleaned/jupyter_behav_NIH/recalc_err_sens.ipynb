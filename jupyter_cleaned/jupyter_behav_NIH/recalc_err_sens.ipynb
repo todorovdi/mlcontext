{
 "cells": [
  {
   "cell_type": "code",
   "execution_count": null,
   "id": "4bf42d0d",
   "metadata": {},
   "outputs": [],
   "source": [
    "#%load_ext autoreload\n",
    "#%autoreload 2"
   ]
  },
  {
   "cell_type": "code",
   "execution_count": null,
   "id": "0792e820",
   "metadata": {},
   "outputs": [],
   "source": [
    "# NIH data\n",
    "%load_ext autoreload\n",
    "%autoreload 2\n",
    "\n",
    "import os\n",
    "import pandas as pd\n",
    "import matplotlib.pyplot as plt\n",
    "import matplotlib as mpl\n",
    "import seaborn as sns\n",
    "\n",
    "ipy = get_ipython()\n",
    "#data_dir_general = '/home/demitau/data_Quentin'\n",
    "#data_subdir_mem_err_main = 'full_experiments/data2'\n",
    "from os.path import join as pjoin\n",
    "#data_dir_input = pjoin(data_dir_general,data_subdir_mem_err_main)\n",
    "\n",
    "\n",
    "#data_dir_general = '/home/demitau/data_Quentin'\n",
    "#data_subdir_mem_err_main = 'full_experiments/data2'\n",
    "#data_dir_input = pjoin(data_dir_general,data_subdir_mem_err_main)\n",
    "#scripts_dir = pjoin(data_dir_general,'full_experiments','scripts2')\n",
    "\n",
    "import os,sys; sys.path.append(os.path.expandvars('$CODE_MEMORY_ERRORS'))\n",
    "data_dir_general = os.path.expandvars('$DATA_QUENTIN')\n",
    "data_dir_input = os.path.expandvars('$DATA_MEMORY_ERRORS_STAB_AND_STOCH')\n",
    "#scripts_dir = pjoin( os.path.expandvars('$CODE_MEMORY_ERRORS'), 'previous_analyses')\n",
    "#print(data_dir_input, scripts_dir)\n",
    "\n",
    "subjects = [f for f in os.listdir(data_dir_input) if f.startswith('sub') ]\n",
    "subjects = list(sorted(subjects))\n",
    "print(subjects)\n",
    "\n",
    "from config2 import *\n",
    "\n",
    "from base2 import (width, height, radius, calc_target_coordinates_centered,\n",
    "                  calc_rad_angle_from_coordinates)\n",
    "\n",
    "import numpy as np\n",
    "target_angs = (np.array([157.5, 112.5, 67.5, 22.5]) + 90) * \\\n",
    "              (np.pi/180)\n",
    "target_coords = calc_target_coordinates_centered(target_angs)"
   ]
  },
  {
   "cell_type": "code",
   "execution_count": null,
   "id": "38250afc",
   "metadata": {},
   "outputs": [],
   "source": [
    "#assert sns.__version__ == '0.12.2', sns.__version__"
   ]
  },
  {
   "cell_type": "code",
   "execution_count": null,
   "id": "bebd2cf9",
   "metadata": {},
   "outputs": [],
   "source": [
    "COLOR = 'black'\n",
    "mpl.rcParams['text.color'] = COLOR\n",
    "mpl.rcParams['axes.labelcolor'] = COLOR\n",
    "mpl.rcParams['xtick.color'] = COLOR\n",
    "mpl.rcParams['ytick.color'] = COLOR\n",
    "\n",
    "\n",
    "sns.set(rc={'axes.facecolor':'white', 'figure.facecolor':'white',\n",
    "           'grid.color':'grey', 'grid.alpha':0.5})\n",
    "\n",
    "tgtc = ['b','g','r','brown']"
   ]
  },
  {
   "cell_type": "markdown",
   "id": "36805c1d",
   "metadata": {},
   "source": [
    "# init"
   ]
  },
  {
   "cell_type": "markdown",
   "id": "ccdd6c42",
   "metadata": {
    "heading_collapsed": true
   },
   "source": [
    "## per subj sep"
   ]
  },
  {
   "cell_type": "code",
   "execution_count": null,
   "id": "e3ab9569",
   "metadata": {
    "hidden": true
   },
   "outputs": [],
   "source": [
    "from behav_proc import *\n",
    "\n",
    "behav_df_all = []\n",
    "#or subj in subjects[:4]:#[si]\n",
    "for subj in subjects: #[:1]:#[si]\n",
    "    behav_data_dir = pjoin(data_dir_input,'behavdata')\n",
    "    #behavdata\n",
    "    task = 'VisuoMotor'\n",
    "    fname = pjoin(path_data, subj, 'behavdata',\n",
    "                    f'behav_{task}_df.pkl' )\n",
    "    # where we would save cleaned df\n",
    "    fname_EC = pjoin(path_data, subj, 'behavdata',\n",
    "                    f'behav_{task}_df_EC.pkl' )\n",
    "    behav_df_full = pd.read_pickle(fname)\n",
    "\n",
    "    behav_df = pd.read_pickle(fname)\n",
    "    behav_df['subject'] = subj\n",
    "    addBehavCols(behav_df)\n",
    "    \n",
    "    behav_df_all += [behav_df]\n",
    "    \n",
    "behav_df_all = pd.concat(behav_df_all)\n",
    "# behav_df_all['correction'] = None\n",
    "# behav_df_all['err_sens'] = None\n",
    "df_all = behav_df_all.reset_index()"
   ]
  },
  {
   "cell_type": "code",
   "execution_count": null,
   "id": "76b291f8",
   "metadata": {
    "hidden": true
   },
   "outputs": [],
   "source": [
    "behav_df.groupby('block_name')['trials'].min().to_dict()"
   ]
  },
  {
   "cell_type": "code",
   "execution_count": null,
   "id": "1419263f",
   "metadata": {
    "hidden": true
   },
   "outputs": [],
   "source": [
    "behav_df.duplicated(['subject','trials']).any()"
   ]
  },
  {
   "cell_type": "markdown",
   "id": "7b5a1ddc",
   "metadata": {},
   "source": [
    "## together"
   ]
  },
  {
   "cell_type": "code",
   "execution_count": null,
   "id": "de3fb105",
   "metadata": {},
   "outputs": [],
   "source": [
    "from behav_proc import *\n",
    "#updstr = ''\n",
    "updstr = '_upd'\n",
    "behav_df_all = []\n",
    "#or subj in subjects[:4]:#[si]\n",
    "for subj in subjects:\n",
    "    behav_data_dir = pjoin(data_dir_input,'behavdata')\n",
    "    #behavdata\n",
    "    task = 'VisuoMotor'\n",
    "    fname = pjoin(path_data, subj, 'behavdata',\n",
    "                    f'behav_{task}_df{updstr}.pkl' )\n",
    "    # where we would save cleaned df\n",
    "    #fname_EC = pjoin(path_data, subj, 'behavdata',\n",
    "    #                f'behav_{task}_df_EC.pkl' )\n",
    "    behav_df_full = pd.read_pickle(fname)\n",
    "\n",
    "    behav_df = pd.read_pickle(fname)\n",
    "    behav_df['subject'] = subj\n",
    "    \n",
    "    behav_df_all += [behav_df]\n",
    "    \n",
    "behav_df_all = pd.concat(behav_df_all, ignore_index=1).drop(columns=['level_0'])\n",
    "# behav_df_all['correction'] = None\n",
    "# behav_df_all['err_sens'] = None\n",
    "df_all = behav_df_all.reset_index()"
   ]
  },
  {
   "cell_type": "code",
   "execution_count": null,
   "id": "162a0f03",
   "metadata": {},
   "outputs": [],
   "source": [
    "assert len( df_all['subject'].unique() ) == 20"
   ]
  },
  {
   "cell_type": "code",
   "execution_count": null,
   "id": "1fe65687",
   "metadata": {},
   "outputs": [],
   "source": [
    "# fn = 'df_all_11.01.24.pkl.zip'\n",
    "# behav_df_all.to_pickle(pjoin(path_data,fn) , compression='zip')\n",
    "# behav_df_all.to_pickle(pjoin('/home/demitau/current/merr_data',fn) , compression='zip')"
   ]
  },
  {
   "cell_type": "code",
   "execution_count": null,
   "id": "c9396264",
   "metadata": {},
   "outputs": [],
   "source": [
    "#%debug\n",
    "import sys, traceback\n",
    "try:\n",
    "    addBehavCols(df_all)\n",
    "except Exception as e:\n",
    "    exc_info = sys.exc_info()\n",
    "    exc = traceback.TracebackException(*exc_info, capture_locals=True)\n",
    "    \n",
    "    \n",
    "    stackframe = exc_info[2].tb_next.tb_frame\n",
    "    local_vars_in_fun = stackframe.f_locals\n",
    "    display(exc_info, stackframe)\n",
    "    print('line num = ',exc_info[2].tb_next.tb_lineno)\n"
   ]
  },
  {
   "cell_type": "code",
   "execution_count": null,
   "id": "b775ea2c",
   "metadata": {},
   "outputs": [],
   "source": [
    "type(local_vars_in_fun['dfc']['target_locs'].iloc[0])"
   ]
  },
  {
   "cell_type": "code",
   "execution_count": null,
   "id": "8303ed37",
   "metadata": {},
   "outputs": [],
   "source": [
    "checkErrBounds(df_all)"
   ]
  },
  {
   "cell_type": "code",
   "execution_count": null,
   "id": "527f9370",
   "metadata": {},
   "outputs": [],
   "source": [
    "#from behav_proc import adjustErrBoundsPi\n",
    "#adjustErrBoundsPi(df_all,['error'])\n",
    "#checkErrBounds(df_all)"
   ]
  },
  {
   "cell_type": "markdown",
   "id": "88d885d2",
   "metadata": {},
   "source": [
    "## Continue init"
   ]
  },
  {
   "cell_type": "code",
   "execution_count": null,
   "id": "b5463bad",
   "metadata": {},
   "outputs": [],
   "source": [
    "pertvals = list( df_all['perturbation'].unique() )\n",
    "pertvals = list(pertvals) + [None]\n",
    "\n",
    "envs = ['stable','random','all']\n",
    "#envs = ['stable','random']\n",
    "tgt_inds_all = list( df_all['target_inds'].unique() )  + [None]\n",
    "#tgt_inds_all = list( df_all['target_inds'].unique() )  \n",
    "#tgt_inds_all = [None]\n",
    "#tgt_inds_all = [1]\n",
    "nsubj = df_all['subject'].nunique()\n",
    "\n",
    "#subj_list = subjects[:2]\n",
    "#subj_list = ['mean'] \n",
    "#subj_list = subjects[:2] + ['mean']\n",
    "subj_list = subjects\n",
    "\n",
    "respect_trial_inds = True\n",
    "ww = 6; hh = 3\n",
    "nr = len(subj_list) * len(pertvals)\n",
    "nc = len(envs)\n",
    "\n",
    "from figure.plot_behav2 import *\n",
    "# for envi,env in enumerate(envs):\n",
    "#     for pertv in pertvals:\n",
    "#         if (env,pertv) not in allowed_env_pert_combin:\n",
    "#             print('skipping',env,pertv)\n",
    "#         for tgti in tgt_inds_all:\n",
    "#             coln = getColn(pertv,tgti,env)\n",
    "#             #print(coln)\n",
    "#             #print(len(df_all[coln]))\n",
    "#             df_all[coln]    = [np.nan] * len(df_all)"
   ]
  },
  {
   "cell_type": "markdown",
   "id": "c305640b",
   "metadata": {
    "heading_collapsed": true
   },
   "source": [
    "#### supp plots"
   ]
  },
  {
   "cell_type": "code",
   "execution_count": null,
   "id": "2d5f066d",
   "metadata": {
    "hidden": true
   },
   "outputs": [],
   "source": [
    "sns.pairplot(data=df_all, vars=['trials','RT'])"
   ]
  },
  {
   "cell_type": "code",
   "execution_count": null,
   "id": "6b6ca2f9",
   "metadata": {
    "hidden": true
   },
   "outputs": [],
   "source": [
    "bn2trial_st = {'stable1': [0, 24, 84, 108, 168, 192], 'stable2': [384, 408, 468, 492, 552, 576]}"
   ]
  },
  {
   "cell_type": "code",
   "execution_count": null,
   "id": "8cb90a3b",
   "metadata": {
    "hidden": true
   },
   "outputs": [],
   "source": [
    "df_all['pert_stage_wb']"
   ]
  },
  {
   "cell_type": "code",
   "execution_count": null,
   "id": "c1c4fb08",
   "metadata": {
    "hidden": true
   },
   "outputs": [],
   "source": [
    "\n",
    "\n",
    "df_all['trialwpert_wb'] = df_all.apply(f,1)\n"
   ]
  },
  {
   "cell_type": "code",
   "execution_count": null,
   "id": "8fe20f51",
   "metadata": {
    "hidden": true
   },
   "outputs": [],
   "source": [
    "#subjects =df_all['subject'].unique()\n",
    "df = df_all\n",
    "dfc = df.query('subject == @subjects[0]')\n",
    "\n",
    "\n",
    "#dfc.plot?\n",
    "\n",
    "for col in ['trialwpert_wb', 'trialwtgt_wpert_wb', 'trialwpertstage_wb',\n",
    "           'trialwtgt_wpertstage_wb', 'trialwtgt_wpertstage_we']:\n",
    "    if 'wtgt' in col:\n",
    "        df_ = dfc.query('target_inds == 0')\n",
    "    else:\n",
    "        df_ = dfc\n",
    "    #plt.figure(figsize=(13,3))\n",
    "    ax = df_.plot(x='trials',y=[col,'pert_stage_wb'], figsize=(10,3))\n",
    "    ax.set_title(col)\n",
    "    ax.legend(loc='upper left')\n",
    "    \n",
    "    "
   ]
  },
  {
   "cell_type": "code",
   "execution_count": null,
   "id": "8a55377f",
   "metadata": {
    "hidden": true
   },
   "outputs": [],
   "source": [
    "behav_df['trials'].max()"
   ]
  },
  {
   "cell_type": "code",
   "execution_count": null,
   "id": "e11f8509",
   "metadata": {
    "hidden": true
   },
   "outputs": [],
   "source": [
    "local_vars_in_fun['bn2trial_st']"
   ]
  },
  {
   "cell_type": "code",
   "execution_count": null,
   "id": "80f00e01",
   "metadata": {
    "hidden": true
   },
   "outputs": [],
   "source": [
    "tcn = local_vars_in_fun['tcn']\n",
    "print(local_vars_in_fun['tmax'], tcn)\n",
    "local_vars_in_fun['df_all'][tcn].max()"
   ]
  },
  {
   "cell_type": "code",
   "execution_count": null,
   "id": "51a3d689",
   "metadata": {
    "hidden": true
   },
   "outputs": [],
   "source": [
    "#df_all.to_pickle( pjoin(path_fig, 'output_intermed.gzip'),'gzip')"
   ]
  },
  {
   "cell_type": "code",
   "execution_count": null,
   "id": "56ff95f1",
   "metadata": {
    "hidden": true
   },
   "outputs": [],
   "source": [
    "for col in ['trialwpert_wb', 'trialwtgt_wpert_wb', 'trialwpertstage_wb',\n",
    "           'trialwtgt_wpertstage_wb', 'trialwtgt_wpertstage_we']:\n",
    "    for pert in [0.,30,-30.]:\n",
    "        mx = df_all.query('perturbation == @pert')[col].max()\n",
    "        print(f'{col:20}, pert={pert:3.0f},   mx={mx:5.0f}')"
   ]
  },
  {
   "cell_type": "code",
   "execution_count": null,
   "id": "c7106eef",
   "metadata": {
    "hidden": true
   },
   "outputs": [],
   "source": [
    "print( df_['pert_stage_wb'].unique() )"
   ]
  },
  {
   "cell_type": "code",
   "execution_count": null,
   "id": "2411202c",
   "metadata": {
    "hidden": true
   },
   "outputs": [],
   "source": [
    "df_['pert_stage_wb'].astype(int)"
   ]
  },
  {
   "cell_type": "code",
   "execution_count": null,
   "id": "1bca6c85",
   "metadata": {
    "hidden": true
   },
   "outputs": [],
   "source": [
    "df_['block_name'].unique(), df_['perturbation'].unique()"
   ]
  },
  {
   "cell_type": "code",
   "execution_count": null,
   "id": "aeadd243",
   "metadata": {
    "hidden": true
   },
   "outputs": [],
   "source": [
    "sns.lineplot?"
   ]
  },
  {
   "cell_type": "code",
   "execution_count": null,
   "id": "fcc06f18",
   "metadata": {
    "hidden": true
   },
   "outputs": [],
   "source": []
  },
  {
   "cell_type": "code",
   "execution_count": null,
   "id": "7c82de32",
   "metadata": {
    "hidden": true
   },
   "outputs": [],
   "source": [
    "sum(c)"
   ]
  },
  {
   "cell_type": "code",
   "execution_count": null,
   "id": "457a526c",
   "metadata": {
    "hidden": true
   },
   "outputs": [],
   "source": [
    "df_ = df_all[~df_all['pert_stage_wb'].isna() ].copy()#.query('trial_shift_size == 1')\n",
    "df_['pert_stage_wb'] = df_['pert_stage_wb'].astype(int)#.astype('category')\n",
    "#df_ = df_.query('pert_stage_wb in [1,3]')\n",
    "df_ = df_.query('pert_stage_wb in [1,3]')\n",
    "print( df_['pert_stage_wb'].unique() )\n",
    "sns.lineplot(data=df_, y ='error_pscadj_pertstageadj', \n",
    "             #x = 'trialwpertstage_wb',\n",
    "             x = 'trialwpertstage_wb',\n",
    "            hue = 'pert_stage')"
   ]
  },
  {
   "cell_type": "code",
   "execution_count": null,
   "id": "77fbd083",
   "metadata": {
    "hidden": true,
    "run_control": {
     "marked": false
    }
   },
   "outputs": [],
   "source": []
  },
  {
   "cell_type": "code",
   "execution_count": null,
   "id": "30abcdc5",
   "metadata": {
    "hidden": true
   },
   "outputs": [],
   "source": [
    "df_ = df_all[~df_all['pert_stage_wb'].isna() ].copy()#.query('trial_shift_size == 1')\n",
    "df_['pert_stage_wb'] = df_['pert_stage_wb']#.astype('category')\n",
    "df_ = df_.query('pert_stage_wb in [1,3]')\n",
    "sns.lineplot(data=df_, y ='error_pscadj_pertstageadj', x = 'trialwtgt_wpertstage_wb',\n",
    "            hue = 'pert_stage')"
   ]
  },
  {
   "cell_type": "code",
   "execution_count": null,
   "id": "866112f4",
   "metadata": {
    "hidden": true
   },
   "outputs": [],
   "source": [
    "df_ = df_all[~df_all['pert_stage_wb'].isna() ].copy()#.query('trial_shift_size == 1')\n",
    "df_['pert_stage_wb'] = df_['pert_stage_wb']#.astype('category')\n",
    "df_ = df_.query('pert_stage_wb in [0,2,4]')\n",
    "#df_['pert_stage_wb'] = df_['pert_stage_wb'].astype('category')\n",
    "print( df_['pert_stage_wb'].unique() )\n",
    "sns.lineplot(data=df_, y ='error_pscadj_pertstageadj', x = 'trialwpertstage_wb',\n",
    "            hue = 'pert_stage')\n",
    "# sns.relplot(data=df_, kind='line', y ='error', x = 'trialwpertstage_wb',\n",
    "#             row = 'pert_stage_wb')"
   ]
  },
  {
   "cell_type": "code",
   "execution_count": null,
   "id": "b2a819a5",
   "metadata": {
    "hidden": true
   },
   "outputs": [],
   "source": [
    "df_ = df_all[~df_all['pert_stage_wb'].isna() ].copy()#.query('trial_shift_size == 1')\n",
    "df_['pert_stage_wb'] = df_['pert_stage_wb']#.astype('category')\n",
    "df_ = df_.query('pert_stage_wb in [0,2,4]')\n",
    "sns.lineplot(data=df_, y ='error_pscadj_pertstageadj', x = 'trialwtgt_wpertstage_wb',\n",
    "            hue = 'pert_stage')"
   ]
  },
  {
   "cell_type": "code",
   "execution_count": null,
   "id": "71bdc3ad",
   "metadata": {
    "hidden": true
   },
   "outputs": [],
   "source": [
    "df_all['trialwpert_wb'].max()"
   ]
  },
  {
   "cell_type": "code",
   "execution_count": null,
   "id": "f997bf9c",
   "metadata": {
    "hidden": true
   },
   "outputs": [],
   "source": [
    "df_all['trialwtgt_wpert']"
   ]
  },
  {
   "cell_type": "code",
   "execution_count": null,
   "id": "9d8863ee",
   "metadata": {
    "hidden": true
   },
   "outputs": [],
   "source": [
    "from error_sensitivity import computeErrSens2\n",
    "\n"
   ]
  },
  {
   "cell_type": "code",
   "execution_count": null,
   "id": "6cae553e",
   "metadata": {
    "hidden": true
   },
   "outputs": [],
   "source": [
    "behav_df"
   ]
  },
  {
   "cell_type": "markdown",
   "id": "fbec8837",
   "metadata": {},
   "source": [
    "# Calc err sens in different ways"
   ]
  },
  {
   "cell_type": "markdown",
   "id": "bac8df97",
   "metadata": {
    "heading_collapsed": true
   },
   "source": [
    "#### debug"
   ]
  },
  {
   "cell_type": "code",
   "execution_count": null,
   "id": "7c65ed30",
   "metadata": {
    "hidden": true
   },
   "outputs": [],
   "source": [
    "len(err_sens_nh) == len(trial_inds_nh)"
   ]
  },
  {
   "cell_type": "code",
   "execution_count": null,
   "id": "e56257e5",
   "metadata": {
    "hidden": true
   },
   "outputs": [],
   "source": [
    "df_all.loc[trial_inds_nh,'err_sens_perenv']"
   ]
  },
  {
   "cell_type": "code",
   "execution_count": null,
   "id": "13ebcb23",
   "metadata": {
    "hidden": true
   },
   "outputs": [],
   "source": [
    "np.any(~np.isnan(df_all['err_sens_perenv'] ) )"
   ]
  },
  {
   "cell_type": "code",
   "execution_count": null,
   "id": "17b23b86",
   "metadata": {
    "hidden": true
   },
   "outputs": [],
   "source": [
    "df_all.loc[trial_inds_nh,'err_sens_perenv'] = df_esv_nh['err_sens']"
   ]
  },
  {
   "cell_type": "code",
   "execution_count": null,
   "id": "056bdde1",
   "metadata": {
    "hidden": true
   },
   "outputs": [],
   "source": [
    "df_all.loc[trial_inds_nh,'err_sens_perenv'] = err_sens_nh"
   ]
  },
  {
   "cell_type": "code",
   "execution_count": null,
   "id": "2352f5f6",
   "metadata": {
    "hidden": true
   },
   "outputs": [],
   "source": [
    "df_all.loc[trial_inds_nh,'err_sens_perenv']"
   ]
  },
  {
   "cell_type": "code",
   "execution_count": null,
   "id": "49d98640",
   "metadata": {
    "hidden": true
   },
   "outputs": [],
   "source": [
    "help( np.mean )"
   ]
  },
  {
   "cell_type": "code",
   "execution_count": null,
   "id": "76d7e250",
   "metadata": {
    "hidden": true
   },
   "outputs": [],
   "source": []
  },
  {
   "cell_type": "code",
   "execution_count": null,
   "id": "09eeaa08",
   "metadata": {
    "hidden": true
   },
   "outputs": [],
   "source": [
    "df_all"
   ]
  },
  {
   "cell_type": "code",
   "execution_count": null,
   "id": "2719f2f3",
   "metadata": {
    "hidden": true
   },
   "outputs": [],
   "source": [
    "df[['trials',coln]]#.groupby('trials').count()"
   ]
  },
  {
   "cell_type": "code",
   "execution_count": null,
   "id": "a7989aa3",
   "metadata": {
    "hidden": true
   },
   "outputs": [],
   "source": []
  },
  {
   "cell_type": "code",
   "execution_count": null,
   "id": "416eb9ac",
   "metadata": {
    "hidden": true
   },
   "outputs": [],
   "source": [
    "tgti"
   ]
  },
  {
   "cell_type": "code",
   "execution_count": null,
   "id": "e5ed76aa",
   "metadata": {
    "hidden": true
   },
   "outputs": [],
   "source": [
    "print(env,subj,pertv,tgti)"
   ]
  },
  {
   "cell_type": "code",
   "execution_count": null,
   "id": "b37fd769",
   "metadata": {
    "hidden": true
   },
   "outputs": [],
   "source": [
    "envcode"
   ]
  },
  {
   "cell_type": "code",
   "execution_count": null,
   "id": "bf5fc5cb",
   "metadata": {
    "hidden": true
   },
   "outputs": [],
   "source": [
    "df = df_all\n",
    "if pertv is not None:\n",
    "    df = df[df['perturbation'] == pertv]  \n",
    "    \n",
    "print (len(df))\n",
    "if tgti is not None:\n",
    "    df = df[df['target_inds'] == tgti] \n",
    "print (len(df))    \n",
    "\n",
    "if env in env2envcode:  # make trial inds (within subject)\n",
    "    envcode = env2envcode[env]\n",
    "    coln = 'err_sens_perenv'\n",
    "    db_inds = np.where(df['environment'] == envcode)[0]                    \n",
    "    df = df[df['environment'] == envcode]\n",
    "else:\n",
    "    db_inds = np.arange(len(environment)) \n",
    "    coln = 'err_sens_all'\n",
    "    \n",
    "df"
   ]
  },
  {
   "cell_type": "code",
   "execution_count": null,
   "id": "71258a88",
   "metadata": {
    "hidden": true
   },
   "outputs": [],
   "source": [
    "#err_sens_nh   = grpme[coln]\n",
    "err_sens_nh"
   ]
  },
  {
   "cell_type": "code",
   "execution_count": null,
   "id": "b12599a0",
   "metadata": {
    "hidden": true
   },
   "outputs": [],
   "source": [
    "plt.plot(err_sens_nh)"
   ]
  },
  {
   "cell_type": "code",
   "execution_count": null,
   "id": "f83c0778",
   "metadata": {
    "hidden": true
   },
   "outputs": [],
   "source": [
    "grp.count()"
   ]
  },
  {
   "cell_type": "code",
   "execution_count": null,
   "id": "62cfa35d",
   "metadata": {
    "hidden": true
   },
   "outputs": [],
   "source": [
    " print(env,subj,pertv,tgti)"
   ]
  },
  {
   "cell_type": "code",
   "execution_count": null,
   "id": "b1592703",
   "metadata": {
    "hidden": true
   },
   "outputs": [],
   "source": [
    "a,b = list(grp)[0] \n",
    "a,b"
   ]
  },
  {
   "cell_type": "code",
   "execution_count": null,
   "id": "01392876",
   "metadata": {
    "hidden": true
   },
   "outputs": [],
   "source": [
    "df_all.groupby"
   ]
  },
  {
   "cell_type": "code",
   "execution_count": null,
   "id": "94c06fd3",
   "metadata": {
    "hidden": true
   },
   "outputs": [],
   "source": [
    "#df.values[:,1]"
   ]
  },
  {
   "cell_type": "code",
   "execution_count": null,
   "id": "a49da4ea",
   "metadata": {
    "hidden": true
   },
   "outputs": [],
   "source": []
  },
  {
   "cell_type": "code",
   "execution_count": null,
   "id": "1816a132",
   "metadata": {
    "hidden": true
   },
   "outputs": [],
   "source": [
    "display( grp.apply(lambda g: g.mean(skipna=True)) )\n",
    "grp.apply(lambda g: av(g,coln))#.reset_index()"
   ]
  },
  {
   "cell_type": "code",
   "execution_count": null,
   "id": "9f59e2c6",
   "metadata": {
    "hidden": true
   },
   "outputs": [],
   "source": [
    "#grp.get_group(5)#; print(coln)\n",
    "av( grp.get_group(5), coln)"
   ]
  },
  {
   "cell_type": "code",
   "execution_count": null,
   "id": "1d7b3845",
   "metadata": {
    "hidden": true
   },
   "outputs": [],
   "source": []
  },
  {
   "cell_type": "code",
   "execution_count": null,
   "id": "ee937bb8",
   "metadata": {
    "hidden": true
   },
   "outputs": [],
   "source": [
    "#grpme.values"
   ]
  },
  {
   "cell_type": "markdown",
   "id": "17d743b2",
   "metadata": {
    "heading_collapsed": true
   },
   "source": [
    "#### final"
   ]
  },
  {
   "cell_type": "code",
   "execution_count": null,
   "id": "a6efd03b",
   "metadata": {
    "hidden": true
   },
   "outputs": [],
   "source": [
    "import gc; gc.collect()"
   ]
  },
  {
   "cell_type": "code",
   "execution_count": null,
   "id": "3df9d348",
   "metadata": {
    "hidden": true
   },
   "outputs": [],
   "source": [
    "pd.options.mode.use_inf_as_na = True"
   ]
  },
  {
   "cell_type": "code",
   "execution_count": null,
   "id": "4b166b35",
   "metadata": {
    "hidden": true
   },
   "outputs": [],
   "source": [
    "DEBUG = 0"
   ]
  },
  {
   "cell_type": "markdown",
   "id": "bb032db9",
   "metadata": {
    "heading_collapsed": true,
    "hidden": true
   },
   "source": [
    "##### debug subjStat"
   ]
  },
  {
   "cell_type": "code",
   "execution_count": null,
   "id": "719cc845",
   "metadata": {
    "hidden": true
   },
   "outputs": [],
   "source": [
    "from figure.plot_behav2 import subjStat\n",
    "#trialcol = 'trialwb'\n",
    "# trialcol = 'trialwe'\n",
    "# pertv = None\n",
    "# tgti = 0\n",
    "# env = 'stable' \n",
    "\n",
    "env,pertv,gseqc,tgti,trial_group_col = ('all', None, (0,), 3, 'trials')\n",
    "coln = getColn(pertv, tgti, env, trial_group_col)\n",
    "print(coln)\n",
    "df = getSubDf(df_all,'mean',pertv, tgti, env, False, pert_seq_code=gseqc[0])\n",
    "\n",
    "#print(df['subject'].unique(), df['environment'].unique(), df['perturbation'].unique(), df['target_inds'].unique() )\n",
    "from collections import Counter\n",
    "\n",
    "print( Counter(df['subject']), Counter(df['environment']), \n",
    "      Counter(df['perturbation']), Counter(df['target_inds']) )\n",
    "\n",
    "\n",
    "grpstat = subjStat(df, coln, trial_group_col)\n",
    "err_sens_nh   = grpstat[coln]\n",
    "trial_inds_nh = grpstat[trialcol]\n",
    "display(grpstat)\n",
    "#display(grpstd)"
   ]
  },
  {
   "cell_type": "code",
   "execution_count": null,
   "id": "7bab8eb4",
   "metadata": {
    "hidden": true
   },
   "outputs": [],
   "source": [
    "df.subject.unique()"
   ]
  },
  {
   "cell_type": "code",
   "execution_count": null,
   "id": "2d615045",
   "metadata": {
    "hidden": true
   },
   "outputs": [],
   "source": [
    "df.columns[:25]"
   ]
  },
  {
   "cell_type": "code",
   "execution_count": null,
   "id": "c1104a48",
   "metadata": {
    "hidden": true
   },
   "outputs": [],
   "source": [
    "cols = ['subject', 'environment', 'perturbation',\n",
    "        'trials', 'trialwb', 'trialwe', 'err', 'RT']  + [coln]\n",
    "df.loc[ df['trialwb'] == 0,  cols]"
   ]
  },
  {
   "cell_type": "code",
   "execution_count": null,
   "id": "679f5fa4",
   "metadata": {
    "hidden": true
   },
   "outputs": [],
   "source": [
    "plt.plot( df['perturbation'] )\n",
    "plt.plot(df['trialwb'] / 10)\n",
    "plt.plot(df['trialwe'] / 20)"
   ]
  },
  {
   "cell_type": "markdown",
   "id": "2d80ded4",
   "metadata": {
    "heading_collapsed": true
   },
   "source": [
    "#### fill per subject table"
   ]
  },
  {
   "cell_type": "code",
   "execution_count": null,
   "id": "37f91cd9",
   "metadata": {
    "hidden": true
   },
   "outputs": [],
   "source": [
    "#df_all.loc[:50,['environment','target_inds','perturbation','trials','trialwtgt','trialwtgt_wpert_we','trialwtgt_wpert_wb']]"
   ]
  },
  {
   "cell_type": "code",
   "execution_count": null,
   "id": "c7adb834",
   "metadata": {
    "hidden": true
   },
   "outputs": [],
   "source": [
    "df_all.columns"
   ]
  },
  {
   "cell_type": "code",
   "execution_count": null,
   "id": "c0d077d0",
   "metadata": {
    "hidden": true
   },
   "outputs": [],
   "source": [
    "allowed_env_pert_combin = [('all',0.), ('all',30.), ('all',-30.), ('all',None), \n",
    "                           ('stable',0.),('stable',30.),('stable',-30.),('stable',None),('random',0.),\n",
    "                           ('random',None)]\n",
    "\n",
    "allowed_env_trialcol_combin = [('all','trials'), ('all','trialwtgt'), \n",
    "        ('all','trialwtgt_wpert_wb'), ('all','trialwtgt_wpert_we'), \n",
    "        ('stable','trialwtgt'), ('stable','trialwtgt_we'), ('random','trialwe'),\n",
    "        ('stable','trialwpert'), ('stable','trialwe'), ('stable','trialwb'), \n",
    "        ('stable','trialwpert_we'), ('stable','trialwpert_wb'),  \n",
    "        ('stable', 'trialwtgt_wpert_wb') , ('stable','trialwtgt_wpert_we')]\n",
    "\n",
    "allowed_env_trialcol_combin = [('stable','trialwe'), ('stable','trialwtgt_we'),\n",
    "('random','trialwe'), ('random','trialwtgt_we')]\n",
    "#  -- meaningless if separate across tgt because targets are not sync across participants\n",
    "\n",
    "#allowed_env_trialcol_combin = [('all','trials'), \n",
    "#                                 ('stable','trialwe'), ('random','trialwe') ]\n",
    "\n",
    "allowed_tgt_trialcol_combin = [(None,'trialwe'), (None,'trials'), \n",
    "                               (None,'trialwpert_wb'), (None,'trialwpert_we')]\n",
    "for tgti in range(4):  # only numeric, not None here\n",
    "    allowed_tgt_trialcol_combin += [(tgti,'trialwtgt')] + [(tgti,'trialwe')]\n",
    "    allowed_tgt_trialcol_combin += [(tgti,'trialwtgt_we')] \n",
    "    allowed_tgt_trialcol_combin += [(tgti,'trialwpert_wb')] \n",
    "    allowed_tgt_trialcol_combin += [(tgti,'trialwpert_we')]\n",
    "    allowed_tgt_trialcol_combin += [(tgti,'trialwtgt_wpert_wb')]\n",
    "    allowed_tgt_trialcol_combin += [(tgti,'trialwtgt_wpert_we')]\n",
    "    allowed_tgt_trialcol_combin += [(tgti,'trialwb')] \n",
    "    \n",
    "#allowed_env_tgt_trialcol_combin = ['stable',]"
   ]
  },
  {
   "cell_type": "code",
   "execution_count": null,
   "id": "649b3812",
   "metadata": {
    "hidden": true
   },
   "outputs": [],
   "source": [
    "allowed_envblock = [('stable','stable1'), ('stable','stable2'), \n",
    "                   ('stable','all'), ('random','random1'), ('random','random2'),\n",
    "                   ('random','all'), ('all','all')]"
   ]
  },
  {
   "cell_type": "code",
   "execution_count": null,
   "id": "d1d6aa69",
   "metadata": {
    "hidden": true
   },
   "outputs": [],
   "source": [
    "block_names_to_calc = block_names + ['all']"
   ]
  },
  {
   "cell_type": "code",
   "execution_count": null,
   "id": "93a2c29b",
   "metadata": {
    "hidden": true
   },
   "outputs": [],
   "source": [
    "DEBUG = 0\n",
    "subj_list = subjects"
   ]
  },
  {
   "cell_type": "code",
   "execution_count": null,
   "id": "45c89ba4",
   "metadata": {
    "hidden": true
   },
   "outputs": [],
   "source": [
    "pertvals_to_calc = pertvals + [None]\n",
    "pertvals_to_calc"
   ]
  },
  {
   "cell_type": "markdown",
   "id": "925ffd0d",
   "metadata": {
    "heading_collapsed": true
   },
   "source": [
    "#### oldv (adding columns)"
   ]
  },
  {
   "cell_type": "code",
   "execution_count": null,
   "id": "dca78668",
   "metadata": {
    "code_folding": [
     3,
     21
    ],
    "hidden": true,
    "run_control": {
     "marked": true
    }
   },
   "outputs": [],
   "source": [
    "from figure.plot_behav2 import getSubDf, getColn\n",
    "error_type = 'MPE'  # observed - goal, motor performance error\n",
    "colns_set  = []; colns_skip = [];\n",
    "debug_break = 0\n",
    "for env, trial_group_col in allowed_env_trialcol_combin:\n",
    "    for block_name in block_names_to_calc:\n",
    "        if (env,block_name) not in allowed_envblock:\n",
    "            continue\n",
    "    for subj in subj_list:#[si]\n",
    "        for pertv in pertvals_to_calc:\n",
    "            if (env,pertv) not in allowed_env_pert_combin:\n",
    "                print('skipping',env,pertv)\n",
    "                continue\n",
    "            for tgti in tgt_inds_all:\n",
    "                if (tgti,trial_group_col) not in allowed_tgt_trialcol_combin:\n",
    "                    continue\n",
    "                print(env,subj,pertv,tgti,trial_group_col)\n",
    "                #df = df_all\n",
    "                # if we take only non-hit then, since we'll compute err sens sequentially \n",
    "                # we'll get wrong\n",
    "                #if trial_group_col in ['trialwb']:\n",
    "                #    raise ValueError('not implemented')\n",
    "                df = getSubDf(df_all, subj, pertv,tgti,env,block_name,\n",
    "                              non_hit = False)\n",
    "                db_inds = df.index                \n",
    "                \n",
    "                coln = getColn(pertv, tgti, env, block_name, None) #, trial_group_col)        \n",
    "                print('  ',coln,len(df))                                \n",
    "                if (len(df) == 0) or (len(db_inds) == 0):\n",
    "                    #rowi += 1\n",
    "                    print('skip',coln,subj)\n",
    "                    colns_skip += [coln]\n",
    "                    if DEBUG:\n",
    "                        debug_break = 1\n",
    "                        break\n",
    "                    continue                      \n",
    "                                            \n",
    "                # resetting index is important\n",
    "                r = computeErrSens2(df.reset_index(), df_inds=None, \n",
    "                                    error_type=error_type)\n",
    "                nhna, df_esv, ndf2vn = r            \n",
    "\n",
    "                #df_esv_nh     = df_esv[df_esv['non_hit_not_adj'] & \\\n",
    "                #                       ~np.isinf(df_esv['err_sens'])]\n",
    "                #err_sens_nh   = np.array( df_esv_nh['err_sens'] )\n",
    "                #trial_inds_nh = np.array( df_esv_nh['trial_inds_glob'] )\n",
    "\n",
    "                #pert_nh = df_esv_nh['perturbation']\n",
    "                \n",
    "                # if I don't convert to array then there is an indexing problem\n",
    "                # even though I try to work wtih db_inds it assigns elsewhere \n",
    "                # (or does not assigne at all)\n",
    "                es_vals = np.array( df_esv['err_sens'] ) \n",
    "                \n",
    "                assert np.any(~np.isnan(es_vals)), coln  # at least one is not None\n",
    "                assert np.any(~np.isnan(es_vals)), coln  # at least one is not None\n",
    "                                \n",
    "                colns_set += [coln]\n",
    "                df_all.loc[db_inds,coln] = es_vals  # NOT _nh, otherwise different number\n",
    "                df_all.loc[db_inds,'error_type'] = error_type                \n",
    "                \n",
    "                if DEBUG and coln == 'err_sens_pert-30_tgt3_envSep':                    \n",
    "                    debug_break = 1; print('brk')\n",
    "                    db_inds_save = db_inds\n",
    "                    df_save = df\n",
    "                    break\n",
    "            if debug_break:\n",
    "                break\n",
    "        if debug_break:\n",
    "            break\n",
    "    if debug_break:\n",
    "        break\n",
    "print('Finished successfully')"
   ]
  },
  {
   "cell_type": "markdown",
   "id": "c188ff9a",
   "metadata": {},
   "source": [
    "#### newv (concat)"
   ]
  },
  {
   "cell_type": "code",
   "execution_count": null,
   "id": "16410efa",
   "metadata": {},
   "outputs": [],
   "source": [
    "#from figure.plot_behav2 import getSubDf, getColn, computeErrSensVersions\n",
    "envs_cur = ['stable', 'random']\n",
    "block_names_cur = ['all']\n",
    "pertvals_cur = [None]\n",
    "gseqcs_cur = [ (0,1) ]\n",
    "tgt_inds_cur = tgt_inds_all\n",
    "dists_rad_from_prevtgt_cur = [None]\n",
    "dists_trial_from_prevtgt_cur = [None]\n",
    "error_type = 'MPE'  # observed - goal, motor performance error"
   ]
  },
  {
   "cell_type": "code",
   "execution_count": null,
   "id": "8d83b44a",
   "metadata": {},
   "outputs": [],
   "source": [
    "# compute separately for variable shift sizes to generate grids later\n",
    "# separately to avoid filtering problems later (I could get too many values per subj \n",
    "# due to multiple rows with diffrent trial shift size and same trial)\n",
    "envs_cur = ['stable', 'random', 'all']\n",
    "tgt_inds_cur = tgt_inds_all\n",
    "#%debug\n",
    "try:\n",
    "    df_all_multi_tsz, ndf2vn = computeErrSensVersions(df_all, envs_cur,\n",
    "        block_names_cur,pertvals_cur,gseqcs_cur,tgt_inds_cur,\n",
    "        dists_rad_from_prevtgt_cur,dists_trial_from_prevtgt_cur,\n",
    "        coln_nh = 'non_hit_not_adj',\n",
    "        coln_nh_out = 'non_hit_shifted',\n",
    "        computation_ver='computeErrSens3',\n",
    "        subj_list = subjects, error_type=error_type,\n",
    "        trial_shift_sizes = np.arange(1,5),\n",
    "                 addvars=[], retention_factor=1)\n",
    "    \n",
    "    assert not df_all_multi_tsz.duplicated().any() \n",
    "except Exception as e:\n",
    "    exc_info = sys.exc_info()\n",
    "    exc = traceback.TracebackException(*exc_info, capture_locals=True)\n",
    "    \n",
    "    ei = exc_info[2]    \n",
    "    #display(ei.tb_frame)\n",
    "    psf = ei\n",
    "\n",
    "    lfprev = None; lf = None\n",
    "    lfs = []\n",
    "    di = 0\n",
    "    while psf.tb_frame is not None:\n",
    "        stackframe = psf.tb_frame        \n",
    "\n",
    "        psf = psf.tb_next  \n",
    "        if ('conda' not in stackframe.f_code.co_filename) and\\\n",
    "            ('mamba' not in stackframe.f_code.co_filename):        \n",
    "            display(di, stackframe)\n",
    "            lfprev = lf\n",
    "            lf = stackframe.f_locals\n",
    "            lfs += [lf]\n",
    "            di += 1\n",
    "        if psf is None:\n",
    "            break\n",
    "        \n",
    "    excsfmt = traceback.format_exc()\n",
    "    print(excsfmt)\n",
    "\n",
    "\n"
   ]
  },
  {
   "cell_type": "code",
   "execution_count": null,
   "id": "219bd7f6",
   "metadata": {},
   "outputs": [],
   "source": []
  },
  {
   "cell_type": "code",
   "execution_count": null,
   "id": "a85949f5",
   "metadata": {},
   "outputs": [],
   "source": [
    "df_ = df_all_multi_tsz.query('trial_shift_size == 1 and trial_group_col_calc == \"trials\"')\n",
    "assert not df_.duplicated(['subject','trials']).any()"
   ]
  },
  {
   "cell_type": "code",
   "execution_count": null,
   "id": "2367ebec",
   "metadata": {},
   "outputs": [],
   "source": [
    "df__ = truncateDf(df_, q=0,infnan_handling='discard',coln='err_sens' )\n",
    "#plt.figure()\n",
    "me = df__.groupby(['subject','env'], observed=True).\\\n",
    "    mean(numeric_only=1).reset_index()\n",
    "#me.groupby(['env','thr']).size()\n",
    "sns.set(font_scale=1.3)\n",
    "fg = sns.catplot(data = me, kind='violin', y='err_sens', \n",
    "    x='env',  order=['stable','random'], hue = 'env', palette = ['tab:grey','tab:orange'], legend=None)\n",
    "#addTitleInfo(fg.axes.flatten()[0])\n",
    "for ax in fg.axes.flatten():\n",
    "    ax.axhline(y=0, c='r', ls=':'); #ax.set_ylim(-5,5)"
   ]
  },
  {
   "cell_type": "code",
   "execution_count": null,
   "id": "4f6c5509",
   "metadata": {},
   "outputs": [],
   "source": [
    "sns.relplot(data = df__, kind='line',x='trials',y='err_sens')"
   ]
  },
  {
   "cell_type": "code",
   "execution_count": null,
   "id": "fdd72a3e",
   "metadata": {},
   "outputs": [],
   "source": [
    "df_ = df_all_multi_tsz.query('trial_shift_size == 1 and trial_group_col_calc == \"trials\"')\n",
    "assert not df_.duplicated(['subject','trials']).any()\n",
    "sns.relplot(data = df_, kind='line',x='trials',y='error_pscadj')"
   ]
  },
  {
   "cell_type": "code",
   "execution_count": null,
   "id": "4a79feb0",
   "metadata": {
    "run_control": {
     "marked": true
    }
   },
   "outputs": [],
   "source": [
    "10 - -10"
   ]
  },
  {
   "cell_type": "code",
   "execution_count": null,
   "id": "8c7e0faf",
   "metadata": {},
   "outputs": [],
   "source": [
    "df_all.query('subject == \"sub04_XNDMUSRS\" and trials in [305,306]')\\\n",
    "[['subject','trials','error','target_locs', 'org_feedback']]"
   ]
  },
  {
   "cell_type": "code",
   "execution_count": null,
   "id": "6ca4be32",
   "metadata": {},
   "outputs": [],
   "source": [
    "df_all_multi_tsz.query('correction > 1.9')\\\n",
    "    [['subject','trials','error','prev_error','target_locs','correction','trial_shift_size']]"
   ]
  },
  {
   "cell_type": "code",
   "execution_count": null,
   "id": "02f15fc1",
   "metadata": {},
   "outputs": [],
   "source": [
    "checkErrBounds(df_all)"
   ]
  },
  {
   "cell_type": "code",
   "execution_count": null,
   "id": "e53907b8",
   "metadata": {},
   "outputs": [],
   "source": [
    "checkErrBounds(df_all_multi_tsz)"
   ]
  },
  {
   "cell_type": "code",
   "execution_count": null,
   "id": "b25ebfcb",
   "metadata": {},
   "outputs": [],
   "source": [
    "lf['df']"
   ]
  },
  {
   "cell_type": "code",
   "execution_count": null,
   "id": "76312435",
   "metadata": {},
   "outputs": [],
   "source": [
    "df__ = local_vars_in_fun['df']"
   ]
  },
  {
   "cell_type": "code",
   "execution_count": null,
   "id": "44f45c04",
   "metadata": {},
   "outputs": [],
   "source": [
    "df__.drop(columns=['index'])"
   ]
  },
  {
   "cell_type": "code",
   "execution_count": null,
   "id": "5af2f630",
   "metadata": {},
   "outputs": [],
   "source": [
    "df_all_multi_tsz['non_hit_not_adj']"
   ]
  },
  {
   "cell_type": "markdown",
   "id": "6967739a",
   "metadata": {},
   "source": [
    "##### supp"
   ]
  },
  {
   "cell_type": "markdown",
   "id": "055103eb",
   "metadata": {},
   "source": [
    "Q: non hit -- do I have to calc them\n",
    "    separate when I compute for primary vars and for err sens?\n",
    "    I mean, to reduce doing AND for current and prev trials\n",
    "Q: should I compute multiple trial groupings or just one at a time?\n",
    "TODO: behav table within pert\n",
    "when do fit maybe remove outliers\n",
    "\n",
    "should I keep merged and non-merged pert in the same fun of dec err sens?\n",
    "it is better for debuggging but less good for coding\n",
    "\n",
    "TODO: find code where I was extracting locals from traceback"
   ]
  },
  {
   "cell_type": "markdown",
   "id": "9ecfeed6",
   "metadata": {
    "heading_collapsed": true
   },
   "source": [
    "##### dbg"
   ]
  },
  {
   "cell_type": "code",
   "execution_count": null,
   "id": "c2c34c13",
   "metadata": {
    "hidden": true
   },
   "outputs": [],
   "source": [
    "for s in [1,2]:\n",
    "    dfdbg = df_all_multi_tsz_.query('(trial_shift_size == @s) and (trial_group_col_calc == \"trialwe\")')\n",
    "    cols = ['trials', 'target_inds', 'target_locs',\n",
    "                      'trial_shift_size','dist_rad_from_prevtgt',\n",
    "                      'dist_rad_from_tgt-1','dist_rad_from_tgt-2',\n",
    "                      'dist_rad_from_prevtgt2']\n",
    "    r = dfdbg.loc[dfdbg.index[:10],cols]\n",
    "    display(r)"
   ]
  },
  {
   "cell_type": "code",
   "execution_count": null,
   "id": "90392310",
   "metadata": {
    "hidden": true
   },
   "outputs": [],
   "source": [
    "help(df_all.apply)"
   ]
  },
  {
   "cell_type": "code",
   "execution_count": null,
   "id": "c9df9102",
   "metadata": {
    "hidden": true
   },
   "outputs": [],
   "source": [
    "envs_cur =  ['all']\n",
    "tgt_inds_cur = [None]\n",
    "df_all4 = computeErrSensVersions(df_all, envs_cur,block_names_cur,pertvals_cur,gseqcs_cur,tgt_inds_cur,\n",
    "               dists_rad_from_prevtgt_cur,dists_trial_from_prevtgt_cur,\n",
    "                                subj_list = subjects[:1], error_type=error_type)"
   ]
  },
  {
   "cell_type": "code",
   "execution_count": null,
   "id": "3befd80a",
   "metadata": {
    "hidden": true
   },
   "outputs": [],
   "source": []
  },
  {
   "cell_type": "markdown",
   "id": "3046f55b",
   "metadata": {
    "heading_collapsed": true
   },
   "source": [
    "#### compare with Romain direct ver"
   ]
  },
  {
   "cell_type": "code",
   "execution_count": null,
   "id": "aedccb31",
   "metadata": {
    "hidden": true
   },
   "outputs": [],
   "source": [
    "%run -i ../figure/plot_es_q.py"
   ]
  },
  {
   "cell_type": "code",
   "execution_count": null,
   "id": "e3cae504",
   "metadata": {
    "hidden": true
   },
   "outputs": [],
   "source": [
    "subjects[0],all_es_stable2[0]"
   ]
  },
  {
   "cell_type": "code",
   "execution_count": null,
   "id": "39bf28ed",
   "metadata": {
    "hidden": true
   },
   "outputs": [],
   "source": [
    "all_es[0][:20]"
   ]
  },
  {
   "cell_type": "code",
   "execution_count": null,
   "id": "b388dd94",
   "metadata": {
    "hidden": true
   },
   "outputs": [],
   "source": [
    "df_all4.query('subject == \"sub01_WGPOZPEE\"')[['trials','err_sens']]"
   ]
  },
  {
   "cell_type": "code",
   "execution_count": null,
   "id": "1c6284f2",
   "metadata": {
    "hidden": true
   },
   "outputs": [],
   "source": [
    "len(es)"
   ]
  },
  {
   "cell_type": "code",
   "execution_count": null,
   "id": "da02b8cc",
   "metadata": {
    "hidden": true
   },
   "outputs": [],
   "source": [
    "corr = (Y[0]-Y[2]) - (Y[1]-Y[3])\n",
    "non_hit[:20], es[:20], Y[4][:20], corr[:20] "
   ]
  },
  {
   "cell_type": "code",
   "execution_count": null,
   "id": "dd1836fe",
   "metadata": {
    "hidden": true
   },
   "outputs": [],
   "source": [
    "a = np.vstack([df_esv['err_sens'].values, es])\n",
    "np.isnan(a[0]) ^ np.isnan(a[1])"
   ]
  },
  {
   "cell_type": "code",
   "execution_count": null,
   "id": "74b9d9e2",
   "metadata": {
    "hidden": true
   },
   "outputs": [],
   "source": [
    "#### dbg\n",
    "subj = 'sub01_WGPOZPEE'\n",
    "env = 'all'\n",
    "df = getSubDf(df_all, subj, pertv,tgti,env,block_name,\n",
    "              non_hit = False, verbose=1)\n",
    "db_inds = df.index\n",
    "\n",
    "tgn = getTrialGroupName(pertv, tgti, env, block_name)\n",
    "coln = getColn(pertv, tgti, env, block_name, None) #, trial_group_col)\n",
    "print('  ',tgn, coln,len(df))\n",
    "\n",
    "# resetting index is important\n",
    "r = computeErrSens2(df.reset_index(), df_inds=None,\n",
    "                    error_type=error_type,\n",
    "                    colname_nh = 'non_hit_shifted',\n",
    "                    correct_hit = 'inf', shiftsz=2, err_sens_coln = 'err_sens')\n",
    "nhna, df_esv, ndf2vn = r\n",
    "df_esv\n",
    "\n",
    "dfcur = df.copy()\n",
    "\n",
    "dfcur['dist_rad_from_prevtgt2'] = dfcur['target_locs'].values -\\\n",
    "    df_esv['prev_target'].values\n",
    "dfcur['dist_rad_from_prevtgt2'] =\\\n",
    "    dfcur['dist_rad_from_prevtgt2'].abs().apply(lbd, 1)\n",
    "dfcur.drop(['trajectoryX','trajectoryY'],1)"
   ]
  },
  {
   "cell_type": "code",
   "execution_count": null,
   "id": "697328c7",
   "metadata": {
    "hidden": true
   },
   "outputs": [],
   "source": []
  },
  {
   "cell_type": "code",
   "execution_count": null,
   "id": "78ba1453",
   "metadata": {
    "hidden": true
   },
   "outputs": [],
   "source": [
    "#np.nanmean(all_es,0)"
   ]
  },
  {
   "cell_type": "code",
   "execution_count": null,
   "id": "eefbf9ec",
   "metadata": {
    "hidden": true
   },
   "outputs": [],
   "source": [
    "arr = 1. / np.array([np.inf])\n",
    "#arr.dtype"
   ]
  },
  {
   "cell_type": "code",
   "execution_count": null,
   "id": "8c047b6b",
   "metadata": {
    "hidden": true
   },
   "outputs": [],
   "source": [
    "print(Y[4][:1])\n",
    "arr = 1 / Y[4][:1]  # dividing by zero gives divides by zero error\n",
    "arr, type(arr), arr.dtype"
   ]
  },
  {
   "cell_type": "code",
   "execution_count": null,
   "id": "8c7516af",
   "metadata": {
    "hidden": true
   },
   "outputs": [],
   "source": []
  },
  {
   "cell_type": "code",
   "execution_count": null,
   "id": "dcba83ea",
   "metadata": {
    "hidden": true
   },
   "outputs": [],
   "source": [
    " (~df_all4[['trials']].notna()).sum()"
   ]
  },
  {
   "cell_type": "code",
   "execution_count": null,
   "id": "ca703ce8",
   "metadata": {
    "hidden": true
   },
   "outputs": [],
   "source": [
    "df_all4[ ~df_all4['err_sens'].notna() ]['error']"
   ]
  },
  {
   "cell_type": "code",
   "execution_count": null,
   "id": "b97bd625",
   "metadata": {
    "hidden": true
   },
   "outputs": [],
   "source": [
    "df_all4.loc[:20,['trials','err_sens','non_hit_not_adj','non_hit_shifted', 'error']]"
   ]
  },
  {
   "cell_type": "code",
   "execution_count": null,
   "id": "56dbcb5c",
   "metadata": {
    "hidden": true,
    "run_control": {
     "marked": true
    }
   },
   "outputs": [],
   "source": [
    "#np.zeros(1) / ( np.ones(1) * np.inf) "
   ]
  },
  {
   "cell_type": "code",
   "execution_count": null,
   "id": "4e8124f8",
   "metadata": {
    "hidden": true
   },
   "outputs": [],
   "source": [
    "cols = ['subject','trials','trialwe','trialwtgt_we','target_inds',\n",
    "               'error','correction','non_hit_not_adj','non_hit_shifted']"
   ]
  },
  {
   "cell_type": "code",
   "execution_count": null,
   "id": "f1083993",
   "metadata": {
    "hidden": true,
    "run_control": {
     "marked": true
    }
   },
   "outputs": [],
   "source": [
    "df_all2.columns"
   ]
  },
  {
   "cell_type": "code",
   "execution_count": null,
   "id": "c2f90253",
   "metadata": {
    "hidden": true
   },
   "outputs": [],
   "source": [
    "#df_all2.sort_values(by=['subject','trials'])"
   ]
  },
  {
   "cell_type": "code",
   "execution_count": null,
   "id": "e8b6c787",
   "metadata": {
    "hidden": true
   },
   "outputs": [],
   "source": [
    "dfc = df_all2[cols + ['trial_group_col_calc','err_sens','error']]"
   ]
  },
  {
   "cell_type": "code",
   "execution_count": null,
   "id": "4d236540",
   "metadata": {
    "hidden": true
   },
   "outputs": [],
   "source": [
    "df_all2['trial_group_col_calc'].unique(), df_all3['trial_group_col_calc'].unique(), "
   ]
  },
  {
   "cell_type": "code",
   "execution_count": null,
   "id": "75c304ac",
   "metadata": {
    "hidden": true
   },
   "outputs": [],
   "source": [
    "dfc[dfc['trial_group_col_calc'] == 'trialwtgt_we']"
   ]
  },
  {
   "cell_type": "code",
   "execution_count": null,
   "id": "5c32cb4d",
   "metadata": {
    "hidden": true
   },
   "outputs": [],
   "source": [
    "dfc[dfc['trial_group_col_calc'] != 'trialwtgt_we']"
   ]
  },
  {
   "cell_type": "code",
   "execution_count": null,
   "id": "66659698",
   "metadata": {
    "hidden": true
   },
   "outputs": [],
   "source": [
    "dfc['trial_group_col_calc'].unique()"
   ]
  },
  {
   "cell_type": "code",
   "execution_count": null,
   "id": "082979f5",
   "metadata": {
    "hidden": true
   },
   "outputs": [],
   "source": [
    "import gc; gc.collect()"
   ]
  },
  {
   "cell_type": "code",
   "execution_count": null,
   "id": "4fdf60e3",
   "metadata": {
    "hidden": true
   },
   "outputs": [],
   "source": []
  },
  {
   "cell_type": "code",
   "execution_count": null,
   "id": "026edda5",
   "metadata": {
    "hidden": true
   },
   "outputs": [],
   "source": [
    "dfc = df_all[df_all['subject'] == subj]\n",
    "#dfc['perturbation']"
   ]
  },
  {
   "cell_type": "markdown",
   "id": "b79aea3f",
   "metadata": {
    "heading_collapsed": true
   },
   "source": [
    "#### fill mean table"
   ]
  },
  {
   "cell_type": "code",
   "execution_count": null,
   "id": "a1c72f3a",
   "metadata": {
    "hidden": true
   },
   "outputs": [],
   "source": [
    "allowed_env_trialcol_combin"
   ]
  },
  {
   "cell_type": "code",
   "execution_count": null,
   "id": "d529433d",
   "metadata": {
    "hidden": true
   },
   "outputs": [],
   "source": [
    "# allowed_pert_gseqc = [('None', 'all'), ('None', 'sep'), ('0', 'all'), ('0', 'sep'),\n",
    "#                       ('30','sep'), ('-30','sep')]\n",
    "allowed_pert_gseqc = [(None, [0,1]), (None, [0]),  (None, [1]),\n",
    "                      (0, [0,1]), (0, [0]), (0, [1]),\n",
    "                      (30,[0]), (30,[1]), (-30,[0]),  (-30,[1])]\n",
    "allowed_pert_gseqc = [ (s,tuple(a) ) for (s,a) in allowed_pert_gseqc ]\n",
    "display(allowed_env_trialcol_combin, allowed_env_pert_combin, \n",
    "        allowed_pert_gseqc, tgt_inds_all, pertvals)\n",
    "print(allowed_tgt_trialcol_combin)"
   ]
  },
  {
   "cell_type": "markdown",
   "id": "ec1bb11f",
   "metadata": {
    "heading_collapsed": true
   },
   "source": [
    "#### oldv"
   ]
  },
  {
   "cell_type": "code",
   "execution_count": null,
   "id": "45dea1de",
   "metadata": {
    "hidden": true
   },
   "outputs": [],
   "source": [
    "# compute mean veersion  \n",
    "# not then if I set come value to None and others to float, \n",
    "# then None gets converted to NaN\n",
    "dfme = []\n",
    "dfme2 = []\n",
    "#for envi,env in enumerate(envs):\n",
    "nrows = []\n",
    "for env, trial_group_col in allowed_env_trialcol_combin:\n",
    "    for block_name in block_names_to_calc:\n",
    "        if (env,block_name) not in allowed_envblock:\n",
    "            continue\n",
    "        rowi = 0    \n",
    "        for pertv in pertvals:\n",
    "            for gseqc in [(0,), (1,), (0,1)]:\n",
    "                if (pertv,gseqc) not in allowed_pert_gseqc:\n",
    "                    print('skipping',pertv,gseqc)\n",
    "                    continue                \n",
    "                if (env,pertv) not in allowed_env_pert_combin:\n",
    "                    print('skipping',env,pertv)\n",
    "                    continue            \n",
    "\n",
    "                for tgti in tgt_inds_all:\n",
    "                    if (tgti,trial_group_col) not in allowed_tgt_trialcol_combin:\n",
    "                        continue\n",
    "                    print(env,pertv,gseqc,tgti,trial_group_col)\n",
    "                    subj = 'mean'\n",
    "                    pert_seq_code = None\n",
    "                    if gseqc != (0,1):\n",
    "                        pert_seq_code = gseqc[0]\n",
    "                    df = getSubDf(df_all, subj, pertv,tgti,env, non_hit = False,\n",
    "                                 pert_seq_code = pert_seq_code)\n",
    "                    db_inds = df.index\n",
    "\n",
    "                    coln_calc = getColn(pertv, tgti, env, None)\n",
    "                    assert coln in colns_set\n",
    "                    if (len(df) == 0) or (len(db_inds) == 0):\n",
    "                        #rowi += 1\n",
    "                        continue                      \n",
    "                    #%debug\n",
    "                    #ax = axs[rowi,envi]\n",
    "        #             try:\n",
    "\n",
    "                    coln_av = getColn(pertv, tgti, env, trial_group_col)\n",
    "                    #\n",
    "                    grpstat = subjStat(df, coln_calc, trial_group_col)\n",
    "                    #pscstr = ','.join( list( map(str, list( sorted(df['pert_seq_code'].unique() ) ) ) ) )\n",
    "                    pscstr = ','.join( list( map(str, gseqc ) ) )    \n",
    "                    # some things are for filtering, some for actual usage,\n",
    "                    # that's why pertrubation is pertv and pert_nh is actual vals\n",
    "                    r = { 'environment':env, 'trial_group_col':trial_group_col, \n",
    "                         'perturbation':pertv, 'pert_seq_code':pscstr,\n",
    "                         'pert_nh':grpstat['perturbation'],\n",
    "                         'target_inds':tgti,  'nav_nh': grpstat['nav'],\n",
    "                         'trial_inds_nh':grpstat[trial_group_col], \n",
    "                         'err_sens_me_nh':grpstat['mean'], \n",
    "                         'err_sens_std_nh':grpstat['std'], \n",
    "                         'err_sens_sem_nh':grpstat['sem'],\n",
    "                         'coln':coln_av, 'coln_calc':coln_calc  }\n",
    "\n",
    "                    r = { 'environment':env, 'trial_group_col':trial_group_col, \n",
    "                         'perturbation':pertv, 'pert_seq_code':pscstr,\n",
    "                         'pert_nh':grpstat['perturbation'],\n",
    "                         'target_inds':tgti,  'nav_nh': grpstat['nav'],\n",
    "                         'trial_inds_nh':grpstat[trial_group_col], \n",
    "                         'err_sens_me_nh':grpstat['mean'], \n",
    "                         'err_sens_std_nh':grpstat['std'], \n",
    "                         'err_sens_sem_nh':grpstat['sem'],\n",
    "                         'coln':coln_av, 'coln_calc':coln_calc  }\n",
    "                    dfme += [r]\n",
    "                    rowi += 1\n",
    "        nrows += [rowi]\n",
    "nrows = np.max(nrows); print(nrows)\n",
    "dfme = pd.DataFrame(dfme)\n",
    "dfme"
   ]
  },
  {
   "cell_type": "markdown",
   "id": "66e23b0d",
   "metadata": {
    "heading_collapsed": true
   },
   "source": [
    "#### newv"
   ]
  },
  {
   "cell_type": "code",
   "execution_count": null,
   "id": "11e3aa67",
   "metadata": {
    "hidden": true
   },
   "outputs": [],
   "source": [
    "df_all.columns"
   ]
  },
  {
   "cell_type": "code",
   "execution_count": null,
   "id": "9b6c6b3e",
   "metadata": {
    "hidden": true
   },
   "outputs": [],
   "source": [
    "*(tpl[:-1]), tgcalc,tgav"
   ]
  },
  {
   "cell_type": "code",
   "execution_count": null,
   "id": "8c26d1b0",
   "metadata": {
    "hidden": true
   },
   "outputs": [],
   "source": [
    "from figure.plot_behav2 import computeStat"
   ]
  },
  {
   "cell_type": "code",
   "execution_count": null,
   "id": "ac3a589d",
   "metadata": {
    "hidden": true
   },
   "outputs": [],
   "source": [
    "#help( pd.concat)"
   ]
  },
  {
   "cell_type": "code",
   "execution_count": null,
   "id": "cae3ad56",
   "metadata": {
    "hidden": true,
    "run_control": {
     "marked": false
    }
   },
   "outputs": [],
   "source": [
    "# compute mean veersion  \n",
    "# not then if I set come value to None and others to float, \n",
    "# then None gets converted to NaN\n",
    "envs_cur = ['stable', 'random']\n",
    "block_names_cur = ['all']\n",
    "pertvals_cur = [None]\n",
    "gseqcs_cur = [ (0,1) ]\n",
    "tgt_inds_cur = [None]\n",
    "dists_rad_from_prevtgt_cur = [None]\n",
    "dists_trial_from_prevtgt_cur = [None]\n",
    "trgcol_pairs = [('trialwe','trialwe'), ('trialwtgt_we','trialwtgt_we')]\n",
    "\n",
    "dfme = []\n",
    "from itertools import product as itprod\n",
    "p = itprod(envs_cur,block_names_cur,pertvals_cur,gseqcs_cur,tgt_inds_cur,\n",
    "           dists_rad_from_prevtgt_cur,dists_trial_from_prevtgt_cur,trgcol_pairs)\n",
    "for tpl in p:\n",
    "    #print(len(tpl), tpl)\n",
    "    (env,block_name,pertv,gseqc,tgti,drptgt,dtptgt,trgcolp) = tpl\n",
    "    (tgcalc,tgav)= trgcolp\n",
    "    \n",
    "    r = computeStat(df_all,*(tpl[:-1]), tgcalc,tgav, verbose=0  )\n",
    "    if r is None:\n",
    "        print()\n",
    "        break\n",
    "        #continue\n",
    "    grpstat, coln_calc, coln_av  = r\n",
    "    pscstr = ','.join( list( map(str, gseqc ) ) )    \n",
    "    # some things are for filtering, some for actual usage,\n",
    "    # that's why pertrubation is pertv and pert_nh is actual vals\n",
    "#     r = { 'environment':env, 'trial_group_col':trial_group_col, \n",
    "#          'perturbation':pertv, 'pert_seq_code':pscstr,\n",
    "#          'pert_nh':grpstat['perturbation'],\n",
    "#          'target_inds':tgti,  'nav_nh': grpstat['nav'],\n",
    "#          'trial_inds_nh':grpstat[trial_group_col], \n",
    "#          'err_sens_me_nh':grpstat['mean'], \n",
    "#          'err_sens_std_nh':grpstat['std'], \n",
    "#          'err_sens_sem_nh':grpstat['sem'],\n",
    "#          'coln':coln_av, 'coln_calc':coln_calc  }\n",
    "    #dfme += [r]\n",
    "    dfme += [grpstat] \n",
    "    \n",
    "assert len(dfme)\n",
    "dfme  = pd.concat(dfme)\n",
    "dfme.reset_index(inplace=True)\n",
    "dfme"
   ]
  },
  {
   "cell_type": "code",
   "execution_count": null,
   "id": "d9dfa4b5",
   "metadata": {
    "hidden": true
   },
   "outputs": [],
   "source": [
    "dfme"
   ]
  },
  {
   "cell_type": "code",
   "execution_count": null,
   "id": "ef283b9b",
   "metadata": {
    "hidden": true
   },
   "outputs": [],
   "source": [
    "df_all.columns"
   ]
  },
  {
   "cell_type": "code",
   "execution_count": null,
   "id": "084185b0",
   "metadata": {
    "hidden": true
   },
   "outputs": [],
   "source": [
    "## reshape df_all\n",
    "df_all2 = df_all.copy()\n",
    "#df_all['err_sens'] = "
   ]
  },
  {
   "cell_type": "markdown",
   "id": "9af3eb2a",
   "metadata": {},
   "source": [
    "# save"
   ]
  },
  {
   "cell_type": "code",
   "execution_count": null,
   "id": "7d1eccec",
   "metadata": {},
   "outputs": [],
   "source": [
    "coln = 'err_sens'\n",
    "# old\n",
    "# dfc  = truncateDf(df_all2, coln, q=0.05, clean_infnan=True)\n",
    "# dfc0 = truncateDf(df_all2, coln, q=None, clean_infnan=True)\n",
    "\n",
    "# dfc_  = truncateDf(df_all3, coln, q=0.05, clean_infnan=True)\n",
    "# dfc0_ = truncateDf(df_all3, coln, q=None, clean_infnan=True)\n",
    "\n",
    "dfc_multi_tsz  = truncateDf(df_all_multi_tsz, coln, q=0.05, infnan_handling='discard')\n",
    "dfc0_multi_tsz  = truncateDf(df_all_multi_tsz, coln, q=0.0, infnan_handling='discard')\n",
    "\n",
    "qs = 'trial_shift_size == 1'\n",
    "dfc  = dfc_multi_tsz.query(qs)\n",
    "dfc0 = dfc0_multi_tsz.query(qs)"
   ]
  },
  {
   "cell_type": "code",
   "execution_count": null,
   "id": "9a536254",
   "metadata": {},
   "outputs": [],
   "source": [
    "fnf = pjoin(path_data,'df_all_multi_tsz.pkl.zip')\n",
    "print(fnf)"
   ]
  },
  {
   "cell_type": "code",
   "execution_count": null,
   "id": "ac806fac",
   "metadata": {},
   "outputs": [],
   "source": [
    "fn = 'df_all_multi_tsz.pkl.zip'\n",
    "fnf = pjoin(path_data,fn)\n",
    "print(fnf)\n",
    "df_all_multi_tsz.to_pickle(fnf, \n",
    "                           compression='zip')\n",
    "df_all_multi_tsz.to_pickle(pjoin('/home/demitau/current/merr_data',fn), \n",
    "                           compression='zip')\n",
    "\n",
    "dfc_multi_tsz.   to_pickle(pjoin(path_data,'df_all_multi_tsz_trunc_q=0.05.pkl.zip'),\n",
    "                          compression='zip')"
   ]
  },
  {
   "cell_type": "code",
   "execution_count": null,
   "id": "593118b9",
   "metadata": {},
   "outputs": [],
   "source": []
  },
  {
   "cell_type": "markdown",
   "id": "2a671e09",
   "metadata": {},
   "source": [
    "# Plot pooled across time [violins comparable with Romain]"
   ]
  },
  {
   "cell_type": "code",
   "execution_count": null,
   "id": "ecbc5848",
   "metadata": {},
   "outputs": [],
   "source": [
    "# def f(row):\n",
    "#     bn = row['block_name']\n",
    "#     ps = row['pert_stage_wb']\n",
    "#     if np.isnan(ps):\n",
    "#         return None\n",
    "#     if bn.endswith('2'):\n",
    "#         ps = int(ps) + 5\n",
    "\n",
    "#     return ps\n",
    "# df_all_multi_tsz['pert_stage'] = df_all_multi_tsz.apply(f,1)\n"
   ]
  },
  {
   "cell_type": "code",
   "execution_count": null,
   "id": "28b5a169",
   "metadata": {},
   "outputs": [],
   "source": [
    "path_data"
   ]
  },
  {
   "cell_type": "code",
   "execution_count": null,
   "id": "bf7ca9b9",
   "metadata": {},
   "outputs": [],
   "source": [
    "#dfc_notna_multi_tsz = dfc_multi_tsz[~dfc_multi_tsz['err_sens'].isna()]"
   ]
  },
  {
   "cell_type": "code",
   "execution_count": null,
   "id": "4cece1fe",
   "metadata": {},
   "outputs": [],
   "source": [
    "len(df_all_multi_tsz), len(dfc_multi_tsz)"
   ]
  },
  {
   "cell_type": "markdown",
   "id": "c502b7ac",
   "metadata": {},
   "source": [
    "#### means per subj distr"
   ]
  },
  {
   "cell_type": "code",
   "execution_count": null,
   "id": "85212ad9",
   "metadata": {},
   "outputs": [],
   "source": [
    "dfc_multi_tsz.columns"
   ]
  },
  {
   "cell_type": "code",
   "execution_count": null,
   "id": "ae6bf63f",
   "metadata": {},
   "outputs": [],
   "source": [
    "#dfc['environment'].unique()"
   ]
  },
  {
   "cell_type": "code",
   "execution_count": null,
   "id": "2e2857b4",
   "metadata": {},
   "outputs": [],
   "source": [
    "dfc0"
   ]
  },
  {
   "cell_type": "code",
   "execution_count": null,
   "id": "d64df9f3",
   "metadata": {},
   "outputs": [],
   "source": [
    "fnf = pjoin(path_data,'df_all_multi_tsz.pkl.zip')\n",
    "df_all_multi_tsz = pd.read_pickle(fnf)\n",
    "coln = 'err_sens'\n",
    "dfc_multi_tsz  = truncateDf(df_all_multi_tsz, coln, q=0.05, infnan_handling='discard')\n",
    "dfc0_multi_tsz  = truncateDf(df_all_multi_tsz, coln, q=0.0, infnan_handling='discard')\n",
    "\n",
    "qs = 'trial_shift_size == 1'\n",
    "dfc  = dfc_multi_tsz.query(qs)\n",
    "dfc0 = dfc0_multi_tsz.query(qs)"
   ]
  },
  {
   "cell_type": "code",
   "execution_count": null,
   "id": "79d3bb0a",
   "metadata": {},
   "outputs": [],
   "source": [
    "qs = 'trial_shift_size == 1'\n",
    "dfc  = dfc_multi_tsz.query(qs)\n",
    "dfc0 = dfc0_multi_tsz.query(qs)"
   ]
  },
  {
   "cell_type": "code",
   "execution_count": null,
   "id": "4f2932dc",
   "metadata": {},
   "outputs": [],
   "source": [
    "dfc0.duplicated(['subject','trials','environment','trial_group_col_calc']).any()"
   ]
  },
  {
   "cell_type": "code",
   "execution_count": null,
   "id": "0184ffaf",
   "metadata": {},
   "outputs": [],
   "source": [
    "df_all_multi_tsz = pd.read_pickle('/home/demitau/data_Quentin/full_experiments/data2/df_all_multi_tsz.pkl')\n",
    "#df_all_multi_tsz = pd.read_pickle(fnf)\n",
    "coln = 'err_sens'\n",
    "dfc_multi_tsz  = truncateDf(df_all_multi_tsz, coln, q=0.05, infnan_handling='discard')\n",
    "dfc0_multi_tsz  = truncateDf(df_all_multi_tsz, coln, q=0.0, infnan_handling='discard')\n",
    "\n",
    "qs = 'trial_shift_size == 1'\n",
    "#dfc  = dfc_multi_tsz.query(qs)\n",
    "dfc0 = dfc0_multi_tsz.query(qs)"
   ]
  },
  {
   "cell_type": "code",
   "execution_count": null,
   "id": "15c8d035",
   "metadata": {},
   "outputs": [],
   "source": [
    "%matplotlib inline\n",
    "me = dfc0.groupby(['subject','environment','trial_group_col_calc']).\\\n",
    "    mean(numeric_only=1).reset_index()\n",
    "sns.catplot(data=me, kind='violin', y='err_sens', x='environment', \n",
    "            col='trial_group_col_calc')"
   ]
  },
  {
   "cell_type": "code",
   "execution_count": null,
   "id": "57aa390d",
   "metadata": {},
   "outputs": [],
   "source": [
    "# not truncated\n",
    "me = dfc0.groupby(['subject','environment','trial_group_col_calc']).\\\n",
    "    mean(numeric_only=1).reset_index()\n",
    "sns.catplot(data=me, kind='violin', y='err_sens', x='environment', \n",
    "            col='trial_group_col_calc')\n",
    "\n",
    "# truncated\n",
    "me = dfc.groupby(['subject','environment','trial_group_col_calc']).\\\n",
    "    mean(numeric_only=1).reset_index()\n",
    "sns.catplot(data=me, kind='violin', y='err_sens', x='environment', \n",
    "            col='trial_group_col_calc')"
   ]
  },
  {
   "cell_type": "code",
   "execution_count": null,
   "id": "d6774a87",
   "metadata": {},
   "outputs": [],
   "source": [
    "tgcc = 'trialwe'\n",
    "for truncs, df in zip(['truncate q=5%','truncate no'],[dfc, dfc0]):\n",
    "    dfc_s = df[(df['trial_group_col_calc'] == tgcc) ]\n",
    "    grp = dfc_s.groupby(['subject','environment',])\n",
    "    me = grp.mean(numeric_only = 1)['err_sens'].reset_index()\n",
    "    plt.figure()\n",
    "    ax = sns.violinplot(data=me, y='err_sens', x='environment')\n",
    "    ax.set_title(f'{tgcc} {truncs}')\n",
    "    ax.set_ylim(-0.4,0.8)\n",
    "    \n",
    "tgcc = 'trials'\n",
    "#for truncs, df in zip(['truncate q=5%','truncate no'],[dfc_, dfc0_]):\n",
    "for truncs, df in zip(['truncate q=5%','truncate no'],[dfc, dfc0]):\n",
    "    dfc_s = df[(df['trial_group_col_calc'] == tgcc) ]\n",
    "    grp = dfc_s.groupby(['subject','environment'])\n",
    "    me = grp.mean(numeric_only = 1)['err_sens'].reset_index()\n",
    "    plt.figure()\n",
    "    ax = sns.violinplot(data=me, y='err_sens', x='environment')\n",
    "    ax.set_title(f'{tgcc} {truncs}')\n",
    "    ax.set_ylim(-0.4,0.8)"
   ]
  },
  {
   "cell_type": "code",
   "execution_count": null,
   "id": "b4ec6e2b",
   "metadata": {},
   "outputs": [],
   "source": [
    "#dfc[~(dfc[coln].isna() | np.isinf(dfc[coln]) )]\n",
    "dfc"
   ]
  },
  {
   "cell_type": "code",
   "execution_count": null,
   "id": "b690447d",
   "metadata": {},
   "outputs": [],
   "source": [
    "#dfc_s['environment']"
   ]
  },
  {
   "cell_type": "markdown",
   "id": "0413d029",
   "metadata": {},
   "source": [
    "#### per subj"
   ]
  },
  {
   "cell_type": "code",
   "execution_count": null,
   "id": "2ecd81ff",
   "metadata": {},
   "outputs": [],
   "source": [
    "coln = 'err_sens'\n",
    "tgcc = 'trialwe'\n",
    "dfc_s = dfc[dfc['trial_group_col_calc'] == tgcc]\n",
    "sns.violinplot(data=dfc_s, y=coln, hue='environment', x='subject', split=1)"
   ]
  },
  {
   "cell_type": "code",
   "execution_count": null,
   "id": "9362674f",
   "metadata": {},
   "outputs": [],
   "source": [
    "sns.set(rc={'axes.facecolor':'white', 'figure.facecolor':'white',\n",
    "           'grid.color':'grey', 'grid.alpha':0.5})"
   ]
  }
 ],
 "metadata": {
  "kernelspec": {
   "display_name": "merr3_mamba",
   "language": "python",
   "name": "merr3_mamba"
  },
  "language_info": {
   "codemirror_mode": {
    "name": "ipython",
    "version": 3
   },
   "file_extension": ".py",
   "mimetype": "text/x-python",
   "name": "python",
   "nbconvert_exporter": "python",
   "pygments_lexer": "ipython3",
   "version": "3.11.5"
  }
 },
 "nbformat": 4,
 "nbformat_minor": 5
}
