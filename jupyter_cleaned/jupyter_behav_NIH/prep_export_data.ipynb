{
 "cells": [
  {
   "cell_type": "code",
   "execution_count": null,
   "id": "2ab10bc0",
   "metadata": {},
   "outputs": [],
   "source": [
    "%load_ext autoreload\n",
    "%autoreload 2\n",
    "\n",
    "import os\n",
    "ipy = get_ipython()\n",
    "#data_dir_general = '/home/demitau/data_Quentin'\n",
    "#data_subdir_mem_err_main = 'full_experiments/data2'\n",
    "from os.path import join as pjoin\n",
    "import os,sys; sys.path.append(os.path.expandvars('$CODE_MEMORY_ERRORS'))\n",
    "import error_sensitivity\n",
    "#data_dir_input = pjoin(data_dir_general,data_subdir_mem_err_main)\n",
    "import pandas as pd\n",
    "\n",
    "#data_dir_general = '/home/demitau/data_Quentin'\n",
    "#data_subdir_mem_err_main = 'full_experiments/data2'\n",
    "#data_dir_input = pjoin(data_dir_general,data_subdir_mem_err_main)\n",
    "#scripts_dir = pjoin(data_dir_general,'full_experiments','scripts2')\n",
    "\n",
    "data_dir_general = os.path.expandvars('$DATA_QUENTIN')\n",
    "data_dir_input = os.path.expandvars('$DATA_MEMORY_ERRORS_STAB_AND_STOCH')\n",
    "#scripts_dir = pjoin( os.path.expandvars('$CODE_MEMORY_ERRORS'), 'previous_analyses')\n",
    "scripts_dir = pjoin( os.path.expandvars('$CODE_MEMORY_ERRORS'))\n",
    "\n",
    "\n",
    "print(data_dir_input, scripts_dir)\n",
    "\n",
    "subjects = [f for f in os.listdir(data_dir_input) if f.startswith('sub') ]\n",
    "subjects = list(sorted(subjects))\n",
    "print(subjects)"
   ]
  },
  {
   "cell_type": "code",
   "execution_count": null,
   "id": "6b068818",
   "metadata": {},
   "outputs": [],
   "source": [
    "path_data"
   ]
  },
  {
   "cell_type": "code",
   "execution_count": null,
   "id": "279023bd",
   "metadata": {},
   "outputs": [],
   "source": [
    "os.path.exists(scr)"
   ]
  },
  {
   "cell_type": "code",
   "execution_count": null,
   "id": "3335373c",
   "metadata": {},
   "outputs": [],
   "source": [
    "/home/demitau/crnl_workstation/data_Quentin/full_experiments/data2/df_all_multi_tsz_.pkl.zip"
   ]
  },
  {
   "cell_type": "code",
   "execution_count": null,
   "id": "7415fce5",
   "metadata": {},
   "outputs": [],
   "source": [
    "bdf = pjoin(path_data, 'df_all_multi_tsz_.pkl.zip')"
   ]
  },
  {
   "cell_type": "code",
   "execution_count": null,
   "id": "c24093ca",
   "metadata": {},
   "outputs": [],
   "source": [
    "consist = checkTgtConsistency(behav_df_cur,epochs)\n",
    "print(consist)"
   ]
  },
  {
   "cell_type": "code",
   "execution_count": null,
   "id": "a9de4dc1",
   "metadata": {},
   "outputs": [],
   "source": [
    "dfev.columns['']"
   ]
  },
  {
   "cell_type": "code",
   "execution_count": null,
   "id": "848552f1",
   "metadata": {},
   "outputs": [],
   "source": [
    "behav_df_cur['trigger_present'].all()"
   ]
  },
  {
   "cell_type": "code",
   "execution_count": null,
   "id": "abe799c2",
   "metadata": {},
   "outputs": [],
   "source": [
    "behav_df_cur['target_codes']"
   ]
  },
  {
   "cell_type": "code",
   "execution_count": null,
   "id": "cb2d7e83",
   "metadata": {},
   "outputs": [],
   "source": [
    "#behav_df_cur['target_inds'] "
   ]
  },
  {
   "cell_type": "code",
   "execution_count": null,
   "id": "798f0d53",
   "metadata": {},
   "outputs": [],
   "source": [
    "dfev['target_code']"
   ]
  },
  {
   "cell_type": "code",
   "execution_count": null,
   "id": "417d8e01",
   "metadata": {},
   "outputs": [],
   "source": [
    "behav_df_cur['target_codes']"
   ]
  },
  {
   "cell_type": "code",
   "execution_count": null,
   "id": "8b37e22e",
   "metadata": {},
   "outputs": [],
   "source": [
    "dfev.columns"
   ]
  },
  {
   "cell_type": "code",
   "execution_count": null,
   "id": "a59af9b9",
   "metadata": {},
   "outputs": [],
   "source": [
    "# read full df\n",
    "# add index valid column"
   ]
  },
  {
   "cell_type": "code",
   "execution_count": null,
   "id": "bae6c525",
   "metadata": {},
   "outputs": [],
   "source": []
  },
  {
   "cell_type": "code",
   "execution_count": null,
   "id": "4924de40",
   "metadata": {},
   "outputs": [],
   "source": [
    "(dfev['code_x'] == dfev['code_y']).all()\n",
    "(dfev['type_x'] == dfev['type_y']).all()"
   ]
  },
  {
   "cell_type": "code",
   "execution_count": null,
   "id": "32cb1fa3",
   "metadata": {},
   "outputs": [],
   "source": [
    "dfev.columns"
   ]
  },
  {
   "cell_type": "code",
   "execution_count": null,
   "id": "743d5321",
   "metadata": {},
   "outputs": [],
   "source": []
  },
  {
   "cell_type": "code",
   "execution_count": null,
   "id": "54a51853",
   "metadata": {},
   "outputs": [],
   "source": [
    "behav_df_cur.trial_index.values"
   ]
  },
  {
   "cell_type": "code",
   "execution_count": null,
   "id": "9ae76547",
   "metadata": {},
   "outputs": [],
   "source": [
    "# only FEEDBACK_PHASE. \n",
    "# To get acces to other phases: \n",
    "# for REST one has to subtract fixed value from the first\n",
    "behav_df_cur\n",
    "\n",
    "# two datastes -- for feedback (trigger_nsample is the sample index on which feedback starts ) \n",
    "# and for target (trigger_nsample is the sample index on which target appears )\n",
    "# normally only  phase, trigger, error_distance"
   ]
  },
  {
   "cell_type": "code",
   "execution_count": null,
   "id": "dbd0d86e",
   "metadata": {},
   "outputs": [],
   "source": [
    "for coln in behav_df_cur.columns:\n",
    "    print (coln,' -- ')"
   ]
  },
  {
   "cell_type": "code",
   "execution_count": null,
   "id": "24a0f895",
   "metadata": {},
   "outputs": [],
   "source": [
    "#behav_df_cur['trial_type']"
   ]
  },
  {
   "cell_type": "code",
   "execution_count": null,
   "id": "ae4ae70c",
   "metadata": {},
   "outputs": [],
   "source": [
    "args.time_locked"
   ]
  },
  {
   "cell_type": "code",
   "execution_count": null,
   "id": "3fa4743c",
   "metadata": {},
   "outputs": [],
   "source": [
    "col_to_drop = ['phase','environment','trials','subject',\n",
    "               'time_diff_phase','time_since_last', 'target_codes',\n",
    "'phase_duration',  \n",
    "'perturbation_',\n",
    "'error_type',\n",
    "'non_hit_shifted',\n",
    "'correction',\n",
    "'belief_',\n",
    "'belief',\n",
    "'trial_inds_glob_prevlike_error',\n",
    "'trial_inds_glob_nextlike_error',\n",
    "'prev_err_sens',\n",
    "'retention_factor_s',  \n",
    "'vals_for_corr1',\n",
    "'vals_for_corr2',\n",
    "'dist_rad_from_prevtgt2',  \n",
    "'next_error',  \n",
    "'next_belief',  \n",
    "'hit_mestd1',   \n",
    "'err_sens_trunc',  \n",
    "'movement','trigger']   \n"
   ]
  },
  {
   "cell_type": "code",
   "execution_count": null,
   "id": "51d612c8",
   "metadata": {},
   "outputs": [],
   "source": [
    "op.join(path_data_tmp_cursubj, fn_flt_raw )"
   ]
  },
  {
   "cell_type": "code",
   "execution_count": null,
   "id": "6e734c8a",
   "metadata": {},
   "outputs": [],
   "source": [
    "args.behav_file"
   ]
  },
  {
   "cell_type": "code",
   "execution_count": null,
   "id": "87c1ba64",
   "metadata": {
    "run_control": {
     "marked": true
    }
   },
   "outputs": [],
   "source": []
  },
  {
   "cell_type": "code",
   "execution_count": null,
   "id": "0a92b5a9",
   "metadata": {},
   "outputs": [],
   "source": []
  },
  {
   "cell_type": "code",
   "execution_count": null,
   "id": "52412b95",
   "metadata": {},
   "outputs": [],
   "source": [
    "/home/demitau/crnl_workstation/data_Quentin/full_experiments/data2/sub01_WGPOZPEE/behavdata/behav_visuomotor_df_upd_perframe.pkl.zip"
   ]
  },
  {
   "cell_type": "code",
   "execution_count": null,
   "id": "99d60965",
   "metadata": {},
   "outputs": [],
   "source": []
  },
  {
   "cell_type": "code",
   "execution_count": null,
   "id": "a969dd85",
   "metadata": {},
   "outputs": [],
   "source": [
    "import shutil\n",
    "#shutil.copy(fn_events_full,pjoin(exp_dir, f'VisuoMotor_no_filter_with_ICA_eve.txt'))\n",
    "fn_events_full"
   ]
  },
  {
   "cell_type": "code",
   "execution_count": null,
   "id": "ab6cf138",
   "metadata": {},
   "outputs": [],
   "source": []
  },
  {
   "cell_type": "code",
   "execution_count": null,
   "id": "b338b749",
   "metadata": {},
   "outputs": [],
   "source": [
    "dfev_full.query('phase.isnull()').value_counts('code')"
   ]
  },
  {
   "cell_type": "code",
   "execution_count": null,
   "id": "4b586bd9",
   "metadata": {},
   "outputs": [],
   "source": [
    "dfev_full.query('phase.isnull()').code.unique()"
   ]
  },
  {
   "cell_type": "code",
   "execution_count": null,
   "id": "4207404a",
   "metadata": {},
   "outputs": [],
   "source": [
    "#dfpf[['time','phase']]"
   ]
  },
  {
   "cell_type": "code",
   "execution_count": null,
   "id": "cceb8216",
   "metadata": {},
   "outputs": [],
   "source": [
    "dfs_beh__[0]['time_locked'],dfs_beh__[1]['time_locked']"
   ]
  },
  {
   "cell_type": "code",
   "execution_count": null,
   "id": "900ef154",
   "metadata": {
    "run_control": {
     "marked": true
    }
   },
   "outputs": [],
   "source": [
    "dfs_beh__[0]['time'],dfs_beh__[1]['time']"
   ]
  },
  {
   "cell_type": "code",
   "execution_count": null,
   "id": "c5b12c7a",
   "metadata": {},
   "outputs": [],
   "source": [
    "exp_dir = pjoin(os.path.dirname(path_data), '_export_Saxena') \n",
    "\n",
    "scr = pjoin(scripts_dir,'dec_err_sens_sliding2_preopt.py')\n",
    "dfs__ = []\n",
    "dfs_beh__ = []\n",
    "for tl__ in ['target','feedback']:\n",
    "#for tl__ in ['feedback']:\n",
    "    ipy.run_line_magic('run',f'  -i {scr} --subject {subjects[0]} --exit_after enforce_consist '\n",
    "                       '--param_file /home/demitau/memerr_code/params/dec_err_sens_sliding.ini --slide_window_shift 0.2'\n",
    "                      f' --behav_file {bdf} --retention_factor 1. --time_locked {tl__} --use_preloaded_flt_raw 1')\n",
    "    \n",
    "    dfs__ += [dfev]\n",
    "    dfs_beh__ += [behav_df_cur]\n",
    "        \n",
    "    exp_fname = pjoin(exp_dir, f'{tl__}_dfev.parquet')    \n",
    "    dfev.to_parquet(exp_fname)\n",
    "    \n",
    "exp_fname = pjoin(exp_dir, f'feedback.parquet')\n",
    "behav_df_cur_sm = behav_df_cur.drop(columns = col_to_drop)\n",
    "behav_df_cur_sm.to_parquet(exp_fname)    \n",
    "\n",
    "assert set(dfs__[0].trial_index.unique()) == set(dfs__[1].trial_index.unique()) \n",
    "    \n",
    "dfpf = pd.read_pickle(pjoin(path_data,subject,'behavdata','behav_visuomotor_df_upd_perframe.pkl.zip'))\n",
    "#dfpf = dfpf.rename(columns={'trials':'trial_index'})\n",
    "valid_trials = dfev.trial_index.unique()\n",
    "dfpf['triggers_found'] = dfpf.trials.isin( valid_trials )\n",
    "exp_fname = pjoin(exp_dir, f'df_perframe.parquet')  \n",
    "dfpf.to_parquet(exp_fname)\n",
    "    \n",
    "#np.savez( pjoin(exp_dir, f'events.npz') ,events)\n",
    "from meg_proc import events2df_NIH\n",
    "from config2 import trigger2phase\n",
    "dfev_full = events2df_NIH(events, advcols=False)\n",
    "dfev_full['phase'] = dfev_full['code'].apply(lambda x: trigger2phase.get(x,None))\n",
    "dfev_full.loc[dfev_full.type == 'target','phase'] = 'TARGET_PHASE'\n",
    "dfev_full.loc[dfev_full.type == 'feedback','phase'] = 'FEEDBACK_PHASE'\n",
    "\n",
    "exp_fname = pjoin(exp_dir, f'dfev_full.parquet')    \n",
    "dfev_full.to_parquet(exp_fname)"
   ]
  },
  {
   "cell_type": "code",
   "execution_count": null,
   "id": "df43efa8",
   "metadata": {},
   "outputs": [],
   "source": [
    "time_locked"
   ]
  },
  {
   "cell_type": "code",
   "execution_count": null,
   "id": "f7fb4c76",
   "metadata": {},
   "outputs": [],
   "source": [
    "#epochs"
   ]
  },
  {
   "cell_type": "code",
   "execution_count": null,
   "id": "5f7d7084",
   "metadata": {},
   "outputs": [],
   "source": [
    "dfev['target_code']"
   ]
  },
  {
   "cell_type": "code",
   "execution_count": null,
   "id": "e8df7547",
   "metadata": {},
   "outputs": [],
   "source": [
    "consist"
   ]
  },
  {
   "cell_type": "code",
   "execution_count": null,
   "id": "f383dc1d",
   "metadata": {},
   "outputs": [],
   "source": [
    "time_locked"
   ]
  },
  {
   "cell_type": "code",
   "execution_count": null,
   "id": "601c13fd",
   "metadata": {},
   "outputs": [],
   "source": [
    "behav_df_full[]"
   ]
  },
  {
   "cell_type": "code",
   "execution_count": null,
   "id": "e45f8aec",
   "metadata": {},
   "outputs": [],
   "source": [
    "behav_df_full['retention_factor_s']"
   ]
  },
  {
   "cell_type": "code",
   "execution_count": null,
   "id": "295a78f6",
   "metadata": {},
   "outputs": [],
   "source": [
    "behav_df_full.columns"
   ]
  },
  {
   "cell_type": "code",
   "execution_count": null,
   "id": "cf363b3c",
   "metadata": {},
   "outputs": [],
   "source": [
    "behav_fnf"
   ]
  },
  {
   "cell_type": "code",
   "execution_count": null,
   "id": "b73d7b12",
   "metadata": {},
   "outputs": [],
   "source": [
    "par['colns_ES']"
   ]
  }
 ],
 "metadata": {
  "kernelspec": {
   "display_name": "merr3_mamba",
   "language": "python",
   "name": "merr3_mamba"
  },
  "language_info": {
   "codemirror_mode": {
    "name": "ipython",
    "version": 3
   },
   "file_extension": ".py",
   "mimetype": "text/x-python",
   "name": "python",
   "nbconvert_exporter": "python",
   "pygments_lexer": "ipython3",
   "version": "3.11.5"
  }
 },
 "nbformat": 4,
 "nbformat_minor": 5
}
