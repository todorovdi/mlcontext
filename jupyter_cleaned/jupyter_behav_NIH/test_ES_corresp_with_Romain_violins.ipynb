{
 "cells": [
  {
   "cell_type": "code",
   "execution_count": null,
   "id": "e02a4741",
   "metadata": {
    "tags": []
   },
   "outputs": [],
   "source": [
    "%load_ext autoreload\n",
    "%autoreload 2\n",
    "\n",
    "import os\n",
    "ipy = get_ipython()\n",
    "#data_dir_general = '/home/demitau/data_Quentin'\n",
    "#data_subdir_mem_err_main = 'full_experiments/data2'\n",
    "from os.path import join as pjoin\n",
    "import os,sys; sys.path.append(os.path.expandvars('$CODE_MEMORY_ERRORS'))\n",
    "import error_sensitivity\n",
    "#data_dir_input = pjoin(data_dir_general,data_subdir_mem_err_main)\n",
    "import pandas as pd\n",
    "import seaborn as sns; print(sns.__version__)\n",
    "\n",
    "#data_dir_general = '/home/demitau/data_Quentin'\n",
    "#data_subdir_mem_err_main = 'full_experiments/data2'\n",
    "#data_dir_input = pjoin(data_dir_general,data_subdir_mem_err_main)\n",
    "#scripts_dir = pjoin(data_dir_general,'full_experiments','scripts2')\n",
    "\n",
    "data_dir_general = os.path.expandvars('$DATA_QUENTIN')\n",
    "data_dir_input = os.path.expandvars('$DATA_MEMORY_ERRORS_STAB_AND_STOCH')\n",
    "#scripts_dir = pjoin( os.path.expandvars('$CODE_MEMORY_ERRORS'), 'previous_analyses')\n",
    "scripts_dir = pjoin( os.path.expandvars('$CODE_MEMORY_ERRORS'))\n",
    "\n",
    "\n",
    "from config2 import path_data\n",
    "import os\n",
    "import pandas as pd\n",
    "import matplotlib.pyplot as plt\n",
    "import matplotlib as mpl\n",
    "import seaborn as sns\n",
    "from behav_proc import *\n",
    "\n",
    "import numpy as np\n",
    "#from collections import OrderedDict as odict\n",
    "from config2 import envcode2env\n",
    "from pingouin import ttest\n",
    "\n",
    "from base2 import radius_cursor\n",
    "radius_cursor\n",
    "\n",
    "print(data_dir_input, scripts_dir)\n",
    "\n",
    "subjects = [f for f in os.listdir(data_dir_input) if f.startswith('sub') ]\n",
    "subjects = list(sorted(subjects))\n",
    "print(subjects)"
   ]
  },
  {
   "cell_type": "code",
   "execution_count": null,
   "id": "1e753105-c23e-4ccd-9edd-bf564e529eb2",
   "metadata": {
    "tags": []
   },
   "outputs": [],
   "source": [
    "fnf = pjoin(path_data,'df_all_multi_tsz.pkl.zip')\n",
    "\n",
    "#fnf = '/home/demitau/ownCloud/Current/merr_data/df_all_multi_tsz.pkl.zip'\n",
    "\n",
    "df_all_multi_tsz = pd.   read_pickle(fnf)\n",
    "df = df_all_multi_tsz.query('trial_shift_size == 1 and trial_group_col_calc == \"trialwe\"').copy()\n",
    "\n",
    "from datetime import datetime\n",
    "print( str(datetime.fromtimestamp(os.stat(fnf).st_mtime)), fnf )\n",
    "\n",
    "df  = truncateDf(df, 'err_sens', q=0.0, infnan_handling='discard', \n",
    "                   cols_uniqify = ['subject','environment','trial_shift_size','trial_group_col_calc'])\n",
    "\n",
    "\n",
    "grp = df.groupby(['trial_group_col_calc', 'subject','environment'])\n",
    "display('grp.size().max()', grp.size().max())\n",
    "me = grp.\\\n",
    "    mean(numeric_only=1).reset_index()\n",
    "\n",
    "fg = sns.catplot(data = me, kind='violin', y='err_sens', x='environment')\n",
    "#addTitleInfo(fg.axes.flatten()[0])\n",
    "for ax in fg.axes.flatten():\n",
    "    ax.axhline(y=0, c='r', ls=':'); #ax.set_ylim(-5,5)\n"
   ]
  },
  {
   "cell_type": "code",
   "execution_count": null,
   "id": "274093a8-cc8d-4b52-b00e-e135af37daa0",
   "metadata": {
    "tags": []
   },
   "outputs": [],
   "source": [
    "#df_all_multi_tsz.columns"
   ]
  },
  {
   "cell_type": "code",
   "execution_count": null,
   "id": "0087bdcc-53d7-4f46-b759-b7121b69ef64",
   "metadata": {},
   "outputs": [],
   "source": []
  },
  {
   "cell_type": "code",
   "execution_count": null,
   "id": "93ecb610",
   "metadata": {
    "tags": []
   },
   "outputs": [],
   "source": [
    "fnf = '/home/demitau/ownCloud/Current/merr_data/df_all_multi_tsz.pkl.zip'\n",
    "\n",
    "#fnf = '/home/demitau/ownCloud/Current/merr_data/df_all_multi_tsz.pkl.zip'\n",
    "\n",
    "df_all_multi_tsz = pd.   read_pickle(fnf)\n",
    "df = df_all_multi_tsz.query('trial_shift_size == 1 and trial_group_col_calc == \"trialwe\"').copy()\n",
    "\n",
    "from datetime import datetime\n",
    "print( str(datetime.fromtimestamp(os.stat(fnf).st_mtime)), fnf )\n",
    "\n",
    "df  = truncateDf(df, 'err_sens', q=0.0, infnan_handling='discard', \n",
    "                   cols_uniqify = ['subject','environment','trial_shift_size','trial_group_col_calc'])\n",
    "\n",
    "\n",
    "grp = df.groupby(['trial_group_col_calc', 'subject','environment'])\n",
    "display('grp.size().max()', grp.size().max())\n",
    "me = grp.\\\n",
    "    mean(numeric_only=1).reset_index()\n",
    "\n",
    "fg = sns.catplot(data = me, kind='violin', y='err_sens', x='environment')\n",
    "#addTitleInfo(fg.axes.flatten()[0])\n",
    "for ax in fg.axes.flatten():\n",
    "    ax.axhline(y=0, c='r', ls=':'); #ax.set_ylim(-5,5)\n"
   ]
  },
  {
   "cell_type": "code",
   "execution_count": null,
   "id": "eb409aef",
   "metadata": {},
   "outputs": [],
   "source": []
  }
 ],
 "metadata": {
  "kernelspec": {
   "display_name": "merr3_mamba",
   "language": "python",
   "name": "merr3_mamba"
  },
  "language_info": {
   "codemirror_mode": {
    "name": "ipython",
    "version": 3
   },
   "file_extension": ".py",
   "mimetype": "text/x-python",
   "name": "python",
   "nbconvert_exporter": "python",
   "pygments_lexer": "ipython3",
   "version": "3.11.5"
  }
 },
 "nbformat": 4,
 "nbformat_minor": 5
}
