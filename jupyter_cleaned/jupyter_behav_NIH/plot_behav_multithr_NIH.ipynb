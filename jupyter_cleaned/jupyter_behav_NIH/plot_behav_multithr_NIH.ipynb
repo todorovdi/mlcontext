{
 "cells": [
  {
   "cell_type": "code",
   "execution_count": null,
   "id": "f9952a90",
   "metadata": {
    "tags": []
   },
   "outputs": [],
   "source": [
    "%load_ext autoreload\n",
    "%autoreload 2\n",
    "\n",
    "import os\n",
    "ipy = get_ipython()\n",
    "#data_dir_general = '/home/demitau/data_Quentin'\n",
    "#data_subdir_mem_err_main = 'full_experiments/data2'\n",
    "from os.path import join as pjoin\n",
    "import os,sys; sys.path.append(os.path.expandvars('$CODE_MEMORY_ERRORS'))\n",
    "import error_sensitivity\n",
    "#data_dir_input = pjoin(data_dir_general,data_subdir_mem_err_main)\n",
    "import pandas as pd\n",
    "import seaborn as sns; print(sns.__version__)\n",
    "from datetime import datetime\n",
    "\n",
    "import pingouin as pg\n",
    "#data_dir_general = '/home/demitau/data_Quentin'\n",
    "#data_subdir_mem_err_main = 'full_experiments/data2'\n",
    "#data_dir_input = pjoin(data_dir_general,data_subdir_mem_err_main)\n",
    "#scripts_dir = pjoin(data_dir_general,'full_experiments','scripts2')\n",
    "\n",
    "data_dir_general = os.path.expandvars('$DATA_QUENTIN')\n",
    "data_dir_input = os.path.expandvars('$DATA_MEMORY_ERRORS_STAB_AND_STOCH')\n",
    "#scripts_dir = pjoin( os.path.expandvars('$CODE_MEMORY_ERRORS'), 'previous_analyses')\n",
    "scripts_dir = pjoin( os.path.expandvars('$CODE_MEMORY_ERRORS'))\n",
    "\n",
    "\n",
    "print(data_dir_input, scripts_dir)\n",
    "\n",
    "subjects = [f for f in os.listdir(data_dir_input) if f.startswith('sub') ]\n",
    "subjects = list(sorted(subjects))\n",
    "print(subjects)"
   ]
  },
  {
   "cell_type": "code",
   "execution_count": null,
   "id": "9ab37059",
   "metadata": {
    "tags": []
   },
   "outputs": [],
   "source": [
    "%%javascript\n",
    "// needed to access notebook path later\n",
    "var nb = IPython.notebook;\n",
    "var kernel = IPython.notebook.kernel;\n",
    "var command = \"NOTEBOOK_FULL_PATH = '\" + nb.base_url + nb.notebook_path + \"'\";\n",
    "kernel.execute(command);"
   ]
  },
  {
   "cell_type": "code",
   "execution_count": null,
   "id": "31801f4c",
   "metadata": {
    "run_control": {
     "marked": false
    },
    "tags": []
   },
   "outputs": [],
   "source": [
    "import os\n",
    "\n",
    "def getAddInfo():\n",
    "    import datetime\n",
    "    # Get the current date and time in the format YYYY-MM-DD HH:MM:SS\n",
    "    now = datetime.datetime.now().strftime(\"%Y-%m-%d %H:%M:%S\")\n",
    "    # Get the name of the current jupyter notebook\n",
    "    #notebook_name = os.path.basename(os.environ.get(\"NOTEBOOK_PATH\", \"\"))\n",
    "    notebook_name = NOTEBOOK_FULL_PATH\n",
    "    #print(notebook_name)\n",
    "    add_ttle = f\"{now}\\n{notebook_name}\"\n",
    "    return add_ttle\n",
    "\n",
    "def addTitleInfo(axs):\n",
    "    add_ttle = getAddInfo()\n",
    "    # Add a linebreak and the date, time, and notebook name to the ylabel of each axis\n",
    "    if axs is not None:\n",
    "        if isinstance(axs, (list, np.ndarray)): # If axs is a list or an array of axes\n",
    "            for ax in axs:\n",
    "                title = ax.get_title()\n",
    "                new_title = f\"{title}\\n{add_ttle}\"\n",
    "                ax.set_title(new_title)\n",
    "        else: # If axs is a single axis\n",
    "            title = axs.get_title()\n",
    "            new_title = f\"{title}\\n{add_ttle}\"\n",
    "            axs.set_title(new_title)\n",
    "    else:\n",
    "        title = plt.gcf()._suptitle.get_text()\n",
    "        new_title = f\"{title}\\n{add_ttle}\"\n",
    "        plt.suptitle(new_title)"
   ]
  },
  {
   "cell_type": "code",
   "execution_count": null,
   "id": "e3af1617",
   "metadata": {
    "tags": []
   },
   "outputs": [],
   "source": [
    "print(\"NOTEBOOK_FULL_PATH:\\n\", NOTEBOOK_FULL_PATH)"
   ]
  },
  {
   "cell_type": "code",
   "execution_count": null,
   "id": "9f4ddcb2",
   "metadata": {
    "tags": []
   },
   "outputs": [],
   "source": [
    "from config2 import path_data\n",
    "import os\n",
    "import pandas as pd\n",
    "import matplotlib.pyplot as plt\n",
    "import matplotlib as mpl\n",
    "import seaborn as sns\n",
    "from behav_proc import *\n",
    "\n",
    "import numpy as np\n",
    "#from collections import OrderedDict as odict\n",
    "from config2 import envcode2env\n",
    "from pingouin import ttest\n",
    "\n",
    "from base2 import radius_cursor\n",
    "radius_cursor"
   ]
  },
  {
   "cell_type": "code",
   "execution_count": null,
   "id": "172c826a",
   "metadata": {},
   "outputs": [],
   "source": []
  },
  {
   "cell_type": "code",
   "execution_count": null,
   "id": "63557ef5",
   "metadata": {},
   "outputs": [],
   "source": [
    "#df['pre_break_duration'].max()"
   ]
  },
  {
   "cell_type": "code",
   "execution_count": null,
   "id": "2165f7ea",
   "metadata": {
    "tags": []
   },
   "outputs": [],
   "source": [
    "# fnf = pjoin(path_data,'df_all_multi_tsz.pkl.zip')\n",
    "# print(fnf)\n",
    "# df_all_multi_tsz = pd.read_pickle(fnf)\n",
    "\n",
    "# qs = 'trial_shift_size == 1'\n",
    "# #dfc  = dfc_multi_tsz.query(qs)\n",
    "# dfc0_multi_tsz  = truncateDf(df_all_multi_tsz, 'err_sens', q=0.0, \n",
    "#                              infnan_handling='discard')\n",
    "# dfc0 = dfc0_multi_tsz.query(qs)\n",
    "\n",
    "# # not truncated, not pooled (to compare with Romain plots)\n",
    "# %matplotlib inline\n",
    "# me = dfc0.groupby(['subject','environment','trial_group_col_calc']).\\\n",
    "#     mean(numeric_only=1).reset_index()\n",
    "# sns.catplot(data=me, kind='violin', y='err_sens', x='environment', \n",
    "#             col='trial_group_col_calc', \n",
    "#            inner='stick')"
   ]
  },
  {
   "cell_type": "code",
   "execution_count": null,
   "id": "ea60760e",
   "metadata": {
    "run_control": {
     "marked": false
    },
    "tags": []
   },
   "outputs": [],
   "source": [
    "fnf = pjoin(path_data,'df_all_multi_tsz_.pkl.zip')\n",
    "#fnf = '/home/demitau/ownCloud/Current/merr_data/df_all_multi_tsz.pkl.zip'\n",
    "print(fnf)\n",
    "print( str(datetime.fromtimestamp(os.stat(fnf).st_mtime)))\n",
    "df_all_multi_tsz = pd.read_pickle(fnf)\n",
    "#dfc_multi_tsz = pd.   read_pickle(pjoin(path_data,'df_all_multi_tsz_trunc_q=0.05.pkl.zip'))\n",
    "df = df_all_multi_tsz.query('trial_shift_size == 1 and trial_group_col_calc == \"trialwe\" '\n",
    "                            ' and retention_factor_s == \"1.000\"').copy()\n",
    "df_orig = df\n",
    "\n",
    "assert not df.duplicated(['subject','trials']).any()\n",
    "#del df_all_multi_tsz\n",
    "#df['env'] = df['environment'].apply(lambda x: envcode2env[x])\n",
    "assert 'env' in df\n",
    "df['feedback_deg'] = df['feedback'] / np.pi * 180\n",
    "df['error_deg'] = df['error'] / np.pi * 180 "
   ]
  },
  {
   "cell_type": "code",
   "execution_count": null,
   "id": "9c10db57",
   "metadata": {},
   "outputs": [],
   "source": [
    "df_all_multi_tsz['trial_group_col_calc'].unique()"
   ]
  },
  {
   "cell_type": "code",
   "execution_count": null,
   "id": "9f527201",
   "metadata": {},
   "outputs": [],
   "source": [
    "target_angs = (np.array([157.5, 112.5, 67.5, 22.5]) + 90) * (np.pi / 180)\n",
    "target_angs / np.pi * 180"
   ]
  },
  {
   "cell_type": "code",
   "execution_count": null,
   "id": "b2b8ba92",
   "metadata": {},
   "outputs": [],
   "source": [
    "checkErrBounds(df,['error','prev_error','error_deg'])"
   ]
  },
  {
   "cell_type": "code",
   "execution_count": null,
   "id": "75897fdd",
   "metadata": {
    "tags": []
   },
   "outputs": [],
   "source": [
    "hitprop = 100*df.query('~non_hit_not_adj').\\\n",
    "    groupby('subject').size() / df.groupby('subject').size()\n",
    "display('hitprop total = ',hitprop.describe())\n",
    "\n",
    "hitprop = 100*df.query('~non_hit_not_adj').\\\n",
    "    groupby(['subject','env']).size() / df.\\\n",
    "    groupby(['subject','env']).size()\n",
    "hitprop = hitprop.to_frame().reset_index() \n",
    "display('hitprop per env ',hitprop.groupby('env').describe())\n",
    "\n",
    "hitprop = 100*df.query('~non_hit_not_adj').\\\n",
    "    groupby(['subject','block_name']).size() / df.\\\n",
    "    groupby(['subject','block_name']).size()\n",
    "hitprop = hitprop.to_frame().reset_index() \n",
    "display('hitprop per block_name ',hitprop.groupby('block_name').describe())"
   ]
  },
  {
   "cell_type": "code",
   "execution_count": null,
   "id": "834ca26b",
   "metadata": {
    "tags": []
   },
   "outputs": [],
   "source": [
    "df['env'] = df['env'].astype('category')\n",
    "df['subject'] = df['subject'].astype('category')\n",
    "\n",
    "print( df['pert_stage_wb'].unique() )\n",
    "\n",
    "df['pert_stage_wb'] = df['pert_stage_wb'].where(\n",
    "    df['env'] ==\"stable\", -1 )\n",
    "df['pert_stage_wb'] = df['pert_stage_wb'].astype(int)\n",
    "\n",
    "df['pert_stage'] = df['pert_stage'].where(\n",
    "    df['env'] ==\"stable\", -1 )\n",
    "df['pert_stage'] = df['pert_stage'].astype(int)\n",
    "\n",
    "print( df['pert_stage'].unique() )\n",
    "\n",
    "df['ps_'] = 'rnd'\n",
    "c = df['pert_stage_wb'].isin([1,3])\n",
    "df.loc[c,'ps_'] = 'pert' \n",
    "c = df['pert_stage_wb'].isin([2,4])\n",
    "df.loc[c,'ps_'] = 'washout' \n",
    "c = df['pert_stage_wb'].isin([0])\n",
    "df.loc[c,'ps_'] = 'pre' \n",
    "print( df['ps_'].unique() )\n",
    "\n",
    "df['ps2_'] = 'rnd'\n",
    "c = df['pert_stage_wb'].isin([1])\n",
    "df.loc[c,'ps2_'] = 'pert_pro' \n",
    "c = df['pert_stage_wb'].isin([3])\n",
    "df.loc[c,'ps2_'] = 'pert_contra' \n",
    "c = df['pert_stage_wb'].isin([2,4])\n",
    "df.loc[c,'ps2_'] = 'washout' \n",
    "c = df['pert_stage_wb'].isin([0])\n",
    "df.loc[c,'ps2_'] = 'pre' \n",
    "print( df['ps2_'].unique() )\n",
    "\n",
    "df['trialwpertstage_wb'] = df['trialwpertstage_wb'].where(df['env'] ==\"stable\", \n",
    "                                    df['trialwb'])\n",
    "df['trialwpertstage_wb'] = df['trialwpertstage_wb'].astype(int)\n",
    "\n",
    "assert not df.duplicated(['subject','trials']).any()\n",
    "# just get perturabtion and env scheme from one subject\n",
    "# will be needed for plotting time resovled\n",
    "#dfall = dfall.reset_index()\n",
    "dfc_p = df.query(f'subject == \"{subjects[0]}\"')\n",
    "dfc_p = dfc_p.sort_values('trials')\n",
    "pert = dfc_p['perturbation'].values[:192*4]\n",
    "tr   = dfc_p['trials'].values[:192*4]\n",
    "envv = dfc_p['environment'].values[:192*4].astype(float)\n",
    "envv[envv == 0] = np.nan\n",
    "pert[envv == 1] = np.nan"
   ]
  },
  {
   "cell_type": "code",
   "execution_count": null,
   "id": "d58b5510",
   "metadata": {
    "tags": []
   },
   "outputs": [],
   "source": [
    "df['error_deg'].describe()"
   ]
  },
  {
   "cell_type": "code",
   "execution_count": null,
   "id": "56cab652",
   "metadata": {
    "run_control": {
     "marked": false
    },
    "tags": []
   },
   "outputs": [],
   "source": [
    "# estimate error at second halfs of init stage\n",
    "qs_initstage = 'pert_stage_wb.abs() < 1e-10'\n",
    "df_init = df.query(qs_initstage + ' and trialwb >= 10')\n",
    "grp = df_init.groupby(['subject','pert_stage'])\n",
    "#display(grp.size())\n",
    "#df_init['feedback_deg'].min(), df_init['feedback_deg'].max()\n",
    "\n",
    "#grp['error_deg'].std()\n",
    "\n",
    "stds = df_init.groupby(['subject'])['error_deg'].std()#.std()\n",
    "mestd = stds.mean()\n",
    "print(mestd, stds.std() )\n",
    "\n",
    "stds = stds.to_frame().reset_index().rename(columns={'error_deg':'error_deg_initstd'})\n",
    "df_wthr = df.merge(stds, on='subject')\n",
    "\n",
    "df_wthr['error_initstd'] = df_wthr.error_deg_initstd /  180 * np.pi \n",
    "#df_wthr"
   ]
  },
  {
   "cell_type": "code",
   "execution_count": null,
   "id": "c940e849",
   "metadata": {
    "tags": []
   },
   "outputs": [],
   "source": [
    "stds"
   ]
  },
  {
   "cell_type": "code",
   "execution_count": null,
   "id": "264926c1",
   "metadata": {
    "tags": []
   },
   "outputs": [],
   "source": [
    "df_all_multi_tsz.trial_group_col_calc.unique()"
   ]
  },
  {
   "cell_type": "code",
   "execution_count": null,
   "id": "afaea2a4",
   "metadata": {
    "tags": []
   },
   "outputs": [],
   "source": [
    "df_all_multi_tsz_whtr = df_all_multi_tsz.merge(stds, on='subject')\n",
    "df_all_multi_tsz_whtr_ = df_all_multi_tsz_whtr.\\\n",
    "    query('trial_group_col_calc in [\"trialwe\", \"trialwtgt_we\"]').copy()\n",
    "\n",
    "df_all_multi_tsz_whtr_['env'] = df_all_multi_tsz_whtr_['environment'].apply(lambda x: envcode2env[x])\n",
    "\n",
    "# def f(x):    \n",
    "#     if x > np.pi:\n",
    "#         x -= 2*np.pi\n",
    "#     elif x < -np.pi:\n",
    "#         x += 2*np.pi\n",
    "#     return x\n",
    "#df_all_multi_tsz_whtr_['error'] = df_all_multi_tsz_whtr_['error'].apply(f)\n",
    "df_all_multi_tsz_whtr_['error_deg'] = df_all_multi_tsz_whtr_['error'] / np.pi * 180 \n",
    "df_all_multi_tsz_whtr_['error_initstd'] = df_all_multi_tsz_whtr_.error_deg_initstd /  180 * np.pi \n",
    "\n",
    "checkErrBounds(df,['error','prev_error','error_deg'])\n",
    "checkErrBounds(df_all_multi_tsz_whtr_,['error','prev_error','error_deg'])"
   ]
  },
  {
   "cell_type": "code",
   "execution_count": null,
   "id": "6cb41826",
   "metadata": {
    "tags": []
   },
   "outputs": [],
   "source": [
    "shiftszs = df_all_multi_tsz_whtr_['trial_shift_size'].unique()\n",
    "shiftszs"
   ]
  },
  {
   "cell_type": "code",
   "execution_count": null,
   "id": "5ae47767",
   "metadata": {
    "tags": []
   },
   "outputs": [],
   "source": [
    "[col for col in df_all_multi_tsz.columns if col.find('like') >= 0]"
   ]
  },
  {
   "cell_type": "code",
   "execution_count": null,
   "id": "dbca2356",
   "metadata": {
    "tags": []
   },
   "outputs": [],
   "source": [
    "df_all_multi_tsz.query('trials <= 4 and subject == @subjects[0] and  trial_group_col_calc == \"trialwe\"')\\\n",
    "    [['trials','trial_shift_size','error','prev_error']]"
   ]
  },
  {
   "cell_type": "code",
   "execution_count": null,
   "id": "78bfc4ce",
   "metadata": {
    "run_control": {
     "marked": false
    },
    "tags": []
   },
   "outputs": [],
   "source": [
    "NN=5; st=0.4 #maxmult=1.2\n",
    "#thrs =  np.linspace(mestd/NN, mestd, NN); print(mestd, thrs)\n",
    "mults = st + (1-st) * np.arange(NN) / ( (NN - 1) )\n",
    "mults = [0] + list(mults)\n",
    "#thrs = mestd * mults\n",
    "mults#, thrs"
   ]
  },
  {
   "cell_type": "code",
   "execution_count": null,
   "id": "3f9ea61d",
   "metadata": {},
   "outputs": [],
   "source": [
    "# pooled random vs stable\n",
    "dfs = []\n",
    "ttrs = []\n",
    "for shiftsz in shiftszs:\n",
    "    for tgcc in df_all_multi_tsz_whtr_.trial_group_col_calc.unique():\n",
    "        for rf in df_all_multi_tsz_whtr_.retention_factor_s.unique():\n",
    "            for multi, mult in enumerate(mults):\n",
    "                # prev_error is not enough, it does not respect shift size\n",
    "                df_ = df_all_multi_tsz_whtr_.query('trial_shift_size == @shiftsz'\n",
    "                    ' and trial_group_col_calc == @tgcc and retention_factor_s == @rf').copy()\n",
    "                assert not df_.duplicated(['subject','trials']).any()\n",
    "                df_ = df_[df_.error.shift(shiftsz).abs() >= \\\n",
    "                        df_['error_initstd'] * mults[multi] ]        \n",
    "                #df_ = df_.query('error_deg.shift(1).abs() >= @thr')\n",
    "                #thr_s = '{:.3f}'.format(thr)\n",
    "                #thr_s = f'{maxmult}*mestd/{ NN - (thri)}'\n",
    "                #thr_s = f'mestd/{ NN - (thri)}'\n",
    "                thr_s = f'mestd*{mults[multi]}'\n",
    "                df_['thr'] = thr_s\n",
    "                dfs += [df_]\n",
    "                print(thr_s, len(df_))\n",
    "dfall_notclean = pd.concat(dfs)\n",
    "# ttrs = pd.concat(ttrs)\n",
    "# ttrs = ttrs.rename(columns={'p-val':'pval'})\n",
    "\n",
    "from behav_proc import truncateDf\n",
    "dfall_mshsz  = truncateDf(dfall_notclean, 'err_sens', q=0.0, infnan_handling='discard', \n",
    "                   cols_uniqify = ['subject','environment','thr','trial_shift_size',\n",
    "                                   'trial_group_col_calc','retention_factor_s'])\n"
   ]
  },
  {
   "cell_type": "code",
   "execution_count": null,
   "id": "12213e36",
   "metadata": {},
   "outputs": [],
   "source": [
    "# use variability to define threshold for err sens"
   ]
  },
  {
   "cell_type": "code",
   "execution_count": null,
   "id": "574802c0",
   "metadata": {},
   "outputs": [],
   "source": [
    "%matplotlib inline"
   ]
  },
  {
   "cell_type": "code",
   "execution_count": null,
   "id": "caebc055",
   "metadata": {},
   "outputs": [],
   "source": [
    "#df['error_deg'].shift(1).abs() < "
   ]
  },
  {
   "cell_type": "markdown",
   "id": "9487b84d",
   "metadata": {
    "tags": []
   },
   "source": [
    "### basic violin stats (random vs env and pert stages)"
   ]
  },
  {
   "cell_type": "code",
   "execution_count": null,
   "id": "b6c6d26f",
   "metadata": {
    "tags": []
   },
   "outputs": [],
   "source": [
    "sns.set(font_scale=1.3)"
   ]
  },
  {
   "cell_type": "code",
   "execution_count": null,
   "id": "bd3f7b2a-6a78-4744-a85e-2739a70dc523",
   "metadata": {
    "run_control": {
     "marked": false
    },
    "tags": []
   },
   "outputs": [],
   "source": [
    "# prepare dfall\n",
    "# pooled random vs stable\n",
    "import warnings\n",
    "dfs = []\n",
    "ttrs = []\n",
    "#for thri, thr in enumerate(mults):\n",
    "for multi, mult in enumerate(mults):\n",
    "    df_ = df_wthr.copy()\n",
    "    df_wthrdf_ = df_[df_.error.shift(1).abs() >= df_['error_initstd'] * mult ].copy()\n",
    "    #df_ = df_.query('error_deg.shift(1).abs() >= @thr')\n",
    "    #thr_s = '{:.3f}'.format(thr)\n",
    "    #thr_s = f'{maxmult}*mestd/{ NN - (thri)}'\n",
    "    #thr_s = f'mestd/{ NN - (thri)}'\n",
    "    thr_s = f'mestd*{mults[multi]}'\n",
    "    df_wthrdf_['thr'] = thr_s\n",
    "    dfs += [df_wthrdf_]\n",
    "    print(thr_s, len(df_wthrdf_), len(df_))\n",
    "    \n",
    "    for alt in ['two-sided','greater','less']:\n",
    "        with warnings.catch_warnings():\n",
    "            warnings.filterwarnings('ignore',category=RuntimeWarning)\n",
    "#             /home/demitau/mambaforge/envs/merr3/lib/python3.11/site-packages/numpy/core/_methods.py:236: RuntimeWarning: invalid value encountered in subtract\n",
    "#               x = asanyarray(arr - arrmean)\n",
    "#             /home/demitau/mambaforge/envs/merr3/lib/python3.11/site-packages/scipy/stats/_stats_py.py:6999: RuntimeWarning: invalid value encountered in scalar subtract\n",
    "#               d = mean1 - mean2\n",
    "#             /home/demitau/mambaforge/envs/merr3/lib/python3.11/site-packages/scipy/stats/_stats_py.py:7474: RuntimeWarning: invalid value encountered in scalar subtract\n",
    "#               estimate = m1-m2\n",
    "#             /home/demitau/mambaforge/envs/merr3/lib/python3.11/site-packages/pingouin/effsize.py:803: RuntimeWarning: invalid value encountered in scalar subtract\n",
    "#               d = (x.mean() - y.mean()) / poolsd\n",
    "#             /home/demitau/mambaforge/envs/merr3/lib/python3.11/site-packages/numpy/core/_methods.py:236: RuntimeWarning: invalid value encountered in subtract\n",
    "#               x = asanyarray(arr - arrmean)\n",
    "            \n",
    "            ttr = ttest(df_wthrdf_.query('env == \"stable\" and err_sens < inf')['err_sens'].values, \n",
    "                  df_wthrdf_.query('env == \"random\" and err_sens < inf')['err_sens'].values, alternative=alt)\n",
    "        ttr['thr'] = thr_s        \n",
    "        ttrs += [ttr]\n",
    "dfall_notclean = pd.concat(dfs)\n",
    "ttrs = pd.concat(ttrs)\n",
    "ttrs = ttrs.rename(columns={'p-val':'pval'})\n",
    "\n",
    "from behav_proc import truncateDf\n",
    "dfall = truncateDf(dfall_notclean, 'err_sens', q=0.0, infnan_handling='discard', \n",
    "                   cols_uniqify = ['subject','env','thr'])"
   ]
  },
  {
   "cell_type": "markdown",
   "id": "0236970d",
   "metadata": {
    "heading_collapsed": true
   },
   "source": [
    "#### pooled"
   ]
  },
  {
   "cell_type": "code",
   "execution_count": null,
   "id": "58feac74",
   "metadata": {
    "hidden": true
   },
   "outputs": [],
   "source": [
    "#del dfall"
   ]
  },
  {
   "cell_type": "code",
   "execution_count": null,
   "id": "cb47dd0d",
   "metadata": {
    "hidden": true
   },
   "outputs": [],
   "source": [
    "#df__[df__['error_deg'].shift().abs() >= df__['error_deg_initstd']]"
   ]
  },
  {
   "cell_type": "code",
   "execution_count": null,
   "id": "c6278fe9",
   "metadata": {
    "hidden": true
   },
   "outputs": [],
   "source": [
    "#df__ = dfall.query('subject == \"sub04_XNDMUSRS\" and trials.isin([306,307])')\\\n",
    "#    [['thr','subject','trials','err_sens','correction','error_deg','error_deg_initstd']]\n",
    "#df__"
   ]
  },
  {
   "cell_type": "code",
   "execution_count": null,
   "id": "999a0296-807a-4f90-8f4d-9a64678e19c7",
   "metadata": {
    "hidden": true,
    "run_control": {
     "marked": false
    }
   },
   "outputs": [],
   "source": [
    "fg = sns.catplot(data = dfall, kind='violin', y='err_sens', x='env', col='thr', \n",
    "                 bw=0.2)\n",
    "addTitleInfo(fg.axes.flatten()[0])\n",
    "#fg\n",
    "# for ax in fg.axes.flatten():\n",
    "#     ax.set_ylim(-50,50)\n",
    "\n",
    "fg = sns.catplot(data = dfall, kind='violin', y='err_sens', x='env', col='thr', \n",
    "                 bw=0.05)\n",
    "for ax in fg.axes.flatten():\n",
    "    ax.set_ylim(-5,5)\n",
    "    \n",
    "fg = sns.catplot(data = dfall, kind='violin', \n",
    "                 y='err_sens', x='block_name', \n",
    "                 col='thr', bw=0.05,\n",
    "                order=['stable1','stable2','random1','random2'])\n",
    "for ax in fg.axes.flatten():\n",
    "    ax.set_ylim(-5,5)\n",
    "    \n",
    "addTitleInfo(fg.axes.flatten()[0])"
   ]
  },
  {
   "cell_type": "code",
   "execution_count": null,
   "id": "75ffe923",
   "metadata": {
    "hidden": true,
    "tags": []
   },
   "outputs": [],
   "source": [
    "print(getAddInfo())\n",
    "thrs = [\"mestd*1.0\", \"mestd*0\"]\n",
    "qs = 'thr in @thrs'\n",
    "display( ttrs.query('pval < 0.05 and thr in @thrs') )"
   ]
  },
  {
   "cell_type": "code",
   "execution_count": null,
   "id": "074fc7d1",
   "metadata": {
    "hidden": true
   },
   "outputs": [],
   "source": [
    "me = dfall.groupby(['thr','subject','env']).\\\n",
    "    mean(numeric_only=1).reset_index()\n",
    "me[['thr','subject','env','trials','err_sens']]"
   ]
  },
  {
   "cell_type": "code",
   "execution_count": null,
   "id": "29c2692c",
   "metadata": {
    "hidden": true,
    "run_control": {
     "marked": false
    }
   },
   "outputs": [],
   "source": [
    "# non pooled (av within participant) random vs stable\n",
    "me = dfall.groupby(['thr','subject','env'], observed=True).\\\n",
    "    mean(numeric_only=1).reset_index()\n",
    "#me.groupby(['env','thr']).size()\n",
    "sns.set(font_scale=1.3)\n",
    "fg = sns.catplot(data = me, kind='violin', y='err_sens', \n",
    "    x='env', col='thr', order=['stable','random'])\n",
    "addTitleInfo(fg.axes.flatten()[0])\n",
    "for ax in fg.axes.flatten():\n",
    "    ax.axhline(y=0, c='r', ls=':'); #ax.set_ylim(-5,5)\n",
    "# -------------\n",
    "me = dfall.groupby(['thr','subject','block_name']).\\\n",
    "    mean(numeric_only=1).reset_index()\n",
    "#display(me.groupby(['block_name','thr']).size())\n",
    "sns.set(font_scale=1.3)\n",
    "fg = sns.catplot(data = me, kind='violin', y='err_sens', \n",
    "    x='block_name', col='thr', order=['stable1','stable2',\n",
    "                                     'random1','random2'])\n",
    "addTitleInfo(fg.axes.flatten()[0])\n",
    "for ax in fg.axes.flatten():\n",
    "    ax.axhline(y=0, c='r', ls=':'); #ax.set_ylim(-5,5)\n",
    "# -------------\n",
    "me = dfall.groupby(['thr','subject','pert_stage']).\\\n",
    "    mean(numeric_only=1).reset_index()\n",
    "#me.groupby(['env','thr']).size()\n",
    "sns.set(font_scale=1.3)\n",
    "fg = sns.catplot(data = me, kind='violin', y='err_sens', \n",
    "    x='pert_stage', col='thr')\n",
    "addTitleInfo(fg.axes.flatten()[0])\n",
    "for ax in fg.axes.flatten():\n",
    "    ax.axhline(y=0, c='r', ls=':'); #ax.set_ylim(-5,5)"
   ]
  },
  {
   "cell_type": "code",
   "execution_count": null,
   "id": "910dc8d3",
   "metadata": {
    "hidden": true
   },
   "outputs": [],
   "source": [
    "# non-pooled stages and env comparison\n",
    "me = dfall.groupby(['thr','subject','ps_']).\\\n",
    "    mean(numeric_only=1).reset_index()\n",
    "#me.groupby(['ps_','thr']).size()\n",
    "sns.set(font_scale=1.3)\n",
    "fg = sns.catplot(data = me, kind='violin', y='err_sens', \n",
    "    x='ps_', col='thr')\n",
    "for ax in fg.axes.flatten():\n",
    "    ax.axhline(y=0, c='r', ls=':'); #ax.set_ylim(-5,5)\n",
    "addTitleInfo(fg.axes.flatten()[0])\n",
    "\n",
    "me = dfall.groupby(['thr','subject','ps2_']).\\\n",
    "    mean(numeric_only=1).reset_index()\n",
    "\n",
    "#me.groupby(['ps_','thr']).size()\n",
    "sns.set(font_scale=1.3)\n",
    "fg = sns.catplot(data = me, kind='violin', y='err_sens', \n",
    "    x='ps2_', col='thr')\n",
    "for ax in fg.axes.flatten():\n",
    "    ax.axhline(y=0, c='r', ls=':'); #ax.set_ylim(-5,5)\n",
    "addTitleInfo(fg.axes.flatten()[0])"
   ]
  },
  {
   "cell_type": "markdown",
   "id": "96ced7a3",
   "metadata": {},
   "source": [
    "### Fig 2 CD"
   ]
  },
  {
   "cell_type": "code",
   "execution_count": null,
   "id": "27ab39b8",
   "metadata": {},
   "outputs": [],
   "source": [
    "dfall.subject.nunique()"
   ]
  },
  {
   "cell_type": "code",
   "execution_count": null,
   "id": "a920c278",
   "metadata": {},
   "outputs": [],
   "source": [
    "#me.subject.nunique()"
   ]
  },
  {
   "cell_type": "code",
   "execution_count": null,
   "id": "85040d58",
   "metadata": {},
   "outputs": [],
   "source": [
    "from figure import renameTickLabels, palette_stabrand\n",
    "\n",
    "thr = \"mestd*1.0\"\n",
    "me = dfall.groupby(['thr','subject','env']).\\\n",
    "    mean(numeric_only=1).reset_index()\n",
    "me_env = me\n",
    "#me.groupby(['env','thr']).size()\n",
    "sns.set(font_scale=1.3)\n",
    "fg = sns.catplot(data = me.query('thr == @thr'), \n",
    "                 kind='violin', y='err_sens', \n",
    "    x='env', col='thr', order=['stable','random'],\n",
    "                palette = palette_stabrand)\n",
    "addTitleInfo(fg.axes.flatten()[0])\n",
    "for ax in fg.axes.flatten():\n",
    "    ax.axhline(y=0, c='r', ls=':'); #ax.set_ylim(-5,5)\n",
    "    \n",
    "from figure.mystatann import plotSigAll\n",
    "plotSigAll(ax, 0.83, 0.05, ticklen=0.02,\n",
    "       df=me, coln='err_sens', colpair = 'env')\n",
    "    \n",
    "ax.annotate('C', xy=(0, 1), xytext=(-60, 60), \n",
    "      fontsize=19, fontweight='bold', va='top', ha='left',\n",
    "      xycoords='axes fraction', textcoords='offset points')\n",
    "fg.set_ylabels('Error sensitivity')\n",
    "ax.set_xlabel('Environment')\n",
    "\n",
    "plt.show()\n",
    "    \n",
    "###################\n",
    "# non-pooled stages and env comparison\n",
    "me = dfall.groupby(['thr','subject','ps_']).\\\n",
    "    mean(numeric_only=1).reset_index()\n",
    "me_ps = me\n",
    "#me.groupby(['ps_','thr']).size()\n",
    "sns.set(font_scale=1.3)\n",
    "fg = sns.catplot(data = me.query('thr == @thr'), kind='violin', y='err_sens', \n",
    "    x='ps_', col='thr', order=['pre','pert','washout','rnd'],\n",
    "                hue = 'ps_')\n",
    "for ax in fg.axes.flatten():\n",
    "    ax.axhline(y=0, c='r', ls=':'); #ax.set_ylim(-5,5)\n",
    "addTitleInfo(fg.axes.flatten()[0])\n",
    "#plt.gcf().add_subplot_labels(['C'])\n",
    "\n",
    "plotSigAll(ax, 2.05, 0.12, ticklen=0.05,\n",
    "       df=me, coln='err_sens', colpair = 'ps_', fontsize = 10)\n",
    "\n",
    "ax.annotate('D', xy=(0, 1), xytext=(-60, 60), \n",
    "      fontsize=19, fontweight='bold', va='top', ha='left',\n",
    "      xycoords='axes fraction', textcoords='offset points')\n",
    "\n",
    "ax.set_xlabel('Experiment stage')\n",
    "#ax.set_xticklabels(['No perturbation','Perturbation','Washout','Random'], \n",
    "#                   rotation=30)\n",
    "d = dict( zip(['pre','pert','washout','rnd'], \n",
    "        ['No perturbation','Perturbation','Washout','Random']) )\n",
    "renameTickLabels(ax, d, rotation=30)\n",
    "\n",
    "fg.set_ylabels('Error sensitivity')\n",
    "#fg.set_titles()"
   ]
  },
  {
   "cell_type": "code",
   "execution_count": null,
   "id": "ef7933d2",
   "metadata": {},
   "outputs": [],
   "source": [
    "statcols_toshow = ['varn','T','pval','val1',\n",
    "                   'val2','alternative','pooled', 'ttstr','dof']"
   ]
  },
  {
   "cell_type": "code",
   "execution_count": null,
   "id": "a26913af",
   "metadata": {},
   "outputs": [],
   "source": [
    "for col, me in [('env', me_env), ('ps_', me_ps)]:\n",
    "    for qs in ['thr == \"mestd*1.0\"', 'thr == \"mestd*0\"']:\n",
    "        df_ = dfall #me.query(qs)\n",
    "        print(col, qs)\n",
    "        varn = 'err_sens'\n",
    "        ttrssig, ttrs = comparePairs(df_,varn,col)\n",
    "        display(ttrssig.query('alternative != \"two-sided\"')\\\n",
    "                [statcols_toshow])"
   ]
  },
  {
   "cell_type": "markdown",
   "id": "2f551d72",
   "metadata": {},
   "source": [
    "### Fig 2 AB"
   ]
  },
  {
   "cell_type": "code",
   "execution_count": null,
   "id": "6bd90433",
   "metadata": {},
   "outputs": [],
   "source": []
  },
  {
   "cell_type": "code",
   "execution_count": null,
   "id": "e421b95f",
   "metadata": {},
   "outputs": [],
   "source": [
    "c = 1 / np.pi  * 180\n",
    "thrs = [\"mestd*1.0\"]#, \"mestd*0\"]\n",
    "qs = 'thr in @thrs'\n",
    "for lablet,varn,pertc in [('A', 'error_pscadj', 1.), \n",
    "                   ('B', 'err_sens', 0.06)]:\n",
    "    #varn = 'org_feedback'\n",
    "    #for varn in     \n",
    "    #for truncs, df in zip(['truncate q=5%','truncate no'],[dfc, dfc0]):\n",
    "    #for truncs, dfall in zip(['truncate q=5%'],[df_]):\n",
    "    varn_eff = varn\n",
    "    if varn.startswith('org_feedback'):\n",
    "        dfall['vtp'] = np.array(dfall[varn]) * c# - 180\n",
    "        varn_eff = 'vtp'\n",
    "    elif varn.startswith('error'):\n",
    "        dfall['vtp'] = np.array(dfall[varn]) * c \n",
    "        varn_eff = 'vtp'\n",
    "    #elif varn.startswith('err_sens'):\n",
    "    #    pert_shift = \n",
    "        #df['vtp'] = np.array(df[varn]) \n",
    "        #varn_eff = 'vtp'\n",
    "\n",
    "    plt.figure(figsize=(12,4))\n",
    "    fg = sns.relplot(data=dfall.query(qs),\n",
    "        kind='line', x=\"trials\", y=varn_eff, \n",
    "        col='thr', estimator='mean', errorbar='sd', height = 4, aspect=2.5)\n",
    "\n",
    "    for ax in fg.axes.flatten():\n",
    "        ax.plot(tr, pert * pertc, c='violet', ls= '--')\n",
    "        ax.plot(tr, envv * 30 * pertc, c='black', lw=0, marker='.' ,alpha=0.2)\n",
    "        #ax.set_title(f'{varn}  {truncs}')\n",
    "        ax.set_ylabel(varn )\n",
    "    if varn.startswith('error_'):\n",
    "        fg.set_ylabels('Angular error [deg]')\n",
    "        fg.set_titles('Error dynamics')\n",
    "    else:\n",
    "        fg.set_ylabels('Error sensitivity')\n",
    "        fg.set_titles('Error sensitivity dynamics')\n",
    "    fg.set_xlabels('Trial number')\n",
    "    \n",
    "     \n",
    "    #addTitleInfo(fg.axes.flatten()[0])\n",
    "    ax.annotate(lablet, xy=(0, 1), xytext=(-60, 20), \n",
    "      fontsize=19, fontweight='bold', va='top', ha='left',\n",
    "      xycoords='axes fraction', textcoords='offset points')"
   ]
  },
  {
   "cell_type": "code",
   "execution_count": null,
   "id": "23231a46",
   "metadata": {},
   "outputs": [],
   "source": [
    "dfall.query('subject == \"sub04_XNDMUSRS\" and trials.isin([306,307])')\\\n",
    "    [['thr','subject','trials','err_sens','correction','error_deg','error_deg_initstd']]"
   ]
  },
  {
   "cell_type": "code",
   "execution_count": null,
   "id": "0c222d24",
   "metadata": {},
   "outputs": [],
   "source": [
    "dfbad = dfall.query(qs).query('err_sens > 10')\n",
    "dfbad[['thr','subject','trials','err_sens','correction','error_deg']]"
   ]
  },
  {
   "cell_type": "code",
   "execution_count": null,
   "id": "4bbf3ac2",
   "metadata": {},
   "outputs": [],
   "source": []
  },
  {
   "cell_type": "code",
   "execution_count": null,
   "id": "f219a969",
   "metadata": {},
   "outputs": [],
   "source": [
    "# ttests stages and envs"
   ]
  },
  {
   "cell_type": "code",
   "execution_count": null,
   "id": "1636655a",
   "metadata": {},
   "outputs": [],
   "source": [
    "# compare all pairs stats\n",
    "from behav_proc import comparePairs    \n",
    "df_ = dfall.query('thr == \"mestd*0\"')\n",
    "varn = 'err_sens'\n",
    "col = 'ps_'\n",
    "\n",
    "ttrssig, ttrs = comparePairs(df_,varn,col)\n",
    "ttrssig[statcols_toshow]\n",
    "\n",
    "# per > pert\n",
    "# pre > washout\n",
    "# pre > rnd\n",
    "# pert < washout\n",
    "# washout > rnd\n",
    "\n",
    "# pert < rnd only in pooled (pval is 0.028, much bigger than others)"
   ]
  },
  {
   "cell_type": "code",
   "execution_count": null,
   "id": "067d17ef",
   "metadata": {
    "run_control": {
     "marked": false
    }
   },
   "outputs": [],
   "source": [
    "#df_.groupby(['subject','ps_']).mean(numeric_only = 1)"
   ]
  },
  {
   "cell_type": "markdown",
   "id": "356bf341",
   "metadata": {},
   "source": [
    "### per retention factor"
   ]
  },
  {
   "cell_type": "code",
   "execution_count": null,
   "id": "4045ea78",
   "metadata": {},
   "outputs": [],
   "source": [
    "dftmp = dfall_mshsz.query('trial_shift_size == 1 and thr.isin([\"mestd*1.0\",\"mestd*0\"])')\n",
    "#dftmp = truncateDf(dftmp, q=0,infnan_handling='discard',coln='err_sens' )    \n",
    "me = dftmp.groupby(['subject','environment','thr',\n",
    "                    'trial_group_col_calc','retention_factor_s'], observed=True).\\\n",
    "    mean(numeric_only=1).reset_index() \n",
    "\n",
    "fg = sns.catplot(y='err_sens',x='thr',hue='environment',kind='violin',\n",
    "            data=me, col='trial_group_col_calc',\n",
    "            row='retention_factor_s') \n",
    "for ax in fg.axes.flatten():\n",
    "    ttl = ax.get_title()\n",
    "    ttl = ttl.replace('|','|\\n')\n",
    "    ax.set_title(ttl)\n",
    "fg.refline(y=0)"
   ]
  },
  {
   "cell_type": "code",
   "execution_count": null,
   "id": "b68f9c0c",
   "metadata": {},
   "outputs": [],
   "source": [
    "dftmp = dfall_mshsz.query('trial_shift_size == 1')\n",
    "\n",
    "c = 1 / np.pi  * 180\n",
    "thrs = [\"mestd*1.0\"]#, \"mestd*0\"]\n",
    "qs = 'thr in @thrs'\n",
    "for lablet,varn,pertc in [('B', 'err_sens', 0.06)]:\n",
    "    #varn = 'org_feedback'\n",
    "    #for varn in     \n",
    "    #for truncs, df in zip(['truncate q=5%','truncate no'],[dfc, dfc0]):\n",
    "    #for truncs, dfall in zip(['truncate q=5%'],[df_]):\n",
    "    varn_eff = varn\n",
    "    if varn.startswith('org_feedback'):\n",
    "        dftmp['vtp'] = np.array(dftmp[varn]) * c# - 180\n",
    "        varn_eff = 'vtp'\n",
    "    elif varn.startswith('error'):\n",
    "        dftmp['vtp'] = np.array(dftmp[varn]) * c \n",
    "        varn_eff = 'vtp'\n",
    "    #elif varn.startswith('err_sens'):\n",
    "    #    pert_shift = \n",
    "        #df['vtp'] = np.array(df[varn]) \n",
    "        #varn_eff = 'vtp'\n",
    "\n",
    "    plt.figure(figsize=(12,4))\n",
    "    fg = sns.relplot(data=dftmp.query(qs),\n",
    "        kind='line', x=\"trials\", y=varn_eff, \n",
    "        col='thr', estimator='mean', errorbar='sd', height = 4, aspect=2.5, \n",
    "                     row='trial_group_col_calc',hue='retention_factor_s')\n",
    "                     #row='retention_factor_s',hue='trial_group_col_calc')\n",
    "\n",
    "    for ax in fg.axes.flatten():\n",
    "        ax.plot(tr, pert * pertc, c='violet', ls= '--')\n",
    "        ax.plot(tr, envv * 30 * pertc, c='black', lw=0, marker='.' ,alpha=0.2)\n",
    "        #ax.set_title(f'{varn}  {truncs}')\n",
    "        ax.set_ylabel(varn )\n",
    "    if varn.startswith('error_'):\n",
    "        fg.set_ylabels('Angular error [deg]')\n",
    "        #fg.set_titles('Error dynamics')\n",
    "    else:\n",
    "        fg.set_ylabels('Error sensitivity')\n",
    "        #fg.set_titles('Error sensitivity dynamics')\n",
    "    fg.set_xlabels('Trial number')\n",
    "    \n",
    "     \n",
    "    #addTitleInfo(fg.axes.flatten()[0])\n",
    "    ax.annotate(lablet, xy=(0, 1), xytext=(-60, 20), \n",
    "      fontsize=19, fontweight='bold', va='top', ha='left',\n",
    "      xycoords='axes fraction', textcoords='offset points')"
   ]
  },
  {
   "cell_type": "markdown",
   "id": "49e204f9",
   "metadata": {
    "heading_collapsed": true
   },
   "source": [
    "## compare first and second random ES -- no difference"
   ]
  },
  {
   "cell_type": "code",
   "execution_count": null,
   "id": "05ee7606",
   "metadata": {
    "hidden": true
   },
   "outputs": [],
   "source": [
    "\n",
    "from behav_proc import comparePairs    \n",
    "df_ = dfall.query('thr == \"mestd*0\" and env == \"random\"')\n",
    "varn = 'err_sens'\n",
    "col = 'block_name'\n",
    "\n",
    "print('Compare different random blocks no trunc')\n",
    "ttrssig, ttrs = comparePairs(df_,varn,col)\n",
    "if ttrssig is None:\n",
    "    print('None')\n",
    "else:\n",
    "    ttrssig[statcols_toshow]\n",
    "\n",
    "print('Compare different random blocks')\n",
    "df_ = dfall.query('thr == \"mestd*1.0\" and env == \"random\"')\n",
    "varn = 'err_sens'\n",
    "col = 'block_name'\n",
    "\n",
    "ttrssig, ttrs = comparePairs(df_,varn,col)\n",
    "if ttrssig is None:\n",
    "    print('None')\n",
    "else:\n",
    "    ttrssig[statcols_toshow]"
   ]
  },
  {
   "cell_type": "code",
   "execution_count": null,
   "id": "7dbeba16",
   "metadata": {
    "hidden": true
   },
   "outputs": [],
   "source": [
    "import gc; gc.collect()"
   ]
  },
  {
   "cell_type": "code",
   "execution_count": null,
   "id": "cb5caf83",
   "metadata": {
    "hidden": true
   },
   "outputs": [],
   "source": [
    "import pingouin as pg"
   ]
  },
  {
   "cell_type": "markdown",
   "id": "43cc8777",
   "metadata": {
    "heading_collapsed": true
   },
   "source": [
    "# Time resolved"
   ]
  },
  {
   "cell_type": "code",
   "execution_count": null,
   "id": "70f4dd37",
   "metadata": {
    "hidden": true
   },
   "outputs": [],
   "source": [
    "c = 1 / np.pi  * 180\n",
    "thrs = [\"mestd*1.0\", \"mestd*0\"]\n",
    "qs = 'thr in @thrs'\n",
    "for varn,pertc in [('error_pscadj', 1.), ('err_sens', 0.04)]:\n",
    "    #varn = 'org_feedback'\n",
    "    #for varn in     \n",
    "    #for truncs, df in zip(['truncate q=5%','truncate no'],[dfc, dfc0]):\n",
    "    #for truncs, dfall in zip(['truncate q=5%'],[df_]):\n",
    "    varn_eff = varn\n",
    "    if varn.startswith('org_feedback'):\n",
    "        dfall['vtp'] = np.array(dfall[varn]) * c# - 180\n",
    "        varn_eff = 'vtp'\n",
    "    elif varn.startswith('error'):\n",
    "        dfall['vtp'] = np.array(dfall[varn]) * c \n",
    "        varn_eff = 'vtp'\n",
    "    #elif varn.startswith('err_sens'):\n",
    "    #    pert_shift = \n",
    "        #df['vtp'] = np.array(df[varn]) \n",
    "        #varn_eff = 'vtp'\n",
    "\n",
    "    plt.figure(figsize=(12,4))\n",
    "    fg = sns.relplot(data=dfall.query(qs), kind='line', x=\"trials\", y=varn_eff, col='thr', estimator='mean', ci='sd')\n",
    "\n",
    "    for ax in fg.axes.flatten():\n",
    "        ax.plot(tr, pert * pertc, c='violet', ls= '--')\n",
    "        ax.plot(tr, envv * 30 * pertc, c='black', lw=0, marker='.' ,alpha=0.2)\n",
    "        #ax.set_title(f'{varn}  {truncs}')\n",
    "        ax.set_ylabel(varn )\n",
    "    # sns.lineplot(ax=ax, x=\"trials\", y=\"perturbation\",\n",
    "    #              data=dfc.query('pert_seq_code == 0') )\n",
    "\n",
    "    #plt.legend(title=None, loc='lower right',\n",
    "    #           labels=['within tgt', '_nolegend_', 'across tgt'])\n",
    "    #ax.set_ylim(-0.25,0.3)\n",
    "for ax in fg.axes.flatten():\n",
    "    ax.set_ylim(-5,5)"
   ]
  },
  {
   "cell_type": "markdown",
   "id": "cf1dec8e",
   "metadata": {
    "heading_collapsed": true
   },
   "source": [
    "# classical corr (separman) trialwpertstage_wb"
   ]
  },
  {
   "cell_type": "markdown",
   "id": "f5689e3a",
   "metadata": {
    "hidden": true
   },
   "source": [
    "### random"
   ]
  },
  {
   "cell_type": "code",
   "execution_count": null,
   "id": "83d22648",
   "metadata": {
    "hidden": true
   },
   "outputs": [],
   "source": [
    "dfallrnd = dfall.query('env == \"random\"').copy()\n",
    "dfallrnd['error_abs'] = dfallrnd['error'].abs()\n",
    "print('random: err_abs')\n",
    "def f(df_):\n",
    "    r = pg.corr( df_['trialwb'], \n",
    "        df_['error_abs'],  method='spearman')\n",
    "    return r\n",
    "corrs = dfallrnd.\\\n",
    "    groupby(['thr','block_name']).apply(f)\n",
    "corrs = corrs.rename(columns={'p-val':'pval'})\n",
    "#display(corrs)\n",
    "\n",
    "print(getAddInfo())\n",
    "thrs = [\"mestd*1.0\", \"mestd*0\"]\n",
    "qs = 'thr in @thrs'\n",
    "display( corrs.query('pval < 0.05 and thr in @thrs') )\n",
    "\n",
    "print('random: err_sens')\n",
    "def f(df_):\n",
    "    r = pg.corr( df_['trialwb'], \n",
    "        df_['err_sens'],  method='spearman')\n",
    "    return r\n",
    "corrs = dfallrnd.\\\n",
    "    groupby(['thr','block_name']).apply(f)\n",
    "corrs = corrs.rename(columns={'p-val':'pval'})\n",
    "#display(corrs)\n",
    "\n",
    "print(getAddInfo())\n",
    "thrs = [\"mestd*1.0\", \"mestd*0\"]\n",
    "qs = 'thr in @thrs'\n",
    "display( corrs.query('pval < 0.05 and thr in @thrs') )"
   ]
  },
  {
   "cell_type": "code",
   "execution_count": null,
   "id": "95db4b10",
   "metadata": {
    "hidden": true,
    "run_control": {
     "marked": false
    }
   },
   "outputs": [],
   "source": [
    "corrs_per_subj = dfallrnd.query('thr == \"mestd*0\"').\\\n",
    "    groupby(['thr','subject','block_name']).apply(f)"
   ]
  },
  {
   "cell_type": "code",
   "execution_count": null,
   "id": "56ecc2de",
   "metadata": {
    "hidden": true
   },
   "outputs": [],
   "source": [
    "corrs_per_subj = corrs_per_subj.rename(columns={'p-val':'pval'})\n",
    "print(getAddInfo())\n",
    "with pd.option_context('display.min_rows',40):\n",
    "    display(\\\n",
    "        corrs_per_subj.query(qs + ' and pval < 0.05').groupby(['subject']).size()\n",
    "        )"
   ]
  },
  {
   "cell_type": "code",
   "execution_count": null,
   "id": "316f0045",
   "metadata": {
    "hidden": true,
    "run_control": {
     "marked": true
    }
   },
   "outputs": [],
   "source": [
    "gc.collect()"
   ]
  },
  {
   "cell_type": "markdown",
   "id": "6b0ea09e",
   "metadata": {
    "hidden": true
   },
   "source": [
    "## abs error and trial"
   ]
  },
  {
   "cell_type": "code",
   "execution_count": null,
   "id": "3ace3069",
   "metadata": {
    "hidden": true
   },
   "outputs": [],
   "source": [
    "#df_['error_pscadj_pertstageadj']"
   ]
  },
  {
   "cell_type": "code",
   "execution_count": null,
   "id": "29a781de",
   "metadata": {
    "code_folding": [],
    "hidden": true
   },
   "outputs": [],
   "source": [
    "# stable\n",
    "dfall['error_pscadj_pertstageadj_abs'] = dfall['error_pscadj_pertstageadj'].abs()\n",
    "\n",
    "#dfallst = dfall.query('env == \"stable\"').copy()\n",
    "dfallst = dfall.copy()\n",
    "dfallst['pert_stage'] = dfallst['pert_stage'].astype('int').astype('category')\n",
    "dfallst['pert_stage_wb'] = dfallst['pert_stage_wb'].astype('int').astype('category')\n",
    "\n",
    "# error\n",
    "def f(df_):\n",
    "    r = pg.corr( df_['trialwpertstage_wb'], \n",
    "                df_['error_pscadj_pertstageadj_abs'],  method='spearman')\n",
    "    return r\n",
    "corrs_per_subj = dfallst.query('thr == \"mestd*0\"').\\\n",
    "    groupby(['thr','subject','pert_stage_wb']).apply(f)\n",
    "corrs_per_subj = corrs_per_subj.rename(columns={'p-val':'pval'})\n",
    "corrs_per_subj_me = corrs_per_subj.\\\n",
    "    groupby('pert_stage_wb')[['r','pval']].mean()\n",
    "display(corrs_per_subj_me)\n",
    "\n",
    "corrs_per_subj_me_errabs = corrs_per_subj_me\n",
    "\n",
    "#corrs = dfallst.query('thr == \"mestd*0\"').\\\n",
    "#    groupby(['thr','pert_stage']).apply(f)\n",
    "corrs = dfallst.\\\n",
    "    groupby(['thr','pert_stage_wb']).apply(f)\n",
    "\n",
    "corrs = corrs.rename(columns={'p-val':'pval'})\n",
    "display(corrs)\n",
    "# def f(df_):    \n",
    "#     a = df_.query('env == \"stable\"')['r']\n",
    "#     b = df_.query('env == \"random\"')['r']\n",
    "#     rs = []\n",
    "#     for alt in ['two-sided','greater','less']:\n",
    "#         print(len(a),len(b), a ,b)\n",
    "#         rs.append( pg.ttest( a, b, alternative = alt) )\n",
    "#     return pd.concat(rs)\n",
    "# ttest_of_corr = corrs_per_subj.groupby(['thr']).apply(f)\n",
    "# display(ttest_of_corr)"
   ]
  },
  {
   "cell_type": "code",
   "execution_count": null,
   "id": "1a6d7ae5",
   "metadata": {
    "code_folding": [],
    "hidden": true
   },
   "outputs": [],
   "source": [
    "print(getAddInfo())\n",
    "thrs = [\"mestd*1.0\", \"mestd*0\"]\n",
    "qs = 'thr in @thrs'\n",
    "display( corrs.query('pval < 0.05 and thr in @thrs') )"
   ]
  },
  {
   "cell_type": "code",
   "execution_count": null,
   "id": "6a13dc3d",
   "metadata": {
    "hidden": true
   },
   "outputs": [],
   "source": [
    "# all corrs are negative within participants\n",
    "def f(df):\n",
    "    if len(df) == 0:\n",
    "        return None\n",
    "    ttrs = compare0(df, 'r')\n",
    "    return ttrs\n",
    "ttrs = corrs_per_subj.query('pert_stage_wb != -1').\\\n",
    "    groupby(['thr','pert_stage_wb']).apply(f)\n",
    "ttrs.query('pval <= 0.05')"
   ]
  },
  {
   "cell_type": "code",
   "execution_count": null,
   "id": "e7662967",
   "metadata": {
    "hidden": true
   },
   "outputs": [],
   "source": [
    "print(getAddInfo())\n",
    "with pd.option_context('display.min_rows',40):\n",
    "    display(\\\n",
    "        corrs_per_subj.query(qs + ' and pval < 0.05').groupby(['pert_stage_wb']).size()\n",
    "        )"
   ]
  },
  {
   "cell_type": "markdown",
   "id": "b4d9dd91",
   "metadata": {
    "hidden": true
   },
   "source": [
    "## err sens and trial"
   ]
  },
  {
   "cell_type": "code",
   "execution_count": null,
   "id": "6fdfe46b",
   "metadata": {
    "hidden": true
   },
   "outputs": [],
   "source": [
    "def f(df_):\n",
    "    r = pg.corr( df_['trialwpertstage_wb'], df_['err_sens'],  method='spearman')\n",
    "    r['method'] = 'spearman'\n",
    "    return r\n",
    "corrs_per_subj = dfallst.groupby(['thr','subject','pert_stage_wb']).apply(f)\n",
    "corrs_per_subj = corrs_per_subj.rename(columns={'p-val':'pval'})\n",
    "display(corrs_per_subj)\n",
    "\n",
    "corrs_per_subj_me = corrs_per_subj.\\\n",
    "    groupby(['thr','pert_stage_wb'])[['r','pval']].mean()\n",
    "corrs_per_subj_me['method'] = 'spearman'\n",
    "corrs_per_subj_me_ES = corrs_per_subj_me\n",
    "\n",
    "corrs_per_subj2 = dfallst.groupby(['thr','subject','ps_']).apply(f)\n",
    "corrs_per_subj2 = corrs_per_subj2.rename(columns={'p-val':'pval'})\n",
    "corrs_per_subj2_me = corrs_per_subj2.\\\n",
    "    groupby(['thr','ps_'])[['r','pval']].mean()\n",
    "corrs_per_subj2_me['method'] = 'spearman'\n",
    "corrs_per_subj2_me_ES = corrs_per_subj2_me\n",
    "\n",
    "corrs = dfallst.groupby(['thr','pert_stage_wb']).apply(f)\n",
    "corrs = corrs.rename(columns={'p-val':'pval'})\n",
    "display(corrs)\n",
    "\n",
    "\n",
    "\n",
    "def f(df_):\n",
    "    try:\n",
    "        r = pg.corr( df_['trialwpertstage_wb'], df_['err_sens'],  \n",
    "                    method='pearson')\n",
    "        r['method'] = 'pearson'\n",
    "        r['mean_x'] = df_['trialwpertstage_wb'].mean()\n",
    "        r['mean_y'] = df_['err_sens'].mean()\n",
    "        r['std_x'] = df_['trialwpertstage_wb'].std()\n",
    "        r['std_y'] = df_['err_sens'].std()\n",
    "    except ValueError as e:\n",
    "        return None\n",
    "    return r\n",
    "corrs_per_subj_me_pearson = dfallst.groupby(['thr','subject','pert_stage_wb']).apply(f)\n",
    "corrs_per_subj_me_pearson = corrs_per_subj_me_pearson.rename(columns={'p-val':'pval'})\n",
    "corrs_per_subj_me_pearson = corrs_per_subj_me_pearson.\\\n",
    "    groupby(['thr','pert_stage_wb'])[['r','pval',\n",
    "        'mean_x','mean_y','std_x','std_y']].mean()\n",
    "corrs_per_subj_me_pearson['method'] = 'pearson'\n",
    "corrs_per_subj_me_ES_pearson = corrs_per_subj_me_pearson"
   ]
  },
  {
   "cell_type": "code",
   "execution_count": null,
   "id": "e3de7686",
   "metadata": {
    "hidden": true
   },
   "outputs": [],
   "source": [
    "#corrs_per_subj2_me"
   ]
  },
  {
   "cell_type": "code",
   "execution_count": null,
   "id": "71dc5d1f",
   "metadata": {
    "hidden": true
   },
   "outputs": [],
   "source": [
    "#corrs_per_subj_me_ES_pearson"
   ]
  },
  {
   "cell_type": "code",
   "execution_count": null,
   "id": "414a72b0",
   "metadata": {
    "hidden": true
   },
   "outputs": [],
   "source": [
    "print(getAddInfo())\n",
    "with pd.option_context('display.min_rows',40):\n",
    "    display(\\\n",
    "        corrs_per_subj.query(qs + ' and pval < 0.05').groupby(['pert_stage_wb']).size()\n",
    "        )"
   ]
  },
  {
   "cell_type": "code",
   "execution_count": null,
   "id": "b312a2c1",
   "metadata": {
    "hidden": true
   },
   "outputs": [],
   "source": [
    "# pooled\n",
    "print(getAddInfo())\n",
    "thrs = [\"mestd*1.0\", \"mestd*0\"]\n",
    "qs = 'thr in @thrs'\n",
    "display( corrs.query('pval < 0.05 and thr in @thrs') )"
   ]
  },
  {
   "cell_type": "code",
   "execution_count": null,
   "id": "d590fc49",
   "metadata": {
    "hidden": true
   },
   "outputs": [],
   "source": [
    "# all corrs are positive within participants\n",
    "from behav_proc import compare0\n",
    "def f(df):\n",
    "    if len(df) == 0:\n",
    "        return None\n",
    "    ttrs = compare0(df, 'r')\n",
    "    return ttrs\n",
    "\n",
    "# print('pert_stage')\n",
    "# ttrs = corrs_per_subj.\\\n",
    "#     groupby(['thr','pert_stage']).apply(f)\n",
    "# print(getAddInfo())\n",
    "# display(ttrs.query('pval <= 0.05 and thr in @thrs'))\n",
    "\n",
    "print('pert_stage_wb')\n",
    "ttrs = corrs_per_subj.\\\n",
    "    groupby(['thr','pert_stage_wb']).apply(f)\n",
    "print(getAddInfo())\n",
    "display(ttrs.query('pval <= 0.05 and thr in @thrs'))\n",
    "\n",
    "print('ps_')\n",
    "ttrs = corrs_per_subj2.\\\n",
    "    groupby(['thr','ps_']).apply(f)\n",
    "print(getAddInfo())\n",
    "display(ttrs.query('pval <= 0.05 and thr in @thrs'))"
   ]
  },
  {
   "cell_type": "code",
   "execution_count": null,
   "id": "3476caeb",
   "metadata": {
    "hidden": true
   },
   "outputs": [],
   "source": [
    "#ttest_of_corr[ttest_of_corr['p-val'] < 5e-2]"
   ]
  },
  {
   "cell_type": "markdown",
   "id": "7472a885",
   "metadata": {
    "heading_collapsed": true
   },
   "source": [
    "# partial corr"
   ]
  },
  {
   "cell_type": "code",
   "execution_count": null,
   "id": "eab13db3",
   "metadata": {
    "hidden": true
   },
   "outputs": [],
   "source": [
    "dfs = []\n",
    "dfall['error_abs'] = dfall['error'].abs()\n",
    "dfall['prev_error_abs'] = dfall['prev_error'].abs()\n",
    "\n",
    "dfrs_per_subj = []\n",
    "dfrs_per_subj2 = []\n",
    "for varn in ['error','error_abs','prev_error','prev_error_abs']:\n",
    "    method = 'spearman'\n",
    "    def f(df_):\n",
    "        if len(df_) < 3:\n",
    "            return pd.DataFrame()\n",
    "        r = pg.partial_corr( df_, 'trialwpertstage_wb', 'err_sens', varn,  \n",
    "                            method=method)\n",
    "        return r\n",
    "    \n",
    "    dfall_  = dfall#.query('pert_stage_wb != -1')\n",
    "\n",
    "    pcorrs = dfall_.\\\n",
    "        groupby(['thr','pert_stage_wb']).apply(f).reset_index()\n",
    "    pcorrs['varn'] = varn\n",
    "    pcorrs['method'] = method\n",
    "    pcorrs = pcorrs.rename(columns={'p-val':'pval'})\n",
    "    dfs += [pcorrs]\n",
    "    #sigcorrs = pcorrs[pcorrs['pval'] < 5e-2]\n",
    "    #dfs += [sigcorrs]\n",
    "    \n",
    "    method = 'pearson'\n",
    "    def f(df_):\n",
    "        if len(df_) < 3:\n",
    "            return pd.DataFrame()\n",
    "        r = pg.partial_corr( df_, 'trialwpertstage_wb', \n",
    "                            'err_sens', varn,  \n",
    "                            method=method)\n",
    "        r['mean_x'] = df_['trialwpertstage_wb'].mean()\n",
    "        r['mean_y'] = df_['err_sens'].mean()\n",
    "        r['std_x'] = df_['trialwpertstage_wb'].std()\n",
    "        r['std_y'] = df_['err_sens'].std()\n",
    "        r['mean_z'] = df_[varn].mean()\n",
    "        return r\n",
    "    pcorrs_per_subj = dfall_.groupby(['thr','subject','pert_stage_wb']).apply(f)\n",
    "    #display(pcorrs_per_subj)\n",
    "    pcorrs_per_subj['varn'] = varn\n",
    "    pcorrs_per_subj['method'] = method\n",
    "    pcorrs_per_subj = pcorrs_per_subj.rename(columns={'p-val':'pval'})\n",
    "    dfrs_per_subj += [pcorrs_per_subj.reset_index()]\n",
    "    \n",
    "    pcorrs_per_subj2 = dfall_.groupby(['thr','subject','ps_']).apply(f)\n",
    "    pcorrs_per_subj2 = pcorrs_per_subj2.rename(columns={'p-val':'pval'})\n",
    "    pcorrs_per_subj2['varn'] = varn\n",
    "    pcorrs_per_subj2['method'] = method\n",
    "    \n",
    "    dfrs_per_subj2 += [pcorrs_per_subj2.reset_index()]\n",
    "#     pcorrs_per_subj2_me = pcorrs_per_subj2.\\\n",
    "#         groupby(['thr','ps_'])[['r','pval']].mean()\n",
    "#     pcorrs_per_subj2_me_ES = pcorrs_per_subj2_me\n",
    "    \n",
    "    \n",
    "    \n",
    "dfr = pd.concat(dfs, ignore_index=1)#.set_index('')\n",
    "dfr_per_subj = pd.concat(dfrs_per_subj, ignore_index=1)\n",
    "dfr_per_subj2 = pd.concat(dfrs_per_subj2, ignore_index=1)"
   ]
  },
  {
   "cell_type": "code",
   "execution_count": null,
   "id": "04ebfbb8",
   "metadata": {
    "hidden": true
   },
   "outputs": [],
   "source": [
    "# from behav_proc import corrMean\n",
    "# dfr_per_subj2_ = corrMean(dfall_, covar = varn, stagecol = 'ps_')\n",
    "\n",
    "# dfr_per_subj2.query('varn == \"prev_error_abs\"').groupby(['thr','ps_']).mean(numeric_only=1)\n",
    "\n",
    "#dfr_per_subj2_"
   ]
  },
  {
   "cell_type": "code",
   "execution_count": null,
   "id": "df3396f6",
   "metadata": {
    "hidden": true
   },
   "outputs": [],
   "source": [
    "dfr"
   ]
  },
  {
   "cell_type": "code",
   "execution_count": null,
   "id": "5e60a481",
   "metadata": {
    "hidden": true
   },
   "outputs": [],
   "source": [
    "pcorrs_per_subj = dfr_per_subj.query('varn == \"error_abs\"')\n",
    "pcorrs_per_subj_me = pcorrs_per_subj.\\\n",
    "    groupby(['thr','pert_stage_wb'])[['r','pval',\n",
    "        'mean_x','mean_y','std_x','std_y','mean_z']].mean()\n",
    "\n",
    "pcorrs_per_subj2 = dfr_per_subj2.query('varn == \"error_abs\"')\n",
    "pcorrs_per_subj2_me = pcorrs_per_subj2.\\\n",
    "    groupby(['thr','ps_'])[['r','pval',\n",
    "        'mean_x','mean_y','std_x','std_y','mean_z']].mean()\n",
    "\n",
    "pcorrs_per_subj3 = dfr_per_subj2.query('varn == \"prev_error_abs\"')\n",
    "pcorrs_per_subj3_me = pcorrs_per_subj3.\\\n",
    "    groupby(['thr','ps_'])[['r','pval',\n",
    "        'mean_x','mean_y','std_x','std_y','mean_z']].mean()"
   ]
  },
  {
   "cell_type": "code",
   "execution_count": null,
   "id": "7bece46b",
   "metadata": {
    "hidden": true
   },
   "outputs": [],
   "source": [
    "pcorrs_per_subj3_me"
   ]
  },
  {
   "cell_type": "code",
   "execution_count": null,
   "id": "c538c286",
   "metadata": {
    "hidden": true
   },
   "outputs": [],
   "source": [
    "pg.__version__"
   ]
  },
  {
   "cell_type": "code",
   "execution_count": null,
   "id": "481e3dd2",
   "metadata": {
    "hidden": true
   },
   "outputs": [],
   "source": [
    "gc.collect()"
   ]
  },
  {
   "cell_type": "code",
   "execution_count": null,
   "id": "4525df5a",
   "metadata": {
    "hidden": true
   },
   "outputs": [],
   "source": [
    "# all varn\n",
    "print(getAddInfo())\n",
    "with pd.option_context('display.max_rows', 500):\n",
    "    display(dfr.query('thr == \"mestd*1.0\" and pert_stage_wb in [1,3]'))\n",
    "    display(dfr.query('thr == \"mestd*1.0\" and pert_stage_wb in [0,2,4]'))"
   ]
  },
  {
   "cell_type": "code",
   "execution_count": null,
   "id": "44695afd",
   "metadata": {
    "hidden": true
   },
   "outputs": [],
   "source": [
    "# only prev err abs\n",
    "print(getAddInfo())\n",
    "thrs = [\"mestd*1.0\", \"mestd*0\"]\n",
    "qs = 'thr in @thrs'\n",
    "with pd.option_context('display.max_rows', 500):\n",
    "    dfr_ = dfr.query('varn == \"prev_error_abs\"')\n",
    "    display(dfr_.query(qs + ' and pert_stage_wb in [1,3]'))\n",
    "    display(dfr_.query(qs + ' and pert_stage_wb in [0,2,4]'))"
   ]
  },
  {
   "cell_type": "code",
   "execution_count": null,
   "id": "a2f8ac0c",
   "metadata": {
    "hidden": true
   },
   "outputs": [],
   "source": [
    "#dfr_per_subj"
   ]
  },
  {
   "cell_type": "code",
   "execution_count": null,
   "id": "cbf3a4b0",
   "metadata": {
    "hidden": true
   },
   "outputs": [],
   "source": [
    "# within participant 1 and 3 are neg, 4 is pos\n",
    "from behav_proc import compare0\n",
    "def f(df):\n",
    "    if len(df) == 0:\n",
    "        return None\n",
    "    ttrs = compare0(df, 'r')\n",
    "    return ttrs\n",
    "ttrs = dfr_per_subj.query('varn == \"prev_error_abs\"').\\\n",
    "    groupby(['thr','pert_stage_wb']).apply(f)\n",
    "print(getAddInfo())\n",
    "display(ttrs.query('pval <= 0.05 and thr in @thrs'))\n",
    "\n",
    "ttrs = dfr_per_subj2.query('varn == \"prev_error_abs\"').\\\n",
    "    groupby(['thr','ps_']).apply(f)\n",
    "print(getAddInfo())\n",
    "display(ttrs.query('pval <= 0.05 and thr in @thrs'))"
   ]
  },
  {
   "cell_type": "markdown",
   "id": "ff30b23b",
   "metadata": {
    "heading_collapsed": true,
    "hidden": true
   },
   "source": [
    "### within pert stage"
   ]
  },
  {
   "cell_type": "code",
   "execution_count": null,
   "id": "ad0764ec",
   "metadata": {
    "hidden": true
   },
   "outputs": [],
   "source": [
    "dfall['error_abs'] = dfall['error'].abs()\n",
    "def f(df_):\n",
    "    if len(df_) < 3:\n",
    "        return pd.DataFrame()\n",
    "    r = pg.partial_corr( df_, 'trialwpertstage_wb', 'err_sens', 'error_abs',  method='spearman')    \n",
    "    return r"
   ]
  },
  {
   "cell_type": "code",
   "execution_count": null,
   "id": "9c77edff",
   "metadata": {
    "hidden": true
   },
   "outputs": [],
   "source": [
    "persubj = dfall.groupby(['thr','subject','pert_stage_wb']).apply(f)\n",
    "   #['p-val']\n",
    "persubj['signif'] = persubj['p-val'] < 0.05\n",
    "persubj.query('signif').groupby(['thr','pert_stage_wb']).size()"
   ]
  },
  {
   "cell_type": "code",
   "execution_count": null,
   "id": "b4c1ade7",
   "metadata": {
    "hidden": true
   },
   "outputs": [],
   "source": [
    "dfall['error_abs'] = dfall['error'].abs()\n",
    "def f(df_):\n",
    "    if len(df_) < 3:\n",
    "        return pd.DataFrame()\n",
    "    #r = pg.partial_corr( df_, 'trialwtgt_wpertstage_wb', 'err_sens', 'error_abs',  method='spearman')    \n",
    "    r = pg.partial_corr( df_, 'trialwpertstage_wb', 'err_sens', 'error_abs',  method='spearman')    \n",
    "    return r"
   ]
  },
  {
   "cell_type": "code",
   "execution_count": null,
   "id": "8504ac59",
   "metadata": {
    "hidden": true
   },
   "outputs": [],
   "source": [
    "#pcorrs_per_subj = dfall.groupby(['thr','subject','env']).apply(f)\n",
    "#display(pcorrs_per_subj)\n",
    "\n",
    "print('pooled subj signif corr')\n",
    "pcorrs_ = dfall.groupby(['thr','pert_stage_wb']).apply(f)\n",
    "display(pcorrs_[pcorrs_['p-val'] < 0.05])\n",
    "\n",
    "print('average of within subj')\n",
    "pcorrs_per_subj_ = dfall.groupby(['thr','subject','pert_stage_wb']).apply(f).\\\n",
    "    groupby(['thr','pert_stage_wb'])['p-val'].mean().to_frame()\n",
    "display(pcorrs_per_subj_[pcorrs_per_subj_['p-val'] < 0.05])"
   ]
  },
  {
   "cell_type": "code",
   "execution_count": null,
   "id": "fd364258",
   "metadata": {
    "hidden": true
   },
   "outputs": [],
   "source": [
    "pcorrs_per_subj_r = dfall.groupby(['thr','subject','pert_stage_wb']).apply(f).\\\n",
    "    groupby(['thr','pert_stage_wb'])['r'].mean().to_frame()\n",
    "pcorrs_per_subj_r"
   ]
  },
  {
   "cell_type": "code",
   "execution_count": null,
   "id": "15c690c6",
   "metadata": {
    "hidden": true
   },
   "outputs": [],
   "source": [
    "persubj = dfall.groupby(['thr','subject','pert_stage_wb']).apply(f)\n",
    "   #['p-val']\n",
    "persubj['signif'] = persubj['p-val'] < 0.05\n",
    "persubj.query('signif').groupby(['thr','pert_stage_wb']).size()"
   ]
  },
  {
   "cell_type": "code",
   "execution_count": null,
   "id": "acdccc16",
   "metadata": {
    "hidden": true
   },
   "outputs": [],
   "source": [
    "persubj = dfall.groupby(['thr','subject','pert_stage']).apply(f)\n",
    "   #['p-val']\n",
    "persubj['signif'] = persubj['p-val'] < 0.05\n",
    "persubj.query('signif').groupby(['thr','pert_stage']).size()"
   ]
  },
  {
   "cell_type": "code",
   "execution_count": null,
   "id": "86d2f931",
   "metadata": {
    "hidden": true
   },
   "outputs": [],
   "source": [
    "persubj = dfall.groupby(['thr','subject','environment']).apply(f)\n",
    "   #['p-val']\n",
    "persubj['signif'] = persubj['p-val'] < 0.05\n",
    "persubj.query('signif').groupby(['thr','environment']).size()"
   ]
  },
  {
   "cell_type": "code",
   "execution_count": null,
   "id": "63c5ab6f",
   "metadata": {
    "hidden": true
   },
   "outputs": [],
   "source": [
    "pcorrs_per_subj_ = dfall.groupby(['thr','subject','pert_stage']).apply(f).\\\n",
    "    groupby(['thr','pert_stage'])['p-val'].mean().to_frame()\n",
    "display(pcorrs_per_subj_[pcorrs_per_subj_['p-val'] < 0.05])"
   ]
  },
  {
   "cell_type": "code",
   "execution_count": null,
   "id": "df88eabb",
   "metadata": {
    "hidden": true
   },
   "outputs": [],
   "source": [
    "# def f(df_):\n",
    "#     a = df_.query('env == \"stable\"')['r']\n",
    "#     b = df_.query('env == \"random\"')['r']\n",
    "#     rs = []\n",
    "#     for alt in ['two-sided','greater','less']:\n",
    "#         rs.append( pg.ttest( a, b, alternative = alt) )\n",
    "#     return pd.concat(rs)\n",
    "# ttest_of_pcorr = pcorrs_per_subj.groupby(['thr']).apply(f)\n",
    "# display(ttest_of_pcorr)\n",
    "\n",
    "pcorrs_ = dfall.groupby(['thr','pert_stage']).apply(f)#.to_frame()\n",
    "display(pcorrs_[pcorrs_['p-val'] < 0.05])"
   ]
  },
  {
   "cell_type": "markdown",
   "id": "78c5c3ae",
   "metadata": {
    "hidden": true
   },
   "source": []
  },
  {
   "cell_type": "markdown",
   "id": "c8a1949a",
   "metadata": {
    "heading_collapsed": true
   },
   "source": [
    "# corr with abs error (and prev) for plot"
   ]
  },
  {
   "cell_type": "code",
   "execution_count": null,
   "id": "c7475589",
   "metadata": {
    "hidden": true
   },
   "outputs": [],
   "source": [
    "# correlation between ES and abs err within env\n",
    "dfall['error_abs'] = dfall['error'].abs()\n",
    "dfall['prev_error_abs'] = dfall['prev_error'].abs()\n",
    "dfs = []\n",
    "for varn in ['error','error_abs','prev_error','prev_error_abs']:\n",
    "    def f(df_):\n",
    "        #df_.query('err_sens < inf')\n",
    "        r = pg.corr( df_[varn], df_['err_sens'],  method='spearman')\n",
    "        return r\n",
    "    corrs_abserr_per_subj = dfall.groupby(['thr','subject','env']).apply(f)\n",
    "    #display(corrs_abserr_per_subj)\n",
    "\n",
    "    corrs_abserr = dfall.groupby(['thr','env']).apply(f)\n",
    "    #display(corrs_abserr)\n",
    "\n",
    "    def f(df_):    \n",
    "        a = df_.query('env == \"stable\"')['r']\n",
    "        b = df_.query('env == \"random\"')['r']\n",
    "        #print(len(a),len(b),a.abs().min(),b.abs().min())\n",
    "        rs = []\n",
    "        for alt in ['two-sided','greater','less']:\n",
    "            #print(a.values, b.values)\n",
    "            rs.append( pg.ttest( a, b, alternative = alt) )\n",
    "        return pd.concat(rs)\n",
    "\n",
    "    #%debug\n",
    "    import warnings\n",
    "    #warnings.filterwarnings(\"error\")\n",
    "    warnings.filterwarnings(\"ignore\")\n",
    "    #with warnings.catch_warnings(record=True) as w:\n",
    "    ttest_of_corr_abserr = corrs_abserr_per_subj.\\\n",
    "        groupby(['thr']).apply(f)\n",
    "    ttest_of_corr_abserr['varn'] = varn\n",
    "    dfs += [ttest_of_corr_abserr]\n",
    "\n",
    "dfr = pd.concat(dfs)\n",
    "dfr = dfr.rename(columns={'p-val':'pval'})\n",
    "\n",
    "corrs_abserr = corrs_abserr.rename(columns={'p-val':'pval'})"
   ]
  },
  {
   "cell_type": "code",
   "execution_count": null,
   "id": "6d0f0bb5",
   "metadata": {
    "hidden": true
   },
   "outputs": [],
   "source": [
    "corrs_abserr_per_subj"
   ]
  },
  {
   "cell_type": "code",
   "execution_count": null,
   "id": "365121ee",
   "metadata": {
    "hidden": true
   },
   "outputs": [],
   "source": [
    "print(getAddInfo())\n",
    "#display( corrs[corrs['pval'] < 5e-2] )\n",
    "with pd.option_context('display.max_rows', 500):\n",
    "    dfr = dfr[dfr['pval'] <= 0.05]\n",
    "    display(dfr.query('thr == \"mestd*1.0\"' ))# and alternative==\"two-sided\"'))\n",
    "    #display(dfr.query('thr == \"mestd*1.0\" and pert_stage_wb in [0,2,4]'))"
   ]
  },
  {
   "cell_type": "code",
   "execution_count": null,
   "id": "4e6e5704",
   "metadata": {
    "hidden": true
   },
   "outputs": [],
   "source": [
    "print(getAddInfo())\n",
    "thrs = [\"mestd*1.0\", \"mestd*0\"]\n",
    "qs = 'thr in @thrs'\n",
    "corrs_ = corrs_abserr.query(qs)\n",
    "display( corrs_[corrs_['pval'] < 5e-2] )\n",
    "with pd.option_context('display.max_rows', 500):\n",
    "    dfr_ = dfr.query('varn == \"error_abs\" and pval < 0.05')\n",
    "    display(dfr_.query(qs))\n",
    "    #display(dfr_.query('thr == \"mestd*1.0\"))"
   ]
  },
  {
   "cell_type": "code",
   "execution_count": null,
   "id": "806d7fdb",
   "metadata": {
    "hidden": true
   },
   "outputs": [],
   "source": [
    "pg.__version__"
   ]
  },
  {
   "cell_type": "code",
   "execution_count": null,
   "id": "1880caff",
   "metadata": {
    "hidden": true
   },
   "outputs": [],
   "source": [
    "# signed error\n",
    "def f(df_):\n",
    "    r = pg.corr( df_['error'], df_['err_sens'],  method='spearman')\n",
    "    return r\n",
    "corrs_err_per_subj = dfall.groupby(['thr','subject','env']).apply(f)\n",
    "\n",
    "\n",
    "# preverror\n",
    "def f(df_):\n",
    "    r = pg.corr( df_['prev_error_abs'], df_['err_sens'],  method='spearman')\n",
    "    return r\n",
    "corrs_prevabserr_per_subj = dfall.groupby(['thr','subject','env']).apply(f)\n",
    "\n",
    "def f(df_):    \n",
    "    a = df_.query('env == \"stable\"')['r']\n",
    "    b = df_.query('env == \"random\"')['r']\n",
    "    rs = []\n",
    "    for alt in ['two-sided','greater','less']:\n",
    "        rs.append( pg.ttest( a, b, alternative = alt) )\n",
    "    return pd.concat(rs)\n",
    "ttest_of_corr_prevabserr = corrs_prevabserr_per_subj.groupby(['thr']).apply(f)\n",
    "display(ttest_of_corr_prevabserr)"
   ]
  },
  {
   "cell_type": "code",
   "execution_count": null,
   "id": "056be1e3",
   "metadata": {
    "hidden": true
   },
   "outputs": [],
   "source": [
    "#dfall.set_index()"
   ]
  },
  {
   "cell_type": "code",
   "execution_count": null,
   "id": "e7f9458b",
   "metadata": {
    "hidden": true
   },
   "outputs": [],
   "source": [
    "len(dfall), len(dfall_aug)"
   ]
  },
  {
   "cell_type": "code",
   "execution_count": null,
   "id": "a4154bcf",
   "metadata": {
    "hidden": true
   },
   "outputs": [],
   "source": [
    "#np.cov( df_['error_abs'].values[:10], df_['error_abs'].values[:10])"
   ]
  },
  {
   "cell_type": "code",
   "execution_count": null,
   "id": "81f8c637",
   "metadata": {
    "hidden": true
   },
   "outputs": [],
   "source": [
    "def f(df_):\n",
    "    #df_.query('err_sens < inf')\n",
    "    r = np.cov( df_['err_sens'].values, df_['error'].values )\n",
    "    return r[0,1] / r[1,1]\n",
    "covs_err_per_subj = dfall.groupby(['thr','subject','env']).apply(f).to_frame().reset_index().rename(columns={0:'cov'})\n",
    "\n",
    "def f(df_):\n",
    "    #df_.query('err_sens < inf')\n",
    "    r = np.cov( df_['err_sens'].values, df_['error_abs'].values )\n",
    "    return r[0,1] / r[1,1]\n",
    "covs_abserr_per_subj = dfall.groupby(['thr','subject','env']).apply(f).to_frame().reset_index().rename(columns={0:'covabs'})\n",
    "\n",
    "def f(df_):\n",
    "    #df_.query('err_sens < inf')\n",
    "    r = np.cov( df_['err_sens'].values, df_['prev_error_abs'].values  )\n",
    "    return r[0,1] / r[1,1]\n",
    "covs_prevabserr_per_subj = dfall.groupby(['thr','subject','env']).apply(f)\n",
    "covs_prevabserr_per_subj = covs_prevabserr_per_subj.to_frame().reset_index().rename(columns={0:'covabsprev'})\n",
    "\n",
    "display(covs_err_per_subj)\n",
    "display(covs_abserr_per_subj)\n",
    "display(covs_prevabserr_per_subj)"
   ]
  },
  {
   "cell_type": "code",
   "execution_count": null,
   "id": "27d213ed",
   "metadata": {
    "hidden": true
   },
   "outputs": [],
   "source": [
    "#dfall_aug.columns"
   ]
  },
  {
   "cell_type": "code",
   "execution_count": null,
   "id": "5819a556",
   "metadata": {
    "hidden": true
   },
   "outputs": [],
   "source": [
    "#dfall_aug.groupby(['thr','subject','env'])['r'].std().max()"
   ]
  },
  {
   "cell_type": "code",
   "execution_count": null,
   "id": "782b9d57",
   "metadata": {
    "hidden": true
   },
   "outputs": [],
   "source": [
    "dfall_aug = dfall.merge(covs_abserr_per_subj, on = ['thr','subject','env'])\n",
    "dfall_aug = dfall_aug.merge(covs_prevabserr_per_subj, on = ['thr','subject','env'])\n",
    "dfall_aug = dfall_aug.merge(covs_err_per_subj, on = ['thr','subject','env'])\n",
    "\n",
    "dfall_aug = dfall_aug.assign(err_sens_abserrcorr = \\\n",
    "            dfall_aug['err_sens'] - dfall_aug['error_abs'] * dfall_aug['covabs'])\n",
    "dfall_aug = dfall_aug.assign(err_sens_errcorr = \\\n",
    "            dfall_aug['err_sens'] - dfall_aug['error'] * dfall_aug['cov'])\n",
    "dfall_aug = dfall_aug.assign(err_sens_prevabserrcorr = \\\n",
    "            dfall_aug['err_sens'] - dfall_aug['prev_error_abs'] * dfall_aug['covabsprev'])\n",
    "\n",
    "#dfall_aug = dfall_aug.drop(columns=['r', 'ES_y'])"
   ]
  },
  {
   "cell_type": "code",
   "execution_count": null,
   "id": "8b7cc5ac",
   "metadata": {
    "hidden": true
   },
   "outputs": [],
   "source": [
    "dfall_aug[['err_sens','err_sens_abserrcorr','cov', 'error_abs']]"
   ]
  },
  {
   "cell_type": "code",
   "execution_count": null,
   "id": "c849e80d",
   "metadata": {
    "hidden": true
   },
   "outputs": [],
   "source": [
    "#df_[['err_sens','err_sens_prevabserrcorr']]"
   ]
  },
  {
   "cell_type": "code",
   "execution_count": null,
   "id": "9c2133c1",
   "metadata": {
    "hidden": true
   },
   "outputs": [],
   "source": [
    "# zoom in\n",
    "df_ = dfall_aug.query('thr == \"mestd*1.0\"').copy()\n",
    "c = 1 / np.pi  * 180\n",
    "for varn,pertc in [('error_pscadj', 1.), ('err_sens', 0.04), \n",
    "                   ('err_sens_prevabserrcorr', 0.04),\n",
    "        ('err_sens_abserrcorr', 0.04), ('err_sens_errcorr', 0.04),\n",
    "                   ]:\n",
    "    #varn = 'org_feedback'\n",
    "    #for varn in     \n",
    "    #for truncs, df in zip(['truncate q=5%','truncate no'],[dfc, dfc0]):\n",
    "    #for truncs, dfall in zip(['truncate q=5%'],[df_]):\n",
    "    varn_eff = varn\n",
    "    if varn.startswith('org_feedback'):\n",
    "        df_['vtp'] = np.array(df_[varn]) * c# - 180\n",
    "        varn_eff = 'vtp'\n",
    "    elif varn.startswith('error'):\n",
    "        df_['vtp'] = np.array(df_[varn]) * c \n",
    "        varn_eff = 'vtp'\n",
    "    #elif varn.startswith('err_sens'):\n",
    "    #    pert_shift = \n",
    "        #df['vtp'] = np.array(df[varn]) \n",
    "        #varn_eff = 'vtp'\n",
    "\n",
    "    #plt.figure(figsize=(18,4))\n",
    "    fg = sns.relplot(data=df_, kind='line', x=\"trials\", y=varn_eff, col='thr',\n",
    "                     estimator='mean', ci='sd', height=3, aspect=3)\n",
    "\n",
    "    for ax in fg.axes.flatten():\n",
    "        ax.plot(tr, pert * pertc, c='violet', ls= '--')\n",
    "        ax.plot(tr, envv * 30 * pertc, c='black', lw=0, marker='.' ,alpha=0.2)\n",
    "        #ax.set_title(f'{varn}  {truncs}')\n",
    "        ax.set_ylabel(varn )\n",
    "        ax.axhline(0,ls=':',c='red', alpha=0.7)\n",
    "        addTitleInfo(ax)\n",
    "    # sns.lineplot(ax=ax, x=\"trials\", y=\"perturbation\",\n",
    "    #              data=dfc.query('pert_seq_code == 0') )\n",
    "\n",
    "    #plt.legend(title=None, loc='lower right',\n",
    "    #           labels=['within tgt', '_nolegend_', 'across tgt'])\n",
    "    #ax.set_ylim(-0.25,0.3)\n",
    "    if varn.startswith('err_sens'):\n",
    "        for ax in fg.axes.flatten():\n",
    "            ax.set_ylim(-3,3)\n",
    "    else:\n",
    "        for ax in fg.axes.flatten():\n",
    "            ax.set_ylim(-35,35)"
   ]
  },
  {
   "cell_type": "code",
   "execution_count": null,
   "id": "5b73ce57",
   "metadata": {
    "hidden": true,
    "run_control": {
     "marked": false
    }
   },
   "outputs": [],
   "source": [
    "df_ = dfall_aug\n",
    "c = 1 / np.pi  * 180\n",
    "for varn,pertc in [('error_pscadj', 1.), ('err_sens', 0.04),                    \n",
    "        ('err_sens_abserrcorr', 0.04), \n",
    "                   ('err_sens_prevabserrcorr', 0.04),\n",
    "                  ('err_sens_errcorr', 0.04),]:\n",
    "    #varn = 'org_feedback'\n",
    "    #for varn in     \n",
    "    #for truncs, df in zip(['truncate q=5%','truncate no'],[dfc, dfc0]):\n",
    "    #for truncs, dfall in zip(['truncate q=5%'],[df_]):\n",
    "    varn_eff = varn\n",
    "    if varn.startswith('org_feedback'):\n",
    "        df_['vtp'] = np.array(df_[varn]) * c# - 180\n",
    "        varn_eff = 'vtp'\n",
    "    elif varn.startswith('error'):\n",
    "        df_['vtp'] = np.array(df_[varn]) * c \n",
    "        varn_eff = 'vtp'\n",
    "    #elif varn.startswith('err_sens'):\n",
    "    #    pert_shift = \n",
    "        #df['vtp'] = np.array(df[varn]) \n",
    "        #varn_eff = 'vtp'\n",
    "\n",
    "    #plt.figure(figsize=(12,4))\n",
    "    fg = sns.relplot(data=df_, kind='line', x=\"trials\", y=varn_eff, \n",
    "                     col='thr', estimator='mean', ci='sd', height=4)\n",
    "\n",
    "    for ax in fg.axes.flatten():\n",
    "        ax.plot(tr, pert * pertc, c='violet', ls= '--')\n",
    "        ax.plot(tr, envv * 30 * pertc, c='black', lw=0, marker='.' ,alpha=0.2)\n",
    "        #ax.set_title(f'{varn}  {truncs}')\n",
    "        ax.set_ylabel(varn, fontsize = 20 )\n",
    "        ax.axhline(0,ls=':',c='red', alpha=0.7)\n",
    "    # sns.lineplot(ax=ax, x=\"trials\", y=\"perturbation\",\n",
    "    #              data=dfc.query('pert_seq_code == 0') )\n",
    "\n",
    "    #plt.legend(title=None, loc='lower right',\n",
    "    #           labels=['within tgt', '_nolegend_', 'across tgt'])\n",
    "    #ax.set_ylim(-0.25,0.3)\n",
    "    if varn.startswith('err_sens'):\n",
    "        for ax in fg.axes.flatten():\n",
    "            ax.set_ylim(-5,5)\n",
    "    \n",
    "    addTitleInfo(fg.axes.flatten()[0])"
   ]
  },
  {
   "cell_type": "code",
   "execution_count": null,
   "id": "0079dc4f",
   "metadata": {
    "hidden": true
   },
   "outputs": [],
   "source": [
    "import gc; gc.collect()"
   ]
  },
  {
   "cell_type": "markdown",
   "id": "07f1080f",
   "metadata": {
    "heading_collapsed": true
   },
   "source": [
    "# Within pert stage time resolved plots (Fig 3)"
   ]
  },
  {
   "cell_type": "code",
   "execution_count": null,
   "id": "5514d9aa",
   "metadata": {
    "hidden": true
   },
   "outputs": [],
   "source": [
    "dfall = dfall.reset_index()"
   ]
  },
  {
   "cell_type": "code",
   "execution_count": null,
   "id": "6fcda0de",
   "metadata": {
    "hidden": true
   },
   "outputs": [],
   "source": [
    "dfc = dfall_aug.query('thr == \"mestd*1.0\"')\n",
    "dfc['trialwpertstage_wb'] = dfc['trialwpertstage_wb'].\\\n",
    "    where(dfc['environment'] == 0, dfc['trialwb'])\n",
    "dfc['trialwpertstage_wb'] = dfc['trialwpertstage_wb'].astype(int)\n",
    "\n",
    "assert not dfc.duplicated(['subject','trials']).any()\n",
    "# nan-ify after pause\n",
    "dfc.loc[dfc['trialwb'] == 0, 'err_sens'] = np.nan"
   ]
  },
  {
   "cell_type": "code",
   "execution_count": null,
   "id": "888395b4",
   "metadata": {
    "hidden": true
   },
   "outputs": [],
   "source": [
    "sns.__version__"
   ]
  },
  {
   "cell_type": "code",
   "execution_count": null,
   "id": "f9119bda",
   "metadata": {
    "hidden": true
   },
   "outputs": [],
   "source": [
    "dfall_notclean.query('thr == \"mestd*1.0\" and trialwpertstage_wb.isin([0,1]) and pert_stage_wb.isin([1,3])').\\\n",
    "    sort_values(['thr','subject',\n",
    "            'pert_stage','trials'])\\\n",
    "    [['subject','trials','trialwb','pert_stage','err_sens','error']]"
   ]
  },
  {
   "cell_type": "code",
   "execution_count": null,
   "id": "b1864813",
   "metadata": {
    "hidden": true
   },
   "outputs": [],
   "source": [
    "# dfc.query('trialwb == 0')\\\n",
    "#     [['subject','trials','trialwb','block_name','err_sens','error']]"
   ]
  },
  {
   "cell_type": "markdown",
   "id": "7a03de37",
   "metadata": {
    "hidden": true
   },
   "source": [
    "## Fig 3"
   ]
  },
  {
   "cell_type": "code",
   "execution_count": null,
   "id": "016fd431",
   "metadata": {
    "hidden": true
   },
   "outputs": [],
   "source": []
  },
  {
   "cell_type": "code",
   "execution_count": null,
   "id": "f39c2d05",
   "metadata": {
    "hidden": true
   },
   "outputs": [],
   "source": [
    "corrs_per_subj_me_.loc[('mestd*1.0',slice(None))].to_dict('dict')"
   ]
  },
  {
   "cell_type": "code",
   "execution_count": null,
   "id": "6fe29e44",
   "metadata": {
    "hidden": true
   },
   "outputs": [],
   "source": [
    "# calc slopes\n",
    "corrs_per_subj_me_  = corrMean(dfall, stagecol = 'ps_')\n",
    "pcorrs_per_subj_me_ = corrMean(dfall, covar = varn, stagecol = 'ps_')\n",
    "\n",
    "pswb2r = corrs_per_subj_me_.loc[('mestd*1.0',slice(None))].\\\n",
    "    to_dict()\n",
    "print(pswb2r)\n",
    "def f(row):\n",
    "    #ps = row['pert_stage_wb']\n",
    "    ps = row['ps_']\n",
    "    r = pswb2r['r'][ps]\n",
    "    std_x = pswb2r['std_x'][ps]\n",
    "    mean_x = pswb2r['mean_x'][ps]\n",
    "    std_y = pswb2r['std_y'][ps]\n",
    "    mean_y = pswb2r['mean_y'][ps]\n",
    "    xs = row['trialwpertstage_wb']\n",
    "    return mean_y + r * (xs - mean_x) / std_x * std_y \n",
    "dfc['pred'] = dfc.apply(f, axis=1)\n",
    "#corrs_per_subj_me_ES['r'] * dfc['error_abs']\n",
    "\n",
    "pswb2r = pcorrs_per_subj_me_.loc[('mestd*1.0',slice(None))].\\\n",
    "    to_dict()\n",
    "print(pswb2r)\n",
    "def f(row):\n",
    "    #ps = row['pert_stage_wb']\n",
    "    ps = row['ps_']\n",
    "    if ps == -1:\n",
    "        return None\n",
    "    r = pswb2r['r'][ps]\n",
    "    std_x = pswb2r['std_x'][ps]\n",
    "    mean_x = pswb2r['mean_x'][ps]\n",
    "    std_y = pswb2r['std_y'][ps]\n",
    "    mean_y = pswb2r['mean_y'][ps]\n",
    "    #mean_z =  pswb2r['mean_z'][ps]\n",
    "    xs = row['trialwpertstage_wb']\n",
    "    return mean_y + r * (xs - mean_x) / std_x * std_y# + mean_z\n",
    "dfc['ppred'] = dfc.apply(f, axis=1)"
   ]
  },
  {
   "cell_type": "code",
   "execution_count": null,
   "id": "63d953ca",
   "metadata": {
    "hidden": true
   },
   "outputs": [],
   "source": []
  },
  {
   "cell_type": "code",
   "execution_count": null,
   "id": "5257e6b7",
   "metadata": {
    "hidden": true,
    "run_control": {
     "marked": false
    }
   },
   "outputs": [],
   "source": [
    "# dfc['pred'] = corrs_per_subj_me_ES['r'] * dfc['error_abs']\n",
    "fdsfsd"
   ]
  },
  {
   "cell_type": "code",
   "execution_count": null,
   "id": "b48c56b3",
   "metadata": {
    "hidden": true
   },
   "outputs": [],
   "source": [
    "#fg.axes_dict.keys()\n",
    "#dict_keys(['pre', 'pert', 'washout', 'rnd'])\n",
    "#fg."
   ]
  },
  {
   "cell_type": "code",
   "execution_count": null,
   "id": "d82a0eff",
   "metadata": {
    "hidden": true
   },
   "outputs": [],
   "source": [
    "fg.col_names"
   ]
  },
  {
   "cell_type": "code",
   "execution_count": null,
   "id": "beac8935",
   "metadata": {},
   "outputs": [],
   "source": []
  },
  {
   "cell_type": "code",
   "execution_count": null,
   "id": "d2c77f68",
   "metadata": {
    "hidden": true
   },
   "outputs": [],
   "source": [
    "hue_order = dfc['pert_stage_wb'].unique()\n",
    "col_order = ['pre', 'pert', 'washout', 'rnd']\n",
    "hues = [[0],[1,3],[2,4],[5]]\n",
    "\n",
    "# TODO: add fit\n",
    "# TODO: start of pert\n",
    "# TODO: sd instead of se\n",
    "palette=['blue', 'orange', 'green', 'olive','cyan','brown']\n",
    "df_ = dfc.query('trial_shift_size == 1')\n",
    "fg = sns.relplot(data=df_, kind='line',\n",
    "            x='trialwpertstage_wb', col='ps_',\n",
    "           y='err_sens', hue='pert_stage_wb',\n",
    "                 ci = 'sd', palette = palette,\n",
    "           facet_kws={'sharex':False},\n",
    "                 hue_order=hue_order,\n",
    "            col_order = col_order, legend=None)\n",
    "# for ax in fg.axes.flatten():\n",
    "#     ax.axhline(0,ls=':',c='red', alpha=0.7)\n",
    "addTitleInfo(fg.axes.flat[0])\n",
    "    \n",
    "for i, ax in enumerate(fg.axes.flat):\n",
    "    col_ = fg.col_names[i]\n",
    "    if col_ == 'rnd':\n",
    "        continue\n",
    "    sp = np.array(palette)[hues[i]]\n",
    "    sp = list(sp)\n",
    "    sns.lineplot(data=df_[df_['ps_'] == col_], \n",
    "        x='trialwpertstage_wb', y='pred', \n",
    "        hue='pert_stage_wb', ax=ax, legend=None,\n",
    "                palette = sp, dashes=[4,2])\n",
    "    \n",
    "print(fg.hue_kws, fg.hue_names)\n",
    "fg.refline(y=0, color='red')\n",
    "#fg.map(plt.hist, 'tip').refline(0.15)\n",
    "    \n",
    "fg.set_titles('{col_name}')\n",
    "fg.set_xlabels('Trial number')\n",
    "fg.set_ylabels('Error sensitivy')\n",
    "    \n",
    "lablet = 'A'\n",
    "ax = fg.axes.flat[0]\n",
    "ax.annotate(lablet, xy=(0, 1), xytext=(-60, 40), \n",
    "  fontsize=19, fontweight='bold', va='top', ha='left',\n",
    "  xycoords='axes fraction', textcoords='offset points')\n",
    "fnfig = pjoin(path_fig, f'Fig3_{lablet}_dynESpert_stage.pdf')\n",
    "plt.savefig(fnfig)\n",
    "plt.tight_layout()\n",
    "plt.show()\n",
    "\n",
    "###############################\n",
    "\n",
    "#vn = 'err_sens_abserrcorr'\n",
    "vn = 'err_sens_prevabserrcorr'\n",
    "palette=['blue', 'orange', 'green', 'olive','cyan','brown']\n",
    "df_ = dfc.query('trial_shift_size == 1')\n",
    "fg = sns.relplot(data=df_, kind='line',\n",
    "            x='trialwpertstage_wb', col='ps_',\n",
    "           y=vn, hue='pert_stage_wb',\n",
    "                 ci = 'sd', palette = palette,\n",
    "           facet_kws={'sharex':False},\n",
    "                 hue_order=hue_order,\n",
    "            col_order = col_order, legend=None)\n",
    "# for ax in fg.axes.flatten():\n",
    "#     ax.axhline(0,ls=':',c='red', alpha=0.7)\n",
    "addTitleInfo(fg.axes.flat[0])\n",
    "    \n",
    "for i, ax in enumerate(fg.axes.flat):\n",
    "    col_ = fg.col_names[i]\n",
    "    if col_ == 'rnd':\n",
    "        continue\n",
    "    sp = np.array(palette)[hues[i]]\n",
    "    sp = list(sp)\n",
    "    sns.lineplot(data=df_[df_['ps_'] == col_], \n",
    "        x='trialwpertstage_wb', y='ppred', \n",
    "        hue='pert_stage_wb', ax=ax, legend=None,\n",
    "                palette = sp, dashes=[4,2])\n",
    "    \n",
    "print(fg.hue_kws, fg.hue_names)\n",
    "fg.refline(y=0, color='red')\n",
    "\n",
    "fg.set_titles('{col_name}')\n",
    "fg.set_xlabels('Trial number')\n",
    "fg.set_ylabels('Error sensitivy conditioned\\non previous absolute error')\n",
    "\n",
    "\n",
    "lablet = 'B'\n",
    "ax = fg.axes.flat[0]\n",
    "ax.annotate(lablet, xy=(0, 1), xytext=(-60, 40), \n",
    "  fontsize=19, fontweight='bold', va='top', ha='left',\n",
    "  xycoords='axes fraction', textcoords='offset points')\n",
    "fnfig = pjoin(path_fig, f'Fig3_{lablet}_dynESpert_stage.pdf')\n",
    "plt.savefig(fnfig)\n",
    "plt.tight_layout()\n",
    "plt.show()"
   ]
  },
  {
   "cell_type": "code",
   "execution_count": null,
   "id": "377076a7",
   "metadata": {
    "hidden": true
   },
   "outputs": [],
   "source": [
    "gc.collect()"
   ]
  },
  {
   "cell_type": "code",
   "execution_count": null,
   "id": "cbeb6aec",
   "metadata": {
    "hidden": true
   },
   "outputs": [],
   "source": [
    "#vn = 'err_sens_abserrcorr'\n",
    "vn = 'err_sens_prevabserrcorr'\n",
    "palette=['blue', 'orange', 'green', 'olive','cyan','brown']\n",
    "df_ = dfc.query('trial_shift_size == 1')\n",
    "fg = sns.relplot(data=df_, kind='line',\n",
    "            x='trialwpertstage_wb', col='ps_',\n",
    "           y=vn, hue='pert_stage_wb',\n",
    "                 ci = 'sd', palette = palette,\n",
    "           facet_kws={'sharex':False},\n",
    "                 hue_order=hue_order,\n",
    "            col_order = col_order, legend=None)\n",
    "# for ax in fg.axes.flatten():\n",
    "#     ax.axhline(0,ls=':',c='red', alpha=0.7)\n",
    "addTitleInfo(fg.axes.flat[0])\n",
    "    \n",
    "for i, ax in enumerate(fg.axes.flat):\n",
    "    col_ = fg.col_names[i]\n",
    "    if col_ == 'rnd':\n",
    "        continue\n",
    "    sp = np.array(palette)[hues[i]]\n",
    "    sp = list(sp)\n",
    "#     sns.lineplot(data=df_[df_['ps_'] == col_], \n",
    "#         x='trialwpertstage_wb', y='ppred', \n",
    "#         hue='pert_stage_wb', ax=ax, legend=None,\n",
    "#                 palette = sp, dashes=[4,2])\n",
    "print(fg.hue_kws, fg.hue_names)\n",
    "fg.refline(y=0, color='red')\n",
    "\n",
    "fg.set_titles('{col_name}')\n",
    "fg.set_xlabels('Trial number')\n",
    "fg.set_ylabels('Error sensitivy conditioned\\non absolut error')"
   ]
  },
  {
   "cell_type": "code",
   "execution_count": null,
   "id": "ced9d271",
   "metadata": {
    "hidden": true
   },
   "outputs": [],
   "source": [
    "#corrs_per_subj_me_errabs.info()"
   ]
  },
  {
   "cell_type": "code",
   "execution_count": null,
   "id": "4db9af69",
   "metadata": {
    "hidden": true
   },
   "outputs": [],
   "source": [
    "df_[['ps_','pert_stage_wb','err_sens','trialwpertstage_wb',\n",
    "    'subject']].info()"
   ]
  },
  {
   "cell_type": "code",
   "execution_count": null,
   "id": "f44e43c6",
   "metadata": {
    "hidden": true
   },
   "outputs": [],
   "source": [
    "dfc['ps_'].unique()"
   ]
  },
  {
   "cell_type": "code",
   "execution_count": null,
   "id": "5231a8fe",
   "metadata": {
    "hidden": true
   },
   "outputs": [],
   "source": []
  },
  {
   "cell_type": "code",
   "execution_count": null,
   "id": "90661b9b",
   "metadata": {
    "hidden": true
   },
   "outputs": [],
   "source": [
    "#dfc[['err_sens', 'err_sens_abserrcorr']]"
   ]
  },
  {
   "cell_type": "code",
   "execution_count": null,
   "id": "c466b7d5",
   "metadata": {
    "hidden": true
   },
   "outputs": [],
   "source": [
    "df_ = dfc.query('trial_shift_size == 1 and environment == 0 and pert_stage_wb in [1,3]')\n",
    "ax = sns.lineplot(x=\"trialwpertstage_wb\", \n",
    "        y='err_sens',  estimator='mean',\n",
    "                  #hue = 'pert_stage', # errorbar='se',\n",
    "                  hue = 'pert_stage', \n",
    "         data=df_, color='#DE8F03')#, hue='trial_group_col_calc')\n",
    "ax.legend(loc='lower right')\n",
    "ax.axhline(0,ls=':',c='red', alpha=0.7)\n",
    "ax.set_title('ES uncorr')\n",
    "addTitleInfo(ax)\n",
    "plt.show()\n",
    "\n",
    "ax = sns.lineplot(x=\"trialwpertstage_wb\", \n",
    "        y='err_sens_prevabserrcorr',  estimator='mean',\n",
    "                  #hue = 'pert_stage', # errorbar='se',\n",
    "                  hue = 'pert_stage', \n",
    "         data=df_, color='#DE8F03')#, hue='trial_group_col_calc')\n",
    "ax.legend(loc='lower right')\n",
    "ax.axhline(0,ls=':',c='red', alpha=0.7)\n",
    "ax.set_title('ES corr by prev abs err')\n",
    "addTitleInfo(ax)\n",
    "plt.show()\n",
    "\n",
    "ax = sns.lineplot(x=\"trialwpertstage_wb\", \n",
    "        y='err_sens_abserrcorr',  estimator='mean',\n",
    "                  #hue = 'pert_stage', # errorbar='se',\n",
    "                  hue = 'pert_stage', \n",
    "         data=df_, color='#DE8F03')#, hue='trial_group_col_calc')\n",
    "ax.legend(loc='lower right')\n",
    "ax.axhline(0,ls=':',c='red', alpha=0.7)\n",
    "ax.set_title('ES corr by abs err')\n",
    "addTitleInfo(ax)\n",
    "plt.show()\n",
    "\n",
    "ax = sns.lineplot(x=\"trialwpertstage_wb\", \n",
    "        y='err_sens_errcorr',  estimator='mean',\n",
    "                  #hue = 'pert_stage', # errorbar='se',\n",
    "                  hue = 'pert_stage', \n",
    "         data=df_, color='#DE8F03')#, hue='trial_group_col_calc')\n",
    "ax.legend(loc='lower right')\n",
    "ax.axhline(0,ls=':',c='red', alpha=0.7)\n",
    "ax.set_title('ES corr by err')\n",
    "addTitleInfo(ax)"
   ]
  },
  {
   "cell_type": "code",
   "execution_count": null,
   "id": "91b934cb",
   "metadata": {
    "hidden": true
   },
   "outputs": [],
   "source": [
    "gc.collect()"
   ]
  },
  {
   "cell_type": "markdown",
   "id": "bb5effbc",
   "metadata": {
    "heading_collapsed": true,
    "hidden": true
   },
   "source": [
    "### on one axis"
   ]
  },
  {
   "cell_type": "code",
   "execution_count": null,
   "id": "206dbd0e",
   "metadata": {
    "hidden": true
   },
   "outputs": [],
   "source": [
    "p = [0,2,4]\n",
    "\n",
    "df_ = dfc.query('trial_shift_size == 1 and environment == 0 and pert_stage_wb in @p')\n",
    "ax = sns.lineplot(x=\"trialwpertstage_wb\", \n",
    "        y='err_sens',  estimator='mean',\n",
    "                  #hue = 'pert_stage', # errorbar='se',\n",
    "                  hue = 'pert_stage', \n",
    "         data=df_, color='#DE8F03')#, hue='trial_group_col_calc')\n",
    "ax.legend(loc='lower right')\n",
    "ax.axhline(0,ls=':',c='red', alpha=0.7)\n",
    "ax.set_title('ES uncorr')\n",
    "addTitleInfo(ax)\n",
    "plt.show()\n",
    "\n",
    "ax = sns.lineplot(x=\"trialwpertstage_wb\", \n",
    "        y='err_sens_abserrcorr',  estimator='mean',\n",
    "                  #hue = 'pert_stage', # errorbar='se',\n",
    "                  hue = 'pert_stage', \n",
    "         data=df_, color='#DE8F03')#, hue='trial_group_col_calc')\n",
    "ax.legend(loc='lower right')\n",
    "ax.axhline(0,ls=':',c='red', alpha=0.7)\n",
    "ax.set_title('ES corr by abs err')\n",
    "addTitleInfo(ax)\n",
    "plt.show()\n",
    "\n",
    "ax = sns.lineplot(x=\"trialwpertstage_wb\", \n",
    "        y='err_sens_errcorr',  estimator='mean',\n",
    "                  #hue = 'pert_stage', # errorbar='se',\n",
    "                  hue = 'pert_stage', \n",
    "         data=df_, color='#DE8F03')#, hue='trial_group_col_calc')\n",
    "ax.legend(loc='lower right')\n",
    "ax.axhline(0,ls=':',c='red', alpha=0.7)\n",
    "ax.set_title('ES corr by err')\n",
    "addTitleInfo(ax)"
   ]
  },
  {
   "cell_type": "code",
   "execution_count": null,
   "id": "693a36d4",
   "metadata": {
    "hidden": true
   },
   "outputs": [],
   "source": [
    "df_ = dfc.query('trial_shift_size == 1 and environment == 1')\n",
    "ax = sns.lineplot(x=\"trialwb\", \n",
    "        y='err_sens',  estimator='mean',\n",
    "                  #hue = 'pert_stage', # errorbar='se',\n",
    "                  hue = 'block_name', \n",
    "         data=df_, color='#DE8F03')#, hue='trial_group_col_calc')\n",
    "ax.legend(loc='lower right')\n",
    "ax.axhline(0,ls=':',c='red', alpha=0.7)\n",
    "plt.show()\n",
    "\n",
    "df_ = dfc.query('trial_shift_size == 1 and environment == 1')\n",
    "ax = sns.lineplot(x=\"trialwb\", \n",
    "        y='err_sens_abserrcorr',  estimator='mean',\n",
    "                  #hue = 'pert_stage', # errorbar='se',\n",
    "                  hue = 'block_name', \n",
    "         data=df_, color='#DE8F03')#, hue='trial_group_col_calc')\n",
    "ax.legend(loc='lower right')\n",
    "ax.axhline(0,ls=':',c='red', alpha=0.7)"
   ]
  },
  {
   "cell_type": "code",
   "execution_count": null,
   "id": "7fb2fac3",
   "metadata": {
    "hidden": true
   },
   "outputs": [],
   "source": [
    "gc.collect()"
   ]
  },
  {
   "cell_type": "markdown",
   "id": "874445a9",
   "metadata": {},
   "source": [
    "# Variability (compare with Tan)"
   ]
  },
  {
   "cell_type": "code",
   "execution_count": null,
   "id": "6eb1781e",
   "metadata": {},
   "outputs": [],
   "source": [
    "del dfc,dfcs"
   ]
  },
  {
   "cell_type": "code",
   "execution_count": null,
   "id": "be6bd6f1",
   "metadata": {},
   "outputs": [],
   "source": [
    "import gc"
   ]
  },
  {
   "cell_type": "code",
   "execution_count": null,
   "id": "fbf79353",
   "metadata": {},
   "outputs": [],
   "source": [
    "#dfc = dfall_aug.query('thr == \"mestd*1.0\"')\n",
    "#dfc = dfall.query('thr == \"mestd*1.0\"')\n",
    "dfc = df_wthr.copy()\n",
    "dfc['trialwpertstage_wb'] = dfc['trialwpertstage_wb'].\\\n",
    "    where(dfc['environment'] == 0, dfc['trialwb'])\n",
    "dfc['trialwpertstage_wb'] = dfc['trialwpertstage_wb'].astype(int)\n",
    "\n",
    "dfc.duplicated(['subject','trials']).any()\n",
    "# nan-ify after pause\n",
    "dfc.loc[dfc['trialwb'] == 0, 'err_sens'] = np.nan\n",
    "\n",
    "def f(x):    \n",
    "    if x > np.pi:\n",
    "        x -= 2*np.pi\n",
    "    elif x < -np.pi:\n",
    "        x += 2*np.pi\n",
    "    return x\n",
    "dfc['error_pscadj'] = dfc['error_pscadj'].apply(f)\n",
    "\n",
    "dfc['error_change'] = dfc['error'] - dfc['error'].shift(1)\n",
    "def f(x):    \n",
    "    if x > np.pi:\n",
    "        x -= 2*np.pi\n",
    "    elif x < -np.pi:\n",
    "        x += 2*np.pi\n",
    "    return x\n",
    "dfc['error_change'] = dfc['error_change'].apply(f)\n",
    "\n",
    "dfc['error_pscadj_abs'] = dfc['error_pscadj'].abs()"
   ]
  },
  {
   "cell_type": "markdown",
   "id": "b985d646",
   "metadata": {},
   "source": [
    "## corr ES and variance (and other statistics)"
   ]
  },
  {
   "cell_type": "markdown",
   "id": "7e1dfc91",
   "metadata": {},
   "source": [
    "### fixed histlen across subjects"
   ]
  },
  {
   "cell_type": "code",
   "execution_count": null,
   "id": "8a638a1d",
   "metadata": {},
   "outputs": [],
   "source": [
    "dfcs = dfc.sort_values(\n",
    "    ['pert_seq_code', 'subject', 'trial_group_col_calc','trials']).copy()\n",
    "\n",
    "# good to add block name because we make a pause between so supposedly we loose memory about last errors\n",
    "grp = dfcs.\\\n",
    "    groupby(['pert_seq_code', 'subject', 'trial_group_col_calc','block_name'],\n",
    "           observed=True)\n",
    "\n",
    "# grp = dfcs.\\\n",
    "#     groupby(['trial_group_col_calc','subject'] )\n",
    "\n",
    "# mavsz = 10\n",
    "# std_mavsz = 5\n",
    "# #vars_to_plot = ['err_sens','error', 'org_feedback']\n",
    "# vars_to_plot = ['err_sens','error_pscadj', 'error_change'] #, 'org_feedback_pscadj']\n",
    "# for varn in vars_to_plot:\n",
    "#     for g,gi in grp.groups.items():\n",
    "#         dfcs.loc[gi,f'{varn}_mav'] = dfcs.loc[gi,varn].rolling(mavsz).mean()    \n",
    "#         dfcs.loc[gi,f'{varn}_std'] = dfcs.loc[gi,varn].rolling(std_mavsz).std()    \n",
    "\n",
    "# for varn in vars_to_plot:\n",
    "#     dfcs[f'{varn}_invstd'] = 1/dfcs[f'{varn}_std']\n",
    "\n",
    "for std_mavsz_ in range(30):\n",
    "    #vars_to_plot = ['err_sens','error', 'org_feedback']\n",
    "    vars_to_plot = ['err_sens','error_pscadj', 'error_change','error_pscadj_abs'] #, 'org_feedback_pscadj']\n",
    "    for varn in vars_to_plot:\n",
    "        for g,gi in grp.groups.items():\n",
    "            dfcs.loc[gi,f'{varn}_std{std_mavsz_}'] = dfcs.loc[gi,varn].shift(1).rolling(std_mavsz_).std()   \n",
    "            dfcs.loc[gi,f'{varn}_mav{std_mavsz_}'] = dfcs.loc[gi,varn].shift(1).rolling(std_mavsz_).mean()   \n",
    "                \n",
    "        dfcs[f'{varn}_invstd{std_mavsz_}'] = 1/dfcs[f'{varn}_std{std_mavsz_}']\n",
    "        dfcs[f'{varn}_var{std_mavsz_}']    = dfcs[f'{varn}_std{std_mavsz_}'] ** 2\n",
    "        dfcs[f'{varn}_mavsq{std_mavsz_}']  = dfcs[f'{varn}_mav{std_mavsz_}'] ** 2\n",
    "        dfcs[f'{varn}_mav_d_std{std_mavsz_}']  = dfcs[f'{varn}_mav{std_mavsz_}'].abs() / dfcs[f'{varn}_std{std_mavsz_}']\n",
    "        dfcs[f'{varn}_mav_d_var{std_mavsz_}']  = dfcs[f'{varn}_mav{std_mavsz_}'].abs() / dfcs[f'{varn}_var{std_mavsz_}']\n",
    "        dfcs[f'{varn}_Tan{std_mavsz_}']    = dfcs[f'{varn}_mavsq{std_mavsz_}'] / dfcs[f'{varn}_var{std_mavsz_}']\n",
    "dfcs0 = dfcs\n",
    "        \n",
    "# only chose points where prev error is not too small (to compare with ES later)\n",
    "dfs = []\n",
    "for mult in mults[-1:]:\n",
    "    df_ = dfcs0.copy()\n",
    "    df_wthrdf_ = df_[df_.error_deg.shift(1).abs() >= \\\n",
    "                     df_['error_deg_initstd'] * mult ]    \n",
    "    thr_s = f'mestd*{mult}'\n",
    "    df_wthrdf_['thr'] = thr_s\n",
    "    dfs += [df_wthrdf_]\n",
    "    print(thr_s, len(df_wthrdf_), len(df_))\n",
    "    \n",
    "dfall_notclean_ = pd.concat(dfs)\n",
    "# ttrs = pd.concat(ttrs)\n",
    "# ttrs = ttrs.rename(columns={'p-val':'pval'})\n",
    "\n",
    "from behav_proc import truncateDf\n",
    "dfcs_fixhistlen  = truncateDf(dfall_notclean_, 'err_sens', q=0.0, infnan_handling='discard', \n",
    "                   cols_uniqify = ['subject','env','thr'])\n",
    "\n",
    "gc.collect()"
   ]
  },
  {
   "cell_type": "markdown",
   "id": "c650d74e",
   "metadata": {
    "heading_collapsed": true
   },
   "source": [
    "#### supp plots"
   ]
  },
  {
   "cell_type": "code",
   "execution_count": null,
   "id": "46817ade",
   "metadata": {
    "hidden": true
   },
   "outputs": [],
   "source": [
    "df__ = dfcs.query('thr == \"mestd*1.0\"')\n",
    "df__['err_sens'].max()"
   ]
  },
  {
   "cell_type": "code",
   "execution_count": null,
   "id": "33801cf7",
   "metadata": {
    "hidden": true
   },
   "outputs": [],
   "source": []
  },
  {
   "cell_type": "code",
   "execution_count": null,
   "id": "40443fa7",
   "metadata": {
    "hidden": true
   },
   "outputs": [],
   "source": [
    "dfcs[dfcs['subject'].isin(subjects[:2])]"
   ]
  },
  {
   "cell_type": "code",
   "execution_count": null,
   "id": "65095af5",
   "metadata": {
    "hidden": true
   },
   "outputs": [],
   "source": [
    "# with warnings.catch_warnings():\n",
    "#     warnings.filterwarnings('ignore',category=FutureWarning)\n",
    "#     sns.catplot(data=dfcs[dfcs['subject'].isin(subjects[:2])], \n",
    "#                 kind='scatter',\n",
    "#                 y='err_sens', \n",
    "#             x=f'error_pscadj_std5', col='subject',\n",
    "#             col_wrap=5, hue='env' )"
   ]
  },
  {
   "cell_type": "code",
   "execution_count": null,
   "id": "934112a1",
   "metadata": {
    "hidden": true
   },
   "outputs": [],
   "source": [
    "#dfcs_ = dfcs[dfcs['subject'].isin(subjects[:2])]\n",
    "# one subj\n",
    "for subj in subjects[:6]:\n",
    "    with warnings.catch_warnings():\n",
    "        warnings.filterwarnings('ignore',category=FutureWarning)\n",
    "        sns.pairplot(data=dfcs.query('subject == @subj'), \n",
    "                     vars=['err_sens',\n",
    "                    f'error_pscadj_std5',\n",
    "                  f'error_pscadj_invstd5' ], hue='env' )"
   ]
  },
  {
   "cell_type": "code",
   "execution_count": null,
   "id": "2c5559ee",
   "metadata": {
    "hidden": true
   },
   "outputs": [],
   "source": [
    "# all subj\n",
    "with warnings.catch_warnings():\n",
    "    warnings.filterwarnings('ignore',category=FutureWarning)\n",
    "    sns.pairplot(data=dfcs, vars=['err_sens',f'error_pscadj_std5',\n",
    "                              f'error_pscadj_invstd5' ], hue='env' )"
   ]
  },
  {
   "cell_type": "code",
   "execution_count": null,
   "id": "e9dc78de",
   "metadata": {
    "hidden": true
   },
   "outputs": [],
   "source": [
    "with warnings.catch_warnings():\n",
    "    warnings.filterwarnings('ignore',category=FutureWarning)\n",
    "    sns.pairplot(data=dfcs.query('env == \"stable\"'), \n",
    "             vars=['err_sens',f'error_pscadj_std5',\n",
    "                              f'error_pscadj_invstd5',\n",
    "                               f'error_pscadj_mav5',\n",
    "                   f'error_pscadj_mavsq5',\n",
    "                   f'error_pscadj_mav_d_std5',\n",
    "                   f'error_pscadj_mav_d_var5',\n",
    "                  f'error_pscadj_Tan5' ],corner=1)"
   ]
  },
  {
   "cell_type": "code",
   "execution_count": null,
   "id": "bb37a520",
   "metadata": {
    "hidden": true
   },
   "outputs": [],
   "source": [
    "import gc\n",
    "gc.collect()"
   ]
  },
  {
   "cell_type": "markdown",
   "id": "cff8f1f4",
   "metadata": {
    "heading_collapsed": true
   },
   "source": [
    "#### stats"
   ]
  },
  {
   "cell_type": "code",
   "execution_count": null,
   "id": "8b14d580",
   "metadata": {
    "hidden": true
   },
   "outputs": [],
   "source": [
    "# compute corrs\n",
    "from behav_proc import compare0\n",
    "# env\n",
    "dfs = []\n",
    "import pingouin as pg\n",
    "cocoln2corrs_per_subj = {}\n",
    "for cocoln in ['None', 'env','ps_']:\n",
    "    for std_mavsz_ in range(30):\n",
    "        print(cocoln, std_mavsz_)\n",
    "        for varn0 in ['error_pscadj','error_pscadj_abs']:#'error_change']:\n",
    "            for varn in  [f'{varn0}_std{std_mavsz_}',\n",
    "                          f'{varn0}_invstd{std_mavsz_}',                     \n",
    "                         f'{varn0}_mavsq{std_mavsz_}',\n",
    "                          f'{varn0}_mav_d_std{std_mavsz_}',\n",
    "                          f'{varn0}_mav_d_var{std_mavsz_}',\n",
    "                         f'{varn0}_Tan{std_mavsz_}']:\n",
    "                def f(df_):\n",
    "                    r = pg.corr( df_[varn], df_['err_sens'],  method='spearman')\n",
    "                    r['method'] = 'spearman'\n",
    "                    return r\n",
    "                cols = ['thr','subject']\n",
    "                if cocoln != 'None':\n",
    "                    cols += [cocoln]\n",
    "                assert not dfcs_fixhistlen.duplicated(cols + ['trials']).any()\n",
    "                corrs_per_subj = dfcs_fixhistlen.groupby(cols, observed=True).apply(f)\n",
    "                corrs_per_subj = corrs_per_subj.rename(columns={'p-val':'pval'})\n",
    "                corrs_per_subj['std_mavsz'] = std_mavsz_\n",
    "                corrs_per_subj['varn'] = varn\n",
    "                dfs += [corrs_per_subj.reset_index()]\n",
    "        #display(corrs_per_subj)\n",
    "    corrs_per_subj = pd.concat(dfs, ignore_index=1)\n",
    "    cocoln2corrs_per_subj[cocoln] =     corrs_per_subj \n",
    "\n",
    "gc.collect()"
   ]
  },
  {
   "cell_type": "code",
   "execution_count": null,
   "id": "60fa5765",
   "metadata": {
    "hidden": true
   },
   "outputs": [],
   "source": [
    "#cocoln2corrs_per_subj.keys()"
   ]
  },
  {
   "cell_type": "code",
   "execution_count": null,
   "id": "eaab0037",
   "metadata": {
    "hidden": true
   },
   "outputs": [],
   "source": [
    "# all trial together\n",
    "def f(df):\n",
    "    if len(df) == 0:\n",
    "        return None\n",
    "    ttrs = compare0(df, 'r')\n",
    "    return ttrs\n",
    "ttrs = cocoln2corrs_per_subj['None'].\\\n",
    "    groupby(['thr','varn'], observed=True).apply(f)\n",
    "print(getAddInfo())\n",
    "display(ttrs.query('pval <= 0.05 and thr in @thrs and ttstr == \"r < 0\"')\\\n",
    "        [['pval','ttstr']])\n",
    "\n",
    "ttrs_pos = ttrs.query('pval <= 0.05 and thr in @thrs and ttstr == \"r > 0\"')\n",
    "display(ttrs_pos[['pval','ttstr']])\n",
    "varnames = list(ttrs_pos.reset_index()['varn'].values)\n",
    "print(varnames)\n",
    "\n",
    "print( ', '.join(varnames) )"
   ]
  },
  {
   "cell_type": "code",
   "execution_count": null,
   "id": "49e5228f",
   "metadata": {
    "hidden": true
   },
   "outputs": [],
   "source": [
    "varnames = list(ttrs_pos.reset_index()['varn'].values)\n",
    "print(varnames)\n",
    "for env in ['stable','random']:\n",
    "    with warnings.catch_warnings():\n",
    "        warnings.filterwarnings('ignore',category=FutureWarning)\n",
    "        me = dfcs_fixhistlen.query('thr == \"mestd*1.0\" and env == @env').\\\n",
    "            groupby(['subject','env'])[['err_sens']+varnames].mean().reset_index()\n",
    "        fg = sns.pairplot(data=me, \n",
    "                 y_vars = ['err_sens'], hue='env',\n",
    "                     x_vars=['err_sens'] + varnames)#,corner=1)\n",
    "        \n",
    "me = dfcs_fixhistlen.query('thr == \"mestd*1.0\"').\\\n",
    "    groupby(['subject'])[['err_sens']+varnames].mean().reset_index()\n",
    "fg = sns.pairplot(data=me, \n",
    "         y_vars = ['err_sens'], \n",
    "             x_vars=['err_sens'] + varnames)#,corner=1)"
   ]
  },
  {
   "cell_type": "code",
   "execution_count": null,
   "id": "d429140e",
   "metadata": {
    "hidden": true
   },
   "outputs": [],
   "source": [
    "gc.collect()"
   ]
  },
  {
   "cell_type": "code",
   "execution_count": null,
   "id": "70f3523f",
   "metadata": {
    "hidden": true
   },
   "outputs": [],
   "source": [
    "# ENV\n",
    "# all corrs are positive within participants\n",
    "from behav_proc import compare0\n",
    "def f(df):\n",
    "    if len(df) == 0:\n",
    "        return None\n",
    "    ttrs = compare0(df, 'r')\n",
    "    return ttrs\n",
    "ttrs = cocoln2corrs_per_subj['env'].\\\n",
    "    groupby(['thr','varn','env'], observed=True).apply(f)\n",
    "print(getAddInfo())\n",
    "#display(ttrs.query('pval <= 0.05 and thr in @thrs')\\\n",
    "#        [['pval','ttstr']])\n",
    "\n",
    "ttrs_pos = ttrs.query('pval <= 0.05 and thr in @thrs and ttstr == \"r > 0\"')\n",
    "print('All pos, both envs (separately/)')\n",
    "display(ttrs_pos[['pval','ttstr']])\n",
    "\n",
    "env2varnames = {}\n",
    "for env in ['stable','random']:\n",
    "    ttrs_pos = ttrs.query('pval <= 0.05 and thr in @thrs and ttstr == \"r > 0\" and'\n",
    "                         ' env == @env')\n",
    "#display(ttrs_pos[['pval','ttstr']])\n",
    "    varnames = list(ttrs_pos.reset_index()['varn'].values)\n",
    "    env2varnames[env] = varnames\n",
    "print('isec varnames', set(env2varnames['stable']) & set(env2varnames['random']) )\n",
    "#print(varnames)\n",
    "\n",
    "display( env2varnames )"
   ]
  },
  {
   "cell_type": "code",
   "execution_count": null,
   "id": "44b07e65",
   "metadata": {
    "hidden": true
   },
   "outputs": [],
   "source": [
    "s.replace('error_pscadj_abs','Error magnitude')"
   ]
  },
  {
   "cell_type": "code",
   "execution_count": null,
   "id": "7ed6c29b",
   "metadata": {
    "hidden": true
   },
   "outputs": [],
   "source": [
    "from behav_proc import formatRecentStatVarnames\n",
    "isec_nice = formatRecentStatVarnames(isec)\n",
    "display(isec_nice)\n",
    "print('; '.join(isec_nice))"
   ]
  },
  {
   "cell_type": "code",
   "execution_count": null,
   "id": "fa35e8ce",
   "metadata": {
    "hidden": true
   },
   "outputs": [],
   "source": [
    "isec = set(env2varnames['stable']) & set(env2varnames['random'])\n",
    "print('If we fix the history length first, then compute correlation '\n",
    "      'within participant (separately for both environments)'\n",
    "      ' and then choose variables for which r>0 stat significantly in both environments'\n",
    "      ' simultaneously, we get ',', '.join(list(isec) ) )"
   ]
  },
  {
   "cell_type": "code",
   "execution_count": null,
   "id": "a4632449",
   "metadata": {
    "hidden": true
   },
   "outputs": [],
   "source": [
    "#ttrs.query('varn == \"error_pscadj_invstd10\"')"
   ]
  },
  {
   "cell_type": "code",
   "execution_count": null,
   "id": "6afcb5ea",
   "metadata": {
    "hidden": true
   },
   "outputs": [],
   "source": [
    "varnames = list(ttrs_pos.reset_index()['varn'].values)\n",
    "print(varnames)\n",
    "for env in ['stable','random']:\n",
    "    plt.figure()\n",
    "    with warnings.catch_warnings():\n",
    "        warnings.filterwarnings('ignore',category=FutureWarning)\n",
    "        fg = sns.pairplot(data=dfcs.query('thr == \"mestd*1.0\" and env == @env').\\\n",
    "            groupby(['subject','env'])[['err_sens']+env2varnames[env]].mean().reset_index(), \n",
    "            y_vars = ['err_sens'], hue='env',\n",
    "            x_vars=['err_sens'] + env2varnames[env])#,corner=1)"
   ]
  },
  {
   "cell_type": "code",
   "execution_count": null,
   "id": "f1f95f7c",
   "metadata": {
    "hidden": true
   },
   "outputs": [],
   "source": [
    "# You are an expert in python pandas and data science.\n",
    "# I have a pandas dataframe with the following columns\n",
    "# ttrs_pos.columns = ['alt', 'val1', 'ttstr','varn','env']\n",
    "# 'ttstr' can take two possible string values '>0' and '<0'. \n",
    "# 'env' can take two string values 'stable' and 'random'. \n",
    "# 'varn' can take several possible string values.\n",
    "# I want to select rows that have ttstr = '>0' for both stable and random values of 'env'.\n",
    "# How to do it?"
   ]
  },
  {
   "cell_type": "code",
   "execution_count": null,
   "id": "163db1b4",
   "metadata": {
    "hidden": true
   },
   "outputs": [],
   "source": [
    "ttrs_pos.columns"
   ]
  },
  {
   "cell_type": "code",
   "execution_count": null,
   "id": "288bbe9d",
   "metadata": {
    "hidden": true
   },
   "outputs": [],
   "source": [
    "# PS_\n",
    "# all corrs are positive within participants\n",
    "from behav_proc import compare0\n",
    "def f(df):\n",
    "    if len(df) == 0:\n",
    "        return None\n",
    "    ttrs = compare0(df, 'r')\n",
    "    return ttrs\n",
    "ttrs = cocoln2corrs_per_subj['ps_'].\\\n",
    "    groupby(['thr','varn','ps_'], observed=True).apply(f)\n",
    "print(getAddInfo())\n",
    "ttrssig = ttrs.query('pval <= 0.05 and thr in @thrs')\n",
    "display(ttrssig[['pval','ttstr','T']])\n",
    "\n",
    "ttrs_pos = ttrs.query('pval <= 0.05 and thr in @thrs and ttstr == \"r > 0\"')\n",
    "display(ttrs_pos[['pval','ttstr']])\n",
    "varnames = list(ttrs_pos.reset_index()['varn'].values)\n",
    "print(varnames)\n",
    "#loc[:,'error_pscadj_std5',:]\n",
    "\n",
    "# ttrs = corrs_per_subj2.\\\n",
    "#     groupby(['thr','ps_']).apply(f)\n",
    "# print(getAddInfo())\n",
    "# display(ttrs.query('pval <= 0.05 and thr in @thrs'))"
   ]
  },
  {
   "cell_type": "code",
   "execution_count": null,
   "id": "20a90b13",
   "metadata": {
    "hidden": true
   },
   "outputs": [],
   "source": [
    "ps_v = dfall.reset_index()['ps_'].unique()\n",
    "len(ps_v)"
   ]
  },
  {
   "cell_type": "code",
   "execution_count": null,
   "id": "06c581df",
   "metadata": {
    "hidden": true
   },
   "outputs": [],
   "source": [
    "nu = ttrssig.reset_index().groupby(['varn'])[['ttstr','ps_']].nunique()\n",
    "nu = nu.reset_index()\n",
    "nu"
   ]
  },
  {
   "cell_type": "code",
   "execution_count": null,
   "id": "508b3bc9",
   "metadata": {
    "hidden": true,
    "run_control": {
     "marked": false
    }
   },
   "outputs": [],
   "source": [
    "varns_good = nu[nu['ps_'] == len(ps_v)].varn.values\n",
    "varns_good"
   ]
  },
  {
   "cell_type": "code",
   "execution_count": null,
   "id": "29476d90",
   "metadata": {
    "hidden": true
   },
   "outputs": [],
   "source": [
    "ttrssig.reset_index().query('varn in @varns_good')\\\n",
    "    [['varn','ps_','pval','ttstr']]"
   ]
  },
  {
   "cell_type": "markdown",
   "id": "a823fb4d",
   "metadata": {
    "heading_collapsed": true
   },
   "source": [
    "### Histlen individ per subject"
   ]
  },
  {
   "cell_type": "code",
   "execution_count": null,
   "id": "86f046d3",
   "metadata": {
    "hidden": true
   },
   "outputs": [],
   "source": [
    "# dfcs_multi\n",
    "# good to add block name because we make a pause between so supposedly we loose memory about last errors\n",
    "dfcs = dfc.sort_values(\n",
    "    ['pert_seq_code', 'subject', 'trial_group_col_calc','trials'])\n",
    "grp = dfcs.\\\n",
    "    groupby(['pert_seq_code', 'subject', 'trial_group_col_calc','block_name'],\n",
    "           observed=True)\n",
    "\n",
    "vars_to_av = ['error_pscadj', 'error_pscadj_abs'] \n",
    "\n",
    "dfs = []\n",
    "#for std_mavsz_ in range(2,4):\n",
    "for std_mavsz_ in range(2,30):    \n",
    "    print(std_mavsz_)\n",
    "    df_ = dfcs.copy()\n",
    "    df_['histlen'] = std_mavsz_\n",
    "    for varn in vars_to_av:\n",
    "        for g,gi in grp.groups.items():\n",
    "            df_.loc[gi,f'{varn}_std'] = df_.loc[gi,varn].shift(1).rolling(std_mavsz_).std()   \n",
    "            df_.loc[gi,f'{varn}_mav'] = df_.loc[gi,varn].shift(1).rolling(std_mavsz_).mean()   \n",
    "                \n",
    "        df_[f'{varn}_invstd'] = 1/df_[f'{varn}_std']\n",
    "        df_[f'{varn}_var']    = df_[f'{varn}_std'] ** 2\n",
    "        df_[f'{varn}_mavsq']  = df_[f'{varn}_mav'] ** 2\n",
    "        df_[f'{varn}_mav_d_std']  = df_[f'{varn}_mav'].abs() / df_[f'{varn}_std']\n",
    "        df_[f'{varn}_mav_d_var']  = df_[f'{varn}_mav'].abs() / df_[f'{varn}_var']\n",
    "        df_[f'{varn}_Tan']    = df_[f'{varn}_mavsq'] / df_[f'{varn}_var']\n",
    "    dfs += [df_]        \n",
    "dfcs0 = pd.concat(dfs, ignore_index=True)\n",
    "\n",
    "# only chose points where prev error is not too small (to compare with ES later)\n",
    "dfs = []\n",
    "for mult in mults[-1:]:\n",
    "    df_ = dfcs0.copy()\n",
    "    df_wthrdf_ = df_[df_.error_deg.shift(1).abs() >= \\\n",
    "                     df_['error_deg_initstd'] * mult ]    \n",
    "    thr_s = f'mestd*{mult}'\n",
    "    df_wthrdf_['thr'] = thr_s\n",
    "    dfs += [df_wthrdf_]\n",
    "    print(thr_s, len(df_wthrdf_), len(df_))\n",
    "    \n",
    "dfall_notclean_ = pd.concat(dfs, ignore_index=True)\n",
    "\n",
    "dfcs_multi  = truncateDf(dfall_notclean_, 'err_sens', q=0.0, infnan_handling='discard', \n",
    "                   cols_uniqify = ['subject','env','thr','histlen'])\n",
    "\n",
    "gc.collect()"
   ]
  },
  {
   "cell_type": "code",
   "execution_count": null,
   "id": "4bfb2cab",
   "metadata": {
    "hidden": true
   },
   "outputs": [],
   "source": [
    "# compute corrs\n",
    "from behav_proc import compare0\n",
    "# env\n",
    "histlens = dfcs_multi['histlen'].unique()\n",
    "dfs = []\n",
    "import pingouin as pg\n",
    "for cocoln in ['None', 'env']:#,'ps_']:\n",
    "    #for std_mavsz_ in histlens:    \n",
    "    for varn0 in ['error_pscadj','error_pscadj_abs']:\n",
    "        for varn in  [f'{varn0}_std',\n",
    "                      f'{varn0}_invstd',                     \n",
    "                     f'{varn0}_mavsq',\n",
    "                      f'{varn0}_mav_d_std',\n",
    "                      f'{varn0}_mav_d_var',\n",
    "                     f'{varn0}_Tan']:            \n",
    "            def f(df_):\n",
    "                r = pg.corr( df_[varn], df_['err_sens'],  method='spearman')\n",
    "                r['method'] = 'spearman'\n",
    "                return r\n",
    "            cols = ['histlen','thr','subject']\n",
    "            if cocoln != 'None':\n",
    "                cols += [cocoln]\n",
    "            print('Starting ' ,cocoln, varn, cols)\n",
    "            assert not dfcs_multi.duplicated(cols + ['trials']).any()\n",
    "            corrs_per_subj = dfcs_multi.groupby(cols, observed=True).apply(f)\n",
    "            corrs_per_subj = corrs_per_subj.rename(columns={'p-val':'pval'})            \n",
    "            corrs_per_subj['varn'] = varn                    \n",
    "            corrs_per_subj['cocoln'] = cocoln #corrs_per_subj \n",
    "            dfs += [corrs_per_subj.reset_index()]\n",
    "    \n",
    "cocoln2corrs_per_subj_multi = pd.concat(dfs, ignore_index = True)\n",
    "\n",
    "gc.collect()"
   ]
  },
  {
   "cell_type": "code",
   "execution_count": null,
   "id": "f1cbf5b6",
   "metadata": {
    "hidden": true
   },
   "outputs": [],
   "source": [
    "# for each subj choose hist len that is the best (that gives lowest p-value)"
   ]
  },
  {
   "cell_type": "code",
   "execution_count": null,
   "id": "2e61aab7",
   "metadata": {
    "hidden": true,
    "run_control": {
     "marked": true
    }
   },
   "outputs": [],
   "source": [
    "# df_ = cocoln2corrs_per_subj_multi.query('cocoln == \"None\"')\n",
    "# grp = df_.groupby(['thr','subject','varn'] )\n",
    "# dfr = aggRows(df_, 'pval', 'min',  grp, coltake = 'corresp') \n",
    "\n",
    "# display( dfr.groupby(['thr','varn'])['histlen'].describe() )\n",
    "# display( dfr.groupby(['thr','varn'])['pval'].describe() )"
   ]
  },
  {
   "cell_type": "code",
   "execution_count": null,
   "id": "811b3e30",
   "metadata": {
    "hidden": true
   },
   "outputs": [],
   "source": [
    "# ttrs_pos = ttrs.query('pval <= 0.05 and thr in @thrs and ttstr == \"r > 0\"')\n",
    "# print('All pos, both envs (separately/)')\n",
    "# display(ttrs_pos[['pval','ttstr']])\n",
    "\n",
    "# env2varnames = {}\n",
    "# for env in ['stable','random']:\n",
    "#     ttrs_pos = ttrs.query('pval <= 0.05 and thr in @thrs and ttstr == \"r > 0\" and'\n",
    "#                          ' env == @env')\n",
    "# #display(ttrs_pos[['pval','ttstr']])\n",
    "#     varnames = list(ttrs_pos.reset_index()['varn'].values)\n",
    "#     env2varnames[env] = varnames\n",
    "# print('isec varnames', set(env2varnames['stable']) & set(env2varnames['random']) )"
   ]
  },
  {
   "cell_type": "code",
   "execution_count": null,
   "id": "42221e31",
   "metadata": {
    "hidden": true
   },
   "outputs": [],
   "source": [
    "#ttrs"
   ]
  },
  {
   "cell_type": "code",
   "execution_count": null,
   "id": "2f5d4ae9",
   "metadata": {
    "hidden": true
   },
   "outputs": [],
   "source": [
    "env2varnames = {}\n",
    "for env in ['stable','random']:\n",
    "    ttrs_pos = ttrs.query('pval <= 0.05 and thr in @thrs and ttstr == \"r > 0\" and'\n",
    "                         ' env == @env')\n",
    "#display(ttrs_pos[['pval','ttstr']])\n",
    "    varnames = list(ttrs_pos.reset_index()['varn'].values)\n",
    "    env2varnames[env] = varnames\n",
    "list(set(env2varnames['stable'] ) &  set(env2varnames['random'] ) )"
   ]
  },
  {
   "cell_type": "code",
   "execution_count": null,
   "id": "f7f9f58e",
   "metadata": {
    "hidden": true
   },
   "outputs": [],
   "source": [
    "def printNice(ttrs):\n",
    "    for rowi,row in ttrs.iterrows():\n",
    "        varn = row['varn']\n",
    "        varn_nice = formatRecentStatVarnames([varn],'')[0]\n",
    "        s = varn_nice\n",
    "        s += f\" (history length mean={row['histlen_mean']:.1f} trials, std={row['histlen_std']:.1f} trials)\"\n",
    "        print(s)"
   ]
  },
  {
   "cell_type": "code",
   "execution_count": null,
   "id": "2622dd5d",
   "metadata": {
    "hidden": true
   },
   "outputs": [],
   "source": [
    "from behav_proc import formatRecentStatVarnames\n",
    "isec_nice = formatRecentStatVarnames(isec)\n",
    "display(isec_nice)\n",
    "print('; '.join(isec_nice))"
   ]
  },
  {
   "cell_type": "code",
   "execution_count": null,
   "id": "60cb1df7",
   "metadata": {
    "hidden": true
   },
   "outputs": [],
   "source": [
    "def f(df):\n",
    "    if len(df) == 0:\n",
    "        return None\n",
    "    ttrs = compare0(df, 'r', cols_addstat = ['histlen'])\n",
    "    return ttrs\n",
    "\n",
    "for cocoln in ['None', 'env']: #,'ps_']:\n",
    "    print('###### cocoln = ',cocoln)\n",
    "    \n",
    "    # choose best p-value among different histlens\n",
    "    if cocoln != 'None':\n",
    "        cocoln_add = [cocoln]\n",
    "    else:\n",
    "        cocoln_add = []\n",
    "    df_ = cocoln2corrs_per_subj_multi.query('cocoln == @cocoln')\n",
    "    cols0 = ['thr','subject','varn']    \n",
    "    cols0 += cocoln_add\n",
    "    grp = df_.groupby(cols0, observed=True )\n",
    "    dfr = aggRows(df_, 'pval', 'min',  grp, coltake = 'corresp') \n",
    "    \n",
    "    display('r info:', dfr.\\\n",
    "        groupby(cocoln_add + ['thr','varn'], observed=True)['r'].describe() )\n",
    "    display('(for r>0) histlen info:', \n",
    "        dfr.query('r > 0').groupby(cocoln_add + ['thr','varn'], \n",
    "                                   observed=True)['histlen'].describe() )\n",
    "    display('(for r>0) pval info:', \n",
    "        dfr.query('r > 0').groupby(cocoln_add + ['thr','varn'], \n",
    "                                   observed=True)['pval'].describe() )\n",
    "        \n",
    "    cols1 = ['thr','varn']\n",
    "    cols1 += cocoln_add\n",
    "    ttrs = dfr.\\\n",
    "        groupby(cols1, observed=True).apply(f).reset_index()\n",
    "    print(getAddInfo())\n",
    "    \n",
    "    ttrs_neg= ttrs.query('pval <= 0.05 and thr in @thrs and ttstr == \"r < 0\"')\n",
    "    cols = ['varn','pval','ttstr','histlen_mean','histlen_std']\n",
    "    cols = cocoln_add + cols\n",
    "    display(ttrs_neg[cols])\n",
    "\n",
    "    ttrs_pos = ttrs.query('pval <= 0.05 and thr in @thrs and ttstr == \"r > 0\"')    \n",
    "    display(ttrs_pos[cols])\n",
    "    \n",
    "    varnames = list(ttrs_pos.reset_index()['varn'].values)    \n",
    "    if cocoln != 'None':\n",
    "        varnames_ext = zip(varnames, list(ttrs_pos.reset_index()[cocoln].values) )\n",
    "        varnames_ext  = list(varnames_ext)\n",
    "        print(varnames_ext)\n",
    "    else:\n",
    "        print( ', '.join(varnames) )\n",
    "    #print(varnames)\n",
    "\n",
    "    \n",
    "    printNice(ttrs_pos)\n",
    "    \n",
    "    #break"
   ]
  },
  {
   "cell_type": "markdown",
   "id": "e7c61344",
   "metadata": {
    "heading_collapsed": true
   },
   "source": [
    "## plot of var"
   ]
  },
  {
   "cell_type": "code",
   "execution_count": null,
   "id": "87a9c8c3",
   "metadata": {
    "code_folding": [],
    "hidden": true
   },
   "outputs": [],
   "source": [
    "# plot VAR\n",
    "use_var_pubnames = False\n",
    "#%debug\n",
    "for suff in ['std5','invstd5']:\n",
    "    for varn, pertc in [('error_pscadj', 0.01), ('error_change',0.01), \n",
    "                        ('err_sens', 0.017)]:\n",
    "        c = 1 / np.pi  * 180\n",
    "        #for truncs, df in zip(['truncate q=5%','truncate no'],[dfc, dfc0]):\n",
    "        for truncs, df in zip(['mestd * 1.0'],[dfcs]):\n",
    "            plt.figure(figsize=(12,4))\n",
    "            #qs = 'trial_group_col_calc in [\"trialwe\",\"trialwtgt_we\"]'\n",
    "            #qs += ' and pert_seq_code == 0'\n",
    "            #df_= df.query(qs)\n",
    "            df_ = df\n",
    "            varn_eff = f\"{varn}_{suff}\"    \n",
    "            ax = sns.lineplot(x=\"trials\", y=varn_eff,  estimator='mean', ci='sd',\n",
    "                         data=df_)\n",
    "            vshift = 0.\n",
    "            if varn.startswith('err_sens'):\n",
    "                vshift = 0.5  \n",
    "            # important to put this legend call before plotting pert and env\n",
    "            #plt.legend(title='', loc='lower right', labels=['within tgt', 'across tgt'])\n",
    "            ax.plot(tr, vshift + pert * pertc, c='violet', ls= '--', label='perturbation')\n",
    "            #ax.plot(tr, vshift + envv * 30 * pertc, c='black', ls = ':', lw=0, marker='.' ,\n",
    "            #        alpha=0.2, label='environment')\n",
    "\n",
    "            axlbl = varn\n",
    "            if use_var_pubnames:\n",
    "                axlbl = var_pubnames[varn]\n",
    "            else:\n",
    "                ax.set_title(f'{varn}  {truncs}')\n",
    "\n",
    "            ax.axhline(0,ls=':',c='red', alpha=0.7)\n",
    "            ax.set_ylabel(axlbl + f'_{suff}' )\n",
    "            addTitleInfo(ax)\n"
   ]
  },
  {
   "cell_type": "code",
   "execution_count": null,
   "id": "59303692",
   "metadata": {
    "hidden": true
   },
   "outputs": [],
   "source": [
    "mavsz = 10\n",
    "fg = sns.relplot(kind='line', x=\"trials\", \n",
    "                 y=f'err_sens_mav{mavsz}',  estimator='mean', ci='sd',\n",
    "                 col='subject', col_wrap=4,\n",
    "                data=df_)\n",
    "for ax in fg.axes.flatten():\n",
    "    ax.plot(tr, vshift + pert * pertc, c='violet', ls= '--', label='perturbation')\n",
    "    ax.axhline(0,ls=':',c='red', alpha=0.7)\n",
    "        \n",
    "plt.suptitle(f'err_sens_mav {mavsz}')\n",
    "addTitleInfo(None)"
   ]
  },
  {
   "cell_type": "code",
   "execution_count": null,
   "id": "d9940998",
   "metadata": {
    "hidden": true
   },
   "outputs": [],
   "source": [
    "# plot MAV\n",
    "mavsz = 10\n",
    "use_var_pubnames = False\n",
    "#%debug\n",
    "for varn, pertc in [('error_pscadj', 0.01), \n",
    "                    ('error_change',0.001),\n",
    "                    ('err_sens', 0.017)]:\n",
    "    c = 1 / np.pi  * 180\n",
    "    #for truncs, df in zip(['truncate q=5%','truncate no'],[dfc, dfc0]):\n",
    "    for truncs, df in zip(['mestd * 1.0'],[dfcs]):\n",
    "        plt.figure(figsize=(12,4))\n",
    "        df_ = df\n",
    "        varn_eff = f\"{varn}_mav{mavsz}\"  \n",
    "        ax = sns.lineplot(x=\"trials\", y=varn_eff,  estimator='mean', ci='sd',\n",
    "                     data=df_)\n",
    "\n",
    "        vshift = 0.\n",
    "        if varn.startswith('err_sens'):\n",
    "            vshift = 0.5\n",
    "  \n",
    "        # important to put this legend call before plotting pert and env\n",
    "        #plt.legend(title='', loc='lower right', labels=['within tgt', 'across tgt'])\n",
    "        ax.plot(tr, vshift + pert * pertc, c='violet', ls= '--', label='perturbation')\n",
    "        #ax.plot(tr, vshift + envv * 30 * pertc, c='black', ls = ':', lw=0, marker='.' ,\n",
    "        #        alpha=0.2, label='environment')\n",
    "        \n",
    "        axlbl = varn\n",
    "        if use_var_pubnames:\n",
    "            axlbl = var_pubnames[varn]\n",
    "        else:\n",
    "            ax.set_title(f'{varn}  {truncs}')\n",
    "            \n",
    "        ax.axhline(0,ls=':',c='red', alpha=0.7)\n",
    "        ax.set_ylabel(axlbl + '_mav' )\n",
    "        addTitleInfo(ax)\n",
    "        "
   ]
  },
  {
   "cell_type": "code",
   "execution_count": null,
   "id": "d38c6ea6",
   "metadata": {
    "hidden": true
   },
   "outputs": [],
   "source": [
    "\n",
    "# #Modifying @jfb method, gives the function below which worked fine on ipykernel-5.3.4.\n",
    "# from IPython.display import display, Javascript\n",
    "# def getNotebookName():\n",
    "#     display(Javascript('IPython.notebook.kernel.execute(\"NotebookName = \" + \"\\'\"+window.document.getElementById(\"notebook_name\").innerHTML+\"\\'\");'))\n",
    "#     try:\n",
    "#         _ = type(NotebookName)\n",
    "#         return NotebookName\n",
    "#     except:\n",
    "#         return None\n",
    "# getNotebookName()"
   ]
  },
  {
   "cell_type": "code",
   "execution_count": null,
   "id": "a9471829",
   "metadata": {
    "hidden": true
   },
   "outputs": [],
   "source": [
    "dfall.columns"
   ]
  },
  {
   "cell_type": "code",
   "execution_count": null,
   "id": "9490e4a7",
   "metadata": {
    "hidden": true
   },
   "outputs": [],
   "source": [
    "dfall.groupby('subject')['movement_duration'].mean().mean()"
   ]
  },
  {
   "cell_type": "code",
   "execution_count": null,
   "id": "434343be",
   "metadata": {
    "hidden": true
   },
   "outputs": [],
   "source": [
    "dfall.groupby('subject')['trial_duration'].mean().mean()"
   ]
  },
  {
   "cell_type": "code",
   "execution_count": null,
   "id": "311b7b30",
   "metadata": {
    "hidden": true
   },
   "outputs": [],
   "source": [
    "plt.get_su"
   ]
  },
  {
   "cell_type": "code",
   "execution_count": null,
   "id": "b2a4c68d",
   "metadata": {
    "hidden": true
   },
   "outputs": [],
   "source": [
    "\n",
    "os.environ.get(\"NOTEBOOK_PATH\")"
   ]
  },
  {
   "cell_type": "code",
   "execution_count": null,
   "id": "19c182fa",
   "metadata": {
    "hidden": true
   },
   "outputs": [],
   "source": [
    "from "
   ]
  },
  {
   "cell_type": "markdown",
   "id": "61cd71bb",
   "metadata": {
    "heading_collapsed": true
   },
   "source": [
    "# ERR consist"
   ]
  },
  {
   "cell_type": "code",
   "execution_count": null,
   "id": "7426fd07",
   "metadata": {
    "hidden": true
   },
   "outputs": [],
   "source": [
    "#dfc['thr']"
   ]
  },
  {
   "cell_type": "code",
   "execution_count": null,
   "id": "d2e8b41a",
   "metadata": {
    "hidden": true
   },
   "outputs": [],
   "source": [
    "dfc[]"
   ]
  },
  {
   "cell_type": "code",
   "execution_count": null,
   "id": "3862ff0d",
   "metadata": {
    "hidden": true
   },
   "outputs": [],
   "source": [
    "dfcs = dfc.sort_values(\n",
    "    ['pert_seq_code', 'subject', 'trial_group_col_calc','trials'])"
   ]
  },
  {
   "cell_type": "code",
   "execution_count": null,
   "id": "368bc03b",
   "metadata": {
    "hidden": true
   },
   "outputs": [],
   "source": [
    "# without throwing away small errors\n",
    "dfc = df_wthr.copy()\n",
    "dfc['subj'] = dfc['subject'].str[3:5]\n",
    "\n",
    "dfc['prevprev_error'] = dfc.groupby(['subject'])['prev_error'].shift(1, fill_value=0)\n",
    "dfc['err_sign_same'] =  np.sign( dfc['prev_error'] ) *\\\n",
    "    np.sign( dfc['prevprev_error'] )  \n",
    "\n",
    "dfc['err_sens_change'] = dfc['err_sens'] - dfc['prev_err_sens']\n",
    "\n",
    "dfc['dist_rad_from_prevprevtgt'] = \\\n",
    "    dfc.groupby('subject')['target_locs'].diff(2).abs()\n",
    "\n",
    "# if one of the errors is small, let's think they are of the same sign\n",
    "m = (dfc['prevprev_error'].abs() * 180 / np.pi < dfc['error_deg_initstd'] ) | \\\n",
    "    (dfc['prev_error'].abs() * 180 / np.pi <  dfc['error_deg_initstd']   ) \n",
    "# set sign to one when unclear\n",
    "dfc['err_sign_same2'] = dfc['err_sign_same']\n",
    "dfc['err_sign_same2'] = dfc['err_sign_same2'].where( m, 1)#.astype(int)\n",
    "\n",
    "# set sign to zero when unclear\n",
    "dfc['err_sign_same3'] = dfc['err_sign_same']\n",
    "dfc['err_sign_same3'] = dfc['err_sign_same3'].where( m, 0)#.astype(int)\n",
    "\n",
    "# set NaNs to 0\n",
    "m = ~(dfc['prevprev_error'].isna() | dfc['prev_error'].isna())\n",
    "dfc['err_sign_same'] = dfc['err_sign_same'].where( m, 0)#.astype(int)\n",
    "dfc['err_sign_same2'] = dfc['err_sign_same2'].where( m, 0)#.astype(int)\n",
    "dfc['err_sign_same3'] = dfc['err_sign_same3'].where( m, 0)#.astype(int)\n",
    "\n",
    "dfc['err_sign_same'] = dfc['err_sign_same'].astype(int)\n",
    "dfc['err_sign_same2'] = dfc['err_sign_same2'].astype(int)\n",
    "dfc['err_sign_same3'] = dfc['err_sign_same3'].astype(int)\n",
    "\n",
    "dfc['dist_rad_from_prevprevtgt'] = dfc['dist_rad_from_prevprevtgt'].\\\n",
    "    apply(lambda x: f'{x:.2f}' )\n",
    "dfc['dist_rad_from_prevprevtgt'] \n",
    "#assert not dfc['err_sign_same'].isna().any()\n",
    "#dfc['err_sign_same'] = dfc['err_sign_same'].astype(int)\n",
    "\n",
    "dfc['err_sign_pattern'] = np.sign( dfc['prevprev_error'] ).apply(str) + \\\n",
    "    np.sign( dfc['prev_error'] ).apply(str)    \n",
    "print('N bads =',sum(dfc['err_sign_pattern'].str.contains('nan')))\n",
    "dfc['err_sign_pattern'][dfc['err_sign_pattern'].str.contains('nan')] = ''\n",
    "dfc['err_sign_pattern'] = dfc['err_sign_pattern'].astype(str)\n",
    "dfc['err_sign_pattern'] = dfc['err_sign_pattern'].str.replace('1.0','1')"
   ]
  },
  {
   "cell_type": "code",
   "execution_count": null,
   "id": "9bcc4d96",
   "metadata": {
    "hidden": true
   },
   "outputs": [],
   "source": [
    "for coln in ['env','pert_stage_wb']:\n",
    "    print('   ',coln)\n",
    "    df__ = dfc.query('err_sign_same3 == -1')# and env==\"stable\"')\n",
    "    grp = df__.groupby(['subject',coln])\n",
    "    #(grp.size() / dfcs.groupby('subject').size() * 100).mean()\n",
    "\n",
    "    r = grp.size() / dfc.groupby(['subject',coln]).size()\n",
    "    print(r.to_frame().groupby(coln)[0].mean() * 100 )"
   ]
  },
  {
   "cell_type": "code",
   "execution_count": null,
   "id": "1bdf1db7",
   "metadata": {
    "hidden": true
   },
   "outputs": [],
   "source": [
    "for coln in ['env','pert_stage_wb']:#,'pert_stage']:\n",
    "    print('   ',coln)\n",
    "    df__ = dfc.query('err_sign_same3 == -1')# and env==\"stable\"')\n",
    "    grp = df__.groupby(['subject',coln])\n",
    "    r = grp.size() / dfc.groupby(['subject',coln]).size()\n",
    "    r = (r.to_frame().groupby(coln)[0].mean().to_frame()* 100) .reset_index()\n",
    "    print(r)"
   ]
  },
  {
   "cell_type": "code",
   "execution_count": null,
   "id": "d605babd",
   "metadata": {
    "hidden": true
   },
   "outputs": [],
   "source": [
    "coln = 'trialwb'\n",
    "df__ = dfc.query('err_sign_same3 == -1 and env==\"stable\"')\n",
    "grp = df__.groupby(['subject',coln])\n",
    "r = grp.size() / dfc.groupby(['subject',coln]).size()\n",
    "r = (r.to_frame().groupby(coln)[0].mean().to_frame()* 100) .reset_index()\n",
    "\n",
    "r.plot(x=coln, color='red')\n",
    "plt.plot(pert[:192], color='pink', ls='--')\n",
    "\n",
    "df__ = dfc.query('err_sign_same3 == 1 and env==\"stable\"')\n",
    "grp = df__.groupby(['subject',coln])\n",
    "r = grp.size() / dfc.groupby(['subject',coln]).size()\n",
    "r = (r.to_frame().groupby(coln)[0].mean().to_frame()* 100) .reset_index()\n",
    "\n",
    "r.plot(x=coln, ax=plt.gca(), color='blue')\n",
    "plt.suptitle('Probability of sign values')\n",
    "plt.ylabel('%')"
   ]
  },
  {
   "cell_type": "code",
   "execution_count": null,
   "id": "1ad8aed9",
   "metadata": {
    "hidden": true
   },
   "outputs": [],
   "source": [
    "print('average percentages of different sign consistency values, '\n",
    "      'mean across participant')\n",
    "#cols_ = ['subject', 'env', signcol]\n",
    "#(dfc.groupby(cols_).size() / dfc.groupby(cols_[:-1]).size() ).\\\n",
    "#    groupby(cols_[1:]).mean() * 100\n",
    "\n",
    "for signcol in ['err_sign_same','err_sign_same2','err_sign_same3']:\n",
    "\n",
    "    cols_ = ['subject', 'ps_', signcol]\n",
    "    dfcts = (dfc.groupby(cols_).size() / dfc.groupby(cols_[:-1]).size() ).\\\n",
    "        groupby(cols_[1:]).mean() * 100\n",
    "    dfcts = dfcts.to_frame().reset_index().rename(columns={0:'pct'})\n",
    "\n",
    "    sns.catplot(data=dfcts,kind='bar',x='ps_',y = 'pct', hue=signcol)\n",
    "    plt.suptitle(signcol)\n",
    "#dfcts.plot(x='ps_',y = 'pct')#, color=signcol)#, hue=signcol)"
   ]
  },
  {
   "cell_type": "code",
   "execution_count": null,
   "id": "245f95e1",
   "metadata": {
    "hidden": true
   },
   "outputs": [],
   "source": [
    "# truncate sign dataset\n",
    "prohib_zero = 0\n",
    "dfs = []\n",
    "for mult in mults[-1:]:\n",
    "    if prohib_zero:\n",
    "        df_ = dfc.query('err_sign_same != 0').copy()\n",
    "    else: \n",
    "        df_ = dfc.copy()\n",
    "    df_wthrdf_ = df_[df_.error_deg.shift(1).abs() >= df_['error_deg_initstd'] * mult]\n",
    "    #df_ = df_.query('error_deg.shift(1).abs() >= @thr')\n",
    "    #thr_s = '{:.3f}'.format(thr)\n",
    "    #thr_s = f'{maxmult}*mestd/{ NN - (thri)}'\n",
    "    #thr_s = f'mestd/{ NN - (thri)}'\n",
    "    thr_s = f'mestd*{mult}'\n",
    "    df_wthrdf_['thr'] = thr_s\n",
    "    dfs += [df_wthrdf_]\n",
    "    print(thr_s, len(df_))\n",
    "    \n",
    "dfall_notclean_ = pd.concat(dfs)\n",
    "# ttrs = pd.concat(ttrs)\n",
    "# ttrs = ttrs.rename(columns={'p-val':'pval'})\n",
    "\n",
    "from behav_proc import truncateDf\n",
    "dfcs  = truncateDf(dfall_notclean_, 'err_sens', q=0.0, infnan_handling='discard', \n",
    "                   cols_uniqify = ['subject','env','thr'])\n",
    "dfcs['subj'] = dfcs['subject'].str[3:5]"
   ]
  },
  {
   "cell_type": "code",
   "execution_count": null,
   "id": "ec547499",
   "metadata": {
    "hidden": true
   },
   "outputs": [],
   "source": [
    "dfcs['err_sens'].max()"
   ]
  },
  {
   "cell_type": "code",
   "execution_count": null,
   "id": "548953be",
   "metadata": {
    "hidden": true
   },
   "outputs": [],
   "source": [
    "import gc;gc.collect()"
   ]
  },
  {
   "cell_type": "markdown",
   "id": "17f219c7",
   "metadata": {
    "heading_collapsed": true,
    "hidden": true
   },
   "source": [
    "### Why err sens is higher for inconsist err?"
   ]
  },
  {
   "cell_type": "code",
   "execution_count": null,
   "id": "f28a08cf",
   "metadata": {
    "hidden": true
   },
   "outputs": [],
   "source": [
    "xl = 90\n",
    "with warnings.catch_warnings():\n",
    "    warnings.filterwarnings('ignore',category=FutureWarning)\n",
    "    fg = sns.relplot(kind='line', data=dfc, \n",
    "     x='trials', y='error_pscadj', col='subj', col_wrap =5,\n",
    "            aspect =5, height=1.5)\n",
    "    for ax in fg.axes.flatten():\n",
    "        ax.axhline(0,c='r',ls=':')\n",
    "        ttl = ax.get_title()\n",
    "        ax.set_ylim(-0.8,0.8)\n",
    "        ax.grid(True)\n",
    "        ax.set_xlim(0,xl) \n",
    "        ax.plot(np.arange(len(pert)), pert / 50, c='pink', ls='--') "
   ]
  },
  {
   "cell_type": "code",
   "execution_count": null,
   "id": "4c5720d7",
   "metadata": {
    "hidden": true
   },
   "outputs": [],
   "source": [
    "cols= ['prevprev_error', 'prev_error', 'error', 'err_sign_same3', 'err_sens']\n",
    "df__ = pd.melt(dfc, id_vars=['subj','trials'], value_vars = cols, var_name = 'colname')"
   ]
  },
  {
   "cell_type": "code",
   "execution_count": null,
   "id": "88c0f832",
   "metadata": {
    "hidden": true
   },
   "outputs": [],
   "source": [
    "xl = 90\n",
    "qs = 'subj == \"08\" and trials <= @xl'\n",
    "inds = dfc.query(qs + ' and err_sign_same3 < 0')['trials']\n",
    "with warnings.catch_warnings():\n",
    "    warnings.filterwarnings('ignore',category=FutureWarning)\n",
    "    fg = sns.relplot(kind='line', data=df__.query(qs), \n",
    "                     x='trials', y='value', row='colname',aspect =5, col_order=cols, height=1.5,\n",
    "                    facet_kws={'sharey':None})\n",
    "    for ax in fg.axes.flatten():\n",
    "        ax.axhline(0,c='r',ls=':')\n",
    "        ttl = ax.get_title()\n",
    "        ax.plot(np.arange(len(pert)), pert, c='pink', ls='--') \n",
    "        if ttl.find('error') >= 0:\n",
    "            #print(ttl)\n",
    "            ax.set_ylim(-0.8,0.8)\n",
    "        elif ttl.find('err_sens') >= 0:\n",
    "            #print('4',ttl)\n",
    "            ax.set_ylim(-4,4)      \n",
    "        else:\n",
    "            #print('4',ttl)\n",
    "            ax.set_ylim(-1.1,1.1)    \n",
    "        \n",
    "        ax.grid(True)\n",
    "        for ti in inds:\n",
    "            ax.axvline(ti,c='g',ls=':')"
   ]
  },
  {
   "cell_type": "code",
   "execution_count": null,
   "id": "b9cf8eb7",
   "metadata": {
    "hidden": true
   },
   "outputs": [],
   "source": [
    "ax.get_title().find('error') >= 0"
   ]
  },
  {
   "cell_type": "code",
   "execution_count": null,
   "id": "5ae48f77",
   "metadata": {
    "hidden": true
   },
   "outputs": [],
   "source": [
    "# see examples of 3 conseq trials with err_sign_same = -1\n",
    "dfcs_sc = dfcs.query('err_sign_same == -1')\n",
    "df_ = dfcs_sc"
   ]
  },
  {
   "cell_type": "code",
   "execution_count": null,
   "id": "898e1d35",
   "metadata": {
    "hidden": true
   },
   "outputs": [],
   "source": [
    "cols= ['prevprev_error', 'prev_error', 'error']\n",
    "df__ = pd.melt(df_, id_vars=['subj'], value_vars = cols, var_name = 'parname')\n",
    "df__"
   ]
  },
  {
   "cell_type": "code",
   "execution_count": null,
   "id": "9c98908f",
   "metadata": {
    "hidden": true
   },
   "outputs": [],
   "source": [
    "cols= ['prevprev_error', 'prev_error', 'error']\n",
    "df__ = pd.melt(df_, id_vars=['subj','trials'], value_vars = cols, var_name = 'parname')\n",
    "df__"
   ]
  },
  {
   "cell_type": "code",
   "execution_count": null,
   "id": "c32f9190",
   "metadata": {
    "hidden": true
   },
   "outputs": [],
   "source": [
    "#sns.lineplot?"
   ]
  },
  {
   "cell_type": "code",
   "execution_count": null,
   "id": "5ee71ac9",
   "metadata": {
    "hidden": true
   },
   "outputs": [],
   "source": [
    "#sns.lineplot(data =df__.query('subj == \"01\"'), x='parname', y='value', hue='subj')#, estimator=None)\n",
    "sns.lineplot(data =df__.query('subj == \"01\"'), x='parname', y='value', hue='trials')#, estimator=None)"
   ]
  },
  {
   "cell_type": "code",
   "execution_count": null,
   "id": "cbd12697",
   "metadata": {
    "hidden": true
   },
   "outputs": [],
   "source": [
    "%matplotlib inline\n",
    "fig = plt.figure()\n",
    "ax = plt.axes(projection='3d') #fig.add_sublot(111,projection = '3d')\n",
    "#dfcs_sc.plot(kind = 'scatter',x='prevprev_error',y='prev_error',z='error',c='subject')\n",
    "ax.scatter(df_['prevprev_error'],df_['prev_error'],df_['error'] )#,c=df['subject'])"
   ]
  },
  {
   "cell_type": "code",
   "execution_count": null,
   "id": "f2da5a41",
   "metadata": {
    "hidden": true
   },
   "outputs": [],
   "source": [
    "#grp.size().reset_index().groupby(['err_sign_same','env'])[0].describe()"
   ]
  },
  {
   "cell_type": "code",
   "execution_count": null,
   "id": "6999f5b1",
   "metadata": {
    "hidden": true
   },
   "outputs": [],
   "source": [
    "dfc['target_locs']"
   ]
  },
  {
   "cell_type": "markdown",
   "id": "cef826cb",
   "metadata": {
    "hidden": true
   },
   "source": [
    "### continue"
   ]
  },
  {
   "cell_type": "markdown",
   "id": "93befc2d",
   "metadata": {
    "heading_collapsed": true,
    "hidden": true
   },
   "source": [
    "#### dbg"
   ]
  },
  {
   "cell_type": "code",
   "execution_count": null,
   "id": "f204e49f",
   "metadata": {
    "hidden": true,
    "run_control": {
     "marked": true
    }
   },
   "outputs": [],
   "source": [
    "#dfcs[['dist_rad_from_prevtgt','dist_rad_from_prevprevtgt','target_locs']]"
   ]
  },
  {
   "cell_type": "code",
   "execution_count": null,
   "id": "85b30829",
   "metadata": {
    "hidden": true
   },
   "outputs": [],
   "source": [
    "#dfcs['prev_error'].abs().describe()"
   ]
  },
  {
   "cell_type": "code",
   "execution_count": null,
   "id": "e48f4b84",
   "metadata": {
    "hidden": true
   },
   "outputs": [],
   "source": [
    "#dfme.query('err_sens < -1.4')"
   ]
  },
  {
   "cell_type": "code",
   "execution_count": null,
   "id": "f1a86f28",
   "metadata": {
    "hidden": true
   },
   "outputs": [],
   "source": [
    "from behav_proc import checkErrBounds\n",
    "assert len(checkErrBounds(df)) == 0"
   ]
  },
  {
   "cell_type": "code",
   "execution_count": null,
   "id": "0035c5eb",
   "metadata": {
    "hidden": true
   },
   "outputs": [],
   "source": [
    "colns_ = ('subj,thr,trials,perturbation,ps_,error,error_deg,prev_error,err_sens,correction,'\n",
    "    'dist_trial_from_prevtgt,dist_rad_from_prevtgt,trialwb,trialwpert,error_deg_initstd')\n",
    "colns_ = colns_.split(',')\n",
    "dfcs.query('correction.abs() > 1.57')[colns_]"
   ]
  },
  {
   "cell_type": "code",
   "execution_count": null,
   "id": "3a7bb5b1",
   "metadata": {
    "hidden": true
   },
   "outputs": [],
   "source": [
    "dfcs.query('prev_error.abs() > 1.57')"
   ]
  },
  {
   "cell_type": "code",
   "execution_count": null,
   "id": "6254e447",
   "metadata": {
    "hidden": true
   },
   "outputs": [],
   "source": [
    "pihalf = np.pi / 2"
   ]
  },
  {
   "cell_type": "code",
   "execution_count": null,
   "id": "3b089fe2",
   "metadata": {
    "hidden": true
   },
   "outputs": [],
   "source": [
    "#dfcs.query('correction.abs() < @pihalf and prev_error.abs() < @pihalf')"
   ]
  },
  {
   "cell_type": "code",
   "execution_count": null,
   "id": "e415013e",
   "metadata": {
    "hidden": true
   },
   "outputs": [],
   "source": [
    "dfcs[['error_deg']]"
   ]
  },
  {
   "cell_type": "code",
   "execution_count": null,
   "id": "7ce580a7",
   "metadata": {
    "hidden": true
   },
   "outputs": [],
   "source": [
    "mestd"
   ]
  },
  {
   "cell_type": "code",
   "execution_count": null,
   "id": "521dee89",
   "metadata": {
    "hidden": true
   },
   "outputs": [],
   "source": [
    "(0.260974 - (-0.067981) ) / -0.067981"
   ]
  },
  {
   "cell_type": "code",
   "execution_count": null,
   "id": "4996ba78",
   "metadata": {
    "hidden": true
   },
   "outputs": [],
   "source": []
  },
  {
   "cell_type": "code",
   "execution_count": null,
   "id": "a615bd61",
   "metadata": {
    "hidden": true
   },
   "outputs": [],
   "source": [
    "dfcs['err_sens'].max()"
   ]
  },
  {
   "cell_type": "markdown",
   "id": "e340efe7",
   "metadata": {
    "hidden": true
   },
   "source": [
    "#### cnt"
   ]
  },
  {
   "cell_type": "code",
   "execution_count": null,
   "id": "7825f639",
   "metadata": {
    "hidden": true
   },
   "outputs": [],
   "source": [
    "coln_same = 'err_sign_pattern'\n",
    "qs = f'{coln_same} != 0 and err_sign_pattern != \"\"'\n",
    "grp = dfcs.query(qs).groupby(['subject',coln_same,'env'])\n",
    "dfme = grp.mean(numeric_only=1).reset_index()\n",
    "with warnings.catch_warnings():\n",
    "    warnings.filterwarnings('ignore',category=FutureWarning)\n",
    "    fg = sns.catplot(data=dfme, kind='box',\n",
    "         y ='err_sens', x=coln_same,\n",
    "         hue='env',hue_order=['stable','random'],\n",
    "         palette=['tab:orange','tab:grey'], showfliers=True)\n",
    "#fg.apply(lambda ax: ax.axline(y=0))\n",
    "#def f(data, **kwargs):\n",
    "#    plt.axhline(y=0)\n",
    "#fg.map(f, ls=\":\", c=\".5\" )\n",
    "for ax in fg.axes.flatten():\n",
    "    ax.axhline(0,ls=':',c='r')\n",
    "ax.set_title(f'Per err sign consistency averaged within participant\\n{coln_same}')\n",
    "addTitleInfo(ax)\n",
    "\n",
    "plt.savefig(pjoin(path_fig, 'ES_per_sign_consist.pdf'))"
   ]
  },
  {
   "cell_type": "code",
   "execution_count": null,
   "id": "4b70cc6e",
   "metadata": {
    "hidden": true
   },
   "outputs": [],
   "source": [
    "import warnings\n",
    "coln_same = 'err_sign_same'\n",
    "qs = f'{coln_same} != 0'\n",
    "with warnings.catch_warnings():\n",
    "    warnings.filterwarnings('ignore',category=FutureWarning)\n",
    "    fg = sns.catplot(data=dfcs.query(qs), kind='box',\n",
    "         y ='err_sens', x=coln_same,\n",
    "         hue='env',hue_order=['stable','random'],\n",
    "         palette=['tab:orange','tab:grey'], showfliers=False)\n",
    "#fg.apply(lambda ax: ax.axline(y=0))\n",
    "#def f(data, **kwargs):\n",
    "#    plt.axhline(y=0)\n",
    "#fg.map(f, ls=\":\", c=\".5\" )\n",
    "for ax in fg.axes.flatten():\n",
    "    ax.axhline(0,ls=':',c='r')\n",
    "ax.set_title('Per err sign consistency pooled')\n",
    "addTitleInfo(ax)\n",
    "# -------------------\n",
    "coln_same = 'err_sign_same'\n",
    "qs = f'{coln_same} != 0'\n",
    "grp = dfcs.query(qs).groupby(['subject',coln_same,'env'])\n",
    "dfme = grp.mean(numeric_only=1).reset_index()\n",
    "with warnings.catch_warnings():\n",
    "    warnings.filterwarnings('ignore',category=FutureWarning)\n",
    "    fg = sns.catplot(data=dfme, kind='box',\n",
    "         y ='err_sens', x=coln_same,\n",
    "         hue='env',hue_order=['stable','random'],\n",
    "         palette=['tab:orange','tab:grey'], showfliers=True)\n",
    "#fg.apply(lambda ax: ax.axline(y=0))\n",
    "#def f(data, **kwargs):\n",
    "#    plt.axhline(y=0)\n",
    "#fg.map(f, ls=\":\", c=\".5\" )\n",
    "for ax in fg.axes.flatten():\n",
    "    ax.axhline(0,ls=':',c='r')\n",
    "ax.set_title(f'Per err sign consistency averaged within participant\\n{coln_same}')\n",
    "addTitleInfo(ax)\n",
    "# -------------------\n",
    "coln_same = 'err_sign_same2'\n",
    "qs = f'{coln_same} != 0'\n",
    "grp = dfcs.query(qs).groupby(['subject',coln_same,'env'])\n",
    "dfme = grp.mean(numeric_only=1).reset_index()\n",
    "with warnings.catch_warnings():\n",
    "    warnings.filterwarnings('ignore',category=FutureWarning)\n",
    "    fg = sns.catplot(data=dfme, kind='box',\n",
    "         y ='err_sens', x=coln_same,\n",
    "         hue='env',hue_order=['stable','random'],\n",
    "         palette=['tab:orange','tab:grey'], showfliers=True)\n",
    "#fg.apply(lambda ax: ax.axline(y=0))\n",
    "#def f(data, **kwargs):\n",
    "#    plt.axhline(y=0)\n",
    "#fg.map(f, ls=\":\", c=\".5\" )\n",
    "for ax in fg.axes.flatten():\n",
    "    ax.axhline(0,ls=':',c='r')\n",
    "ax.set_title(f'Per err sign consistency averaged within participant\\n{coln_same}')\n",
    "addTitleInfo(ax)\n",
    "# -------------------\n",
    "coln_same = 'err_sign_same3'\n",
    "qs = f'{coln_same} != 0'\n",
    "grp = dfcs.query(qs).groupby(['subject',coln_same,'env'])\n",
    "dfme = grp.mean(numeric_only=1).reset_index()\n",
    "with warnings.catch_warnings():\n",
    "    warnings.filterwarnings('ignore',category=FutureWarning)\n",
    "    fg = sns.catplot(data=dfme, kind='box',\n",
    "         y ='err_sens', x=coln_same,\n",
    "         hue='env',hue_order=['stable','random'],\n",
    "         palette=['tab:orange','tab:grey'], showfliers=True)\n",
    "#fg.apply(lambda ax: ax.axline(y=0))\n",
    "#def f(data, **kwargs):\n",
    "#    plt.axhline(y=0)\n",
    "#fg.map(f, ls=\":\", c=\".5\" )\n",
    "for ax in fg.axes.flatten():\n",
    "    ax.axhline(0,ls=':',c='r')\n",
    "ax.set_title(f'Per err sign consistency averaged within participant\\n{coln_same}')\n",
    "addTitleInfo(ax)\n",
    "\n",
    "plt.savefig(pjoin(path_fig, 'ES_per_sign_consist.pdf'))\n",
    "    \n",
    "# coln_ = 'err_sens'\n",
    "# ylim = ax.get_ylim()\n",
    "# rng = ylim[1] - ylim[0]\n",
    "# #plotSig(ax,'stable1','stable2',ylim[1]*1.01, rng/50, df=df_, coln=coln, colpair=col2, pooled=False)\n",
    "# #plotSig(ax, 0.1, 1.0,ylim[1]*1.01, rng/50, df=df_, coln=coln, colpair=col2, pooled=False)\n",
    "# y_single = ylim[1]*1.01\n",
    "# y_inc = ylim[1]*0.2\n",
    "# y_double1 = ylim[1]*1.35\n",
    "# #plotSig(ax, 0,2,y_double1, rng/50, df=df_, coln=coln, colpair=col2, pooled=False);\n",
    "# from figure.mystatann import plotSig0All, plotSigAll\n",
    "# plotSig0All(ax,y_single, df=dfcs, coln=coln_, colpair=col2, pooled=False);\n",
    "# ysigend = plotSigAll(ax, y_double1, y_inc, \n",
    "#                       ticklen=rng/50, df=dfcs, coln=coln_, colpair=col2, pooled=False, pairs=pairs)\n",
    "\n",
    "    \n"
   ]
  },
  {
   "cell_type": "code",
   "execution_count": null,
   "id": "a4cb65a1",
   "metadata": {
    "hidden": true
   },
   "outputs": [],
   "source": [
    "coln_same = 'err_sign_same3'\n",
    "coln_dist = 'dist_rad_from_prevprevtgt'\n",
    "grp = dfcs.groupby(['subject',coln_same,'env',coln_dist])\n",
    "dfme = grp.mean(numeric_only=1).reset_index()\n",
    "with warnings.catch_warnings():\n",
    "    warnings.filterwarnings('ignore',category=FutureWarning)\n",
    "    fg = sns.catplot(data=dfme, kind='box',\n",
    "         y ='err_sens', x=coln_same,\n",
    "         hue='env',hue_order=['stable','random'],\n",
    "         palette=['tab:orange','tab:grey'], col = coln_dist, showfliers=True)\n",
    "    for ax in fg.axes.flatten():\n",
    "        ax.axhline(0,ls=':',c='r')\n",
    "\n",
    "coln_same = 'err_sign_same3'\n",
    "coln_dist = 'dist_rad_from_prevtgt'\n",
    "grp = dfcs.groupby(['subject',coln_same,'env',coln_dist])\n",
    "dfme = grp.mean(numeric_only=1).reset_index()\n",
    "with warnings.catch_warnings():\n",
    "    warnings.filterwarnings('ignore',category=FutureWarning)\n",
    "    fg = sns.catplot(data=dfme, kind='box',\n",
    "         y ='err_sens', x=coln_same,\n",
    "         hue='env',hue_order=['stable','random'],\n",
    "         palette=['tab:orange','tab:grey'], col = coln_dist, showfliers=True)\n",
    "    for ax in fg.axes.flatten():\n",
    "        ax.axhline(0,ls=':',c='r')\n",
    "        \n",
    "\n",
    "        \n"
   ]
  },
  {
   "cell_type": "code",
   "execution_count": null,
   "id": "755b22f9",
   "metadata": {
    "hidden": true
   },
   "outputs": [],
   "source": [
    "coln_same = 'err_sign_same3'\n",
    "with warnings.catch_warnings():\n",
    "    warnings.filterwarnings('ignore',category=FutureWarning)\n",
    "    fg = sns.catplot(data=dfcs, kind='box',\n",
    "         y ='err_sens', x=coln_same,\n",
    "         hue='env',hue_order=['stable','random'], col_wrap =4,\n",
    "            col = 'subject',\n",
    "         palette=['tab:orange','tab:grey'], showfliers=False)\n",
    "#fg.apply(lambda ax: ax.axline(y=0))"
   ]
  },
  {
   "cell_type": "code",
   "execution_count": null,
   "id": "b1887231",
   "metadata": {
    "hidden": true
   },
   "outputs": [],
   "source": [
    "sns.scatterplot(data=dfcs.query('env == \"stable\" and '\n",
    "    'subject == @subjects[0] and err_sign_same3 != 0.0'), x='err_sens',\n",
    "                y='err_sens_change',hue='err_sign_same3')\n",
    "plt.suptitle('One participant stable only')\n",
    "plt.axhline(0)\n",
    "plt.axvline(0)\n",
    "\n",
    "plt.figure()\n",
    "sns.scatterplot(data=dfcs.query('env == \"stable\" and '\n",
    "    '  err_sign_same3 != 0.0'), x='err_sens',\n",
    "                y='err_sens_change',hue='err_sign_same3')\n",
    "plt.suptitle('All participants stable only')\n",
    "plt.axhline(0)\n",
    "plt.axvline(0)\n",
    "\n",
    "plt.figure()\n",
    "sns.scatterplot(data=dfcs.query('env == \"random\" and '\n",
    "    'subject == @subjects[0] and err_sign_same3 != 0.0'), x='err_sens',\n",
    "                y='err_sens_change',hue='err_sign_same3')\n",
    "plt.suptitle('One participant random only')\n",
    "plt.axhline(0)\n",
    "plt.axvline(0)\n",
    "\n",
    "plt.figure()\n",
    "sns.scatterplot(data=dfcs.query('env == \"random\" and '\n",
    "    '  err_sign_same3 != 0.0'), x='err_sens',\n",
    "                y='err_sens_change',hue='err_sign_same3')\n",
    "plt.suptitle('All participants random only')\n",
    "plt.axhline(0)\n",
    "plt.axvline(0)"
   ]
  },
  {
   "cell_type": "code",
   "execution_count": null,
   "id": "a0009cf0",
   "metadata": {
    "hidden": true
   },
   "outputs": [],
   "source": [
    "checkErrBounds(df___)"
   ]
  },
  {
   "cell_type": "code",
   "execution_count": null,
   "id": "f4b966e2",
   "metadata": {
    "hidden": true
   },
   "outputs": [],
   "source": [
    "coln_same = 'err_sign_same3'\n",
    "#.query('prev_error.abs() >= 0.53')\n",
    "df___ = dfcs#.query('correction.abs() < @pihalf and prev_error.abs() < @pihalf')\n",
    "huecol = 'pert_stage_wb'\n",
    "grp = df___.query('err_sign_same3 != 0.' ).groupby(['subject',coln_same,huecol])   #'env'])\n",
    "dfme = grp.mean(numeric_only=1).reset_index()\n",
    "with warnings.catch_warnings():\n",
    "    warnings.filterwarnings('ignore',category=FutureWarning)\n",
    "    fg = sns.catplot(data=dfme, kind='box',\n",
    "         y ='err_sens', x=coln_same,\n",
    "         hue=huecol, #,hue_order=['stable','random'],palette=['tab:orange','tab:grey'], \n",
    "                     showfliers=True)\n",
    "fg.refline(y=0)\n",
    "\n",
    "plt.figure()\n",
    "\n",
    "df___ = dfcs2#.query('correction.abs() < @pihalf and prev_error.abs() < @pihalf')\n",
    "grp = df___.query('err_sign_same3 != 0.' ).groupby(['subject',coln_same,huecol])   \n",
    "dfme = grp.mean(numeric_only=1).reset_index()\n",
    "with warnings.catch_warnings():\n",
    "    warnings.filterwarnings('ignore',category=FutureWarning)\n",
    "    fg = sns.catplot(data=dfme, kind='box',\n",
    "         y ='err_sens_change', x=coln_same,\n",
    "         hue=huecol, #,hue_order=['stable','random'],palette=['tab:orange','tab:grey'], \n",
    "                     showfliers=True)\n",
    "fg.refline(y=0)"
   ]
  },
  {
   "cell_type": "code",
   "execution_count": null,
   "id": "e9741a3b",
   "metadata": {
    "hidden": true
   },
   "outputs": [],
   "source": [
    "# # trans mat ordered\n",
    "# M = np.zeros((4,4))\n",
    "# M += np.diag(4*[0.25])\n",
    "# i = 0\n",
    "# for c in range(4):\n",
    "#     M[i,(i+1) % 4] = 0.75; i+= 1\n",
    "# M"
   ]
  },
  {
   "cell_type": "code",
   "execution_count": null,
   "id": "f4deff96",
   "metadata": {
    "hidden": true
   },
   "outputs": [],
   "source": [
    "# bins = np.linspace(-1.5,1.5,10)\n",
    "# dfcs['prev_error_bin'] = pd.cut(dfcs['prev_error'], bins)\n",
    "# dfme = dfcs.groupby( ['subj','prev_error_bin','env'] )['err_sens'].mean().reset_index()\n",
    "# dfme['prev_error_mid'] = dfme['prev_error_bin'].apply(lambda x: x.mid )\n",
    "# dfme"
   ]
  },
  {
   "cell_type": "code",
   "execution_count": null,
   "id": "33bd9b8f",
   "metadata": {
    "hidden": true
   },
   "outputs": [],
   "source": [
    "dfcs['ps2_'].unique(), dfcs['ps_'].unique(), dfcs['pert_stage_wb'].unique()"
   ]
  },
  {
   "cell_type": "code",
   "execution_count": null,
   "id": "6d8d1aaa",
   "metadata": {
    "hidden": true
   },
   "outputs": [],
   "source": [
    "sns.pairplot?"
   ]
  },
  {
   "cell_type": "code",
   "execution_count": null,
   "id": "8bd81f91",
   "metadata": {
    "hidden": true
   },
   "outputs": [],
   "source": []
  },
  {
   "cell_type": "code",
   "execution_count": null,
   "id": "282657ca",
   "metadata": {
    "hidden": true
   },
   "outputs": [],
   "source": [
    "dfc.query('subj == \"03\" and trials <= 25 and trials >=19')\\\n",
    "    [['trials','perturbation','error',\n",
    "                     'err_sign_same3',\n",
    "                     'err_sens','prev_err_sens','err_sens_change','correction']]"
   ]
  },
  {
   "cell_type": "code",
   "execution_count": null,
   "id": "4b92506e",
   "metadata": {
    "hidden": true
   },
   "outputs": [],
   "source": [
    "N = 30\n",
    "df__ = dfc.query('subj == \"03\" and env == \"stable\" and trials <= @N')\n",
    "fg = sns.pairplot(df__, \n",
    "             x_vars=['trials'], \n",
    "             y_vars=['perturbation','error',\n",
    "                     'err_sign_same3',\n",
    "                     'err_sens','err_sens_change','correction'],\n",
    "                  aspect=5., height=1.9)\n",
    "#fg.refline(y=0)\n",
    "axs = fg.axes.flatten()\n",
    "for ax in axs:\n",
    "    ax.axhline(y=0, ls=':')\n",
    "    #ax.plot(pert[:90], c='pink', ls='--')\n",
    "\n",
    "xs = df__.query('err_sign_same3 == -1 and err_sens_change > 0')['trials'].values\n",
    "for ax in axs[[1,2,3,4,5]]:\n",
    "    yl = ax.get_ylim()\n",
    "    ax.vlines(xs,*yl, ls=':', color='g')"
   ]
  },
  {
   "cell_type": "code",
   "execution_count": null,
   "id": "1b393ff7",
   "metadata": {
    "hidden": true
   },
   "outputs": [],
   "source": [
    "sns.pairplot(dfcs.query('subj == \"02\" and env == \"stable\"'), x_vars=['trials'], \n",
    "             y_vars=['error','correction','err_sens','err_sens_change'])"
   ]
  },
  {
   "cell_type": "code",
   "execution_count": null,
   "id": "d6e654ee",
   "metadata": {
    "hidden": true
   },
   "outputs": [],
   "source": [
    "qs = 'env == \"stable\" and ps_ == \"pre\"'\n",
    "huecol = 'ps_' # 'err_sign_same2'\n",
    "sns.scatterplot(data=dfcs.query(qs + ' and err_sign_same2 == 1.'), x='err_sens',\n",
    "                y='err_sens_change',hue=huecol)\n",
    "plt.title('Same sign')\n",
    "plt.axhline(0)\n",
    "plt.axvline(0)\n",
    "\n",
    "plt.figure()\n",
    "sns.scatterplot(data=dfcs.query(qs + ' and err_sign_same2 == -1.'), x='err_sens',\n",
    "                y='err_sens_change',hue=huecol)\n",
    "plt.title('Opp sign')\n",
    "plt.axhline(0)\n",
    "plt.axvline(0)"
   ]
  },
  {
   "cell_type": "markdown",
   "id": "6a9503d1",
   "metadata": {
    "hidden": true
   },
   "source": [
    "## Error change"
   ]
  },
  {
   "cell_type": "code",
   "execution_count": null,
   "id": "70fdabb0",
   "metadata": {
    "hidden": true
   },
   "outputs": [],
   "source": [
    "dfcs_ = truncateDf(dfall_notclean_, 'err_sens_change', \n",
    "       q=0.0, infnan_handling='discard', \n",
    "       cols_uniqify = ['subject','env','thr'])"
   ]
  },
  {
   "cell_type": "code",
   "execution_count": null,
   "id": "62dd68a9",
   "metadata": {
    "hidden": true
   },
   "outputs": [],
   "source": [
    "# Error change\n",
    "import warnings\n",
    "\n",
    "dfcs2  = truncateDf(dfall_notclean_, 'err_sens_change', q=0.0,\n",
    "                    infnan_handling='discard', \n",
    "                   cols_uniqify = ['subject','env','thr'])\n",
    "\n",
    "coln_same = 'err_sign_same3'\n",
    "qs = f'{coln_same} != 0.'\n",
    "grp = dfcs2.query(qs).groupby(['subject',coln_same,'env'])\n",
    "dfme = grp.mean(numeric_only=1).reset_index()\n",
    "dfme['Environment'] = dfme['env']\n",
    "\n",
    "with warnings.catch_warnings():\n",
    "    warnings.filterwarnings('ignore',category=FutureWarning)\n",
    "    fg = sns.catplot(data=dfme, kind='box',\n",
    "         y ='err_sens_change', x=coln_same,\n",
    "         hue='Environment',hue_order=['stable','random'],\n",
    "         palette=['tab:orange','tab:grey'],\n",
    "        showfliers=True, legend_out=False)\n",
    "#fg.apply(lambda ax: ax.axline(y=0))\n",
    "#def f(data, **kwargs):\n",
    "#    plt.axhline(y=0)\n",
    "#fg.map(f, ls=\":\", c=\".5\" )\n",
    "for ax in fg.axes.flatten():\n",
    "    ax.axhline(0,ls=':',c='r')\n",
    "    \n",
    "plt.suptitle('Error sensitivity dependence \\non error sign consitency',y=1.1)\n",
    "ax.set_ylabel('Error sensitivity change,\\nmean within participant')\n",
    "ax.set_xlabel('Sign consistency')\n",
    "renameTickLabels(ax, {'-1':'inconsistent', '1':'consistent' })\n",
    "plt.savefig(pjoin(path_fig, 'ESchange_per_sign_consist.pdf'))\n",
    "\n",
    "\n",
    "## per dist rad (dist_rad_from_prevprevtgt)\n",
    "# coln_same = 'err_sign_same3'\n",
    "# coln_dist = 'dist_rad_from_prevprevtgt'\n",
    "# qs = f'{coln_same} != 0.'\n",
    "# grp = dfcs2.query(qs).groupby(['subject',coln_same,'env',coln_dist])\n",
    "# dfme = grp.mean(numeric_only=1).reset_index()\n",
    "# with warnings.catch_warnings():\n",
    "#     warnings.filterwarnings('ignore',category=FutureWarning)\n",
    "#     fg = sns.catplot(data=dfme, kind='box',\n",
    "#          y ='err_sens_change', x=coln_same,\n",
    "#          hue='env',hue_order=['stable','random'],\n",
    "#          palette=['tab:orange','tab:grey'], col = coln_dist, showfliers=True)\n",
    "#     for ax in fg.axes.flatten():\n",
    "#         ax.axhline(0,ls=':',c='r')\n",
    "\n",
    "        \n",
    "        \n",
    "# coln_same = 'err_sign_same'\n",
    "# coln_dist = 'dist_rad_from_prevtgt'\n",
    "# grp = dfcs.groupby(['subject',coln_same,'env',coln_dist])\n",
    "# dfme = grp.mean(numeric_only=1).reset_index()\n",
    "# with warnings.catch_warnings():\n",
    "#     warnings.filterwarnings('ignore',category=FutureWarning)\n",
    "#     fg = sns.catplot(data=dfme, kind='box',\n",
    "#          y ='err_sens', x=coln_same,\n",
    "#          hue='env',hue_order=['stable','random'],\n",
    "#          palette=['tab:orange','tab:grey'], col = coln_dist, showfliers=True)\n",
    "#     for ax in fg.axes.flatten():\n",
    "#         ax.axhline(0,ls=':',c='r')\n"
   ]
  },
  {
   "cell_type": "markdown",
   "id": "55c9f527",
   "metadata": {
    "hidden": true,
    "run_control": {
     "marked": true
    }
   },
   "source": [
    "## subrandom"
   ]
  },
  {
   "cell_type": "code",
   "execution_count": null,
   "id": "b7c8ef0f",
   "metadata": {
    "hidden": true
   },
   "outputs": [],
   "source": [
    "#1 <= 2 <= 0#"
   ]
  },
  {
   "cell_type": "code",
   "execution_count": null,
   "id": "beb57632",
   "metadata": {
    "hidden": true
   },
   "outputs": [],
   "source": [
    "bounds"
   ]
  },
  {
   "cell_type": "code",
   "execution_count": null,
   "id": "1e4e43b6",
   "metadata": {
    "hidden": true
   },
   "outputs": [],
   "source": [
    "N = 192\n",
    "n_subinds = 8\n",
    "bounds = np.arange(0,192+1,192/n_subinds).astype(int); bounds\n",
    "bounds_ext = []\n",
    "for bi,_ in enumerate(bounds[:-1]):\n",
    "    bounds_ext.append( (bi,(bounds[bi],bounds[bi+1] )) )\n",
    "bounds_ext\n",
    "\n",
    "#def f(df):  \n",
    "def find_interval(value, intervals):\n",
    "    for i, (start, end) in intervals:\n",
    "        if start <= value <= end:\n",
    "            return i\n",
    "    return -1\n",
    "\n",
    "# Apply the function to the col1 column and create a new column with the result\n",
    "dfcs['sub_block_ind'] = dfcs['trials'].apply(lambda x: find_interval(x % 192, bounds_ext))\n",
    "dfcs2['sub_block_ind'] = dfcs2['trials'].apply(lambda x: find_interval(x % 192, bounds_ext))\n",
    "dfcs['sub_block_ind'] = dfcs['sub_block_ind'].astype('category')\n",
    "dfcs2['sub_block_ind'] = dfcs2['sub_block_ind'].astype('category')"
   ]
  },
  {
   "cell_type": "code",
   "execution_count": null,
   "id": "e53e30a8",
   "metadata": {
    "hidden": true
   },
   "outputs": [],
   "source": []
  },
  {
   "cell_type": "code",
   "execution_count": null,
   "id": "929ea435",
   "metadata": {
    "hidden": true
   },
   "outputs": [],
   "source": [
    "coln_same = 'err_sign_same3'\n",
    "#coln_dist = 'dist_rad_from_prevprevtgt'\n",
    "coln_dist = None\n",
    "grp = dfcs.query(f'{coln_same} != 0').groupby(\n",
    "    ['subject',coln_same,'env','sub_block_ind'])\n",
    "#,coln_dist\n",
    "dfme = grp.mean(numeric_only=1).reset_index()\n",
    "with warnings.catch_warnings():\n",
    "    warnings.filterwarnings('ignore',category=FutureWarning)\n",
    "    fg = sns.catplot(data=dfme, kind='box',\n",
    "         y ='err_sens', x='sub_block_ind',\n",
    "         hue=coln_same,\n",
    "          col = 'env', showfliers=True)\n",
    "    for ax in fg.axes.flatten():\n",
    "        ax.axhline(0,ls=':',c='r')\n",
    "######################################\n",
    "\n",
    "coln_same = 'err_sign_same3'\n",
    "#coln_dist = 'dist_rad_from_prevprevtgt'\n",
    "coln_dist = None\n",
    "grp = dfcs2.query(f'{coln_same} != 0').groupby(\n",
    "    ['subject',coln_same,'env','sub_block_ind'])\n",
    "#,coln_dist\n",
    "dfme = grp.mean(numeric_only=1).reset_index()\n",
    "with warnings.catch_warnings():\n",
    "    warnings.filterwarnings('ignore',category=FutureWarning)\n",
    "    fg = sns.catplot(data=dfme, kind='box',\n",
    "         y ='err_sens_change', x='sub_block_ind',\n",
    "         hue=coln_same,\n",
    "          col = 'env', showfliers=True)\n",
    "    for ax in fg.axes.flatten():\n",
    "        ax.axhline(0,ls=':',c='r')"
   ]
  },
  {
   "cell_type": "code",
   "execution_count": null,
   "id": "68e1ec73",
   "metadata": {
    "hidden": true
   },
   "outputs": [],
   "source": [
    "#dfcs[['trials','sub_block_ind']]"
   ]
  },
  {
   "cell_type": "markdown",
   "id": "01f7d78c",
   "metadata": {
    "heading_collapsed": true
   },
   "source": [
    "# ES vs err / prev_err"
   ]
  },
  {
   "cell_type": "code",
   "execution_count": null,
   "id": "1a04eb02",
   "metadata": {
    "hidden": true
   },
   "outputs": [],
   "source": [
    "fg.ax"
   ]
  },
  {
   "cell_type": "code",
   "execution_count": null,
   "id": "e035d658",
   "metadata": {
    "hidden": true
   },
   "outputs": [],
   "source": [
    "assert dfcs.err_sens.max() < 40\n",
    "\n",
    "#bins = np.linspace(-1.5,1.5,10)\n",
    "bins = np.linspace(-1.5,1.5,10)\n",
    "dfcs['prev_error_bin'] = pd.cut(dfcs['prev_error'], bins)\n",
    "dfme = dfcs.groupby( ['subj','prev_error_bin','env'] )['err_sens'].mean().reset_index()\n",
    "dfme['prev_error_mid'] = dfme['prev_error_bin'].apply(lambda x: x.mid )\n",
    "dfme"
   ]
  },
  {
   "cell_type": "code",
   "execution_count": null,
   "id": "7e84c5a8",
   "metadata": {
    "hidden": true
   },
   "outputs": [],
   "source": [
    "with warnings.catch_warnings():\n",
    "    warnings.filterwarnings('ignore',category=FutureWarning)\n",
    "    fg = sns.relplot(kind='line', data=dfme, x='prev_error_mid', y='err_sens', \n",
    "                     row='env')\n",
    "    #fg = sns.scatterplot(data=dfc.query('env == \"stable\"'), x='prev_error', y='err_sens', hue='block_name')\n",
    "    #fg.axhline(0,c='r',ls=':')\n",
    "    for ax in fg.axes.flatten():\n",
    "        ax.axhline(0,c='r',ls=':')\n",
    "        ax.axvline(0,c='r',ls=':')        \n",
    "        #ax.set_ylim(-15,15)\n",
    "    addTitleInfo(ax)\n",
    "    plt.tight_layout()\n",
    "    plt.savefig(pjoin(path_fig, 'ES_per_prev_error_binned.pdf'))"
   ]
  },
  {
   "cell_type": "code",
   "execution_count": null,
   "id": "b432d9c4",
   "metadata": {
    "hidden": true
   },
   "outputs": [],
   "source": [
    "#bins = np.linspace(-1.5,1.5,10)\n",
    "bins = np.linspace(-1.5,1.5,10)\n",
    "dfcs['prev_error_bin'] = pd.cut(dfcs['prev_error'], bins)\n",
    "dfme = dfcs.groupby( ['subj','prev_error_bin','env','dist_rad_from_prevtgt2'] )['err_sens'].mean().reset_index()\n",
    "dfme['prev_error_mid'] = dfme['prev_error_bin'].apply(lambda x: x.mid )\n",
    "\n",
    "with warnings.catch_warnings():\n",
    "    warnings.filterwarnings('ignore',category=FutureWarning)\n",
    "    fg = sns.relplot(kind='line', data=dfme, x='prev_error_mid', y='err_sens', \n",
    "                     row='env', col='dist_rad_from_prevtgt2', hue='env',\n",
    "                    height=4)\n",
    "    #fg = sns.scatterplot(data=dfc.query('env == \"stable\"'), x='prev_error', y='err_sens', hue='block_name')\n",
    "    #fg.axhline(0,c='r',ls=':')\n",
    "    for ax in fg.axes.flatten():\n",
    "        ax.axhline(0,c='r',ls=':')\n",
    "        ax.axvline(0,c='r',ls=':')\n",
    "        \n",
    "        #ax.set_ylim(-15,15)\n",
    "    addTitleInfo(ax)\n",
    "    plt.tight_layout()\n",
    "    plt.savefig(pjoin(path_fig, 'ES_per_prev_error_binned_inctgt.pdf'))"
   ]
  },
  {
   "cell_type": "code",
   "execution_count": null,
   "id": "1fa6908d",
   "metadata": {
    "hidden": true
   },
   "outputs": [],
   "source": [
    "with warnings.catch_warnings():\n",
    "    warnings.filterwarnings('ignore',category=FutureWarning)\n",
    "    #sns.catplot(data=dfc, kind='strip', x='error', y='err_sens', hue='env')\n",
    "    fg = sns.relplot(kind='scatter', data=dfcs, x='error', y='err_sens', hue='block_name', row='env')    \n",
    "    for ax in fg.axes.flatten():\n",
    "        ax.axhline(0,c='r',ls=':')\n",
    "        ax.axvline(0,c='r',ls=':')\n",
    "        addTitleInfo(ax)\n",
    "        ax.set_ylim(-15,15)\n",
    "    plt.savefig(pjoin(path_fig, 'ES_per_error.pdf'))\n",
    "    \n",
    "    #plt.figure()\n",
    "    fg = sns.relplot(kind='scatter', data=dfcs, x='prev_error', y='err_sens', hue='block_name', row='env')\n",
    "    #fg = sns.scatterplot(data=dfc.query('env == \"stable\"'), x='prev_error', y='err_sens', hue='block_name')\n",
    "    #fg.axhline(0,c='r',ls=':')\n",
    "    for ax in fg.axes.flatten():\n",
    "        ax.axhline(0,c='r',ls=':')\n",
    "        ax.axvline(0,c='r',ls=':')\n",
    "        addTitleInfo(ax)\n",
    "        ax.set_ylim(-15,15)\n",
    "    plt.savefig(pjoin(path_fig, 'ES_per_prev_error.pdf'))\n",
    "    \n",
    "#     plt.figure()\n",
    "#     fg = sns.scatterplot(data=dfc.query('env == \"random\"'), x='error', y='err_sens', hue='block_name')\n",
    "#     fg.axhline(0,c='r',ls=':')\n",
    "#     plt.figure()\n",
    "#     fg = sns.scatterplot(data=dfc.query('env == \"random\"'), x='prev_error', y='err_sens', hue='block_name')\n",
    "#     fg.axhline(0,c='r',ls=':')"
   ]
  },
  {
   "cell_type": "code",
   "execution_count": null,
   "id": "825999c4",
   "metadata": {
    "hidden": true
   },
   "outputs": [],
   "source": [
    "with warnings.catch_warnings():\n",
    "    warnings.filterwarnings('ignore',category=FutureWarning)\n",
    "    #sns.catplot(data=dfc, kind='strip', x='error', y='err_sens', hue='env')\n",
    "    fg = sns.relplot(kind='scatter', data=dfcs, x='prev_error', y='err_sens', hue='block_name', \n",
    "                     col = 'dist_rad_from_prevtgt2',\n",
    "                     row='env')    \n",
    "    for ax in fg.axes.flatten():\n",
    "        ax.axhline(0,c='r',ls=':')\n",
    "        ax.axvline(0,c='r',ls=':')\n",
    "        addTitleInfo(ax)\n",
    "        ax.set_ylim(-15,15)\n",
    "    plt.savefig(pjoin(path_fig, 'ES_per_prev_error_inctgt.pdf'))"
   ]
  },
  {
   "cell_type": "code",
   "execution_count": null,
   "id": "9c944a08",
   "metadata": {
    "hidden": true
   },
   "outputs": [],
   "source": [
    "with warnings.catch_warnings():\n",
    "    warnings.filterwarnings('ignore',category=FutureWarning)\n",
    "    fg = sns.relplot(kind='scatter', data=dfcs, x='prev_error', y='correction', hue='block_name', row='env')\n",
    "    #fg = sns.scatterplot(data=dfc.query('env == \"stable\"'), x='prev_error', y='err_sens', hue='block_name')\n",
    "    #fg.axhline(0,c='r',ls=':')\n",
    "    for ax in fg.axes.flatten():\n",
    "        ax.axhline(0,c='r',ls=':')\n",
    "        ax.axvline(0,c='r',ls=':')\n",
    "        addTitleInfo(ax)\n",
    "    plt.savefig(pjoin(path_fig, 'correction_per_prev_error.pdf'))\n",
    "    \n",
    "    warnings.filterwarnings('ignore',category=FutureWarning)\n",
    "    fg = sns.relplot(kind='scatter', data=dfcs, x='prev_error', y='correction',\n",
    "                     hue='block_name', row='env', col = 'dist_rad_from_prevtgt2')\n",
    "    #fg = sns.scatterplot(data=dfc.query('env == \"stable\"'), x='prev_error', y='err_sens', hue='block_name')\n",
    "    #fg.axhline(0,c='r',ls=':')\n",
    "    for ax in fg.axes.flatten():\n",
    "        ax.axhline(0,c='r',ls=':')\n",
    "        ax.axvline(0,c='r',ls=':')\n",
    "        addTitleInfo(ax)\n",
    "    plt.savefig(pjoin(path_fig, 'correction_per_prev_error_inctgt.pdf'))"
   ]
  },
  {
   "cell_type": "code",
   "execution_count": null,
   "id": "f28d1985",
   "metadata": {
    "hidden": true
   },
   "outputs": [],
   "source": [
    "with warnings.catch_warnings():\n",
    "    warnings.filterwarnings('ignore',category=FutureWarning)\n",
    "    fg = sns.relplot(data=dfc.query('env == \"stable\"'), kind='scatter',\n",
    "        x='prev_error', y='err_sens', col='pert_stage', col_wrap=5)\n",
    "for ax in fg.axes:\n",
    "    ax.axhline(0,c='r',ls=':')\n",
    "    \n",
    "plt.figure()\n",
    "with warnings.catch_warnings():\n",
    "    warnings.filterwarnings('ignore',category=FutureWarning)\n",
    "    fg = sns.relplot(data=dfc.query('env == \"stable\"'), kind='scatter',\n",
    "        x='prev_error', y='err_sens', col='subject', col_wrap=5)\n",
    "for ax in fg.axes:\n",
    "    ax.axhline(0,c='r',ls=':')"
   ]
  },
  {
   "cell_type": "code",
   "execution_count": null,
   "id": "9c1cde4b",
   "metadata": {
    "hidden": true
   },
   "outputs": [],
   "source": [
    "with warnings.catch_warnings():\n",
    "    warnings.filterwarnings('ignore',category=FutureWarning)\n",
    "    plt.figure()\n",
    "    fg = sns.scatterplot(data=dfc.query('env == \"stable\"'), x='prev_error', y='err_sens', hue='subject')\n",
    "    fg.axhline(0,c='r',ls=':')"
   ]
  },
  {
   "cell_type": "markdown",
   "id": "67121133",
   "metadata": {
    "heading_collapsed": true
   },
   "source": [
    "# Trying to understand many negative err sens trials (w/o success)"
   ]
  },
  {
   "cell_type": "code",
   "execution_count": null,
   "id": "629b604e",
   "metadata": {
    "hidden": true
   },
   "outputs": [],
   "source": [
    "r = (dfc.query('err_sens < 0.').groupby('subject').size() / dfc.groupby('subject').size() ).to_frame().describe()\n",
    "print('Ratio of neg err sens among all (thr = 1*mstd) =',r)"
   ]
  },
  {
   "cell_type": "code",
   "execution_count": null,
   "id": "3f4f5013",
   "metadata": {
    "hidden": true
   },
   "outputs": [],
   "source": [
    "dfcs.query('err_sens < -1. and subj == \"01\"')[['subj','trials']]"
   ]
  },
  {
   "cell_type": "code",
   "execution_count": null,
   "id": "01bb63a2",
   "metadata": {
    "hidden": true
   },
   "outputs": [],
   "source": [
    "dfc['target_inds']"
   ]
  },
  {
   "cell_type": "code",
   "execution_count": null,
   "id": "f03f8352",
   "metadata": {
    "hidden": true
   },
   "outputs": [],
   "source": [
    "dfc['error_rad_initstd'] = dfc['error_deg_initstd'] / 180 * np.pi"
   ]
  },
  {
   "cell_type": "code",
   "execution_count": null,
   "id": "0de5251c",
   "metadata": {
    "hidden": true
   },
   "outputs": [],
   "source": [
    "dfc['dist_rad_from_prevtgt2']"
   ]
  },
  {
   "cell_type": "code",
   "execution_count": null,
   "id": "61aef1a6",
   "metadata": {
    "hidden": true
   },
   "outputs": [],
   "source": [
    "tr = 27\n",
    "tr0 = tr - 3; tr1 = tr + 3\n",
    "dfc.query('subj == \"01\" and trials >= @tr0 and trials <= @tr1')[['trials','perturbation','prevprev_error',\n",
    "    'prev_error','error','err_sens','correction','error_rad_initstd','target_inds']]"
   ]
  },
  {
   "cell_type": "code",
   "execution_count": null,
   "id": "ce01c672",
   "metadata": {
    "hidden": true
   },
   "outputs": [],
   "source": [
    "gc.collect()"
   ]
  },
  {
   "cell_type": "code",
   "execution_count": null,
   "id": "c866b39c",
   "metadata": {
    "hidden": true
   },
   "outputs": [],
   "source": [
    "df_ = dfcs.query('err_sens < -1.')\n",
    "with warnings.catch_warnings():\n",
    "    warnings.filterwarnings('ignore',category=FutureWarning)\n",
    "    sns.relplot(kind='scatter', data=df_,y='error',x='trials', col='subject', col_wrap=4)#,hue='env')"
   ]
  },
  {
   "cell_type": "code",
   "execution_count": null,
   "id": "f66db901",
   "metadata": {
    "hidden": true
   },
   "outputs": [],
   "source": [
    "df_ = dfc.query('err_sens < -1.')\n",
    "with warnings.catch_warnings():\n",
    "    warnings.filterwarnings('ignore',category=FutureWarning)\n",
    "    sns.relplot(kind='scatter', data=df_,y='prev_error',x='trials', col='subject', col_wrap=4)#,hue='env')"
   ]
  },
  {
   "cell_type": "markdown",
   "id": "61ef53b4",
   "metadata": {},
   "source": [
    "# Generalization (Fig 4)"
   ]
  },
  {
   "cell_type": "code",
   "execution_count": null,
   "id": "2d1f54ec",
   "metadata": {},
   "outputs": [],
   "source": [
    "# Need to re-read entire dataset and don't limit to just one columns calc"
   ]
  },
  {
   "cell_type": "code",
   "execution_count": null,
   "id": "bafa293c",
   "metadata": {},
   "outputs": [],
   "source": [
    "dfall_mshsz['thr']"
   ]
  },
  {
   "cell_type": "code",
   "execution_count": null,
   "id": "af4cc099",
   "metadata": {},
   "outputs": [],
   "source": [
    "dfc_multi_tsz = dfall_mshsz.query('thr == \"mestd*1.0\"')\n",
    "#dfc_multi_tsz = dfall_mshsz.query('thr == \"mestd*0\"')"
   ]
  },
  {
   "cell_type": "code",
   "execution_count": null,
   "id": "5e40e38c",
   "metadata": {},
   "outputs": [],
   "source": [
    "dfc_multi_tsz.err_sens.max()"
   ]
  },
  {
   "cell_type": "code",
   "execution_count": null,
   "id": "5e639437",
   "metadata": {},
   "outputs": [],
   "source": [
    "drs = dfc_multi_tsz['dist_rad_from_prevtgt'].unique();\n",
    "drs_f = np.array( list(map( float, drs) ) )\n",
    "drs = list(sorted(drs,key = lambda x: float(x)))\n",
    "\n",
    "#dfc_s = dfc[dfc['trial_group_col_calc'] == 'trialwtgt_we']\n",
    "# TODO: should I restrict to one env?\n",
    "dfc_s = dfc_multi_tsz.query('trial_group_col_calc == \"trialwe\"')\n",
    "grp = dfc_s.groupby(['trial_shift_size', 'dist_rad_from_prevtgt2'])\n",
    "dts = dfc_multi_tsz['trial_shift_size'].unique()\n",
    "nt = len(dts)"
   ]
  },
  {
   "cell_type": "code",
   "execution_count": null,
   "id": "ec18374b",
   "metadata": {},
   "outputs": [],
   "source": [
    "drpairs = [(drs[i],drs[i+1] ) for i in range(3)]\n",
    "drpairs += [(drs[0],drs[i] ) for i in range(2,4)]\n",
    "drpairs += [(drs[1],drs[3] )]\n",
    "print(drpairs)\n",
    "\n",
    "dtpairs = [(dts[i],dts[i+1] ) for i in range(3)]\n",
    "dtpairs += [(dts[0],dts[i] ) for i in range(2,4)]\n",
    "dtpairs += [(dts[1],dts[3] )]\n",
    "dtpairs"
   ]
  },
  {
   "cell_type": "code",
   "execution_count": null,
   "id": "51846f68",
   "metadata": {},
   "outputs": [],
   "source": [
    "def getPvals(dftmp,fitcol,pairs):\n",
    "    from scipy.stats import ttest_ind\n",
    "    pvalues = []\n",
    "    for drp in pairs:\n",
    "        if isinstance(drp[0],str):\n",
    "            vs1 = dftmp.query(f'{fitcol} == \"{drp[0]}\"')['err_sens']\n",
    "            vs2 = dftmp.query(f'{fitcol} == \"{drp[1]}\"')['err_sens']\n",
    "        else:\n",
    "            vs1 = dftmp.query(f'{fitcol} == {drp[0]}')['err_sens']\n",
    "            vs2 = dftmp.query(f'{fitcol} == {drp[1]}')['err_sens']\n",
    "        #ttr = ttest_ind(vs1,vs2)\n",
    "        ttr = ttest_ind(vs1,vs2, alternative='greater')\n",
    "        pvalues += [ttr.pvalue]\n",
    "        \n",
    "        print(drp, ttr.pvalue)\n",
    "    # pvalues = [\n",
    "    #     sci_stats.mannwhitneyu(robots, flight, alternative=\"two-sided\").pvalue,\n",
    "    #     sci_stats.mannwhitneyu(flight, sound, alternative=\"two-sided\").pvalue,\n",
    "    #     sci_stats.mannwhitneyu(robots, sound, alternative=\"two-sided\").pvalue\n",
    "    # ]\n",
    "\n",
    "    # pvalues\n",
    "    # [0.00013485140468088997, 0.2557331102364572, 0.00022985464929005115]\n",
    "\n",
    "    # Transform each p-value to \"p=\" in scientific notation\n",
    "    formatted_pvalues = [f'p={pvalue:.2e}' for pvalue in pvalues]\n",
    "    return pvalues, formatted_pvalues\n",
    "\n",
    "# make polynomial fits\n",
    "def plotPolys(ax, dftmp, fitcol, degs=range(2,6), mean=1):\n",
    "    if mean:\n",
    "        me = dftmp.groupby(fitcol).median(numeric_only=1).reset_index()\n",
    "        dftmp = me\n",
    "    dftmp[fitcol] = pd.to_numeric(dftmp[fitcol] )\n",
    "    esv, dv = dftmp[['err_sens',fitcol]]._values.T\n",
    "    print(np.min(dv),dv,dv-np.min(dv),esv)\n",
    "    #pr = np.polyfit(esv,dv,2)\n",
    "    from numpy.linalg import LinAlgError\n",
    "    dvu = np.unique(dv)\n",
    "    dvu = np.array( list(sorted(dvu)) )\n",
    "    print(dvu)\n",
    "    for deg in degs:\n",
    "        try:\n",
    "            pr = np.polyfit(dv-np.min(dv),esv-np.min(esv),deg)        \n",
    "        except (SystemError,LinAlgError):\n",
    "            print(f'Failed deg={deg}')\n",
    "            print(dv,esv, np.std(dv))\n",
    "            continue\n",
    "            \n",
    "        poly = np.poly1d(pr)\n",
    "        #if len(degs) > 1:\n",
    "        if mean:\n",
    "            lbl = f'polynomial fit of means deg={deg}'\n",
    "        else:\n",
    "            lbl = f'polynomial fit deg={deg}'\n",
    "        #else:\n",
    "        #    lbl = None\n",
    "        esv2 = poly(dvu-np.min(dvu)) + np.min(esv)\n",
    "        print(dvu-np.min(dvu), esv)\n",
    "        ax.plot(range(len(dvu)) , poly(dvu-np.min(dvu)) + np.min(esv), \n",
    "                label=lbl, c='grey', lw=0.85 )\n",
    "    return pr\n",
    "    #ax.legend(loc='lower right')\n",
    "\n",
    "#plotPolys(ax,dftmp,fitcol,mean=0)\n",
    "#ax = plt.gca()\n",
    "#plotPolys(ax,dftmp,fitcol, degs=rng, mean=meanfit)"
   ]
  },
  {
   "cell_type": "code",
   "execution_count": null,
   "id": "a0b171f7",
   "metadata": {},
   "outputs": [],
   "source": [
    "dfc_multi_tsz.groupby(['subject','environment','dist_rad_from_prevtgt2']).size()"
   ]
  },
  {
   "cell_type": "code",
   "execution_count": null,
   "id": "5985dd08",
   "metadata": {},
   "outputs": [],
   "source": [
    "# not pooled\n",
    "#%debug\n",
    "\n",
    "hue = 'env'\n",
    "env2color = {'stable':'lightblue', 'random':'orange'}\n",
    "aspect=1.3\n",
    "#rng = [2]\n",
    "#rng = [2,3,4,5,6,7]\n",
    "rng = [2]\n",
    "ylim = [-2,3]\n",
    "meanfit=1\n",
    "bnqs = [  ('grid_line_violin_spatial','Spatial distance [deg]',drs,drpairs,'dist_rad_from_prevtgt2', f'trial_group_col_calc == \"trialwe\" and err_sens >= {ylim[0]} and err_sens <= {ylim[1]} and trial_shift_size == 1'),\n",
    "        ( 'grid_line_violin_temporal','Temporal distance [number of trials]',dts,dtpairs,'trial_shift_size','trial_group_col_calc == \"trialwe\" and dist_rad_from_prevtgt2 == \"0.00\"')]\n",
    "\n",
    "for env_type in ['stable','random']:\n",
    "    color = env2color[env_type]\n",
    "    for bn,xlab,order,pairs,fitcol,qs in bnqs:\n",
    "        #qs0 = f'trial_group_col_calc == \"trialwe\" and err_sens >= {ylim[0]} and err_sens <= {ylim[1]}'\n",
    "        #qs = qs + ' and trial_shift_size == 1'\n",
    "        if env_type in ['stable', 'random']:\n",
    "            qs += ' and env == @env_type'\n",
    "            hue = None\n",
    "            \n",
    "        dftmp0 = dfc_multi_tsz.query(qs).groupby(['subject','environment',fitcol])\n",
    "        dftmp0 = dftmp0.mean(numeric_only = True).reset_index()\n",
    "\n",
    "        #dftmp0 = dfc_multi_tsz.query(qs)\n",
    "        #fitcol = 'dist_rad_from_prevtgt2'\n",
    "        fg = sns.catplot(kind='violin', data=dftmp0, y='err_sens', \n",
    "                         hue=hue, x=fitcol, order = order,\n",
    "                          color=color, aspect=aspect, cut=True)\n",
    "        #dftmp = dfc_multi_tsz.query(qs).copy()\n",
    "        dftmp = dftmp0.copy()\n",
    "        #pvalues, formatted_pvalues = getPvals(dftmp,fitcol, pairs)\n",
    "\n",
    "        ax = fg.axes.flatten()[0]\n",
    "        plotSigAll(ax, 1.3, 0.2, 0.05, df=dftmp, \n",
    "                   coln = 'err_sens', colpair = fitcol,\n",
    "                  verbose = 0)\n",
    "\n",
    "        for ax in fg.axes.flatten():\n",
    "            ax.axhline(0,ls=':',c='r')\n",
    "            ax.set_ylabel('Error sensitivity', fontdict={'fontsize':12})\n",
    "            ax.set_xlabel(xlab, fontdict={'fontsize':12} )\n",
    "            if bn == 'grid_line_violin_spatial':\n",
    "                ax.set_xticklabels(['same target', 45, 90, 135])\n",
    "            ax.set_ylim(ylim)\n",
    "            ax.set_title(f'{env_type} environment', y = 1,\n",
    "                        fontdict={'fontsize':15, 'fontweight':'bold'})\n",
    "\n",
    "\n",
    "#         from statannotations.Annotator import Annotator    \n",
    "#         annotator = Annotator(ax,pairs, data=dftmp0, x=fitcol, y='err_sens',\n",
    "#                              plot='violinplot', order=order)\n",
    "#         #annotator.set_custom_annotations(formatted_pvalues)\n",
    "#         annotator.set_pvalues(pvalues)\n",
    "#         annotator.annotate()\n",
    "\n",
    "        ax.set_ylim(-1,3)\n",
    "\n",
    "        plotPolys(ax,dftmp,fitcol, degs=rng, mean=meanfit)\n",
    "        #bn = 'grid_line_violin_spatial'\n",
    "        plt.savefig(pjoin(path_fig,'behav',f'nopool_{env_type}_{bn}.svg'))\n",
    "        plt.savefig(pjoin(path_fig,'behav',f'nopool_{env_type}_{bn}.pdf'))\n"
   ]
  },
  {
   "cell_type": "markdown",
   "id": "53ca1933",
   "metadata": {
    "heading_collapsed": true
   },
   "source": [
    "### pooled"
   ]
  },
  {
   "cell_type": "code",
   "execution_count": null,
   "id": "ffb7920e",
   "metadata": {
    "hidden": true
   },
   "outputs": [],
   "source": []
  },
  {
   "cell_type": "code",
   "execution_count": null,
   "id": "23b9c2b5",
   "metadata": {
    "code_folding": [
     0
    ],
    "hidden": true
   },
   "outputs": [],
   "source": [
    "# pooled\n",
    "#%debug\n",
    "\n",
    "hue = 'env'\n",
    "env2color = {'stable':'lightblue', 'random':'orange'}\n",
    "aspect=1.3\n",
    "#rng = [2]\n",
    "#rng = [2,3,4,5,6,7]\n",
    "rng = [2]\n",
    "ylim = [-2,3]\n",
    "meanfit=1\n",
    "bnqs = [  ('grid_line_violin_spatial','Spatial distance [deg]',drs,drpairs,'dist_rad_from_prevtgt2', f'trial_group_col_calc == \"trialwe\" and err_sens >= {ylim[0]} and err_sens <= {ylim[1]} and trial_shift_size == 1'),\n",
    "        ( 'grid_line_violin_temporal','Temporal distance [number of trials]',dts,dtpairs,'trial_shift_size','trial_group_col_calc == \"trialwe\" and dist_rad_from_prevtgt2 == \"0.00\"')]\n",
    "\n",
    "for env_type in ['stable','random']:\n",
    "    color = env2color[env_type]\n",
    "    for bn,xlab,order,pairs,fitcol,qs in bnqs:\n",
    "        #qs0 = f'trial_group_col_calc == \"trialwe\" and err_sens >= {ylim[0]} and err_sens <= {ylim[1]}'\n",
    "        #qs = qs + ' and trial_shift_size == 1'\n",
    "        if env_type in ['stable', 'random']:\n",
    "            qs += ' and env == @env_type'\n",
    "            hue = None\n",
    "\n",
    "        dftmp0 = dfc_multi_tsz.query(qs)\n",
    "        #fitcol = 'dist_rad_from_prevtgt2'\n",
    "        fg = sns.catplot(kind='violin', data=dftmp0, y='err_sens', \n",
    "                         hue=hue, x=fitcol, order = order,\n",
    "                          color=color, aspect=aspect, cut=True)\n",
    "        dftmp = dfc_multi_tsz.query(qs).copy()\n",
    "        pvalues, formatted_pvalues = getPvals(dftmp,fitcol, pairs)\n",
    "\n",
    "        ax = fg.axes.flatten()[0]\n",
    "        plotSigAll(ax, 4, 0.5, 0.2, df=dftmp, \n",
    "                   coln = 'err_sens', colpair = fitcol,\n",
    "                  verbose = 0)\n",
    "\n",
    "        for ax in fg.axes.flatten():\n",
    "            ax.axhline(0,ls=':',c='r')\n",
    "            ax.set_ylabel('Error sensitivity', fontdict={'fontsize':12})\n",
    "            ax.set_xlabel(xlab, fontdict={'fontsize':12} )\n",
    "            if bn == 'grid_line_violin_spatial':\n",
    "                ax.set_xticklabels(['same target', 45, 90, 135])\n",
    "            ax.set_ylim(ylim)\n",
    "            ax.set_title(f'{env_type} environment', y = 1., #0.967,\n",
    "                        fontdict={'fontsize':15, 'fontweight':'bold'})\n",
    "\n",
    "        \n",
    "# #         from statannotations.Annotator import Annotator    \n",
    "# #         annotator = Annotator(ax,pairs, data=dftmp0, x=fitcol, y='err_sens',\n",
    "# #                              plot='violinplot', order=order)\n",
    "# #         #annotator.set_custom_annotations(formatted_pvalues)\n",
    "# #         annotator.set_pvalues(pvalues)\n",
    "# #         annotator.annotate()\n",
    "\n",
    "        ax.set_ylim(-4,7)\n",
    "\n",
    "        plotPolys(ax,dftmp,fitcol, degs=rng, mean=meanfit)\n",
    "        #bn = 'grid_line_violin_spatial'\n",
    "        #plt.tight_layout()\n",
    "        \n",
    "        plt.savefig(pjoin(path_fig,'behav',f'pool_{env_type}_{bn}.svg'))\n",
    "        plt.savefig(pjoin(path_fig,'behav',f'pool_{env_type}_{bn}.pdf'))\n"
   ]
  },
  {
   "cell_type": "markdown",
   "id": "27f7665d",
   "metadata": {},
   "source": [
    "### for Cohen"
   ]
  },
  {
   "cell_type": "code",
   "execution_count": null,
   "id": "d55ce91b",
   "metadata": {},
   "outputs": [],
   "source": [
    "dfc_multi_tsz[['dist_rad_from_prevtgt', 'dist_rad_from_prevtgt2']]"
   ]
  },
  {
   "cell_type": "code",
   "execution_count": null,
   "id": "2a103dc2",
   "metadata": {},
   "outputs": [],
   "source": [
    "dfall_mshsz['dist_rad_from_prevtgt2'].unique()"
   ]
  },
  {
   "cell_type": "code",
   "execution_count": null,
   "id": "d2a74ef5",
   "metadata": {},
   "outputs": [],
   "source": [
    "assert not dftmp1.duplicated(['subject','trials']).any()"
   ]
  },
  {
   "cell_type": "code",
   "execution_count": null,
   "id": "2d881b2c",
   "metadata": {},
   "outputs": [],
   "source": [
    "ttrs = []\n",
    "for thr in [\"mestd*0\",\"mestd*1.0\"]:\n",
    "    dfc_multi_tsz = dfall_mshsz.query('trial_shift_size == 1 and thr == @thr and trial_group_col_calc == \"trialwe\"')\n",
    "    #dfc_multi_tsz = dfall_mshsz.query('thr == \"mestd*0\"')\n",
    "    dftmp1 = dfc_multi_tsz.query('dist_rad_from_prevtgt2 == \"0.00\"')\n",
    "    dftmp2 = dfc_multi_tsz.query('dist_rad_from_prevtgt2 != \"0.00\"')\n",
    "    print(thr, len(dftmp1),len(dftmp2), dftmp1['err_sens'].max(),dftmp2['err_sens'].max() )\n",
    "    \n",
    "    ttr = myttest(dfc_multi_tsz, 'dist_rad_from_prevtgt2 == \"0.00\"', \n",
    "        'dist_rad_from_prevtgt2 != \"0.00\"', 'err_sens', cols_checkdup = ['subject','trials'])\n",
    "    ttr['ttstr'] = 'same tgt vs dif tgt'\n",
    "    ttr['thr'] = thr\n",
    "    ttrs += [ttr]\n",
    "\n",
    "    ttr = myttest(dfc_multi_tsz, 'dist_rad_from_prevtgt2 == \"0.00\"', \n",
    "            'dist_rad_from_prevtgt2 == \"2.36\"', 'err_sens', cols_checkdup = ['subject','trials'])\n",
    "    ttr['ttstr'] = 'same tgt vs next closest'\n",
    "    ttr['thr'] = thr\n",
    "    ttrs += [ttr]\n",
    "    \n",
    "ttrs = pd.concat(ttrs, ignore_index=True)\n",
    "ttrs.query('pval < 0.05')"
   ]
  },
  {
   "cell_type": "code",
   "execution_count": null,
   "id": "99848a6b",
   "metadata": {},
   "outputs": [],
   "source": [
    "ttrs['thr'] = ttrs['thr'].str.replace('mestd*0','conservative nonhit').replace('mestd*1.0','liberal nohit')"
   ]
  },
  {
   "cell_type": "code",
   "execution_count": null,
   "id": "ad1cc912",
   "metadata": {},
   "outputs": [],
   "source": [
    "ttrs.query('pval < 0.05')[['thr','ttstr','pval','T','alternative']]"
   ]
  },
  {
   "cell_type": "code",
   "execution_count": null,
   "id": "0a9e6619",
   "metadata": {},
   "outputs": [],
   "source": [
    "dftmp2['err_sens'].max()"
   ]
  },
  {
   "cell_type": "markdown",
   "id": "989c3021",
   "metadata": {
    "heading_collapsed": true
   },
   "source": [
    "# MDS"
   ]
  },
  {
   "cell_type": "code",
   "execution_count": null,
   "id": "0da7ab7b",
   "metadata": {
    "hidden": true
   },
   "outputs": [],
   "source": [
    "p = [1,3]\n",
    "#p = [1]\n",
    "df_ = df.query('pert_stage_wb in @p')\n",
    "\n",
    "df_['pert_stage'] = df_['pert_stage'].astype('int')\n",
    "df_['trialwpertstage_wb'] = df_['trialwpertstage_wb'].astype('int')\n",
    "df_['pert_stage'] = df_['pert_stage'].astype('category')\n",
    "\n"
   ]
  },
  {
   "cell_type": "code",
   "execution_count": null,
   "id": "eb61534c",
   "metadata": {
    "hidden": true
   },
   "outputs": [],
   "source": [
    "df_['error_pscadj_pertstageadj_deg'] = df['error_pscadj_pertstageadj'] * 180/np.pi"
   ]
  },
  {
   "cell_type": "markdown",
   "id": "3b04a8f1",
   "metadata": {
    "hidden": true
   },
   "source": [
    "### is last pert within subj worse than other perts?"
   ]
  },
  {
   "cell_type": "code",
   "execution_count": null,
   "id": "ff80de87",
   "metadata": {
    "hidden": true
   },
   "outputs": [],
   "source": [
    "fg = sns.relplot(data=df_,kind='line', x='trialwpertstage_wb', \n",
    "             y='error_pscadj_pertstageadj_deg', hue='pert_stage', col='subject',\n",
    "        col_wrap=4, palette=['r','g','b','k'])\n",
    "for ax in fg.axes.flatten():\n",
    "    ax.set_ylim(-30,50)\n",
    "    ax.axhline(y=0,c='red',ls=':')"
   ]
  },
  {
   "cell_type": "code",
   "execution_count": null,
   "id": "0a4f5538",
   "metadata": {
    "hidden": true
   },
   "outputs": [],
   "source": [
    "# 03, 04, 07, "
   ]
  },
  {
   "cell_type": "markdown",
   "id": "8a5f6b70",
   "metadata": {
    "hidden": true
   },
   "source": [
    "except 1,6 and 3,6  further adaptatino is worse than first previous one\n",
    "1 is comparable to 6 and  6 is better than 3\n",
    "\n",
    "so very first pert stage is better than anyone except 6 (first pert stage after random)\n",
    "also second pert stage is better than fourth (second after random)\n",
    "also third (first pert after random) is better than second and fourth\n",
    "\n",
    "so first perts (before and after random) are the best,  \n",
    "second are worse, the last one is absolute worst"
   ]
  },
  {
   "cell_type": "code",
   "execution_count": null,
   "id": "f7a93175",
   "metadata": {
    "hidden": true
   },
   "outputs": [],
   "source": [
    "col"
   ]
  },
  {
   "cell_type": "code",
   "execution_count": null,
   "id": "de5f69fd",
   "metadata": {
    "hidden": true
   },
   "outputs": [],
   "source": [
    "ttrs = []\n",
    "\n",
    "for i1,i2 in [( 1,3), (1,6), (1,8), (6,3), (3,8), (6,8)]:\n",
    "    dfdif = df_.query('pert_stage == @i1').set_index(['subject','trialwpertstage_wb'])[col] -\\\n",
    "        df_.query('pert_stage == @i2').set_index(['subject','trialwpertstage_wb'])[col]\n",
    "    \n",
    "    ttr = pg.ttest(dfdif,0, alternative='less' )\n",
    "    ttr['i1'] = i1; ttr['i2'] = i2\n",
    "    ttr['type'] = 'all_pooled'\n",
    "    ttrs += [ttr]\n",
    "    \n",
    "    # mean across subjects within trial\n",
    "    mesubj = dfdif.to_frame().reset_index().groupby('trialwpertstage_wb').mean()\n",
    "    ttr = pg.ttest(mesubj[col],0, alternative='less' )\n",
    "    ttr['i1'] = i1; ttr['i2'] = i2\n",
    "    ttr['type'] = 'mean_over_subjects'\n",
    "    ttrs += [ttr]\n",
    "    \n",
    "    # mean across trials within subj\n",
    "    mewsubj = dfdif.to_frame().reset_index().groupby('subject').mean()\n",
    "    ttr = pg.ttest(mewsubj[col],0, alternative='less' )\n",
    "    ttr['i1'] = i1; ttr['i2'] = i2\n",
    "    ttr['type'] = 'mean_over_trials'\n",
    "    ttrs += [ttr]\n",
    "\n",
    "    print(i1,i2)\n",
    "    display(mesubj.describe())\n",
    "\n",
    "ttrs = pd.concat(ttrs)"
   ]
  },
  {
   "cell_type": "code",
   "execution_count": null,
   "id": "08f95d59",
   "metadata": {
    "hidden": true
   },
   "outputs": [],
   "source": [
    "print(getAddInfo())\n",
    "display(ttrs[['T','p-val','i1','i2','type']])"
   ]
  },
  {
   "cell_type": "code",
   "execution_count": null,
   "id": "ce6abd34",
   "metadata": {
    "hidden": true
   },
   "outputs": [],
   "source": [
    "pert_stage"
   ]
  },
  {
   "cell_type": "code",
   "execution_count": null,
   "id": "f3b41e25",
   "metadata": {
    "hidden": true
   },
   "outputs": [],
   "source": []
  },
  {
   "cell_type": "code",
   "execution_count": null,
   "id": "ec6b3361",
   "metadata": {
    "hidden": true
   },
   "outputs": [],
   "source": [
    "#df_['error_pscadj_pertstageadj']"
   ]
  },
  {
   "cell_type": "markdown",
   "id": "16d965e9",
   "metadata": {
    "hidden": true
   },
   "source": [
    "### mds plots"
   ]
  },
  {
   "cell_type": "code",
   "execution_count": null,
   "id": "2ca19ceb",
   "metadata": {
    "hidden": true
   },
   "outputs": [],
   "source": [
    "pivoted_df = df_.pivot(index=[\"trialwpertstage_wb\", 'subject'],\n",
    "                      columns=[\"pert_stage\"], values=\"error\")\n",
    "\n",
    "# convert the pivoted DataFrame to a numpy array\n",
    "X = pivoted_df.to_numpy()\n",
    "print(X.shape)\n",
    "\n",
    "# perform MDS with 2 components\n",
    "mds = MDS(n_components=2, random_state=0)\n",
    "Y = mds.fit_transform(X)"
   ]
  },
  {
   "cell_type": "code",
   "execution_count": null,
   "id": "34eda5b2",
   "metadata": {
    "hidden": true
   },
   "outputs": [],
   "source": [
    "# one subj = 1 point\n",
    "pivot_df = df_.pivot_table(index=[\"subject\", \"pert_stage\", \"trialwpertstage_wb\"], \n",
    "                           values=\"error_pscadj_pertstageadj\")\n",
    "\n",
    "# convert the pivot table to a 2D numpy array\n",
    "pivot_array0 = pivot_df.to_numpy()\n",
    "\n",
    "subjects = df_[\"subject\"].unique()\n",
    "trialwpertstage_wb = df_[\"trialwpertstage_wb\"].unique()\n",
    "pert_stage = df_[\"pert_stage\"].unique()\n",
    "pivot_array = np.reshape(pivot_array0, \n",
    "    (len(subjects), len(trialwpertstage_wb), len(pert_stage)))\n",
    "\n",
    "# print the shape and the content of the array\n",
    "print(pivot_array.shape)\n",
    "print(pivot_array)\n",
    "\n",
    "#Xrsh = X.reshape(20,-1,4)\n",
    "Xrsh = pivot_array\n",
    "\n",
    "\n",
    "X = pivot_array.reshape(-1,4*60)\n",
    "print(X.shape)\n",
    "mds = MDS(n_components=2, random_state=0)\n",
    "Y_complete_subj = mds.fit_transform(X)\n",
    "print(Y_complete_subj.shape)"
   ]
  },
  {
   "cell_type": "code",
   "execution_count": null,
   "id": "707a2636",
   "metadata": {
    "hidden": true
   },
   "outputs": [],
   "source": [
    "Xrsh.shape"
   ]
  },
  {
   "cell_type": "code",
   "execution_count": null,
   "id": "e8716315",
   "metadata": {
    "hidden": true
   },
   "outputs": [],
   "source": [
    "Yrsh.shape"
   ]
  },
  {
   "cell_type": "code",
   "execution_count": null,
   "id": "4a68efca",
   "metadata": {
    "hidden": true
   },
   "outputs": [],
   "source": []
  },
  {
   "cell_type": "code",
   "execution_count": null,
   "id": "ac54070c",
   "metadata": {
    "hidden": true
   },
   "outputs": [],
   "source": [
    "#Y\n",
    "Yrsh = Y_complete_subj\n",
    "# create a figure with one subplot\n",
    "fig, ax = plt.subplots(1, 1, figsize=(5, 5))\n",
    "\n",
    "# plot the 2D projection of the trajectory with different colors for each subject\n",
    "#colors = [\"red\", \"blue\", \"green\", \"yellow\"] # define a list of colors for each subject\n",
    "#for subject in range(1, 5):\n",
    "S = 40\n",
    "N = 10\n",
    "for si in np.arange(N):\n",
    "    # select the rows that belong to the current subject\n",
    "    #mask = df[\"subject\"] == subject\n",
    "    ax.scatter(Yrsh[si,0], Yrsh[si,1], s=S)\n",
    "               #, color=colors[subject-1], label=f\"Subject {subject}\")\n",
    "#ax.set_xlim(-1,1)\n",
    "#ax.set_ylim(-1,1)\n",
    "\n",
    "# add title and labels to the plot\n",
    "ax.set_title(\"MDS Projection of Error Trajectory\")\n",
    "ax.set_xlabel(\"MDS Component 1\")\n",
    "ax.set_ylabel(\"MDS Component 2\")\n",
    "\n",
    "# add a legend to show the color mapping\n",
    "#ax.legend()\n",
    "\n",
    "# show the figure\n",
    "plt.show()"
   ]
  },
  {
   "cell_type": "code",
   "execution_count": null,
   "id": "fedd7c29",
   "metadata": {
    "hidden": true
   },
   "outputs": [],
   "source": []
  },
  {
   "cell_type": "code",
   "execution_count": null,
   "id": "2f43e6fb",
   "metadata": {
    "hidden": true
   },
   "outputs": [],
   "source": [
    "a4d[:,:,:,0].reshape(-1, 60).T"
   ]
  },
  {
   "cell_type": "code",
   "execution_count": null,
   "id": "98169b6c",
   "metadata": {
    "hidden": true
   },
   "outputs": [],
   "source": [
    "# # one pert stage = 1 point\n",
    "# pivot_df = df_.pivot_table(index=[\"subject\", \"pert_stage\", \"trialwpertstage_wb\"], \n",
    "#                            values=\"error_pscadj_pertstageadj\")\n",
    "\n",
    "# # convert the pivot table to a 2D numpy array\n",
    "# pivot_array0 = pivot_df.to_numpy()\n",
    "\n",
    "# subjects = df_[\"subject\"].unique()\n",
    "# trialwpertstage_wb = df_[\"trialwpertstage_wb\"].unique()\n",
    "# pert_stage = df_[\"pert_stage\"].unique()\n",
    "# pivot_array = np.reshape(pivot_array0, \n",
    "#     (len(subjects), len(trialwpertstage_wb), len(pert_stage)))\n",
    "\n",
    "# # print the shape and the content of the array\n",
    "# print(pivot_array.shape)\n",
    "# #print(pivot_array)\n",
    "\n",
    "# #Xrsh = X.reshape(20,-1,4)\n",
    "# Xrsh = pivot_array\n",
    "\n",
    "\n",
    "# X = pivot_array.reshape(-1,60, order='F')\n",
    "\n",
    "Xrsh = a4d[:,:,:,1]\n",
    "print(Xrsh.shape)\n",
    "#np.rollaxis(Xrsh,1).shape\n",
    "X = Xrsh.reshape(-1, 60)\n",
    "print(X.shape)\n",
    "\n",
    "mds = MDS(n_components=2, random_state=0)\n",
    "Y_complete = mds.fit_transform(X)\n",
    "print(Y_complete.shape)\n",
    "\n",
    "Yrsh.shape\n",
    "\n",
    "#Y\n",
    "Yrsh = Y_complete.reshape(20,4,2)\n",
    "# create a figure with one subplot\n",
    "fig, ax = plt.subplots(1, 1, figsize=(10, 10))\n",
    "\n",
    "# plot the 2D projection of the trajectory with different colors for each subject\n",
    "#colors = [\"red\", \"blue\", \"green\", \"yellow\"] # define a list of colors for each subject\n",
    "#for subject in range(1, 5):\n",
    "S = 80\n",
    "N = 20\n",
    "for si in np.arange(N):\n",
    "    # select the rows that belong to the current subject\n",
    "    #mask = df[\"subject\"] == subject\n",
    "    #for mi,m in enumerate(['+','x','o','*']):\n",
    "    #    ax.scatter(Yrsh[si,mi, 0], Yrsh[si,mi, 1], s=S, alpha=0.7, marker=m)\n",
    "    plt.plot(Yrsh[si,:, 0], Yrsh[si,:, 1])\n",
    "               #, color=colors[subject-1], label=f\"Subject {subject}\")\n",
    "#ax.set_xlim(-1,1)\n",
    "#ax.set_ylim(-1,1)\n",
    "\n",
    "# add title and labels to the plot\n",
    "ax.set_title(\"MDS Projection of Error Trajectory\")\n",
    "ax.set_xlabel(\"MDS Component 1\")\n",
    "ax.set_ylabel(\"MDS Component 2\")\n",
    "\n",
    "# add a legend to show the color mapping\n",
    "#ax.legend()\n",
    "\n",
    "# show the figure\n",
    "plt.show()"
   ]
  },
  {
   "cell_type": "code",
   "execution_count": null,
   "id": "af19eea0",
   "metadata": {
    "hidden": true
   },
   "outputs": [],
   "source": [
    "pivot_df = df_.pivot_table(index=[\"subject\", \"trialwpertstage_wb\", \"pert_stage\"], \n",
    "                           values=\"error_pscadj_pertstageadj\")\n",
    "\n",
    "# convert the pivot table to a 2D numpy array\n",
    "pivot_array0 = pivot_df.to_numpy()\n",
    "\n",
    "subjects = df_[\"subject\"].unique()\n",
    "trialwpertstage_wb = df_[\"trialwpertstage_wb\"].unique()\n",
    "pert_stage = df_[\"pert_stage\"].unique()\n",
    "pivot_array = np.reshape(pivot_array0, \n",
    "    (len(subjects), len(trialwpertstage_wb), len(pert_stage)))\n",
    "\n",
    "# print the shape and the content of the array\n",
    "print(pivot_array.shape)\n",
    "#print(pivot_array)\n",
    "\n",
    "#Xrsh = X.reshape(20,-1,4)\n",
    "Xrsh = pivot_array"
   ]
  },
  {
   "cell_type": "code",
   "execution_count": null,
   "id": "b5d972b5",
   "metadata": {
    "hidden": true
   },
   "outputs": [],
   "source": [
    "a4d = a3d.reshape(20,4,60,2, order='F')\n",
    "X = np.rollaxis(a4d[:,:,:,1],2)\n",
    "a = np.rollaxis(a4d[:,:,:,0],2)\n",
    "print(X.shape)# [:,:,0]\n",
    "#X = a4d[:,:,:,1].reshape()"
   ]
  },
  {
   "cell_type": "code",
   "execution_count": null,
   "id": "1d8aa6d8",
   "metadata": {
    "hidden": true
   },
   "outputs": [],
   "source": [
    "a"
   ]
  },
  {
   "cell_type": "code",
   "execution_count": null,
   "id": "e0e3cdce",
   "metadata": {
    "hidden": true
   },
   "outputs": [],
   "source": [
    "mds = MDS(n_components=2, random_state=0)\n",
    "Y = mds.fit_transform(X.reshape(-1,4,order='F'))#.reshape( *X.shape[:2], -1)"
   ]
  },
  {
   "cell_type": "code",
   "execution_count": null,
   "id": "b21cfea7",
   "metadata": {
    "hidden": true
   },
   "outputs": [],
   "source": [
    "Yrsh = Y.reshape( *X.shape[:2], -1, order='F')\n",
    "print(Y.shape, Yrsh.shape)"
   ]
  },
  {
   "cell_type": "code",
   "execution_count": null,
   "id": "d9bb0e24",
   "metadata": {
    "hidden": true
   },
   "outputs": [],
   "source": [
    "# Yrsh = np.rollaxis(Yrsh,1)\n",
    "# Yrsh.shape"
   ]
  },
  {
   "cell_type": "code",
   "execution_count": null,
   "id": "ae2752b8",
   "metadata": {
    "hidden": true
   },
   "outputs": [],
   "source": []
  },
  {
   "cell_type": "code",
   "execution_count": null,
   "id": "02726737",
   "metadata": {
    "hidden": true
   },
   "outputs": [],
   "source": [
    "X = pivot_array.reshape(-1,4, order='F')\n",
    "print(X.shape)\n",
    "mds = MDS(n_components=2, random_state=0)\n",
    "Y = mds.fit_transform(X)\n",
    "print(Y.shape)"
   ]
  },
  {
   "cell_type": "code",
   "execution_count": null,
   "id": "c45cf830",
   "metadata": {
    "hidden": true
   },
   "outputs": [],
   "source": [
    "# TODO: other data groupings (single subject as datapoint, entire pert stage as datapoint)"
   ]
  },
  {
   "cell_type": "code",
   "execution_count": null,
   "id": "5fe3b6f0",
   "metadata": {
    "hidden": true
   },
   "outputs": [],
   "source": [
    "#Y\n",
    "print(Yrsh.shape)\n",
    "#Yrsh = Y.reshape(20,-1,2, order = 'F')\n",
    "# create a figure with one subplot\n",
    "fig, ax = plt.subplots(1, 1, figsize=(10, 10))\n",
    "\n",
    "# plot the 2D projection of the trajectory with different colors for each subject\n",
    "#colors = [\"red\", \"blue\", \"green\", \"yellow\"] # define a list of colors for each subject\n",
    "#for subject in range(1, 5):\n",
    "S = 40\n",
    "N = 2\n",
    "for si in np.arange(N):\n",
    "    # select the rows that belong to the current subject\n",
    "    #mask = df[\"subject\"] == subject\n",
    "    ax.scatter(Yrsh[:,si, 0], Yrsh[:,si, 1], s=S, alpha=0.7)\n",
    "               #, color=colors[subject-1], label=f\"Subject {subject}\")\n",
    "#ax.set_xlim(-1,1)\n",
    "#ax.set_ylim(-1,1)\n",
    "\n",
    "# add title and labels to the plot\n",
    "ax.set_title(\"MDS Projection of Error Trajectory\")\n",
    "ax.set_xlabel(\"MDS Component 1\")\n",
    "ax.set_ylabel(\"MDS Component 2\")\n",
    "\n",
    "# add a legend to show the color mapping\n",
    "#ax.legend()\n",
    "\n",
    "# show the figure\n",
    "plt.show()"
   ]
  },
  {
   "cell_type": "code",
   "execution_count": null,
   "id": "78997ce3",
   "metadata": {
    "hidden": true
   },
   "outputs": [],
   "source": [
    "a3d = np.array(list(df_.groupby(['subject','pert_stage']).apply(lambda x:\n",
    "    x[['trialwpertstage_wb','error_pscadj_pertstageadj']].to_numpy())))\n",
    "print(a3d.shape)\n",
    "#subj, pertstage, trial, trialind\n",
    "a4d = a3d.reshape(20,4,60,2, order='F')\n",
    "a4d_ = a3d.reshape(20,60,4,2, order='F')"
   ]
  },
  {
   "cell_type": "code",
   "execution_count": null,
   "id": "4d0870cf",
   "metadata": {
    "hidden": true
   },
   "outputs": [],
   "source": [
    "a4d[0,:,:,0]"
   ]
  },
  {
   "cell_type": "code",
   "execution_count": null,
   "id": "03f348f6",
   "metadata": {
    "hidden": true
   },
   "outputs": [],
   "source": [
    "plt.plot(a4d[0,:,:,1].T)\n",
    "plt.show()\n",
    "plt.plot(a4d[1,:,:,1].T)"
   ]
  },
  {
   "cell_type": "code",
   "execution_count": null,
   "id": "03b4d630",
   "metadata": {
    "hidden": true
   },
   "outputs": [],
   "source": [
    "#X\n",
    "Xrsh = a4d[:,:,:,1]\n",
    "fig, axs = plt.subplots(2, 2, figsize=(10, 10))\n",
    "N = 3\n",
    "S = 10\n",
    "pargs={'marker':'o', 'ms':S, 'lw':0, 'alpha':0.5}\n",
    "ax = axs[0,0]\n",
    "i1,i2 = 0,1\n",
    "for si in np.arange(N):\n",
    "    #ax.plot(Xrsh[si,:, 0], Xrsh[si,:, 1], ms=S)\n",
    "    ax.plot(Xrsh[si,i1,:], Xrsh[si,i2,:], **pargs)\n",
    "    ax.set_xlabel(str(i1)); ax.set_ylabel(str(i2)); \n",
    "\n",
    "ax = axs[0,1]\n",
    "i1,i2 = 2,3\n",
    "for si in np.arange(N):\n",
    "    ax.plot(Xrsh[si,i1,:], Xrsh[si,i2,:], **pargs)\n",
    "    ax.set_xlabel(str(i1)); ax.set_ylabel(str(i2)); \n",
    "    \n",
    "ax = axs[1,0]\n",
    "i1,i2 = 0,2\n",
    "for si in np.arange(N):\n",
    "    ax.plot(Xrsh[si,i1,:], Xrsh[si,i2,:], **pargs)\n",
    "    ax.set_xlabel(str(i1)); ax.set_ylabel(str(i2)); \n",
    "\n",
    "ax = axs[1,1]\n",
    "i1,i2 = 1,3\n",
    "for si in np.arange(N):\n",
    "    ax.plot(Xrsh[si,i1,:], Xrsh[si,i2,:], **pargs)\n",
    "    ax.set_xlabel(str(i1)); ax.set_ylabel(str(i2)); \n",
    "\n",
    "######################\n",
    "ylim = (-1,1)\n",
    "for ax in axs.flatten():\n",
    "    ax.set_xlim(*ylim)\n",
    "    ax.set_ylim(*ylim)\n",
    "\n",
    "# show the figure\n",
    "plt.tight_layout()\n",
    "plt.show()"
   ]
  },
  {
   "cell_type": "code",
   "execution_count": null,
   "id": "75dde44e",
   "metadata": {
    "hidden": true
   },
   "outputs": [],
   "source": [
    "sns.scatterplot(x='')"
   ]
  },
  {
   "cell_type": "code",
   "execution_count": null,
   "id": "3357f81c",
   "metadata": {
    "hidden": true
   },
   "outputs": [],
   "source": [
    "#This means that the shape of the array will be (nrows, ncols * nvalues),\n",
    "pivot_df = df_.pivot_table(index=[\"subject\", 'trialwpertstage_wb'], \n",
    "                           columns=[ \"pert_stage\"],\n",
    "                           values=[\"error_pscadj_pertstageadj\"])\n",
    "pivot_df.to_numpy().shape"
   ]
  },
  {
   "cell_type": "code",
   "execution_count": null,
   "id": "9544a011",
   "metadata": {
    "hidden": true
   },
   "outputs": [],
   "source": [
    "pivot_df"
   ]
  },
  {
   "cell_type": "code",
   "execution_count": null,
   "id": "dd7f8fa7",
   "metadata": {
    "hidden": true
   },
   "outputs": [],
   "source": [
    "pivot_df.values.shape"
   ]
  },
  {
   "cell_type": "code",
   "execution_count": null,
   "id": "929419a3",
   "metadata": {
    "hidden": true
   },
   "outputs": [],
   "source": [
    "df__ = df_[[\"subject\", \"pert_stage\", \"trialwpertstage_wb\",\n",
    "     'error_pscadj_pertstageadj']].set_index([\"subject\", \"pert_stage\", \"trialwpertstage_wb\"])\n",
    "df__.unstack(level=-1).to_numpy().shape #['error_pscadj_pertstageadj']\n",
    "#df_.set_index([\"subject\", \"pert_stage\", \"trialwpertstage_wb\"])['error_pscadj_pertstageadj'].unstack(-1).to_numpy().shape\n",
    "#values.shape"
   ]
  },
  {
   "cell_type": "code",
   "execution_count": null,
   "id": "f240e7cf",
   "metadata": {
    "hidden": true
   },
   "outputs": [],
   "source": [
    "df__['error_pscadj_pertstageadj'].unstack().to_numpy().shape"
   ]
  },
  {
   "cell_type": "code",
   "execution_count": null,
   "id": "037649b2",
   "metadata": {
    "hidden": true
   },
   "outputs": [],
   "source": [
    "80*60"
   ]
  },
  {
   "cell_type": "code",
   "execution_count": null,
   "id": "bda7a348",
   "metadata": {
    "hidden": true
   },
   "outputs": [],
   "source": []
  },
  {
   "cell_type": "code",
   "execution_count": null,
   "id": "5996804b",
   "metadata": {
    "hidden": true
   },
   "outputs": [],
   "source": [
    "pivot_df = df_.pivot_table(index=[\"subject\",\"trialwpertstage_wb\"], \n",
    "                           columns=[ \"pert_stage\"],\n",
    "                           values=[\"error_pscadj_pertstageadj\"], \n",
    "                           aggfunc='first')\n",
    "pivot_df"
   ]
  },
  {
   "cell_type": "code",
   "execution_count": null,
   "id": "d3a96fdd",
   "metadata": {
    "hidden": true
   },
   "outputs": [],
   "source": [
    "# one pert stage = 1 point\n",
    "pivot_df = df_.pivot_table(index=[\"subject\", \"pert_stage\"], \n",
    "                           columns='trialwpertstage_wb',\n",
    "                           values=[\"error_pscadj_pertstageadj\"], aggfunc='first')\n",
    "\n",
    "# convert the pivot table to a 2D numpy array\n",
    "pivot_array0 = pivot_df.to_numpy()\n",
    "\n",
    "subjects = df_[\"subject\"].unique()\n",
    "trialwpertstage_wb = df_[\"trialwpertstage_wb\"].unique()\n",
    "pert_stage = df_[\"pert_stage\"].unique()\n",
    "pivot_array = np.reshape(pivot_array0, \n",
    "    (len(subjects), len(trialwpertstage_wb), len(pert_stage)), order='F')\n",
    "pivot_array.shape"
   ]
  },
  {
   "cell_type": "code",
   "execution_count": null,
   "id": "22c25e47",
   "metadata": {
    "hidden": true
   },
   "outputs": [],
   "source": [
    "pivot_df.values.shape"
   ]
  },
  {
   "cell_type": "code",
   "execution_count": null,
   "id": "3f3148e3",
   "metadata": {
    "hidden": true
   },
   "outputs": [],
   "source": [
    "pivot_df"
   ]
  },
  {
   "cell_type": "code",
   "execution_count": null,
   "id": "b9cd8c00",
   "metadata": {
    "hidden": true
   },
   "outputs": [],
   "source": [
    "print(pivot_array0.shape, pivot_array.shape)\n",
    "pivot_array[0,:,0]"
   ]
  },
  {
   "cell_type": "code",
   "execution_count": null,
   "id": "f355628b",
   "metadata": {
    "hidden": true
   },
   "outputs": [],
   "source": [
    "pd.__version__\n"
   ]
  },
  {
   "cell_type": "code",
   "execution_count": null,
   "id": "3a71bcb9",
   "metadata": {
    "hidden": true
   },
   "outputs": [],
   "source": [
    "df00 = pd.DataFrame({\n",
    "    'name': ['Alice', 'Bob', 'Charlie', 'David'],\n",
    "    'type': ['A', 'B', 'A', 'B'],\n",
    "    'date': ['2023-01-01', '2023-01-02', '2023-01-03', '2023-01-04'],\n",
    "    'value': [10, 20, 30, 40]\n",
    "})\n",
    "\n",
    "pivoted = df00.pivot(index='name', columns=['type', 'date'], values='value')\n",
    "pivoted.values.shape"
   ]
  }
 ],
 "metadata": {
  "kernelspec": {
   "display_name": "merr3_mamba",
   "language": "python",
   "name": "merr3_mamba"
  },
  "language_info": {
   "codemirror_mode": {
    "name": "ipython",
    "version": 3
   },
   "file_extension": ".py",
   "mimetype": "text/x-python",
   "name": "python",
   "nbconvert_exporter": "python",
   "pygments_lexer": "ipython3",
   "version": "3.11.5"
  }
 },
 "nbformat": 4,
 "nbformat_minor": 5
}
