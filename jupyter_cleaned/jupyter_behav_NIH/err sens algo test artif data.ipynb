{
 "cells": [
  {
   "cell_type": "code",
   "execution_count": null,
   "id": "fdbf65e1",
   "metadata": {},
   "outputs": [],
   "source": [
    "%load_ext autoreload\n",
    "%autoreload 2\n",
    "\n",
    "import os\n",
    "ipy = get_ipython()\n",
    "#data_dir_general = '/home/demitau/data_Quentin'\n",
    "#data_subdir_mem_err_main = 'full_experiments/data2'\n",
    "from os.path import join as pjoin\n",
    "import os,sys; sys.path.append(os.path.expandvars('$CODE_MEMORY_ERRORS'))\n",
    "import error_sensitivity\n",
    "#data_dir_input = pjoin(data_dir_general,data_subdir_mem_err_main)\n",
    "import pandas as pd\n",
    "\n",
    "#data_dir_general = '/home/demitau/data_Quentin'\n",
    "#data_subdir_mem_err_main = 'full_experiments/data2'\n",
    "#data_dir_input = pjoin(data_dir_general,data_subdir_mem_err_main)\n",
    "#scripts_dir = pjoin(data_dir_general,'full_experiments','scripts2')\n",
    "\n",
    "data_dir_general = os.path.expandvars('$DATA_QUENTIN')\n",
    "data_dir_input = os.path.expandvars('$DATA_MEMORY_ERRORS_STAB_AND_STOCH')\n",
    "#scripts_dir = pjoin( os.path.expandvars('$CODE_MEMORY_ERRORS'), 'previous_analyses')\n",
    "scripts_dir = pjoin( os.path.expandvars('$CODE_MEMORY_ERRORS'))\n",
    "\n",
    "\n",
    "\n",
    "import numpy as np\n",
    "\n",
    "import matplotlib.pyplot as plt\n",
    "import seaborn as sns\n",
    "print('seaborn ver = ', sns.__version__)\n",
    "#assert sns.__version__ == '0.12.2', sns.__version__\n",
    "import matplotlib as mpl\n",
    "COLOR = 'black'\n",
    "mpl.rcParams['text.color'] = COLOR\n",
    "mpl.rcParams['axes.labelcolor'] = COLOR\n",
    "mpl.rcParams['xtick.color'] = COLOR\n",
    "mpl.rcParams['ytick.color'] = COLOR\n",
    "\n",
    "\n",
    "sns.set(rc={'axes.facecolor':'white', 'figure.facecolor':'white',\n",
    "           'grid.color':'grey', 'grid.alpha':0.5})\n",
    "\n",
    "tgtc = ['b','g','r','brown']\n",
    "\n",
    "\n",
    "from glob import glob\n",
    "from pathlib import Path\n",
    "d = '/home/demitau/data_Quentin/pilot_studies/context_change_behav/'\n",
    "for fnf in glob(d + '2023-SE1-0*[0-9].log'):\n",
    "    name = Path(fnf).name\n",
    "    fnb = name.replace('.log','')\n",
    "    print( f'\"{fnb}\",' )\n",
    "    \n",
    "    \n",
    "fnbs = ['2023-SE1-003_context_change_20230322_092232']\n",
    "print(fnbs)  "
   ]
  },
  {
   "cell_type": "code",
   "execution_count": null,
   "id": "a56ba26f",
   "metadata": {},
   "outputs": [],
   "source": [
    "from behav_proc import computeErrSensVersions\n",
    "#envs_cur = ['stable', 'random', 'all']\n",
    "envs_cur = ['all']\n",
    "#tgt_inds_cur = list( dfccos['tgti_to_show'].unique() )  + [None]\n",
    "tgt_inds_cur =[None]\n",
    "#tgt_inds_cur = [None]  # DEBUG\n",
    "\n",
    "block_names_cur = ['all']\n",
    "pertvals_cur = [None]\n",
    "gseqcs_cur = [ None ]\n",
    "dists_rad_from_prevtgt_cur = [None]\n",
    "dists_trial_from_prevtgt_cur = [None]\n",
    "error_type = 'MPE'\n",
    "time_lockeds=['trial_end']\n",
    "\n",
    "df_all['environment'] = 1111\n",
    "#df_all['feedbackX'] = 1\n",
    "#df_all['feedbackY'] = 1\n",
    "#%debug"
   ]
  },
  {
   "cell_type": "code",
   "execution_count": null,
   "id": "d44fc688",
   "metadata": {},
   "outputs": [],
   "source": [
    "rows = []\n",
    "row = {'coln_error': -10., 'coln_correction_calc':20}\n",
    "rows += [row]\n",
    "\n",
    "row = {'coln_error': -5., 'coln_correction_calc':50.}\n",
    "rows += [row]\n",
    "\n",
    "row = {'coln_error': -2, 'coln_correction_calc':100.}\n",
    "rows += [row]"
   ]
  },
  {
   "cell_type": "code",
   "execution_count": null,
   "id": "7031cdb5",
   "metadata": {},
   "outputs": [],
   "source": [
    "rows = []\n",
    "row = {'coln_error': -2., 'coln_correction_calc':20}\n",
    "rows += [row]\n",
    "\n",
    "row = {'coln_error': -2., 'coln_correction_calc':40.}\n",
    "rows += [row]\n",
    "\n",
    "row = {'coln_error': -2, 'coln_correction_calc':60.}\n",
    "rows += [row]"
   ]
  },
  {
   "cell_type": "code",
   "execution_count": null,
   "id": "1f28efd3",
   "metadata": {},
   "outputs": [],
   "source": [
    "rows = []\n",
    "row = {'coln_error': -2., 'coln_correction_calc':20}\n",
    "rows += [row]\n",
    "\n",
    "row = {'coln_error': -4., 'coln_correction_calc':40.}\n",
    "rows += [row]\n",
    "\n",
    "row = {'coln_error': -8, 'coln_correction_calc':80.}\n",
    "rows += [row]"
   ]
  },
  {
   "cell_type": "code",
   "execution_count": null,
   "id": "1db166f7",
   "metadata": {},
   "outputs": [],
   "source": [
    "rows = []\n",
    "row = {'coln_error': -3., 'coln_correction_calc':40}\n",
    "rows += [row]\n",
    "\n",
    "row = {'coln_error': -2., 'coln_correction_calc':30.}\n",
    "rows += [row]\n",
    "\n",
    "row = {'coln_error': -1, 'coln_correction_calc':20.}\n",
    "rows += [row]"
   ]
  },
  {
   "cell_type": "code",
   "execution_count": null,
   "id": "16266976",
   "metadata": {},
   "outputs": [],
   "source": [
    "coln_pairs = [ ('coln_error','coln_correction_calc',\n",
    "               'coln_nh','calcname') ]\n",
    "coln_error,coln_correction_calc,coln_nh, calc_name = coln_pairs[0]\n",
    "\n",
    "\n",
    "df_all = pd.DataFrame(rows)\n",
    "\n",
    "df_all['trials'] = np.arange(len(df_all))\n",
    "df_all['target_locs'] = 90\n",
    "df_all['coln_nh'] = True\n",
    "df_all['subject'] = 'sub1'\n",
    "df_all['perturbation'] = 0\n",
    "df_all['feedbackX'] = np.nan\n",
    "df_all['feedbackY'] = np.nan\n",
    "df_all['environment'] = 1111\n",
    "\n",
    "subjects_ = ['sub1']\n",
    "\n",
    "display(df_all)"
   ]
  },
  {
   "cell_type": "code",
   "execution_count": null,
   "id": "ba9f0d41",
   "metadata": {
    "code_folding": [
     2,
     5,
     34
    ]
   },
   "outputs": [],
   "source": [
    "dfouts = []\n",
    "import sys, traceback\n",
    "try:\n",
    "    for coln_error,coln_correction_calc,coln_nh, calc_name  in coln_pairs:\n",
    "        for time_locked in time_lockeds:\n",
    "            df_all_multi_tsz, ndf2vn = computeErrSensVersions(df_all, envs_cur,block_names_cur,\n",
    "                pertvals_cur,gseqcs_cur,tgt_inds_cur,\n",
    "                dists_rad_from_prevtgt_cur,dists_trial_from_prevtgt_cur,\n",
    "                subj_list = subjects_, error_type=error_type,\n",
    "                trial_shift_sizes = [1],\n",
    "                addvars=[], target_info_type = 'locs',                                        \n",
    "                computation_ver = 'computeErrSens3', \n",
    "                coln_nh = coln_nh,\n",
    "                time_locked = time_locked,\n",
    "                coln_nh_out = coln_nh + '_shifted',\n",
    "                coln_error =coln_error,\n",
    "                coln_correction_calc = coln_correction_calc,\n",
    "                verbose=1,)\n",
    "            df_all_multi_tsz['error_data_for_calc'] = calc_name\n",
    "            dfouts += [df_all_multi_tsz]\n",
    "    df_all_multi_tsz = pd.concat(dfouts).reset_index()\n",
    "    \n",
    "    dftmp = df_all_multi_tsz.set_index('trials').drop(labels=['index'],axis=1)\n",
    "\n",
    "    cols = ['coln_error','prev_error', 'coln_correction_calc',\n",
    "            'err_sens','prev_err_sens',\n",
    "            'target_locs',\n",
    "           'coln_nh', 'coln_nh_shifted',\n",
    "           'time_locked', \n",
    "            'correction', 'trial_inds_glob_prevlike_error',\n",
    "           'trial_inds_glob_nextlike_error',  \n",
    "           'dist_rad_from_prevtgt2']\n",
    "    dftmp = dftmp[cols]\n",
    "    display( dftmp )\n",
    "except Exception as e:\n",
    "    print('EXC',e)\n",
    "    exc_info = sys.exc_info()\n",
    "    exc = traceback.TracebackException(*exc_info, capture_locals=True)\n",
    "    \n",
    "    psf = exc_info[2].tb_next\n",
    "    stackframe = exc_info[2].tb_next.tb_frame\n",
    "    \n",
    "    display(psf.tb_frame)\n",
    "    display(psf.tb_next.tb_frame)\n",
    "    \n",
    "    local_vars_in_fun = stackframe.f_locals"
   ]
  },
  {
   "cell_type": "code",
   "execution_count": null,
   "id": "0c660c56",
   "metadata": {},
   "outputs": [],
   "source": [
    "3 +3"
   ]
  },
  {
   "cell_type": "code",
   "execution_count": null,
   "id": "744a79ed",
   "metadata": {},
   "outputs": [],
   "source": [
    "display(psf.tb_next.tb_next.tb_frame)"
   ]
  },
  {
   "cell_type": "code",
   "execution_count": null,
   "id": "f2a7bc13",
   "metadata": {},
   "outputs": [],
   "source": [
    "lf = psf.tb_next.tb_next.tb_frame.f_locals\n",
    "lf['vals']"
   ]
  },
  {
   "cell_type": "code",
   "execution_count": null,
   "id": "81111c8d",
   "metadata": {},
   "outputs": [],
   "source": [
    "df_all_multi_tsz.columns"
   ]
  },
  {
   "cell_type": "markdown",
   "id": "f4534a4f",
   "metadata": {},
   "source": [
    "# Shapely play"
   ]
  },
  {
   "cell_type": "code",
   "execution_count": null,
   "id": "4f5d13ad",
   "metadata": {
    "run_control": {
     "marked": true
    }
   },
   "outputs": [],
   "source": [
    "from shapely.geometry import LineString, MultiPolygon\n",
    "from shapely.ops import polygonize, unary_union"
   ]
  },
  {
   "cell_type": "code",
   "execution_count": null,
   "id": "c48468cf",
   "metadata": {},
   "outputs": [],
   "source": [
    "import shapely; print(shapely.__version__)\n",
    "assert shapely.__version__ == \"2.0.1\""
   ]
  },
  {
   "cell_type": "code",
   "execution_count": null,
   "id": "a926f69b",
   "metadata": {},
   "outputs": [],
   "source": [
    "pts = [ [0,0],  [1,1],   [2,0], [1,-1], [0.25,1], [0,0]]\n",
    "xs,ys = list( zip(*pts) )\n",
    "plt.plot(xs,ys)"
   ]
  },
  {
   "cell_type": "code",
   "execution_count": null,
   "id": "3c2db4bc",
   "metadata": {},
   "outputs": [],
   "source": [
    "d = {}\n",
    "pts     = [ [0,0],  [0,1],   [1,1], [1,0], [0,0]] # CW\n",
    "d['square'] = pts\n",
    "pts = [ [0,0],  [1,1], [0,1],    [1,0], [0,0]]\n",
    "d['bowtie'] = pts\n",
    "pts = [ [0,0],  [2,1], [0,1],    [1,0], [0,0]]\n",
    "d['bowtie_big'] = pts\n",
    "pts = [ [0,0],  [0,1],    [1,0], [1,1], [0,0]]\n",
    "d['bowtieT'] = pts\n",
    "\n",
    "for n, pts in d.items():\n",
    "    plt.figure(figsize=(3,3))\n",
    "    xs,ys = list( zip(*pts) )\n",
    "    plt.plot(xs,ys, label=n)\n",
    "    plt.suptitle(n)\n",
    "    plt.show()"
   ]
  },
  {
   "cell_type": "code",
   "execution_count": null,
   "id": "5d4cc4e9",
   "metadata": {},
   "outputs": [],
   "source": [
    "# first CW, second also CCW"
   ]
  },
  {
   "cell_type": "code",
   "execution_count": null,
   "id": "cc140734",
   "metadata": {},
   "outputs": [],
   "source": [
    "shapely.make_valid"
   ]
  },
  {
   "cell_type": "code",
   "execution_count": null,
   "id": "c8256617",
   "metadata": {},
   "outputs": [],
   "source": [
    "from shapely.algorithms.cga import signed_area"
   ]
  },
  {
   "cell_type": "code",
   "execution_count": null,
   "id": "10d30a0d",
   "metadata": {},
   "outputs": [],
   "source": []
  },
  {
   "cell_type": "code",
   "execution_count": null,
   "id": "cde1d978",
   "metadata": {},
   "outputs": [],
   "source": [
    "for n, pts in d.items():\n",
    "    print('--------',n)\n",
    "    xs,ys = list( zip(*pts) )\n",
    "    lr = LineString(np.c_[xs, ys])\n",
    "    mls = unary_union(lr)\n",
    "    print(mls.geom_type)\n",
    "    for polygon in polygonize(mls):\n",
    "        print( polygon.wkt )\n",
    "        print( polygon.area )\n",
    "    #mp = shapely.validation.make_valid(shapely.geometry.Polygon(np.c_[xs, ys]))\n",
    "    mp = shapely.make_valid(shapely.geometry.Polygon(np.c_[xs, ys]))\n",
    "    print( 'validated area ',mp.area )\n",
    "    print('signed_area ',signed_area(lr ) )  # arg should be ring"
   ]
  },
  {
   "cell_type": "code",
   "execution_count": null,
   "id": "00ac7e6a",
   "metadata": {},
   "outputs": [],
   "source": []
  },
  {
   "cell_type": "code",
   "execution_count": null,
   "id": "e6a2b17b",
   "metadata": {},
   "outputs": [],
   "source": [
    "polygon.is_closed, polygon.is_simple, polygon.is_ring, polygon.is_valid, polygon.is_empty"
   ]
  },
  {
   "cell_type": "code",
   "execution_count": null,
   "id": "69ef703b",
   "metadata": {},
   "outputs": [],
   "source": [
    "polygon.touches?"
   ]
  },
  {
   "cell_type": "code",
   "execution_count": null,
   "id": "fad611b3",
   "metadata": {},
   "outputs": [],
   "source": [
    "polygon.bounds"
   ]
  },
  {
   "cell_type": "code",
   "execution_count": null,
   "id": "1e236797",
   "metadata": {},
   "outputs": [],
   "source": [
    "np.c_?"
   ]
  },
  {
   "cell_type": "code",
   "execution_count": null,
   "id": "1dfe4749",
   "metadata": {},
   "outputs": [],
   "source": [
    "import shapely\n",
    "shapely.__version__"
   ]
  },
  {
   "cell_type": "code",
   "execution_count": null,
   "id": "9c911c01",
   "metadata": {},
   "outputs": [],
   "source": [
    "np.c_[xs, ys].shape"
   ]
  },
  {
   "cell_type": "code",
   "execution_count": null,
   "id": "fd525ed6",
   "metadata": {},
   "outputs": [],
   "source": [
    "# original data\n",
    "ls = LineString(np.c_[xs, ys])\n",
    "# closed, non-simple\n",
    "lr = LineString(ls.coords[:] + ls.coords[0:1])\n",
    "print(lr.is_simple)  # False\n",
    "\n",
    "mls = unary_union(lr)\n",
    "print(mls.geom_type)  # MultiLineString'"
   ]
  },
  {
   "cell_type": "code",
   "execution_count": null,
   "id": "a744971d",
   "metadata": {},
   "outputs": [],
   "source": [
    "polygon.is_ccw"
   ]
  },
  {
   "cell_type": "code",
   "execution_count": null,
   "id": "23f39d1e",
   "metadata": {},
   "outputs": [],
   "source": [
    "for polygon in polygonize(mls):\n",
    "    print(polygon)\n",
    "    display(polygon)\n",
    "    print(polygon.area)"
   ]
  },
  {
   "cell_type": "code",
   "execution_count": null,
   "id": "11f435a8",
   "metadata": {},
   "outputs": [],
   "source": [
    "mp = MultiPolygon(list(polygonize(mls)))\n",
    "mp.area"
   ]
  },
  {
   "cell_type": "code",
   "execution_count": null,
   "id": "eeb647c2",
   "metadata": {},
   "outputs": [],
   "source": [
    "#from shapely.validation import make_valid"
   ]
  },
  {
   "cell_type": "code",
   "execution_count": null,
   "id": "e507c2ae",
   "metadata": {},
   "outputs": [],
   "source": [
    "# right hor gives  +90\n",
    "X,Y = 1,0\n",
    "r = np.arctan2(X,Y) / np.pi * 180\n",
    "print(r)\n",
    "# left hor -90\n",
    "X,Y = -1,0\n",
    "np.arctan2(X,Y) / np.pi * 180"
   ]
  },
  {
   "cell_type": "code",
   "execution_count": null,
   "id": "ed6261a6",
   "metadata": {},
   "outputs": [],
   "source": [
    "# inv\n",
    "X,Y = 1,0\n",
    "r = np.arctan2(Y,X) / np.pi * 180\n",
    "print(r)"
   ]
  },
  {
   "cell_type": "code",
   "execution_count": null,
   "id": "36d01c20",
   "metadata": {},
   "outputs": [],
   "source": [
    "from base2 import calc_rad_angle_from_coordinates\n",
    "for XYn in [ (0,-1,'bottom'), (1,0,'right'), (0,1,'top'), (-1,0,'left') ]:\n",
    "    X,Y,name = XYn\n",
    "    r = calc_rad_angle_from_coordinates(np.array([X]),np.array([Y]),1.) / np.pi * 180\n",
    "    print(name, r)"
   ]
  },
  {
   "cell_type": "markdown",
   "id": "b5b951ac",
   "metadata": {
    "heading_collapsed": true
   },
   "source": [
    "## add"
   ]
  },
  {
   "cell_type": "code",
   "execution_count": null,
   "id": "a544d94e",
   "metadata": {
    "hidden": true
   },
   "outputs": [],
   "source": [
    "import shapely\n",
    "from shapely.geometry import box, LineString, Polygon\n",
    "\n",
    "\n",
    "def touch_direction(touched_poly, touching_poly_list):\n",
    "    \"\"\"\n",
    "    Determine a direction from where polygons in a list of touching polygons \n",
    "    touch a certain Shapely Polygon\n",
    "    \n",
    "    :param touched_poly:        The Shapely polygon that is touched\n",
    "    :type touched_poly:         Polygon\n",
    "    :param touching_poly_list:  A flat list of Shapely Polygons that are known \n",
    "                                to touch the `touched_poly` Polygon\n",
    "    :type touching_poly_list:   list\n",
    "    :return:                    A dictionary having 4 keys (\"top\", \"bottom\", \"left\", \"right\") \n",
    "                                each having as value a list with the Shapely Polygons that \n",
    "                                touch the targeted Polygon (touched_poly) from \n",
    "                                a certain spatial direction\n",
    "    :rtype:                     dict\n",
    "    \"\"\"\n",
    "    \n",
    "    result = {\n",
    "        \"top\":[],\n",
    "        \"bottom\": [],\n",
    "        \"left\": [],\n",
    "        \"right\": []\n",
    "    }\n",
    "    # the minx, miny, maxx, maxy bounding box bounds for the touched polygon\n",
    "    touched_bounds = touched_poly.bounds\n",
    "\n",
    "    # we create a Polygon that is a bit bigger than the touched polygon bounding box \n",
    "    # such we can check if any touching polygon crosses that boundary\n",
    "    \"https://shapely.readthedocs.io/en/stable/manual.html#object.crosses\"\n",
    "    # feel free to adjust the distance parameter in the following buffer() call,\n",
    "    # currently distance = 0.1\n",
    "    touch_bounds_poly_buffered = box(*touched_bounds).buffer(distance=0.1)\n",
    "\n",
    "    # get the bounding limits for the new enlarged bounding box Polygon\n",
    "    minx, miny, maxx, maxy = touch_bounds_poly_buffered.bounds\n",
    "\n",
    "    # and make 4 LineStrings out of them, one for each direction\n",
    "    left_line = LineString([(minx, miny), (minx, maxy)])\n",
    "    right_line = LineString([(maxx, miny), (maxx, maxy)])\n",
    "    top_line = LineString([(minx, maxy), (maxx, maxy)])\n",
    "    bottom_line = LineString([(minx, miny), (maxx, miny)])\n",
    "\n",
    "    # iterate over the touching polygons and determine through which line they cross\n",
    "    # it is possible that the touching polygon will touch from multiple directions \n",
    "    # therefore it can be found in more than one list in the result\n",
    "    for touching_poly in touching_poly_list:\n",
    "        if touching_poly.crosses(top_line):\n",
    "            result[\"top\"].append(touching_poly)\n",
    "        if touching_poly.crosses(bottom_line):\n",
    "            result[\"bottom\"].append(touching_poly)\n",
    "        if touching_poly.crosses(left_line):\n",
    "            result[\"left\"].append(touching_poly)\n",
    "        if touching_poly.crosses(right_line):\n",
    "            result[\"right\"].append(touching_poly)\n",
    "\n",
    "    return result"
   ]
  }
 ],
 "metadata": {
  "kernelspec": {
   "display_name": "merr2",
   "language": "python",
   "name": "merr2"
  },
  "language_info": {
   "codemirror_mode": {
    "name": "ipython",
    "version": 3
   },
   "file_extension": ".py",
   "mimetype": "text/x-python",
   "name": "python",
   "nbconvert_exporter": "python",
   "pygments_lexer": "ipython3",
   "version": "3.10.10"
  }
 },
 "nbformat": 4,
 "nbformat_minor": 5
}
