{
 "cells": [
  {
   "cell_type": "code",
   "execution_count": null,
   "id": "fc9146dd",
   "metadata": {},
   "outputs": [],
   "source": [
    "%load_ext autoreload\n",
    "%autoreload 2\n",
    "\n",
    "import os\n",
    "import pandas as pd\n",
    "import matplotlib.pyplot as plt\n",
    "import os,sys; sys.path.append(os.path.expandvars('$CODE_MEMORY_ERRORS'))\n",
    "from behav_proc import addBehavCols\n",
    "import numpy as np\n",
    "\n",
    "ipy = get_ipython()\n",
    "#data_dir_general = '/home/demitau/data_Quentin'\n",
    "#data_subdir_mem_err_main = 'full_experiments/data2'\n",
    "from os.path import join as pjoin\n",
    "#data_dir_input = pjoin(data_dir_general,data_subdir_mem_err_main)\n",
    "\n",
    "\n",
    "#data_dir_general = '/home/demitau/data_Quentin'\n",
    "#data_subdir_mem_err_main = 'full_experiments/data2'\n",
    "#data_dir_input = pjoin(data_dir_general,data_subdir_mem_err_main)\n",
    "#scripts_dir = pjoin(data_dir_general,'full_experiments','scripts2')\n",
    "\n",
    "data_dir_general = os.path.expandvars('$DATA_QUENTIN')\n",
    "data_dir_input = os.path.expandvars('$DATA_MEMORY_ERRORS_STAB_AND_STOCH')\n",
    "scripts_dir = pjoin( os.path.expandvars('$CODE_MEMORY_ERRORS'), 'previous_analyses')\n",
    "\n",
    "data_dir_input = os.path.expandvars('$HOME/ownCloud/Current/merr_data/Bonaiuto')\n",
    "\n",
    "#/home/demitau/Downloads/all_data_modified.csv\n",
    "\n",
    "import matplotlib as mpl\n",
    "COLOR = 'black'\n",
    "mpl.rcParams['text.color'] = COLOR\n",
    "mpl.rcParams['axes.labelcolor'] = COLOR\n",
    "mpl.rcParams['xtick.color'] = COLOR\n",
    "mpl.rcParams['ytick.color'] = COLOR\n",
    "\n",
    "tgtc = ['b','g','r','brown']\n",
    "\n",
    "import seaborn as sns\n",
    "sns.set(rc={'axes.facecolor':'white', 'figure.facecolor':'white',\n",
    "           'grid.color':'grey', 'grid.alpha':0.5})"
   ]
  },
  {
   "cell_type": "markdown",
   "id": "7abdc242",
   "metadata": {},
   "source": [
    "group 0: implicit, 1:explicit\n",
    "block:\n",
    "1 - short training block (could be discarded, lots of mistakes, bad trials)\n",
    "2 - baseline block (zero coherence, no perturbation)\n",
    "3-8 - trial blocks (with coherence and direction changes and perturbation dependent on the group assignment)\n",
    "9 - washout block (zero coherence, no perturbation)\n",
    "\n",
    "trial_type:\n",
    "-1 - training trials\n",
    "0 - baseline trials\n",
    "1 - perturbation trials\n",
    "2 - washout trials\n",
    "\n",
    "reach_target: angle of the trajectory at the target distance, relative to the target\n",
    "(DT: as far as I understad it means AFTER pert is applied)\n",
    "\n",
    "reach_real_angle: absolute angle of the trajectory at the target distance\n",
    "\n",
    "perturb_cat: direction of the perturbation\n",
    "\n",
    "reach_sub_perturb: reach_target - perturb_cat\n"
   ]
  },
  {
   "cell_type": "code",
   "execution_count": null,
   "id": "6979b867",
   "metadata": {},
   "outputs": [],
   "source": [
    "df_all0 = pd.read_csv( pjoin(data_dir_input,'all_data_modified.csv'))\n",
    "df_all = df_all0.copy().rename(columns={'subject_id':'subject', \n",
    "                                        'trial_target':'target_inds',\n",
    "                    'perturb_cat':'perturbation', \n",
    "            'true_target_angle':'target_locs'})\n",
    "df_all['error'] = \\\n",
    "    df_all0['reach_real_angle'] - df_all0['perturb_cat'] - df_all0['true_target_angle']\n",
    "df_all['feedback']     = df_all['reach_real_angle'] + df_all['perturbation']\n",
    "df_all['org_feedback'] = df_all['reach_real_angle'] \n",
    "\n",
    "\n",
    "subjects = df_all['subject'].unique().tolist(); subjects \n",
    "\n",
    "\n",
    "blockid2type = {1:'short_train', 2:'baseline', 9:'washout'}\n",
    "blockid2name = {1:'short_train', 2:'baseline', 9:'washout'}\n",
    "for i in range(3,9):\n",
    "    blockid2type[i] = 'perturbation'\n",
    "    blockid2name[i] = 'perturbation' + str(i-2)\n",
    "# trial type would be more appropriate column name, more consistent with Maciej names\n",
    "df_all['block_type'] = df_all['block'].apply(lambda x: blockid2type[x]) \n",
    "df_all['block_name'] = df_all['block'].apply(lambda x: blockid2name[x]) \n",
    "\n",
    "df_all['trials'] = -1\n",
    "bl = 56\n",
    "for i,row in df_all.iterrows():\n",
    "    bi = row['block']\n",
    "    offset = 0\n",
    "    if bi > 1:\n",
    "        offset += 12\n",
    "        offset += bl * (bi-2)\n",
    "    df_all.loc[i,'trials'] = offset + row['trial_in_block']\n",
    "    \n",
    "tgt_inds_all = list( df_all['target_inds'].unique() )  + [None]; print(tgt_inds_all)"
   ]
  },
  {
   "cell_type": "markdown",
   "id": "74f26b44",
   "metadata": {},
   "source": [
    "! fixate 0.6 x 0.6 deg -- bullseye and crosshairs,\n",
    "square cursor 0.5 x 0.5 deg\n",
    "variable dealy (1-2_s)\n",
    "RDK presentation together with five tgts (from -120 to 0)\n",
    "the one of three (-90, -30)\n",
    "\n",
    "3.25 deg -- larger tgt\n"
   ]
  },
  {
   "cell_type": "code",
   "execution_count": null,
   "id": "b4ef9133",
   "metadata": {},
   "outputs": [],
   "source": [
    "#df_all.query(f'block in [1,2] and subject == \"{subjects[0]}\" '\n",
    "#             'and trials <= 100 and trials > 10')[['trials',\n",
    "#                                            'target_locs','reach_target']]"
   ]
  },
  {
   "cell_type": "code",
   "execution_count": null,
   "id": "dea66ae6",
   "metadata": {},
   "outputs": [],
   "source": [
    "#%debug\n",
    "#dfs0 = df_all.query('subject == @subjects[1]')\n",
    "df_all = addBehavCols(df_all, inplace=1, skip_existing=1, dset = 'Bonaiuto')\n",
    "\n",
    "target_size = 3.25\n",
    "def f(row):\n",
    "    #print(row.keys())\n",
    "    target_loc = row['target_locs']\n",
    "    feedback_ang  = row['feedback']\n",
    "    ae = abs(target_loc - feedback_ang)\n",
    "    nh = ae > target_size\n",
    "    #print(nh, ae,target_size)\n",
    "    return nh\n",
    "\n",
    "df_all['non_hit_not_adj'] = df_all.apply(f,1)"
   ]
  },
  {
   "cell_type": "code",
   "execution_count": null,
   "id": "beaa723c",
   "metadata": {},
   "outputs": [],
   "source": [
    "from behav_proc import computeErrSensVersions\n",
    "#envs_cur = ['stable', 'random', 'all']\n",
    "envs_cur = ['all']\n",
    "tgt_inds_cur = tgt_inds_all\n",
    "#tgt_inds_cur = [None]  # DEBUG\n",
    "\n",
    "block_names_cur = ['all']\n",
    "pertvals_cur = [None]\n",
    "gseqcs_cur = [ None ]\n",
    "dists_rad_from_prevtgt_cur = [None]\n",
    "dists_trial_from_prevtgt_cur = [None]\n",
    "error_type = 'MPE'\n",
    "\n",
    "df_all['environment'] = 1111\n",
    "df_all['feedbackX'] = 1\n",
    "df_all['feedbackY'] = 1\n",
    "#%debug\n",
    "df_all_multi_tsz, ndf2vn = computeErrSensVersions(df_all, envs_cur,block_names_cur,\n",
    "                pertvals_cur,gseqcs_cur,tgt_inds_cur,\n",
    "               dists_rad_from_prevtgt_cur,dists_trial_from_prevtgt_cur,\n",
    "                                subj_list = subjects, error_type=error_type,\n",
    "                                trial_shift_sizes = np.arange(1,5),\n",
    "                                         addvars=[], target_info_type = 'locs')\n",
    "\n",
    "assert not df_all_multi_tsz.duplicated().any()  \n",
    "#display( dftmp2.duplicated()  )\n",
    "assert not df_all_multi_tsz.duplicated(['subject','trials','trial_shift_size',\n",
    "                             'trial_group_col_calc']).any()"
   ]
  },
  {
   "cell_type": "code",
   "execution_count": null,
   "id": "dba099cc",
   "metadata": {},
   "outputs": [],
   "source": [
    "#prop non-hit\n",
    "dftmp = df_all.query('subject == @subjects[1]')\n",
    "sum( ~dftmp['non_hit_not_adj'])  / len( dftmp )"
   ]
  },
  {
   "cell_type": "code",
   "execution_count": null,
   "id": "f54d0eb3",
   "metadata": {},
   "outputs": [],
   "source": [
    "df_all0.query('block in [1,2]').groupby(['block']).size()"
   ]
  },
  {
   "cell_type": "code",
   "execution_count": null,
   "id": "c6f08ada",
   "metadata": {},
   "outputs": [],
   "source": [
    "df_all0.query('block in [1,2]').groupby(['block','trial_in_block']).size()"
   ]
  },
  {
   "cell_type": "markdown",
   "id": "038e6e13",
   "metadata": {},
   "source": [
    "## plots for bonaituo bias discuss"
   ]
  },
  {
   "cell_type": "code",
   "execution_count": null,
   "id": "fb46d683",
   "metadata": {},
   "outputs": [],
   "source": [
    "sns.__version__"
   ]
  },
  {
   "cell_type": "code",
   "execution_count": null,
   "id": "1831c298",
   "metadata": {},
   "outputs": [],
   "source": [
    "df_all['error'] = (df_all['feedback'] - df_all['target_locs'] )"
   ]
  },
  {
   "cell_type": "code",
   "execution_count": null,
   "id": "a3d63068",
   "metadata": {},
   "outputs": [],
   "source": [
    "df_all['error'] = \\\n",
    "    df_all0['reach_real_angle'] - df_all0['perturb_cat'] - df_all0['true_target_angle']"
   ]
  },
  {
   "cell_type": "code",
   "execution_count": null,
   "id": "8e77efac",
   "metadata": {},
   "outputs": [],
   "source": [
    "df_all['tmpe'] = (df_all['feedback'] - df_all['target_locs'] )\n",
    "\n",
    "df_all['tmpe'] = df_all['reach_sub_perturb']\n",
    "\n",
    "qs = 'block in [1,2, 3,4,5,6,7,8,9] and group == 0'\n",
    "ax = sns.lineplot(data=df_all.query(qs), \n",
    "             y='tmpe', x='trials', errorbar='se')\n",
    "ax.axhline(y=0, ls=':', c='r', lw=3)\n",
    "ax.set_title(f'block in {qs}')"
   ]
  },
  {
   "cell_type": "code",
   "execution_count": null,
   "id": "15d38d9d",
   "metadata": {},
   "outputs": [],
   "source": []
  },
  {
   "cell_type": "code",
   "execution_count": null,
   "id": "33caf784",
   "metadata": {},
   "outputs": [],
   "source": [
    "# per subj first two blocks\n",
    "plt.figure(figsize=(20,20))\n",
    "df_all0['error'] = \\\n",
    "    df_all0['reach_real_angle'] + df_all0['perturb_cat'] - df_all0['true_target_angle']\n",
    "df_ = df_all0.query('block in [1,2]')\n",
    "fg = sns.catplot(data=df_, kind='violin', y='error',\n",
    "                   x='block', col_wrap = 5, errobar='se',col='subject_id')\n",
    "\n",
    "axs = fg.axes\n",
    "for ax in axs.flatten():\n",
    "    ax.axhline(y=0, ls=':', c='r', lw=3)\n",
    "    ax.set_ylim(-100,90)\n",
    "#plt."
   ]
  },
  {
   "cell_type": "code",
   "execution_count": null,
   "id": "2120c8d5",
   "metadata": {},
   "outputs": [],
   "source": [
    "#plt.figure(figsize=(40,7))\n",
    "ax = sns.violinplot(data=df_all.query('block in [1,2]'), y='error',x='block')\n",
    "ax.set_ylim(-100,90)\n",
    "ax.axhline(y=0, ls=':', c='r', lw=3)\n",
    "ax.set_title('block in [1,2]')"
   ]
  },
  {
   "cell_type": "code",
   "execution_count": null,
   "id": "08f7e02d",
   "metadata": {},
   "outputs": [],
   "source": [
    "qs = 'block in [1,2, 3,4,5,6,7,8,9] and group == 0'\n",
    "ax = sns.lineplot(data=df_all.query(qs), \n",
    "             y='error', x='trials', errorbar='se')\n",
    "ax.axhline(y=0, ls=':', c='r', lw=3)\n",
    "ax.set_title(f'block in {qs}')"
   ]
  },
  {
   "cell_type": "code",
   "execution_count": null,
   "id": "f5809324",
   "metadata": {},
   "outputs": [],
   "source": [
    "import gc; gc.collect()"
   ]
  },
  {
   "cell_type": "code",
   "execution_count": null,
   "id": "916f2000",
   "metadata": {},
   "outputs": [],
   "source": [
    "df_all['target_locs'].apply(lambda x: f'{x:.2f}')"
   ]
  },
  {
   "cell_type": "code",
   "execution_count": null,
   "id": "c2390466",
   "metadata": {},
   "outputs": [],
   "source": []
  },
  {
   "cell_type": "code",
   "execution_count": null,
   "id": "eb4dd19f",
   "metadata": {},
   "outputs": [],
   "source": [
    "dftmp = df_all.query('subject == @subjects[1]')\n",
    "sum( ~dftmp['non_hit_not_adj'])  / len( dftmp )"
   ]
  },
  {
   "cell_type": "code",
   "execution_count": null,
   "id": "315f9806",
   "metadata": {},
   "outputs": [],
   "source": [
    "df_all_multi_tsz.groupby(['subject','trial_shift_size',\n",
    "                             'trial_group_col_calc'] ).size()"
   ]
  },
  {
   "cell_type": "code",
   "execution_count": null,
   "id": "602bbef9",
   "metadata": {},
   "outputs": [],
   "source": [
    "dftmp = df_all_multi_tsz.query('subject == @subjects[1]')\n",
    "sum( np.isinf(dftmp['err_sens']) ) / len( dftmp )"
   ]
  },
  {
   "cell_type": "code",
   "execution_count": null,
   "id": "6c7eb64c",
   "metadata": {},
   "outputs": [],
   "source": []
  },
  {
   "cell_type": "code",
   "execution_count": null,
   "id": "23be67e9",
   "metadata": {},
   "outputs": [],
   "source": [
    "dftmp['err_sens']"
   ]
  },
  {
   "cell_type": "code",
   "execution_count": null,
   "id": "155347d4",
   "metadata": {},
   "outputs": [],
   "source": [
    "df_all_multi_tsz['dist_rad_from_prevtgt2'].unique()"
   ]
  },
  {
   "cell_type": "code",
   "execution_count": null,
   "id": "b736f309",
   "metadata": {
    "run_control": {
     "marked": true
    }
   },
   "outputs": [],
   "source": [
    "np.isinf(df_all_multi_tsz['err_sens'] ).all()"
   ]
  },
  {
   "cell_type": "code",
   "execution_count": null,
   "id": "29912ca7",
   "metadata": {},
   "outputs": [],
   "source": [
    "df_all_multi_tsz['err_sens'].to_numpy()"
   ]
  },
  {
   "cell_type": "code",
   "execution_count": null,
   "id": "fd8ebe7f",
   "metadata": {},
   "outputs": [],
   "source": [
    "df_all.columns"
   ]
  },
  {
   "cell_type": "markdown",
   "id": "3bde67c7",
   "metadata": {},
   "source": []
  },
  {
   "cell_type": "code",
   "execution_count": null,
   "id": "6daa57a5",
   "metadata": {},
   "outputs": [],
   "source": [
    "#df_all[['target_locs','distsgn_rad_from_prevtgt']]"
   ]
  },
  {
   "cell_type": "code",
   "execution_count": null,
   "id": "64ac6ff7",
   "metadata": {},
   "outputs": [],
   "source": [
    "# check trial number variation\n",
    "nums = df_all.groupby(['subject','block']).size().reset_index()\n",
    "nums.groupby(['block']).mean(numeric_only=1), nums.groupby(['block']).std(numeric_only=1)"
   ]
  },
  {
   "cell_type": "code",
   "execution_count": null,
   "id": "0da88c26",
   "metadata": {},
   "outputs": [],
   "source": [
    "dfs0 = df_all.query('subject == @subjects[1]')\n",
    "dfs0[['subject','group','block','block_type','trials','trial_in_block','perturbation', 'error']]"
   ]
  },
  {
   "cell_type": "code",
   "execution_count": null,
   "id": "4c42661a",
   "metadata": {},
   "outputs": [],
   "source": [
    "#dfs0.plot('trials')"
   ]
  },
  {
   "cell_type": "code",
   "execution_count": null,
   "id": "c78924a7",
   "metadata": {},
   "outputs": [],
   "source": [
    "df_all_multi_tsz.columns"
   ]
  },
  {
   "cell_type": "code",
   "execution_count": null,
   "id": "209882f7",
   "metadata": {},
   "outputs": [],
   "source": [
    "#df_all_multi_tsz['trial_group_col_calc']"
   ]
  },
  {
   "cell_type": "code",
   "execution_count": null,
   "id": "19d75865",
   "metadata": {},
   "outputs": [],
   "source": [
    "#df_all_multi_tsz.groupby"
   ]
  },
  {
   "cell_type": "code",
   "execution_count": null,
   "id": "49cafa6e",
   "metadata": {},
   "outputs": [],
   "source": [
    "#sns.lineplot?"
   ]
  },
  {
   "cell_type": "code",
   "execution_count": null,
   "id": "5eb42ad6",
   "metadata": {},
   "outputs": [],
   "source": [
    "#'reach_target':'feedback_ang'}\n",
    "# + df_all['target_locs']\n",
    "#df_all['feedback']     = df_all['reach_real_angle'] + df_all['perturbation']\n",
    "#df_all['org_feedback'] = df_all['reach_real_angle'] \n",
    "#df_all['tst']     = df_all['reach_real_angle'] - 60\n",
    "\n",
    "#df_ = df_all.query('subject == @subjects[1] and block > 1')\n",
    "df_ = df_all.query('group == 0 and block > 1')\n",
    "dfone = df_.query('subject == @subjects[1]')\n",
    "\n",
    "ebarg = ''\n",
    "ax = sns.lineplot(x=\"trials\", y='feedback',data=df_,  estimator='mean', errorbar='se')#, hue='block')\n",
    "ax.axhline(0,ls=':',c='red')\n",
    "ax.plot(dfone['trials'].to_numpy(), dfone['perturbation'].to_numpy(), ls=':',c='y')\n",
    "\n",
    "plt.figure()\n",
    "ax = sns.lineplot(x=\"trials\", y='org_feedback',data=df_,  estimator='mean', errorbar='se')#, hue='block')\n",
    "ax.axhline(0,ls=':',c='red')\n",
    "ax.plot(dfone['trials'].to_numpy(), dfone['perturbation'].to_numpy(), ls=':',c='y')\n",
    "\n",
    "plt.figure()\n",
    "ax = sns.lineplot(x=\"trials\", y='error',data=df_,  estimator='mean', errorbar='se')#, hue='block')\n",
    "ax.axhline(0,ls=':',c='red')\n",
    "ax.plot(dfone['trials'].to_numpy(), dfone['perturbation'].to_numpy(), ls=':',c='y')"
   ]
  },
  {
   "cell_type": "code",
   "execution_count": null,
   "id": "7c317e26",
   "metadata": {},
   "outputs": [],
   "source": [
    "# TODO: per particpant"
   ]
  },
  {
   "cell_type": "code",
   "execution_count": null,
   "id": "7e33758b",
   "metadata": {},
   "outputs": [],
   "source": [
    "len(subjects)"
   ]
  },
  {
   "cell_type": "code",
   "execution_count": null,
   "id": "ce83f32b",
   "metadata": {},
   "outputs": [],
   "source": [
    "import seaborn as sns\n",
    "#'reach_target':'feedback_ang'}\n",
    "# + df_all['target_locs']\n",
    "#df_all['feedback']     = df_all['reach_real_angle'] + df_all['perturbation']\n",
    "#df_all['org_feedback'] = df_all['reach_real_angle'] \n",
    "#df_all['tst']     = df_all['reach_real_angle'] - 60\n",
    "\n",
    "#df_ = df_all.query('subject == @subjects[1] and block > 1')\n",
    "df_ = df_all.query('group == 1 and block > 1')\n",
    "dfone = df_.query('subject == @subjects[0]')\n",
    "\n",
    "ebarg = ''\n",
    "ax = sns.lineplot(x=\"trials\", y='feedback',data=df_,  estimator='mean', errorbar='se')#, hue='block')\n",
    "ax.axhline(0,ls=':',c='red')\n",
    "ax.plot(dfone['trials'].to_numpy(), dfone['perturbation'].to_numpy(), ls=':',c='y')\n",
    "\n",
    "plt.figure()\n",
    "ax = sns.lineplot(x=\"trials\", y='org_feedback',data=df_,  estimator='mean', errorbar='se')#, hue='block')\n",
    "ax.axhline(0,ls=':',c='red')\n",
    "ax.plot(dfone['trials'].to_numpy(), dfone['perturbation'].to_numpy(), ls=':',c='y')\n",
    "\n",
    "plt.figure()\n",
    "ax = sns.lineplot(x=\"trials\", y='error',data=df_,  estimator='mean', errorbar='se')#, hue='block')\n",
    "ax.axhline(0,ls=':',c='red')\n",
    "ax.plot(dfone['trials'].to_numpy(), dfone['perturbation'].to_numpy(), ls=':',c='y')"
   ]
  },
  {
   "cell_type": "code",
   "execution_count": null,
   "id": "7ef5110e",
   "metadata": {},
   "outputs": [],
   "source": [
    "sns.lineplot?"
   ]
  },
  {
   "cell_type": "code",
   "execution_count": null,
   "id": "195b5046",
   "metadata": {},
   "outputs": [],
   "source": [
    "df_.groupby(['trials']).size()"
   ]
  },
  {
   "cell_type": "code",
   "execution_count": null,
   "id": "e2f26cc8",
   "metadata": {},
   "outputs": [],
   "source": [
    "dfc_['err_sens']"
   ]
  },
  {
   "cell_type": "code",
   "execution_count": null,
   "id": "10d9009b",
   "metadata": {},
   "outputs": [],
   "source": [
    "coln = 'err_sens'\n",
    "#debug\n",
    "from behav_proc import truncateDf\n",
    "dfc_multi_tsz = truncateDf(df_all_multi_tsz, coln, q=0.05, infnan_handling='discard')\n",
    "dfc_multi_tsz = dfc_multi_tsz.query('dist_rad_from_prevtgt2 != \"nan\"')"
   ]
  },
  {
   "cell_type": "code",
   "execution_count": null,
   "id": "d3e97633",
   "metadata": {},
   "outputs": [],
   "source": [
    "def fg(cohv):\n",
    "    if cohv <= 0.33:\n",
    "        return 0\n",
    "    elif cohv <= 0.66:\n",
    "        return 1\n",
    "    else:\n",
    "        return 2\n",
    "\n",
    "dfc_multi_tsz['cohg'] = dfc_multi_tsz['trial_coherence'].apply(fg,1)"
   ]
  },
  {
   "cell_type": "code",
   "execution_count": null,
   "id": "4878a0e7",
   "metadata": {},
   "outputs": [],
   "source": [
    "dfc_multi_tsz.query('dist_rad_from_prevtgt2 == \"nan\" and subject == @subjects[0]')\\\n",
    "[['trials','block','trial_in_block','target_inds','trial_group_col_calc','trial_shift_size']]"
   ]
  },
  {
   "cell_type": "code",
   "execution_count": null,
   "id": "b981f5f2",
   "metadata": {},
   "outputs": [],
   "source": [
    "df_all_multi_tsz.groupby(['trials','trial_shift_size', \n",
    "                 'dist_rad_from_prevtgt2',\n",
    "                 'trial_group_col_calc','group'] ).size()"
   ]
  },
  {
   "cell_type": "code",
   "execution_count": null,
   "id": "23bc7fe1",
   "metadata": {},
   "outputs": [],
   "source": [
    "from config2 import path_fig"
   ]
  },
  {
   "cell_type": "code",
   "execution_count": null,
   "id": "9dc05bf5",
   "metadata": {},
   "outputs": [],
   "source": [
    "plt.hist( df_['trial_coherence'].unique() )"
   ]
  },
  {
   "cell_type": "code",
   "execution_count": null,
   "id": "884913b3",
   "metadata": {},
   "outputs": [],
   "source": []
  },
  {
   "cell_type": "code",
   "execution_count": null,
   "id": "3777b5cf",
   "metadata": {},
   "outputs": [],
   "source": [
    "rp.summarize(df_.groupby(['group']) [['err_sens']])"
   ]
  },
  {
   "cell_type": "code",
   "execution_count": null,
   "id": "d7c545da",
   "metadata": {},
   "outputs": [],
   "source": [
    "rp.summarize(df_.groupby(['group', 'cohg']) [['err_sens']])"
   ]
  },
  {
   "cell_type": "code",
   "execution_count": null,
   "id": "424434da",
   "metadata": {},
   "outputs": [],
   "source": [
    "import researchpy as rp\n",
    "# 0 > 1 statistically\n",
    "rp.difference_test(\"err_sens ~ C(group)\",\n",
    "                   data = df_,\n",
    "                   equal_variances = False,\n",
    "                   independent_samples = True).conduct(effect_size = \"all\")"
   ]
  },
  {
   "cell_type": "code",
   "execution_count": null,
   "id": "534303b2",
   "metadata": {},
   "outputs": [],
   "source": [
    "import researchpy as rp\n",
    "# 0 > 1 statistically\n",
    "rp.difference_test(\"err_sens ~ C(cohg)\",\n",
    "                   data = df_.query('cohg != 1'),\n",
    "                   equal_variances = False,\n",
    "                   independent_samples = True).conduct(effect_size = \"all\")"
   ]
  },
  {
   "cell_type": "code",
   "execution_count": null,
   "id": "55fa2e1d",
   "metadata": {},
   "outputs": [],
   "source": [
    "import researchpy as rp\n",
    "# 0 > 1 statistically\n",
    "for g in [0,1]:\n",
    "    print(g)\n",
    "    r = rp.difference_test(\"err_sens ~ C(cohg)\",\n",
    "                       data = df_.query(f'cohg != 1 and group == {g}'),\n",
    "                       equal_variances = False,\n",
    "                       independent_samples = True).conduct(effect_size = \"all\")\n",
    "    display(r)"
   ]
  },
  {
   "cell_type": "code",
   "execution_count": null,
   "id": "aacbf58f",
   "metadata": {},
   "outputs": [],
   "source": [
    "g2vs = {}\n",
    "for g in [0,1]:\n",
    "    g2vs[g] = df_.query('group == @g')['err_sens']._values"
   ]
  },
  {
   "cell_type": "code",
   "execution_count": null,
   "id": "afad28b1",
   "metadata": {},
   "outputs": [],
   "source": [
    "tts"
   ]
  },
  {
   "cell_type": "code",
   "execution_count": null,
   "id": "84802c3d",
   "metadata": {},
   "outputs": [],
   "source": [
    "df_ = dfc_multi_tsz.query('trial_shift_size == 1' \n",
    "                            ' and trial_group_col_calc == \"trials\"')"
   ]
  },
  {
   "cell_type": "code",
   "execution_count": null,
   "id": "cad45938",
   "metadata": {},
   "outputs": [],
   "source": [
    "ax = sns.violinplot(data=df_,\n",
    "                 y='err_sens',                                   \n",
    "                 x = 'group')\n",
    "ax.set_ylim(-7.5,7.5)\n",
    "ax.axhline(0,c='r',ls=':')"
   ]
  },
  {
   "cell_type": "code",
   "execution_count": null,
   "id": "eebf1afa",
   "metadata": {},
   "outputs": [],
   "source": [
    "fg = sns.catplot(kind='violin', data=dfc_multi_tsz.query('trial_shift_size == 1' \n",
    "                            ' and trial_group_col_calc == \"trials\"'),\n",
    "                 y='err_sens',                  \n",
    "                 #x = 'dist_rad_from_prevtgt2',\n",
    "                 x='cohg',\n",
    "                 hue = 'group', split=True)\n",
    "for ax in fg.axes.flatten():\n",
    "    ax.set_ylim(-4,5)\n",
    "    ax.axhline(0,c='r',ls=':')"
   ]
  },
  {
   "cell_type": "code",
   "execution_count": null,
   "id": "00b91808",
   "metadata": {},
   "outputs": [],
   "source": [
    "fg = sns.catplot(kind='violin', data=dfc_multi_tsz.query('trial_shift_size == 1' \n",
    "                            ' and trial_group_col_calc == \"trials\"'),\n",
    "                 y='err_sens',                  \n",
    "                 x = 'dist_rad_from_prevtgt2',\n",
    "                 hue = 'group', split=True)\n",
    "for ax in fg.axes.flatten():\n",
    "    ax.set_ylim(-4,6)\n",
    "    ax.axhline(0,c='r',ls=':')"
   ]
  },
  {
   "cell_type": "code",
   "execution_count": null,
   "id": "547847cc",
   "metadata": {},
   "outputs": [],
   "source": [
    "#dist_rad_from_prevtgt2\n",
    "import seaborn as sns\n",
    "fg = sns.catplot(kind='violin', data=dfc_multi_tsz, y='err_sens', \n",
    "                 col = 'trial_shift_size', \n",
    "                 row = 'dist_rad_from_prevtgt2',\n",
    "                 hue = 'group',\n",
    "                     x='trial_group_col_calc', split=True)\n",
    "for ax in fg.axes.flatten():\n",
    "    ax.set_ylim((-5,7))\n",
    "    ax.axhline(y=0, c='r', ls=':')\n",
    "plt.savefig(pjoin(path_fig,'behav','bonaiuto_summary.pdf'))"
   ]
  },
  {
   "cell_type": "code",
   "execution_count": null,
   "id": "7667349f",
   "metadata": {},
   "outputs": [],
   "source": []
  },
  {
   "cell_type": "code",
   "execution_count": null,
   "id": "c29221dc",
   "metadata": {},
   "outputs": [],
   "source": [
    "from behav_proc import truncateDf\n",
    "#df_ = df_all_multi_tsz.query('trial_shift_size == 1 and group == 0 and block > 1')\n",
    "#dfc_  = truncateDf(df_, 'err_sens', q=0.05, clean_infnan=True)\n",
    "\n",
    "for grp, subj in [(0, subjects[1]), (1, subjects[0])]:\n",
    "    qs = 'trial_shift_size == 1 and group == @grp and block > 1'\n",
    "    dfc_ = dfc_multi_tsz.query(qs)\n",
    "    dfone = df_all_multi_tsz.query(qs + ' and subject == @subj')\n",
    "\n",
    "    display( dfc_.groupby(['trials','trial_group_col_calc']).size() )\n",
    "\n",
    "    plt.figure(figsize=(12,5))\n",
    "    ax = sns.lineplot(x=\"trials\", y='err_sens',data=dfc_,  estimator='mean', \n",
    "                      errorbar='se',\n",
    "                     hue = 'trial_group_col_calc')#, hue='block')\n",
    "    ax.set_ylim(-1.5,2.5)\n",
    "    ax.axhline(0,ls=':',c='red')\n",
    "    ax.plot(dfone['trials'].to_numpy(), \n",
    "            dfone['perturbation'].to_numpy() / 30, ls=':',c='y')\n",
    "    ax.legend(loc='lower right')\n",
    "    ax.set_title(f'group = {grp}')\n",
    "\n",
    "# plt.figure()\n",
    "# ax = sns.lineplot(x=\"trials\", y='tst',data=df_,  estimator='mean', errorbar='se')#, hue='block')\n",
    "# ax.axhline(0,ls=':',c='red')\n",
    "# ax.plot(dfone['trials'].to_numpy(), dfone['perturbation'].to_numpy(), ls=':',c='y')\n",
    "\n",
    "# ys = dfone['org_feedback'].to_numpy()\n",
    "# ax.plot(dfone['trials'].to_numpy(), ys, c='orange', alpha = 0.4)\n",
    "\n",
    "#ys = dfone['feedback'].to_numpy() - dfone['target_locs'] - dfone['perturbation']\n",
    "#ax.plot(dfone['trials'].to_numpy(), ys, c='g', alpha=0.3)\n",
    "#,  estimator='mean', errorbar='se',\n",
    "\n",
    "# error = reach_sub_perturb = reach_target - perturb_cat "
   ]
  },
  {
   "cell_type": "code",
   "execution_count": null,
   "id": "9ff52d75",
   "metadata": {},
   "outputs": [],
   "source": [
    "# violin comp"
   ]
  },
  {
   "cell_type": "code",
   "execution_count": null,
   "id": "882ab56b",
   "metadata": {},
   "outputs": [],
   "source": [
    "drs = dfc_multi_tsz['dist_rad_from_prevtgt'].unique();\n",
    "drs_f = np.array( list(map( float, drs) ) )\n",
    "drs = list(sorted(drs,key = lambda x: float(x)))\n",
    "\n",
    "#dfc_s = dfc[dfc['trial_group_col_calc'] == 'trialwtgt_we']\n",
    "# TODO: should I restrict to one env?\n",
    "dfc_s = dfc_multi_tsz.query('trial_group_col_calc == \"trialwe\"')\n",
    "grp = dfc_s.groupby(['trial_shift_size', 'dist_rad_from_prevtgt2'])\n",
    "dts = dfc_multi_tsz['trial_shift_size'].unique()\n",
    "nt = len(dts)\n",
    "\n",
    "drpairs = [(drs[i],drs[i+1] ) for i in range(2)]\n",
    "#drpairs += [(drs[0],drs[i] ) for i in range(2,4)]\n",
    "drpairs += [(drs[0],drs[2] )]\n",
    "drpairs\n",
    "\n",
    "dtpairs = [(dts[i],dts[i+1] ) for i in range(3)]\n",
    "dtpairs += [(dts[0],dts[i] ) for i in range(2,4)]\n",
    "dtpairs += [(dts[1],dts[3] )]\n",
    "dtpairs, drpairs"
   ]
  },
  {
   "cell_type": "code",
   "execution_count": null,
   "id": "c38957c7",
   "metadata": {},
   "outputs": [],
   "source": [
    "def getPvals(dftmp,fitcol,pairs):\n",
    "    from scipy.stats import ttest_ind\n",
    "    pvalues = []\n",
    "    for drp in pairs:\n",
    "        if isinstance(drp[0],str):\n",
    "            vs1 = dftmp.query(f'{fitcol} == \"{drp[0]}\"')['err_sens']\n",
    "            vs2 = dftmp.query(f'{fitcol} == \"{drp[1]}\"')['err_sens']\n",
    "        else:\n",
    "            vs1 = dftmp.query(f'{fitcol} == {drp[0]}')['err_sens']\n",
    "            vs2 = dftmp.query(f'{fitcol} == {drp[1]}')['err_sens']\n",
    "        #ttr = ttest_ind(vs1,vs2)\n",
    "        assert not vs1.isna().any(), 'vs1 contains NaN'\n",
    "        assert not vs2.isna().any(), 'vs2 contains NaN'\n",
    "        assert len(vs1)\n",
    "        assert len(vs2)\n",
    "        ttr = ttest_ind(vs1,vs2, alternative='greater')\n",
    "        pvalues += [ttr.pvalue]\n",
    "        \n",
    "        print('pair = ',drp, 'p = ',ttr.pvalue)\n",
    "        #print(vs1,vs2)\n",
    "    # pvalues = [\n",
    "    #     sci_stats.mannwhitneyu(robots, flight, alternative=\"two-sided\").pvalue,\n",
    "    #     sci_stats.mannwhitneyu(flight, sound, alternative=\"two-sided\").pvalue,\n",
    "    #     sci_stats.mannwhitneyu(robots, sound, alternative=\"two-sided\").pvalue\n",
    "    # ]\n",
    "\n",
    "    # pvalues\n",
    "    # [0.00013485140468088997, 0.2557331102364572, 0.00022985464929005115]\n",
    "\n",
    "    # Transform each p-value to \"p=\" in scientific notation\n",
    "    formatted_pvalues = [f'p={pvalue:.2e}' for pvalue in pvalues]\n",
    "    return pvalues, formatted_pvalues\n",
    "pvalues, formatted_pvalues = getPvals(dftmp,fitcol, pairs)"
   ]
  },
  {
   "cell_type": "code",
   "execution_count": null,
   "id": "775b65c4",
   "metadata": {},
   "outputs": [],
   "source": [
    "pairs"
   ]
  },
  {
   "cell_type": "code",
   "execution_count": null,
   "id": "b667c81e",
   "metadata": {},
   "outputs": [],
   "source": [
    "fitcol"
   ]
  },
  {
   "cell_type": "code",
   "execution_count": null,
   "id": "11c4c3ad",
   "metadata": {},
   "outputs": [],
   "source": [
    "dftmp"
   ]
  },
  {
   "cell_type": "code",
   "execution_count": null,
   "id": "eb75855c",
   "metadata": {},
   "outputs": [],
   "source": [
    "# make polynomial fits\n",
    "def plotPolys(ax, dftmp, fitcol, degs=range(2,6), mean=1):\n",
    "    if mean:\n",
    "        me = dftmp.groupby(fitcol).median().reset_index()\n",
    "        dftmp = me\n",
    "    dftmp[fitcol] = pd.to_numeric(dftmp[fitcol] )\n",
    "    esv, dv = dftmp[['err_sens',fitcol]]._values.T\n",
    "    print(np.min(dv),dv,dv-np.min(dv),esv)\n",
    "    #pr = np.polyfit(esv,dv,2)\n",
    "    from numpy.linalg import LinAlgError\n",
    "    dvu = np.unique(dv)\n",
    "    dvu = np.array( list(sorted(dvu)) )\n",
    "    print(f'median of grouped over {fitcol}', dvu)\n",
    "    for deg in degs:\n",
    "        try:\n",
    "            pr = np.polyfit(dv-np.min(dv),esv-np.min(esv),deg)        \n",
    "        except (SystemError,LinAlgError):\n",
    "            print(f'Failed deg={deg}')\n",
    "            print(dv,esv, np.std(dv))\n",
    "            continue\n",
    "            \n",
    "        poly = np.poly1d(pr)\n",
    "        #if len(degs) > 1:\n",
    "        if mean:\n",
    "            lbl = f'polynomial fit of means deg={deg}'\n",
    "        else:\n",
    "            lbl = f'polynomial fit deg={deg}'\n",
    "        #else:\n",
    "        #    lbl = None\n",
    "        esv2 = poly(dvu-np.min(dvu)) + np.min(esv)\n",
    "        print(dvu-np.min(dvu), esv)\n",
    "        ax.plot(range(len(dvu)) , poly(dvu-np.min(dvu)) + np.min(esv), \n",
    "                label=lbl, c='grey', lw=0.85 )\n",
    "    return pr\n",
    "    #ax.legend(loc='lower right')\n",
    "\n",
    "#plotPolys(ax,dftmp,fitcol,mean=0)\n",
    "ax = plt.gca()\n",
    "plotPolys(ax,dftmp,fitcol, degs=rng, mean=meanfit)"
   ]
  },
  {
   "cell_type": "code",
   "execution_count": null,
   "id": "f4779faa",
   "metadata": {},
   "outputs": [],
   "source": [
    "qs"
   ]
  },
  {
   "cell_type": "code",
   "execution_count": null,
   "id": "2d165ee3",
   "metadata": {},
   "outputs": [],
   "source": [
    "(dfc_multi_tsz['dist_rad_from_prevtgt2'] != '0.00').all()"
   ]
  },
  {
   "cell_type": "code",
   "execution_count": null,
   "id": "d2b193cf",
   "metadata": {},
   "outputs": [],
   "source": [
    "#dftmp0['err_sens']"
   ]
  },
  {
   "cell_type": "code",
   "execution_count": null,
   "id": "8780ffc8",
   "metadata": {},
   "outputs": [],
   "source": [
    "order"
   ]
  },
  {
   "cell_type": "code",
   "execution_count": null,
   "id": "85ab2d52",
   "metadata": {},
   "outputs": [],
   "source": [
    "fitcol"
   ]
  },
  {
   "cell_type": "code",
   "execution_count": null,
   "id": "0b609558",
   "metadata": {},
   "outputs": [],
   "source": [
    "dfc_multi_tsz[fitcol].unique()"
   ]
  },
  {
   "cell_type": "code",
   "execution_count": null,
   "id": "20791c54",
   "metadata": {},
   "outputs": [],
   "source": [
    "df_all['target_locs'].unique()"
   ]
  },
  {
   "cell_type": "code",
   "execution_count": null,
   "id": "e21dd664",
   "metadata": {},
   "outputs": [],
   "source": [
    "dfc_multi_tsz.query('group == 1')[fitcol].unique()"
   ]
  },
  {
   "cell_type": "code",
   "execution_count": null,
   "id": "59c003b6",
   "metadata": {},
   "outputs": [],
   "source": [
    "dfc_notna_multi_tsz = dfc_multi_tsz[~dfc_multi_tsz['err_sens'].isna()]"
   ]
  },
  {
   "cell_type": "code",
   "execution_count": null,
   "id": "0d7323ce",
   "metadata": {},
   "outputs": [],
   "source": [
    "import seaborn as sns\n",
    "#%debug\n",
    "\n",
    "#hue = 'env_nice'\n",
    "env2color = {'stable':'lightblue', 'random':'orange'}\n",
    "aspect=1.3\n",
    "#rng = [2]\n",
    "#rng = [2,3,4,5,6,7]\n",
    "rng = [2]\n",
    "ylim = [-10,10]\n",
    "meanfit=1\n",
    "bnqs = [  ('grid_line_violin_spatial','Spatial distance [deg]',drs,drpairs,\n",
    "           'dist_rad_from_prevtgt2', \n",
    "           f'trial_group_col_calc == \"trials\" and err_sens >= {ylim[0]} and err_sens <= {ylim[1]} and trial_shift_size == 1'),\n",
    "        ( 'grid_line_violin_temporal','Temporal distance [number of trials]',dts,dtpairs,\n",
    "         'trial_shift_size',\n",
    "         'trial_group_col_calc == \"trials\" and dist_rad_from_prevtgt2 == \"0.00\"')]\n",
    "\n",
    "#for env_type in ['stable','random']:\n",
    "    #color = env2color[env_type]\n",
    "color = 'lightblue'\n",
    "for bn,xlab,order,pairs,fitcol,qs in bnqs:\n",
    "    #qs0 = f'trial_group_col_calc == \"trialwe\" and err_sens >= {ylim[0]} and err_sens <= {ylim[1]}'\n",
    "    #qs = qs + ' and trial_shift_size == 1'\n",
    "    qs += ' and group == 0'\n",
    "\n",
    "    dftmp0 = dfc_notna_multi_tsz.query(qs)\n",
    "    \n",
    "    assert len(dftmp0) > 0\n",
    "    #fitcol = 'dist_rad_from_prevtgt2'\n",
    "    fg = sns.catplot(kind='violin', data=dftmp0, y='err_sens', \n",
    "                     x=fitcol, order = order,\n",
    "                     split=True, color=color, aspect=aspect)\n",
    "    dftmp = dfc_notna_multi_tsz.query(qs).copy()\n",
    "    pvalues, formatted_pvalues = getPvals(dftmp,fitcol, pairs)\n",
    "\n",
    "\n",
    "    for ax in fg.axes.flatten():\n",
    "        ax.axhline(0,ls=':',c='r')\n",
    "        ax.set_ylabel('Error sensitivity', fontdict={'fontsize':12})\n",
    "        ax.set_xlabel(xlab, fontdict={'fontsize':12} )\n",
    "#         if bn == 'grid_line_violin_spatial':\n",
    "#             ax.set_xticklabels(['same target', 45, 90, 135])\n",
    "        ax.set_ylim(ylim)\n",
    "        ax.set_title(f'{bn}', y = 0.967,\n",
    "                    fontdict={'fontsize':15, 'fontweight':'bold'})\n",
    "\n",
    "\n",
    "    from statannotations.Annotator import Annotator    \n",
    "    annotator = Annotator(ax,pairs, data=dftmp0, x=fitcol, y='err_sens',\n",
    "                         plot='violinplot', order=order)\n",
    "    #annotator.set_custom_annotations(formatted_pvalues)\n",
    "    annotator.set_pvalues(pvalues)\n",
    "    annotator.annotate()\n",
    "\n",
    "    ax.set_ylim(-5,17)\n",
    "    #break # test\n",
    "\n",
    "    plotPolys(ax,dftmp,fitcol, degs=rng, mean=meanfit)\n",
    "    \n",
    "    #bn = 'grid_line_violin_spatial'\n",
    "\n",
    "    #plt.savefig(pjoin(path_fig,'behav',f'{env_type}_{bn}.svg'))\n",
    "    #plt.savefig(pjoin(path_fig,'behav',f'{env_type}_{bn}.pdf'))\n",
    "\n"
   ]
  },
  {
   "cell_type": "code",
   "execution_count": null,
   "id": "f63af186",
   "metadata": {},
   "outputs": [],
   "source": [
    "#df_ = dfs0#.query('block > 1')\n",
    "df_ = df_all.query('group == 1 and block > 1')\n",
    "dfone = df_.query('subject == @subjects[0]')\n",
    "import seaborn as sns\n",
    "ax = sns.lineplot(x=\"trials\", y='error',data=df_,  estimator='mean', errorbar='se')#, hue='block')\n",
    "ax.axhline(0,ls=':',c='red')\n",
    "ax.plot(dfone['trials'].to_numpy(), dfone['perturbation'].to_numpy(), ls=':',c='y')\n",
    "#,  estimator='mean', errorbar='se',"
   ]
  },
  {
   "cell_type": "code",
   "execution_count": null,
   "id": "acd4ef49",
   "metadata": {},
   "outputs": [],
   "source": [
    "from behav_proc import *\n",
    "addBehavCols(df_all)"
   ]
  }
 ],
 "metadata": {
  "kernelspec": {
   "display_name": "merr",
   "language": "python",
   "name": "merr"
  },
  "language_info": {
   "codemirror_mode": {
    "name": "ipython",
    "version": 3
   },
   "file_extension": ".py",
   "mimetype": "text/x-python",
   "name": "python",
   "nbconvert_exporter": "python",
   "pygments_lexer": "ipython3",
   "version": "3.8.13"
  }
 },
 "nbformat": 4,
 "nbformat_minor": 5
}
