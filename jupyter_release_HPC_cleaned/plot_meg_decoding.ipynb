{
 "cells": [
  {
   "cell_type": "code",
   "execution_count": null,
   "id": "377fc7a8",
   "metadata": {},
   "outputs": [],
   "source": [
    "#%env FIG_MEMORY_ERRORS_STAB_AND_STOCH=/home/demitau/data_Quentin/full_experiments/output_plots2"
   ]
  },
  {
   "cell_type": "code",
   "execution_count": null,
   "id": "db6980e7",
   "metadata": {},
   "outputs": [],
   "source": [
    "import os; os.path.expandvars('$CODE_MEMORY_ERRORS')"
   ]
  },
  {
   "cell_type": "code",
   "execution_count": null,
   "id": "33c2326b",
   "metadata": {},
   "outputs": [],
   "source": [
    "!ls -l $HOME/"
   ]
  },
  {
   "cell_type": "code",
   "execution_count": null,
   "id": "20731fcb",
   "metadata": {},
   "outputs": [],
   "source": [
    "s = ['7']\n",
    "s.insert(0,'f')\n",
    "s"
   ]
  },
  {
   "cell_type": "code",
   "execution_count": null,
   "id": "19605535",
   "metadata": {},
   "outputs": [],
   "source": [
    "figure.__name__00"
   ]
  },
  {
   "cell_type": "code",
   "execution_count": null,
   "id": "d5a847db",
   "metadata": {},
   "outputs": [],
   "source": [
    "#import figure.plots\n",
    "from figure import plots"
   ]
  },
  {
   "cell_type": "code",
   "execution_count": null,
   "id": "b6831544",
   "metadata": {},
   "outputs": [],
   "source": [
    "figure.__path__"
   ]
  },
  {
   "cell_type": "code",
   "execution_count": null,
   "id": "1b5cb102",
   "metadata": {},
   "outputs": [],
   "source": []
  },
  {
   "cell_type": "code",
   "execution_count": null,
   "id": "198f3a01",
   "metadata": {},
   "outputs": [],
   "source": [
    "%load_ext autoreload\n",
    "%autoreload 2\n",
    "\n",
    "import os, sys\n",
    "sys.path.insert(0,os.path.expandvars('$CODE_MEMORY_ERRORS'))\n",
    "\n",
    "import config2\n",
    "ipy = get_ipython()\n",
    "#data_dir_general = '/home/demitau/data_Quentin'00\n",
    "#data_subdir_mem_err_main = 'full_experiments/data2'\n",
    "from os.path import join as pjoin\n",
    "from config2 import *\n",
    "\n",
    "#data_dir_input = pjoin(data_dir_general,data_subdir_mem_err_main)\n",
    "#data_dir_general = '/home/demitau/data_Quentin'\n",
    "#data_subdir_mem_err_main = 'full_experiments/data2'\n",
    "#data_dir_input = pjoin(data_dir_general,data_subdir_mem_err_main)\n",
    "#scripts_dir = pjoin(data_dir_general,'full_experiments','scripts2')\n",
    "\n",
    "data_dir_general = os.path.expandvars('$DATA_QUENTIN')\n",
    "data_dir_input = os.path.expandvars('$DATA_MEMORY_ERRORS_STAB_AND_STOCH')\n",
    "#scripts_dir = pjoin( os.path.expandvars('$CODE_MEMORY_ERRORS'), 'previous_analyses')\n",
    "scripts_dir = pjoin( os.path.expandvars('$CODE_MEMORY_ERRORS'), 'figure')\n",
    "\n",
    "from dateutil import parser\n",
    "\n",
    "print(data_dir_input, scripts_dir)\n",
    "\n",
    "subjects = [f for f in os.listdir(data_dir_input) if f.startswith('sub') ]\n",
    "subjects = list(sorted(subjects))\n",
    "print(subjects)"
   ]
  },
  {
   "cell_type": "markdown",
   "id": "02c9d53a",
   "metadata": {},
   "source": [
    "# sliding dec err-sens"
   ]
  },
  {
   "cell_type": "code",
   "execution_count": null,
   "id": "e10bb377",
   "metadata": {},
   "outputs": [],
   "source": [
    "!ls /p/project/icei-hbp-2020-0012/lyon/memerr/data2/sub01_WGPOZPEE/results/\n",
    "#corr_spoc_es_sliding2_no_filter\n",
    "#corrr_spoc_es_sliding2_no_filter"
   ]
  },
  {
   "cell_type": "code",
   "execution_count": null,
   "id": "7cd6c3b3",
   "metadata": {},
   "outputs": [],
   "source": [
    "from .plots import *"
   ]
  },
  {
   "cell_type": "code",
   "execution_count": null,
   "id": "14b443f6",
   "metadata": {},
   "outputs": [],
   "source": [
    "import figure.plots"
   ]
  },
  {
   "cell_type": "code",
   "execution_count": null,
   "id": "6d4ff6bd",
   "metadata": {},
   "outputs": [],
   "source": [
    "list(freq_name2freq.keys() )"
   ]
  },
  {
   "cell_type": "code",
   "execution_count": null,
   "id": "35ac3478",
   "metadata": {},
   "outputs": [],
   "source": [
    "#for subject in subjects[:1]:\n",
    "#%debug\n",
    "import gc; gc.collect()\n",
    "plot_diff_vs_es = 0\n",
    "plot_diff = 0\n",
    "\n",
    "regression_type = 'Ridge'\n",
    "time_locked='target'\n",
    "#subject_inds = np.arange(5)\n",
    "subject_inds = np.arange(len(subjects))\n",
    "time_start = parser.parse('18:52 of 3 nov 2022'); \n",
    "time_end = parser.parse('16:00 of 9 sept 2027'); \n",
    "\n",
    "use_preload_df = 1\n",
    "load_df        = 0\n",
    "#exit_after = 'collect'\n",
    "exit_after = 'end'\n",
    "plot_scores_per_subj = 0\n",
    "ktes = ['err_sens', 'prev_error' ,'correction']#[:2]\n",
    "#tmins = ['-5.00']\n",
    "\n",
    "DEBUG = 1\n",
    "\n",
    "failed = []\n",
    "for hpass in ['no_filter','0.1']:\n",
    "    #for env in ['stable','random']:\n",
    "    for env in [['stable','random']]:\n",
    "        #for freq_name in list(freq_name2freq.keys() ):\n",
    "        for freq_name in ['broad', 'beta']:\n",
    "            try:\n",
    "                output_folder = f'corr_spoc_es_sliding2_{hpass}'        \n",
    "                script_name = pjoin(scripts_dir,\n",
    "                                    'correlation_error_sensitivity_spoc_decoding_sliding.py')\n",
    "                try:\n",
    "                    ipy.run_line_magic('run', f'-i {script_name}')\n",
    "                except:                    \n",
    "                    pass\n",
    "                #df.to_pickle( pjoin(path_fig, save_folder, 'df') )\n",
    "                if not DEBUG:\n",
    "                    del df\n",
    "                import gc; gc.collect()\n",
    "                plt.close()\n",
    "            except:\n",
    "                print('Exc for ', hpass,freq_name)\n",
    "                failed += [ (hpass, freq_name)]\n",
    "            break\n",
    "        break\n",
    "    break"
   ]
  },
  {
   "cell_type": "code",
   "execution_count": null,
   "id": "3b355ea8",
   "metadata": {},
   "outputs": [],
   "source": [
    "import gc; gc.collect()"
   ]
  },
  {
   "cell_type": "code",
   "execution_count": null,
   "id": "0cba3b11",
   "metadata": {},
   "outputs": [],
   "source": []
  },
  {
   "cell_type": "code",
   "execution_count": null,
   "id": "f69beecc",
   "metadata": {},
   "outputs": [],
   "source": [
    "lambda x: spearmanr(\n",
    "    np.abs(x['prev_error_vals']), x['err_sens_vals'])[0] if x['err_sens_vals'] is not None else np.nan"
   ]
  },
  {
   "cell_type": "code",
   "execution_count": null,
   "id": "45e7c259",
   "metadata": {},
   "outputs": [],
   "source": [
    "df.loc[df['pert_seq_code'] == 0,'subject'].unique()"
   ]
  },
  {
   "cell_type": "code",
   "execution_count": null,
   "id": "26550901",
   "metadata": {},
   "outputs": [],
   "source": [
    "isinstance(env,str)"
   ]
  },
  {
   "cell_type": "code",
   "execution_count": null,
   "id": "b172e65b",
   "metadata": {},
   "outputs": [],
   "source": [
    "df['pert_seq_code'].nunique()"
   ]
  },
  {
   "cell_type": "code",
   "execution_count": null,
   "id": "6865957d",
   "metadata": {},
   "outputs": [],
   "source": [
    "fn_full = r'/p/project/icei-hbp-2020-0012/lyon/memerr/data2/sub01_WGPOZPEE/results/corr_spoc_es_sliding2_no_filter/stable_Ridge_target_err_sens_broad_t=-0.50,0.00.npz'\n",
    "f = np.load(fn_full)\n",
    "list(f.keys())"
   ]
  },
  {
   "cell_type": "code",
   "execution_count": null,
   "id": "b0b58c0f",
   "metadata": {},
   "outputs": [],
   "source": [
    "from datetime import datetime\n",
    "datetime.fromtimestamp( sr.st_mtime )"
   ]
  },
  {
   "cell_type": "code",
   "execution_count": null,
   "id": "ee708a9d",
   "metadata": {},
   "outputs": [],
   "source": [
    "sr = os.stat(fn_full)"
   ]
  },
  {
   "cell_type": "code",
   "execution_count": null,
   "id": "2bf7467b",
   "metadata": {},
   "outputs": [],
   "source": [
    "df = pd.read_pickle(fname_df_full)"
   ]
  },
  {
   "cell_type": "code",
   "execution_count": null,
   "id": "56a13597",
   "metadata": {},
   "outputs": [],
   "source": [
    "df['tmin']"
   ]
  },
  {
   "cell_type": "code",
   "execution_count": null,
   "id": "3fd26d7d",
   "metadata": {},
   "outputs": [],
   "source": [
    "df[f'{kte}_scores_mean_over_folds'] =  df[f'{kte}_scores'].apply(lambda x: np.mean(x) if x is not None else np.nan)\n"
   ]
  },
  {
   "cell_type": "code",
   "execution_count": null,
   "id": "cf6291ea",
   "metadata": {},
   "outputs": [],
   "source": [
    "df['perturbation'].unique()"
   ]
  },
  {
   "cell_type": "code",
   "execution_count": null,
   "id": "a4382d4a",
   "metadata": {},
   "outputs": [],
   "source": []
  },
  {
   "cell_type": "code",
   "execution_count": null,
   "id": "e9b73d86",
   "metadata": {},
   "outputs": [],
   "source": [
    "dfc.head(1)"
   ]
  },
  {
   "cell_type": "code",
   "execution_count": null,
   "id": "39656e7f",
   "metadata": {},
   "outputs": [],
   "source": [
    "for pv in df['perturbation'].unique()[1:]:\n",
    "    dfc = df[(df['tmin'] == '-5.00') & df['subject'].str.startswith('sub01') & \\\n",
    "             (df['perturbation'] == pv)][[f'{kte}_scores','fn_full']]\n",
    "    fn_full = str( dfc.loc[dfc.index[0], 'fn_full'] )\n",
    "    print(fn_full)"
   ]
  },
  {
   "cell_type": "code",
   "execution_count": null,
   "id": "db23bcec",
   "metadata": {},
   "outputs": [],
   "source": [
    "f = np.load(fn_full, allow_pickle=1)"
   ]
  },
  {
   "cell_type": "code",
   "execution_count": null,
   "id": "04bab907",
   "metadata": {},
   "outputs": [],
   "source": [
    "for pv in df['perturbation'].unique()[1:]:\n",
    "    dpvp =  f['decoding_per_var_and_pert'][()]\n",
    "    sc = dpvp[('err_sens',pv)]['scores']\n",
    "    print(scores)"
   ]
  },
  {
   "cell_type": "code",
   "execution_count": null,
   "id": "4bb08b9c",
   "metadata": {},
   "outputs": [],
   "source": [
    "df['perturbation']"
   ]
  },
  {
   "cell_type": "code",
   "execution_count": null,
   "id": "bbe5324d",
   "metadata": {},
   "outputs": [],
   "source": [
    "df[df['tmin'] == '-5.00'][['subject', 'perturbation', f'{kte}_scores']]"
   ]
  },
  {
   "cell_type": "code",
   "execution_count": null,
   "id": "7523032e",
   "metadata": {},
   "outputs": [],
   "source": [
    "df.groupby(['tmin','perturbation']).mean()['err_sens_scores_mean_over_folds']"
   ]
  },
  {
   "cell_type": "code",
   "execution_count": null,
   "id": "a25ab47d",
   "metadata": {},
   "outputs": [],
   "source": [
    "for pv in pertvals[1:]:\n",
    "    print(pv)\n",
    "    m = (df['env']=='stable' ) & (df['perturbation'] == pv)\n",
    "    dfc = df[m]\n",
    "    me = dfc.groupby('tmin').mean()\n",
    "    display(me.iloc[:5]['err_sens_scores_mean_over_folds'])"
   ]
  },
  {
   "cell_type": "code",
   "execution_count": null,
   "id": "8211be93",
   "metadata": {},
   "outputs": [],
   "source": [
    "#df"
   ]
  },
  {
   "cell_type": "code",
   "execution_count": null,
   "id": "d638afff",
   "metadata": {},
   "outputs": [],
   "source": [
    "list( grp.groups.keys() )"
   ]
  },
  {
   "cell_type": "code",
   "execution_count": null,
   "id": "67a13870",
   "metadata": {},
   "outputs": [],
   "source": [
    "grp.get_group('-0.13')"
   ]
  },
  {
   "cell_type": "code",
   "execution_count": null,
   "id": "07a4012a",
   "metadata": {},
   "outputs": [],
   "source": [
    "#df = pd.read_pickle(fname_df_full)\n",
    "dfc = df_collect2\n",
    "dfnull = dfc[ dfc['err_sens_vals'].isnull() ]#['fn'].unique()\n",
    "display( dfnull )"
   ]
  },
  {
   "cell_type": "code",
   "execution_count": null,
   "id": "0a4128ef",
   "metadata": {},
   "outputs": [],
   "source": []
  },
  {
   "cell_type": "code",
   "execution_count": null,
   "id": "740a572c",
   "metadata": {},
   "outputs": [],
   "source": [
    "df_collect2['err_sens_vals'].isnull()\n",
    "dfnull = df_collect2[ df_collect2['err_sens_vals'].isnull() ]#['fn'].unique()\n",
    "dfnull"
   ]
  },
  {
   "cell_type": "code",
   "execution_count": null,
   "id": "11112da0",
   "metadata": {},
   "outputs": [],
   "source": [
    "#df = pd.read_pickle(fname_df_full)\n",
    "df['err_sens_vals'].isnull()\n",
    "dfnull = df[ df['err_sens_vals'].isnull() ]#['fn'].unique()\n",
    "dfnull"
   ]
  },
  {
   "cell_type": "code",
   "execution_count": null,
   "id": "1cfafd82",
   "metadata": {},
   "outputs": [],
   "source": []
  },
  {
   "cell_type": "code",
   "execution_count": null,
   "id": "d06727bd",
   "metadata": {},
   "outputs": [],
   "source": [
    "f = np.load( dfnull.iloc[0]['fn_full'], allow_pickle=1)\n",
    "display( f['decoding_per_var_and_pert'][()][('err_sens', 0)]['scores'])\n"
   ]
  },
  {
   "cell_type": "code",
   "execution_count": null,
   "id": "c4b81799",
   "metadata": {},
   "outputs": [],
   "source": []
  },
  {
   "cell_type": "code",
   "execution_count": null,
   "id": "e697c5ad",
   "metadata": {},
   "outputs": [],
   "source": [
    "import re\n",
    "r = re.match('(af).*','afiiii')\n",
    "display(r)\n",
    "r.groups()"
   ]
  },
  {
   "cell_type": "code",
   "execution_count": null,
   "id": "fc96abf5",
   "metadata": {},
   "outputs": [],
   "source": [
    "grp = df.groupby( ['tmin'])#.size()\n",
    "grp.size()"
   ]
  },
  {
   "cell_type": "code",
   "execution_count": null,
   "id": "eedb8df9",
   "metadata": {},
   "outputs": [],
   "source": [
    "grp.get_group('-0.13')"
   ]
  },
  {
   "cell_type": "code",
   "execution_count": null,
   "id": "4484365a",
   "metadata": {},
   "outputs": [],
   "source": [
    "row[f'{kte}_vals']"
   ]
  },
  {
   "cell_type": "code",
   "execution_count": null,
   "id": "b0f7d56a",
   "metadata": {},
   "outputs": [],
   "source": [
    "ls = []\n",
    "for index,row in df.iterrows():\n",
    "    vs = row['err_sens_vals']\n",
    "    if vs is None:\n",
    "        l = 0\n",
    "    else:\n",
    "        l = len( vs )\n",
    "    ls += [l]\n",
    "    print(index,  l)\n",
    "ls = np.array(ls)"
   ]
  },
  {
   "cell_type": "code",
   "execution_count": null,
   "id": "41fdbc07",
   "metadata": {},
   "outputs": [],
   "source": [
    "df[ls == 0]"
   ]
  },
  {
   "cell_type": "code",
   "execution_count": null,
   "id": "32a69bce",
   "metadata": {},
   "outputs": [],
   "source": [
    "set([np.nan, np.nan])"
   ]
  },
  {
   "cell_type": "code",
   "execution_count": null,
   "id": "6fa19d79",
   "metadata": {},
   "outputs": [],
   "source": [
    "# TODO: cycle over perturbations possible values, subselect in df and make separate plots"
   ]
  },
  {
   "cell_type": "code",
   "execution_count": null,
   "id": "bdfbf2e4",
   "metadata": {},
   "outputs": [],
   "source": [
    "set( df['perturbation'] == np.nan )"
   ]
  },
  {
   "cell_type": "code",
   "execution_count": null,
   "id": "d28e92f3",
   "metadata": {},
   "outputs": [],
   "source": [
    "df['perturbation'].isnull()"
   ]
  },
  {
   "cell_type": "code",
   "execution_count": null,
   "id": "a5c55772",
   "metadata": {},
   "outputs": [],
   "source": [
    " np.isnan( df['perturbation'] )"
   ]
  },
  {
   "cell_type": "code",
   "execution_count": null,
   "id": "0ed45d9e",
   "metadata": {},
   "outputs": [],
   "source": [
    "pl[0] == pl[1], pl[0],pl[1]"
   ]
  },
  {
   "cell_type": "code",
   "execution_count": null,
   "id": "51e54fe7",
   "metadata": {},
   "outputs": [],
   "source": []
  },
  {
   "cell_type": "code",
   "execution_count": null,
   "id": "35038773",
   "metadata": {},
   "outputs": [],
   "source": [
    "pl = list( set( df['perturbation'] ) )"
   ]
  },
  {
   "cell_type": "code",
   "execution_count": null,
   "id": "d531fa15",
   "metadata": {
    "code_folding": [
     0
    ]
   },
   "outputs": [],
   "source": [
    "# fn_full = df_collect2.iloc[0]['fn_full']\n",
    "# f = np.load(fn_full)"
   ]
  },
  {
   "cell_type": "code",
   "execution_count": null,
   "id": "d2a32626",
   "metadata": {},
   "outputs": [],
   "source": [
    "list( f.keys() )"
   ]
  },
  {
   "cell_type": "code",
   "execution_count": null,
   "id": "63be5e57",
   "metadata": {},
   "outputs": [],
   "source": [
    "set(np.array(subjects)[subject_inds])"
   ]
  },
  {
   "cell_type": "code",
   "execution_count": null,
   "id": "ac0940c9",
   "metadata": {},
   "outputs": [],
   "source": [
    "set( df['subject'] )"
   ]
  },
  {
   "cell_type": "code",
   "execution_count": null,
   "id": "caa70fe9",
   "metadata": {},
   "outputs": [],
   "source": [
    "df_collect3"
   ]
  },
  {
   "cell_type": "code",
   "execution_count": null,
   "id": "1af6661c",
   "metadata": {},
   "outputs": [],
   "source": [
    "df = pd.read_pickle( pjoin(path_fig, save_folder, 'df') )"
   ]
  },
  {
   "cell_type": "code",
   "execution_count": null,
   "id": "ac1180fc",
   "metadata": {},
   "outputs": [],
   "source": [
    "DEBUG"
   ]
  },
  {
   "cell_type": "code",
   "execution_count": null,
   "id": "3900b92a",
   "metadata": {},
   "outputs": [],
   "source": [
    "pd.concat([df,df], ignore_index=1)"
   ]
  },
  {
   "cell_type": "code",
   "execution_count": null,
   "id": "741f43ba",
   "metadata": {},
   "outputs": [],
   "source": [
    "df_collect3"
   ]
  },
  {
   "cell_type": "code",
   "execution_count": null,
   "id": "d6d683a9",
   "metadata": {},
   "outputs": [],
   "source": [
    "'perturbation' in df.columns"
   ]
  },
  {
   "cell_type": "code",
   "execution_count": null,
   "id": "fc9f18d1",
   "metadata": {},
   "outputs": [],
   "source": [
    "from config2 import *\n",
    "#save_folder = \n",
    "import pandas as pd\n",
    "df = pd.read_pickle( pjoin(path_fig, save_folder, 'df') )"
   ]
  },
  {
   "cell_type": "code",
   "execution_count": null,
   "id": "8868f212",
   "metadata": {},
   "outputs": [],
   "source": [
    "kte = 'err_sens'"
   ]
  },
  {
   "cell_type": "code",
   "execution_count": null,
   "id": "e17cae2d",
   "metadata": {},
   "outputs": [],
   "source": [
    "for env in ['stable', 'random']:\n",
    "    dfc = df[df['env'] == env] \n",
    "    tmins = set(dfc['tmin'])\n",
    "#     for tmin in tmins:\n",
    "#         dfc2 = dfc[dfc['tmin'] == tmin]\n",
    "        \n",
    "    scores_mn = dfc[f'{kte}_scores_mean']"
   ]
  },
  {
   "cell_type": "code",
   "execution_count": null,
   "id": "fcc17f96",
   "metadata": {},
   "outputs": [],
   "source": [
    "scores_mn"
   ]
  },
  {
   "cell_type": "code",
   "execution_count": null,
   "id": "c7eb259c",
   "metadata": {},
   "outputs": [],
   "source": [
    "#%debug\n",
    "from figure.plots import plotScoresPerSubj\n",
    "df = pd.read_pickle( pjoin(path_fig, save_folder, 'df') )\n",
    "axs = plotScoresPerSubj(df, subjects, envs, kte = kte,\n",
    "                    ww =4 ,hh = 2, ylim=( -0.3,0.3) )\n"
   ]
  },
  {
   "cell_type": "code",
   "execution_count": null,
   "id": "e19c06b5",
   "metadata": {},
   "outputs": [],
   "source": []
  },
  {
   "cell_type": "code",
   "execution_count": null,
   "id": "818d8e40",
   "metadata": {},
   "outputs": [],
   "source": [
    "from figure.plots import plotScoresPerSubj\n",
    "axs = plotScoresPerSubj(df, subjects, envs, kte = 'err_sens', \n",
    "                      ww =4 ,hh = 2, ylim=( -0.3,0.3) )"
   ]
  },
  {
   "cell_type": "code",
   "execution_count": null,
   "id": "0c544f6e",
   "metadata": {},
   "outputs": [],
   "source": []
  },
  {
   "cell_type": "code",
   "execution_count": null,
   "id": "27bf1e56",
   "metadata": {},
   "outputs": [],
   "source": [
    "# TODO corre mean scores and abs err sens val?"
   ]
  },
  {
   "cell_type": "code",
   "execution_count": null,
   "id": "4a9c509b",
   "metadata": {},
   "outputs": [],
   "source": [
    "dfc[dfc['tmin'] == '-5.00']"
   ]
  },
  {
   "cell_type": "code",
   "execution_count": null,
   "id": "95d611b2",
   "metadata": {},
   "outputs": [],
   "source": [
    "mask = ( ( scores - scores_std ) >  0 ) |  ( ( scores + scores_std ) < 0 )"
   ]
  },
  {
   "cell_type": "code",
   "execution_count": null,
   "id": "37d6e77f",
   "metadata": {},
   "outputs": [],
   "source": [
    "tmins_srt"
   ]
  },
  {
   "cell_type": "code",
   "execution_count": null,
   "id": "3b83d5c7",
   "metadata": {},
   "outputs": [],
   "source": [
    "plt.plot(tmins_srt_f,scores)\n",
    "plt.fill_between(tmins_srt_f, scores, where=mask, color=colors[0], alpha=0.3) "
   ]
  },
  {
   "cell_type": "code",
   "execution_count": null,
   "id": "4eff1404",
   "metadata": {},
   "outputs": [],
   "source": [
    "res.pvalue"
   ]
  },
  {
   "cell_type": "code",
   "execution_count": null,
   "id": "6ca60df7",
   "metadata": {},
   "outputs": [],
   "source": [
    "# when p is far from 0 (not close to it), we cannot guarantee that the mean is zero in mean\n",
    "#Suppose we wish to test the null hypothesis that the mean of a population is equal to 0.5.\n",
    "# We choose a confidence level of 99%; that is, we will reject the null hypothesis \n",
    "# in favor of the alternative if the p-value is less than 0.01.\n",
    "\n",
    "x# the greater the p-value the more believe we in null-hypothesis"
   ]
  },
  {
   "cell_type": "code",
   "execution_count": null,
   "id": "90a4d776",
   "metadata": {},
   "outputs": [],
   "source": [
    "x['err_sens_vals']"
   ]
  },
  {
   "cell_type": "code",
   "execution_count": null,
   "id": "3edd46f2",
   "metadata": {},
   "outputs": [],
   "source": [
    "row  =df.iloc[0]\n",
    "if  len( row['err_sens_vals'] ) > len(row['err_sens_diff']):\n",
    "    df['err_sens_vals'] = df.apply(lambda x: x['err_sens_vals'][x['non_hit']],1)"
   ]
  },
  {
   "cell_type": "code",
   "execution_count": null,
   "id": "bb6b92af",
   "metadata": {},
   "outputs": [],
   "source": [
    "row  =df.iloc[0]\n",
    "len( row['err_sens_vals'] ), len(row['err_sens_diff'])"
   ]
  },
  {
   "cell_type": "code",
   "execution_count": null,
   "id": "bed8f636",
   "metadata": {},
   "outputs": [],
   "source": [
    "row  =df_collect1.iloc[0]"
   ]
  },
  {
   "cell_type": "code",
   "execution_count": null,
   "id": "d561c19b",
   "metadata": {},
   "outputs": [],
   "source": []
  },
  {
   "cell_type": "code",
   "execution_count": null,
   "id": "750d2604",
   "metadata": {},
   "outputs": [],
   "source": []
  },
  {
   "cell_type": "code",
   "execution_count": null,
   "id": "ef8b8f07",
   "metadata": {},
   "outputs": [],
   "source": [
    "df_collect1.loc[0,'subject']"
   ]
  },
  {
   "cell_type": "code",
   "execution_count": null,
   "id": "357ff184",
   "metadata": {},
   "outputs": [],
   "source": [
    "df_collect1.loc[0,'dfdf'] = [0,4]"
   ]
  },
  {
   "cell_type": "code",
   "execution_count": null,
   "id": "e41c7946",
   "metadata": {},
   "outputs": [],
   "source": [
    "df_collect2.columns"
   ]
  },
  {
   "cell_type": "code",
   "execution_count": null,
   "id": "e72c8d6f",
   "metadata": {},
   "outputs": [],
   "source": [
    "#def myfunction():     v1 = get_a_value()     raise Exception()  try:     myfunction() except:     # can I access v1 from here?     v1 = inspect.trace()[-1][0].f_locals['v1'] "
   ]
  },
  {
   "cell_type": "code",
   "execution_count": null,
   "id": "c4fb8788",
   "metadata": {},
   "outputs": [],
   "source": []
  },
  {
   "cell_type": "code",
   "execution_count": null,
   "id": "15e0c3ae",
   "metadata": {},
   "outputs": [],
   "source": [
    "df_collect1.columns"
   ]
  },
  {
   "cell_type": "code",
   "execution_count": null,
   "id": "9f71fd50",
   "metadata": {},
   "outputs": [],
   "source": [
    "df_collect2"
   ]
  },
  {
   "cell_type": "code",
   "execution_count": null,
   "id": "e2a871b1",
   "metadata": {},
   "outputs": [],
   "source": [
    "set( df['subject'] )"
   ]
  },
  {
   "cell_type": "code",
   "execution_count": null,
   "id": "9143e24b",
   "metadata": {},
   "outputs": [],
   "source": [
    "del df_collect"
   ]
  },
  {
   "cell_type": "code",
   "execution_count": null,
   "id": "aa77179f",
   "metadata": {},
   "outputs": [],
   "source": [
    "df_persubj"
   ]
  },
  {
   "cell_type": "code",
   "execution_count": null,
   "id": "b43cd7b7",
   "metadata": {},
   "outputs": [],
   "source": []
  },
  {
   "cell_type": "markdown",
   "id": "429b6b9b",
   "metadata": {
    "heading_collapsed": true
   },
   "source": [
    "# plot_behav2"
   ]
  },
  {
   "cell_type": "code",
   "execution_count": null,
   "id": "69ff01e1",
   "metadata": {
    "hidden": true
   },
   "outputs": [],
   "source": [
    "script_name = pjoin(scripts_dir,'plot_behav2.py')\n",
    "ipy.run_line_magic('run', f'-i {script_name}')"
   ]
  },
  {
   "cell_type": "markdown",
   "id": "85a1a80b",
   "metadata": {
    "heading_collapsed": true
   },
   "source": [
    "# compute_error_sensitivity2"
   ]
  },
  {
   "cell_type": "code",
   "execution_count": null,
   "id": "7f60010d",
   "metadata": {
    "hidden": true
   },
   "outputs": [],
   "source": [
    "#for subject in subjects:\n",
    "#for subject in subjects[:1]:\n",
    "script_name = pjoin(scripts_dir,'compute_error_sensitivity2.py')\n",
    "ipy.run_line_magic('run', f'-i {script_name}')"
   ]
  },
  {
   "cell_type": "code",
   "execution_count": null,
   "id": "3e28f410",
   "metadata": {
    "hidden": true
   },
   "outputs": [],
   "source": [
    "subjects"
   ]
  },
  {
   "cell_type": "markdown",
   "id": "8c513415",
   "metadata": {
    "heading_collapsed": true
   },
   "source": [
    "# plot_corr_decod_es2"
   ]
  },
  {
   "cell_type": "code",
   "execution_count": null,
   "id": "824b511c",
   "metadata": {
    "hidden": true
   },
   "outputs": [],
   "source": [
    "#for subject in subjects:\n",
    "#for subject in subjects[:1]:\n",
    "script_name = pjoin(scripts_dir,'plot_corr_decod_es2.py')\n",
    "ipy.run_line_magic('run', f'-i {script_name}')"
   ]
  },
  {
   "cell_type": "code",
   "execution_count": null,
   "id": "fd0f7fab",
   "metadata": {
    "hidden": true
   },
   "outputs": [],
   "source": [
    "#stable_Ridge_spatial_scores_prevmovement_preverrors_errors_prevbelief_broad"
   ]
  },
  {
   "cell_type": "markdown",
   "id": "61042ada",
   "metadata": {
    "heading_collapsed": true
   },
   "source": [
    "# spoc_home_final_fig2"
   ]
  },
  {
   "cell_type": "code",
   "execution_count": null,
   "id": "48793ccd",
   "metadata": {
    "hidden": true
   },
   "outputs": [],
   "source": [
    "!which python"
   ]
  },
  {
   "cell_type": "code",
   "execution_count": null,
   "id": "05650f0b",
   "metadata": {
    "hidden": true
   },
   "outputs": [],
   "source": [
    "!pip install seaborn"
   ]
  },
  {
   "cell_type": "code",
   "execution_count": null,
   "id": "fd132b98",
   "metadata": {
    "hidden": true
   },
   "outputs": [],
   "source": [
    "#for subject in subjects:\n",
    "#for subject in subjects[:1]:\n",
    "freqs = ['broad', 'theta', 'alpha', 'beta', 'gamma']\n",
    "script_name = pjoin(scripts_dir,'spoc_home_final_fig2.py')\n",
    "for hpass in ['no_filter','0.1','0.05']:\n",
    "    for seed in [0,1]:\n",
    "        for regression_type in ['Ridge', 'xgboost'][:1]:    \n",
    "            for freq_name in freqs:\n",
    "        #for regression_type in ['Ridge']:    \n",
    "        #for regression_type in ['xgboost']:\n",
    "                ipy.run_line_magic('run', f'-i {script_name}')\n",
    "            #print('saved_successfully =', saved_successfully)\n",
    "\n",
    "print( len(fnames_missing), len(fnames_zero_size) )"
   ]
  },
  {
   "cell_type": "code",
   "execution_count": null,
   "id": "2362020e",
   "metadata": {
    "hidden": true
   },
   "outputs": [],
   "source": [
    "fnames_missing"
   ]
  },
  {
   "cell_type": "code",
   "execution_count": null,
   "id": "f4082c0b",
   "metadata": {
    "hidden": true
   },
   "outputs": [],
   "source": [
    "print( len(fnames_missing), len(fnames_zero_size) )"
   ]
  },
  {
   "cell_type": "markdown",
   "id": "f303732d",
   "metadata": {
    "heading_collapsed": true
   },
   "source": [
    "# spoc_sliding"
   ]
  },
  {
   "cell_type": "code",
   "execution_count": null,
   "id": "c6b204bd",
   "metadata": {
    "hidden": true
   },
   "outputs": [],
   "source": [
    "#for subject in subjects:\n",
    "#for subject in subjects[:1]:\n",
    "freqs = ['broad', 'theta', 'alpha', 'beta', 'gamma']\n",
    "hpasses = ['no_filter','0.1','0.05']\n",
    "rts = ['Ridge', 'xgboost']\n",
    "\n",
    "freqs = ['broad']\n",
    "#hpasses = ['0.1']\n",
    "hpasses = ['no_filter']\n",
    "rts = ['Ridge']\n",
    "script_name = pjoin(scripts_dir,'spoc_sliding2.py')\n",
    "for hpass in hpasses:\n",
    "    for regression_type in rts:    \n",
    "        for freq_name in freqs:\n",
    "    #for regression_type in ['Ridge']:    \n",
    "    #for regression_type in ['xgboost']:\n",
    "            ipy.run_line_magic('run', f'-i {script_name}')\n",
    "        #print('saved_successfully =', saved_successfully)"
   ]
  },
  {
   "cell_type": "code",
   "execution_count": null,
   "id": "f995c414",
   "metadata": {
    "hidden": true
   },
   "outputs": [],
   "source": [
    "vals.shape"
   ]
  },
  {
   "cell_type": "code",
   "execution_count": null,
   "id": "4ac87e3d",
   "metadata": {
    "hidden": true
   },
   "outputs": [],
   "source": [
    "for (time_locked,decoding_type,env2all_scores) in tpls:\n",
    "\n",
    "    analysis_name = getAnalysisName(time_locked,control_type)\n",
    "    var_order = analysis_name2var_ord[analysis_name]\n",
    "\n",
    "    for vari,varn in enumerate(var_order):\n",
    "        env2scs = {}\n",
    "        for env,scs in env2all_scores.items():\n",
    "            scs_all = np.array(scs)\n",
    "            tmins_all = scs[-1,:,:]\n",
    "            tmins_ = tmins_all[0]  # take of the first subject\n",
    "            scs = scs_all[:-1,:,:]\n",
    "\n",
    "            vals_ = scs[vari,...]\n",
    "            #ys_ = vals.mean(axis=0)  # mean over subjects\n",
    "\n",
    "            # tmins are not sorted\n",
    "            a = sorted( zip(tmins_,vals_.T), key=lambda x: x[0] )\n",
    "            tmins,vals = zip(*a)\n",
    "            vals = np.array(vals).T\n",
    "\n",
    "            env2scs[env] = np.array(vals)\n",
    "\n",
    "        # TODO: use argsort to solve\n",
    "        diff = env2scs['stable'] - env2scs['random']\n",
    "\n",
    "        plt.title(f'{decoding_type} decoding {varn} differences', fontsize=14)\n",
    "        # Plot errors during stable environment\n",
    "        plt.plot(tmins, diff.mean(0), color=colors[0], linewidth=0.5)\n",
    "        sig = decod_stats(diff) < 0.05\n",
    "        plt.fill_between(tmins, diff.mean(0), where=sig, color=colors[0], alpha=0.3)\n",
    "        fname_fig = op.join( path_fig, save_folder,\n",
    "            f'Exp2{varn}_{regression_type}_{freq_name}_{time_locked}_{decoding_type}' )\n",
    "        plt.savefig(fname_fig, dpi=400)\n",
    "        print(f'Fig saved to {fname_fig}')\n",
    "        plt.close()\n"
   ]
  },
  {
   "cell_type": "code",
   "execution_count": null,
   "id": "0091d171",
   "metadata": {
    "hidden": true
   },
   "outputs": [],
   "source": [
    "a = sorted( zip(tmins_,vals.T), key=lambda x: x[0] )\n",
    "tmins,ys = zip(*a)\n"
   ]
  },
  {
   "cell_type": "code",
   "execution_count": null,
   "id": "b82da14a",
   "metadata": {
    "hidden": true
   },
   "outputs": [],
   "source": [
    "ys"
   ]
  },
  {
   "cell_type": "code",
   "execution_count": null,
   "id": "72a35425",
   "metadata": {
    "hidden": true
   },
   "outputs": [],
   "source": [
    "getAnalysisName('target',control_type)"
   ]
  },
  {
   "cell_type": "code",
   "execution_count": null,
   "id": "ad68554a",
   "metadata": {
    "hidden": true
   },
   "outputs": [],
   "source": [
    "var_order"
   ]
  },
  {
   "cell_type": "code",
   "execution_count": null,
   "id": "c06856eb",
   "metadata": {
    "hidden": true
   },
   "outputs": [],
   "source": [
    "for a in df_collect[['fn_full','tmin']].to_numpy():\n",
    "    print(a)"
   ]
  },
  {
   "cell_type": "code",
   "execution_count": null,
   "id": "ebd8d88f",
   "metadata": {
    "hidden": true
   },
   "outputs": [],
   "source": [
    "\n",
    "#sub_df['analysis_name']._idx(0)"
   ]
  },
  {
   "cell_type": "code",
   "execution_count": null,
   "id": "157a79d2",
   "metadata": {
    "hidden": true
   },
   "outputs": [],
   "source": [
    "np.array( scores_cur_env_cur_subj ).shape"
   ]
  },
  {
   "cell_type": "code",
   "execution_count": null,
   "id": "0ad946c5",
   "metadata": {
    "hidden": true
   },
   "outputs": [],
   "source": [
    "a = sorted( zip(tmins,ys), key=lambda x: x[0] )\n",
    "tmins_,ys_ = zip(*a)\n",
    "plt.plot(tmins,ys, lw=0, marker='*')\n",
    "plt.plot(tmins_,ys_)"
   ]
  },
  {
   "cell_type": "code",
   "execution_count": null,
   "id": "a956a507",
   "metadata": {
    "hidden": true
   },
   "outputs": [],
   "source": [
    "tmins_all = np.array(scores_cur_env)[...,-1]\n",
    "np.max( np.std(tmins_all,axis=0) )"
   ]
  },
  {
   "cell_type": "code",
   "execution_count": null,
   "id": "3e69a68b",
   "metadata": {
    "hidden": true
   },
   "outputs": [],
   "source": [
    "min(tmins),max(tmins)"
   ]
  },
  {
   "cell_type": "code",
   "execution_count": null,
   "id": "bfeb309b",
   "metadata": {
    "hidden": true
   },
   "outputs": [],
   "source": [
    "tuples_a = np.array(tuples,dtype=object)"
   ]
  },
  {
   "cell_type": "code",
   "execution_count": null,
   "id": "7d483797",
   "metadata": {
    "hidden": true
   },
   "outputs": [],
   "source": [
    "sc"
   ]
  },
  {
   "cell_type": "code",
   "execution_count": null,
   "id": "9eb9b9cd",
   "metadata": {
    "hidden": true
   },
   "outputs": [],
   "source": [
    "df_collect"
   ]
  },
  {
   "cell_type": "code",
   "execution_count": null,
   "id": "e1b03b40",
   "metadata": {
    "hidden": true
   },
   "outputs": [],
   "source": [
    "len( df_collect[ (df_collect['env'] == env) ] )"
   ]
  },
  {
   "cell_type": "code",
   "execution_count": null,
   "id": "ef54836b",
   "metadata": {
    "hidden": true
   },
   "outputs": [],
   "source": [
    "sub_df = df_collect[ (df_collect['time_locked'] == time_locked) & (df_collect['env'] == env) ]"
   ]
  },
  {
   "cell_type": "code",
   "execution_count": null,
   "id": "ea70c9b7",
   "metadata": {
    "hidden": true
   },
   "outputs": [],
   "source": [
    "sub_df.reset_index()\n",
    "print(len(sub_df))\n",
    "sub_df"
   ]
  },
  {
   "cell_type": "code",
   "execution_count": null,
   "id": "2a35336b",
   "metadata": {
    "hidden": true
   },
   "outputs": [],
   "source": []
  },
  {
   "cell_type": "code",
   "execution_count": null,
   "id": "a020281a",
   "metadata": {
    "hidden": true
   },
   "outputs": [],
   "source": [
    "list( sub_df['fn'] ) "
   ]
  },
  {
   "cell_type": "code",
   "execution_count": null,
   "id": "a1ecddac",
   "metadata": {
    "hidden": true
   },
   "outputs": [],
   "source": [
    "times, fns, pars = list( zip(*srt) )\n",
    "from datetime import datetime\n",
    "days = [ datetime.fromtimestamp(t).day for t in times]\n",
    "sum( np.array(days) < 20)"
   ]
  },
  {
   "cell_type": "code",
   "execution_count": null,
   "id": "2fa72773",
   "metadata": {
    "hidden": true
   },
   "outputs": [],
   "source": []
  },
  {
   "cell_type": "code",
   "execution_count": null,
   "id": "e68fa2ae",
   "metadata": {
    "hidden": true
   },
   "outputs": [],
   "source": [
    "\n",
    "#r = re.match( r'(stable|random)_(Ridge|xgboost)_(feedback|movement)_(.*)_([a-z])_t=(.*)\\.npz', fns[0])\n",
    "#r = re.match( r'(stable|random)_(Ridge|xgboost)_(feedback|target)_(.*)_([a-z]).*\\.npz', fns[0])\n",
    "r = re.match( r'(stable|random)_(Ridge|xgboost)_(feedback|target)_(.*)_(' +freqstr+ ')_t=(.*)\\.npz', fns[0])\n",
    "print(r )\n",
    "grps = r.groups(); print(grps)\n",
    "env,rt,tgt,analysis_name,freq_name,tminmax = grps"
   ]
  },
  {
   "cell_type": "code",
   "execution_count": null,
   "id": "99edc272",
   "metadata": {
    "hidden": true
   },
   "outputs": [],
   "source": [
    "len(days)"
   ]
  },
  {
   "cell_type": "code",
   "execution_count": null,
   "id": "865028d9",
   "metadata": {
    "hidden": true
   },
   "outputs": [],
   "source": [
    "fn_full"
   ]
  },
  {
   "cell_type": "code",
   "execution_count": null,
   "id": "4ae9bac0",
   "metadata": {
    "hidden": true
   },
   "outputs": [],
   "source": [
    "shutil."
   ]
  },
  {
   "cell_type": "code",
   "execution_count": null,
   "id": "68903cb9",
   "metadata": {
    "hidden": true
   },
   "outputs": [],
   "source": [
    "# fns[0]\n",
    "# fn_full = op.join(dir_full,fns[0])\n",
    "# import shutil\n",
    "# os.remove(fn_full)"
   ]
  },
  {
   "cell_type": "code",
   "execution_count": null,
   "id": "544479af",
   "metadata": {
    "hidden": true
   },
   "outputs": [],
   "source": [
    "fn_full"
   ]
  },
  {
   "cell_type": "code",
   "execution_count": null,
   "id": "c632f895",
   "metadata": {
    "hidden": true
   },
   "outputs": [],
   "source": []
  },
  {
   "cell_type": "code",
   "execution_count": null,
   "id": "46c2aa07",
   "metadata": {
    "hidden": true
   },
   "outputs": [],
   "source": [
    "shift"
   ]
  },
  {
   "cell_type": "code",
   "execution_count": null,
   "id": "a875e459",
   "metadata": {
    "hidden": true
   },
   "outputs": [],
   "source": [
    "np.all( np.diff(times) > 0)"
   ]
  },
  {
   "cell_type": "code",
   "execution_count": null,
   "id": "0dce2842",
   "metadata": {
    "hidden": true
   },
   "outputs": [],
   "source": []
  },
  {
   "cell_type": "code",
   "execution_count": null,
   "id": "0ac7df49",
   "metadata": {
    "hidden": true
   },
   "outputs": [],
   "source": []
  },
  {
   "cell_type": "code",
   "execution_count": null,
   "id": "2bc619b0",
   "metadata": {
    "hidden": true
   },
   "outputs": [],
   "source": [
    "d = datetime.fromtimestamp(times[0])"
   ]
  },
  {
   "cell_type": "code",
   "execution_count": null,
   "id": "4b00f507",
   "metadata": {
    "hidden": true
   },
   "outputs": [],
   "source": [
    "newver = [ 'slide_windows_type' in par_cur for par_cur in pars]"
   ]
  },
  {
   "cell_type": "code",
   "execution_count": null,
   "id": "9926250b",
   "metadata": {
    "hidden": true
   },
   "outputs": [],
   "source": [
    "len(pars) - sum( newver )"
   ]
  },
  {
   "cell_type": "code",
   "execution_count": null,
   "id": "2fd906b1",
   "metadata": {
    "hidden": true
   },
   "outputs": [],
   "source": []
  },
  {
   "cell_type": "code",
   "execution_count": null,
   "id": "7aa97985",
   "metadata": {
    "hidden": true
   },
   "outputs": [],
   "source": []
  },
  {
   "cell_type": "code",
   "execution_count": null,
   "id": "3d427765",
   "metadata": {
    "hidden": true
   },
   "outputs": [],
   "source": [
    "import matplotlib.pyplot as plt\n",
    "COLOR = 'white'\n",
    "mpl.rcParams['text.color'] = COLOR\n",
    "mpl.rcParams['axes.labelcolor'] = COLOR\n",
    "mpl.rcParams['xtick.color'] = COLOR\n",
    "mpl.rcParams['ytick.color'] = COLOR\n",
    "\n",
    "plt.hist(days)"
   ]
  },
  {
   "cell_type": "code",
   "execution_count": null,
   "id": "7f554d6d",
   "metadata": {
    "hidden": true
   },
   "outputs": [],
   "source": [
    "len(srt)"
   ]
  },
  {
   "cell_type": "code",
   "execution_count": null,
   "id": "ca45c23a",
   "metadata": {
    "hidden": true
   },
   "outputs": [],
   "source": []
  },
  {
   "cell_type": "code",
   "execution_count": null,
   "id": "b33f70ef",
   "metadata": {
    "hidden": true
   },
   "outputs": [],
   "source": [
    "list ( f.keys() )"
   ]
  },
  {
   "cell_type": "code",
   "execution_count": null,
   "id": "73970351",
   "metadata": {
    "hidden": true
   },
   "outputs": [],
   "source": []
  },
  {
   "cell_type": "code",
   "execution_count": null,
   "id": "07f3f0d1",
   "metadata": {
    "hidden": true
   },
   "outputs": [],
   "source": [
    "f['par'][()]"
   ]
  },
  {
   "cell_type": "code",
   "execution_count": null,
   "id": "ec27283c",
   "metadata": {
    "hidden": true
   },
   "outputs": [],
   "source": [
    "biotec falls,\n",
    "new datacenter companies fall"
   ]
  },
  {
   "cell_type": "code",
   "execution_count": null,
   "id": "350f1fe0",
   "metadata": {
    "hidden": true
   },
   "outputs": [],
   "source": [
    "hpass"
   ]
  },
  {
   "cell_type": "code",
   "execution_count": null,
   "id": "9e9c9593",
   "metadata": {
    "hidden": true
   },
   "outputs": [],
   "source": []
  },
  {
   "cell_type": "code",
   "execution_count": null,
   "id": "76400166",
   "metadata": {
    "hidden": true
   },
   "outputs": [],
   "source": [
    "len(  env2all_scores[env] )"
   ]
  },
  {
   "cell_type": "code",
   "execution_count": null,
   "id": "8d4e5dfe",
   "metadata": {
    "hidden": true
   },
   "outputs": [],
   "source": [
    "# (4, 20, 321) in orig;    so  vars x subj x times"
   ]
  },
  {
   "cell_type": "code",
   "execution_count": null,
   "id": "a206cbb0",
   "metadata": {
    "hidden": true
   },
   "outputs": [],
   "source": [
    "len(scores_cur_env_cur_subj)"
   ]
  },
  {
   "cell_type": "code",
   "execution_count": null,
   "id": "74eb82d6",
   "metadata": {
    "hidden": true
   },
   "outputs": [],
   "source": [
    "scs[1,...].shape"
   ]
  },
  {
   "cell_type": "code",
   "execution_count": null,
   "id": "cd113c5b",
   "metadata": {
    "hidden": true
   },
   "outputs": [],
   "source": [
    "scs.transpose( (2,0,1)).shape"
   ]
  },
  {
   "cell_type": "code",
   "execution_count": null,
   "id": "2e1fe830",
   "metadata": {
    "hidden": true
   },
   "outputs": [],
   "source": [
    "scs.shape"
   ]
  },
  {
   "cell_type": "code",
   "execution_count": null,
   "id": "6d077b9c",
   "metadata": {
    "hidden": true
   },
   "outputs": [],
   "source": [
    "from mne.stats import permutation_cluster_1samp_test\n",
    "help(permutation_cluster_1samp_test)"
   ]
  },
  {
   "cell_type": "code",
   "execution_count": null,
   "id": "bcdb6908",
   "metadata": {
    "hidden": true
   },
   "outputs": [],
   "source": [
    "len(tminmaxs)"
   ]
  },
  {
   "cell_type": "code",
   "execution_count": null,
   "id": "e656dbb1",
   "metadata": {
    "hidden": true
   },
   "outputs": [],
   "source": [
    "env2all_scores[env].shape"
   ]
  },
  {
   "cell_type": "code",
   "execution_count": null,
   "id": "070fe417",
   "metadata": {
    "hidden": true
   },
   "outputs": [],
   "source": [
    "print( len(subjects), len(tmins), scs.shape )"
   ]
  },
  {
   "cell_type": "code",
   "execution_count": null,
   "id": "439caad6",
   "metadata": {
    "hidden": true
   },
   "outputs": [],
   "source": [
    "len(env2all_scores['stable'])"
   ]
  },
  {
   "cell_type": "code",
   "execution_count": null,
   "id": "75b164c3",
   "metadata": {
    "hidden": true
   },
   "outputs": [],
   "source": [
    "len(env2all_scores['random'])"
   ]
  },
  {
   "cell_type": "code",
   "execution_count": null,
   "id": "46925912",
   "metadata": {
    "hidden": true
   },
   "outputs": [],
   "source": [
    "scs.shape"
   ]
  },
  {
   "cell_type": "code",
   "execution_count": null,
   "id": "0d1c5605",
   "metadata": {
    "hidden": true
   },
   "outputs": [],
   "source": [
    "len(tmins)"
   ]
  },
  {
   "cell_type": "code",
   "execution_count": null,
   "id": "91c88390",
   "metadata": {
    "hidden": true
   },
   "outputs": [],
   "source": [
    "env2all_scores"
   ]
  },
  {
   "cell_type": "code",
   "execution_count": null,
   "id": "987fa2f8",
   "metadata": {
    "hidden": true
   },
   "outputs": [],
   "source": [
    "dd"
   ]
  },
  {
   "cell_type": "code",
   "execution_count": null,
   "id": "e24496a7",
   "metadata": {
    "hidden": true
   },
   "outputs": [],
   "source": [
    "os.listdir('/p/project/icei-hbp-2020-0012/lyon/memerr/data2/sub20_YOGCJKKB/results')"
   ]
  },
  {
   "cell_type": "code",
   "execution_count": null,
   "id": "39b49ba4",
   "metadata": {
    "hidden": true
   },
   "outputs": [],
   "source": [
    "os.listdir(results_folder)"
   ]
  },
  {
   "cell_type": "markdown",
   "id": "942bdd20",
   "metadata": {
    "heading_collapsed": true
   },
   "source": [
    "# td_long_fig"
   ]
  },
  {
   "cell_type": "code",
   "execution_count": null,
   "id": "840b764b",
   "metadata": {
    "hidden": true
   },
   "outputs": [],
   "source": []
  },
  {
   "cell_type": "code",
   "execution_count": null,
   "id": "6327ba6e",
   "metadata": {
    "hidden": true
   },
   "outputs": [],
   "source": [
    "import sys\n",
    "#for subject in subjects:\n",
    "#for subject in subjects[:1]:\n",
    "control_type = 'target'  # 'movement', 'feedback', 'target' or 'belief'\n",
    "control_type = 'movement'  # 'movement', 'feedback', 'target' or 'belief'\n",
    "script_name = pjoin(scripts_dir,'td_long_fig2.py')\n",
    "for hpass in ['no_filter','0.1','0.05']:\n",
    "    for regression_type in ['Ridge', 'xgboost']:    \n",
    "        ipy.run_line_magic('run', f'-i {script_name}')\n",
    "        #sys.exit(1)\n",
    "        #print('saved_successfully =', saved_successfully)"
   ]
  },
  {
   "cell_type": "markdown",
   "id": "efc18972",
   "metadata": {
    "heading_collapsed": true
   },
   "source": [
    "# td_baselined_final_fig2"
   ]
  },
  {
   "cell_type": "code",
   "execution_count": null,
   "id": "3c9f0392",
   "metadata": {
    "hidden": true
   },
   "outputs": [],
   "source": [
    "import sys\n",
    "#for subject in subjects:\n",
    "#for subject in subjects[:1]:\n",
    "control_type = 'target'  # 'movement', 'feedback', 'target' or 'belief'\n",
    "control_type = 'movement'  # 'movement', 'feedback', 'target' or 'belief'\n",
    "script_name = pjoin(scripts_dir,'td_baselined_final_fig2.py')\n",
    "for hpass in ['no_filter','0.1','0.05']:\n",
    "    for regression_type in ['Ridge', 'xgboost']:    \n",
    "        ipy.run_line_magic('run', f'-i {script_name}')\n",
    "        sys.exit(1)\n",
    "        #print('saved_successfully =', saved_successfully)"
   ]
  },
  {
   "cell_type": "code",
   "execution_count": null,
   "id": "e62a845f",
   "metadata": {
    "hidden": true
   },
   "outputs": [],
   "source": [
    "path_data"
   ]
  },
  {
   "cell_type": "code",
   "execution_count": null,
   "id": "a6cc7d28",
   "metadata": {
    "hidden": true
   },
   "outputs": [],
   "source": []
  },
  {
   "cell_type": "code",
   "execution_count": null,
   "id": "e157cdc6",
   "metadata": {
    "hidden": true
   },
   "outputs": [],
   "source": []
  },
  {
   "cell_type": "code",
   "execution_count": null,
   "id": "50a05e23",
   "metadata": {
    "hidden": true
   },
   "outputs": [],
   "source": []
  },
  {
   "cell_type": "code",
   "execution_count": null,
   "id": "7d6b0c02",
   "metadata": {
    "hidden": true,
    "run_control": {
     "marked": true
    }
   },
   "outputs": [],
   "source": [
    "import gc; gc.collect()"
   ]
  },
  {
   "cell_type": "code",
   "execution_count": null,
   "id": "63e46125",
   "metadata": {
    "hidden": true
   },
   "outputs": [],
   "source": [
    "fnames_missing"
   ]
  },
  {
   "cell_type": "code",
   "execution_count": null,
   "id": "a78454e2",
   "metadata": {
    "hidden": true
   },
   "outputs": [],
   "source": [
    "fn = '/home/demitau/data_Quentin/full_experiments/data2/sub01_WGPOZPEE/results/spoc_home2_0.05/stable_xgboost_scores_prevmovement_preverrors_errors_prevbelief_gamma.npy'\n",
    "f = np.load(fn)"
   ]
  },
  {
   "cell_type": "code",
   "execution_count": null,
   "id": "7e5f2091",
   "metadata": {
    "hidden": true
   },
   "outputs": [],
   "source": [
    "'sub01_WGPOZPEE spoc_home2_0.05 stable_xgboost_scores_prevmovement_preverrors_errors_prevbelief_gamma.npy',"
   ]
  },
  {
   "cell_type": "code",
   "execution_count": null,
   "id": "44fa82b0",
   "metadata": {
    "hidden": true,
    "run_control": {
     "marked": true
    }
   },
   "outputs": [],
   "source": [
    "f"
   ]
  },
  {
   "cell_type": "code",
   "execution_count": null,
   "id": "eedc2513",
   "metadata": {
    "hidden": true
   },
   "outputs": [],
   "source": [
    "fnames_zero_size"
   ]
  },
  {
   "cell_type": "code",
   "execution_count": null,
   "id": "692e3226",
   "metadata": {
    "hidden": true
   },
   "outputs": [],
   "source": [
    "fname_full"
   ]
  },
  {
   "cell_type": "code",
   "execution_count": null,
   "id": "f4d769a2",
   "metadata": {
    "hidden": true
   },
   "outputs": [],
   "source": [
    "all_scores_stable"
   ]
  },
  {
   "cell_type": "markdown",
   "id": "891d6b13",
   "metadata": {},
   "source": [
    "# td_long_fig2"
   ]
  },
  {
   "cell_type": "code",
   "execution_count": null,
   "id": "20f09323",
   "metadata": {},
   "outputs": [],
   "source": [
    "#for subject in subjects:\n",
    "#for subject in subjects[:1]:\n",
    "script_name = pjoin(scripts_dir,'td_long_fig2.py')\n",
    "ipy.run_line_magic('run', f'-i {script_name}')"
   ]
  }
 ],
 "metadata": {
  "kernelspec": {
   "display_name": "merr",
   "language": "python",
   "name": "merr"
  },
  "language_info": {
   "codemirror_mode": {
    "name": "ipython",
    "version": 3
   },
   "file_extension": ".py",
   "mimetype": "text/x-python",
   "name": "python",
   "nbconvert_exporter": "python",
   "pygments_lexer": "ipython3",
   "version": "3.9.6"
  }
 },
 "nbformat": 4,
 "nbformat_minor": 5
}
