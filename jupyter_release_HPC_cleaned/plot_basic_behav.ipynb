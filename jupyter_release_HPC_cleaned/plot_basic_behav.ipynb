{
 "cells": [
  {
   "cell_type": "code",
   "execution_count": null,
   "id": "bebd2cf9",
   "metadata": {},
   "outputs": [],
   "source": [
    "%load_ext autoreload\n",
    "%autoreload 2\n",
    "\n",
    "import os\n",
    "import pandas as pd\n",
    "import matplotlib.pyplot as plt\n",
    "\n",
    "ipy = get_ipython()\n",
    "#data_dir_general = '/home/demitau/data_Quentin'\n",
    "#data_subdir_mem_err_main = 'full_experiments/data2'\n",
    "from os.path import join as pjoin\n",
    "#data_dir_input = pjoin(data_dir_general,data_subdir_mem_err_main)\n",
    "\n",
    "\n",
    "#data_dir_general = '/home/demitau/data_Quentin'\n",
    "#data_subdir_mem_err_main = 'full_experiments/data2'\n",
    "#data_dir_input = pjoin(data_dir_general,data_subdir_mem_err_main)\n",
    "#scripts_dir = pjoin(data_dir_general,'full_experiments','scripts2')\n",
    "\n",
    "import os,sys; sys.path.append(os.path.expandvars('$CODE_MEMORY_ERRORS'))\n",
    "data_dir_general = os.path.expandvars('$DATA_QUENTIN')\n",
    "data_dir_input = os.path.expandvars('$DATA_MEMORY_ERRORS_STAB_AND_STOCH')\n",
    "scripts_dir = pjoin( os.path.expandvars('$CODE_MEMORY_ERRORS'), 'previous_analyses')\n",
    "\n",
    "\n",
    "print(data_dir_input, scripts_dir)\n",
    "\n",
    "subjects = [f for f in os.listdir(data_dir_input) if f.startswith('sub') ]\n",
    "subjects = list(sorted(subjects))\n",
    "print(subjects)\n",
    "\n",
    "from config2 import *\n",
    "\n",
    "from base2 import (width, height, radius, calc_target_coordinates_centered,\n",
    "                  calc_rad_angle_from_coordinates)\n",
    "\n",
    "import numpy as np\n",
    "target_angs = (np.array([157.5, 112.5, 67.5, 22.5]) + 90) * \\\n",
    "              (np.pi/180)\n",
    "target_coords = calc_target_coordinates_centered(target_angs)\n"
   ]
  },
  {
   "cell_type": "markdown",
   "id": "a96e6f54",
   "metadata": {
    "heading_collapsed": true
   },
   "source": [
    "## plot err sens"
   ]
  },
  {
   "cell_type": "code",
   "execution_count": null,
   "id": "01bc6fe4",
   "metadata": {
    "hidden": true
   },
   "outputs": [],
   "source": [
    "for env in ['stable','random']:\n",
    "    plt.figure()\n",
    "    err_sens = err_sens_per_env[env]\n",
    "    plt.plot( err_sens )\n",
    "    me = np.mean(err_sens)\n",
    "    std = np.std(err_sens)\n",
    "    plt.axhline( me, ls=':',c='r' )\n",
    "    plt.axhline( me-std, ls=':',c='g' )\n",
    "    plt.axhline( me+std, ls=':',c='g' )\n",
    "    plt.title(env)\n",
    "    plt.ylim(-5,5)\n",
    "    #plt.close()\n",
    "    "
   ]
  },
  {
   "cell_type": "code",
   "execution_count": null,
   "id": "1e7e32a9",
   "metadata": {
    "hidden": true
   },
   "outputs": [],
   "source": [
    "plt.plot(  feedback - target_angs[targets] )\n",
    "#plt.plot( -  feedback + target_angs[targets] )\n",
    "err_mod = np.minimum(err, 180-err)\n",
    "plt.plot( err_mod / 180 * np.pi)"
   ]
  },
  {
   "cell_type": "code",
   "execution_count": null,
   "id": "d3b7fdce",
   "metadata": {
    "hidden": true
   },
   "outputs": [],
   "source": [
    "#np.diff( org_feedback - target_angs[targets] )"
   ]
  },
  {
   "cell_type": "code",
   "execution_count": null,
   "id": "c435b19c",
   "metadata": {
    "hidden": true
   },
   "outputs": [],
   "source": [
    "#feedback - target_angs[targets]"
   ]
  },
  {
   "cell_type": "code",
   "execution_count": null,
   "id": "272fad03",
   "metadata": {
    "hidden": true
   },
   "outputs": [],
   "source": [
    "fname_behavior"
   ]
  },
  {
   "cell_type": "code",
   "execution_count": null,
   "id": "6ce902a7",
   "metadata": {
    "hidden": true
   },
   "outputs": [],
   "source": [
    "#targets"
   ]
  },
  {
   "cell_type": "code",
   "execution_count": null,
   "id": "14d190e9",
   "metadata": {
    "hidden": true
   },
   "outputs": [],
   "source": [
    "environment_change = np.diff(environment)\n",
    "np.where(environment_change > 0)[0]"
   ]
  },
  {
   "cell_type": "code",
   "execution_count": null,
   "id": "1d091e6c",
   "metadata": {
    "hidden": true,
    "run_control": {
     "marked": false
    }
   },
   "outputs": [],
   "source": [
    "nr = 2; nc = 2\n",
    "ww = 5; hh = 3\n",
    "col_timeplot = 1\n",
    "col_spaceplot=  0\n",
    "fig,axs = plt.subplots(nr,nc,figsize=(nc*ww,nr*hh))\n",
    "ax = axs[0,col_timeplot]\n",
    "ax.plot(perturbations)\n",
    "ax.set_title('pert')\n",
    "\n",
    "ax = axs[1,col_timeplot]\n",
    "ax.plot(errors)\n",
    "ax.set_title('err')\n",
    "\n",
    "for targ in target_coords:\n",
    "    axs[0,col_spaceplot].plot(targ[0], targ[1], 'ro', markersize=15)\n",
    "for i in range(len(trajectoryX)):\n",
    "    axs[0,col_spaceplot].plot(trajectoryX[i], trajectoryY[i], c='blue', alpha=0.3)\n",
    "    \n",
    "    \n",
    "# for i in range(len(trajectoryX)):\n",
    "#     rotx, roty = 0,0\n",
    "#     axs[0,col_spaceplot].plot(trajectoryX[i], trajectoryY[i], c='red', alpha=0.3)\n"
   ]
  },
  {
   "cell_type": "code",
   "execution_count": null,
   "id": "29c233e7",
   "metadata": {
    "hidden": true
   },
   "outputs": [],
   "source": []
  },
  {
   "cell_type": "code",
   "execution_count": null,
   "id": "5836cd26",
   "metadata": {
    "hidden": true
   },
   "outputs": [],
   "source": [
    "plt.figure(figsize=(12,4))\n",
    "plt.plot( feedback - org_feedback )\n",
    "plt.plot(feedback)\n",
    "plt.plot(perturbations / 18)\n",
    "plt.plot(3 + org_feedback)\n",
    "plt.plot(6 +endpts)"
   ]
  },
  {
   "cell_type": "code",
   "execution_count": null,
   "id": "0fd33833",
   "metadata": {
    "hidden": true
   },
   "outputs": [],
   "source": [
    "plt.plot(endpts - feedback, label='endpts - feedback')\n",
    "plt.plot(endpts - org_feedback, label='endpts - org_feedback')\n",
    "plt.legend()"
   ]
  },
  {
   "cell_type": "code",
   "execution_count": null,
   "id": "681b4671",
   "metadata": {
    "hidden": true
   },
   "outputs": [],
   "source": [
    "np.mean(np.abs(endpts - org_feedback) ),np.std(np.abs(endpts - org_feedback) )"
   ]
  },
  {
   "cell_type": "code",
   "execution_count": null,
   "id": "8e3e9179",
   "metadata": {
    "hidden": true
   },
   "outputs": [],
   "source": [
    "#degrees\n",
    "np.mean(np.abs(endpts - org_feedback) )/np.pi * 180,np.std(np.abs(endpts - org_feedback) ) * 180/np.pi"
   ]
  },
  {
   "cell_type": "code",
   "execution_count": null,
   "id": "c75fcdbc",
   "metadata": {
    "hidden": true
   },
   "outputs": [],
   "source": [
    "apert = np.abs(perturbations)\n",
    "plt.plot(apert)\n",
    "plt.plot(apert > 1e-10)\n",
    "trial_inds = np.where(apert)[0]\n",
    "plt.plot(trial_inds,np.ones(len(trial_inds)),lw=0,marker='.')"
   ]
  },
  {
   "cell_type": "code",
   "execution_count": null,
   "id": "a305a327",
   "metadata": {
    "hidden": true
   },
   "outputs": [],
   "source": [
    "# check random part\n",
    "assert len(perturbations) == len(feedback)\n",
    "plt.figure(figsize=(13,3))\n",
    "#apert = np.abs(perturbations)\n",
    "trial_inds = np.where( environment)[0]\n",
    "d = (feedback - org_feedback)[ trial_inds]\n",
    "plt.plot(trial_inds,d,lw=0,marker='.')\n",
    "#plt.plot(trial_inds,perturbations[trial_inds],label='pert',lw=0,marker='.')\n",
    "plt.legend()"
   ]
  },
  {
   "cell_type": "code",
   "execution_count": null,
   "id": "ce9b70e6",
   "metadata": {
    "hidden": true
   },
   "outputs": [],
   "source": [
    "plt.figure(figsize=(13,3))\n",
    "random_errors = perturbations*environment\n",
    "plt.plot(random_errors)\n",
    "plt.plot(perturbations)"
   ]
  },
  {
   "cell_type": "code",
   "execution_count": null,
   "id": "6a18e6a7",
   "metadata": {
    "hidden": true
   },
   "outputs": [],
   "source": [
    "plt.hist(d)"
   ]
  },
  {
   "cell_type": "code",
   "execution_count": null,
   "id": "ee2e74df",
   "metadata": {
    "hidden": true
   },
   "outputs": [],
   "source": [
    "# see that target indices change\n",
    "plt.plot(range(len(targets)), targets, lw=0, marker='o')"
   ]
  },
  {
   "cell_type": "code",
   "execution_count": null,
   "id": "af95eba2",
   "metadata": {
    "hidden": true
   },
   "outputs": [],
   "source": [
    "pert_change_inds = np.where( np.abs( np.diff(perturbations) ) > 1e-10 )[0]\n",
    "#perturbation[pert_change_inds[0]], perturbation[pert_change_inds[0]+1]\n",
    "pert_change_inds += 1\n",
    "print(pert_change_inds)\n",
    "perturbations[pert_change_inds[0]-1], perturbations[pert_change_inds[0]]"
   ]
  },
  {
   "cell_type": "code",
   "execution_count": null,
   "id": "d4ab00ff",
   "metadata": {
    "hidden": true
   },
   "outputs": [],
   "source": [
    "plt.figure(figsize=(12,3))\n",
    "ax=plt.gca()\n",
    "factor = 1\n",
    "ax.plot(errors * factor, label=f'err * {factor}')\n",
    "ax.plot(perturbations / 30, label='pert')\n",
    "ax.set_title('err and pert')\n",
    "ax.set_ylim(-1.3,1.3)\n",
    "ax.legend()"
   ]
  },
  {
   "cell_type": "code",
   "execution_count": null,
   "id": "5b668369",
   "metadata": {
    "hidden": true
   },
   "outputs": [],
   "source": [
    "plt.figure(figsize=(12,3))\n",
    "ax=plt.gca()\n",
    "factor = 1\n",
    "ax.plot(errors * factor, label=f'err')\n",
    "ax.plot(random_errors, label='pert', alpha=0.6)\n",
    "ax.set_title('err and random err')\n",
    "#ax.set_ylim(-50,60)\n",
    "ax.legend()"
   ]
  },
  {
   "cell_type": "code",
   "execution_count": null,
   "id": "cf5a26da",
   "metadata": {
    "hidden": true
   },
   "outputs": [],
   "source": [
    "angles = np.degrees(np.arctan2(\n",
    "                   (feedbackY - int(round(height/2.0)))/float(radius),\n",
    "                   (feedbackX - int(round(width/2.0)))/float(radius))) + \\\n",
    "                   360\n"
   ]
  },
  {
   "cell_type": "markdown",
   "id": "141ca47a",
   "metadata": {
    "heading_collapsed": true
   },
   "source": [
    "## Per target (pert lumped)"
   ]
  },
  {
   "cell_type": "code",
   "execution_count": null,
   "id": "ca5748ff",
   "metadata": {
    "hidden": true
   },
   "outputs": [],
   "source": [
    "\n",
    "from numpy import cos,sin\n",
    "plt.figure(figsize=(7,12))\n",
    "tgt_shifts = np.arange(len(target_angs) ) * 320\n",
    "for trial,tgtind in enumerate(targets):\n",
    "    Xs = trajectoryX[trial]\n",
    "    Ys = trajectoryX[trial]\n",
    "    cta = target_angs[tgtind]\n",
    "    trajX_rot = Xs * cos(-cta / 360 * 2 * np.pi) - Ys * sin(cta / 360 * 2 * np.pi)\n",
    "    trajY_rot = Xs * sin(-cta / 360 * 2 * np.pi) + Ys * cos(cta / 360 * 2 * np.pi)\n",
    "    trajY_rot += tgt_shifts[tgtind]\n",
    "\n",
    "    plt.plot(trajX_rot,trajY_rot)"
   ]
  },
  {
   "cell_type": "markdown",
   "id": "07f03282",
   "metadata": {
    "heading_collapsed": true
   },
   "source": [
    "## traj endpots vs feedback"
   ]
  },
  {
   "cell_type": "code",
   "execution_count": null,
   "id": "fd330d43",
   "metadata": {
    "hidden": true
   },
   "outputs": [],
   "source": [
    "# traj endpots are related to org feedback but still have errors\n",
    "import scipy\n",
    "d1 = scipy.linalg.norm(endpts_2D - feedback_2D,     axis=0)\n",
    "d2 = scipy.linalg.norm(endpts_2D - org_feedback_2D, axis=0)\n",
    "\n",
    "plt.plot(d1, label='feedback')\n",
    "plt.plot(d2,      alpha=0.6, c='y', label='org_feedback')\n",
    "plt.legend()"
   ]
  },
  {
   "cell_type": "markdown",
   "id": "e231fac0",
   "metadata": {
    "heading_collapsed": true
   },
   "source": [
    "## endpoints"
   ]
  },
  {
   "cell_type": "code",
   "execution_count": null,
   "id": "ec4f277b",
   "metadata": {
    "hidden": true
   },
   "outputs": [],
   "source": [
    "cs = (np.arange(len(targets ))+1) / len(targets)\n",
    "cs = 'blue'\n",
    "plt.scatter(endptsX,endptsY, c= cs, cmap='viridis')"
   ]
  },
  {
   "cell_type": "markdown",
   "id": "fae2882e",
   "metadata": {
    "heading_collapsed": true
   },
   "source": [
    "# plot trajectories per target"
   ]
  },
  {
   "cell_type": "code",
   "execution_count": null,
   "id": "831d4fc6",
   "metadata": {
    "hidden": true
   },
   "outputs": [],
   "source": [
    "def plotTrialHor(ax,trial):    \n",
    "    Xs = trajectoryX[trial]\n",
    "    Ys = trajectoryY[trial]\n",
    "    cta = target_angs[tgtind]\n",
    "    cta = -cta\n",
    "    X0 = Xs[0]\n",
    "    Y0 = Ys[0]\n",
    "    trajX_rot = (Xs - X0) * cos(cta ) - (Ys-Y0) * sin(cta ) + X0\n",
    "    trajY_rot = (Xs - X0) * sin(cta ) + (Ys-Y0) * cos(cta ) + Y0\n",
    "    trajY_rot += tgt_shifts[tgtind]\n",
    "    \n",
    "    ax.plot(trajX_rot,trajY_rot, c='blue', alpha=0.3)\n",
    "\n",
    "    tx = radius #targetAngs[tgtind]\n",
    "    ty = tgt_shifts[tgtind]\n",
    "    #tx_rot = tx * cos(-cta / 360 * 2 * np.pi) - ty * sin(cta / 360 * 2 * np.pi)\n",
    "    #ty_rot = tx * sin(-cta / 360 * 2 * np.pi) + ty * cos(cta / 360 * 2 * np.pi)\n",
    "    tx_rot = tx\n",
    "    ty_rot = ty\n",
    "    ax.plot([tx_rot], [ty_rot], 'ro', markersize=15)\n",
    "\n",
    "    ax.axhline(tgt_shifts[tgtind], ls=':', c='black')\n",
    "    \n",
    "def plotTrial(ax,trial):    \n",
    "    Xs = trajectoryX[trial]\n",
    "    Ys = trajectoryY[trial]    \n",
    "    tx,ty = target_coords[targets[trial]]\n",
    "    ax.plot([tx], [ty], 'ro', markersize=15)\n",
    "    fbx,fby = feedbackX[trial],feedbackY[trial]\n",
    "    ax.plot([fbx], [fby], c='yellow', marker='o', markersize=10, alpha=0.5)\n",
    "    \n",
    "    fbxo,fbyo = org_feedbackX[trial],org_feedbackY[trial]\n",
    "    ax.plot([fbxo], [fbyo], c='green', marker='o', markersize=2)\n",
    "    \n",
    "    ax.scatter([0,tx], [0,ty], ls=':', c='black')    \n",
    "    ax.plot(Xs,Ys, c='blue', alpha=0.3)\n",
    "    \n",
    "#     cta = target_angs[tgtind]\n",
    "#     cta = -cta\n",
    "#     X0 = Xs[0]\n",
    "#     Y0 = Ys[0]\n",
    "#     trajX_rot = (Xs - X0) * cos(cta ) - (Ys-Y0) * sin(cta ) + X0\n",
    "#     trajY_rot = (Xs - X0) * sin(cta ) + (Ys-Y0) * cos(cta ) + Y0\n",
    "#     trajY_rot += tgt_shifts[tgtind]\n",
    "    \n",
    "#     ax.plot(trajX_rot,trajY_rot, c='blue', alpha=0.3)\n",
    "\n",
    "#     tx = radius #targetAngs[tgtind]\n",
    "#     ty = tgt_shifts[tgtind]\n",
    "#     #tx_rot = tx * cos(-cta / 360 * 2 * np.pi) - ty * sin(cta / 360 * 2 * np.pi)\n",
    "#     #ty_rot = tx * sin(-cta / 360 * 2 * np.pi) + ty * cos(cta / 360 * 2 * np.pi)\n",
    "#     tx_rot = tx\n",
    "#     ty_rot = ty\n",
    "#     ax.plot([tx_rot], [ty_rot], 'ro', markersize=15)\n"
   ]
  },
  {
   "cell_type": "code",
   "execution_count": null,
   "id": "6d969996",
   "metadata": {
    "hidden": true
   },
   "outputs": [],
   "source": [
    "perturbations_int = (perturbations.copy() ).astype(int)\n",
    "#perturbations_int = (perturbations.copy() / np.pi * 180 ).astype(int)\n",
    "pertu = np.unique(perturbations_int[environment == 0])\n",
    "pert2ind = dict( zip( pertu, np.arange(len(pertu))) )\n",
    "#pert2ind\n",
    "\n",
    "nr = 4; nc = len(pertu) + 1\n",
    "ww = 4; hh = 4\n",
    "col_timeplot = 1\n",
    "col_spaceplot=  0\n",
    "fig,axs = plt.subplots(nr,nc,figsize=(nc*ww,nr*hh))\n",
    "axs = axs.reshape((nr,nc))\n",
    "\n",
    "from numpy import cos,sin\n",
    "#plt.figure(figsize=(7,12))\n",
    "tgt_shifts = np.arange(len(target_angs) ) * 320\n",
    "enum_targets = np.array( list(enumerate(targets) ) )\n",
    "\n",
    "for pert_val in pert2ind:\n",
    "    inds_per_pertval = np.where(perturbations_int == pert_val)[0]\n",
    "    for trial,tgtind in enum_targets[inds_per_pertval]:\n",
    "        #pert_val = int( perturbations[trial] )\n",
    "        colind = pert2ind[pert_val]\n",
    "        ax = axs[tgtind,colind]\n",
    "        ax.set_title(f'{pert_val}')\n",
    "        plotTrial(ax,trial)\n",
    "\n",
    "inds_per_pertval = np.where(environment)[0]\n",
    "for trial,tgtind in enum_targets[inds_per_pertval]:\n",
    "    colind = -1\n",
    "    ax = axs[tgtind,colind]\n",
    "    ax.set_title('random')\n",
    "    plotTrial(ax,trial)\n",
    "        \n",
    "#fig.suptitle('Traj rotated by -<target angle>')\n",
    "fig.suptitle('Traj')\n",
    "plt.savefig(f'{subj}_reach_traj.pdf')"
   ]
  },
  {
   "cell_type": "code",
   "execution_count": null,
   "id": "7ff263ff",
   "metadata": {
    "hidden": true
   },
   "outputs": [],
   "source": []
  },
  {
   "cell_type": "code",
   "execution_count": null,
   "id": "fa4b7b4e",
   "metadata": {
    "hidden": true
   },
   "outputs": [],
   "source": []
  },
  {
   "cell_type": "code",
   "execution_count": null,
   "id": "ba893b62",
   "metadata": {
    "hidden": true
   },
   "outputs": [],
   "source": []
  }
 ],
 "metadata": {
  "kernelspec": {
   "display_name": "Python 3",
   "language": "python",
   "name": "python3"
  },
  "language_info": {
   "codemirror_mode": {
    "name": "ipython",
    "version": 3
   },
   "file_extension": ".py",
   "mimetype": "text/x-python",
   "name": "python",
   "nbconvert_exporter": "python",
   "pygments_lexer": "ipython3",
   "version": "3.9.6"
  }
 },
 "nbformat": 4,
 "nbformat_minor": 5
}
