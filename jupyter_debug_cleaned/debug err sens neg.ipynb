{
 "cells": [
  {
   "cell_type": "code",
   "execution_count": null,
   "id": "cf81f04a",
   "metadata": {},
   "outputs": [],
   "source": [
    "%load_ext autoreload\n",
    "%autoreload 2\n",
    "\n",
    "import os\n",
    "ipy = get_ipython()\n",
    "#data_dir_general = '/home/demitau/data_Quentin'\n",
    "#data_subdir_mem_err_main = 'full_experiments/data2'\n",
    "from os.path import join as pjoin\n",
    "import os,sys; sys.path.append(os.path.expandvars('$CODE_MEMORY_ERRORS'))\n",
    "import error_sensitivity\n",
    "#data_dir_input = pjoin(data_dir_general,data_subdir_mem_err_main)\n",
    "import pandas as pd\n",
    "\n",
    "#data_dir_general = '/home/demitau/data_Quentin'\n",
    "#data_subdir_mem_err_main = 'full_experiments/data2'\n",
    "#data_dir_input = pjoin(data_dir_general,data_subdir_mem_err_main)\n",
    "#scripts_dir = pjoin(data_dir_general,'full_experiments','scripts2')\n",
    "\n",
    "data_dir_general = os.path.expandvars('$DATA_QUENTIN')\n",
    "data_dir_input = os.path.expandvars('$DATA_MEMORY_ERRORS_STAB_AND_STOCH')\n",
    "#scripts_dir = pjoin( os.path.expandvars('$CODE_MEMORY_ERRORS'), 'previous_analyses')\n",
    "scripts_dir = pjoin( os.path.expandvars('$CODE_MEMORY_ERRORS'))\n",
    "\n",
    "\n",
    "\n",
    "import numpy as np\n",
    "\n",
    "import matplotlib.pyplot as plt\n",
    "import seaborn as sns\n",
    "print('seaborn ver = ', sns.__version__)\n",
    "#assert sns.__version__ == '0.12.2', sns.__version__\n",
    "import matplotlib as mpl\n",
    "COLOR = 'black'\n",
    "mpl.rcParams['text.color'] = COLOR\n",
    "mpl.rcParams['axes.labelcolor'] = COLOR\n",
    "mpl.rcParams['xtick.color'] = COLOR\n",
    "mpl.rcParams['ytick.color'] = COLOR\n",
    "\n",
    "\n",
    "sns.set(rc={'axes.facecolor':'white', 'figure.facecolor':'white',\n",
    "           'grid.color':'grey', 'grid.alpha':0.5})\n",
    "\n",
    "tgtc = ['b','g','r','brown']\n",
    "\n",
    "\n",
    "from glob import glob\n",
    "from pathlib import Path\n",
    "d = '/home/demitau/data_Quentin/pilot_studies/context_change_behav/'\n",
    "for fnf in glob(d + '2023-SE1-0*[0-9].log'):\n",
    "    name = Path(fnf).name\n",
    "    fnb = name.replace('.log','')\n",
    "    print( f'\"{fnb}\",' )\n",
    "    \n",
    "    \n",
    "fnbs = ['2023-SE1-003_context_change_20230322_092232']\n",
    "print(fnbs)  "
   ]
  },
  {
   "cell_type": "code",
   "execution_count": null,
   "id": "e05bb966",
   "metadata": {},
   "outputs": [],
   "source": [
    "#params['width']"
   ]
  },
  {
   "cell_type": "code",
   "execution_count": null,
   "id": "68d85122",
   "metadata": {},
   "outputs": [],
   "source": [
    "    \n",
    "dfs = []\n",
    "for fnb in fnbs:\n",
    "    fn = fnb + '.log'\n",
    "    fnp = fnb + '.param'\n",
    "\n",
    "    with open(pjoin(d,fn), 'r') as f:\n",
    "         l = f.readline()\n",
    "         truelen = len( l.split(',') )\n",
    "\n",
    "    r = ('trial_index, current_phase_trigger, tgti_to_show,'\n",
    "       ' vis_feedback_type, trial_type, special_block_type, block_ind, '\n",
    "        ' feedbackX, feedbackY, unpert_feedbackX, unpert_feedbackY,'\n",
    "         ' error_distance, target_coordX, target_coordY, '\n",
    "         'feedbackX_when_crossing, feedbackY_when_crossing, '\n",
    "         'jax1, jax2, reward, time')\n",
    "    r = r.replace(' ','')\n",
    "    colnames = r.split(',')\n",
    "    print('len(colnames) = ',len(colnames),'truelen = ',truelen,colnames)\n",
    "\n",
    "    nbad = 3  # recompense strip\n",
    "    #colnames = ['trial_index', 'current_phase_']\n",
    "    df = pd.read_csv(pjoin(d,fn), skipfooter = nbad, on_bad_lines='warn', header=0,\n",
    "                    names=colnames, encoding='latin1')\n",
    "    #encoding='latin-1'\n",
    "    subj = fnb.split('_')[0]    \n",
    "    df['subject'] = subj\n",
    "    dfs += [df]"
   ]
  },
  {
   "cell_type": "code",
   "execution_count": null,
   "id": "ddc2585f",
   "metadata": {},
   "outputs": [],
   "source": [
    "dfs_full = dfs"
   ]
  },
  {
   "cell_type": "code",
   "execution_count": null,
   "id": "237ce2b5",
   "metadata": {},
   "outputs": [],
   "source": [
    "NT = 10,40\n",
    "dfs_r = []\n",
    "for df in dfs:\n",
    "    dfs_r += [df.query('trial_index >= @NT[0] and trial_index <@NT[1]')]\n",
    "dfs = dfs_r"
   ]
  },
  {
   "cell_type": "code",
   "execution_count": null,
   "id": "ae96b1e1",
   "metadata": {},
   "outputs": [],
   "source": [
    "dfs = dfs_full"
   ]
  },
  {
   "cell_type": "code",
   "execution_count": null,
   "id": "5049c9e6",
   "metadata": {},
   "outputs": [],
   "source": [
    "df_unproc = pd.concat( dfs ).reset_index()\n",
    "df_unproc = df_unproc.drop(labels=['index'],axis=1)\n",
    "#df_unproc\n",
    "\n",
    "from behav_proc import readParamFiles, addBasicInfo, getGeomInfo\n",
    "fnp = fnb + '.param'\n",
    "params, phase2trigger, trigger2phase, stage2pars  = readParamFiles(fnp, d)\n",
    "home_position, target_coords = getGeomInfo(params)\n",
    "hitr = float(params['radius_target']) + float(params['radius_cursor']) / 2\n",
    "\n",
    "dfcs = []; dfccs = []; dfcpcs = []; dfctcs = [];    \n",
    "for df in dfs:\n",
    "    print('---------------  Starting processing new df')                    \n",
    "    dfc, dfcc, dfcpc, dfctc = addBasicInfo(df, phase2trigger, params,\n",
    "                                         home_position, target_coords)\n",
    "\n",
    "\n",
    "    dfcc['nonhit'] = dfcc['error_distance'] > hitr\n",
    "    dfcs += [dfc]; dfccs += [dfcc]; dfcpcs += [dfcpc]; dfctcs += [dfctc];   \n",
    "\n",
    "dfcc_all  = dfcc\n",
    "dfc_all   = dfc\n",
    "dfcpc_all = dfcpc\n",
    "dfctc_all = dfctc\n",
    "\n",
    "subjects = dfcc_all['subject'].unique()\n",
    "print(subjects)\n",
    "\n",
    "subj = subjects[0]\n",
    "print(subj)\n",
    "dfccos  = dfcc_all.query('subject == @subj')\n",
    "dfcos   = dfc_all.query('subject == @subj')\n",
    "dfcpcos = dfcpc_all.query('subject == @subj')\n",
    "#dfcc = dfccos\n",
    "##########################\n",
    "a = dfcc_all['error_area_signed'].abs()\n",
    "thr = a.quantile(0.05); print(thr)\n",
    "dfcc_all['error_area_signed_nonhit'] = a > thr\n",
    "\n",
    "a = dfcc_all['error_area_signed_scaled_ed'].abs()\n",
    "thr = a.quantile(0.05); print(thr)\n",
    "dfcc_all['error_area_signed_scaled_ed_nonhit'] = a > thr\n",
    "\n",
    "a = dfcc_all['error_lh_ang'].abs()\n",
    "thr = a.quantile(0.05); print(thr)\n",
    "dfcc_all['error_lh_ang_nonhit'] = a > thr\n",
    "\n",
    "a = dfcc_all['error_area_signed_nn_scaled_ed'].abs()\n",
    "thr = a.quantile(5e-2); print(thr)\n",
    "dfcc_all['error_area_signed_nn_scaled_ed_nonhit'] = a > thr\n",
    "\n",
    "a = dfcc_all['error_area2_signed_nn_scaled_ed'].abs()\n",
    "thr = a.quantile(5e-2); print(thr)\n",
    "dfcc_all['error_area2_signed_nn_scaled_ed_nonhit'] = a > thr\n",
    "##############################\n",
    "assert 'error' not in dfcc_all.columns\n",
    "df_all = dfcc_all.drop(labels=['index', 'level_0'],axis=1)  #.copy()\n",
    "#df_all['non_hit_not_adj'] = df_all['nonhit']\n",
    "df_all['target_inds']     = df_all['tgti_to_show']\n",
    "df_all['trials']          = df_all['trial_index']\n",
    "\n",
    "# for err sens calc\n",
    "#df_all['error']          = df_all['error_area_signed']\n",
    "##############################\n",
    "subjects_ = list( df_all['subject'].unique() )\n",
    "print(subjects_)\n",
    "\n"
   ]
  },
  {
   "cell_type": "code",
   "execution_count": null,
   "id": "5f14ca5e",
   "metadata": {},
   "outputs": [],
   "source": [
    "dfcc[['trial_index','error_area_signed_nn', 'error_area2_signed_nn']]"
   ]
  },
  {
   "cell_type": "code",
   "execution_count": null,
   "id": "1e97e7f4",
   "metadata": {
    "run_control": {
     "marked": false
    }
   },
   "outputs": [],
   "source": [
    "from behav_proc import computeErrSensVersions\n",
    "#envs_cur = ['stable', 'random', 'all']\n",
    "envs_cur = ['all']\n",
    "#tgt_inds_cur = list( dfccos['tgti_to_show'].unique() )  + [None]\n",
    "tgt_inds_cur =[None]\n",
    "#tgt_inds_cur = [None]  # DEBUG\n",
    "\n",
    "block_names_cur = ['all']\n",
    "pertvals_cur = [None]\n",
    "gseqcs_cur = [ None ]\n",
    "dists_rad_from_prevtgt_cur = [None]\n",
    "dists_trial_from_prevtgt_cur = [None]\n",
    "error_type = 'MPE'\n",
    "#time_lockeds=['target', 'feedback', 'trial_end']\n",
    "time_lockeds=['target']\n",
    "\n",
    "df_all['environment'] = 1111\n",
    "#df_all['feedbackX'] = 1\n",
    "#df_all['feedbackY'] = 1\n",
    "#%debug\n",
    "coln_pairs = [('error_area_signed_scaled_ed','error_area_ofb_signed_scaled_ed',\n",
    "               'error_area_signed_scaled_ed_nonhit','signed_area_scaled_ed'),\n",
    "           ('error_area_signed','error_area_ofb_signed','error_area_signed_nonhit','signed_area'),\n",
    "              ('error_lh_ang','error_unpert_lh_ang','error_lh_ang_nonhit','lh_ang')]\n",
    "\n",
    "coln_pairs = coln_pairs[0:1]\n",
    "\n",
    "coln_pairs = [ ('error_area_signed_tln_scaled_ed','error_area_ofb_signed_tln_scaled_ed',\n",
    "               'error_area_signed_scaled_ed_nonhit','signed_area_tln_scaled_ed') ]\n",
    "##\n",
    "\n",
    "coln_pairs = [ ('error_area_signed_nn_scaled_ed','error_area_ofb_signed_nn_scaled_ed',\n",
    "               'error_area_signed_nn_scaled_ed_nonhit','signed_area_nn_scaled_ed') ]\n",
    "coln_pairs += [('error_lh_ang','error_unpert_lh_ang','error_lh_ang_nonhit','lh_ang')]\n",
    "\n",
    "##\n",
    "coln_pairs = [ ('error_area2_signed_nn_scaled_ed',\n",
    "                None,\n",
    "               'error_area2_signed_nn_scaled_ed_nonhit',\n",
    "                'signed_area2_nn_scaled_ed') ]\n",
    "\n",
    "from base2 import areaBetweenTraj, calcNormCoefSectorArea\n",
    "norm_coef = calcNormCoefSectorArea(params)\n",
    "def trajPair2corr(dftraj1, dftraj2):\n",
    "    return areaBetweenTraj(dftraj1, dftraj2, home_position,                                                                                                  \n",
    "                target_coords, params ) * norm_coef\n",
    "\n",
    "dfouts = []\n",
    "import sys, traceback\n",
    "try:\n",
    "    for coln_error,coln_correction_calc,coln_nh, calc_name  in coln_pairs:\n",
    "        for time_locked in time_lockeds:\n",
    "            df_all_multi_tsz, ndf2vn = computeErrSensVersions(df_all, envs_cur,block_names_cur,\n",
    "                pertvals_cur,gseqcs_cur,tgt_inds_cur,\n",
    "                dists_rad_from_prevtgt_cur,dists_trial_from_prevtgt_cur,\n",
    "                subj_list = subjects_, error_type=error_type,\n",
    "                trial_shift_sizes = [1],\n",
    "                addvars=[], target_info_type = 'locs',                                        \n",
    "                computation_ver = 'computeErrSens3', \n",
    "                coln_nh = coln_nh,\n",
    "                time_locked = time_locked,\n",
    "                coln_nh_out = coln_nh + '_shifted',\n",
    "                coln_error =coln_error,                                                                              \n",
    "                coln_correction_calc = coln_correction_calc,                \n",
    "                trajPair2corr = trajPair2corr,\n",
    "                df_fulltraj = dfc,\n",
    "                verbose=1,)\n",
    "            df_all_multi_tsz['error_data_for_calc'] = calc_name\n",
    "            dfouts += [df_all_multi_tsz]\n",
    "    df_all_multi_tsz = pd.concat(dfouts).reset_index()\n",
    "    \n",
    "except Exception as e:\n",
    "    print('EXC',e)\n",
    "    exc_info = sys.exc_info()\n",
    "    exc = traceback.TracebackException(*exc_info, capture_locals=True)\n",
    "    ei = exc_info[2]\n",
    "\n",
    "    #display(ei.tb_frame)\n",
    "    psf = ei\n",
    "    \n",
    "    lfprev = None\n",
    "    lfs = []\n",
    "    while psf.tb_frame is not None:\n",
    "        stackframe = psf.tb_frame\n",
    "        display(stackframe)\n",
    "        lfprev = lf\n",
    "        lf = stackframe.f_locals\n",
    "        lfs += [lf]\n",
    "        psf = psf.tb_next    \n",
    "        if psf is None:\n",
    "            break\n",
    "\n",
    "    print('EXC',e)\n",
    "\n",
    "if coln_correction_calc is not None:\n",
    "    df_all_multi_tsz['coln_corrc'] = df_all_multi_tsz[coln_correction_calc]\n",
    "df_all_multi_tsz['coln_error'] = df_all_multi_tsz[coln_error]\n",
    "\n",
    "bigEStis = df_all_multi_tsz.query('err_sens > 10')['trial_index'].to_numpy()\n",
    "display(bigEStis)\n",
    "bigEStis_neg = df_all_multi_tsz.query('err_sens < -10')['trial_index'].to_numpy()\n",
    "#display(bigEStis_neg)"
   ]
  },
  {
   "cell_type": "code",
   "execution_count": null,
   "id": "b3dad414",
   "metadata": {},
   "outputs": [],
   "source": [
    "from behav_proc import truncateDf"
   ]
  },
  {
   "cell_type": "code",
   "execution_count": null,
   "id": "d6a8eb9e",
   "metadata": {},
   "outputs": [],
   "source": [
    "#truncateDf?"
   ]
  },
  {
   "cell_type": "code",
   "execution_count": null,
   "id": "237317f5",
   "metadata": {},
   "outputs": [],
   "source": [
    "dftmp = df_all_multi_tsz.query('error_data_for_calc == @calc_name'\n",
    "                ' and time_locked == \"target\"')\n",
    "escol = dftmp['err_sens']\n",
    "escolg = escol[~(np.isinf(escol) | escol.isna()) ]\n",
    "escolg2 = truncateDf(dftmp[['subject','trials','err_sens',\n",
    "            'trial_shift_size','trial_group_col_calc']], \n",
    "                     'err_sens', infnan_handling='discard')\n",
    "np.sum( escol.isna() ), np.sum( np.isinf(escol) ), \n",
    "\n",
    "display( escolg.describe() )\n",
    "display( escolg2['err_sens'].describe() )"
   ]
  },
  {
   "cell_type": "code",
   "execution_count": null,
   "id": "30e845ee",
   "metadata": {},
   "outputs": [],
   "source": [
    "escolg2['err_sens'].hist(bins=20)"
   ]
  },
  {
   "cell_type": "code",
   "execution_count": null,
   "id": "a8133fe3",
   "metadata": {},
   "outputs": [],
   "source": [
    "df_all_multi_tsz['err_sens']"
   ]
  },
  {
   "cell_type": "code",
   "execution_count": null,
   "id": "7060bb85",
   "metadata": {},
   "outputs": [],
   "source": [
    "bigEStis"
   ]
  },
  {
   "cell_type": "code",
   "execution_count": null,
   "id": "105e1fbc",
   "metadata": {},
   "outputs": [],
   "source": [
    "target_coords"
   ]
  },
  {
   "cell_type": "code",
   "execution_count": null,
   "id": "a78fa07b",
   "metadata": {},
   "outputs": [],
   "source": [
    "cols = ['err_sens', 'correction', coln_error]\n",
    "df_all_multi_tsz.set_index('trial_index').loc[bigEStis[10:],cols]"
   ]
  },
  {
   "cell_type": "code",
   "execution_count": null,
   "id": "03404d45",
   "metadata": {},
   "outputs": [],
   "source": [
    "cols = ['err_sens', 'correction', coln_error]\n",
    "df_all_multi_tsz.set_index('trial_index').loc[bigEStis[10:],cols]"
   ]
  },
  {
   "cell_type": "code",
   "execution_count": null,
   "id": "38efd4df",
   "metadata": {},
   "outputs": [],
   "source": [
    "trial_inds_glob1, trial_inds_glob2 = lf['trial_inds_glob1'], lf['trial_inds_glob2']\n",
    "errors0 = lf['errors0']"
   ]
  },
  {
   "cell_type": "code",
   "execution_count": null,
   "id": "dd73590a",
   "metadata": {},
   "outputs": [],
   "source": [
    "df_fulltraj = dfc_all"
   ]
  },
  {
   "cell_type": "code",
   "execution_count": null,
   "id": "2f52503f",
   "metadata": {},
   "outputs": [],
   "source": [
    "def trajPair2corr_plot(dftraj1, dftraj2, ax):\n",
    "    return areaBetweenTraj(dftraj1, dftraj2, home_position,                                                                                                  \n",
    "                target_coords, params, ax=ax ) * norm_coef"
   ]
  },
  {
   "cell_type": "code",
   "execution_count": null,
   "id": "94d995fa",
   "metadata": {},
   "outputs": [],
   "source": [
    "from config2 import path_fig"
   ]
  },
  {
   "cell_type": "code",
   "execution_count": null,
   "id": "afd5f5e8",
   "metadata": {},
   "outputs": [],
   "source": [
    "trial_inds_glob1"
   ]
  },
  {
   "cell_type": "code",
   "execution_count": null,
   "id": "399bbb66",
   "metadata": {},
   "outputs": [],
   "source": [
    "lf['colname_nh']"
   ]
  },
  {
   "cell_type": "code",
   "execution_count": null,
   "id": "e6d3fc07",
   "metadata": {},
   "outputs": [],
   "source": [
    "a = list(zip(trial_inds_glob1, \\\n",
    "                          trial_inds_glob2))\n",
    "rng = slice(103-5,1+nshow)\n",
    "a[rng]"
   ]
  },
  {
   "cell_type": "code",
   "execution_count": null,
   "id": "d0def651",
   "metadata": {},
   "outputs": [],
   "source": [
    "for gti1,gti2 in list(zip(trial_inds_glob1, \\\n",
    "                          trial_inds_glob2))[rng]:\n",
    "    print(gti1)"
   ]
  },
  {
   "cell_type": "code",
   "execution_count": null,
   "id": "f90390fa",
   "metadata": {},
   "outputs": [],
   "source": [
    "ti_ - (nshow//2)"
   ]
  },
  {
   "cell_type": "code",
   "execution_count": null,
   "id": "580d3e16",
   "metadata": {},
   "outputs": [],
   "source": [
    "#ax = plt.gca()\n",
    "correction = []\n",
    "\n",
    "\n",
    "show_dist_guides = False\n",
    "ww = 5; hh = 5\n",
    "\n",
    "#nshow = 25\\\n",
    "nshow = 25\n",
    "rng = slice(1,1+nshow)\n",
    "#ti_ = 103; \n",
    "ti_ = 450; \n",
    "rng = slice(ti_ - (nshow//2), ti_ + (nshow//2) )\n",
    "\n",
    "L = min(nshow, len(trial_inds_glob1) -2 )\n",
    "nc = int(np.ceil(np.sqrt(L) ) ); nr = int( np.ceil( L / nc ) )\n",
    "#nr = N; nc = 2\n",
    "\n",
    "fig,axs = plt.subplots(nr,nc, figsize=(nc*ww, nr * hh))\n",
    "axsf = axs.flatten()\n",
    "\n",
    "axi = 0\n",
    "#for trial_inds_glob1, valid_inds1, trial_inds_glob2\n",
    "for gti1,gti2 in list(zip(trial_inds_glob1, \\\n",
    "                          trial_inds_glob2))[rng]:\n",
    "    \n",
    "    ax = axsf[axi]\n",
    "    \n",
    "    dftraj1 = df_fulltraj.query( 'trial_index == @gti1' )\n",
    "    dftraj2 = df_fulltraj.query( 'trial_index == @gti2' )\n",
    "\n",
    "    dftraj1 = dftraj1.loc[dftraj1.index[1: ] ]\n",
    "    dftraj2 = dftraj2.loc[dftraj2.index[1: ] ]\n",
    "\n",
    "    ab = trajPair2corr_plot(dftraj1, dftraj2, ax=ax  )\n",
    "\n",
    "    correction_cur = ab\n",
    "    correction += [correction_cur]\n",
    "    es = correction_cur/errors0[gti1]\n",
    "    s = ''\n",
    "    if es > 10:\n",
    "        s = '*'\n",
    "    print(s, gti1,gti2,correction_cur,\n",
    "          errors0[gti1], es )\n",
    "    axi += 1\n",
    "\n",
    "plt.tight_layout()\n",
    "plt.savefig(pjoin(path_fig, f'doubletraj_2D_{subj}_{rng.start,rng.stop}.pdf') )\n",
    "\n",
    "# when first is on the right of second, then we have positive\n",
    "# but to be similar to Romain's version we would like to have neg\n",
    "# or not?"
   ]
  },
  {
   "cell_type": "code",
   "execution_count": null,
   "id": "e8b8decc",
   "metadata": {},
   "outputs": [],
   "source": []
  },
  {
   "cell_type": "code",
   "execution_count": null,
   "id": "722622ca",
   "metadata": {},
   "outputs": [],
   "source": [
    "lfs[-3]['gti1'], lfs[-3]['gti2']"
   ]
  },
  {
   "cell_type": "code",
   "execution_count": null,
   "id": "ffa406ed",
   "metadata": {},
   "outputs": [],
   "source": [
    "lfs[-3].keys()"
   ]
  },
  {
   "cell_type": "code",
   "execution_count": null,
   "id": "dce2f779",
   "metadata": {
    "run_control": {
     "marked": true
    }
   },
   "outputs": [],
   "source": [
    "lfprev['dftraj2']"
   ]
  },
  {
   "cell_type": "code",
   "execution_count": null,
   "id": "f18ceb9b",
   "metadata": {},
   "outputs": [],
   "source": [
    "dfcc.columns"
   ]
  },
  {
   "cell_type": "markdown",
   "id": "63856b25",
   "metadata": {},
   "source": [
    "# observe table"
   ]
  },
  {
   "cell_type": "code",
   "execution_count": null,
   "id": "cd2319b5",
   "metadata": {},
   "outputs": [],
   "source": [
    "\n",
    "lf = psf.tb_next.tb_frame.f_locals"
   ]
  },
  {
   "cell_type": "code",
   "execution_count": null,
   "id": "c5959699",
   "metadata": {},
   "outputs": [],
   "source": [
    "#tis = np.arange(450,467)\n",
    "tis = np.arange(460,464)"
   ]
  },
  {
   "cell_type": "code",
   "execution_count": null,
   "id": "d02e5fa4",
   "metadata": {},
   "outputs": [],
   "source": [
    "len(df_all_multi_tsz)"
   ]
  },
  {
   "cell_type": "code",
   "execution_count": null,
   "id": "5867e876",
   "metadata": {},
   "outputs": [],
   "source": [
    "print(coln_correction_calc)"
   ]
  },
  {
   "cell_type": "code",
   "execution_count": null,
   "id": "aa9aa320",
   "metadata": {},
   "outputs": [],
   "source": [
    "df_all_multi_tsz.columns"
   ]
  },
  {
   "cell_type": "code",
   "execution_count": null,
   "id": "1762c791",
   "metadata": {},
   "outputs": [],
   "source": [
    "\n",
    "cols = ['time_locked','err_sens','correction','nonhit',\n",
    " 'perturbation','trial_type','prev_trial_type','coln_corrc','coln_error', 'prev_error_like',\n",
    "       'trial_inds_glob_prev_error']"
   ]
  },
  {
   "cell_type": "code",
   "execution_count": null,
   "id": "e9ca96f6",
   "metadata": {},
   "outputs": [],
   "source": [
    "# observe shifts\n",
    "cols = ['err_sens','time_locked','trial_inds_glob_prevlike_error','trial_inds_glob_nextlike_error','coln_error', 'prev_error']\n",
    "df_all_multi_tsz.query('trial_index in @tis').\\\n",
    "    set_index('trial_index')[cols]"
   ]
  },
  {
   "cell_type": "code",
   "execution_count": null,
   "id": "cb0e3e4f",
   "metadata": {
    "run_control": {
     "marked": true
    }
   },
   "outputs": [],
   "source": [
    "cols = ['err_sens','coln_error', 'prev_error_like', 'correction']\n",
    "df_all_multi_tsz.query('trial_index in @tis and time_locked == \"target\"').\\\n",
    "    set_index('trial_index')[cols]"
   ]
  },
  {
   "cell_type": "code",
   "execution_count": null,
   "id": "19fb5045",
   "metadata": {},
   "outputs": [],
   "source": [
    "#tis = np.arange(450,467)\n",
    "tis = np.arange(460,464)\n",
    "tis = np.arange(50,60); 55\n",
    "#tis = np.arange(92,100); 96"
   ]
  },
  {
   "cell_type": "code",
   "execution_count": null,
   "id": "c4e9a87d",
   "metadata": {},
   "outputs": [],
   "source": [
    "# add col prev-trial type"
   ]
  },
  {
   "cell_type": "code",
   "execution_count": null,
   "id": "ec8f3fd7",
   "metadata": {},
   "outputs": [],
   "source": [
    "# prev_error_like contains rubbish\n",
    "# there are no shifting columns"
   ]
  },
  {
   "cell_type": "code",
   "execution_count": null,
   "id": "3c22ff87",
   "metadata": {},
   "outputs": [],
   "source": [
    "df_all_multi_tsz.query('prev_trial_type == \"pause\"').\\\n",
    "    set_index('trial_index')[cols]\n",
    "#query('trial_index in @tis')[['trial_index'] + cols].set_index('trial_index')"
   ]
  },
  {
   "cell_type": "code",
   "execution_count": null,
   "id": "7b14e101",
   "metadata": {},
   "outputs": [],
   "source": [
    "tl = 'trial_end'\n",
    "df_all_multi_tsz.query('trial_index in @tis and time_locked == @tl').\\\n",
    "    set_index('trial_index')[cols]\n",
    "#query('trial_index in @tis')[['trial_index'] + cols].set_index('trial_index')"
   ]
  },
  {
   "cell_type": "code",
   "execution_count": null,
   "id": "e8a2e651",
   "metadata": {},
   "outputs": [],
   "source": [
    "# todo:  why is corretino negative on trial_index 55?"
   ]
  },
  {
   "cell_type": "code",
   "execution_count": null,
   "id": "4f6014b7",
   "metadata": {},
   "outputs": [],
   "source": [
    "cols = ['error_data_for_calc', 'err_sens','correction','coln_corrc','coln_error', 'prev_error',\n",
    "        'nonhit',  'perturbation','trial_type','prev_trial_type',\n",
    "        ]\n",
    "df_all_multi_tsz.query('trial_index in @tis  and time_locked == @tl').\\\n",
    "    set_index('trial_index')[cols]\n",
    "#query('trial_index in @tis')[['trial_index'] + cols].set_index('trial_index')"
   ]
  },
  {
   "cell_type": "code",
   "execution_count": null,
   "id": "07e4275e",
   "metadata": {},
   "outputs": [],
   "source": []
  },
  {
   "cell_type": "code",
   "execution_count": null,
   "id": "22893891",
   "metadata": {},
   "outputs": [],
   "source": [
    "df_all_multi_tsz.query('err_sens < -50 and time_locked == \"feedback\"')[['trial_index','trialwb','err_sens','special_block_type','trial_type']]"
   ]
  },
  {
   "cell_type": "code",
   "execution_count": null,
   "id": "484cf0b9",
   "metadata": {},
   "outputs": [],
   "source": [
    "tl = 'target'\n",
    "df_all_multi_tsz.query('err_sens < -15 and time_locked == @tl and special_block_type == \"None\"')\\\n",
    "    [['trial_index','trialwb','err_sens','special_block_type','trial_type']]"
   ]
  },
  {
   "cell_type": "code",
   "execution_count": null,
   "id": "5b1be3a0",
   "metadata": {},
   "outputs": [],
   "source": [
    "dftmp['err_sens']"
   ]
  },
  {
   "cell_type": "code",
   "execution_count": null,
   "id": "895d3d4c",
   "metadata": {},
   "outputs": [],
   "source": [
    "dftmp['err_sens'].describe()"
   ]
  },
  {
   "cell_type": "code",
   "execution_count": null,
   "id": "0bcead79",
   "metadata": {},
   "outputs": [],
   "source": [
    "dftmp.query('abs(err_sens) < 10')['err_sens'].hist(bins=30)"
   ]
  },
  {
   "cell_type": "code",
   "execution_count": null,
   "id": "7815d26d",
   "metadata": {},
   "outputs": [],
   "source": [
    "dftmp['err_sens'].describe()"
   ]
  },
  {
   "cell_type": "code",
   "execution_count": null,
   "id": "3841fd11",
   "metadata": {},
   "outputs": [],
   "source": [
    "dftmp = df_all_multi_tsz.query('time_locked == @tl')#[['trial_index','trialwb','err_sens','special_block_type','trial_type']]\n",
    "dftmp = dftmp[~ dftmp['err_sens'].isna()]\n",
    "dftmp = dftmp[~ np.isinf(dftmp['err_sens'] )]\n",
    "ax = sns.violinplot(dftmp,y='err_sens')\n",
    "#ax.set_ylim(-10500,10500)"
   ]
  },
  {
   "cell_type": "code",
   "execution_count": null,
   "id": "e26865f5",
   "metadata": {},
   "outputs": [],
   "source": [
    "# very large negative err_sens are in error_clamp_sandwich or error_clamp_pair"
   ]
  },
  {
   "cell_type": "code",
   "execution_count": null,
   "id": "9775be75",
   "metadata": {},
   "outputs": [],
   "source": [
    "#except trial index 55"
   ]
  },
  {
   "cell_type": "code",
   "execution_count": null,
   "id": "4bcb8eb5",
   "metadata": {},
   "outputs": [],
   "source": [
    "cols = ['trialwb','err_sens',\n",
    " 'perturbation',\n",
    " 'trial_type',\n",
    " 'error_endpoint_ang',\n",
    " 'error_area_signed_nn',\n",
    " 'error_area_signed',\n",
    " 'time_mvt',\n",
    " 'error_area_signed_tln',\n",
    " 'error_area_signed_tln_scaled_ed',\n",
    " 'error_lh_ang',\n",
    " 'correction',\n",
    " 'nonhit']"
   ]
  },
  {
   "cell_type": "code",
   "execution_count": null,
   "id": "e6016ea0",
   "metadata": {},
   "outputs": [],
   "source": [
    "cols = sum(colscols, start=[])"
   ]
  },
  {
   "cell_type": "code",
   "execution_count": null,
   "id": "b020e311",
   "metadata": {},
   "outputs": [],
   "source": [
    "colscols = [['trialwb','perturbation','trial_type'],\n",
    "            ['error_endpoint_ang', 'error_area_signed_nn'],\n",
    "            ['error_area_signed', 'time_mvt'],\n",
    "            [ 'error_area_signed_tln', 'error_area_signed_tln_scaled_ed', 'error_lh_ang'],\n",
    "            [ 'correction', 'prev_error'],\n",
    "           ['err_sens', 'nonhit']]"
   ]
  },
  {
   "cell_type": "markdown",
   "id": "cc6d0838",
   "metadata": {
    "heading_collapsed": true
   },
   "source": [
    "# new ver"
   ]
  },
  {
   "cell_type": "code",
   "execution_count": null,
   "id": "62a32b33",
   "metadata": {
    "hidden": true
   },
   "outputs": [],
   "source": [
    "colname_nh= lf['colname_nh']"
   ]
  },
  {
   "cell_type": "code",
   "execution_count": null,
   "id": "3da92fbb",
   "metadata": {
    "hidden": true
   },
   "outputs": [],
   "source": [
    "colname_nh"
   ]
  },
  {
   "cell_type": "code",
   "execution_count": null,
   "id": "76add2c0",
   "metadata": {
    "hidden": true
   },
   "outputs": [],
   "source": [
    "sum(df_esv[colname_nh])"
   ]
  },
  {
   "cell_type": "code",
   "execution_count": null,
   "id": "8cf1f7ac",
   "metadata": {
    "hidden": true
   },
   "outputs": [],
   "source": [
    "df_esv[colname_nh]"
   ]
  },
  {
   "cell_type": "code",
   "execution_count": null,
   "id": "6971d364",
   "metadata": {
    "hidden": true
   },
   "outputs": [],
   "source": [
    "c = df_esv[colname_nh]\n",
    "df_esv.loc[c,err_sens_coln]  = (correction / errors_cur)[c]\n"
   ]
  },
  {
   "cell_type": "code",
   "execution_count": null,
   "id": "b37479a9",
   "metadata": {
    "hidden": true
   },
   "outputs": [],
   "source": [
    "df_esv = lf['df_esv']\n",
    "err_sens_coln, correction =  lf['err_sens_coln'], lf['correction']\n",
    "behav_df, df_inds = lf['behav_df'], lf['df_inds']\n",
    "coln_error = lf['coln_error']\n",
    "coln_correction_calc = lf['coln_correction_calc']; \n",
    "\n",
    "trial_inds_loc_cur = lf['trial_inds_loc_cur']\n",
    "valid_inds_cur = lf['valid_inds_cur']\n",
    "trial_inds_loc_next = lf['trial_inds_loc_next']\n",
    "valid_inds_next = lf['valid_inds_next']\n",
    "vals_for_corr = lf['vals_for_corr']\n",
    "vals_for_corr_cur = lf['vals_for_corr_cur']\n",
    "vals_for_corr_next = lf['vals_for_corr_next']\n",
    "print(coln_correction_calc, err_sens_coln)\n",
    "\n",
    "display(df_esv.loc[450:455])"
   ]
  },
  {
   "cell_type": "code",
   "execution_count": null,
   "id": "294fc89d",
   "metadata": {
    "hidden": true
   },
   "outputs": [],
   "source": [
    "# from error_sensitivity import shiftVals\n",
    "# vals_for_corr_next = shiftVals(vals_for_corr,\n",
    "#                                trial_inds_loc_next, valid_inds_next)\n",
    "# vals_for_corr_next"
   ]
  },
  {
   "cell_type": "code",
   "execution_count": null,
   "id": "a8f2c2d1",
   "metadata": {
    "hidden": true
   },
   "outputs": [],
   "source": [
    "trial_inds_loc_cur[:5], trial_inds_loc_next[:5]"
   ]
  },
  {
   "cell_type": "code",
   "execution_count": null,
   "id": "9be5015c",
   "metadata": {
    "hidden": true
   },
   "outputs": [],
   "source": [
    "np.max(np.abs(trial_inds_loc_cur[1:] - trial_inds_loc_next[:-1]))"
   ]
  },
  {
   "cell_type": "code",
   "execution_count": null,
   "id": "91e690cc",
   "metadata": {
    "hidden": true
   },
   "outputs": [],
   "source": [
    "valid_inds_cur[:5],valid_inds_next[:5]"
   ]
  },
  {
   "cell_type": "code",
   "execution_count": null,
   "id": "c7755ba1",
   "metadata": {
    "hidden": true
   },
   "outputs": [],
   "source": [
    "valid_inds_cur[-5:],valid_inds_next[-5:]"
   ]
  },
  {
   "cell_type": "code",
   "execution_count": null,
   "id": "44aa55c4",
   "metadata": {
    "hidden": true
   },
   "outputs": [],
   "source": [
    "#vals_for_corr_next - vals_for_corr"
   ]
  },
  {
   "cell_type": "code",
   "execution_count": null,
   "id": "8396c874",
   "metadata": {
    "hidden": true
   },
   "outputs": [],
   "source": [
    "correction"
   ]
  },
  {
   "cell_type": "code",
   "execution_count": null,
   "id": "7f64b8fe",
   "metadata": {
    "hidden": true
   },
   "outputs": [],
   "source": []
  },
  {
   "cell_type": "code",
   "execution_count": null,
   "id": "9655aade",
   "metadata": {
    "hidden": true
   },
   "outputs": [],
   "source": [
    "vals_for_corr_cur[:5], vals_for_corr_next[:5]"
   ]
  },
  {
   "cell_type": "code",
   "execution_count": null,
   "id": "4a8ba07b",
   "metadata": {
    "hidden": true
   },
   "outputs": [],
   "source": [
    "#lf['valid_inds_cur']"
   ]
  },
  {
   "cell_type": "code",
   "execution_count": null,
   "id": "1d8e9ff4",
   "metadata": {
    "hidden": true
   },
   "outputs": [],
   "source": [
    "(correction / errors_cur)[450:455]"
   ]
  },
  {
   "cell_type": "code",
   "execution_count": null,
   "id": "1c4ec4db",
   "metadata": {
    "hidden": true
   },
   "outputs": [],
   "source": []
  },
  {
   "cell_type": "code",
   "execution_count": null,
   "id": "be2bfc20",
   "metadata": {
    "hidden": true
   },
   "outputs": [],
   "source": []
  },
  {
   "cell_type": "markdown",
   "id": "2b9a82ac",
   "metadata": {},
   "source": [
    "# 2d plots"
   ]
  },
  {
   "cell_type": "code",
   "execution_count": null,
   "id": "6ee10644",
   "metadata": {},
   "outputs": [],
   "source": [
    "s = subjects[0]"
   ]
  },
  {
   "cell_type": "code",
   "execution_count": null,
   "id": "7731cc20",
   "metadata": {},
   "outputs": [],
   "source": [
    "grp_perti = dfcos.groupby(['trial_index'])\n",
    "\n",
    "pause_inds = dfcpc_all.query(f'subject == \"{s}\"').groupby('trial_index').max('time').index\n",
    "#['trial_index']\n",
    "pause_inds = np.array(pause_inds)\n",
    "\n",
    "#rngs = f'{rng.start,rng.stop}'\n",
    "#rngs = f'S={S}; N={N}'"
   ]
  },
  {
   "cell_type": "code",
   "execution_count": null,
   "id": "263293bc",
   "metadata": {},
   "outputs": [],
   "source": [
    "#55,96"
   ]
  },
  {
   "cell_type": "code",
   "execution_count": null,
   "id": "7c38f567",
   "metadata": {},
   "outputs": [],
   "source": [
    "df_all.query( 'perturbation > 0' )[['trial_index','trialwb']]"
   ]
  },
  {
   "cell_type": "code",
   "execution_count": null,
   "id": "77a126ca",
   "metadata": {},
   "outputs": [],
   "source": []
  },
  {
   "cell_type": "code",
   "execution_count": null,
   "id": "5687dc4f",
   "metadata": {},
   "outputs": [],
   "source": [
    "#rng = np.arange(460,464);\n",
    "#rng = np.arange(50,60)\n",
    "\n",
    "rng = np.arange(50,80)\n",
    "#rng = np.arange(57,58)\n",
    "rng = np.arange(13,33)\n",
    "rngs = f'{rng[0]}-{rng[-1]}'; print(rngs)\n",
    "\n",
    "N = len(rng); print(N)"
   ]
  },
  {
   "cell_type": "code",
   "execution_count": null,
   "id": "438ab2ac",
   "metadata": {},
   "outputs": [],
   "source": []
  },
  {
   "cell_type": "code",
   "execution_count": null,
   "id": "c0c4e985",
   "metadata": {},
   "outputs": [],
   "source": [
    "# add to colscols vars needed to compute err sens\n",
    "coln_correction_calc, coln_error"
   ]
  },
  {
   "cell_type": "code",
   "execution_count": null,
   "id": "e1861e89",
   "metadata": {},
   "outputs": [],
   "source": [
    "from behav_proc import row2multierr\n",
    "row = axi2d[1]['row']\n",
    "r = row2multierr(row,dfcos,grp_perti, home_position, target_coords,\n",
    "           params)\n",
    "z = zip( ['err', 'error_lh_ang', 'error_unpert_lh_ang', 'start_dist',\n",
    "              'traja', 'trajoa', 'td',\n",
    "        'length',  'enddist'], r)\n",
    "dict(z)"
   ]
  },
  {
   "cell_type": "code",
   "execution_count": null,
   "id": "c62a08af",
   "metadata": {},
   "outputs": [],
   "source": [
    "edfc = df_all_multi_tsz['error_data_for_calc'].unique()\n",
    "print(edfc)"
   ]
  },
  {
   "cell_type": "code",
   "execution_count": null,
   "id": "43e641f6",
   "metadata": {},
   "outputs": [],
   "source": [
    "#coln_correction_calc\n",
    "edfc"
   ]
  },
  {
   "cell_type": "code",
   "execution_count": null,
   "id": "0ab0c952",
   "metadata": {},
   "outputs": [],
   "source": [
    "edfc = df_all_multi_tsz['error_data_for_calc'].unique()[0]"
   ]
  },
  {
   "cell_type": "code",
   "execution_count": null,
   "id": "7fed0ac8",
   "metadata": {},
   "outputs": [],
   "source": [
    "tl = 'trial_end'"
   ]
  },
  {
   "cell_type": "code",
   "execution_count": null,
   "id": "0944482f",
   "metadata": {},
   "outputs": [],
   "source": [
    "print(tl, edfc)\n",
    "dfesqs = (f'subject == \"{s}\"'\n",
    "          ' and error_data_for_calc == @edfc'\n",
    "          ' and trial_shift_size == 1 and trial_group_col_calc == \"trials\"'\n",
    "          ' and time_locked == @tl')    \n",
    "df_all_multi_tsz.query(dfesqs)"
   ]
  },
  {
   "cell_type": "code",
   "execution_count": null,
   "id": "58e04a8d",
   "metadata": {},
   "outputs": [],
   "source": [
    "#dfes.columns"
   ]
  },
  {
   "cell_type": "code",
   "execution_count": null,
   "id": "ee7ee6eb",
   "metadata": {},
   "outputs": [],
   "source": [
    "from exper_protocol.utils import screen2homec\n",
    "target_coords_homec = screen2homec( *tuple(zip(*target_coords)), home_position  )"
   ]
  },
  {
   "cell_type": "code",
   "execution_count": null,
   "id": "ca6b266d",
   "metadata": {},
   "outputs": [],
   "source": [
    "# angle is not good between segment from beg to border \n",
    "# and from border to target\n",
    "# if I start not from target then I have to modify area computation\n",
    "\n",
    "# I can just rotate everything aground starting point\n",
    "# target coord will also change (important when I call area() )\n",
    "\n",
    "# coords of the polygon will be  (tadja means adjusted target aligned)\n",
    "#   pt of exit of fb (tadja)\n",
    "#   traj (tadja)\n",
    "#   tgt (tadja)"
   ]
  },
  {
   "cell_type": "code",
   "execution_count": null,
   "id": "d19bf1f9",
   "metadata": {},
   "outputs": [],
   "source": [
    "df_all_multi_tsz"
   ]
  },
  {
   "cell_type": "code",
   "execution_count": null,
   "id": "5d979378",
   "metadata": {},
   "outputs": [],
   "source": [
    "#dfcc.columns"
   ]
  },
  {
   "cell_type": "code",
   "execution_count": null,
   "id": "b14af1b6",
   "metadata": {},
   "outputs": [],
   "source": [
    "colscols = [['trialwb','perturbation','trial_type'],\n",
    "            ['prev_trial_type'],\n",
    "            ['error_endpoint_ang', 'error_lh_ang'],            \n",
    "            ['error_distance','time_mvt', 'traj_length'],\n",
    "            ['error_area_signed_nn'],\n",
    "            ['error_area_ofb_signed_nn'],           \n",
    "            [coln_correction_calc], [coln_error],\n",
    "            [ 'correction', 'prev_error'],\n",
    "           ['err_sens','prev_err_sens', 'nonhit']]"
   ]
  },
  {
   "cell_type": "code",
   "execution_count": null,
   "id": "72863590",
   "metadata": {
    "run_control": {
     "marked": false
    }
   },
   "outputs": [],
   "source": [
    "#ti = 50 # strange in the upper part\n",
    "ti = 58 # strange in the upper part\n",
    "df0 = dfcc.query(f'subject == \"{s}\" and trial_index == {ti}')\n",
    "row = df0.to_dict('records')[0]\n",
    "\n",
    "ev = row['error_endpoint_ang']\n",
    "tiwb = row['trialwb']\n",
    "\n",
    "dfes = df_all_multi_tsz.query(dfesqs + f' and trial_index == {ti}')\n",
    "assert len(dfes) == 1, len(dfes)\n",
    "row2 = dfes.to_dict('records')[0]\n",
    "row.update(row2)\n",
    "\n",
    "ax = plt.gca()\n",
    "r = row2multierr(row, dfc, grp_perti, home_position,             \n",
    "            target_coords, params, ax=ax,\n",
    "            revert_pert = False, xlim=(-160,160),\n",
    "            titlecols = colscols, addinfo=row)\n",
    "z = zip( ['err', 'error_lh_ang', 'error_unpert_lh_ang', 'start_dist',\n",
    "              'traja', 'trajoa', 'td',\n",
    "        'length',  'enddist'], r)\n",
    "dict(z)"
   ]
  },
  {
   "cell_type": "code",
   "execution_count": null,
   "id": "c7ac45ab",
   "metadata": {},
   "outputs": [],
   "source": [
    "N  = len(rng) //2; N"
   ]
  },
  {
   "cell_type": "code",
   "execution_count": null,
   "id": "f8ca6ef6",
   "metadata": {
    "code_folding": [
     47
    ]
   },
   "outputs": [],
   "source": [
    "from behav_proc import plotTraj, plotTraj2\n",
    "from config2 import path_fig\n",
    "#rng = range(600,603)\n",
    "#rng = range(596,625)\n",
    "#rng = range(8,10)\n",
    "#rng = range(50,60)\n",
    "#rng = range(55,57)\n",
    "\n",
    "show_dist_guides = False\n",
    "ww = 7; hh =10\n",
    "nc = int(np.ceil(np.sqrt(len(rng)) ) ); nr = int( np.ceil( len(rng) / nc ) )\n",
    "#nr = N; nc = 2\n",
    "\n",
    "fig,axs = plt.subplots(nr,nc, figsize=(nc*ww, nr * hh))\n",
    "axsf = axs.flatten()\n",
    "\n",
    "axi2d = {}\n",
    "for axi,ti in enumerate(rng):\n",
    "    ax = axsf[axi]    \n",
    "    if ti not in grp_perti.groups:\n",
    "        if ti in pause_inds:            \n",
    "            print(f'Skipping {ti} because pause')\n",
    "            ax.set_title('PAUSE')\n",
    "        else:\n",
    "            print(f'Skipping {ti} because ?')\n",
    "        continue\n",
    "        \n",
    "    df0 = dfcc.query(f'subject == \"{s}\" and trial_index == {ti}')\n",
    "    row = df0.to_dict('records')[0]\n",
    "    \n",
    "    ev = row['error_endpoint_ang']\n",
    "    tiwb = row['trialwb']\n",
    "    \n",
    "    dfes = df_all_multi_tsz.query(dfesqs + f' and trial_index == {ti}')\n",
    "    assert len(dfes) == 1\n",
    "    row2 = dfes.to_dict('records')[0]\n",
    "    row.update(row2)\n",
    "    \n",
    "    \n",
    "    idx = grp_perti.groups[ti]\n",
    "    dfcurtr = dfcos.loc[idx[1:]]  # zeroth is equal to zero\n",
    "    import sys, traceback\n",
    "    try:\n",
    "#         plotTraj2(ax, dfcurtr, home_position, target_coords_homec, params,\n",
    "#                 force_entire_traj=0, calc_area = 1, addinfo=row,\n",
    "#                 titlecols = colscols, xlim=(-160,160))\n",
    "        \n",
    "        r = row2multierr(row, dfc, grp_perti, home_position,             \n",
    "            target_coords, params, ax=ax,\n",
    "            revert_pert = False, xlim=(-160,160),\n",
    "            titlecols = colscols, addinfo=row)\n",
    "        z = zip( ['err', 'error_lh_ang', 'error_unpert_lh_ang', 'start_dist',\n",
    "                      'traja', 'trajoa', 'td',\n",
    "                'length',  'enddist'], r)\n",
    "        dd = dict(z)\n",
    "    \n",
    "    except Exception as e:\n",
    "        print('EXC',e)\n",
    "        exc_info = sys.exc_info()\n",
    "        exc = traceback.TracebackException(*exc_info, capture_locals=True)\n",
    "\n",
    "        psf = exc_info[2].tb_next\n",
    "        stackframe = exc_info[2].tb_next.tb_frame\n",
    "\n",
    "        display(psf.tb_frame)\n",
    "        #display(psf.tb_next.tb_frame)\n",
    "\n",
    "        local_vars_in_fun = stackframe.f_locals\n",
    "        plt.close()\n",
    "        break\n",
    "    \n",
    "    from matplotlib.ticker import (AutoMinorLocator, MultipleLocator)\n",
    "    #ax.xaxis.set_major_locator(MultipleLocator(50))\n",
    "    #ax.xaxis.set_major_locator(MultipleLocator(50))\n",
    "    ax.set_yticks(np.arange(-50,400,50))\n",
    "    #ax.xaxis.set_minor_locator(AutoMinorLocator(25))\n",
    "    ax.grid(which='major', color='#CCCCCC', linestyle='--')\n",
    "    #ax.grid(which='minor', color='#CCCCCC', linestyle=':')\n",
    "    axi2d[axi] = {'df0':df0, 'row':row, 'dfcurtr':dfcurtr}\n",
    "    \n",
    "    print(f'error = {ev}, tiwb = {tiwb}')\n",
    "    \n",
    "plt.tight_layout()\n",
    "plt.savefig(pjoin(path_fig, f'traj_2D_{row[\"subject\"]}_{rngs}.pdf') )\n",
    "plt.close()"
   ]
  },
  {
   "cell_type": "code",
   "execution_count": null,
   "id": "a625c6d3",
   "metadata": {},
   "outputs": [],
   "source": [
    "display(psf.tb_frame)\n",
    "lf = psf.tb_frame.f_locals\n",
    "if psf.tb_next is not None:\n",
    "    psf2 = psf.tb_next\n",
    "    display(psf2.tb_frame)\n",
    "    lf0 = lf\n",
    "    lf = psf2.tb_frame.f_locals\n",
    "\n",
    "#display(exc_info[2].tb_frame)"
   ]
  },
  {
   "cell_type": "code",
   "execution_count": null,
   "id": "b0d8a198",
   "metadata": {},
   "outputs": [],
   "source": []
  },
  {
   "cell_type": "code",
   "execution_count": null,
   "id": "b929299c",
   "metadata": {},
   "outputs": [],
   "source": [
    "lf0['fbXhc_ta'].shape"
   ]
  },
  {
   "cell_type": "code",
   "execution_count": null,
   "id": "ec95a7aa",
   "metadata": {},
   "outputs": [],
   "source": [
    "lf['last_chi'], lf['chis']"
   ]
  },
  {
   "cell_type": "code",
   "execution_count": null,
   "id": "676a6e6d",
   "metadata": {},
   "outputs": [],
   "source": [
    "lf['tgtcur'] , lf['fb0pt'], lf['fbXYhc'].shape"
   ]
  },
  {
   "cell_type": "code",
   "execution_count": null,
   "id": "30f67b96",
   "metadata": {},
   "outputs": [],
   "source": [
    "np.math.atan2(tuple( lf['tgtcur_adj'] ))"
   ]
  },
  {
   "cell_type": "markdown",
   "id": "97c4b66e",
   "metadata": {
    "heading_collapsed": true
   },
   "source": [
    "# old ver"
   ]
  },
  {
   "cell_type": "code",
   "execution_count": null,
   "id": "37e3045f",
   "metadata": {
    "hidden": true
   },
   "outputs": [],
   "source": []
  },
  {
   "cell_type": "code",
   "execution_count": null,
   "id": "a995fb50",
   "metadata": {
    "hidden": true
   },
   "outputs": [],
   "source": [
    "df_esv = lf['df_esv']\n",
    "err_sens_coln, correction, errors =  lf['err_sens_coln'], lf['correction'], lf['errors']\n",
    "behav_df, df_inds = lf['behav_df'], lf['df_inds']\n",
    "coln_error = lf['coln_error']\n",
    "coln_correction_calc = lf['coln_correction_calc']; \n",
    "print(coln_correction_calc, err_sens_coln)"
   ]
  },
  {
   "cell_type": "code",
   "execution_count": null,
   "id": "ed6fb83f",
   "metadata": {
    "hidden": true
   },
   "outputs": [],
   "source": [
    "dftmp = behav_df.query('trial_index in [@tibad0, @tibad]')[['trial_index',coln_error,coln_correction_calc]]\n",
    "display(dftmp)\n",
    "inds = list(dftmp.index); print(inds)"
   ]
  },
  {
   "cell_type": "code",
   "execution_count": null,
   "id": "2a27612f",
   "metadata": {
    "hidden": true
   },
   "outputs": [],
   "source": [
    "lf['time_locked']\n",
    "vals_for_corr, vals_for_corr_next = lf['vals_for_corr'], lf['vals_for_corr_next']"
   ]
  },
  {
   "cell_type": "code",
   "execution_count": null,
   "id": "857d84b6",
   "metadata": {
    "hidden": true
   },
   "outputs": [],
   "source": [
    "len(df_inds), len(df_esv)"
   ]
  },
  {
   "cell_type": "code",
   "execution_count": null,
   "id": "111baff8",
   "metadata": {
    "hidden": true
   },
   "outputs": [],
   "source": [
    "errors_cur = lf['errors_cur']"
   ]
  },
  {
   "cell_type": "code",
   "execution_count": null,
   "id": "c8e7772e",
   "metadata": {
    "hidden": true
   },
   "outputs": [],
   "source": [
    "lf['shiftsz']"
   ]
  },
  {
   "cell_type": "code",
   "execution_count": null,
   "id": "eea559c8",
   "metadata": {
    "hidden": true
   },
   "outputs": [],
   "source": [
    "errors_cur[inds"
   ]
  },
  {
   "cell_type": "code",
   "execution_count": null,
   "id": "cfe36f98",
   "metadata": {
    "hidden": true
   },
   "outputs": [],
   "source": [
    "'vals_for_corr', vals_for_corr[inds], 'vals_for_corr_next', vals_for_corr_next[inds]"
   ]
  },
  {
   "cell_type": "code",
   "execution_count": null,
   "id": "63778346",
   "metadata": {
    "hidden": true
   },
   "outputs": [],
   "source": [
    "df_esv.loc[inds,['error', 'prev_error', 'correction','err_sens']]"
   ]
  },
  {
   "cell_type": "code",
   "execution_count": null,
   "id": "355f4bc0",
   "metadata": {
    "hidden": true
   },
   "outputs": [],
   "source": [
    "-10.017254 / -9.986173e+00"
   ]
  },
  {
   "cell_type": "code",
   "execution_count": null,
   "id": "26ddac8f",
   "metadata": {
    "hidden": true
   },
   "outputs": [],
   "source": [
    "pd.DataFrame({'a':[1,2], 'b':[0.4, 3.6]})"
   ]
  },
  {
   "cell_type": "code",
   "execution_count": null,
   "id": "e2cb0e57",
   "metadata": {
    "hidden": true
   },
   "outputs": [],
   "source": [
    "-10.017254 / 0.493040"
   ]
  },
  {
   "cell_type": "code",
   "execution_count": null,
   "id": "660e3af1",
   "metadata": {
    "hidden": true
   },
   "outputs": [],
   "source": [
    "df_all_multi_tsz['time_locked']"
   ]
  },
  {
   "cell_type": "code",
   "execution_count": null,
   "id": "0d14795d",
   "metadata": {
    "hidden": true
   },
   "outputs": [],
   "source": [
    "# if I timelock to target then  we take area of feedback that happened last time and \n",
    "# compare it with difference between are of\n",
    "#   orig feedback this time and last time\n",
    "# since my algo expects vertical path to target"
   ]
  },
  {
   "cell_type": "code",
   "execution_count": null,
   "id": "edb37ecc",
   "metadata": {
    "hidden": true
   },
   "outputs": [],
   "source": [
    "df_esv.loc[ range(450,457) ,['error', 'prev_error', 'correction','err_sens']]"
   ]
  },
  {
   "cell_type": "code",
   "execution_count": null,
   "id": "625baa75",
   "metadata": {
    "hidden": true
   },
   "outputs": [],
   "source": [
    "correction"
   ]
  },
  {
   "cell_type": "code",
   "execution_count": null,
   "id": "fe770cba",
   "metadata": {
    "hidden": true
   },
   "outputs": [],
   "source": [
    "tibad0 = 464\n",
    "tibad = 465"
   ]
  },
  {
   "cell_type": "code",
   "execution_count": null,
   "id": "aad1d64e",
   "metadata": {
    "hidden": true,
    "run_control": {
     "marked": false
    }
   },
   "outputs": [],
   "source": [
    "row = df_all_multi_tsz.query('trials == 465').to_dict('records')[0]"
   ]
  },
  {
   "cell_type": "code",
   "execution_count": null,
   "id": "8c5e6fb7",
   "metadata": {
    "hidden": true
   },
   "outputs": [],
   "source": [
    "colscols = [['trialwb','perturbation','trial_type'],\n",
    "            ['error_endpoint_ang', 'error_area_signed_nn'],\n",
    "            ['error_area_signed', 'time_mvt'],\n",
    "            [ 'error_area_signed_tln', 'error_area_signed_tln_scaled_ed', 'error_lh_ang'],\n",
    "            [ 'correction', 'prev_error'],\n",
    "           ['err_sens', 'nonhit']]\n",
    "\n",
    "# correction is different\n",
    "\n",
    "for cols in colscols:\n",
    "    for col in cols:\n",
    "        print(col,row[col])"
   ]
  },
  {
   "cell_type": "code",
   "execution_count": null,
   "id": "7ef96de3",
   "metadata": {
    "hidden": true
   },
   "outputs": [],
   "source": [
    "row"
   ]
  }
 ],
 "metadata": {
  "kernelspec": {
   "display_name": "merr2",
   "language": "python",
   "name": "merr2"
  },
  "language_info": {
   "codemirror_mode": {
    "name": "ipython",
    "version": 3
   },
   "file_extension": ".py",
   "mimetype": "text/x-python",
   "name": "python",
   "nbconvert_exporter": "python",
   "pygments_lexer": "ipython3",
   "version": "3.10.10"
  }
 },
 "nbformat": 4,
 "nbformat_minor": 5
}
