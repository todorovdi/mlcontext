{
 "cells": [
  {
   "cell_type": "code",
   "execution_count": null,
   "id": "6371e94b",
   "metadata": {},
   "outputs": [],
   "source": [
    "%load_ext autoreload\n",
    "%autoreload 2\n",
    "\n",
    "import os\n",
    "ipy = get_ipython()\n",
    "#data_dir_general = '/home/demitau/data_Quentin'\n",
    "#data_subdir_mem_err_main = 'full_experiments/data2'\n",
    "from os.path import join as pjoin\n",
    "import os,sys; sys.path.append(os.path.expandvars('$CODE_MEMORY_ERRORS'))\n",
    "import error_sensitivity\n",
    "#data_dir_input = pjoin(data_dir_general,data_subdir_mem_err_main)\n",
    "\n",
    "\n",
    "#data_dir_general = '/home/demitau/data_Quentin'\n",
    "#data_subdir_mem_err_main = 'full_experiments/data2'\n",
    "#data_dir_input = pjoin(data_dir_general,data_subdir_mem_err_main)\n",
    "#scripts_dir = pjoin(data_dir_general,'full_experiments','scripts2')\n",
    "\n",
    "data_dir_general = os.path.expandvars('$DATA_QUENTIN')\n",
    "data_dir_input = os.path.expandvars('$DATA_MEMORY_ERRORS_STAB_AND_STOCH')\n",
    "#scripts_dir = pjoin( os.path.expandvars('$CODE_MEMORY_ERRORS'), 'previous_analyses')\n",
    "scripts_dir = pjoin( os.path.expandvars('$CODE_MEMORY_ERRORS'))\n",
    "\n",
    "\n",
    "print(data_dir_input, scripts_dir)\n",
    "\n",
    "subjects = [f for f in os.listdir(data_dir_input) if f.startswith('sub') ]\n",
    "subjects = list(sorted(subjects))\n",
    "print(subjects)"
   ]
  },
  {
   "cell_type": "code",
   "execution_count": null,
   "id": "555e5717",
   "metadata": {},
   "outputs": [],
   "source": [
    "sys.path"
   ]
  },
  {
   "cell_type": "code",
   "execution_count": null,
   "id": "47eaac3e",
   "metadata": {},
   "outputs": [],
   "source": [
    "subj = subjects[0]\n",
    "behav_data_dir = pjoin(data_dir_input,'behavdata')\n",
    "#behavdata"
   ]
  },
  {
   "cell_type": "markdown",
   "id": "8b988089",
   "metadata": {},
   "source": [
    "## Fast"
   ]
  },
  {
   "cell_type": "code",
   "execution_count": null,
   "id": "de785477",
   "metadata": {},
   "outputs": [],
   "source": [
    "#for subject in subjects:\n",
    "for subject in subjects[:1]:\n",
    "    script_name = pjoin(scripts_dir,'read_behav2.py')\n",
    "    ipy.run_line_magic('run', f'-i {script_name}')\n",
    "    "
   ]
  },
  {
   "cell_type": "code",
   "execution_count": null,
   "id": "3a8a2f61",
   "metadata": {},
   "outputs": [],
   "source": [
    "script_name = pjoin(scripts_dir,'preprocess_raw2.py')\n",
    "ipy.run_line_magic('run', f'-i {script_name}')"
   ]
  },
  {
   "cell_type": "code",
   "execution_count": null,
   "id": "65578435",
   "metadata": {},
   "outputs": [],
   "source": [
    "hpass = 'no_filter'"
   ]
  },
  {
   "cell_type": "code",
   "execution_count": null,
   "id": "e3e0185c",
   "metadata": {},
   "outputs": [],
   "source": [
    "raw = raw_backup.copy()"
   ]
  },
  {
   "cell_type": "code",
   "execution_count": null,
   "id": "e7f91599",
   "metadata": {},
   "outputs": [],
   "source": [
    "raw_backup = raw.copy()"
   ]
  },
  {
   "cell_type": "code",
   "execution_count": null,
   "id": "0b0e432e",
   "metadata": {},
   "outputs": [],
   "source": [
    "if hpass == 'no_hpass':\n",
    "    raw.filter(l_freq=None, h_freq=30, n_jobs=n_jobs)\n",
    "elif hpass == 'no_hpass_tf':\n",
    "    raw.filter(l_freq=None, h_freq=150, n_jobs=n_jobs)\n",
    "elif hpass == 'no_filter':\n",
    "    pass\n",
    "else:\n",
    "    # 30 -- just to smooth\n",
    "    raw.filter(l_freq=float(hpass), h_freq=30, n_jobs=n_jobs)\n",
    "if with_ICA:\n",
    "    fname = op.join(path_data, subject, f'raw_{task}_{hpass}_with_ICA.fif')\n",
    "else:\n",
    "    fname = op.join(path_data, subject, f'raw_{task}_{hpass}.fif' )\n",
    "raw.save(fname, overwrite=True)\n"
   ]
  },
  {
   "cell_type": "code",
   "execution_count": null,
   "id": "fd738161",
   "metadata": {},
   "outputs": [],
   "source": [
    "fname"
   ]
  },
  {
   "cell_type": "code",
   "execution_count": null,
   "id": "c7249d0c",
   "metadata": {},
   "outputs": [],
   "source": [
    "plt.hist( log[:,2] )"
   ]
  },
  {
   "cell_type": "code",
   "execution_count": null,
   "id": "2e78583d",
   "metadata": {
    "run_control": {
     "marked": false
    }
   },
   "outputs": [],
   "source": [
    "targets"
   ]
  },
  {
   "cell_type": "markdown",
   "id": "82a498e2",
   "metadata": {},
   "source": [
    "# long"
   ]
  },
  {
   "cell_type": "code",
   "execution_count": null,
   "id": "42e908b1",
   "metadata": {},
   "outputs": [],
   "source": [
    "for subject in subjects:\n",
    "#for subject in subjects[:1]:\n",
    "    script_name = pjoin(scripts_dir,'read_behav2.py')\n",
    "    ipy.run_line_magic('run', f'-i {script_name}')"
   ]
  },
  {
   "cell_type": "code",
   "execution_count": null,
   "id": "2b32bad1",
   "metadata": {},
   "outputs": [],
   "source": [
    "# script_name = pjoin(scripts_dir,'figure','plot_behav2.py')\n",
    "# ipy.run_line_magic('run', f'{script_name}')"
   ]
  },
  {
   "cell_type": "markdown",
   "id": "372f8e15",
   "metadata": {},
   "source": [
    "# Questions\n",
    "* mvt duration = cue (dissapearance of the cursor) till crossing the outer circle (reaching certain distance from the start)\n",
    "* target_types, feeback_phase, target_phase -- ?\n",
    "* ITI_duration = ?\n",
    "* how large is noise?\n",
    "* feedback vs org_feedback -- # feedback -- preceived feedback,  org_feedback -- feedback that would be perceived without perturbation"
   ]
  },
  {
   "cell_type": "code",
   "execution_count": null,
   "id": "9b0fad90",
   "metadata": {},
   "outputs": [],
   "source": []
  }
 ],
 "metadata": {
  "kernelspec": {
   "display_name": "merr",
   "language": "python",
   "name": "merr"
  },
  "language_info": {
   "codemirror_mode": {
    "name": "ipython",
    "version": 3
   },
   "file_extension": ".py",
   "mimetype": "text/x-python",
   "name": "python",
   "nbconvert_exporter": "python",
   "pygments_lexer": "ipython3",
   "version": "3.9.12"
  }
 },
 "nbformat": 4,
 "nbformat_minor": 5
}
