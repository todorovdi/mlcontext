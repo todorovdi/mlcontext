{
 "cells": [
  {
   "cell_type": "code",
   "execution_count": null,
   "id": "5e8ffbcb",
   "metadata": {},
   "outputs": [],
   "source": [
    "pwd"
   ]
  },
  {
   "cell_type": "code",
   "execution_count": null,
   "id": "47a6641e",
   "metadata": {
    "run_control": {
     "marked": false
    }
   },
   "outputs": [],
   "source": [
    "#%debug\n",
    "%load_ext autoreload\n",
    "%autoreload 2\n",
    "\n",
    "import os,sys; sys.path.append(os.path.expandvars('$CODE_MEMORY_ERRORS'))\n",
    "%run -i ../exec_HPC.py 0"
   ]
  },
  {
   "cell_type": "code",
   "execution_count": null,
   "id": "5cc1c846",
   "metadata": {},
   "outputs": [],
   "source": [
    "list(tminmax)"
   ]
  },
  {
   "cell_type": "code",
   "execution_count": null,
   "id": "fc72cb86",
   "metadata": {},
   "outputs": [],
   "source": [
    "par['debug'] = 1\n",
    "\n",
    "from config2 import path_code as scripts_dir\n",
    "script_name = pjoin(scripts_dir,\n",
    "                    'spoc_slide2.py')\n",
    "\n",
    "ipy.run_line_magic('run', f'-i {script_name}')"
   ]
  },
  {
   "cell_type": "code",
   "execution_count": null,
   "id": "e1582263",
   "metadata": {},
   "outputs": [],
   "source": [
    "non_hit_cur"
   ]
  },
  {
   "cell_type": "code",
   "execution_count": null,
   "id": "4a1192db",
   "metadata": {},
   "outputs": [],
   "source": [
    "import traceback\n",
    "except Exception as e:\n",
    "    exc_info = sys.exc_info()\n",
    "    if exc_info[2].tb_next is not None:\n",
    "        locs = exc_info[2].tb_next.tb_frame.f_locals\n",
    "    else:\n",
    "        locs = locals()\n",
    "    exc = traceback.TracebackException(*exc_info, capture_locals=True)\n",
    "    display(exc.stack)\n",
    "    \n",
    "    print(exc.exc_type,str(exc))\n",
    "    raise e"
   ]
  }
 ],
 "metadata": {
  "kernelspec": {
   "display_name": "Python 3 (ipykernel)",
   "language": "python",
   "name": "python3"
  },
  "language_info": {
   "codemirror_mode": {
    "name": "ipython",
    "version": 3
   },
   "file_extension": ".py",
   "mimetype": "text/x-python",
   "name": "python",
   "nbconvert_exporter": "python",
   "pygments_lexer": "ipython3",
   "version": "3.8.13"
  }
 },
 "nbformat": 4,
 "nbformat_minor": 5
}
