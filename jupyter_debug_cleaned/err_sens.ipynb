{
 "cells": [
  {
   "cell_type": "code",
   "execution_count": null,
   "id": "eab6fa0c",
   "metadata": {},
   "outputs": [],
   "source": [
    "%load_ext autoreload\n",
    "%autoreload 2\n",
    "\n",
    "import jr\n",
    "from Levenshtein import editops\n",
    "\n",
    "import os\n",
    "from os.path import join as pjoin\n",
    "ipy = get_ipython()\n",
    "#data_dir_general = '/home/demitau/data_Quentin'\n",
    "#data_subdir_mem_err_main = 'full_experiments/data2'\n",
    "\n",
    "data_dir_general = os.path.expandvars('$DATA_QUENTIN')\n",
    "data_dir_input = os.path.expandvars('$DATA_MEMORY_ERRORS_STAB_AND_STOCH')\n",
    "scripts_dir = pjoin( os.path.expandvars('$CODE_MEMORY_ERRORS'), 'previous_analyses')\n",
    "\n",
    "scripts_dir_recent = pjoin( os.path.expandvars('$CODE_MEMORY_ERRORS'))\n",
    "\n",
    "subjects = [f for f in os.listdir(data_dir_input) if f.startswith('sub') ]\n",
    "subjects = list(sorted(subjects))\n",
    "print(subjects)\n",
    "\n",
    "import multiprocessing\n",
    "n_jobs = multiprocessing.cpu_count() - 2\n",
    "\n",
    "import mne\n",
    "mne.utils.set_config('MNE_USE_CUDA', 'true') "
   ]
  },
  {
   "cell_type": "code",
   "execution_count": null,
   "id": "719a1d71",
   "metadata": {
    "run_control": {
     "marked": true
    }
   },
   "outputs": [],
   "source": [
    "\n",
    "mne.cuda.init_cuda()\n"
   ]
  },
  {
   "cell_type": "markdown",
   "id": "94b59f6c",
   "metadata": {},
   "source": [
    "# preprocess"
   ]
  },
  {
   "cell_type": "code",
   "execution_count": null,
   "id": "88800517",
   "metadata": {
    "run_control": {
     "marked": false
    }
   },
   "outputs": [],
   "source": []
  },
  {
   "cell_type": "code",
   "execution_count": null,
   "id": "1c7654a0",
   "metadata": {
    "code_folding": [],
    "run_control": {
     "marked": false
    }
   },
   "outputs": [],
   "source": [
    "import multiprocessing\n",
    "n_jobs = multiprocessing.cpu_count() - 2\n",
    "\n",
    "#subject = subjects[0]\n",
    "use_preloaded_raw = False\n",
    "#hpass = no\n",
    "script_name = pjoin(scripts_dir_recent,\n",
    "                    'correlate_spoc_decoding_and_error_sensitivity2.py')\n",
    "\n",
    "for subject in subjects:\n",
    "    for hpass in ['no_filter', '0.1', '0.05']:\n",
    "        for regression_type in  ['Ridge', 'xgboost']:\n",
    "            ipy.run_line_magic('run', f'-i {script_name}')\n",
    "\n",
    "            import gc; gc.collect()"
   ]
  },
  {
   "cell_type": "code",
   "execution_count": null,
   "id": "76b6c467",
   "metadata": {},
   "outputs": [],
   "source": [
    "from error_sensitivity import enforceTargetTriggerConsistency\n"
   ]
  },
  {
   "cell_type": "code",
   "execution_count": null,
   "id": "effce593",
   "metadata": {},
   "outputs": [],
   "source": [
    "regression_type = 'xgboost'\n"
   ]
  },
  {
   "cell_type": "markdown",
   "id": "297f83a5",
   "metadata": {
    "heading_collapsed": true
   },
   "source": [
    "# Original version"
   ]
  },
  {
   "cell_type": "code",
   "execution_count": null,
   "id": "bb0df0df",
   "metadata": {
    "hidden": true
   },
   "outputs": [],
   "source": [
    "#subject = subjects[0]\n",
    "use_preloaded_raw = False\n",
    "#for subject in subjects[:1]:\n",
    "for subject in subjects[1:2]:\n",
    "    script_name = pjoin(scripts_dir_recent,\n",
    "                        'correlate_spoc_decoding_and_error_sensitivity2_orig.py')\n",
    "    ipy.run_line_magic('run', f'-i {script_name}')\n",
    "    import gc; gc.collect()"
   ]
  },
  {
   "cell_type": "markdown",
   "id": "bd579d81",
   "metadata": {
    "run_control": {
     "marked": true
    }
   },
   "source": [
    "# Extracted err-sens"
   ]
  },
  {
   "cell_type": "code",
   "execution_count": null,
   "id": "91f57e10",
   "metadata": {},
   "outputs": [],
   "source": [
    "#subject = subjects[0]\n",
    "use_preloaded_raw = False\n",
    "#for subject in subjects[:1]:\n",
    "#for subject in subjects[1:2]:\n",
    "for subject in subjects:\n",
    "    script_name = pjoin(scripts_dir_recent,\n",
    "                        'error_sensitivity.py')\n",
    "    ipy.run_line_magic('run', f'-i {script_name}')\n",
    "    import gc; gc.collect()"
   ]
  },
  {
   "cell_type": "code",
   "execution_count": null,
   "id": "2d3e3ffe",
   "metadata": {},
   "outputs": [],
   "source": [
    "import mne\n"
   ]
  },
  {
   "cell_type": "code",
   "execution_count": null,
   "id": "916fa8c2",
   "metadata": {},
   "outputs": [],
   "source": []
  },
  {
   "cell_type": "code",
   "execution_count": null,
   "id": "b94ff717",
   "metadata": {},
   "outputs": [],
   "source": [
    "raw.ch_names"
   ]
  },
  {
   "cell_type": "code",
   "execution_count": null,
   "id": "f601a825",
   "metadata": {},
   "outputs": [],
   "source": [
    "#times,chdata = raw[:]\n",
    "raw.get_data()"
   ]
  },
  {
   "cell_type": "code",
   "execution_count": null,
   "id": "6270c857",
   "metadata": {},
   "outputs": [],
   "source": [
    "help(raw.drop_channels)"
   ]
  },
  {
   "cell_type": "code",
   "execution_count": null,
   "id": "455fb0d1",
   "metadata": {},
   "outputs": [],
   "source": [
    "chinds = mne.pick_channels_regexp( raw.info['ch_names'], '^((?!UPP).)*$' )\n",
    "#len(chinds)\n",
    "not_stim_chans = np.array(raw.info['ch_names'] )[chinds]\n",
    "raw.drop_channels(not_stim_chans)"
   ]
  },
  {
   "cell_type": "code",
   "execution_count": null,
   "id": "ee461bc9",
   "metadata": {},
   "outputs": [],
   "source": [
    "behav_df['environment']"
   ]
  },
  {
   "cell_type": "code",
   "execution_count": null,
   "id": "0ebf2717",
   "metadata": {},
   "outputs": [],
   "source": [
    "help(RidgeCV)"
   ]
  },
  {
   "cell_type": "code",
   "execution_count": null,
   "id": "4dee4862",
   "metadata": {
    "run_control": {
     "marked": false
    }
   },
   "outputs": [],
   "source": [
    "len(changes)"
   ]
  },
  {
   "cell_type": "code",
   "execution_count": null,
   "id": "40bf79af",
   "metadata": {},
   "outputs": [],
   "source": []
  },
  {
   "cell_type": "code",
   "execution_count": null,
   "id": "1535d723",
   "metadata": {},
   "outputs": [],
   "source": [
    "help(epochs)"
   ]
  },
  {
   "cell_type": "code",
   "execution_count": null,
   "id": "33a6aca0",
   "metadata": {},
   "outputs": [],
   "source": [
    "import gc; gc.collect()"
   ]
  },
  {
   "cell_type": "code",
   "execution_count": null,
   "id": "38214693",
   "metadata": {},
   "outputs": [],
   "source": [
    "help( ica.find_bads_ecg )"
   ]
  },
  {
   "cell_type": "code",
   "execution_count": null,
   "id": "11d3f940",
   "metadata": {},
   "outputs": [],
   "source": [
    "#import mne.raw.filter\n",
    "help(mne.filter)"
   ]
  },
  {
   "cell_type": "code",
   "execution_count": null,
   "id": "0a271543",
   "metadata": {},
   "outputs": [],
   "source": []
  }
 ],
 "metadata": {
  "kernelspec": {
   "display_name": "Python 3 (ipykernel)",
   "language": "python",
   "name": "python3"
  },
  "language_info": {
   "codemirror_mode": {
    "name": "ipython",
    "version": 3
   },
   "file_extension": ".py",
   "mimetype": "text/x-python",
   "name": "python",
   "nbconvert_exporter": "python",
   "pygments_lexer": "ipython3",
   "version": "3.8.13"
  }
 },
 "nbformat": 4,
 "nbformat_minor": 5
}
