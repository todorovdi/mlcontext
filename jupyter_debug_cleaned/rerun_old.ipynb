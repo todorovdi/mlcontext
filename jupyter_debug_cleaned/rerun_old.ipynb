{
 "cells": [
  {
   "cell_type": "code",
   "execution_count": null,
   "id": "9e27f4ed",
   "metadata": {},
   "outputs": [],
   "source": [
    "%load_ext autoreload\n",
    "%autoreload 2\n",
    "\n",
    "import jr\n",
    "from Levenshtein import editops\n",
    "\n",
    "import os\n",
    "from os.path import join as pjoin\n",
    "\n",
    "import os,sys; sys.path.append(os.path.expandvars('$CODE_MEMORY_ERRORS'))\n",
    "import config2, error_sensitivity\n",
    "ipy = get_ipython()\n",
    "#data_dir_general = '/home/demitau/data_Quentin'\n",
    "#data_subdir_mem_err_main = 'full_experiments/data2'\n",
    "\n",
    "data_dir_general = os.path.expandvars('$DATA_QUENTIN')\n",
    "data_dir_input = os.path.expandvars('$DATA_MEMORY_ERRORS_STAB_AND_STOCH')\n",
    "#scripts_dir_old = pjoin( os.path.expandvars('$CODE_MEMORY_ERRORS'), 'previous_analyses')\n",
    "\n",
    "scripts_dir = pjoin( os.path.expandvars('$CODE_MEMORY_ERRORS'))\n",
    "\n",
    "subjects = [f for f in os.listdir(data_dir_input) if f.startswith('sub') ]\n",
    "subjects = list(sorted(subjects))\n",
    "print(subjects)\n",
    "\n",
    "import multiprocessing\n",
    "n_jobs = multiprocessing.cpu_count() - 2\n",
    "\n",
    "import mne\n",
    "mne.utils.set_config('MNE_USE_CUDA', 'true') "
   ]
  },
  {
   "cell_type": "markdown",
   "id": "c0f1d6bd",
   "metadata": {
    "heading_collapsed": true
   },
   "source": [
    "# spoc_home_with_prev_error2"
   ]
  },
  {
   "cell_type": "code",
   "execution_count": null,
   "id": "3971543f",
   "metadata": {
    "code_folding": [],
    "hidden": true
   },
   "outputs": [],
   "source": [
    "# faster test\n",
    "#%debug\n",
    "from config2 import freq_name2freq\n",
    "\n",
    "#subject = subjects[0]\n",
    "use_preloaded_raw = True\n",
    "#hpass = no\n",
    "script_name = pjoin(scripts_dir,\n",
    "                    'spoc_home_with_prev_error2.py')\n",
    "\n",
    "            \n",
    "for subject in ['sub01_WGPOZPEE']:\n",
    "    #for hpass in ['no_filter', '0.1', '0.05']:\n",
    "    for hpass in ['0.05']:\n",
    "        #for regression_type in  ['Ridge', 'xgboost']:\n",
    "        for regression_type in  [ 'xgboost']:\n",
    "            #for freq_name,freq_limits in freq_name2freq.items():\n",
    "            for freq_name,freq_limits in [('gamma',freq_name2freq['gamma'])]:\n",
    "                #for env_to_run in ['stable', 'random']:\n",
    "                for env_to_run in ['stable']:\n",
    "                    par = {'subject':subject, 'hpass':hpass, 'freq_name':freq_name,\n",
    "                           'regression_type':regression_type, 'env_to_run':env_to_run }\n",
    "                    ipy.run_line_magic('run', f'-i {script_name}')\n",
    "\n",
    "                    import gc; gc.collect()\n",
    "                    #sys.exit(1)\n"
   ]
  },
  {
   "cell_type": "code",
   "execution_count": null,
   "id": "47464d3d",
   "metadata": {
    "hidden": true
   },
   "outputs": [],
   "source": [
    "os.getlogin()"
   ]
  },
  {
   "cell_type": "code",
   "execution_count": null,
   "id": "a8413d87",
   "metadata": {
    "hidden": true
   },
   "outputs": [],
   "source": [
    "s = _est_run(est,X,y,cv,scoring,n_jobs_per_dim_classical_dec) "
   ]
  },
  {
   "cell_type": "code",
   "execution_count": null,
   "id": "2ada69dd",
   "metadata": {
    "hidden": true
   },
   "outputs": [],
   "source": [
    "s[0][0][0][0]"
   ]
  },
  {
   "cell_type": "code",
   "execution_count": null,
   "id": "1d2645e4",
   "metadata": {
    "hidden": true
   },
   "outputs": [],
   "source": [
    "def _est_run(est,X,y,cv,scoring,n_jobs):\n",
    "    with mne.use_log_level('warning'):\n",
    "        score = cross_val_multiscore(est, X, y=y, cv=cv, scoring=scoring,\n",
    "                                        n_jobs=n_jobs, verbose=classic_dec_verbose)\n",
    "    score = score.mean(axis=0)\n",
    "    return scores\n"
   ]
  },
  {
   "cell_type": "code",
   "execution_count": null,
   "id": "b231be99",
   "metadata": {
    "hidden": true
   },
   "outputs": [],
   "source": [
    "scores[0][0][0][0][0][0][0][0][0][0][0][0][0][0][0][0][0][0][0][0][0][0][0][0][0][0][0]"
   ]
  },
  {
   "cell_type": "code",
   "execution_count": null,
   "id": "939b9ffc",
   "metadata": {
    "hidden": true
   },
   "outputs": [],
   "source": [
    "est_parallel_across_dims = 0\n",
    "\n",
    "\n",
    "if est_parallel_across_dims:\n",
    "    n_jobs_per_dim_classical_dec = 1\n",
    "else:\n",
    "    n_jobs_per_dim_classical_dec = n_jobs\n",
    "add_clf_creopts_est = getXGBparams(n_jobs = n_jobs_per_dim_classical_dec)\n",
    "\n",
    "\n",
    "scores = list()\n",
    "# over all dims\n",
    "def _est_run(est,X,y,cv,scoring,n_jobs):\n",
    "    with mne.use_log_level('warning'):\n",
    "        score = cross_val_multiscore(est, X, y=y, cv=cv, scoring=scoring,\n",
    "                                        n_jobs=n_jobs)\n",
    "    score = score.mean(axis=0)\n",
    "    return scores\n",
    "\n",
    "from joblib import Parallel, delayed\n",
    "if est_parallel_across_dims:\n",
    "    scores = Parallel(n_jobs=n_jobs)(\n",
    "        delayed(_est_run)(est,X,Y[:,dimi],cv,scoring,n_jobs_per_dim_classical_dec ) \\\n",
    "            for dimi in range(dim ))\n",
    "else:\n",
    "    for dimi in range(dim):\n",
    "        y = Y[:, dimi]\n",
    "        score = _est_run(est,X,y,cv,scoring,n_jobs_per_dim_classical_dec)\n",
    "        scores.append(score)\n",
    "scores = np.array(scores)\n"
   ]
  },
  {
   "cell_type": "code",
   "execution_count": null,
   "id": "6ff38bec",
   "metadata": {
    "hidden": true
   },
   "outputs": [],
   "source": [
    "mne.get_config('MNE_LOGGING_LEVEL')"
   ]
  },
  {
   "cell_type": "code",
   "execution_count": null,
   "id": "f53ce46d",
   "metadata": {
    "hidden": true
   },
   "outputs": [],
   "source": [
    "#Debug 10; info 20; warning 30; error 40; critical 50"
   ]
  },
  {
   "cell_type": "code",
   "execution_count": null,
   "id": "b65a81ad",
   "metadata": {
    "hidden": true
   },
   "outputs": [],
   "source": [
    "mne.get_lo('warning')"
   ]
  },
  {
   "cell_type": "code",
   "execution_count": null,
   "id": "d9f7ca99",
   "metadata": {
    "hidden": true
   },
   "outputs": [],
   "source": [
    "mne.use_log_level('warning')\n",
    "mne.get_config('MNE_LOGGING_LEVEL')"
   ]
  },
  {
   "cell_type": "code",
   "execution_count": null,
   "id": "0460ebfd",
   "metadata": {
    "hidden": true
   },
   "outputs": [],
   "source": [
    "from csp_my import SPoC\n",
    "\n",
    "b2b = B2B_SPoC(G=G, H=H, n_splits=n_splits_B2B,\n",
    "        parallel_type='across_splits_and_trials')\n",
    "\n",
    "r = b2b.fit(X, Y)\n"
   ]
  },
  {
   "cell_type": "code",
   "execution_count": null,
   "id": "0c9b78d7",
   "metadata": {
    "hidden": true
   },
   "outputs": [],
   "source": [
    "len(non_hit)"
   ]
  },
  {
   "cell_type": "code",
   "execution_count": null,
   "id": "b26cc251",
   "metadata": {
    "hidden": true
   },
   "outputs": [],
   "source": [
    "import itertool\n",
    "itertool.product(30,Y.shape[1])"
   ]
  },
  {
   "cell_type": "code",
   "execution_count": null,
   "id": "bd50c32d",
   "metadata": {
    "hidden": true
   },
   "outputs": [],
   "source": [
    "import gc; gc.collect()"
   ]
  },
  {
   "cell_type": "code",
   "execution_count": null,
   "id": "a00c7f17",
   "metadata": {
    "hidden": true
   },
   "outputs": [],
   "source": [
    "rT = list( zip(*r) )\n",
    "\n",
    "print( len(rT) )\n",
    "print( 'type(rT)', type(rT) )\n",
    "print( 'type(rT[0])', type(rT[0]) )\n",
    "print( rT[0][0], rT[0][1] )"
   ]
  },
  {
   "cell_type": "code",
   "execution_count": null,
   "id": "b5da784b",
   "metadata": {
    "hidden": true
   },
   "outputs": [],
   "source": [
    "rT[1][0]"
   ]
  },
  {
   "cell_type": "code",
   "execution_count": null,
   "id": "6a37131b",
   "metadata": {
    "hidden": true
   },
   "outputs": [],
   "source": [
    "rT = list( zip(r) )\n",
    "\n",
    "print( len(rT) )\n",
    "print( type(rT) )\n",
    "print( type(rT[0]) )\n",
    "print( len(rT[0][0]) )"
   ]
  },
  {
   "cell_type": "code",
   "execution_count": null,
   "id": "434fff2b",
   "metadata": {
    "hidden": true
   },
   "outputs": [],
   "source": [
    "rT[0][0]"
   ]
  },
  {
   "cell_type": "code",
   "execution_count": null,
   "id": "29b92046",
   "metadata": {
    "hidden": true
   },
   "outputs": [],
   "source": [
    "help(logging)"
   ]
  },
  {
   "cell_type": "code",
   "execution_count": null,
   "id": "b0f1396e",
   "metadata": {
    "hidden": true
   },
   "outputs": [],
   "source": [
    "mne_logger = logging.getLogger('mne')"
   ]
  },
  {
   "cell_type": "code",
   "execution_count": null,
   "id": "673dec08",
   "metadata": {
    "hidden": true
   },
   "outputs": [],
   "source": [
    "import mne.cov"
   ]
  },
  {
   "cell_type": "code",
   "execution_count": null,
   "id": "c4603396",
   "metadata": {
    "hidden": true
   },
   "outputs": [],
   "source": [
    "mne.cov.__file__"
   ]
  },
  {
   "cell_type": "code",
   "execution_count": null,
   "id": "bbdf37f5",
   "metadata": {
    "hidden": true
   },
   "outputs": [],
   "source": [
    "import mne.cov.utils.logger"
   ]
  },
  {
   "cell_type": "code",
   "execution_count": null,
   "id": "4aa0607f",
   "metadata": {
    "hidden": true
   },
   "outputs": [],
   "source": [
    "#subject = subjects[0]\n",
    "use_preloaded_raw = False\n",
    "#hpass = no\n",
    "script_name = pjoin(scripts_dir_recent,\n",
    "                    'spoc_home_with_prev_error2.py')\n",
    "\n",
    "for subject in subjects:\n",
    "    for hpass in ['no_filter', '0.1', '0.05']:\n",
    "        for regression_type in  ['Ridge', 'xgboost']:\n",
    "            ipy.run_line_magic('run', f'-i {script_name}')\n",
    "\n",
    "            import gc; gc.collect()"
   ]
  },
  {
   "cell_type": "markdown",
   "id": "8a05a75c",
   "metadata": {
    "heading_collapsed": true
   },
   "source": [
    "# td_long2"
   ]
  },
  {
   "cell_type": "code",
   "execution_count": null,
   "id": "bf4f01a3",
   "metadata": {
    "hidden": true
   },
   "outputs": [],
   "source": [
    "use_preloaded_raw = False\n",
    "script_name = pjoin(scripts_dir,\n",
    "                    'td_long2.py')\n",
    "\n",
    "for subject in subjects:\n",
    "    for hpass in ['no_filter', '0.1', '0.05']:\n",
    "        for regression_type in  ['Ridge', 'xgboost']:\n",
    "            ipy.run_line_magic('run', f'-i {script_name}')\n",
    "\n",
    "            import gc; gc.collect()"
   ]
  },
  {
   "cell_type": "code",
   "execution_count": null,
   "id": "83ad9982",
   "metadata": {
    "hidden": true
   },
   "outputs": [],
   "source": [
    "# faster test\n",
    "#%debug\n",
    "\n",
    "#subject = subjects[0]\n",
    "use_preloaded_raw = False\n",
    "#hpass = no\n",
    "script_name = pjoin(scripts_dir,\n",
    "                    'td_long2.py')\n",
    "\n",
    "for subject in subjects[:1]:\n",
    "    for hpass in ['no_filter', '0.1', '0.05'][:1]:\n",
    "        for regression_type in  ['Ridge', 'xgboost'][:1]:\n",
    "            ipy.run_line_magic('run', f'-i {script_name}')\n",
    "\n",
    "            import gc; gc.collect()"
   ]
  },
  {
   "cell_type": "code",
   "execution_count": null,
   "id": "b27662e6",
   "metadata": {
    "hidden": true
   },
   "outputs": [],
   "source": [
    "len(wh)"
   ]
  },
  {
   "cell_type": "markdown",
   "id": "eee8da66",
   "metadata": {
    "run_control": {
     "marked": false
    }
   },
   "source": [
    "# correlate_spoc_decoding_and_error_sensitivity2"
   ]
  },
  {
   "cell_type": "code",
   "execution_count": null,
   "id": "c4d84b75",
   "metadata": {},
   "outputs": [],
   "source": []
  },
  {
   "cell_type": "code",
   "execution_count": null,
   "id": "58364afb",
   "metadata": {},
   "outputs": [],
   "source": [
    "# use_preloaded_raw = False\n",
    "script_name = pjoin(scripts_dir,\n",
    "                    'correlate_spoc_decoding_and_error_sensitivity2.py')\n",
    "\n",
    "use_preloaded_raw = True\n",
    "\n",
    "for subject in subjects[:1]:\n",
    "    for hpass in ['no_filter']:\n",
    "        for regression_type in  ['Ridge']:\n",
    "            for env_to_run in ['stable']:\n",
    "                freq_name = 'broad'\n",
    "                freqs = (4,60)\n",
    "                ipy.run_line_magic('run', f'-i {script_name}')\n",
    "\n",
    "                import gc; gc.collect()\n",
    "\n",
    "            #sys.exit(0)"
   ]
  },
  {
   "cell_type": "code",
   "execution_count": null,
   "id": "922bdf05",
   "metadata": {},
   "outputs": [],
   "source": [
    "len(events)"
   ]
  },
  {
   "cell_type": "code",
   "execution_count": null,
   "id": "ef48078a",
   "metadata": {},
   "outputs": [],
   "source": [
    "events0 = events\n",
    "epochs0 = epochs\n",
    "ep0 = ep"
   ]
  },
  {
   "cell_type": "code",
   "execution_count": null,
   "id": "c85e7cc2",
   "metadata": {},
   "outputs": [],
   "source": [
    "epochs0._data.shape,ep._data.shape, len(non_hit)"
   ]
  },
  {
   "cell_type": "code",
   "execution_count": null,
   "id": "11a00631",
   "metadata": {},
   "outputs": [],
   "source": []
  },
  {
   "cell_type": "code",
   "execution_count": null,
   "id": "dff569be",
   "metadata": {},
   "outputs": [],
   "source": []
  },
  {
   "cell_type": "markdown",
   "id": "c1141670",
   "metadata": {},
   "source": [
    "# dec_err_sens_sliding2"
   ]
  },
  {
   "cell_type": "code",
   "execution_count": null,
   "id": "fad2ad95",
   "metadata": {},
   "outputs": [],
   "source": [
    "behav_df_cur"
   ]
  },
  {
   "cell_type": "code",
   "execution_count": null,
   "id": "3ad335dd",
   "metadata": {},
   "outputs": [],
   "source": [
    "raw = None"
   ]
  },
  {
   "cell_type": "code",
   "execution_count": null,
   "id": "438b7069",
   "metadata": {},
   "outputs": [],
   "source": [
    "# use_preloaded_raw = False\n",
    "# script_name = pjoin(scripts_dir,\n",
    "#                     'correlate_spoc_decoding_and_error_sensitivity2.py')\n",
    "script_name = pjoin(scripts_dir,\n",
    "                    'dec_err_sens_sliding2.py')\n",
    "\n",
    "# for subject in subjects[:1]:\n",
    "#     for hpass in ['no_filter']:\n",
    "#         for regression_type in  ['Ridge']:\n",
    "#             for env_to_run in ['stable']:\n",
    "#                 freq_name = 'broad'\n",
    "#                 freqs = (4,60)\n",
    "#raw = None\n",
    "\n",
    "for subject in subjects:\n",
    "    pstr = ''\n",
    "    pstr += f' --param_file dec_err_sens_sliding.ini'\n",
    "    pstr += f' --subject {subject}'\n",
    "    pstr += ' --hpass no_filter'\n",
    "    pstr += ' --freq_name broad'\n",
    "    pstr += ' --regression_type Ridge'\n",
    "    pstr += ' --slide_window_dur 0.5'\n",
    "    pstr += ' --output_folder corr_spoc_es_sliding2_{hpass}'\n",
    "    pstr += ' --each_SPoC_fit_is_parallel 1'\n",
    "    pstr += ' --env_to_run stable,random'\n",
    "    pstr += ' --slide_windows_type explicit'\n",
    "    pstr += ' --tmin 0'\n",
    "    pstr += ' --tmax 0.5'\n",
    "#     pstr += ' --tmin -0.5'\n",
    "#     pstr += ' --tmax 0'\n",
    "    pstr += ' --nb_fold 2'\n",
    "    pstr += ' --use_preloaded_raw 0'\n",
    "    pstr += ' --use_preloaded_flt_raw 0'\n",
    "    pstr += ' --load_flt_raw 1'\n",
    "    #pstr += ' --n_jobs 1'\n",
    "    #pstr += ' --exit_after enforce_consist'\n",
    "    ipy.run_line_magic('run', f'-i {script_name} {pstr}')\n",
    "\n",
    "    import gc; gc.collect()\n",
    "\n",
    "            #sys.exit(0)"
   ]
  },
  {
   "cell_type": "code",
   "execution_count": null,
   "id": "adf32949",
   "metadata": {},
   "outputs": [],
   "source": [
    "sum(non_hit),sum(non_hit_not_adj)"
   ]
  },
  {
   "cell_type": "code",
   "execution_count": null,
   "id": "e570cdb0",
   "metadata": {},
   "outputs": [],
   "source": [
    "X.shape, y.shape"
   ]
  },
  {
   "cell_type": "code",
   "execution_count": null,
   "id": "8a95edfa",
   "metadata": {},
   "outputs": [],
   "source": [
    "raw is None and ( (not loaded_flt_raw)"
   ]
  },
  {
   "cell_type": "code",
   "execution_count": null,
   "id": "19ae3377",
   "metadata": {},
   "outputs": [],
   "source": [
    "raw is None or ( (not loaded_flt_raw) and \\\n",
    "    ( not (use_preloaded_flt_raw and preloaded_flt_raw_is_present) ) ) "
   ]
  },
  {
   "cell_type": "code",
   "execution_count": null,
   "id": "20385994",
   "metadata": {},
   "outputs": [],
   "source": [
    "not (use_preloaded_flt_raw and preloaded_flt_raw_is_present) "
   ]
  },
  {
   "cell_type": "code",
   "execution_count": null,
   "id": "8479e719",
   "metadata": {},
   "outputs": [],
   "source": [
    "for n in svd:\n",
    "    print(n,type(svd[n]))"
   ]
  },
  {
   "cell_type": "code",
   "execution_count": null,
   "id": "72c1f5b7",
   "metadata": {},
   "outputs": [],
   "source": [
    "scores"
   ]
  },
  {
   "cell_type": "code",
   "execution_count": null,
   "id": "8f98824b",
   "metadata": {},
   "outputs": [],
   "source": [
    "mne_fit_log_level"
   ]
  },
  {
   "cell_type": "code",
   "execution_count": null,
   "id": "de49878f",
   "metadata": {},
   "outputs": [],
   "source": [
    "np.all( (epochs.events - epochs0.events) == 0 )"
   ]
  },
  {
   "cell_type": "code",
   "execution_count": null,
   "id": "3030a015",
   "metadata": {},
   "outputs": [],
   "source": [
    "np.all( np.abs( epochs._data - epochs0._data ) < 1e-10) "
   ]
  },
  {
   "cell_type": "code",
   "execution_count": null,
   "id": "0c24cdd9",
   "metadata": {},
   "outputs": [],
   "source": [
    "epochs._data.shape"
   ]
  },
  {
   "cell_type": "code",
   "execution_count": null,
   "id": "a0d52d5a",
   "metadata": {},
   "outputs": [],
   "source": [
    "evids = stage2evn2event_ids_str[time_locked][env] + stage2evn2event_ids_str['feedback'][env]\n",
    "evids"
   ]
  },
  {
   "cell_type": "code",
   "execution_count": null,
   "id": "41781357",
   "metadata": {},
   "outputs": [],
   "source": [
    "epochs[evids]"
   ]
  },
  {
   "cell_type": "code",
   "execution_count": null,
   "id": "b2cd2e8e",
   "metadata": {},
   "outputs": [],
   "source": [
    "list( map(str, event_ids_all ) )"
   ]
  },
  {
   "cell_type": "code",
   "execution_count": null,
   "id": "9748cd56",
   "metadata": {},
   "outputs": [],
   "source": []
  },
  {
   "cell_type": "code",
   "execution_count": null,
   "id": "5ef22276",
   "metadata": {},
   "outputs": [],
   "source": [
    "epochs0[list( map(str, event_ids_all ) ) ]"
   ]
  },
  {
   "cell_type": "code",
   "execution_count": null,
   "id": "6fbd56a5",
   "metadata": {},
   "outputs": [],
   "source": [
    "epochs[event_ids_all]"
   ]
  },
  {
   "cell_type": "code",
   "execution_count": null,
   "id": "5e311ebb",
   "metadata": {},
   "outputs": [],
   "source": [
    "np.all( events == events0 )"
   ]
  },
  {
   "cell_type": "code",
   "execution_count": null,
   "id": "72420b61",
   "metadata": {},
   "outputs": [],
   "source": [
    "events2 = mne.find_events(raw, stim_channel=stim_channel_name,\n",
    "                            min_duration=min_event_duration)\n",
    "events2[:, 0] += delay_trig_photodi\n",
    "\n",
    "events2 = cleanEvents(events)\n"
   ]
  },
  {
   "cell_type": "code",
   "execution_count": null,
   "id": "c6ac64d9",
   "metadata": {},
   "outputs": [],
   "source": [
    "len(events2),len(events),epochs._data.shape"
   ]
  },
  {
   "cell_type": "code",
   "execution_count": null,
   "id": "4ad65d68",
   "metadata": {},
   "outputs": [],
   "source": [
    "events"
   ]
  },
  {
   "cell_type": "code",
   "execution_count": null,
   "id": "7bc22cf2",
   "metadata": {},
   "outputs": [],
   "source": [
    "len(trial_inds), len(non_hit), len(environment)"
   ]
  },
  {
   "cell_type": "code",
   "execution_count": null,
   "id": "0430d5fe",
   "metadata": {},
   "outputs": [],
   "source": [
    "#epochs[ stage2evn2event_ids['target'][env] ]"
   ]
  },
  {
   "cell_type": "code",
   "execution_count": null,
   "id": "9fa1e333",
   "metadata": {},
   "outputs": [],
   "source": [
    "ep._data.shape"
   ]
  },
  {
   "cell_type": "code",
   "execution_count": null,
   "id": "4adf505f",
   "metadata": {},
   "outputs": [],
   "source": [
    "X.shape"
   ]
  },
  {
   "cell_type": "code",
   "execution_count": null,
   "id": "62b7bcb8",
   "metadata": {},
   "outputs": [],
   "source": [
    "len(non_hit), X.shape"
   ]
  },
  {
   "cell_type": "code",
   "execution_count": null,
   "id": "e52281ad",
   "metadata": {},
   "outputs": [],
   "source": [
    "behav_df_full['target']"
   ]
  },
  {
   "cell_type": "code",
   "execution_count": null,
   "id": "04bdae49",
   "metadata": {},
   "outputs": [],
   "source": [
    "    meg_targets = epochs.events[:, 2].copy()\n",
    "    targets = np.array( behav_df_full['target'] )\n"
   ]
  },
  {
   "cell_type": "code",
   "execution_count": null,
   "id": "4e0c9921",
   "metadata": {},
   "outputs": [],
   "source": [
    "targets"
   ]
  },
  {
   "cell_type": "code",
   "execution_count": null,
   "id": "ef3e59f3",
   "metadata": {},
   "outputs": [],
   "source": [
    "meg_targets"
   ]
  },
  {
   "cell_type": "code",
   "execution_count": null,
   "id": "58972960",
   "metadata": {},
   "outputs": [],
   "source": [
    "behav_df_cur = enforceTargetTriggerConsistency(behav_df_full.copy() , epochs,\n",
    "                                environment_full,\n",
    "                                save_fname=fname)\n"
   ]
  },
  {
   "cell_type": "code",
   "execution_count": null,
   "id": "8e91231c",
   "metadata": {},
   "outputs": [],
   "source": [
    "#!python 3.8.3"
   ]
  },
  {
   "cell_type": "code",
   "execution_count": null,
   "id": "9616d257",
   "metadata": {},
   "outputs": [],
   "source": [
    "pstr"
   ]
  },
  {
   "cell_type": "code",
   "execution_count": null,
   "id": "25ecb09e",
   "metadata": {},
   "outputs": [],
   "source": [
    "par['slide_windows_type']"
   ]
  },
  {
   "cell_type": "code",
   "execution_count": null,
   "id": "b58420c2",
   "metadata": {},
   "outputs": [],
   "source": [
    "tmin,tmax"
   ]
  },
  {
   "cell_type": "code",
   "execution_count": null,
   "id": "74973262",
   "metadata": {},
   "outputs": [],
   "source": [
    "#behav_df_full"
   ]
  },
  {
   "cell_type": "markdown",
   "id": "eac6fff1",
   "metadata": {
    "heading_collapsed": true
   },
   "source": [
    "# SPoC home versions compare"
   ]
  },
  {
   "cell_type": "code",
   "execution_count": null,
   "id": "67297f60",
   "metadata": {
    "hidden": true
   },
   "outputs": [],
   "source": [
    "import sys; sys.path.append(os.path.expandvars('$CODE_MEMORY_ERRORS'))\n",
    "ipy = get_ipython()\n",
    "\n",
    "# faster test\n",
    "#%debug\n",
    "import numpy as np\n",
    "from config2 import freq_name2freq\n",
    "from os.path import join as pjoin\n",
    "from config2 import path_code as scripts_dir\n",
    "\n",
    "#subject = subjects[0]\n",
    "#hpass = no\n",
    "script_name = pjoin(scripts_dir,\n",
    "                    'spoc_slide2.py')\n",
    "\n",
    "#del locs_orig, locs_now\n",
    "\n",
    "subject = 'sub01_WGPOZPEE'\n",
    "env2locs = {}\n",
    "for env_to_run in ['stable','random']:         \n",
    "#for env_to_run in ['stable']:         \n",
    "    np.random.seed(0)\n",
    "    #for hpass in ['no_filter', '0.1', '0.05']:\n",
    "    hpass = 'no_filter'\n",
    "    regression_type = 'Ridge'\n",
    "            #for freq_name,freq_limits in freq_name2freq.items():\n",
    "    freq_name,freq_limits = ('gamma',freq_name2freq['gamma'])\n",
    "    #for env_to_run in ['stable', 'random']:            \n",
    "    par = {'subject':subject, 'hpass':hpass, 'freq_name':freq_name,\n",
    "           'regression_type':regression_type, \n",
    "           'env_to_run':env_to_run, 'exit_after':'end',\n",
    "          'tmin':'-0.5', 'tmax':'0', 'debug':1,\n",
    "          'nb_fold':12, 'n_splits_B2B':60, 'use_preloaded_raw':1}\n",
    "    ipy.run_line_magic('run', f'-i {script_name}')\n",
    "\n",
    "    import gc; gc.collect()\n",
    "\n",
    "    dd = {}\n",
    "    dd['X'] = X\n",
    "    dd['Y'] = Y\n",
    "    dd['wh'] = wh\n",
    "    dd['non_hit'] = non_hit_cur\n",
    "    dd['analysis_value'] = analysis_value\n",
    "    if par['exit_after'] != 'dat_prep':\n",
    "        dd['scores'] = scores\n",
    "        dd['partial_scores'] = partial_scores\n",
    "    locs_now = dd\n",
    "\n",
    "    ################################################\n",
    "    np.random.seed(0)\n",
    "    script_name = pjoin(scripts_dir,\n",
    "                        'spoc_home_with_prev_error2_orig.py')\n",
    "\n",
    "    with mne.use_log_level('warning'):\n",
    "        ipy.run_line_magic('run', f'-i {script_name} {subject}')\n",
    "\n",
    "    import gc; gc.collect()\n",
    "\n",
    "    dd = {}\n",
    "    dd['X'] = X\n",
    "    dd['Y'] = Y\n",
    "    dd['wh'] = wh\n",
    "    dd['non_hit'] = non_hit_cur\n",
    "    dd['analysis_value'] = analysis_value\n",
    "    if par['exit_after'] != 'dat_prep':\n",
    "        dd['scores'] = scores\n",
    "        dd['partial_scores'] = partial_scores\n",
    "    locs_orig = dd   \n",
    "    \n",
    "    if isinstance(env_to_run,list):\n",
    "        env_to_run = env_to_run[0]\n",
    "    \n",
    "    env2locs[env_to_run] = (locs_orig,locs_now)"
   ]
  },
  {
   "cell_type": "code",
   "execution_count": null,
   "id": "4fbf7a27",
   "metadata": {
    "hidden": true
   },
   "outputs": [],
   "source": [
    "env_to_run"
   ]
  },
  {
   "cell_type": "code",
   "execution_count": null,
   "id": "83734c32",
   "metadata": {
    "hidden": true
   },
   "outputs": [],
   "source": [
    "for env,(locs_orig,locs_now) in env2locs.items():\n",
    "    print(f'------------  {env}')\n",
    "    for vn in locs_orig:\n",
    "        #print('   ',vn)\n",
    "        try:\n",
    "            dif_val = np.max( np.abs( np.array(locs_orig[vn]) - np.array(locs_now[vn]) ) )\n",
    "            print(f'diff {vn:10}, {dif_val:.10f} '   )\n",
    "            if dif_val > 1e-10:\n",
    "                a1 = np.abs( np.array(locs_orig[vn]) )\n",
    "                a2 = np.abs( np.array(locs_now[vn]) )\n",
    "                print(f'  max abs = {np.max(a1):.4f}, {np.max(a2):.4f}')\n",
    "        except Exception as e:\n",
    "            #print(e)\n",
    "            print(vn,    np.all( locs_orig[vn] == locs_now[vn] ) )        "
   ]
  },
  {
   "cell_type": "markdown",
   "id": "7eac13d6",
   "metadata": {
    "heading_collapsed": true,
    "hidden": true
   },
   "source": [
    "### compare one socres type"
   ]
  },
  {
   "cell_type": "code",
   "execution_count": null,
   "id": "31d488a9",
   "metadata": {
    "hidden": true
   },
   "outputs": [],
   "source": [
    "fname = op.join(results_folder,\n",
    "                '%s_%sscores_%s_%s.npy' % (subject, env,\n",
    "                                           analysis_name, freq_name))\n",
    "scores = np.load(fname)\n",
    "fname = op.join(results_folder,\n",
    "                '%s_%spartial_scores_%s_%s.npy' % (subject, env,\n",
    "                                                   analysis_name,\n",
    "                                                   freq_name))\n",
    "partial_scores = np.load(fname)\n",
    "\n",
    "\n",
    "ep = epochs['25', '26', '27', '28', '35']\n",
    "prev_errors_random = np.insert(errors_random, 0, 0)[:-1]\n",
    "prev_targets_random = np.insert(targets_random, 0, 0)[:-1]\n",
    "prev_movement_random = np.insert(movement_random, 0, 0)[:-1]\n",
    "prev_feedback_random = np.insert(feedback_random, 0, 0)[:-1]\n",
    "prev_belief_random = np.insert(belief_random, 0, 0)[:-1]\n",
    "analysis_value = [prev_movement_random, prev_errors_random,\n",
    "                  errors_random, prev_belief_random]\n",
    "non_hit = non_hit_random\n",
    "non_hit = np.array(non_hit)\n",
    "# remove trials following hit (because no previous error)\n",
    "non_hit = ~(~non_hit | ~np.insert(non_hit, 0, 1)[:-1])\n",
    "non_hit[[0, 192]] = False  # Removing first trial of each block\n",
    "X = ep.pick_types(meg=True, ref_meg=False)._data\n",
    "wh = (times > -0.45) & (times < 0.05)\n",
    "X = X[non_hit]\n",
    "X = X[:, :, wh]\n",
    "Y = np.array(analysis_value)\n",
    "Y = Y[:, non_hit].T\n",
    "\n",
    "Y = scale(Y)\n",
    "\n",
    "dd = {}\n",
    "dd['X'] = X\n",
    "dd['Y'] = Y\n",
    "dd['wh'] = wh\n",
    "dd['non_hit'] = non_hit_cur\n",
    "dd['analysis_value'] = analysis_value\n",
    "dd['scores'] = scores\n",
    "dd['partial_scores'] = partial_scores\n",
    "locs_orig = dd  "
   ]
  },
  {
   "cell_type": "code",
   "execution_count": null,
   "id": "207c15b8",
   "metadata": {
    "hidden": true
   },
   "outputs": [],
   "source": []
  },
  {
   "cell_type": "code",
   "execution_count": null,
   "id": "7c2c64d0",
   "metadata": {
    "hidden": true
   },
   "outputs": [],
   "source": [
    "N_short = 40\n",
    "nch_short = 5\n",
    "n_splits_B2B = 10\n",
    "Xshort = X[:N_short,:nch_short,:]; Yshort = Y[:N_short]"
   ]
  },
  {
   "cell_type": "markdown",
   "id": "b3b5e1c9",
   "metadata": {
    "hidden": true
   },
   "source": [
    "## Compare classic"
   ]
  },
  {
   "cell_type": "code",
   "execution_count": null,
   "id": "e60790e5",
   "metadata": {
    "hidden": true
   },
   "outputs": [],
   "source": [
    "Y.shape[1]"
   ]
  },
  {
   "cell_type": "code",
   "execution_count": null,
   "id": "7e0b2b6b",
   "metadata": {
    "hidden": true
   },
   "outputs": [],
   "source": [
    "X = env2locs['stable'][0]['X']\n",
    "Y = env2locs['stable'][0]['Y']\n",
    "\n",
    "np.random.seed(0)\n",
    "cv = KFold(nb_fold, shuffle=False)\n",
    "from mne.decoding import SPoC as SPoC_orig\n",
    "from csp_my import SPoC as SPoC_new\n",
    "\n",
    "\n",
    "spoc_est1 = SPoC_new(n_components=SPoC_n_components, log=True, reg='oas',\n",
    "                                rank='full', n_jobs=n_jobs_per_dim_classical_dec,\n",
    "                                fit_log_level=mne_fit_log_level)\n",
    "est_new1 = make_pipeline(spoc_est1, RidgeCV(alphas=alphas))\n",
    "\n",
    "spoc_est2 = SPoC_new(n_components=SPoC_n_components, log=True, reg='oas',\n",
    "                                rank='full', n_jobs=1,\n",
    "                                fit_log_level=mne_fit_log_level)\n",
    "est_new2 = make_pipeline(spoc_est2, RidgeCV(alphas=alphas))\n",
    "\n",
    "\n",
    "with mne.use_log_level('warning'):\n",
    "    est0 = make_pipeline(SPoC_orig(n_components=5, log=True, reg='oas',\n",
    "                             rank='full'), RidgeCV(alphas=alphas))\n",
    "\n",
    "    scoring = make_scorer(scorer_spearman)\n",
    "    scores = list()\n",
    "    \n",
    "    scores_test_list = []\n",
    "    for ii in range(Y.shape[1]):  # [:1]:\n",
    "        scores_test = {}\n",
    "        scores_test_list.append(scores_test)\n",
    "        y = Y[:, ii]\n",
    "        score = cross_val_multiscore(est, X, y=y, cv=cv, scoring=scoring,\n",
    "                                 n_jobs=n_jobs)\n",
    "        score0 = score\n",
    "        scores_test['orig_multicore'] = score\n",
    "        \n",
    "        score = score.mean(axis=0)\n",
    "        scores.append(score)        \n",
    "        #########################\n",
    "        score = cross_val_multiscore(est, X, y=y, cv=cv, scoring=scoring,\n",
    "                                 n_jobs=1)\n",
    "        score05 = score.mean(axis=0)\n",
    "        scores_test['orig_1core'] = score\n",
    "        #####################################\n",
    "        \n",
    "        score = cross_val_multiscore(est_new1, X, y=y, cv=cv, scoring=scoring,\n",
    "                            n_jobs=n_jobs, \n",
    "                            verbose=classic_dec_verbose)\n",
    "        score1 = score\n",
    "        scores_test['new_multicore1'] = score\n",
    "        #############################\n",
    "                \n",
    "        score = cross_val_multiscore(est_new1, X, y=y, cv=cv, scoring=scoring,\n",
    "                            n_jobs=1, \n",
    "                            verbose=classic_dec_verbose)\n",
    "        score15 = score\n",
    "        scores_test['new_1core'] = score\n",
    "        #############################\n",
    "        \n",
    "        score = cross_val_multiscore(est_new2, X, y=y, cv=cv, scoring=scoring,\n",
    "                            n_jobs=n_jobs, \n",
    "                            verbose=classic_dec_verbose)\n",
    "        score2 = score\n",
    "        scores_test['new2'] = score\n",
    "        ###########################\n",
    "        score = cross_val_multiscore(est_new2, X, y=y, cv=cv, scoring=scoring,\n",
    "                    n_jobs=1, \n",
    "                    verbose=classic_dec_verbose)\n",
    "        score25 = score\n",
    "        scores_test['new2.5'] = score\n",
    "        \n",
    "        ###########################\n",
    "\n",
    "scores = np.array(scores)\n",
    "scores_orig = scores"
   ]
  },
  {
   "cell_type": "code",
   "execution_count": null,
   "id": "5c2c360d",
   "metadata": {
    "hidden": true
   },
   "outputs": [],
   "source": [
    "for scores_test in scores_test_list:\n",
    "    for n,v in scores_test.items():\n",
    "        print(f'{n:15} ,{v}')"
   ]
  },
  {
   "cell_type": "code",
   "execution_count": null,
   "id": "a7e4eac8",
   "metadata": {
    "hidden": true
   },
   "outputs": [],
   "source": [
    "scores_orig"
   ]
  },
  {
   "cell_type": "code",
   "execution_count": null,
   "id": "abb78e74",
   "metadata": {
    "hidden": true
   },
   "outputs": [],
   "source": [
    "del est,spoc_est"
   ]
  },
  {
   "cell_type": "code",
   "execution_count": null,
   "id": "6a48ebba",
   "metadata": {
    "hidden": true
   },
   "outputs": [],
   "source": [
    "est_parallel_across_dims = 1\n",
    "np.random.seed(0)\n",
    "from csp_my import SPoC as SPoC_new\n",
    "from mne.decoding import SPoC as SPoC_orig\n",
    "\n",
    "spoc_est_orig = SPoC_orig(n_components=SPoC_n_components, log=True, reg='oas',\n",
    "                                rank='full')\n",
    "est_orig = make_pipeline(spoc_est_orig, RidgeCV(alphas=alphas))\n",
    "##\n",
    "# spoc_est = SPoC_new(n_components=SPoC_n_components, log=True, reg='oas',\n",
    "#                                 rank='full', n_jobs=n_jobs_per_dim_classical_dec,\n",
    "#                                 fit_log_level=mne_fit_log_level)\n",
    "# est = make_pipeline(spoc_est, RidgeCV(alphas=alphas))\n",
    "\n",
    "\n",
    "est = est_orig\n",
    "\n",
    "\n",
    "if do_classic_dec:\n",
    "    print(f'-------- Start classic decoding '\n",
    "        f'est_parallel_across_dims={est_parallel_across_dims} for {n_jobs} jobs')\n",
    "    scoring = make_scorer(scorer_spearman)\n",
    "    scores = list()\n",
    "    # over all dims\n",
    "    def _est_run(est,XX,yy,cv,scoring,n_jobs,seed):\n",
    "        if seed >= 0:\n",
    "            np.random.seed(seed)\n",
    "        #scoring = make_scorer(scorer_spearman)\n",
    "        cv = KFold(nb_fold, shuffle=True)\n",
    "\n",
    "        with mne.use_log_level(mne_fit_log_level):\n",
    "            score = cross_val_multiscore(est, XX, y=yy, cv=cv, scoring=scoring,\n",
    "                                        n_jobs=n_jobs, \n",
    "                                        verbose=classic_dec_verbose)\n",
    "        score = score.mean(axis=0)\n",
    "        return score\n",
    "\n",
    "    seeds = np.random.randint(n_jobs * 20,size=dim)\n",
    "    if est_parallel_across_dims and n_jobs > 1:        \n",
    "        scores = Parallel(n_jobs=n_jobs)(\n",
    "            delayed(_est_run)(est,X,Y[:,dimi],\n",
    "                              cv,scoring,n_jobs_per_dim_classical_dec,seed ) \\\n",
    "                for dimi,seed in zip(np.arange(dim ),seeds) )\n",
    "    else:\n",
    "        for dimi in range(dim):\n",
    "            y = Y[:, dimi]\n",
    "            score = _est_run(est,X,y,cv,scoring,n_jobs_per_dim_classical_dec, -1)\n",
    "            scores.append(score)\n",
    "    scores = np.array(scores)\n",
    "\n",
    "    scores_new = scores\n",
    "\n",
    "display( scores_new - scores_orig )"
   ]
  },
  {
   "cell_type": "code",
   "execution_count": null,
   "id": "6ec94b05",
   "metadata": {
    "hidden": true
   },
   "outputs": [],
   "source": [
    "display( scores_new - scores_orig )"
   ]
  },
  {
   "cell_type": "code",
   "execution_count": null,
   "id": "0304be94",
   "metadata": {
    "hidden": true
   },
   "outputs": [],
   "source": []
  },
  {
   "cell_type": "code",
   "execution_count": null,
   "id": "c1692b11",
   "metadata": {
    "hidden": true
   },
   "outputs": [],
   "source": [
    "# when SPoC_new\n",
    "scores_new - scores_orig"
   ]
  },
  {
   "cell_type": "code",
   "execution_count": null,
   "id": "e61f4449",
   "metadata": {
    "hidden": true
   },
   "outputs": [],
   "source": [
    "X.shape, Y.shape"
   ]
  },
  {
   "cell_type": "markdown",
   "id": "457e3c58",
   "metadata": {
    "heading_collapsed": true,
    "hidden": true
   },
   "source": [
    "## Compare b2b"
   ]
  },
  {
   "cell_type": "code",
   "execution_count": null,
   "id": "d27d9fe4",
   "metadata": {
    "hidden": true
   },
   "outputs": [],
   "source": [
    "from base2_orig import B2B_SPoC as B2B_SPoC_orig\n",
    "from mne.decoding import SPoC as SPoC_orig\n",
    "\n",
    "np.random.seed(0)\n",
    "\n",
    "#Y = scale(Y)\n",
    "G = make_pipeline(SPoC_orig(n_components=5, log=True, reg='oas',                       rank='full'),\n",
    "                  RidgeCV(alphas=alphas, fit_intercept=False))\n",
    "H = LinearRegression(fit_intercept=False)\n",
    "b2b = B2B_SPoC_orig(G=G, H=H, n_splits=n_splits_B2B)\n",
    "\n",
    "with mne.use_log_level('warning'):\n",
    "    b2b.fit(Xshort, Yshort)\n",
    "partial_scores = np.diag(b2b.E_)\n",
    "\n",
    "partial_scores_orig = partial_scores\n",
    "\n",
    "###############################"
   ]
  },
  {
   "cell_type": "code",
   "execution_count": null,
   "id": "817c1c0a",
   "metadata": {
    "hidden": true
   },
   "outputs": [],
   "source": [
    "#del partial_scores"
   ]
  },
  {
   "cell_type": "code",
   "execution_count": null,
   "id": "146ced2c",
   "metadata": {
    "hidden": true
   },
   "outputs": [],
   "source": [
    "from csp_my import SPoC as SPoC_new\n",
    "from base2 import B2B_SPoC as B2B_SPoC_new\n",
    "from base2_orig import B2B_SPoC as B2B_SPoC_orig\n",
    "\n",
    "np.random.seed(0)\n",
    "\n",
    "spoc = SPoC_new(n_components=SPoC_n_components, log=True, reg='oas',\n",
    "                            rank='full', n_jobs=n_jobs_SPoC)\n",
    "G = make_pipeline(spoc, RidgeCV(alphas=alphas, fit_intercept=False))\n",
    "H = LinearRegression(fit_intercept=False, n_jobs= n_jobs_SPoC)\n",
    "b2b = B2B_SPoC_new(G=G, H=H, n_splits=n_splits_B2B,\n",
    "        parallel_type='across_splits_and_dims',n_jobs=n_jobs)\n",
    "b2b2 = B2B_SPoC_orig(G=G, H=H, n_splits=n_splits_B2B)\n",
    "\n",
    "\n",
    "b2b = B2B_SPoC_new(G=G, H=H, n_splits=n_splits_B2B,\n",
    "        parallel_type='across_splits',n_jobs=n_jobs)\n",
    "#Y = scale(Y)\n",
    "b2b.fit(Xshort, Yshort)\n",
    "partial_scores = np.diag(b2b.E_)\n",
    "\n",
    "#b2b2.fit(Xshort, Yshort)\n",
    "#partial_scores = np.diag(b2b2.E_)\n",
    "\n",
    "partial_scores_new = partial_scores"
   ]
  },
  {
   "cell_type": "code",
   "execution_count": null,
   "id": "2c58b280",
   "metadata": {
    "hidden": true
   },
   "outputs": [],
   "source": [
    "# when I use original B2B_SPoC_orig, the scores agree\n",
    "# when parallel_type = across_splits --- also agree (and looks even faster)\n",
    "# when not orig -- they disagree"
   ]
  },
  {
   "cell_type": "code",
   "execution_count": null,
   "id": "8c155874",
   "metadata": {
    "hidden": true
   },
   "outputs": [],
   "source": [
    "np.max( np.abs( partial_scores_orig - partial_scores_new ) )"
   ]
  },
  {
   "cell_type": "code",
   "execution_count": null,
   "id": "148b6155",
   "metadata": {
    "hidden": true
   },
   "outputs": [],
   "source": [
    "partial_scores_new"
   ]
  },
  {
   "cell_type": "code",
   "execution_count": null,
   "id": "652c3721",
   "metadata": {
    "hidden": true
   },
   "outputs": [],
   "source": [
    "np.all( locs_orig['wh'] == locs_now['wh'] )"
   ]
  },
  {
   "cell_type": "code",
   "execution_count": null,
   "id": "d2f32496",
   "metadata": {
    "hidden": true
   },
   "outputs": [],
   "source": [
    " np.all( locs_orig['non_hit'] == locs_now['non_hit']  )"
   ]
  },
  {
   "cell_type": "code",
   "execution_count": null,
   "id": "a6b2b64a",
   "metadata": {
    "hidden": true
   },
   "outputs": [],
   "source": [
    "np.array(locs_orig['analysis_value'"
   ]
  },
  {
   "cell_type": "code",
   "execution_count": null,
   "id": "44134376",
   "metadata": {
    "hidden": true
   },
   "outputs": [],
   "source": [
    " np.max(np.abs( np.array(locs_orig['analysis_value']) - np.array(locs_now['analysis_value']  )) )"
   ]
  },
  {
   "cell_type": "code",
   "execution_count": null,
   "id": "5af8cc90",
   "metadata": {
    "hidden": true
   },
   "outputs": [],
   "source": []
  }
 ],
 "metadata": {
  "kernelspec": {
   "display_name": "Python 3 (ipykernel)",
   "language": "python",
   "name": "python3"
  },
  "language_info": {
   "codemirror_mode": {
    "name": "ipython",
    "version": 3
   },
   "file_extension": ".py",
   "mimetype": "text/x-python",
   "name": "python",
   "nbconvert_exporter": "python",
   "pygments_lexer": "ipython3",
   "version": "3.9.12"
  }
 },
 "nbformat": 4,
 "nbformat_minor": 5
}
