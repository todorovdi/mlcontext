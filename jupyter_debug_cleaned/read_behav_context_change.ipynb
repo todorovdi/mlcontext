{
 "cells": [
  {
   "cell_type": "code",
   "execution_count": null,
   "id": "85c6baca",
   "metadata": {},
   "outputs": [],
   "source": [
    "%load_ext autoreload\n",
    "%autoreload 2\n",
    "\n",
    "import os\n",
    "ipy = get_ipython()\n",
    "#data_dir_general = '/home/demitau/data_Quentin'\n",
    "#data_subdir_mem_err_main = 'full_experiments/data2'\n",
    "from os.path import join as pjoin\n",
    "import os,sys; sys.path.append(os.path.expandvars('$CODE_MEMORY_ERRORS'))\n",
    "import error_sensitivity\n",
    "#data_dir_input = pjoin(data_dir_general,data_subdir_mem_err_main)\n",
    "import pandas as pd\n",
    "\n",
    "#data_dir_general = '/home/demitau/data_Quentin'\n",
    "#data_subdir_mem_err_main = 'full_experiments/data2'\n",
    "#data_dir_input = pjoin(data_dir_general,data_subdir_mem_err_main)\n",
    "#scripts_dir = pjoin(data_dir_general,'full_experiments','scripts2')\n",
    "\n",
    "data_dir_general = os.path.expandvars('$DATA_QUENTIN')\n",
    "data_dir_input = os.path.expandvars('$DATA_MEMORY_ERRORS_STAB_AND_STOCH')\n",
    "#scripts_dir = pjoin( os.path.expandvars('$CODE_MEMORY_ERRORS'), 'previous_analyses')\n",
    "scripts_dir = pjoin( os.path.expandvars('$CODE_MEMORY_ERRORS'))\n",
    "\n",
    "\n",
    "\n",
    "import numpy as np"
   ]
  },
  {
   "cell_type": "code",
   "execution_count": null,
   "id": "a9948851",
   "metadata": {},
   "outputs": [],
   "source": [
    "import matplotlib.pyplot as plt\n",
    "import seaborn as sns\n",
    "print('seaborn ver = ', sns.__version__)\n",
    "#assert sns.__version__ == '0.12.2', sns.__version__\n",
    "import matplotlib as mpl\n",
    "COLOR = 'black'\n",
    "mpl.rcParams['text.color'] = COLOR\n",
    "mpl.rcParams['axes.labelcolor'] = COLOR\n",
    "mpl.rcParams['xtick.color'] = COLOR\n",
    "mpl.rcParams['ytick.color'] = COLOR\n",
    "\n",
    "\n",
    "sns.set(rc={'axes.facecolor':'white', 'figure.facecolor':'white',\n",
    "           'grid.color':'grey', 'grid.alpha':0.5})\n",
    "\n",
    "tgtc = ['b','g','r','brown']"
   ]
  },
  {
   "cell_type": "code",
   "execution_count": null,
   "id": "547f0e65",
   "metadata": {},
   "outputs": [],
   "source": [
    "dfs = []"
   ]
  },
  {
   "cell_type": "markdown",
   "id": "152db09d",
   "metadata": {
    "heading_collapsed": true
   },
   "source": [
    "## Pilot 17 March"
   ]
  },
  {
   "cell_type": "code",
   "execution_count": null,
   "id": "3bb59f51",
   "metadata": {
    "hidden": true
   },
   "outputs": [],
   "source": [
    "d = '/home/demitau/data_Quentin/pilot_studies/context_change_behav/'\n",
    "#fnb = 'dima_test_context_change_20230309_164851'\n",
    "fnb = '2023-SE1-pilot3_context_change_20230317_105210'\n",
    "fn = fnb + '.log'\n",
    "fnp = fnb + '.param'\n",
    "\n",
    "with open(pjoin(d,fn), 'r') as f:\n",
    "     l = f.readline()\n",
    "     truelen = len( l.split(',') )\n",
    "\n",
    "r = ('trial_index, current_phase_trigger, tgti_to_show,'\n",
    "   ' vis_feedback_type, trial_type, special_block_type, block_ind, '\n",
    "    ' feedbackX, feedbackY, unpert_feedbackX, unpert_feedbackY,'\n",
    "     ' error_distance, target_coordX, target_coordY, '\n",
    "     'feedbackX_when_crossing, feedbackY_when_crossing, '\n",
    "     'jax1, jax2, reward, time')\n",
    "r = r.replace(' ','')\n",
    "colnames = r.split(',')\n",
    "print('len(colnames) = ',len(colnames),'truelen = ',truelen,colnames)\n",
    "\n",
    "nbad = 3  # recompense strip\n",
    "#colnames = ['trial_index', 'current_phase_']\n",
    "df = pd.read_csv(pjoin(d,fn), skipfooter = nbad, on_bad_lines='warn', header=0,\n",
    "                names=colnames, encoding='latin1')\n",
    "#encoding='latin-1'\n",
    "#subj = fnb.split('_')[0]\n",
    "subj = '2023-SE1-pilot3'\n",
    "df['subject'] = subj\n",
    "dfs += [df]"
   ]
  },
  {
   "cell_type": "markdown",
   "id": "2699ac70",
   "metadata": {
    "heading_collapsed": true
   },
   "source": [
    "## Romain 24 Feb"
   ]
  },
  {
   "cell_type": "code",
   "execution_count": null,
   "id": "698afa26",
   "metadata": {
    "hidden": true
   },
   "outputs": [],
   "source": [
    "d = '/home/demitau/data_Quentin/pilot_studies/context_change_behav/'\n",
    "fnb = 'Romain_context_change_20230224_101925'\n",
    "fn = fnb + '.log'\n",
    "fnp = fnb + '.param'\n",
    "\n",
    "\n",
    "# march 8 version\n",
    "# r = 'trial_index, current_phase_trigger, tgti_to_show, vis_feedback_type, trial_type, special_block_type, cursorX, cursorY, feedbackX, feedbackY, unpert_feedbackX, unpert_feedbackY, error_distance, feedbackX_when_crossing, feedbackY_when_crossing, time'\n",
    "# before change on Jan 10\n",
    "\n",
    "r = ('trial_index, current_phase_trigger, tgti_to_show,'\n",
    "   ' vis_feedback_type, trial_type, special_block_type, '\n",
    "    ' feedbackX, feedbackY, unpert_feedbackX, unpert_feedbackY,'\n",
    "     ' error_distance, feedbackX_when_crossing, feedbackY_when_crossing, time')\n",
    "r = r.replace(' ','')\n",
    "colnames = r.split(',')\n",
    "print(len(colnames),colnames)\n",
    "\n",
    "nbad = 0\n",
    "#colnames = ['trial_index', 'current_phase_']\n",
    "df = pd.read_csv(pjoin(d,fn), skipfooter = nbad, on_bad_lines='warn', header=0,\n",
    "                names=colnames)\n",
    "subj = fnb.split('_')[0].lower()\n",
    "df['subject'] = subj\n",
    "dfs += [df]"
   ]
  },
  {
   "cell_type": "markdown",
   "id": "f54cd014",
   "metadata": {
    "heading_collapsed": true
   },
   "source": [
    "## Pauline 22 Feb"
   ]
  },
  {
   "cell_type": "code",
   "execution_count": null,
   "id": "4c7e5477",
   "metadata": {
    "hidden": true
   },
   "outputs": [],
   "source": [
    "d = '/home/demitau/data_Quentin/pilot_studies/context_change_behav/'\n",
    "fnb = 'pauline_context_change_20230222_114006'\n",
    "#pauline_context_change_20230222_094928\n",
    "#pauline_context_change_20230222_094319\n",
    "fn = fnb + '.log'\n",
    "fnp = fnb + '.param'\n",
    "\n",
    "r = ('trial_index, current_phase_trigger, tgti_to_show,'\n",
    "   ' vis_feedback_type, trial_type, special_block_type, '\n",
    "    ' feedbackX, feedbackY, unpert_feedbackX, unpert_feedbackY,'\n",
    "     ' error_distance, feedbackX_when_crossing, feedbackY_when_crossing, time')\n",
    "r = r.replace(' ','')\n",
    "colnames = r.split(',')\n",
    "print(len(colnames),colnames)\n",
    "\n",
    "nbad = 0\n",
    "#colnames = ['trial_index', 'current_phase_']\n",
    "df = pd.read_csv(pjoin(d,fn), skipfooter = nbad, on_bad_lines='warn', header=0,\n",
    "                names=colnames)\n",
    "subj = fnb.split('_')[0]\n",
    "df['subject'] = subj\n",
    "dfs += [df]"
   ]
  },
  {
   "cell_type": "markdown",
   "id": "f28d8906",
   "metadata": {
    "heading_collapsed": true
   },
   "source": [
    "## Me 9 march"
   ]
  },
  {
   "cell_type": "code",
   "execution_count": null,
   "id": "be307ab1",
   "metadata": {
    "hidden": true
   },
   "outputs": [],
   "source": [
    "d = '/home/demitau/data_Quentin/pilot_studies/context_change_behav/'\n",
    "#fnb = 'dima_test_context_change_20230309_164851'\n",
    "fnb = 'dima2_context_change_20230309_173700'\n",
    "fn = fnb + '.log'\n",
    "fnp = fnb + '.param'\n",
    "\n",
    "r = ('trial_index, current_phase_trigger, tgti_to_show,'\n",
    "   ' vis_feedback_type, trial_type, special_block_type, block_ind, '\n",
    "    ' feedbackX, feedbackY, unpert_feedbackX, unpert_feedbackY,'\n",
    "     ' error_distance, target_coordX, target_coordY, '\n",
    "     'feedbackX_when_crossing, feedbackY_when_crossing, '\n",
    "     'jax1, jax2, time')\n",
    "r = r.replace(' ','')\n",
    "colnames = r.split(',')\n",
    "print(len(colnames),colnames)\n",
    "\n",
    "nbad = 0\n",
    "#colnames = ['trial_index', 'current_phase_']\n",
    "df = pd.read_csv(pjoin(d,fn), skipfooter = nbad, on_bad_lines='warn', header=0,\n",
    "                names=colnames)\n",
    "subj = fnb.split('_')[0]\n",
    "df['subject'] = subj\n",
    "dfs += [df]"
   ]
  },
  {
   "cell_type": "markdown",
   "id": "bad0eeb0",
   "metadata": {
    "heading_collapsed": true
   },
   "source": [
    "## Coum 9 March"
   ]
  },
  {
   "cell_type": "code",
   "execution_count": null,
   "id": "d17ddd93",
   "metadata": {
    "hidden": true
   },
   "outputs": [],
   "source": [
    "d = '/home/demitau/data_Quentin/pilot_studies/context_change_behav/'\n",
    "#fnb = 'dima_test_context_change_20230309_164851'\n",
    "fnb = '2023-SE1-pilot1_context_change_20230309_134121'\n",
    "fn = fnb + '.log'\n",
    "fnp = fnb + '.param'\n",
    "\n",
    "with open(pjoin(d,fn), 'r') as f:\n",
    "     l = f.readline()\n",
    "     truelen = len( l.split(',') )\n",
    "\n",
    "r = ('trial_index, current_phase_trigger, tgti_to_show,'\n",
    "   ' vis_feedback_type, trial_type, special_block_type, block_ind, '\n",
    "    ' feedbackX, feedbackY, unpert_feedbackX, unpert_feedbackY,'\n",
    "     ' error_distance, target_coordX, target_coordY, '\n",
    "     'feedbackX_when_crossing, feedbackY_when_crossing, '\n",
    "     'jax1, jax2, time')\n",
    "r = r.replace(' ','')\n",
    "colnames = r.split(',')\n",
    "print('len(colnames) = ',len(colnames),'truelen = ',truelen,colnames)\n",
    "\n",
    "nbad = 3  # recompense strip\n",
    "#colnames = ['trial_index', 'current_phase_']\n",
    "df = pd.read_csv(pjoin(d,fn), skipfooter = nbad, on_bad_lines='warn', header=0,\n",
    "                names=colnames)\n",
    "#encoding='latin-1'\n",
    "#subj = fnb.split('_')[0]\n",
    "subj = 'coumarane'\n",
    "df['subject'] = subj\n",
    "dfs += [df]"
   ]
  },
  {
   "cell_type": "markdown",
   "id": "6773d86f",
   "metadata": {
    "heading_collapsed": true
   },
   "source": [
    "## Romain 10 March"
   ]
  },
  {
   "cell_type": "code",
   "execution_count": null,
   "id": "9f1340cc",
   "metadata": {
    "hidden": true
   },
   "outputs": [],
   "source": [
    "d = '/home/demitau/data_Quentin/pilot_studies/context_change_behav/'\n",
    "#fnb = 'dima_test_context_change_20230309_164851'\n",
    "fnb = '2023-SE1-pilot2_context_change_20230310_161928'\n",
    "fn = fnb + '.log'\n",
    "fnp = fnb + '.param'\n",
    "\n",
    "with open(pjoin(d,fn), 'r') as f:\n",
    "     l = f.readline()\n",
    "     truelen = len( l.split(',') )\n",
    "\n",
    "r = ('trial_index, current_phase_trigger, tgti_to_show,'\n",
    "   ' vis_feedback_type, trial_type, special_block_type, block_ind, '\n",
    "    ' feedbackX, feedbackY, unpert_feedbackX, unpert_feedbackY,'\n",
    "     ' error_distance, target_coordX, target_coordY, '\n",
    "     'feedbackX_when_crossing, feedbackY_when_crossing, '\n",
    "     'jax1, jax2, reward, time')\n",
    "r = r.replace(' ','')\n",
    "colnames = r.split(',')\n",
    "print('len(colnames) = ',len(colnames),'truelen = ',truelen,colnames)\n",
    "\n",
    "nbad = 3  # recompense strip\n",
    "#colnames = ['trial_index', 'current_phase_']\n",
    "df = pd.read_csv(pjoin(d,fn), skipfooter = nbad, on_bad_lines='warn', header=0,\n",
    "                names=colnames)\n",
    "#encoding='latin-1'\n",
    "#subj = fnb.split('_')[0]\n",
    "subj = 'romain2'\n",
    "df['subject'] = subj\n",
    "dfs += [df]"
   ]
  },
  {
   "cell_type": "markdown",
   "id": "a91bf8b8",
   "metadata": {},
   "source": [
    "## Multi "
   ]
  },
  {
   "cell_type": "code",
   "execution_count": null,
   "id": "d940f229",
   "metadata": {},
   "outputs": [],
   "source": [
    "from glob import glob\n",
    "from pathlib import Path\n",
    "d = '/home/demitau/data_Quentin/pilot_studies/context_change_behav/'\n",
    "for fnf in glob(d + '2023-SE1-0*[0-9].log'):\n",
    "    name = Path(fnf).name\n",
    "    fnb = name.replace('.log','')\n",
    "    print( f'\"{fnb}\",' )\n",
    "    "
   ]
  },
  {
   "cell_type": "code",
   "execution_count": null,
   "id": "6d026ec1",
   "metadata": {},
   "outputs": [],
   "source": [
    "fnbs = ['2023-SE1-pilot3_context_change_20230317_105210',\n",
    "    \"2023-SE1-002_context_change_20230321_180931\",\n",
    "\"2023-SE1-007_context_change_20230324_154812\",\n",
    "\"2023-SE1-003_context_change_20230322_092232\",\n",
    "\"2023-SE1-008_context_change_20230327_141647\",\n",
    "\"2023-SE1-005_context_change_20230324_111853\",\n",
    "\"2023-SE1-004_context_change_20230322_110259\",\n",
    "\"2023-SE1-001_context_change_20230321_161726\",\n",
    "\"2023-SE1-006_context_change_20230324_131657\",]"
   ]
  },
  {
   "cell_type": "code",
   "execution_count": null,
   "id": "ca5b68d3",
   "metadata": {},
   "outputs": [],
   "source": [
    "dfs = []\n",
    "for fnb in fnbs:\n",
    "    fn = fnb + '.log'\n",
    "    fnp = fnb + '.param'\n",
    "\n",
    "    with open(pjoin(d,fn), 'r') as f:\n",
    "         l = f.readline()\n",
    "         truelen = len( l.split(',') )\n",
    "\n",
    "    r = ('trial_index, current_phase_trigger, tgti_to_show,'\n",
    "       ' vis_feedback_type, trial_type, special_block_type, block_ind, '\n",
    "        ' feedbackX, feedbackY, unpert_feedbackX, unpert_feedbackY,'\n",
    "         ' error_distance, target_coordX, target_coordY, '\n",
    "         'feedbackX_when_crossing, feedbackY_when_crossing, '\n",
    "         'jax1, jax2, reward, time')\n",
    "    r = r.replace(' ','')\n",
    "    colnames = r.split(',')\n",
    "    print('len(colnames) = ',len(colnames),'truelen = ',truelen,colnames)\n",
    "\n",
    "    nbad = 3  # recompense strip\n",
    "    #colnames = ['trial_index', 'current_phase_']\n",
    "    df = pd.read_csv(pjoin(d,fn), skipfooter = nbad, on_bad_lines='warn', header=0,\n",
    "                    names=colnames, encoding='latin1')\n",
    "    #encoding='latin-1'\n",
    "    subj = fnb.split('_')[0]    \n",
    "    df['subject'] = subj\n",
    "    dfs += [df]"
   ]
  },
  {
   "cell_type": "markdown",
   "id": "e88cf5d4",
   "metadata": {},
   "source": [
    "# Main"
   ]
  },
  {
   "cell_type": "code",
   "execution_count": null,
   "id": "8442e9d1",
   "metadata": {},
   "outputs": [],
   "source": [
    "df_unproc = pd.concat( dfs ).reset_index()\n",
    "\n",
    "df_unproc = df_unproc.drop(labels=['index'],axis=1)\n",
    "df_unproc"
   ]
  },
  {
   "cell_type": "code",
   "execution_count": null,
   "id": "3c47ad7e",
   "metadata": {},
   "outputs": [],
   "source": [
    "subjects = list( sorted( df['subject'].unique() ) )\n",
    "print(subjects)"
   ]
  },
  {
   "cell_type": "code",
   "execution_count": null,
   "id": "02281fb4",
   "metadata": {},
   "outputs": [],
   "source": [
    "import gc; gc.collect()"
   ]
  },
  {
   "cell_type": "code",
   "execution_count": null,
   "id": "954cc9b0",
   "metadata": {},
   "outputs": [],
   "source": [
    "from behav_proc import readParamFiles, addBasicInfo, getGeomInfo\n",
    "fnp = fnb + '.param'\n",
    "params, phase2trigger, trigger2phase, stage2pars  = readParamFiles(fnp, d)\n",
    "home_position, target_coords = getGeomInfo(params)\n",
    "hitr = float(params['radius_target']) + float(params['radius_cursor']) / 2\n",
    "\n",
    "load = False\n",
    "#load = True\n",
    "if load:\n",
    "    dfc = pd.read_pickle(pjoin(d,'row=frame.pkl.zip'))\n",
    "    dfcc   = pd.read_pickle(pjoin(d,'row=trial.pkl.zip'))\n",
    "    dfcpc  = pd.read_pickle(pjoin(d,'row=pause.pkl.zip'))\n",
    "    dfctc  = pd.read_pickle(pjoin(d,'row=target_chagne.pkl.zip'))\n",
    "else:\n",
    "    dfcs = []; dfccs = []; dfcpcs = []; dfctcs = [];    \n",
    "    for df in dfs:\n",
    "        print('---------------  Starting processing new df')                    \n",
    "        dfc, dfcc, dfcpc, dfctc = addBasicInfo(df, phase2trigger, params,\n",
    "                                             home_position, target_coords)\n",
    "\n",
    "\n",
    "        dfcc['nonhit'] = dfcc['error_distance'] > hitr\n",
    "        dfcs += [dfc]; dfccs += [dfcc]; dfcpcs += [dfcpc]; dfctcs += [dfctc];            \n",
    "        \n",
    "    dfc = pd.concat(dfcs)\n",
    "    dfcc = pd.concat(dfccs)\n",
    "    dfcpc = pd.concat(dfcpcs)\n",
    "    dfctc = pd.concat(dfctcs)\n",
    "\n",
    "    df_unproc.to_pickle(pjoin(d,'row=frame_unproc.pkl.zip'),compression='zip')\n",
    "    dfc.to_pickle(pjoin(d,'row=frame.pkl.zip'),compression='zip')\n",
    "    dfcc.to_pickle(pjoin(d,'row=trial.pkl.zip'),compression='zip')\n",
    "    dfcpc.to_pickle(pjoin(d,'row=pause.pkl.zip'),compression='zip')\n",
    "    dfctc.to_pickle(pjoin(d,'row=target_chagne.pkl.zip'),compression='zip')\n",
    "\n",
    "    import shutil\n",
    "    d2 = '/home/demitau/current/output/memerr/workstation_CRNL'\n",
    "    for fnf in glob(pjoin(d,'row=*')):\n",
    "        name2 = Path(fnf).name\n",
    "        fnf2 = pjoin(d2, name2)\n",
    "        print(fnf,fnf2)\n",
    "        shutil.copyfile(fnf, fnf2)"
   ]
  },
  {
   "cell_type": "code",
   "execution_count": null,
   "id": "a1fcdf55",
   "metadata": {},
   "outputs": [],
   "source": [
    "#np.minimum(dfcc['error_distance'],1)"
   ]
  },
  {
   "cell_type": "code",
   "execution_count": null,
   "id": "f7ef69a7",
   "metadata": {},
   "outputs": [],
   "source": [
    "dfcc_all  = dfcc\n",
    "dfc_all   = dfc\n",
    "dfcpc_all = dfcpc\n",
    "dfctc_all = dfctc\n",
    "\n",
    "subjects = dfcc_all['subject'].unique()\n",
    "print(subjects)\n",
    "\n",
    "subj = subjects[3]\n",
    "print(subj)\n",
    "dfccos  = dfcc_all.query('subject == @subj')\n",
    "dfcos   = dfc_all.query('subject == @subj')\n",
    "dfcpcos = dfcpc_all.query('subject == @subj')\n",
    "#dfcc = dfccos"
   ]
  },
  {
   "cell_type": "code",
   "execution_count": null,
   "id": "3b592bac",
   "metadata": {},
   "outputs": [],
   "source": [
    "#dfcc_all['traj_length']"
   ]
  },
  {
   "cell_type": "code",
   "execution_count": null,
   "id": "5ee1662b",
   "metadata": {},
   "outputs": [],
   "source": [
    "a = dfcc_all['error_area_signed'].abs()\n",
    "thr = a.quantile(0.05); print(thr)\n",
    "dfcc_all['error_area_signed_nonhit'] = a > thr\n",
    "\n",
    "a = dfcc_all['error_area_signed_scaled_ed'].abs()\n",
    "thr = a.quantile(0.05); print(thr)\n",
    "dfcc_all['error_area_signed_scaled_ed_nonhit'] = a > thr\n",
    "\n",
    "a = dfcc_all['error_lh_ang'].abs()\n",
    "thr = a.quantile(0.05); print(thr)\n",
    "dfcc_all['error_lh_ang_nonhit'] = a > thr\n",
    "\n",
    "a = dfcc_all['error_area_signed_nn_scaled_ed'].abs()\n",
    "thr = a.quantile(5e-2); print(thr)\n",
    "dfcc_all['error_area_signed_nn_scaled_ed_nonhit'] = a > thr"
   ]
  },
  {
   "cell_type": "code",
   "execution_count": null,
   "id": "b8434a05",
   "metadata": {},
   "outputs": [],
   "source": [
    "ynames = ['error_endpoint_ang', 'error_lh_ang', 'error_unpert_lh_ang', 'error_area_ofb_signed', \n",
    "      'error_area_signed', 'error_area_signed_scaled_ed']\n",
    "#dfcclline[ynames].plot(x='trial_index')\n",
    "for yname in ynames:\n",
    "    plt.figure(figsize=(12,3))\n",
    "    ax = sns.lineplot(dfccos, x='trial_index', y= yname)\n",
    "    ax.axhline(y=0, c='r')"
   ]
  },
  {
   "cell_type": "code",
   "execution_count": null,
   "id": "edb86410",
   "metadata": {},
   "outputs": [],
   "source": [
    "dfcc_all.columns"
   ]
  },
  {
   "cell_type": "code",
   "execution_count": null,
   "id": "31450c1e",
   "metadata": {
    "run_control": {
     "marked": true
    }
   },
   "outputs": [],
   "source": [
    "# ax = sns.lineplot(dfccos, x='trial_index', y='error_area_ofb_signed')\n",
    "# ax = sns.lineplot(dfccos, x='trial_index', y='error_area_signed', ax=ax.twinx(), c='g' )"
   ]
  },
  {
   "cell_type": "markdown",
   "id": "eac8f98d",
   "metadata": {},
   "source": [
    "#### dbg"
   ]
  },
  {
   "cell_type": "markdown",
   "id": "113dd56e",
   "metadata": {},
   "source": [
    "### Hit counts"
   ]
  },
  {
   "cell_type": "code",
   "execution_count": null,
   "id": "d5a6af2c",
   "metadata": {},
   "outputs": [],
   "source": [
    "colns_nonhit = ['nonhit', 'error_area_signed_nonhit',\n",
    "       'error_area_signed_scaled_ed_nonhit', 'error_lh_ang_nonhit']"
   ]
  },
  {
   "cell_type": "markdown",
   "id": "5a006c35",
   "metadata": {
    "heading_collapsed": true
   },
   "source": [
    "#### global"
   ]
  },
  {
   "cell_type": "code",
   "execution_count": null,
   "id": "9a12f936",
   "metadata": {
    "hidden": true
   },
   "outputs": [],
   "source": [
    "dftmp"
   ]
  },
  {
   "cell_type": "code",
   "execution_count": null,
   "id": "9aacb57c",
   "metadata": {
    "hidden": true
   },
   "outputs": [],
   "source": [
    "dftmp = dfcc_all.query('trial_type != \"error_clamp\" and '\n",
    "                       'special_block_type != \"error_clamp_sandwich\"').copy()\n",
    "#dftmp['nonhit']\n",
    "nh = dftmp[['subject']  + colns_nonhit]\n",
    "\n",
    "for coln in colns_nonhit:\n",
    "    print('############################# ',coln)\n",
    "    nh2 = nh.groupby(['subject',coln]).size().reset_index()\n",
    "    #nh2\n",
    "    #nh2.groupby('nonhit')[0].mean()\n",
    "\n",
    "    totsz = dftmp.groupby(['subject']).size().reset_index()\n",
    "    totsz = totsz.set_index('subject')\n",
    "    totsz = totsz.rename(columns={0:'num_trials_nonspecial'})\n",
    "    #totsz = totsz.to_dict('index')\n",
    "\n",
    "    numhit = nh[~nh[coln]].groupby('subject').size().reset_index().set_index('subject')#.to_dict('index')\n",
    "    numhit = numhit.rename(columns={0:'numhit'})\n",
    "\n",
    "    dfr = pd.concat( [totsz, numhit], axis=1)\n",
    "    dfr['prophit'] = dfr['numhit'] / dfr['num_trials_nonspecial']\n",
    "\n",
    "    \n",
    "    me = dfr.mean().reset_index().rename(columns={0: '_mean'}).set_index('index')\n",
    "    std = dfr.std().reset_index().rename(columns={0: '_std'}).set_index('index')\n",
    "    \n",
    "    mestd = pd.concat([me, std], axis=1)\n",
    "    display(mestd)\n",
    "\n",
    "    #dfr.reset_index()"
   ]
  },
  {
   "cell_type": "markdown",
   "id": "c4165b99",
   "metadata": {
    "heading_collapsed": true
   },
   "source": [
    "#### within context"
   ]
  },
  {
   "cell_type": "code",
   "execution_count": null,
   "id": "64bd1d38",
   "metadata": {
    "hidden": true
   },
   "outputs": [],
   "source": [
    "dftmp = dfcc_all.query('trial_type != \"error_clamp\" and '\n",
    "                       'special_block_type != \"error_clamp_sandwich\"').copy()\n",
    "#dftmp['nonhit']\n",
    "colns_context = ['vis_feedback_type', 'tgti_to_show']\n",
    "nh = dftmp[['subject']  + colns_nonhit + colns_context]\n",
    "\n",
    "for coln in colns_nonhit:\n",
    "    print('############################# ',coln)\n",
    "    nh2 = nh.groupby(['subject'] + colns_context + [coln]).size().reset_index()\n",
    "    #nh2\n",
    "    #nh2.groupby('nonhit')[0].mean()\n",
    "\n",
    "    totsz = dftmp.groupby(['subject'] + colns_context).size().reset_index()\n",
    "    totsz = totsz.set_index(['subject'] + colns_context)\n",
    "    totsz = totsz.rename(columns={0:'num_ns'})\n",
    "    #totsz = totsz.to_dict('index')\n",
    "\n",
    "    numhit = nh[~nh[coln]].groupby(['subject'] + colns_context).size().reset_index()\n",
    "    numhit = numhit.rename(columns={0:'numhit'})\n",
    "    numhit = numhit.reset_index().set_index(['subject'] + colns_context)\n",
    "\n",
    "    dfr = pd.concat( [totsz, numhit], axis=1).drop(labels=['index'], axis=1)\n",
    "    dfr['prophit'] = dfr['numhit'] / dfr['num_ns']\n",
    "\n",
    "    grp = dfr.groupby(colns_context)\n",
    "    \n",
    "    colns = ['num_ns','numhit','prophit']\n",
    "    colns2 = [coln + '_mean' for coln in colns]\n",
    "    rename_dict = dict(zip(colns,colns2))\n",
    "    me = grp.mean().reset_index().rename(columns = rename_dict).set_index(colns_context)\n",
    "\n",
    "    colns2 = [coln + '_std' for coln in colns]\n",
    "    rename_dict = dict(zip(colns,colns2))\n",
    "    std = grp.std().reset_index().rename(columns = rename_dict).set_index(colns_context)\n",
    "\n",
    "    mestd = pd.concat([me, std], axis=1)\n",
    "    display(mestd)"
   ]
  },
  {
   "cell_type": "markdown",
   "id": "43a9da70",
   "metadata": {
    "heading_collapsed": true
   },
   "source": [
    "#### reaction time hit vs nonhit"
   ]
  },
  {
   "cell_type": "code",
   "execution_count": null,
   "id": "cdd8944d",
   "metadata": {
    "hidden": true
   },
   "outputs": [],
   "source": [
    "colns_time = ['time_lh', 'time_mvt']\n",
    "\n",
    "dftmp = dfcc_all.query('trial_type != \"error_clamp\" and '\n",
    "                       'special_block_type != \"error_clamp_sandwich\"').copy()\n",
    "dfrs = []\n",
    "for coln in colns_nonhit:\n",
    "    print('############################# ',coln)\n",
    "    grp = dftmp[ [coln] + colns_time].groupby(coln)\n",
    "\n",
    "    colns_res = []\n",
    "    colns2 = [coln + '_mean' for coln in colns_time]\n",
    "    colns_res += colns2\n",
    "    rename_dict = dict(zip(colns_time,colns2))\n",
    "    me = grp.mean().reset_index().rename(columns = rename_dict).set_index(coln)\n",
    "\n",
    "    colns2 = [coln + '_std' for coln in colns_time]\n",
    "    colns_res += colns2\n",
    "    rename_dict = dict(zip(colns_time,colns2))\n",
    "    #std = dfcc_all.groupby(coln)[colns_time].std()\n",
    "    std = grp.std().reset_index().rename(columns = rename_dict).set_index(coln)\n",
    "    dfr = pd.concat([me,std],axis=1)\n",
    "    dfr['coln'] = coln\n",
    "    dfr = dfr.reset_index().rename(columns={coln:'coln_val'})\n",
    "    colnstmp = list(dfr.columns)\n",
    "    dfrs += [dfr[ colnstmp[-1:] + colnstmp[0:-1]  ] ]\n",
    "pd.concat(dfrs)\n",
    "    #display(dfr)\n",
    "    #[ [coln] + colns_res  ]"
   ]
  },
  {
   "cell_type": "markdown",
   "id": "e5846f70",
   "metadata": {
    "heading_collapsed": true
   },
   "source": [
    "### row2multierr_test"
   ]
  },
  {
   "cell_type": "code",
   "execution_count": null,
   "id": "ddb84578",
   "metadata": {
    "hidden": true
   },
   "outputs": [],
   "source": [
    "tests = ['unpert_traj_ideal',\n",
    "'unpert_traj_rot',\n",
    "'unpert_zig_left',\n",
    "'unpert_zig_right',\n",
    "'unpert_zigzag_left',\n",
    "'pert_zig_left',\n",
    "'pert_zig_rigth',\n",
    "'pert_traj_ideal']"
   ]
  },
  {
   "cell_type": "code",
   "execution_count": null,
   "id": "7868fe4c",
   "metadata": {
    "hidden": true
   },
   "outputs": [],
   "source": [
    "from behav_proc import row2multierr_test\n",
    "test = tests[2]\n",
    "#print('test = ', test)\n",
    "row2multierr_test(home_position,target_coords,params,test_type = test,\n",
    "                 pert = 0, ang_traj_rot=0, nsteps=8)\n",
    "plt.figure()\n",
    "test = tests[3]\n",
    "#print('test = ', test)\n",
    "row2multierr_test(home_position,target_coords,params,test_type = test,\n",
    "                 pert = 0, ang_traj_rot=0, nsteps=8)"
   ]
  },
  {
   "cell_type": "code",
   "execution_count": null,
   "id": "9eedb924",
   "metadata": {
    "hidden": true
   },
   "outputs": [],
   "source": [
    "import scipy\n",
    "scipy.interpolate.interp1d([0,10],[0,100],'linear')(np.arange(10))"
   ]
  },
  {
   "cell_type": "code",
   "execution_count": null,
   "id": "da525ed7",
   "metadata": {
    "hidden": true
   },
   "outputs": [],
   "source": [
    "from behav_proc import row2multierr_test\n",
    "test = tests[0]\n",
    "#print('test = ', test)\n",
    "row2multierr_test(home_position,target_coords,params,test_type = test,\n",
    "                 pert = 5, ang_traj_rot=0)"
   ]
  },
  {
   "cell_type": "code",
   "execution_count": null,
   "id": "b3ac5789",
   "metadata": {
    "hidden": true
   },
   "outputs": [],
   "source": [
    "from behav_proc import row2multierr_test\n",
    "test = tests[1]\n",
    "#print('test = ', test)\n",
    "row2multierr_test(home_position,target_coords,params,test_type = test,\n",
    "                 pert = 4, ang_traj_rot=5)"
   ]
  },
  {
   "cell_type": "code",
   "execution_count": null,
   "id": "aec17a02",
   "metadata": {
    "hidden": true
   },
   "outputs": [],
   "source": [
    "#df_all = addBehavCols(df_all, inplace=1, skip_existing=1, dset = 'Bonaiuto')"
   ]
  },
  {
   "cell_type": "code",
   "execution_count": null,
   "id": "badf62b4",
   "metadata": {
    "hidden": true
   },
   "outputs": [],
   "source": [
    "#df_all['non_hit_not_adj'] = df_all.apply(f,1)"
   ]
  },
  {
   "cell_type": "code",
   "execution_count": null,
   "id": "f890b9e8",
   "metadata": {
    "hidden": true
   },
   "outputs": [],
   "source": [
    "#df_all = dfccos.drop(labels=['index', 'level_0'],axis=1)  #.copy()"
   ]
  },
  {
   "cell_type": "markdown",
   "id": "2725a659",
   "metadata": {},
   "source": [
    "### compute err sens"
   ]
  },
  {
   "cell_type": "code",
   "execution_count": null,
   "id": "da075208",
   "metadata": {},
   "outputs": [],
   "source": [
    "assert 'error' not in dfcc_all.columns\n",
    "df_all = dfcc_all.drop(labels=['index', 'level_0'],axis=1)  #.copy()\n",
    "#df_all['non_hit_not_adj'] = df_all['nonhit']\n",
    "df_all['target_inds']     = df_all['tgti_to_show']\n",
    "df_all['trials']          = df_all['trial_index']\n",
    "\n",
    "# for err sens calc\n",
    "#df_all['error']          = df_all['error_area_signed']\n",
    "\n",
    "subjects_ = list( df_all['subject'].unique() )\n",
    "print(subjects_)"
   ]
  },
  {
   "cell_type": "code",
   "execution_count": null,
   "id": "8ef72452",
   "metadata": {},
   "outputs": [],
   "source": [
    "#df_all_multi_tsz.columns"
   ]
  },
  {
   "cell_type": "code",
   "execution_count": null,
   "id": "932f4948",
   "metadata": {},
   "outputs": [],
   "source": [
    "#df_all.query('error_area_signed > 50000')['error_area_signed'].abs().hist()"
   ]
  },
  {
   "cell_type": "code",
   "execution_count": null,
   "id": "fed4d2e0",
   "metadata": {},
   "outputs": [],
   "source": [
    "gc.collect()"
   ]
  },
  {
   "cell_type": "code",
   "execution_count": null,
   "id": "4e0f0af3",
   "metadata": {},
   "outputs": [],
   "source": [
    "#a[a < 1].hist()"
   ]
  },
  {
   "cell_type": "code",
   "execution_count": null,
   "id": "e2f3f2f3",
   "metadata": {
    "run_control": {
     "marked": false
    }
   },
   "outputs": [],
   "source": [
    "from behav_proc import computeErrSensVersions\n",
    "#envs_cur = ['stable', 'random', 'all']\n",
    "envs_cur = ['all']\n",
    "#tgt_inds_cur = list( dfccos['tgti_to_show'].unique() )  + [None]\n",
    "tgt_inds_cur = [None]\n",
    "\n",
    "block_names_cur = ['all']\n",
    "pertvals_cur = [None]\n",
    "gseqcs_cur = [ None ]\n",
    "dists_rad_from_prevtgt_cur = [None]\n",
    "dists_trial_from_prevtgt_cur = [None]\n",
    "error_type = 'MPE'\n",
    "#time_locked='target'\n",
    "time_locked='trial_end'\n",
    "\n",
    "df_all['environment'] = 1111\n",
    "#df_all['feedbackX'] = 1\n",
    "#df_all['feedbackY'] = 1\n",
    "#%debug\n",
    "# coln_pairs = [('error_area_signed_scaled_ed','error_area_ofb_signed_scaled_ed',\n",
    "#                'error_area_signed_scaled_ed_nonhit','signed_area_scaled_ed'),\n",
    "#            ('error_area_signed','error_area_ofb_signed','error_area_signed_nonhit','signed_area'),\n",
    "#               ('error_lh_ang','error_unpert_lh_ang','error_lh_ang_nonhit','lh_ang')]\n",
    "\n",
    "coln_pairs = [ ('error_area_signed_nn_scaled_ed','error_area_ofb_signed_nn_scaled_ed',\n",
    "               'error_area_signed_nn_scaled_ed_nonhit','signed_area_nn_scaled_ed'),\n",
    "             ('error_lh_ang','error_unpert_lh_ang','error_lh_ang_nonhit','lh_ang')  ]\n",
    "\n",
    "dfouts = []\n",
    "for coln_error,coln_correction_calc,coln_nh, calc_name  in coln_pairs:\n",
    "    df_all_multi_tsz, ndf2vn = computeErrSensVersions(df_all, envs_cur,block_names_cur,\n",
    "                pertvals_cur,gseqcs_cur,tgt_inds_cur,\n",
    "               dists_rad_from_prevtgt_cur,dists_trial_from_prevtgt_cur,\n",
    "                        subj_list = subjects_, error_type=error_type,\n",
    "                        trial_shift_sizes = np.arange(1,5),\n",
    "                        addvars=[], target_info_type = 'locs',                                        \n",
    "                        computation_ver = 'computeErrSens3', \n",
    "                        coln_nh = coln_nh,\n",
    "                        coln_nh_out = coln_nh + '_shifted',\n",
    "                        coln_error =coln_error,  time_locked = time_locked,\n",
    "                        coln_correction_calc = coln_correction_calc,\n",
    "                        verbose=1,)\n",
    "    df_all_multi_tsz['error_data_for_calc'] = calc_name\n",
    "    dfouts += [df_all_multi_tsz]\n",
    "    \n",
    "df_all_multi_tsz = pd.concat(dfouts).reset_index()"
   ]
  },
  {
   "cell_type": "code",
   "execution_count": null,
   "id": "7d7c5234",
   "metadata": {},
   "outputs": [],
   "source": [
    "from behav_proc import truncateDf\n",
    "coln = 'err_sens'\n",
    "dfc_multi_tsz = truncateDf(df_all_multi_tsz, coln, q=0.05, infnan_handling='discard',\n",
    "                          cols_uniqify = ['trial_shift_size','trial_group_col_calc','error_data_for_calc'])\n",
    "dfc_multi_tsz = dfc_multi_tsz.query('dist_rad_from_prevtgt2 != \"nan\"')"
   ]
  },
  {
   "cell_type": "code",
   "execution_count": null,
   "id": "a7f26d23",
   "metadata": {},
   "outputs": [],
   "source": [
    "calc_names = df_all_multi_tsz['error_data_for_calc'].unique(); print(calc_names)"
   ]
  },
  {
   "cell_type": "markdown",
   "id": "ae72ae3f",
   "metadata": {
    "heading_collapsed": true
   },
   "source": [
    "##### test plots"
   ]
  },
  {
   "cell_type": "code",
   "execution_count": null,
   "id": "d41c4d59",
   "metadata": {
    "hidden": true
   },
   "outputs": [],
   "source": [
    "df_all.columns"
   ]
  },
  {
   "cell_type": "code",
   "execution_count": null,
   "id": "4f568f43",
   "metadata": {
    "hidden": true,
    "run_control": {
     "marked": true
    }
   },
   "outputs": [],
   "source": []
  },
  {
   "cell_type": "code",
   "execution_count": null,
   "id": "a1bccfea",
   "metadata": {
    "hidden": true
   },
   "outputs": [],
   "source": [
    "df_all_multi_tsz.columns"
   ]
  },
  {
   "cell_type": "code",
   "execution_count": null,
   "id": "acfa9bdd",
   "metadata": {
    "hidden": true
   },
   "outputs": [],
   "source": []
  },
  {
   "cell_type": "code",
   "execution_count": null,
   "id": "2a4f3f54",
   "metadata": {
    "hidden": true
   },
   "outputs": [],
   "source": [
    "dfc_multi_tsz['trial_shift_size'].unique()"
   ]
  },
  {
   "cell_type": "code",
   "execution_count": null,
   "id": "24356b21",
   "metadata": {
    "hidden": true
   },
   "outputs": [],
   "source": [
    "calc_names"
   ]
  },
  {
   "cell_type": "code",
   "execution_count": null,
   "id": "6a119800",
   "metadata": {
    "hidden": true
   },
   "outputs": [],
   "source": [
    "for cn in calc_names:\n",
    "    dfc_ = dfc_multi_tsz.query('trial_shift_size == 1 and error_data_for_calc == @cn')\n",
    "    plt.figure(figsize=(12,3))\n",
    "    #dfc_ = df_all_multi_tsz.query('trial_shift_size == 1')\n",
    "    ax = sns.lineplot(x=\"trials\", y='err_sens',data=dfc_,  estimator='mean', \n",
    "                      errorbar='se',\n",
    "                     hue = 'trial_group_col_calc')#, hue='block')\n",
    "    ax.axhline(y=0, c='red', ls=':')\n",
    "    ax.legend(loc='lower right')\n",
    "    ax.set_title(cn)"
   ]
  },
  {
   "cell_type": "code",
   "execution_count": null,
   "id": "f6d0c70e",
   "metadata": {
    "hidden": true
   },
   "outputs": [],
   "source": [
    "dfone = df_all.query('subject == @subjects_[0]')\n",
    "yname = coln_pairs[0][0]\n",
    "\n",
    "ebarg = ''\n",
    "ax = sns.lineplot(x=\"trials\", y=yname,data=dfone,  estimator='mean', errorbar='se')#, hue='block')\n",
    "ax.axhline(0,ls=':',c='red')\n",
    "ax.plot(dfone['trials'].to_numpy(), dfone['perturbation'].to_numpy(), ls=':',c='y')\n"
   ]
  },
  {
   "cell_type": "code",
   "execution_count": null,
   "id": "83200c17",
   "metadata": {
    "hidden": true
   },
   "outputs": [],
   "source": [
    "dfc_multi_tsz.columns"
   ]
  },
  {
   "cell_type": "code",
   "execution_count": null,
   "id": "1c352e56",
   "metadata": {
    "hidden": true
   },
   "outputs": [],
   "source": []
  },
  {
   "cell_type": "code",
   "execution_count": null,
   "id": "ded6167e",
   "metadata": {
    "hidden": true
   },
   "outputs": [],
   "source": [
    "df_to_plot.groupby(['error_data_for_calc','perturbation','subject']).size()"
   ]
  },
  {
   "cell_type": "code",
   "execution_count": null,
   "id": "6c9984a3",
   "metadata": {
    "hidden": true
   },
   "outputs": [],
   "source": [
    "dfc_.query('err_sens < 6 and err_sens > -6').groupby(['error_data_for_calc', 'perturbation']).size()"
   ]
  },
  {
   "cell_type": "code",
   "execution_count": null,
   "id": "9d1e8850",
   "metadata": {
    "hidden": true
   },
   "outputs": [],
   "source": [
    "df_all.columns"
   ]
  },
  {
   "cell_type": "markdown",
   "id": "fc559cfa",
   "metadata": {
    "heading_collapsed": true
   },
   "source": [
    "##### violin plots"
   ]
  },
  {
   "cell_type": "code",
   "execution_count": null,
   "id": "2769a4a5",
   "metadata": {
    "hidden": true
   },
   "outputs": [],
   "source": [
    "fg = sns.catplot(kind='violin', data=dfcc_all,\n",
    "                 y='error_area_signed_tln',                                   \n",
    "                 x='perturbation', hue='trial_type', \n",
    "                 col = 'special_block_type',\n",
    "                 figsize=(4,3))\n",
    "for ax in fg.axes.flatten():\n",
    "    #ax.set_ylim(-1e5,1e5)\n",
    "    ax.axhline(0,c='r',ls=':')"
   ]
  },
  {
   "cell_type": "code",
   "execution_count": null,
   "id": "72d7dbcf",
   "metadata": {
    "hidden": true
   },
   "outputs": [],
   "source": [
    "fg = sns.catplot(kind='violin', data=dfcc_all,\n",
    "                 y='error_area_signed',                                   \n",
    "                 x='perturbation', hue='trial_type', \n",
    "                 col = 'special_block_type',\n",
    "                 figsize=(4,3))\n",
    "for ax in fg.axes.flatten():\n",
    "    ax.set_ylim(-1e5,1e5)\n",
    "    ax.axhline(0,c='r',ls=':')"
   ]
  },
  {
   "cell_type": "code",
   "execution_count": null,
   "id": "272e4bad",
   "metadata": {
    "hidden": true
   },
   "outputs": [],
   "source": [
    "fg = sns.catplot(kind='violin', data=dfcc_all,\n",
    "                 y='error_area_signed_scaled_ed',                                   \n",
    "                 x='perturbation', hue='trial_type', \n",
    "                 col = 'special_block_type',\n",
    "                 figsize=(4,3))\n",
    "for ax in fg.axes.flatten():\n",
    "    #ax.set_ylim(-1e5,1e5)\n",
    "    ax.axhline(0,c='r',ls=':')"
   ]
  },
  {
   "cell_type": "code",
   "execution_count": null,
   "id": "f6a2333e",
   "metadata": {
    "hidden": true
   },
   "outputs": [],
   "source": [
    "fg = sns.catplot(kind='violin', data=dfcc_all,\n",
    "                 y='error_area_ofb_signed_scaled_ed',                                   \n",
    "                 x='perturbation', hue='trial_type', figsize=(4,3),\n",
    "                col = 'special_block_type')\n",
    "for ax in fg.axes.flatten():\n",
    "    #ax.set_ylim(-1e5,1e5)\n",
    "    ax.axhline(0,c='r',ls=':')"
   ]
  },
  {
   "cell_type": "code",
   "execution_count": null,
   "id": "ea877725",
   "metadata": {
    "hidden": true
   },
   "outputs": [],
   "source": [
    "#for cn in calc_names:\n",
    "for df_to_plot in [dfc_multi_tsz]: #, df_all_multi_tsz]:\n",
    "    dfc_ = df_to_plot.query('trial_shift_size == 1 and trial_group_col_calc == \"trials\" and '\n",
    "                            ' trial_type != \"error_clamp\" and '\n",
    "                           ' special_block_type != \"error_clamp_sandwich\"')  \n",
    "    # error_data_for_calc = @cn\n",
    "    assert dfc_.groupby(['subject', 'trial_index']).size().max() == 3\n",
    "    print(len(dfc_))\n",
    "    #plt.figure(figsize=(6,3))\n",
    "    #dfc_ = df_all_multi_tsz.query('trial_shift_size == 1')\n",
    "    fg = sns.catplot(kind='violin', data=dfc_,\n",
    "                     y='err_sens', col = 'error_data_for_calc',                                   \n",
    "                     x='perturbation', figsize=(6,3))\n",
    "    #x = 'dist_rad_from_prevtgt2',\n",
    "    for ax in fg.axes.flatten():\n",
    "        ax.set_ylim(-7,7)\n",
    "        ax.axhline(0,c='r',ls=':')\n",
    "        #ax.set_title(cn)"
   ]
  },
  {
   "cell_type": "code",
   "execution_count": null,
   "id": "a7f8affa",
   "metadata": {
    "hidden": true
   },
   "outputs": [],
   "source": [
    "#for cn in calc_names:\n",
    "for df_to_plot in [dfc_multi_tsz]: #, df_all_multi_tsz]:\n",
    "    dfc_ = df_to_plot.query('trial_shift_size == 1 and trial_group_col_calc == \"trials\" and '\n",
    "                            ' trial_type != \"error_clamp\" and '\n",
    "                           ' special_block_type != \"error_clamp_sandwich\"')  \n",
    "    # error_data_for_calc = @cn\n",
    "    assert dfc_.groupby(['subject', 'trial_index']).size().max() == 3\n",
    "    print(len(dfc_))\n",
    "    #plt.figure(figsize=(6,3))\n",
    "    #dfc_ = df_all_multi_tsz.query('trial_shift_size == 1')\n",
    "    fg = sns.catplot(kind='violin', data=dfc_,\n",
    "                     y='err_sens', col = 'error_data_for_calc',                                   \n",
    "                     x='perturbation', row='subject', figsize=(6,3))\n",
    "    #x = 'dist_rad_from_prevtgt2',\n",
    "    for ax in fg.axes.flatten():\n",
    "        ax.set_ylim(-7,7)\n",
    "        ax.axhline(0,c='r',ls=':')\n",
    "        #ax.set_title(cn)"
   ]
  },
  {
   "cell_type": "code",
   "execution_count": null,
   "id": "ebee17dd",
   "metadata": {
    "hidden": true
   },
   "outputs": [],
   "source": [
    "#for cn in calc_names:\n",
    "for df_to_plot in [dfc_multi_tsz]: #, df_all_multi_tsz]:\n",
    "    dfc_ = df_to_plot.query('trial_shift_size == 1 and trial_group_col_calc == \"trials\" and '\n",
    "                            ' trial_type != \"error_clamp\" and '\n",
    "                           ' special_block_type != \"error_clamp_sandwich\"')  \n",
    "    # error_data_for_calc = @cn\n",
    "    assert dfc_.groupby(['subject', 'trial_index']).size().max() == 3\n",
    "    print(len(dfc_))\n",
    "    #plt.figure(figsize=(6,3))\n",
    "    #dfc_ = df_all_multi_tsz.query('trial_shift_size == 1')\n",
    "    fg = sns.catplot(kind='violin', data=dfc_,\n",
    "                     y='err_sens', col = 'error_data_for_calc',                                   \n",
    "                     x='perturbation', row='tgti_to_show', figsize=(6,3))\n",
    "    #x = 'dist_rad_from_prevtgt2',\n",
    "    for ax in fg.axes.flatten():\n",
    "        ax.set_ylim(-7,7)\n",
    "        ax.axhline(0,c='r',ls=':')\n",
    "        #ax.set_title(cn)"
   ]
  },
  {
   "cell_type": "code",
   "execution_count": null,
   "id": "c427e7c7",
   "metadata": {
    "hidden": true
   },
   "outputs": [],
   "source": [
    "import gc; gc.collect()"
   ]
  },
  {
   "cell_type": "code",
   "execution_count": null,
   "id": "a58a0daf",
   "metadata": {
    "hidden": true
   },
   "outputs": [],
   "source": [
    "coln_pairs"
   ]
  },
  {
   "cell_type": "code",
   "execution_count": null,
   "id": "349c47ce",
   "metadata": {
    "hidden": true
   },
   "outputs": [],
   "source": [
    "dfc_['err_sens']"
   ]
  },
  {
   "cell_type": "code",
   "execution_count": null,
   "id": "fa13df5c",
   "metadata": {
    "hidden": true
   },
   "outputs": [],
   "source": [
    "df_to_plot.columns"
   ]
  },
  {
   "cell_type": "code",
   "execution_count": null,
   "id": "7fbd8085",
   "metadata": {
    "hidden": true
   },
   "outputs": [],
   "source": [
    "dfcc_all.query('subject == @subj')[['trial_index', 'error_endpoint_ang']]"
   ]
  },
  {
   "cell_type": "code",
   "execution_count": null,
   "id": "5526e5db",
   "metadata": {
    "hidden": true
   },
   "outputs": [],
   "source": [
    "df_to_plot[['trials','error_endpoint_ang']]"
   ]
  },
  {
   "cell_type": "code",
   "execution_count": null,
   "id": "91d49870",
   "metadata": {
    "hidden": true
   },
   "outputs": [],
   "source": [
    "df_to_plot.correction"
   ]
  },
  {
   "cell_type": "code",
   "execution_count": null,
   "id": "4caf8557",
   "metadata": {
    "hidden": true
   },
   "outputs": [],
   "source": [
    "df_to_plot[['error_area_ofb_signed','error_area_signed']].describe()"
   ]
  },
  {
   "cell_type": "code",
   "execution_count": null,
   "id": "808f7017",
   "metadata": {
    "hidden": true
   },
   "outputs": [],
   "source": [
    "list(coln_pairs[0])"
   ]
  },
  {
   "cell_type": "code",
   "execution_count": null,
   "id": "7356ab5e",
   "metadata": {
    "hidden": true
   },
   "outputs": [],
   "source": [
    "sns.pairplot?"
   ]
  },
  {
   "cell_type": "code",
   "execution_count": null,
   "id": "659770b0",
   "metadata": {
    "hidden": true
   },
   "outputs": [],
   "source": []
  },
  {
   "cell_type": "code",
   "execution_count": null,
   "id": "115b3caa",
   "metadata": {
    "hidden": true
   },
   "outputs": [],
   "source": [
    "#ddfc_.subject"
   ]
  },
  {
   "cell_type": "code",
   "execution_count": null,
   "id": "364a7aa1",
   "metadata": {
    "hidden": true,
    "run_control": {
     "marked": false
    }
   },
   "outputs": [],
   "source": []
  },
  {
   "cell_type": "code",
   "execution_count": null,
   "id": "3635778e",
   "metadata": {
    "hidden": true
   },
   "outputs": [],
   "source": []
  },
  {
   "cell_type": "code",
   "execution_count": null,
   "id": "2ab259c8",
   "metadata": {
    "code_folding": [
     12,
     19,
     39,
     44
    ],
    "hidden": true,
    "run_control": {
     "marked": false
    }
   },
   "outputs": [],
   "source": [
    "subj = subjects[0]\n",
    "df_to_plot = df_all_multi_tsz\n",
    "\n",
    "ynames_add = ['error_endpoint_ang', 'jax2']\n",
    "ynames_every = ['err_sens', 'correction']\n",
    "\n",
    "titest = 18\n",
    "ww = 12; hh = 2\n",
    "nr = len(calc_names) * (len(ynames_every) + 2) + len(ynames_add);\n",
    "nc = 1\n",
    "fig, axs = plt.subplots(nr,nc, figsize=(nc*ww,nr*hh))\n",
    "axs = axs.reshape((nr,nc))\n",
    "def fplot(ax, dfc_, yn):\n",
    "    ax = sns.lineplot(x=\"trials\", y=yn, data=dfc_,  estimator='mean', \n",
    "                      errorbar='se',hue = 'trial_group_col_calc', ax=ax)#, hue='block')\n",
    "    ax.axhline(y=0, c='red', ls=':')\n",
    "    ax.legend(loc='lower right')\n",
    "\n",
    "axi = 0\n",
    "for cni, cn in enumerate(calc_names):\n",
    "    #df_all_multi_tsz\n",
    "    #df_to_plot = dfc_multi_tsz    \n",
    "    dfc_ = df_to_plot.query('trial_shift_size == 1 and trial_group_col_calc == \"trials\" '\n",
    "            'and error_data_for_calc == @cn and trial_index < @titest and subject == @subj')        \n",
    "    for yn in ynames_every:\n",
    "        ax = axs[axi, 0 ]\n",
    "        fplot(ax, dfc_, yn)\n",
    "        ax.set_ylabel(f'{yn}: {cn}')\n",
    "        ax.set_title(f'{yn}: {cn}')\n",
    "        axi += 1\n",
    "        \n",
    "    for ii in range(2):\n",
    "        ax = axs[axi, 0 ]\n",
    "        yn = coln_pairs[cni][ii]\n",
    "        fplot(ax, dfc_, yn)\n",
    "        ax.set_title(f'{yn}: {cn}')\n",
    "        axi += 1\n",
    "        \n",
    "    \n",
    "for yn in ynames_add:\n",
    "    ax = axs[axi, 0]\n",
    "    fplot(ax, dfc_, yn)\n",
    "    axi += 1\n",
    "\n",
    "for ax in axs.flatten():\n",
    "    ax.set_xlim(0,titest)\n",
    "    #dfc_ = df_all_multi_tsz.query('trial_shift_size == 1')\n",
    "    \n",
    "plt.tight_layout()\n"
   ]
  },
  {
   "cell_type": "code",
   "execution_count": null,
   "id": "02ca44ba",
   "metadata": {
    "hidden": true
   },
   "outputs": [],
   "source": [
    "len(subjects)"
   ]
  },
  {
   "cell_type": "code",
   "execution_count": null,
   "id": "713c206c",
   "metadata": {
    "hidden": true
   },
   "outputs": [],
   "source": []
  },
  {
   "cell_type": "code",
   "execution_count": null,
   "id": "dedc19b8",
   "metadata": {
    "hidden": true,
    "run_control": {
     "marked": false
    }
   },
   "outputs": [],
   "source": [
    "import gc; gc.collect()"
   ]
  },
  {
   "cell_type": "markdown",
   "id": "9250ef65",
   "metadata": {
    "hidden": true
   },
   "source": []
  },
  {
   "cell_type": "markdown",
   "id": "36e3c5b6",
   "metadata": {
    "heading_collapsed": true
   },
   "source": [
    "##### REST and  move prep anomalise"
   ]
  },
  {
   "cell_type": "code",
   "execution_count": null,
   "id": "1474b9b7",
   "metadata": {
    "hidden": true
   },
   "outputs": [],
   "source": []
  },
  {
   "cell_type": "code",
   "execution_count": null,
   "id": "32c3b2d9",
   "metadata": {
    "hidden": true
   },
   "outputs": [],
   "source": [
    "#140"
   ]
  },
  {
   "cell_type": "code",
   "execution_count": null,
   "id": "0d15d470",
   "metadata": {
    "hidden": true
   },
   "outputs": [],
   "source": [
    "tis[10:20]"
   ]
  },
  {
   "cell_type": "code",
   "execution_count": null,
   "id": "1dd3d8d6",
   "metadata": {
    "hidden": true
   },
   "outputs": [],
   "source": [
    "tis_cur = tis[10:30]\n",
    "tis_cur = tis[10:11]\n",
    "dfr = dfc_all.query('subject == @subjects[0] and trial_index in @tis_cur')"
   ]
  },
  {
   "cell_type": "code",
   "execution_count": null,
   "id": "8bb33d3f",
   "metadata": {
    "hidden": true
   },
   "outputs": [],
   "source": [
    "dfr.columns"
   ]
  },
  {
   "cell_type": "code",
   "execution_count": null,
   "id": "dd85d384",
   "metadata": {
    "hidden": true
   },
   "outputs": [],
   "source": [
    "dfr[['time_since_trial_start','error_distance']].plot(x='time_since_trial_start')"
   ]
  },
  {
   "cell_type": "code",
   "execution_count": null,
   "id": "23d8ace2",
   "metadata": {
    "hidden": true
   },
   "outputs": [],
   "source": [
    "dfr = dfr.sort_values('time')"
   ]
  },
  {
   "cell_type": "code",
   "execution_count": null,
   "id": "2d6627ed",
   "metadata": {
    "hidden": true
   },
   "outputs": [],
   "source": []
  },
  {
   "cell_type": "code",
   "execution_count": null,
   "id": "865e7cd9",
   "metadata": {
    "hidden": true
   },
   "outputs": [],
   "source": [
    "dfr.shift"
   ]
  },
  {
   "cell_type": "code",
   "execution_count": null,
   "id": "750d7e3b",
   "metadata": {
    "hidden": true
   },
   "outputs": [],
   "source": []
  },
  {
   "cell_type": "code",
   "execution_count": null,
   "id": "db0d879b",
   "metadata": {
    "hidden": true
   },
   "outputs": [],
   "source": [
    "dfccos['time_mvt'] = -100"
   ]
  },
  {
   "cell_type": "code",
   "execution_count": null,
   "id": "103f70a6",
   "metadata": {
    "hidden": true
   },
   "outputs": [],
   "source": [
    "#dfccos = dfccos.copy()"
   ]
  },
  {
   "cell_type": "code",
   "execution_count": null,
   "id": "8be25a7a",
   "metadata": {
    "hidden": true
   },
   "outputs": [],
   "source": [
    "inds"
   ]
  },
  {
   "cell_type": "code",
   "execution_count": null,
   "id": "21fa463e",
   "metadata": {
    "hidden": true
   },
   "outputs": [],
   "source": [
    "dfccos.query()"
   ]
  },
  {
   "cell_type": "code",
   "execution_count": null,
   "id": "f80f1642",
   "metadata": {
    "hidden": true
   },
   "outputs": [],
   "source": [
    "#dfccos_hit = dfccos[~dfccos['nonhit'] ]\n",
    "#for ti in tis:\n"
   ]
  },
  {
   "cell_type": "code",
   "execution_count": null,
   "id": "eae16e72",
   "metadata": {
    "hidden": true
   },
   "outputs": [],
   "source": [
    "dfccos['time_mvt']"
   ]
  },
  {
   "cell_type": "code",
   "execution_count": null,
   "id": "51c67fca",
   "metadata": {
    "hidden": true
   },
   "outputs": [],
   "source": [
    "#nfs.describe()"
   ]
  },
  {
   "cell_type": "code",
   "execution_count": null,
   "id": "20578726",
   "metadata": {
    "hidden": true
   },
   "outputs": [],
   "source": [
    "nf1  = float( params['time_at_home'] ) * float(params['FPS'] )\n",
    "nf2 = float( params['motor_prep_duration'] ) * float(params['FPS'] )\n",
    "print(nf1,nf2)"
   ]
  },
  {
   "cell_type": "code",
   "execution_count": null,
   "id": "c86da522",
   "metadata": {
    "hidden": true
   },
   "outputs": [],
   "source": [
    "triggs"
   ]
  },
  {
   "cell_type": "code",
   "execution_count": null,
   "id": "cb98f406",
   "metadata": {
    "hidden": true
   },
   "outputs": [],
   "source": [
    "nf1 * 1.5"
   ]
  },
  {
   "cell_type": "code",
   "execution_count": null,
   "id": "0e6f0841",
   "metadata": {
    "hidden": true
   },
   "outputs": [],
   "source": [
    "subj2nt = df_unproc[['subject','trial_index']].groupby('subject').nunique()\n",
    "subj2nt = subj2nt.to_dict('index')\n",
    "#{'2023-SE1-001': {'trial_index': 637},\n",
    "# '2023-SE1-002': {'trial_index': 636},"
   ]
  },
  {
   "cell_type": "code",
   "execution_count": null,
   "id": "fff65dee",
   "metadata": {
    "hidden": true
   },
   "outputs": [],
   "source": [
    "subj2nt"
   ]
  },
  {
   "cell_type": "code",
   "execution_count": null,
   "id": "08f77aca",
   "metadata": {
    "hidden": true
   },
   "outputs": [],
   "source": [
    "subj2qv"
   ]
  },
  {
   "cell_type": "code",
   "execution_count": null,
   "id": "0bf3a83c",
   "metadata": {
    "hidden": true
   },
   "outputs": [],
   "source": [
    "subj2qv"
   ]
  },
  {
   "cell_type": "code",
   "execution_count": null,
   "id": "45356126",
   "metadata": {
    "hidden": true
   },
   "outputs": [],
   "source": [
    "for phase in ['REST', 'GO_CUE_WAIT_AND_SHOW']:\n",
    "    print(phase)\n",
    "    phases = [phase]\n",
    "    triggs = [phase2trigger[ph] for ph in phases]\n",
    "    df0 = df_unproc.query('current_phase_trigger in @triggs')\n",
    "    \n",
    "    nfs = df0.groupby(['subject','trial_index']).size().\\\n",
    "        reset_index().rename(columns={0:'numframes'})\n",
    "    \n",
    "    \n",
    "    dftmp = nfs.groupby('subject')['numframes'].quantile(0.75).reset_index().set_index('subject')\n",
    "    subj2qv = dftmp.to_dict('index')\n",
    "    print(subj2qv)\n",
    "    \n",
    "    def f(row):\n",
    "        qv = subj2qv[row['subject']]['numframes']\n",
    "        return row['numframes'] > qv\n",
    "    nfs['bad'] = nfs.apply(f,1)\n",
    "    nfs\n",
    "    \n",
    "    display( nfs.describe() )\n",
    "    \n",
    "    #qv = nfs['numframes'].quantile(0.5)\n",
    "    #qv = nf1 * 1.5\n",
    "    nfs_bad = nfs[nfs['bad']]\n",
    "    \n",
    "    grp = nfs_bad[['subject','trial_index']].groupby('subject')\n",
    "    display(grp.size())\n",
    "    \n",
    "    plt.figure()\n",
    "    sns.lineplot(nfs, x='trial_index', y ='numframes')"
   ]
  },
  {
   "cell_type": "code",
   "execution_count": null,
   "id": "041ebce0",
   "metadata": {
    "hidden": true
   },
   "outputs": [],
   "source": [
    "for phase in ['REST', 'GO_CUE_WAIT_AND_SHOW'][1:]:\n",
    "    print(phase)\n",
    "    phases = [phase]\n",
    "    triggs = [phase2trigger[ph] for ph in phases]\n",
    "    df0 = df_unproc.query('current_phase_trigger in @triggs')\n",
    "    \n",
    "    nfs = df0.groupby(['subject','trial_index']).size().\\\n",
    "        reset_index().rename(columns={0:'numframes'})\n",
    "    sns.lineplot(nfs.query('subject == @subjects[0]'), x='trial_index', y ='numframes')"
   ]
  },
  {
   "cell_type": "code",
   "execution_count": null,
   "id": "fc032952",
   "metadata": {
    "hidden": true
   },
   "outputs": [],
   "source": [
    "#nfs_bad.query('sub')\n"
   ]
  },
  {
   "cell_type": "markdown",
   "id": "ef61ffaf",
   "metadata": {},
   "source": [
    "##### plot time resolved with pert and blocks"
   ]
  },
  {
   "cell_type": "code",
   "execution_count": null,
   "id": "f0b88d6f",
   "metadata": {},
   "outputs": [],
   "source": [
    "(dfc_multi_tsz['trial_type'] == 'error_clamp').sum()"
   ]
  },
  {
   "cell_type": "code",
   "execution_count": null,
   "id": "571d6c63",
   "metadata": {},
   "outputs": [],
   "source": [
    "from config2 import path_fig"
   ]
  },
  {
   "cell_type": "code",
   "execution_count": null,
   "id": "f0770173",
   "metadata": {},
   "outputs": [],
   "source": [
    "#subj = subjects[1]\n",
    "dfr_all = []\n",
    "for subj in subjects:\n",
    "\n",
    "    #df_to_plot = df_all_multi_tsz\n",
    "    df_to_plot = dfc_multi_tsz\n",
    "\n",
    "    #' and special_block_type != \"error_clamp_sandwich\"'\n",
    "    qs0 = ('trial_shift_size == 1 and trial_group_col_calc == \"trials\"'\n",
    "           ' and trial_type != \"error_clamp0\"'                      \n",
    "                f' and subject == \"{subj}\"')\n",
    "    #dfc0_ = df_to_plot.query(qs0) \n",
    "    r = []\n",
    "    for cni, cn in enumerate(calc_names):\n",
    "        #df_all_multi_tsz\n",
    "        #df_to_plot = dfc_multi_tsz            \n",
    "        qs = qs0 + f' and error_data_for_calc == \"{cn}\" '\n",
    "        dfc_ = df_to_plot.query(qs)\n",
    "\n",
    "        print(len(dfc_))\n",
    "\n",
    "        dfc_ = dfc_.set_index('trials')\n",
    "        if cni != 0:\n",
    "            dfc_ = dfc_[['err_sens','correction']]\n",
    "        dfc_ = dfc_.rename(columns={'err_sens': f'err_sens:{cn}', 'correction': f'correction:{cn}'})\n",
    "        r += [ dfc_]\n",
    "\n",
    "    #[dfc0_.drop(labels=['err_sens','correction'], axis=1)]\n",
    "    dfr0 = pd.concat( r, axis=1)\n",
    "    print(len(dfr0))\n",
    "\n",
    "    dfr0 = dfr0.reset_index()\n",
    "    \n",
    "    print( 'num nans = ', dfr0['trial_index'].isna().sum() )\n",
    "    dfr = dfr0[~dfr0['trial_index'].isna() ] \n",
    "\n",
    "    dfr_all += [dfr]\n",
    "    #dfr['block_ind']\n",
    "    #dfr.query('trial_type != \"error_clamp\"').groupby('block_ind')\n",
    "    #coln_pairs\n",
    "\n",
    "    ynames = []\n",
    "    for yn1, yn2, nh, cn in coln_pairs:\n",
    "        ynames += [f'err_sens:{cn}', f'correction:{cn}', yn1, yn2]\n",
    "    ynames += ['error_endpoint_ang']\n",
    "    print(ynames)\n",
    "\n",
    "    #assert len(dfc_) == len(dfr), (len(dfc_), len(dfr))\n",
    "    #dfr[['trial_index','err_sens:signed_area','err_sens:lh_ang']]\n",
    "    dfcpcos_, dfcos_ = dfcpc_all.query('subject == @subj'), dfc_all.query('subject == @subj')\n",
    "\n",
    "    assert 0 == sum( dfr['trial_index'].duplicated() )\n",
    "\n",
    "    xlim = 0,150\n",
    "    # dfc_ = dfr.query('trial_shift_size == 1 and trial_group_col_calc == \"trials\" '\n",
    "    #         'and error_data_for_calc == @cn and trial_index < @xlim[1] and subject == @subj')\n",
    "    dfr_ = dfr.query('trial_index < @xlim[1]')\n",
    "\n",
    "    from behav_proc import multiplot\n",
    "    #['err_sens', 'correction']\n",
    "    multiplot(dfr_, dfcpcos_, dfcos_, ynames, start_ind=0, xlim = xlim , ww=14, hh=1.5,\n",
    "             show_titles = True)\n",
    "    plt.tight_layout()\n",
    "    #plt.savefig( pjoin(path_fig, f'{subj}_{\",\".join(ynames)}.pdf' ) )\n",
    "    plt.savefig( pjoin(path_fig, f'{subj}_nr={len(ynames)}_xlim={xlim}.pdf' ) )\n",
    "    plt.close()\n",
    "    \n",
    "dfr_all = pd.concat(dfr_all).reset_index()"
   ]
  },
  {
   "cell_type": "code",
   "execution_count": null,
   "id": "f826518e",
   "metadata": {},
   "outputs": [],
   "source": [
    "dfr['trial_index'].isna().sum()"
   ]
  },
  {
   "cell_type": "code",
   "execution_count": null,
   "id": "403bbf59",
   "metadata": {},
   "outputs": [],
   "source": [
    "print( dfr['trial_index'].isna().sum() )\n",
    "print( dfr_all['trial_index'].isna().sum() )\n",
    "dfr_all = dfr_all[~dfr_all['trial_index'].isna() ] "
   ]
  },
  {
   "cell_type": "code",
   "execution_count": null,
   "id": "b2b7351e",
   "metadata": {},
   "outputs": [],
   "source": [
    "#dfr_all['subject']"
   ]
  },
  {
   "cell_type": "code",
   "execution_count": null,
   "id": "2aaf82ac",
   "metadata": {},
   "outputs": [],
   "source": [
    "subjects = list(sorted(subjects))"
   ]
  },
  {
   "cell_type": "code",
   "execution_count": null,
   "id": "e90b6c4b",
   "metadata": {},
   "outputs": [],
   "source": [
    "subjects_subset"
   ]
  },
  {
   "cell_type": "markdown",
   "id": "3f0be71c",
   "metadata": {
    "heading_collapsed": true
   },
   "source": [
    "##### pairplots"
   ]
  },
  {
   "cell_type": "code",
   "execution_count": null,
   "id": "f3d8fea7",
   "metadata": {
    "hidden": true
   },
   "outputs": [],
   "source": [
    "ynames"
   ]
  },
  {
   "cell_type": "code",
   "execution_count": null,
   "id": "bc9f4524",
   "metadata": {
    "hidden": true
   },
   "outputs": [],
   "source": [
    "ynames_pairplot = ['error_area_signed_scaled_ed', 'error_area_signed',\n",
    "          'error_area_signed_nn', 'error_lh_ang', 'error_endpoint_ang']\n",
    "\n",
    "#ynames_pairplot = ynames[:4] + ynames[8:12] + [ynames[-1]]\n",
    "#ynames_pairplot = ynames\n",
    "\n",
    "for i in range(len(subjects) - 1):\n",
    "    subjects_subset = [subjects[i], subjects[i+1]]\n",
    "    print(subjects_subset)\n",
    "\n",
    "    # cn = calc_names[0]; print(cn)\n",
    "    # #df_to_plot = df_all_multi_tsza\n",
    "    # df_to_plot = dfc_multi_tsz\n",
    "    # dfc_ = df_to_plot.query('trial_shift_size == 1 and trial_group_col_calc == \"trials\" '\n",
    "    #         'and error_data_for_calc == @cn and subject in @subjects_subset') # and subject == @subj')\n",
    "    dfc_ = dfr_all.query('subject in @subjects_subset')\n",
    "    #dfcc_all.query('subject == @subj')\n",
    "    coln_aux = ['subject']\n",
    "    sns.pairplot(dfc_[ynames_pairplot + coln_aux], hue='subject')\n",
    "    plt.savefig( pjoin(path_fig, f'pairplot_{\",\".join(subjects_subset)}_nr={len(ynames_pairplot)}.pdf' ) )\n",
    "    if i != len(subjects) -2 :\n",
    "        plt.close()"
   ]
  },
  {
   "cell_type": "code",
   "execution_count": null,
   "id": "dc2a4d29",
   "metadata": {
    "hidden": true
   },
   "outputs": [],
   "source": [
    "dfr.query('trial_index >= 85 and trial_index <= 110')[['trial_index', 'err_sens:signed_area', 'correction:signed_area'] + list( coln_pairs[0][:2] )]"
   ]
  },
  {
   "cell_type": "markdown",
   "id": "ca4f1cb6",
   "metadata": {},
   "source": [
    "### err sens one"
   ]
  },
  {
   "cell_type": "markdown",
   "id": "8131755a",
   "metadata": {
    "heading_collapsed": true
   },
   "source": [
    "### dbg"
   ]
  },
  {
   "cell_type": "code",
   "execution_count": null,
   "id": "de876492",
   "metadata": {
    "hidden": true
   },
   "outputs": [],
   "source": [
    "len(dfcs)"
   ]
  },
  {
   "cell_type": "code",
   "execution_count": null,
   "id": "ed5f8079",
   "metadata": {
    "hidden": true
   },
   "outputs": [],
   "source": [
    "dfcc['subject'].unique()"
   ]
  },
  {
   "cell_type": "code",
   "execution_count": null,
   "id": "f7be020c",
   "metadata": {
    "hidden": true
   },
   "outputs": [],
   "source": [
    "import sys, traceback\n",
    "try:\n",
    "    dfc, dfcc, dfcpc, dfctc = addBasicInfo(df, phase2trigger, params,\n",
    "                                         home_position, target_coords)\n",
    "except Exception as e:\n",
    "    exc_info = sys.exc_info()\n",
    "    exc = traceback.TracebackException(*exc_info, capture_locals=True)\n",
    "    \n",
    "    \n",
    "    EI = exc_info[2]\n",
    "    stackframe = EI.tb_next.tb_frame\n",
    "    local_vars_in_fun = stackframe.f_locals\n",
    "    display(exc_info, stackframe,  EI.tb_lineno, EI.tb_next.tb_lineno)\n",
    "\n"
   ]
  },
  {
   "cell_type": "code",
   "execution_count": null,
   "id": "c18a65c1",
   "metadata": {
    "hidden": true
   },
   "outputs": [],
   "source": [
    "dfcurtr = df.query('trial_index == 4')\n",
    "from behav_proc import plotTraj\n",
    "plotTraj(plt.gca(), dfcurtr, home_position, target_coords_homec, params,\n",
    "        calc_area=True)"
   ]
  },
  {
   "cell_type": "code",
   "execution_count": null,
   "id": "93fc4996",
   "metadata": {
    "hidden": true
   },
   "outputs": [],
   "source": [
    "dfcurtr = df.query('trial_index == 4')\n",
    "from behav_proc import plotTraj"
   ]
  },
  {
   "cell_type": "code",
   "execution_count": null,
   "id": "b2edd0d0",
   "metadata": {
    "hidden": true
   },
   "outputs": [],
   "source": [
    "import sys, traceback\n",
    "try:\n",
    "    plotTraj(plt.gca(), dfcurtr, home_position, target_coords_homec, params,\n",
    "            calc_area=True)\n",
    "except Exception as e:\n",
    "    exc_info = sys.exc_info()\n",
    "    exc = traceback.TracebackException(*exc_info, capture_locals=True)\n",
    "    \n",
    "    \n",
    "    EI = exc_info[2]\n",
    "    stackframe = EI.tb_next.tb_frame\n",
    "    local_vars_in_fun = stackframe.f_locals\n",
    "    display(exc_info, stackframe,  EI.tb_lineno, EI.tb_next.tb_lineno)\n",
    "\n"
   ]
  },
  {
   "cell_type": "code",
   "execution_count": null,
   "id": "3d723fb7",
   "metadata": {
    "hidden": true
   },
   "outputs": [],
   "source": [
    "FF = EI\n",
    "prevlocs = None\n",
    "locs = None\n",
    "while True:\n",
    "    FF = FF.tb_next\n",
    "    if FF is None:\n",
    "        break\n",
    "    display(FF.tb_frame)\n",
    "    prevlocs = locs\n",
    "    locs = FF.tb_frame.f_locals"
   ]
  },
  {
   "cell_type": "code",
   "execution_count": null,
   "id": "fb977b93",
   "metadata": {
    "hidden": true
   },
   "outputs": [],
   "source": [
    "prevlocs.keys()"
   ]
  },
  {
   "cell_type": "code",
   "execution_count": null,
   "id": "52bb1574",
   "metadata": {
    "hidden": true
   },
   "outputs": [],
   "source": [
    "plt.scatter(vs['fbXhc_ta'],vs['fbYhc_ta'], c=range(len(vs['fbXhc_ta'])),\n",
    "            cmap='inferno')"
   ]
  },
  {
   "cell_type": "code",
   "execution_count": null,
   "id": "283c771d",
   "metadata": {
    "hidden": true
   },
   "outputs": [],
   "source": [
    "plt.plot( vs['fbXhc_ta'] )"
   ]
  },
  {
   "cell_type": "code",
   "execution_count": null,
   "id": "703e4f2e",
   "metadata": {
    "hidden": true
   },
   "outputs": [],
   "source": [
    "dfcurtr.columns"
   ]
  },
  {
   "cell_type": "code",
   "execution_count": null,
   "id": "aadfb8bc",
   "metadata": {
    "hidden": true
   },
   "outputs": [],
   "source": [
    "trigger2phase_nice = {'ITI':'ITI', 'TARGET_AND_FEEDBACK':'M', \n",
    "                      'GO_CUE_WAIT_AND_SHOW':'P', 'REST':'R'}\n",
    "\n",
    "\n",
    "qs = 'trial_index >= 1 and trial_index <= 3'\n",
    "qs = 'trial_index >= 1 and trial_index <= 3 and current_phase_trigger == 30'\n",
    "dfcurtr = df.query(qs)\n",
    "#dfcurtr = df.query('trial_index == 2')\n",
    "c = dfcurtr['current_phase_trigger'].diff().abs() > 0\n",
    "tcpt = dfcurtr.loc[c, 'time']\n",
    "cpt0 = dfcurtr.loc[c, 'current_phase_trigger']\n",
    "cpt = [trigger2phase_nice[trigger2phase[cp]] for cp in cpt0]\n",
    "print(len(dfcurtr))\n",
    "\n",
    "cols = ['time',\n",
    "        'error_distance','feedbackX','feedbackY'] \n",
    "#cols += ['target_coordX','target_coordY',]\n",
    "#cols += ['jax1','jax2']  \n",
    "#cols += ['tgti_to_show',]\n",
    "dfcurtr_ = dfcurtr[cols]\n",
    "#dfcurtr_.plot(x='time', figsize=(11,4))\n",
    "dfcurtr_.plot(x='time', figsize=(15,4))\n",
    "plt.vlines(tcpt,0, 1000,ls=':', color='grey')\n",
    "plt.legend(loc = 'lower left')\n",
    "\n",
    "ax = plt.gca()\n",
    "axt = ax.twinx()\n",
    "axt.grid(0,'major',axis='y')\n",
    "axt.grid(1,'minor',axis='x')\n",
    "axt.set_xticks(tcpt, map(str,cpt), minor=1)\n",
    "axt.xaxis.tick_top()\n",
    "#axt.xaxis.set_ticks_position('top')\n",
    "ax.tick_params(labelbottom=False,labeltop=True)\n",
    "#axt.set_xticklabels(map(str,cpt))"
   ]
  },
  {
   "cell_type": "code",
   "execution_count": null,
   "id": "5197f6a6",
   "metadata": {
    "hidden": true
   },
   "outputs": [],
   "source": [
    "dfcurtr['feedbackX']"
   ]
  },
  {
   "cell_type": "code",
   "execution_count": null,
   "id": "1ddab80a",
   "metadata": {
    "hidden": true
   },
   "outputs": [],
   "source": [
    "trigger2phase"
   ]
  },
  {
   "cell_type": "code",
   "execution_count": null,
   "id": "5e394048",
   "metadata": {
    "hidden": true
   },
   "outputs": [],
   "source": []
  },
  {
   "cell_type": "code",
   "execution_count": null,
   "id": "1494b240",
   "metadata": {
    "hidden": true
   },
   "outputs": [],
   "source": [
    "axt.set_xticks?"
   ]
  },
  {
   "cell_type": "code",
   "execution_count": null,
   "id": "edadad03",
   "metadata": {
    "hidden": true
   },
   "outputs": [],
   "source": [
    "vs = prevlocs\n",
    "dfcurtr = vs['dfcurtr']\n",
    "print(len(dfcurtr))"
   ]
  },
  {
   "cell_type": "code",
   "execution_count": null,
   "id": "7e210326",
   "metadata": {
    "hidden": true
   },
   "outputs": [],
   "source": [
    "dfcurtr"
   ]
  },
  {
   "cell_type": "code",
   "execution_count": null,
   "id": "a2ae7957",
   "metadata": {
    "code_folding": [],
    "hidden": true
   },
   "outputs": [],
   "source": [
    "#locs['inp']\n",
    "vs = prevlocs\n",
    "ind = vs['ind']\n",
    "\n",
    "traja = area(vs['fbXhc_ta'][ind:], vs['fbYhc_ta'][ind:], (0,vs['rh']),\n",
    "     (0,float(params['dist_tgt_from_home'])), verbose=1)\n"
   ]
  },
  {
   "cell_type": "code",
   "execution_count": null,
   "id": "6af842ba",
   "metadata": {
    "hidden": true
   },
   "outputs": [],
   "source": [
    "plotTraj(plt.gca(), dfcurtr, home_position, target_coords_homec, params,\n",
    "         verbose=1,\n",
    "        calc_area=0)"
   ]
  },
  {
   "cell_type": "code",
   "execution_count": null,
   "id": "13775fc7",
   "metadata": {
    "hidden": true
   },
   "outputs": [],
   "source": [
    "df['time']"
   ]
  },
  {
   "cell_type": "code",
   "execution_count": null,
   "id": "33de5585",
   "metadata": {
    "hidden": true
   },
   "outputs": [],
   "source": [
    "# raw joystick angles\n",
    "df_ = df.query('time < 150')\n",
    "ts = df_.groupby('trial_index')['time'].min()._values\n",
    "plt.plot(df_['time'], df_['jax1'] , label='jax1')\n",
    "plt.plot(df_['time'], df_['jax2'] , label='jax2', alpha=0.5)\n",
    "plt.vlines(ts,-0.5,0.1,ls=':', color='grey')\n",
    "#plt.xlim(0,)\n",
    "plt.legend(loc='lower right')"
   ]
  },
  {
   "cell_type": "code",
   "execution_count": null,
   "id": "c774ab73",
   "metadata": {
    "hidden": true
   },
   "outputs": [],
   "source": []
  },
  {
   "cell_type": "code",
   "execution_count": null,
   "id": "e4fc5b0a",
   "metadata": {
    "hidden": true,
    "run_control": {
     "marked": false
    }
   },
   "outputs": [],
   "source": [
    "print( locs['line1'].xy )\n",
    "print( locs['line2'].xy )"
   ]
  },
  {
   "cell_type": "code",
   "execution_count": null,
   "id": "f46675e1",
   "metadata": {
    "hidden": true
   },
   "outputs": [],
   "source": [
    "dfc['subject'].unique()"
   ]
  },
  {
   "cell_type": "code",
   "execution_count": null,
   "id": "13d85e81",
   "metadata": {
    "hidden": true
   },
   "outputs": [],
   "source": [
    "#dfctc['subject']"
   ]
  },
  {
   "cell_type": "code",
   "execution_count": null,
   "id": "d24ad83d",
   "metadata": {
    "hidden": true
   },
   "outputs": [],
   "source": [
    "from exper_protocol.utils import calc_target_positions\n",
    "calc_target_positions([250,270,290], home_position, float(params['dist_tgt_from_home']))"
   ]
  },
  {
   "cell_type": "code",
   "execution_count": null,
   "id": "ffd9e7b4",
   "metadata": {
    "hidden": true
   },
   "outputs": [],
   "source": [
    "# in the experiment app target coors =  [(831, 185), (960, 162), (1089, 185)]\n",
    "#>>> app.target_angles\n",
    "#['250', '270', '290']"
   ]
  },
  {
   "cell_type": "code",
   "execution_count": null,
   "id": "48e0aca2",
   "metadata": {
    "hidden": true
   },
   "outputs": [],
   "source": [
    "grp_perti = dfc.groupby(['trial_index'])"
   ]
  },
  {
   "cell_type": "code",
   "execution_count": null,
   "id": "87d9aa59",
   "metadata": {
    "hidden": true
   },
   "outputs": [],
   "source": [
    "df.info()\n",
    "# for col in df.columns:\n",
    "#     if col.endswith('X') or col.endswith('Y') or col.endswith('_index') \\\n",
    "#          or col.endswith('time'):\n",
    "#         continue\n",
    "#     ser = df[col]\n",
    "#     print(col,ser.unique())"
   ]
  },
  {
   "cell_type": "code",
   "execution_count": null,
   "id": "b5f53f12",
   "metadata": {
    "hidden": true
   },
   "outputs": [],
   "source": [
    "df.describe()"
   ]
  },
  {
   "cell_type": "markdown",
   "id": "4381c930",
   "metadata": {
    "heading_collapsed": true
   },
   "source": [
    "## Calc adv errrors"
   ]
  },
  {
   "cell_type": "code",
   "execution_count": null,
   "id": "0298c1f7",
   "metadata": {
    "hidden": true
   },
   "outputs": [],
   "source": [
    "df['subject']"
   ]
  },
  {
   "cell_type": "code",
   "execution_count": null,
   "id": "c1830f64",
   "metadata": {
    "hidden": true
   },
   "outputs": [],
   "source": [
    "dfcc['target_coordX'].unique(), dfcc['target_coordY'].unique()"
   ]
  },
  {
   "cell_type": "code",
   "execution_count": null,
   "id": "a6631920",
   "metadata": {
    "hidden": true
   },
   "outputs": [],
   "source": [
    "tcs = np.array(target_coords)\n",
    "print(tcs[0])\n",
    "print(tcs[1])\n",
    "print(tcs[2])"
   ]
  },
  {
   "cell_type": "code",
   "execution_count": null,
   "id": "76eac49b",
   "metadata": {
    "hidden": true
   },
   "outputs": [],
   "source": [
    "# in the experiment app target coors =  [(831, 185), (960, 162), (1089, 185)]\n",
    "#>>> app.target_angles\n",
    "#['250', '270', '290']"
   ]
  },
  {
   "cell_type": "code",
   "execution_count": null,
   "id": "6eb6b7df",
   "metadata": {
    "hidden": true
   },
   "outputs": [],
   "source": [
    "target_coords_homec"
   ]
  },
  {
   "cell_type": "code",
   "execution_count": null,
   "id": "853281b0",
   "metadata": {
    "hidden": true
   },
   "outputs": [],
   "source": [
    "df['tgti_to_show'].unique()"
   ]
  },
  {
   "cell_type": "code",
   "execution_count": null,
   "id": "d6cbbf10",
   "metadata": {
    "hidden": true
   },
   "outputs": [],
   "source": [
    "# # slow\n",
    "# angs = []\n",
    "# for i,row in df.iterrows():\n",
    "#     x,y = target_coords[row['tgti_to_show']]\n",
    "#     ang = coords2anglesRad(x,y, home_position)\n",
    "#     #print(i, row['tgti_to_show']) \n",
    "#     #print(ang)\n",
    "#     angs += [ang / np.pi * 180   ]\n",
    "# set(angs)"
   ]
  },
  {
   "cell_type": "code",
   "execution_count": null,
   "id": "55191e61",
   "metadata": {
    "hidden": true
   },
   "outputs": [],
   "source": []
  },
  {
   "cell_type": "code",
   "execution_count": null,
   "id": "e9a55310",
   "metadata": {
    "hidden": true
   },
   "outputs": [],
   "source": [
    "from exper_protocol.utils import calc_err_eucl\n",
    "def f(row):\n",
    "    fb = (row['feedbackX'], row['feedbackY'])\n",
    "    r = calc_err_eucl(fb, target_coords, row['tgti_to_show'])\n",
    "    return r\n",
    "dfcc['error_eucl'] = dfcc.apply(f,1)  # takes last"
   ]
  },
  {
   "cell_type": "code",
   "execution_count": null,
   "id": "2d817f65",
   "metadata": {
    "hidden": true
   },
   "outputs": [],
   "source": [
    "import matplotlib.pyplot as plt"
   ]
  },
  {
   "cell_type": "code",
   "execution_count": null,
   "id": "a695c3ea",
   "metadata": {
    "hidden": true
   },
   "outputs": [],
   "source": [
    "row"
   ]
  },
  {
   "cell_type": "code",
   "execution_count": null,
   "id": "42916fc9",
   "metadata": {
    "hidden": true
   },
   "outputs": [],
   "source": [
    "row = dfcc.query('trial_index == 614').to_dict('records')[0]\n",
    "f(row)"
   ]
  },
  {
   "cell_type": "code",
   "execution_count": null,
   "id": "94e53e93",
   "metadata": {
    "hidden": true
   },
   "outputs": [],
   "source": [
    "target_coords[0]"
   ]
  },
  {
   "cell_type": "code",
   "execution_count": null,
   "id": "bc2f0bec",
   "metadata": {
    "hidden": true
   },
   "outputs": [],
   "source": [
    "row['tgti_to_show']"
   ]
  },
  {
   "cell_type": "code",
   "execution_count": null,
   "id": "bb18f4d8",
   "metadata": {
    "hidden": true
   },
   "outputs": [],
   "source": [
    "tgt = row['target_coordX'], row['target_coordY']\n",
    "fb = (row['feedbackX'], row['feedbackY'])\n",
    "print( tgt,fb )\n",
    "calc_err_eucl(fb, target_coords, row['tgti_to_show'])"
   ]
  },
  {
   "cell_type": "code",
   "execution_count": null,
   "id": "c232777b",
   "metadata": {
    "hidden": true
   },
   "outputs": [],
   "source": [
    "#dfcurtr['target_coordX', 'target_coordY']"
   ]
  },
  {
   "cell_type": "code",
   "execution_count": null,
   "id": "72e01aae",
   "metadata": {
    "hidden": true
   },
   "outputs": [],
   "source": [
    "target_coords_homec"
   ]
  },
  {
   "cell_type": "code",
   "execution_count": null,
   "id": "25d1915b",
   "metadata": {
    "hidden": true
   },
   "outputs": [],
   "source": [
    "assert np.diff(tx).min() > 0"
   ]
  },
  {
   "cell_type": "code",
   "execution_count": null,
   "id": "fb2d5292",
   "metadata": {
    "code_folding": [
     6
    ],
    "hidden": true
   },
   "outputs": [],
   "source": [
    "from scipy.interpolate import interp1d\n",
    "tx,ty = target_coords_homec\n",
    "if np.diff(tx).min() < 0:\n",
    "    print('inverting x of targets')\n",
    "    tx = -tx\n",
    "\n",
    "def f(row):\n",
    "    ti = row['trial_index']\n",
    "    idx = grp_perti.groups[ti]\n",
    "    dfcurtr = dfc.loc[idx[1:]]\n",
    "    \n",
    "    idx = grp_perti.groups[ti]\n",
    "    dfcurtr = dfc.loc[idx[1:]]  # zeroth is equal to zero\n",
    "\n",
    "    #dfcurtr#[['feedbackX', 'feedbackY', 'unpert_feedbackY']]\n",
    "\n",
    "    fbXY = dfcurtr[['feedbackX', 'feedbackY']].to_numpy()\n",
    "    #fbXY.shape\n",
    "    fbXhc, fbYhc = screen2homec(fbXY[:,0], fbXY[:,1], home_position  )\n",
    "\n",
    "    l = len(dfcurtr)\n",
    "    \n",
    "    tgti = dfcurtr['tgti_to_show']._values[0]\n",
    "    #print('tgti = ', tgti)\n",
    "\n",
    "    #from scipy.integrate import quad\n",
    "    ptinds = np.arange(l)\n",
    "    # for some reason order of tgts gets inverted. Or maybe only x coords?\n",
    "    fxint = interp1d([0, l ], [0, tx[tgti]], 'linear' )\n",
    "    tgtpathX_interp = fxint(ptinds)\n",
    "    fyint = interp1d([0, l ], [0, ty[tgti]], 'linear' )\n",
    "    tgtpathY_interp = fyint(ptinds)\n",
    "\n",
    "    #plt.plot(ptinds, fxint(ptinds))\n",
    "\n",
    "    ds = np.sqrt( (tgtpathX_interp - fbXhc)**2 + (tgtpathY_interp - fbYhc)**2 )\n",
    "    err = np.sum(ds) / len(ds)\n",
    "    return err\n",
    "    \n",
    "dfcc['error_intdist'] = dfcc.apply(f,1)\n",
    "coef = 0.5\n",
    "dfcc['error_aug'] = dfcc['error_intdist'] + coef * dfcc['error_distance']"
   ]
  },
  {
   "cell_type": "code",
   "execution_count": null,
   "id": "f24b2a0c",
   "metadata": {
    "hidden": true
   },
   "outputs": [],
   "source": []
  },
  {
   "cell_type": "code",
   "execution_count": null,
   "id": "ecc7090c",
   "metadata": {
    "code_folding": [],
    "hidden": true,
    "run_control": {
     "marked": false
    }
   },
   "outputs": [],
   "source": []
  },
  {
   "cell_type": "code",
   "execution_count": null,
   "id": "9ed76168",
   "metadata": {
    "hidden": true
   },
   "outputs": [],
   "source": []
  },
  {
   "cell_type": "code",
   "execution_count": null,
   "id": "5a5d1cb5",
   "metadata": {
    "hidden": true
   },
   "outputs": [],
   "source": [
    "dfcc['feedback']     = (dfcc['feedback_abs'] - 90)    - (dfcc['target_locs'] - 90)\n",
    "# org feedback is relative to the target (NOT including pert)\n",
    "dfcc['org_feedback'] = dfcc['org_feedback_abs'] - dfcc['target_locs']\n",
    "dfcc['error'] = dfcc['feedback_abs'] - dfcc['target_locs'] \n"
   ]
  },
  {
   "cell_type": "code",
   "execution_count": null,
   "id": "033d3475",
   "metadata": {
    "hidden": true
   },
   "outputs": [],
   "source": [
    "sns.lineplot(dfcc, y='feedback', x='trial_index')"
   ]
  },
  {
   "cell_type": "code",
   "execution_count": null,
   "id": "a7c93a88",
   "metadata": {
    "hidden": true
   },
   "outputs": [],
   "source": [
    "sns.lineplot(dfcc, y='error', x='trial_index')"
   ]
  },
  {
   "cell_type": "code",
   "execution_count": null,
   "id": "8d1d54fc",
   "metadata": {
    "hidden": true
   },
   "outputs": [],
   "source": [
    "dfcc.keys()"
   ]
  },
  {
   "cell_type": "code",
   "execution_count": null,
   "id": "5d51b67d",
   "metadata": {
    "hidden": true
   },
   "outputs": [],
   "source": [
    "c = dfcc['time_lh'].isna()\n",
    "\n",
    "dfcc_ = dfcc.loc[~c,['error_distance', 'enddist', 'enddist2', 'error_eucl', 'error']]\n",
    "dfcc_\n",
    "# error_eucl is mostly very close to error_eucl"
   ]
  },
  {
   "cell_type": "code",
   "execution_count": null,
   "id": "af109d84",
   "metadata": {
    "hidden": true
   },
   "outputs": [],
   "source": [
    "# pairplot is weird. error_eucl vs others has two components, \n",
    "# even though error_eucl it should be just distance at the end\n",
    "# also enddist and error_distance are not exactly the same thing\n",
    "\n",
    "# error_eucl has a cluster of values when it's very large"
   ]
  },
  {
   "cell_type": "code",
   "execution_count": null,
   "id": "a5bdadb8",
   "metadata": {
    "hidden": true
   },
   "outputs": [],
   "source": [
    "dfcc.query('error_eucl > 250')['trial_index']"
   ]
  },
  {
   "cell_type": "code",
   "execution_count": null,
   "id": "af656ad5",
   "metadata": {
    "hidden": true
   },
   "outputs": [],
   "source": [
    "sns.pairplot(dfcc_)"
   ]
  },
  {
   "cell_type": "code",
   "execution_count": null,
   "id": "a0bf2361",
   "metadata": {
    "hidden": true
   },
   "outputs": [],
   "source": [
    "params['radius_home']"
   ]
  },
  {
   "cell_type": "code",
   "execution_count": null,
   "id": "b651ba5c",
   "metadata": {
    "hidden": true
   },
   "outputs": [],
   "source": [
    "import matplotlib.pyplot as plt"
   ]
  },
  {
   "cell_type": "code",
   "execution_count": null,
   "id": "e85ba552",
   "metadata": {
    "hidden": true
   },
   "outputs": [],
   "source": [
    "sns.lineplot(dfc.query('trial_index < 50'),y='error_distance',\n",
    "             x='time_since_trial_start',\n",
    "            hue='trial_index')\n",
    "plt.axhline(float(params['dist_tgt_from_home']), ls=':', c='grey')\n",
    "plt.axhline(float(params['radius_home']), ls=':', c='grey')"
   ]
  },
  {
   "cell_type": "code",
   "execution_count": null,
   "id": "f183126b",
   "metadata": {
    "hidden": true
   },
   "outputs": [],
   "source": [
    "plt.plot(dfcurtr['time'], dfcurtr['error_distance'])\n",
    "plt.axhline(float(params['dist_tgt_from_home']), ls=':', c='grey')\n",
    "plt.axhline(float(params['radius_home']), ls=':', c='grey')"
   ]
  },
  {
   "cell_type": "code",
   "execution_count": null,
   "id": "f47277d9",
   "metadata": {
    "hidden": true
   },
   "outputs": [],
   "source": [
    "row['error_eucl']  # it is equal to enddist\n",
    "# error_distance gets updated all time during experiment BEFORE the end of the reach"
   ]
  },
  {
   "cell_type": "code",
   "execution_count": null,
   "id": "4ba4c500",
   "metadata": {
    "hidden": true
   },
   "outputs": [],
   "source": []
  },
  {
   "cell_type": "code",
   "execution_count": null,
   "id": "16299517",
   "metadata": {
    "hidden": true
   },
   "outputs": [],
   "source": []
  },
  {
   "cell_type": "code",
   "execution_count": null,
   "id": "3f044f07",
   "metadata": {
    "hidden": true
   },
   "outputs": [],
   "source": [
    "# error_eucl?"
   ]
  },
  {
   "cell_type": "code",
   "execution_count": null,
   "id": "94ebcf2c",
   "metadata": {
    "hidden": true
   },
   "outputs": [],
   "source": [
    "dfcc.keys()"
   ]
  },
  {
   "cell_type": "code",
   "execution_count": null,
   "id": "7d9d3cbb",
   "metadata": {
    "hidden": true
   },
   "outputs": [],
   "source": [
    "dfcurtr['error_distance']"
   ]
  },
  {
   "cell_type": "code",
   "execution_count": null,
   "id": "77c050cc",
   "metadata": {
    "hidden": true
   },
   "outputs": [],
   "source": [
    "from shapely.geometry import LineString\n",
    "line = LineString([(0,0), (0,1), (0,0)])\n",
    "print(line.length)"
   ]
  },
  {
   "cell_type": "code",
   "execution_count": null,
   "id": "cbf4326d",
   "metadata": {
    "hidden": true
   },
   "outputs": [],
   "source": [
    "dfcc['nonhit']"
   ]
  },
  {
   "cell_type": "code",
   "execution_count": null,
   "id": "b3d29009",
   "metadata": {
    "hidden": true
   },
   "outputs": [],
   "source": [
    "dfcc['error_area_signed'].hist()"
   ]
  },
  {
   "cell_type": "code",
   "execution_count": null,
   "id": "ec59ce2d",
   "metadata": {
    "hidden": true
   },
   "outputs": [],
   "source": [
    "dfcc['error_pert_adj'].hist()"
   ]
  },
  {
   "cell_type": "code",
   "execution_count": null,
   "id": "713dd912",
   "metadata": {
    "hidden": true
   },
   "outputs": [],
   "source": []
  },
  {
   "cell_type": "code",
   "execution_count": null,
   "id": "2bfd9c0f",
   "metadata": {
    "hidden": true
   },
   "outputs": [],
   "source": []
  },
  {
   "cell_type": "code",
   "execution_count": null,
   "id": "cdcf554a",
   "metadata": {
    "hidden": true
   },
   "outputs": [],
   "source": [
    "#lvf = exc_info[2].tb_next.tb_next.tb_next.tb_frame.f_locals\n",
    "lvf = exc_info[2].tb_frame.f_locals\n",
    "print(lvf.keys())"
   ]
  },
  {
   "cell_type": "code",
   "execution_count": null,
   "id": "fd49555b",
   "metadata": {
    "hidden": true
   },
   "outputs": [],
   "source": [
    "local_vars_in_fun.keys()"
   ]
  },
  {
   "cell_type": "code",
   "execution_count": null,
   "id": "fcf8265f",
   "metadata": {
    "hidden": true
   },
   "outputs": [],
   "source": [
    "ind = lvf['ind']\n",
    "area( lvf['fbXhc_ta'][ind:], lvf['fbYhc_ta'][ind:],\n",
    "     (0,lvf['rh']), (0,float(params['dist_tgt_from_home'])), verbose=0) "
   ]
  },
  {
   "cell_type": "code",
   "execution_count": null,
   "id": "71b3d428",
   "metadata": {
    "hidden": true
   },
   "outputs": [],
   "source": [
    "        traja = area(fbXhc_ta[ind:], fbYhc_ta[ind:], (0,rh),\n",
    "             (0,float(params['dist_tgt_from_home'])), verbose=0)"
   ]
  },
  {
   "cell_type": "code",
   "execution_count": null,
   "id": "aacb8ffa",
   "metadata": {
    "hidden": true
   },
   "outputs": [],
   "source": [
    "#dfcc.apply?"
   ]
  },
  {
   "cell_type": "code",
   "execution_count": null,
   "id": "d6004f84",
   "metadata": {
    "hidden": true
   },
   "outputs": [],
   "source": [
    "dfcc[['error_distance_lh', 'error_intdist2nn', 'error_intdist', 'time_lh']]"
   ]
  },
  {
   "cell_type": "code",
   "execution_count": null,
   "id": "5328a075",
   "metadata": {
    "hidden": true
   },
   "outputs": [],
   "source": [
    "row = dfcc.query('trial_index == 608').to_dict('records')[0]\n",
    "f(row)"
   ]
  },
  {
   "cell_type": "code",
   "execution_count": null,
   "id": "cc6d9d7f",
   "metadata": {
    "hidden": true
   },
   "outputs": [],
   "source": [
    "target_coords"
   ]
  },
  {
   "cell_type": "code",
   "execution_count": null,
   "id": "d5954e51",
   "metadata": {
    "hidden": true
   },
   "outputs": [],
   "source": [
    "print( homec2screen( *screen2homec(10, 25, home_position), home_position) )\n",
    "print( screen2homec( *homec2screen(10, 25, home_position), home_position) )"
   ]
  },
  {
   "cell_type": "code",
   "execution_count": null,
   "id": "3da86baf",
   "metadata": {
    "hidden": true
   },
   "outputs": [],
   "source": [
    "a = (831,185) # X,Y       #   862.166400951247, 174.88003766273215\n",
    "b = (800,196)\n",
    "np.linalg.norm( np.array(a) - np.array(b), 2)"
   ]
  },
  {
   "cell_type": "code",
   "execution_count": null,
   "id": "2446699f",
   "metadata": {
    "hidden": true
   },
   "outputs": [],
   "source": [
    "# target coords are inconsistent :((("
   ]
  },
  {
   "cell_type": "code",
   "execution_count": null,
   "id": "28d8d990",
   "metadata": {
    "hidden": true
   },
   "outputs": [],
   "source": [
    "target_coords[row['tgti_to_show']]"
   ]
  },
  {
   "cell_type": "code",
   "execution_count": null,
   "id": "27be882d",
   "metadata": {
    "hidden": true
   },
   "outputs": [],
   "source": [
    "np.array( list( map(int, eval(  params['target_angles'] ) ) )) - 180 - 90"
   ]
  },
  {
   "cell_type": "code",
   "execution_count": null,
   "id": "ace746af",
   "metadata": {
    "hidden": true
   },
   "outputs": [],
   "source": [
    "np.array(a) - np.array(b)"
   ]
  },
  {
   "cell_type": "code",
   "execution_count": null,
   "id": "bba3939a",
   "metadata": {
    "hidden": true
   },
   "outputs": [],
   "source": [
    "row"
   ]
  },
  {
   "cell_type": "code",
   "execution_count": null,
   "id": "746ae71f",
   "metadata": {
    "hidden": true
   },
   "outputs": [],
   "source": []
  },
  {
   "cell_type": "code",
   "execution_count": null,
   "id": "13b35456",
   "metadata": {
    "hidden": true
   },
   "outputs": [],
   "source": [
    "sns.lineplot(dfcc, x='trial_index', y ='feedback')\n",
    "sns.lineplot(dfcc, x='trial_index', y ='perturbation')\n",
    "sns.lineplot(dfcc, x='trial_index', y ='target_locs')"
   ]
  },
  {
   "cell_type": "code",
   "execution_count": null,
   "id": "a7f6af0c",
   "metadata": {
    "hidden": true
   },
   "outputs": [],
   "source": []
  },
  {
   "cell_type": "markdown",
   "id": "9f8132ef",
   "metadata": {
    "heading_collapsed": true
   },
   "source": [
    "## 2d trajectory plots"
   ]
  },
  {
   "cell_type": "code",
   "execution_count": null,
   "id": "7c472447",
   "metadata": {
    "code_folding": [],
    "hidden": true
   },
   "outputs": [],
   "source": [
    "# test area function\n",
    "from shapely.geometry import LineString, Point, Polygon\n",
    "import sys\n",
    "from behav_proc import area\n",
    "\n",
    "    # find intersections of oy\n",
    "# why inp does not contain -10?\n",
    "# what if Y is nonmonotonic? Will shapeley work?\n",
    "    \n",
    "#print( area([0,0,0],[0.0, 0.5, 1.], (0,0), (0,2), verbose=1) )\n",
    "#print( area([0,-1,0],[0.0, 0.5, 1.], (0,0), (0,2), verbose=1) )\n",
    "#print( area([0,-1,-1, -1],[0.0, 0.5, 0.1, 1.], (0,0), (0,2), verbose=1) )\n",
    "\n",
    "print( area([0,-10,1],[0.02, 0.5, 1.], (0,0), (0,2), verbose=1) )\n",
    "\n",
    "print( area([0,10,-1],[0.02, 0.5, 1.], (0,0), (0,2), verbose=1) )\n",
    "#0, a bit up, left up, right up, \n",
    "#print( area([0,-10,10,1],[0.1, 0.5, 0.8, 1.], (0,0), (0,2), verbose=1) )\n",
    "# TODO: problem in indexing of sign changes perhaps\n",
    "# TODO: determin pos/neg sign depending on the pert direction"
   ]
  },
  {
   "cell_type": "code",
   "execution_count": null,
   "id": "f4beffea",
   "metadata": {
    "hidden": true
   },
   "outputs": [],
   "source": [
    "# print( area([0,-10,10,1],[0.1, 0.5, 0.8, 1.], (0,0), (0,2), verbose=1) )\n",
    "# print( area([0,-10,10,1],[0.2, 0.5, 0.8, 1.], (0,0), (0,2), verbose=1) )"
   ]
  },
  {
   "cell_type": "code",
   "execution_count": null,
   "id": "574cfc3d",
   "metadata": {
    "hidden": true
   },
   "outputs": [],
   "source": [
    "# plt.scatter(fbXhc[ind:],fbYhc[ind:])\n",
    "# plt.scatter(list(tx) + [0], np.array(list(ty) + [0 ] ) , s=153, label='tx')\n",
    "# ind2 = ind + 30; n = 5\n",
    "# plt.scatter(fbXhc[ind2:ind2+n],fbYhc[ind2:ind2+n])"
   ]
  },
  {
   "cell_type": "code",
   "execution_count": null,
   "id": "0ada0c7c",
   "metadata": {
    "hidden": true
   },
   "outputs": [],
   "source": [
    "from exper_protocol.utils import screen2homec\n",
    "target_coords_homec = screen2homec( *tuple(zip(*target_coords)), home_position  )\n",
    "from behav_proc import plotTraj"
   ]
  },
  {
   "cell_type": "code",
   "execution_count": null,
   "id": "78c7d34f",
   "metadata": {
    "hidden": true
   },
   "outputs": [],
   "source": [
    "dfbad= df_.query('tgti_to_show == 1 and vis_feedback_type == \"rot20\" and error < -15') #.hist()"
   ]
  },
  {
   "cell_type": "code",
   "execution_count": null,
   "id": "0c7a64c0",
   "metadata": {
    "hidden": true
   },
   "outputs": [],
   "source": [
    "#df_.query('tgti_to_show == 1 and vis_feedback_type == \"rot20\" and error < -15') #.hist()"
   ]
  },
  {
   "cell_type": "code",
   "execution_count": null,
   "id": "461bae3a",
   "metadata": {
    "hidden": true
   },
   "outputs": [],
   "source": [
    "rows = dfbad[['subject','trial_index','trial_type','error']].to_dict('records')"
   ]
  },
  {
   "cell_type": "code",
   "execution_count": null,
   "id": "cd4dd8ad",
   "metadata": {
    "hidden": true
   },
   "outputs": [],
   "source": [
    "rows[:3]"
   ]
  },
  {
   "cell_type": "code",
   "execution_count": null,
   "id": "316ab76b",
   "metadata": {
    "hidden": true
   },
   "outputs": [],
   "source": [
    "dfc_multi_tsz.keys()"
   ]
  },
  {
   "cell_type": "code",
   "execution_count": null,
   "id": "bcf2d157",
   "metadata": {
    "hidden": true
   },
   "outputs": [],
   "source": [
    "s = dfccos.subject.unique()[0]; print(s)\n",
    "\n",
    "\n",
    "dfesqs = (f'subject == \"{s}\"'\n",
    "          ' and error_data_for_calc == \"signed_area_scaled_ed\"'\n",
    "          ' and trial_shift_size == 1 and trial_group_col_calc == \"trials\"')    \n",
    "\n",
    "dfc_ = dfc_multi_tsz.query(dfesqs)\n",
    "rng = dfc_.loc[dfc_['err_sens'] < -13, 'trial_index'].values;\n",
    "print(rng)\n",
    "\n",
    "#rng = dfccos.loc[dfccos['error_area_ofb_signed_scaled_ed'] < -13, 'trial_index'].values\n",
    "\n",
    "SS = 14\n",
    "rng = rng[SS:]\n",
    "S = 5\n",
    "N = 5\n",
    "rng = np.vstack([rng - 1, rng]).T[S:S+N, :].flatten()\n",
    "rng"
   ]
  },
  {
   "cell_type": "code",
   "execution_count": null,
   "id": "c0640a7a",
   "metadata": {
    "hidden": true
   },
   "outputs": [],
   "source": [
    "row = rows[6]\n",
    "print(row)\n",
    "print(row['trial_index'])\n",
    "s = row['subject']\n",
    "dfcos = dfc.query(f'subject == \"{s}\"')\n",
    "rng = range(row['trial_index'] - 5, row['trial_index'] + 11)"
   ]
  },
  {
   "cell_type": "code",
   "execution_count": null,
   "id": "e58e1ba6",
   "metadata": {
    "hidden": true
   },
   "outputs": [],
   "source": [
    "grp_perti = dfcos.groupby(['trial_index'])\n",
    "\n",
    "pause_inds = dfcpc_all.query(f'subject == \"{s}\"').groupby('trial_index').max('time').index\n",
    "#['trial_index']\n",
    "pause_inds = np.array(pause_inds)"
   ]
  },
  {
   "cell_type": "code",
   "execution_count": null,
   "id": "ef13ffb1",
   "metadata": {
    "hidden": true
   },
   "outputs": [],
   "source": [
    "#rngs = f'{rng.start,rng.stop}'\n",
    "rngs = f'S={S}; N={N}'"
   ]
  },
  {
   "cell_type": "code",
   "execution_count": null,
   "id": "ba5583a9",
   "metadata": {
    "hidden": true
   },
   "outputs": [],
   "source": [
    "row"
   ]
  },
  {
   "cell_type": "code",
   "execution_count": null,
   "id": "a88d928c",
   "metadata": {
    "hidden": true
   },
   "outputs": [],
   "source": []
  },
  {
   "cell_type": "code",
   "execution_count": null,
   "id": "42410735",
   "metadata": {
    "hidden": true
   },
   "outputs": [],
   "source": [
    "colscols = [['trialwb','perturbation','trial_type'],\n",
    "            ['error_endpoint_ang', 'error_area_signed_nn'],\n",
    "            ['error_area_signed', 'time_mvt'],\n",
    "            ['error_area_ofb_signed'],\n",
    "            [ 'error_area_signed_tln', 'error_lh_ang'],\n",
    "            [ 'correction', 'prev_error'],\n",
    "           ['err_sens', 'nonhit']]"
   ]
  },
  {
   "cell_type": "code",
   "execution_count": null,
   "id": "ef41c96d",
   "metadata": {
    "hidden": true
   },
   "outputs": [],
   "source": [
    "rng = rng[:2]"
   ]
  },
  {
   "cell_type": "code",
   "execution_count": null,
   "id": "83f9a103",
   "metadata": {
    "hidden": true
   },
   "outputs": [],
   "source": [
    "rng = [460,461]\n",
    "rng = np.arange(460,464)"
   ]
  },
  {
   "cell_type": "code",
   "execution_count": null,
   "id": "f095b0d7",
   "metadata": {
    "hidden": true
   },
   "outputs": [],
   "source": [
    "np.math.atan2(0,10), np.math.atan2(10,20) / np.pi * 180, np.math.atan2(20,10) / np.pi * 180"
   ]
  },
  {
   "cell_type": "code",
   "execution_count": null,
   "id": "430ab761",
   "metadata": {
    "hidden": true
   },
   "outputs": [],
   "source": [
    "np.math.atan2(0,10), np.math.atan2(-10,20) / np.pi * 180, np.math.atan2(-20,10) / np.pi * 180"
   ]
  },
  {
   "cell_type": "code",
   "execution_count": null,
   "id": "efafefc3",
   "metadata": {
    "hidden": true
   },
   "outputs": [],
   "source": [
    "s"
   ]
  },
  {
   "cell_type": "code",
   "execution_count": null,
   "id": "6f00f3e8",
   "metadata": {
    "hidden": true
   },
   "outputs": [],
   "source": [
    "from behav_proc import row2multierr\n",
    "row = axi2d[1]['row']\n",
    "r = row2multierr(row,dfcos,grp_perti, home_position, target_coords,\n",
    "           params)\n",
    "z = zip( ['err', 'error_lh_ang', 'error_unpert_lh_ang', 'start_dist',\n",
    "              'traja', 'trajoa', 'td',\n",
    "        'length',  'enddist'], r)\n",
    "dict(z)"
   ]
  },
  {
   "cell_type": "code",
   "execution_count": null,
   "id": "3fe77421",
   "metadata": {
    "hidden": true
   },
   "outputs": [],
   "source": [
    "from behav_proc import plotTraj\n",
    "from config2 import path_fig\n",
    "#rng = range(600,603)\n",
    "#rng = range(596,625)\n",
    "#rng = range(8,10)\n",
    "#rng = range(50,60)\n",
    "#rng = range(55,57)\n",
    "\n",
    "show_dist_guides = False\n",
    "ww = 5; hh =5\n",
    "#nc = int(np.ceil(np.sqrt(len(rng)) ) ); nr = int( np.ceil( len(rng) / nc ) )\n",
    "nr = N; nc = 2\n",
    "\n",
    "fig,axs = plt.subplots(nr,nc, figsize=(nc*ww, nr * hh))\n",
    "axsf = axs.flatten()\n",
    "\n",
    "axi2d = {}\n",
    "for axi,ti in enumerate(rng):\n",
    "    ax = axsf[axi]    \n",
    "    if ti not in grp_perti.groups:\n",
    "        if ti in pause_inds:            \n",
    "            print(f'Skipping {ti} because pause')\n",
    "            ax.set_title('PAUSE')\n",
    "        else:\n",
    "            print(f'Skipping {ti} because ?')\n",
    "        continue\n",
    "        \n",
    "    df0 = dfcc.query(f'subject == \"{s}\" and trial_index == {ti}')\n",
    "    row = df0.to_dict('records')[0]\n",
    "    \n",
    "    ev = row['error_endpoint_ang']\n",
    "    tiwb = row['trialwb']\n",
    "\n",
    "    \n",
    "    dfes = df_all_multi_tsz.query(dfesqs + f' and trial_index == {ti}')\n",
    "    assert len(dfes) == 1\n",
    "    row2 = dfes.to_dict('records')[0]\n",
    "    row.update(row2)\n",
    "    \n",
    "    \n",
    "    idx = grp_perti.groups[ti]\n",
    "    dfcurtr = dfcos.loc[idx[1:]]  # zeroth is equal to zero\n",
    "    plotTraj(ax, dfcurtr, home_position, target_coords_homec, params,\n",
    "            force_entire_traj=0, calc_area = 1, addinfo=row,\n",
    "            titlecols = colscols)\n",
    "    \n",
    "    axi2d[axi] = {'df0':df0, 'row':row, 'dfcurtr':dfcurtr}\n",
    "    \n",
    "    print(f'error = {ev}, tiwb = {tiwb}')\n",
    "    \n",
    "plt.tight_layout()\n",
    "plt.savefig(pjoin(path_fig, f'traj_2D_{row[\"subject\"]}_{rngs}.pdf') )\n",
    "plt.close()"
   ]
  },
  {
   "cell_type": "code",
   "execution_count": null,
   "id": "b6bdeff7",
   "metadata": {
    "hidden": true
   },
   "outputs": [],
   "source": [
    "rprev = axi2d[0]['row']\n",
    "r = axi2d[1]['row']"
   ]
  },
  {
   "cell_type": "code",
   "execution_count": null,
   "id": "0f408bf3",
   "metadata": {
    "hidden": true
   },
   "outputs": [],
   "source": [
    "r.keys()"
   ]
  },
  {
   "cell_type": "code",
   "execution_count": null,
   "id": "b61870e0",
   "metadata": {
    "hidden": true
   },
   "outputs": [],
   "source": [
    "coln_pairs[0]"
   ]
  },
  {
   "cell_type": "code",
   "execution_count": null,
   "id": "3999980c",
   "metadata": {
    "hidden": true
   },
   "outputs": [],
   "source": [
    "r['correction'] / r['error_area_signed_scaled_ed']"
   ]
  },
  {
   "cell_type": "code",
   "execution_count": null,
   "id": "169313f2",
   "metadata": {
    "hidden": true
   },
   "outputs": [],
   "source": [
    "rprev['correction'], r['correction'], r['error_area_signed_scaled_ed']"
   ]
  },
  {
   "cell_type": "code",
   "execution_count": null,
   "id": "ef37b9ec",
   "metadata": {
    "hidden": true
   },
   "outputs": [],
   "source": [
    "rprev['error_area_signed_nn'], r['error_area_signed_nn']"
   ]
  },
  {
   "cell_type": "code",
   "execution_count": null,
   "id": "2f562cbd",
   "metadata": {
    "hidden": true
   },
   "outputs": [],
   "source": [
    "rprev['error_area_ofb_signed_nn'], r['error_area_ofb_signed_nn']"
   ]
  },
  {
   "cell_type": "code",
   "execution_count": null,
   "id": "90d23553",
   "metadata": {
    "hidden": true
   },
   "outputs": [],
   "source": [
    "rprev['error_area_ofb_signed'], r['error_area_ofb_signed']"
   ]
  },
  {
   "cell_type": "code",
   "execution_count": null,
   "id": "7ed458ab",
   "metadata": {
    "hidden": true
   },
   "outputs": [],
   "source": [
    "rprev['error_area_ofb_signed_tln'], r['error_area_ofb_signed_tln']"
   ]
  },
  {
   "cell_type": "code",
   "execution_count": null,
   "id": "7befc996",
   "metadata": {
    "hidden": true
   },
   "outputs": [],
   "source": [
    "rprev['error_area_ofb_signed_scaled_ed'], r['error_area_ofb_signed_scaled_ed']"
   ]
  },
  {
   "cell_type": "code",
   "execution_count": null,
   "id": "b804f054",
   "metadata": {
    "hidden": true
   },
   "outputs": [],
   "source": [
    "rprev['traj_length'], r['traj_length']"
   ]
  },
  {
   "cell_type": "code",
   "execution_count": null,
   "id": "1292f544",
   "metadata": {
    "hidden": true
   },
   "outputs": [],
   "source": [
    "rprev['error_distance'], r['error_distance']"
   ]
  },
  {
   "cell_type": "markdown",
   "id": "0f17a091",
   "metadata": {
    "hidden": true
   },
   "source": [
    "both are hit trials\n",
    "####### second trial \n",
    "area_nn is much more neg\n",
    "area_ofb_nn is a bit smaller\n",
    "mvt time is always twice higher\n",
    "endpt distance is 25% lower\n",
    "\n",
    "traj_length is a bit smaller \n",
    "\n",
    "area ofb (after scaling by mvt time) is twice smaller\n",
    "area ofb (after scaling by traj len) is a bit smaller\n",
    "\n"
   ]
  },
  {
   "cell_type": "code",
   "execution_count": null,
   "id": "c36b3fca",
   "metadata": {
    "hidden": true
   },
   "outputs": [],
   "source": [
    "colors = ['blue', 'red']\n",
    "for ii in [0,1]:\n",
    "    Y = axi2d[ii]['dfcurtr']['feedbackY'].values\n",
    "    X = axi2d[ii]['dfcurtr']['feedbackX'].values\n",
    "    X,Y = screen2homec(X,Y,home_position)\n",
    "    plt.plot(np.arange(len(X) ),X, c=colors[ii])\n",
    "    plt.plot(np.arange(len(Y) ),Y, c=colors[ii], lw=3)\n",
    "    plt.axhline(float(params['dist_tgt_from_home']) - hitr, ls=':')\n",
    "    plt.axhline(float(params['dist_tgt_from_home']), ls=':')"
   ]
  },
  {
   "cell_type": "code",
   "execution_count": null,
   "id": "c090460b",
   "metadata": {
    "hidden": true
   },
   "outputs": [],
   "source": [
    "#np.power( np.maximum(r['error_distance'] / hitr, 1.)   , 1./8. ) \n",
    "#np.power( np.maximum(rprev['error_distance'] / hitr, 1.)   , 1./8. ) "
   ]
  },
  {
   "cell_type": "markdown",
   "id": "5bac689d",
   "metadata": {
    "hidden": true
   },
   "source": []
  },
  {
   "cell_type": "code",
   "execution_count": null,
   "id": "4c69c6cd",
   "metadata": {
    "hidden": true
   },
   "outputs": [],
   "source": [
    "row['trial_type']"
   ]
  },
  {
   "cell_type": "code",
   "execution_count": null,
   "id": "c85d9aec",
   "metadata": {
    "hidden": true
   },
   "outputs": [],
   "source": [
    "dfccos['time_lh']"
   ]
  },
  {
   "cell_type": "code",
   "execution_count": null,
   "id": "9b7fe4fe",
   "metadata": {
    "hidden": true
   },
   "outputs": [],
   "source": [
    "dfccos.loc[dfccos['time_lh'].isna(), 'error'] = np.nan"
   ]
  },
  {
   "cell_type": "code",
   "execution_count": null,
   "id": "015e466c",
   "metadata": {
    "hidden": true
   },
   "outputs": [],
   "source": [
    "dfccos.query('trial_index == 55')[['error','time_lh']]"
   ]
  },
  {
   "cell_type": "code",
   "execution_count": null,
   "id": "1390a1ab",
   "metadata": {
    "hidden": true
   },
   "outputs": [],
   "source": [
    "#dfcurtr['perturbation']"
   ]
  },
  {
   "cell_type": "code",
   "execution_count": null,
   "id": "dad6c8fc",
   "metadata": {
    "hidden": true
   },
   "outputs": [],
   "source": [
    "path_fig"
   ]
  },
  {
   "cell_type": "code",
   "execution_count": null,
   "id": "a5ee1731",
   "metadata": {
    "hidden": true
   },
   "outputs": [],
   "source": [
    "plt.scatter(list(dfcurtr['target_coordX']) + [home_position[0]], \n",
    "            list(dfcurtr['target_coordY']) + [home_position[1]]  , s=153)\n",
    "plt.scatter(fbXY[:,0] , fbXY[:,1] , alpha=0.2)\n",
    "#plt.scatter(tgtpathX_interp , tgtpathY_interp , alpha=0.2)"
   ]
  },
  {
   "cell_type": "code",
   "execution_count": null,
   "id": "db8f30f0",
   "metadata": {
    "hidden": true
   },
   "outputs": [],
   "source": [
    "target_coords_homec"
   ]
  },
  {
   "cell_type": "code",
   "execution_count": null,
   "id": "24903c14",
   "metadata": {
    "hidden": true
   },
   "outputs": [],
   "source": [
    "fx,fy = screen2homec( dfcc['feedbackX'].to_numpy(),dfcc['feedbackY'].to_numpy(), home_position)"
   ]
  },
  {
   "cell_type": "code",
   "execution_count": null,
   "id": "ee6f6fd4",
   "metadata": {
    "hidden": true
   },
   "outputs": [],
   "source": [
    "tx,ty = target_coords_homec\n",
    "plt.scatter(list(tx) + [0], np.array(list(ty) + [0 ] ) , s=153)\n",
    "\n",
    "\n",
    "plt.scatter(list(fx) , np.array(list(fy) ) , alpha=0.2)"
   ]
  },
  {
   "cell_type": "code",
   "execution_count": null,
   "id": "c81ac6e5",
   "metadata": {
    "hidden": true
   },
   "outputs": [],
   "source": [
    "# target_coords_homec = screen2homec( *tuple(zip(*target_coords)), home_position  )\n",
    "# tx,ty = target_coords_homec\n",
    "# #tx,ty = list( zip(*tc) )\n",
    "# plt.scatter(list(tx) + [0] ,\n",
    "#             np.array(list(ty) + [0 ] ) )\n",
    "\n"
   ]
  },
  {
   "cell_type": "markdown",
   "id": "12464734",
   "metadata": {
    "heading_collapsed": true
   },
   "source": [
    "## Debug"
   ]
  },
  {
   "cell_type": "code",
   "execution_count": null,
   "id": "377e8ef4",
   "metadata": {
    "hidden": true
   },
   "outputs": [],
   "source": []
  },
  {
   "cell_type": "code",
   "execution_count": null,
   "id": "2479505d",
   "metadata": {
    "hidden": true
   },
   "outputs": [],
   "source": [
    "grp.size()"
   ]
  },
  {
   "cell_type": "code",
   "execution_count": null,
   "id": "cfd03722",
   "metadata": {
    "hidden": true
   },
   "outputs": [],
   "source": [
    "dfc['dist_rad_from_prevtgt'].unique()"
   ]
  },
  {
   "cell_type": "code",
   "execution_count": null,
   "id": "73d97edf",
   "metadata": {
    "hidden": true
   },
   "outputs": [],
   "source": [
    "# Why do I have distance 15.03?\n",
    "# TODO maybe mark first trials in a block\n",
    "# TODO pring block index"
   ]
  },
  {
   "cell_type": "code",
   "execution_count": null,
   "id": "9443ab6c",
   "metadata": {
    "hidden": true
   },
   "outputs": [],
   "source": [
    "dfcc.query('special_block_type != \"pretraining\"')['reward'].mean()"
   ]
  },
  {
   "cell_type": "code",
   "execution_count": null,
   "id": "5f5fa5e9",
   "metadata": {
    "hidden": true
   },
   "outputs": [],
   "source": [
    "dfcc.query('special_block_type != \"pretraining\"')['reward'].plot()"
   ]
  },
  {
   "cell_type": "code",
   "execution_count": null,
   "id": "b85c79d4",
   "metadata": {
    "hidden": true
   },
   "outputs": [],
   "source": [
    "dfcc.info()"
   ]
  },
  {
   "cell_type": "code",
   "execution_count": null,
   "id": "d2dadd98",
   "metadata": {
    "hidden": true
   },
   "outputs": [],
   "source": [
    "dfcc.describe()"
   ]
  },
  {
   "cell_type": "code",
   "execution_count": null,
   "id": "0d52bfff",
   "metadata": {
    "hidden": true
   },
   "outputs": [],
   "source": [
    "dfcc"
   ]
  },
  {
   "cell_type": "code",
   "execution_count": null,
   "id": "62aa3108",
   "metadata": {
    "hidden": true
   },
   "outputs": [],
   "source": []
  },
  {
   "cell_type": "code",
   "execution_count": null,
   "id": "3002ebfe",
   "metadata": {
    "hidden": true
   },
   "outputs": [],
   "source": [
    "dfcc[['error_distance','error_eucl']]"
   ]
  },
  {
   "cell_type": "code",
   "execution_count": null,
   "id": "f2b43204",
   "metadata": {
    "hidden": true
   },
   "outputs": [],
   "source": [
    "dfcc[['trial_index','tgti_to_show','target_locs','perturbation','feedback_abs']]"
   ]
  },
  {
   "cell_type": "code",
   "execution_count": null,
   "id": "bf1443a9",
   "metadata": {
    "hidden": true
   },
   "outputs": [],
   "source": [
    "sns.lineplot(dfcc, x='trial_index', y ='feedback_abs')"
   ]
  },
  {
   "cell_type": "code",
   "execution_count": null,
   "id": "4146f1f5",
   "metadata": {
    "hidden": true
   },
   "outputs": [],
   "source": [
    "sns.lineplot(dfcc, x='trial_index', y ='feedback')"
   ]
  },
  {
   "cell_type": "code",
   "execution_count": null,
   "id": "560083d0",
   "metadata": {
    "hidden": true
   },
   "outputs": [],
   "source": [
    "dfcc['error_intdist']"
   ]
  },
  {
   "cell_type": "code",
   "execution_count": null,
   "id": "8fa2f020",
   "metadata": {
    "hidden": true
   },
   "outputs": [],
   "source": [
    "dfcc.columns"
   ]
  },
  {
   "cell_type": "code",
   "execution_count": null,
   "id": "85b53b82",
   "metadata": {
    "hidden": true
   },
   "outputs": [],
   "source": []
  },
  {
   "cell_type": "markdown",
   "id": "ef439530",
   "metadata": {
    "heading_collapsed": true
   },
   "source": [
    "# error plots"
   ]
  },
  {
   "cell_type": "code",
   "execution_count": null,
   "id": "d3b685bc",
   "metadata": {
    "hidden": true
   },
   "outputs": [],
   "source": [
    "# TODO maybe I should set error to nan for pause trials"
   ]
  },
  {
   "cell_type": "code",
   "execution_count": null,
   "id": "d4704106",
   "metadata": {
    "hidden": true
   },
   "outputs": [],
   "source": [
    "#pause_inds = dfcpcos['trial_index'].to_numpy()\n",
    "pause_inds = dfcpcos['trial_index'].unique()\n",
    "block_ends = dfcos.groupby(['block_ind'])['trial_index'].max()"
   ]
  },
  {
   "cell_type": "code",
   "execution_count": null,
   "id": "04443553",
   "metadata": {
    "hidden": true
   },
   "outputs": [],
   "source": [
    "# coef = dfcc['error_area_signed'].quantile(0.75) / 15\n",
    "# dfcc['error_aug3'] = dfcc['error_area_signed'] + coef * dfcc['error_pert_adj']\n"
   ]
  },
  {
   "cell_type": "code",
   "execution_count": null,
   "id": "01399cac",
   "metadata": {
    "hidden": true
   },
   "outputs": [],
   "source": [
    "# not needed because pauses are ALRREADY NOT in dfcc\n",
    "\n",
    "# inds = dfccos['trial_index'].isin(pause_inds)\n",
    "# for yname in ['error_aug2', 'error_intdist2', 'error_intdist2nn','error_intdist','error_distance',              \n",
    "#              'error_distance_lh']:\n",
    "#     dfccos.loc[inds, yname] = np.nan"
   ]
  },
  {
   "cell_type": "code",
   "execution_count": null,
   "id": "31e5861d",
   "metadata": {
    "hidden": true
   },
   "outputs": [],
   "source": [
    "# c = dfccos['error'] > 180\n",
    "# dfccos.loc[c, 'error'] =  dfccos.loc[c, 'error'] - 360\n",
    "# c = dfccos['error'] < -180\n",
    "# dfccos.loc[c, 'error'] =  dfccos.loc[c, 'error'] + 360\n",
    "# c = dfccos['perturbation'] < 0\n",
    "# dfccos['error_pert_adj'] = dfccos['error']\n",
    "# dfccos.loc[c, 'error_pert_adj'] = -dfccos.loc[c,'error_pert_adj']\n"
   ]
  },
  {
   "cell_type": "code",
   "execution_count": null,
   "id": "23016dae",
   "metadata": {
    "hidden": true
   },
   "outputs": [],
   "source": [
    "dfccos['error_pert_adj'].describe()"
   ]
  },
  {
   "cell_type": "code",
   "execution_count": null,
   "id": "3aa28d1d",
   "metadata": {
    "hidden": true
   },
   "outputs": [],
   "source": [
    "#dfccos.query('error < -100')"
   ]
  },
  {
   "cell_type": "code",
   "execution_count": null,
   "id": "e1b0ee7f",
   "metadata": {
    "hidden": true
   },
   "outputs": [],
   "source": [
    "dfccos.loc[dfccos['time_lh'].isna(), 'error_pert_adj'] = np.nan\n"
   ]
  },
  {
   "cell_type": "code",
   "execution_count": null,
   "id": "5d211a12",
   "metadata": {
    "hidden": true
   },
   "outputs": [],
   "source": [
    "col = 'error_area_signed'\n",
    "col2 = 'error_pert_adj'\n",
    "if col in dfccos.columns:\n",
    "    coef = dfccos[col].quantile(0.75) / dfccos[col2].quantile(0.75)\n",
    "    dfccos['error_aug3'] = dfccos[col] + coef * dfccos[col2]\n"
   ]
  },
  {
   "cell_type": "code",
   "execution_count": null,
   "id": "f05c2809",
   "metadata": {
    "hidden": true
   },
   "outputs": [],
   "source": [
    "\n",
    "dfccos  = dfcc_all.query('subject == @subj')"
   ]
  },
  {
   "cell_type": "code",
   "execution_count": null,
   "id": "2ed5d7a0",
   "metadata": {
    "hidden": true
   },
   "outputs": [],
   "source": [
    "%matplotlib inline\n",
    "import matplotlib.pyplot as plt\n",
    "\n",
    "grp = dfccos.query('trial_type != \"error_clamp\"').groupby('block_ind')\n",
    "block_ends = grp['trial_index'].max()\n",
    "# error -- angular signed\n",
    "#'error_eucl',\n",
    "#for yname in ['error_aug2', 'error_intdist2', 'error_intdist2nn','error_intdist','error_distance',              \n",
    "#             'error_distance_lh']:\n",
    "df_ = dfccos.query('trial_index > 12')\n",
    "\n",
    "ynames = ['error','error_pert_adj', 'error_distance',\n",
    "          'error_area_signed_nn',\n",
    "          'error_area_signed', 'error_aug3', \n",
    "          'time_lh', 'traj_length']\n",
    "\n",
    "#ynames = ['error','error_pert_adj']\n",
    "\n",
    "ww = 20; hh=3\n",
    "nr = len(ynames)\n",
    "fig,axs =  plt.subplots(nr,1,figsize=(ww, nr*hh))\n",
    "axs = axs.flatten()\n",
    "for axi, yname in enumerate(ynames):    \n",
    "#for yname in ['error_intdist2nn']:\n",
    "    #yname = 'error_intdist2'\n",
    "    #dfcc['tmp']\n",
    "    #plt.figure(figsize=(20,3))\n",
    "    ax = axs[axi]    \n",
    "    sns.lineplot(df_, x='trial_index', y =yname, ax=ax)\n",
    "    #sns.lineplot(dfcc, x='trial_index', y ='perturbation', alpha=0.4, c='r')\n",
    "\n",
    "    from config2 import path_fig\n",
    "    \n",
    "    mult = df_[yname].max() / 40\n",
    "    #if yname == 'error_intdist2nn':\n",
    "    #    mult = dfcc[yname].max()\n",
    "    #else:\n",
    "    #    mult = 1.            \n",
    "        \n",
    "    ax.plot(dfccos['trial_index'], dfccos['perturbation']._values * mult,\n",
    "             alpha=0.4, c='r', label='pert')\n",
    "    ax.vlines(pause_inds, -20 * mult, 20 * mult, color='green', ls = ':',\n",
    "             label='pause')\n",
    "    \n",
    "    ax.vlines(block_ends, -20 * mult, 20 * mult, color='grey', ls = '--',\n",
    "             label='block')\n",
    "\n",
    "    ax.plot(dfccos['trial_index'], dfccos['tgti_to_show'] * 7 * mult, \n",
    "            color='cyan', alpha=0.5,\n",
    "           label='target', ls=':')\n",
    "    ax.grid(False)\n",
    "    ax.axhline(y=0, ls=':', c='red')\n",
    "    \n",
    "    #plt.savefig( pjoin(path_fig, f'{subj}_{yname}.pdf' ) )\n",
    "    #plt.close()\n",
    "    if axi == nr - 1:\n",
    "        ax.legend(loc='lower right')\n",
    "plt.tight_layout()\n",
    "plt.savefig( pjoin(path_fig, f'{subj}_{\",\".join(ynames)}.pdf' ) )"
   ]
  },
  {
   "cell_type": "code",
   "execution_count": null,
   "id": "0f78a85f",
   "metadata": {
    "hidden": true
   },
   "outputs": [],
   "source": [
    "dfcc.columns"
   ]
  },
  {
   "cell_type": "code",
   "execution_count": null,
   "id": "f0dad388",
   "metadata": {
    "hidden": true
   },
   "outputs": [],
   "source": [
    "dfcc"
   ]
  },
  {
   "cell_type": "code",
   "execution_count": null,
   "id": "164974a5",
   "metadata": {
    "hidden": true
   },
   "outputs": [],
   "source": [
    "#dfcc['error_distance']"
   ]
  },
  {
   "cell_type": "code",
   "execution_count": null,
   "id": "aa7e2a17",
   "metadata": {
    "hidden": true
   },
   "outputs": [],
   "source": []
  },
  {
   "cell_type": "code",
   "execution_count": null,
   "id": "98e08375",
   "metadata": {
    "hidden": true
   },
   "outputs": [],
   "source": [
    "# TODO: error clamp need to be handled differently?"
   ]
  },
  {
   "cell_type": "code",
   "execution_count": null,
   "id": "f9468154",
   "metadata": {
    "hidden": true
   },
   "outputs": [],
   "source": [
    "#sns.lineplot(dfcc, x='trial_index', y ='error_eucl')\n",
    "#sns.lineplot(dfcc, x='trial_index', y ='feedbackX')\n",
    "sns.lineplot(dfcc, x='trial_index', y ='feedback_abs',label='feedback_abs')\n",
    "sns.lineplot(dfcc, x='trial_index', y ='org_feedback_abs',label='org_feedback_abs',\n",
    "            ls='--')\n",
    "#sns.lineplot(dfcc, x='trial_index', y ='feedback')\n",
    "#sns.lineplot(dfcc, x='trial_index', y ='error')\n",
    "sns.lineplot(dfcc, x='trial_index', y ='perturbation', alpha=0.4, c='r',label='pert')\n",
    "sns.lineplot(dfcc, x='trial_index', y ='target_locs', c='g',label='tgt')\n",
    "plt.gca().vlines(dfcpc['trial_index'], -20,10, color= 'cyan', ls='--')\n",
    "plt.gca().vlines(dfctc['trial_index'], -20,-17, color= 'gray', ls='--',alpha=0.4)\n",
    "plt.legend()"
   ]
  },
  {
   "cell_type": "markdown",
   "id": "a870c907",
   "metadata": {},
   "source": [
    "# summary one"
   ]
  },
  {
   "cell_type": "code",
   "execution_count": null,
   "id": "62677dac",
   "metadata": {},
   "outputs": [],
   "source": [
    "numtrain = int(params['num_training'])\n",
    "grp = dfccos.query('trial_index > @numtrain').\\\n",
    "                   groupby(['tgti_to_show','vis_feedback_type','trialwb'])\n",
    "grp.size()"
   ]
  },
  {
   "cell_type": "code",
   "execution_count": null,
   "id": "b43400cc",
   "metadata": {},
   "outputs": [],
   "source": [
    "dfccos['trial_type'].unique()"
   ]
  },
  {
   "cell_type": "code",
   "execution_count": null,
   "id": "7ea2cc98",
   "metadata": {},
   "outputs": [],
   "source": [
    "dfccos.query('nonhit == True')['nonhit']"
   ]
  },
  {
   "cell_type": "code",
   "execution_count": null,
   "id": "e07a6eb0",
   "metadata": {},
   "outputs": [],
   "source": [
    "# TODO: right before pause and right after"
   ]
  },
  {
   "cell_type": "code",
   "execution_count": null,
   "id": "b156de82",
   "metadata": {},
   "outputs": [],
   "source": [
    "spectrials = [\"error_clamp\", \"pause\"]\n",
    "#!= \"error_clamp\" and prev_trial_type != \"pause\"\n",
    "df_ = dfccos.query('trial_index > @numtrain and trial_type != \"error_clamp\"'\n",
    "                   ' and prev_trial_type not in @spectrials')"
   ]
  },
  {
   "cell_type": "code",
   "execution_count": null,
   "id": "fb188033",
   "metadata": {},
   "outputs": [],
   "source": [
    "coln_pairs"
   ]
  },
  {
   "cell_type": "code",
   "execution_count": null,
   "id": "002385ba",
   "metadata": {},
   "outputs": [],
   "source": [
    "#df_"
   ]
  },
  {
   "cell_type": "code",
   "execution_count": null,
   "id": "efd6b7df",
   "metadata": {},
   "outputs": [],
   "source": [
    "coln_error"
   ]
  },
  {
   "cell_type": "code",
   "execution_count": null,
   "id": "57e19292",
   "metadata": {},
   "outputs": [],
   "source": [
    "fg = sns.relplot(df_, kind='line', x='trialwb', y='error_area_signed_nn_scaled_ed',\n",
    "                 col='vis_feedback_type', \n",
    "            row='tgti_to_show', hue='nonhit')\n",
    "for ax in fg.axes.flatten():\n",
    "    ax.axhline(0,ls=':')"
   ]
  },
  {
   "cell_type": "code",
   "execution_count": null,
   "id": "c7753f1f",
   "metadata": {},
   "outputs": [],
   "source": [
    "fg = sns.relplot(df_, kind='line', x='trialwb', y='error_area_signed_nn_scaled_ed', \n",
    "                 col='vis_feedback_type', \n",
    "            row='tgti_to_show')\n",
    "for ax in fg.axes.flatten():\n",
    "    ax.axhline(0,ls=':')"
   ]
  },
  {
   "cell_type": "code",
   "execution_count": null,
   "id": "b69fed91",
   "metadata": {},
   "outputs": [],
   "source": [
    "fg = sns.relplot(df_, kind='line', x='trialwb', \n",
    "                 y='error_distance', col='vis_feedback_type', \n",
    "            row='tgti_to_show')\n",
    "for ax in fg.axes.flatten():\n",
    "    ax.axhline(0,ls=':')"
   ]
  },
  {
   "cell_type": "code",
   "execution_count": null,
   "id": "32e23cbe",
   "metadata": {},
   "outputs": [],
   "source": [
    "dfext_ = dfccos.query('trial_index > @numtrain and trial_type != \"error_clamp\"')\n",
    "fg = sns.catplot(dfext_, kind='violin', x='prev_trial_type', \n",
    "                 y='error_area_signed_nn_scaled_ed', col = 'special_block_type')"
   ]
  },
  {
   "cell_type": "code",
   "execution_count": null,
   "id": "9b05e4b2",
   "metadata": {},
   "outputs": [],
   "source": [
    "pause_inds = np.array(pause_inds)\n",
    "dfccos['pause_rel'] = -100\n",
    "dfccos.loc[dfccos['trial_index'].isin(pause_inds-1), 'pause_rel'] = -1\n",
    "dfccos.loc[dfccos['trial_index'].isin(pause_inds+1), 'pause_rel'] = 1\n",
    "# for pi in pause_inds:\n",
    "#     piprev=  pi -1\n",
    "#     pinext=  pi +1\n",
    "#     df_ = dfccos.query('trial_index == @piprev')\n"
   ]
  },
  {
   "cell_type": "code",
   "execution_count": null,
   "id": "0bde1e33",
   "metadata": {},
   "outputs": [],
   "source": [
    "#df_['pause_rel']"
   ]
  },
  {
   "cell_type": "code",
   "execution_count": null,
   "id": "9fe4418d",
   "metadata": {},
   "outputs": [],
   "source": [
    "num_coupled_EC = \\\n",
    "    np.sum( dfccos.query(\"trial_type == 'error_clamp'\")['trial_index'].diff() == 1 )\n",
    "print(f'num_coupled_EC = {num_coupled_EC}')"
   ]
  },
  {
   "cell_type": "code",
   "execution_count": null,
   "id": "7c439ecb",
   "metadata": {},
   "outputs": [],
   "source": [
    "len(block_starts), len(block_ends)"
   ]
  },
  {
   "cell_type": "code",
   "execution_count": null,
   "id": "a39b6390",
   "metadata": {},
   "outputs": [],
   "source": []
  },
  {
   "cell_type": "code",
   "execution_count": null,
   "id": "68bbcb84",
   "metadata": {},
   "outputs": [],
   "source": [
    "\n",
    "\n",
    "block_starts = grp['trial_index'].min()\n",
    "block_starts = block_starts.to_dict()\n",
    "\n",
    "block_ends = grp['trial_index'].max()\n",
    "block_ends = block_ends.to_dict()\n",
    "\n",
    "\n",
    "block_bounds = {}\n",
    "for bi in block_starts.keys():\n",
    "    block_bounds[bi] = block_starts[bi],block_ends[bi]\n",
    "block_bounds"
   ]
  },
  {
   "cell_type": "markdown",
   "id": "ba28a4c3",
   "metadata": {
    "heading_collapsed": true
   },
   "source": [
    "## Start of block vs end of block"
   ]
  },
  {
   "cell_type": "code",
   "execution_count": null,
   "id": "bfa8a453",
   "metadata": {
    "hidden": true
   },
   "outputs": [],
   "source": [
    "dfccos.columns"
   ]
  },
  {
   "cell_type": "code",
   "execution_count": null,
   "id": "7a7d9e6c",
   "metadata": {
    "hidden": true
   },
   "outputs": [],
   "source": [
    "dfccos['trial_type'].unique()"
   ]
  },
  {
   "cell_type": "code",
   "execution_count": null,
   "id": "d586b9ef",
   "metadata": {
    "hidden": true
   },
   "outputs": [],
   "source": [
    "grp = dfccos.query('trial_type != \"error_clamp\"').groupby('block_ind')\n",
    "\n",
    "df1 = grp['trial_index'].min().to_frame().rename(columns={'trial_index':'block_start_trial_index'})\n",
    "df2 = grp['trial_index'].max().to_frame().rename(columns={'trial_index':'block_end_trial_index'})\n",
    "block_bounds = pd.concat( [df1, df2], axis=1)\n",
    "\n",
    "sts = block_bounds.query('block_ind >= 0')['block_start_trial_index']._values\n",
    "df_block_start = dfccos.loc[dfccos['trial_index'].isin(sts)]\n",
    "\n",
    "ends = block_bounds.query('block_ind >= 0')['block_end_trial_index']._values\n",
    "df_block_end = dfccos.loc[dfccos['trial_index'].isin(ends)]\n",
    "\n",
    "ynames = ['error_pert_adj', 'error_area_signed']\n",
    "#'error', \n",
    "\n",
    "\n",
    "df_block_start = df_block_start[['block_ind', 'trial_type'] + ynames].set_index('block_ind')\n",
    "#ynames_mod = [yn + '_start' for yn in ynames]\n",
    "#rd = dict(zip(ynames,ynames_mod))\n",
    "#df_block_start = df_block_start.rename(columns=rd)\n",
    "df_block_start['type'] = 'start'\n",
    "\n",
    "df_block_end =   df_block_end[['block_ind', 'trial_type'] + ynames].set_index('block_ind')\n",
    "df_block_end['type'] = 'end'\n",
    "\n",
    "df_startend = pd.concat([df_block_start, df_block_end])"
   ]
  },
  {
   "cell_type": "code",
   "execution_count": null,
   "id": "3cb89ea5",
   "metadata": {
    "hidden": true
   },
   "outputs": [],
   "source": [
    "df_startend"
   ]
  },
  {
   "cell_type": "code",
   "execution_count": null,
   "id": "1c9fbcd8",
   "metadata": {
    "hidden": true
   },
   "outputs": [],
   "source": [
    "for yname in ynames:\n",
    "    plt.figure()\n",
    "    sns.violinplot(df_startend, y=yname, x='type', hue='trial_type', split=True)"
   ]
  },
  {
   "cell_type": "code",
   "execution_count": null,
   "id": "fbb29298",
   "metadata": {
    "hidden": true
   },
   "outputs": [],
   "source": [
    "df_ = dfccos.query('pause_rel > -10')\n",
    "#df_ = df_.query('error < 150')\n",
    "\n",
    "ynames = ['error_area_signed',  'error_distance', 'error']\n",
    "for yname in ynames:\n",
    "    plt.figure()\n",
    "    \n",
    "#     if yname  == 'error':\n",
    "#         df_ = df_.query('error < 150')\n",
    "    sns.violinplot(df_, y=yname, x='pause_rel')"
   ]
  },
  {
   "cell_type": "code",
   "execution_count": null,
   "id": "5da5f535",
   "metadata": {
    "hidden": true
   },
   "outputs": [],
   "source": [
    "df_.index"
   ]
  },
  {
   "cell_type": "markdown",
   "id": "43d1bc18",
   "metadata": {},
   "source": [
    "# summary many"
   ]
  },
  {
   "cell_type": "code",
   "execution_count": null,
   "id": "b1c5c909",
   "metadata": {},
   "outputs": [],
   "source": [
    "dfcc_all_ = dfcc_all.drop(labels=['level_0', 'index'], axis=1)"
   ]
  },
  {
   "cell_type": "code",
   "execution_count": null,
   "id": "c83bb5ae",
   "metadata": {},
   "outputs": [],
   "source": [
    "dfcc_all_ = dfcc_all_.reset_index().drop(labels=['index'], axis=1)"
   ]
  },
  {
   "cell_type": "code",
   "execution_count": null,
   "id": "b50f7baa",
   "metadata": {},
   "outputs": [],
   "source": [
    "dfcc_all_"
   ]
  },
  {
   "cell_type": "code",
   "execution_count": null,
   "id": "6c28e01a",
   "metadata": {},
   "outputs": [],
   "source": [
    "qs = ('trial_index > @numtrain and trial_type != \"error_clamp\"'\n",
    "                     ' and special_block_type != \"error_clamp_sandwich\" and prev_trial_type != \"pause\"')\n",
    "df_ = dfcc_all_.query(qs)"
   ]
  },
  {
   "cell_type": "code",
   "execution_count": null,
   "id": "e67ac7ef",
   "metadata": {},
   "outputs": [],
   "source": [
    "df_.groupby(['subject', 'tgti_to_show', 'vis_feedback_type', 'trialwb']).size()"
   ]
  },
  {
   "cell_type": "code",
   "execution_count": null,
   "id": "a4a2d441",
   "metadata": {},
   "outputs": [],
   "source": [
    "ynames"
   ]
  },
  {
   "cell_type": "code",
   "execution_count": null,
   "id": "28c3353e",
   "metadata": {},
   "outputs": [],
   "source": [
    "dfc_multi_tsz['error_data_for_calc'].unique()"
   ]
  },
  {
   "cell_type": "code",
   "execution_count": null,
   "id": "8931d099",
   "metadata": {},
   "outputs": [],
   "source": [
    "dfc_multi_tsz['trial_shift_size'].unique()"
   ]
  },
  {
   "cell_type": "code",
   "execution_count": null,
   "id": "520cba8c",
   "metadata": {},
   "outputs": [],
   "source": [
    "len(dfes), len(dfc_multi_tsz)"
   ]
  },
  {
   "cell_type": "code",
   "execution_count": null,
   "id": "5e84b3fd",
   "metadata": {},
   "outputs": [],
   "source": [
    "grp = dfes.groupby(['subject','error_data_for_calc'])\n",
    "display(grp.size() )\n",
    "grp = dfes.groupby(['error_data_for_calc'])\n",
    "display(grp['err_sens'].mean())"
   ]
  },
  {
   "cell_type": "code",
   "execution_count": null,
   "id": "fa18f49a",
   "metadata": {},
   "outputs": [],
   "source": [
    "dfes = dfc_multi_tsz.query(qs + 'and trial_shift_size == 1')# and err_sens >= -20 and err_sens <= 20')\n",
    "fg = sns.catplot(dfes, kind='violin',y='err_sens', x = 'error_data_for_calc')\n",
    "for ax in fg.axes.flatten():\n",
    "    ax.set_ylim(-10,10)"
   ]
  },
  {
   "cell_type": "code",
   "execution_count": null,
   "id": "de7739f6",
   "metadata": {},
   "outputs": [],
   "source": [
    "dfext_ = dfcc_all_.query('trial_index > @numtrain and trial_type != \"error_clamp\"')\n",
    "fg = sns.catplot(dfext_, kind='violin', x='prev_trial_type', \n",
    "                 y='error_area_signed_nn_scaled_ed', col = 'special_block_type')\n",
    "\n",
    "fg = sns.catplot(dfext_, kind='violin', x='prev_trial_type', \n",
    "                 y='error_lh_ang', col = 'special_block_type')\n",
    "\n",
    "\n",
    "# dfext_ = dfc_multi_tsz.query('trial_index > @numtrain and trial_type != \"error_clamp\"')\n",
    "# fg = sns.catplot(dfext_, kind='violin', x='prev_trial_type', \n",
    "#                  y='error_area_signed_nn_scaled_ed', col = 'special_block_type')"
   ]
  },
  {
   "cell_type": "code",
   "execution_count": null,
   "id": "f871da4c",
   "metadata": {},
   "outputs": [],
   "source": [
    "fg = sns.relplot(df_, kind='line', x='trialwb', y='error_area_signed_nn_scaled_ed', \n",
    "                 col='vis_feedback_type', \n",
    "            row='tgti_to_show')\n",
    "for ax in fg.axes.flatten():\n",
    "    ax.axhline(0,ls=':',color='red')"
   ]
  },
  {
   "cell_type": "code",
   "execution_count": null,
   "id": "f009ca51",
   "metadata": {},
   "outputs": [],
   "source": [
    "fg = sns.relplot(df_, kind='line', x='trialwb', y='error_area_signed_nn_scaled_ed', \n",
    "                 col='vis_feedback_type', \n",
    "            row='tgti_to_show')\n",
    "for ax in fg.axes.flatten():\n",
    "    ax.axhline(0,ls=':',color='red')"
   ]
  },
  {
   "cell_type": "code",
   "execution_count": null,
   "id": "b2a880eb",
   "metadata": {},
   "outputs": [],
   "source": [
    "fg = sns.relplot(df_, kind='line', x='trialwb', y='error_area_signed_nn_scaled_ed',\n",
    "                 col='vis_feedback_type', \n",
    "            row='tgti_to_show', hue='nonhit')\n",
    "for ax in fg.axes.flatten():\n",
    "    ax.axhline(0,ls=':',color='red')"
   ]
  },
  {
   "cell_type": "code",
   "execution_count": null,
   "id": "319734b4",
   "metadata": {},
   "outputs": [],
   "source": [
    "coln_pairs"
   ]
  },
  {
   "cell_type": "code",
   "execution_count": null,
   "id": "1661571f",
   "metadata": {},
   "outputs": [],
   "source": [
    "dfc_multi_tsz.columns"
   ]
  },
  {
   "cell_type": "markdown",
   "id": "3b87512d",
   "metadata": {},
   "source": [
    "### ES"
   ]
  },
  {
   "cell_type": "code",
   "execution_count": null,
   "id": "2bc6414c",
   "metadata": {},
   "outputs": [],
   "source": [
    "dfc_multi_tsz['trial_group_col_calc'].unique()"
   ]
  },
  {
   "cell_type": "code",
   "execution_count": null,
   "id": "108134ba",
   "metadata": {},
   "outputs": [],
   "source": [
    "dfc_multi_tsz['error_data_for_calc'].unique()"
   ]
  },
  {
   "cell_type": "code",
   "execution_count": null,
   "id": "d42b5926",
   "metadata": {},
   "outputs": [],
   "source": [
    "dfc_multi_tsz.subject.unique()"
   ]
  },
  {
   "cell_type": "code",
   "execution_count": null,
   "id": "a3bb4988",
   "metadata": {},
   "outputs": [],
   "source": []
  },
  {
   "cell_type": "code",
   "execution_count": null,
   "id": "81880452",
   "metadata": {},
   "outputs": [],
   "source": [
    "qs = ('trial_index > @numtrain and trial_type != \"error_clamp\"'\n",
    "                     ' and special_block_type != \"error_clamp_sandwich\" and prev_trial_type != \"pause\"')"
   ]
  },
  {
   "cell_type": "markdown",
   "id": "bcfb6a97",
   "metadata": {},
   "source": [
    "### one subj"
   ]
  },
  {
   "cell_type": "code",
   "execution_count": null,
   "id": "9d3cfb4e",
   "metadata": {},
   "outputs": [],
   "source": [
    "edfc = 'signed_area_nn_scaled_ed'\n",
    "dfes = dfc_multi_tsz.query(qs + 'and trial_shift_size == 1 and error_data_for_calc == @edfc and subject == @s')\n",
    "#and err_sens >= -20 and err_sens <= 20')\n",
    "#fg = sns.catplot(dfes, kind='violin',y='err_sens', x = 'error_data_for_calc')\n",
    "\n",
    "#dfes = dfc_multi_tsz.query(qs + 'and err_sens >= -20 and err_sens <= 20')\n",
    "\n",
    "# df_ = dfc_multi_tsz.query('trial_index > @numtrain and trial_type != \"error_clamp\"'\n",
    "#                      ' and special_block_type != \"error_clamp_sandwich\"'\n",
    "#                     ' and error_data_for_calc == @edfc'\n",
    "#                     ' and trial_shift_size == 1 and trial_group_col_calc == \"trials\"')\n",
    "\n",
    "fg = sns.relplot(dfes, kind='line', x='trialwb', y='err_sens', hue='nonhit')\n",
    "for ax in fg.axes.flatten():\n",
    "    ax.axhline(0,ls=':',color='red')\n",
    "    \n",
    "edfc = 'lh_ang'\n",
    "dfes = dfc_multi_tsz.query(qs + 'and trial_shift_size == 1 and error_data_for_calc == @edfc and subject == @s')\n",
    "\n",
    "fg = sns.relplot(dfes, kind='line', x='trialwb', y='err_sens', hue='nonhit')\n",
    "for ax in fg.axes.flatten():\n",
    "    ax.axhline(0,ls=':',color='red')"
   ]
  },
  {
   "cell_type": "code",
   "execution_count": null,
   "id": "dd2695f2",
   "metadata": {},
   "outputs": [],
   "source": [
    "for edfc in ['signed_area_nn_scaled_ed', 'lh_ang']:\n",
    "    dfes = dfc_multi_tsz.query(qs + 'and trial_shift_size == 1 and error_data_for_calc == @edfc and subject == @s')\n",
    "#and err_sens >= -20 and err_sens <= 20')')\n",
    "\n",
    "    fg = sns.relplot(dfes, kind='line', x='trialwb', y='err_sens',\n",
    "                     col='vis_feedback_type', \n",
    "                row='tgti_to_show')#, hue='nonhit')\n",
    "    for ax in fg.axes.flatten():\n",
    "        ax.axhline(0,ls=':',color='red')\n",
    "    \n"
   ]
  },
  {
   "cell_type": "markdown",
   "id": "b88c3f5b",
   "metadata": {},
   "source": [
    "### multi subj"
   ]
  },
  {
   "cell_type": "code",
   "execution_count": null,
   "id": "db7c4942",
   "metadata": {},
   "outputs": [],
   "source": [
    "edfc = 'signed_area_nn_scaled_ed'\n",
    "dfes = dfc_multi_tsz.query(qs + 'and trial_shift_size == 1 and error_data_for_calc == @edfc')\n",
    "#and err_sens >= -20 and err_sens <= 20')\n",
    "#fg = sns.catplot(dfes, kind='violin',y='err_sens', x = 'error_data_for_calc')\n",
    "\n",
    "#dfes = dfc_multi_tsz.query(qs + 'and err_sens >= -20 and err_sens <= 20')\n",
    "\n",
    "# df_ = dfc_multi_tsz.query('trial_index > @numtrain and trial_type != \"error_clamp\"'\n",
    "#                      ' and special_block_type != \"error_clamp_sandwich\"'\n",
    "#                     ' and error_data_for_calc == @edfc'\n",
    "#                     ' and trial_shift_size == 1 and trial_group_col_calc == \"trials\"')\n",
    "\n",
    "fg = sns.relplot(dfes, kind='line', x='trialwb', y='err_sens', hue='nonhit')\n",
    "for ax in fg.axes.flatten():\n",
    "    ax.axhline(0,ls=':',color='red')\n",
    "    ax.set_title(edfc)\n",
    "    \n",
    "edfc = 'lh_ang'\n",
    "dfes = dfc_multi_tsz.query(qs + 'and trial_shift_size == 1 and error_data_for_calc == @edfc')\n",
    "\n",
    "fg = sns.relplot(dfes, kind='line', x='trialwb', y='err_sens', hue='nonhit')\n",
    "for ax in fg.axes.flatten():\n",
    "    ax.axhline(0,ls=':',color='red')\n",
    "    ax.set_title(edfc)"
   ]
  },
  {
   "cell_type": "code",
   "execution_count": null,
   "id": "5e736c23",
   "metadata": {},
   "outputs": [],
   "source": [
    "for edfc in ['signed_area_nn_scaled_ed', 'lh_ang']:\n",
    "    dfes = dfc_multi_tsz.query(qs + 'and trial_shift_size == 1 and error_data_for_calc == @edfc')\n",
    "\n",
    "    fg = sns.relplot(dfes, kind='line', x='trialwb', y='err_sens',\n",
    "                     col='vis_feedback_type', \n",
    "                row='tgti_to_show')#, hue='nonhit')\n",
    "    for ax in fg.axes.flatten():\n",
    "        ax.axhline(0,ls=':',color='red')\n",
    "        plt.suptitle(edfc)\n",
    "    plt.tight_layout()\n",
    "    \n"
   ]
  },
  {
   "cell_type": "code",
   "execution_count": null,
   "id": "2a5d2631",
   "metadata": {},
   "outputs": [],
   "source": [
    "dfcc_all_['subject'].unique()"
   ]
  },
  {
   "cell_type": "code",
   "execution_count": null,
   "id": "6b23b07e",
   "metadata": {},
   "outputs": [],
   "source": [
    "df_startend['subject'].unique()"
   ]
  },
  {
   "cell_type": "code",
   "execution_count": null,
   "id": "7fedf5cb",
   "metadata": {},
   "outputs": [],
   "source": [
    "df_startend"
   ]
  },
  {
   "cell_type": "markdown",
   "id": "e1f48710",
   "metadata": {},
   "source": [
    "#### start end"
   ]
  },
  {
   "cell_type": "code",
   "execution_count": null,
   "id": "84420536",
   "metadata": {},
   "outputs": [],
   "source": [
    "coln_pairs"
   ]
  },
  {
   "cell_type": "code",
   "execution_count": null,
   "id": "b0c2a1b3",
   "metadata": {},
   "outputs": [],
   "source": [
    "dfcc_all__ = dfcc_all_.query('trial_type != \"error_clamp\" and special_block_type != \"error_clamp_sandwich\"')\n",
    "grp = dfcc_all__.groupby(['subject','block_ind'])\n",
    "\n",
    "df1 = grp['trial_index'].min().to_frame().rename(columns={'trial_index':'block_start_trial_index'})\n",
    "df2 = grp['trial_index'].max().to_frame().rename(columns={'trial_index':'block_end_trial_index'})\n",
    "block_bounds = pd.concat( [df1, df2], axis=1)\n",
    "\n",
    "# WRONG! It collects for ALL participants\n",
    "sts = block_bounds.query('block_ind >= 0')['block_start_trial_index']._values\n",
    "df_block_start = dfcc_all__.loc[dfcc_all__['trial_index'].isin(sts)]\n",
    "\n",
    "ends = block_bounds.query('block_ind >= 0')['block_end_trial_index']._values\n",
    "df_block_end = dfcc_all__.loc[dfcc_all__['trial_index'].isin(ends)]\n",
    "\n",
    "ynames = ['error_lh_ang', 'error_area_signed_nn_scaled_ed']\n",
    "#'error', \n",
    "\n",
    "\n",
    "df_block_start = df_block_start[['subject','block_ind', 'trial_type'] + ynames].set_index('block_ind')\n",
    "#ynames_mod = [yn + '_start' for yn in ynames]\n",
    "#rd = dict(zip(ynames,ynames_mod))\n",
    "#df_block_start = df_block_start.rename(columns=rd)\n",
    "df_block_start['type'] = 'start'\n",
    "\n",
    "df_block_end =   df_block_end[['subject','block_ind', 'trial_type'] + ynames].set_index('block_ind')\n",
    "df_block_end['type'] = 'end'\n",
    "\n",
    "df_startend = pd.concat([df_block_start, df_block_end])"
   ]
  },
  {
   "cell_type": "code",
   "execution_count": null,
   "id": "4000251f",
   "metadata": {},
   "outputs": [],
   "source": [
    "block_bounds"
   ]
  },
  {
   "cell_type": "code",
   "execution_count": null,
   "id": "d5819301",
   "metadata": {},
   "outputs": [],
   "source": [
    "dfcc_all__.loc[dfcc_all__['trial_index'].isin(sts), ['trial_index','subject','block_ind', 'trial_type'] + ynames ]"
   ]
  },
  {
   "cell_type": "code",
   "execution_count": null,
   "id": "447259af",
   "metadata": {},
   "outputs": [],
   "source": [
    "df_block_start"
   ]
  },
  {
   "cell_type": "code",
   "execution_count": null,
   "id": "41084844",
   "metadata": {},
   "outputs": [],
   "source": [
    "df_startend"
   ]
  },
  {
   "cell_type": "code",
   "execution_count": null,
   "id": "6c8c558f",
   "metadata": {},
   "outputs": [],
   "source": [
    "df_startend['trial_type'].unique()"
   ]
  },
  {
   "cell_type": "code",
   "execution_count": null,
   "id": "5a111856",
   "metadata": {},
   "outputs": [],
   "source": [
    "ynames"
   ]
  },
  {
   "cell_type": "code",
   "execution_count": null,
   "id": "8922f953",
   "metadata": {},
   "outputs": [],
   "source": [
    "ymin,ymax"
   ]
  },
  {
   "cell_type": "code",
   "execution_count": null,
   "id": "3a8b16bb",
   "metadata": {},
   "outputs": [],
   "source": [
    "for yname in ynames:\n",
    "    plt.figure()\n",
    "    q = 5e-3\n",
    "    ymax = df_startend[yname].quantile(1-q)\n",
    "    ymin = df_startend[yname].quantile(q)\n",
    "    ax = sns.violinplot(df_startend.query('trial_type != \"error_clamp\"'), \n",
    "                   y=yname, x='trial_type', hue='type', split=True)\n",
    "    ax.set_ylim(ymin,ymax)\n",
    "    ax.axhline(0,ls=':',c='red')"
   ]
  },
  {
   "cell_type": "code",
   "execution_count": null,
   "id": "c1825048",
   "metadata": {},
   "outputs": [],
   "source": []
  },
  {
   "cell_type": "code",
   "execution_count": null,
   "id": "b9df52eb",
   "metadata": {},
   "outputs": [],
   "source": [
    "pause_inds = dfcpc_all.groupby(['subject','trial_index']).max('time').reset_index()"
   ]
  },
  {
   "cell_type": "code",
   "execution_count": null,
   "id": "43ca379c",
   "metadata": {},
   "outputs": [],
   "source": [
    "pause_inds"
   ]
  },
  {
   "cell_type": "code",
   "execution_count": null,
   "id": "d8e63b02",
   "metadata": {},
   "outputs": [],
   "source": [
    "for subj in subjects:\n",
    "    pause_inds.query('subject == @subj')\n",
    "    c = dfcpc_all['subject'] == subj\n",
    "    dfcpc_all.loc[c]"
   ]
  },
  {
   "cell_type": "code",
   "execution_count": null,
   "id": "0fa2aac6",
   "metadata": {},
   "outputs": [],
   "source": [
    "#pause_inds = dfcpc_all['trial_index'].unique()\n",
    "\n",
    "pause_inds = np.array(pause_inds)\n",
    "dfccos['pause_rel'] = -100\n",
    "dfccos.loc[dfccos['trial_index'].isin(pause_inds-1), 'pause_rel'] = -1\n",
    "dfccos.loc[dfccos['trial_index'].isin(pause_inds+1), 'pause_rel'] = 1\n",
    "# for pi in pause_inds:\n",
    "#     piprev=  pi -1\n",
    "#     pinext=  pi +1\n",
    "#     df_ = dfccos.query('trial_index == @piprev')\n"
   ]
  },
  {
   "cell_type": "code",
   "execution_count": null,
   "id": "9f3bfe60",
   "metadata": {},
   "outputs": [],
   "source": [
    "df_ = dfcc_all_.query('pause_rel > -10')\n",
    "#df_ = df_.query('error < 150')\n",
    "\n",
    "ynames = ['error_area_signed',  'error_distance', 'error']\n",
    "for yname in ynames:\n",
    "    plt.figure()\n",
    "    \n",
    "#     if yname  == 'error':\n",
    "#         df_ = df_.query('error < 150')\n",
    "    sns.violinplot(df_, y=yname, x='pause_rel')"
   ]
  },
  {
   "cell_type": "markdown",
   "id": "7d00344a",
   "metadata": {
    "heading_collapsed": true
   },
   "source": [
    "# more 2d plots (old)"
   ]
  },
  {
   "cell_type": "code",
   "execution_count": null,
   "id": "f65cb3a8",
   "metadata": {
    "hidden": true
   },
   "outputs": [],
   "source": [
    "plt.figure(figsize=(10,10))\n",
    "ax = sns.scatterplot(dfcc, x = 'feedbackX',  y = 'target_locs',\n",
    "               hue = 'tgti_to_show', style='vis_feedback_type', palette='rainbow')\n",
    "ax.legend(loc='upper left')"
   ]
  },
  {
   "cell_type": "code",
   "execution_count": null,
   "id": "68ed3596",
   "metadata": {
    "hidden": true
   },
   "outputs": [],
   "source": [
    "plt.figure(figsize=(10,10))\n",
    "ax = sns.scatterplot(dfcc, x = 'feedbackX',  y = 'feedbackY',\n",
    "               hue = 'tgti_to_show', style='vis_feedback_type', palette='rainbow')\n",
    "ax.legend(loc='upper left')"
   ]
  }
 ],
 "metadata": {
  "kernelspec": {
   "display_name": "merr2",
   "language": "python",
   "name": "merr2"
  },
  "language_info": {
   "codemirror_mode": {
    "name": "ipython",
    "version": 3
   },
   "file_extension": ".py",
   "mimetype": "text/x-python",
   "name": "python",
   "nbconvert_exporter": "python",
   "pygments_lexer": "ipython3",
   "version": "3.10.9"
  }
 },
 "nbformat": 4,
 "nbformat_minor": 5
}
